{
 "cells": [
  {
   "cell_type": "markdown",
   "id": "9bfa00be-69ba-4146-aba2-818b967492c3",
   "metadata": {
    "jp-MarkdownHeadingCollapsed": true,
    "tags": []
   },
   "source": [
    "<font size=\"+3.8\">Scanpy single-cell pre-processing</font>  \n",
    "<font size=\"+1.5\"></font>  "
   ]
  },
  {
   "cell_type": "markdown",
   "id": "563f0b43-ce10-475f-b355-6fa8a2406dad",
   "metadata": {},
   "source": [
    "Aim: Preprocess mouse brain single-cell data from Zhao 2020 Nat Comm"
   ]
  },
  {
   "cell_type": "code",
   "execution_count": null,
   "id": "c4f25c8a-47e9-48b5-af79-04fe44b4068d",
   "metadata": {},
   "outputs": [],
   "source": [
    "import numpy as np\n",
    "import pandas as pd\n",
    "import scanpy as sc\n",
    "import anndata\n",
    "import matplotlib.pyplot as plt\n",
    "import os\n",
    "from datetime import date\n",
    "from matplotlib.pyplot import rc_context"
   ]
  },
  {
   "cell_type": "code",
   "execution_count": null,
   "id": "b1983df3-b87b-4742-917d-514bfb438a0c",
   "metadata": {},
   "outputs": [],
   "source": [
    "import utils"
   ]
  },
  {
   "cell_type": "code",
   "execution_count": null,
   "id": "fc7d8b45-6ec5-428f-89f2-08540e479ab8",
   "metadata": {},
   "outputs": [],
   "source": [
    "sc.settings.verbosity = 3"
   ]
  },
  {
   "cell_type": "code",
   "execution_count": null,
   "id": "f46a7618-6a0d-48a7-b77a-065afc204527",
   "metadata": {},
   "outputs": [],
   "source": [
    "main_dir='/run/user/1000/gvfs/smb-share:server=138.245.4.35,share=bd-dichgans/SF' # Linux"
   ]
  },
  {
   "cell_type": "code",
   "execution_count": null,
   "id": "3fd52f8c-ea1e-4f2c-809f-5515a5e2ced6",
   "metadata": {},
   "outputs": [],
   "source": [
    "main_dir='\\\\\\isdsynnas.srv.med.uni-muenchen.de\\BD-Dichgans\\SF' # Win"
   ]
  },
  {
   "cell_type": "code",
   "execution_count": null,
   "id": "c30c5207-a886-4f74-ae95-9221e237f2ff",
   "metadata": {},
   "outputs": [],
   "source": [
    "dataset_name='Zhao2020'\n",
    "organism='Mouse'"
   ]
  },
  {
   "cell_type": "markdown",
   "id": "d75da520-0b28-417d-877e-f167db41ef30",
   "metadata": {},
   "source": [
    "# Load data"
   ]
  },
  {
   "cell_type": "markdown",
   "id": "00e3b5cb-f957-4175-aedf-471b195dfb60",
   "metadata": {
    "tags": []
   },
   "source": [
    "Downloaded from: https://singlecell.broadinstitute.org/single_cell/study/SCP829/aging-mouse-brain-kolab?cluster=tSNE%20without%20batch%20correction&spatialGroups=--&annotation=orig.ident--group--study&subsample=all#study-download 06/03/2023"
   ]
  },
  {
   "cell_type": "code",
   "execution_count": null,
   "id": "6931501f-9f29-402c-80ad-7767a964a8af",
   "metadata": {},
   "outputs": [],
   "source": [
    "from scipy.io import mmread\n",
    "matrix = mmread(main_dir+\"\\\\P6_vasc_scRNAseq\\Zhao2020\\\\gene_sorted-matrix.mtx.gz\")"
   ]
  },
  {
   "cell_type": "code",
   "execution_count": null,
   "id": "289cd44b-2d40-409f-b3f1-2eb7c2001093",
   "metadata": {},
   "outputs": [],
   "source": [
    "matrix.T"
   ]
  },
  {
   "cell_type": "code",
   "execution_count": null,
   "id": "8db6f4b4-977b-4d6a-967f-9da232097ab6",
   "metadata": {},
   "outputs": [],
   "source": [
    "obs = pd.read_table(main_dir+\"\\\\P6_vasc_scRNAseq\\Zhao2020\\\\barcodes.tsv\", header=None)\n",
    "var = pd.read_table(main_dir+\"\\\\P6_vasc_scRNAseq\\Zhao2020\\\\genes.tsv\", header=None)"
   ]
  },
  {
   "cell_type": "code",
   "execution_count": null,
   "id": "d2488e47-e3de-4cf9-b99b-c93b904c4437",
   "metadata": {},
   "outputs": [],
   "source": [
    "ad = sc.AnnData(matrix.T, obs=obs, var=var)\n",
    "ad\n",
    "ad.X = ad.X.todense() # COOrdinate format not subsettable "
   ]
  },
  {
   "cell_type": "code",
   "execution_count": null,
   "id": "35993074-cf78-4065-8131-6bcdc4d1b8ee",
   "metadata": {},
   "outputs": [],
   "source": [
    "del matrix\n",
    "del obs\n",
    "del var"
   ]
  },
  {
   "cell_type": "code",
   "execution_count": null,
   "id": "11558e7d-b7ec-4051-97c9-8f67e998b842",
   "metadata": {},
   "outputs": [],
   "source": [
    "ad.obs.index = ad.obs[0]\n",
    "ad.obs.head()"
   ]
  },
  {
   "cell_type": "code",
   "execution_count": null,
   "id": "44954b52-9460-4137-8474-354e8cedf3e8",
   "metadata": {},
   "outputs": [],
   "source": [
    "all(ad.var[0] == ad.var[1])"
   ]
  },
  {
   "cell_type": "code",
   "execution_count": null,
   "id": "f9a0b820-bd46-4cf3-9fe2-ce4e816f593a",
   "metadata": {},
   "outputs": [],
   "source": [
    "ad.var_names = ad.var[0]\n",
    "ad.var_names"
   ]
  },
  {
   "cell_type": "code",
   "execution_count": null,
   "id": "9302a9d2-a9f7-4328-880a-338f291a10a3",
   "metadata": {},
   "outputs": [],
   "source": [
    "# add metadata\n",
    "meta = pd.read_csv(main_dir+\"\\\\P6_vasc_scRNAseq\\Zhao2020\\\\meta.csv\", sep=\",\", skiprows=[1])\n",
    "meta.index = meta[\"NAME\"]\n",
    "meta.index.name = None\n",
    "meta=meta.drop(\"NAME\",axis=1)\n",
    "meta.head()"
   ]
  },
  {
   "cell_type": "code",
   "execution_count": null,
   "id": "b5a8781e-5b76-41d8-8450-cced12c597f5",
   "metadata": {},
   "outputs": [],
   "source": [
    "assert all(ad.obs.index == meta.index)\n",
    "ad.obs = meta\n",
    "del meta\n",
    "ad"
   ]
  },
  {
   "cell_type": "code",
   "execution_count": null,
   "id": "71da31dc-e5d0-46a9-b980-91991df0c3a1",
   "metadata": {},
   "outputs": [],
   "source": [
    "# add tsne and annotations\n",
    "anno = pd.read_csv(main_dir+\"\\\\P6_vasc_scRNAseq\\Zhao2020\\\\tSNE_without_correction.csv\", sep=\",\", skiprows=[1])\n",
    "anno.index = anno[\"NAME\"]\n",
    "anno.index.name = None\n",
    "anno=anno.drop(\"NAME\",axis=1)\n",
    "anno.head(3)"
   ]
  },
  {
   "cell_type": "code",
   "execution_count": null,
   "id": "0ebbb511-8ceb-4822-af21-ece2a7c5ef32",
   "metadata": {},
   "outputs": [],
   "source": [
    "anno.shape"
   ]
  },
  {
   "cell_type": "code",
   "execution_count": null,
   "id": "b10328cc-688d-482b-91b8-ff7960fac98f",
   "metadata": {},
   "outputs": [],
   "source": [
    "ad.obs = ad.obs.join(anno)\n",
    "del anno\n",
    "ad.obs.head(3)"
   ]
  },
  {
   "cell_type": "code",
   "execution_count": null,
   "id": "66138ec7-6fc6-4d03-b273-fc29e3217c1c",
   "metadata": {},
   "outputs": [],
   "source": [
    "ad.obsm[\"X_tsne\"] = np.array(ad.obs[[\"X\",\"Y\"]])"
   ]
  },
  {
   "cell_type": "code",
   "execution_count": null,
   "id": "cfa66a76-9ae5-4ce7-9356-a0792df95c4a",
   "metadata": {
    "tags": []
   },
   "outputs": [],
   "source": [
    "pd.value_counts(ad.obs[\"orig.ident\"])"
   ]
  },
  {
   "cell_type": "code",
   "execution_count": null,
   "id": "de4a4def-db2d-474d-ae76-971b535803d5",
   "metadata": {
    "tags": []
   },
   "outputs": [],
   "source": [
    "pd.value_counts(ad.obs[\"Batch\"])"
   ]
  },
  {
   "cell_type": "code",
   "execution_count": null,
   "id": "e5b6d72f-95db-4c81-a73b-30442ee1a0ff",
   "metadata": {
    "tags": []
   },
   "outputs": [],
   "source": [
    "pd.value_counts(ad.obs[\"Age\"])"
   ]
  },
  {
   "cell_type": "code",
   "execution_count": null,
   "id": "0c43559a-9dfa-40ff-9a7b-17378024dc6c",
   "metadata": {
    "tags": []
   },
   "outputs": [],
   "source": [
    "pd.value_counts(ad.obs[\"Celltype\"])"
   ]
  },
  {
   "cell_type": "code",
   "execution_count": null,
   "id": "dc564d1f-0af4-4fba-8a00-1443043c5886",
   "metadata": {
    "tags": []
   },
   "outputs": [],
   "source": [
    "pd.value_counts(ad.obs[\"Subtype\"])"
   ]
  },
  {
   "cell_type": "code",
   "execution_count": null,
   "id": "5114646a-5b11-4f75-85c7-2ceec382c606",
   "metadata": {},
   "outputs": [],
   "source": [
    "sc.pl.tsne(ad,color=[\"Celltype\",\"Age\"], wspace=0.4)"
   ]
  },
  {
   "cell_type": "code",
   "execution_count": null,
   "id": "4c1cf31c-66fd-49a6-807c-c209eddec67a",
   "metadata": {},
   "outputs": [],
   "source": [
    "sc.pl.tsne(ad,color=\"Subtype\")"
   ]
  },
  {
   "cell_type": "code",
   "execution_count": null,
   "id": "729f6b09-2bb2-4f5c-bb3b-e901dcc8a6ee",
   "metadata": {},
   "outputs": [],
   "source": [
    "# drop experimental condition\n",
    "ad = ad[ad.obs['Age'].isin(['old', 'young'])]\n",
    "ad"
   ]
  },
  {
   "cell_type": "code",
   "execution_count": null,
   "id": "66fc1308-7a10-4a23-a43a-cdfc7d1e6b4b",
   "metadata": {},
   "outputs": [],
   "source": [
    "# re-name age groups"
   ]
  },
  {
   "cell_type": "code",
   "execution_count": null,
   "id": "a326cb98-319a-4e9b-aa49-7fb2bd3c2881",
   "metadata": {},
   "outputs": [],
   "source": [
    "ad.obs['age2'] = ad.obs['Age']"
   ]
  },
  {
   "cell_type": "code",
   "execution_count": null,
   "id": "7b961dd4-56c7-4574-8144-a9bdf0834f46",
   "metadata": {},
   "outputs": [],
   "source": [
    "new_names = {\n",
    "    '2-3m': {'young'},\n",
    "    '18-20m': {'old'}\n",
    "}\n",
    "result = {}\n",
    "for key, value in new_names.items():\n",
    "    for elem in value:\n",
    "        result[(elem)] = key\n",
    "new_cluster_names = dict(sorted(result.items()))\n",
    "print(new_cluster_names)"
   ]
  },
  {
   "cell_type": "code",
   "execution_count": null,
   "id": "f2831ca1-a84b-4f50-885f-5dc53e829df5",
   "metadata": {},
   "outputs": [],
   "source": [
    "ad.obs['age'] = (\n",
    "    ad.obs['age2']\n",
    "    .map(new_cluster_names)\n",
    "    .astype('category')\n",
    ")"
   ]
  },
  {
   "cell_type": "code",
   "execution_count": null,
   "id": "7589a1f4-507a-47e0-8655-69cc6c236da3",
   "metadata": {},
   "outputs": [],
   "source": [
    "ad.obs['age']"
   ]
  },
  {
   "cell_type": "code",
   "execution_count": null,
   "id": "63ea35a8-7e1b-4212-9ab5-dab5ddf2f4db",
   "metadata": {},
   "outputs": [],
   "source": [
    "ad.obs['age'] = ad.obs['age'].cat.reorder_categories(['2-3m', '18-20m'])"
   ]
  },
  {
   "cell_type": "code",
   "execution_count": null,
   "id": "34f0087f-b395-49b4-bc3b-081857e0c83e",
   "metadata": {},
   "outputs": [],
   "source": [
    "ad.obs=ad.obs.drop([\"Age\",\"X\",\"Y\"],axis=1)"
   ]
  },
  {
   "cell_type": "code",
   "execution_count": null,
   "id": "4e32df2e-7121-442b-859e-a6b9e2ec87ba",
   "metadata": {},
   "outputs": [],
   "source": [
    "pd.value_counts(ad.obs[\"age\"])"
   ]
  },
  {
   "cell_type": "code",
   "execution_count": null,
   "id": "54858fba-1ef3-45eb-acf2-20caaf7d639c",
   "metadata": {},
   "outputs": [],
   "source": [
    "# verify that age groups are correct\n",
    "# plot known genes upreglated during aging in mouse brain (Allen 2023 Cell)\n",
    "sc.pl.dotplot(ad, [\"C4b\",\"Ifit3\",\"Il33\",\"Bmp6\"], groupby='age', swap_axes=True, figsize=(4,2), standard_scale=\"var\", title=\"All cell types\")"
   ]
  },
  {
   "cell_type": "code",
   "execution_count": null,
   "id": "b1743a43-ac1f-47cf-974c-7cfd80885770",
   "metadata": {},
   "outputs": [],
   "source": [
    "pd.value_counts(ad.obs[\"Celltype\"])"
   ]
  },
  {
   "cell_type": "code",
   "execution_count": null,
   "id": "d077df0c-b566-4e60-84c2-9a1e2ed96c28",
   "metadata": {},
   "outputs": [],
   "source": [
    "# also see paper"
   ]
  },
  {
   "cell_type": "code",
   "execution_count": null,
   "id": "aa6f44e9-2604-4beb-8eeb-36a0ab1c1e9e",
   "metadata": {},
   "outputs": [],
   "source": [
    "new_names = {\n",
    "    'Endothelial cells': {'EC'},\n",
    "    'Oligos': {'OLG'},\n",
    "    'Astrocytes': {'AC'},\n",
    "    'Pericytes': {'PC'},\n",
    "    'SMCs': {'SMC'},\n",
    "    'Neurons': {'imNeur','mNeur','NRP'},\n",
    "    'OPCs': {'OPC'},\n",
    "    'Microglia/Macrophages': {'MG','MAC','TNC'},\n",
    "    'Ependymal cells': {'EPC','CPC'},\n",
    "    'Immune_Other': {'MNC'},\n",
    "    'Hemoglobin-expressing vascular cells':{'Hb_EC'},\n",
    "}\n",
    "result = {}\n",
    "for key, value in new_names.items():\n",
    "    for elem in value:\n",
    "        result[(elem)] = key\n",
    "new_cluster_names = dict(sorted(result.items()))\n",
    "print(new_cluster_names)"
   ]
  },
  {
   "cell_type": "code",
   "execution_count": null,
   "id": "4c6dca8e-75c5-4db1-9406-201ee447fab2",
   "metadata": {},
   "outputs": [],
   "source": [
    "ad.obs['clusters'] = (\n",
    "    ad.obs['Celltype']\n",
    "    .map(new_cluster_names)\n",
    "    .astype('category')\n",
    ")"
   ]
  },
  {
   "cell_type": "code",
   "execution_count": null,
   "id": "9202fd73-eb27-4eda-8b1a-05856bb55776",
   "metadata": {
    "tags": []
   },
   "outputs": [],
   "source": [
    "pd.value_counts(ad.obs[\"clusters\"])"
   ]
  },
  {
   "cell_type": "code",
   "execution_count": null,
   "id": "1580e48e-f786-4d73-b145-46507b57a05c",
   "metadata": {},
   "outputs": [],
   "source": [
    "pd.value_counts(ad.obs[\"Subtype\"])"
   ]
  },
  {
   "cell_type": "code",
   "execution_count": null,
   "id": "204a36e2-31ee-4fdf-bd12-61123bcf7e13",
   "metadata": {},
   "outputs": [],
   "source": [
    "new_names = {\n",
    "    'vECs': {'V'},\n",
    "    'capECs': {'Cap','VCap'},\n",
    "    'aECs': {'A1','A2'},\n",
    "    'SMCs': {'aSMC','aaSMC','vSMC','SMC_unclassified'},\n",
    "    'ECs_unclassified': {'AV','EC_unclassified'},\n",
    "}\n",
    "result = {}\n",
    "for key, value in new_names.items():\n",
    "    for elem in value:\n",
    "        result[(elem)] = key\n",
    "new_cluster_names = dict(sorted(result.items()))\n",
    "print(new_cluster_names)"
   ]
  },
  {
   "cell_type": "code",
   "execution_count": null,
   "id": "c1b73816-6cf2-4f47-811d-a1e0254787ef",
   "metadata": {},
   "outputs": [],
   "source": [
    "ad.obs['subclusters'] = (\n",
    "    ad.obs['Subtype']\n",
    "    .map(new_cluster_names)\n",
    "    .astype('category')\n",
    ")"
   ]
  },
  {
   "cell_type": "code",
   "execution_count": null,
   "id": "007fbdba-e7cc-40c6-b173-96f4a1be6645",
   "metadata": {},
   "outputs": [],
   "source": [
    "pd.value_counts(ad.obs[\"subclusters\"])"
   ]
  },
  {
   "cell_type": "code",
   "execution_count": null,
   "id": "578e28a3-eef0-43b0-8917-3980eadf14e5",
   "metadata": {},
   "outputs": [],
   "source": [
    "ad.obs[\"clusters2\"] = np.where(ad.obs[\"subclusters\"].isna(), ad.obs[\"clusters\"], ad.obs[\"subclusters\"])"
   ]
  },
  {
   "cell_type": "code",
   "execution_count": null,
   "id": "d9a33c6c-57b7-461c-954d-8e88dd566216",
   "metadata": {},
   "outputs": [],
   "source": [
    "pd.value_counts(ad.obs[\"clusters2\"])"
   ]
  },
  {
   "cell_type": "code",
   "execution_count": null,
   "id": "67c96f06-68c2-4441-875a-5b4eaf5f6a02",
   "metadata": {},
   "outputs": [],
   "source": [
    "ad.var_names"
   ]
  },
  {
   "cell_type": "code",
   "execution_count": null,
   "id": "2fb199ad-d835-4497-a0bd-99e873712487",
   "metadata": {
    "tags": []
   },
   "outputs": [],
   "source": [
    "sc.pl.dotplot(ad, var_names=['Cldn5',\"Aqp4\",\"Mbp\",'Foxj1','Pdgfrb','Vtn','Kcnj8','Rgs5','Atp13a5','Tagln','Acta2','Myh11'], groupby=\"clusters\", swap_axes=False);"
   ]
  },
  {
   "cell_type": "markdown",
   "id": "cc5ecf5a-5a56-4b1a-87de-13a05b292b13",
   "metadata": {},
   "source": [
    "Last 3 cols are SMC markers"
   ]
  },
  {
   "cell_type": "markdown",
   "id": "402ec721-8353-49a9-9370-e6d7c5ec1bee",
   "metadata": {
    "tags": []
   },
   "source": [
    "Check if data is normalized:"
   ]
  },
  {
   "cell_type": "code",
   "execution_count": null,
   "id": "8f07ec23-1a6f-44fc-b8b9-ae3234714569",
   "metadata": {},
   "outputs": [],
   "source": [
    "ad.layers"
   ]
  },
  {
   "cell_type": "code",
   "execution_count": null,
   "id": "c6597e2f-f267-4f20-9408-ca2fa53f7475",
   "metadata": {},
   "outputs": [],
   "source": [
    "# show expression of 100 random genes (across all spots)\n",
    "import random\n",
    "import seaborn as sns\n",
    "random_genes=random.sample(range(0, ad.X.shape[1]), 100)\n",
    "adata_sub = ad[:,random_genes]\n",
    "exp=pd.DataFrame(np.matrix(adata_sub.X))\n",
    "pl1=sns.displot(data=pd.melt(exp),x='value',height=4,hue='variable',kind=\"kde\",warn_singular=False,legend=False,palette=list(np.repeat('#086da6',100)), lw=0.3) # genes with 0 expression are excluded\n",
    "pl1.set(xlim=(-0.5, 7),ylim=(0,0.007));\n",
    "plt.show()"
   ]
  },
  {
   "cell_type": "code",
   "execution_count": null,
   "id": "0d7b998d-1f94-4a06-85e2-3edd79070bfe",
   "metadata": {},
   "outputs": [],
   "source": [
    "sns.set(rc={'figure.figsize':(4,4)})\n",
    "pl=sns.histplot(data=pd.melt(exp),x='value',binwidth=0.5,legend=True,palette=list(np.repeat('#086da6',100)))\n",
    "pl.set(xlim=(0, 10));\n",
    "sns.set_style(\"ticks\")\n",
    "plt.show()"
   ]
  },
  {
   "cell_type": "code",
   "execution_count": null,
   "id": "719757bd-0651-4d1e-bfc3-cc2bb5911b00",
   "metadata": {},
   "outputs": [],
   "source": [
    "np.matrix(adata_sub.X)"
   ]
  },
  {
   "cell_type": "markdown",
   "id": "4f0bb973-9801-43c1-9093-cae84f9aeb24",
   "metadata": {},
   "source": [
    "Data seems to be normalized"
   ]
  },
  {
   "cell_type": "code",
   "execution_count": null,
   "id": "1eeb41fb-ea47-48ac-8cbb-4944cd7b61f9",
   "metadata": {},
   "outputs": [],
   "source": [
    "ad.layers[\"normalized\"] = ad.X.copy() # save normalized + log-transformed (but unscaled) counts - retrieve via adata.X = adata.layers[\"normalized\"]"
   ]
  },
  {
   "cell_type": "code",
   "execution_count": null,
   "id": "fc806223-164c-4638-8f29-bde84b8ce5d5",
   "metadata": {},
   "outputs": [],
   "source": [
    "ad"
   ]
  },
  {
   "cell_type": "code",
   "execution_count": null,
   "id": "3fa5b139-be59-45ac-b2de-e8534ef43448",
   "metadata": {},
   "outputs": [],
   "source": [
    "ad.layers"
   ]
  },
  {
   "cell_type": "code",
   "execution_count": null,
   "id": "2c498d6b-dee3-4986-b5d8-094a4e21a3a4",
   "metadata": {},
   "outputs": [],
   "source": [
    "sc.pl.tsne(ad, color=['Foxf2'])"
   ]
  },
  {
   "cell_type": "markdown",
   "id": "215d9fc0-283f-49eb-bc91-f09d88c65648",
   "metadata": {
    "tags": []
   },
   "source": [
    "# Focus on: Foxf2"
   ]
  },
  {
   "cell_type": "code",
   "execution_count": null,
   "id": "084e3f53-bacd-400f-89b5-67b1b4660b5b",
   "metadata": {},
   "outputs": [],
   "source": [
    "adata=ad\n",
    "del ad"
   ]
  },
  {
   "cell_type": "code",
   "execution_count": null,
   "id": "470dbf25-0aea-4c83-8481-4eff7aa2e8ee",
   "metadata": {},
   "outputs": [],
   "source": [
    "adata_backup = adata"
   ]
  },
  {
   "cell_type": "code",
   "execution_count": null,
   "id": "b98cad83-7cb9-427f-834b-23bca9b269fa",
   "metadata": {},
   "outputs": [],
   "source": [
    "# drop aged samples\n",
    "# adata = adata[adata.obs['age'].isin(['2-3m'])]"
   ]
  },
  {
   "cell_type": "code",
   "execution_count": null,
   "id": "e4c73995-0b23-4ef1-9447-d86f6fd5131a",
   "metadata": {},
   "outputs": [],
   "source": [
    "gene=\"Foxf2\""
   ]
  },
  {
   "cell_type": "markdown",
   "id": "4e7b4a2a-43bd-403b-8047-b52961c48fd7",
   "metadata": {},
   "source": [
    "## Plot"
   ]
  },
  {
   "cell_type": "markdown",
   "id": "b206daca-8808-4bb8-b4af-ee1100c2699e",
   "metadata": {},
   "source": [
    "### Excl zonation"
   ]
  },
  {
   "cell_type": "code",
   "execution_count": null,
   "id": "d50bc8a2-5d9b-4479-966b-5ae3ffefa706",
   "metadata": {},
   "outputs": [],
   "source": [
    "sc.pl.matrixplot(adata, [gene], groupby='clusters', swap_axes=False, figsize=(2,5), standard_scale=\"var\", layer=\"normalized\")"
   ]
  },
  {
   "cell_type": "code",
   "execution_count": null,
   "id": "3070ed04-c323-412b-8db4-2a94ac0ab4c6",
   "metadata": {},
   "outputs": [],
   "source": [
    "sc.pl.dotplot(adata, [gene], groupby='clusters', swap_axes=False, figsize=(2,5), standard_scale=\"var\", layer=\"normalized\")"
   ]
  },
  {
   "cell_type": "code",
   "execution_count": null,
   "id": "c62479b4-b1b7-4f2e-8162-591168aa34d9",
   "metadata": {},
   "outputs": [],
   "source": [
    "utils.summarize_gene_expression(adata = adata, gene = gene, groupby = \"clusters\", \n",
    "                                study_name = dataset_name, organism = organism,\n",
    "                                export = True, output_dir = os.path.join(main_dir, \"P06_Foxf2_per_celltype\", \"Foxf2_summarized\")\n",
    "                               )"
   ]
  },
  {
   "cell_type": "markdown",
   "id": "a11f8d94-370c-4a03-a420-cf341c70b140",
   "metadata": {},
   "source": [
    "### Incl zonation"
   ]
  },
  {
   "cell_type": "code",
   "execution_count": null,
   "id": "5faecf9d-10b0-499d-a056-8a197e240205",
   "metadata": {},
   "outputs": [],
   "source": [
    "utils.summarize_gene_expression(adata = adata, gene = gene, groupby = \"clusters2\", \n",
    "                                study_name = dataset_name, organism = organism,\n",
    "                                export = True, output_dir = os.path.join(main_dir, \"P06_Foxf2_per_celltype\", \"Foxf2_summarized\", \"incl_zonation\")\n",
    "                               )"
   ]
  },
  {
   "cell_type": "markdown",
   "id": "3cea61d6-4981-467b-a19b-4c27d79a5fca",
   "metadata": {},
   "source": [
    "# Focus on: Other genes"
   ]
  },
  {
   "cell_type": "code",
   "execution_count": null,
   "id": "aecd2e0c-54ae-427d-95ae-463a25b14852",
   "metadata": {},
   "outputs": [],
   "source": [
    "target_genes = [\"Foxo1\", \"Tek\", \"Nos3\", \"Htra1\", \"Egfl8\", \"Flt1\", \"Kdr\", \"Nrp1\", \"Nrp2\", \"Efnb2\", \"Itgb1\", \"Itga6\", \"Angpt2\", \"Cdh5\", \"Cldn5\", \"Ocln\", \"Ctnnb1\"]"
   ]
  },
  {
   "cell_type": "markdown",
   "id": "62ded995-b595-42e3-82a6-ed577f6ea5ca",
   "metadata": {},
   "source": [
    "### Excl zonation"
   ]
  },
  {
   "cell_type": "code",
   "execution_count": null,
   "id": "873f6f87-016e-41ea-ba42-8a1cda489936",
   "metadata": {},
   "outputs": [],
   "source": [
    "groupby = \"clusters\""
   ]
  },
  {
   "cell_type": "code",
   "execution_count": null,
   "id": "48dd94b5-b4b1-40bf-bb15-fe4fa4b1443b",
   "metadata": {},
   "outputs": [],
   "source": [
    "other_genes_results = {\n",
    "    gene: utils.summarize_gene_expression(adata, gene, study_name = dataset_name, organism = organism, groupby = groupby, \n",
    "                                          output_dir=os.path.join(main_dir, \"P06_Foxf2_per_celltype\", \"Other_genes_summarized\"), export=True\n",
    "                                         ) for gene in target_genes\n",
    "}"
   ]
  },
  {
   "cell_type": "code",
   "execution_count": null,
   "id": "d6c0934b-49fb-408e-826f-89f3bf89247d",
   "metadata": {},
   "outputs": [],
   "source": [
    "# some plots"
   ]
  },
  {
   "cell_type": "code",
   "execution_count": null,
   "id": "7cd2add3-d9d8-432d-92fa-e724b13a3999",
   "metadata": {
    "tags": []
   },
   "outputs": [],
   "source": [
    "sc.pl.matrixplot(adata, [target_genes[0]], groupby=groupby, swap_axes=False, figsize=(2,5), standard_scale=\"var\", layer=\"normalized\")"
   ]
  },
  {
   "cell_type": "code",
   "execution_count": null,
   "id": "c3223d24-9787-427c-b7c6-f4c5a3f4c02c",
   "metadata": {},
   "outputs": [],
   "source": [
    "sc.pl.dotplot(adata, [target_genes[0]], groupby=groupby, swap_axes=False, figsize=(2,5), standard_scale=\"var\", layer=\"normalized\")"
   ]
  },
  {
   "cell_type": "code",
   "execution_count": null,
   "id": "69d39ade-4a0f-4be9-aca0-dca5816691d8",
   "metadata": {},
   "outputs": [],
   "source": [
    "sc.pl.matrixplot(adata, [target_genes[1]], groupby=groupby, swap_axes=False, figsize=(2,5), standard_scale=\"var\", layer=\"normalized\")"
   ]
  },
  {
   "cell_type": "code",
   "execution_count": null,
   "id": "b6d4ac05-76ec-42a3-996d-89f142152bd5",
   "metadata": {},
   "outputs": [],
   "source": [
    "sc.pl.dotplot(adata, [target_genes[1]], groupby=groupby, swap_axes=False, figsize=(2,5), standard_scale=\"var\", layer=\"normalized\")"
   ]
  },
  {
   "cell_type": "markdown",
   "id": "65efcb6d-f269-4e72-af17-76a9f72f315a",
   "metadata": {
    "tags": []
   },
   "source": [
    "### Incl zonation"
   ]
  },
  {
   "cell_type": "code",
   "execution_count": null,
   "id": "a360e41b-36e9-4f86-a6c9-28e6c9045ee4",
   "metadata": {},
   "outputs": [],
   "source": [
    "groupby = \"clusters2\""
   ]
  },
  {
   "cell_type": "code",
   "execution_count": null,
   "id": "6afafa15-97e7-48f2-9595-3f1a95c9d667",
   "metadata": {},
   "outputs": [],
   "source": [
    "other_genes_results = {\n",
    "    gene: utils.summarize_gene_expression(adata, gene, study_name = dataset_name, organism = organism, groupby = groupby, \n",
    "                                          output_dir=os.path.join(main_dir, \"P06_Foxf2_per_celltype\", \"Other_genes_summarized\", \"incl_zonation\"), export=True\n",
    "                                         ) for gene in target_genes\n",
    "}"
   ]
  },
  {
   "cell_type": "code",
   "execution_count": null,
   "id": "bca0dce5-dc42-4fd9-bf16-fa3d7ad1003f",
   "metadata": {},
   "outputs": [],
   "source": [
    "# some plots"
   ]
  },
  {
   "cell_type": "code",
   "execution_count": null,
   "id": "d7e92fa9-9845-4c8b-8b01-81e1216152ae",
   "metadata": {
    "tags": []
   },
   "outputs": [],
   "source": [
    "sc.pl.matrixplot(adata, [target_genes[0]], groupby=groupby, swap_axes=False, figsize=(2,5), standard_scale=\"var\", layer=\"normalized\")"
   ]
  },
  {
   "cell_type": "code",
   "execution_count": null,
   "id": "f664fe9b-995a-4867-95c8-1503e5bb3a5a",
   "metadata": {},
   "outputs": [],
   "source": [
    "sc.pl.dotplot(adata, [target_genes[0]], groupby=groupby, swap_axes=False, figsize=(2,5), standard_scale=\"var\", layer=\"normalized\")"
   ]
  },
  {
   "cell_type": "code",
   "execution_count": null,
   "id": "a1afc1a2-c91c-4353-b07c-35630b8d54f4",
   "metadata": {},
   "outputs": [],
   "source": [
    "sc.pl.matrixplot(adata, [target_genes[1]], groupby=groupby, swap_axes=False, figsize=(2,5), standard_scale=\"var\", layer=\"normalized\")"
   ]
  },
  {
   "cell_type": "code",
   "execution_count": null,
   "id": "7c2fba18-50ab-44a8-8b61-a8780f3d7bae",
   "metadata": {},
   "outputs": [],
   "source": [
    "sc.pl.dotplot(adata, [target_genes[1]], groupby=groupby, swap_axes=False, figsize=(2,5), standard_scale=\"var\", layer=\"normalized\")"
   ]
  },
  {
   "cell_type": "markdown",
   "id": "a2086363-e940-40f3-8847-235cf59a71f3",
   "metadata": {},
   "source": [
    "# Focus on: Aging"
   ]
  },
  {
   "cell_type": "code",
   "execution_count": null,
   "id": "87dfb86f-f273-4d52-8eb7-8d916a7678ea",
   "metadata": {},
   "outputs": [],
   "source": [
    "adata = adata_backup"
   ]
  },
  {
   "cell_type": "code",
   "execution_count": null,
   "id": "96a71f6c-0774-41fe-a81f-6b11b98593a6",
   "metadata": {
    "tags": []
   },
   "outputs": [],
   "source": [
    "pd.value_counts(adata.obs[\"age\"])"
   ]
  },
  {
   "cell_type": "markdown",
   "id": "70fee669-39a6-4dd7-a0a4-e20adcd34247",
   "metadata": {},
   "source": [
    "## Foxf2 by age group"
   ]
  },
  {
   "cell_type": "code",
   "execution_count": null,
   "id": "10726739-d178-4fb9-9c8c-275cae39889c",
   "metadata": {},
   "outputs": [],
   "source": [
    "gene=[\"Foxf2\",\"Foxo1\",\"Tek\",\"Nos3\"]"
   ]
  },
  {
   "cell_type": "markdown",
   "id": "3f738f31-faba-4b81-9d33-1f923b85770f",
   "metadata": {},
   "source": [
    "### All cell types"
   ]
  },
  {
   "cell_type": "code",
   "execution_count": null,
   "id": "2fabe302-6340-4f13-bf37-94bbe1f13b33",
   "metadata": {},
   "outputs": [],
   "source": [
    "sc.pl.dotplot(adata, gene, groupby='age', swap_axes=True, figsize=(4,2), standard_scale=\"var\", layer=\"normalized\", title=\"All cell types\")"
   ]
  },
  {
   "cell_type": "code",
   "execution_count": null,
   "id": "428bfc25-a684-4bb3-b589-0d03e9f24e2f",
   "metadata": {},
   "outputs": [],
   "source": [
    "adata"
   ]
  },
  {
   "cell_type": "markdown",
   "id": "1b181f68-c47b-47ef-9bbe-1697ccd9c21e",
   "metadata": {},
   "source": [
    "### ECs only"
   ]
  },
  {
   "cell_type": "code",
   "execution_count": null,
   "id": "5ad63ced-1a8d-41c6-a05b-98e1ab353a0a",
   "metadata": {},
   "outputs": [],
   "source": [
    "# ECs only\n",
    "adata_ecs = adata[adata.obs['clusters'].isin(['Endothelial cells'])]\n",
    "adata_ecs"
   ]
  },
  {
   "cell_type": "code",
   "execution_count": null,
   "id": "a609a5d8-3918-47d5-b965-b347ed0f4a34",
   "metadata": {
    "tags": []
   },
   "outputs": [],
   "source": [
    "pd.value_counts(adata_ecs.obs[\"age\"])"
   ]
  },
  {
   "cell_type": "code",
   "execution_count": null,
   "id": "48bde0b5-1868-4e89-9082-9ec804654ed2",
   "metadata": {},
   "outputs": [],
   "source": [
    "sc.pl.dotplot(adata_ecs, gene, groupby='age', swap_axes=True, figsize=(4,2), standard_scale=\"var\", layer=\"normalized\", title=\"ECs\")"
   ]
  },
  {
   "cell_type": "markdown",
   "id": "3e9c647c-77a6-4adc-bfd6-2c1dc7d6c679",
   "metadata": {},
   "source": [
    "### PCs only"
   ]
  },
  {
   "cell_type": "code",
   "execution_count": null,
   "id": "eb7c4290-7721-4024-b799-c1483e8bd897",
   "metadata": {},
   "outputs": [],
   "source": [
    "adata_pcs = adata[adata.obs['clusters'].isin(['Pericytes'])]\n",
    "pd.value_counts(adata_pcs.obs[\"age\"])"
   ]
  },
  {
   "cell_type": "code",
   "execution_count": null,
   "id": "5006fe7c-941a-4aa3-a10e-acc217c2c2e6",
   "metadata": {},
   "outputs": [],
   "source": [
    "sc.pl.dotplot(adata_pcs, gene, groupby='age', swap_axes=True, figsize=(4,2), standard_scale=\"var\", layer=\"normalized\", title=\"PCs\")"
   ]
  },
  {
   "cell_type": "markdown",
   "id": "852e2a97-b7a6-466e-8a81-5fbb27d8e7d6",
   "metadata": {},
   "source": [
    "### SMCs only"
   ]
  },
  {
   "cell_type": "code",
   "execution_count": null,
   "id": "d05907dc-fa01-4617-b0d8-87ece626f641",
   "metadata": {},
   "outputs": [],
   "source": [
    "adata_pcs = adata[adata.obs['clusters'].isin(['SMCs'])]\n",
    "pd.value_counts(adata_pcs.obs[\"age\"])"
   ]
  },
  {
   "cell_type": "code",
   "execution_count": null,
   "id": "8c6b9b3c-4729-4cec-8e41-d6d4122382a4",
   "metadata": {},
   "outputs": [],
   "source": [
    "sc.pl.dotplot(adata_pcs, gene, groupby='age', swap_axes=True, figsize=(4,2), standard_scale=\"var\", layer=\"normalized\", title=\"SMCs\")"
   ]
  },
  {
   "cell_type": "markdown",
   "id": "397cc916-6d77-45be-905d-c33d7976623d",
   "metadata": {},
   "source": [
    "### Neurons only"
   ]
  },
  {
   "cell_type": "code",
   "execution_count": null,
   "id": "4471e942-a0c7-45df-b221-129079ac3ee8",
   "metadata": {},
   "outputs": [],
   "source": [
    "adata_neur = adata[adata.obs['clusters'].isin(['Neurons'])]\n",
    "pd.value_counts(adata_neur.obs[\"age\"])"
   ]
  },
  {
   "cell_type": "code",
   "execution_count": null,
   "id": "3e61c221-8e19-4104-b3d7-60e48c8ffe5e",
   "metadata": {},
   "outputs": [],
   "source": [
    "sc.pl.dotplot(adata_neur, gene, groupby='age', swap_axes=True, figsize=(4,2), standard_scale=\"var\", layer=\"normalized\", title=\"Neurons\")"
   ]
  },
  {
   "cell_type": "markdown",
   "id": "aa912c5b-647e-4b3f-97b4-0e5a16cecce1",
   "metadata": {},
   "source": [
    "### Astrocytes only"
   ]
  },
  {
   "cell_type": "code",
   "execution_count": null,
   "id": "88500b53-9e79-44ef-8778-3efea18e851c",
   "metadata": {},
   "outputs": [],
   "source": [
    "adata_astro = adata[adata.obs['clusters'].isin(['Astrocytes'])]\n",
    "pd.value_counts(adata_astro.obs[\"age\"])"
   ]
  },
  {
   "cell_type": "code",
   "execution_count": null,
   "id": "4d54f261-368a-4ec9-8c54-9cdc1ac12d15",
   "metadata": {},
   "outputs": [],
   "source": [
    "sc.pl.dotplot(adata_astro, gene, groupby='age', swap_axes=True, figsize=(4,2), standard_scale=\"var\", layer=\"normalized\", title=\"Astrocytes\")"
   ]
  },
  {
   "cell_type": "markdown",
   "id": "1c8a6c7e-c0fe-478d-8d1b-c9bc93bdf303",
   "metadata": {},
   "source": [
    "### Oligos only"
   ]
  },
  {
   "cell_type": "code",
   "execution_count": null,
   "id": "f8823cbb-0cc3-4061-b7c2-b9e669de7e47",
   "metadata": {},
   "outputs": [],
   "source": [
    "adata_olig = adata[adata.obs['clusters'].isin(['Oligos'])]\n",
    "pd.value_counts(adata_olig.obs[\"age\"])"
   ]
  },
  {
   "cell_type": "code",
   "execution_count": null,
   "id": "1008e534-ea40-4aa8-b6b6-df9cdcf624ba",
   "metadata": {},
   "outputs": [],
   "source": [
    "sc.pl.dotplot(adata_olig, gene, groupby='age', swap_axes=True, figsize=(4,2), standard_scale=\"var\", layer=\"normalized\", title=\"Oligos\")"
   ]
  },
  {
   "cell_type": "markdown",
   "id": "ce86fd0b-8d46-4a79-9471-d543bbedfd7a",
   "metadata": {},
   "source": [
    "### Microglia only"
   ]
  },
  {
   "cell_type": "code",
   "execution_count": null,
   "id": "0c0ef0af-8f6b-4aba-bcb6-541c1b3f03b4",
   "metadata": {},
   "outputs": [],
   "source": [
    "adata_mg = adata[adata.obs['clusters'].isin(['Microglia/Macrophages'])]\n",
    "pd.value_counts(adata_mg.obs[\"age\"])"
   ]
  },
  {
   "cell_type": "code",
   "execution_count": null,
   "id": "6f8fc175-3a69-4ea9-b531-fa5d3a2f6143",
   "metadata": {},
   "outputs": [],
   "source": [
    "sc.pl.dotplot(adata_mg, gene, groupby='age', swap_axes=True, figsize=(4,2), standard_scale=\"var\", layer=\"normalized\", title=\"Microglia/Macrophages\")"
   ]
  },
  {
   "cell_type": "markdown",
   "id": "c186e163-a194-4441-9362-bafef7ba2399",
   "metadata": {},
   "source": [
    "## Correlate gene expression (Foxf2 and Foxo1)"
   ]
  },
  {
   "cell_type": "markdown",
   "id": "03a2371a-d6a8-41ae-bc84-aa77b2c2e32c",
   "metadata": {},
   "source": [
    "### ECs"
   ]
  },
  {
   "cell_type": "code",
   "execution_count": null,
   "id": "f8c3ae0c-422c-4561-9ad6-d3797c0467b9",
   "metadata": {},
   "outputs": [],
   "source": [
    "gg = [\"Foxf2\",\"Foxo1\"]"
   ]
  },
  {
   "cell_type": "code",
   "execution_count": null,
   "id": "532c68ba-c470-4458-953a-5ae0004762a7",
   "metadata": {},
   "outputs": [],
   "source": [
    "adata"
   ]
  },
  {
   "cell_type": "code",
   "execution_count": null,
   "id": "7bd20e39-1ba8-4416-bd59-b3b5ea701b30",
   "metadata": {},
   "outputs": [],
   "source": [
    "adata_ecs"
   ]
  },
  {
   "cell_type": "code",
   "execution_count": null,
   "id": "cf6aadfe-5579-4c11-bc74-7709d04aefbe",
   "metadata": {},
   "outputs": [],
   "source": [
    "adat = adata_ecs\n",
    "subs = adat[:,gg].X\n",
    "subs = pd.DataFrame(subs, columns = gg, index=adat.obs.index)\n",
    "age = pd.DataFrame(adat.obs[\"age\"])\n",
    "subs = subs.join(age)\n",
    "subs.head()"
   ]
  },
  {
   "cell_type": "code",
   "execution_count": null,
   "id": "e8fd9f00-ac75-4c4e-8686-c9ea0e0ee3a5",
   "metadata": {},
   "outputs": [],
   "source": [
    "g = sns.lmplot(x=\"Foxf2\", y=\"Foxo1\", data=subs, hue=\"age\", fit_reg=False, scatter_kws={'alpha':0.6})\n",
    "sns.regplot(x=\"Foxf2\", y=\"Foxo1\", data=subs, scatter=False, ax=g.axes[0, 0], color=\"grey\")\n",
    "g.figure.set_size_inches(7,6)\n",
    "plt.show()"
   ]
  },
  {
   "cell_type": "code",
   "execution_count": null,
   "id": "3a10ccee-5aa4-4595-8936-9a2f31d62cb3",
   "metadata": {},
   "outputs": [],
   "source": [
    "import scipy as sp\n",
    "r, p = sp.stats.pearsonr(subs['Foxf2'], subs['Foxo1'])\n",
    "'Pearson R = {:.2f}, p = {:.2g}'.format(r, p)"
   ]
  },
  {
   "cell_type": "code",
   "execution_count": null,
   "id": "9290a4f6-764f-44f4-ba28-7713155a4adf",
   "metadata": {},
   "outputs": [],
   "source": [
    "graph = sns.jointplot(data=subs, x=\"Foxf2\", y=\"Foxo1\", hue=\"age\")\n",
    "plt.show()"
   ]
  },
  {
   "cell_type": "code",
   "execution_count": null,
   "id": "0ae02185-eaa6-4e3e-91ec-c4af7254721d",
   "metadata": {},
   "outputs": [],
   "source": [
    "sns.set(style=\"whitegrid\")\n",
    "ax = sns.boxplot(x=\"age\", y=\"Foxf2\", data=subs, showfliers = False, palette=\"Blues\")\n",
    "ax = sns.stripplot(x=\"age\", y=\"Foxf2\", data=subs, color=\".25\",size=1)\n",
    "plt.show()"
   ]
  },
  {
   "cell_type": "code",
   "execution_count": null,
   "id": "94971419-e2ee-4ad4-8d7d-858572af9224",
   "metadata": {},
   "outputs": [],
   "source": [
    "sns.set(style=\"whitegrid\")\n",
    "ax = sns.boxplot(x=\"age\", y=\"Foxo1\", data=subs, showfliers = False, palette=\"Blues\")\n",
    "ax = sns.stripplot(x=\"age\", y=\"Foxo1\", data=subs, color=\".25\",size=1)\n",
    "plt.show()"
   ]
  },
  {
   "cell_type": "markdown",
   "id": "4450517e-8b8f-40ff-a124-1218bacd342e",
   "metadata": {},
   "source": [
    "Exclude dropouts (cells with 0 expression of both genes)"
   ]
  },
  {
   "cell_type": "code",
   "execution_count": null,
   "id": "d6ae0f37-338f-482c-aa33-25f24fd24d43",
   "metadata": {},
   "outputs": [],
   "source": [
    "coex = (adata_ecs[:,'{}'.format(\"Foxf2\")].X > 0) | (adata_ecs[:,'{}'.format(\"Foxo1\")].X > 0)"
   ]
  },
  {
   "cell_type": "code",
   "execution_count": null,
   "id": "e160605a-2ad6-4e68-816b-47a2e8f1e482",
   "metadata": {},
   "outputs": [],
   "source": [
    "adata_ecs_above0 = adata_ecs[coex]\n",
    "adata_ecs_above0"
   ]
  },
  {
   "cell_type": "code",
   "execution_count": null,
   "id": "343c9fd7-ae46-40a2-8550-602e3fcc77d3",
   "metadata": {
    "tags": []
   },
   "outputs": [],
   "source": [
    "pd.value_counts(adata_ecs_above0.obs[\"age\"])"
   ]
  },
  {
   "cell_type": "code",
   "execution_count": null,
   "id": "11f23496-47cc-4cb2-893f-0127b668a703",
   "metadata": {},
   "outputs": [],
   "source": [
    "sc.pl.dotplot(adata_ecs_above0, gene, groupby='age', swap_axes=True, figsize=(4,2), standard_scale=\"var\", layer=\"normalized\", title=\"ECs\")"
   ]
  },
  {
   "cell_type": "code",
   "execution_count": null,
   "id": "9536ce11-ad4c-4957-9b31-cb41cedb7e35",
   "metadata": {},
   "outputs": [],
   "source": [
    "adat = adata_ecs_above0\n",
    "subs = adat[:,gg].X\n",
    "subs = pd.DataFrame(subs, columns = gg, index=adat.obs.index)\n",
    "age = pd.DataFrame(adat.obs[\"age\"])\n",
    "subs = subs.join(age)"
   ]
  },
  {
   "cell_type": "code",
   "execution_count": null,
   "id": "5bc88e29-f463-45d8-850a-a89f267d6406",
   "metadata": {},
   "outputs": [],
   "source": [
    "g = sns.lmplot(x=\"Foxf2\", y=\"Foxo1\", data=subs, hue=\"age\", fit_reg=False, scatter_kws={'alpha':0.6})\n",
    "sns.regplot(x=\"Foxf2\", y=\"Foxo1\", data=subs, scatter=False, ax=g.axes[0, 0], color=\"grey\")\n",
    "g.figure.set_size_inches(7,6)\n",
    "plt.show()"
   ]
  },
  {
   "cell_type": "code",
   "execution_count": null,
   "id": "dfb65806-36ab-47bb-8f84-e0deaee1b257",
   "metadata": {},
   "outputs": [],
   "source": [
    "r, p = sp.stats.pearsonr(subs['Foxf2'], subs['Foxo1'])\n",
    "'Pearson R = {:.2f}, p = {:.2g}'.format(r, p)"
   ]
  },
  {
   "cell_type": "code",
   "execution_count": null,
   "id": "782ff0fe-53ff-407c-92ab-41bd03aa17ed",
   "metadata": {},
   "outputs": [],
   "source": [
    "graph = sns.jointplot(data=subs, x=\"Foxf2\", y=\"Foxo1\", hue=\"age\")\n",
    "plt.show()"
   ]
  },
  {
   "cell_type": "code",
   "execution_count": null,
   "id": "749e4fb3-8c30-4950-9985-b2906b5cf619",
   "metadata": {},
   "outputs": [],
   "source": [
    "sns.set(style=\"whitegrid\")\n",
    "ax = sns.boxplot(x=\"age\", y=\"Foxf2\", data=subs, showfliers = False, palette=\"Blues\")\n",
    "ax = sns.stripplot(x=\"age\", y=\"Foxf2\", data=subs, color=\".25\",size=1)\n",
    "plt.show()"
   ]
  },
  {
   "cell_type": "code",
   "execution_count": null,
   "id": "b4bcb8d3-617c-49a7-91c1-9a543805ff25",
   "metadata": {},
   "outputs": [],
   "source": [
    "sns.set(style=\"whitegrid\")\n",
    "ax = sns.boxplot(x=\"age\", y=\"Foxo1\", data=subs, showfliers = False, palette=\"Blues\")\n",
    "ax = sns.stripplot(x=\"age\", y=\"Foxo1\", data=subs, color=\".25\",size=1)\n",
    "plt.show()"
   ]
  },
  {
   "cell_type": "markdown",
   "id": "ca27ff7d-c382-401b-a67e-99ff955f3ef1",
   "metadata": {},
   "source": [
    "Exclude dropouts (cells with 0 expression of any of the 2 genes)"
   ]
  },
  {
   "cell_type": "code",
   "execution_count": null,
   "id": "decb5bdc-ad89-46f5-8292-1d8afdd87b8f",
   "metadata": {},
   "outputs": [],
   "source": [
    "coex = (adata_ecs[:,'{}'.format(\"Foxf2\")].X > 0) & (adata_ecs[:,'{}'.format(\"Foxo1\")].X > 0)"
   ]
  },
  {
   "cell_type": "code",
   "execution_count": null,
   "id": "5e098d1d-a871-4b6a-845b-016530bc9341",
   "metadata": {},
   "outputs": [],
   "source": [
    "adata_ecs_above0 = adata_ecs[coex]\n",
    "adata_ecs_above0"
   ]
  },
  {
   "cell_type": "code",
   "execution_count": null,
   "id": "b9cccd8c-e650-4eae-8eae-5874afeb43ac",
   "metadata": {
    "tags": []
   },
   "outputs": [],
   "source": [
    "pd.value_counts(adata_ecs_above0.obs[\"age\"])"
   ]
  },
  {
   "cell_type": "code",
   "execution_count": null,
   "id": "acea78e6-0b28-4d6c-801f-615bf0ecd834",
   "metadata": {},
   "outputs": [],
   "source": [
    "sc.pl.dotplot(adata_ecs_above0, gene, groupby='age', swap_axes=True, figsize=(4,2), standard_scale=\"var\", layer=\"normalized\", title=\"ECs\")"
   ]
  },
  {
   "cell_type": "code",
   "execution_count": null,
   "id": "abbeb7c3-9f8b-45d4-b0f3-2aa097dfbef7",
   "metadata": {},
   "outputs": [],
   "source": [
    "adat = adata_ecs_above0\n",
    "subs = adat[:,gg].X\n",
    "subs = pd.DataFrame(subs, columns = gg, index=adat.obs.index)\n",
    "age = pd.DataFrame(adat.obs[\"age\"])\n",
    "subs = subs.join(age)"
   ]
  },
  {
   "cell_type": "code",
   "execution_count": null,
   "id": "6aadad36-30b8-4470-babc-a5a97f865a90",
   "metadata": {},
   "outputs": [],
   "source": [
    "g = sns.lmplot(x=\"Foxf2\", y=\"Foxo1\", data=subs, hue=\"age\", fit_reg=False, scatter_kws={'alpha':0.6})\n",
    "sns.regplot(x=\"Foxf2\", y=\"Foxo1\", data=subs, scatter=False, ax=g.axes[0, 0], color=\"grey\")\n",
    "g.figure.set_size_inches(7,6)\n",
    "plt.show()"
   ]
  },
  {
   "cell_type": "code",
   "execution_count": null,
   "id": "6045cace-0d9e-4df0-a96f-484902a800be",
   "metadata": {},
   "outputs": [],
   "source": [
    "r, p = sp.stats.pearsonr(subs['Foxf2'], subs['Foxo1'])\n",
    "'Pearson R = {:.2f}, p = {:.2g}'.format(r, p)"
   ]
  },
  {
   "cell_type": "code",
   "execution_count": null,
   "id": "7f99eca2-33c7-4917-9179-84a53b855acc",
   "metadata": {},
   "outputs": [],
   "source": [
    "graph = sns.jointplot(data=subs, x=\"Foxf2\", y=\"Foxo1\", hue=\"age\")\n",
    "plt.show()"
   ]
  },
  {
   "cell_type": "code",
   "execution_count": null,
   "id": "03135a5f-5960-4ba4-96d0-7eb79ddcd278",
   "metadata": {},
   "outputs": [],
   "source": [
    "sns.set(style=\"whitegrid\")\n",
    "ax = sns.boxplot(x=\"age\", y=\"Foxf2\", data=subs, showfliers = False, palette=\"Blues\")\n",
    "ax = sns.stripplot(x=\"age\", y=\"Foxf2\", data=subs, color=\".25\",size=1)\n",
    "plt.show()"
   ]
  },
  {
   "cell_type": "code",
   "execution_count": null,
   "id": "4d8e8cad-971b-44b7-ae65-4c47f00d326f",
   "metadata": {},
   "outputs": [],
   "source": [
    "sns.set(style=\"whitegrid\")\n",
    "ax = sns.boxplot(x=\"age\", y=\"Foxo1\", data=subs, showfliers = False, palette=\"Blues\")\n",
    "ax = sns.stripplot(x=\"age\", y=\"Foxo1\", data=subs, color=\".25\",size=1)\n",
    "plt.show()"
   ]
  },
  {
   "cell_type": "markdown",
   "id": "86b3f9c8-ec0f-462f-9cb7-7e622e5b539b",
   "metadata": {},
   "source": [
    "### All cell types"
   ]
  },
  {
   "cell_type": "code",
   "execution_count": null,
   "id": "d74315da-5a1b-47c7-aebd-9dbcb5ef3cb7",
   "metadata": {},
   "outputs": [],
   "source": [
    "gg = [\"Foxf2\",\"Foxo1\"]"
   ]
  },
  {
   "cell_type": "code",
   "execution_count": null,
   "id": "f265652b-cbf7-49f2-8aa6-77ac0cfb2745",
   "metadata": {},
   "outputs": [],
   "source": [
    "adata"
   ]
  },
  {
   "cell_type": "code",
   "execution_count": null,
   "id": "13a6b531-3e2a-4abc-9335-b14ab604ee4d",
   "metadata": {},
   "outputs": [],
   "source": [
    "adat = adata\n",
    "subs = adat[:,gg].X\n",
    "subs = pd.DataFrame(subs, columns = gg, index=adat.obs.index)\n",
    "age = pd.DataFrame(adat.obs[\"age\"])\n",
    "subs = subs.join(age)\n",
    "subs.head()"
   ]
  },
  {
   "cell_type": "code",
   "execution_count": null,
   "id": "fbb4ff13-9b59-4038-8625-6fea93e33739",
   "metadata": {},
   "outputs": [],
   "source": [
    "g = sns.lmplot(x=\"Foxf2\", y=\"Foxo1\", data=subs, hue=\"age\", fit_reg=False, scatter_kws={'alpha':0.6})\n",
    "sns.regplot(x=\"Foxf2\", y=\"Foxo1\", data=subs, scatter=False, ax=g.axes[0, 0], color=\"grey\")\n",
    "g.figure.set_size_inches(7,6)\n",
    "plt.show()"
   ]
  },
  {
   "cell_type": "code",
   "execution_count": null,
   "id": "caf80ce2-28f0-4d4d-a180-8aab65ab1a74",
   "metadata": {},
   "outputs": [],
   "source": [
    "graph = sns.jointplot(data=subs, x=\"Foxf2\", y=\"Foxo1\", hue=\"age\")\n",
    "plt.show()"
   ]
  },
  {
   "cell_type": "markdown",
   "id": "c7c69dd7-c0b9-4852-a771-91d40919eee7",
   "metadata": {},
   "source": [
    "Exclude dropouts (cells with 0 expression of both genes)"
   ]
  },
  {
   "cell_type": "code",
   "execution_count": null,
   "id": "f9b1d929-b634-4951-9eab-cbb48364a570",
   "metadata": {},
   "outputs": [],
   "source": [
    "coex = (adat[:,'{}'.format(\"Foxf2\")].X > 0) | (adat[:,'{}'.format(\"Foxo1\")].X > 0)"
   ]
  },
  {
   "cell_type": "code",
   "execution_count": null,
   "id": "c1528a21-b5ac-4323-9665-3ae2cf508a75",
   "metadata": {},
   "outputs": [],
   "source": [
    "adata_above0 = adat[coex]\n",
    "adata_above0"
   ]
  },
  {
   "cell_type": "code",
   "execution_count": null,
   "id": "a7985967-60f4-47b6-a81d-1c885a0b4a8e",
   "metadata": {
    "tags": []
   },
   "outputs": [],
   "source": [
    "pd.value_counts(adata_above0.obs[\"age\"])"
   ]
  },
  {
   "cell_type": "code",
   "execution_count": null,
   "id": "fe12c675-258e-4018-9448-a32725532f1d",
   "metadata": {},
   "outputs": [],
   "source": [
    "sc.pl.dotplot(adata_above0, gene, groupby='age', swap_axes=True, figsize=(4,2), standard_scale=\"var\", layer=\"normalized\")"
   ]
  },
  {
   "cell_type": "code",
   "execution_count": null,
   "id": "5bc2deb5-ede2-4900-b2bb-05244a352029",
   "metadata": {},
   "outputs": [],
   "source": [
    "adat = adata_above0\n",
    "subs = adat[:,gg].X\n",
    "subs = pd.DataFrame(subs, columns = gg, index=adat.obs.index)\n",
    "age = pd.DataFrame(adat.obs[\"age\"])\n",
    "subs = subs.join(age)"
   ]
  },
  {
   "cell_type": "code",
   "execution_count": null,
   "id": "7ead3c69-ec97-48e3-8966-11504dbca77f",
   "metadata": {},
   "outputs": [],
   "source": [
    "g = sns.lmplot(x=\"Foxf2\", y=\"Foxo1\", data=subs, hue=\"age\", fit_reg=False, scatter_kws={'alpha':0.6})\n",
    "sns.regplot(x=\"Foxf2\", y=\"Foxo1\", data=subs, scatter=False, ax=g.axes[0, 0], color=\"grey\")\n",
    "g.figure.set_size_inches(7,6)\n",
    "plt.show()"
   ]
  },
  {
   "cell_type": "code",
   "execution_count": null,
   "id": "42c3c2bf-d439-451b-9f7b-1972420653f2",
   "metadata": {},
   "outputs": [],
   "source": [
    "graph = sns.jointplot(data=subs, x=\"Foxf2\", y=\"Foxo1\", hue=\"age\")\n",
    "plt.show()"
   ]
  },
  {
   "cell_type": "markdown",
   "id": "89a17a41-e163-4e94-93d9-6b6d72ccd8f5",
   "metadata": {},
   "source": [
    "## Impute expression values of dropouts  \n",
    "Using MAGIC"
   ]
  },
  {
   "cell_type": "code",
   "execution_count": null,
   "id": "4015b743-7e8e-4318-9ced-0e0bcd2669ba",
   "metadata": {},
   "outputs": [],
   "source": [
    "import magic"
   ]
  },
  {
   "cell_type": "code",
   "execution_count": null,
   "id": "d7ab0edd-9b29-45b6-86c2-f4d383b0417b",
   "metadata": {},
   "outputs": [],
   "source": [
    "fdata = pd.DataFrame(adata.X, columns = adata.var_names)\n",
    "fdata.head()"
   ]
  },
  {
   "cell_type": "code",
   "execution_count": null,
   "id": "f8205234-9342-45b4-be63-02413436f47e",
   "metadata": {},
   "outputs": [],
   "source": [
    "magic_op = magic.MAGIC()"
   ]
  },
  {
   "cell_type": "code",
   "execution_count": null,
   "id": "dc27a09c-8841-4b37-937e-a97b53c5149a",
   "metadata": {},
   "outputs": [],
   "source": [
    "f_magic = magic_op.fit_transform(fdata)"
   ]
  },
  {
   "cell_type": "code",
   "execution_count": null,
   "id": "ba9bc6c9-a3d3-4bd7-9c13-3cc2049adf38",
   "metadata": {},
   "outputs": [],
   "source": [
    "import scprep"
   ]
  },
  {
   "cell_type": "code",
   "execution_count": null,
   "id": "405799a7-4ee6-42ca-86ec-e88d827e70eb",
   "metadata": {},
   "outputs": [],
   "source": [
    "gene1=\"Foxf2\"\n",
    "gene2=\"Foxo1\"\n",
    "fig, (ax1, ax2) = plt.subplots(1,2, figsize=(10, 5))\n",
    "scprep.plot.scatter(x=fdata[gene1], y=fdata[gene2], ax=ax1, xlabel=gene1, ylabel=gene2, legend_title=gene3, title='Before MAGIC')\n",
    "scprep.plot.scatter(x=f_magic[gene1], y=f_magic[gene2], ax=ax2, xlabel=gene1, ylabel=gene2, legend_title=gene3, title='After MAGIC')\n",
    "plt.tight_layout()\n",
    "plt.show()"
   ]
  },
  {
   "cell_type": "code",
   "execution_count": null,
   "id": "8ac9f53a-5af4-476e-8f40-5640ff57d43a",
   "metadata": {},
   "outputs": [],
   "source": [
    "adata.X.shape"
   ]
  },
  {
   "cell_type": "code",
   "execution_count": null,
   "id": "794766d7-15cf-4fc8-aff4-99af164d6224",
   "metadata": {},
   "outputs": [],
   "source": [
    "f_magic.shape"
   ]
  },
  {
   "cell_type": "code",
   "execution_count": null,
   "id": "56cdde8a-a919-4335-8998-9f7daa172f9a",
   "metadata": {},
   "outputs": [],
   "source": [
    "adata.layers[\"imputed\"] = f_magic"
   ]
  },
  {
   "cell_type": "code",
   "execution_count": null,
   "id": "88588ff3-62be-4658-ad01-df679f6f4128",
   "metadata": {},
   "outputs": [],
   "source": [
    "# ECs only\n",
    "adata_ecs = adata[adata.obs['clusters'].isin(['Endothelial cells'])]\n",
    "adata_ecs"
   ]
  },
  {
   "cell_type": "markdown",
   "id": "d29ac190-bcc4-434c-92c6-0c416d48193a",
   "metadata": {},
   "source": [
    "### ECs"
   ]
  },
  {
   "cell_type": "code",
   "execution_count": null,
   "id": "f0d0eb06-1b21-43e0-b40f-e38a3b9e3402",
   "metadata": {},
   "outputs": [],
   "source": [
    "gg = [\"Foxf2\",\"Foxo1\"]"
   ]
  },
  {
   "cell_type": "code",
   "execution_count": null,
   "id": "c8672512-a811-4b10-8154-007f1f4ce3fb",
   "metadata": {},
   "outputs": [],
   "source": [
    "adata"
   ]
  },
  {
   "cell_type": "code",
   "execution_count": null,
   "id": "f8ffaa61-960f-4399-b671-28b7f38e6b5f",
   "metadata": {},
   "outputs": [],
   "source": [
    "adata_ecs"
   ]
  },
  {
   "cell_type": "code",
   "execution_count": null,
   "id": "1837c378-d207-439e-ac82-f952be1e4c33",
   "metadata": {},
   "outputs": [],
   "source": [
    "adat = adata_ecs\n",
    "subs = adat[:,gg].layers[\"imputed\"]\n",
    "subs = pd.DataFrame(subs, columns = gg, index=adat.obs.index)\n",
    "age = pd.DataFrame(adat.obs[\"age\"])\n",
    "subs = subs.join(age)\n",
    "subs.head()"
   ]
  },
  {
   "cell_type": "code",
   "execution_count": null,
   "id": "60ab8d4d-47d2-447b-a7de-f3cceabe20b4",
   "metadata": {},
   "outputs": [],
   "source": [
    "g = sns.lmplot(x=\"Foxf2\", y=\"Foxo1\", data=subs, hue=\"age\", fit_reg=False, scatter_kws={'alpha':0.6,\"s\":1})\n",
    "sns.regplot(x=\"Foxf2\", y=\"Foxo1\", data=subs, scatter=False, ax=g.axes[0, 0], color=\"grey\")\n",
    "g.figure.set_size_inches(7,6)\n",
    "plt.show()"
   ]
  },
  {
   "cell_type": "code",
   "execution_count": null,
   "id": "8725a939-0504-4528-bf47-aeaf858a044d",
   "metadata": {},
   "outputs": [],
   "source": [
    "import scipy as sp\n",
    "r, p = sp.stats.pearsonr(subs['Foxf2'], subs['Foxo1'])\n",
    "'Pearson R = {:.2f}, p = {:.2g}'.format(r, p)"
   ]
  },
  {
   "cell_type": "code",
   "execution_count": null,
   "id": "7e8d46f9-3eef-4892-9625-5de26714cb63",
   "metadata": {},
   "outputs": [],
   "source": [
    "graph = sns.jointplot(data=subs, x=\"Foxf2\", y=\"Foxo1\", hue=\"age\")\n",
    "plt.show()"
   ]
  },
  {
   "cell_type": "code",
   "execution_count": null,
   "id": "d8ee0061-aa7e-4719-a930-e8da4e2db38f",
   "metadata": {},
   "outputs": [],
   "source": [
    "sns.set(style=\"whitegrid\")\n",
    "ax = sns.boxplot(x=\"age\", y=\"Foxf2\", data=subs, showfliers = False, palette=\"Blues\")\n",
    "ax = sns.stripplot(x=\"age\", y=\"Foxf2\", data=subs, color=\".25\",size=0.5)\n",
    "plt.show()"
   ]
  },
  {
   "cell_type": "code",
   "execution_count": null,
   "id": "e1dc3536-1049-4a90-9544-a67399eed4b6",
   "metadata": {},
   "outputs": [],
   "source": [
    "sns.set(style=\"whitegrid\")\n",
    "ax = sns.boxplot(x=\"age\", y=\"Foxo1\", data=subs, showfliers = False, palette=\"Blues\")\n",
    "ax = sns.stripplot(x=\"age\", y=\"Foxo1\", data=subs, color=\".25\",size=0.5)\n",
    "plt.show()"
   ]
  },
  {
   "cell_type": "markdown",
   "id": "bc51ed22-9ddb-4c49-b199-9eeb740f724f",
   "metadata": {},
   "source": [
    "### All cell types"
   ]
  },
  {
   "cell_type": "code",
   "execution_count": null,
   "id": "3dcfef87-b2c4-4945-8632-d0479c612aa2",
   "metadata": {},
   "outputs": [],
   "source": [
    "gg = [\"Foxf2\",\"Foxo1\"]"
   ]
  },
  {
   "cell_type": "code",
   "execution_count": null,
   "id": "e708916d-3db1-4e98-917b-86ba9b24f6b2",
   "metadata": {},
   "outputs": [],
   "source": [
    "adata"
   ]
  },
  {
   "cell_type": "code",
   "execution_count": null,
   "id": "b1bddd40-c22d-45eb-bc24-c0a5c2f658a2",
   "metadata": {},
   "outputs": [],
   "source": [
    "adat = adata\n",
    "subs = adat[:,gg].layers[\"imputed\"]\n",
    "subs = pd.DataFrame(subs, columns = gg, index=adat.obs.index)\n",
    "age = pd.DataFrame(adat.obs[\"age\"])\n",
    "subs = subs.join(age)\n",
    "subs.head()"
   ]
  },
  {
   "cell_type": "code",
   "execution_count": null,
   "id": "e5fa11b9-662b-4e56-b6b6-c1abf96b071d",
   "metadata": {},
   "outputs": [],
   "source": [
    "g = sns.lmplot(x=\"Foxf2\", y=\"Foxo1\", data=subs, hue=\"age\", fit_reg=False, scatter_kws={'alpha':0.6,\"s\":1})\n",
    "sns.regplot(x=\"Foxf2\", y=\"Foxo1\", data=subs, scatter=False, ax=g.axes[0, 0], color=\"grey\")\n",
    "g.figure.set_size_inches(7,6)\n",
    "plt.show()"
   ]
  },
  {
   "cell_type": "code",
   "execution_count": null,
   "id": "98fcf748-a951-42a3-8959-be1ddaea8627",
   "metadata": {},
   "outputs": [],
   "source": [
    "r, p = sp.stats.pearsonr(subs['Foxf2'], subs['Foxo1'])\n",
    "'Pearson R = {:.2f}, p = {:.2g}'.format(r, p)"
   ]
  },
  {
   "cell_type": "code",
   "execution_count": null,
   "id": "4dd1a53a-4859-4f4b-b5cf-83e44a7f9496",
   "metadata": {},
   "outputs": [],
   "source": [
    "graph = sns.jointplot(data=subs, x=\"Foxf2\", y=\"Foxo1\", hue=\"age\")\n",
    "plt.show()"
   ]
  },
  {
   "cell_type": "code",
   "execution_count": null,
   "id": "ce3fd416-b829-48a3-ac56-69aa6701cec7",
   "metadata": {},
   "outputs": [],
   "source": []
  },
  {
   "cell_type": "markdown",
   "id": "f446ab05-fb22-43d1-bce9-655d76441b70",
   "metadata": {},
   "source": [
    "## Pseudobulk analysis"
   ]
  },
  {
   "cell_type": "markdown",
   "id": "abbb728d-eb35-44e1-bd0a-0be4f63da21d",
   "metadata": {},
   "source": [
    "Because correlation on single cell level is biased by large number of dropouts"
   ]
  },
  {
   "cell_type": "code",
   "execution_count": null,
   "id": "846e96bb-7daf-4e0d-995a-873472e24ea7",
   "metadata": {},
   "outputs": [],
   "source": [
    "import decoupler as dc"
   ]
  },
  {
   "cell_type": "code",
   "execution_count": null,
   "id": "d12d6b31-c063-4eab-a90a-d9d9333d0d1b",
   "metadata": {},
   "outputs": [],
   "source": [
    "adata"
   ]
  },
  {
   "cell_type": "code",
   "execution_count": null,
   "id": "2ae55d1e-7bfb-42d2-912c-65ce02822973",
   "metadata": {},
   "outputs": [],
   "source": [
    "adata.obs[\"sample\"] = adata.obs[\"orig.ident\"]"
   ]
  },
  {
   "cell_type": "code",
   "execution_count": null,
   "id": "d150cbeb-a3bf-4abc-85ed-07efd664b608",
   "metadata": {},
   "outputs": [],
   "source": [
    "pd.value_counts(adata.obs[\"sample\"])"
   ]
  },
  {
   "cell_type": "code",
   "execution_count": null,
   "id": "6296d137-2f0d-46fb-8518-50321c8ad954",
   "metadata": {},
   "outputs": [],
   "source": [
    "pd.crosstab(adata.obs[\"sample\"], adata.obs[\"age\"]).T"
   ]
  },
  {
   "cell_type": "code",
   "execution_count": null,
   "id": "215cfb04-c268-4c29-aa7d-76c369c33b79",
   "metadata": {},
   "outputs": [],
   "source": [
    "padata = dc.get_pseudobulk(adata, sample_col='sample', groups_col=None, layer='normalized', min_prop=0.01, min_smpls=0)"
   ]
  },
  {
   "cell_type": "code",
   "execution_count": null,
   "id": "f92ccc3e-23e1-43b4-ac24-99529f1228a8",
   "metadata": {},
   "outputs": [],
   "source": [
    "padata"
   ]
  },
  {
   "cell_type": "markdown",
   "id": "e00e396e-cecc-4e4b-8401-6471b4d43544",
   "metadata": {},
   "source": [
    "### Correlate gene expression (Foxf2 and Foxo1)"
   ]
  },
  {
   "cell_type": "markdown",
   "id": "b9ac23e4-ad3d-42fa-8649-101e41fa1fb2",
   "metadata": {},
   "source": [
    "#### All cell types"
   ]
  },
  {
   "cell_type": "code",
   "execution_count": null,
   "id": "35f459df-e52d-4026-8a1e-912142b186c9",
   "metadata": {},
   "outputs": [],
   "source": [
    "gg = [\"Foxf2\",\"Foxo1\"]"
   ]
  },
  {
   "cell_type": "code",
   "execution_count": null,
   "id": "b16f3cd6-3a90-4fba-8313-1b82f49977f9",
   "metadata": {},
   "outputs": [],
   "source": [
    "padata"
   ]
  },
  {
   "cell_type": "code",
   "execution_count": null,
   "id": "0fe99e78-3eb0-472b-be76-8ce734bc32ee",
   "metadata": {},
   "outputs": [],
   "source": [
    "adat = padata\n",
    "subs = adat[:,gg].X\n",
    "subs = pd.DataFrame(subs, columns = gg, index=adat.obs.index)\n",
    "age = pd.DataFrame(adat.obs[\"age\"])\n",
    "subs = subs.join(age)\n",
    "subs.head()"
   ]
  },
  {
   "cell_type": "code",
   "execution_count": null,
   "id": "fe6b9007-fe9a-4525-a88d-4eb8ef81bf13",
   "metadata": {},
   "outputs": [],
   "source": [
    "g = sns.lmplot(x=\"Foxf2\", y=\"Foxo1\", data=subs, hue=\"age\", fit_reg=False, scatter_kws={'alpha':0.6})\n",
    "sns.regplot(x=\"Foxf2\", y=\"Foxo1\", data=subs, scatter=False, ax=g.axes[0, 0], color=\"grey\")\n",
    "g.figure.set_size_inches(7,6)\n",
    "plt.show()"
   ]
  },
  {
   "cell_type": "code",
   "execution_count": null,
   "id": "d3d170bd-ed0d-446b-963d-a063b9e38793",
   "metadata": {},
   "outputs": [],
   "source": [
    "import scipy as sp\n",
    "r, p = sp.stats.pearsonr(subs['Foxf2'], subs['Foxo1'])\n",
    "'Pearson R = {:.2f}, p = {:.2g}'.format(r, p)"
   ]
  },
  {
   "cell_type": "code",
   "execution_count": null,
   "id": "59f8c6a6-b69e-4b3a-9f70-f3ed11c06481",
   "metadata": {},
   "outputs": [],
   "source": [
    "graph = sns.jointplot(data=subs, x=\"Foxf2\", y=\"Foxo1\", hue=\"age\")\n",
    "plt.show()"
   ]
  },
  {
   "cell_type": "markdown",
   "id": "c1e04d9f-0825-4498-8718-2dedd2c29c55",
   "metadata": {},
   "source": [
    "#### ECs"
   ]
  },
  {
   "cell_type": "code",
   "execution_count": null,
   "id": "d6d2a215-a0fb-4008-8725-f6a85c391402",
   "metadata": {},
   "outputs": [],
   "source": [
    "padata = dc.get_pseudobulk(adata, sample_col='sample', groups_col='clusters', layer='normalized', min_prop=0.1, min_smpls=3)"
   ]
  },
  {
   "cell_type": "code",
   "execution_count": null,
   "id": "e2c81e9c-e555-4ce6-bd94-533d49b141d4",
   "metadata": {},
   "outputs": [],
   "source": [
    "padata"
   ]
  },
  {
   "cell_type": "code",
   "execution_count": null,
   "id": "278149d4-b448-40b9-85d1-32e067760392",
   "metadata": {},
   "outputs": [],
   "source": [
    "# ECs only\n",
    "padata_ecs = padata[padata.obs['clusters'].isin(['Endothelial cells'])]\n",
    "padata_ecs"
   ]
  },
  {
   "cell_type": "code",
   "execution_count": null,
   "id": "6f941ee7-69fa-4edd-abcd-b35104158593",
   "metadata": {},
   "outputs": [],
   "source": [
    "gg = [\"Foxf2\",\"Foxo1\"]"
   ]
  },
  {
   "cell_type": "code",
   "execution_count": null,
   "id": "409250a7-eb4b-4bb5-9aef-ba1a716254bb",
   "metadata": {},
   "outputs": [],
   "source": [
    "adat = padata_ecs\n",
    "subs = adat[:,gg].X\n",
    "subs = pd.DataFrame(subs, columns = gg, index=adat.obs.index)\n",
    "age = pd.DataFrame(adat.obs[\"age\"])\n",
    "subs = subs.join(age)\n",
    "subs.head()"
   ]
  },
  {
   "cell_type": "code",
   "execution_count": null,
   "id": "44c9f156-9c4f-4537-a32f-32bd3634f367",
   "metadata": {},
   "outputs": [],
   "source": [
    "g = sns.lmplot(x=\"Foxf2\", y=\"Foxo1\", data=subs, hue=\"age\", fit_reg=False, scatter_kws={'alpha':0.6})\n",
    "sns.regplot(x=\"Foxf2\", y=\"Foxo1\", data=subs, scatter=False, ax=g.axes[0, 0], color=\"grey\")\n",
    "g.figure.set_size_inches(7,6)\n",
    "plt.show()"
   ]
  },
  {
   "cell_type": "code",
   "execution_count": null,
   "id": "c4c6e674-37f3-4f19-bea3-ebeeb3361958",
   "metadata": {},
   "outputs": [],
   "source": [
    "import scipy as sp\n",
    "r, p = sp.stats.pearsonr(subs['Foxf2'], subs['Foxo1'])\n",
    "'Pearson R = {:.2f}, p = {:.2g}'.format(r, p)"
   ]
  },
  {
   "cell_type": "code",
   "execution_count": null,
   "id": "66e816e7-b128-4e38-a077-4ddd72c8710d",
   "metadata": {},
   "outputs": [],
   "source": [
    "graph = sns.jointplot(data=subs, x=\"Foxf2\", y=\"Foxo1\", hue=\"age\")\n",
    "plt.show()"
   ]
  },
  {
   "cell_type": "code",
   "execution_count": null,
   "id": "a2d31575-060d-4cbe-993d-9b63bd4588de",
   "metadata": {},
   "outputs": [],
   "source": []
  },
  {
   "cell_type": "markdown",
   "id": "2b50bbcc-d764-49b9-8cc0-d3173fd8239e",
   "metadata": {},
   "source": [
    "# Session Info"
   ]
  },
  {
   "cell_type": "code",
   "execution_count": null,
   "id": "06401063-4335-4d98-ad41-2bab36a17eab",
   "metadata": {},
   "outputs": [],
   "source": [
    "sc.logging.print_versions()"
   ]
  },
  {
   "cell_type": "markdown",
   "id": "5af3e321-1df2-450f-af3d-8798a83b1162",
   "metadata": {
    "tags": []
   },
   "source": [
    "---\n",
    "# Export HTML"
   ]
  },
  {
   "cell_type": "code",
   "execution_count": null,
   "id": "188c1356-bb33-47f7-930b-e9506bb909af",
   "metadata": {},
   "outputs": [],
   "source": [
    "# use nbconvert conda env"
   ]
  },
  {
   "cell_type": "code",
   "execution_count": null,
   "id": "0642c7a9-e9fa-4396-ba6e-bdd88a2f2295",
   "metadata": {},
   "outputs": [],
   "source": [
    "! cp sc_pp_Zhao2022.ipynb HTMLs/$(date '+%Y%m%d')_sc_pp_Zhao2022.ipynb # rename in temp copy\n",
    "! jupyter nbconvert HTMLs/$(date '+%Y%m%d')_sc_pp_Zhao2022.ipynb --to html_toc # export\n",
    "! rm HTMLs/$(date '+%Y%m%d')_sc_pp_Zhao2022.ipynb # delete temp copy"
   ]
  }
 ],
 "metadata": {
  "kernelspec": {
   "display_name": "Python 3 (ipykernel)",
   "language": "python",
   "name": "python3"
  },
  "language_info": {
   "codemirror_mode": {
    "name": "ipython",
    "version": 3
   },
   "file_extension": ".py",
   "mimetype": "text/x-python",
   "name": "python",
   "nbconvert_exporter": "python",
   "pygments_lexer": "ipython3"
  }
 },
 "nbformat": 4,
 "nbformat_minor": 5
}
