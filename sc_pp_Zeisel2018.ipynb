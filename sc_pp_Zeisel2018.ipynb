{
 "cells": [
  {
   "cell_type": "markdown",
   "id": "9bfa00be-69ba-4146-aba2-818b967492c3",
   "metadata": {
    "jp-MarkdownHeadingCollapsed": true,
    "tags": []
   },
   "source": [
    "<font size=\"+3.8\">Scanpy single-cell pre-processing</font>  \n",
    "<font size=\"+1.5\"></font>  "
   ]
  },
  {
   "cell_type": "markdown",
   "id": "563f0b43-ce10-475f-b355-6fa8a2406dad",
   "metadata": {},
   "source": [
    "Aim: Preprocess annotated mouse brain single-cell data from Zeisel et al 2018 (160k cells stored as loom file)"
   ]
  },
  {
   "cell_type": "code",
   "execution_count": null,
   "id": "dd888742-5ff7-460d-973d-fc10666dbe65",
   "metadata": {
    "tags": []
   },
   "outputs": [],
   "source": [
    "from datetime import date\n",
    "date.today().strftime('%d/%m/%Y')"
   ]
  },
  {
   "cell_type": "code",
   "execution_count": null,
   "id": "9736f2cc-f141-426e-8717-fec33a385aff",
   "metadata": {
    "tags": []
   },
   "outputs": [],
   "source": [
    "import os\n",
    "os.getlogin()"
   ]
  },
  {
   "cell_type": "code",
   "execution_count": null,
   "id": "4efc7474-0dc2-41fc-9a0f-dba84e274869",
   "metadata": {
    "tags": []
   },
   "outputs": [],
   "source": [
    "import sys\n",
    "import platform, fnmatch "
   ]
  },
  {
   "cell_type": "code",
   "execution_count": null,
   "id": "39ef90cd-15cf-40b4-b880-1a70d1602cc8",
   "metadata": {
    "tags": []
   },
   "outputs": [],
   "source": [
    "import anndata\n",
    "import scanpy as sc\n",
    "import scipy as sci\n",
    "#sc.logging.print_versions()"
   ]
  },
  {
   "cell_type": "code",
   "execution_count": null,
   "id": "e325ccf6-c7bc-4d3e-9cbe-8a4d61feedc6",
   "metadata": {
    "tags": []
   },
   "outputs": [],
   "source": [
    "sc.settings.verbosity = 3"
   ]
  },
  {
   "cell_type": "code",
   "execution_count": null,
   "id": "2fea7ac9-c25e-44eb-9f7b-82d5087622f4",
   "metadata": {
    "tags": []
   },
   "outputs": [],
   "source": [
    "import numpy as np\n",
    "import scipy as sp\n",
    "import pandas as pd\n",
    "import matplotlib.pyplot as plt\n",
    "from matplotlib import rcParams\n",
    "from matplotlib import colors\n",
    "import seaborn as sb\n",
    "import datetime\n",
    "now = datetime.datetime.now()\n",
    "today = now.strftime(\"%Y%m%d\")"
   ]
  },
  {
   "cell_type": "code",
   "execution_count": null,
   "id": "c4f25c8a-47e9-48b5-af79-04fe44b4068d",
   "metadata": {
    "tags": []
   },
   "outputs": [],
   "source": [
    "from matplotlib.pyplot import rc_context"
   ]
  },
  {
   "cell_type": "code",
   "execution_count": null,
   "id": "02e17a34-b9e9-4269-8304-9cef4688c7e2",
   "metadata": {},
   "outputs": [],
   "source": [
    "import utils"
   ]
  },
  {
   "cell_type": "code",
   "execution_count": null,
   "id": "30f3b4eb-b1d5-4d23-bdc8-6000d8301fe5",
   "metadata": {
    "tags": []
   },
   "outputs": [],
   "source": [
    "os.environ['CONDA_DEFAULT_ENV'] # conda env"
   ]
  },
  {
   "cell_type": "code",
   "execution_count": null,
   "id": "963be394-4515-48d8-a42f-68365cc669e8",
   "metadata": {
    "tags": []
   },
   "outputs": [],
   "source": [
    "platform.platform()"
   ]
  },
  {
   "cell_type": "code",
   "execution_count": null,
   "id": "49bdb1f2-bf71-41d7-abe6-a0ee2234c4b3",
   "metadata": {
    "tags": []
   },
   "outputs": [],
   "source": [
    "main_dir='/run/user/1000/gvfs/smb-share:server=138.245.4.35,share=bd-dichgans/SF' # Linux\n",
    "main_dir='\\\\\\isdsynnas.srv.med.uni-muenchen.de\\BD-Dichgans\\SF' # Win\n",
    "main_dir='/Volumes/BD-Dichgans/SF' # Mac"
   ]
  },
  {
   "cell_type": "code",
   "execution_count": null,
   "id": "0ffd6323-8aa4-4c3a-bcb4-ffb56f7e3a4d",
   "metadata": {},
   "outputs": [],
   "source": [
    "dataset_name = \"Zeisel2018\"\n",
    "organism = \"Mouse\""
   ]
  },
  {
   "cell_type": "markdown",
   "id": "067b131c-bdfa-498c-83bf-a8119a92140f",
   "metadata": {},
   "source": [
    "# Load + format data"
   ]
  },
  {
   "cell_type": "markdown",
   "id": "c2a0db04-3989-432e-8f92-1750d873901d",
   "metadata": {},
   "source": [
    "## Annotated by authors"
   ]
  },
  {
   "cell_type": "markdown",
   "id": "a44242c7-5dc4-429a-8368-c0e22fcc93d2",
   "metadata": {},
   "source": [
    "Partly adapted from https://github.com/theislab/scib-reproducibility/blob/main/notebooks/data_preprocessing/mouse_brain/01_collect_mouse_brain_studies.ipynb"
   ]
  },
  {
   "cell_type": "markdown",
   "id": "e43e0432-6622-47bc-969e-b7d9a385eee8",
   "metadata": {},
   "source": [
    "Data downloaded from: http://mousebrain.org/adolescent/downloads.html"
   ]
  },
  {
   "cell_type": "code",
   "execution_count": null,
   "id": "970dd841-349a-4cb9-8b23-82558e52cc55",
   "metadata": {},
   "outputs": [],
   "source": [
    "adata_zeisel = sc.read_loom(os.path.join(main_dir, \"P06_vasc_scRNAseq\", \"Zeisel2018\", \"l5_all.loom\"))"
   ]
  },
  {
   "cell_type": "code",
   "execution_count": null,
   "id": "d54343c9-66b0-472d-a2d5-3c7c38582fce",
   "metadata": {
    "scrolled": true,
    "tags": []
   },
   "outputs": [],
   "source": [
    "adata_zeisel.obs_names_make_unique()\n",
    "adata_zeisel.var_names_make_unique()"
   ]
  },
  {
   "cell_type": "code",
   "execution_count": null,
   "id": "ef862383-0434-47ff-aab7-b8bd9dc22df8",
   "metadata": {},
   "outputs": [],
   "source": [
    "adata_zeisel"
   ]
  },
  {
   "cell_type": "code",
   "execution_count": null,
   "id": "ca7fabbf-32e4-4fdc-a06e-5a72f0f0bfcf",
   "metadata": {},
   "outputs": [],
   "source": [
    "list(adata_zeisel.obs.columns)"
   ]
  },
  {
   "cell_type": "code",
   "execution_count": null,
   "id": "05663324-ea80-43dc-9769-b443b66b0c7a",
   "metadata": {},
   "outputs": [],
   "source": [
    "pd.value_counts(adata_zeisel.obs['Class'])"
   ]
  },
  {
   "cell_type": "code",
   "execution_count": null,
   "id": "2e4cfc3d-cceb-4e13-8231-40d3236ec58f",
   "metadata": {},
   "outputs": [],
   "source": [
    "pd.value_counts(adata_zeisel.obs['Taxonomy_group'])"
   ]
  },
  {
   "cell_type": "code",
   "execution_count": null,
   "id": "bb3c4aeb-0ea2-49b3-a23b-3856bb11e069",
   "metadata": {},
   "outputs": [],
   "source": [
    "adata_zeisel.obs['Region'].astype('category').cat.categories"
   ]
  },
  {
   "cell_type": "code",
   "execution_count": null,
   "id": "039b45c8-9247-434f-9b8d-aab5d55bc105",
   "metadata": {
    "scrolled": true
   },
   "outputs": [],
   "source": [
    "pd.value_counts(adata_zeisel.obs['Age'])"
   ]
  },
  {
   "cell_type": "code",
   "execution_count": null,
   "id": "70b888bc-100c-4a9b-bb08-dd022a6f44e0",
   "metadata": {
    "scrolled": true
   },
   "outputs": [],
   "source": [
    "pd.value_counts(adata_zeisel.obs['Subclass'])"
   ]
  },
  {
   "cell_type": "markdown",
   "id": "4f360ffe-f823-4282-8598-167cc398d754",
   "metadata": {},
   "source": [
    "Assign regions to the already present brain structures:\n",
    "* Amygdala - Amygdala (AMY)\n",
    "* CA1 - Hippocampus (HC)\n",
    "* Ctx1, Ctx1.5, Ctx2, Ctx3 - Cortex (CTX)\n",
    "* DRG - Dorsal root ganglia (**to exclude**)\n",
    "* DentGyr - Dentate Gyrus (to Hippocampus)\n",
    "* ENS - Enteric nervous system (**to exclude**)\n",
    "* HC - Hippocampus\n",
    "* Hypoth - Hypothalamus (HTH)\n",
    "* MBd, MBv - midbrain dorsal, ventral (merge to midbrain, MB)\n",
    "* Medulla - MD\n",
    "* OB - olfactory bulb\n",
    "* Pons - PO \n",
    "* SC - spinal cord  (**to exclude**)\n",
    "* SScortex - secondary somatosensensory cortex - Cortex (CTX)\n",
    "* StriatDor, StriatVent - Striatum (STR)\n",
    "* Sympath - Sympathetic ganglion (**to exclude**)\n",
    "* Thal - Thalamus (TH)"
   ]
  },
  {
   "cell_type": "code",
   "execution_count": null,
   "id": "77cef615-dc3d-4404-b3ad-4621a0aa0b58",
   "metadata": {},
   "outputs": [],
   "source": [
    "adata_zeisel.obs['Tissue'].astype('category').cat.categories"
   ]
  },
  {
   "cell_type": "code",
   "execution_count": null,
   "id": "263055fe-35b3-4a9b-a663-9fa2c4dbfc03",
   "metadata": {
    "tags": []
   },
   "outputs": [],
   "source": [
    "region_dict = dict({'Amygd': 'AMY', \n",
    "                    'CA1' : 'HC', \n",
    "                    'Ctx1': 'CTX', \n",
    "                    'Ctx1.5': 'CTX', \n",
    "                    'Ctx2': 'CTX', \n",
    "                    'Ctx3': 'CTX', \n",
    "                    #'DRG',\n",
    "                    'DentGyr' : 'HC', \n",
    "                    #'ENS', \n",
    "                    'Hypoth' : 'HTH', \n",
    "                    'MBd' : 'MB', \n",
    "                    'MBv' : 'MB', \n",
    "                    'Medulla' : 'MD', \n",
    "                    'Pons' : 'PO',\n",
    "                    'SScortex' : 'CTX', \n",
    "                    'StriatDor' : 'STR', \n",
    "                    'StriatVent': 'STR',\n",
    "                    #'Sympath', \n",
    "                    'Thal' : 'TH'})\n",
    "\n",
    "df = pd.DataFrame.from_dict(region_dict, orient='index')"
   ]
  },
  {
   "cell_type": "code",
   "execution_count": null,
   "id": "f6b31cbd-6b86-405f-85f6-0474414b6238",
   "metadata": {},
   "outputs": [],
   "source": [
    "adata_zeisel.obs['region'] = adata_zeisel.obs['Tissue'].astype('category').cat.add_categories(np.unique(\n",
    "        ['AMY', 'CTX', 'HTH', 'MB', 'MD', 'PO', 'STR', 'TH']))\n",
    "\n",
    "for idx in enumerate(df[0]):\n",
    "    adata_zeisel.obs['region'].loc[adata_zeisel.obs['region']==df[0].index[idx[0]]] = idx[1]\n",
    "    \n",
    "adata_zeisel.obs['region'] = adata_zeisel.obs['region'].astype('category').cat.remove_unused_categories()"
   ]
  },
  {
   "cell_type": "markdown",
   "id": "4e32448c-9cf4-4beb-886a-842a18741832",
   "metadata": {},
   "source": [
    "Exclude `DRG`, `ENS` and `Sympath` cells.  \n",
    "= all peripheral NS cells"
   ]
  },
  {
   "cell_type": "code",
   "execution_count": null,
   "id": "8eea1c46-93ab-423e-9d32-00c3ff9ba0f3",
   "metadata": {
    "tags": []
   },
   "outputs": [],
   "source": [
    "adata_zeisel = adata_zeisel[np.invert(np.in1d(adata_zeisel.obs['region'], ['DRG', 'ENS', 'Sympath','SC']))].copy() # remove SC because only interested in brain"
   ]
  },
  {
   "cell_type": "code",
   "execution_count": null,
   "id": "452ff700-5513-4b65-84ec-f4357bf23292",
   "metadata": {
    "tags": []
   },
   "outputs": [],
   "source": [
    "adata_zeisel = adata_zeisel[np.invert(np.in1d(adata_zeisel.obs['Taxonomy_group'], ['Spinal cord excitatory neurons', 'Spinal cord inhibitory neurons']))].copy() # remove SC neurons"
   ]
  },
  {
   "cell_type": "code",
   "execution_count": null,
   "id": "9238c6c8-2962-49ea-bac6-e0fccfc514fa",
   "metadata": {},
   "outputs": [],
   "source": [
    "adata_zeisel.obs['region'].value_counts()"
   ]
  },
  {
   "cell_type": "code",
   "execution_count": null,
   "id": "6771d38c-dff6-455c-823b-93d6ae1da732",
   "metadata": {
    "scrolled": true
   },
   "outputs": [],
   "source": [
    "pd.value_counts(adata_zeisel.obs['Subclass'])"
   ]
  },
  {
   "cell_type": "code",
   "execution_count": null,
   "id": "20de4f5d-b5a3-44de-b693-857bc10af3cc",
   "metadata": {},
   "outputs": [],
   "source": [
    "pd.value_counts(adata_zeisel.obs['Age'])"
   ]
  },
  {
   "cell_type": "code",
   "execution_count": null,
   "id": "f9f35f6c-3a56-4750-a807-46e05d31ee81",
   "metadata": {},
   "outputs": [],
   "source": [
    "pd.value_counts(adata_zeisel.obs['Sex'])"
   ]
  },
  {
   "cell_type": "code",
   "execution_count": null,
   "id": "93cf66e9-f1ec-4d3f-885a-6fa3c3097823",
   "metadata": {},
   "outputs": [],
   "source": [
    "pd.value_counts(adata_zeisel.obs['DonorID'])"
   ]
  },
  {
   "cell_type": "code",
   "execution_count": null,
   "id": "d712197c-7225-49a4-a33b-1f9520d7b0ac",
   "metadata": {},
   "outputs": [],
   "source": [
    "pd.crosstab(adata_zeisel.obs['Taxonomy_group'],adata_zeisel.obs['Subclass'])"
   ]
  },
  {
   "cell_type": "code",
   "execution_count": null,
   "id": "0cb53650-4d6d-43fa-82a8-5618f91d5262",
   "metadata": {},
   "outputs": [],
   "source": [
    "adata_zeisel"
   ]
  },
  {
   "cell_type": "code",
   "execution_count": null,
   "id": "0182abbd-5ca3-49cc-8c36-09d671c6456f",
   "metadata": {
    "tags": []
   },
   "outputs": [],
   "source": [
    "del adata_zeisel.obs['Region']"
   ]
  },
  {
   "cell_type": "markdown",
   "id": "cd57f7ab-6f47-41ba-9cb9-67b9a9994913",
   "metadata": {},
   "source": [
    "Scib re-grouped cell types as in the following. I did re-grouping myself, based on cell types of interest."
   ]
  },
  {
   "cell_type": "markdown",
   "id": "5098dfe0-efca-4a63-94e3-34f8782bc3df",
   "metadata": {},
   "source": [
    "<s>Let us use the `Taxonomy_group` of `adata_zeisel` as a new variable `cell_type`. Then, *oligos* are renamed to *oligodendrocytes*, *vascular* becomes *endothelial cell*. The *Immune* cells are a mixture of *macrophages* and *microglia*. We have to check the *Peripheral glia* and *Ependymal*, which have no correspondence in the other datasets. However, microglia are apparently missing in the dataset.</s>"
   ]
  },
  {
   "cell_type": "code",
   "execution_count": null,
   "id": "4da35a0e-10f1-49c8-a5b9-b6f190bf7470",
   "metadata": {},
   "outputs": [],
   "source": [
    "sc.pl.violin(adata_zeisel, ['Lyz2', 'Ctss', 'Cd74'], groupby='Taxonomy_group')"
   ]
  },
  {
   "cell_type": "markdown",
   "id": "edd4d2ee-1822-4797-be4f-ac5f6589627a",
   "metadata": {},
   "source": [
    "**Conclusion** Peripheral Glia have most overlap with brain pericytes and we keep the ependymal cells as extra category."
   ]
  },
  {
   "cell_type": "code",
   "execution_count": null,
   "id": "6793c052-d08b-4f92-832c-75835ef881d6",
   "metadata": {},
   "outputs": [],
   "source": [
    "adata_zeisel.obs['Taxonomy_group'].cat.categories"
   ]
  },
  {
   "cell_type": "code",
   "execution_count": null,
   "id": "a0a880ef-b63f-4890-bcd6-276ec3f19397",
   "metadata": {
    "tags": []
   },
   "outputs": [],
   "source": [
    "# # from scib code (not used)\n",
    "# adata_zeisel.obs['cell_type'] = adata_zeisel.obs['Taxonomy_group'].cat.add_categories(['astrocyte', \n",
    "#         'brain pericyte', 'endothelial cell','ependymal cell','neuron',\n",
    "#        'macrophage', 'microglial cell', 'oligodendrocyte',\n",
    "#                      'oligodendrocyte precursor cell',\n",
    "#                          'olfactory ensheathing cell', ])\n",
    "\n",
    "# adata_zeisel.obs['cell_type'][np.in1d(adata_zeisel.obs['Taxonomy_group'], \n",
    "#                                      ['Astrocytes','Subventricular zone radial glia-like cells',\n",
    "#                                      'Dentate gyrus radial glia-like cells'])] =  'astrocyte'\n",
    "# adata_zeisel.obs['cell_type'][np.in1d(adata_zeisel.obs['Taxonomy_group'], \n",
    "#                                      ['Ependymal cells', \n",
    "#                                       'Subcommissural organ hypendymal cells'])] = 'ependymal cell'\n",
    "         \n",
    "# adata_zeisel.obs['cell_type'][np.in1d(adata_zeisel.obs['Taxonomy_group'], \n",
    "#                                      ['Perivascular macrophages'])] = 'macrophage'\n",
    "# adata_zeisel.obs['cell_type'][np.in1d(adata_zeisel.obs['Taxonomy_group'], \n",
    "#                                      ['Microglia'])] = 'microglial cell'\n",
    "           \n",
    "# adata_zeisel.obs['cell_type'][np.in1d(adata_zeisel.obs['Taxonomy_group'], \n",
    "#                                      ['Telencephalon inhibitory interneurons',\n",
    "#        'Telencephalon projecting excitatory neurons',\n",
    "#        'Telencephalon projecting inhibitory neurons', \n",
    "#                                       'Di- and mesencephalon excitatory neurons',\n",
    "#        'Di- and mesencephalon inhibitory neurons',\n",
    "#                                       'Cerebellum neurons',\n",
    "#        'Cholinergic and monoaminergic neurons',\n",
    "#                                       'Dentate gyrus granule neurons',\n",
    "#                                       'Non-glutamatergic neuroblasts',\n",
    "#                                       'Glutamatergic neuroblasts', 'Hindbrain neurons',\n",
    "#                                       'Spinal cord excitatory neurons',\n",
    "#                                       'Olfactory inhibitory neurons',\n",
    "#                                       'Peptidergic neurons',\n",
    "#        'Spinal cord inhibitory neurons'])] = 'neuron'\n",
    "\n",
    "# adata_zeisel.obs['cell_type'][np.in1d(adata_zeisel.obs['Taxonomy_group'], \n",
    "#                                      ['Oligodendrocytes'])] = 'oligodendrocyte'\n",
    "\n",
    "# adata_zeisel.obs['cell_type'][np.in1d(adata_zeisel.obs['Taxonomy_group'], \n",
    "#                                      ['Oligodendrocyte precursor cells'])] = 'oligodendrocyte precursor cell'\n",
    "\n",
    "# adata_zeisel.obs['cell_type'][np.in1d(adata_zeisel.obs['Taxonomy_group'], \n",
    "#                                      ['Olfactory ensheathing cells'])] = 'olfactory ensheathing cell'\n",
    "\n",
    "# adata_zeisel.obs['cell_type'][np.in1d(adata_zeisel.obs['Taxonomy_group'], \n",
    "#                                      ['Pericytes'])] = 'brain pericyte'\n",
    "\n",
    "# adata_zeisel.obs['cell_type'][np.in1d(adata_zeisel.obs['Taxonomy_group'], \n",
    "#                                      ['Vascular and leptomeningeal cells', 'Vascular endothelial cells',\n",
    "#        'Vascular smooth muscle cells', 'Choroid epithelial cells'])] = 'endothelial cell'\n",
    "\n",
    "# adata_zeisel.obs['cell_type'] = adata_zeisel.obs['cell_type'].cat.remove_unused_categories()\n"
   ]
  },
  {
   "cell_type": "code",
   "execution_count": null,
   "id": "d7fe9e9a-debe-4383-be68-0c5d4d322383",
   "metadata": {},
   "outputs": [],
   "source": [
    "# updated own (used)\n",
    "adata_zeisel.obs['cell_type'] = adata_zeisel.obs['Taxonomy_group'].cat.add_categories(\n",
    "        ['astrocytes','pericytes', 'Endothelial cells','Ependymal cell','Neurons','Neuroblasts',\n",
    "        'Microglia/Macrophages', 'Oligos','SMCs', 'OPCs','olfactory ensheathing cells', 'Leptomeningeal cells']) # cannot be same name as \"Taxonomy_group\""
   ]
  },
  {
   "cell_type": "code",
   "execution_count": null,
   "id": "006cbc5a-fe9c-4265-84f0-ee4a71f12aba",
   "metadata": {},
   "outputs": [],
   "source": [
    "list(adata_zeisel.obs['Taxonomy_group'].unique())"
   ]
  },
  {
   "cell_type": "code",
   "execution_count": null,
   "id": "4dc5d3ab-6665-4a67-a9c9-b837e5a5fbbd",
   "metadata": {
    "tags": []
   },
   "outputs": [],
   "source": [
    "adata_zeisel.obs['cell_type'][np.in1d(adata_zeisel.obs['Taxonomy_group'], \n",
    "                                     ['Astrocytes','Subventricular zone radial glia-like cells',\n",
    "                                     'Dentate gyrus radial glia-like cells'])] =  'Astrocytes'\n",
    "\n",
    "adata_zeisel.obs['cell_type'][np.in1d(adata_zeisel.obs['Taxonomy_group'], \n",
    "                                     ['Ependymal cells','Subcommissural organ hypendymal cells', 'Choroid epithelial cells'])] = 'Ependymal cells'\n",
    "         \n",
    "adata_zeisel.obs['cell_type'][np.in1d(adata_zeisel.obs['Taxonomy_group'], \n",
    "                                     ['Microglia','Perivascular macrophages'])] = 'Microglia/Macrophages'\n",
    "\n",
    "adata_zeisel.obs['cell_type'][np.in1d(adata_zeisel.obs['Taxonomy_group'], \n",
    "                                     [ 'Cholinergic and monoaminergic neurons','Telencephalon projecting excitatory neurons','Telencephalon inhibitory interneurons',\n",
    "                                      'Olfactory inhibitory neurons','Peptidergic neurons','Di- and mesencephalon excitatory neurons','Hindbrain neurons',\n",
    "                                      'Telencephalon projecting inhibitory neurons','Dentate gyrus granule neurons','Cerebellum neurons',\n",
    "                                      'Di- and mesencephalon inhibitory neurons'])] = 'Neurons'\n",
    "\n",
    "adata_zeisel.obs['cell_type'][np.in1d(adata_zeisel.obs['Taxonomy_group'], \n",
    "                                     ['Glutamatergic neuroblasts',\n",
    "                                      'Non-glutamatergic neuroblasts'])] = 'Neuroblasts'\n",
    "\n",
    "adata_zeisel.obs['cell_type'][np.in1d(adata_zeisel.obs['Taxonomy_group'], \n",
    "                                     ['Oligodendrocytes'])] = 'Oligos'\n",
    "\n",
    "adata_zeisel.obs['cell_type'][np.in1d(adata_zeisel.obs['Taxonomy_group'], \n",
    "                                     ['Oligodendrocyte precursor cells'])] = 'OPCs'\n",
    "\n",
    "adata_zeisel.obs['cell_type'][np.in1d(adata_zeisel.obs['Taxonomy_group'], \n",
    "                                     ['Olfactory ensheathing cells'])] = 'Olfactory ensheathing cells'\n",
    "\n",
    "adata_zeisel.obs['cell_type'][np.in1d(adata_zeisel.obs['Taxonomy_group'], \n",
    "                                     ['Pericytes'])] = 'Pericytes'\n",
    "\n",
    "adata_zeisel.obs['cell_type'][np.in1d(adata_zeisel.obs['Taxonomy_group'], \n",
    "                                     ['Vascular endothelial cells'])] = 'Endothelial cells'\n",
    "\n",
    "adata_zeisel.obs['cell_type'][np.in1d(adata_zeisel.obs['Taxonomy_group'], \n",
    "                                     ['Vascular smooth muscle cells'])] = 'SMCs'\n",
    "\n",
    "adata_zeisel.obs['cell_type'][np.in1d(adata_zeisel.obs['Taxonomy_group'], \n",
    "                                     ['Vascular and leptomeningeal cells'])] = 'Leptomeningeal cells'\n",
    "\n",
    "adata_zeisel.obs['cell_type'] = adata_zeisel.obs['cell_type'].cat.remove_unused_categories()\n"
   ]
  },
  {
   "cell_type": "code",
   "execution_count": null,
   "id": "b64db4b8-45fa-4f38-98bc-d8484188e4bb",
   "metadata": {},
   "outputs": [],
   "source": [
    "adata_zeisel.obs['cell_type'].value_counts()"
   ]
  },
  {
   "cell_type": "code",
   "execution_count": null,
   "id": "ea521420-c1bb-43fa-82e7-64d5d4fc68d5",
   "metadata": {
    "tags": []
   },
   "outputs": [],
   "source": [
    "adata_zeisel.obs['study'] = 'Zeisel'"
   ]
  },
  {
   "cell_type": "code",
   "execution_count": null,
   "id": "4614d85c-81e6-4154-95ba-80aff7ea8b3d",
   "metadata": {
    "tags": []
   },
   "outputs": [],
   "source": [
    "##Keep tissue, subclass, age and region.\n",
    "#adata_zeisel.obs['Region']\n",
    "#adata_zeisel.obs['Age']\n",
    "#adata_zeisel.obs['Subclass']\n",
    "#adata_zeisel.obs['Tissue']"
   ]
  },
  {
   "cell_type": "code",
   "execution_count": null,
   "id": "b8229719-8f5e-4426-b7e1-3eaf0c1bac0a",
   "metadata": {
    "tags": []
   },
   "outputs": [],
   "source": [
    "del adata_zeisel.obs['AnalysisPool']\n",
    "del adata_zeisel.obs['AnalysisProject']\n",
    "del adata_zeisel.obs['Bucket']\n",
    "del adata_zeisel.obs['CellConc']\n",
    "del adata_zeisel.obs['Cell_Conc']\n",
    "del adata_zeisel.obs['ChipID']\n",
    "del adata_zeisel.obs['Class']\n",
    "del adata_zeisel.obs['ClassProbability_Astrocyte']\n",
    "del adata_zeisel.obs['ClassProbability_Astrocyte,Immune']\n",
    "del adata_zeisel.obs['ClassProbability_Astrocyte,Neurons']\n",
    "del adata_zeisel.obs['ClassProbability_Astrocyte,Oligos']\n",
    "del adata_zeisel.obs['ClassProbability_Astrocyte,Vascular']\n",
    "del adata_zeisel.obs['ClassProbability_Bergmann-glia']\n",
    "del adata_zeisel.obs['ClassProbability_Blood']\n",
    "del adata_zeisel.obs['ClassProbability_Blood,Vascular']\n",
    "del adata_zeisel.obs['ClassProbability_Enteric-glia']\n",
    "del adata_zeisel.obs['ClassProbability_Enteric-glia,Cycling']\n",
    "del adata_zeisel.obs['ClassProbability_Ependymal']\n",
    "del adata_zeisel.obs['ClassProbability_Ex-Neurons']\n",
    "del adata_zeisel.obs['ClassProbability_Ex-Vascular']\n",
    "del adata_zeisel.obs['ClassProbability_Immune']\n",
    "del adata_zeisel.obs['ClassProbability_Immune,Neurons']\n",
    "del adata_zeisel.obs['ClassProbability_Immune,Oligos']\n",
    "del adata_zeisel.obs['ClassProbability_Neurons']\n",
    "del adata_zeisel.obs['ClassProbability_Neurons,Cycling']\n",
    "del adata_zeisel.obs['ClassProbability_Neurons,Oligos']\n",
    "del adata_zeisel.obs['ClassProbability_Neurons,Satellite-glia']\n",
    "del adata_zeisel.obs['ClassProbability_Neurons,Vascular']\n",
    "del adata_zeisel.obs['ClassProbability_OEC']\n",
    "del adata_zeisel.obs['ClassProbability_Oligos']\n",
    "del adata_zeisel.obs['ClassProbability_Oligos,Cycling']\n",
    "del adata_zeisel.obs['ClassProbability_Oligos,Vascular']\n",
    "del adata_zeisel.obs['ClassProbability_Satellite-glia']\n",
    "del adata_zeisel.obs['ClassProbability_Satellite-glia,Cycling']\n",
    "del adata_zeisel.obs['ClassProbability_Satellite-glia,Schwann']\n",
    "del adata_zeisel.obs['ClassProbability_Schwann']\n",
    "del adata_zeisel.obs['ClassProbability_Ttr'] \n",
    "del adata_zeisel.obs['ClassProbability_Vascular']\n",
    "del adata_zeisel.obs['ClusterName']\n",
    "del adata_zeisel.obs['Clusters']\n",
    "del adata_zeisel.obs['Comment']\n",
    "del adata_zeisel.obs['Comments']\n",
    "del adata_zeisel.obs['DateCaptured']\n",
    "del adata_zeisel.obs['Date_Captured']\n",
    "del adata_zeisel.obs['Description']\n",
    "del adata_zeisel.obs['Developmental_compartment']\n",
    "del adata_zeisel.obs['DonorID']\n",
    "del adata_zeisel.obs['Estimated Number of Cells']\n",
    "del adata_zeisel.obs['Flowcell']\n",
    "del adata_zeisel.obs['Fraction Reads in Cells']\n",
    "del adata_zeisel.obs['Label']\n",
    "del adata_zeisel.obs['LeafOrder']\n",
    "del adata_zeisel.obs['Location_based_on']\n",
    "del adata_zeisel.obs['Mean Reads per Cell']\n",
    "del adata_zeisel.obs['Median Genes per Cell']\n",
    "del adata_zeisel.obs['Median UMI Counts per Cell']\n",
    "del adata_zeisel.obs['MitoRiboRatio']\n",
    "del adata_zeisel.obs['NGI_PlateWell']\n",
    "del adata_zeisel.obs['Neurotransmitter']\n",
    "del adata_zeisel.obs['NumPooledAnimals']\n",
    "del adata_zeisel.obs['Num_Pooled_Animals']\n",
    "del adata_zeisel.obs['Number of Reads']\n",
    "del adata_zeisel.obs['OriginalClusters']\n",
    "del adata_zeisel.obs['Outliers']\n",
    "del adata_zeisel.obs['PCRCycles']\n",
    "del adata_zeisel.obs['PCR_Cycles']\n",
    "del adata_zeisel.obs['PassedQC']\n",
    "del adata_zeisel.obs['PlugDate']\n",
    "del adata_zeisel.obs['Plug_Date']\n",
    "del adata_zeisel.obs['Probable_location']\n",
    "del adata_zeisel.obs['Project']\n",
    "del adata_zeisel.obs['Q30 Bases in Barcode']\n",
    "del adata_zeisel.obs['Q30 Bases in RNA Read']\n",
    "del adata_zeisel.obs['Q30 Bases in Sample Index']\n",
    "del adata_zeisel.obs['Q30 Bases in UMI']\n",
    "del adata_zeisel.obs['Reads Mapped Confidently to Exonic Regions']"
   ]
  },
  {
   "cell_type": "code",
   "execution_count": null,
   "id": "bbb055fe-2f96-4dd4-ba46-eafbd04362e7",
   "metadata": {
    "tags": []
   },
   "outputs": [],
   "source": [
    "del adata_zeisel.obs['Reads Mapped Confidently to Intergenic Regions']\n",
    "del adata_zeisel.obs['Reads Mapped Confidently to Intronic Regions']\n",
    "del adata_zeisel.obs['Reads Mapped Confidently to Transcriptome']\n",
    "del adata_zeisel.obs['SampleID']\n",
    "del adata_zeisel.obs['SampleIndex']\n",
    "del adata_zeisel.obs['SampleOK']\n",
    "del adata_zeisel.obs['Sample_Index']\n",
    "del adata_zeisel.obs['SeqComment']\n",
    "del adata_zeisel.obs['SeqLibDate']\n",
    "del adata_zeisel.obs['SeqLibOk']\n",
    "del adata_zeisel.obs['Seq_Comment']\n",
    "del adata_zeisel.obs['Seq_Lib_Date']\n",
    "del adata_zeisel.obs['Seq_Lib_Ok']\n",
    "del adata_zeisel.obs['Sequencing Saturation']\n",
    "del adata_zeisel.obs['Serial_Number']\n",
    "del adata_zeisel.obs['Sex']\n",
    "del adata_zeisel.obs['Species']\n",
    "del adata_zeisel.obs['Strain']\n",
    "del adata_zeisel.obs['TargetNumCells']\n",
    "del adata_zeisel.obs['Target_Num_Cells']\n",
    "del adata_zeisel.obs['TaxonomyRank1']\n",
    "del adata_zeisel.obs['TaxonomyRank2']\n",
    "del adata_zeisel.obs['TaxonomyRank3']\n",
    "del adata_zeisel.obs['TaxonomyRank4']\n",
    "del adata_zeisel.obs['TaxonomySymbol']\n",
    "del adata_zeisel.obs['TimepointPool']\n",
    "del adata_zeisel.obs['Total Genes Detected']\n",
    "del adata_zeisel.obs['Transcriptome']\n",
    "del adata_zeisel.obs['Valid Barcodes']\n",
    "del adata_zeisel.obs['_KMeans_10']\n",
    "del adata_zeisel.obs['_LogCV']\n",
    "del adata_zeisel.obs['_LogMean']\n",
    "del adata_zeisel.obs['_NGenes']\n",
    "del adata_zeisel.obs['_PC1']\n",
    "del adata_zeisel.obs['_PC2']\n",
    "del adata_zeisel.obs['_Total']\n",
    "del adata_zeisel.obs['_Valid']\n",
    "del adata_zeisel.obs['_X']\n",
    "del adata_zeisel.obs['_Y']\n",
    "del adata_zeisel.obs['_tSNE1']\n",
    "del adata_zeisel.obs['_tSNE2']\n",
    "del adata_zeisel.obs['cDNAConcNanogramPerMicroliter']\n",
    "del adata_zeisel.obs['cDNALibOk']\n",
    "del adata_zeisel.obs['cDNA_Lib_Ok']\n",
    "del adata_zeisel.obs['ngperul_cDNA']"
   ]
  },
  {
   "cell_type": "code",
   "execution_count": null,
   "id": "731e8bd8-9598-4442-bd2e-9a9025ed3a37",
   "metadata": {
    "tags": []
   },
   "outputs": [],
   "source": [
    "del adata_zeisel.var['Accession']\n",
    "del adata_zeisel.var['_LogCV']\n",
    "del adata_zeisel.var['_LogMean']\n",
    "del adata_zeisel.var['_Selected']\n",
    "del adata_zeisel.var['_Total']\n",
    "del adata_zeisel.var['_Valid']"
   ]
  },
  {
   "cell_type": "code",
   "execution_count": null,
   "id": "b488a83e-2d63-42b1-a9d0-f939aee4e6b6",
   "metadata": {},
   "outputs": [],
   "source": [
    "adata = adata_zeisel"
   ]
  },
  {
   "cell_type": "code",
   "execution_count": null,
   "id": "0c96bf06-bf6e-4354-bac6-bdf09c78d003",
   "metadata": {},
   "outputs": [],
   "source": [
    "adata_zeisel"
   ]
  },
  {
   "cell_type": "code",
   "execution_count": null,
   "id": "d04e2f4b-2ffa-4c1f-8dc2-361c6cd09c00",
   "metadata": {},
   "outputs": [],
   "source": [
    "adata_zeisel"
   ]
  },
  {
   "cell_type": "code",
   "execution_count": null,
   "id": "2f252ea9-a28d-4a22-82ce-eca052dda381",
   "metadata": {
    "tags": []
   },
   "outputs": [],
   "source": [
    "sc.write(adata=adata_zeisel, filename=main_dir+'/P06_Foxf2_per_celltype/scRNAseq/'+date.today().strftime(\"%Y%m%d\")+'_Zeisel2018.h5ad')"
   ]
  },
  {
   "cell_type": "markdown",
   "id": "1da4df80-ab67-4f86-88ba-ecc76f7fc2ea",
   "metadata": {},
   "source": [
    "---"
   ]
  },
  {
   "cell_type": "markdown",
   "id": "95761cc6-9b65-4b4d-acbe-aff0c520d170",
   "metadata": {},
   "source": [
    "## Load previous work"
   ]
  },
  {
   "cell_type": "code",
   "execution_count": null,
   "id": "0b83b249-c887-4f72-8069-104f4d0c4fe6",
   "metadata": {},
   "outputs": [],
   "source": [
    "# load final file\n",
    "#date_set='20230614'\n",
    "#adata=sc.read_h5ad(main_dir+'/P06_Foxf2_per_celltype/scRNAseq/'+date_set+'_Zeisel2018.h5ad')\n",
    "#adata.uns['log1p']['base'] = None"
   ]
  },
  {
   "cell_type": "code",
   "execution_count": null,
   "id": "157b3fa0-a14d-4147-96ed-696e507fb8bc",
   "metadata": {
    "tags": []
   },
   "outputs": [],
   "source": [
    "# load final file\n",
    "date_set='20231109'\n",
    "adata=sc.read_h5ad(main_dir+'/P06_Foxf2_per_celltype/scRNAseq/20230228_zeisel_normalised_logarithmised_annotated.h5ad')\n",
    "adata.uns['log1p']['base'] = None"
   ]
  },
  {
   "cell_type": "code",
   "execution_count": null,
   "id": "f843ccda-5674-4b76-972e-2253a65764fb",
   "metadata": {
    "tags": []
   },
   "outputs": [],
   "source": [
    "adata"
   ]
  },
  {
   "cell_type": "markdown",
   "id": "3027ff04-085d-4348-9085-b198a784ec7a",
   "metadata": {},
   "source": [
    "# QC"
   ]
  },
  {
   "cell_type": "markdown",
   "id": "589990d5-31b9-4093-b9b0-2571252749cd",
   "metadata": {},
   "source": [
    "Not required because already annotated"
   ]
  },
  {
   "cell_type": "code",
   "execution_count": null,
   "id": "833704e5-6d2e-4e1a-94bd-f4bec1d6de45",
   "metadata": {},
   "outputs": [],
   "source": [
    "# genes with highest fraction of counts per cell\n",
    "sc.pl.highest_expr_genes(adata, n_top=20, )"
   ]
  },
  {
   "cell_type": "markdown",
   "id": "33f36a86-79a9-4a6b-ba27-0f859f5349bf",
   "metadata": {},
   "source": [
    "# Normalisation, logarithmization"
   ]
  },
  {
   "cell_type": "code",
   "execution_count": null,
   "id": "5ec9ff1f-ba1e-4452-b9b2-7716be5ab956",
   "metadata": {},
   "outputs": [],
   "source": [
    "adata.layers"
   ]
  },
  {
   "cell_type": "code",
   "execution_count": null,
   "id": "7cd2f6db-31a4-4dbf-86b4-7f763e5676c0",
   "metadata": {},
   "outputs": [],
   "source": [
    "# show expression of 100 random genes (across all spots)\n",
    "import random\n",
    "import seaborn as sns\n",
    "random_genes=random.sample(range(0, adata.X.shape[1]), 100)\n",
    "adata_sub = adata[:,random_genes]\n",
    "exp=pd.DataFrame(adata_sub.X.todense())\n",
    "# plot\n",
    "pl1=sns.displot(data=pd.melt(exp),x='value',height=4,hue='variable',kind=\"kde\",warn_singular=False,legend=False,palette=list(np.repeat('#086da6',100)), lw=0.3) # genes with 0 expression are excluded\n",
    "pl1.set(xlim=(-0.5, 7),ylim=(0,0.007));"
   ]
  },
  {
   "cell_type": "code",
   "execution_count": null,
   "id": "c712c42d-7146-422e-a545-90b1dc206b0f",
   "metadata": {},
   "outputs": [],
   "source": [
    "sns.set(rc={'figure.figsize':(4,4)})\n",
    "sns.set_theme(style='white')\n",
    "pl=sns.histplot(data=pd.melt(exp),x='value',binwidth=0.5,legend=True,palette=list(np.repeat('#086da6',100)))\n",
    "pl.set(xlim=(0, 20),ylim=(0,1e6));"
   ]
  },
  {
   "cell_type": "code",
   "execution_count": null,
   "id": "9a8551a2-ab4f-406c-a470-6ff2c11875ba",
   "metadata": {},
   "outputs": [],
   "source": [
    "adata.layers[\"counts\"] = adata.X.copy() # save unnormalized raw RNA counts - retrieve via adata.X = adata.layers[\"counts\"]"
   ]
  },
  {
   "cell_type": "code",
   "execution_count": null,
   "id": "97c09673-5fe7-4aed-a765-a480181843ba",
   "metadata": {},
   "outputs": [],
   "source": [
    "sc.pp.normalize_total(adata, inplace=True) # Normalize each spot by total counts over all genes, so that every spot has the same total count after normalization."
   ]
  },
  {
   "cell_type": "code",
   "execution_count": null,
   "id": "b637a932-d98d-4695-ae66-8f348669195a",
   "metadata": {},
   "outputs": [],
   "source": [
    "# show expression of 100 random genes (across all spots)\n",
    "adata_sub = adata[:,random_genes]\n",
    "exp=pd.DataFrame(adata_sub.X.todense())\n",
    "# plot\n",
    "pl=sns.displot(data=pd.melt(exp),x='value',height=4,hue='variable',kind=\"kde\",warn_singular=False,legend=False,palette=list(np.repeat('#086da6',100)), lw=0.3)\n",
    "pl.set(xlim=(-0.25, 3.5),ylim=(0,0.005))"
   ]
  },
  {
   "cell_type": "code",
   "execution_count": null,
   "id": "b8c3087f-d9d2-48d2-a81c-a26743164784",
   "metadata": {},
   "outputs": [],
   "source": [
    "pl=sns.histplot(data=pd.melt(exp),x='value',binwidth=0.5,legend=True,palette=list(np.repeat('#086da6',100)))\n",
    "pl.set(xlim=(0, 20),ylim=(0,1e6));"
   ]
  },
  {
   "cell_type": "code",
   "execution_count": null,
   "id": "eef1df9f-8af3-4bcb-bfa9-ee573d959a98",
   "metadata": {},
   "outputs": [],
   "source": [
    "sc.pp.log1p(adata) # X = log(X + 1)"
   ]
  },
  {
   "cell_type": "code",
   "execution_count": null,
   "id": "058de0df-056a-4cff-99bf-0d4481a3e226",
   "metadata": {},
   "outputs": [],
   "source": [
    "# show expression of 100 random genes (across all spots)\n",
    "adata_sub = adata[:,random_genes]\n",
    "exp=pd.DataFrame(adata_sub.X.todense())\n",
    "# plot\n",
    "pl=sns.displot(data=pd.melt(exp),x='value',height=4,hue='variable',kind=\"kde\",warn_singular=False,legend=False,palette=list(np.repeat('#086da6',100)), lw=0.5) # genes with 0 expression are excluded\n",
    "pl.set(xlim=(-0.25, 3.5),ylim=(0,0.005));"
   ]
  },
  {
   "cell_type": "code",
   "execution_count": null,
   "id": "3f0bb8cc-0fd8-428d-a0ae-f13b65807f9a",
   "metadata": {},
   "outputs": [],
   "source": [
    "pl=sns.histplot(data=pd.melt(exp),x='value',binwidth=0.5,legend=True,palette=list(np.repeat('#086da6',100)));\n",
    "pl.set(xlim=(0, 20),ylim=(0,1e6));"
   ]
  },
  {
   "cell_type": "code",
   "execution_count": null,
   "id": "3b007bed-75e7-4a5c-8c94-d35f61a3baa0",
   "metadata": {},
   "outputs": [],
   "source": [
    "adata.layers[\"normalized\"] = adata.X.copy() # save normalized + log-transformed (but unscaled) counts - retrieve via adata.X = adata.layers[\"normalized\"]"
   ]
  },
  {
   "cell_type": "code",
   "execution_count": null,
   "id": "8c226eae-0769-4064-84dd-89dc9f6b7ea3",
   "metadata": {},
   "outputs": [],
   "source": [
    "# Identify highly-variable genes\n",
    "sc.pp.highly_variable_genes(adata)\n",
    "sc.pl.highly_variable_genes(adata)"
   ]
  },
  {
   "cell_type": "code",
   "execution_count": null,
   "id": "26393879-93e6-4a03-92f0-b49c9efb72c1",
   "metadata": {},
   "outputs": [],
   "source": [
    "adata"
   ]
  },
  {
   "cell_type": "code",
   "execution_count": null,
   "id": "55fbfa7f-614e-4a44-98c8-1f2a0ce3e7f2",
   "metadata": {},
   "outputs": [],
   "source": [
    "adata.layers"
   ]
  },
  {
   "cell_type": "markdown",
   "id": "bd14d228-749b-4a19-8cf7-cf84d97bb759",
   "metadata": {},
   "source": [
    "# Dim Reduction"
   ]
  },
  {
   "cell_type": "code",
   "execution_count": null,
   "id": "ef8e8215-3a1a-4259-8eb6-e21279551f0c",
   "metadata": {},
   "outputs": [],
   "source": [
    "# Run PCA\n",
    "with rc_context({'figure.figsize': (8, 8)}):\n",
    "    sc.tl.pca(adata, svd_solver='arpack')\n",
    "    sc.pl.pca(adata, color='Foxf2')"
   ]
  },
  {
   "cell_type": "code",
   "execution_count": null,
   "id": "77adfcb5-371f-4c79-908b-0172d2dc5902",
   "metadata": {},
   "outputs": [],
   "source": [
    "sc.pl.pca_variance_ratio(adata, log=True)"
   ]
  },
  {
   "cell_type": "code",
   "execution_count": null,
   "id": "adf305d1-eab7-40e3-adc5-b83f12c1dc74",
   "metadata": {},
   "outputs": [],
   "source": [
    "sc.pp.neighbors(adata)"
   ]
  },
  {
   "cell_type": "code",
   "execution_count": null,
   "id": "34979747-b103-4bc9-bcf6-486902b5ef51",
   "metadata": {},
   "outputs": [],
   "source": [
    "# Run UMAP\n",
    "sc.tl.umap(adata)"
   ]
  },
  {
   "cell_type": "code",
   "execution_count": null,
   "id": "466672e2-0f56-49b6-90aa-9e431b03f020",
   "metadata": {},
   "outputs": [],
   "source": [
    "list(adata.obs.columns)"
   ]
  },
  {
   "cell_type": "code",
   "execution_count": null,
   "id": "8eb187c3-0bd8-4b6c-8306-4cac40fe4d47",
   "metadata": {},
   "outputs": [],
   "source": [
    "with rc_context({'figure.figsize': (9, 9)}):\n",
    "    sc.pl.umap(adata, color=['cell_type', 'region'], wspace=0.3, size=2)"
   ]
  },
  {
   "cell_type": "code",
   "execution_count": null,
   "id": "e4f3bb7c-5ebe-4412-b58e-16aa4da1d7ae",
   "metadata": {},
   "outputs": [],
   "source": [
    "plt.rcParams['figure.figsize'] = [11, 8] # set plot sizes\n",
    "sc.pl.umap(adata, color=['cell_type'], legend_loc='on data', title='', legend_fontweight='normal', legend_fontoutline=3, legend_fontsize=14, size=3)"
   ]
  },
  {
   "cell_type": "markdown",
   "id": "867e98d2-6bcf-4b0d-ab92-c2b95e76b763",
   "metadata": {},
   "source": [
    "Note: UMAP does not separate cell types very well, nonetheless stick to pre-annotated cell types"
   ]
  },
  {
   "cell_type": "markdown",
   "id": "325ab1ec-268f-42d1-a2a3-009d0eabb5ba",
   "metadata": {},
   "source": [
    "# Cell annotation"
   ]
  },
  {
   "cell_type": "markdown",
   "id": "86a5a841-998b-46ea-8308-5c5562b3616c",
   "metadata": {},
   "source": [
    "Verify annotation from authors"
   ]
  },
  {
   "cell_type": "markdown",
   "id": "c1e0ba49-affc-4d56-95dc-2156c60b71b3",
   "metadata": {},
   "source": [
    "Manual marker gene selection"
   ]
  },
  {
   "cell_type": "markdown",
   "id": "fd7b3052-01ae-4eca-8958-5f9d58284a1d",
   "metadata": {
    "tags": []
   },
   "source": [
    "|Vascular     |EC         |Pericytes|SMCs   |Fibroblasts|Oligos|OPCs         |Ependymal|Neurons    |immature/migrating Neurons|Astrocytes|Microglia|Immune (broad/hematopoetic)|Macrophages     |Macrophages/Microglia|Monocytes|Mononcytes/B-cells|Granulocytes|B-cells|T/NK cells|\n",
    "|---          |---        |---      |---    |---        |---   |---          |---      |---        |---   |---       |---      |---                        |---             |---|---|---|---|---|---|\n",
    "|PDGFRA =CD140A|CLDN5      |VTN      |ACTA2  |DCN        |MBP   |CSPG4 =NG2    |PIFO     |RBFOX3 =NEUN|DCX   |AQP4      |AIF1     |PTPRC =CD45                 |CD14            |TREM2|CCR2|CD74|CD16/32|CD19|CD4|\n",
    "|MCAM =CD146   |PECAM1 =CD31|PDGFRB   |MYOCD  |COL6A1     |ENPP2 |PDGFRA =CD140A|FOXJ1    |TUBB3      ||          |         |                           |ITGB2 =CD18 =CD11B||||ITGB2 =CD18 =CD11B||CD8A|\n",
    "|FOXF2        |           |         |       |COL3A1     |      |             |DYNLRB2  |           ||          |         |                           |CD86            ||||CD15||CD8B|\n",
    "|             |           |         |       |           |      |             |MEIG1    |           ||          |         |                           |ADGRE1 =F4/80    ||||||IL2RB|\n",
    "||||||||||||||||||||IFNG|"
   ]
  },
  {
   "cell_type": "code",
   "execution_count": null,
   "id": "55ff1fca-631b-4ec5-b08d-1f922f7e1b17",
   "metadata": {
    "tags": []
   },
   "outputs": [],
   "source": [
    "# plot marker genes\n",
    "plt.rcParams['figure.figsize'] = [8, 6] # set plot sizes\n",
    "marker_genes = [\"Pdgfra\", \"Mcam\",\"Foxf2\", \"Pecam1\", \"Cldn5\",\"Vtn\", \"Pdgfrb\",\"Acta2\", \"Myocd\",\"Dcn\", \"Col6a1\", \"Mbp\",\"Enpp2\",\"Cspg4\",\"Pifo\",\"Foxj1\",\"Dynlrb2\",\"Meig1\",\"Rbfox3\",\"Tubb3\",\"Dcx\",\"Aqp4\", \"Aif1\", \"Ptprc\", \"Ccr2\",\"Adgre1\",\"Itgb2\",\"Cd14\",\"Cd86\",\"Trem2\",\"Vcan\",\"Cd4\",\"Cd19\", \"Cd8a\",\"Il2rb\",\"Cd244\", \"Cd74\",\"Cd68\",\"Ifng\",\"Ptgdr2\",\"Ccr3\"]\n",
    "marker_genes=[x for x in marker_genes if x in list(adata.var_names)] # remove those not in adata.var_names\n",
    "sc.pl.umap(adata, ncols=3, color=marker_genes, size=3)"
   ]
  },
  {
   "cell_type": "code",
   "execution_count": null,
   "id": "a43e6327-5ddd-4d98-8a8c-4aa2e74942ce",
   "metadata": {},
   "outputs": [],
   "source": [
    "# Run DE test for annotation (Wilcoxon)\n",
    "sc.tl.rank_genes_groups(adata, 'cell_type', method='wilcoxon', key_added='wilcoxon')\n",
    "sc.pl.rank_genes_groups(adata, n_genes=20, sharey=False, ncols=3, fontsize=13, key='wilcoxon')"
   ]
  },
  {
   "cell_type": "code",
   "execution_count": null,
   "id": "9925eaa7-d321-41d2-8535-ff35e6627993",
   "metadata": {},
   "outputs": [],
   "source": [
    "# Dotplot\n",
    "sc.tl.dendrogram(adata, groupby=\"cell_type\")\n",
    "sc.pl.rank_genes_groups_dotplot(adata, n_genes=6, key=\"wilcoxon\", groupby=\"cell_type\");"
   ]
  },
  {
   "cell_type": "markdown",
   "id": "6e010da3-60bd-4ecf-acaa-72f2eb7e28b9",
   "metadata": {},
   "source": [
    "Note: No re-annotation required"
   ]
  },
  {
   "cell_type": "markdown",
   "id": "c01490f4-cdd0-4049-b116-8a4b2b3213c5",
   "metadata": {},
   "source": [
    "# DE analysis"
   ]
  },
  {
   "cell_type": "code",
   "execution_count": null,
   "id": "b0f484dc-f5bc-41c6-957f-32524e89ea3a",
   "metadata": {
    "tags": []
   },
   "outputs": [],
   "source": [
    "sc.tl.rank_genes_groups(adata, 'cell_type', method='wilcoxon', key_added = \"dea\")"
   ]
  },
  {
   "cell_type": "code",
   "execution_count": null,
   "id": "12f6bb68-19ee-4298-a77d-1b82391c03bc",
   "metadata": {
    "tags": []
   },
   "outputs": [],
   "source": [
    "sc.pl.rank_genes_groups(adata, n_genes=20, sharey=False, key = \"dea\", fontsize = 10)"
   ]
  },
  {
   "cell_type": "code",
   "execution_count": null,
   "id": "ebd8ff7e-76ff-4732-9486-235b74b25a4b",
   "metadata": {
    "tags": []
   },
   "outputs": [],
   "source": [
    "sc.get.rank_genes_groups_df(adata, key = \"dea\", group = \"Oligos\")[0:15]"
   ]
  },
  {
   "cell_type": "code",
   "execution_count": null,
   "id": "f6af3e43-2913-40d2-8ac1-58f685ca20e7",
   "metadata": {
    "tags": []
   },
   "outputs": [],
   "source": [
    "sc.get.rank_genes_groups_df(adata, key = \"dea\", group = \"Neurons\")[0:15][\"names\"]"
   ]
  },
  {
   "cell_type": "code",
   "execution_count": null,
   "id": "d400e590-4dc8-421d-8f2d-fc3c422d6cd6",
   "metadata": {
    "tags": []
   },
   "outputs": [],
   "source": [
    "sc.pl.rank_genes_groups_dotplot(adata, n_genes=6, key=\"dea\", groupby=\"cell_type\")"
   ]
  },
  {
   "cell_type": "code",
   "execution_count": null,
   "id": "3c240d1b-6434-42e8-a94a-0992a7d83b2c",
   "metadata": {
    "tags": []
   },
   "outputs": [],
   "source": [
    "sc.pl.dotplot(adata, var_names=[\"Fcrls\",\"Hexb\",\"P2ry12\",\"Ptprc\",\"Mertk\",\"Bsg\"], groupby=\"cell_type\")"
   ]
  },
  {
   "cell_type": "code",
   "execution_count": null,
   "id": "7ba8f369-6a7c-4f82-9c30-6b4c7a2043dd",
   "metadata": {
    "tags": []
   },
   "outputs": [],
   "source": [
    "sc.pl.dotplot(adata, var_names=[\"Fcrls\",\"Hexb\",\"P2ry12\",\"Ptprc\",\"Mertk\",\"Mrc1\",\"Tmem119\",\"Fos\",\"Junb\"], groupby=\"Taxonomy_group\")"
   ]
  },
  {
   "cell_type": "code",
   "execution_count": null,
   "id": "ddfb495d-42db-47bc-b2d6-b946664f0db7",
   "metadata": {},
   "outputs": [],
   "source": []
  },
  {
   "cell_type": "code",
   "execution_count": null,
   "id": "8ae8a5f0-d180-462a-8b6a-4876b09cc75a",
   "metadata": {},
   "outputs": [],
   "source": []
  },
  {
   "cell_type": "code",
   "execution_count": null,
   "id": "ad5c019c-7bb1-4b83-84af-3c9846ada29d",
   "metadata": {},
   "outputs": [],
   "source": []
  },
  {
   "cell_type": "markdown",
   "id": "d9d2fbfe-7899-41a1-ada9-a7ea0b5463f5",
   "metadata": {
    "tags": []
   },
   "source": [
    "# Focus on: Foxf2"
   ]
  },
  {
   "cell_type": "code",
   "execution_count": null,
   "id": "96527a5f-3e6d-4823-860c-04e6079c7882",
   "metadata": {},
   "outputs": [],
   "source": [
    "adata.obs[\"clusters\"] = adata.obs['cell_type']"
   ]
  },
  {
   "cell_type": "code",
   "execution_count": null,
   "id": "1ec8a008-be56-4320-8812-7cbac436323d",
   "metadata": {},
   "outputs": [],
   "source": [
    "gene=\"Foxf2\""
   ]
  },
  {
   "cell_type": "code",
   "execution_count": null,
   "id": "77379f8f-c851-44a1-9713-425cf54a9bbf",
   "metadata": {},
   "outputs": [],
   "source": [
    "with rc_context({'figure.figsize': (7,7)}):\n",
    "    sc.pl.umap(adata, color=['clusters',gene], legend_loc='on data', title='', legend_fontweight='normal', legend_fontoutline=2, legend_fontsize=10, size=4)"
   ]
  },
  {
   "cell_type": "markdown",
   "id": "f00c4e7f-cb4b-4791-b951-cb5516380a6e",
   "metadata": {},
   "source": [
    "## Plot"
   ]
  },
  {
   "cell_type": "code",
   "execution_count": null,
   "id": "b64e37db-f3cb-42f5-927d-75a69d71ce9d",
   "metadata": {},
   "outputs": [],
   "source": [
    "sc.pl.matrixplot(adata, [gene], groupby='clusters', swap_axes=False, figsize=(2,5), standard_scale=\"var\", layer=\"normalized\")"
   ]
  },
  {
   "cell_type": "code",
   "execution_count": null,
   "id": "06da8dbb-e095-4df7-915e-95bd8fe6f319",
   "metadata": {},
   "outputs": [],
   "source": [
    "sc.pl.dotplot(adata, [gene], groupby='clusters', swap_axes=False, figsize=(2,5), standard_scale=\"var\", layer=\"normalized\")"
   ]
  },
  {
   "cell_type": "code",
   "execution_count": null,
   "id": "4cb9525a-2d65-45f2-8e9b-82c8a0a8d90e",
   "metadata": {},
   "outputs": [],
   "source": [
    "utils.summarize_gene_expression(adata = adata, gene = gene, groupby = \"clusters\", \n",
    "                          study_name = dataset_name, organism = organism,\n",
    "                          export = True, output_dir = os.path.join(main_dir, \"P06_Foxf2_per_celltype\", \"Foxf2_summarized\")\n",
    "                         )"
   ]
  },
  {
   "cell_type": "markdown",
   "id": "265dc971-9c28-4330-8dcb-58fe3fc46ed0",
   "metadata": {},
   "source": [
    "# Focus on: Other genes"
   ]
  },
  {
   "cell_type": "code",
   "execution_count": null,
   "id": "4a1a0e3d-1ec0-42c2-a83b-5d9cf4bedacd",
   "metadata": {},
   "outputs": [],
   "source": [
    "target_genes = [\"Foxo1\", \"Tek\", \"Nos3\", \"Htra1\", \"Egfl8\", \"Flt1\", \"Kdr\", \"Nrp1\", \"Nrp2\", \"Efnb2\", \"Itgb1\", \"Itga6\", \"Angpt2\", \"Cdh5\", \"Cldn5\", \"Ocln\", \"Ctnnb1\"]"
   ]
  },
  {
   "cell_type": "code",
   "execution_count": null,
   "id": "cd82c095-16d8-4935-93be-3a5f16dd1456",
   "metadata": {},
   "outputs": [],
   "source": [
    "other_genes_results = {\n",
    "    gene: utils.summarize_gene_expression(adata, gene, study_name = dataset_name, organism = organism, groupby = \"clusters\",\n",
    "                                    output_dir=os.path.join(main_dir, \"P06_Foxf2_per_celltype\", \"Other_genes_summarized\"), export=True\n",
    "                                   ) for gene in target_genes\n",
    "}"
   ]
  },
  {
   "cell_type": "code",
   "execution_count": null,
   "id": "db6d7db3-4bb2-473f-bf41-f0daba7b1906",
   "metadata": {},
   "outputs": [],
   "source": [
    "# some plots"
   ]
  },
  {
   "cell_type": "code",
   "execution_count": null,
   "id": "a45c56ab-04d9-4006-906a-d79ea6a6f2c0",
   "metadata": {
    "tags": []
   },
   "outputs": [],
   "source": [
    "sc.pl.matrixplot(adata, [target_genes[0]], groupby='clusters', swap_axes=False, figsize=(2,5), standard_scale=\"var\", layer=\"normalized\")"
   ]
  },
  {
   "cell_type": "code",
   "execution_count": null,
   "id": "db0b6c9b-85f1-44ff-8f89-e31c2b50b12b",
   "metadata": {},
   "outputs": [],
   "source": [
    "sc.pl.dotplot(adata, [target_genes[0]], groupby='clusters', swap_axes=False, figsize=(2,5), standard_scale=\"var\", layer=\"normalized\")"
   ]
  },
  {
   "cell_type": "code",
   "execution_count": null,
   "id": "58b94b41-7a14-4451-bb20-ab032f0de0d9",
   "metadata": {},
   "outputs": [],
   "source": [
    "sc.pl.matrixplot(adata, [target_genes[1]], groupby='clusters', swap_axes=False, figsize=(2,5), standard_scale=\"var\", layer=\"normalized\")"
   ]
  },
  {
   "cell_type": "code",
   "execution_count": null,
   "id": "2b84e04b-6e7e-40c4-87d3-a22312db634c",
   "metadata": {},
   "outputs": [],
   "source": [
    "sc.pl.dotplot(adata, [target_genes[1]], groupby='clusters', swap_axes=False, figsize=(2,5), standard_scale=\"var\", layer=\"normalized\")"
   ]
  },
  {
   "cell_type": "markdown",
   "id": "2ce7e6f7-e01e-4a4a-8a19-c928c9b8721c",
   "metadata": {},
   "source": [
    "# Correlate gene expression (Foxf2 and Foxo1)"
   ]
  },
  {
   "cell_type": "markdown",
   "id": "23dfff16-f9b7-4de8-966c-4dd9685d5a10",
   "metadata": {},
   "source": [
    "Using MAGIC denoising"
   ]
  },
  {
   "cell_type": "code",
   "execution_count": null,
   "id": "8b470f9f-66ba-44bd-a26d-41dd662967d4",
   "metadata": {
    "tags": []
   },
   "outputs": [],
   "source": [
    "import magic\n",
    "import scprep"
   ]
  },
  {
   "cell_type": "code",
   "execution_count": null,
   "id": "57de4484-0b68-4839-8fe5-1646fa7d2cd0",
   "metadata": {
    "tags": []
   },
   "outputs": [],
   "source": [
    "#sc.pp.scale(ad_merged)"
   ]
  },
  {
   "cell_type": "markdown",
   "id": "8f66f628-eb1c-4ce1-95ab-e45ecd32c5c2",
   "metadata": {},
   "source": [
    "## ECs"
   ]
  },
  {
   "cell_type": "code",
   "execution_count": null,
   "id": "890dccd2-fcd0-43f0-804e-cebde31ba308",
   "metadata": {
    "tags": []
   },
   "outputs": [],
   "source": [
    "gg = [\"Foxf2\",\"Foxo1\",\"Nos3\"]"
   ]
  },
  {
   "cell_type": "code",
   "execution_count": null,
   "id": "ca5d02e8-93f1-4caa-a9eb-9b68e18e8658",
   "metadata": {
    "tags": []
   },
   "outputs": [],
   "source": [
    "adata_EC = adata[adata.obs.clusters == \"Endothelial cells\"]"
   ]
  },
  {
   "cell_type": "code",
   "execution_count": null,
   "id": "0610c985-06ac-4197-8e75-7532d6fca603",
   "metadata": {
    "tags": []
   },
   "outputs": [],
   "source": [
    "adata_EC"
   ]
  },
  {
   "cell_type": "code",
   "execution_count": null,
   "id": "7168d6ee-c57d-4d7f-a4da-b095b3bbd952",
   "metadata": {
    "tags": []
   },
   "outputs": [],
   "source": [
    "adata_EC.layers"
   ]
  },
  {
   "cell_type": "code",
   "execution_count": null,
   "id": "33ee2c48-1bea-416a-b9f5-4610e48afbfa",
   "metadata": {
    "tags": []
   },
   "outputs": [],
   "source": [
    "#matrix = pd.DataFrame(adata_EC.X) # not compatible with sparse \n",
    "matrix = adata_EC.X\n",
    "matrix.columns = adata_EC.var.index.tolist()"
   ]
  },
  {
   "cell_type": "code",
   "execution_count": null,
   "id": "f23c92dc-0c8d-495f-a046-b7932bebb925",
   "metadata": {
    "tags": []
   },
   "outputs": [],
   "source": [
    "cutoff_var = None"
   ]
  },
  {
   "cell_type": "code",
   "execution_count": null,
   "id": "60900b50-803b-45c9-9c99-4f3c026d5487",
   "metadata": {
    "tags": []
   },
   "outputs": [],
   "source": [
    "scprep.plot.plot_library_size(matrix, cutoff=cutoff_var)"
   ]
  },
  {
   "cell_type": "code",
   "execution_count": null,
   "id": "92b18ddc-b1de-4be6-b464-27cf37fa5b2d",
   "metadata": {
    "tags": []
   },
   "outputs": [],
   "source": [
    "# filter lowly expressed genes and cells with a small library size\n",
    "#matrix = scprep.filter.filter_library_size(matrix, cutoff=cutoff_var)\n",
    "#matrix.head()"
   ]
  },
  {
   "cell_type": "markdown",
   "id": "da8f118c-f4f5-458f-95ab-8365ea6e1063",
   "metadata": {},
   "source": [
    "Note: Skipped normalization as data is already log-normalized"
   ]
  },
  {
   "cell_type": "code",
   "execution_count": null,
   "id": "576afbaa-2f1c-482a-ad3e-17ca3241611c",
   "metadata": {
    "tags": []
   },
   "outputs": [],
   "source": [
    "adata_EC.layers"
   ]
  },
  {
   "cell_type": "markdown",
   "id": "38f9b306-f489-4b7b-81b8-a28b8d60f038",
   "metadata": {},
   "source": [
    "### Creating the MAGIC operator\n",
    "If you don't specify parameters, MAGIC creates an operator with the following default values: knn=5, knn_max = 3 * knn, decay=1, t=3."
   ]
  },
  {
   "cell_type": "code",
   "execution_count": null,
   "id": "00d5117b-8435-413f-9fe7-aa75c970e22f",
   "metadata": {
    "tags": []
   },
   "outputs": [],
   "source": [
    "magic_op = magic.MAGIC()"
   ]
  },
  {
   "cell_type": "markdown",
   "id": "066cc171-dd4a-4420-82ca-4f9a1b242407",
   "metadata": {},
   "source": [
    "### Running MAGIC with gene selection\n",
    "The magic_op.fit_transform function takes the normalized data and an array of selected genes as its arguments. If no genes are provided, MAGIC will return a matrix of all genes. The same can be achieved by substituting the array of gene names with genes='all_genes'."
   ]
  },
  {
   "cell_type": "code",
   "execution_count": null,
   "id": "172e6866-42f3-4e9f-9ee0-b0b8f7c0c779",
   "metadata": {
    "tags": []
   },
   "outputs": [],
   "source": [
    "%%time\n",
    "emt_magic = magic_op.fit_transform(adata_EC, genes=['Foxf2', 'Foxo1', 'Nos3'])"
   ]
  },
  {
   "cell_type": "markdown",
   "id": "5d97ba9f-3af3-418e-a69b-9e5d406abff6",
   "metadata": {},
   "source": [
    "### Visualizing gene-gene relationships\n",
    "\n",
    "We can see gene-gene relationships much more clearly after applying MAGIC. Note that the change in absolute values of gene expression is not meaningful - the relative difference is all that matters."
   ]
  },
  {
   "cell_type": "code",
   "execution_count": null,
   "id": "94d48a7b-5226-401d-90e2-e3a629c9deb1",
   "metadata": {
    "tags": []
   },
   "outputs": [],
   "source": [
    "np.corrcoef(emt_magic[:,['Foxf2','Foxo1']].X, rowvar = False)[0][1]"
   ]
  },
  {
   "cell_type": "code",
   "execution_count": null,
   "id": "ed42e21a-6777-421d-85dd-81ed722fe274",
   "metadata": {
    "tags": []
   },
   "outputs": [],
   "source": [
    "fig, (ax1, ax2) = plt.subplots(1,2, figsize=(16, 6))\n",
    "scprep.plot.scatter(x=adata_EC[:,'Foxf2'].X.todense(), y=adata_EC[:,'Foxo1'].X.todense(), c=adata_EC[:,'Nos3'].X.todense(), ax = ax1,\n",
    "                    xlabel='Foxf2', ylabel='Foxo1', legend_title=\"Nos3\", title='Before MAGIC')\n",
    "scprep.plot.scatter(x=emt_magic[:,'Foxf2'].X, y=emt_magic[:,'Foxo1'].X, c=emt_magic[:,'Nos3'].X, ax=ax2,\n",
    "                    xlabel='Foxf2', ylabel='Foxo1', legend_title=\"Nos3\", title='After MAGIC')\n",
    "plt.axline((0,0), slope=1, color=\"black\", alpha=0.3, linestyle=\"--\")\n",
    "plt.tight_layout()\n",
    "plt.show()"
   ]
  },
  {
   "cell_type": "markdown",
   "id": "d3f60aba-0b1a-44f9-8ac3-aabea69a69f9",
   "metadata": {},
   "source": [
    "## PCs"
   ]
  },
  {
   "cell_type": "code",
   "execution_count": null,
   "id": "4f2ce903-f60a-43f3-a3a5-37d0e7e05ed1",
   "metadata": {
    "tags": []
   },
   "outputs": [],
   "source": [
    "gg = [\"Foxf2\",\"Foxo1\",\"Nos3\"]"
   ]
  },
  {
   "cell_type": "code",
   "execution_count": null,
   "id": "fbff9298-f4ce-4b15-bf1f-cbfaf26f6903",
   "metadata": {
    "tags": []
   },
   "outputs": [],
   "source": [
    "adata_EC = adata[adata.obs.clusters == \"Pericytes\"]"
   ]
  },
  {
   "cell_type": "code",
   "execution_count": null,
   "id": "ad4be4d7-dae0-4cd5-acad-eb530394268d",
   "metadata": {
    "tags": []
   },
   "outputs": [],
   "source": [
    "adata_EC"
   ]
  },
  {
   "cell_type": "code",
   "execution_count": null,
   "id": "790b1719-11fd-4e22-be0c-c3e3137fb134",
   "metadata": {
    "tags": []
   },
   "outputs": [],
   "source": [
    "adata_EC.layers"
   ]
  },
  {
   "cell_type": "code",
   "execution_count": null,
   "id": "3b7e2ba2-4458-4e71-aec6-b5b287a884ed",
   "metadata": {
    "tags": []
   },
   "outputs": [],
   "source": [
    "#matrix = pd.DataFrame(adata_EC.X) # not compatible with sparse \n",
    "matrix = adata_EC.X\n",
    "matrix.columns = adata_EC.var.index.tolist()"
   ]
  },
  {
   "cell_type": "code",
   "execution_count": null,
   "id": "15c1b131-af47-4985-951d-b90e4e36c45f",
   "metadata": {
    "tags": []
   },
   "outputs": [],
   "source": [
    "cutoff_var = None"
   ]
  },
  {
   "cell_type": "code",
   "execution_count": null,
   "id": "88cc8f06-31d9-4732-a25a-c18efcfd183d",
   "metadata": {
    "tags": []
   },
   "outputs": [],
   "source": [
    "scprep.plot.plot_library_size(matrix, cutoff=cutoff_var)"
   ]
  },
  {
   "cell_type": "code",
   "execution_count": null,
   "id": "0cfc42da-e0f3-494d-9298-44e581b5579a",
   "metadata": {
    "tags": []
   },
   "outputs": [],
   "source": [
    "# filter lowly expressed genes and cells with a small library size\n",
    "#matrix = scprep.filter.filter_library_size(matrix, cutoff=cutoff_var)\n",
    "#matrix.head()"
   ]
  },
  {
   "cell_type": "markdown",
   "id": "465c1d66-e80c-4f99-8c96-149daf7738e3",
   "metadata": {},
   "source": [
    "Note: Skipped normalization as data is already log-normalized"
   ]
  },
  {
   "cell_type": "code",
   "execution_count": null,
   "id": "a010e3a5-f5fd-4e0d-8175-ee17d4243b88",
   "metadata": {
    "tags": []
   },
   "outputs": [],
   "source": [
    "adata_EC.layers"
   ]
  },
  {
   "cell_type": "markdown",
   "id": "bbe6a548-554a-4d46-aeeb-a4fc5e73f702",
   "metadata": {},
   "source": [
    "### Creating the MAGIC operator\n",
    "If you don't specify parameters, MAGIC creates an operator with the following default values: knn=5, knn_max = 3 * knn, decay=1, t=3."
   ]
  },
  {
   "cell_type": "code",
   "execution_count": null,
   "id": "50290429-c2b2-412f-9eb6-bb30e0aeb8eb",
   "metadata": {
    "tags": []
   },
   "outputs": [],
   "source": [
    "magic_op = magic.MAGIC()"
   ]
  },
  {
   "cell_type": "markdown",
   "id": "758d52d4-c279-48b2-bba3-e18b024d9956",
   "metadata": {},
   "source": [
    "### Running MAGIC with gene selection\n",
    "The magic_op.fit_transform function takes the normalized data and an array of selected genes as its arguments. If no genes are provided, MAGIC will return a matrix of all genes. The same can be achieved by substituting the array of gene names with genes='all_genes'."
   ]
  },
  {
   "cell_type": "code",
   "execution_count": null,
   "id": "d514c8bb-9e4e-40e2-888c-7da0af5a1d16",
   "metadata": {
    "tags": []
   },
   "outputs": [],
   "source": [
    "%%time\n",
    "emt_magic = magic_op.fit_transform(adata_EC, genes=['Foxf2', 'Foxo1', 'Nos3'])"
   ]
  },
  {
   "cell_type": "markdown",
   "id": "6c0e469b-0a17-4fbc-9940-75cfeb3b18a5",
   "metadata": {},
   "source": [
    "### Visualizing gene-gene relationships\n",
    "\n",
    "We can see gene-gene relationships much more clearly after applying MAGIC. Note that the change in absolute values of gene expression is not meaningful - the relative difference is all that matters."
   ]
  },
  {
   "cell_type": "code",
   "execution_count": null,
   "id": "a10e518d-6b43-4997-9b15-600f6dc50a4c",
   "metadata": {
    "tags": []
   },
   "outputs": [],
   "source": [
    "np.corrcoef(emt_magic[:,['Foxf2','Foxo1']].X, rowvar = False)[0][1]"
   ]
  },
  {
   "cell_type": "code",
   "execution_count": null,
   "id": "1995532e-355f-4cc2-9220-24617526e38a",
   "metadata": {
    "tags": []
   },
   "outputs": [],
   "source": [
    "fig, (ax1, ax2) = plt.subplots(1,2, figsize=(16, 6))\n",
    "scprep.plot.scatter(x=adata_EC[:,'Foxf2'].X.todense(), y=adata_EC[:,'Foxo1'].X.todense(), c=adata_EC[:,'Nos3'].X.todense(), ax = ax1,\n",
    "                    xlabel='Foxf2', ylabel='Foxo1', legend_title=\"Nos3\", title='Before MAGIC')\n",
    "scprep.plot.scatter(x=emt_magic[:,'Foxf2'].X, y=emt_magic[:,'Foxo1'].X, c=emt_magic[:,'Nos3'].X, ax=ax2,\n",
    "                    xlabel='Foxf2', ylabel='Foxo1', legend_title=\"Nos3\", title='After MAGIC')\n",
    "plt.axline((0,0), slope=1, color=\"black\", alpha=0.3, linestyle=\"--\")\n",
    "plt.tight_layout()\n",
    "plt.show()"
   ]
  },
  {
   "cell_type": "markdown",
   "id": "1e21ac48-2686-43bb-b8c2-8e647cd21481",
   "metadata": {},
   "source": [
    "## SMCs"
   ]
  },
  {
   "cell_type": "code",
   "execution_count": null,
   "id": "9bbee996-b4a0-4d5b-b42c-72cb9ea7064b",
   "metadata": {
    "tags": []
   },
   "outputs": [],
   "source": [
    "gg = [\"Foxf2\",\"Foxo1\",\"Nos3\"]"
   ]
  },
  {
   "cell_type": "code",
   "execution_count": null,
   "id": "b4a20e21-e24e-49bf-bb8b-f13d4a646555",
   "metadata": {
    "tags": []
   },
   "outputs": [],
   "source": [
    "adata_EC = adata[adata.obs.clusters == \"SMCs\"]"
   ]
  },
  {
   "cell_type": "code",
   "execution_count": null,
   "id": "96d494ee-4829-40de-acb5-04ca09d3045c",
   "metadata": {
    "tags": []
   },
   "outputs": [],
   "source": [
    "adata_EC"
   ]
  },
  {
   "cell_type": "code",
   "execution_count": null,
   "id": "1447f4de-cfc5-4862-8dcb-cd6a64211a17",
   "metadata": {
    "tags": []
   },
   "outputs": [],
   "source": [
    "adata_EC.layers"
   ]
  },
  {
   "cell_type": "code",
   "execution_count": null,
   "id": "3898d40b-1562-4763-8222-06a7b9d89343",
   "metadata": {
    "tags": []
   },
   "outputs": [],
   "source": [
    "#matrix = pd.DataFrame(adata_EC.X) # not compatible with sparse \n",
    "matrix = adata_EC.X\n",
    "matrix.columns = adata_EC.var.index.tolist()"
   ]
  },
  {
   "cell_type": "code",
   "execution_count": null,
   "id": "4ac50bc8-37c6-4585-b15f-7ad241823ff6",
   "metadata": {
    "tags": []
   },
   "outputs": [],
   "source": [
    "cutoff_var = None"
   ]
  },
  {
   "cell_type": "code",
   "execution_count": null,
   "id": "ca8b617d-6f33-4839-91f3-355caf5ac981",
   "metadata": {
    "tags": []
   },
   "outputs": [],
   "source": [
    "scprep.plot.plot_library_size(matrix, cutoff=cutoff_var)"
   ]
  },
  {
   "cell_type": "code",
   "execution_count": null,
   "id": "60cdcab0-4d34-4638-a5e2-833d434062bf",
   "metadata": {
    "tags": []
   },
   "outputs": [],
   "source": [
    "# filter lowly expressed genes and cells with a small library size\n",
    "#matrix = scprep.filter.filter_library_size(matrix, cutoff=cutoff_var)\n",
    "#matrix.head()"
   ]
  },
  {
   "cell_type": "markdown",
   "id": "ecbce65c-b4ba-48ad-a756-fb63c3601cfb",
   "metadata": {},
   "source": [
    "Note: Skipped normalization as data is already log-normalized"
   ]
  },
  {
   "cell_type": "code",
   "execution_count": null,
   "id": "40106d0e-5ec8-4341-9c1b-3d95c262a330",
   "metadata": {
    "tags": []
   },
   "outputs": [],
   "source": [
    "adata_EC.layers"
   ]
  },
  {
   "cell_type": "markdown",
   "id": "e92c7e8c-428f-482a-9169-d872d0180695",
   "metadata": {},
   "source": [
    "### Creating the MAGIC operator\n",
    "If you don't specify parameters, MAGIC creates an operator with the following default values: knn=5, knn_max = 3 * knn, decay=1, t=3."
   ]
  },
  {
   "cell_type": "code",
   "execution_count": null,
   "id": "73eb685f-d07f-4163-87bb-30a3a6dc47ef",
   "metadata": {
    "tags": []
   },
   "outputs": [],
   "source": [
    "magic_op = magic.MAGIC()"
   ]
  },
  {
   "cell_type": "markdown",
   "id": "4d72f971-e4ad-47c6-a2ea-5cb73ac540fd",
   "metadata": {},
   "source": [
    "### Running MAGIC with gene selection\n",
    "The magic_op.fit_transform function takes the normalized data and an array of selected genes as its arguments. If no genes are provided, MAGIC will return a matrix of all genes. The same can be achieved by substituting the array of gene names with genes='all_genes'."
   ]
  },
  {
   "cell_type": "code",
   "execution_count": null,
   "id": "d23a849d-c4c3-4c88-953f-683160b0d26e",
   "metadata": {
    "tags": []
   },
   "outputs": [],
   "source": [
    "%%time\n",
    "emt_magic = magic_op.fit_transform(adata_EC, genes=['Foxf2', 'Foxo1', 'Nos3'])"
   ]
  },
  {
   "cell_type": "markdown",
   "id": "72673bf0-b2ce-444c-910c-16ca998648b4",
   "metadata": {},
   "source": [
    "### Visualizing gene-gene relationships\n",
    "\n",
    "We can see gene-gene relationships much more clearly after applying MAGIC. Note that the change in absolute values of gene expression is not meaningful - the relative difference is all that matters."
   ]
  },
  {
   "cell_type": "code",
   "execution_count": null,
   "id": "130f2f33-b55c-4a86-ab5f-b8f595649323",
   "metadata": {
    "tags": []
   },
   "outputs": [],
   "source": [
    "np.corrcoef(emt_magic[:,['Foxf2','Foxo1']].X, rowvar = False)[0][1]"
   ]
  },
  {
   "cell_type": "code",
   "execution_count": null,
   "id": "4c137f55-1fa1-4c34-a7f5-efe03df6f82c",
   "metadata": {
    "tags": []
   },
   "outputs": [],
   "source": [
    "fig, (ax1, ax2) = plt.subplots(1,2, figsize=(16, 6))\n",
    "scprep.plot.scatter(x=adata_EC[:,'Foxf2'].X.todense(), y=adata_EC[:,'Foxo1'].X.todense(), c=adata_EC[:,'Nos3'].X.todense(), ax = ax1,\n",
    "                    xlabel='Foxf2', ylabel='Foxo1', legend_title=\"Nos3\", title='Before MAGIC')\n",
    "scprep.plot.scatter(x=emt_magic[:,'Foxf2'].X, y=emt_magic[:,'Foxo1'].X, c=emt_magic[:,'Nos3'].X, ax=ax2,\n",
    "                    xlabel='Foxf2', ylabel='Foxo1', legend_title=\"Nos3\", title='After MAGIC')\n",
    "plt.axline((0,0), slope=1, color=\"black\", alpha=0.3, linestyle=\"--\")\n",
    "plt.tight_layout()\n",
    "plt.show()"
   ]
  },
  {
   "cell_type": "markdown",
   "id": "189b7a48-3aee-4213-9629-3af761c14bbb",
   "metadata": {},
   "source": [
    "## All cell types"
   ]
  },
  {
   "cell_type": "code",
   "execution_count": null,
   "id": "4effd4c6-5b72-4790-99ff-9e03ead91486",
   "metadata": {
    "tags": []
   },
   "outputs": [],
   "source": [
    "adata"
   ]
  },
  {
   "cell_type": "code",
   "execution_count": null,
   "id": "cc8cc4a5-8b60-4433-ba0f-178856f5ee30",
   "metadata": {
    "tags": []
   },
   "outputs": [],
   "source": [
    "#matrix = pd.DataFrame(adata.X) # not compatible with sparse \n",
    "matrix = adata.X\n",
    "#matrix.columns = ad_merged.var.index.tolist()"
   ]
  },
  {
   "cell_type": "code",
   "execution_count": null,
   "id": "0609d9f5-276a-4947-9a5d-02283b2809c8",
   "metadata": {
    "tags": []
   },
   "outputs": [],
   "source": [
    "cutoff_var = 700"
   ]
  },
  {
   "cell_type": "code",
   "execution_count": null,
   "id": "455c69bf-da67-449a-91e1-be132c5a4609",
   "metadata": {
    "tags": []
   },
   "outputs": [],
   "source": [
    "scprep.plot.plot_library_size(matrix, cutoff=cutoff_var)"
   ]
  },
  {
   "cell_type": "code",
   "execution_count": null,
   "id": "b21a37f7-0ea0-4f5c-9b37-83a75de64ed3",
   "metadata": {
    "tags": []
   },
   "outputs": [],
   "source": [
    "# filter lowly expressed genes and cells with a small library size\n",
    "#matrix = scprep.filter.filter_library_size(matrix, cutoff=cutoff_var)\n",
    "#matrix.head()"
   ]
  },
  {
   "cell_type": "markdown",
   "id": "4e70f593-a5ce-4ca7-b838-8c94f441dd98",
   "metadata": {},
   "source": [
    "Note: Skipped normalization as data is already log-normalized"
   ]
  },
  {
   "cell_type": "code",
   "execution_count": null,
   "id": "9196cebd-32bd-448e-88de-d283fa7c63a2",
   "metadata": {
    "tags": []
   },
   "outputs": [],
   "source": [
    "adata.layers"
   ]
  },
  {
   "cell_type": "markdown",
   "id": "236f4c4c-2bba-4682-9256-b77bf87a031d",
   "metadata": {},
   "source": [
    "### Creating the MAGIC operator\n",
    "If you don't specify parameters, MAGIC creates an operator with the following default values: knn=5, knn_max = 3 * knn, decay=1, t=3."
   ]
  },
  {
   "cell_type": "code",
   "execution_count": null,
   "id": "58e18c80-63a3-47d5-83c7-694584eeced1",
   "metadata": {
    "tags": []
   },
   "outputs": [],
   "source": [
    "magic_op = magic.MAGIC()"
   ]
  },
  {
   "cell_type": "markdown",
   "id": "7d808c6f-50ad-43a7-b4a8-29bb40427a8a",
   "metadata": {},
   "source": [
    "### Running MAGIC with gene selection\n",
    "The magic_op.fit_transform function takes the normalized data and an array of selected genes as its arguments. If no genes are provided, MAGIC will return a matrix of all genes. The same can be achieved by substituting the array of gene names with genes='all_genes'."
   ]
  },
  {
   "cell_type": "code",
   "execution_count": null,
   "id": "4fc120c5-1f5a-443b-9a0c-60022658cb11",
   "metadata": {
    "tags": []
   },
   "outputs": [],
   "source": [
    "%%time\n",
    "emt_magic = magic_op.fit_transform(adata, genes=['Foxf2', 'Foxo1', 'Nos3'])"
   ]
  },
  {
   "cell_type": "markdown",
   "id": "c882efbf-0824-4673-9484-c6215b477a8d",
   "metadata": {},
   "source": [
    "### Visualizing gene-gene relationships\n",
    "\n",
    "We can see gene-gene relationships much more clearly after applying MAGIC. Note that the change in absolute values of gene expression is not meaningful - the relative difference is all that matters."
   ]
  },
  {
   "cell_type": "code",
   "execution_count": null,
   "id": "b6051f8e-becb-43e0-827b-c5222b75c531",
   "metadata": {
    "tags": []
   },
   "outputs": [],
   "source": [
    "np.corrcoef(emt_magic[:,['Foxf2','Foxo1']].X, rowvar = False)[0][1]"
   ]
  },
  {
   "cell_type": "code",
   "execution_count": null,
   "id": "c0baf56c-b3de-47d3-8ea5-8cc23b821bf8",
   "metadata": {
    "tags": []
   },
   "outputs": [],
   "source": [
    "fig, (ax1, ax2) = plt.subplots(1,2, figsize=(13, 6))\n",
    "\n",
    "scprep.plot.scatter(x=adata[:,'Foxf2'].X.todense(), y=adata[:,'Foxo1'].X.todense(), c=adata[:,'Nos3'].X.todense(), ax = ax1,\n",
    "                    xlabel='Foxf2', ylabel='Foxo1', legend_title=\"Nos3\", title='Before MAGIC')\n",
    "\n",
    "scprep.plot.scatter(x=emt_magic[:,'Foxf2'].X, y=emt_magic[:,'Foxo1'].X, c=emt_magic[:,'Nos3'].X, ax=ax2,\n",
    "                    xlabel='Foxf2', ylabel='Foxo1', title='After MAGIC')\n",
    "plt.axline((0,0), slope=1, color=\"black\", alpha=0.3, linestyle=\"--\")\n",
    "plt.tight_layout()\n",
    "plt.show()"
   ]
  },
  {
   "cell_type": "markdown",
   "id": "f6eb5b00-b28e-4b59-84e2-d4d16c9dcb26",
   "metadata": {
    "tags": []
   },
   "source": [
    "# Save"
   ]
  },
  {
   "cell_type": "code",
   "execution_count": null,
   "id": "b372642a-b214-468b-92fc-671f5e44c939",
   "metadata": {
    "tags": []
   },
   "outputs": [],
   "source": [
    "adata"
   ]
  },
  {
   "cell_type": "code",
   "execution_count": null,
   "id": "1ef8a85d-5baf-4d63-a9d0-e6d9aa73c4c8",
   "metadata": {
    "tags": []
   },
   "outputs": [],
   "source": [
    "name='zeisel_normalised_logarithmised_annotated'"
   ]
  },
  {
   "cell_type": "code",
   "execution_count": null,
   "id": "2f7e1684-41df-4feb-8541-963c6679c382",
   "metadata": {
    "tags": []
   },
   "outputs": [],
   "source": [
    "adata.write(main_dir+\"\\P06_Foxf2_per_celltype\\\\scRNAseq\\\\\" + date.today().strftime(\"%Y%m%d\")+'_'+name+'.h5ad')"
   ]
  },
  {
   "cell_type": "markdown",
   "id": "2b50bbcc-d764-49b9-8cc0-d3173fd8239e",
   "metadata": {},
   "source": [
    "# Session Info"
   ]
  },
  {
   "cell_type": "code",
   "execution_count": null,
   "id": "06401063-4335-4d98-ad41-2bab36a17eab",
   "metadata": {
    "tags": []
   },
   "outputs": [],
   "source": [
    "sc.logging.print_versions()"
   ]
  }
 ],
 "metadata": {
  "kernelspec": {
   "display_name": "Python 3 (ipykernel)",
   "language": "python",
   "name": "python3"
  },
  "language_info": {
   "codemirror_mode": {
    "name": "ipython",
    "version": 3
   },
   "file_extension": ".py",
   "mimetype": "text/x-python",
   "name": "python",
   "nbconvert_exporter": "python",
   "pygments_lexer": "ipython3"
  }
 },
 "nbformat": 4,
 "nbformat_minor": 5
}
