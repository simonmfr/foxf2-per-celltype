{
 "cells": [
  {
   "cell_type": "markdown",
   "id": "9bfa00be-69ba-4146-aba2-818b967492c3",
   "metadata": {
    "jp-MarkdownHeadingCollapsed": true,
    "tags": []
   },
   "source": [
    "<font size=\"+3.8\">Scanpy single-cell pre-processing</font>  \n",
    "<font size=\"+1.5\"></font>  "
   ]
  },
  {
   "cell_type": "markdown",
   "id": "563f0b43-ce10-475f-b355-6fa8a2406dad",
   "metadata": {},
   "source": [
    "Aim: Preprocess mouse brain single-cell data from Yang 2022 Nature  \n",
    "Publication: https://www.nature.com/articles/s41586-021-04369-3"
   ]
  },
  {
   "cell_type": "code",
   "execution_count": null,
   "id": "d9a7d404-5cca-4b79-a71f-c575df996639",
   "metadata": {
    "tags": []
   },
   "outputs": [],
   "source": [
    "from datetime import date\n",
    "date.today().strftime('%d/%m/%Y')"
   ]
  },
  {
   "cell_type": "code",
   "execution_count": null,
   "id": "474e0809-690b-417f-a3c4-6602f7fca8c0",
   "metadata": {
    "tags": []
   },
   "outputs": [],
   "source": [
    "import os\n",
    "os.getlogin()"
   ]
  },
  {
   "cell_type": "code",
   "execution_count": null,
   "id": "c4f25c8a-47e9-48b5-af79-04fe44b4068d",
   "metadata": {},
   "outputs": [],
   "source": [
    "import numpy as np\n",
    "import pandas as pd\n",
    "import scanpy as sc\n",
    "import anndata\n",
    "import matplotlib.pyplot as plt\n",
    "import random\n",
    "import seaborn as sns\n",
    "import platform\n",
    "from matplotlib.pyplot import rc_context"
   ]
  },
  {
   "cell_type": "code",
   "execution_count": null,
   "id": "3b81bc70-1248-45ba-b778-8814b4f80069",
   "metadata": {},
   "outputs": [],
   "source": [
    "import utils"
   ]
  },
  {
   "cell_type": "code",
   "execution_count": null,
   "id": "510712e3-91d3-4a3f-aaa8-74c009a3cc8d",
   "metadata": {
    "tags": []
   },
   "outputs": [],
   "source": [
    "os.environ['CONDA_DEFAULT_ENV'] # conda env"
   ]
  },
  {
   "cell_type": "code",
   "execution_count": null,
   "id": "fda2390c-8435-429f-acb7-556e83e49601",
   "metadata": {
    "tags": []
   },
   "outputs": [],
   "source": [
    "platform.platform()"
   ]
  },
  {
   "cell_type": "code",
   "execution_count": null,
   "id": "fc7d8b45-6ec5-428f-89f2-08540e479ab8",
   "metadata": {},
   "outputs": [],
   "source": [
    "sc.settings.verbosity = 3"
   ]
  },
  {
   "cell_type": "code",
   "execution_count": null,
   "id": "f46a7618-6a0d-48a7-b77a-065afc204527",
   "metadata": {},
   "outputs": [],
   "source": [
    "main_dir = {\n",
    "    'nt': r'\\\\srvisds1.srv.med.uni-muenchen.de\\BD-Dichgans\\SF',  # Win\n",
    "    'posix': '/Volumes/BD-Dichgans/SF' if os.uname().sysname == 'Darwin' else # Mac\n",
    "    '/run/user/1000/gvfs/smb-share:server=138.245.4.35,share=bd-dichgans/SF'  # Linux\n",
    "}[os.name]\n",
    "main_dir"
   ]
  },
  {
   "cell_type": "code",
   "execution_count": null,
   "id": "82632da1-6a31-4292-ae0e-f2271d7333cc",
   "metadata": {},
   "outputs": [],
   "source": [
    "dataset_name = \"Yang2022\"\n",
    "organism = \"Human\""
   ]
  },
  {
   "cell_type": "markdown",
   "id": "d75da520-0b28-417d-877e-f167db41ef30",
   "metadata": {},
   "source": [
    "# Load data"
   ]
  },
  {
   "cell_type": "markdown",
   "id": "00e3b5cb-f957-4175-aedf-471b195dfb60",
   "metadata": {
    "tags": []
   },
   "source": [
    "## Annotated \n",
    "Downloaded from: https://cells.ucsc.edu/?ds=brain-vasc-atlas"
   ]
  },
  {
   "cell_type": "code",
   "execution_count": null,
   "id": "866fcc4b-c0a8-4429-a759-4c3d8ca6583c",
   "metadata": {},
   "outputs": [],
   "source": [
    "ad = sc.read_mtx(os.path.join(main_dir, \"P06_vasc_scRNAseq\", \"Yang2021\", \"ucsc_cellbrowser_data\", \"matrix.mtx.gz\")).transpose()"
   ]
  },
  {
   "cell_type": "code",
   "execution_count": null,
   "id": "71a9c0a6-d6e0-42bb-b113-82d2fe8bff0f",
   "metadata": {},
   "outputs": [],
   "source": [
    "ad"
   ]
  },
  {
   "cell_type": "code",
   "execution_count": null,
   "id": "193d7e19-d9a0-4883-8ecb-c8c83e8d8071",
   "metadata": {},
   "outputs": [],
   "source": [
    "# Add var"
   ]
  },
  {
   "cell_type": "code",
   "execution_count": null,
   "id": "07ae396f-d49a-4d36-b737-42e320b236ac",
   "metadata": {},
   "outputs": [],
   "source": [
    "var = pd.read_csv(os.path.join(main_dir, \"P06_vasc_scRNAseq\", \"Yang2021\", \"ucsc_cellbrowser_data\", \"features.tsv.gz\"), sep=\"\\t\", header=None)\n",
    "all(var[0] == var[1])"
   ]
  },
  {
   "cell_type": "code",
   "execution_count": null,
   "id": "f5f4501d-142c-49b9-84c1-70b9f301b67f",
   "metadata": {},
   "outputs": [],
   "source": [
    "var.index = var[0]\n",
    "var.index.name = None"
   ]
  },
  {
   "cell_type": "code",
   "execution_count": null,
   "id": "0d418dcd-c697-4a86-9b8c-7b46ed965f47",
   "metadata": {},
   "outputs": [],
   "source": [
    "ad.var = var[[0]]\n",
    "ad.var"
   ]
  },
  {
   "cell_type": "code",
   "execution_count": null,
   "id": "93413bd1-4c72-4b6e-ae0c-f0946fab5e4d",
   "metadata": {},
   "outputs": [],
   "source": [
    "# Original cellnames"
   ]
  },
  {
   "cell_type": "code",
   "execution_count": null,
   "id": "8b9e0c11-51bd-4c09-a208-1b1624a4d26c",
   "metadata": {},
   "outputs": [],
   "source": [
    "cellnames = pd.read_csv(os.path.join(main_dir, \"P06_vasc_scRNAseq\", \"Yang2021\", \"ucsc_cellbrowser_data\", \"barcodes.tsv.gz\"), sep=\"\\t\", header=None)\n",
    "# used below to assert order"
   ]
  },
  {
   "cell_type": "code",
   "execution_count": null,
   "id": "da3cb6a4-2fdd-4cd0-8c9d-e5d76c6b8d48",
   "metadata": {},
   "outputs": [],
   "source": [
    "# Add metadata"
   ]
  },
  {
   "cell_type": "code",
   "execution_count": null,
   "id": "184a855a-a212-48db-a19e-773efeb9a78c",
   "metadata": {},
   "outputs": [],
   "source": [
    "meta = pd.read_csv(os.path.join(main_dir, \"P06_vasc_scRNAseq\", \"Yang2021\", \"ucsc_cellbrowser_data\", \"meta.tsv\"), sep=\"\\t\")"
   ]
  },
  {
   "cell_type": "code",
   "execution_count": null,
   "id": "5a4ffa52-e24f-4d8e-a7a8-2fd88fd19a82",
   "metadata": {},
   "outputs": [],
   "source": [
    "ad.obs = meta\n",
    "ad"
   ]
  },
  {
   "cell_type": "code",
   "execution_count": null,
   "id": "ef30c581-3183-493e-b4bb-8629e24cea43",
   "metadata": {},
   "outputs": [],
   "source": [
    "ad.obs.columns"
   ]
  },
  {
   "cell_type": "code",
   "execution_count": null,
   "id": "a6c14312-0bd5-4e79-8552-ae5c422c32e2",
   "metadata": {},
   "outputs": [],
   "source": [
    "ad.obs.head(2)"
   ]
  },
  {
   "cell_type": "code",
   "execution_count": null,
   "id": "8f21abca-89a8-4a32-9294-c8c808ba73f0",
   "metadata": {},
   "outputs": [],
   "source": [
    "assert(all(ad.obs[\"Cell\"] == cellnames[0]))"
   ]
  },
  {
   "cell_type": "code",
   "execution_count": null,
   "id": "a330ac67-12ac-4b72-b37f-a379b88e7312",
   "metadata": {},
   "outputs": [],
   "source": [
    "# add umap coords\n",
    "umap = pd.read_csv(os.path.join(main_dir, \"P06_vasc_scRNAseq\", \"Yang2021\", \"ucsc_cellbrowser_data\", \"UMAP.coords.tsv.gz\"), sep=\"\\t\", header=None)\n",
    "ad.obsm['X_umap'] = umap[[1,2]].to_numpy()"
   ]
  },
  {
   "cell_type": "code",
   "execution_count": null,
   "id": "279e7858-720e-4533-b6ed-f31a24a1a69d",
   "metadata": {},
   "outputs": [],
   "source": [
    "# Exclude AD cases - keep healthy controls only"
   ]
  },
  {
   "cell_type": "code",
   "execution_count": null,
   "id": "bdaacd5a-67f5-4fdb-a19d-53875f4320b2",
   "metadata": {},
   "outputs": [],
   "source": [
    "ad.obs[\"Sample\"].unique()"
   ]
  },
  {
   "cell_type": "code",
   "execution_count": null,
   "id": "8bbb1cd1-4211-451f-9f7b-ea325ce9e1a2",
   "metadata": {},
   "outputs": [],
   "source": [
    "pd.value_counts(ad.obs[\"Sample\"])"
   ]
  },
  {
   "cell_type": "code",
   "execution_count": null,
   "id": "de541f40-b47c-4b44-83bb-e9d47cfea829",
   "metadata": {},
   "outputs": [],
   "source": [
    "controls = ['C1', 'C2', 'C3', 'C4', 'C5', 'C7', 'C8', 'C9']"
   ]
  },
  {
   "cell_type": "code",
   "execution_count": null,
   "id": "f7a2ef9a-62be-4c1e-b3dd-98e397a13231",
   "metadata": {},
   "outputs": [],
   "source": [
    "ad = ad[ad.obs[\"Sample\"].isin(controls)]"
   ]
  },
  {
   "cell_type": "code",
   "execution_count": null,
   "id": "3826f9f3-edcc-4551-b391-baf7e6627352",
   "metadata": {},
   "outputs": [],
   "source": [
    "pd.value_counts(ad.obs[\"Cell_Type\"])"
   ]
  },
  {
   "cell_type": "code",
   "execution_count": null,
   "id": "52468fd8-3939-4d1c-ac5e-ef1fc4adc5ba",
   "metadata": {},
   "outputs": [],
   "source": [
    "pd.value_counts(ad.obs[\"Region\"])"
   ]
  },
  {
   "cell_type": "code",
   "execution_count": null,
   "id": "0d4d9143-742e-4bf3-b025-03bffbfbd349",
   "metadata": {},
   "outputs": [],
   "source": [
    "pd.value_counts(ad.obs[\"Sample_Region\"])"
   ]
  },
  {
   "cell_type": "code",
   "execution_count": null,
   "id": "3091c05a-4306-424d-8350-fdfee4a653a1",
   "metadata": {
    "tags": []
   },
   "outputs": [],
   "source": [
    "with rc_context({'figure.figsize': (9, 7)}):\n",
    "    sc.pl.umap(ad, color=['Cell_Type'])"
   ]
  },
  {
   "cell_type": "code",
   "execution_count": null,
   "id": "41aac806-e977-4ed8-8a15-dd498aded96c",
   "metadata": {},
   "outputs": [],
   "source": [
    "# Renaming\n",
    "old_to_new = {'Arterial':'ECs_Arterial',\n",
    "              'Astrocyte':'Astrocytes',\n",
    "              'Capillary':'ECs_Capillary',\n",
    "              'Ependymal':'Ependymal cells',\n",
    "              'M. Fibro':'Fibroblasts',\n",
    "              'Microglia/Mφ':'Microglia/Macrophages',\n",
    "              'Neuron':'Neurons',\n",
    "              'OPC':'OPCs',\n",
    "              'P. Fibro':'Fibroblasts',\n",
    "              'Pericyte':'Pericytes',\n",
    "              'SMC':'SMCs',\n",
    "              'T cell':'T cells',\n",
    "              'Veinous':'ECs_Venous',\n",
    "              'Oligo':'Oligos'}\n",
    "ad.obs['clusters2'] = (ad.obs['Cell_Type'].map(old_to_new).astype('category'))"
   ]
  },
  {
   "cell_type": "code",
   "execution_count": null,
   "id": "d514bc5e-5fa5-4549-aa56-90e060d76b40",
   "metadata": {},
   "outputs": [],
   "source": [
    "# Renaming\n",
    "old_to_new = {'ECs_Arterial':'ECs',\n",
    "              'Astrocytes':'Astrocytes',\n",
    "              'ECs_Capillary':'ECs',\n",
    "              'Ependymal cells':'Ependymal cells',\n",
    "              'Fibroblasts':'Fibroblasts',\n",
    "              'Microglia/Macrophages':'Microglia/Macrophages',\n",
    "              'Neurons':'Neurons',\n",
    "              'OPCs':'OPCs',\n",
    "              'Fibroblasts':'Fibroblasts',\n",
    "              'Pericytes':'Pericytes',\n",
    "              'SMCs':'SMCs',\n",
    "              'T cells':'T cells',\n",
    "              'ECs_Venous':'ECs',\n",
    "              'Oligos':'Oligos'}\n",
    "ad.obs['clusters'] = (ad.obs['clusters2'].map(old_to_new).astype('category'))"
   ]
  },
  {
   "cell_type": "code",
   "execution_count": null,
   "id": "62eceb45-2d35-4056-b5bb-cddca5abeb9b",
   "metadata": {},
   "outputs": [],
   "source": [
    "# Renaming\n",
    "# for judit DEA 01/2025\n",
    "\n",
    "old_to_new = {'Arterial':'EC',\n",
    "              'Astrocyte':'Astrocyte',\n",
    "              'Capillary':'EC',\n",
    "              'Ependymal':'Ependymal',\n",
    "              'M. Fibro':'M. Fibro',\n",
    "              'Microglia/Mφ':'Microglia/Mφ',\n",
    "              'Neuron':'Neuron',\n",
    "              'OPC':'OPC',\n",
    "              'P. Fibro':'P. Fibro',\n",
    "              'Pericyte':'Pericyte',\n",
    "              'SMC':'SMC',\n",
    "              'T cell':'T cell',\n",
    "              'Veinous':'EC',\n",
    "              'Oligo':'Oligo'}\n",
    "ad.obs['clusters_judit'] = (ad.obs['Cell_Type'].map(old_to_new).astype('category'))"
   ]
  },
  {
   "cell_type": "code",
   "execution_count": null,
   "id": "5d6d88f5-0fce-4202-884d-b2760fff60f3",
   "metadata": {
    "tags": []
   },
   "outputs": [],
   "source": [
    "with rc_context({'figure.figsize': (9, 7)}):\n",
    "    sc.pl.umap(ad, color=['clusters'])"
   ]
  },
  {
   "cell_type": "code",
   "execution_count": null,
   "id": "66cd25c4-a6ba-4c93-81c9-43cbbdec8f8c",
   "metadata": {
    "tags": []
   },
   "outputs": [],
   "source": [
    "with rc_context({'figure.figsize': (9, 7)}):\n",
    "    sc.pl.umap(ad, color=['clusters2'])"
   ]
  },
  {
   "cell_type": "code",
   "execution_count": null,
   "id": "50c8e206-c4db-4d93-93ff-6c96f120fdc4",
   "metadata": {
    "tags": []
   },
   "outputs": [],
   "source": [
    "with rc_context({'figure.figsize': (7, 7)}):\n",
    "    sc.pl.umap(ad, color=['clusters_judit'], legend_loc='on data', legend_fontoutline=2, legend_fontsize=12, legend_fontweight = \"normal\")"
   ]
  },
  {
   "cell_type": "code",
   "execution_count": null,
   "id": "f99348bb-e812-4622-befb-5a58a3cad66a",
   "metadata": {
    "tags": []
   },
   "outputs": [],
   "source": [
    "with rc_context({'figure.figsize': (7, 7)}):\n",
    "    sc.pl.umap(ad, color=['Region'])"
   ]
  },
  {
   "cell_type": "code",
   "execution_count": null,
   "id": "ffab9baf-8456-43fb-a9d7-73f5eff72522",
   "metadata": {
    "tags": []
   },
   "outputs": [],
   "source": [
    "pd.crosstab(ad.obs[\"clusters\"], ad.obs[\"Region\"])"
   ]
  },
  {
   "cell_type": "code",
   "execution_count": null,
   "id": "111c500a-0442-422d-9934-6e7bc9169c26",
   "metadata": {},
   "outputs": [],
   "source": [
    "adata=ad"
   ]
  },
  {
   "cell_type": "code",
   "execution_count": null,
   "id": "e4aa4f9b-a93b-45e2-8c2b-21c2e07e64e1",
   "metadata": {},
   "outputs": [],
   "source": [
    "del ad"
   ]
  },
  {
   "cell_type": "markdown",
   "id": "56bb2370-08a5-488a-9774-e60d152a3c07",
   "metadata": {},
   "source": [
    "# Standard pipeline"
   ]
  },
  {
   "cell_type": "markdown",
   "id": "100c2175-d278-4824-b025-cb51364e485f",
   "metadata": {},
   "source": [
    "Skip, because data is pre-analyzed."
   ]
  },
  {
   "cell_type": "markdown",
   "id": "99b17f7b-b098-4c4e-b97c-aed5d846e4a4",
   "metadata": {
    "tags": []
   },
   "source": [
    "Check if data is normalized:"
   ]
  },
  {
   "cell_type": "code",
   "execution_count": null,
   "id": "20d4bfd3-269f-4f0a-8a97-fcd25ed2f3b6",
   "metadata": {},
   "outputs": [],
   "source": [
    "adata.layers"
   ]
  },
  {
   "cell_type": "code",
   "execution_count": null,
   "id": "b0e95bee-9bca-49db-a0f4-8b68d77f540d",
   "metadata": {},
   "outputs": [],
   "source": [
    "adata.X"
   ]
  },
  {
   "cell_type": "code",
   "execution_count": null,
   "id": "e18533f0-d4fd-4593-baf5-3c363ced0429",
   "metadata": {
    "tags": []
   },
   "outputs": [],
   "source": [
    "sns.histplot(adata.X.sum(1), kde=False)\n",
    "plt.show()"
   ]
  },
  {
   "cell_type": "code",
   "execution_count": null,
   "id": "853c3fdf-12be-4fb8-8801-47798a0e122f",
   "metadata": {},
   "outputs": [],
   "source": [
    "# show expression of 100 random genes (across all spots)\n",
    "random_genes=random.sample(range(0, adata.X.shape[1]), 100)\n",
    "adata_sub = adata[:,random_genes]\n",
    "exp=pd.DataFrame(adata_sub.X.todense())\n",
    "# plot\n",
    "pl1=sns.displot(data=pd.melt(exp),x='value',height=4,hue='variable',kind=\"kde\",warn_singular=False,legend=False,palette=list(np.repeat('#086da6',100)), lw=0.3) # genes with 0 expression are excluded\n",
    "pl1.set(xlim=(-0.5, 7),ylim=(0,0.007));\n",
    "plt.show()"
   ]
  },
  {
   "cell_type": "code",
   "execution_count": null,
   "id": "304d0300-fd81-4379-b527-1773ad1e5480",
   "metadata": {},
   "outputs": [],
   "source": [
    "sns.set(rc={'figure.figsize':(4,4)})\n",
    "pl=sns.histplot(data=pd.melt(exp),x='value',binwidth=0.5,legend=True,palette=list(np.repeat('#086da6',100))) # genes with 0 expression are excluded\n",
    "pl.set(xlim=(0, 10));\n",
    "sns.set_style(\"ticks\")\n",
    "plt.show()"
   ]
  },
  {
   "cell_type": "markdown",
   "id": "b018f52e-d252-463e-bad3-533cddc03e88",
   "metadata": {},
   "source": [
    "Data is not normalized, therefore normalize and log-transform"
   ]
  },
  {
   "cell_type": "code",
   "execution_count": null,
   "id": "ec65b851-b117-4a58-95b0-ebd1d02ba6a0",
   "metadata": {},
   "outputs": [],
   "source": [
    "adata.layers[\"counts\"] = adata.X.copy() # save unnormalized raw RNA counts - retrieve via ad.X = ad.layers[\"counts\"]"
   ]
  },
  {
   "cell_type": "code",
   "execution_count": null,
   "id": "2990c363-de37-4940-b392-8c7adae3a0a5",
   "metadata": {},
   "outputs": [],
   "source": [
    "sc.pp.normalize_total(adata, inplace=True) # Normalize each spot by total counts over all genes, so that every spot has the same total count after normalization."
   ]
  },
  {
   "cell_type": "code",
   "execution_count": null,
   "id": "31d4a3b6-f4e7-46b3-a8ad-71867a95f220",
   "metadata": {},
   "outputs": [],
   "source": [
    "# show expression of 100 random genes (across all spots)\n",
    "adata_sub = adata[:,random_genes]\n",
    "exp=pd.DataFrame(adata_sub.X.todense())\n",
    "# plot\n",
    "pl=sns.displot(data=pd.melt(exp),x='value',height=4,hue='variable',kind=\"kde\",warn_singular=False,legend=False,palette=list(np.repeat('#086da6',100)), lw=0.3) # genes with 0 expression are excluded\n",
    "pl.set(xlim=(-0.25, 3.5),ylim=(0,0.005))\n",
    "plt.show()"
   ]
  },
  {
   "cell_type": "code",
   "execution_count": null,
   "id": "97ccd56c-b11a-4e59-9ce5-9237ec3ba79f",
   "metadata": {},
   "outputs": [],
   "source": [
    "pl=sns.histplot(data=pd.melt(exp),x='value',binwidth=0.5,legend=True,palette=list(np.repeat('#086da6',100))) # genes with 0 expression are excluded\n",
    "pl.set(xlim=(0, 10))\n",
    "plt.show()"
   ]
  },
  {
   "cell_type": "code",
   "execution_count": null,
   "id": "40b008f0-5226-447b-b6d1-5dd764383bcc",
   "metadata": {},
   "outputs": [],
   "source": [
    "sc.pp.log1p(adata) # X = log(X + 1)"
   ]
  },
  {
   "cell_type": "code",
   "execution_count": null,
   "id": "1d982117-39ac-4950-a822-b96c613de026",
   "metadata": {},
   "outputs": [],
   "source": [
    "# show expression of 100 random genes (across all spots)\n",
    "adata_sub = adata[:,random_genes]\n",
    "exp=pd.DataFrame(adata_sub.X.todense())\n",
    "# plot\n",
    "pl=sns.displot(data=pd.melt(exp),x='value',height=4,hue='variable',kind=\"kde\",warn_singular=False,legend=False,palette=list(np.repeat('#086da6',100)), lw=0.5) # genes with 0 expression are excluded\n",
    "pl.set(xlim=(-0.25, 3.5),ylim=(0,0.005));\n",
    "plt.show()"
   ]
  },
  {
   "cell_type": "code",
   "execution_count": null,
   "id": "ef14535e-a1a3-4d56-8224-609758d1d8b7",
   "metadata": {},
   "outputs": [],
   "source": [
    "pl=sns.histplot(data=pd.melt(exp),x='value',binwidth=0.5,legend=True,palette=list(np.repeat('#086da6',100))); # genes with 0 expression are excluded\n",
    "pl.set(xlim=(0, 10));\n",
    "plt.show()"
   ]
  },
  {
   "cell_type": "code",
   "execution_count": null,
   "id": "d81165d3-9949-4d8d-b1c5-4233200c9a26",
   "metadata": {
    "tags": []
   },
   "outputs": [],
   "source": [
    "sns.histplot(adata.X.sum(1), kde=False)\n",
    "plt.show()"
   ]
  },
  {
   "cell_type": "code",
   "execution_count": null,
   "id": "9de69815-55e1-4309-8a4a-da057f39111e",
   "metadata": {},
   "outputs": [],
   "source": [
    "adata.layers[\"normalized\"] = adata.X.copy() # save normalized + log-transformed (but unscaled) counts - retrieve via adata.X = adata.layers[\"normalized\"]"
   ]
  },
  {
   "cell_type": "code",
   "execution_count": null,
   "id": "ce939760-9db8-4f1f-ab92-df44fe9b72d2",
   "metadata": {},
   "outputs": [],
   "source": [
    "# Identify highly-variable genes\n",
    "sc.pp.highly_variable_genes(adata)\n",
    "sc.pl.highly_variable_genes(adata)"
   ]
  },
  {
   "cell_type": "code",
   "execution_count": null,
   "id": "17fcfa22-a8a2-48d8-a2a1-386ca899b92e",
   "metadata": {},
   "outputs": [],
   "source": [
    "adata"
   ]
  },
  {
   "cell_type": "code",
   "execution_count": null,
   "id": "bbf61547-4254-4613-a2c9-6f2827065ef8",
   "metadata": {},
   "outputs": [],
   "source": [
    "adata.layers"
   ]
  },
  {
   "cell_type": "code",
   "execution_count": null,
   "id": "37b991d6-31fc-4de5-a9f1-b3649190d1b8",
   "metadata": {},
   "outputs": [],
   "source": [
    "# Basic QC metrics\n",
    "adata.var['mt'] = adata.var_names.str.startswith('MT-') \n",
    "sc.pp.calculate_qc_metrics(adata, qc_vars=['mt'], percent_top=None, log1p=False, inplace=True)\n",
    "sc.pl.violin(adata, ['n_genes_by_counts', 'total_counts', 'pct_counts_mt'],jitter=0.4, multi_panel=True)"
   ]
  },
  {
   "cell_type": "markdown",
   "id": "9656a0f7-2f69-471b-a64f-819cb8ea9e91",
   "metadata": {
    "tags": []
   },
   "source": [
    "# General marker genes"
   ]
  },
  {
   "cell_type": "markdown",
   "id": "d96471e3-8d1e-4a8f-b63d-62fd759baec4",
   "metadata": {},
   "source": [
    "For Judit 01/2025"
   ]
  },
  {
   "cell_type": "code",
   "execution_count": null,
   "id": "1aa21958-d7ca-40ac-903a-9b26ab151d4f",
   "metadata": {},
   "outputs": [],
   "source": [
    "sc.tl.rank_genes_groups(adata, 'clusters_judit', method='wilcoxon', key_added='clusters_judit')"
   ]
  },
  {
   "cell_type": "code",
   "execution_count": null,
   "id": "066513af-b7fa-4ffb-9dd8-3662bdbfaf3e",
   "metadata": {},
   "outputs": [],
   "source": [
    "sc.pl.rank_genes_groups(adata, n_genes=20, sharey=False, key='clusters_judit')"
   ]
  },
  {
   "cell_type": "markdown",
   "id": "c0a97954-be42-4a5e-8185-c6cc50cf2f79",
   "metadata": {},
   "source": [
    "Export DEG table"
   ]
  },
  {
   "cell_type": "code",
   "execution_count": null,
   "id": "0f7ce0d2-0c6e-4879-9e5f-a249c7455dd3",
   "metadata": {},
   "outputs": [],
   "source": [
    "sc.tl.rank_genes_groups(adata, 'clusters_judit', method='wilcoxon')"
   ]
  },
  {
   "cell_type": "code",
   "execution_count": null,
   "id": "c931f887-9ea4-4aca-a2c6-788e4578f16d",
   "metadata": {},
   "outputs": [],
   "source": [
    "adata.uns['rank_genes_groups'].keys()"
   ]
  },
  {
   "cell_type": "code",
   "execution_count": null,
   "id": "66b14ee8-3830-4e2f-a6b4-f921abf87b0c",
   "metadata": {},
   "outputs": [],
   "source": [
    "sc.get.rank_genes_groups_df(adata=adata, group=group)"
   ]
  },
  {
   "cell_type": "code",
   "execution_count": null,
   "id": "2a47a265-a68c-4699-a902-fb3eda8b98d2",
   "metadata": {},
   "outputs": [],
   "source": [
    "# export DEG table\n",
    "celltypes = adata.obs.clusters_judit.unique().tolist()\n",
    "merged_df = pd.DataFrame()\n",
    "for group in celltypes:\n",
    "    rank_df = sc.get.rank_genes_groups_df(adata=adata, group=group)\n",
    "    rank_df[\"cell_type\"] = group\n",
    "    merged_df = pd.concat([merged_df, rank_df])\n",
    "merged_df['reference'] = 'all_other_clusters'\n",
    "merged_df = merged_df.rename(columns={'names': 'gene', 'logfoldchanges':'logFC', 'scores':'score', 'pvals':'pval', 'pvals_adj':'FDR'})\n",
    "merged_df = merged_df[['gene', 'cell_type', 'logFC', 'score', 'pval', 'FDR', 'reference']]\n",
    "merged_df.head(3)"
   ]
  },
  {
   "cell_type": "code",
   "execution_count": null,
   "id": "f118bfd8-4c28-4d1d-af1c-1ec058732ccb",
   "metadata": {},
   "outputs": [],
   "source": [
    "# export\n",
    "with pd.ExcelWriter(os.path.join(main_dir, \"P06_Foxf2_per_celltype\", \"DEA\", f\"{date.today().strftime('%Y%m%d')}_cell_type_markers_Yang2022.xlsx\")) as writer:\n",
    "    merged_df.to_excel(writer, index=False)"
   ]
  },
  {
   "cell_type": "markdown",
   "id": "ce478e12-4d99-4024-b34a-b41df6a83ceb",
   "metadata": {
    "tags": []
   },
   "source": [
    "# Vascular marker genes"
   ]
  },
  {
   "cell_type": "code",
   "execution_count": null,
   "id": "3beb65d0-3038-434b-bf49-cda87e14d679",
   "metadata": {},
   "outputs": [],
   "source": [
    "sc.tl.rank_genes_groups(adata, 'clusters', method='wilcoxon', key_added='clusters')"
   ]
  },
  {
   "cell_type": "code",
   "execution_count": null,
   "id": "ecb37268-b13f-44f4-b25a-03fb146f516b",
   "metadata": {},
   "outputs": [],
   "source": [
    "sc.pl.rank_genes_groups(adata, n_genes=20, sharey=False, key='clusters')"
   ]
  },
  {
   "cell_type": "markdown",
   "id": "0e5d9ee3-090e-4883-b8e4-78d3443a5e40",
   "metadata": {},
   "source": [
    "Export DEG table"
   ]
  },
  {
   "cell_type": "code",
   "execution_count": null,
   "id": "587058ae-e711-47c9-ad2b-c3c63510cdc5",
   "metadata": {},
   "outputs": [],
   "source": [
    "sc.tl.rank_genes_groups(adata, 'clusters', method='wilcoxon')"
   ]
  },
  {
   "cell_type": "code",
   "execution_count": null,
   "id": "238e7da8-5ae9-4c65-b2e3-448b5937a710",
   "metadata": {},
   "outputs": [],
   "source": [
    "# export DEG table\n",
    "celltypes = adata.obs.clusters.unique().tolist()\n",
    "merged_df = pd.DataFrame()\n",
    "for group in celltypes:\n",
    "    rank_df = rank_genes_groups_df(adata=adata, group=group, adj_pval_cutoff=None, log2fc_cutoff=None, sortby='zscore')\n",
    "    merged_df = pd.concat([merged_df, rank_df])\n",
    "    merged_df['reference'] = 'all other clusters'\n",
    "merged_df.head(3)"
   ]
  },
  {
   "cell_type": "code",
   "execution_count": null,
   "id": "1be491d6-0f84-4972-b15f-0072e7c6849e",
   "metadata": {},
   "outputs": [],
   "source": [
    "merged_df.group.unique().tolist()"
   ]
  },
  {
   "cell_type": "code",
   "execution_count": null,
   "id": "1cadffa6-cc32-4ddd-a6a4-2fa7a2f76671",
   "metadata": {},
   "outputs": [],
   "source": [
    "# export as csv\n",
    "merged_df.to_csv(main_dir+'\\\\P6_Foxf2_per_celltype\\\\DEA\\\\'+ date.today().strftime(\"%Y%m%d\")+'_DE_genes_Yang2022.csv',sep=';')"
   ]
  },
  {
   "cell_type": "code",
   "execution_count": null,
   "id": "e490dbab-12e4-4e38-b6a8-ac234c0267b8",
   "metadata": {},
   "outputs": [],
   "source": [
    "sc.tl.rank_genes_groups(adata, 'clusters2', method='wilcoxon', key_added='clusters2')"
   ]
  },
  {
   "cell_type": "code",
   "execution_count": null,
   "id": "bc24ca25-8b55-4c4c-af45-d9eb31a84bb4",
   "metadata": {},
   "outputs": [],
   "source": [
    "sc.pl.rank_genes_groups(adata, n_genes=20, sharey=False, key='clusters2')"
   ]
  },
  {
   "cell_type": "markdown",
   "id": "c4d5a292-5f32-44c0-8e78-caa60f549467",
   "metadata": {},
   "source": [
    "Export DEG table"
   ]
  },
  {
   "cell_type": "code",
   "execution_count": null,
   "id": "6efa70bc-af72-4dd9-8c8f-2869fdb66556",
   "metadata": {},
   "outputs": [],
   "source": [
    "sc.tl.rank_genes_groups(adata, 'clusters2', method='wilcoxon')"
   ]
  },
  {
   "cell_type": "code",
   "execution_count": null,
   "id": "72c2437b-5133-4c53-bbd5-d41859396efe",
   "metadata": {},
   "outputs": [],
   "source": [
    "celltypes = adata.obs.clusters2.unique().tolist()\n",
    "merged_df = pd.DataFrame()\n",
    "for group in celltypes:\n",
    "    rank_df = rank_genes_groups_df(adata=adata, group=group, adj_pval_cutoff=None, log2fc_cutoff=None, sortby='zscore')\n",
    "    merged_df = pd.concat([merged_df, rank_df])\n",
    "    merged_df['reference'] = 'all other clusters'\n",
    "merged_df.head(3)"
   ]
  },
  {
   "cell_type": "code",
   "execution_count": null,
   "id": "e3e0161e-8a41-4f61-981f-702f74ae5d17",
   "metadata": {},
   "outputs": [],
   "source": [
    "merged_df.group.unique().tolist()"
   ]
  },
  {
   "cell_type": "code",
   "execution_count": null,
   "id": "49371ddf-b3c1-4770-af10-d5db6054ef44",
   "metadata": {},
   "outputs": [],
   "source": [
    "# export as csv\n",
    "merged_df.to_csv(main_dir+'\\\\P6_Foxf2_per_celltype\\\\DEA\\\\'+ date.today().strftime(\"%Y%m%d\")+'_DE_genes_Yang2022_incl_zonation.csv',sep=';')"
   ]
  },
  {
   "cell_type": "markdown",
   "id": "215d9fc0-283f-49eb-bc91-f09d88c65648",
   "metadata": {
    "tags": []
   },
   "source": [
    "# Focus on: Foxf2"
   ]
  },
  {
   "cell_type": "code",
   "execution_count": null,
   "id": "c6e0a5de-e1ae-43a6-8788-0444dc637504",
   "metadata": {},
   "outputs": [],
   "source": [
    "gene=\"FOXF2\""
   ]
  },
  {
   "cell_type": "markdown",
   "id": "4e7b4a2a-43bd-403b-8047-b52961c48fd7",
   "metadata": {},
   "source": [
    "## Plot"
   ]
  },
  {
   "cell_type": "code",
   "execution_count": null,
   "id": "d50bc8a2-5d9b-4479-966b-5ae3ffefa706",
   "metadata": {},
   "outputs": [],
   "source": [
    "sc.pl.matrixplot(adata, [gene], groupby='clusters', swap_axes=False, figsize=(2,5), standard_scale=\"var\", layer=\"normalized\")"
   ]
  },
  {
   "cell_type": "code",
   "execution_count": null,
   "id": "b10096c8-ed64-47a2-a713-ef3ddc9f4056",
   "metadata": {},
   "outputs": [],
   "source": [
    "sc.pl.matrixplot(adata, [gene], groupby='clusters2', swap_axes=False, figsize=(2,5), standard_scale=\"var\", layer=\"normalized\")"
   ]
  },
  {
   "cell_type": "code",
   "execution_count": null,
   "id": "3070ed04-c323-412b-8db4-2a94ac0ab4c6",
   "metadata": {},
   "outputs": [],
   "source": [
    "sc.pl.dotplot(adata, [gene], groupby='clusters', swap_axes=False, figsize=(2,5), standard_scale=\"var\", layer=\"normalized\")"
   ]
  },
  {
   "cell_type": "code",
   "execution_count": null,
   "id": "6142e508-d2b5-47e4-92e5-55e3fd9ad9d9",
   "metadata": {},
   "outputs": [],
   "source": [
    "sc.pl.dotplot(adata, [gene], groupby='clusters2', swap_axes=False, figsize=(2,5), standard_scale=\"var\", layer=\"normalized\")"
   ]
  },
  {
   "cell_type": "markdown",
   "id": "75448c3e-1b6c-4e43-bc80-b7c73a378e19",
   "metadata": {},
   "source": [
    "## Excl zonation"
   ]
  },
  {
   "cell_type": "code",
   "execution_count": null,
   "id": "f2097802-75ef-4bcd-a018-6ad24fe4315c",
   "metadata": {},
   "outputs": [],
   "source": [
    "utils.summarize_gene_expression(adata = adata, groupby = \"clusters\", layer = \"normalized\", gene = gene,\n",
    "                                study_name = dataset_name, organism = organism,\n",
    "                                export = True, output_dir = os.path.join(main_dir, 'P06_Foxf2_per_celltype', 'Foxf2_summarized')\n",
    "                               )"
   ]
  },
  {
   "cell_type": "markdown",
   "id": "375353f5-94b3-47d6-b1bd-b7fd83839df5",
   "metadata": {},
   "source": [
    "## Incl zonation"
   ]
  },
  {
   "cell_type": "code",
   "execution_count": null,
   "id": "dbeb3511-18a2-4054-bbae-3db6f8ba1a7b",
   "metadata": {},
   "outputs": [],
   "source": [
    "utils.summarize_gene_expression(adata = adata, groupby = \"clusters2\", layer = \"normalized\", gene = gene,\n",
    "                                study_name = dataset_name, organism = organism,\n",
    "                                export = True, output_dir = os.path.join(main_dir, 'P06_Foxf2_per_celltype', 'Foxf2_summarized', 'incl_zonation')\n",
    "                               )"
   ]
  },
  {
   "cell_type": "markdown",
   "id": "93f5b90b-6ba9-4902-bf52-81edb8fc1d0f",
   "metadata": {},
   "source": [
    "# Focus on: Other genes"
   ]
  },
  {
   "cell_type": "code",
   "execution_count": null,
   "id": "75a54e50-372a-456e-91f4-741d94271cd4",
   "metadata": {},
   "outputs": [],
   "source": [
    "target_genes = [\"Foxo1\", \"Tek\", \"Nos3\", \"Htra1\", \"Egfl8\", \"Flt1\", \"Kdr\", \"Nrp1\", \"Nrp2\", \"Efnb2\", \"Itgb1\", \"Itga6\", \"Angpt2\", \"Cdh5\", \"Cldn5\", \"Ocln\", \"Ctnnb1\"]\n",
    "target_genes = [gene.upper() for gene in target_genes]\n",
    "target_genes"
   ]
  },
  {
   "cell_type": "markdown",
   "id": "4d399ffd-390d-4f98-9443-ff349ed92e57",
   "metadata": {},
   "source": [
    "### Excl zonation"
   ]
  },
  {
   "cell_type": "code",
   "execution_count": null,
   "id": "76a96b9a-b1cb-4da1-b022-7459f918bf69",
   "metadata": {},
   "outputs": [],
   "source": [
    "groupby = \"clusters\""
   ]
  },
  {
   "cell_type": "code",
   "execution_count": null,
   "id": "35899976-b1b9-400f-a8ac-8fc70065564a",
   "metadata": {},
   "outputs": [],
   "source": [
    "other_genes_results = {\n",
    "    gene: utils.summarize_gene_expression(adata, gene, study_name = dataset_name, organism = organism, groupby = groupby, \n",
    "                                          output_dir=os.path.join(main_dir, \"P06_Foxf2_per_celltype\", \"Other_genes_summarized\"), export=True\n",
    "                                         ) for gene in target_genes\n",
    "}"
   ]
  },
  {
   "cell_type": "code",
   "execution_count": null,
   "id": "9a943a7b-15a9-45a3-8fe4-e39361c03bd3",
   "metadata": {},
   "outputs": [],
   "source": [
    "# some plots"
   ]
  },
  {
   "cell_type": "code",
   "execution_count": null,
   "id": "d4d3f9ef-826e-4444-a8bf-491e01b359a3",
   "metadata": {
    "tags": []
   },
   "outputs": [],
   "source": [
    "sc.pl.matrixplot(adata, [target_genes[0]], groupby=groupby, swap_axes=False, figsize=(2,5), standard_scale=\"var\", layer=\"normalized\")"
   ]
  },
  {
   "cell_type": "code",
   "execution_count": null,
   "id": "527402fb-78c7-4de5-b8c2-929478227e2f",
   "metadata": {},
   "outputs": [],
   "source": [
    "sc.pl.dotplot(adata, [target_genes[0]], groupby=groupby, swap_axes=False, figsize=(2,5), standard_scale=\"var\", layer=\"normalized\")"
   ]
  },
  {
   "cell_type": "code",
   "execution_count": null,
   "id": "a4a23cd2-bc3b-4698-bfb4-d905c4617553",
   "metadata": {},
   "outputs": [],
   "source": [
    "sc.pl.matrixplot(adata, [target_genes[1]], groupby=groupby, swap_axes=False, figsize=(2,5), standard_scale=\"var\", layer=\"normalized\")"
   ]
  },
  {
   "cell_type": "code",
   "execution_count": null,
   "id": "c20ef6a5-ccdc-4973-a78c-bbf1e2803635",
   "metadata": {},
   "outputs": [],
   "source": [
    "sc.pl.dotplot(adata, [target_genes[1]], groupby=groupby, swap_axes=False, figsize=(2,5), standard_scale=\"var\", layer=\"normalized\")"
   ]
  },
  {
   "cell_type": "markdown",
   "id": "383bf298-0a33-4632-9ab9-d137a5c91096",
   "metadata": {
    "tags": []
   },
   "source": [
    "### Incl zonation"
   ]
  },
  {
   "cell_type": "code",
   "execution_count": null,
   "id": "083e0648-9e50-4f0a-82df-c2a58a79e7b7",
   "metadata": {},
   "outputs": [],
   "source": [
    "groupby = \"clusters2\""
   ]
  },
  {
   "cell_type": "code",
   "execution_count": null,
   "id": "aee12d60-721d-4cdb-a64c-0522fb770424",
   "metadata": {},
   "outputs": [],
   "source": [
    "other_genes_results = {\n",
    "    gene: utils.summarize_gene_expression(adata, gene, study_name = dataset_name, organism = organism, groupby = groupby, \n",
    "                                          output_dir=os.path.join(main_dir, \"P06_Foxf2_per_celltype\", \"Other_genes_summarized\", \"incl_zonation\"), export=True\n",
    "                                         ) for gene in target_genes\n",
    "}"
   ]
  },
  {
   "cell_type": "code",
   "execution_count": null,
   "id": "ee8be923-3f17-420f-bad7-cc82bb459a36",
   "metadata": {},
   "outputs": [],
   "source": [
    "# some plots"
   ]
  },
  {
   "cell_type": "code",
   "execution_count": null,
   "id": "6bb1889a-b702-46ea-84ff-cc1badc839a1",
   "metadata": {
    "tags": []
   },
   "outputs": [],
   "source": [
    "sc.pl.matrixplot(adata, [target_genes[0]], groupby=groupby, swap_axes=False, figsize=(2,5), standard_scale=\"var\", layer=\"normalized\")"
   ]
  },
  {
   "cell_type": "code",
   "execution_count": null,
   "id": "9d040e65-38ed-49ef-8e86-b1496e6037f5",
   "metadata": {},
   "outputs": [],
   "source": [
    "sc.pl.dotplot(adata, [target_genes[0]], groupby=groupby, swap_axes=False, figsize=(2,5), standard_scale=\"var\", layer=\"normalized\")"
   ]
  },
  {
   "cell_type": "code",
   "execution_count": null,
   "id": "21f5f062-52b3-4d24-99f4-a1abf0b8c62f",
   "metadata": {},
   "outputs": [],
   "source": [
    "sc.pl.matrixplot(adata, [target_genes[1]], groupby=groupby, swap_axes=False, figsize=(2,5), standard_scale=\"var\", layer=\"normalized\")"
   ]
  },
  {
   "cell_type": "code",
   "execution_count": null,
   "id": "84b082f0-d08f-4365-86a3-cad7d9c5cde7",
   "metadata": {},
   "outputs": [],
   "source": [
    "sc.pl.dotplot(adata, [target_genes[1]], groupby=groupby, swap_axes=False, figsize=(2,5), standard_scale=\"var\", layer=\"normalized\")"
   ]
  },
  {
   "cell_type": "markdown",
   "id": "ea365e2c-b580-4d9b-881b-3428976896ff",
   "metadata": {},
   "source": [
    "# Focus on: Tspo (for Herms lab)"
   ]
  },
  {
   "cell_type": "code",
   "execution_count": null,
   "id": "6c294308-2f7c-4a77-bdef-3beeda77b1ef",
   "metadata": {},
   "outputs": [],
   "source": [
    "# for Herms lab 02/2025"
   ]
  },
  {
   "cell_type": "code",
   "execution_count": null,
   "id": "665be078-8f46-41fa-9eea-375228ac6408",
   "metadata": {},
   "outputs": [],
   "source": [
    "gene=\"TSPO\""
   ]
  },
  {
   "cell_type": "code",
   "execution_count": null,
   "id": "6ca71379-172b-4ac6-bec7-0088a3e28fa7",
   "metadata": {},
   "outputs": [],
   "source": [
    "sc.pl.matrixplot(adata, [gene], groupby='clusters', swap_axes=False, figsize=(2,5), standard_scale=\"var\")"
   ]
  },
  {
   "cell_type": "code",
   "execution_count": null,
   "id": "c2fa0684-1580-469c-9ba9-91f6903b38e0",
   "metadata": {},
   "outputs": [],
   "source": [
    "sc.pl.dotplot(adata, [gene], groupby='clusters', swap_axes=False, figsize=(2,5), standard_scale=\"var\")"
   ]
  },
  {
   "cell_type": "code",
   "execution_count": null,
   "id": "2e17f673-1b4d-46d5-a3b2-dd64c09bf55f",
   "metadata": {},
   "outputs": [],
   "source": [
    "summarize_gene_expression(adata = adata, layer=\"normalized\", gene = gene,\n",
    "                          study_name = dataset_name, organism = organism,\n",
    "                          export = True, output_dir = os.path.join(main_dir, 'P06_Foxf2_per_celltype', \"202502-Tspo-HermsLab\", \"Genes_summarized\")\n",
    "                          )"
   ]
  },
  {
   "cell_type": "code",
   "execution_count": null,
   "id": "77b8331c-5667-40b4-874d-9e0458988f4e",
   "metadata": {},
   "outputs": [],
   "source": [
    "# mt genes\n",
    "mt_genes = [gene for gene in adata.var_names if gene.startswith(\"MT-\")]\n",
    "mt_genes"
   ]
  },
  {
   "cell_type": "code",
   "execution_count": null,
   "id": "7db94534-b8ce-4948-ac2f-938896984775",
   "metadata": {},
   "outputs": [],
   "source": [
    "mt_results = {\n",
    "    gene: summarize_gene_expression(adata = adata, layer=\"normalized\", gene = gene, study_name = dataset_name, organism = organism, \n",
    "                                    output_dir=os.path.join(main_dir, \"P06_Foxf2_per_celltype\", \"202502-Tspo-HermsLab\", \"Genes_summarized\"), export=True\n",
    "                                   ) for gene in mt_genes\n",
    "}"
   ]
  },
  {
   "cell_type": "markdown",
   "id": "a734deea-2538-4ac8-9d1e-2427780f816a",
   "metadata": {},
   "source": [
    "# Correlate gene expression (Foxf2 and Foxo1)"
   ]
  },
  {
   "cell_type": "markdown",
   "id": "c5d7972c-63ad-4d3a-b389-c505af88834d",
   "metadata": {},
   "source": [
    "Using MAGIC denoising"
   ]
  },
  {
   "cell_type": "code",
   "execution_count": null,
   "id": "cf231632-1014-4102-9db9-2522bdd15fcc",
   "metadata": {
    "tags": []
   },
   "outputs": [],
   "source": [
    "import magic\n",
    "import scprep"
   ]
  },
  {
   "cell_type": "code",
   "execution_count": null,
   "id": "1e624d61-9710-4344-8528-cc6989f23f43",
   "metadata": {
    "tags": []
   },
   "outputs": [],
   "source": [
    "#sc.pp.scale(adata)"
   ]
  },
  {
   "cell_type": "markdown",
   "id": "56f4ecc8-77fb-4570-be12-a0cb3286e1f2",
   "metadata": {},
   "source": [
    "## ECs"
   ]
  },
  {
   "cell_type": "code",
   "execution_count": null,
   "id": "11763b07-257b-44a3-b58b-642c207fefda",
   "metadata": {
    "tags": []
   },
   "outputs": [],
   "source": [
    "gg = [\"FOXF2\",\"FOXO1\",\"NOS3\"]"
   ]
  },
  {
   "cell_type": "code",
   "execution_count": null,
   "id": "c62753bc-e5a0-452f-abb6-ca825ca6b011",
   "metadata": {
    "tags": []
   },
   "outputs": [],
   "source": [
    "adata_EC = adata[adata.obs.clusters == \"ECs\"]"
   ]
  },
  {
   "cell_type": "code",
   "execution_count": null,
   "id": "e2d991f8-2e97-4a05-9779-3cc298b179a5",
   "metadata": {
    "tags": []
   },
   "outputs": [],
   "source": [
    "adata_EC"
   ]
  },
  {
   "cell_type": "code",
   "execution_count": null,
   "id": "e3fb0c72-a3b1-46c7-ba8b-eb2b2fe84064",
   "metadata": {
    "tags": []
   },
   "outputs": [],
   "source": [
    "adata_EC.layers"
   ]
  },
  {
   "cell_type": "code",
   "execution_count": null,
   "id": "68b16061-9869-4e95-b0ee-f0c068df1b3a",
   "metadata": {
    "tags": []
   },
   "outputs": [],
   "source": [
    "#matrix = pd.DataFrame(adata_EC.X) # not compatible with sparse \n",
    "matrix = adata_EC.X\n",
    "matrix.columns = adata_EC.var.index.tolist()"
   ]
  },
  {
   "cell_type": "code",
   "execution_count": null,
   "id": "038b0aa5-26f0-4ab6-aa32-eaf407eef5ae",
   "metadata": {
    "tags": []
   },
   "outputs": [],
   "source": [
    "cutoff_var = None"
   ]
  },
  {
   "cell_type": "code",
   "execution_count": null,
   "id": "4a7e167c-94e8-4e49-99e7-918a2521a9ca",
   "metadata": {
    "tags": []
   },
   "outputs": [],
   "source": [
    "scprep.plot.plot_library_size(matrix, cutoff=cutoff_var)"
   ]
  },
  {
   "cell_type": "code",
   "execution_count": null,
   "id": "3d691600-df36-4f73-8234-dec2c5c14fc0",
   "metadata": {
    "tags": []
   },
   "outputs": [],
   "source": [
    "# filter lowly expressed genes and cells with a small library size\n",
    "#matrix = scprep.filter.filter_library_size(matrix, cutoff=cutoff_var)\n",
    "#matrix.head()"
   ]
  },
  {
   "cell_type": "markdown",
   "id": "4a196f80-ef00-4dec-8ed5-3288a86a98a6",
   "metadata": {},
   "source": [
    "Note: Skipped normalization as data is already log-normalized"
   ]
  },
  {
   "cell_type": "code",
   "execution_count": null,
   "id": "b1402459-e527-43fc-b4d5-a93f0030ad91",
   "metadata": {
    "tags": []
   },
   "outputs": [],
   "source": [
    "adata_EC.layers"
   ]
  },
  {
   "cell_type": "markdown",
   "id": "22cc6148-dc80-44e4-9ff8-927ebe98fe23",
   "metadata": {},
   "source": [
    "### Creating the MAGIC operator\n",
    "If you don't specify parameters, MAGIC creates an operator with the following default values: knn=5, knn_max = 3 * knn, decay=1, t=3."
   ]
  },
  {
   "cell_type": "code",
   "execution_count": null,
   "id": "95748db7-0fc8-4d83-8d3e-428a70c2cea0",
   "metadata": {
    "tags": []
   },
   "outputs": [],
   "source": [
    "magic_op = magic.MAGIC()"
   ]
  },
  {
   "cell_type": "markdown",
   "id": "bbe13962-84e8-4a81-96b2-ce5d6d27cd83",
   "metadata": {},
   "source": [
    "### Running MAGIC with gene selection\n",
    "The magic_op.fit_transform function takes the normalized data and an array of selected genes as its arguments. If no genes are provided, MAGIC will return a matrix of all genes. The same can be achieved by substituting the array of gene names with genes='all_genes'."
   ]
  },
  {
   "cell_type": "code",
   "execution_count": null,
   "id": "ad0c4058-f569-41e6-9f61-abdbb77bdc36",
   "metadata": {
    "tags": []
   },
   "outputs": [],
   "source": [
    "%%time\n",
    "emt_magic = magic_op.fit_transform(adata_EC, genes=gg)"
   ]
  },
  {
   "cell_type": "markdown",
   "id": "d9d776b5-5590-470f-b0ad-b4db822528a0",
   "metadata": {},
   "source": [
    "### Visualizing gene-gene relationships\n",
    "\n",
    "We can see gene-gene relationships much more clearly after applying MAGIC. Note that the change in absolute values of gene expression is not meaningful - the relative difference is all that matters."
   ]
  },
  {
   "cell_type": "code",
   "execution_count": null,
   "id": "2998c474-fc6a-45e3-bb96-0d598e1de11e",
   "metadata": {
    "tags": []
   },
   "outputs": [],
   "source": [
    "np.corrcoef(emt_magic[:,['FOXF2','FOXO1']].X, rowvar = False)[0][1]"
   ]
  },
  {
   "cell_type": "code",
   "execution_count": null,
   "id": "359db8b0-684f-4c69-a3d4-b5b68b2ad8cd",
   "metadata": {
    "tags": []
   },
   "outputs": [],
   "source": [
    "fig, (ax1, ax2) = plt.subplots(1,2, figsize=(16, 6))\n",
    "scprep.plot.scatter(x=adata_EC[:,'FOXF2'].X.todense(), y=adata_EC[:,'FOXO1'].X.todense(), c=adata_EC[:,'NOS3'].X.todense(), ax = ax1,\n",
    "                    xlabel='FOXF2', ylabel='FOXO1', legend_title=\"NOS3\", title='Before MAGIC')\n",
    "scprep.plot.scatter(x=emt_magic[:,'FOXF2'].X, y=emt_magic[:,'FOXO1'].X, c=emt_magic[:,'NOS3'].X, ax=ax2,\n",
    "                    xlabel='FOXF2', ylabel='FOXO1', legend_title=\"NOS3\", title='After MAGIC')\n",
    "plt.axline((0,0), slope=1, color=\"black\", alpha=0.3, linestyle=\"--\")\n",
    "plt.tight_layout()\n",
    "plt.show()"
   ]
  },
  {
   "cell_type": "markdown",
   "id": "53691caf-fcd3-4316-b7a1-5cbae134c645",
   "metadata": {},
   "source": [
    "## PCs"
   ]
  },
  {
   "cell_type": "code",
   "execution_count": null,
   "id": "e58ef9af-7eaa-4c05-aa03-af9570e2f7ad",
   "metadata": {
    "tags": []
   },
   "outputs": [],
   "source": [
    "gg = [\"FOXF2\",\"FOXO1\",\"NOS3\"]"
   ]
  },
  {
   "cell_type": "code",
   "execution_count": null,
   "id": "e0ac34ac-e88f-4f45-91ce-9257ce7dd61d",
   "metadata": {
    "tags": []
   },
   "outputs": [],
   "source": [
    "adata_EC = adata[adata.obs.clusters == \"Pericytes\"]"
   ]
  },
  {
   "cell_type": "code",
   "execution_count": null,
   "id": "10908c88-49f4-4eae-870e-694919eeb051",
   "metadata": {
    "tags": []
   },
   "outputs": [],
   "source": [
    "adata_EC"
   ]
  },
  {
   "cell_type": "code",
   "execution_count": null,
   "id": "8217cc9d-4fee-4ad7-ad29-fade725f0453",
   "metadata": {
    "tags": []
   },
   "outputs": [],
   "source": [
    "adata_EC.layers"
   ]
  },
  {
   "cell_type": "code",
   "execution_count": null,
   "id": "1ab8d8ce-4922-4bcf-a1fd-105f079cf9fc",
   "metadata": {
    "tags": []
   },
   "outputs": [],
   "source": [
    "#matrix = pd.DataFrame(adata_EC.X) # not compatible with sparse \n",
    "matrix = adata_EC.X\n",
    "matrix.columns = adata_EC.var.index.tolist()"
   ]
  },
  {
   "cell_type": "code",
   "execution_count": null,
   "id": "8c03afcc-448b-4975-84d6-e7626d33bb11",
   "metadata": {
    "tags": []
   },
   "outputs": [],
   "source": [
    "cutoff_var = None"
   ]
  },
  {
   "cell_type": "code",
   "execution_count": null,
   "id": "ae1f6b19-a15b-4eb4-b9f6-6f7c17448e83",
   "metadata": {
    "tags": []
   },
   "outputs": [],
   "source": [
    "scprep.plot.plot_library_size(matrix, cutoff=cutoff_var)"
   ]
  },
  {
   "cell_type": "code",
   "execution_count": null,
   "id": "fbe536eb-fd17-4f69-92e1-abfd51e2adf5",
   "metadata": {
    "tags": []
   },
   "outputs": [],
   "source": [
    "# filter lowly expressed genes and cells with a small library size\n",
    "#matrix = scprep.filter.filter_library_size(matrix, cutoff=cutoff_var)\n",
    "#matrix.head()"
   ]
  },
  {
   "cell_type": "markdown",
   "id": "3e776272-74cd-49f9-87d9-d140aa41a77a",
   "metadata": {},
   "source": [
    "Note: Skipped normalization as data is already log-normalized"
   ]
  },
  {
   "cell_type": "code",
   "execution_count": null,
   "id": "a0821621-1c71-4870-8d11-d18695255ada",
   "metadata": {
    "tags": []
   },
   "outputs": [],
   "source": [
    "adata_EC.layers"
   ]
  },
  {
   "cell_type": "markdown",
   "id": "2ced2809-da64-417c-958e-5fc8e86bf1bc",
   "metadata": {},
   "source": [
    "### Creating the MAGIC operator\n",
    "If you don't specify parameters, MAGIC creates an operator with the following default values: knn=5, knn_max = 3 * knn, decay=1, t=3."
   ]
  },
  {
   "cell_type": "code",
   "execution_count": null,
   "id": "f4cc1580-4564-4a46-9350-5aac1da05616",
   "metadata": {
    "tags": []
   },
   "outputs": [],
   "source": [
    "magic_op = magic.MAGIC()"
   ]
  },
  {
   "cell_type": "markdown",
   "id": "9bd4ac3f-9e7e-4f6d-85bd-ac93bf03419a",
   "metadata": {},
   "source": [
    "### Running MAGIC with gene selection\n",
    "The magic_op.fit_transform function takes the normalized data and an array of selected genes as its arguments. If no genes are provided, MAGIC will return a matrix of all genes. The same can be achieved by substituting the array of gene names with genes='all_genes'."
   ]
  },
  {
   "cell_type": "code",
   "execution_count": null,
   "id": "ae1721fe-f843-482a-84e2-fd7359a2779b",
   "metadata": {
    "tags": []
   },
   "outputs": [],
   "source": [
    "%%time\n",
    "emt_magic = magic_op.fit_transform(adata_EC, genes=gg)"
   ]
  },
  {
   "cell_type": "markdown",
   "id": "524e023c-a8c8-4d1b-a18d-c06aba1fb003",
   "metadata": {},
   "source": [
    "### Visualizing gene-gene relationships\n",
    "\n",
    "We can see gene-gene relationships much more clearly after applying MAGIC. Note that the change in absolute values of gene expression is not meaningful - the relative difference is all that matters."
   ]
  },
  {
   "cell_type": "code",
   "execution_count": null,
   "id": "5e226e91-480f-4e31-9c3b-827ebf785273",
   "metadata": {
    "tags": []
   },
   "outputs": [],
   "source": [
    "np.corrcoef(emt_magic[:,['FOXF2','FOXO1']].X, rowvar = False)[0][1]"
   ]
  },
  {
   "cell_type": "code",
   "execution_count": null,
   "id": "d1a20055-383c-4d28-9c9a-974f039dddc8",
   "metadata": {
    "tags": []
   },
   "outputs": [],
   "source": [
    "fig, (ax1, ax2) = plt.subplots(1,2, figsize=(16, 6))\n",
    "scprep.plot.scatter(x=adata_EC[:,'FOXF2'].X.todense(), y=adata_EC[:,'FOXO1'].X.todense(), c=adata_EC[:,'NOS3'].X.todense(), ax = ax1,\n",
    "                    xlabel='FOXF2', ylabel='FOXO1', legend_title=\"NOS3\", title='Before MAGIC')\n",
    "scprep.plot.scatter(x=emt_magic[:,'FOXF2'].X, y=emt_magic[:,'FOXO1'].X, c=emt_magic[:,'NOS3'].X, ax=ax2,\n",
    "                    xlabel='FOXF2', ylabel='FOXO1', legend_title=\"NOS3\", title='After MAGIC')\n",
    "plt.axline((0.4,0.4), slope=1, color=\"black\", alpha=0.3, linestyle=\"--\")\n",
    "plt.tight_layout()\n",
    "plt.show()"
   ]
  },
  {
   "cell_type": "markdown",
   "id": "db14b3fe-3371-497e-81df-1b9d112c0cd1",
   "metadata": {},
   "source": [
    "## All cell types"
   ]
  },
  {
   "cell_type": "code",
   "execution_count": null,
   "id": "7bda665c-dd85-43dd-ab8b-2ee4db9d63ab",
   "metadata": {
    "tags": []
   },
   "outputs": [],
   "source": [
    "gg = [\"FOXF2\",\"FOXO1\",\"NOS3\"]"
   ]
  },
  {
   "cell_type": "code",
   "execution_count": null,
   "id": "1c7b5293-ead6-4d00-b533-aa85dad6df4d",
   "metadata": {
    "tags": []
   },
   "outputs": [],
   "source": [
    "adata"
   ]
  },
  {
   "cell_type": "code",
   "execution_count": null,
   "id": "9c1a7073-213c-4738-a98f-c41b8fdb585b",
   "metadata": {
    "tags": []
   },
   "outputs": [],
   "source": [
    "adata.layers"
   ]
  },
  {
   "cell_type": "code",
   "execution_count": null,
   "id": "ce975144-89e5-4bd1-a282-54c935097d21",
   "metadata": {
    "tags": []
   },
   "outputs": [],
   "source": [
    "#matrix = pd.DataFrame(adata_EC.X) # not compatible with sparse \n",
    "matrix = adata.X\n",
    "matrix.columns = adata.var.index.tolist()"
   ]
  },
  {
   "cell_type": "code",
   "execution_count": null,
   "id": "6982663d-25ee-43d2-87ce-6da93df83fa6",
   "metadata": {
    "tags": []
   },
   "outputs": [],
   "source": [
    "cutoff_var = None"
   ]
  },
  {
   "cell_type": "code",
   "execution_count": null,
   "id": "7883f6aa-6e3f-40b5-bb2a-931515e7a5a5",
   "metadata": {
    "tags": []
   },
   "outputs": [],
   "source": [
    "scprep.plot.plot_library_size(matrix, cutoff=cutoff_var)"
   ]
  },
  {
   "cell_type": "code",
   "execution_count": null,
   "id": "8d67408c-465d-4d08-b375-af0b36d5a80f",
   "metadata": {
    "tags": []
   },
   "outputs": [],
   "source": [
    "# filter lowly expressed genes and cells with a small library size\n",
    "#matrix = scprep.filter.filter_library_size(matrix, cutoff=cutoff_var)\n",
    "#matrix.head()"
   ]
  },
  {
   "cell_type": "markdown",
   "id": "d8fc9af2-db1b-495b-93fb-383b89d365ba",
   "metadata": {},
   "source": [
    "Note: Skipped normalization as data is already log-normalized"
   ]
  },
  {
   "cell_type": "code",
   "execution_count": null,
   "id": "4a784372-6a2d-483c-825b-ec4a63633f22",
   "metadata": {
    "tags": []
   },
   "outputs": [],
   "source": [
    "adata.layers"
   ]
  },
  {
   "cell_type": "markdown",
   "id": "46aacba8-af6a-4a6b-9903-43116d9a8f42",
   "metadata": {},
   "source": [
    "### Creating the MAGIC operator\n",
    "If you don't specify parameters, MAGIC creates an operator with the following default values: knn=5, knn_max = 3 * knn, decay=1, t=3."
   ]
  },
  {
   "cell_type": "code",
   "execution_count": null,
   "id": "4bd7213f-63c2-4f08-bd29-5ca2264a19e4",
   "metadata": {
    "tags": []
   },
   "outputs": [],
   "source": [
    "magic_op = magic.MAGIC()"
   ]
  },
  {
   "cell_type": "markdown",
   "id": "ff3c564c-2f67-414c-8a6d-507b3c0f0c8d",
   "metadata": {},
   "source": [
    "### Running MAGIC with gene selection\n",
    "The magic_op.fit_transform function takes the normalized data and an array of selected genes as its arguments. If no genes are provided, MAGIC will return a matrix of all genes. The same can be achieved by substituting the array of gene names with genes='all_genes'."
   ]
  },
  {
   "cell_type": "code",
   "execution_count": null,
   "id": "8eb90ee2-f7db-40f7-afb6-7069e9da2f3a",
   "metadata": {
    "tags": []
   },
   "outputs": [],
   "source": [
    "%%time\n",
    "emt_magic = magic_op.fit_transform(adata, genes=gg)"
   ]
  },
  {
   "cell_type": "markdown",
   "id": "537bbfa7-1e24-43d0-8391-3844e747216e",
   "metadata": {},
   "source": [
    "### Visualizing gene-gene relationships\n",
    "\n",
    "We can see gene-gene relationships much more clearly after applying MAGIC. Note that the change in absolute values of gene expression is not meaningful - the relative difference is all that matters."
   ]
  },
  {
   "cell_type": "code",
   "execution_count": null,
   "id": "513b5219-b09c-438e-933c-594d4a3feb5c",
   "metadata": {
    "tags": []
   },
   "outputs": [],
   "source": [
    "np.corrcoef(emt_magic[:,['FOXF2','FOXO1']].X, rowvar = False)[0][1]"
   ]
  },
  {
   "cell_type": "code",
   "execution_count": null,
   "id": "f29cd1f8-1b1d-41ac-a10c-c693afd7951c",
   "metadata": {
    "tags": []
   },
   "outputs": [],
   "source": [
    "fig, (ax1, ax2) = plt.subplots(1,2, figsize=(16, 6))\n",
    "scprep.plot.scatter(x=adata[:,'FOXF2'].X.todense(), y=adata[:,'FOXO1'].X.todense(), c=adata[:,'NOS3'].X.todense(), ax = ax1,\n",
    "                    xlabel='FOXF2', ylabel='FOXO1', legend_title=\"NOS3\", title='Before MAGIC')\n",
    "scprep.plot.scatter(x=emt_magic[:,'FOXF2'].X, y=emt_magic[:,'FOXO1'].X, c=emt_magic[:,'NOS3'].X, ax=ax2,\n",
    "                    xlabel='FOXF2', ylabel='FOXO1', legend_title=\"NOS3\", title='After MAGIC')\n",
    "plt.axline((0,0), slope=1, color=\"black\", alpha=0.3, linestyle=\"--\")\n",
    "plt.tight_layout()\n",
    "plt.show()"
   ]
  },
  {
   "cell_type": "markdown",
   "id": "ed22be8b-4050-4764-a223-09a63fdbda69",
   "metadata": {},
   "source": [
    "## capECs"
   ]
  },
  {
   "cell_type": "code",
   "execution_count": null,
   "id": "8f116db2-b07d-4b2c-8147-121591864073",
   "metadata": {
    "tags": []
   },
   "outputs": [],
   "source": [
    "gg = [\"FOXF2\",\"FOXO1\",\"NOS3\"]"
   ]
  },
  {
   "cell_type": "code",
   "execution_count": null,
   "id": "0cb47014-e2e1-47aa-8640-a4d672afb0b3",
   "metadata": {
    "tags": []
   },
   "outputs": [],
   "source": [
    "adata_EC = adata[adata.obs.clusters2 == \"ECs_Capillary\"]"
   ]
  },
  {
   "cell_type": "code",
   "execution_count": null,
   "id": "3d83ac7d-5310-4b8f-8149-10b82082d6ee",
   "metadata": {
    "tags": []
   },
   "outputs": [],
   "source": [
    "adata_EC"
   ]
  },
  {
   "cell_type": "code",
   "execution_count": null,
   "id": "dacb784f-4cf9-4390-8484-e5f67676c584",
   "metadata": {
    "tags": []
   },
   "outputs": [],
   "source": [
    "adata_EC.layers"
   ]
  },
  {
   "cell_type": "code",
   "execution_count": null,
   "id": "7fad3012-6532-441d-959d-0c6c38a5b714",
   "metadata": {
    "tags": []
   },
   "outputs": [],
   "source": [
    "#matrix = pd.DataFrame(adata_EC.X) # not compatible with sparse \n",
    "matrix = adata_EC.X\n",
    "matrix.columns = adata_EC.var.index.tolist()"
   ]
  },
  {
   "cell_type": "code",
   "execution_count": null,
   "id": "06506bae-a3ee-46f7-b296-19cd992d6af0",
   "metadata": {
    "tags": []
   },
   "outputs": [],
   "source": [
    "cutoff_var = None"
   ]
  },
  {
   "cell_type": "code",
   "execution_count": null,
   "id": "6be3481c-44cf-4f70-8a46-ee69059775e8",
   "metadata": {
    "tags": []
   },
   "outputs": [],
   "source": [
    "scprep.plot.plot_library_size(matrix, cutoff=cutoff_var)"
   ]
  },
  {
   "cell_type": "code",
   "execution_count": null,
   "id": "dc9be328-dbd7-4069-8d9f-56379a544a05",
   "metadata": {
    "tags": []
   },
   "outputs": [],
   "source": [
    "# filter lowly expressed genes and cells with a small library size\n",
    "#matrix = scprep.filter.filter_library_size(matrix, cutoff=cutoff_var)\n",
    "#matrix.head()"
   ]
  },
  {
   "cell_type": "markdown",
   "id": "0d42550f-c08f-4726-9477-9e95c664e807",
   "metadata": {},
   "source": [
    "Note: Skipped normalization as data is already log-normalized"
   ]
  },
  {
   "cell_type": "code",
   "execution_count": null,
   "id": "d4696743-2116-4886-8d13-b81ced98458a",
   "metadata": {
    "tags": []
   },
   "outputs": [],
   "source": [
    "adata_EC.layers"
   ]
  },
  {
   "cell_type": "markdown",
   "id": "9fa9b2c0-25ae-4d23-94b7-e05da67d59f8",
   "metadata": {},
   "source": [
    "### Creating the MAGIC operator\n",
    "If you don't specify parameters, MAGIC creates an operator with the following default values: knn=5, knn_max = 3 * knn, decay=1, t=3."
   ]
  },
  {
   "cell_type": "code",
   "execution_count": null,
   "id": "042c869c-bb7b-4e98-b85b-257f96d6a942",
   "metadata": {
    "tags": []
   },
   "outputs": [],
   "source": [
    "magic_op = magic.MAGIC()"
   ]
  },
  {
   "cell_type": "markdown",
   "id": "3ca32b24-01a3-436b-806a-a6dbb91104b3",
   "metadata": {},
   "source": [
    "### Running MAGIC with gene selection\n",
    "The magic_op.fit_transform function takes the normalized data and an array of selected genes as its arguments. If no genes are provided, MAGIC will return a matrix of all genes. The same can be achieved by substituting the array of gene names with genes='all_genes'."
   ]
  },
  {
   "cell_type": "code",
   "execution_count": null,
   "id": "887d13c6-9390-422b-a32c-47c0c01840d7",
   "metadata": {
    "tags": []
   },
   "outputs": [],
   "source": [
    "%%time\n",
    "emt_magic = magic_op.fit_transform(adata_EC, genes=gg)"
   ]
  },
  {
   "cell_type": "markdown",
   "id": "cb1102da-f3f4-4111-8580-029d6f98a3f8",
   "metadata": {},
   "source": [
    "### Visualizing gene-gene relationships\n",
    "\n",
    "We can see gene-gene relationships much more clearly after applying MAGIC. Note that the change in absolute values of gene expression is not meaningful - the relative difference is all that matters."
   ]
  },
  {
   "cell_type": "code",
   "execution_count": null,
   "id": "fa116ef0-edfe-46f1-910d-60efedff8451",
   "metadata": {
    "tags": []
   },
   "outputs": [],
   "source": [
    "np.corrcoef(emt_magic[:,['FOXF2','FOXO1']].X, rowvar = False)[0][1]"
   ]
  },
  {
   "cell_type": "code",
   "execution_count": null,
   "id": "86e41d65-534e-4a75-88cf-65d987b5f09f",
   "metadata": {
    "tags": []
   },
   "outputs": [],
   "source": [
    "fig, (ax1, ax2) = plt.subplots(1,2, figsize=(16, 6))\n",
    "scprep.plot.scatter(x=adata_EC[:,'FOXF2'].X.todense(), y=adata_EC[:,'FOXO1'].X.todense(), c=adata_EC[:,'NOS3'].X.todense(), ax = ax1,\n",
    "                    xlabel='FOXF2', ylabel='FOXO1', legend_title=\"NOS3\", title='Before MAGIC')\n",
    "scprep.plot.scatter(x=emt_magic[:,'FOXF2'].X, y=emt_magic[:,'FOXO1'].X, c=emt_magic[:,'NOS3'].X, ax=ax2,\n",
    "                    xlabel='FOXF2', ylabel='FOXO1', legend_title=\"NOS3\", title='After MAGIC')\n",
    "plt.axline((0,0), slope=1, color=\"black\", alpha=0.3, linestyle=\"--\")\n",
    "plt.tight_layout()\n",
    "plt.show()"
   ]
  },
  {
   "cell_type": "markdown",
   "id": "965958ea-a580-4847-96f7-39032d1806b6",
   "metadata": {},
   "source": [
    "## aECs"
   ]
  },
  {
   "cell_type": "code",
   "execution_count": null,
   "id": "310c1f40-d9be-43ee-988c-677db2058b3a",
   "metadata": {
    "tags": []
   },
   "outputs": [],
   "source": [
    "gg = [\"FOXF2\",\"FOXO1\",\"NOS3\"]"
   ]
  },
  {
   "cell_type": "code",
   "execution_count": null,
   "id": "5968e974-bd89-48e7-b9d0-1b99325eec01",
   "metadata": {
    "tags": []
   },
   "outputs": [],
   "source": [
    "adata_EC = adata[adata.obs.clusters2 == \"ECs_Arterial\"]"
   ]
  },
  {
   "cell_type": "code",
   "execution_count": null,
   "id": "f77c3356-3bc2-411d-9bd2-338afc6f0319",
   "metadata": {
    "tags": []
   },
   "outputs": [],
   "source": [
    "adata_EC"
   ]
  },
  {
   "cell_type": "code",
   "execution_count": null,
   "id": "d2c10c22-1242-44e3-932e-c01c648aa65a",
   "metadata": {
    "tags": []
   },
   "outputs": [],
   "source": [
    "adata_EC.layers"
   ]
  },
  {
   "cell_type": "code",
   "execution_count": null,
   "id": "eca79226-bf6e-4db4-8073-7d498dddf88a",
   "metadata": {
    "tags": []
   },
   "outputs": [],
   "source": [
    "#matrix = pd.DataFrame(adata_EC.X) # not compatible with sparse \n",
    "matrix = adata_EC.X\n",
    "matrix.columns = adata_EC.var.index.tolist()"
   ]
  },
  {
   "cell_type": "code",
   "execution_count": null,
   "id": "ab999d6a-f185-42c8-8198-b53be282ff9c",
   "metadata": {
    "tags": []
   },
   "outputs": [],
   "source": [
    "cutoff_var = None"
   ]
  },
  {
   "cell_type": "code",
   "execution_count": null,
   "id": "75694809-cc40-47d0-ad28-9fa6f5c08661",
   "metadata": {
    "tags": []
   },
   "outputs": [],
   "source": [
    "scprep.plot.plot_library_size(matrix, cutoff=cutoff_var)"
   ]
  },
  {
   "cell_type": "code",
   "execution_count": null,
   "id": "393d9c94-64fc-4360-9597-f5e537ca75f5",
   "metadata": {
    "tags": []
   },
   "outputs": [],
   "source": [
    "# filter lowly expressed genes and cells with a small library size\n",
    "#matrix = scprep.filter.filter_library_size(matrix, cutoff=cutoff_var)\n",
    "#matrix.head()"
   ]
  },
  {
   "cell_type": "markdown",
   "id": "c8ccc46a-7ab2-40c8-a8f8-48e7c7e0e8be",
   "metadata": {},
   "source": [
    "Note: Skipped normalization as data is already log-normalized"
   ]
  },
  {
   "cell_type": "code",
   "execution_count": null,
   "id": "70c0f04f-be4d-4649-9c1c-3a89db799179",
   "metadata": {
    "tags": []
   },
   "outputs": [],
   "source": [
    "adata_EC.layers"
   ]
  },
  {
   "cell_type": "markdown",
   "id": "9b5a8a74-cf4b-4e01-a9e6-955dc2254772",
   "metadata": {},
   "source": [
    "### Creating the MAGIC operator\n",
    "If you don't specify parameters, MAGIC creates an operator with the following default values: knn=5, knn_max = 3 * knn, decay=1, t=3."
   ]
  },
  {
   "cell_type": "code",
   "execution_count": null,
   "id": "af92202b-ffca-4a4f-9e4f-c05a482579e1",
   "metadata": {
    "tags": []
   },
   "outputs": [],
   "source": [
    "magic_op = magic.MAGIC()"
   ]
  },
  {
   "cell_type": "markdown",
   "id": "61d7b2df-6378-4a56-a1e4-ddd78d639085",
   "metadata": {},
   "source": [
    "### Running MAGIC with gene selection\n",
    "The magic_op.fit_transform function takes the normalized data and an array of selected genes as its arguments. If no genes are provided, MAGIC will return a matrix of all genes. The same can be achieved by substituting the array of gene names with genes='all_genes'."
   ]
  },
  {
   "cell_type": "code",
   "execution_count": null,
   "id": "5aeacf1f-6e73-403e-8d50-4f3b99ab0911",
   "metadata": {
    "tags": []
   },
   "outputs": [],
   "source": [
    "%%time\n",
    "emt_magic = magic_op.fit_transform(adata_EC, genes=gg)"
   ]
  },
  {
   "cell_type": "markdown",
   "id": "013349b7-8390-4e67-b25b-a465510188ff",
   "metadata": {},
   "source": [
    "### Visualizing gene-gene relationships\n",
    "\n",
    "We can see gene-gene relationships much more clearly after applying MAGIC. Note that the change in absolute values of gene expression is not meaningful - the relative difference is all that matters."
   ]
  },
  {
   "cell_type": "code",
   "execution_count": null,
   "id": "11e9dbff-b475-49be-850a-306472942bbd",
   "metadata": {
    "tags": []
   },
   "outputs": [],
   "source": [
    "np.corrcoef(emt_magic[:,['FOXF2','FOXO1']].X, rowvar = False)[0][1]"
   ]
  },
  {
   "cell_type": "code",
   "execution_count": null,
   "id": "8f029dff-c4d3-43bb-9358-90661de32219",
   "metadata": {
    "tags": []
   },
   "outputs": [],
   "source": [
    "fig, (ax1, ax2) = plt.subplots(1,2, figsize=(16, 6))\n",
    "scprep.plot.scatter(x=adata_EC[:,'FOXF2'].X.todense(), y=adata_EC[:,'FOXO1'].X.todense(), c=adata_EC[:,'NOS3'].X.todense(), ax = ax1,\n",
    "                    xlabel='FOXF2', ylabel='FOXO1', legend_title=\"NOS3\", title='Before MAGIC')\n",
    "scprep.plot.scatter(x=emt_magic[:,'FOXF2'].X, y=emt_magic[:,'FOXO1'].X, c=emt_magic[:,'NOS3'].X, ax=ax2,\n",
    "                    xlabel='FOXF2', ylabel='FOXO1', legend_title=\"NOS3\", title='After MAGIC')\n",
    "plt.axline((0,0), slope=1, color=\"black\", alpha=0.3, linestyle=\"--\")\n",
    "plt.tight_layout()\n",
    "plt.show()"
   ]
  },
  {
   "cell_type": "markdown",
   "id": "f1442084-7985-418b-8658-dc40ec4370be",
   "metadata": {},
   "source": [
    "## vECs"
   ]
  },
  {
   "cell_type": "code",
   "execution_count": null,
   "id": "17910003-d2d7-4deb-a8d1-b072ac5c69d1",
   "metadata": {
    "tags": []
   },
   "outputs": [],
   "source": [
    "gg = [\"FOXF2\",\"FOXO1\",\"NOS3\"]"
   ]
  },
  {
   "cell_type": "code",
   "execution_count": null,
   "id": "f4eea792-0735-42a3-b3b2-36a6a2140463",
   "metadata": {
    "tags": []
   },
   "outputs": [],
   "source": [
    "adata_EC = adata[adata.obs.clusters2 == \"ECs_Venous\"]"
   ]
  },
  {
   "cell_type": "code",
   "execution_count": null,
   "id": "b0b90179-152b-4219-8244-738f47b1e9ab",
   "metadata": {
    "tags": []
   },
   "outputs": [],
   "source": [
    "adata_EC"
   ]
  },
  {
   "cell_type": "code",
   "execution_count": null,
   "id": "995eac18-5654-4a1e-8bcb-d704c3cf0f82",
   "metadata": {
    "tags": []
   },
   "outputs": [],
   "source": [
    "adata_EC.layers"
   ]
  },
  {
   "cell_type": "code",
   "execution_count": null,
   "id": "a65d26d2-42d1-407d-b34e-586202bd66ba",
   "metadata": {
    "tags": []
   },
   "outputs": [],
   "source": [
    "#matrix = pd.DataFrame(adata_EC.X) # not compatible with sparse \n",
    "matrix = adata_EC.X\n",
    "matrix.columns = adata_EC.var.index.tolist()"
   ]
  },
  {
   "cell_type": "code",
   "execution_count": null,
   "id": "67b9bb8f-f5de-42a8-bc27-fce06d335283",
   "metadata": {
    "tags": []
   },
   "outputs": [],
   "source": [
    "cutoff_var = None"
   ]
  },
  {
   "cell_type": "code",
   "execution_count": null,
   "id": "6f0d11a8-d20f-4460-b60a-bb7c440cc310",
   "metadata": {
    "tags": []
   },
   "outputs": [],
   "source": [
    "scprep.plot.plot_library_size(matrix, cutoff=cutoff_var)"
   ]
  },
  {
   "cell_type": "code",
   "execution_count": null,
   "id": "bc932300-8a3a-41f8-a665-d0a06594703e",
   "metadata": {
    "tags": []
   },
   "outputs": [],
   "source": [
    "# filter lowly expressed genes and cells with a small library size\n",
    "#matrix = scprep.filter.filter_library_size(matrix, cutoff=cutoff_var)\n",
    "#matrix.head()"
   ]
  },
  {
   "cell_type": "markdown",
   "id": "2ca20807-e9fc-4644-8ce1-3433ba5fe8b7",
   "metadata": {},
   "source": [
    "Note: Skipped normalization as data is already log-normalized"
   ]
  },
  {
   "cell_type": "code",
   "execution_count": null,
   "id": "0401d597-0fbe-497e-b516-9f5f19d30747",
   "metadata": {
    "tags": []
   },
   "outputs": [],
   "source": [
    "adata_EC.layers"
   ]
  },
  {
   "cell_type": "markdown",
   "id": "696bbae4-7100-46b8-bae4-efff8fb605cb",
   "metadata": {},
   "source": [
    "### Creating the MAGIC operator\n",
    "If you don't specify parameters, MAGIC creates an operator with the following default values: knn=5, knn_max = 3 * knn, decay=1, t=3."
   ]
  },
  {
   "cell_type": "code",
   "execution_count": null,
   "id": "35a0d901-1370-46fa-990a-e64efd8aa93e",
   "metadata": {
    "tags": []
   },
   "outputs": [],
   "source": [
    "magic_op = magic.MAGIC()"
   ]
  },
  {
   "cell_type": "markdown",
   "id": "1d9a0366-e6cb-4ccf-bf58-a78f46f71221",
   "metadata": {},
   "source": [
    "### Running MAGIC with gene selection\n",
    "The magic_op.fit_transform function takes the normalized data and an array of selected genes as its arguments. If no genes are provided, MAGIC will return a matrix of all genes. The same can be achieved by substituting the array of gene names with genes='all_genes'."
   ]
  },
  {
   "cell_type": "code",
   "execution_count": null,
   "id": "5630e065-cd20-44f1-910e-944987028191",
   "metadata": {
    "tags": []
   },
   "outputs": [],
   "source": [
    "%%time\n",
    "emt_magic = magic_op.fit_transform(adata_EC, genes=gg)"
   ]
  },
  {
   "cell_type": "markdown",
   "id": "bdb4ab8e-44b4-41b2-8cbb-93f16017f4dd",
   "metadata": {},
   "source": [
    "### Visualizing gene-gene relationships\n",
    "\n",
    "We can see gene-gene relationships much more clearly after applying MAGIC. Note that the change in absolute values of gene expression is not meaningful - the relative difference is all that matters."
   ]
  },
  {
   "cell_type": "code",
   "execution_count": null,
   "id": "366a3ac6-a332-44c3-8674-4937ae9cd9e8",
   "metadata": {
    "tags": []
   },
   "outputs": [],
   "source": [
    "np.corrcoef(emt_magic[:,['FOXF2','FOXO1']].X, rowvar = False)[0][1]"
   ]
  },
  {
   "cell_type": "code",
   "execution_count": null,
   "id": "d4284aab-8469-4e5c-98cd-f30a71825cf8",
   "metadata": {
    "tags": []
   },
   "outputs": [],
   "source": [
    "fig, (ax1, ax2) = plt.subplots(1,2, figsize=(16, 6))\n",
    "scprep.plot.scatter(x=adata_EC[:,'FOXF2'].X.todense(), y=adata_EC[:,'FOXO1'].X.todense(), c=adata_EC[:,'NOS3'].X.todense(), ax = ax1,\n",
    "                    xlabel='FOXF2', ylabel='FOXO1', legend_title=\"NOS3\", title='Before MAGIC')\n",
    "scprep.plot.scatter(x=emt_magic[:,'FOXF2'].X, y=emt_magic[:,'FOXO1'].X, c=emt_magic[:,'NOS3'].X, ax=ax2,\n",
    "                    xlabel='FOXF2', ylabel='FOXO1', legend_title=\"NOS3\", title='After MAGIC')\n",
    "plt.axline((0,0), slope=1, color=\"black\", alpha=0.3, linestyle=\"--\")\n",
    "plt.tight_layout()\n",
    "plt.show()"
   ]
  },
  {
   "cell_type": "markdown",
   "id": "884fb23d-8182-4bb4-92d1-79c7ab44e69a",
   "metadata": {},
   "source": [
    "# Correlate gene expression (TSPO and mt genes)  \n"
   ]
  },
  {
   "cell_type": "markdown",
   "id": "c032b31c-bba6-4d65-a114-6e3aa13e6d5a",
   "metadata": {},
   "source": [
    "For Herms lab 02/2025"
   ]
  },
  {
   "cell_type": "code",
   "execution_count": null,
   "id": "360d525b-8bf6-4dc3-8808-1abaac476821",
   "metadata": {},
   "outputs": [],
   "source": [
    "mt_genes = [gene for gene in adata.var_names if gene.startswith(\"MT-\")]\n",
    "mt_genes"
   ]
  },
  {
   "cell_type": "code",
   "execution_count": null,
   "id": "82c0b3a3-782e-4ae1-85d1-a683c38564db",
   "metadata": {
    "tags": []
   },
   "outputs": [],
   "source": [
    "gg = [\"TSPO\"] + mt_genes"
   ]
  },
  {
   "cell_type": "markdown",
   "id": "0a7af533-8c41-4a15-b183-f55863f733b1",
   "metadata": {},
   "source": [
    "## All cell types"
   ]
  },
  {
   "cell_type": "code",
   "execution_count": null,
   "id": "bcf6723d-db13-49f5-af05-e4387b0b0d2a",
   "metadata": {},
   "outputs": [],
   "source": [
    "celltype = \"AllCellTypes\""
   ]
  },
  {
   "cell_type": "code",
   "execution_count": null,
   "id": "ff2ad2b1-1fd9-4856-af80-4de2297df4f0",
   "metadata": {
    "tags": []
   },
   "outputs": [],
   "source": [
    "#matrix = pd.DataFrame(adata.X) # not compatible with sparse \n",
    "matrix = adata.X\n",
    "matrix.columns = adata.var.index.tolist()"
   ]
  },
  {
   "cell_type": "code",
   "execution_count": null,
   "id": "16f4f3c7-5e00-4ec9-b8b9-03c23eaaa97e",
   "metadata": {
    "tags": []
   },
   "outputs": [],
   "source": [
    "cutoff_var = None"
   ]
  },
  {
   "cell_type": "code",
   "execution_count": null,
   "id": "ce1f147e-c958-4971-ae0e-0482c8bc7b29",
   "metadata": {
    "tags": []
   },
   "outputs": [],
   "source": [
    "scprep.plot.plot_library_size(matrix, cutoff=cutoff_var)"
   ]
  },
  {
   "cell_type": "code",
   "execution_count": null,
   "id": "5dc97a7b-0236-443d-9a24-1241c3e12c74",
   "metadata": {},
   "outputs": [],
   "source": [
    "plt.show()"
   ]
  },
  {
   "cell_type": "code",
   "execution_count": null,
   "id": "2ea0f035-1506-4fc8-b1b3-dbce338cc40e",
   "metadata": {
    "tags": []
   },
   "outputs": [],
   "source": [
    "adata.layers"
   ]
  },
  {
   "cell_type": "code",
   "execution_count": null,
   "id": "bff7dd41-5f46-42f1-8ed8-472c09927cb4",
   "metadata": {
    "tags": []
   },
   "outputs": [],
   "source": [
    "magic_op = magic.MAGIC()"
   ]
  },
  {
   "cell_type": "code",
   "execution_count": null,
   "id": "0f94a168-5f65-430d-950e-f69de2f3e665",
   "metadata": {},
   "outputs": [],
   "source": [
    "# remove unexpressed genes\n",
    "adata.shape"
   ]
  },
  {
   "cell_type": "code",
   "execution_count": null,
   "id": "6dfce1af-028f-4d74-b4e5-5c0401bbe590",
   "metadata": {},
   "outputs": [],
   "source": [
    "adata = adata[:, (adata.X.sum(axis=0) > 0)]\n",
    "adata.shape"
   ]
  },
  {
   "cell_type": "code",
   "execution_count": null,
   "id": "fc25475b-07ba-4f5d-9d1a-b075daba8bcc",
   "metadata": {
    "tags": []
   },
   "outputs": [],
   "source": [
    "%%time\n",
    "emt_magic = magic_op.fit_transform(adata, genes=gg)"
   ]
  },
  {
   "cell_type": "code",
   "execution_count": null,
   "id": "19650a98-706f-4f8e-9aed-9b1a400dec54",
   "metadata": {},
   "outputs": [],
   "source": [
    "gene_x = 'TSPO'\n",
    "correlations = []\n",
    "\n",
    "for gene_y in gg[1:]:  # Start from index 1 to skip 'Tspo'\n",
    "    corr = np.corrcoef(emt_magic[:, [gene_x, gene_y]].X, rowvar=False)[0, 1]\n",
    "    correlations.append((gene_x, gene_y, corr))\n",
    "\n",
    "    fig, (ax1, ax2) = plt.subplots(1, 2, figsize=(13, 6))\n",
    "\n",
    "    # Scatter plot before MAGIC\n",
    "    scprep.plot.scatter(x=adata[:, gene_x].X.todense(), y=adata[:, gene_y].X.todense(),\n",
    "                        c=adata[:, gene_x].X.todense(), ax=ax1,\n",
    "                        xlabel=gene_x, ylabel=gene_y, legend_title=gene_x, title='Before MAGIC')\n",
    "\n",
    "    # Scatter plot after MAGIC\n",
    "    scprep.plot.scatter(x=emt_magic[:, gene_x].X, y=emt_magic[:, gene_y].X,\n",
    "                        c=emt_magic[:, gene_x].X, ax=ax2,\n",
    "                        xlabel=gene_x, ylabel=gene_y, legend_title=gene_x, title='After MAGIC')\n",
    "\n",
    "    # Add correlation text to the second plot\n",
    "    ax2.text(0.75, 0.97, f\"r = {corr:.2f}\", transform=ax2.transAxes,\n",
    "             fontsize=15, verticalalignment='top', bbox=dict(facecolor='white', alpha=0.5))\n",
    "\n",
    "    #plt.axline((0.1, 0.1), slope=1, color=\"black\", alpha=0.3, linestyle=\"--\")\n",
    "    plt.tight_layout()\n",
    "\n",
    "    # Save plot\n",
    "    plt.savefig(os.path.join(main_dir, 'P06_Foxf2_per_celltype', '202502-Tspo-HermsLab', \n",
    "                            'plots', 'scatter_plots', date.today().strftime(\"%Y%m%d\")+f'_{dataset_name}{organism}_{celltype}_{gene_x}_{gene_y}.png'), \n",
    "               dpi=500)\n",
    "\n",
    "    plt.show()"
   ]
  },
  {
   "cell_type": "code",
   "execution_count": null,
   "id": "5551f13d-bfee-4254-a222-1e8dd6cd8e02",
   "metadata": {},
   "outputs": [],
   "source": [
    "correlation_df = pd.DataFrame(correlations, columns=[\"GeneA\", \"GeneB\", \"PearsonR\"])\n",
    "correlation_df[\"CellType\"] = celltype\n",
    "correlation_df = correlation_df.sort_values(\"PearsonR\")\n",
    "correlation_df"
   ]
  },
  {
   "cell_type": "code",
   "execution_count": null,
   "id": "19f8fc23-371c-4488-a3b7-bd07a305c1fb",
   "metadata": {},
   "outputs": [],
   "source": [
    "correlation_df.to_excel(os.path.join(main_dir, \"P06_Foxf2_per_celltype\", \"202502-Tspo-HermsLab\", date.today().strftime(\"%Y%m%d\") + f\"_{dataset_name}{organism}_MAGIC_correlation_results_{celltype}.xlsx\"), index=False)"
   ]
  },
  {
   "cell_type": "markdown",
   "id": "62df8dac-05b8-4434-ae57-85bf1eebe133",
   "metadata": {},
   "source": [
    "## ECs"
   ]
  },
  {
   "cell_type": "code",
   "execution_count": null,
   "id": "f42ec7a8-b739-4837-9674-5289d3212a00",
   "metadata": {},
   "outputs": [],
   "source": [
    "celltype = \"ECs\""
   ]
  },
  {
   "cell_type": "code",
   "execution_count": null,
   "id": "d1b95470-8b2a-45ec-af2a-c538b63ab7ce",
   "metadata": {
    "tags": []
   },
   "outputs": [],
   "source": [
    "adata_EC = adata[adata.obs.clusters == celltype]"
   ]
  },
  {
   "cell_type": "code",
   "execution_count": null,
   "id": "c251cbae-d8fc-489d-a0a2-4f6c6c3e8f1d",
   "metadata": {
    "tags": []
   },
   "outputs": [],
   "source": [
    "adata_EC"
   ]
  },
  {
   "cell_type": "code",
   "execution_count": null,
   "id": "d19522c4-d65d-4b36-9f1e-8f1e674a8949",
   "metadata": {
    "tags": []
   },
   "outputs": [],
   "source": [
    "adata_EC.layers"
   ]
  },
  {
   "cell_type": "code",
   "execution_count": null,
   "id": "3343e660-4b03-47b7-953d-f9da75409b44",
   "metadata": {
    "tags": []
   },
   "outputs": [],
   "source": [
    "#matrix = pd.DataFrame(adata_EC.X) # not compatible with sparse \n",
    "matrix = adata_EC.X\n",
    "matrix.columns = adata_EC.var.index.tolist()"
   ]
  },
  {
   "cell_type": "code",
   "execution_count": null,
   "id": "d4188ba4-895a-45fd-b2f7-a402eafa700f",
   "metadata": {
    "tags": []
   },
   "outputs": [],
   "source": [
    "cutoff_var = None"
   ]
  },
  {
   "cell_type": "code",
   "execution_count": null,
   "id": "e3c4bb87-c480-467e-9fd4-6d46c8e6e3de",
   "metadata": {
    "tags": []
   },
   "outputs": [],
   "source": [
    "scprep.plot.plot_library_size(matrix, cutoff=cutoff_var)"
   ]
  },
  {
   "cell_type": "code",
   "execution_count": null,
   "id": "cb8ddef2-9760-4663-9136-40a8b72276d9",
   "metadata": {},
   "outputs": [],
   "source": [
    "plt.show()"
   ]
  },
  {
   "cell_type": "code",
   "execution_count": null,
   "id": "1a0cac90-221c-4b4d-b888-5a9418212edf",
   "metadata": {
    "tags": []
   },
   "outputs": [],
   "source": [
    "adata_EC.layers"
   ]
  },
  {
   "cell_type": "code",
   "execution_count": null,
   "id": "7b8cd59b-7a85-44d0-ab94-dd19c8c5357a",
   "metadata": {
    "tags": []
   },
   "outputs": [],
   "source": [
    "magic_op = magic.MAGIC()"
   ]
  },
  {
   "cell_type": "code",
   "execution_count": null,
   "id": "1e3b92d1-0a3a-45aa-a622-1bef4084dc2f",
   "metadata": {},
   "outputs": [],
   "source": [
    "# remove unexpressed genes\n",
    "adata_EC.shape"
   ]
  },
  {
   "cell_type": "code",
   "execution_count": null,
   "id": "9bb60a72-5f18-45d5-a952-39f68f677b29",
   "metadata": {},
   "outputs": [],
   "source": [
    "adata_EC = adata_EC[:, (adata_EC.X.sum(axis=0) > 0)]\n",
    "adata_EC.shape"
   ]
  },
  {
   "cell_type": "code",
   "execution_count": null,
   "id": "b93b262c-3f82-4963-a9a3-5e361bd9b1d2",
   "metadata": {
    "tags": []
   },
   "outputs": [],
   "source": [
    "%%time\n",
    "emt_magic = magic_op.fit_transform(adata_EC, genes=gg)"
   ]
  },
  {
   "cell_type": "code",
   "execution_count": null,
   "id": "36123765-c6ca-42a8-a195-b2324df0a74c",
   "metadata": {},
   "outputs": [],
   "source": [
    "gene_x = 'TSPO'\n",
    "correlations = []\n",
    "\n",
    "for gene_y in gg[1:]:  # Start from index 1 to skip 'Tspo'\n",
    "    corr = np.corrcoef(emt_magic[:, [gene_x, gene_y]].X, rowvar=False)[0, 1]\n",
    "    correlations.append((gene_x, gene_y, corr))\n",
    "\n",
    "    fig, (ax1, ax2) = plt.subplots(1, 2, figsize=(13, 6))\n",
    "\n",
    "    # Scatter plot before MAGIC\n",
    "    scprep.plot.scatter(x=adata[:, gene_x].X.todense(), y=adata[:, gene_y].X.todense(),\n",
    "                        c=adata[:, gene_x].X.todense(), ax=ax1,\n",
    "                        xlabel=gene_x, ylabel=gene_y, legend_title=gene_x, title='Before MAGIC')\n",
    "\n",
    "    # Scatter plot after MAGIC\n",
    "    scprep.plot.scatter(x=emt_magic[:, gene_x].X, y=emt_magic[:, gene_y].X,\n",
    "                        c=emt_magic[:, gene_x].X, ax=ax2,\n",
    "                        xlabel=gene_x, ylabel=gene_y, legend_title=gene_x, title='After MAGIC')\n",
    "\n",
    "    # Add correlation text to the second plot\n",
    "    ax2.text(0.75, 0.97, f\"r = {corr:.2f}\", transform=ax2.transAxes,\n",
    "             fontsize=15, verticalalignment='top', bbox=dict(facecolor='white', alpha=0.5))\n",
    "\n",
    "    #plt.axline((0.1, 0.1), slope=1, color=\"black\", alpha=0.3, linestyle=\"--\")\n",
    "    plt.tight_layout()\n",
    "\n",
    "    # Save plot\n",
    "    plt.savefig(os.path.join(main_dir, 'P06_Foxf2_per_celltype', '202502-Tspo-HermsLab', \n",
    "                            'plots', 'scatter_plots', date.today().strftime(\"%Y%m%d\")+f'_{dataset_name}{organism}_{celltype}_{gene_x}_{gene_y}.png'), \n",
    "               dpi=500)\n",
    "\n",
    "    plt.show()"
   ]
  },
  {
   "cell_type": "code",
   "execution_count": null,
   "id": "d42a11b2-af35-47e6-9cfc-5b591575c816",
   "metadata": {},
   "outputs": [],
   "source": [
    "correlation_df = pd.DataFrame(correlations, columns=[\"GeneA\", \"GeneB\", \"PearsonR\"])\n",
    "correlation_df[\"CellType\"] = celltype\n",
    "correlation_df = correlation_df.sort_values(\"PearsonR\")\n",
    "correlation_df"
   ]
  },
  {
   "cell_type": "code",
   "execution_count": null,
   "id": "d86fed1c-d9cd-4411-887b-6c97776fff66",
   "metadata": {},
   "outputs": [],
   "source": [
    "correlation_df.to_excel(os.path.join(main_dir, \"P06_Foxf2_per_celltype\", \"202502-Tspo-HermsLab\", date.today().strftime(\"%Y%m%d\") + f\"_{dataset_name}{organism}_MAGIC_correlation_results_{celltype}.xlsx\"), index=False)"
   ]
  },
  {
   "cell_type": "markdown",
   "id": "c8a25571-3803-4c34-9ac8-ef4070c92195",
   "metadata": {},
   "source": [
    "## Microglia/Macrophages"
   ]
  },
  {
   "cell_type": "code",
   "execution_count": null,
   "id": "a2c24d2f-40ab-4d70-8b5f-9839d8199074",
   "metadata": {},
   "outputs": [],
   "source": [
    "celltype = \"Microglia/Macrophages\""
   ]
  },
  {
   "cell_type": "code",
   "execution_count": null,
   "id": "b9823d28-c77a-4631-a42b-c418633e77f3",
   "metadata": {
    "tags": []
   },
   "outputs": [],
   "source": [
    "adata_MM = adata[adata.obs.clusters == celltype]"
   ]
  },
  {
   "cell_type": "code",
   "execution_count": null,
   "id": "843725fb-800f-4e19-abb6-acb0839e0d89",
   "metadata": {
    "tags": []
   },
   "outputs": [],
   "source": [
    "adata_MM"
   ]
  },
  {
   "cell_type": "code",
   "execution_count": null,
   "id": "117234e5-10cf-4dfb-9da4-8fc4987c308c",
   "metadata": {
    "tags": []
   },
   "outputs": [],
   "source": [
    "adata_MM.layers"
   ]
  },
  {
   "cell_type": "code",
   "execution_count": null,
   "id": "8954f08f-b2b3-48f8-9a34-661d8ea2e045",
   "metadata": {
    "tags": []
   },
   "outputs": [],
   "source": [
    "#matrix = pd.DataFrame(adata_EC.X) # not compatible with sparse \n",
    "matrix = adata_MM.X\n",
    "matrix.columns = adata_MM.var.index.tolist()"
   ]
  },
  {
   "cell_type": "code",
   "execution_count": null,
   "id": "c482c462-f0c7-4c63-8e7d-1e1410ea1bd7",
   "metadata": {
    "tags": []
   },
   "outputs": [],
   "source": [
    "cutoff_var = None"
   ]
  },
  {
   "cell_type": "code",
   "execution_count": null,
   "id": "1a36e0cd-2c9a-41e6-b14b-797574f253f0",
   "metadata": {
    "tags": []
   },
   "outputs": [],
   "source": [
    "scprep.plot.plot_library_size(matrix, cutoff=cutoff_var)"
   ]
  },
  {
   "cell_type": "code",
   "execution_count": null,
   "id": "45cfcc3b-9843-4603-9e42-dcaa43d01356",
   "metadata": {},
   "outputs": [],
   "source": [
    "plt.show()"
   ]
  },
  {
   "cell_type": "code",
   "execution_count": null,
   "id": "34f3e296-4a91-4762-9792-86f04891a6f5",
   "metadata": {
    "tags": []
   },
   "outputs": [],
   "source": [
    "adata_MM.layers"
   ]
  },
  {
   "cell_type": "code",
   "execution_count": null,
   "id": "7459556d-dfcb-46ab-9ee1-4bb7448be40d",
   "metadata": {
    "tags": []
   },
   "outputs": [],
   "source": [
    "magic_op = magic.MAGIC()"
   ]
  },
  {
   "cell_type": "code",
   "execution_count": null,
   "id": "82e3e634-1562-4a55-92e6-817ebc86e2e7",
   "metadata": {},
   "outputs": [],
   "source": [
    "# remove unexpressed genes\n",
    "adata_MM.shape"
   ]
  },
  {
   "cell_type": "code",
   "execution_count": null,
   "id": "c724d7ab-2739-4832-848a-cc522b9a3f5c",
   "metadata": {},
   "outputs": [],
   "source": [
    "adata_MM = adata_MM[:, (adata_MM.X.sum(axis=0) > 0)]\n",
    "adata_MM.shape"
   ]
  },
  {
   "cell_type": "code",
   "execution_count": null,
   "id": "5b033f52-478a-4c50-90b1-108a2d02e26c",
   "metadata": {
    "tags": []
   },
   "outputs": [],
   "source": [
    "%%time\n",
    "emt_magic = magic_op.fit_transform(adata_MM, genes=gg)"
   ]
  },
  {
   "cell_type": "code",
   "execution_count": null,
   "id": "ae371108-6a20-4ab1-a4cb-a1ca70940264",
   "metadata": {},
   "outputs": [],
   "source": [
    "gene_x = 'TSPO'\n",
    "correlations = []\n",
    "\n",
    "for gene_y in gg[1:]:  # Start from index 1 to skip 'Tspo'\n",
    "    corr = np.corrcoef(emt_magic[:, [gene_x, gene_y]].X, rowvar=False)[0, 1]\n",
    "    correlations.append((gene_x, gene_y, corr))\n",
    "\n",
    "    fig, (ax1, ax2) = plt.subplots(1, 2, figsize=(13, 6))\n",
    "\n",
    "    # Scatter plot before MAGIC\n",
    "    scprep.plot.scatter(x=adata[:, gene_x].X.todense(), y=adata[:, gene_y].X.todense(),\n",
    "                        c=adata[:, gene_x].X.todense(), ax=ax1,\n",
    "                        xlabel=gene_x, ylabel=gene_y, legend_title=gene_x, title='Before MAGIC')\n",
    "\n",
    "    # Scatter plot after MAGIC\n",
    "    scprep.plot.scatter(x=emt_magic[:, gene_x].X, y=emt_magic[:, gene_y].X,\n",
    "                        c=emt_magic[:, gene_x].X, ax=ax2,\n",
    "                        xlabel=gene_x, ylabel=gene_y, legend_title=gene_x, title='After MAGIC')\n",
    "\n",
    "    # Add correlation text to the second plot\n",
    "    ax2.text(0.75, 0.97, f\"r = {corr:.2f}\", transform=ax2.transAxes,\n",
    "             fontsize=15, verticalalignment='top', bbox=dict(facecolor='white', alpha=0.5))\n",
    "\n",
    "    #plt.axline((0.1, 0.1), slope=1, color=\"black\", alpha=0.3, linestyle=\"--\")\n",
    "    plt.tight_layout()\n",
    "\n",
    "    # Save plot\n",
    "    plt.savefig(os.path.join(main_dir, 'P06_Foxf2_per_celltype', '202502-Tspo-HermsLab', \n",
    "                            'plots', 'scatter_plots', date.today().strftime(\"%Y%m%d\")+f'_{dataset_name}{organism}_{celltype.replace(\"/\", \"\")}_{gene_x}_{gene_y}.png'), \n",
    "               dpi=500)\n",
    "\n",
    "    plt.show()"
   ]
  },
  {
   "cell_type": "code",
   "execution_count": null,
   "id": "80d5f224-859d-4d2c-8a77-eb24f41641a2",
   "metadata": {},
   "outputs": [],
   "source": [
    "correlation_df = pd.DataFrame(correlations, columns=[\"GeneA\", \"GeneB\", \"PearsonR\"])\n",
    "correlation_df[\"CellType\"] = celltype.replace(\"/\", \"\")\n",
    "correlation_df = correlation_df.sort_values(\"PearsonR\")\n",
    "correlation_df"
   ]
  },
  {
   "cell_type": "code",
   "execution_count": null,
   "id": "e1a5e471-7261-4677-b3ed-842c006cc28e",
   "metadata": {},
   "outputs": [],
   "source": [
    "ct = celltype.replace(\"/\", \"\")\n",
    "correlation_df.to_excel(os.path.join(main_dir, \"P06_Foxf2_per_celltype\", \"202502-Tspo-HermsLab\", date.today().strftime(\"%Y%m%d\") + f\"_{dataset_name}{organism}_MAGIC_correlation_results_{ct}.xlsx\"), index=False)"
   ]
  },
  {
   "cell_type": "markdown",
   "id": "2b50bbcc-d764-49b9-8cc0-d3173fd8239e",
   "metadata": {},
   "source": [
    "# Session Info"
   ]
  },
  {
   "cell_type": "code",
   "execution_count": null,
   "id": "a0c24d85-941c-4c5a-bedc-239bb80c6452",
   "metadata": {
    "tags": []
   },
   "outputs": [],
   "source": [
    "sc.logging.print_versions()"
   ]
  },
  {
   "cell_type": "code",
   "execution_count": null,
   "id": "7d2e5e99-645b-4570-9b4c-fec05c9e4189",
   "metadata": {},
   "outputs": [],
   "source": []
  }
 ],
 "metadata": {
  "kernelspec": {
   "display_name": "Python 3 (ipykernel)",
   "language": "python",
   "name": "python3"
  },
  "language_info": {
   "codemirror_mode": {
    "name": "ipython",
    "version": 3
   },
   "file_extension": ".py",
   "mimetype": "text/x-python",
   "name": "python",
   "nbconvert_exporter": "python",
   "pygments_lexer": "ipython3"
  }
 },
 "nbformat": 4,
 "nbformat_minor": 5
}
