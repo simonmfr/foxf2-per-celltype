{
 "cells": [
  {
   "cell_type": "markdown",
   "id": "9bfa00be-69ba-4146-aba2-818b967492c3",
   "metadata": {
    "jp-MarkdownHeadingCollapsed": true,
    "tags": []
   },
   "source": [
    "<font size=\"+3.8\">Scanpy single-cell pre-processing</font>  \n",
    "<font size=\"+1.5\"></font>  "
   ]
  },
  {
   "cell_type": "markdown",
   "id": "563f0b43-ce10-475f-b355-6fa8a2406dad",
   "metadata": {},
   "source": [
    "Aim: Preprocess human brain single-cell data from Garcia 2022 Nature  \n",
    "Publication: https://www.nature.com/articles/s41586-022-04521-7\n",
    "\n",
    "Also see https://nsun.shinyapps.io/scbbb/ (only showing ex-vivo dataset)"
   ]
  },
  {
   "cell_type": "code",
   "execution_count": null,
   "id": "419d2092-0ea2-4adc-b0dd-6c7f03abf8cb",
   "metadata": {
    "tags": []
   },
   "outputs": [],
   "source": [
    "from datetime import date\n",
    "date.today().strftime('%d/%m/%Y')"
   ]
  },
  {
   "cell_type": "code",
   "execution_count": null,
   "id": "3607c601-2607-40e6-98f4-be7aaf7ad034",
   "metadata": {},
   "outputs": [],
   "source": [
    "import os\n",
    "import random\n",
    "import numpy as np\n",
    "import scipy as sp\n",
    "import pandas as pd\n",
    "import matplotlib.pyplot as plt\n",
    "from matplotlib.pyplot import rc_context\n",
    "from matplotlib import rcParams\n",
    "from matplotlib import colors\n",
    "import seaborn as sns"
   ]
  },
  {
   "cell_type": "code",
   "execution_count": null,
   "id": "3f459d87-8e7b-4a57-acea-271146778cdc",
   "metadata": {},
   "outputs": [],
   "source": [
    "import anndata as ad\n",
    "import scanpy as sc\n",
    "import scipy as sci\n",
    "sc.settings.verbosity = 3"
   ]
  },
  {
   "cell_type": "code",
   "execution_count": null,
   "id": "176c986f-1bbf-482c-af3e-d90bca005760",
   "metadata": {},
   "outputs": [],
   "source": [
    "#import loompy"
   ]
  },
  {
   "cell_type": "code",
   "execution_count": null,
   "id": "a90735be-a67b-4cd0-a9f0-5bb14a15f7e5",
   "metadata": {},
   "outputs": [],
   "source": [
    "import utils"
   ]
  },
  {
   "cell_type": "code",
   "execution_count": null,
   "id": "7467633a-ccaa-4d23-986f-b5d690fefad0",
   "metadata": {},
   "outputs": [],
   "source": [
    "main_dir='/cluster2/sfrerich/P6/P06_vasc_scRNAseq' # HPC"
   ]
  },
  {
   "cell_type": "code",
   "execution_count": null,
   "id": "b8f8dc32-a97a-4899-b0ce-6678e4b9326b",
   "metadata": {},
   "outputs": [],
   "source": [
    "dataset_name = \"Garcia2022\"\n",
    "organism = \"Human\""
   ]
  },
  {
   "cell_type": "markdown",
   "id": "d75da520-0b28-417d-877e-f167db41ef30",
   "metadata": {},
   "source": [
    "# Load data"
   ]
  },
  {
   "cell_type": "markdown",
   "id": "f227063e-61fd-48c2-82ec-8088f8f2953d",
   "metadata": {},
   "source": [
    "Downloaded from http://compbio.mit.edu/scBBB/ (27/02/2023)"
   ]
  },
  {
   "cell_type": "code",
   "execution_count": null,
   "id": "3f5cda31-af2e-428d-a89d-cfcb35503bf7",
   "metadata": {},
   "outputs": [],
   "source": [
    "# Turn rds to tsv\n",
    "# /opt/R/4.0.0/bin/R\n",
    "# library(data.table)\n",
    "# main <- '/cluster2/sfrerich/P6/P06_vasc_scRNAseq'\n",
    "# f <- readRDS(paste0(main, 'Garcia2022/preprocessed/brain.BBB.human.counts.rds'))\n",
    "# f <- readRDS(paste0(main, 'Garcia2022/brain.BBB.human.counts.GEOsubmission.rds'))\n",
    "# f <- readRDS(paste0(main, 'Garcia2022/ROSMAP.VascularCells.counts.rds'))\n",
    "# m <- readRDS(paste0(main, 'Garcia2022/brain.BBB.human.meta.GEOsubmission.rds')) # export directly\n",
    "# fd <- as.data.table(as.matrix(f))\n",
    "# rownames(fd) <- as.data.frame(f@Dimnames[1])[,1] # dense\n",
    "# colnames(fd) <- as.data.frame(f@Dimnames[2])[,1]\n",
    "# fwrite(fd, paste0(main, 'Garcia2022/preprocessed/brain.BBB.human.counts.tsv'), sep=\"\\t\", row.names=TRUE, col.names=TRUE)\n",
    "# fwrite(fd, paste0(main, 'Garcia2022/brain.BBB.human.counts.GEOsubmission.tsv'), sep=\"\\t\", row.names=TRUE, col.names=TRUE)\n",
    "# fwrite(fd, paste0(main, 'Garcia2022/ROSMAP.VascularCells.counts.tsv'), sep=\"\\t\", row.names=TRUE, col.names=TRUE)\n",
    "# fwrite(m, paste0(main, 'Garcia2022/brain.BBB.human.meta.GEOsubmission.txt'), sep=\"\\t\", col.names=TRUE)"
   ]
  },
  {
   "cell_type": "code",
   "execution_count": null,
   "id": "77569b54-0d70-4111-9634-b6c68c8d00a7",
   "metadata": {},
   "outputs": [],
   "source": [
    "# from base folder -> brain.BBB.human.counts.GEOsubmission.tsv and brain.BBB.human.meta.GEOsubmission.txt\n",
    "# not annotated / not used"
   ]
  },
  {
   "cell_type": "markdown",
   "id": "785b3d4e-7bb7-413f-9b59-00166282c985",
   "metadata": {},
   "source": [
    "## ROSMAP dataset"
   ]
  },
  {
   "cell_type": "markdown",
   "id": "92ffd427-cdbd-431c-ad80-7edc56484f96",
   "metadata": {},
   "source": [
    "Nonpathological post-mortem brains"
   ]
  },
  {
   "cell_type": "code",
   "execution_count": null,
   "id": "a0230755-34c1-4e17-af88-dbb5f6a22384",
   "metadata": {},
   "outputs": [],
   "source": [
    "# from base folder: ROSMAP study / annotated, vascular cells only"
   ]
  },
  {
   "cell_type": "code",
   "execution_count": null,
   "id": "801bf680-9b7d-4842-ac98-497a7a45dd4d",
   "metadata": {},
   "outputs": [],
   "source": [
    "ad_ROSMAP = sc.read_csv(os.path.join(main_dir,'Garcia2022','ROSMAP.VascularCells.counts.tsv'), delimiter=\"\\t\").transpose()"
   ]
  },
  {
   "cell_type": "code",
   "execution_count": null,
   "id": "380e4698-0329-46b6-81f6-fce1b051b7ae",
   "metadata": {},
   "outputs": [],
   "source": [
    "ad_ROSMAP.obs_names_make_unique()\n",
    "ad_ROSMAP.var_names_make_unique()"
   ]
  },
  {
   "cell_type": "code",
   "execution_count": null,
   "id": "76082879-a443-49bc-b750-c0361d5d40a7",
   "metadata": {},
   "outputs": [],
   "source": [
    "ad_ROSMAP"
   ]
  },
  {
   "cell_type": "code",
   "execution_count": null,
   "id": "b5881d20-7563-4be0-bbe2-ee86a6bde65b",
   "metadata": {},
   "outputs": [],
   "source": [
    "ad_ROSMAP.obs.head()"
   ]
  },
  {
   "cell_type": "code",
   "execution_count": null,
   "id": "b94a7678-2113-42b3-8b64-8146d05756d5",
   "metadata": {},
   "outputs": [],
   "source": [
    "meta_ROSMAP = pd.read_csv(os.path.join(main_dir,'Garcia2022','ROSMAP.VascularCells.meta.txt'), sep='\\t')\n",
    "meta_ROSMAP.head(2)"
   ]
  },
  {
   "cell_type": "code",
   "execution_count": null,
   "id": "170b1f25-b13d-4b3e-b1da-0cf4aa698d2e",
   "metadata": {},
   "outputs": [],
   "source": [
    "pd.value_counts(meta_ROSMAP.celltype)"
   ]
  },
  {
   "cell_type": "code",
   "execution_count": null,
   "id": "e7901c59-496e-4b58-8059-b5b2a357639b",
   "metadata": {},
   "outputs": [],
   "source": [
    "pd.value_counts(meta_ROSMAP.subtype)"
   ]
  },
  {
   "cell_type": "code",
   "execution_count": null,
   "id": "d0699976-b9b6-4390-8e76-3e751728ca00",
   "metadata": {},
   "outputs": [],
   "source": [
    "ad_ROSMAP.obs = ad_ROSMAP.obs.join(meta_ROSMAP)"
   ]
  },
  {
   "cell_type": "markdown",
   "id": "809021c4-e309-42e5-a302-d186956f188c",
   "metadata": {
    "tags": []
   },
   "source": [
    "Check if data is normalized:"
   ]
  },
  {
   "cell_type": "code",
   "execution_count": null,
   "id": "1a215498-a9d2-4518-aa84-cbdda5ccc0df",
   "metadata": {},
   "outputs": [],
   "source": [
    "ad_ROSMAP.layers"
   ]
  },
  {
   "cell_type": "code",
   "execution_count": null,
   "id": "e5f790c5-5acb-4dc4-9318-71be704c8e36",
   "metadata": {},
   "outputs": [],
   "source": [
    "ad_ROSMAP.X"
   ]
  },
  {
   "cell_type": "code",
   "execution_count": null,
   "id": "fdd6a190-d276-4933-8634-fc7a9e9c01d2",
   "metadata": {},
   "outputs": [],
   "source": [
    "# show expression of 100 random genes (across all spots)\n",
    "random_genes=random.sample(range(0, ad_ROSMAP.X.shape[1]), 100)\n",
    "adata_sub = ad_ROSMAP[:,random_genes]\n",
    "exp=pd.DataFrame(np.matrix(adata_sub.X))\n",
    "# plot\n",
    "pl1=sns.displot(data=pd.melt(exp),x='value',height=4,hue='variable',kind=\"kde\",warn_singular=False,legend=False,palette=list(np.repeat('#086da6',100)), lw=0.3) # genes with 0 expression are excluded\n",
    "pl1.set(xlim=(-0.5, 7),ylim=(0,0.007))\n",
    "sns.set_theme(style='white')\n",
    "plt.show()"
   ]
  },
  {
   "cell_type": "code",
   "execution_count": null,
   "id": "5edf3215-0660-4235-99ff-5734cd5e3a79",
   "metadata": {},
   "outputs": [],
   "source": [
    "sns.set(rc={'figure.figsize':(4,4)})\n",
    "sns.set_theme(style='white')\n",
    "pl=sns.histplot(data=pd.melt(exp),x='value',binwidth=0.5,legend=True,palette=list(np.repeat('#086da6',100)))\n",
    "pl.set(xlim=(0, 10));\n",
    "plt.show()"
   ]
  },
  {
   "cell_type": "markdown",
   "id": "822c438f-8d4f-4f30-8fcb-8503247b8568",
   "metadata": {},
   "source": [
    "Data is not normalized, therefore normalize and log-transform"
   ]
  },
  {
   "cell_type": "code",
   "execution_count": null,
   "id": "13b84bbf-117a-42cc-bf1c-74c43cef931c",
   "metadata": {},
   "outputs": [],
   "source": [
    "ad_ROSMAP.layers[\"counts\"] = ad_ROSMAP.X.copy() # save unnormalized raw RNA counts - retrieve via ad.X = ad.layers[\"counts\"]"
   ]
  },
  {
   "cell_type": "code",
   "execution_count": null,
   "id": "60a78a13-9cc7-4ec1-b62a-b92cdc9e7901",
   "metadata": {},
   "outputs": [],
   "source": [
    "sc.pp.normalize_total(ad_ROSMAP, inplace=True) # Normalize each spot by total counts over all genes, so that every cell has the same total count after normalization."
   ]
  },
  {
   "cell_type": "code",
   "execution_count": null,
   "id": "82d33fce-91c9-416a-88c0-3b86cff78ee7",
   "metadata": {},
   "outputs": [],
   "source": [
    "sc.pp.log1p(ad_ROSMAP) # X = log(X + 1)"
   ]
  },
  {
   "cell_type": "code",
   "execution_count": null,
   "id": "62514897-01cd-4ea1-94fb-35c86d2927fb",
   "metadata": {},
   "outputs": [],
   "source": [
    "# show expression of 100 random genes (across all spots)\n",
    "adata_sub = ad_ROSMAP[:,random_genes]\n",
    "exp=pd.DataFrame(np.matrix(adata_sub.X))\n",
    "# plot\n",
    "pl=sns.displot(data=pd.melt(exp),x='value',height=4,hue='variable',kind=\"kde\",warn_singular=False,legend=False,palette=list(np.repeat('#086da6',100)), lw=0.5) # genes with 0 expression are excluded\n",
    "pl.set(xlim=(-0.25, 3.5),ylim=(0,0.005));\n",
    "plt.show()"
   ]
  },
  {
   "cell_type": "code",
   "execution_count": null,
   "id": "f0cbea5c-5161-41f1-bed5-7214124d246f",
   "metadata": {},
   "outputs": [],
   "source": [
    "pl=sns.histplot(data=pd.melt(exp),x='value',binwidth=0.5,legend=True,palette=list(np.repeat('#086da6',100)));\n",
    "pl.set(xlim=(0, 10));\n",
    "plt.show()"
   ]
  },
  {
   "cell_type": "code",
   "execution_count": null,
   "id": "31eceb39-876e-43ec-b2fc-16853feb1e12",
   "metadata": {},
   "outputs": [],
   "source": [
    "ad_ROSMAP.layers[\"normalized\"] = ad_ROSMAP.X.copy() # retrieve via adata.X = adata.layers[\"normalized\"]"
   ]
  },
  {
   "cell_type": "code",
   "execution_count": null,
   "id": "26400a09-ec13-443c-a9c6-62fbed1a01d3",
   "metadata": {},
   "outputs": [],
   "source": [
    "# Identify highly-variable genes\n",
    "sc.pp.highly_variable_genes(ad_ROSMAP)\n",
    "sc.pl.highly_variable_genes(ad_ROSMAP)"
   ]
  },
  {
   "cell_type": "code",
   "execution_count": null,
   "id": "6cb68027-23ea-47ef-84bf-6d1f2b0f6738",
   "metadata": {},
   "outputs": [],
   "source": [
    "ad_ROSMAP"
   ]
  },
  {
   "cell_type": "code",
   "execution_count": null,
   "id": "11919b59-cd79-4010-b15e-564f4315de96",
   "metadata": {},
   "outputs": [],
   "source": [
    "ad_ROSMAP.layers"
   ]
  },
  {
   "cell_type": "code",
   "execution_count": null,
   "id": "d407888c-2799-4888-bca8-6b162d6f2483",
   "metadata": {},
   "outputs": [],
   "source": [
    "pd.value_counts(meta_ROSMAP.celltype)"
   ]
  },
  {
   "cell_type": "code",
   "execution_count": null,
   "id": "98bf9a65-4acc-4716-ab7d-e8ef3efe5742",
   "metadata": {},
   "outputs": [],
   "source": [
    "# Renaming\n",
    "old_to_new = {'aEndo':'aECs',\n",
    "              'capEndo':'capECs',\n",
    "              'vEndo':'vECs',\n",
    "              'Per1':'Pericytes',\n",
    "              'Per2':'Pericytes',\n",
    "              'Per3':'Pericytes',\n",
    "              'Fib1':'Fibroblasts',\n",
    "              'Fib2':'Fibroblasts',\n",
    "              'Fib3':'Fibroblasts',\n",
    "              'aSMC':'SMCs',\n",
    "              'vSMC':'SMCs'}\n",
    "ad_ROSMAP.obs['clusters2'] = (ad_ROSMAP.obs['subtype'].map(old_to_new).astype('category'))"
   ]
  },
  {
   "cell_type": "code",
   "execution_count": null,
   "id": "c2fe2c3a-f2cc-4cce-af0d-22baf92171c9",
   "metadata": {},
   "outputs": [],
   "source": [
    "# Renaming\n",
    "old_to_new = {'Endo':'ECs',\n",
    "              'Per':'Pericytes',\n",
    "              'Fib':'Fibroblasts',\n",
    "              'SMC':'SMCs'}\n",
    "ad_ROSMAP.obs['clusters'] = (ad_ROSMAP.obs['celltype'].map(old_to_new).astype('category'))"
   ]
  },
  {
   "cell_type": "markdown",
   "id": "dfc4811e-bf9f-4018-b107-677addf6591d",
   "metadata": {},
   "source": [
    "### Dim Reduction"
   ]
  },
  {
   "cell_type": "markdown",
   "id": "9f065118-5d2c-4eba-9b7c-58c448cf1031",
   "metadata": {},
   "source": [
    "Nonpathological post-mortem brains"
   ]
  },
  {
   "cell_type": "code",
   "execution_count": null,
   "id": "e98048a7-ffb9-4f02-b9e5-3abc89a4e56f",
   "metadata": {},
   "outputs": [],
   "source": [
    "sc.tl.pca(ad_ROSMAP)\n",
    "sc.pl.pca_variance_ratio(ad_ROSMAP)"
   ]
  },
  {
   "cell_type": "code",
   "execution_count": null,
   "id": "c9fd0eaa-4d72-40c4-b123-02884742b553",
   "metadata": {},
   "outputs": [],
   "source": [
    "sc.pp.neighbors(ad_ROSMAP)\n",
    "sc.tl.umap(ad_ROSMAP)"
   ]
  },
  {
   "cell_type": "code",
   "execution_count": null,
   "id": "950c30ef-ce2b-4a12-92cb-352623246de4",
   "metadata": {},
   "outputs": [],
   "source": [
    "sc.pl.umap(ad_ROSMAP, color=['clusters','clusters2'], wspace=0.5)"
   ]
  },
  {
   "cell_type": "code",
   "execution_count": null,
   "id": "501764be-cf8c-4a33-a906-0ce1c941ec27",
   "metadata": {},
   "outputs": [],
   "source": [
    "ad_ROSMAP.obs.clusters2.value_counts()"
   ]
  },
  {
   "cell_type": "markdown",
   "id": "b4a002cc-53e4-4ed5-99ab-869dfc2344de",
   "metadata": {},
   "source": [
    "### Marker genes"
   ]
  },
  {
   "cell_type": "code",
   "execution_count": null,
   "id": "b5515589-59eb-4661-a0ae-e8369f9640e3",
   "metadata": {},
   "outputs": [],
   "source": [
    "sc.tl.rank_genes_groups(ad_ROSMAP, 'clusters', method='wilcoxon')"
   ]
  },
  {
   "cell_type": "code",
   "execution_count": null,
   "id": "8430c047-07e2-436a-a44b-61bbd8f7b5f1",
   "metadata": {},
   "outputs": [],
   "source": [
    "sc.pl.rank_genes_groups_dotplot(ad_ROSMAP,n_genes=7)"
   ]
  },
  {
   "cell_type": "markdown",
   "id": "32312af4-0713-4c31-b5b3-20f9d614c75b",
   "metadata": {
    "tags": []
   },
   "source": [
    "### Vascular marker genes"
   ]
  },
  {
   "cell_type": "code",
   "execution_count": null,
   "id": "bb6cf11e-57ed-483f-97bc-f8cf9c1bfd6e",
   "metadata": {},
   "outputs": [],
   "source": [
    "# Basic QC metrics\n",
    "ad_ROSMAP.var['mt'] = ad_ROSMAP.var_names.str.startswith('MT-') \n",
    "sc.pp.calculate_qc_metrics(ad_ROSMAP, qc_vars=['mt'], percent_top=None, log1p=False, inplace=True)\n",
    "sc.pl.violin(ad_ROSMAP, ['n_genes_by_counts', 'total_counts', 'pct_counts_mt'],jitter=0.4, multi_panel=True)"
   ]
  },
  {
   "cell_type": "code",
   "execution_count": null,
   "id": "6199e1b2-3351-4e3e-b131-e15004003bfc",
   "metadata": {},
   "outputs": [],
   "source": [
    "# DEA requires HPC\n",
    "sc.tl.rank_genes_groups(ad_ROSMAP, 'clusters', method='wilcoxon')"
   ]
  },
  {
   "cell_type": "code",
   "execution_count": null,
   "id": "ad7abe48-5370-48b3-8c1a-fd53a9905750",
   "metadata": {},
   "outputs": [],
   "source": [
    "sc.pl.rank_genes_groups(ad_ROSMAP, n_genes=20, sharey=False)"
   ]
  },
  {
   "cell_type": "markdown",
   "id": "9ffa3adc-6fef-4485-81ff-e9084ddef9a0",
   "metadata": {},
   "source": [
    "Export DEG table"
   ]
  },
  {
   "cell_type": "code",
   "execution_count": null,
   "id": "63dcb9a4-a0df-40f3-ad1d-1afd85738817",
   "metadata": {},
   "outputs": [],
   "source": [
    "# export DEG table\n",
    "celltypes = ad_ROSMAP.obs.clusters.unique().tolist()\n",
    "merged_df = pd.DataFrame()\n",
    "for group in celltypes:\n",
    "    rank_df = rank_genes_groups_df(adata=ad_ROSMAP, group=group, adj_pval_cutoff=None, log2fc_cutoff=None, sortby='zscore')\n",
    "    merged_df = pd.concat([merged_df, rank_df])\n",
    "    merged_df['reference'] = 'all other clusters'\n",
    "merged_df.head(3)"
   ]
  },
  {
   "cell_type": "code",
   "execution_count": null,
   "id": "7c102b6b-674d-4e37-8ac0-3974f633c3df",
   "metadata": {},
   "outputs": [],
   "source": [
    "merged_df.group.unique().tolist()"
   ]
  },
  {
   "cell_type": "code",
   "execution_count": null,
   "id": "afd20dba-7fcc-40f3-9f7a-1081dad371cc",
   "metadata": {},
   "outputs": [],
   "source": [
    "# export as csv\n",
    "merged_df.to_csv(os.path.join(main_dir,'results',date.today().strftime(\"%Y%m%d\")+'_DE_genes_Garcia2022.csv'),sep=';')"
   ]
  },
  {
   "cell_type": "code",
   "execution_count": null,
   "id": "ba946006-7c6e-4a50-8df5-8d6dce2fbe58",
   "metadata": {},
   "outputs": [],
   "source": [
    "sc.tl.rank_genes_groups(ad_ROSMAP, 'clusters2', method='wilcoxon')"
   ]
  },
  {
   "cell_type": "code",
   "execution_count": null,
   "id": "8290c5b5-b505-4a8d-9df2-9080c9558ff2",
   "metadata": {},
   "outputs": [],
   "source": [
    "sc.pl.rank_genes_groups(ad_ROSMAP, n_genes=20, sharey=False)"
   ]
  },
  {
   "cell_type": "markdown",
   "id": "ad197b98-312d-4b08-b117-332a83582c1a",
   "metadata": {},
   "source": [
    "Export DEG table"
   ]
  },
  {
   "cell_type": "code",
   "execution_count": null,
   "id": "a78dba07-e474-4487-bee0-fb98e2292536",
   "metadata": {},
   "outputs": [],
   "source": [
    "# export DEG table\n",
    "celltypes = ad_ROSMAP.obs.clusters2.unique().tolist()\n",
    "merged_df = pd.DataFrame()\n",
    "for group in celltypes:\n",
    "    rank_df = rank_genes_groups_df(adata=ad_ROSMAP, group=group, adj_pval_cutoff=None, log2fc_cutoff=None, sortby='zscore')\n",
    "    merged_df = pd.concat([merged_df, rank_df])\n",
    "    merged_df['reference'] = 'all other clusters'\n",
    "merged_df.head(3)"
   ]
  },
  {
   "cell_type": "code",
   "execution_count": null,
   "id": "0318dc5d-be25-41b4-b421-aa65cec44ea8",
   "metadata": {},
   "outputs": [],
   "source": [
    "merged_df.group.unique().tolist()"
   ]
  },
  {
   "cell_type": "code",
   "execution_count": null,
   "id": "753713d6-ea1d-4e6d-9b10-59d31485288d",
   "metadata": {},
   "outputs": [],
   "source": [
    "# export as csv\n",
    "merged_df.to_csv(os.path.join(main_dir,'P06_vasc_scRNAseq','Garcia2022','DEA',date.today().strftime(\"%Y%m%d\")+'_DE_genes_Garcia2022_incl_zonation.csv'),sep=';')"
   ]
  },
  {
   "cell_type": "markdown",
   "id": "e3517b56-b510-4246-bc8a-88f38f534a41",
   "metadata": {
    "tags": []
   },
   "source": [
    "### Focus on: Foxf2"
   ]
  },
  {
   "cell_type": "code",
   "execution_count": null,
   "id": "adea0211-54e0-4eec-b144-2e643d6f7602",
   "metadata": {},
   "outputs": [],
   "source": [
    "gene=\"FOXF2\""
   ]
  },
  {
   "cell_type": "code",
   "execution_count": null,
   "id": "662f3a78-a09b-4252-a3f1-0f494777d7f2",
   "metadata": {},
   "outputs": [],
   "source": [
    "sc.pl.dotplot(ad_ROSMAP, [gene], groupby='clusters', swap_axes=False, figsize=(2,5), standard_scale=\"var\", layer=\"normalized\")"
   ]
  },
  {
   "cell_type": "code",
   "execution_count": null,
   "id": "25a51bdf-19be-4a3f-9d81-c5d01981b76d",
   "metadata": {},
   "outputs": [],
   "source": [
    "sc.pl.dotplot(ad_ROSMAP, [gene], groupby='clusters2', swap_axes=False, figsize=(2,5), standard_scale=\"var\", layer=\"normalized\")"
   ]
  },
  {
   "cell_type": "markdown",
   "id": "2d189265-8ecb-4a12-9bf2-736776192cf0",
   "metadata": {},
   "source": [
    "## Ex-vivo dataset"
   ]
  },
  {
   "cell_type": "markdown",
   "id": "2024d6d6-01de-4c24-8a18-9bc9a13de396",
   "metadata": {},
   "source": [
    "Healthy tissue from epilepsy patients"
   ]
  },
  {
   "cell_type": "code",
   "execution_count": null,
   "id": "af2d73e2-fbaf-4a76-bfc4-b2defbe97413",
   "metadata": {},
   "outputs": [],
   "source": [
    "# from preprocessed folder"
   ]
  },
  {
   "cell_type": "code",
   "execution_count": null,
   "id": "866fcc4b-c0a8-4429-a759-4c3d8ca6583c",
   "metadata": {},
   "outputs": [],
   "source": [
    "adata = sc.read_csv(os.path.join(main_dir,'Garcia2022','preprocessed','brain.BBB.human.counts.tsv'), delimiter=\"\\t\").transpose()"
   ]
  },
  {
   "cell_type": "code",
   "execution_count": null,
   "id": "5ca30bd3-1277-497c-a289-4e66e86af022",
   "metadata": {},
   "outputs": [],
   "source": [
    "adata.obs_names_make_unique()\n",
    "adata.var_names_make_unique()"
   ]
  },
  {
   "cell_type": "code",
   "execution_count": null,
   "id": "0239404e-e44a-4f48-b929-0ca245b734d0",
   "metadata": {},
   "outputs": [],
   "source": [
    "adata"
   ]
  },
  {
   "cell_type": "code",
   "execution_count": null,
   "id": "033d63ca-36d9-43be-89a4-5563567d7ed8",
   "metadata": {},
   "outputs": [],
   "source": [
    "adata.var.head()"
   ]
  },
  {
   "cell_type": "code",
   "execution_count": null,
   "id": "bd45c67f-ae7e-4ee3-9d75-7fa70ea51011",
   "metadata": {},
   "outputs": [],
   "source": [
    "adata.obs.head()"
   ]
  },
  {
   "cell_type": "code",
   "execution_count": null,
   "id": "105e768f-7b07-4600-8b44-5632bdcbdda3",
   "metadata": {},
   "outputs": [],
   "source": [
    "# Add metadata"
   ]
  },
  {
   "cell_type": "code",
   "execution_count": null,
   "id": "46043d2b-2e3f-4b12-bb38-40285cd47436",
   "metadata": {},
   "outputs": [],
   "source": [
    "meta = pd.read_csv(os.path.join(main_dir,'Garcia2022','preprocessed','brain.BBB.human.meta.txt'), sep='\\t')\n",
    "meta.head(2)"
   ]
  },
  {
   "cell_type": "code",
   "execution_count": null,
   "id": "ae5208e6-23f3-407a-9b96-f69f590aa5de",
   "metadata": {},
   "outputs": [],
   "source": [
    "meta.shape"
   ]
  },
  {
   "cell_type": "code",
   "execution_count": null,
   "id": "661eb879-b5df-4cac-a574-983252ab07b3",
   "metadata": {},
   "outputs": [],
   "source": [
    "meta2 = pd.read_csv(os.path.join(main_dir,'Garcia2022','preprocessed','brain.BBB.human.vascular.final.Jan2022.metadata.txt'), sep='\\t')\n",
    "meta2.index = meta2[\"orig.ident\"]\n",
    "meta2.index.name = None\n",
    "meta2.head(2)"
   ]
  },
  {
   "cell_type": "code",
   "execution_count": null,
   "id": "229957fd-643a-4dd8-ba9c-77e0b07aa814",
   "metadata": {},
   "outputs": [],
   "source": [
    "meta2.shape"
   ]
  },
  {
   "cell_type": "code",
   "execution_count": null,
   "id": "81c0e7d6-77a3-42a0-ae73-3b42124f7baa",
   "metadata": {},
   "outputs": [],
   "source": [
    "pd.value_counts(meta2.cellsubtype)"
   ]
  },
  {
   "cell_type": "code",
   "execution_count": null,
   "id": "c6ec4026-e34c-4f2e-82f0-f02f3bff597f",
   "metadata": {},
   "outputs": [],
   "source": [
    "meta = meta.join(meta2[[\"cellsubtype\"]])"
   ]
  },
  {
   "cell_type": "code",
   "execution_count": null,
   "id": "e9e436bc-993b-4472-bb0e-470a0343fb17",
   "metadata": {},
   "outputs": [],
   "source": [
    "meta['clusters'] = meta['cellsubtype'].fillna(meta['celltype'])"
   ]
  },
  {
   "cell_type": "code",
   "execution_count": null,
   "id": "bf739f32-a4ae-4ef6-955b-43fd4f81bb3c",
   "metadata": {},
   "outputs": [],
   "source": [
    "meta.head(2)"
   ]
  },
  {
   "cell_type": "code",
   "execution_count": null,
   "id": "153ed9cd-69db-4c25-a754-0f880cea6fcc",
   "metadata": {},
   "outputs": [],
   "source": [
    "adata.obs = adata.obs.join(meta)"
   ]
  },
  {
   "cell_type": "code",
   "execution_count": null,
   "id": "ef30c581-3183-493e-b4bb-8629e24cea43",
   "metadata": {},
   "outputs": [],
   "source": [
    "adata.obs.columns"
   ]
  },
  {
   "cell_type": "code",
   "execution_count": null,
   "id": "a6c14312-0bd5-4e79-8552-ae5c422c32e2",
   "metadata": {},
   "outputs": [],
   "source": [
    "adata.obs.head(2)"
   ]
  },
  {
   "cell_type": "code",
   "execution_count": null,
   "id": "fca1040c-e2e7-4397-8a8a-293d340156ba",
   "metadata": {},
   "outputs": [],
   "source": [
    "pd.value_counts(adata.obs[\"snRNAPreparation\"])"
   ]
  },
  {
   "cell_type": "code",
   "execution_count": null,
   "id": "9ba1de72-d45a-4bb4-a005-c157be38816b",
   "metadata": {},
   "outputs": [],
   "source": [
    "pd.value_counts(meta.SampleID)"
   ]
  },
  {
   "cell_type": "code",
   "execution_count": null,
   "id": "88fd546a-cbd8-403f-96a0-d87ce7c55143",
   "metadata": {},
   "outputs": [],
   "source": [
    "pd.value_counts(adata.obs.PatientID)"
   ]
  },
  {
   "cell_type": "code",
   "execution_count": null,
   "id": "1d437894-26a5-4b16-9626-e413f9dc26cc",
   "metadata": {},
   "outputs": [],
   "source": [
    "pd.value_counts(adata.obs.celltype)"
   ]
  },
  {
   "cell_type": "code",
   "execution_count": null,
   "id": "a2c5086e-c138-4fdf-93e0-2d09cda72a44",
   "metadata": {},
   "outputs": [],
   "source": [
    "pd.value_counts(adata.obs.cellsubtype)"
   ]
  },
  {
   "cell_type": "code",
   "execution_count": null,
   "id": "9530a002-e831-46c7-a4c1-bc9e9a85ab69",
   "metadata": {},
   "outputs": [],
   "source": [
    "pd.value_counts(adata.obs.clusters)"
   ]
  },
  {
   "cell_type": "code",
   "execution_count": null,
   "id": "41aac806-e977-4ed8-8a15-dd498aded96c",
   "metadata": {},
   "outputs": [],
   "source": [
    "# Renaming\n",
    "old_to_new = {'aEndo':'aECs',\n",
    "              'Astro':'Astrocytes',\n",
    "              'capEndo':'capECs',\n",
    "              'vEndo':'vECs',\n",
    "              'Per1':'Pericytes',\n",
    "              'Per2':'Pericytes',\n",
    "              'Microglia':'Microglia',\n",
    "              'Ex':'Neurons',\n",
    "              'In':'Neurons',\n",
    "              'OPC':'OPCs',\n",
    "              'Fib1':'Fibroblasts',\n",
    "              'Fib2':'Fibroblasts',\n",
    "              'Fib3':'Fibroblasts',\n",
    "              'aSMC':'SMCs',\n",
    "              'vSMC':'SMCs',\n",
    "              'Oligo':'Oligos'}\n",
    "adata.obs['clusters2'] = (adata.obs['clusters'].map(old_to_new).astype('category'))"
   ]
  },
  {
   "cell_type": "code",
   "execution_count": null,
   "id": "53391ef3-66ed-4a62-8995-3cc7d5535af6",
   "metadata": {},
   "outputs": [],
   "source": [
    "# Renaming\n",
    "old_to_new = {'aEndo':'ECs',\n",
    "              'Astro':'Astrocytes',\n",
    "              'capEndo':'ECs',\n",
    "              'vEndo':'ECs',\n",
    "              'Per1':'Pericytes',\n",
    "              'Per2':'Pericytes',\n",
    "              'Microglia':'Microglia',\n",
    "              'Ex':'Neurons',\n",
    "              'In':'Neurons',\n",
    "              'OPC':'OPCs',\n",
    "              'Fib1':'Fibroblasts',\n",
    "              'Fib2':'Fibroblasts',\n",
    "              'Fib3':'Fibroblasts',\n",
    "              'aSMC':'SMCs',\n",
    "              'vSMC':'SMCs',\n",
    "              'Oligo':'Oligos'}\n",
    "adata.obs['clusters'] = (adata.obs['clusters'].map(old_to_new).astype('category'))"
   ]
  },
  {
   "cell_type": "code",
   "execution_count": null,
   "id": "e4aa4f9b-a93b-45e2-8c2b-21c2e07e64e1",
   "metadata": {},
   "outputs": [],
   "source": [
    "del meta"
   ]
  },
  {
   "cell_type": "code",
   "execution_count": null,
   "id": "a1455f74-d466-457d-bbe0-86b08e5ca16a",
   "metadata": {
    "tags": []
   },
   "outputs": [],
   "source": [
    "# check if data is normalized:"
   ]
  },
  {
   "cell_type": "code",
   "execution_count": null,
   "id": "20d4bfd3-269f-4f0a-8a97-fcd25ed2f3b6",
   "metadata": {},
   "outputs": [],
   "source": [
    "adata.layers"
   ]
  },
  {
   "cell_type": "code",
   "execution_count": null,
   "id": "b0e95bee-9bca-49db-a0f4-8b68d77f540d",
   "metadata": {},
   "outputs": [],
   "source": [
    "adata.X.max()"
   ]
  },
  {
   "cell_type": "code",
   "execution_count": null,
   "id": "853c3fdf-12be-4fb8-8801-47798a0e122f",
   "metadata": {},
   "outputs": [],
   "source": [
    "# show expression of 100 random genes (across all spots)\n",
    "random_genes=random.sample(range(0, adata.X.shape[1]), 100)\n",
    "adata_sub = adata[:,random_genes]\n",
    "exp=pd.DataFrame(np.matrix(adata_sub.X))\n",
    "# plot\n",
    "pl1=sns.displot(data=pd.melt(exp),x='value',height=4,hue='variable',kind=\"kde\",warn_singular=False,legend=False,palette=list(np.repeat('#086da6',100)), lw=0.3) # genes with 0 expression are excluded\n",
    "pl1.set(xlim=(-0.5, 7),ylim=(0,0.007))\n",
    "sns.set_theme(style='white')\n",
    "plt.show()"
   ]
  },
  {
   "cell_type": "code",
   "execution_count": null,
   "id": "304d0300-fd81-4379-b527-1773ad1e5480",
   "metadata": {},
   "outputs": [],
   "source": [
    "sns.set(rc={'figure.figsize':(4,4)})\n",
    "sns.set_theme(style='white')\n",
    "pl=sns.histplot(data=pd.melt(exp),x='value',binwidth=0.5,legend=True,palette=list(np.repeat('#086da6',100)))\n",
    "pl.set(xlim=(0, 10));\n",
    "plt.show()"
   ]
  },
  {
   "cell_type": "markdown",
   "id": "b018f52e-d252-463e-bad3-533cddc03e88",
   "metadata": {},
   "source": [
    "Data is not normalized, therefore normalize and log-transform"
   ]
  },
  {
   "cell_type": "code",
   "execution_count": null,
   "id": "54a80d15-c1b1-4654-a253-393077f75624",
   "metadata": {},
   "outputs": [],
   "source": [
    "adata.layers[\"counts\"] = adata.X.copy() # save unnormalized raw RNA counts - retrieve via ad.X = ad.layers[\"counts\"]"
   ]
  },
  {
   "cell_type": "code",
   "execution_count": null,
   "id": "0deff02f-53a0-49e0-95af-6a0fbbb21808",
   "metadata": {},
   "outputs": [],
   "source": [
    "sc.pp.normalize_total(adata, inplace=True) # Normalize each spot by total counts over all genes, so that every cell has the same total count after normalization."
   ]
  },
  {
   "cell_type": "code",
   "execution_count": null,
   "id": "38994cd9-668f-4530-a934-63fa259c1808",
   "metadata": {},
   "outputs": [],
   "source": [
    "sc.pp.log1p(adata) # X = log(X + 1)"
   ]
  },
  {
   "cell_type": "code",
   "execution_count": null,
   "id": "11896cc7-d8ae-4a14-acb2-c43a89cf8599",
   "metadata": {},
   "outputs": [],
   "source": [
    "# show expression of 100 random genes (across all spots)\n",
    "adata_sub = adata[:,random_genes]\n",
    "exp=pd.DataFrame(np.matrix(adata_sub.X))\n",
    "# plot\n",
    "pl=sns.displot(data=pd.melt(exp),x='value',height=4,hue='variable',kind=\"kde\",warn_singular=False,legend=False,palette=list(np.repeat('#086da6',100)), lw=0.5) # genes with 0 expression are excluded\n",
    "pl.set(xlim=(-0.25, 3.5),ylim=(0,0.005));\n",
    "plt.show()"
   ]
  },
  {
   "cell_type": "code",
   "execution_count": null,
   "id": "a0aa39ea-2ca6-4bbd-8f71-691ee4eb8f07",
   "metadata": {},
   "outputs": [],
   "source": [
    "pl=sns.histplot(data=pd.melt(exp),x='value',binwidth=0.5,legend=True,palette=list(np.repeat('#086da6',100)));\n",
    "pl.set(xlim=(0, 10));\n",
    "plt.show()"
   ]
  },
  {
   "cell_type": "code",
   "execution_count": null,
   "id": "e6a7ec2a-df98-4c4d-b5be-d100173880a1",
   "metadata": {},
   "outputs": [],
   "source": [
    "adata.layers[\"normalized\"] = adata.X.copy() # retrieve via adata.X = adata.layers[\"normalized\"]"
   ]
  },
  {
   "cell_type": "code",
   "execution_count": null,
   "id": "46399d37-1c2e-41d5-9be1-848fc5dd6140",
   "metadata": {},
   "outputs": [],
   "source": [
    "# Identify highly-variable genes\n",
    "sc.pp.highly_variable_genes(adata)\n",
    "sc.pl.highly_variable_genes(adata)"
   ]
  },
  {
   "cell_type": "code",
   "execution_count": null,
   "id": "4f311bf1-0d9b-4e16-a529-d70096d92a89",
   "metadata": {},
   "outputs": [],
   "source": [
    "adata"
   ]
  },
  {
   "cell_type": "code",
   "execution_count": null,
   "id": "14f061f1-e46b-4e3e-94fb-a3d1299a150a",
   "metadata": {},
   "outputs": [],
   "source": [
    "adata.layers"
   ]
  },
  {
   "cell_type": "markdown",
   "id": "505987aa-c261-4c82-9fbb-06159a975eee",
   "metadata": {},
   "source": [
    "### Dim Reduction"
   ]
  },
  {
   "cell_type": "code",
   "execution_count": null,
   "id": "7273dc15-0e59-4f48-b776-1e508c25740c",
   "metadata": {},
   "outputs": [],
   "source": [
    "sc.tl.pca(adata)\n",
    "sc.pl.pca_variance_ratio(adata)"
   ]
  },
  {
   "cell_type": "code",
   "execution_count": null,
   "id": "b9694400-8b42-4385-932a-144be4de54fa",
   "metadata": {},
   "outputs": [],
   "source": [
    "sc.pp.neighbors(adata)\n",
    "sc.tl.umap(adata)"
   ]
  },
  {
   "cell_type": "code",
   "execution_count": null,
   "id": "d6a3d480-9d9e-4e0e-b9d9-2f009c6260da",
   "metadata": {},
   "outputs": [],
   "source": [
    "sc.pl.umap(adata, color='clusters')"
   ]
  },
  {
   "cell_type": "markdown",
   "id": "efb1837b-acfb-4642-b5f0-57691b1cf377",
   "metadata": {},
   "source": [
    "### Marker genes"
   ]
  },
  {
   "cell_type": "code",
   "execution_count": null,
   "id": "fc230181-8825-4efa-9c69-a78e7927a9ca",
   "metadata": {},
   "outputs": [],
   "source": [
    "sc.tl.rank_genes_groups(adata, 'clusters')"
   ]
  },
  {
   "cell_type": "code",
   "execution_count": null,
   "id": "c8d6c090-c728-41b0-942f-4207f329d25c",
   "metadata": {},
   "outputs": [],
   "source": [
    "sc.pl.rank_genes_groups_dotplot(adata,n_genes=5)"
   ]
  },
  {
   "cell_type": "markdown",
   "id": "a7674820-2c46-4146-b31a-8535c5685cf8",
   "metadata": {
    "tags": []
   },
   "source": [
    "### Focus on: Foxf2"
   ]
  },
  {
   "cell_type": "code",
   "execution_count": null,
   "id": "f6ce2531-77c3-44f1-85af-570d5ba8adde",
   "metadata": {},
   "outputs": [],
   "source": [
    "gene=\"FOXF2\""
   ]
  },
  {
   "cell_type": "code",
   "execution_count": null,
   "id": "eac79ea8-3512-481a-85d0-5298f5b21f41",
   "metadata": {},
   "outputs": [],
   "source": [
    "sc.pl.matrixplot(adata, [gene], groupby='clusters', swap_axes=False, figsize=(2,5), standard_scale=\"var\", layer=\"normalized\")"
   ]
  },
  {
   "cell_type": "code",
   "execution_count": null,
   "id": "257516af-5571-4cc7-b6cb-0080893d357d",
   "metadata": {},
   "outputs": [],
   "source": [
    "sc.pl.dotplot(adata, [gene], groupby='clusters2', swap_axes=False, figsize=(2,5), standard_scale=\"var\", layer=\"normalized\")"
   ]
  },
  {
   "cell_type": "markdown",
   "id": "80ee0839-ecfd-4edf-b202-694748d9a2d8",
   "metadata": {},
   "source": [
    "## Merge"
   ]
  },
  {
   "cell_type": "code",
   "execution_count": null,
   "id": "41eb632b-c569-4351-aa29-458a63ac5615",
   "metadata": {},
   "outputs": [],
   "source": [
    "adata = ad.concat([adata, ad_ROSMAP], join=\"inner\") # ignore batch effects because data is pre-annotated"
   ]
  },
  {
   "cell_type": "code",
   "execution_count": null,
   "id": "48dfd5fa-733a-4a69-b92b-09aeaba97848",
   "metadata": {},
   "outputs": [],
   "source": [
    "adata"
   ]
  },
  {
   "cell_type": "markdown",
   "id": "215d9fc0-283f-49eb-bc91-f09d88c65648",
   "metadata": {
    "tags": []
   },
   "source": [
    "# Focus on: Foxf2"
   ]
  },
  {
   "cell_type": "code",
   "execution_count": null,
   "id": "c6e0a5de-e1ae-43a6-8788-0444dc637504",
   "metadata": {},
   "outputs": [],
   "source": [
    "gene=\"FOXF2\""
   ]
  },
  {
   "cell_type": "markdown",
   "id": "d7e91675-b96a-4ea6-b1e2-7c5179e8dff6",
   "metadata": {},
   "source": [
    "## Excl zonation"
   ]
  },
  {
   "cell_type": "code",
   "execution_count": null,
   "id": "d50bc8a2-5d9b-4479-966b-5ae3ffefa706",
   "metadata": {},
   "outputs": [],
   "source": [
    "sc.pl.matrixplot(adata, [gene], groupby='clusters', swap_axes=False, figsize=(2,5), standard_scale=\"var\", layer=\"normalized\")"
   ]
  },
  {
   "cell_type": "code",
   "execution_count": null,
   "id": "b10096c8-ed64-47a2-a713-ef3ddc9f4056",
   "metadata": {},
   "outputs": [],
   "source": [
    "sc.pl.matrixplot(adata, [gene], groupby='clusters2', swap_axes=False, figsize=(2,5), standard_scale=\"var\", layer=\"normalized\")"
   ]
  },
  {
   "cell_type": "code",
   "execution_count": null,
   "id": "3070ed04-c323-412b-8db4-2a94ac0ab4c6",
   "metadata": {},
   "outputs": [],
   "source": [
    "sc.pl.dotplot(adata, [gene], groupby='clusters', swap_axes=False, figsize=(2,5), standard_scale=\"var\", layer=\"normalized\")"
   ]
  },
  {
   "cell_type": "code",
   "execution_count": null,
   "id": "6142e508-d2b5-47e4-92e5-55e3fd9ad9d9",
   "metadata": {},
   "outputs": [],
   "source": [
    "sc.pl.dotplot(adata, [gene], groupby='clusters2', swap_axes=False, figsize=(2,5), standard_scale=\"var\", layer=\"normalized\")"
   ]
  },
  {
   "cell_type": "code",
   "execution_count": null,
   "id": "50a90144-faab-4b1f-b24e-293bcf88c268",
   "metadata": {},
   "outputs": [],
   "source": [
    "utils.summarize_gene_expression(adata = adata, gene = gene, groupby = \"clusters\", \n",
    "                                study_name = dataset_name, organism = organism,\n",
    "                                export = True, output_dir = os.path.join(main_dir, \"Foxf2_summarized\")\n",
    "                               )"
   ]
  },
  {
   "cell_type": "markdown",
   "id": "375353f5-94b3-47d6-b1bd-b7fd83839df5",
   "metadata": {},
   "source": [
    "## Incl zonation"
   ]
  },
  {
   "cell_type": "code",
   "execution_count": null,
   "id": "5e89e710-89a6-4b42-bc7b-360457ae8134",
   "metadata": {},
   "outputs": [],
   "source": [
    "utils.summarize_gene_expression(adata = adata, gene = gene, groupby = \"clusters2\", \n",
    "                                study_name = dataset_name, organism = organism,\n",
    "                                export = True, output_dir = os.path.join(main_dir, \"Foxf2_summarized\", \"incl_zonation\")\n",
    "                               )"
   ]
  },
  {
   "cell_type": "markdown",
   "id": "3cea61d6-4981-467b-a19b-4c27d79a5fca",
   "metadata": {},
   "source": [
    "# Focus on: Other genes"
   ]
  },
  {
   "cell_type": "code",
   "execution_count": null,
   "id": "17a2bb96-2377-493f-9e38-77e4e3487a3f",
   "metadata": {},
   "outputs": [],
   "source": [
    "target_genes = [\"Foxo1\", \"Tek\", \"Nos3\", \"Htra1\", \"Egfl8\", \"Flt1\", \"Kdr\", \"Ptprb\", \"Nrp1\", \"Nrp2\", \"Efnb2\", \"Itgb1\", \"Itga6\", \"Angpt2\", \"Cdh5\", \"Cldn5\", \"Ocln\", \"Ctnnb1\"]"
   ]
  },
  {
   "cell_type": "code",
   "execution_count": null,
   "id": "54e01ee8-8066-4e04-b3fd-8b0913e20d60",
   "metadata": {},
   "outputs": [],
   "source": [
    "target_genes = [gene.upper() for gene in target_genes]\n",
    "target_genes"
   ]
  },
  {
   "cell_type": "markdown",
   "id": "077df4c3-c5fa-4f88-b68f-a8d36917a868",
   "metadata": {
    "tags": []
   },
   "source": [
    "## Excl zonation"
   ]
  },
  {
   "cell_type": "code",
   "execution_count": null,
   "id": "edfb2194-092a-4949-8fd5-a787eab1a023",
   "metadata": {},
   "outputs": [],
   "source": [
    "groupby = \"clusters\""
   ]
  },
  {
   "cell_type": "code",
   "execution_count": null,
   "id": "d1c7956a-1a6e-4936-a052-e31163460ed0",
   "metadata": {},
   "outputs": [],
   "source": [
    "other_genes_results = {\n",
    "    gene: utils.summarize_gene_expression(adata, gene, study_name = dataset_name, organism = organism, groupby = groupby, \n",
    "                                          output_dir=os.path.join(main_dir, \"Other_genes_summarized\"), export=True\n",
    "                                         ) for gene in target_genes\n",
    "}"
   ]
  },
  {
   "cell_type": "code",
   "execution_count": null,
   "id": "e7951a2f-1346-488c-96c6-179e6671175e",
   "metadata": {},
   "outputs": [],
   "source": [
    "# some plots"
   ]
  },
  {
   "cell_type": "code",
   "execution_count": null,
   "id": "c42bc5af-7d1d-41c0-b7e1-a4c1b6e58bcc",
   "metadata": {
    "tags": []
   },
   "outputs": [],
   "source": [
    "sc.pl.matrixplot(adata, [target_genes[0]], groupby=groupby, swap_axes=False, figsize=(2,5), standard_scale=\"var\", layer=\"normalized\")"
   ]
  },
  {
   "cell_type": "code",
   "execution_count": null,
   "id": "8498a9c7-37ac-4cb9-8c81-88538d0f1dbc",
   "metadata": {},
   "outputs": [],
   "source": [
    "sc.pl.dotplot(adata, [target_genes[0]], groupby=groupby, swap_axes=False, figsize=(2,5), standard_scale=\"var\", layer=\"normalized\")"
   ]
  },
  {
   "cell_type": "code",
   "execution_count": null,
   "id": "34d81e40-7f23-4418-a37f-fabdcdb746ca",
   "metadata": {},
   "outputs": [],
   "source": [
    "sc.pl.matrixplot(adata, [target_genes[1]], groupby=groupby, swap_axes=False, figsize=(2,5), standard_scale=\"var\", layer=\"normalized\")"
   ]
  },
  {
   "cell_type": "code",
   "execution_count": null,
   "id": "56181570-8159-4767-a11b-a81d81f0adb0",
   "metadata": {},
   "outputs": [],
   "source": [
    "sc.pl.dotplot(adata, [target_genes[1]], groupby=groupby, swap_axes=False, figsize=(2,5), standard_scale=\"var\", layer=\"normalized\")"
   ]
  },
  {
   "cell_type": "markdown",
   "id": "3866536b-a162-414a-b5db-ab2f94e4d4d4",
   "metadata": {
    "tags": []
   },
   "source": [
    "## Incl zonation"
   ]
  },
  {
   "cell_type": "code",
   "execution_count": null,
   "id": "5538e5b1-a109-4406-90ee-5391d9d7ebae",
   "metadata": {},
   "outputs": [],
   "source": [
    "groupby = \"clusters2\""
   ]
  },
  {
   "cell_type": "code",
   "execution_count": null,
   "id": "6be1ffd4-75c9-4a7a-ba2f-c89e1ab273c2",
   "metadata": {},
   "outputs": [],
   "source": [
    "other_genes_results = {\n",
    "    gene: utils.summarize_gene_expression(adata, gene, study_name = dataset_name, organism = organism, groupby = groupby, \n",
    "                                          output_dir=os.path.join(main_dir, \"Other_genes_summarized\", \"incl_zonation\"), export=True\n",
    "                                         ) for gene in target_genes\n",
    "}"
   ]
  },
  {
   "cell_type": "code",
   "execution_count": null,
   "id": "745e4f0d-381c-4704-ad53-f56a060e897e",
   "metadata": {},
   "outputs": [],
   "source": [
    "# some plots"
   ]
  },
  {
   "cell_type": "code",
   "execution_count": null,
   "id": "efdf5ada-c4d3-490a-8940-2ebdf9fb5510",
   "metadata": {
    "tags": []
   },
   "outputs": [],
   "source": [
    "sc.pl.matrixplot(adata, [target_genes[0]], groupby=groupby, swap_axes=False, figsize=(2,5), standard_scale=\"var\", layer=\"normalized\")"
   ]
  },
  {
   "cell_type": "code",
   "execution_count": null,
   "id": "8f78eade-2567-4ac9-a15b-c315ff98e4f2",
   "metadata": {},
   "outputs": [],
   "source": [
    "sc.pl.dotplot(adata, [target_genes[0]], groupby=groupby, swap_axes=False, figsize=(2,5), standard_scale=\"var\", layer=\"normalized\")"
   ]
  },
  {
   "cell_type": "code",
   "execution_count": null,
   "id": "4bda1e78-4807-4713-a64a-22459ee069ea",
   "metadata": {},
   "outputs": [],
   "source": [
    "sc.pl.matrixplot(adata, [target_genes[1]], groupby=groupby, swap_axes=False, figsize=(2,5), standard_scale=\"var\", layer=\"normalized\")"
   ]
  },
  {
   "cell_type": "code",
   "execution_count": null,
   "id": "8b04fbd0-428c-41f2-8718-07bb474c7729",
   "metadata": {},
   "outputs": [],
   "source": [
    "sc.pl.dotplot(adata, [target_genes[1]], groupby=groupby, swap_axes=False, figsize=(2,5), standard_scale=\"var\", layer=\"normalized\")"
   ]
  },
  {
   "cell_type": "markdown",
   "id": "2b50bbcc-d764-49b9-8cc0-d3173fd8239e",
   "metadata": {},
   "source": [
    "# Session Info"
   ]
  },
  {
   "cell_type": "code",
   "execution_count": null,
   "id": "06401063-4335-4d98-ad41-2bab36a17eab",
   "metadata": {},
   "outputs": [],
   "source": [
    "sc.logging.print_versions()"
   ]
  },
  {
   "cell_type": "code",
   "execution_count": null,
   "id": "3ed23645-e26c-44c0-865f-c28ed6478ca4",
   "metadata": {},
   "outputs": [],
   "source": []
  }
 ],
 "metadata": {
  "kernelspec": {
   "display_name": "Python 3 (ipykernel)",
   "language": "python",
   "name": "python3"
  },
  "language_info": {
   "codemirror_mode": {
    "name": "ipython",
    "version": 3
   },
   "file_extension": ".py",
   "mimetype": "text/x-python",
   "name": "python",
   "nbconvert_exporter": "python",
   "pygments_lexer": "ipython3"
  }
 },
 "nbformat": 4,
 "nbformat_minor": 5
}
