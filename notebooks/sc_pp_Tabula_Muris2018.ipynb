{
 "cells": [
  {
   "cell_type": "markdown",
   "id": "9bfa00be-69ba-4146-aba2-818b967492c3",
   "metadata": {
    "jp-MarkdownHeadingCollapsed": true,
    "tags": []
   },
   "source": [
    "<font size=\"+3.8\">Scanpy single-cell pre-processing</font>  \n",
    "<font size=\"+1.5\"></font>  "
   ]
  },
  {
   "cell_type": "markdown",
   "id": "563f0b43-ce10-475f-b355-6fa8a2406dad",
   "metadata": {},
   "source": [
    "Aim: Preprocess annotated mouse brain single-cell data from Tabula Muris (Schaum 2018 Nature)"
   ]
  },
  {
   "cell_type": "code",
   "execution_count": null,
   "id": "af8759cd-cce2-4e87-8b47-fad431d0f278",
   "metadata": {
    "tags": []
   },
   "outputs": [],
   "source": [
    "from datetime import date\n",
    "date.today().strftime('%d/%m/%Y')"
   ]
  },
  {
   "cell_type": "code",
   "execution_count": null,
   "id": "9a6d3d99-6382-4275-b5b6-c49f14d2c8d9",
   "metadata": {
    "tags": []
   },
   "outputs": [],
   "source": [
    "import os\n",
    "os.getlogin()"
   ]
  },
  {
   "cell_type": "code",
   "execution_count": null,
   "id": "2fea7ac9-c25e-44eb-9f7b-82d5087622f4",
   "metadata": {},
   "outputs": [],
   "source": [
    "import random\n",
    "import numpy as np\n",
    "import scipy as sp\n",
    "import pandas as pd\n",
    "import matplotlib.pyplot as plt\n",
    "from matplotlib.pyplot import rc_context\n",
    "from matplotlib import rcParams\n",
    "from matplotlib import colors\n",
    "import seaborn as sns\n",
    "import platform"
   ]
  },
  {
   "cell_type": "code",
   "execution_count": null,
   "id": "39ef90cd-15cf-40b4-b880-1a70d1602cc8",
   "metadata": {},
   "outputs": [],
   "source": [
    "import anndata\n",
    "import scanpy as sc\n",
    "import scipy as sci\n",
    "sc.settings.verbosity = 3"
   ]
  },
  {
   "cell_type": "code",
   "execution_count": null,
   "id": "1ba7345e-107a-4a91-8dde-1c17abe53df2",
   "metadata": {},
   "outputs": [],
   "source": [
    "import utils"
   ]
  },
  {
   "cell_type": "code",
   "execution_count": null,
   "id": "01e73783-52a2-4e4b-8fe2-ac9101ba6372",
   "metadata": {
    "tags": []
   },
   "outputs": [],
   "source": [
    "os.environ['CONDA_DEFAULT_ENV'] # conda env"
   ]
  },
  {
   "cell_type": "code",
   "execution_count": null,
   "id": "19b1caf0-b6ba-40d8-a148-29c3f1601dbf",
   "metadata": {
    "tags": []
   },
   "outputs": [],
   "source": [
    "platform.platform()"
   ]
  },
  {
   "cell_type": "code",
   "execution_count": null,
   "id": "394740ba-a60e-4534-a468-ab5236912122",
   "metadata": {},
   "outputs": [],
   "source": [
    "os.getcwd()"
   ]
  },
  {
   "cell_type": "code",
   "execution_count": null,
   "id": "49bdb1f2-bf71-41d7-abe6-a0ee2234c4b3",
   "metadata": {},
   "outputs": [],
   "source": [
    "main_dir='\\\\\\isdsynnas.srv.med.uni-muenchen.de\\BD-Dichgans\\SF' # Win\n",
    "main_dir='/Volumes/BD-Dichgans/SF'# Mac"
   ]
  },
  {
   "cell_type": "code",
   "execution_count": null,
   "id": "655fc9ec-5b0a-4898-80b7-b1c614b42f44",
   "metadata": {},
   "outputs": [],
   "source": [
    "dataset_name = \"TabulaMuris2018\"\n",
    "organism = \"Mouse\""
   ]
  },
  {
   "cell_type": "markdown",
   "id": "067b131c-bdfa-498c-83bf-a8119a92140f",
   "metadata": {},
   "source": [
    "# Load + format data"
   ]
  },
  {
   "cell_type": "markdown",
   "id": "c2a0db04-3989-432e-8f92-1750d873901d",
   "metadata": {},
   "source": [
    "## Annotated by authors"
   ]
  },
  {
   "cell_type": "markdown",
   "id": "695d41b0-da87-4a7e-90c8-d732dabe1a9b",
   "metadata": {},
   "source": [
    "Partly adapted from https://github.com/theislab/scib-reproducibility/blob/main/notebooks/data_preprocessing/mouse_brain/01_collect_mouse_brain_studies.ipynb"
   ]
  },
  {
   "cell_type": "markdown",
   "id": "572ca1b4-4642-4994-a1c3-090539a44315",
   "metadata": {},
   "source": [
    "Using FACS sorted cells, from:  \n",
    " -Brain_Myeloid-counts.csv  \n",
    " -Brain_Non-Myeloid-counts.csv"
   ]
  },
  {
   "cell_type": "markdown",
   "id": "3edf3770-2531-4795-b39c-9fdc6a6b1cfc",
   "metadata": {},
   "source": [
    "Publication: https://www.nature.com/articles/s41586-018-0590-4  \n",
    "Downloaded from: https://figshare.com/articles/dataset/Single-cell_RNA-seq_data_from_Smart-seq2_sequencing_of_FACS_sorted_cells/5715040"
   ]
  },
  {
   "cell_type": "code",
   "execution_count": null,
   "id": "4a093c26-1876-4fb4-acd3-65d8891797a9",
   "metadata": {},
   "outputs": [],
   "source": [
    "# adata_tamu_myel = sc.read_csv('./../../DL_annotation/mouse_brain_data/Tabula_muris_2018/FACS/Brain_Myeloid-counts.csv').T"
   ]
  },
  {
   "cell_type": "code",
   "execution_count": null,
   "id": "080c578d-b9dc-49f8-9f8d-904d2b8e789c",
   "metadata": {},
   "outputs": [],
   "source": [
    "# adata_tamu_nonmyel = sc.read_csv('./../../DL_annotation/mouse_brain_data/Tabula_muris_2018/FACS/Brain_Non-Myeloid-counts.csv').T"
   ]
  },
  {
   "cell_type": "code",
   "execution_count": null,
   "id": "432c5aa9-57b3-4fa1-a52c-c92b125211bf",
   "metadata": {},
   "outputs": [],
   "source": [
    "# download source differs to the one used by Maren Buettner. I assume Brain_Myeloid-counts equals Brain_Microglia-counts.csv."
   ]
  },
  {
   "cell_type": "code",
   "execution_count": null,
   "id": "f06b42bc-7644-4a1f-8597-e32d89f30e2d",
   "metadata": {},
   "outputs": [],
   "source": [
    "adata_tamu_myel = sc.read_csv(os.path.join(main_dir,'P06_vasc_scRNAseq','TabulaMuris2018','FACS','Brain_Microglia-counts.csv')).T"
   ]
  },
  {
   "cell_type": "code",
   "execution_count": null,
   "id": "6650e439-c31c-4bf4-8be8-36c3dbf36f44",
   "metadata": {},
   "outputs": [],
   "source": [
    "adata_tamu_nonmyel = sc.read_csv(os.path.join(main_dir,'P06_vasc_scRNAseq','TabulaMuris2018','FACS','Brain_Neurons-counts.csv')).T"
   ]
  },
  {
   "cell_type": "code",
   "execution_count": null,
   "id": "7e38649d-cfd8-4b7f-a684-132eca115267",
   "metadata": {},
   "outputs": [],
   "source": [
    "adata_tamu_myel"
   ]
  },
  {
   "cell_type": "code",
   "execution_count": null,
   "id": "12cc5e5e-755d-4e03-8761-4cae9b842d8d",
   "metadata": {},
   "outputs": [],
   "source": [
    "adata_tamu_nonmyel"
   ]
  },
  {
   "cell_type": "markdown",
   "id": "f8bd3a3a-862c-4e4f-9487-86118f546619",
   "metadata": {},
   "source": [
    "Merge brain dataset objects from Tabula Muris. "
   ]
  },
  {
   "cell_type": "code",
   "execution_count": null,
   "id": "68360a7a-1ca2-48a0-88a3-e94207c965dd",
   "metadata": {},
   "outputs": [],
   "source": [
    "adata_tamu = adata_tamu_myel.concatenate(adata_tamu_nonmyel)"
   ]
  },
  {
   "cell_type": "code",
   "execution_count": null,
   "id": "1e3001d2-824d-4b7e-b995-94069ac6b43d",
   "metadata": {},
   "outputs": [],
   "source": [
    "adata_tamu"
   ]
  },
  {
   "cell_type": "markdown",
   "id": "7fd62fff-9fa6-4ab8-ac5a-5743123e080d",
   "metadata": {},
   "source": [
    "Convert Tabula Muris dataset into a sparse matrix."
   ]
  },
  {
   "cell_type": "code",
   "execution_count": null,
   "id": "c2ef34c5-8fb2-4bc3-b9a6-24012e8806be",
   "metadata": {},
   "outputs": [],
   "source": [
    "adata_tamu.X = sci.sparse.csr_matrix(adata_tamu.X)"
   ]
  },
  {
   "cell_type": "code",
   "execution_count": null,
   "id": "77642983-0d11-44d7-9ea1-59840fba8f5a",
   "metadata": {},
   "outputs": [],
   "source": [
    "test = [x for x in adata_tamu.obs_names.str.split('-')]"
   ]
  },
  {
   "cell_type": "code",
   "execution_count": null,
   "id": "c17a03ba-8318-47a9-9a5d-d8aa3aa61d7c",
   "metadata": {},
   "outputs": [],
   "source": [
    "adata_tamu.obs_names = [x[0] for x in test]"
   ]
  },
  {
   "cell_type": "markdown",
   "id": "ad3981a2-c7af-47f5-9b1b-8c4715f5865f",
   "metadata": {},
   "source": [
    "Load annotation file."
   ]
  },
  {
   "cell_type": "code",
   "execution_count": null,
   "id": "1be82483-a220-4cf1-8ad7-378d890e8cb1",
   "metadata": {},
   "outputs": [],
   "source": [
    "anno_tamu = pd.read_csv(os.path.join(main_dir,'P06_vasc_scRNAseq','TabulaMuris2018','annotations_FACS.csv'), low_memory=False)\n",
    "meta_tamu = pd.read_csv(os.path.join(main_dir,'P06_vasc_scRNAseq','TabulaMuris2018','metadata_FACS.csv'))"
   ]
  },
  {
   "cell_type": "code",
   "execution_count": null,
   "id": "c9cda5a3-296c-49a6-8b77-7dca880700ba",
   "metadata": {},
   "outputs": [],
   "source": [
    "anno_tamu.shape"
   ]
  },
  {
   "cell_type": "code",
   "execution_count": null,
   "id": "562e072c-e13e-4d1d-a98d-ce9cd7c97b8e",
   "metadata": {},
   "outputs": [],
   "source": [
    "anno_tamu.columns"
   ]
  },
  {
   "cell_type": "code",
   "execution_count": null,
   "id": "34908a91-053a-4e99-b8e9-bdbcd82e82e7",
   "metadata": {},
   "outputs": [],
   "source": [
    "red_idx2 = np.isin(adata_tamu.obs.index, anno_tamu.cell)"
   ]
  },
  {
   "cell_type": "code",
   "execution_count": null,
   "id": "d6be2707-6858-47e2-a602-ff9996e0b507",
   "metadata": {},
   "outputs": [],
   "source": [
    "red_idx2.sum()"
   ]
  },
  {
   "cell_type": "code",
   "execution_count": null,
   "id": "426687ea-1971-45c0-acad-c6602873130a",
   "metadata": {},
   "outputs": [],
   "source": [
    "adata_tamu = adata_tamu[red_idx2,:]"
   ]
  },
  {
   "cell_type": "code",
   "execution_count": null,
   "id": "41ff7877-466d-4151-939c-26e2da2922c7",
   "metadata": {},
   "outputs": [],
   "source": [
    "red_idx = np.isin(anno_tamu.cell,adata_tamu.obs.index)"
   ]
  },
  {
   "cell_type": "code",
   "execution_count": null,
   "id": "503eca64-0086-415b-b240-5ce622460ba8",
   "metadata": {},
   "outputs": [],
   "source": [
    "anno_tamu_red = anno_tamu.loc[red_idx ,:]"
   ]
  },
  {
   "cell_type": "code",
   "execution_count": null,
   "id": "7a535eb4-7b13-42e8-b0f3-6beb4b741544",
   "metadata": {},
   "outputs": [],
   "source": [
    "anno_tamu_red.index = anno_tamu_red.cell"
   ]
  },
  {
   "cell_type": "code",
   "execution_count": null,
   "id": "75c65282-6788-4a10-85c6-3271b94b0839",
   "metadata": {},
   "outputs": [],
   "source": [
    "pd.value_counts(anno_tamu_red.cell_ontology_class)"
   ]
  },
  {
   "cell_type": "code",
   "execution_count": null,
   "id": "f219f118-caff-49c6-a88f-2c34ae5e1165",
   "metadata": {},
   "outputs": [],
   "source": [
    "adata_tamu.obs['cell_ontology_class'] = anno_tamu_red.cell_ontology_class\n",
    "adata_tamu.obs['cell_ontology_class'] = adata_tamu.obs['cell_ontology_class'].astype('category')\n",
    "adata_tamu.obs['cell_ontology_id'] = anno_tamu_red.cell_ontology_id\n",
    "adata_tamu.obs['cell_ontology_id'] = adata_tamu.obs['cell_ontology_id'].astype('category')"
   ]
  },
  {
   "cell_type": "code",
   "execution_count": null,
   "id": "70a26d7e-c6aa-4dbc-be94-30844715bff5",
   "metadata": {},
   "outputs": [],
   "source": [
    "# adata_tamu.obs['region'] = anno_tamu_red.subtissue\n",
    "# adata_tamu.obs['region'].loc[pd.isnull(adata_tamu.obs['region'])] ='Unknown'\n",
    "# adata_tamu.obs['region'] = adata_tamu.obs['region'].astype('category')"
   ]
  },
  {
   "cell_type": "code",
   "execution_count": null,
   "id": "f1daa20b-6ba3-4e5f-877b-9f2e3595a9d6",
   "metadata": {},
   "outputs": [],
   "source": [
    "# adata_tamu.obs['region'].cat.categories"
   ]
  },
  {
   "cell_type": "markdown",
   "id": "ced49114-2a73-4ee7-8b38-9430d4b8428f",
   "metadata": {},
   "source": [
    "Rename regions to fit with the other data sets."
   ]
  },
  {
   "cell_type": "code",
   "execution_count": null,
   "id": "a0b62064-1c23-4c11-9937-76cdead2c1cd",
   "metadata": {},
   "outputs": [],
   "source": [
    "# tabula_dict = dict({'Cerebellum' : 'CB', \n",
    "#                     'Cortex' : 'CTX', \n",
    "#                     'Hippocampus' : 'HC', \n",
    "#                     'Striatum' : 'STR'})"
   ]
  },
  {
   "cell_type": "code",
   "execution_count": null,
   "id": "73dea6a5-95d3-42f6-b724-9af5b71f7b9c",
   "metadata": {},
   "outputs": [],
   "source": [
    "# adata_tamu.obs['region'] = adata_tamu.obs['region'].cat.rename_categories(tabula_dict)"
   ]
  },
  {
   "cell_type": "code",
   "execution_count": null,
   "id": "05b4bddb-349d-4753-a3bd-24742f16bb01",
   "metadata": {},
   "outputs": [],
   "source": [
    "# adata_tamu.obs['region'].value_counts()"
   ]
  },
  {
   "cell_type": "code",
   "execution_count": null,
   "id": "bb0be94d-954c-46ff-a5ba-2a1e8bcb9a46",
   "metadata": {},
   "outputs": [],
   "source": [
    "adata_tamu.obs['study'] = 'Tabula_Muris'"
   ]
  },
  {
   "cell_type": "code",
   "execution_count": null,
   "id": "c7b44870-8221-4729-b6ff-07091512e127",
   "metadata": {},
   "outputs": [],
   "source": [
    "adata_tamu.obs['cell_ontology_class'].cat.categories"
   ]
  },
  {
   "cell_type": "markdown",
   "id": "7f475d38-7874-4e73-a146-06defd9f5aca",
   "metadata": {},
   "source": [
    "Apply own re-ordering of annotation according to cell types of interest:"
   ]
  },
  {
   "cell_type": "code",
   "execution_count": null,
   "id": "c3a0e13f-4a16-43b8-9634-6de663c56baa",
   "metadata": {},
   "outputs": [],
   "source": [
    "# # previous from scib:\n",
    "# adata_tamu.obs['cell_type'] = adata_tamu.obs['cell_ontology_class'].cat.add_categories(['astrocyte'])\n",
    "\n",
    "# adata_tamu.obs['cell_type'][np.in1d(adata_tamu.obs['cell_ontology_class'], \n",
    "#                                      ['Bergmann glial cell', 'astrocyte of the cerebral cortex'])] =  'astrocyte'\n",
    "\n",
    "# adata_tamu.obs['cell_type'] = adata_tamu.obs['cell_type'].cat.remove_unused_categories()"
   ]
  },
  {
   "cell_type": "code",
   "execution_count": null,
   "id": "1380f830-ca05-443e-88cd-24cb9b1938a5",
   "metadata": {},
   "outputs": [],
   "source": [
    "# Novel:"
   ]
  },
  {
   "cell_type": "code",
   "execution_count": null,
   "id": "97f31a50-1a45-4486-84ba-04ba3b982b3d",
   "metadata": {},
   "outputs": [],
   "source": [
    "adata_tamu.obs['cell_type'] = adata_tamu.obs['cell_ontology_class'].cat.add_categories(['Oligos','Endothelial cells','OPCs','Neurons','Pericytes','Microglia/Macrophages','Unknown','Neuronal stem cells','SMCs','Astrocytes'])"
   ]
  },
  {
   "cell_type": "code",
   "execution_count": null,
   "id": "5f2808db-66bc-436a-a9d2-7b29f809a332",
   "metadata": {},
   "outputs": [],
   "source": [
    "adata_tamu.obs['cell_type'][np.in1d(adata_tamu.obs['cell_ontology_class'], \n",
    "                                     ['Bergmann glial cell', 'astrocyte of the cerebral cortex'])] =  'Astrocytes'\n",
    "\n",
    "adata_tamu.obs['cell_type'][np.in1d(adata_tamu.obs['cell_ontology_class'], \n",
    "                                     ['oligodendrocyte'])] =  'Oligos'\n",
    "\n",
    "adata_tamu.obs['cell_type'][np.in1d(adata_tamu.obs['cell_ontology_class'], \n",
    "                                     ['endothelial cell'])] =  'Endothelial cells'\n",
    "\n",
    "adata_tamu.obs['cell_type'][np.in1d(adata_tamu.obs['cell_ontology_class'], \n",
    "                                     ['oligodendrocyte precursor cell'])] =  'OPCs'\n",
    "\n",
    "adata_tamu.obs['cell_type'][np.in1d(adata_tamu.obs['cell_ontology_class'], \n",
    "                                     ['neuron'])] =  'Neurons'\n",
    "\n",
    "adata_tamu.obs['cell_type'][np.in1d(adata_tamu.obs['cell_ontology_class'], \n",
    "                                     ['brain pericyte'])] =  'Pericytes'\n",
    "\n",
    "adata_tamu.obs['cell_type'][np.in1d(adata_tamu.obs['cell_ontology_class'], \n",
    "                                     ['macrophage','microglial cell'])] =  'Microglia/Macrophages'\n",
    "\n",
    "adata_tamu.obs['cell_type'][np.in1d(adata_tamu.obs['cell_ontology_class'], \n",
    "                                     ['unknown'])] =  'Unknown'\n",
    "\n",
    "adata_tamu.obs['cell_type'][np.in1d(adata_tamu.obs['cell_ontology_class'], \n",
    "                                     ['neuronal stem cell'])] =  'Neuronal stem cells'\n",
    "\n",
    "adata_tamu.obs['cell_type'][np.in1d(adata_tamu.obs['cell_ontology_class'], \n",
    "                                     ['smooth muscle cell'])] =  'SMCs'"
   ]
  },
  {
   "cell_type": "code",
   "execution_count": null,
   "id": "680d9ac8-c39a-4a86-ad4f-58ae19742e26",
   "metadata": {},
   "outputs": [],
   "source": [
    "adata_tamu.obs['cell_type'] = adata_tamu.obs['cell_type'].cat.remove_unused_categories()"
   ]
  },
  {
   "cell_type": "code",
   "execution_count": null,
   "id": "7ee5472e-c1a2-467b-b1d4-78cbe2ecfd71",
   "metadata": {
    "scrolled": true
   },
   "outputs": [],
   "source": [
    "adata_tamu.obs['cell_type'].value_counts()"
   ]
  },
  {
   "cell_type": "markdown",
   "id": "37dc9471-2bf8-4e7b-b4ee-b7257aed6dae",
   "metadata": {},
   "source": [
    "Remove ERCC tags from genes."
   ]
  },
  {
   "cell_type": "code",
   "execution_count": null,
   "id": "c65c160b-2afb-4a9e-9cca-e8009fcff077",
   "metadata": {},
   "outputs": [],
   "source": [
    "ercc_idx = np.array([tag.startswith('ERCC') for tag in adata_tamu.var_names])"
   ]
  },
  {
   "cell_type": "code",
   "execution_count": null,
   "id": "4f4d656b-20c2-4f0b-ae0b-49883d42d9aa",
   "metadata": {},
   "outputs": [],
   "source": [
    "adata_tamu = adata_tamu[:, np.invert(ercc_idx)].copy()"
   ]
  },
  {
   "cell_type": "code",
   "execution_count": null,
   "id": "efc95377-3b55-4a32-80c6-77e848568bcb",
   "metadata": {},
   "outputs": [],
   "source": [
    "adata=adata_tamu"
   ]
  },
  {
   "cell_type": "code",
   "execution_count": null,
   "id": "b932ed43-40a7-4d47-b2ee-f19065377dc8",
   "metadata": {},
   "outputs": [],
   "source": [
    "del adata_tamu"
   ]
  },
  {
   "cell_type": "markdown",
   "id": "3027ff04-085d-4348-9085-b198a784ec7a",
   "metadata": {},
   "source": [
    "# QC"
   ]
  },
  {
   "cell_type": "markdown",
   "id": "589990d5-31b9-4093-b9b0-2571252749cd",
   "metadata": {},
   "source": [
    "Not required because already annotated"
   ]
  },
  {
   "cell_type": "code",
   "execution_count": null,
   "id": "833704e5-6d2e-4e1a-94bd-f4bec1d6de45",
   "metadata": {},
   "outputs": [],
   "source": [
    "# genes with highest fraction of counts per cell\n",
    "sc.pl.highest_expr_genes(adata, n_top=20, )"
   ]
  },
  {
   "cell_type": "markdown",
   "id": "33f36a86-79a9-4a6b-ba27-0f859f5349bf",
   "metadata": {},
   "source": [
    "# Normalisation, logarithmization"
   ]
  },
  {
   "cell_type": "markdown",
   "id": "aac1f867-352a-4740-8661-1eec2fc8d1eb",
   "metadata": {},
   "source": [
    "Check if data is normalized:"
   ]
  },
  {
   "cell_type": "code",
   "execution_count": null,
   "id": "5e1808c0-5a4c-4759-bcf6-833ed72ed09e",
   "metadata": {
    "tags": []
   },
   "outputs": [],
   "source": [
    "adata.layers"
   ]
  },
  {
   "cell_type": "code",
   "execution_count": null,
   "id": "cf35e2a4-1a37-42e6-b6da-e9da1eb1a50f",
   "metadata": {
    "tags": []
   },
   "outputs": [],
   "source": [
    "sb.histplot(adata.X.sum(1), kde=False)\n",
    "plt.show()"
   ]
  },
  {
   "cell_type": "code",
   "execution_count": null,
   "id": "87c392fd-cddb-476b-bec6-fe9421dab9c0",
   "metadata": {},
   "outputs": [],
   "source": [
    "# show expression of 100 random genes (across all spots)\n",
    "random_genes=random.sample(range(0, adata.X.shape[1]), 100)\n",
    "adata_sub = adata[:,random_genes]\n",
    "exp=pd.DataFrame(adata_sub.X.todense())\n",
    "# plot\n",
    "pl1=sns.displot(data=pd.melt(exp),x='value',height=4,hue='variable',kind=\"kde\",warn_singular=False,legend=False,palette=list(np.repeat('#086da6',100)), lw=0.3) # genes with 0 expression are excluded\n",
    "sns.set_theme(style='white')\n",
    "pl1.set(xlim=(-0.5, 7),ylim=(0,0.007));"
   ]
  },
  {
   "cell_type": "code",
   "execution_count": null,
   "id": "24e0a4be-84fa-46d1-adc1-3307fe77702f",
   "metadata": {},
   "outputs": [],
   "source": [
    "sns.set(rc={'figure.figsize':(4,4)})\n",
    "sns.set_theme(style='white')\n",
    "pl=sns.histplot(data=pd.melt(exp),x='value',binwidth=0.5,legend=True,palette=list(np.repeat('#086da6',100)))\n",
    "pl.set(xlim=(0, 20),ylim=(0,1e5));"
   ]
  },
  {
   "cell_type": "code",
   "execution_count": null,
   "id": "71ef74ad-f045-4da6-992f-cee8a792fabe",
   "metadata": {},
   "outputs": [],
   "source": [
    "exp"
   ]
  },
  {
   "cell_type": "code",
   "execution_count": null,
   "id": "4873cc4c-1b5c-4ba2-b302-e2d9e8dfe133",
   "metadata": {},
   "outputs": [],
   "source": [
    "adata.layers[\"counts\"] = adata.X.copy()"
   ]
  },
  {
   "cell_type": "code",
   "execution_count": null,
   "id": "eb4330f3-bf9c-48ae-b5d4-02fc8c7b45fc",
   "metadata": {},
   "outputs": [],
   "source": [
    "sc.pp.normalize_total(adata, inplace=True)"
   ]
  },
  {
   "cell_type": "code",
   "execution_count": null,
   "id": "eefc6735-f968-46ff-a894-3191b76b3e48",
   "metadata": {},
   "outputs": [],
   "source": [
    "# show expression of 100 random genes (across all spots)\n",
    "sns.set_theme(style='white')\n",
    "adata_sub = adata[:,random_genes]\n",
    "exp=pd.DataFrame(adata_sub.X.todense())\n",
    "# plot\n",
    "pl=sns.displot(data=pd.melt(exp),x='value',height=4,hue='variable',kind=\"kde\",warn_singular=False,legend=False,palette=list(np.repeat('#086da6',100)), lw=0.3) # genes with 0 expression are excluded\n",
    "pl.set(xlim=(-0.25, 3.5),ylim=(0,0.005))"
   ]
  },
  {
   "cell_type": "code",
   "execution_count": null,
   "id": "e998e05a-075c-4b41-bd18-40fe40ad6082",
   "metadata": {},
   "outputs": [],
   "source": [
    "sns.set_theme(style='white')\n",
    "pl=sns.histplot(data=pd.melt(exp),x='value',binwidth=0.5,legend=True,palette=list(np.repeat('#086da6',100)))\n",
    "pl.set(xlim=(0, 20),ylim=(0,1e5));"
   ]
  },
  {
   "cell_type": "code",
   "execution_count": null,
   "id": "1bb161f5-ecfe-4240-abf4-5a638fdd6ced",
   "metadata": {},
   "outputs": [],
   "source": [
    "sc.pp.log1p(adata) # X = log(X + 1)"
   ]
  },
  {
   "cell_type": "code",
   "execution_count": null,
   "id": "6a361ddc-a921-4ec6-b570-d67580915fe8",
   "metadata": {
    "tags": []
   },
   "outputs": [],
   "source": [
    "sb.histplot(adata.X.sum(1), kde=False)\n",
    "plt.show()"
   ]
  },
  {
   "cell_type": "code",
   "execution_count": null,
   "id": "04a02bcb-e6dc-46d4-bb8d-f06298d4903c",
   "metadata": {},
   "outputs": [],
   "source": [
    "# show expression of 100 random genes (across all spots)\n",
    "sns.set_theme(style='white')\n",
    "adata_sub = adata[:,random_genes]\n",
    "exp=pd.DataFrame(adata_sub.X.todense())\n",
    "# plot\n",
    "pl=sns.displot(data=pd.melt(exp),x='value',height=4,hue='variable',kind=\"kde\",warn_singular=False,legend=False,palette=list(np.repeat('#086da6',100)), lw=0.5) # genes with 0 expression are excluded\n",
    "pl.set(xlim=(-0.25, 3.5),ylim=(0,0.005));"
   ]
  },
  {
   "cell_type": "code",
   "execution_count": null,
   "id": "8cce20e3-5752-4c7b-bdd1-d1d627b2a0ab",
   "metadata": {},
   "outputs": [],
   "source": [
    "sns.set_theme(style='white')\n",
    "pl=sns.histplot(data=pd.melt(exp),x='value',binwidth=0.5,legend=True,palette=list(np.repeat('#086da6',100)));\n",
    "pl.set(xlim=(0, 20),ylim=(0,1e5));"
   ]
  },
  {
   "cell_type": "code",
   "execution_count": null,
   "id": "4f140c1b-aa17-4e7f-aa4f-8b52567a2ad6",
   "metadata": {},
   "outputs": [],
   "source": [
    "adata.layers[\"normalized\"] = adata.X.copy() # save normalized + log-transformed (but unscaled) counts - retrieve via adata.X = adata.layers[\"normalized\"]"
   ]
  },
  {
   "cell_type": "code",
   "execution_count": null,
   "id": "a25cc36e-d351-4511-8a2f-57c46e4ff368",
   "metadata": {},
   "outputs": [],
   "source": [
    "# Identify highly-variable genes\n",
    "sc.pp.highly_variable_genes(adata)\n",
    "sc.pl.highly_variable_genes(adata)"
   ]
  },
  {
   "cell_type": "code",
   "execution_count": null,
   "id": "a0117f54-eff9-4dfe-ab7a-7c1c17d73a2d",
   "metadata": {},
   "outputs": [],
   "source": [
    "adata"
   ]
  },
  {
   "cell_type": "code",
   "execution_count": null,
   "id": "d8b048c9-394f-4789-afdb-9dc85d42f7a8",
   "metadata": {},
   "outputs": [],
   "source": [
    "adata.layers"
   ]
  },
  {
   "cell_type": "markdown",
   "id": "bd14d228-749b-4a19-8cf7-cf84d97bb759",
   "metadata": {},
   "source": [
    "# Dim Reduction"
   ]
  },
  {
   "cell_type": "code",
   "execution_count": null,
   "id": "ef8e8215-3a1a-4259-8eb6-e21279551f0c",
   "metadata": {},
   "outputs": [],
   "source": [
    "with rc_context({'figure.figsize': (8, 8)}):\n",
    "    sc.tl.pca(adata, svd_solver='arpack')\n",
    "    sc.pl.pca(adata, color='Foxf2')"
   ]
  },
  {
   "cell_type": "code",
   "execution_count": null,
   "id": "77adfcb5-371f-4c79-908b-0172d2dc5902",
   "metadata": {},
   "outputs": [],
   "source": [
    "sc.pl.pca_variance_ratio(adata, log=True)"
   ]
  },
  {
   "cell_type": "code",
   "execution_count": null,
   "id": "adf305d1-eab7-40e3-adc5-b83f12c1dc74",
   "metadata": {},
   "outputs": [],
   "source": [
    "sc.pp.neighbors(adata)"
   ]
  },
  {
   "cell_type": "code",
   "execution_count": null,
   "id": "34979747-b103-4bc9-bcf6-486902b5ef51",
   "metadata": {},
   "outputs": [],
   "source": [
    "sc.tl.umap(adata)"
   ]
  },
  {
   "cell_type": "code",
   "execution_count": null,
   "id": "466672e2-0f56-49b6-90aa-9e431b03f020",
   "metadata": {},
   "outputs": [],
   "source": [
    "list(adata.obs.columns)"
   ]
  },
  {
   "cell_type": "code",
   "execution_count": null,
   "id": "8eb187c3-0bd8-4b6c-8306-4cac40fe4d47",
   "metadata": {},
   "outputs": [],
   "source": [
    "with rc_context({'figure.figsize': (9, 9)}):\n",
    "    sc.pl.umap(adata, color=['cell_type', 'batch'], wspace=0.3, size=30)"
   ]
  },
  {
   "cell_type": "code",
   "execution_count": null,
   "id": "f50a4e17-4414-44fb-b9aa-9b9ae915809c",
   "metadata": {},
   "outputs": [],
   "source": [
    "plt.rcParams['figure.figsize'] = [12, 8] # set plot sizes\n",
    "sc.pl.umap(adata, color=['cell_type'], legend_loc='on data', title='', legend_fontweight='normal', legend_fontoutline=4, legend_fontsize=11, size=30)"
   ]
  },
  {
   "cell_type": "code",
   "execution_count": null,
   "id": "e4f3bb7c-5ebe-4412-b58e-16aa4da1d7ae",
   "metadata": {},
   "outputs": [],
   "source": [
    "plt.rcParams['figure.figsize'] = [12, 8] # set plot sizes\n",
    "sc.pl.umap(adata, color=['cell_type'], title='', legend_fontweight='normal', legend_fontoutline=4, legend_fontsize=11, size=30)"
   ]
  },
  {
   "cell_type": "markdown",
   "id": "cbc5c0e6-6305-422d-831a-f534ed313520",
   "metadata": {},
   "source": [
    "Note: SMC cluster is very small"
   ]
  },
  {
   "cell_type": "code",
   "execution_count": null,
   "id": "dcf4c2ea-d5c0-4e67-81d0-08389fa1e731",
   "metadata": {},
   "outputs": [],
   "source": [
    "adata.obs['cell_type'].value_counts()"
   ]
  },
  {
   "cell_type": "markdown",
   "id": "325ab1ec-268f-42d1-a2a3-009d0eabb5ba",
   "metadata": {},
   "source": [
    "# Cell annotation"
   ]
  },
  {
   "cell_type": "markdown",
   "id": "fec75a43-8583-4764-9b6a-85a7a4821f3e",
   "metadata": {},
   "source": [
    "Verify annotation from authors"
   ]
  },
  {
   "cell_type": "markdown",
   "id": "c1e0ba49-affc-4d56-95dc-2156c60b71b3",
   "metadata": {},
   "source": [
    "Manual marker gene selection"
   ]
  },
  {
   "cell_type": "markdown",
   "id": "fd7b3052-01ae-4eca-8958-5f9d58284a1d",
   "metadata": {
    "tags": []
   },
   "source": [
    "|Vascular     |EC         |Pericytes|SMCs   |Fibroblasts|Oligos|OPCs         |Ependymal|Neurons    |immature/migrating Neurons|Astrocytes|Microglia|Immune (broad/hematopoetic)|Macrophages     |Macrophages/Microglia|Monocytes|Mononcytes/B-cells|Granulocytes|B-cells|T/NK cells|\n",
    "|---          |---        |---      |---    |---        |---   |---          |---      |---        |---   |---       |---      |---                        |---             |---|---|---|---|---|---|\n",
    "|PDGFRA =CD140A|CLDN5      |VTN      |ACTA2  |DCN        |MBP   |CSPG4 =NG2    |PIFO     |RBFOX3 =NEUN|DCX   |AQP4      |AIF1     |PTPRC =CD45                 |CD14            |TREM2|CCR2|CD74|CD16/32|CD19|CD4|\n",
    "|MCAM =CD146   |PECAM1 =CD31|PDGFRB   |MYOCD  |COL6A1     |ENPP2 |PDGFRA =CD140A|FOXJ1    |TUBB3      ||          |         |                           |ITGB2 =CD18 =CD11B||||ITGB2 =CD18 =CD11B||CD8A|\n",
    "|FOXF2        |           |         |       |COL3A1     |      |             |DYNLRB2  |           ||          |         |                           |CD86            ||||CD15||CD8B|\n",
    "|             |           |         |       |           |      |             |MEIG1    |           ||          |         |                           |ADGRE1 =F4/80    ||||||IL2RB|\n",
    "||||||||||||||||||||IFNG|"
   ]
  },
  {
   "cell_type": "code",
   "execution_count": null,
   "id": "55ff1fca-631b-4ec5-b08d-1f922f7e1b17",
   "metadata": {
    "scrolled": true,
    "tags": []
   },
   "outputs": [],
   "source": [
    "# plot marker genes\n",
    "plt.rcParams['figure.figsize'] = [8, 6] # set plot sizes\n",
    "marker_genes = [\"Pdgfra\", \"Mcam\",\"Foxf2\", \"Pecam1\", \"Cldn5\",\"Vtn\",\"Kcnj8\",\"Atp13a5\",\"Pdgfrb\",\"Acta2\",\"Tagln\",\"Myocd\",\"Dcn\", \"Col6a1\", \"Mbp\",\"Enpp2\",\"Cspg4\",\"Pifo\",\"Foxj1\",\"Dynlrb2\",\"Meig1\",\"Rbfox3\",\"Tubb3\",\"Dcx\",\"Aqp4\", \"Aif1\", \"Ptprc\", \"Ccr2\",\"Adgre1\",\"Itgb2\",\"Cd14\",\"Cd86\",\"Trem2\",\"Vcan\",\"Cd4\",\"Cd19\", \"Cd8a\",\"Il2rb\",\"Cd244\", \"Cd74\",\"Cd68\",\"Ifng\",\"Ptgdr2\",\"Ccr3\"]\n",
    "marker_genes=[x for x in marker_genes if x in list(adata.var_names)] # remove those not in adata.var_names\n",
    "sc.pl.umap(adata, ncols=3, color=marker_genes, size=50)"
   ]
  },
  {
   "cell_type": "code",
   "execution_count": null,
   "id": "a43e6327-5ddd-4d98-8a8c-4aa2e74942ce",
   "metadata": {
    "scrolled": true
   },
   "outputs": [],
   "source": [
    "# Run DE test for annotation (Wilcoxon)\n",
    "sc.tl.rank_genes_groups(adata, 'cell_type', method='wilcoxon', key_added='wilcoxon')\n",
    "sc.pl.rank_genes_groups(adata, n_genes=20, sharey=False, ncols=3, fontsize=13, key='wilcoxon')"
   ]
  },
  {
   "cell_type": "code",
   "execution_count": null,
   "id": "9925eaa7-d321-41d2-8535-ff35e6627993",
   "metadata": {},
   "outputs": [],
   "source": [
    "# Dotplot\n",
    "sc.tl.dendrogram(adata, groupby=\"cell_type\")\n",
    "sc.pl.rank_genes_groups_dotplot(adata, n_genes=6, key=\"wilcoxon\", groupby=\"cell_type\");"
   ]
  },
  {
   "cell_type": "markdown",
   "id": "9d2786b0-e243-4ac6-a6ad-f8f121d9fe08",
   "metadata": {},
   "source": [
    "Own note: The clusters SMCs and Pericytes seem to be wrongly switched. The pericyte markers Vtn, Atp13a5, Pdgfrb are among top SMC hits. Conversely, SMC marker genes are constituting the top hits from the pericyte cluster. Therefore, switch annotations:\n"
   ]
  },
  {
   "cell_type": "code",
   "execution_count": null,
   "id": "6b217197-9b0f-44a1-bcbb-d75c3c6904c2",
   "metadata": {},
   "outputs": [],
   "source": [
    "adata_tamu = adata\n",
    "adata_tamu.obs['cell_type'][np.in1d(adata_tamu.obs['cell_ontology_class'], \n",
    "                                     ['Bergmann glial cell', 'astrocyte of the cerebral cortex'])] =  'Astrocytes'\n",
    "\n",
    "adata_tamu.obs['cell_type'][np.in1d(adata_tamu.obs['cell_ontology_class'], \n",
    "                                     ['oligodendrocyte'])] =  'Oligos'\n",
    "\n",
    "adata_tamu.obs['cell_type'][np.in1d(adata_tamu.obs['cell_ontology_class'], \n",
    "                                     ['endothelial cell'])] =  'Endothelial cells'\n",
    "\n",
    "adata_tamu.obs['cell_type'][np.in1d(adata_tamu.obs['cell_ontology_class'], \n",
    "                                     ['oligodendrocyte precursor cell'])] =  'OPCs'\n",
    "\n",
    "adata_tamu.obs['cell_type'][np.in1d(adata_tamu.obs['cell_ontology_class'], \n",
    "                                     ['neuron'])] =  'Neurons'\n",
    "\n",
    "adata_tamu.obs['cell_type'][np.in1d(adata_tamu.obs['cell_ontology_class'], \n",
    "                                     ['brain pericyte'])] =  'SMCs'\n",
    "\n",
    "adata_tamu.obs['cell_type'][np.in1d(adata_tamu.obs['cell_ontology_class'], \n",
    "                                     ['macrophage','microglial cell'])] =  'Microglia/Macrophages'\n",
    "\n",
    "adata_tamu.obs['cell_type'][np.in1d(adata_tamu.obs['cell_ontology_class'], \n",
    "                                     ['unknown'])] =  'Unknown'\n",
    "\n",
    "adata_tamu.obs['cell_type'][np.in1d(adata_tamu.obs['cell_ontology_class'], \n",
    "                                     ['neuronal stem cell'])] =  'Neuronal stem cells'\n",
    "\n",
    "adata_tamu.obs['cell_type'][np.in1d(adata_tamu.obs['cell_ontology_class'], \n",
    "                                     ['smooth muscle cell'])] =  'Pericytes'\n",
    "adata = adata_tamu\n",
    "del adata_tamu"
   ]
  },
  {
   "cell_type": "code",
   "execution_count": null,
   "id": "9140f385-5967-409d-aa1b-4d5d2dfcd0f3",
   "metadata": {},
   "outputs": [],
   "source": [
    "adata.obs['cell_type'] = adata.obs['cell_type'].cat.remove_unused_categories()"
   ]
  },
  {
   "cell_type": "code",
   "execution_count": null,
   "id": "915121a2-851a-4324-b4d3-3dc1bb863c28",
   "metadata": {
    "scrolled": true
   },
   "outputs": [],
   "source": [
    "adata.obs['cell_type'].value_counts()"
   ]
  },
  {
   "cell_type": "code",
   "execution_count": null,
   "id": "a982c3f3-0f42-499d-9e04-4be02fa76c6d",
   "metadata": {},
   "outputs": [],
   "source": [
    "plt.rcParams['figure.figsize'] = [12, 8] # set plot sizes\n",
    "sc.pl.umap(adata, color=['cell_type'], legend_loc='on data', title='', legend_fontweight='normal', legend_fontoutline=2, legend_fontsize=8, size=30)"
   ]
  },
  {
   "cell_type": "code",
   "execution_count": null,
   "id": "b1faf4f8-2d10-4331-80bb-2998d53f9ced",
   "metadata": {},
   "outputs": [],
   "source": [
    "# exclude clusters with <50 cells\n",
    "cluster_counts = adata.obs['cell_type'].value_counts()\n",
    "cluster_counts"
   ]
  },
  {
   "cell_type": "code",
   "execution_count": null,
   "id": "5824e1c6-f6e5-4383-ab45-f4337a58b242",
   "metadata": {},
   "outputs": [],
   "source": [
    "adata = adata[adata.obs['cell_type'].isin(cluster_counts[cluster_counts>49].index)]"
   ]
  },
  {
   "cell_type": "code",
   "execution_count": null,
   "id": "c72edb19-ceff-40a4-aa58-ab7ec0c88363",
   "metadata": {},
   "outputs": [],
   "source": [
    "adata.obs['clusters'] = adata.obs['cell_type']"
   ]
  },
  {
   "cell_type": "markdown",
   "id": "aaa7964a-2c4b-4b3d-b42a-8bff4d39eb01",
   "metadata": {},
   "source": [
    "# Focus on: Foxf2"
   ]
  },
  {
   "cell_type": "code",
   "execution_count": null,
   "id": "2b5e3889-b52f-42f2-acb7-5ceb4197d2d6",
   "metadata": {},
   "outputs": [],
   "source": [
    "gene=\"Foxf2\""
   ]
  },
  {
   "cell_type": "code",
   "execution_count": null,
   "id": "e537f671-21df-4b73-8c66-2fe95748d343",
   "metadata": {},
   "outputs": [],
   "source": [
    "with rc_context({'figure.figsize': (7,7)}):\n",
    "    sc.pl.umap(adata, color=['clusters',gene], legend_loc='on data', title='', legend_fontweight='normal', legend_fontoutline=2, legend_fontsize=10, size=35, layer=\"normalized\")"
   ]
  },
  {
   "cell_type": "code",
   "execution_count": null,
   "id": "11ec7a22-7902-441e-a9de-4f03a466d926",
   "metadata": {},
   "outputs": [],
   "source": [
    "sc.pl.matrixplot(adata, [gene], groupby='clusters', swap_axes=False, figsize=(2,5), standard_scale=\"var\", layer=\"normalized\")"
   ]
  },
  {
   "cell_type": "code",
   "execution_count": null,
   "id": "b0ec99b6-c7b2-4805-8af9-817a637809a2",
   "metadata": {},
   "outputs": [],
   "source": [
    "sc.pl.dotplot(adata, [gene], groupby='clusters', swap_axes=False, figsize=(2,5), standard_scale=\"var\", layer=\"normalized\")"
   ]
  },
  {
   "cell_type": "code",
   "execution_count": null,
   "id": "ff183b11-87f1-4c8c-ad5e-e69124842024",
   "metadata": {},
   "outputs": [],
   "source": [
    "utils.summarize_gene_expression(adata = adata, gene = gene, groupby = \"clusters\", \n",
    "                          study_name = dataset_name, organism = organism,\n",
    "                          export = True, output_dir = os.path.join(main_dir, \"P06_Foxf2_per_celltype\", \"Foxf2_summarized\")\n",
    "                         )"
   ]
  },
  {
   "cell_type": "markdown",
   "id": "70a74314-8687-43f3-8e8a-510807cf9738",
   "metadata": {},
   "source": [
    "# Focus on: Other genes"
   ]
  },
  {
   "cell_type": "code",
   "execution_count": null,
   "id": "fbdb90be-b6e2-4335-9e1d-ffad57954070",
   "metadata": {},
   "outputs": [],
   "source": [
    "target_genes = [\"Foxo1\", \"Tek\", \"Nos3\", \"Htra1\", \"Egfl8\", \"Flt1\", \"Kdr\", \"Ptprb\", \"Nrp1\", \"Nrp2\", \"Efnb2\", \"Itgb1\", \"Itga6\", \"Angpt2\", \"Cdh5\", \"Cldn5\", \"Ocln\", \"Ctnnb1\"]"
   ]
  },
  {
   "cell_type": "code",
   "execution_count": null,
   "id": "a4448cb7-c381-488a-b93f-a333f2e1915d",
   "metadata": {},
   "outputs": [],
   "source": [
    "other_genes_results = {\n",
    "    gene: utils.summarize_gene_expression(adata, gene, groupby = \"clusters\", study_name = dataset_name, organism = organism, \n",
    "                                    output_dir=os.path.join(main_dir, \"P06_Foxf2_per_celltype\", \"Other_genes_summarized\"), export=True\n",
    "                                   ) for gene in target_genes\n",
    "}"
   ]
  },
  {
   "cell_type": "code",
   "execution_count": null,
   "id": "29441700-7897-40ae-a687-5b000420c319",
   "metadata": {},
   "outputs": [],
   "source": [
    "# some plots"
   ]
  },
  {
   "cell_type": "code",
   "execution_count": null,
   "id": "dba927a9-38a2-4f13-82a6-b58a9fe32f8f",
   "metadata": {
    "tags": []
   },
   "outputs": [],
   "source": [
    "sc.pl.matrixplot(adata, [target_genes[0]], groupby='clusters', swap_axes=False, figsize=(2,5), standard_scale=\"var\", layer=\"normalized\")"
   ]
  },
  {
   "cell_type": "code",
   "execution_count": null,
   "id": "56563be2-a901-4349-9c18-b578b76addc5",
   "metadata": {},
   "outputs": [],
   "source": [
    "sc.pl.dotplot(adata, [target_genes[0]], groupby='clusters', swap_axes=False, figsize=(2,5), standard_scale=\"var\", layer=\"normalized\")"
   ]
  },
  {
   "cell_type": "code",
   "execution_count": null,
   "id": "98cafc3d-2dc3-4c66-a861-b09da032d4a1",
   "metadata": {},
   "outputs": [],
   "source": [
    "sc.pl.matrixplot(adata, [target_genes[1]], groupby='clusters', swap_axes=False, figsize=(2,5), standard_scale=\"var\", layer=\"normalized\")"
   ]
  },
  {
   "cell_type": "code",
   "execution_count": null,
   "id": "21525064-f5c2-45fb-b5cf-b4a3eebacb7b",
   "metadata": {},
   "outputs": [],
   "source": [
    "sc.pl.dotplot(adata, [target_genes[1]], groupby='clusters', swap_axes=False, figsize=(2,5), standard_scale=\"var\", layer=\"normalized\")"
   ]
  },
  {
   "cell_type": "markdown",
   "id": "920ac64d-af1b-413a-b18c-ca2127f86f26",
   "metadata": {},
   "source": [
    "# Correlate gene expression (Foxf2 and Foxo1)"
   ]
  },
  {
   "cell_type": "markdown",
   "id": "6a8a2362-6fbc-4126-a687-d1f4c0f60789",
   "metadata": {},
   "source": [
    "Using MAGIC denoising"
   ]
  },
  {
   "cell_type": "code",
   "execution_count": null,
   "id": "cce83339-3cc2-459f-be9f-f19ed1759682",
   "metadata": {
    "tags": []
   },
   "outputs": [],
   "source": [
    "import magic\n",
    "import scprep"
   ]
  },
  {
   "cell_type": "code",
   "execution_count": null,
   "id": "bd2674f3-4e04-44c2-9fbc-70a773df077d",
   "metadata": {
    "tags": []
   },
   "outputs": [],
   "source": [
    "sns.set_theme(style='white')"
   ]
  },
  {
   "cell_type": "markdown",
   "id": "f4c25f7d-bdc0-4347-aecb-1d1085d81c8a",
   "metadata": {},
   "source": [
    "## ECs"
   ]
  },
  {
   "cell_type": "code",
   "execution_count": null,
   "id": "ac394bac-a0f8-4081-8861-1f68cb420ebb",
   "metadata": {
    "tags": []
   },
   "outputs": [],
   "source": [
    "gg = [\"Foxf2\",\"Foxo1\",\"Nos3\"]"
   ]
  },
  {
   "cell_type": "code",
   "execution_count": null,
   "id": "175b3f59-9528-44ca-b50e-fa946b166817",
   "metadata": {
    "tags": []
   },
   "outputs": [],
   "source": [
    "adata_EC = adata[adata.obs.cell_type == \"Endothelial cells\"]"
   ]
  },
  {
   "cell_type": "code",
   "execution_count": null,
   "id": "fdb6a587-6139-4c92-87e5-584b78355feb",
   "metadata": {
    "tags": []
   },
   "outputs": [],
   "source": [
    "adata_EC"
   ]
  },
  {
   "cell_type": "code",
   "execution_count": null,
   "id": "1b47ad8e-9d3e-46e5-9550-54ff6347bebb",
   "metadata": {
    "tags": []
   },
   "outputs": [],
   "source": [
    "adata_EC.layers"
   ]
  },
  {
   "cell_type": "code",
   "execution_count": null,
   "id": "165cfef7-a02d-4783-aeee-53cb11e410f3",
   "metadata": {
    "tags": []
   },
   "outputs": [],
   "source": [
    "#matrix = pd.DataFrame(adata_EC.X) # not compatible with sparse \n",
    "matrix = adata_EC.X\n",
    "matrix.columns = adata_EC.var.index.tolist()"
   ]
  },
  {
   "cell_type": "code",
   "execution_count": null,
   "id": "4c9885f6-3099-4de3-9bdd-7c94867eb922",
   "metadata": {
    "tags": []
   },
   "outputs": [],
   "source": [
    "cutoff_var = None"
   ]
  },
  {
   "cell_type": "code",
   "execution_count": null,
   "id": "54e77819-e163-446a-b8d4-bb4e57870b67",
   "metadata": {
    "tags": []
   },
   "outputs": [],
   "source": [
    "scprep.plot.plot_library_size(matrix, cutoff=cutoff_var)"
   ]
  },
  {
   "cell_type": "code",
   "execution_count": null,
   "id": "4e795902-4860-4563-a20c-94090a45a8a7",
   "metadata": {
    "tags": []
   },
   "outputs": [],
   "source": [
    "# filter lowly expressed genes and cells with a small library size\n",
    "#matrix = scprep.filter.filter_library_size(matrix, cutoff=cutoff_var)\n",
    "#matrix.head()"
   ]
  },
  {
   "cell_type": "markdown",
   "id": "0971b98e-a66c-4104-9ef7-cf772fdaa4e9",
   "metadata": {},
   "source": [
    "Note: Skipped normalization as data is already log-normalized"
   ]
  },
  {
   "cell_type": "code",
   "execution_count": null,
   "id": "83ea6b83-8dd2-4b71-9d50-7eb5c092b079",
   "metadata": {
    "tags": []
   },
   "outputs": [],
   "source": [
    "adata_EC.layers"
   ]
  },
  {
   "cell_type": "markdown",
   "id": "a6749cf7-6948-4d07-b1ca-f3bdbc1da8e4",
   "metadata": {},
   "source": [
    "### Creating the MAGIC operator\n",
    "If you don't specify parameters, MAGIC creates an operator with the following default values: knn=5, knn_max = 3 * knn, decay=1, t=3."
   ]
  },
  {
   "cell_type": "code",
   "execution_count": null,
   "id": "e534334d-c7db-4d02-925e-f6259c131413",
   "metadata": {
    "tags": []
   },
   "outputs": [],
   "source": [
    "magic_op = magic.MAGIC()"
   ]
  },
  {
   "cell_type": "markdown",
   "id": "5b9bfc69-7db8-464e-b79a-e4e874b7b061",
   "metadata": {},
   "source": [
    "### Running MAGIC with gene selection\n",
    "The magic_op.fit_transform function takes the normalized data and an array of selected genes as its arguments. If no genes are provided, MAGIC will return a matrix of all genes. The same can be achieved by substituting the array of gene names with genes='all_genes'."
   ]
  },
  {
   "cell_type": "code",
   "execution_count": null,
   "id": "bc916c72-12e7-45d1-8090-35879e17210f",
   "metadata": {
    "tags": []
   },
   "outputs": [],
   "source": [
    "%%time\n",
    "emt_magic = magic_op.fit_transform(adata_EC, genes=['Foxf2', 'Foxo1', 'Nos3'])"
   ]
  },
  {
   "cell_type": "markdown",
   "id": "90229ed2-6f8c-476b-949f-7f5322367f4d",
   "metadata": {},
   "source": [
    "### Visualizing gene-gene relationships\n",
    "\n",
    "We can see gene-gene relationships much more clearly after applying MAGIC. Note that the change in absolute values of gene expression is not meaningful - the relative difference is all that matters."
   ]
  },
  {
   "cell_type": "code",
   "execution_count": null,
   "id": "dd41a0e4-336f-4b56-a2a5-56d87164ae9e",
   "metadata": {
    "tags": []
   },
   "outputs": [],
   "source": [
    "np.corrcoef(emt_magic[:,['Foxf2','Foxo1']].X, rowvar = False)[0][1]"
   ]
  },
  {
   "cell_type": "code",
   "execution_count": null,
   "id": "4a2aca2b-d38f-4a68-a985-95bb9cdc98c2",
   "metadata": {
    "tags": []
   },
   "outputs": [],
   "source": [
    "fig, (ax1, ax2) = plt.subplots(1,2, figsize=(16, 6))\n",
    "scprep.plot.scatter(x=adata_EC[:,'Foxf2'].X.todense(), y=adata_EC[:,'Foxo1'].X.todense(), c=adata_EC[:,'Nos3'].X.todense(), ax = ax1,\n",
    "                    xlabel='Foxf2', ylabel='Foxo1', legend_title=\"Nos3\", title='Before MAGIC')\n",
    "scprep.plot.scatter(x=emt_magic[:,'Foxf2'].X, y=emt_magic[:,'Foxo1'].X, c=emt_magic[:,'Nos3'].X, ax=ax2,\n",
    "                    xlabel='Foxf2', ylabel='Foxo1', legend_title=\"Nos3\", title='After MAGIC')\n",
    "plt.axline((1,1), slope=1, color=\"black\", alpha=0.3, linestyle=\"--\")\n",
    "plt.tight_layout()\n",
    "plt.show()"
   ]
  },
  {
   "cell_type": "markdown",
   "id": "e1889254-626a-40be-9a5f-754b21df4779",
   "metadata": {},
   "source": [
    "## PCs"
   ]
  },
  {
   "cell_type": "code",
   "execution_count": null,
   "id": "73875967-55a8-4329-93f6-53b936d73954",
   "metadata": {
    "tags": []
   },
   "outputs": [],
   "source": [
    "# no pericytes in dataset"
   ]
  },
  {
   "cell_type": "markdown",
   "id": "726990f1-9578-45fe-a7da-47b7d7d5a70a",
   "metadata": {},
   "source": [
    "## SMCs"
   ]
  },
  {
   "cell_type": "code",
   "execution_count": null,
   "id": "21f295b7-cfdc-4152-b977-1afd5dbf3d2b",
   "metadata": {
    "tags": []
   },
   "outputs": [],
   "source": [
    "gg = [\"Foxf2\",\"Foxo1\",\"Nos3\"]"
   ]
  },
  {
   "cell_type": "code",
   "execution_count": null,
   "id": "4b8452f6-cc69-4a46-b46d-6f030ee103c7",
   "metadata": {
    "tags": []
   },
   "outputs": [],
   "source": [
    "adata_EC = adata[adata.obs.cell_type == \"SMCs\"]"
   ]
  },
  {
   "cell_type": "code",
   "execution_count": null,
   "id": "a6f8e78c-7e62-458c-9d0c-634b3f255522",
   "metadata": {
    "tags": []
   },
   "outputs": [],
   "source": [
    "adata_EC"
   ]
  },
  {
   "cell_type": "code",
   "execution_count": null,
   "id": "bfdb182f-34ba-4af6-813e-63615d436324",
   "metadata": {
    "tags": []
   },
   "outputs": [],
   "source": [
    "adata_EC.layers"
   ]
  },
  {
   "cell_type": "code",
   "execution_count": null,
   "id": "d4ebad16-e511-4ca6-a385-b1eca6f4e836",
   "metadata": {
    "tags": []
   },
   "outputs": [],
   "source": [
    "#matrix = pd.DataFrame(adata_EC.X) # not compatible with sparse \n",
    "matrix = adata_EC.X\n",
    "matrix.columns = adata_EC.var.index.tolist()"
   ]
  },
  {
   "cell_type": "code",
   "execution_count": null,
   "id": "15fcd5c5-107f-4a8b-8c9e-48176ce6209e",
   "metadata": {
    "tags": []
   },
   "outputs": [],
   "source": [
    "cutoff_var = None"
   ]
  },
  {
   "cell_type": "code",
   "execution_count": null,
   "id": "0baf4aa1-fb69-453f-85db-9ab20d6319da",
   "metadata": {
    "tags": []
   },
   "outputs": [],
   "source": [
    "scprep.plot.plot_library_size(matrix, cutoff=cutoff_var)"
   ]
  },
  {
   "cell_type": "code",
   "execution_count": null,
   "id": "67c83be8-16c6-47b3-8c14-8b565526dd07",
   "metadata": {
    "tags": []
   },
   "outputs": [],
   "source": [
    "# filter lowly expressed genes and cells with a small library size\n",
    "#matrix = scprep.filter.filter_library_size(matrix, cutoff=cutoff_var)\n",
    "#matrix.head()"
   ]
  },
  {
   "cell_type": "markdown",
   "id": "7ac2bd90-e7dc-47c8-9b68-b3e9ff3b51d2",
   "metadata": {},
   "source": [
    "Note: Skipped normalization as data is already log-normalized"
   ]
  },
  {
   "cell_type": "code",
   "execution_count": null,
   "id": "00205c5e-e324-42ec-aba9-6c1735bf84f6",
   "metadata": {
    "tags": []
   },
   "outputs": [],
   "source": [
    "adata_EC.layers"
   ]
  },
  {
   "cell_type": "markdown",
   "id": "c8036788-6d94-414d-b6dd-adc6e52e942c",
   "metadata": {},
   "source": [
    "### Creating the MAGIC operator\n",
    "If you don't specify parameters, MAGIC creates an operator with the following default values: knn=5, knn_max = 3 * knn, decay=1, t=3."
   ]
  },
  {
   "cell_type": "code",
   "execution_count": null,
   "id": "6880238c-ebb3-45ec-bf5b-b12bdcbb2587",
   "metadata": {
    "tags": []
   },
   "outputs": [],
   "source": [
    "magic_op = magic.MAGIC()"
   ]
  },
  {
   "cell_type": "markdown",
   "id": "3a1f92e4-aaa4-4188-a913-3eb7f01c2ebf",
   "metadata": {},
   "source": [
    "### Running MAGIC with gene selection\n",
    "The magic_op.fit_transform function takes the normalized data and an array of selected genes as its arguments. If no genes are provided, MAGIC will return a matrix of all genes. The same can be achieved by substituting the array of gene names with genes='all_genes'."
   ]
  },
  {
   "cell_type": "code",
   "execution_count": null,
   "id": "b1dede8d-eb53-4fd1-9597-7e6b11bfb0ac",
   "metadata": {
    "tags": []
   },
   "outputs": [],
   "source": [
    "%%time\n",
    "emt_magic = magic_op.fit_transform(adata_EC, genes=['Foxf2', 'Foxo1', 'Nos3'])"
   ]
  },
  {
   "cell_type": "markdown",
   "id": "ee292381-251e-4b56-90cf-43a1c3932681",
   "metadata": {},
   "source": [
    "### Visualizing gene-gene relationships\n",
    "\n",
    "We can see gene-gene relationships much more clearly after applying MAGIC. Note that the change in absolute values of gene expression is not meaningful - the relative difference is all that matters."
   ]
  },
  {
   "cell_type": "code",
   "execution_count": null,
   "id": "ce7c9456-c90b-44f2-a063-762bab77c138",
   "metadata": {
    "tags": []
   },
   "outputs": [],
   "source": [
    "np.corrcoef(emt_magic[:,['Foxf2','Foxo1']].X, rowvar = False)[0][1]"
   ]
  },
  {
   "cell_type": "code",
   "execution_count": null,
   "id": "eb5b3969-8de5-468b-9375-055e30fc0a40",
   "metadata": {
    "tags": []
   },
   "outputs": [],
   "source": [
    "fig, (ax1, ax2) = plt.subplots(1,2, figsize=(16, 6))\n",
    "scprep.plot.scatter(x=adata_EC[:,'Foxf2'].X.todense(), y=adata_EC[:,'Foxo1'].X.todense(), c=adata_EC[:,'Nos3'].X.todense(), ax = ax1,\n",
    "                    xlabel='Foxf2', ylabel='Foxo1', legend_title=\"Nos3\", title='Before MAGIC')\n",
    "scprep.plot.scatter(x=emt_magic[:,'Foxf2'].X, y=emt_magic[:,'Foxo1'].X, c=emt_magic[:,'Nos3'].X, ax=ax2,\n",
    "                    xlabel='Foxf2', ylabel='Foxo1', legend_title=\"Nos3\", title='After MAGIC')\n",
    "plt.axline((1,1), slope=1, color=\"black\", alpha=0.3, linestyle=\"--\")\n",
    "plt.tight_layout()\n",
    "plt.show()"
   ]
  },
  {
   "cell_type": "markdown",
   "id": "e56d0981-a238-4f38-966d-32923fe3a583",
   "metadata": {},
   "source": [
    "## All cell types"
   ]
  },
  {
   "cell_type": "code",
   "execution_count": null,
   "id": "5655bfab-ec03-45c5-abc0-ee211dd736fe",
   "metadata": {
    "tags": []
   },
   "outputs": [],
   "source": [
    "adata"
   ]
  },
  {
   "cell_type": "code",
   "execution_count": null,
   "id": "be1c7ee7-1331-42f4-959b-a5507e1b110f",
   "metadata": {
    "tags": []
   },
   "outputs": [],
   "source": [
    "#matrix = pd.DataFrame(adata.X) # not compatible with sparse \n",
    "matrix = adata.X\n",
    "#matrix.columns = ad_merged.var.index.tolist()"
   ]
  },
  {
   "cell_type": "code",
   "execution_count": null,
   "id": "f2ef9112-f274-4e59-a66e-96990ea91b52",
   "metadata": {
    "tags": []
   },
   "outputs": [],
   "source": [
    "cutoff_var = 700"
   ]
  },
  {
   "cell_type": "code",
   "execution_count": null,
   "id": "ed1bba07-8ec8-4ab6-b46c-7a5d733eb185",
   "metadata": {
    "tags": []
   },
   "outputs": [],
   "source": [
    "scprep.plot.plot_library_size(matrix, cutoff=cutoff_var)"
   ]
  },
  {
   "cell_type": "code",
   "execution_count": null,
   "id": "7339d68b-2068-4394-8c15-19a5ec15b31d",
   "metadata": {
    "tags": []
   },
   "outputs": [],
   "source": [
    "# filter lowly expressed genes and cells with a small library size\n",
    "#matrix = scprep.filter.filter_library_size(matrix, cutoff=cutoff_var)\n",
    "#matrix.head()"
   ]
  },
  {
   "cell_type": "markdown",
   "id": "2c845e94-4bbe-482b-a7d7-731f9b72d13c",
   "metadata": {},
   "source": [
    "Note: Skipped normalization as data is already log-normalized"
   ]
  },
  {
   "cell_type": "code",
   "execution_count": null,
   "id": "9c9c715f-e29c-4157-b104-76209a242d3c",
   "metadata": {
    "tags": []
   },
   "outputs": [],
   "source": [
    "adata.layers"
   ]
  },
  {
   "cell_type": "markdown",
   "id": "a9dc70c6-21e1-4839-b4a9-addedb4d57b4",
   "metadata": {},
   "source": [
    "### Creating the MAGIC operator\n",
    "If you don't specify parameters, MAGIC creates an operator with the following default values: knn=5, knn_max = 3 * knn, decay=1, t=3."
   ]
  },
  {
   "cell_type": "code",
   "execution_count": null,
   "id": "c02d80d2-4460-4a04-81b5-c4c0b02f48d2",
   "metadata": {
    "tags": []
   },
   "outputs": [],
   "source": [
    "magic_op = magic.MAGIC()"
   ]
  },
  {
   "cell_type": "markdown",
   "id": "73de604d-db5d-4c4c-a9f2-df00deec63a8",
   "metadata": {},
   "source": [
    "### Running MAGIC with gene selection\n",
    "The magic_op.fit_transform function takes the normalized data and an array of selected genes as its arguments. If no genes are provided, MAGIC will return a matrix of all genes. The same can be achieved by substituting the array of gene names with genes='all_genes'."
   ]
  },
  {
   "cell_type": "code",
   "execution_count": null,
   "id": "f109b5e0-7b41-4022-ab94-fbe954e2dd7c",
   "metadata": {
    "tags": []
   },
   "outputs": [],
   "source": [
    "%%time\n",
    "emt_magic = magic_op.fit_transform(adata, genes=['Foxf2', 'Foxo1', 'Nos3'])"
   ]
  },
  {
   "cell_type": "markdown",
   "id": "a9a17c61-ac6b-4a65-969d-11b08b03ae80",
   "metadata": {},
   "source": [
    "### Visualizing gene-gene relationships\n",
    "\n",
    "We can see gene-gene relationships much more clearly after applying MAGIC. Note that the change in absolute values of gene expression is not meaningful - the relative difference is all that matters."
   ]
  },
  {
   "cell_type": "code",
   "execution_count": null,
   "id": "e23918d6-f55d-428a-b8db-3e91db195044",
   "metadata": {
    "tags": []
   },
   "outputs": [],
   "source": [
    "np.corrcoef(emt_magic[:,['Foxf2','Foxo1']].X, rowvar = False)[0][1]"
   ]
  },
  {
   "cell_type": "code",
   "execution_count": null,
   "id": "54c59d62-60ac-45a1-8375-d3431918c04f",
   "metadata": {
    "tags": []
   },
   "outputs": [],
   "source": [
    "fig, (ax1, ax2) = plt.subplots(1,2, figsize=(16, 6))\n",
    "scprep.plot.scatter(x=adata[:,'Foxf2'].X.todense(), y=adata[:,'Foxo1'].X.todense(), c=adata[:,'Nos3'].X.todense(), ax = ax1,\n",
    "                    xlabel='Foxf2', ylabel='Foxo1', legend_title=\"Nos3\", title='Before MAGIC')\n",
    "scprep.plot.scatter(x=emt_magic[:,'Foxf2'].X, y=emt_magic[:,'Foxo1'].X, c=emt_magic[:,'Nos3'].X, ax=ax2,\n",
    "                    xlabel='Foxf2', ylabel='Foxo1', legend_title=\"Nos3\", title='After MAGIC')\n",
    "plt.axline((1,1), slope=1, color=\"black\", alpha=0.3, linestyle=\"--\")\n",
    "plt.tight_layout()\n",
    "plt.show()"
   ]
  },
  {
   "cell_type": "markdown",
   "id": "2b50bbcc-d764-49b9-8cc0-d3173fd8239e",
   "metadata": {},
   "source": [
    "# Session Info"
   ]
  },
  {
   "cell_type": "code",
   "execution_count": null,
   "id": "06401063-4335-4d98-ad41-2bab36a17eab",
   "metadata": {},
   "outputs": [],
   "source": [
    "sc.logging.print_versions()"
   ]
  }
 ],
 "metadata": {
  "kernelspec": {
   "display_name": "Python 3 (ipykernel)",
   "language": "python",
   "name": "python3"
  },
  "language_info": {
   "codemirror_mode": {
    "name": "ipython",
    "version": 3
   },
   "file_extension": ".py",
   "mimetype": "text/x-python",
   "name": "python",
   "nbconvert_exporter": "python",
   "pygments_lexer": "ipython3"
  }
 },
 "nbformat": 4,
 "nbformat_minor": 5
}
