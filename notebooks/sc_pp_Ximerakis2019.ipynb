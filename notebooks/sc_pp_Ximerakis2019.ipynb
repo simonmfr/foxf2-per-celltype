{
 "cells": [
  {
   "cell_type": "markdown",
   "id": "9bfa00be-69ba-4146-aba2-818b967492c3",
   "metadata": {
    "jp-MarkdownHeadingCollapsed": true,
    "tags": []
   },
   "source": [
    "<font size=\"+3.8\">Scanpy single-cell pre-processing</font>  \n",
    "<font size=\"+1.5\"></font>  "
   ]
  },
  {
   "cell_type": "markdown",
   "id": "563f0b43-ce10-475f-b355-6fa8a2406dad",
   "metadata": {},
   "source": [
    "Aim: Preprocess mouse brain single-cell data from Ximerakis 2019 Nat Neuroscience"
   ]
  },
  {
   "cell_type": "code",
   "execution_count": null,
   "id": "010c2dbc-7220-4d36-a186-ba4ad21111b9",
   "metadata": {
    "tags": []
   },
   "outputs": [],
   "source": [
    "from datetime import date\n",
    "date.today().strftime('%d/%m/%Y')"
   ]
  },
  {
   "cell_type": "code",
   "execution_count": null,
   "id": "09a25320-8d98-4162-bf33-2bbeff9cd3c2",
   "metadata": {
    "tags": []
   },
   "outputs": [],
   "source": [
    "import os\n",
    "os.getlogin()"
   ]
  },
  {
   "cell_type": "code",
   "execution_count": null,
   "id": "c4f25c8a-47e9-48b5-af79-04fe44b4068d",
   "metadata": {},
   "outputs": [],
   "source": [
    "import numpy as np\n",
    "import pandas as pd\n",
    "import scanpy as sc\n",
    "import anndata\n",
    "import matplotlib.pyplot as plt\n",
    "from matplotlib.pyplot import rc_context\n",
    "import platform\n",
    "import random\n",
    "import seaborn as sns"
   ]
  },
  {
   "cell_type": "code",
   "execution_count": null,
   "id": "3a30861f-afca-47ef-a3d4-b8cb15a1bb77",
   "metadata": {},
   "outputs": [],
   "source": [
    "import utils"
   ]
  },
  {
   "cell_type": "code",
   "execution_count": null,
   "id": "a7af6b25-efb0-4200-8030-e7f0240ad2d0",
   "metadata": {
    "tags": []
   },
   "outputs": [],
   "source": [
    "os.environ['CONDA_DEFAULT_ENV'] # conda env"
   ]
  },
  {
   "cell_type": "code",
   "execution_count": null,
   "id": "9b858330-151a-4e35-93a7-2d60daeb1972",
   "metadata": {
    "tags": []
   },
   "outputs": [],
   "source": [
    "platform.platform()"
   ]
  },
  {
   "cell_type": "code",
   "execution_count": null,
   "id": "fc7d8b45-6ec5-428f-89f2-08540e479ab8",
   "metadata": {},
   "outputs": [],
   "source": [
    "sc.settings.verbosity = 3"
   ]
  },
  {
   "cell_type": "code",
   "execution_count": null,
   "id": "f46a7618-6a0d-48a7-b77a-065afc204527",
   "metadata": {},
   "outputs": [],
   "source": [
    "main_dir='/run/user/1000/gvfs/smb-share:server=138.245.4.35,share=bd-dichgans/SF' # Linux"
   ]
  },
  {
   "cell_type": "code",
   "execution_count": null,
   "id": "3fd52f8c-ea1e-4f2c-809f-5515a5e2ced6",
   "metadata": {},
   "outputs": [],
   "source": [
    "main_dir='\\\\\\isdsynnas.srv.med.uni-muenchen.de\\BD-Dichgans\\SF' # Win"
   ]
  },
  {
   "cell_type": "code",
   "execution_count": null,
   "id": "c5ee59ca-4c11-4932-8546-2866a0f7e757",
   "metadata": {},
   "outputs": [],
   "source": [
    "dataset_name = \"Ximerakis2019\"\n",
    "organism = \"Mouse\""
   ]
  },
  {
   "cell_type": "markdown",
   "id": "d75da520-0b28-417d-877e-f167db41ef30",
   "metadata": {},
   "source": [
    "# Load data"
   ]
  },
  {
   "cell_type": "markdown",
   "id": "00e3b5cb-f957-4175-aedf-471b195dfb60",
   "metadata": {
    "tags": []
   },
   "source": [
    "Downloaded from: https://singlecell.broadinstitute.org/single_cell/study/SCP263/aging-mouse-brain 06/03/2023"
   ]
  },
  {
   "cell_type": "code",
   "execution_count": null,
   "id": "866fcc4b-c0a8-4429-a759-4c3d8ca6583c",
   "metadata": {},
   "outputs": [],
   "source": [
    "ad = sc.read_text(os.path.join(main_dir, \"P06_vasc_scRNAseq\", \"Ximerakis2019\", \"expression_Aging_mouse_brain_portal_data_updated.txt\")).T\n",
    "ad"
   ]
  },
  {
   "cell_type": "code",
   "execution_count": null,
   "id": "db7248a2-f1a5-4f66-bbc1-280d249d15fb",
   "metadata": {},
   "outputs": [],
   "source": [
    "ad.obs.head()"
   ]
  },
  {
   "cell_type": "code",
   "execution_count": null,
   "id": "f9a0b820-bd46-4cf3-9fe2-ce4e816f593a",
   "metadata": {},
   "outputs": [],
   "source": [
    "ad.var_names"
   ]
  },
  {
   "cell_type": "code",
   "execution_count": null,
   "id": "9302a9d2-a9f7-4328-880a-338f291a10a3",
   "metadata": {},
   "outputs": [],
   "source": [
    "# add metadata\n",
    "meta = pd.read_csv(os.path.join(main_dir, \"P06_vasc_scRNAseq\", \"Ximerakis2019\", \"meta_Aging_mouse_brain_portal_data.txt\"), sep=\"\\t\", skiprows=[1])\n",
    "meta.head()"
   ]
  },
  {
   "cell_type": "code",
   "execution_count": null,
   "id": "7a426ebb-4e06-4b7b-8484-641673aabf7d",
   "metadata": {},
   "outputs": [],
   "source": [
    "assert all(ad.obs.index == meta.NAME)\n",
    "ad.obs = meta\n",
    "ad"
   ]
  },
  {
   "cell_type": "code",
   "execution_count": null,
   "id": "08970314-934d-4f9e-80d0-80955819eae7",
   "metadata": {
    "tags": []
   },
   "outputs": [],
   "source": [
    "pd.value_counts(ad.obs[\"cell_class\"])"
   ]
  },
  {
   "cell_type": "code",
   "execution_count": null,
   "id": "2f1c70fa-c2f7-41f4-acb9-e0803e0eda87",
   "metadata": {
    "tags": []
   },
   "outputs": [],
   "source": [
    "pd.value_counts(ad.obs[\"cell_type\"])"
   ]
  },
  {
   "cell_type": "code",
   "execution_count": null,
   "id": "b29a932b-0194-4d7e-8802-4decea5b0b06",
   "metadata": {
    "tags": []
   },
   "outputs": [],
   "source": [
    "ad.obs[\"age\"] = ad.obs[\"all_cells_by_age\"]\n",
    "pd.value_counts(ad.obs[\"age\"])"
   ]
  },
  {
   "cell_type": "code",
   "execution_count": null,
   "id": "f27284af-3f51-4268-a1c4-28ffbebc3cd5",
   "metadata": {
    "tags": []
   },
   "outputs": [],
   "source": [
    "pd.crosstab(ad.obs[\"cell_type\"], ad.obs[\"cell_class\"])"
   ]
  },
  {
   "cell_type": "code",
   "execution_count": null,
   "id": "d077df0c-b566-4e60-84c2-9a1e2ed96c28",
   "metadata": {},
   "outputs": [],
   "source": [
    "# also see website"
   ]
  },
  {
   "cell_type": "code",
   "execution_count": null,
   "id": "aa6f44e9-2604-4beb-8eeb-36a0ab1c1e9e",
   "metadata": {},
   "outputs": [],
   "source": [
    "new_names = {\n",
    "    'Endothelial cells': {'EC'},\n",
    "    'Oligos': {'OLG'},\n",
    "    'Olfactory ensheathing glia': {'OEG'},\n",
    "    'Astrocytes': {'ARP','ASC'},\n",
    "    'Pericytes': {'PC'},\n",
    "    'SMCs': {'VSMC'},\n",
    "    'Neurons': {'NRP','NEUR_immature','NEUR_mature','NendC'},\n",
    "    'OPCs': {'OPC'},\n",
    "    'VLMCs': {'VLMC','ABC'},\n",
    "    'Microglia/Macrophages': {'MG','MAC'},\n",
    "    'Neural stem cells': {'NSC'},\n",
    "    'Ependymal cells': {'EPC'},\n",
    "    'Hypendymal cells': {'HypEPC','TNC'},\n",
    "    'Choroid plexus epithelial cells':{'CPC'},\n",
    "    'Immune_Other': {'MNC','DC','NEUT'},\n",
    "    'Hemoglobin-expressing vascular cells':{'Hb_VC'},\n",
    "}\n",
    "result = {}\n",
    "for key, value in new_names.items():\n",
    "    for elem in value:\n",
    "        result[(elem)] = key\n",
    "new_cluster_names = dict(sorted(result.items()))\n",
    "print(new_cluster_names)"
   ]
  },
  {
   "cell_type": "code",
   "execution_count": null,
   "id": "4c6dca8e-75c5-4db1-9406-201ee447fab2",
   "metadata": {},
   "outputs": [],
   "source": [
    "ad.obs['clusters'] = (\n",
    "    ad.obs['cell_type']\n",
    "    .map(new_cluster_names)\n",
    "    .astype('category')\n",
    ")"
   ]
  },
  {
   "cell_type": "code",
   "execution_count": null,
   "id": "9202fd73-eb27-4eda-8b1a-05856bb55776",
   "metadata": {
    "tags": []
   },
   "outputs": [],
   "source": [
    "pd.value_counts(ad.obs[\"clusters\"])"
   ]
  },
  {
   "cell_type": "code",
   "execution_count": null,
   "id": "2fb199ad-d835-4497-a0bd-99e873712487",
   "metadata": {
    "tags": []
   },
   "outputs": [],
   "source": [
    "sc.pl.dotplot(ad, var_names=['Cldn5',\"Aqp4\",\"Mbp\",'Foxj1','Pdgfrb','Vtn','Kcnj8','Rgs5','Atp13a5','Tagln','Acta2','Myh11'], groupby=\"clusters\", swap_axes=False);"
   ]
  },
  {
   "cell_type": "markdown",
   "id": "cc5ecf5a-5a56-4b1a-87de-13a05b292b13",
   "metadata": {},
   "source": [
    "Last 3 cols are SMC markers"
   ]
  },
  {
   "cell_type": "code",
   "execution_count": null,
   "id": "a08c4915-ded2-430f-8b9a-7d6cfae40bbc",
   "metadata": {},
   "outputs": [],
   "source": []
  },
  {
   "cell_type": "markdown",
   "id": "402ec721-8353-49a9-9370-e6d7c5ec1bee",
   "metadata": {
    "tags": []
   },
   "source": [
    "Check if data is normalized:"
   ]
  },
  {
   "cell_type": "code",
   "execution_count": null,
   "id": "8f07ec23-1a6f-44fc-b8b9-ae3234714569",
   "metadata": {},
   "outputs": [],
   "source": [
    "ad.layers"
   ]
  },
  {
   "cell_type": "code",
   "execution_count": null,
   "id": "75c6ab4d-0e4f-4cf9-bff7-fe1b00775d9a",
   "metadata": {
    "tags": []
   },
   "outputs": [],
   "source": [
    "sns.histplot(ad.X.sum(1), kde=False)\n",
    "plt.show()"
   ]
  },
  {
   "cell_type": "code",
   "execution_count": null,
   "id": "c6597e2f-f267-4f20-9408-ca2fa53f7475",
   "metadata": {},
   "outputs": [],
   "source": [
    "# show expression of 100 random genes (across all spots)\n",
    "random_genes=random.sample(range(0, ad.X.shape[1]), 100)\n",
    "adata_sub = ad[:,random_genes]\n",
    "exp=pd.DataFrame(np.matrix(adata_sub.X))\n",
    "pl1=sns.displot(data=pd.melt(exp),x='value',height=4,hue='variable',kind=\"kde\",warn_singular=False,legend=False,palette=list(np.repeat('#086da6',100)), lw=0.3) # genes with 0 expression are excluded\n",
    "pl1.set(xlim=(-0.5, 7),ylim=(0,0.007));\n",
    "plt.show()"
   ]
  },
  {
   "cell_type": "code",
   "execution_count": null,
   "id": "0d7b998d-1f94-4a06-85e2-3edd79070bfe",
   "metadata": {},
   "outputs": [],
   "source": [
    "sns.set(rc={'figure.figsize':(4,4)})\n",
    "pl=sns.histplot(data=pd.melt(exp),x='value',binwidth=0.5,legend=True,palette=list(np.repeat('#086da6',100)))\n",
    "pl.set(xlim=(0, 10));\n",
    "sns.set_style(\"ticks\")\n",
    "plt.show()"
   ]
  },
  {
   "cell_type": "code",
   "execution_count": null,
   "id": "719757bd-0651-4d1e-bfc3-cc2bb5911b00",
   "metadata": {},
   "outputs": [],
   "source": [
    "np.matrix(adata_sub.X)"
   ]
  },
  {
   "cell_type": "markdown",
   "id": "4f0bb973-9801-43c1-9093-cae84f9aeb24",
   "metadata": {},
   "source": [
    "Data seems to be normalized"
   ]
  },
  {
   "cell_type": "code",
   "execution_count": null,
   "id": "0cf90bf7-e1c1-456d-8e3b-496f13a386a3",
   "metadata": {},
   "outputs": [],
   "source": [
    "ad.layers[\"normalized\"] = ad.X.copy() # save normalized + log-transformed (but unscaled) counts - retrieve via adata.X = adata.layers[\"normalized\"]"
   ]
  },
  {
   "cell_type": "code",
   "execution_count": null,
   "id": "af0f88d5-3003-457d-924a-16d538839e58",
   "metadata": {},
   "outputs": [],
   "source": [
    "ad"
   ]
  },
  {
   "cell_type": "code",
   "execution_count": null,
   "id": "3fa5b139-be59-45ac-b2de-e8534ef43448",
   "metadata": {},
   "outputs": [],
   "source": [
    "ad.layers"
   ]
  },
  {
   "cell_type": "code",
   "execution_count": null,
   "id": "1abfe212-c054-4eb0-b2c2-6c4ce8925a02",
   "metadata": {},
   "outputs": [],
   "source": []
  },
  {
   "cell_type": "code",
   "execution_count": null,
   "id": "d9019726-2caf-4fb3-9918-632f8561dbed",
   "metadata": {},
   "outputs": [],
   "source": [
    "sc.tl.pca(ad)\n",
    "sc.pp.neighbors(ad)\n",
    "sc.tl.umap(ad)\n",
    "sc.tl.leiden(ad)"
   ]
  },
  {
   "cell_type": "code",
   "execution_count": null,
   "id": "15d61180-391f-4286-ae83-7fd857840de2",
   "metadata": {},
   "outputs": [],
   "source": [
    "sc.pl.umap(ad, color=['clusters'])"
   ]
  },
  {
   "cell_type": "code",
   "execution_count": null,
   "id": "2c498d6b-dee3-4986-b5d8-094a4e21a3a4",
   "metadata": {},
   "outputs": [],
   "source": [
    "sc.pl.umap(ad, color=['Foxf2'])"
   ]
  },
  {
   "cell_type": "code",
   "execution_count": null,
   "id": "81fc89a9-c888-448a-aa07-b8987d63d67d",
   "metadata": {},
   "outputs": [],
   "source": [
    "adata=ad\n",
    "del ad"
   ]
  },
  {
   "cell_type": "markdown",
   "id": "215d9fc0-283f-49eb-bc91-f09d88c65648",
   "metadata": {
    "tags": []
   },
   "source": [
    "# Focus on: Foxf2"
   ]
  },
  {
   "cell_type": "code",
   "execution_count": null,
   "id": "84bcf659-c667-42c6-804f-a839b9c900d2",
   "metadata": {},
   "outputs": [],
   "source": [
    "adata_backup = adata"
   ]
  },
  {
   "cell_type": "code",
   "execution_count": null,
   "id": "6f335d4f-ed7e-4c7d-ab5e-0d9d795bcfa5",
   "metadata": {},
   "outputs": [],
   "source": [
    "# drop aged samples\n",
    "# adata = adata[adata.obs['age'].isin(['2-3mo'])]"
   ]
  },
  {
   "cell_type": "code",
   "execution_count": null,
   "id": "410528c4-2c19-4155-8db5-86105697c6e3",
   "metadata": {},
   "outputs": [],
   "source": [
    "gene=\"Foxf2\""
   ]
  },
  {
   "cell_type": "markdown",
   "id": "4e7b4a2a-43bd-403b-8047-b52961c48fd7",
   "metadata": {},
   "source": [
    "## Plot"
   ]
  },
  {
   "cell_type": "code",
   "execution_count": null,
   "id": "a7e6d725-df10-4b72-bdec-0a8606fb7fe1",
   "metadata": {},
   "outputs": [],
   "source": [
    "sc.pl.matrixplot(adata, [gene], groupby='clusters', swap_axes=False, figsize=(2,5), standard_scale=\"var\", layer=\"normalized\")"
   ]
  },
  {
   "cell_type": "code",
   "execution_count": null,
   "id": "cccc3858-fc89-42c3-b94b-8c792e0e0177",
   "metadata": {},
   "outputs": [],
   "source": [
    "sc.pl.dotplot(adata, [gene], groupby='clusters', swap_axes=False, figsize=(2,5), standard_scale=\"var\", layer=\"normalized\")"
   ]
  },
  {
   "cell_type": "code",
   "execution_count": null,
   "id": "d396453f-ef1e-4449-9b70-c5a95d11f0fb",
   "metadata": {},
   "outputs": [],
   "source": [
    "utils.summarize_gene_expression(adata = adata, gene = gene, groupby = \"clusters\", \n",
    "                                study_name = dataset_name, organism = organism,\n",
    "                                export = True, output_dir = os.path.join(main_dir, \"P06_Foxf2_per_celltype\", \"Foxf2_summarized\")\n",
    "                               )"
   ]
  },
  {
   "cell_type": "markdown",
   "id": "d7b4422f-92ba-4985-987f-550feb01d74e",
   "metadata": {},
   "source": [
    "# Focus on: Other genes"
   ]
  },
  {
   "cell_type": "code",
   "execution_count": null,
   "id": "e0afed79-d152-4193-99c2-4f390c4b77c1",
   "metadata": {},
   "outputs": [],
   "source": [
    "target_genes = [\"Foxo1\", \"Tek\", \"Nos3\", \"Htra1\", \"Egfl8\", \"Flt1\", \"Kdr\", \"Ptprb\", \"Nrp1\", \"Nrp2\", \"Efnb2\", \"Itgb1\", \"Itga6\", \"Angpt2\", \"Cdh5\", \"Cldn5\", \"Ocln\", \"Ctnnb1\"]"
   ]
  },
  {
   "cell_type": "code",
   "execution_count": null,
   "id": "43750b02-eeae-411f-80a9-b0019d671cba",
   "metadata": {},
   "outputs": [],
   "source": [
    "other_genes_results = {\n",
    "    gene: utils.summarize_gene_expression(adata, gene, study_name = dataset_name, organism = organism, groupby = \"clusters\",\n",
    "                                          output_dir=os.path.join(main_dir, \"P06_Foxf2_per_celltype\", \"Other_genes_summarized\"), export=True\n",
    "                                         ) for gene in target_genes\n",
    "}"
   ]
  },
  {
   "cell_type": "code",
   "execution_count": null,
   "id": "2b0994d0-be85-432d-913f-0b9ecdd3f8f4",
   "metadata": {},
   "outputs": [],
   "source": [
    "# some plots"
   ]
  },
  {
   "cell_type": "code",
   "execution_count": null,
   "id": "148caeed-9356-4f71-b4fc-2ed6cb9f23bb",
   "metadata": {
    "tags": []
   },
   "outputs": [],
   "source": [
    "sc.pl.matrixplot(adata, [target_genes[0]], groupby='clusters', swap_axes=False, figsize=(2,5), standard_scale=\"var\", layer=\"normalized\")"
   ]
  },
  {
   "cell_type": "code",
   "execution_count": null,
   "id": "c122cca0-3327-4926-960c-ccd488e613e0",
   "metadata": {},
   "outputs": [],
   "source": [
    "sc.pl.dotplot(adata, [target_genes[0]], groupby='clusters', swap_axes=False, figsize=(2,5), standard_scale=\"var\", layer=\"normalized\")"
   ]
  },
  {
   "cell_type": "code",
   "execution_count": null,
   "id": "b2573696-bb13-4b4a-b17d-05f3af228b73",
   "metadata": {},
   "outputs": [],
   "source": [
    "sc.pl.matrixplot(adata, [target_genes[1]], groupby='clusters', swap_axes=False, figsize=(2,5), standard_scale=\"var\", layer=\"normalized\")"
   ]
  },
  {
   "cell_type": "code",
   "execution_count": null,
   "id": "f0f0f8c0-ebb6-4d92-be58-a79dd377356c",
   "metadata": {},
   "outputs": [],
   "source": [
    "sc.pl.dotplot(adata, [target_genes[1]], groupby='clusters', swap_axes=False, figsize=(2,5), standard_scale=\"var\", layer=\"normalized\")"
   ]
  },
  {
   "cell_type": "markdown",
   "id": "a2086363-e940-40f3-8847-235cf59a71f3",
   "metadata": {},
   "source": [
    "# Focus on: Aging"
   ]
  },
  {
   "cell_type": "code",
   "execution_count": null,
   "id": "46813b75-47bc-47f5-a6a1-ebe4bc5e15f4",
   "metadata": {},
   "outputs": [],
   "source": [
    "adata = adata_backup"
   ]
  },
  {
   "cell_type": "code",
   "execution_count": null,
   "id": "96a71f6c-0774-41fe-a81f-6b11b98593a6",
   "metadata": {
    "tags": []
   },
   "outputs": [],
   "source": [
    "pd.value_counts(adata.obs[\"age\"])"
   ]
  },
  {
   "cell_type": "markdown",
   "id": "70fee669-39a6-4dd7-a0a4-e20adcd34247",
   "metadata": {},
   "source": [
    "## Foxf2 by age group"
   ]
  },
  {
   "cell_type": "code",
   "execution_count": null,
   "id": "10726739-d178-4fb9-9c8c-275cae39889c",
   "metadata": {},
   "outputs": [],
   "source": [
    "gene=[\"Foxf2\",\"Foxo1\",\"Tek\",\"Nos3\"]"
   ]
  },
  {
   "cell_type": "markdown",
   "id": "3f738f31-faba-4b81-9d33-1f923b85770f",
   "metadata": {},
   "source": [
    "### All cell types"
   ]
  },
  {
   "cell_type": "code",
   "execution_count": null,
   "id": "2fabe302-6340-4f13-bf37-94bbe1f13b33",
   "metadata": {},
   "outputs": [],
   "source": [
    "sc.pl.dotplot(adata, gene, groupby='age', swap_axes=True, figsize=(4,2), standard_scale=\"var\", layer=\"normalized\", title=\"All cell types\")"
   ]
  },
  {
   "cell_type": "markdown",
   "id": "1b181f68-c47b-47ef-9bbe-1697ccd9c21e",
   "metadata": {},
   "source": [
    "### ECs only"
   ]
  },
  {
   "cell_type": "code",
   "execution_count": null,
   "id": "5ad63ced-1a8d-41c6-a05b-98e1ab353a0a",
   "metadata": {},
   "outputs": [],
   "source": [
    "# ECs only\n",
    "adata_ecs = adata[adata.obs['clusters'].isin(['Endothelial cells'])]\n",
    "adata_ecs"
   ]
  },
  {
   "cell_type": "code",
   "execution_count": null,
   "id": "a609a5d8-3918-47d5-b965-b347ed0f4a34",
   "metadata": {
    "tags": []
   },
   "outputs": [],
   "source": [
    "pd.value_counts(adata_ecs.obs[\"age\"])"
   ]
  },
  {
   "cell_type": "code",
   "execution_count": null,
   "id": "48bde0b5-1868-4e89-9082-9ec804654ed2",
   "metadata": {},
   "outputs": [],
   "source": [
    "sc.pl.dotplot(adata_ecs, gene, groupby='age', swap_axes=True, figsize=(4,2), standard_scale=\"var\", layer=\"normalized\", title=\"ECs\")"
   ]
  },
  {
   "cell_type": "markdown",
   "id": "3e9c647c-77a6-4adc-bfd6-2c1dc7d6c679",
   "metadata": {},
   "source": [
    "### PCs only"
   ]
  },
  {
   "cell_type": "code",
   "execution_count": null,
   "id": "eb7c4290-7721-4024-b799-c1483e8bd897",
   "metadata": {},
   "outputs": [],
   "source": [
    "adata_pcs = adata[adata.obs['clusters'].isin(['Pericytes'])]\n",
    "pd.value_counts(adata_pcs.obs[\"age\"])"
   ]
  },
  {
   "cell_type": "code",
   "execution_count": null,
   "id": "5006fe7c-941a-4aa3-a10e-acc217c2c2e6",
   "metadata": {},
   "outputs": [],
   "source": [
    "sc.pl.dotplot(adata_pcs, gene, groupby='age', swap_axes=True, figsize=(4,2), standard_scale=\"var\", layer=\"normalized\", title=\"PCs\")"
   ]
  },
  {
   "cell_type": "markdown",
   "id": "852e2a97-b7a6-466e-8a81-5fbb27d8e7d6",
   "metadata": {},
   "source": [
    "### SMCs only"
   ]
  },
  {
   "cell_type": "code",
   "execution_count": null,
   "id": "d05907dc-fa01-4617-b0d8-87ece626f641",
   "metadata": {},
   "outputs": [],
   "source": [
    "adata_pcs = adata[adata.obs['clusters'].isin(['SMCs'])]\n",
    "pd.value_counts(adata_pcs.obs[\"age\"])"
   ]
  },
  {
   "cell_type": "code",
   "execution_count": null,
   "id": "8c6b9b3c-4729-4cec-8e41-d6d4122382a4",
   "metadata": {},
   "outputs": [],
   "source": [
    "sc.pl.dotplot(adata_pcs, gene, groupby='age', swap_axes=True, figsize=(4,2), standard_scale=\"var\", layer=\"normalized\", title=\"SMCs\")"
   ]
  },
  {
   "cell_type": "markdown",
   "id": "397cc916-6d77-45be-905d-c33d7976623d",
   "metadata": {},
   "source": [
    "### Neurons only"
   ]
  },
  {
   "cell_type": "code",
   "execution_count": null,
   "id": "4471e942-a0c7-45df-b221-129079ac3ee8",
   "metadata": {},
   "outputs": [],
   "source": [
    "adata_neur = adata[adata.obs['clusters'].isin(['Neurons'])]\n",
    "pd.value_counts(adata_neur.obs[\"age\"])"
   ]
  },
  {
   "cell_type": "code",
   "execution_count": null,
   "id": "3e61c221-8e19-4104-b3d7-60e48c8ffe5e",
   "metadata": {},
   "outputs": [],
   "source": [
    "sc.pl.dotplot(adata_neur, gene, groupby='age', swap_axes=True, figsize=(4,2), standard_scale=\"var\", layer=\"normalized\", title=\"Neurons\")"
   ]
  },
  {
   "cell_type": "markdown",
   "id": "aa912c5b-647e-4b3f-97b4-0e5a16cecce1",
   "metadata": {},
   "source": [
    "### Astrocytes only"
   ]
  },
  {
   "cell_type": "code",
   "execution_count": null,
   "id": "88500b53-9e79-44ef-8778-3efea18e851c",
   "metadata": {},
   "outputs": [],
   "source": [
    "adata_astro = adata[adata.obs['clusters'].isin(['Astrocytes'])]\n",
    "pd.value_counts(adata_astro.obs[\"age\"])"
   ]
  },
  {
   "cell_type": "code",
   "execution_count": null,
   "id": "4d54f261-368a-4ec9-8c54-9cdc1ac12d15",
   "metadata": {},
   "outputs": [],
   "source": [
    "sc.pl.dotplot(adata_astro, gene, groupby='age', swap_axes=True, figsize=(4,2), standard_scale=\"var\", layer=\"normalized\", title=\"Astrocytes\")"
   ]
  },
  {
   "cell_type": "markdown",
   "id": "1c8a6c7e-c0fe-478d-8d1b-c9bc93bdf303",
   "metadata": {},
   "source": [
    "### Oligos only"
   ]
  },
  {
   "cell_type": "code",
   "execution_count": null,
   "id": "f8823cbb-0cc3-4061-b7c2-b9e669de7e47",
   "metadata": {},
   "outputs": [],
   "source": [
    "adata_olig = adata[adata.obs['clusters'].isin(['Oligos'])]\n",
    "pd.value_counts(adata_olig.obs[\"age\"])"
   ]
  },
  {
   "cell_type": "code",
   "execution_count": null,
   "id": "1008e534-ea40-4aa8-b6b6-df9cdcf624ba",
   "metadata": {},
   "outputs": [],
   "source": [
    "sc.pl.dotplot(adata_olig, gene, groupby='age', swap_axes=True, figsize=(4,2), standard_scale=\"var\", layer=\"normalized\", title=\"Oligos\")"
   ]
  },
  {
   "cell_type": "markdown",
   "id": "ce86fd0b-8d46-4a79-9471-d543bbedfd7a",
   "metadata": {},
   "source": [
    "### Microglia only"
   ]
  },
  {
   "cell_type": "code",
   "execution_count": null,
   "id": "0c0ef0af-8f6b-4aba-bcb6-541c1b3f03b4",
   "metadata": {},
   "outputs": [],
   "source": [
    "adata_mg = adata[adata.obs['clusters'].isin(['Microglia/Macrophages'])]\n",
    "pd.value_counts(adata_mg.obs[\"age\"])"
   ]
  },
  {
   "cell_type": "code",
   "execution_count": null,
   "id": "6f8fc175-3a69-4ea9-b531-fa5d3a2f6143",
   "metadata": {},
   "outputs": [],
   "source": [
    "sc.pl.dotplot(adata_mg, gene, groupby='age', swap_axes=True, figsize=(4,2), standard_scale=\"var\", layer=\"normalized\", title=\"Microglia/Macrophages\")"
   ]
  },
  {
   "cell_type": "markdown",
   "id": "c186e163-a194-4441-9362-bafef7ba2399",
   "metadata": {},
   "source": [
    "## Correlate gene expression (Foxf2 and Foxo1)"
   ]
  },
  {
   "cell_type": "markdown",
   "id": "03a2371a-d6a8-41ae-bc84-aa77b2c2e32c",
   "metadata": {},
   "source": [
    "### ECs"
   ]
  },
  {
   "cell_type": "code",
   "execution_count": null,
   "id": "f8c3ae0c-422c-4561-9ad6-d3797c0467b9",
   "metadata": {},
   "outputs": [],
   "source": [
    "gg = [\"Foxf2\",\"Foxo1\"]"
   ]
  },
  {
   "cell_type": "code",
   "execution_count": null,
   "id": "67c84eeb-9b65-4a30-93d2-8c83882ef906",
   "metadata": {
    "tags": []
   },
   "outputs": [],
   "source": [
    "adata"
   ]
  },
  {
   "cell_type": "code",
   "execution_count": null,
   "id": "7bd20e39-1ba8-4416-bd59-b3b5ea701b30",
   "metadata": {},
   "outputs": [],
   "source": [
    "adata_ecs"
   ]
  },
  {
   "cell_type": "code",
   "execution_count": null,
   "id": "cf6aadfe-5579-4c11-bc74-7709d04aefbe",
   "metadata": {},
   "outputs": [],
   "source": [
    "adat = adata_ecs\n",
    "subs = adat[:,gg].X\n",
    "subs = pd.DataFrame(subs, columns = gg, index=adat.obs.index)\n",
    "age = pd.DataFrame(adat.obs[\"age\"])\n",
    "subs = subs.join(age)\n",
    "subs.head()"
   ]
  },
  {
   "cell_type": "code",
   "execution_count": null,
   "id": "e8fd9f00-ac75-4c4e-8686-c9ea0e0ee3a5",
   "metadata": {},
   "outputs": [],
   "source": [
    "g = sns.lmplot(x=\"Foxf2\", y=\"Foxo1\", data=subs, hue=\"age\", fit_reg=False, scatter_kws={'alpha':0.6})\n",
    "sns.regplot(x=\"Foxf2\", y=\"Foxo1\", data=subs, scatter=False, ax=g.axes[0, 0], color=\"grey\")\n",
    "g.figure.set_size_inches(7,6)\n",
    "plt.show()"
   ]
  },
  {
   "cell_type": "code",
   "execution_count": null,
   "id": "3a10ccee-5aa4-4595-8936-9a2f31d62cb3",
   "metadata": {},
   "outputs": [],
   "source": [
    "import scipy as sp\n",
    "r, p = sp.stats.pearsonr(subs['Foxf2'], subs['Foxo1'])\n",
    "'Pearson R = {:.2f}, p = {:.2g}'.format(r, p)"
   ]
  },
  {
   "cell_type": "code",
   "execution_count": null,
   "id": "9290a4f6-764f-44f4-ba28-7713155a4adf",
   "metadata": {},
   "outputs": [],
   "source": [
    "graph = sns.jointplot(data=subs, x=\"Foxf2\", y=\"Foxo1\", hue=\"age\")\n",
    "plt.show()"
   ]
  },
  {
   "cell_type": "markdown",
   "id": "4450517e-8b8f-40ff-a124-1218bacd342e",
   "metadata": {},
   "source": [
    "Exclude dropouts (cells with 0 expression of both genes)"
   ]
  },
  {
   "cell_type": "code",
   "execution_count": null,
   "id": "f747b3eb-351f-4040-89b2-e6500ccd7c1e",
   "metadata": {},
   "outputs": [],
   "source": [
    "coex = (adata_ecs[:,'{}'.format(\"Foxf2\")].X > 0) | (adata_ecs[:,'{}'.format(\"Foxo1\")].X > 0)"
   ]
  },
  {
   "cell_type": "code",
   "execution_count": null,
   "id": "5e8e33a9-7838-41cd-ad6b-89a3a0611643",
   "metadata": {},
   "outputs": [],
   "source": [
    "adata_ecs_above0 = adata_ecs[coex]\n",
    "adata_ecs_above0"
   ]
  },
  {
   "cell_type": "code",
   "execution_count": null,
   "id": "343c9fd7-ae46-40a2-8550-602e3fcc77d3",
   "metadata": {
    "tags": []
   },
   "outputs": [],
   "source": [
    "pd.value_counts(adata_ecs_above0.obs[\"age\"])"
   ]
  },
  {
   "cell_type": "code",
   "execution_count": null,
   "id": "11f23496-47cc-4cb2-893f-0127b668a703",
   "metadata": {},
   "outputs": [],
   "source": [
    "sc.pl.dotplot(adata_ecs_above0, gene, groupby='age', swap_axes=True, figsize=(4,2), standard_scale=\"var\", layer=\"normalized\", title=\"ECs\")"
   ]
  },
  {
   "cell_type": "code",
   "execution_count": null,
   "id": "9536ce11-ad4c-4957-9b31-cb41cedb7e35",
   "metadata": {},
   "outputs": [],
   "source": [
    "adat = adata_ecs_above0\n",
    "subs = adat[:,gg].X\n",
    "subs = pd.DataFrame(subs, columns = gg, index=adat.obs.index)\n",
    "age = pd.DataFrame(adat.obs[\"age\"])\n",
    "subs = subs.join(age)"
   ]
  },
  {
   "cell_type": "code",
   "execution_count": null,
   "id": "5bc88e29-f463-45d8-850a-a89f267d6406",
   "metadata": {},
   "outputs": [],
   "source": [
    "g = sns.lmplot(x=\"Foxf2\", y=\"Foxo1\", data=subs, hue=\"age\", fit_reg=False, scatter_kws={'alpha':0.6})\n",
    "sns.regplot(x=\"Foxf2\", y=\"Foxo1\", data=subs, scatter=False, ax=g.axes[0, 0], color=\"grey\")\n",
    "g.figure.set_size_inches(7,6)\n",
    "plt.show()"
   ]
  },
  {
   "cell_type": "code",
   "execution_count": null,
   "id": "dfb65806-36ab-47bb-8f84-e0deaee1b257",
   "metadata": {},
   "outputs": [],
   "source": [
    "r, p = sp.stats.pearsonr(subs['Foxf2'], subs['Foxo1'])\n",
    "'Pearson R = {:.2f}, p = {:.2g}'.format(r, p)"
   ]
  },
  {
   "cell_type": "code",
   "execution_count": null,
   "id": "782ff0fe-53ff-407c-92ab-41bd03aa17ed",
   "metadata": {},
   "outputs": [],
   "source": [
    "graph = sns.jointplot(data=subs, x=\"Foxf2\", y=\"Foxo1\", hue=\"age\")\n",
    "plt.show()"
   ]
  },
  {
   "cell_type": "markdown",
   "id": "86b3f9c8-ec0f-462f-9cb7-7e622e5b539b",
   "metadata": {},
   "source": [
    "### All cell types"
   ]
  },
  {
   "cell_type": "code",
   "execution_count": null,
   "id": "d74315da-5a1b-47c7-aebd-9dbcb5ef3cb7",
   "metadata": {},
   "outputs": [],
   "source": [
    "gg = [\"Foxf2\",\"Foxo1\"]"
   ]
  },
  {
   "cell_type": "code",
   "execution_count": null,
   "id": "f265652b-cbf7-49f2-8aa6-77ac0cfb2745",
   "metadata": {},
   "outputs": [],
   "source": [
    "adata"
   ]
  },
  {
   "cell_type": "code",
   "execution_count": null,
   "id": "13a6b531-3e2a-4abc-9335-b14ab604ee4d",
   "metadata": {},
   "outputs": [],
   "source": [
    "adat = adata\n",
    "subs = adat[:,gg].X\n",
    "subs = pd.DataFrame(subs, columns = gg, index=adat.obs.index)\n",
    "age = pd.DataFrame(adat.obs[\"age\"])\n",
    "subs = subs.join(age)\n",
    "subs.head()"
   ]
  },
  {
   "cell_type": "code",
   "execution_count": null,
   "id": "fbb4ff13-9b59-4038-8625-6fea93e33739",
   "metadata": {},
   "outputs": [],
   "source": [
    "g = sns.lmplot(x=\"Foxf2\", y=\"Foxo1\", data=subs, hue=\"age\", fit_reg=False, scatter_kws={'alpha':0.6})\n",
    "sns.regplot(x=\"Foxf2\", y=\"Foxo1\", data=subs, scatter=False, ax=g.axes[0, 0], color=\"grey\")\n",
    "g.figure.set_size_inches(7,6)\n",
    "plt.show()"
   ]
  },
  {
   "cell_type": "code",
   "execution_count": null,
   "id": "caf80ce2-28f0-4d4d-a180-8aab65ab1a74",
   "metadata": {},
   "outputs": [],
   "source": [
    "graph = sns.jointplot(data=subs, x=\"Foxf2\", y=\"Foxo1\", hue=\"age\")\n",
    "plt.show()"
   ]
  },
  {
   "cell_type": "markdown",
   "id": "c7c69dd7-c0b9-4852-a771-91d40919eee7",
   "metadata": {},
   "source": [
    "Exclude dropouts (cells with 0 expression of both genes)"
   ]
  },
  {
   "cell_type": "code",
   "execution_count": null,
   "id": "f9b1d929-b634-4951-9eab-cbb48364a570",
   "metadata": {},
   "outputs": [],
   "source": [
    "coex = (adat[:,'{}'.format(\"Foxf2\")].X > 0) | (adat[:,'{}'.format(\"Foxo1\")].X > 0)"
   ]
  },
  {
   "cell_type": "code",
   "execution_count": null,
   "id": "c1528a21-b5ac-4323-9665-3ae2cf508a75",
   "metadata": {},
   "outputs": [],
   "source": [
    "adata_above0 = adat[coex]\n",
    "adata_above0"
   ]
  },
  {
   "cell_type": "code",
   "execution_count": null,
   "id": "a7985967-60f4-47b6-a81d-1c885a0b4a8e",
   "metadata": {
    "tags": []
   },
   "outputs": [],
   "source": [
    "pd.value_counts(adata_above0.obs[\"age\"])"
   ]
  },
  {
   "cell_type": "code",
   "execution_count": null,
   "id": "fe12c675-258e-4018-9448-a32725532f1d",
   "metadata": {},
   "outputs": [],
   "source": [
    "sc.pl.dotplot(adata_above0, gene, groupby='age', swap_axes=True, figsize=(4,2), standard_scale=\"var\", layer=\"normalized\")"
   ]
  },
  {
   "cell_type": "code",
   "execution_count": null,
   "id": "5bc2deb5-ede2-4900-b2bb-05244a352029",
   "metadata": {},
   "outputs": [],
   "source": [
    "adat = adata_above0\n",
    "subs = adat[:,gg].X\n",
    "subs = pd.DataFrame(subs, columns = gg, index=adat.obs.index)\n",
    "age = pd.DataFrame(adat.obs[\"age\"])\n",
    "subs = subs.join(age)"
   ]
  },
  {
   "cell_type": "code",
   "execution_count": null,
   "id": "7ead3c69-ec97-48e3-8966-11504dbca77f",
   "metadata": {},
   "outputs": [],
   "source": [
    "g = sns.lmplot(x=\"Foxf2\", y=\"Foxo1\", data=subs, hue=\"age\", fit_reg=False, scatter_kws={'alpha':0.6})\n",
    "sns.regplot(x=\"Foxf2\", y=\"Foxo1\", data=subs, scatter=False, ax=g.axes[0, 0], color=\"grey\")\n",
    "g.figure.set_size_inches(7,6)\n",
    "plt.show()"
   ]
  },
  {
   "cell_type": "code",
   "execution_count": null,
   "id": "42c3c2bf-d439-451b-9f7b-1972420653f2",
   "metadata": {},
   "outputs": [],
   "source": [
    "graph = sns.jointplot(data=subs, x=\"Foxf2\", y=\"Foxo1\", hue=\"age\")\n",
    "plt.show()"
   ]
  },
  {
   "cell_type": "markdown",
   "id": "89a17a41-e163-4e94-93d9-6b6d72ccd8f5",
   "metadata": {},
   "source": [
    "## Pseudobulk analysis (decoupler)"
   ]
  },
  {
   "cell_type": "markdown",
   "id": "abbb728d-eb35-44e1-bd0a-0be4f63da21d",
   "metadata": {},
   "source": [
    "Because correlation on single cell level is biased by large number of dropouts"
   ]
  },
  {
   "cell_type": "code",
   "execution_count": null,
   "id": "846e96bb-7daf-4e0d-995a-873472e24ea7",
   "metadata": {},
   "outputs": [],
   "source": [
    "import decoupler as dc"
   ]
  },
  {
   "cell_type": "code",
   "execution_count": null,
   "id": "d12d6b31-c063-4eab-a90a-d9d9333d0d1b",
   "metadata": {},
   "outputs": [],
   "source": [
    "adata"
   ]
  },
  {
   "cell_type": "code",
   "execution_count": null,
   "id": "d150cbeb-a3bf-4abc-85ed-07efd664b608",
   "metadata": {},
   "outputs": [],
   "source": [
    "adata.obs[\"sample\"] = adata.obs['NAME'].str.extract('_([0-9]+)_?')\n",
    "pd.value_counts(adata.obs[\"sample\"])"
   ]
  },
  {
   "cell_type": "code",
   "execution_count": null,
   "id": "6296d137-2f0d-46fb-8518-50321c8ad954",
   "metadata": {},
   "outputs": [],
   "source": [
    "pd.crosstab(adata.obs[\"sample\"], adata.obs[\"age\"]).T"
   ]
  },
  {
   "cell_type": "code",
   "execution_count": null,
   "id": "215cfb04-c268-4c29-aa7d-76c369c33b79",
   "metadata": {},
   "outputs": [],
   "source": [
    "padata = dc.get_pseudobulk(adata, sample_col='sample', groups_col=None, layer='normalized', min_prop=0.01, min_smpls=0)"
   ]
  },
  {
   "cell_type": "code",
   "execution_count": null,
   "id": "f92ccc3e-23e1-43b4-ac24-99529f1228a8",
   "metadata": {},
   "outputs": [],
   "source": [
    "padata"
   ]
  },
  {
   "cell_type": "markdown",
   "id": "e00e396e-cecc-4e4b-8401-6471b4d43544",
   "metadata": {},
   "source": [
    "### Correlate gene expression (Foxf2 and Foxo1)"
   ]
  },
  {
   "cell_type": "markdown",
   "id": "b9ac23e4-ad3d-42fa-8649-101e41fa1fb2",
   "metadata": {},
   "source": [
    "#### All cell types"
   ]
  },
  {
   "cell_type": "code",
   "execution_count": null,
   "id": "35f459df-e52d-4026-8a1e-912142b186c9",
   "metadata": {},
   "outputs": [],
   "source": [
    "gg = [\"Foxf2\",\"Foxo1\"]"
   ]
  },
  {
   "cell_type": "code",
   "execution_count": null,
   "id": "b16f3cd6-3a90-4fba-8313-1b82f49977f9",
   "metadata": {},
   "outputs": [],
   "source": [
    "padata"
   ]
  },
  {
   "cell_type": "code",
   "execution_count": null,
   "id": "0fe99e78-3eb0-472b-be76-8ce734bc32ee",
   "metadata": {},
   "outputs": [],
   "source": [
    "adat = padata\n",
    "subs = adat[:,gg].X\n",
    "subs = pd.DataFrame(subs, columns = gg, index=adat.obs.index)\n",
    "age = pd.DataFrame(adat.obs[\"age\"])\n",
    "subs = subs.join(age)\n",
    "subs.head()"
   ]
  },
  {
   "cell_type": "code",
   "execution_count": null,
   "id": "fe6b9007-fe9a-4525-a88d-4eb8ef81bf13",
   "metadata": {},
   "outputs": [],
   "source": [
    "g = sns.lmplot(x=\"Foxf2\", y=\"Foxo1\", data=subs, hue=\"age\", fit_reg=False, scatter_kws={'alpha':0.6})\n",
    "sns.regplot(x=\"Foxf2\", y=\"Foxo1\", data=subs, scatter=False, ax=g.axes[0, 0], color=\"grey\")\n",
    "g.figure.set_size_inches(7,6)\n",
    "plt.show()"
   ]
  },
  {
   "cell_type": "code",
   "execution_count": null,
   "id": "d3d170bd-ed0d-446b-963d-a063b9e38793",
   "metadata": {},
   "outputs": [],
   "source": [
    "import scipy as sp\n",
    "r, p = sp.stats.pearsonr(subs['Foxf2'], subs['Foxo1'])\n",
    "'Pearson R = {:.2f}, p = {:.2g}'.format(r, p)"
   ]
  },
  {
   "cell_type": "code",
   "execution_count": null,
   "id": "59f8c6a6-b69e-4b3a-9f70-f3ed11c06481",
   "metadata": {},
   "outputs": [],
   "source": [
    "graph = sns.jointplot(data=subs, x=\"Foxf2\", y=\"Foxo1\", hue=\"age\")\n",
    "plt.show()"
   ]
  },
  {
   "cell_type": "markdown",
   "id": "c1e04d9f-0825-4498-8718-2dedd2c29c55",
   "metadata": {},
   "source": [
    "#### ECs"
   ]
  },
  {
   "cell_type": "code",
   "execution_count": null,
   "id": "4ebded33-af96-4a9f-9ab5-34425984e798",
   "metadata": {},
   "outputs": [],
   "source": [
    "padata = dc.get_pseudobulk(adata, sample_col='sample', groups_col='clusters', layer='normalized', min_prop=0.2, min_smpls=3)"
   ]
  },
  {
   "cell_type": "code",
   "execution_count": null,
   "id": "e2c81e9c-e555-4ce6-bd94-533d49b141d4",
   "metadata": {},
   "outputs": [],
   "source": [
    "padata"
   ]
  },
  {
   "cell_type": "code",
   "execution_count": null,
   "id": "278149d4-b448-40b9-85d1-32e067760392",
   "metadata": {},
   "outputs": [],
   "source": [
    "# ECs only\n",
    "padata_ecs = padata[padata.obs['clusters'].isin(['Endothelial cells'])]\n",
    "padata_ecs"
   ]
  },
  {
   "cell_type": "code",
   "execution_count": null,
   "id": "6f941ee7-69fa-4edd-abcd-b35104158593",
   "metadata": {},
   "outputs": [],
   "source": [
    "gg = [\"Foxf2\",\"Foxo1\"]"
   ]
  },
  {
   "cell_type": "code",
   "execution_count": null,
   "id": "409250a7-eb4b-4bb5-9aef-ba1a716254bb",
   "metadata": {},
   "outputs": [],
   "source": [
    "adat = padata_ecs\n",
    "subs = adat[:,gg].X\n",
    "subs = pd.DataFrame(subs, columns = gg, index=adat.obs.index)\n",
    "age = pd.DataFrame(adat.obs[\"age\"])\n",
    "subs = subs.join(age)\n",
    "subs.head()"
   ]
  },
  {
   "cell_type": "code",
   "execution_count": null,
   "id": "44c9f156-9c4f-4537-a32f-32bd3634f367",
   "metadata": {},
   "outputs": [],
   "source": [
    "g = sns.lmplot(x=\"Foxf2\", y=\"Foxo1\", data=subs, hue=\"age\", fit_reg=False, scatter_kws={'alpha':0.6})\n",
    "sns.regplot(x=\"Foxf2\", y=\"Foxo1\", data=subs, scatter=False, ax=g.axes[0, 0], color=\"grey\")\n",
    "g.figure.set_size_inches(7,6)\n",
    "plt.show()"
   ]
  },
  {
   "cell_type": "code",
   "execution_count": null,
   "id": "c4c6e674-37f3-4f19-bea3-ebeeb3361958",
   "metadata": {},
   "outputs": [],
   "source": [
    "import scipy as sp\n",
    "r, p = sp.stats.pearsonr(subs['Foxf2'], subs['Foxo1'])\n",
    "'Pearson R = {:.2f}, p = {:.2g}'.format(r, p)"
   ]
  },
  {
   "cell_type": "code",
   "execution_count": null,
   "id": "66e816e7-b128-4e38-a077-4ddd72c8710d",
   "metadata": {},
   "outputs": [],
   "source": [
    "graph = sns.jointplot(data=subs, x=\"Foxf2\", y=\"Foxo1\", hue=\"age\")\n",
    "plt.show()"
   ]
  },
  {
   "cell_type": "code",
   "execution_count": null,
   "id": "a2d31575-060d-4cbe-993d-9b63bd4588de",
   "metadata": {},
   "outputs": [],
   "source": []
  },
  {
   "cell_type": "markdown",
   "id": "046431fb-592e-40df-ad8d-8fca4dbdb4a2",
   "metadata": {},
   "source": [
    "## Denoising (MAGIC)"
   ]
  },
  {
   "cell_type": "code",
   "execution_count": null,
   "id": "6978a736-a283-47c5-8852-af39e482e7b6",
   "metadata": {
    "tags": []
   },
   "outputs": [],
   "source": [
    "import magic\n",
    "import scprep"
   ]
  },
  {
   "cell_type": "markdown",
   "id": "483e6820-bdc2-43ce-83c5-6f8685dba3a3",
   "metadata": {},
   "source": [
    "### Correlate gene expression (Foxf2 and Foxo1)"
   ]
  },
  {
   "cell_type": "markdown",
   "id": "e8b9e93e-61b0-4925-a1ab-65d3166a1ffd",
   "metadata": {},
   "source": [
    "#### ECs"
   ]
  },
  {
   "cell_type": "code",
   "execution_count": null,
   "id": "accf365f-d2d3-482e-a71b-bd1d9cb3505e",
   "metadata": {},
   "outputs": [],
   "source": [
    "gg = [\"Foxf2\",\"Foxo1\"]"
   ]
  },
  {
   "cell_type": "code",
   "execution_count": null,
   "id": "a05cc9d8-8aaa-48ef-b22d-647143944b38",
   "metadata": {},
   "outputs": [],
   "source": [
    "adata"
   ]
  },
  {
   "cell_type": "code",
   "execution_count": null,
   "id": "029383de-10a1-4b53-8a1b-02d8d309aace",
   "metadata": {},
   "outputs": [],
   "source": [
    "adata_EC = adata[adata.obs.clusters == \"Endothelial cells\"]"
   ]
  },
  {
   "cell_type": "code",
   "execution_count": null,
   "id": "b32d55a8-5f16-415e-9650-3e6f2a362c15",
   "metadata": {
    "tags": []
   },
   "outputs": [],
   "source": [
    "adata_EC"
   ]
  },
  {
   "cell_type": "code",
   "execution_count": null,
   "id": "d1ad32ab-4940-4ffd-bad8-f046dabf26bc",
   "metadata": {
    "tags": []
   },
   "outputs": [],
   "source": [
    "#adata_EC = adata_EC[adata_EC.obs.age == \"21-22mo\"]"
   ]
  },
  {
   "cell_type": "code",
   "execution_count": null,
   "id": "ac0619b0-a2f5-4079-9dee-d151bfe0e05e",
   "metadata": {
    "tags": []
   },
   "outputs": [],
   "source": [
    "adata_EC"
   ]
  },
  {
   "cell_type": "code",
   "execution_count": null,
   "id": "81ec1732-ca68-483a-a4a2-a806ad08b019",
   "metadata": {
    "tags": []
   },
   "outputs": [],
   "source": [
    "matrix = pd.DataFrame(adata_EC.X)\n",
    "matrix.columns = adata_EC.var.index.tolist()"
   ]
  },
  {
   "cell_type": "code",
   "execution_count": null,
   "id": "5b59ec81-475c-4dc1-b680-d337b0767122",
   "metadata": {
    "tags": []
   },
   "outputs": [],
   "source": [
    "matrix.head()"
   ]
  },
  {
   "cell_type": "code",
   "execution_count": null,
   "id": "11239ada-510b-4108-b370-a469d2cde8a3",
   "metadata": {
    "tags": []
   },
   "outputs": [],
   "source": [
    "scprep.plot.plot_library_size(matrix, cutoff=1500)"
   ]
  },
  {
   "cell_type": "markdown",
   "id": "d2b8722b-b5d2-43b7-b332-1130db94a2df",
   "metadata": {},
   "source": [
    "Note: Skipped normalization as data is already log-normalized"
   ]
  },
  {
   "cell_type": "code",
   "execution_count": null,
   "id": "d1522821-0304-42b7-a2b5-2f4381a28b6b",
   "metadata": {
    "tags": []
   },
   "outputs": [],
   "source": [
    "adata_EC.layers"
   ]
  },
  {
   "cell_type": "markdown",
   "id": "9850eb3f-dcbb-44ef-b395-418bc7bd5310",
   "metadata": {},
   "source": [
    "##### Creating the MAGIC operator\n",
    "If you don't specify parameters, MAGIC creates an operator with the following default values: knn=5, knn_max = 3 * knn, decay=1, t=3."
   ]
  },
  {
   "cell_type": "code",
   "execution_count": null,
   "id": "60a189bb-0282-4f82-a9bf-f428ea6574a7",
   "metadata": {
    "tags": []
   },
   "outputs": [],
   "source": [
    "magic_op = magic.MAGIC()"
   ]
  },
  {
   "cell_type": "markdown",
   "id": "d142ab74-fc70-49c8-8e54-3055e9eb73ed",
   "metadata": {},
   "source": [
    "##### Running MAGIC with gene selection\n",
    "The magic_op.fit_transform function takes the normalized data and an array of selected genes as its arguments. If no genes are provided, MAGIC will return a matrix of all genes. The same can be achieved by substituting the array of gene names with genes='all_genes'."
   ]
  },
  {
   "cell_type": "code",
   "execution_count": null,
   "id": "76a20cbb-2498-4ed3-aca8-639397fd1e0d",
   "metadata": {
    "tags": []
   },
   "outputs": [],
   "source": [
    "%%time\n",
    "emt_magic = magic_op.fit_transform(matrix, genes=['Foxf2', 'Foxo1', 'Nos3'])"
   ]
  },
  {
   "cell_type": "markdown",
   "id": "c015ee09-a713-4a2e-b7a3-8f9a6cd24f81",
   "metadata": {},
   "source": [
    "##### Visualizing gene-gene relationships\n",
    "\n",
    "We can see gene-gene relationships much more clearly after applying MAGIC. Note that the change in absolute values of gene expression is not meaningful - the relative difference is all that matters."
   ]
  },
  {
   "cell_type": "markdown",
   "id": "2aa4af09-930b-4b39-89e8-2aadc1806690",
   "metadata": {},
   "source": [
    "##### All ECs"
   ]
  },
  {
   "cell_type": "code",
   "execution_count": null,
   "id": "355947d9-4f5d-4b68-ba98-991be2854549",
   "metadata": {
    "tags": []
   },
   "outputs": [],
   "source": [
    "np.corrcoef(emt_magic[['Foxf2','Foxo1']], rowvar = False)[0][1]"
   ]
  },
  {
   "cell_type": "code",
   "execution_count": null,
   "id": "e69aab4f-3fa3-4991-a53b-9187a9f2b6e8",
   "metadata": {
    "tags": []
   },
   "outputs": [],
   "source": [
    "fig, (ax1, ax2) = plt.subplots(1,2, figsize=(16, 6))\n",
    "\n",
    "scprep.plot.scatter(x=matrix['Foxf2'], y=matrix['Foxo1'], c=matrix['Nos3'],  ax=ax1,\n",
    "                    xlabel='Foxf2', ylabel='Foxo1', legend_title=\"Nos3\", title='Before MAGIC')\n",
    "\n",
    "scprep.plot.scatter(x=emt_magic['Foxf2'], y=emt_magic['Foxo1'], c=emt_magic['Nos3'], ax=ax2,\n",
    "                    xlabel='Foxf2', ylabel='Foxo1', legend_title=\"Nos3\", title='After MAGIC')\n",
    "plt.axline((0.2,0.2), slope=1, color=\"black\", alpha=0.3, linestyle=\"--\")\n",
    "plt.tight_layout()\n",
    "plt.show()"
   ]
  },
  {
   "cell_type": "markdown",
   "id": "8ff67e97-03ab-4a2a-aa3c-6ad96c77832b",
   "metadata": {},
   "source": [
    "##### 21-22mo EC only"
   ]
  },
  {
   "cell_type": "code",
   "execution_count": null,
   "id": "b94e3e75-670d-4406-b7ac-65853c31db20",
   "metadata": {
    "tags": []
   },
   "outputs": [],
   "source": [
    "np.corrcoef(emt_magic[['Foxf2','Foxo1']], rowvar = False)[0][1]"
   ]
  },
  {
   "cell_type": "code",
   "execution_count": null,
   "id": "5e40e58b-2966-4e58-86eb-209888630ed8",
   "metadata": {
    "tags": []
   },
   "outputs": [],
   "source": [
    "fig, (ax1, ax2) = plt.subplots(1,2, figsize=(16, 6))\n",
    "\n",
    "scprep.plot.scatter(x=matrix['Foxf2'], y=matrix['Foxo1'], c=matrix['Nos3'],  ax=ax1,\n",
    "                    xlabel='Foxf2', ylabel='Foxo1', legend_title=\"Nos3\", title='Before MAGIC')\n",
    "\n",
    "scprep.plot.scatter(x=emt_magic['Foxf2'], y=emt_magic['Foxo1'], c=emt_magic['Nos3'], ax=ax2,\n",
    "                    xlabel='Foxf2', ylabel='Foxo1', legend_title=\"Nos3\", title='After MAGIC')\n",
    "plt.axline((0.2,0.2), slope=1, color=\"black\", alpha=0.3, linestyle=\"--\")\n",
    "plt.tight_layout()\n",
    "plt.show()"
   ]
  },
  {
   "cell_type": "markdown",
   "id": "ddf5f158-eb54-48cc-97fb-a64dd1aaa985",
   "metadata": {},
   "source": [
    "##### 2-3mo ECs only"
   ]
  },
  {
   "cell_type": "code",
   "execution_count": null,
   "id": "dbd8e2f6-aa7b-43af-b9f0-8513ab1a4c44",
   "metadata": {
    "tags": []
   },
   "outputs": [],
   "source": [
    "np.corrcoef(emt_magic[['Foxf2','Foxo1']], rowvar = False)[0][1]"
   ]
  },
  {
   "cell_type": "code",
   "execution_count": null,
   "id": "a5fe4030-a73c-42d9-8f22-f6ef406c9f8f",
   "metadata": {
    "tags": []
   },
   "outputs": [],
   "source": [
    "fig, (ax1, ax2) = plt.subplots(1,2, figsize=(16, 6))\n",
    "\n",
    "scprep.plot.scatter(x=matrix['Foxf2'], y=matrix['Foxo1'], c=matrix['Nos3'],  ax=ax1,\n",
    "                    xlabel='Foxf2', ylabel='Foxo1', legend_title=\"Nos3\", title='Before MAGIC')\n",
    "\n",
    "scprep.plot.scatter(x=emt_magic['Foxf2'], y=emt_magic['Foxo1'], c=emt_magic['Nos3'], ax=ax2,\n",
    "                    xlabel='Foxf2', ylabel='Foxo1', legend_title=\"Nos3\", title='After MAGIC')\n",
    "plt.axline((0.2,0.2), slope=1, color=\"black\", alpha=0.3, linestyle=\"--\")\n",
    "plt.tight_layout()\n",
    "plt.show()"
   ]
  },
  {
   "cell_type": "code",
   "execution_count": null,
   "id": "4e009327-9a3e-4966-a8e9-6504f5a899b0",
   "metadata": {},
   "outputs": [],
   "source": []
  },
  {
   "cell_type": "markdown",
   "id": "5edde795-a03f-40f0-b285-b97d8ceeb831",
   "metadata": {},
   "source": [
    "#### PCs"
   ]
  },
  {
   "cell_type": "code",
   "execution_count": null,
   "id": "8dff52e4-2772-4053-acf9-42d75d24e10a",
   "metadata": {},
   "outputs": [],
   "source": [
    "adata_EC = adata[adata.obs.clusters == \"Pericytes\"]"
   ]
  },
  {
   "cell_type": "code",
   "execution_count": null,
   "id": "0e50b946-3a22-4638-af57-15edeecf0feb",
   "metadata": {
    "tags": []
   },
   "outputs": [],
   "source": [
    "matrix = pd.DataFrame(adata_EC.X)\n",
    "matrix.columns = adata_EC.var.index.tolist()"
   ]
  },
  {
   "cell_type": "code",
   "execution_count": null,
   "id": "c7414cb0-272b-47a9-a7f2-742944260e3c",
   "metadata": {
    "tags": []
   },
   "outputs": [],
   "source": [
    "matrix.head()"
   ]
  },
  {
   "cell_type": "code",
   "execution_count": null,
   "id": "179dd0b8-766c-47d3-a5a9-d5adcc2b8175",
   "metadata": {
    "tags": []
   },
   "outputs": [],
   "source": [
    "scprep.plot.plot_library_size(matrix, cutoff=1500)"
   ]
  },
  {
   "cell_type": "markdown",
   "id": "41bdc02b-5e17-4701-8e94-ecf6f59adae5",
   "metadata": {},
   "source": [
    "Note: Skipped normalization as data is already log-normalized"
   ]
  },
  {
   "cell_type": "code",
   "execution_count": null,
   "id": "7af43996-8e41-4a63-b78d-f916ebe8cb73",
   "metadata": {
    "tags": []
   },
   "outputs": [],
   "source": [
    "adata_EC.layers"
   ]
  },
  {
   "cell_type": "markdown",
   "id": "41dcfb46-ef1d-4ccc-bfd7-71f6952ac0f2",
   "metadata": {},
   "source": [
    "##### Creating the MAGIC operator\n",
    "If you don't specify parameters, MAGIC creates an operator with the following default values: knn=5, knn_max = 3 * knn, decay=1, t=3."
   ]
  },
  {
   "cell_type": "code",
   "execution_count": null,
   "id": "a8c53eda-5b49-4c10-aeb3-a2d40405991d",
   "metadata": {
    "tags": []
   },
   "outputs": [],
   "source": [
    "magic_op = magic.MAGIC()"
   ]
  },
  {
   "cell_type": "markdown",
   "id": "96a2423a-488f-40a6-b9d0-a585123241f9",
   "metadata": {},
   "source": [
    "##### Running MAGIC with gene selection\n",
    "The magic_op.fit_transform function takes the normalized data and an array of selected genes as its arguments. If no genes are provided, MAGIC will return a matrix of all genes. The same can be achieved by substituting the array of gene names with genes='all_genes'."
   ]
  },
  {
   "cell_type": "code",
   "execution_count": null,
   "id": "7880ba4a-a78d-4be1-b90f-1e22f90b14ee",
   "metadata": {
    "tags": []
   },
   "outputs": [],
   "source": [
    "%%time\n",
    "emt_magic = magic_op.fit_transform(matrix, genes=['Foxf2', 'Foxo1', 'Nos3'])"
   ]
  },
  {
   "cell_type": "markdown",
   "id": "319d37f8-7c57-4dfd-a015-945571dbd846",
   "metadata": {},
   "source": [
    "##### Visualizing gene-gene relationships\n",
    "\n",
    "We can see gene-gene relationships much more clearly after applying MAGIC. Note that the change in absolute values of gene expression is not meaningful - the relative difference is all that matters."
   ]
  },
  {
   "cell_type": "code",
   "execution_count": null,
   "id": "b908be01-5603-4d19-8f7f-d3d5958bff62",
   "metadata": {
    "tags": []
   },
   "outputs": [],
   "source": [
    "np.corrcoef(emt_magic[['Foxf2','Foxo1']], rowvar = False)[0][1]"
   ]
  },
  {
   "cell_type": "code",
   "execution_count": null,
   "id": "5f4131fd-615c-4863-880a-4b6ffa004637",
   "metadata": {
    "tags": []
   },
   "outputs": [],
   "source": [
    "fig, (ax1, ax2) = plt.subplots(1,2, figsize=(16, 6))\n",
    "\n",
    "scprep.plot.scatter(x=matrix['Foxf2'], y=matrix['Foxo1'], c=matrix['Nos3'],  ax=ax1,\n",
    "                    xlabel='Foxf2', ylabel='Foxo1', legend_title=\"Nos3\", title='Before MAGIC')\n",
    "\n",
    "scprep.plot.scatter(x=emt_magic['Foxf2'], y=emt_magic['Foxo1'], c=emt_magic['Nos3'], ax=ax2,\n",
    "                    xlabel='Foxf2', ylabel='Foxo1', legend_title=\"Nos3\", title='After MAGIC')\n",
    "plt.axline((0.2,0.2), slope=1, color=\"black\", alpha=0.3, linestyle=\"--\")\n",
    "plt.tight_layout()\n",
    "plt.show()"
   ]
  },
  {
   "cell_type": "markdown",
   "id": "cacf09e9-5543-4fdd-a872-20c490828652",
   "metadata": {},
   "source": [
    "#### SMCs"
   ]
  },
  {
   "cell_type": "code",
   "execution_count": null,
   "id": "a68fc472-61a7-4543-91ca-f54ba053c679",
   "metadata": {},
   "outputs": [],
   "source": [
    "adata_EC = adata[adata.obs.clusters == \"SMCs\"]"
   ]
  },
  {
   "cell_type": "code",
   "execution_count": null,
   "id": "14a3aef9-2e79-416e-8b0f-fa66bfc252e9",
   "metadata": {
    "tags": []
   },
   "outputs": [],
   "source": [
    "matrix = pd.DataFrame(adata_EC.X)\n",
    "matrix.columns = adata_EC.var.index.tolist()"
   ]
  },
  {
   "cell_type": "code",
   "execution_count": null,
   "id": "ff065bbe-f878-493d-a05b-d98d8bc3d26c",
   "metadata": {
    "tags": []
   },
   "outputs": [],
   "source": [
    "matrix.head()"
   ]
  },
  {
   "cell_type": "code",
   "execution_count": null,
   "id": "ee04ec37-02c4-4c07-8fd7-03a1aaacf2bf",
   "metadata": {
    "tags": []
   },
   "outputs": [],
   "source": [
    "scprep.plot.plot_library_size(matrix, cutoff=1500)"
   ]
  },
  {
   "cell_type": "markdown",
   "id": "efad4ca8-bd98-4147-9295-cdb9c34fd894",
   "metadata": {},
   "source": [
    "Note: Skipped normalization as data is already log-normalized"
   ]
  },
  {
   "cell_type": "code",
   "execution_count": null,
   "id": "8a7ef991-219d-49e5-85e0-965be3386496",
   "metadata": {
    "tags": []
   },
   "outputs": [],
   "source": [
    "adata_EC.layers"
   ]
  },
  {
   "cell_type": "markdown",
   "id": "bd316f7a-b67d-458c-94ae-5ab90dc964a8",
   "metadata": {},
   "source": [
    "##### Creating the MAGIC operator\n",
    "If you don't specify parameters, MAGIC creates an operator with the following default values: knn=5, knn_max = 3 * knn, decay=1, t=3."
   ]
  },
  {
   "cell_type": "code",
   "execution_count": null,
   "id": "d6ae1e7b-2211-43de-aa28-5e3eaa038060",
   "metadata": {
    "tags": []
   },
   "outputs": [],
   "source": [
    "magic_op = magic.MAGIC()"
   ]
  },
  {
   "cell_type": "markdown",
   "id": "75bf9efe-5ec6-4a79-bf0b-0de6f9d45031",
   "metadata": {},
   "source": [
    "##### Running MAGIC with gene selection\n",
    "The magic_op.fit_transform function takes the normalized data and an array of selected genes as its arguments. If no genes are provided, MAGIC will return a matrix of all genes. The same can be achieved by substituting the array of gene names with genes='all_genes'."
   ]
  },
  {
   "cell_type": "code",
   "execution_count": null,
   "id": "72cec059-8061-459b-b486-d3e79663b817",
   "metadata": {
    "tags": []
   },
   "outputs": [],
   "source": [
    "%%time\n",
    "emt_magic = magic_op.fit_transform(matrix, genes=['Foxf2', 'Foxo1', 'Nos3'])"
   ]
  },
  {
   "cell_type": "markdown",
   "id": "8725bd1b-f363-4978-a315-df42aadaf804",
   "metadata": {},
   "source": [
    "##### Visualizing gene-gene relationships\n",
    "\n",
    "We can see gene-gene relationships much more clearly after applying MAGIC. Note that the change in absolute values of gene expression is not meaningful - the relative difference is all that matters."
   ]
  },
  {
   "cell_type": "code",
   "execution_count": null,
   "id": "7439cc6c-9ec0-403d-965f-9f076bf6df27",
   "metadata": {
    "tags": []
   },
   "outputs": [],
   "source": [
    "np.corrcoef(emt_magic[['Foxf2','Foxo1']], rowvar = False)[0][1]"
   ]
  },
  {
   "cell_type": "code",
   "execution_count": null,
   "id": "3d999640-dc1d-41ba-a503-031c40b9e5f7",
   "metadata": {
    "tags": []
   },
   "outputs": [],
   "source": [
    "fig, (ax1, ax2) = plt.subplots(1,2, figsize=(16, 6))\n",
    "\n",
    "scprep.plot.scatter(x=matrix['Foxf2'], y=matrix['Foxo1'], c=matrix['Nos3'],  ax=ax1,\n",
    "                    xlabel='Foxf2', ylabel='Foxo1', legend_title=\"Nos3\", title='Before MAGIC')\n",
    "\n",
    "scprep.plot.scatter(x=emt_magic['Foxf2'], y=emt_magic['Foxo1'], c=emt_magic['Nos3'], ax=ax2,\n",
    "                    xlabel='Foxf2', ylabel='Foxo1', legend_title=\"Nos3\", title='After MAGIC')\n",
    "plt.axline((0.2,0.2), slope=1, color=\"black\", alpha=0.3, linestyle=\"--\")\n",
    "plt.tight_layout()\n",
    "plt.show()"
   ]
  },
  {
   "cell_type": "markdown",
   "id": "5e71beb2-e8ef-48b4-b5a1-496cdf8dc5ed",
   "metadata": {},
   "source": [
    "#### All cell types"
   ]
  },
  {
   "cell_type": "code",
   "execution_count": null,
   "id": "bdec7d9d-dbeb-48a7-93c1-875d7ba96df7",
   "metadata": {},
   "outputs": [],
   "source": [
    "gg = [\"Foxf2\",\"Foxo1\"]"
   ]
  },
  {
   "cell_type": "code",
   "execution_count": null,
   "id": "fe2ee659-d8c2-46ca-9068-32571759c39c",
   "metadata": {},
   "outputs": [],
   "source": [
    "adata"
   ]
  },
  {
   "cell_type": "code",
   "execution_count": null,
   "id": "7c98e722-1c13-4a58-87e7-bcc3aca317f0",
   "metadata": {
    "tags": []
   },
   "outputs": [],
   "source": [
    "matrix = pd.DataFrame(adata.X)\n",
    "matrix.columns = adata.var.index.tolist()"
   ]
  },
  {
   "cell_type": "code",
   "execution_count": null,
   "id": "7a9ad258-e772-4b92-8292-721b5caacc51",
   "metadata": {
    "tags": []
   },
   "outputs": [],
   "source": [
    "scprep.plot.plot_library_size(matrix, cutoff=1500)"
   ]
  },
  {
   "cell_type": "markdown",
   "id": "8c2f89ed-a0e3-4b73-91e2-92d1db0d990a",
   "metadata": {},
   "source": [
    "Note: Skipped normalization as data is already log-normalized"
   ]
  },
  {
   "cell_type": "code",
   "execution_count": null,
   "id": "76c43642-c5b7-4568-82b2-8a8098fee885",
   "metadata": {
    "tags": []
   },
   "outputs": [],
   "source": [
    "adata.layers"
   ]
  },
  {
   "cell_type": "markdown",
   "id": "2beeb4af-a31f-4ed0-a9ac-2c8ad809c1b6",
   "metadata": {},
   "source": [
    "##### Creating the MAGIC operator\n",
    "If you don't specify parameters, MAGIC creates an operator with the following default values: knn=5, knn_max = 3 * knn, decay=1, t=3."
   ]
  },
  {
   "cell_type": "code",
   "execution_count": null,
   "id": "ffd065c2-cc4f-4d2a-afce-5ce94a2f0c9b",
   "metadata": {
    "tags": []
   },
   "outputs": [],
   "source": [
    "magic_op = magic.MAGIC()"
   ]
  },
  {
   "cell_type": "markdown",
   "id": "5415e615-1bd4-481e-b578-5436bbb5c45f",
   "metadata": {},
   "source": [
    "##### Running MAGIC with gene selection\n",
    "The magic_op.fit_transform function takes the normalized data and an array of selected genes as its arguments. If no genes are provided, MAGIC will return a matrix of all genes. The same can be achieved by substituting the array of gene names with genes='all_genes'."
   ]
  },
  {
   "cell_type": "code",
   "execution_count": null,
   "id": "301e315f-8903-475b-bba6-f538da36a2a2",
   "metadata": {
    "tags": []
   },
   "outputs": [],
   "source": [
    "%%time\n",
    "emt_magic = magic_op.fit_transform(matrix, genes=['Foxf2', 'Foxo1', 'Nos3'])"
   ]
  },
  {
   "cell_type": "markdown",
   "id": "19704cc7-2d18-485f-806a-bc101d7956d1",
   "metadata": {},
   "source": [
    "##### Visualizing gene-gene relationships\n",
    "\n",
    "We can see gene-gene relationships much more clearly after applying MAGIC. Note that the change in absolute values of gene expression is not meaningful - the relative difference is all that matters."
   ]
  },
  {
   "cell_type": "code",
   "execution_count": null,
   "id": "804c6839-0cde-49fc-8fb7-b212a1b28f0c",
   "metadata": {
    "tags": []
   },
   "outputs": [],
   "source": [
    "np.corrcoef(emt_magic[['Foxf2','Foxo1']], rowvar = False)[0][1]"
   ]
  },
  {
   "cell_type": "code",
   "execution_count": null,
   "id": "96a0e509-50a8-48d7-8027-88e1dba2d69d",
   "metadata": {
    "tags": []
   },
   "outputs": [],
   "source": [
    "fig, (ax1, ax2) = plt.subplots(1,2, figsize=(16, 6))\n",
    "\n",
    "scprep.plot.scatter(x=matrix['Foxf2'], y=matrix['Foxo1'], c=matrix['Nos3'],  ax=ax1,\n",
    "                    xlabel='Foxf2', ylabel='Foxo1', legend_title=\"Nos3\", title='Before MAGIC')\n",
    "\n",
    "scprep.plot.scatter(x=emt_magic['Foxf2'], y=emt_magic['Foxo1'], c=emt_magic['Nos3'], ax=ax2,\n",
    "                    xlabel='Foxf2', ylabel='Foxo1', legend_title=\"Nos3\", title='After MAGIC')\n",
    "plt.axline((0,0), slope=1, color=\"black\", alpha=0.3, linestyle=\"--\")\n",
    "plt.tight_layout()\n",
    "plt.show()"
   ]
  },
  {
   "cell_type": "code",
   "execution_count": null,
   "id": "fe4bd65c-46a6-437e-8db1-16b30115dd82",
   "metadata": {},
   "outputs": [],
   "source": []
  },
  {
   "cell_type": "markdown",
   "id": "2b50bbcc-d764-49b9-8cc0-d3173fd8239e",
   "metadata": {},
   "source": [
    "# Session Info"
   ]
  },
  {
   "cell_type": "code",
   "execution_count": null,
   "id": "06401063-4335-4d98-ad41-2bab36a17eab",
   "metadata": {},
   "outputs": [],
   "source": [
    "sc.logging.print_versions()"
   ]
  }
 ],
 "metadata": {
  "kernelspec": {
   "display_name": "Python 3 (ipykernel)",
   "language": "python",
   "name": "python3"
  },
  "language_info": {
   "codemirror_mode": {
    "name": "ipython",
    "version": 3
   },
   "file_extension": ".py",
   "mimetype": "text/x-python",
   "name": "python",
   "nbconvert_exporter": "python",
   "pygments_lexer": "ipython3"
  }
 },
 "nbformat": 4,
 "nbformat_minor": 5
}
