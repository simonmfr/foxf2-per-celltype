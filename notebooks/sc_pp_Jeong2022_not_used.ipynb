{
 "cells": [
  {
   "cell_type": "markdown",
   "id": "9bfa00be-69ba-4146-aba2-818b967492c3",
   "metadata": {
    "jp-MarkdownHeadingCollapsed": true,
    "tags": []
   },
   "source": [
    "<font size=\"+3.8\">Scanpy single-cell pre-processing</font>  \n",
    "<font size=\"+1.5\"></font>  "
   ]
  },
  {
   "cell_type": "code",
   "execution_count": null,
   "id": "c4f25c8a-47e9-48b5-af79-04fe44b4068d",
   "metadata": {},
   "outputs": [],
   "source": [
    "import numpy as np\n",
    "import pandas as pd\n",
    "import scanpy as sc\n",
    "import anndata\n",
    "import matplotlib.pyplot as plt\n",
    "import os\n",
    "from datetime import date\n",
    "from matplotlib.pyplot import rc_context"
   ]
  },
  {
   "cell_type": "code",
   "execution_count": null,
   "id": "34c9e493-2395-4cc9-aced-279e152fec19",
   "metadata": {},
   "outputs": [],
   "source": [
    "import utils"
   ]
  },
  {
   "cell_type": "code",
   "execution_count": null,
   "id": "fc7d8b45-6ec5-428f-89f2-08540e479ab8",
   "metadata": {},
   "outputs": [],
   "source": [
    "sc.settings.verbosity = 3"
   ]
  },
  {
   "cell_type": "code",
   "execution_count": null,
   "id": "f46a7618-6a0d-48a7-b77a-065afc204527",
   "metadata": {},
   "outputs": [],
   "source": [
    "main_dir='/run/user/1000/gvfs/smb-share:server=138.245.4.35,share=bd-dichgans/SF' # Linux"
   ]
  },
  {
   "cell_type": "code",
   "execution_count": null,
   "id": "3fd52f8c-ea1e-4f2c-809f-5515a5e2ced6",
   "metadata": {},
   "outputs": [],
   "source": [
    "main_dir='\\\\\\isdsynnas.srv.med.uni-muenchen.de\\BD-Dichgans\\SF' # Win"
   ]
  },
  {
   "cell_type": "markdown",
   "id": "d75da520-0b28-417d-877e-f167db41ef30",
   "metadata": {},
   "source": [
    "# Load data"
   ]
  },
  {
   "cell_type": "markdown",
   "id": "00e3b5cb-f957-4175-aedf-471b195dfb60",
   "metadata": {
    "tags": []
   },
   "source": [
    "Downloaded from: https://www.ncbi.nlm.nih.gov/geo/query/acc.cgi?acc=GSE133283 06/03/2023"
   ]
  },
  {
   "cell_type": "markdown",
   "id": "3e069d4e-c571-4bf5-8737-eb63d5d0c9ff",
   "metadata": {},
   "source": [
    "Note: Data provided unprocessed and not annotated per animal."
   ]
  },
  {
   "cell_type": "code",
   "execution_count": null,
   "id": "85a5bfa3-44d3-409b-809b-8e47a01484b9",
   "metadata": {},
   "outputs": [],
   "source": [
    "t = pd.read_csv(os.path.join(main_dir, \"P6_vasc_scRNAseq\", \"Jeong2022\", \"count_matrix\", \"GSM3904816_Adult-1_gene_counts.tsv.gz\"), sep=\"\\t\",index_col=None)\n",
    "t[\"count\"].value_counts()"
   ]
  },
  {
   "cell_type": "code",
   "execution_count": null,
   "id": "49d93694-983b-49f6-aecc-8e27ec80bcb5",
   "metadata": {},
   "outputs": [],
   "source": [
    "t"
   ]
  },
  {
   "cell_type": "code",
   "execution_count": null,
   "id": "154b0585-2745-4ec4-a0dd-a198bbb91543",
   "metadata": {},
   "outputs": [],
   "source": [
    "t=pd.read_csv(os.path.join(main_dir, \"P6_vasc_scRNAseq\", \"Jeong2022\", \"count_matrix\", \"GSM3904817_Adult-2_gene_counts.tsv.gz\"), sep=\"\\t\")\n",
    "t = t.pivot(index='cell', columns='gene', values='count')\n",
    "t = t.fillna(0)\n",
    "adata = sc.AnnData(t)\n",
    "adata"
   ]
  },
  {
   "cell_type": "code",
   "execution_count": null,
   "id": "085a537c-c1f7-4770-9f15-a72795964739",
   "metadata": {},
   "outputs": [],
   "source": [
    "t"
   ]
  },
  {
   "cell_type": "code",
   "execution_count": null,
   "id": "e4db1631-6a19-4fe1-af7a-2dbb9aab91a4",
   "metadata": {},
   "outputs": [],
   "source": [
    "import glob\n",
    "path = os.path.join(main_dir, 'P6_vasc_scRNAseq', 'Jeong2022', 'count_matrix')\n",
    "all_files = glob.glob(os.path.join(path , \"*.tsv.gz\"))\n",
    "all_files"
   ]
  },
  {
   "cell_type": "code",
   "execution_count": null,
   "id": "448cb746-3cd5-4528-99d3-46804756ac8e",
   "metadata": {},
   "outputs": [],
   "source": [
    "all_files[0]"
   ]
  },
  {
   "cell_type": "code",
   "execution_count": null,
   "id": "27cefdcf-8bf2-4bde-bf11-5a143bfbf0c0",
   "metadata": {},
   "outputs": [],
   "source": [
    "index = all_files[0].find(\"GSM\")\n",
    "index"
   ]
  },
  {
   "cell_type": "code",
   "execution_count": null,
   "id": "e0cb6eae-c30a-46bd-b59d-e570fee8a6ef",
   "metadata": {},
   "outputs": [],
   "source": [
    "gsm_number = (all_files[0].split('_')[0]\n",
    "              .split('GSM')[1])\n",
    "print(gsm_number)"
   ]
  },
  {
   "cell_type": "code",
   "execution_count": null,
   "id": "e0565527-2be3-4df3-8ef9-75950c4644fd",
   "metadata": {},
   "outputs": [],
   "source": [
    "li = []\n",
    "\n",
    "for filename in all_files:\n",
    "    df = pd.read_csv(filename, sep=\"\\t\",index_col=None)\n",
    "    df[\"cell\"] = \"GSM\"+filename.split('GSM')[1].split('_')[0]+\"_\"+filename.split('GSM')[1].split('_')[1]+\"_\"+df[\"cell\"] # add gsm and sample to cell id\n",
    "    #df[\"cell\"] = df[\"cell\"]+\n",
    "    df = df.pivot(index='cell', columns='gene', values='count')\n",
    "    df = df.fillna(0)\n",
    "    adata = sc.AnnData(df)   \n",
    "    li.append(df)\n",
    "#all = pd.concat(li, axis=1, ignore_index=True)"
   ]
  },
  {
   "cell_type": "code",
   "execution_count": null,
   "id": "36176a87-4446-4252-8e6e-1f7a02f62bf7",
   "metadata": {},
   "outputs": [],
   "source": [
    "li"
   ]
  },
  {
   "cell_type": "code",
   "execution_count": null,
   "id": "540f5d60-d988-4a26-99c9-6db0bb92c193",
   "metadata": {},
   "outputs": [],
   "source": [
    "all = pd.concat(li, axis=1)"
   ]
  },
  {
   "cell_type": "code",
   "execution_count": null,
   "id": "f0ad7caa-1244-4d51-8268-3cfaf99857ea",
   "metadata": {},
   "outputs": [],
   "source": [
    "all"
   ]
  },
  {
   "cell_type": "code",
   "execution_count": null,
   "id": "5af0879b-3a16-4142-944e-7e380b5a9729",
   "metadata": {},
   "outputs": [],
   "source": [
    "all.pivot(index='cell', columns='gene', values='count')\n"
   ]
  },
  {
   "cell_type": "code",
   "execution_count": null,
   "id": "e445ec06-9b7e-4d9f-8d1d-62d804e6ce11",
   "metadata": {},
   "outputs": [],
   "source": []
  },
  {
   "cell_type": "code",
   "execution_count": null,
   "id": "207015c9-6c63-451c-b605-9e4e9cfd000e",
   "metadata": {},
   "outputs": [],
   "source": []
  },
  {
   "cell_type": "code",
   "execution_count": null,
   "id": "204b3835-1392-44b1-aeae-1546c3bb48ed",
   "metadata": {},
   "outputs": [],
   "source": []
  },
  {
   "cell_type": "code",
   "execution_count": null,
   "id": "866fcc4b-c0a8-4429-a759-4c3d8ca6583c",
   "metadata": {},
   "outputs": [],
   "source": [
    "ad = sc.read_text(main_dir+\"\\\\P6_vasc_scRNAseq\\Jeong2022\\\\GSM3904817_Adult-2_gene_counts.tsv.gz\")\n",
    "ad"
   ]
  },
  {
   "cell_type": "code",
   "execution_count": null,
   "id": "db7248a2-f1a5-4f66-bbc1-280d249d15fb",
   "metadata": {},
   "outputs": [],
   "source": [
    "ad.obs.head()"
   ]
  },
  {
   "cell_type": "code",
   "execution_count": null,
   "id": "f9a0b820-bd46-4cf3-9fe2-ce4e816f593a",
   "metadata": {},
   "outputs": [],
   "source": [
    "ad.var_names"
   ]
  },
  {
   "cell_type": "code",
   "execution_count": null,
   "id": "d9727f29-f7b2-4dc7-b103-86b32c962393",
   "metadata": {},
   "outputs": [],
   "source": [
    "# to be continued.."
   ]
  }
 ],
 "metadata": {
  "kernelspec": {
   "display_name": "Python 3 (ipykernel)",
   "language": "python",
   "name": "python3"
  },
  "language_info": {
   "codemirror_mode": {
    "name": "ipython",
    "version": 3
   },
   "file_extension": ".py",
   "mimetype": "text/x-python",
   "name": "python",
   "nbconvert_exporter": "python",
   "pygments_lexer": "ipython3"
  }
 },
 "nbformat": 4,
 "nbformat_minor": 5
}
