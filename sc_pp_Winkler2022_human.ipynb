{
 "cells": [
  {
   "cell_type": "markdown",
   "id": "9bfa00be-69ba-4146-aba2-818b967492c3",
   "metadata": {
    "jp-MarkdownHeadingCollapsed": true,
    "tags": []
   },
   "source": [
    "<font size=\"+3.8\">Scanpy single-cell pre-processing</font>  \n",
    "<font size=\"+1.5\"></font>  "
   ]
  },
  {
   "cell_type": "markdown",
   "id": "563f0b43-ce10-475f-b355-6fa8a2406dad",
   "metadata": {},
   "source": [
    "Aim: Preprocess mouse brain single-cell data from Winkler 2022 Science (human adult brain - healthy controls only)  \n",
    "Publication: https://pubmed.ncbi.nlm.nih.gov/35084939/"
   ]
  },
  {
   "cell_type": "code",
   "execution_count": null,
   "id": "cccd1851-7aa9-465c-970c-f093aabea2f0",
   "metadata": {
    "tags": []
   },
   "outputs": [],
   "source": [
    "from datetime import date\n",
    "date.today().strftime('%d/%m/%Y')"
   ]
  },
  {
   "cell_type": "code",
   "execution_count": null,
   "id": "f32fee87-6bcc-4dfa-bf79-4450b0b943d5",
   "metadata": {
    "tags": []
   },
   "outputs": [],
   "source": [
    "import os\n",
    "os.getlogin()"
   ]
  },
  {
   "cell_type": "code",
   "execution_count": null,
   "id": "c4f25c8a-47e9-48b5-af79-04fe44b4068d",
   "metadata": {
    "tags": []
   },
   "outputs": [],
   "source": [
    "import numpy as np\n",
    "import pandas as pd\n",
    "import scanpy as sc\n",
    "import anndata\n",
    "import matplotlib.pyplot as plt\n",
    "import seaborn as sns\n",
    "import platform\n",
    "from datetime import date\n",
    "from matplotlib.pyplot import rc_context"
   ]
  },
  {
   "cell_type": "code",
   "execution_count": null,
   "id": "76aff7dc-694c-4a94-82f6-71f747268473",
   "metadata": {},
   "outputs": [],
   "source": [
    "import utils"
   ]
  },
  {
   "cell_type": "code",
   "execution_count": null,
   "id": "e2447177-c835-42b6-bc3c-47d5aeefd4d4",
   "metadata": {
    "tags": []
   },
   "outputs": [],
   "source": [
    "os.environ['CONDA_DEFAULT_ENV'] # conda env"
   ]
  },
  {
   "cell_type": "code",
   "execution_count": null,
   "id": "8bd39e4a-72f3-4e08-9431-eab46d2e91d7",
   "metadata": {
    "tags": []
   },
   "outputs": [],
   "source": [
    "platform.platform()"
   ]
  },
  {
   "cell_type": "code",
   "execution_count": null,
   "id": "fc7d8b45-6ec5-428f-89f2-08540e479ab8",
   "metadata": {
    "tags": []
   },
   "outputs": [],
   "source": [
    "sc.settings.verbosity = 3"
   ]
  },
  {
   "cell_type": "code",
   "execution_count": null,
   "id": "f46a7618-6a0d-48a7-b77a-065afc204527",
   "metadata": {
    "tags": []
   },
   "outputs": [],
   "source": [
    "main_dir='/run/user/1000/gvfs/smb-share:server=138.245.4.35,share=bd-dichgans/SF' # Linux"
   ]
  },
  {
   "cell_type": "code",
   "execution_count": null,
   "id": "c02f2b5f-c34b-412f-bfee-ae68fdbd0248",
   "metadata": {
    "tags": []
   },
   "outputs": [],
   "source": [
    "main_dir='\\\\\\isdsynnas.srv.med.uni-muenchen.de\\BD-Dichgans\\SF' # Win"
   ]
  },
  {
   "cell_type": "code",
   "execution_count": null,
   "id": "665e1770-dded-418f-8b53-fba2d411ce6d",
   "metadata": {},
   "outputs": [],
   "source": [
    "main_dir='/Volumes/BD-Dichgans/SF' # Mac"
   ]
  },
  {
   "cell_type": "code",
   "execution_count": null,
   "id": "bce48881-55ad-4ffa-bb57-af76e3f08855",
   "metadata": {},
   "outputs": [],
   "source": [
    "dataset_name = \"Winkler2022\"\n",
    "organism = \"Human\""
   ]
  },
  {
   "cell_type": "markdown",
   "id": "d75da520-0b28-417d-877e-f167db41ef30",
   "metadata": {},
   "source": [
    "# Load data"
   ]
  },
  {
   "cell_type": "markdown",
   "id": "00e3b5cb-f957-4175-aedf-471b195dfb60",
   "metadata": {
    "tags": []
   },
   "source": [
    "## Annotated \n",
    "Downloaded from: https://cells.ucsc.edu/?bp=brain&dis=Healthy~Healthy+Control&org=Human+(H.+sapiens)&ds=adult-brain-vasc"
   ]
  },
  {
   "cell_type": "markdown",
   "id": "83be6f3d-74d4-40d3-b6a0-d443049b5411",
   "metadata": {},
   "source": [
    "### EC dataset"
   ]
  },
  {
   "cell_type": "code",
   "execution_count": null,
   "id": "074b7e46-05df-44d1-a9b3-86736150e951",
   "metadata": {
    "tags": []
   },
   "outputs": [],
   "source": [
    "ad = sc.read_text(os.path.join(main_dir, \"P06_vasc_scRNAseq\", \"Winkler2022\", \"ucsc_cellbrowser_data\", \"EC\", \"exprMatrix.tsv.gz\")).transpose()\n",
    "original_cellnames = ad.obs"
   ]
  },
  {
   "cell_type": "code",
   "execution_count": null,
   "id": "f344979b-6efd-4f99-a182-c1558557bab9",
   "metadata": {
    "tags": []
   },
   "outputs": [],
   "source": [
    "meta = pd.read_csv(os.path.join(main_dir, \"P06_vasc_scRNAseq\", \"Winkler2022\", \"ucsc_cellbrowser_data\", \"EC\", \"meta.tsv\"), sep=\"\\t\")\n",
    "ad.obs = meta\n",
    "ad"
   ]
  },
  {
   "cell_type": "code",
   "execution_count": null,
   "id": "2aa34d1b-7ab5-4feb-8b51-9f429a624e72",
   "metadata": {
    "tags": []
   },
   "outputs": [],
   "source": [
    "ad.obs.columns"
   ]
  },
  {
   "cell_type": "code",
   "execution_count": null,
   "id": "9026306d-d63f-43ff-b2f0-5882c4cfa2b9",
   "metadata": {
    "tags": []
   },
   "outputs": [],
   "source": [
    "ad.obs.head(2)"
   ]
  },
  {
   "cell_type": "code",
   "execution_count": null,
   "id": "1abfd938-82e8-4979-b14d-50d226bf5dc1",
   "metadata": {
    "tags": []
   },
   "outputs": [],
   "source": [
    "assert(all(ad.obs[\"Cell\"] == original_cellnames.index))"
   ]
  },
  {
   "cell_type": "code",
   "execution_count": null,
   "id": "b20df900-6489-418a-a0b3-e04144c7aaf5",
   "metadata": {
    "tags": []
   },
   "outputs": [],
   "source": [
    "ad.obs[\"Sample\"].unique()"
   ]
  },
  {
   "cell_type": "code",
   "execution_count": null,
   "id": "767e99f9-80b5-4917-bedf-47886b2a75e3",
   "metadata": {
    "tags": []
   },
   "outputs": [],
   "source": [
    "# add umap coords\n",
    "umap = pd.read_csv(os.path.join(main_dir, \"P06_vasc_scRNAseq\", \"Winkler2022\", \"ucsc_cellbrowser_data\", \"EC\", \"Seurat_umap.coords.tsv.gz\"), sep=\"\\t\", header=None)\n",
    "ad.obsm['X_umap'] = umap[[1,2]].to_numpy()"
   ]
  },
  {
   "cell_type": "code",
   "execution_count": null,
   "id": "3d4711e8-4d4d-40d4-bd94-7dd125489c41",
   "metadata": {
    "tags": []
   },
   "outputs": [],
   "source": [
    "ad = ad[(ad.obs.doublet2 != 'Doublet') & (ad.obs.doublet3 != 'Doublet')] # remove doublets"
   ]
  },
  {
   "cell_type": "code",
   "execution_count": null,
   "id": "027d649a-35e2-4a2d-a9ed-6fd3082473e7",
   "metadata": {
    "tags": []
   },
   "outputs": [],
   "source": [
    "del ad.obs['clusters']"
   ]
  },
  {
   "cell_type": "code",
   "execution_count": null,
   "id": "2fe0b88f-bfcf-42a6-b2b0-30acdad95cbf",
   "metadata": {
    "tags": []
   },
   "outputs": [],
   "source": [
    "ad.obs['Cluster']"
   ]
  },
  {
   "cell_type": "code",
   "execution_count": null,
   "id": "2bed53c8-c071-4c6d-a394-8a1837d9dc5f",
   "metadata": {
    "tags": []
   },
   "outputs": [],
   "source": [
    "ad.obs[\"clusters2\"] = 'ECs_' + ad.obs['Cluster'].astype(str)"
   ]
  },
  {
   "cell_type": "code",
   "execution_count": null,
   "id": "534919b0-5b02-42ca-b6a8-d66df824546e",
   "metadata": {
    "tags": []
   },
   "outputs": [],
   "source": [
    "ad.obs[\"clusters2\"] = 'ECs_' + ad.obs['Cluster'].astype(str)"
   ]
  },
  {
   "cell_type": "code",
   "execution_count": null,
   "id": "256d5442-a854-41e3-b449-e9b46c6f87b8",
   "metadata": {
    "tags": []
   },
   "outputs": [],
   "source": [
    "ad.obs['clusters2'].unique()"
   ]
  },
  {
   "cell_type": "code",
   "execution_count": null,
   "id": "4fca2ab2-2f4b-4199-9245-647a3859b0c6",
   "metadata": {
    "tags": []
   },
   "outputs": [],
   "source": [
    "# merge subclusters\n",
    "new_names = {\n",
    "    'ECs_Arterial': {'ECs_Art1','ECs_Art2','ECs_Art3'},\n",
    "    'ECs_Capillary': {'ECs_Cap'},\n",
    "    'ECs_Venous': {'ECs_Venous','ECs_Venule'},\n",
    "    'Pericytes': {'PC'},\n",
    "    'SMCs': {'aSMC','aaSMC','vSMC'},\n",
    "    'Oligos': {'OL'},\n",
    "    'Fibroblasts': {'FB1', 'FB2'},\n",
    "    'Microglia': {'MG'},\n",
    "    'Astrocytes': {'AC'}\n",
    "}\n",
    "# re-format\n",
    "result = {}\n",
    "for key, value in new_names.items():\n",
    "    for elem in value:\n",
    "        result[(elem)] = key\n",
    "new_cluster_names = dict(sorted(result.items()))\n",
    "print(new_cluster_names)"
   ]
  },
  {
   "cell_type": "code",
   "execution_count": null,
   "id": "281eb103-4a81-474a-85d6-2d860b836968",
   "metadata": {
    "tags": []
   },
   "outputs": [],
   "source": [
    "# fine annotation\n",
    "ad.obs['clusters2'] = (\n",
    "    ad.obs['clusters2']\n",
    "    .map(new_cluster_names)\n",
    "    .astype('category')\n",
    ")"
   ]
  },
  {
   "cell_type": "code",
   "execution_count": null,
   "id": "4e566134-a953-4972-ad75-600b47289d82",
   "metadata": {
    "tags": []
   },
   "outputs": [],
   "source": [
    "ad.obs['clusters2'].unique()"
   ]
  },
  {
   "cell_type": "code",
   "execution_count": null,
   "id": "5cf9ebec-5afb-41c5-9d02-c4a77dc26974",
   "metadata": {
    "tags": []
   },
   "outputs": [],
   "source": [
    "ad.obs['clusters'] = \"ECs\""
   ]
  },
  {
   "cell_type": "code",
   "execution_count": null,
   "id": "d96aaece-402a-41c6-adfe-09e86682b246",
   "metadata": {
    "tags": []
   },
   "outputs": [],
   "source": [
    "with rc_context({'figure.figsize': (7, 6)}):\n",
    "    sc.pl.umap(ad, color=['clusters2'])"
   ]
  },
  {
   "cell_type": "markdown",
   "id": "dd5ecbba-c662-4bf7-98b1-c76acb23c090",
   "metadata": {
    "tags": []
   },
   "source": [
    "Check if data is normalized:"
   ]
  },
  {
   "cell_type": "code",
   "execution_count": null,
   "id": "c4a52378-9c3a-4e1d-a292-37ddfd82fb86",
   "metadata": {
    "tags": []
   },
   "outputs": [],
   "source": [
    "ad.layers"
   ]
  },
  {
   "cell_type": "code",
   "execution_count": null,
   "id": "6b93c97a-a764-49ee-bc63-f9e415746d94",
   "metadata": {
    "tags": []
   },
   "outputs": [],
   "source": [
    "sns.histplot(ad.X.sum(1))\n",
    "plt.show()"
   ]
  },
  {
   "cell_type": "code",
   "execution_count": null,
   "id": "7fb2a93b-26f5-44bb-a870-06d0d80184bc",
   "metadata": {
    "tags": []
   },
   "outputs": [],
   "source": [
    "# show expression of 100 random genes (across all spots)\n",
    "import random\n",
    "random_genes=random.sample(range(0, ad.X.shape[1]), 100)\n",
    "adata_sub = ad[:,random_genes]\n",
    "exp=pd.DataFrame(np.matrix(adata_sub.X))\n",
    "# plot\n",
    "pl1=sns.displot(data=pd.melt(exp),x='value',height=4,hue='variable',kind=\"kde\",warn_singular=False,legend=False,palette=list(np.repeat('#086da6',100)), lw=0.3) # genes with 0 expression are excluded\n",
    "pl1.set(xlim=(-0.5, 7),ylim=(0,0.007));\n",
    "plt.show()"
   ]
  },
  {
   "cell_type": "code",
   "execution_count": null,
   "id": "3cf3aafc-9a4d-4fe6-9e8d-5d652916d9b2",
   "metadata": {
    "tags": []
   },
   "outputs": [],
   "source": [
    "sns.set(rc={'figure.figsize':(4,4)})\n",
    "pl=sns.histplot(data=pd.melt(exp),x='value',binwidth=0.5,legend=True,palette=list(np.repeat('#086da6',100)))\n",
    "pl.set(xlim=(0, 10));\n",
    "sns.set_style(\"ticks\")\n",
    "plt.show()"
   ]
  },
  {
   "cell_type": "markdown",
   "id": "8fd7aaeb-ed0a-4cb6-a2dc-e3bdb8f63aad",
   "metadata": {},
   "source": [
    "Data is not normalized, therefore normalize and log-transform"
   ]
  },
  {
   "cell_type": "code",
   "execution_count": null,
   "id": "94296988-9c0b-4244-9b1d-bf45b0f256ff",
   "metadata": {
    "tags": []
   },
   "outputs": [],
   "source": [
    "ad.layers[\"counts\"] = ad.X.copy() # save unnormalized raw RNA counts - retrieve via ad.X = ad.layers[\"counts\"]"
   ]
  },
  {
   "cell_type": "code",
   "execution_count": null,
   "id": "9d953df1-eaf0-48ea-bece-cf13d3f7ab9d",
   "metadata": {
    "tags": []
   },
   "outputs": [],
   "source": [
    "sc.pp.normalize_total(ad, inplace=True) # Normalize each spot by total counts over all genes, so that every spot has the same total count after normalization."
   ]
  },
  {
   "cell_type": "code",
   "execution_count": null,
   "id": "1bf56d2e-1b52-4e3c-b45a-5eec82335da5",
   "metadata": {
    "tags": []
   },
   "outputs": [],
   "source": [
    "sc.pp.log1p(ad) # X = log(X + 1)"
   ]
  },
  {
   "cell_type": "code",
   "execution_count": null,
   "id": "3bee01b0-a94a-4859-996c-46fb0735bd3c",
   "metadata": {
    "tags": []
   },
   "outputs": [],
   "source": [
    "sns.histplot(ad.X.sum(1))\n",
    "plt.show()"
   ]
  },
  {
   "cell_type": "code",
   "execution_count": null,
   "id": "4bc5b57d-6d57-450c-9816-d231b6e0a5a3",
   "metadata": {
    "tags": []
   },
   "outputs": [],
   "source": [
    "# show expression of 100 random genes (across all spots)\n",
    "adata_sub = ad[:,random_genes]\n",
    "exp=pd.DataFrame(np.matrix(adata_sub.X))\n",
    "# plot\n",
    "pl=sns.displot(data=pd.melt(exp),x='value',height=4,hue='variable',kind=\"kde\",warn_singular=False,legend=False,palette=list(np.repeat('#086da6',100)), lw=0.5) # genes with 0 expression are excluded\n",
    "pl.set(xlim=(-0.25, 3.5),ylim=(0,0.005));\n",
    "plt.show()"
   ]
  },
  {
   "cell_type": "code",
   "execution_count": null,
   "id": "9d60dc2a-9d8d-402c-932b-773d45263e4f",
   "metadata": {
    "tags": []
   },
   "outputs": [],
   "source": [
    "pl=sns.histplot(data=pd.melt(exp),x='value',binwidth=0.5,legend=True,palette=list(np.repeat('#086da6',100)));\n",
    "pl.set(xlim=(0, 10));\n",
    "plt.show()"
   ]
  },
  {
   "cell_type": "code",
   "execution_count": null,
   "id": "5e451827-04a6-48ef-865e-74f1530a27a8",
   "metadata": {
    "tags": []
   },
   "outputs": [],
   "source": [
    "ad.layers[\"normalized\"] = ad.X.copy() # save normalized + log-transformed (but unscaled) counts - retrieve via adata.X = adata.layers[\"normalized\"]"
   ]
  },
  {
   "cell_type": "code",
   "execution_count": null,
   "id": "1f41d6f3-1ff9-4c5f-834a-38309d6d35d2",
   "metadata": {
    "tags": []
   },
   "outputs": [],
   "source": [
    "# Identify highly-variable genes\n",
    "sc.pp.highly_variable_genes(ad)\n",
    "sc.pl.highly_variable_genes(ad)"
   ]
  },
  {
   "cell_type": "code",
   "execution_count": null,
   "id": "8e038baa-ef74-4200-bc83-6cbe61799bf5",
   "metadata": {
    "tags": []
   },
   "outputs": [],
   "source": [
    "ad"
   ]
  },
  {
   "cell_type": "code",
   "execution_count": null,
   "id": "6002fc9d-3197-41d0-bf3e-1d77bd6622da",
   "metadata": {
    "tags": []
   },
   "outputs": [],
   "source": [
    "ad.layers"
   ]
  },
  {
   "cell_type": "code",
   "execution_count": null,
   "id": "e91ef1c2-73f7-45a9-a4d0-38166e5ee84a",
   "metadata": {
    "tags": []
   },
   "outputs": [],
   "source": [
    "winkler_ec = ad"
   ]
  },
  {
   "cell_type": "code",
   "execution_count": null,
   "id": "3c2313c9-f5b8-4e93-8b6d-36c1c67156a9",
   "metadata": {
    "tags": []
   },
   "outputs": [],
   "source": [
    "del ad"
   ]
  },
  {
   "cell_type": "markdown",
   "id": "71af0cb4-66c8-4b8e-9d62-7a6b88fb8eb2",
   "metadata": {},
   "source": [
    "### Perivascular dataset"
   ]
  },
  {
   "cell_type": "code",
   "execution_count": null,
   "id": "2aadc503-f541-4f32-afef-5089e7016d86",
   "metadata": {
    "tags": []
   },
   "outputs": [],
   "source": [
    "ad = sc.read_text(os.path.join(main_dir, \"P06_vasc_scRNAseq\", \"Winkler2022\", \"ucsc_cellbrowser_data\", \"Perivascular\", \"exprMatrix.tsv.gz\")).transpose()\n",
    "original_cellnames = ad.obs"
   ]
  },
  {
   "cell_type": "code",
   "execution_count": null,
   "id": "a3ae3cc5-4c55-4135-8c7d-477739323258",
   "metadata": {
    "tags": []
   },
   "outputs": [],
   "source": [
    "meta = pd.read_csv(os.path.join(main_dir, \"P06_vasc_scRNAseq\", \"Winkler2022\", \"ucsc_cellbrowser_data\", \"Perivascular\", \"meta.tsv\"), sep=\"\\t\")\n",
    "ad.obs = meta\n",
    "ad"
   ]
  },
  {
   "cell_type": "code",
   "execution_count": null,
   "id": "8c2bb798-5e79-4375-9c7c-3459469dd76a",
   "metadata": {
    "tags": []
   },
   "outputs": [],
   "source": [
    "ad.obs.columns"
   ]
  },
  {
   "cell_type": "code",
   "execution_count": null,
   "id": "b53c0a53-5f81-433d-a791-299848d14ce2",
   "metadata": {
    "tags": []
   },
   "outputs": [],
   "source": [
    "ad.obs.head(2)"
   ]
  },
  {
   "cell_type": "code",
   "execution_count": null,
   "id": "bfffe4bc-cb29-4d52-bce9-32286842e02f",
   "metadata": {
    "tags": []
   },
   "outputs": [],
   "source": [
    "assert(all(ad.obs[\"cellId\"] == original_cellnames.index))"
   ]
  },
  {
   "cell_type": "code",
   "execution_count": null,
   "id": "645e203f-f755-4c99-b028-6e0cf0c924bd",
   "metadata": {
    "tags": []
   },
   "outputs": [],
   "source": [
    "ad.obs[\"Sample\"].unique()"
   ]
  },
  {
   "cell_type": "code",
   "execution_count": null,
   "id": "039eed90-d44e-47bd-b702-6b688783ea3a",
   "metadata": {
    "tags": []
   },
   "outputs": [],
   "source": [
    "# add umap coords\n",
    "umap = pd.read_csv(os.path.join(main_dir, \"P06_vasc_scRNAseq\", \"Winkler2022\", \"ucsc_cellbrowser_data\", \"Perivascular\", \"UMAP.coords.tsv.gz\"), sep=\"\\t\", header=None)\n",
    "ad.obsm['X_umap'] = umap[[1,2]].to_numpy()"
   ]
  },
  {
   "cell_type": "code",
   "execution_count": null,
   "id": "b91f3ba0-f8bf-4ed6-b5d9-9557a5aa311e",
   "metadata": {
    "tags": []
   },
   "outputs": [],
   "source": [
    "# no doublets defined in obs\n",
    "# ad = ad[(ad.obs.doublet2 != 'Doublet') & (ad.obs.doublet3 != 'Doublet')] # remove doublets"
   ]
  },
  {
   "cell_type": "code",
   "execution_count": null,
   "id": "e84cc4f2-bbd9-45e3-8020-65ac57cd2389",
   "metadata": {
    "tags": []
   },
   "outputs": [],
   "source": [
    "# Renaming\n",
    "old_to_new = {'FB':'Fibroblasts','FBMC':'Fibromyocytes','PC':'Pericytes','SMC':'SMCs'}\n",
    "ad.obs['clusters2'] = (\n",
    "    ad.obs['clusters'].map(old_to_new).astype('category')\n",
    ")"
   ]
  },
  {
   "cell_type": "code",
   "execution_count": null,
   "id": "406ed45f-3594-4cec-9db4-32a8a7ef4d2e",
   "metadata": {
    "tags": []
   },
   "outputs": [],
   "source": [
    "with rc_context({'figure.figsize': (7, 6)}):\n",
    "    sc.pl.umap(ad, color=['clusters2'])"
   ]
  },
  {
   "cell_type": "markdown",
   "id": "dbd3f4df-aa39-44f8-9e4f-773270ca9360",
   "metadata": {
    "tags": []
   },
   "source": [
    "Check if data is normalized:"
   ]
  },
  {
   "cell_type": "code",
   "execution_count": null,
   "id": "8e40cfc7-bb5c-4150-89b5-9accd26bd98d",
   "metadata": {
    "tags": []
   },
   "outputs": [],
   "source": [
    "ad.layers"
   ]
  },
  {
   "cell_type": "code",
   "execution_count": null,
   "id": "5c0a03f5-de89-489c-a424-4156889a723f",
   "metadata": {
    "tags": []
   },
   "outputs": [],
   "source": [
    "sns.histplot(ad.X.sum(1))\n",
    "plt.show()"
   ]
  },
  {
   "cell_type": "code",
   "execution_count": null,
   "id": "581e8d54-84cd-4510-a0e4-6c66d8dff61b",
   "metadata": {
    "tags": []
   },
   "outputs": [],
   "source": [
    "# show expression of 100 random genes (across all spots)\n",
    "random_genes=random.sample(range(0, ad.X.shape[1]), 100)\n",
    "adata_sub = ad[:,random_genes]\n",
    "exp=pd.DataFrame(np.matrix(adata_sub.X))\n",
    "# plot\n",
    "pl1=sns.displot(data=pd.melt(exp),x='value',height=4,hue='variable',kind=\"kde\",warn_singular=False,legend=False,palette=list(np.repeat('#086da6',100)), lw=0.3) # genes with 0 expression are excluded\n",
    "pl1.set(xlim=(-0.5, 7),ylim=(0,0.007));\n",
    "sns.set_style(\"ticks\")\n",
    "plt.show()"
   ]
  },
  {
   "cell_type": "code",
   "execution_count": null,
   "id": "5c59a780-be5f-4392-a855-dd789811eff4",
   "metadata": {
    "tags": []
   },
   "outputs": [],
   "source": [
    "exp.iloc[0:5,0:30]"
   ]
  },
  {
   "cell_type": "markdown",
   "id": "9e093592-9f3c-4a96-88e6-a17f7ef7767e",
   "metadata": {},
   "source": [
    "Note: Matrix is apparently log-transformed. Also see https://github.com/cnk113/vascular-analysis/issues/1."
   ]
  },
  {
   "cell_type": "code",
   "execution_count": null,
   "id": "0a6984ca-fc56-4aba-abdb-7bc5bd458da5",
   "metadata": {
    "tags": []
   },
   "outputs": [],
   "source": [
    "# reverse log-transformation ln(x+1)\n",
    "import math\n",
    "ad.layers[\"counts\"] = (math.e**(ad.X))-1"
   ]
  },
  {
   "cell_type": "code",
   "execution_count": null,
   "id": "949d5108-82af-4797-ae1f-8a18cb80c28c",
   "metadata": {
    "tags": []
   },
   "outputs": [],
   "source": [
    "ad.layers[\"log?\"] = ad.X"
   ]
  },
  {
   "cell_type": "code",
   "execution_count": null,
   "id": "28345cb9-c915-4477-b1f8-503f21db4636",
   "metadata": {
    "tags": []
   },
   "outputs": [],
   "source": [
    "ad.X = ad.layers[\"counts\"]"
   ]
  },
  {
   "cell_type": "code",
   "execution_count": null,
   "id": "93f695d9-2c80-4deb-8bd1-c568be39fc2d",
   "metadata": {
    "tags": []
   },
   "outputs": [],
   "source": [
    "# show expression of 100 random genes (across all spots)\n",
    "random_genes=random.sample(range(0, ad.X.shape[1]), 100)\n",
    "adata_sub = ad[:,random_genes]\n",
    "exp=pd.DataFrame(np.matrix(adata_sub.X))\n",
    "# plot\n",
    "pl1=sns.displot(data=pd.melt(exp),x='value',height=4,hue='variable',kind=\"kde\",warn_singular=False,legend=False,palette=list(np.repeat('#086da6',100)), lw=0.3) # genes with 0 expression are excluded\n",
    "pl1.set(xlim=(-0.5, 7),ylim=(0,0.007));\n",
    "plt.show()"
   ]
  },
  {
   "cell_type": "code",
   "execution_count": null,
   "id": "10aa746c-0690-4ea8-9ee5-9aedf863a8da",
   "metadata": {
    "tags": []
   },
   "outputs": [],
   "source": [
    "exp.iloc[0:5,0:20]"
   ]
  },
  {
   "cell_type": "code",
   "execution_count": null,
   "id": "1656e892-5fd5-43e9-b44f-91db6489e527",
   "metadata": {
    "tags": []
   },
   "outputs": [],
   "source": [
    "pl=sns.histplot(data=pd.melt(exp),x='value',binwidth=0.5,legend=True,palette=list(np.repeat('#086da6',100)));\n",
    "pl.set(xlim=(0, 10));\n",
    "plt.show()"
   ]
  },
  {
   "cell_type": "markdown",
   "id": "565d1bc3-9050-45c8-93cf-abb2dc7302f5",
   "metadata": {},
   "source": [
    "Now normalize and log-transform"
   ]
  },
  {
   "cell_type": "code",
   "execution_count": null,
   "id": "685d7b21-8dcf-4409-8fa4-9b7e8b2a78c4",
   "metadata": {
    "tags": []
   },
   "outputs": [],
   "source": [
    "ad.layers[\"counts\"] = ad.X.copy() # save unnormalized raw RNA counts - retrieve via ad.X = ad.layers[\"counts\"]"
   ]
  },
  {
   "cell_type": "code",
   "execution_count": null,
   "id": "dc53952d-db0c-4610-8b58-b0f48a3bbb98",
   "metadata": {
    "tags": []
   },
   "outputs": [],
   "source": [
    "sc.pp.normalize_total(ad, inplace=True) # Normalize each cell by total counts over all genes, so that every cell has the same total count after normalization."
   ]
  },
  {
   "cell_type": "code",
   "execution_count": null,
   "id": "2ca134d7-3643-47e2-bc29-1b484f874bd7",
   "metadata": {
    "tags": []
   },
   "outputs": [],
   "source": [
    "sc.pp.log1p(ad) # X = log(X + 1)"
   ]
  },
  {
   "cell_type": "code",
   "execution_count": null,
   "id": "06239b3c-4b80-44bb-a54e-6dbf25fb871a",
   "metadata": {
    "tags": []
   },
   "outputs": [],
   "source": [
    "sns.histplot(ad.X.sum(1))\n",
    "plt.show()"
   ]
  },
  {
   "cell_type": "code",
   "execution_count": null,
   "id": "38711fca-58a2-456c-a6dc-fd01c21767d4",
   "metadata": {
    "tags": []
   },
   "outputs": [],
   "source": [
    "ad.layers[\"normalized\"] = ad.X.copy() # save normalized + log-transformed (but unscaled) counts - retrieve via adata.X = adata.layers[\"normalized\"]"
   ]
  },
  {
   "cell_type": "code",
   "execution_count": null,
   "id": "e3b679a5-108d-41af-b66a-55892b65c751",
   "metadata": {
    "tags": []
   },
   "outputs": [],
   "source": [
    "ad"
   ]
  },
  {
   "cell_type": "code",
   "execution_count": null,
   "id": "bfd7cfd0-f207-4ad7-8cb4-2dfdd00a438f",
   "metadata": {
    "tags": []
   },
   "outputs": [],
   "source": [
    "ad.layers"
   ]
  },
  {
   "cell_type": "code",
   "execution_count": null,
   "id": "59a88c7e-c364-495f-a13d-d42420e517ff",
   "metadata": {
    "tags": []
   },
   "outputs": [],
   "source": [
    "ad.obs[\"clusters\"] = ad.obs[\"clusters2\"]"
   ]
  },
  {
   "cell_type": "code",
   "execution_count": null,
   "id": "fc4fcd02-9fa0-4fe5-b61a-ac554d10dcc8",
   "metadata": {
    "tags": []
   },
   "outputs": [],
   "source": [
    "winkler_pv = ad"
   ]
  },
  {
   "cell_type": "markdown",
   "id": "6a15d485-48a8-42d4-9db2-61e1905da076",
   "metadata": {},
   "source": [
    "### Merge"
   ]
  },
  {
   "cell_type": "code",
   "execution_count": null,
   "id": "5da168e5-5fe7-4f64-837a-8390a0d3b42a",
   "metadata": {
    "tags": []
   },
   "outputs": [],
   "source": [
    "# free memory\n",
    "del winkler_pv.layers[\"log?\"]\n",
    "del winkler_pv.layers[\"counts\"]\n",
    "del winkler_ec.layers[\"counts\"]"
   ]
  },
  {
   "cell_type": "code",
   "execution_count": null,
   "id": "06b8c3e2-2abd-4df9-9420-0982be06e3b4",
   "metadata": {
    "tags": []
   },
   "outputs": [],
   "source": [
    "del winkler_pv.uns\n",
    "del winkler_ec.uns"
   ]
  },
  {
   "cell_type": "code",
   "execution_count": null,
   "id": "78a40a79-86b2-44e2-b9ef-9b9c1582da99",
   "metadata": {
    "tags": []
   },
   "outputs": [],
   "source": [
    "del ad\n",
    "del exp\n",
    "del adata_sub\n",
    "del random_genes"
   ]
  },
  {
   "cell_type": "code",
   "execution_count": null,
   "id": "36a68c66-9b18-42ca-8451-d6804c353637",
   "metadata": {
    "tags": []
   },
   "outputs": [],
   "source": [
    "# merge winkler datasets\n",
    "# ignore potential batch effects because dataset is pre-annotated\n",
    "adata = anndata.concat([winkler_ec, winkler_pv], join=\"inner\") "
   ]
  },
  {
   "cell_type": "code",
   "execution_count": null,
   "id": "a9a4e2b5-51c0-4628-a605-6bdd6924d9a1",
   "metadata": {
    "tags": []
   },
   "outputs": [],
   "source": [
    "sns.histplot(adata.X.sum(1), bins = 100)\n",
    "plt.show()"
   ]
  },
  {
   "cell_type": "markdown",
   "id": "3027ff04-085d-4348-9085-b198a784ec7a",
   "metadata": {},
   "source": [
    "# Standard pipeline"
   ]
  },
  {
   "cell_type": "markdown",
   "id": "2d1ab58d-63a4-4c4d-b829-5f046f6eb633",
   "metadata": {},
   "source": [
    "Skip, because data is pre-analyzed."
   ]
  },
  {
   "cell_type": "markdown",
   "id": "bd5df8c6-dc71-44ea-b4b7-5ae04f40ce55",
   "metadata": {
    "tags": []
   },
   "source": [
    "# Vascular marker genes"
   ]
  },
  {
   "cell_type": "code",
   "execution_count": null,
   "id": "6cd1032f-7ba5-4b12-b72d-247f54025ddd",
   "metadata": {
    "tags": []
   },
   "outputs": [],
   "source": [
    "# Basic QC metrics\n",
    "adata.var['mt'] = adata.var_names.str.startswith('MT-') \n",
    "sc.pp.calculate_qc_metrics(adata, qc_vars=['mt'], percent_top=None, log1p=False, inplace=True)\n",
    "sc.pl.violin(adata, ['n_genes_by_counts', 'total_counts', 'pct_counts_mt'],jitter=0.4, multi_panel=True)"
   ]
  },
  {
   "cell_type": "code",
   "execution_count": null,
   "id": "19037a1e-30d3-481c-b79a-4ca02016e6e7",
   "metadata": {
    "tags": []
   },
   "outputs": [],
   "source": [
    "sc.tl.rank_genes_groups(adata, 'clusters', method='wilcoxon')"
   ]
  },
  {
   "cell_type": "code",
   "execution_count": null,
   "id": "4eb78bd4-09f4-4e50-bc53-fc0fdf7dd33e",
   "metadata": {},
   "outputs": [],
   "source": [
    "sc.pl.rank_genes_groups(adata, n_genes=20, sharey=False)"
   ]
  },
  {
   "cell_type": "markdown",
   "id": "1a10eff0-dae0-4ff2-9d08-d249bd1152c7",
   "metadata": {},
   "source": [
    "Export DEG table"
   ]
  },
  {
   "cell_type": "code",
   "execution_count": null,
   "id": "8288a73d-49cd-4a21-b2a3-0c122d837b7a",
   "metadata": {},
   "outputs": [],
   "source": [
    "import sys\n",
    "sys.path.append(os.path.join(main_dir, \"Git\", \"p06\", \"p06-visium\", \"visium-foxf2\")\n",
    "from p6_helper_functions import rank_genes_groups_df"
   ]
  },
  {
   "cell_type": "code",
   "execution_count": null,
   "id": "db5aaa71-94b4-49c1-afbf-ee2463fe86e4",
   "metadata": {},
   "outputs": [],
   "source": [
    "# export DEG table\n",
    "celltypes = adata.obs.clusters.unique().tolist()\n",
    "merged_df = pd.DataFrame()\n",
    "for group in celltypes:\n",
    "    rank_df = rank_genes_groups_df(adata=adata, group=group, adj_pval_cutoff=None, log2fc_cutoff=None, sortby='zscore')\n",
    "    merged_df = pd.concat([merged_df, rank_df])\n",
    "    merged_df['reference'] = 'all other clusters'\n",
    "merged_df.head(3)"
   ]
  },
  {
   "cell_type": "code",
   "execution_count": null,
   "id": "33305387-0a05-41df-89a4-85e19caeb3db",
   "metadata": {},
   "outputs": [],
   "source": [
    "merged_df.group.unique().tolist()"
   ]
  },
  {
   "cell_type": "code",
   "execution_count": null,
   "id": "3e870295-22f0-435e-b924-8e73e3fb6cc3",
   "metadata": {},
   "outputs": [],
   "source": [
    "# export as csv\n",
    "merged_df.to_csv(os.path.join(main_dir, 'P6_Foxf2_per_celltype', 'DEA', date.today().strftime(\"%Y%m%d\")+'_DE_genes_Winkler2022.csv'),sep=';')"
   ]
  },
  {
   "cell_type": "markdown",
   "id": "c8d97f5d-3a85-42cb-9ccc-02b58bf0ee52",
   "metadata": {
    "tags": []
   },
   "source": [
    "# Focus on: Foxf2"
   ]
  },
  {
   "cell_type": "code",
   "execution_count": null,
   "id": "c853241f-e8ba-4945-b97b-1c6c8ac98e89",
   "metadata": {
    "tags": []
   },
   "outputs": [],
   "source": [
    "gene=\"FOXF2\""
   ]
  },
  {
   "cell_type": "markdown",
   "id": "10045df2-2644-4a5f-9c7f-605ae1f0eb7b",
   "metadata": {},
   "source": [
    "## Plot"
   ]
  },
  {
   "cell_type": "code",
   "execution_count": null,
   "id": "d6835526-69de-4f36-8012-a9f0067b44c5",
   "metadata": {
    "tags": []
   },
   "outputs": [],
   "source": [
    "sc.pl.matrixplot(adata, [gene], groupby='clusters', swap_axes=False, figsize=(2,5), standard_scale=\"var\", layer=\"normalized\")"
   ]
  },
  {
   "cell_type": "code",
   "execution_count": null,
   "id": "c832c7f3-52c6-480b-8915-aa4855bead31",
   "metadata": {},
   "outputs": [],
   "source": [
    "sc.pl.matrixplot(adata, [gene], groupby='clusters2', swap_axes=False, figsize=(2,5), standard_scale=\"var\", layer=\"normalized\")"
   ]
  },
  {
   "cell_type": "code",
   "execution_count": null,
   "id": "3f955e01-9aff-4a11-9764-5c57d1b5fc21",
   "metadata": {},
   "outputs": [],
   "source": [
    "sc.pl.dotplot(adata, [gene], groupby='clusters', swap_axes=False, figsize=(2,5), standard_scale=\"var\", layer=\"normalized\")"
   ]
  },
  {
   "cell_type": "code",
   "execution_count": null,
   "id": "7aa8cfb0-b315-43a9-9ec9-60664e73ab45",
   "metadata": {},
   "outputs": [],
   "source": [
    "sc.pl.dotplot(adata, [gene], groupby='clusters2', swap_axes=False, figsize=(2,5), standard_scale=\"var\", layer=\"normalized\")"
   ]
  },
  {
   "cell_type": "markdown",
   "id": "dd74aee6-b8c7-48cb-b0cd-fbd0e73e60ec",
   "metadata": {},
   "source": [
    "## Excl zonation"
   ]
  },
  {
   "cell_type": "code",
   "execution_count": null,
   "id": "0bf5a2ba-d2ac-4942-9384-d409c07dbac9",
   "metadata": {},
   "outputs": [],
   "source": [
    "utils.summarize_gene_expression(adata = adata, gene = gene, groupby = \"clusters\", \n",
    "                                study_name = dataset_name, organism = organism,\n",
    "                                export = True, output_dir = os.path.join(main_dir, \"P06_Foxf2_per_celltype\", \"Foxf2_summarized\")\n",
    "                               )"
   ]
  },
  {
   "cell_type": "markdown",
   "id": "0ff44e96-4270-4817-87cf-58d898d0dc1e",
   "metadata": {},
   "source": [
    "## Incl zonation"
   ]
  },
  {
   "cell_type": "code",
   "execution_count": null,
   "id": "77f742c1-4e5d-458c-90fc-d0e89a2a9a52",
   "metadata": {},
   "outputs": [],
   "source": [
    "utils.summarize_gene_expression(adata = adata, gene = gene, groupby = \"clusters2\", \n",
    "                                study_name = dataset_name, organism = organism,\n",
    "                                export = True, output_dir = os.path.join(main_dir, \"P06_Foxf2_per_celltype\", \"Foxf2_summarized\", \"incl_zonation\")\n",
    "                               )"
   ]
  },
  {
   "cell_type": "markdown",
   "id": "2f38f37c-b881-483b-894e-79fcf5851c64",
   "metadata": {},
   "source": [
    "# Focus on: Other genes"
   ]
  },
  {
   "cell_type": "code",
   "execution_count": null,
   "id": "b4a9ddb2-46f9-4cf4-bcde-06f3d1f97568",
   "metadata": {},
   "outputs": [],
   "source": [
    "target_genes = [\"Foxo1\", \"Tek\", \"Nos3\", \"Htra1\", \"Egfl8\", \"Flt1\", \"Kdr\", \"Nrp1\", \"Nrp2\", \"Efnb2\", \"Itgb1\", \"Itga6\", \"Angpt2\", \"Cdh5\", \"Cldn5\", \"Ocln\", \"Ctnnb1\"]"
   ]
  },
  {
   "cell_type": "code",
   "execution_count": null,
   "id": "c5fce6a3-7cb1-4fae-b966-312493230fed",
   "metadata": {},
   "outputs": [],
   "source": [
    "target_genes = [gene.upper() for gene in target_genes]\n",
    "target_genes"
   ]
  },
  {
   "cell_type": "markdown",
   "id": "c5ec8e65-3ff2-4864-b464-246d1a28ca35",
   "metadata": {},
   "source": [
    "### Excl zonation"
   ]
  },
  {
   "cell_type": "code",
   "execution_count": null,
   "id": "1bad8804-df77-434b-97f9-8e7924a9697b",
   "metadata": {},
   "outputs": [],
   "source": [
    "groupby = \"clusters\""
   ]
  },
  {
   "cell_type": "code",
   "execution_count": null,
   "id": "811863db-9007-4c2e-8d12-f9edd6f4bb85",
   "metadata": {},
   "outputs": [],
   "source": [
    "other_genes_results = {\n",
    "    gene: utils.summarize_gene_expression(adata, gene, study_name = dataset_name, organism = organism, groupby = groupby, \n",
    "                                          output_dir=os.path.join(main_dir, \"P06_Foxf2_per_celltype\", \"Other_genes_summarized\"), export=True\n",
    "                                         ) for gene in target_genes\n",
    "}"
   ]
  },
  {
   "cell_type": "code",
   "execution_count": null,
   "id": "2937505c-6e75-4664-adbc-d4f300e12822",
   "metadata": {},
   "outputs": [],
   "source": [
    "# some plots"
   ]
  },
  {
   "cell_type": "code",
   "execution_count": null,
   "id": "c59a89da-df6b-476e-ba40-02d4a5f64852",
   "metadata": {
    "tags": []
   },
   "outputs": [],
   "source": [
    "sc.pl.matrixplot(adata, [target_genes[0]], groupby=groupby, swap_axes=False, figsize=(2,5), standard_scale=\"var\", layer=\"normalized\")"
   ]
  },
  {
   "cell_type": "code",
   "execution_count": null,
   "id": "ee0f0106-57b3-475c-89ea-d8e70c66bdff",
   "metadata": {},
   "outputs": [],
   "source": [
    "sc.pl.dotplot(adata, [target_genes[0]], groupby=groupby, swap_axes=False, figsize=(2,5), standard_scale=\"var\", layer=\"normalized\")"
   ]
  },
  {
   "cell_type": "code",
   "execution_count": null,
   "id": "e3d9573e-86ef-4a20-a330-2478eb34a394",
   "metadata": {},
   "outputs": [],
   "source": [
    "sc.pl.matrixplot(adata, [target_genes[1]], groupby=groupby, swap_axes=False, figsize=(2,5), standard_scale=\"var\", layer=\"normalized\")"
   ]
  },
  {
   "cell_type": "code",
   "execution_count": null,
   "id": "d20fc16e-0886-4baf-8cc5-6e3dec16de62",
   "metadata": {},
   "outputs": [],
   "source": [
    "sc.pl.dotplot(adata, [target_genes[1]], groupby=groupby, swap_axes=False, figsize=(2,5), standard_scale=\"var\", layer=\"normalized\")"
   ]
  },
  {
   "cell_type": "markdown",
   "id": "3e924183-9cce-454f-8442-d2b4d641002a",
   "metadata": {
    "tags": []
   },
   "source": [
    "### Incl zonation"
   ]
  },
  {
   "cell_type": "code",
   "execution_count": null,
   "id": "535f4ac4-0588-43af-a1c8-02fd55a4718a",
   "metadata": {},
   "outputs": [],
   "source": [
    "groupby = \"clusters2\""
   ]
  },
  {
   "cell_type": "code",
   "execution_count": null,
   "id": "e7d1e377-fce8-4e1d-916b-41dc4eeaabe0",
   "metadata": {},
   "outputs": [],
   "source": [
    "other_genes_results = {\n",
    "    gene: utils.summarize_gene_expression(adata, gene, study_name = dataset_name, organism = organism, groupby = groupby, \n",
    "                                          output_dir=os.path.join(main_dir, \"P06_Foxf2_per_celltype\", \"Other_genes_summarized\", \"incl_zonation\"), export=True\n",
    "                                         ) for gene in target_genes\n",
    "}"
   ]
  },
  {
   "cell_type": "code",
   "execution_count": null,
   "id": "cafc01ad-1647-4c65-9d17-cd53619642ba",
   "metadata": {},
   "outputs": [],
   "source": [
    "# some plots"
   ]
  },
  {
   "cell_type": "code",
   "execution_count": null,
   "id": "9b97d4f2-a3d5-414c-8178-d5650c0ee579",
   "metadata": {
    "tags": []
   },
   "outputs": [],
   "source": [
    "sc.pl.matrixplot(adata, [target_genes[0]], groupby=groupby, swap_axes=False, figsize=(2,5), standard_scale=\"var\", layer=\"normalized\")"
   ]
  },
  {
   "cell_type": "code",
   "execution_count": null,
   "id": "3ec9642c-a9ff-4256-bee5-e5d452cecaeb",
   "metadata": {},
   "outputs": [],
   "source": [
    "sc.pl.dotplot(adata, [target_genes[0]], groupby=groupby, swap_axes=False, figsize=(2,5), standard_scale=\"var\", layer=\"normalized\")"
   ]
  },
  {
   "cell_type": "code",
   "execution_count": null,
   "id": "b94db087-5e7b-4fb5-ada4-06141e4e6184",
   "metadata": {},
   "outputs": [],
   "source": [
    "sc.pl.matrixplot(adata, [target_genes[1]], groupby=groupby, swap_axes=False, figsize=(2,5), standard_scale=\"var\", layer=\"normalized\")"
   ]
  },
  {
   "cell_type": "code",
   "execution_count": null,
   "id": "f5998bce-e470-413f-bfe9-fde49c18d2cb",
   "metadata": {},
   "outputs": [],
   "source": [
    "sc.pl.dotplot(adata, [target_genes[1]], groupby=groupby, swap_axes=False, figsize=(2,5), standard_scale=\"var\", layer=\"normalized\")"
   ]
  },
  {
   "cell_type": "markdown",
   "id": "048890ac-8a46-4d28-a117-c128b43cf824",
   "metadata": {},
   "source": [
    "# Correlate gene expression (Foxf2 and Foxo1)"
   ]
  },
  {
   "cell_type": "markdown",
   "id": "3f982779-047a-409d-a139-194857c55847",
   "metadata": {},
   "source": [
    "Using MAGIC denoising"
   ]
  },
  {
   "cell_type": "code",
   "execution_count": null,
   "id": "3a3a6af9-0411-452f-a17e-3766847c8853",
   "metadata": {
    "tags": []
   },
   "outputs": [],
   "source": [
    "import magic\n",
    "import scprep"
   ]
  },
  {
   "cell_type": "code",
   "execution_count": null,
   "id": "71da47a9-91bf-4420-92d0-030e815e2020",
   "metadata": {
    "tags": []
   },
   "outputs": [],
   "source": [
    "#sc.pp.scale(adata)"
   ]
  },
  {
   "cell_type": "markdown",
   "id": "7c9f9eff-eabe-4cb5-a683-37e662f315f5",
   "metadata": {},
   "source": [
    "## ECs"
   ]
  },
  {
   "cell_type": "code",
   "execution_count": null,
   "id": "b2a0ac07-89b7-44c9-8242-54cd1def62d1",
   "metadata": {
    "tags": []
   },
   "outputs": [],
   "source": [
    "gg = [\"FOXF2\",\"FOXO1\",\"NOS3\"]"
   ]
  },
  {
   "cell_type": "code",
   "execution_count": null,
   "id": "6acb39b3-23b3-4760-acc1-0e1d7222f9fa",
   "metadata": {
    "tags": []
   },
   "outputs": [],
   "source": [
    "adata_EC = adata[adata.obs.clusters == \"ECs\"]"
   ]
  },
  {
   "cell_type": "code",
   "execution_count": null,
   "id": "ae4461dd-bd51-4824-ab16-6ec108279880",
   "metadata": {
    "tags": []
   },
   "outputs": [],
   "source": [
    "adata_EC"
   ]
  },
  {
   "cell_type": "code",
   "execution_count": null,
   "id": "3ea96830-24ba-42f0-9f37-8eade9b7ebea",
   "metadata": {
    "tags": []
   },
   "outputs": [],
   "source": [
    "adata_EC.layers"
   ]
  },
  {
   "cell_type": "code",
   "execution_count": null,
   "id": "54ef840a-7afa-4616-bb3d-495770d176c9",
   "metadata": {
    "tags": []
   },
   "outputs": [],
   "source": [
    "#matrix = pd.DataFrame(adata_EC.X) # not compatible with sparse \n",
    "matrix = adata_EC.X\n",
    "matrix.columns = adata_EC.var.index.tolist()"
   ]
  },
  {
   "cell_type": "code",
   "execution_count": null,
   "id": "bed6c96f-72bc-4312-bf7e-60c6bb9bb63b",
   "metadata": {
    "tags": []
   },
   "outputs": [],
   "source": [
    "cutoff_var = None"
   ]
  },
  {
   "cell_type": "code",
   "execution_count": null,
   "id": "22719189-7098-4e43-96ee-afc694d1f27d",
   "metadata": {
    "tags": []
   },
   "outputs": [],
   "source": [
    "scprep.plot.plot_library_size(matrix, cutoff=cutoff_var)"
   ]
  },
  {
   "cell_type": "code",
   "execution_count": null,
   "id": "03e9d3b2-86cc-4426-aefc-e05cf7b815b4",
   "metadata": {
    "tags": []
   },
   "outputs": [],
   "source": [
    "# filter lowly expressed genes and cells with a small library size\n",
    "#matrix = scprep.filter.filter_library_size(matrix, cutoff=cutoff_var)\n",
    "#matrix.head()"
   ]
  },
  {
   "cell_type": "markdown",
   "id": "f50d6d76-d6ad-41f5-ae07-e90cb7a2058a",
   "metadata": {},
   "source": [
    "Note: Skipped normalization as data is already log-normalized"
   ]
  },
  {
   "cell_type": "code",
   "execution_count": null,
   "id": "cbfdd7eb-8088-4dcd-aff9-ad663f20cc0f",
   "metadata": {
    "tags": []
   },
   "outputs": [],
   "source": [
    "adata_EC.layers"
   ]
  },
  {
   "cell_type": "markdown",
   "id": "125d3779-a445-4d4c-8978-12394891083b",
   "metadata": {},
   "source": [
    "### Creating the MAGIC operator\n",
    "If you don't specify parameters, MAGIC creates an operator with the following default values: knn=5, knn_max = 3 * knn, decay=1, t=3."
   ]
  },
  {
   "cell_type": "code",
   "execution_count": null,
   "id": "1dfb3532-dd63-4efd-9e1e-8c2dc8f5d544",
   "metadata": {
    "tags": []
   },
   "outputs": [],
   "source": [
    "magic_op = magic.MAGIC()"
   ]
  },
  {
   "cell_type": "markdown",
   "id": "6ea01c0a-2b7f-4280-a45f-639a7e75db05",
   "metadata": {},
   "source": [
    "### Running MAGIC with gene selection\n",
    "The magic_op.fit_transform function takes the normalized data and an array of selected genes as its arguments. If no genes are provided, MAGIC will return a matrix of all genes. The same can be achieved by substituting the array of gene names with genes='all_genes'."
   ]
  },
  {
   "cell_type": "code",
   "execution_count": null,
   "id": "96090716-1dd8-4245-a880-4aef4dac8289",
   "metadata": {
    "tags": []
   },
   "outputs": [],
   "source": [
    "%%time\n",
    "emt_magic = magic_op.fit_transform(adata_EC, genes=gg)"
   ]
  },
  {
   "cell_type": "markdown",
   "id": "91149f98-06ac-41ef-b08c-5845e336086f",
   "metadata": {},
   "source": [
    "### Visualizing gene-gene relationships\n",
    "\n",
    "We can see gene-gene relationships much more clearly after applying MAGIC. Note that the change in absolute values of gene expression is not meaningful - the relative difference is all that matters."
   ]
  },
  {
   "cell_type": "code",
   "execution_count": null,
   "id": "68c87a3e-258f-42bd-b48d-7b20a5adffdd",
   "metadata": {
    "tags": []
   },
   "outputs": [],
   "source": [
    "np.corrcoef(emt_magic[:,['FOXF2','FOXO1']].X, rowvar = False)[0][1]"
   ]
  },
  {
   "cell_type": "code",
   "execution_count": null,
   "id": "4dc64c53-073d-4fbf-b588-f78cac8d7d22",
   "metadata": {
    "tags": []
   },
   "outputs": [],
   "source": [
    "fig, (ax1, ax2) = plt.subplots(1,2, figsize=(16, 6))\n",
    "scprep.plot.scatter(x=adata_EC[:,'FOXF2'].X, y=adata_EC[:,'FOXO1'].X, c=adata_EC[:,'NOS3'].X, ax = ax1,\n",
    "                    xlabel='FOXF2', ylabel='FOXO1', legend_title=\"NOS3\", title='Before MAGIC')\n",
    "scprep.plot.scatter(x=emt_magic[:,'FOXF2'].X, y=emt_magic[:,'FOXO1'].X, c=emt_magic[:,'NOS3'].X, ax=ax2,\n",
    "                    xlabel='FOXF2', ylabel='FOXO1', legend_title=\"NOS3\", title='After MAGIC')\n",
    "plt.axline((0,0), slope=1, color=\"black\", alpha=0.3, linestyle=\"--\")\n",
    "plt.tight_layout()\n",
    "plt.show()"
   ]
  },
  {
   "cell_type": "markdown",
   "id": "44fd0ca4-f518-42b1-b192-d5823fffb0f0",
   "metadata": {},
   "source": [
    "## PCs"
   ]
  },
  {
   "cell_type": "code",
   "execution_count": null,
   "id": "aad6e5c8-24d2-4a25-88e5-2f79f420c547",
   "metadata": {
    "tags": []
   },
   "outputs": [],
   "source": [
    "gg = [\"FOXF2\",\"FOXO1\",\"NOS3\"]"
   ]
  },
  {
   "cell_type": "code",
   "execution_count": null,
   "id": "a4a34f34-343a-4604-8100-69020290f8ae",
   "metadata": {
    "tags": []
   },
   "outputs": [],
   "source": [
    "adata_EC = adata[adata.obs.clusters == \"Pericytes\"]"
   ]
  },
  {
   "cell_type": "code",
   "execution_count": null,
   "id": "33a36fb0-cd67-4948-a3ad-14f00e22185e",
   "metadata": {
    "tags": []
   },
   "outputs": [],
   "source": [
    "adata_EC"
   ]
  },
  {
   "cell_type": "code",
   "execution_count": null,
   "id": "0115b6b5-613f-4fed-8671-7273c4e481cc",
   "metadata": {
    "tags": []
   },
   "outputs": [],
   "source": [
    "adata_EC.layers"
   ]
  },
  {
   "cell_type": "code",
   "execution_count": null,
   "id": "ca33744c-8d6a-4404-b303-ac76fa683b10",
   "metadata": {
    "tags": []
   },
   "outputs": [],
   "source": [
    "#matrix = pd.DataFrame(adata_EC.X) # not compatible with sparse \n",
    "matrix = adata_EC.X\n",
    "matrix.columns = adata_EC.var.index.tolist()"
   ]
  },
  {
   "cell_type": "code",
   "execution_count": null,
   "id": "e29a5d64-2a4c-4fd4-9d10-02d1d0df7437",
   "metadata": {
    "tags": []
   },
   "outputs": [],
   "source": [
    "cutoff_var = None"
   ]
  },
  {
   "cell_type": "code",
   "execution_count": null,
   "id": "ddac0d23-5b51-48c0-9faa-752f75b53172",
   "metadata": {
    "tags": []
   },
   "outputs": [],
   "source": [
    "scprep.plot.plot_library_size(matrix, cutoff=cutoff_var)"
   ]
  },
  {
   "cell_type": "code",
   "execution_count": null,
   "id": "40a1bd65-0ce4-4cf0-9dc9-acdd9904dfda",
   "metadata": {
    "tags": []
   },
   "outputs": [],
   "source": [
    "# filter lowly expressed genes and cells with a small library size\n",
    "#matrix = scprep.filter.filter_library_size(matrix, cutoff=cutoff_var)\n",
    "#matrix.head()"
   ]
  },
  {
   "cell_type": "markdown",
   "id": "759a7afd-6d3d-478c-a438-4e6d6af7ebb7",
   "metadata": {},
   "source": [
    "Note: Skipped normalization as data is already log-normalized"
   ]
  },
  {
   "cell_type": "code",
   "execution_count": null,
   "id": "43e81932-8af2-4bb6-9a9e-3b2a15484fa6",
   "metadata": {
    "tags": []
   },
   "outputs": [],
   "source": [
    "adata_EC.layers"
   ]
  },
  {
   "cell_type": "markdown",
   "id": "247e2a8f-7acb-4e85-b890-2afd74c121c1",
   "metadata": {},
   "source": [
    "### Creating the MAGIC operator\n",
    "If you don't specify parameters, MAGIC creates an operator with the following default values: knn=5, knn_max = 3 * knn, decay=1, t=3."
   ]
  },
  {
   "cell_type": "code",
   "execution_count": null,
   "id": "041a5ee3-0d73-4ec4-95ae-90f26efe8a6f",
   "metadata": {
    "tags": []
   },
   "outputs": [],
   "source": [
    "magic_op = magic.MAGIC()"
   ]
  },
  {
   "cell_type": "markdown",
   "id": "1eec424d-e304-4cc1-a955-fbaae30c0c06",
   "metadata": {},
   "source": [
    "### Running MAGIC with gene selection\n",
    "The magic_op.fit_transform function takes the normalized data and an array of selected genes as its arguments. If no genes are provided, MAGIC will return a matrix of all genes. The same can be achieved by substituting the array of gene names with genes='all_genes'."
   ]
  },
  {
   "cell_type": "code",
   "execution_count": null,
   "id": "98116b28-fddb-4cfb-b4c8-1fa671100fd1",
   "metadata": {
    "tags": []
   },
   "outputs": [],
   "source": [
    "%%time\n",
    "emt_magic = magic_op.fit_transform(adata_EC, genes=gg)"
   ]
  },
  {
   "cell_type": "markdown",
   "id": "213c602b-293f-4644-8f30-5555015cfcbd",
   "metadata": {},
   "source": [
    "### Visualizing gene-gene relationships\n",
    "\n",
    "We can see gene-gene relationships much more clearly after applying MAGIC. Note that the change in absolute values of gene expression is not meaningful - the relative difference is all that matters."
   ]
  },
  {
   "cell_type": "code",
   "execution_count": null,
   "id": "d595776f-a8b6-492a-8051-84d56a1b5905",
   "metadata": {
    "tags": []
   },
   "outputs": [],
   "source": [
    "np.corrcoef(emt_magic[:,['FOXF2','FOXO1']].X, rowvar = False)[0][1]"
   ]
  },
  {
   "cell_type": "code",
   "execution_count": null,
   "id": "9b9b2fcc-7967-437d-b0b7-4ea355feab5b",
   "metadata": {
    "tags": []
   },
   "outputs": [],
   "source": [
    "fig, (ax1, ax2) = plt.subplots(1,2, figsize=(16, 6))\n",
    "scprep.plot.scatter(x=adata_EC[:,'FOXF2'].X, y=adata_EC[:,'FOXO1'].X, c=adata_EC[:,'NOS3'].X, ax = ax1,\n",
    "                    xlabel='FOXF2', ylabel='FOXO1', legend_title=\"NOS3\", title='Before MAGIC')\n",
    "scprep.plot.scatter(x=emt_magic[:,'FOXF2'].X, y=emt_magic[:,'FOXO1'].X, c=emt_magic[:,'NOS3'].X, ax=ax2,\n",
    "                    xlabel='FOXF2', ylabel='FOXO1', legend_title=\"NOS3\", title='After MAGIC')\n",
    "plt.axline((0.4,0.4), slope=1, color=\"black\", alpha=0.3, linestyle=\"--\")\n",
    "plt.tight_layout()\n",
    "plt.show()"
   ]
  },
  {
   "cell_type": "markdown",
   "id": "2725c1c8-5ec4-40f9-a03f-7c856510c9b5",
   "metadata": {},
   "source": [
    "## All cell types"
   ]
  },
  {
   "cell_type": "code",
   "execution_count": null,
   "id": "c713268b-eba7-43f9-96dc-357e90c3867b",
   "metadata": {
    "tags": []
   },
   "outputs": [],
   "source": [
    "gg = [\"FOXF2\",\"FOXO1\",\"NOS3\"]"
   ]
  },
  {
   "cell_type": "code",
   "execution_count": null,
   "id": "ab900ce4-eb23-4b88-ad4d-5a18d21c07f1",
   "metadata": {
    "tags": []
   },
   "outputs": [],
   "source": [
    "adata_EC = adata"
   ]
  },
  {
   "cell_type": "code",
   "execution_count": null,
   "id": "d9fc6c55-fdd6-4520-8491-9b82192a6349",
   "metadata": {
    "tags": []
   },
   "outputs": [],
   "source": [
    "adata_EC"
   ]
  },
  {
   "cell_type": "code",
   "execution_count": null,
   "id": "d2189bb7-4c93-4826-b10e-3a7840afce99",
   "metadata": {
    "tags": []
   },
   "outputs": [],
   "source": [
    "adata_EC.layers"
   ]
  },
  {
   "cell_type": "code",
   "execution_count": null,
   "id": "4cd947d2-a4be-4cb3-b365-7d1ea01a1ac5",
   "metadata": {
    "tags": []
   },
   "outputs": [],
   "source": [
    "#matrix = pd.DataFrame(adata_EC.X) # not compatible with sparse \n",
    "matrix = adata_EC.X\n",
    "matrix.columns = adata_EC.var.index.tolist()"
   ]
  },
  {
   "cell_type": "code",
   "execution_count": null,
   "id": "4a9d0803-f280-438b-943e-cbacfa369442",
   "metadata": {
    "tags": []
   },
   "outputs": [],
   "source": [
    "cutoff_var = None"
   ]
  },
  {
   "cell_type": "code",
   "execution_count": null,
   "id": "a9d9ddb3-5d76-4fe9-b135-887e0b8189c3",
   "metadata": {
    "tags": []
   },
   "outputs": [],
   "source": [
    "scprep.plot.plot_library_size(matrix, cutoff=cutoff_var)"
   ]
  },
  {
   "cell_type": "code",
   "execution_count": null,
   "id": "29f8970f-40f6-4bc9-8fbc-6dcc86fd7e21",
   "metadata": {
    "tags": []
   },
   "outputs": [],
   "source": [
    "# filter lowly expressed genes and cells with a small library size\n",
    "#matrix = scprep.filter.filter_library_size(matrix, cutoff=cutoff_var)\n",
    "#matrix.head()"
   ]
  },
  {
   "cell_type": "markdown",
   "id": "9514370c-a73d-44e1-ad61-dbb5e539b65d",
   "metadata": {},
   "source": [
    "Note: Skipped normalization as data is already log-normalized"
   ]
  },
  {
   "cell_type": "code",
   "execution_count": null,
   "id": "dbc2d9a1-ac5d-4160-994f-d84cf81db946",
   "metadata": {
    "tags": []
   },
   "outputs": [],
   "source": [
    "adata_EC.layers"
   ]
  },
  {
   "cell_type": "markdown",
   "id": "3df077b5-4bb1-4f92-ad37-ff630ccd2cf6",
   "metadata": {},
   "source": [
    "### Creating the MAGIC operator\n",
    "If you don't specify parameters, MAGIC creates an operator with the following default values: knn=5, knn_max = 3 * knn, decay=1, t=3."
   ]
  },
  {
   "cell_type": "code",
   "execution_count": null,
   "id": "8532ad9c-2f31-4ada-8708-bfc7300be46f",
   "metadata": {
    "tags": []
   },
   "outputs": [],
   "source": [
    "magic_op = magic.MAGIC()"
   ]
  },
  {
   "cell_type": "markdown",
   "id": "f11b4e16-84c9-41c3-936d-3addd027afc9",
   "metadata": {},
   "source": [
    "### Running MAGIC with gene selection\n",
    "The magic_op.fit_transform function takes the normalized data and an array of selected genes as its arguments. If no genes are provided, MAGIC will return a matrix of all genes. The same can be achieved by substituting the array of gene names with genes='all_genes'."
   ]
  },
  {
   "cell_type": "code",
   "execution_count": null,
   "id": "1d6a8d11-732c-4718-8485-76b2da259aaf",
   "metadata": {
    "tags": []
   },
   "outputs": [],
   "source": [
    "%%time\n",
    "emt_magic = magic_op.fit_transform(adata_EC, genes=gg)"
   ]
  },
  {
   "cell_type": "markdown",
   "id": "86557617-961f-491d-b20f-3a42bcb06320",
   "metadata": {},
   "source": [
    "### Visualizing gene-gene relationships\n",
    "\n",
    "We can see gene-gene relationships much more clearly after applying MAGIC. Note that the change in absolute values of gene expression is not meaningful - the relative difference is all that matters."
   ]
  },
  {
   "cell_type": "code",
   "execution_count": null,
   "id": "192685db-a34c-4bc3-9ed3-ab9669b64456",
   "metadata": {
    "tags": []
   },
   "outputs": [],
   "source": [
    "np.corrcoef(emt_magic[:,['FOXF2','FOXO1']].X, rowvar = False)[0][1]"
   ]
  },
  {
   "cell_type": "code",
   "execution_count": null,
   "id": "69bb24fa-517f-4c03-b931-d765c3dbacc7",
   "metadata": {
    "tags": []
   },
   "outputs": [],
   "source": [
    "fig, (ax1, ax2) = plt.subplots(1,2, figsize=(16, 6))\n",
    "scprep.plot.scatter(x=adata_EC[:,'FOXF2'].X, y=adata_EC[:,'FOXO1'].X, c=adata_EC[:,'NOS3'].X, ax = ax1,\n",
    "                    xlabel='FOXF2', ylabel='FOXO1', legend_title=\"NOS3\", title='Before MAGIC')\n",
    "scprep.plot.scatter(x=emt_magic[:,'FOXF2'].X, y=emt_magic[:,'FOXO1'].X, c=emt_magic[:,'NOS3'].X, ax=ax2,\n",
    "                    xlabel='FOXF2', ylabel='FOXO1', legend_title=\"NOS3\", title='After MAGIC')\n",
    "plt.axline((0,0), slope=1, color=\"black\", alpha=0.3, linestyle=\"--\")\n",
    "plt.tight_layout()\n",
    "plt.show()"
   ]
  },
  {
   "cell_type": "markdown",
   "id": "93f239f8-5cf5-41f8-be42-6d717fc03e55",
   "metadata": {},
   "source": [
    "## capECs"
   ]
  },
  {
   "cell_type": "code",
   "execution_count": null,
   "id": "e1a1edda-4744-452c-8de5-000b37f21dce",
   "metadata": {
    "tags": []
   },
   "outputs": [],
   "source": [
    "gg = [\"FOXF2\",\"FOXO1\",\"NOS3\"]"
   ]
  },
  {
   "cell_type": "code",
   "execution_count": null,
   "id": "35e7c8f4-f4bc-42ec-822d-63a7e3b43898",
   "metadata": {
    "tags": []
   },
   "outputs": [],
   "source": [
    "adata_EC = adata[adata.obs.clusters2 == \"ECs_Capillary\"]"
   ]
  },
  {
   "cell_type": "code",
   "execution_count": null,
   "id": "36e3523b-883d-4147-a450-1b18ae363860",
   "metadata": {
    "tags": []
   },
   "outputs": [],
   "source": [
    "adata_EC"
   ]
  },
  {
   "cell_type": "code",
   "execution_count": null,
   "id": "16c7d249-0ff3-45b1-806e-1ff6711f0992",
   "metadata": {
    "tags": []
   },
   "outputs": [],
   "source": [
    "adata_EC.layers"
   ]
  },
  {
   "cell_type": "code",
   "execution_count": null,
   "id": "5ba71689-24a0-4354-ae88-c5080b15765e",
   "metadata": {
    "tags": []
   },
   "outputs": [],
   "source": [
    "#matrix = pd.DataFrame(adata_EC.X) # not compatible with sparse \n",
    "matrix = adata_EC.X\n",
    "matrix.columns = adata_EC.var.index.tolist()"
   ]
  },
  {
   "cell_type": "code",
   "execution_count": null,
   "id": "d1e1aaef-d035-460c-b828-be15ed836835",
   "metadata": {
    "tags": []
   },
   "outputs": [],
   "source": [
    "cutoff_var = None"
   ]
  },
  {
   "cell_type": "code",
   "execution_count": null,
   "id": "d505bad4-3d1c-47d6-b5c9-c9e31fb5ce54",
   "metadata": {
    "tags": []
   },
   "outputs": [],
   "source": [
    "scprep.plot.plot_library_size(matrix, cutoff=cutoff_var)"
   ]
  },
  {
   "cell_type": "code",
   "execution_count": null,
   "id": "06f01bbc-268c-4bff-8e73-04b36386ebfb",
   "metadata": {
    "tags": []
   },
   "outputs": [],
   "source": [
    "# filter lowly expressed genes and cells with a small library size\n",
    "#matrix = scprep.filter.filter_library_size(matrix, cutoff=cutoff_var)\n",
    "#matrix.head()"
   ]
  },
  {
   "cell_type": "markdown",
   "id": "ad6ab2d2-0e0f-49a3-ac5a-f8f7ff892ece",
   "metadata": {},
   "source": [
    "Note: Skipped normalization as data is already log-normalized"
   ]
  },
  {
   "cell_type": "code",
   "execution_count": null,
   "id": "c48d0f7b-263b-42ff-97f4-92300bd5173d",
   "metadata": {
    "tags": []
   },
   "outputs": [],
   "source": [
    "adata_EC.layers"
   ]
  },
  {
   "cell_type": "markdown",
   "id": "c22d8fab-4912-4097-be69-790c4dccfb63",
   "metadata": {},
   "source": [
    "### Creating the MAGIC operator\n",
    "If you don't specify parameters, MAGIC creates an operator with the following default values: knn=5, knn_max = 3 * knn, decay=1, t=3."
   ]
  },
  {
   "cell_type": "code",
   "execution_count": null,
   "id": "6dcaaf9d-cdee-460f-9c01-dd3e3a433dbb",
   "metadata": {
    "tags": []
   },
   "outputs": [],
   "source": [
    "magic_op = magic.MAGIC()"
   ]
  },
  {
   "cell_type": "markdown",
   "id": "f72bd2b1-18cf-4e3c-bad0-2cbd7c84b93b",
   "metadata": {},
   "source": [
    "### Running MAGIC with gene selection\n",
    "The magic_op.fit_transform function takes the normalized data and an array of selected genes as its arguments. If no genes are provided, MAGIC will return a matrix of all genes. The same can be achieved by substituting the array of gene names with genes='all_genes'."
   ]
  },
  {
   "cell_type": "code",
   "execution_count": null,
   "id": "f9e2b333-edd3-4ed8-a325-40ad5e728982",
   "metadata": {
    "tags": []
   },
   "outputs": [],
   "source": [
    "%%time\n",
    "emt_magic = magic_op.fit_transform(adata_EC, genes=gg)"
   ]
  },
  {
   "cell_type": "markdown",
   "id": "da8c7738-2176-4394-b3cd-e3cfb0307550",
   "metadata": {},
   "source": [
    "### Visualizing gene-gene relationships\n",
    "\n",
    "We can see gene-gene relationships much more clearly after applying MAGIC. Note that the change in absolute values of gene expression is not meaningful - the relative difference is all that matters."
   ]
  },
  {
   "cell_type": "code",
   "execution_count": null,
   "id": "0fc42a52-7262-4d85-b8be-23d12e6e873d",
   "metadata": {
    "tags": []
   },
   "outputs": [],
   "source": [
    "np.corrcoef(emt_magic[:,['FOXF2','FOXO1']].X, rowvar = False)[0][1]"
   ]
  },
  {
   "cell_type": "code",
   "execution_count": null,
   "id": "d59284c4-6e23-47a3-8183-7dc56a3fea5f",
   "metadata": {
    "tags": []
   },
   "outputs": [],
   "source": [
    "fig, (ax1, ax2) = plt.subplots(1,2, figsize=(16, 6))\n",
    "scprep.plot.scatter(x=adata_EC[:,'FOXF2'].X, y=adata_EC[:,'FOXO1'].X, c=adata_EC[:,'NOS3'].X, ax = ax1,\n",
    "                    xlabel='FOXF2', ylabel='FOXO1', legend_title=\"NOS3\", title='Before MAGIC')\n",
    "scprep.plot.scatter(x=emt_magic[:,'FOXF2'].X, y=emt_magic[:,'FOXO1'].X, c=emt_magic[:,'NOS3'].X, ax=ax2,\n",
    "                    xlabel='FOXF2', ylabel='FOXO1', legend_title=\"NOS3\", title='After MAGIC')\n",
    "plt.axline((0,0), slope=1, color=\"black\", alpha=0.3, linestyle=\"--\")\n",
    "plt.tight_layout()\n",
    "plt.show()"
   ]
  },
  {
   "cell_type": "markdown",
   "id": "46b2de53-f88f-459b-a2f4-0834d2927583",
   "metadata": {},
   "source": [
    "## aECs"
   ]
  },
  {
   "cell_type": "code",
   "execution_count": null,
   "id": "99e7b352-ef47-4d07-aa5e-cef7336f48ff",
   "metadata": {
    "tags": []
   },
   "outputs": [],
   "source": [
    "gg = [\"FOXF2\",\"FOXO1\",\"NOS3\"]"
   ]
  },
  {
   "cell_type": "code",
   "execution_count": null,
   "id": "5c5a3df6-5e16-4aad-b2ba-601c30ebfdb6",
   "metadata": {
    "tags": []
   },
   "outputs": [],
   "source": [
    "adata_EC = adata[adata.obs.clusters2 == \"ECs_Arterial\"]"
   ]
  },
  {
   "cell_type": "code",
   "execution_count": null,
   "id": "c6cdafe8-03bf-46fb-9b2d-c8bf72162590",
   "metadata": {
    "tags": []
   },
   "outputs": [],
   "source": [
    "adata_EC"
   ]
  },
  {
   "cell_type": "code",
   "execution_count": null,
   "id": "11c30d31-bd54-4e42-9391-d1cc1f10305d",
   "metadata": {
    "tags": []
   },
   "outputs": [],
   "source": [
    "adata_EC.layers"
   ]
  },
  {
   "cell_type": "code",
   "execution_count": null,
   "id": "bcf88d14-f43c-49e5-8ead-9bbf9d1e53e2",
   "metadata": {
    "tags": []
   },
   "outputs": [],
   "source": [
    "#matrix = pd.DataFrame(adata_EC.X) # not compatible with sparse \n",
    "matrix = adata_EC.X\n",
    "matrix.columns = adata_EC.var.index.tolist()"
   ]
  },
  {
   "cell_type": "code",
   "execution_count": null,
   "id": "91da6af7-d493-4321-bf31-85db4764ba8e",
   "metadata": {
    "tags": []
   },
   "outputs": [],
   "source": [
    "cutoff_var = None"
   ]
  },
  {
   "cell_type": "code",
   "execution_count": null,
   "id": "f0f0a8c4-3ce0-449e-ab5d-4dbb055832a4",
   "metadata": {
    "tags": []
   },
   "outputs": [],
   "source": [
    "scprep.plot.plot_library_size(matrix, cutoff=cutoff_var)"
   ]
  },
  {
   "cell_type": "code",
   "execution_count": null,
   "id": "6b83d44e-fb3b-42a0-85c7-9d0d1767d235",
   "metadata": {
    "tags": []
   },
   "outputs": [],
   "source": [
    "# filter lowly expressed genes and cells with a small library size\n",
    "#matrix = scprep.filter.filter_library_size(matrix, cutoff=cutoff_var)\n",
    "#matrix.head()"
   ]
  },
  {
   "cell_type": "markdown",
   "id": "da47f6d4-8957-4a9b-b759-637c9e909b18",
   "metadata": {},
   "source": [
    "Note: Skipped normalization as data is already log-normalized"
   ]
  },
  {
   "cell_type": "code",
   "execution_count": null,
   "id": "5cc0f629-478b-4fa1-b58d-f991477cbc2d",
   "metadata": {
    "tags": []
   },
   "outputs": [],
   "source": [
    "adata_EC.layers"
   ]
  },
  {
   "cell_type": "markdown",
   "id": "a680aadf-6eff-4e11-a710-e71ccd959b12",
   "metadata": {},
   "source": [
    "### Creating the MAGIC operator\n",
    "If you don't specify parameters, MAGIC creates an operator with the following default values: knn=5, knn_max = 3 * knn, decay=1, t=3."
   ]
  },
  {
   "cell_type": "code",
   "execution_count": null,
   "id": "1133485d-2bbf-48bb-86b7-8c4f1c9a26dd",
   "metadata": {
    "tags": []
   },
   "outputs": [],
   "source": [
    "magic_op = magic.MAGIC()"
   ]
  },
  {
   "cell_type": "markdown",
   "id": "025cde36-3d7f-4c07-9c83-d5f0b1bd6991",
   "metadata": {},
   "source": [
    "### Running MAGIC with gene selection\n",
    "The magic_op.fit_transform function takes the normalized data and an array of selected genes as its arguments. If no genes are provided, MAGIC will return a matrix of all genes. The same can be achieved by substituting the array of gene names with genes='all_genes'."
   ]
  },
  {
   "cell_type": "code",
   "execution_count": null,
   "id": "c4c485c0-4fbc-4558-bf0b-4a631f03b243",
   "metadata": {
    "tags": []
   },
   "outputs": [],
   "source": [
    "%%time\n",
    "emt_magic = magic_op.fit_transform(adata_EC, genes=gg)"
   ]
  },
  {
   "cell_type": "markdown",
   "id": "3c184b27-8d4d-4b22-8b0d-b5f86fc2dad3",
   "metadata": {},
   "source": [
    "### Visualizing gene-gene relationships\n",
    "\n",
    "We can see gene-gene relationships much more clearly after applying MAGIC. Note that the change in absolute values of gene expression is not meaningful - the relative difference is all that matters."
   ]
  },
  {
   "cell_type": "code",
   "execution_count": null,
   "id": "a7f341db-7e5b-4c47-82d9-83d1e09e3c6d",
   "metadata": {
    "tags": []
   },
   "outputs": [],
   "source": [
    "np.corrcoef(emt_magic[:,['FOXF2','FOXO1']].X, rowvar = False)[0][1]"
   ]
  },
  {
   "cell_type": "code",
   "execution_count": null,
   "id": "183f4ed1-3fcd-4418-9ba4-d396ef0b6ffe",
   "metadata": {
    "tags": []
   },
   "outputs": [],
   "source": [
    "fig, (ax1, ax2) = plt.subplots(1,2, figsize=(16, 6))\n",
    "scprep.plot.scatter(x=adata_EC[:,'FOXF2'].X, y=adata_EC[:,'FOXO1'].X, c=adata_EC[:,'NOS3'].X, ax = ax1,\n",
    "                    xlabel='FOXF2', ylabel='FOXO1', legend_title=\"NOS3\", title='Before MAGIC')\n",
    "scprep.plot.scatter(x=emt_magic[:,'FOXF2'].X, y=emt_magic[:,'FOXO1'].X, c=emt_magic[:,'NOS3'].X, ax=ax2,\n",
    "                    xlabel='FOXF2', ylabel='FOXO1', legend_title=\"NOS3\", title='After MAGIC')\n",
    "plt.axline((0,0), slope=1, color=\"black\", alpha=0.3, linestyle=\"--\")\n",
    "plt.tight_layout()\n",
    "plt.show()"
   ]
  },
  {
   "cell_type": "markdown",
   "id": "6fb94a38-49d2-42e9-9d89-b48e845b549d",
   "metadata": {},
   "source": [
    "## vECs"
   ]
  },
  {
   "cell_type": "code",
   "execution_count": null,
   "id": "18771fb3-23e2-448f-a7dc-13b731c2e324",
   "metadata": {
    "tags": []
   },
   "outputs": [],
   "source": [
    "gg = [\"FOXF2\",\"FOXO1\",\"NOS3\"]"
   ]
  },
  {
   "cell_type": "code",
   "execution_count": null,
   "id": "cfcf1fab-e9aa-444e-9f38-0ca11ba87a63",
   "metadata": {
    "tags": []
   },
   "outputs": [],
   "source": [
    "adata_EC = adata[adata.obs.clusters2 == \"ECs_Venous\"]"
   ]
  },
  {
   "cell_type": "code",
   "execution_count": null,
   "id": "9eb9413b-8b5e-4cca-a9c8-eee067bab8aa",
   "metadata": {
    "tags": []
   },
   "outputs": [],
   "source": [
    "adata_EC"
   ]
  },
  {
   "cell_type": "code",
   "execution_count": null,
   "id": "5f5b4771-9ee6-40f5-8b7a-fac90cb832cb",
   "metadata": {
    "tags": []
   },
   "outputs": [],
   "source": [
    "adata_EC.layers"
   ]
  },
  {
   "cell_type": "code",
   "execution_count": null,
   "id": "e2da0d24-67d9-4a04-974d-e8fc9806aa0f",
   "metadata": {
    "tags": []
   },
   "outputs": [],
   "source": [
    "#matrix = pd.DataFrame(adata_EC.X) # not compatible with sparse \n",
    "matrix = adata_EC.X\n",
    "matrix.columns = adata_EC.var.index.tolist()"
   ]
  },
  {
   "cell_type": "code",
   "execution_count": null,
   "id": "3cc6e905-4790-46c6-a14e-2f75e1e1d0a2",
   "metadata": {
    "tags": []
   },
   "outputs": [],
   "source": [
    "cutoff_var = None"
   ]
  },
  {
   "cell_type": "code",
   "execution_count": null,
   "id": "8babce68-b6db-438e-a23d-cf3c768a94c1",
   "metadata": {
    "tags": []
   },
   "outputs": [],
   "source": [
    "scprep.plot.plot_library_size(matrix, cutoff=cutoff_var)"
   ]
  },
  {
   "cell_type": "code",
   "execution_count": null,
   "id": "325c8e42-72a4-4d98-93d8-4e0995359e9f",
   "metadata": {
    "tags": []
   },
   "outputs": [],
   "source": [
    "# filter lowly expressed genes and cells with a small library size\n",
    "#matrix = scprep.filter.filter_library_size(matrix, cutoff=cutoff_var)\n",
    "#matrix.head()"
   ]
  },
  {
   "cell_type": "markdown",
   "id": "4c8bf7ba-ccd3-4091-9275-afd0937397f8",
   "metadata": {},
   "source": [
    "Note: Skipped normalization as data is already log-normalized"
   ]
  },
  {
   "cell_type": "code",
   "execution_count": null,
   "id": "c7db8993-dfd5-46a5-8dac-6af07dd77726",
   "metadata": {
    "tags": []
   },
   "outputs": [],
   "source": [
    "adata_EC.layers"
   ]
  },
  {
   "cell_type": "markdown",
   "id": "9280e05f-7ac5-4870-86b9-e1049371589b",
   "metadata": {},
   "source": [
    "### Creating the MAGIC operator\n",
    "If you don't specify parameters, MAGIC creates an operator with the following default values: knn=5, knn_max = 3 * knn, decay=1, t=3."
   ]
  },
  {
   "cell_type": "code",
   "execution_count": null,
   "id": "c37533ee-09b0-49bb-a90d-16b607eff9a1",
   "metadata": {
    "tags": []
   },
   "outputs": [],
   "source": [
    "magic_op = magic.MAGIC()"
   ]
  },
  {
   "cell_type": "markdown",
   "id": "f9e81c18-09cc-442f-a7ec-dd8a5337b9a2",
   "metadata": {},
   "source": [
    "### Running MAGIC with gene selection\n",
    "The magic_op.fit_transform function takes the normalized data and an array of selected genes as its arguments. If no genes are provided, MAGIC will return a matrix of all genes. The same can be achieved by substituting the array of gene names with genes='all_genes'."
   ]
  },
  {
   "cell_type": "code",
   "execution_count": null,
   "id": "20e2ceec-0931-4482-95a6-eeca70d6e1f3",
   "metadata": {
    "tags": []
   },
   "outputs": [],
   "source": [
    "%%time\n",
    "emt_magic = magic_op.fit_transform(adata_EC, genes=gg)"
   ]
  },
  {
   "cell_type": "markdown",
   "id": "8d3dfd9d-1dca-4916-b442-9feba21da60e",
   "metadata": {},
   "source": [
    "### Visualizing gene-gene relationships\n",
    "\n",
    "We can see gene-gene relationships much more clearly after applying MAGIC. Note that the change in absolute values of gene expression is not meaningful - the relative difference is all that matters."
   ]
  },
  {
   "cell_type": "code",
   "execution_count": null,
   "id": "dbc3eece-fde1-46b3-bcd5-d260c2a102d2",
   "metadata": {
    "tags": []
   },
   "outputs": [],
   "source": [
    "np.corrcoef(emt_magic[:,['FOXF2','FOXO1']].X, rowvar = False)[0][1]"
   ]
  },
  {
   "cell_type": "code",
   "execution_count": null,
   "id": "d572f363-776a-4f4c-bf00-c843c5715fc5",
   "metadata": {
    "tags": []
   },
   "outputs": [],
   "source": [
    "fig, (ax1, ax2) = plt.subplots(1,2, figsize=(16, 6))\n",
    "scprep.plot.scatter(x=adata_EC[:,'FOXF2'].X, y=adata_EC[:,'FOXO1'].X, c=adata_EC[:,'NOS3'].X, ax = ax1,\n",
    "                    xlabel='FOXF2', ylabel='FOXO1', legend_title=\"NOS3\", title='Before MAGIC')\n",
    "scprep.plot.scatter(x=emt_magic[:,'FOXF2'].X, y=emt_magic[:,'FOXO1'].X, c=emt_magic[:,'NOS3'].X, ax=ax2,\n",
    "                    xlabel='FOXF2', ylabel='FOXO1', legend_title=\"NOS3\", title='After MAGIC')\n",
    "plt.axline((0,0), slope=1, color=\"black\", alpha=0.3, linestyle=\"--\")\n",
    "plt.tight_layout()\n",
    "plt.show()"
   ]
  },
  {
   "cell_type": "markdown",
   "id": "2b50bbcc-d764-49b9-8cc0-d3173fd8239e",
   "metadata": {},
   "source": [
    "# Session Info"
   ]
  },
  {
   "cell_type": "code",
   "execution_count": null,
   "id": "1a654e01-2332-40b7-a5ee-74f2c7883f12",
   "metadata": {
    "tags": []
   },
   "outputs": [],
   "source": [
    "sc.logging.print_versions()"
   ]
  }
 ],
 "metadata": {
  "kernelspec": {
   "display_name": "Python 3 (ipykernel)",
   "language": "python",
   "name": "python3"
  },
  "language_info": {
   "codemirror_mode": {
    "name": "ipython",
    "version": 3
   },
   "file_extension": ".py",
   "mimetype": "text/x-python",
   "name": "python",
   "nbconvert_exporter": "python",
   "pygments_lexer": "ipython3"
  }
 },
 "nbformat": 4,
 "nbformat_minor": 5
}
