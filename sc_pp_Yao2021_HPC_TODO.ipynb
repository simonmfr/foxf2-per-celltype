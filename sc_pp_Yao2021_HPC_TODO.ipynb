{
 "cells": [
  {
   "cell_type": "markdown",
   "id": "9bfa00be-69ba-4146-aba2-818b967492c3",
   "metadata": {
    "jp-MarkdownHeadingCollapsed": true,
    "tags": []
   },
   "source": [
    "<font size=\"+3.8\">Scanpy single-cell pre-processing</font>  \n",
    "<font size=\"+1.5\"></font>  "
   ]
  },
  {
   "cell_type": "markdown",
   "id": "563f0b43-ce10-475f-b355-6fa8a2406dad",
   "metadata": {},
   "source": [
    "Aim: Preprocess mouse brain single-cell data from Yao 2021 Cell  \n",
    "Publication: https://pubmed.ncbi.nlm.nih.gov/34004146/"
   ]
  },
  {
   "cell_type": "code",
   "execution_count": null,
   "id": "c4f25c8a-47e9-48b5-af79-04fe44b4068d",
   "metadata": {},
   "outputs": [],
   "source": [
    "import numpy as np\n",
    "import pandas as pd\n",
    "import scanpy as sc\n",
    "import anndata\n",
    "import matplotlib.pyplot as plt\n",
    "import os\n",
    "from datetime import date\n",
    "from matplotlib.pyplot import rc_context"
   ]
  },
  {
   "cell_type": "code",
   "execution_count": null,
   "id": "fc7d8b45-6ec5-428f-89f2-08540e479ab8",
   "metadata": {},
   "outputs": [],
   "source": [
    "sc.settings.verbosity = 3"
   ]
  },
  {
   "cell_type": "code",
   "execution_count": null,
   "id": "3fd52f8c-ea1e-4f2c-809f-5515a5e2ced6",
   "metadata": {},
   "outputs": [],
   "source": [
    "main_dir='\\\\\\isdsynnas.srv.med.uni-muenchen.de\\BD-Dichgans\\SF' # Win"
   ]
  },
  {
   "cell_type": "code",
   "execution_count": null,
   "id": "25a2a754-60a9-44ef-a09b-a41ff1d80e43",
   "metadata": {},
   "outputs": [],
   "source": [
    "main_dir='/cluster2/sfrerich/jupyter/p6-foxf2-per-celltype/data' # HPC"
   ]
  },
  {
   "cell_type": "markdown",
   "id": "d75da520-0b28-417d-877e-f167db41ef30",
   "metadata": {},
   "source": [
    "# Load data"
   ]
  },
  {
   "cell_type": "markdown",
   "id": "00e3b5cb-f957-4175-aedf-471b195dfb60",
   "metadata": {
    "tags": []
   },
   "source": [
    "## Annotated \n",
    "Downloaded from: https://portal.brain-map.org/atlases-and-data/rnaseq/mouse-whole-cortex-and-hippocampus-10x (02/2023)\n",
    "\n",
    "(ucsc h5ad tsv file too large to read in one https://cells.ucsc.edu/?ds=allen-celltypes+mouse-cortex+mouse-cortex-2020)"
   ]
  },
  {
   "cell_type": "code",
   "execution_count": null,
   "id": "1eeab573-cdcc-4f9d-968d-81aaa8d062d4",
   "metadata": {},
   "outputs": [],
   "source": [
    "# #%%time\n",
    "# ad = pd.read_hdf(main_dir+\"/P6_vasc_scRNAseq/Yao_2021_ABA/aba/expression_matrix.hdf5\", key='data')#.transpose()\n",
    "# # wrong format"
   ]
  },
  {
   "cell_type": "code",
   "execution_count": null,
   "id": "59e3ca6d-367c-468b-857b-ca066c091c98",
   "metadata": {},
   "outputs": [],
   "source": [
    "# %%time\n",
    "# \n",
    "# # too largead = sc.read_csv(main_dir+\"/P6_vasc_scRNAseq/Yao_2021_ABA/ucsc_cellbrowser_data/exprMatrix.tsv.gz\", delimiter=\"\\t\") #.transpose()"
   ]
  },
  {
   "cell_type": "code",
   "execution_count": null,
   "id": "4ae42634-75e2-4160-8762-1bab37bb8227",
   "metadata": {},
   "outputs": [],
   "source": [
    "import h5py\n",
    "f = h5py.File(main_dir+\"/P6_vasc_scRNAseq/Yao_2021_ABA/aba/expression_matrix.hdf5\", 'r')"
   ]
  },
  {
   "cell_type": "code",
   "execution_count": null,
   "id": "6c7666cd-ff84-48d7-ba96-e4ebc0719385",
   "metadata": {},
   "outputs": [],
   "source": [
    "f"
   ]
  },
  {
   "cell_type": "code",
   "execution_count": null,
   "id": "f2f50ab9-85de-4608-8ee5-a4188bffe071",
   "metadata": {},
   "outputs": [],
   "source": [
    "list(f.keys())"
   ]
  },
  {
   "cell_type": "code",
   "execution_count": null,
   "id": "54ad48c1-5d64-48ef-b2f9-a293e5d76516",
   "metadata": {},
   "outputs": [],
   "source": [
    "dset = f['data']\n",
    "dset"
   ]
  },
  {
   "cell_type": "code",
   "execution_count": null,
   "id": "c45e1578-853f-483d-b545-f35a33bfcfc9",
   "metadata": {},
   "outputs": [],
   "source": [
    "list(dset.keys())"
   ]
  },
  {
   "cell_type": "code",
   "execution_count": null,
   "id": "2153800e-e06e-486f-a6e5-f158040dbfa2",
   "metadata": {},
   "outputs": [],
   "source": []
  },
  {
   "cell_type": "code",
   "execution_count": null,
   "id": "d65cbe8f-e526-43c5-a86d-473c3bf4c001",
   "metadata": {},
   "outputs": [],
   "source": [
    "counts = dset['counts']\n",
    "counts"
   ]
  },
  {
   "cell_type": "code",
   "execution_count": null,
   "id": "18a38f35-4fed-4897-8e80-ff68d767b189",
   "metadata": {},
   "outputs": [],
   "source": [
    "counts.shape"
   ]
  },
  {
   "cell_type": "code",
   "execution_count": null,
   "id": "1686510e-fa98-479f-911c-9bdb186db038",
   "metadata": {},
   "outputs": [],
   "source": [
    "counts.dtype"
   ]
  },
  {
   "cell_type": "code",
   "execution_count": null,
   "id": "78dcc897-590d-4d29-8bc8-8446c17d43d8",
   "metadata": {},
   "outputs": [],
   "source": [
    "counts[0]"
   ]
  },
  {
   "cell_type": "code",
   "execution_count": null,
   "id": "f88ec497-ac33-4bb6-a939-f84e4c5b3b3e",
   "metadata": {},
   "outputs": [],
   "source": [
    "counts # needs transposition"
   ]
  },
  {
   "cell_type": "code",
   "execution_count": null,
   "id": "0cd412e5-4630-4f9b-9b0d-6ea4c011c7e7",
   "metadata": {},
   "outputs": [],
   "source": []
  },
  {
   "cell_type": "code",
   "execution_count": null,
   "id": "dafaba64-8538-4e70-94d3-6d508b2aa227",
   "metadata": {},
   "outputs": [],
   "source": [
    "gene = dset['gene']\n",
    "gene"
   ]
  },
  {
   "cell_type": "code",
   "execution_count": null,
   "id": "e2f1e445-8f05-406d-a3ef-bc0ee2a92289",
   "metadata": {},
   "outputs": [],
   "source": [
    "gene.shape"
   ]
  },
  {
   "cell_type": "code",
   "execution_count": null,
   "id": "975002b9-b575-4beb-b849-7dc2c428e8de",
   "metadata": {},
   "outputs": [],
   "source": [
    "gene[0:10]"
   ]
  },
  {
   "cell_type": "code",
   "execution_count": null,
   "id": "57a00316-e69d-4e3e-a6ec-4be9d8d55741",
   "metadata": {},
   "outputs": [],
   "source": []
  },
  {
   "cell_type": "code",
   "execution_count": null,
   "id": "a5a93be5-9db7-4663-962c-f091831139d7",
   "metadata": {},
   "outputs": [],
   "source": [
    "samples = dset['samples']\n",
    "samples"
   ]
  },
  {
   "cell_type": "code",
   "execution_count": null,
   "id": "94348ca9-287d-4c74-b7d0-57b1134aaf4b",
   "metadata": {},
   "outputs": [],
   "source": [
    "samples.shape"
   ]
  },
  {
   "cell_type": "code",
   "execution_count": null,
   "id": "25af4072-9404-4933-a2a7-633f7326605a",
   "metadata": {},
   "outputs": [],
   "source": [
    "samples[80000:80003]"
   ]
  },
  {
   "cell_type": "code",
   "execution_count": null,
   "id": "68b222b9-845c-40d5-97f8-44f187019dc2",
   "metadata": {},
   "outputs": [],
   "source": []
  },
  {
   "cell_type": "code",
   "execution_count": null,
   "id": "50f8a1ed-e65a-4a47-b796-2b372ec37920",
   "metadata": {},
   "outputs": [],
   "source": [
    "gene = pd.DataFrame(np.array(gene))[0].astype(str).str.extract(\"b\\'(.*)\\'\")"
   ]
  },
  {
   "cell_type": "code",
   "execution_count": null,
   "id": "27681ad1-4cb6-4605-8c79-27912ec9cd08",
   "metadata": {},
   "outputs": [],
   "source": [
    "samples = pd.DataFrame(np.array(samples))[0].astype(str).str.extract(\"b\\'(.*)\\'\")"
   ]
  },
  {
   "cell_type": "code",
   "execution_count": null,
   "id": "fccbf860-0c25-409d-95c3-1f2063c6a0a7",
   "metadata": {},
   "outputs": [],
   "source": []
  },
  {
   "cell_type": "code",
   "execution_count": null,
   "id": "07bfbc9e-5e70-4696-a60e-e9eeeaecca04",
   "metadata": {},
   "outputs": [],
   "source": []
  },
  {
   "cell_type": "code",
   "execution_count": null,
   "id": "9bdf64cd-cc17-4616-80a6-2ae5527f8237",
   "metadata": {},
   "outputs": [],
   "source": [
    "adata = sc.AnnData(counts, \n",
    "        obs=samples, var=gene)"
   ]
  },
  {
   "cell_type": "code",
   "execution_count": null,
   "id": "e4c30044-627a-48ca-ad2a-80e602aba457",
   "metadata": {},
   "outputs": [],
   "source": []
  },
  {
   "cell_type": "code",
   "execution_count": null,
   "id": "a3ec17c4-4a7e-46e4-935e-a64eaa3ade1d",
   "metadata": {},
   "outputs": [],
   "source": [
    "# load, transpose, and append to adata object in chunks"
   ]
  },
  {
   "cell_type": "code",
   "execution_count": null,
   "id": "72543f70-5b68-4d2d-a718-0e3152df6abd",
   "metadata": {},
   "outputs": [],
   "source": [
    "adata = AnnData(chunked=True)\n",
    "\n",
    "# Set the obs and var attributes of the AnnData object\n",
    "adata.obs = samples\n",
    "adata.var = gene\n",
    "\n",
    "# Iterate over the chunks and set the X attribute\n",
    "for i in range(0, counts.shape[1], 100000):\n",
    "    chunk = counts[:, i:i+100000]\n",
    "    adata.chunked.X[i:i+100000] = chunk"
   ]
  },
  {
   "cell_type": "code",
   "execution_count": null,
   "id": "d0ba9a17-fe10-494e-b20f-d19380a5162a",
   "metadata": {},
   "outputs": [],
   "source": [
    "# Create the AnnData object with empty X, obs, and var\n",
    "adata = AnnData(X=None, obs=samples, var=gene)\n",
    "\n",
    "# Set the shape of the X attribute based on counts\n",
    "adata._shape = counts.shape\n",
    "\n",
    "# Iterate over the chunks and set the X attribute\n",
    "for i in range(0, counts.shape[1], 100000):\n",
    "    chunk = counts[:, i:i+100000]\n",
    "    adata._chunked_X[i:i+100000] = chunk\n",
    "\n",
    "# Update n_obs and n_vars based on the shape of X\n",
    "adata.n_obs, adata.n_vars = adata.shape\n"
   ]
  },
  {
   "cell_type": "code",
   "execution_count": null,
   "id": "7aad6a88-4586-4e64-b3e1-3bb7e4fd8bcd",
   "metadata": {},
   "outputs": [],
   "source": [
    "adata"
   ]
  },
  {
   "cell_type": "code",
   "execution_count": null,
   "id": "d9e4d513-2327-4a0c-a25e-071143a28e9c",
   "metadata": {},
   "outputs": [],
   "source": []
  },
  {
   "cell_type": "code",
   "execution_count": null,
   "id": "e8db57f0-5e4c-49ca-942f-9b49869b12c3",
   "metadata": {},
   "outputs": [],
   "source": []
  },
  {
   "cell_type": "code",
   "execution_count": null,
   "id": "26686476-9794-4358-9cb8-52010157f808",
   "metadata": {},
   "outputs": [],
   "source": []
  },
  {
   "cell_type": "code",
   "execution_count": null,
   "id": "c202af82-6399-4d9d-8b18-56d2c25cd3da",
   "metadata": {},
   "outputs": [],
   "source": [
    "adata = sc.AnnData(counts[:,0:10].T, \n",
    "        obs=samples[0:10], var=gene)"
   ]
  },
  {
   "cell_type": "code",
   "execution_count": null,
   "id": "e0f25e7d-256b-43a7-969a-b79bfc99d234",
   "metadata": {},
   "outputs": [],
   "source": [
    "adata"
   ]
  },
  {
   "cell_type": "code",
   "execution_count": null,
   "id": "5abd0a6e-c37d-4ecc-98cc-af66fc5eccf4",
   "metadata": {},
   "outputs": [],
   "source": [
    "adata.obs.head()"
   ]
  },
  {
   "cell_type": "code",
   "execution_count": null,
   "id": "0d75dd2f-a7c0-40d9-85e5-98edec573230",
   "metadata": {},
   "outputs": [],
   "source": [
    "pd.set_option('display.max_columns', None)  "
   ]
  },
  {
   "cell_type": "code",
   "execution_count": null,
   "id": "0e767d78-75ec-43fd-af08-ce312e8b8be2",
   "metadata": {},
   "outputs": [],
   "source": [
    "meta = pd.read_csv(main_dir+\"/P6_vasc_scRNAseq/Yao_2021_ABA/aba/metadata.csv\")\n",
    "meta.head()"
   ]
  },
  {
   "cell_type": "code",
   "execution_count": null,
   "id": "dcf37a9b-3e1f-4bd0-9542-9a35fba26f54",
   "metadata": {},
   "outputs": [],
   "source": [
    "pd.value_counts(meta.class_label)"
   ]
  },
  {
   "cell_type": "code",
   "execution_count": null,
   "id": "ff376f5e-fdc5-47ef-8222-4d899c39aa67",
   "metadata": {},
   "outputs": [],
   "source": [
    "pd.value_counts(meta.subclass_label)"
   ]
  },
  {
   "cell_type": "markdown",
   "id": "19980827-12d1-4dc3-b80c-e1eeac3f54da",
   "metadata": {},
   "source": [
    "Very few non-neuronal cells!"
   ]
  }
 ],
 "metadata": {
  "kernelspec": {
   "display_name": "Python 3 (ipykernel)",
   "language": "python",
   "name": "python3"
  },
  "language_info": {
   "codemirror_mode": {
    "name": "ipython",
    "version": 3
   },
   "file_extension": ".py",
   "mimetype": "text/x-python",
   "name": "python",
   "nbconvert_exporter": "python",
   "pygments_lexer": "ipython3"
  }
 },
 "nbformat": 4,
 "nbformat_minor": 5
}
