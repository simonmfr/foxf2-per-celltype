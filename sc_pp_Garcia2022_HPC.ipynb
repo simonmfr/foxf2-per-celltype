{
 "cells": [
  {
   "cell_type": "markdown",
   "id": "9bfa00be-69ba-4146-aba2-818b967492c3",
   "metadata": {
    "jp-MarkdownHeadingCollapsed": true,
    "tags": []
   },
   "source": [
    "<font size=\"+3.8\">Scanpy single-cell pre-processing</font>  \n",
    "<font size=\"+1.5\"></font>  "
   ]
  },
  {
   "cell_type": "markdown",
   "id": "563f0b43-ce10-475f-b355-6fa8a2406dad",
   "metadata": {},
   "source": [
    "Aim: Preprocess human brain single-cell data from Garcia 2022 Nature  \n",
    "Publication: https://www.nature.com/articles/s41586-022-04521-7\n",
    "\n",
    "Also see https://nsun.shinyapps.io/scbbb/ (only showing ex-vivo dataset)"
   ]
  },
  {
   "cell_type": "code",
   "execution_count": null,
   "id": "10290cf4-3888-40f9-bfb4-46a85f305035",
   "metadata": {},
   "outputs": [],
   "source": [
    "import datetime\n",
    "datetime.date.today().strftime('%d/%m/%Y')"
   ]
  },
  {
   "cell_type": "code",
   "execution_count": null,
   "id": "b5e8ff37-d033-4087-87ed-a7519bda7f6b",
   "metadata": {},
   "outputs": [],
   "source": [
    "import os\n",
    "os.getlogin()"
   ]
  },
  {
   "cell_type": "code",
   "execution_count": null,
   "id": "c29c6eb1-1b35-40b0-a783-2a9ef5848aeb",
   "metadata": {},
   "outputs": [],
   "source": [
    "import sys\n",
    "import fnmatch "
   ]
  },
  {
   "cell_type": "code",
   "execution_count": null,
   "id": "3f459d87-8e7b-4a57-acea-271146778cdc",
   "metadata": {},
   "outputs": [],
   "source": [
    "import anndata\n",
    "import scanpy as sc\n",
    "import scipy as sci\n",
    "#sc.logging.print_versions()"
   ]
  },
  {
   "cell_type": "code",
   "execution_count": null,
   "id": "39ca0d12-9b54-487f-a030-35de9d60e750",
   "metadata": {},
   "outputs": [],
   "source": [
    "sc.settings.verbosity = 3"
   ]
  },
  {
   "cell_type": "code",
   "execution_count": null,
   "id": "176c986f-1bbf-482c-af3e-d90bca005760",
   "metadata": {},
   "outputs": [],
   "source": [
    "#import loompy"
   ]
  },
  {
   "cell_type": "code",
   "execution_count": null,
   "id": "3607c601-2607-40e6-98f4-be7aaf7ad034",
   "metadata": {},
   "outputs": [],
   "source": [
    "import numpy as np\n",
    "import scipy as sp\n",
    "import pandas as pd\n",
    "import matplotlib.pyplot as plt\n",
    "from matplotlib import rcParams\n",
    "from matplotlib import colors\n",
    "import seaborn as sb\n",
    "now = datetime.datetime.now()\n",
    "today = now.strftime(\"%Y%m%d\")"
   ]
  },
  {
   "cell_type": "code",
   "execution_count": null,
   "id": "c40e61ce-d1f0-41ee-b962-b66e56c3e861",
   "metadata": {},
   "outputs": [],
   "source": [
    "from matplotlib.pyplot import rc_context"
   ]
  },
  {
   "cell_type": "code",
   "execution_count": null,
   "id": "262fe21b-ea1f-4195-9050-324e04192749",
   "metadata": {},
   "outputs": [],
   "source": [
    "os.getcwd()"
   ]
  },
  {
   "cell_type": "code",
   "execution_count": null,
   "id": "7f7e0b73-b14a-4aad-ac08-104774ea0b36",
   "metadata": {},
   "outputs": [],
   "source": [
    "main_dir='/run/user/1000/gvfs/smb-share:server=138.245.4.35,share=bd-dichgans/SF' # Linux\n",
    "main_dir='\\\\\\isdsynnas.srv.med.uni-muenchen.de\\BD-Dichgans\\SF' # Win"
   ]
  },
  {
   "cell_type": "code",
   "execution_count": null,
   "id": "7467633a-ccaa-4d23-986f-b5d690fefad0",
   "metadata": {},
   "outputs": [],
   "source": [
    "main_dir='/cluster2/sfrerich/jupyter/p6-foxf2-per-celltype/data' # HPC"
   ]
  },
  {
   "cell_type": "markdown",
   "id": "d75da520-0b28-417d-877e-f167db41ef30",
   "metadata": {},
   "source": [
    "# Load data"
   ]
  },
  {
   "cell_type": "markdown",
   "id": "f227063e-61fd-48c2-82ec-8088f8f2953d",
   "metadata": {},
   "source": [
    "Downloaded from http://compbio.mit.edu/scBBB/ (27/02/2023)"
   ]
  },
  {
   "cell_type": "code",
   "execution_count": null,
   "id": "3f5cda31-af2e-428d-a89d-cfcb35503bf7",
   "metadata": {},
   "outputs": [],
   "source": [
    "# Turn rds to tsv on HPC\n",
    "# /opt/R/4.0.0/bin/R\n",
    "# library(data.table)\n",
    "# \n",
    "# main <- \"/cluster2/sfrerich/jupyter/p6-foxf2-per-celltype/data/P6_vasc_scRNAseq/\"\n",
    "# \n",
    "# f <- readRDS(paste0(main, 'Garcia2022/preprocessed/brain.BBB.human.counts.rds'))\n",
    "# f <- readRDS(paste0(main, 'Garcia2022/brain.BBB.human.counts.GEOsubmission.rds'))\n",
    "# f <- readRDS(paste0(main, 'Garcia2022/ROSMAP.VascularCells.counts.rds'))\n",
    "# m <- readRDS(paste0(main, 'Garcia2022/brain.BBB.human.meta.GEOsubmission.rds')) # export directly\n",
    "# \n",
    "# fd <- as.data.table(as.matrix(f))\n",
    "# rownames(fd) <- as.data.frame(f@Dimnames[1])[,1] # dense\n",
    "# colnames(fd) <- as.data.frame(f@Dimnames[2])[,1]\n",
    "# \n",
    "# fwrite(fd, paste0(main, 'Garcia2022/preprocessed/brain.BBB.human.counts.tsv'), sep=\"\\t\", row.names=TRUE, col.names=TRUE)\n",
    "# fwrite(fd, paste0(main, 'Garcia2022/brain.BBB.human.counts.GEOsubmission.tsv'), sep=\"\\t\", row.names=TRUE, col.names=TRUE)\n",
    "# fwrite(fd, paste0(main, 'Garcia2022/ROSMAP.VascularCells.counts.tsv'), sep=\"\\t\", row.names=TRUE, col.names=TRUE)\n",
    "# fwrite(m, paste0(main, 'Garcia2022/brain.BBB.human.meta.GEOsubmission.txt'), sep=\"\\t\", col.names=TRUE)"
   ]
  },
  {
   "cell_type": "code",
   "execution_count": null,
   "id": "d42243d4-6353-42bb-a3e5-18dc57dabafc",
   "metadata": {},
   "outputs": [],
   "source": []
  },
  {
   "cell_type": "code",
   "execution_count": null,
   "id": "77569b54-0d70-4111-9634-b6c68c8d00a7",
   "metadata": {},
   "outputs": [],
   "source": [
    "# from base folder\n",
    "# not annotated / not used"
   ]
  },
  {
   "cell_type": "code",
   "execution_count": null,
   "id": "f8b48d16-6a35-4d92-af33-d23433043148",
   "metadata": {},
   "outputs": [],
   "source": [
    "# ad = sc.read_csv(main_dir+\"/P6_vasc_scRNAseq/Garcia2022/brain.BBB.human.counts.GEOsubmission.tsv\", delimiter=\"\\t\").transpose()"
   ]
  },
  {
   "cell_type": "code",
   "execution_count": null,
   "id": "a9d9d5ae-4ad5-4f94-a4f9-96bdca897f0a",
   "metadata": {},
   "outputs": [],
   "source": [
    "#ad"
   ]
  },
  {
   "cell_type": "code",
   "execution_count": null,
   "id": "38bd55f6-8ef3-41b1-aa1d-1acb4ba5e4ed",
   "metadata": {},
   "outputs": [],
   "source": [
    "# meta = pd.read_csv(main_dir+'/P6_vasc_scRNAseq/Garcia2022/brain.BBB.human.meta.GEOsubmission.txt', sep='\\t')\n",
    "# meta.head(2)"
   ]
  },
  {
   "cell_type": "markdown",
   "id": "785b3d4e-7bb7-413f-9b59-00166282c985",
   "metadata": {},
   "source": [
    "## ROSMAP dataset"
   ]
  },
  {
   "cell_type": "markdown",
   "id": "92ffd427-cdbd-431c-ad80-7edc56484f96",
   "metadata": {},
   "source": [
    "Nonpathological post-mortem brains"
   ]
  },
  {
   "cell_type": "code",
   "execution_count": null,
   "id": "a0230755-34c1-4e17-af88-dbb5f6a22384",
   "metadata": {},
   "outputs": [],
   "source": [
    "# from base folder: ROSMAP study / annotated, vascular cells only"
   ]
  },
  {
   "cell_type": "code",
   "execution_count": null,
   "id": "f364cb31-21c2-4623-9835-cb87c64607e8",
   "metadata": {},
   "outputs": [],
   "source": [
    "main_dir"
   ]
  },
  {
   "cell_type": "code",
   "execution_count": null,
   "id": "801bf680-9b7d-4842-ac98-497a7a45dd4d",
   "metadata": {},
   "outputs": [],
   "source": [
    "ad_ROSMAP = sc.read_csv(main_dir+\"/P06_vasc_scRNAseq/Garcia2022/ROSMAP.VascularCells.counts.tsv\", delimiter=\"\\t\").transpose()\n"
   ]
  },
  {
   "cell_type": "code",
   "execution_count": null,
   "id": "380e4698-0329-46b6-81f6-fce1b051b7ae",
   "metadata": {},
   "outputs": [],
   "source": [
    "ad_ROSMAP.obs_names_make_unique()\n",
    "ad_ROSMAP.var_names_make_unique()"
   ]
  },
  {
   "cell_type": "code",
   "execution_count": null,
   "id": "76082879-a443-49bc-b750-c0361d5d40a7",
   "metadata": {},
   "outputs": [],
   "source": [
    "ad_ROSMAP"
   ]
  },
  {
   "cell_type": "code",
   "execution_count": null,
   "id": "b5881d20-7563-4be0-bbe2-ee86a6bde65b",
   "metadata": {},
   "outputs": [],
   "source": [
    "ad_ROSMAP.obs.head()"
   ]
  },
  {
   "cell_type": "code",
   "execution_count": null,
   "id": "b94a7678-2113-42b3-8b64-8146d05756d5",
   "metadata": {},
   "outputs": [],
   "source": [
    "meta_ROSMAP = pd.read_csv(main_dir+'/P06_vasc_scRNAseq/Garcia2022/ROSMAP.VascularCells.meta.txt', sep='\\t')\n",
    "meta_ROSMAP.head(2)"
   ]
  },
  {
   "cell_type": "code",
   "execution_count": null,
   "id": "170b1f25-b13d-4b3e-b1da-0cf4aa698d2e",
   "metadata": {},
   "outputs": [],
   "source": [
    "pd.value_counts(meta_ROSMAP.celltype)"
   ]
  },
  {
   "cell_type": "code",
   "execution_count": null,
   "id": "e7901c59-496e-4b58-8059-b5b2a357639b",
   "metadata": {},
   "outputs": [],
   "source": [
    "pd.value_counts(meta_ROSMAP.subtype)"
   ]
  },
  {
   "cell_type": "code",
   "execution_count": null,
   "id": "d0699976-b9b6-4390-8e76-3e751728ca00",
   "metadata": {},
   "outputs": [],
   "source": [
    "ad_ROSMAP.obs = ad_ROSMAP.obs.join(meta_ROSMAP)"
   ]
  },
  {
   "cell_type": "markdown",
   "id": "809021c4-e309-42e5-a302-d186956f188c",
   "metadata": {
    "tags": []
   },
   "source": [
    "Check if data is normalized:"
   ]
  },
  {
   "cell_type": "code",
   "execution_count": null,
   "id": "1a215498-a9d2-4518-aa84-cbdda5ccc0df",
   "metadata": {},
   "outputs": [],
   "source": [
    "ad_ROSMAP.layers"
   ]
  },
  {
   "cell_type": "code",
   "execution_count": null,
   "id": "e5f790c5-5acb-4dc4-9318-71be704c8e36",
   "metadata": {},
   "outputs": [],
   "source": [
    "ad_ROSMAP.X"
   ]
  },
  {
   "cell_type": "code",
   "execution_count": null,
   "id": "fdd6a190-d276-4933-8634-fc7a9e9c01d2",
   "metadata": {},
   "outputs": [],
   "source": [
    "# show expression of 100 random genes (across all spots)\n",
    "import random\n",
    "import seaborn as sns\n",
    "random_genes=random.sample(range(0, ad_ROSMAP.X.shape[1]), 100)\n",
    "adata_sub = ad_ROSMAP[:,random_genes]\n",
    "exp=pd.DataFrame(np.matrix(adata_sub.X))\n",
    "# plot\n",
    "pl1=sns.displot(data=pd.melt(exp),x='value',height=4,hue='variable',kind=\"kde\",warn_singular=False,legend=False,palette=list(np.repeat('#086da6',100)), lw=0.3) # genes with 0 expression are excluded\n",
    "pl1.set(xlim=(-0.5, 7),ylim=(0,0.007))\n",
    "sns.set_theme(style='white')\n",
    "plt.show()"
   ]
  },
  {
   "cell_type": "code",
   "execution_count": null,
   "id": "5edf3215-0660-4235-99ff-5734cd5e3a79",
   "metadata": {},
   "outputs": [],
   "source": [
    "sns.set(rc={'figure.figsize':(4,4)})\n",
    "sns.set_theme(style='white')\n",
    "pl=sns.histplot(data=pd.melt(exp),x='value',binwidth=0.5,legend=True,palette=list(np.repeat('#086da6',100)))\n",
    "pl.set(xlim=(0, 10));\n",
    "plt.show()"
   ]
  },
  {
   "cell_type": "markdown",
   "id": "822c438f-8d4f-4f30-8fcb-8503247b8568",
   "metadata": {},
   "source": [
    "Data is not normalized, therefore normalize and log-transform"
   ]
  },
  {
   "cell_type": "code",
   "execution_count": null,
   "id": "13b84bbf-117a-42cc-bf1c-74c43cef931c",
   "metadata": {},
   "outputs": [],
   "source": [
    "ad_ROSMAP.layers[\"counts\"] = ad_ROSMAP.X.copy() # save unnormalized raw RNA counts - retrieve via ad.X = ad.layers[\"counts\"]"
   ]
  },
  {
   "cell_type": "code",
   "execution_count": null,
   "id": "60a78a13-9cc7-4ec1-b62a-b92cdc9e7901",
   "metadata": {},
   "outputs": [],
   "source": [
    "sc.pp.normalize_total(ad_ROSMAP, inplace=True) # Normalize each spot by total counts over all genes, so that every cell has the same total count after normalization."
   ]
  },
  {
   "cell_type": "code",
   "execution_count": null,
   "id": "afd8602c-010e-4ad4-8af1-282fb65018b5",
   "metadata": {},
   "outputs": [],
   "source": [
    "# show expression of 100 random genes (across all spots)\n",
    "adata_sub = ad_ROSMAP[:,random_genes]\n",
    "exp=pd.DataFrame(np.matrix(adata_sub.X))\n",
    "# plot\n",
    "pl=sns.displot(data=pd.melt(exp),x='value',height=4,hue='variable',kind=\"kde\",warn_singular=False,legend=False,palette=list(np.repeat('#086da6',100)), lw=0.3) # genes with 0 expression are excluded\n",
    "pl.set(xlim=(-0.25, 3.5),ylim=(0,0.005))\n",
    "plt.show()"
   ]
  },
  {
   "cell_type": "code",
   "execution_count": null,
   "id": "2118b38e-dfd2-4d8f-94f5-ea223755e80c",
   "metadata": {},
   "outputs": [],
   "source": [
    "pl=sns.histplot(data=pd.melt(exp),x='value',binwidth=0.5,legend=True,palette=list(np.repeat('#086da6',100)))\n",
    "pl.set(xlim=(0, 10))\n",
    "plt.show()"
   ]
  },
  {
   "cell_type": "code",
   "execution_count": null,
   "id": "82d33fce-91c9-416a-88c0-3b86cff78ee7",
   "metadata": {},
   "outputs": [],
   "source": [
    "sc.pp.log1p(ad_ROSMAP) # X = log(X + 1)"
   ]
  },
  {
   "cell_type": "code",
   "execution_count": null,
   "id": "62514897-01cd-4ea1-94fb-35c86d2927fb",
   "metadata": {},
   "outputs": [],
   "source": [
    "# show expression of 100 random genes (across all spots)\n",
    "adata_sub = ad_ROSMAP[:,random_genes]\n",
    "exp=pd.DataFrame(np.matrix(adata_sub.X))\n",
    "# plot\n",
    "pl=sns.displot(data=pd.melt(exp),x='value',height=4,hue='variable',kind=\"kde\",warn_singular=False,legend=False,palette=list(np.repeat('#086da6',100)), lw=0.5) # genes with 0 expression are excluded\n",
    "pl.set(xlim=(-0.25, 3.5),ylim=(0,0.005));\n",
    "plt.show()"
   ]
  },
  {
   "cell_type": "code",
   "execution_count": null,
   "id": "f0cbea5c-5161-41f1-bed5-7214124d246f",
   "metadata": {},
   "outputs": [],
   "source": [
    "pl=sns.histplot(data=pd.melt(exp),x='value',binwidth=0.5,legend=True,palette=list(np.repeat('#086da6',100)));\n",
    "pl.set(xlim=(0, 10));\n",
    "plt.show()"
   ]
  },
  {
   "cell_type": "code",
   "execution_count": null,
   "id": "31eceb39-876e-43ec-b2fc-16853feb1e12",
   "metadata": {},
   "outputs": [],
   "source": [
    "ad_ROSMAP.layers[\"normalized\"] = ad_ROSMAP.X.copy() # retrieve via adata.X = adata.layers[\"normalized\"]"
   ]
  },
  {
   "cell_type": "code",
   "execution_count": null,
   "id": "26400a09-ec13-443c-a9c6-62fbed1a01d3",
   "metadata": {},
   "outputs": [],
   "source": [
    "# Identify highly-variable genes\n",
    "sc.pp.highly_variable_genes(ad_ROSMAP)\n",
    "sc.pl.highly_variable_genes(ad_ROSMAP)"
   ]
  },
  {
   "cell_type": "code",
   "execution_count": null,
   "id": "6cb68027-23ea-47ef-84bf-6d1f2b0f6738",
   "metadata": {},
   "outputs": [],
   "source": [
    "ad_ROSMAP"
   ]
  },
  {
   "cell_type": "code",
   "execution_count": null,
   "id": "11919b59-cd79-4010-b15e-564f4315de96",
   "metadata": {},
   "outputs": [],
   "source": [
    "ad_ROSMAP.layers"
   ]
  },
  {
   "cell_type": "code",
   "execution_count": null,
   "id": "d407888c-2799-4888-bca8-6b162d6f2483",
   "metadata": {},
   "outputs": [],
   "source": [
    "pd.value_counts(meta_ROSMAP.celltype)"
   ]
  },
  {
   "cell_type": "code",
   "execution_count": null,
   "id": "98bf9a65-4acc-4716-ab7d-e8ef3efe5742",
   "metadata": {},
   "outputs": [],
   "source": [
    "# Renaming\n",
    "old_to_new = {'aEndo':'aECs',\n",
    "              'capEndo':'capECs',\n",
    "              'vEndo':'vECs',\n",
    "              'Per1':'Pericytes',\n",
    "              'Per2':'Pericytes',\n",
    "              'Per3':'Pericytes',\n",
    "              'Fib1':'Fibroblasts',\n",
    "              'Fib2':'Fibroblasts',\n",
    "              'Fib3':'Fibroblasts',\n",
    "              'aSMC':'SMCs',\n",
    "              'vSMC':'SMCs'}\n",
    "ad_ROSMAP.obs['clusters2'] = (ad_ROSMAP.obs['subtype'].map(old_to_new).astype('category'))"
   ]
  },
  {
   "cell_type": "code",
   "execution_count": null,
   "id": "c2fe2c3a-f2cc-4cce-af0d-22baf92171c9",
   "metadata": {},
   "outputs": [],
   "source": [
    "# Renaming\n",
    "old_to_new = {'Endo':'ECs',\n",
    "              'Per':'Pericytes',\n",
    "              'Fib':'Fibroblasts',\n",
    "              'SMC':'SMCs'}\n",
    "ad_ROSMAP.obs['clusters'] = (ad_ROSMAP.obs['celltype'].map(old_to_new).astype('category'))"
   ]
  },
  {
   "cell_type": "markdown",
   "id": "dfc4811e-bf9f-4018-b107-677addf6591d",
   "metadata": {},
   "source": [
    "### Dim Reduction"
   ]
  },
  {
   "cell_type": "markdown",
   "id": "9f065118-5d2c-4eba-9b7c-58c448cf1031",
   "metadata": {},
   "source": [
    "Nonpathological post-mortem brains"
   ]
  },
  {
   "cell_type": "code",
   "execution_count": null,
   "id": "e98048a7-ffb9-4f02-b9e5-3abc89a4e56f",
   "metadata": {},
   "outputs": [],
   "source": [
    "sc.tl.pca(ad_ROSMAP)\n",
    "sc.pl.pca_variance_ratio(ad_ROSMAP)"
   ]
  },
  {
   "cell_type": "code",
   "execution_count": null,
   "id": "c9fd0eaa-4d72-40c4-b123-02884742b553",
   "metadata": {},
   "outputs": [],
   "source": [
    "sc.pp.neighbors(ad_ROSMAP)\n",
    "sc.tl.umap(ad_ROSMAP)"
   ]
  },
  {
   "cell_type": "code",
   "execution_count": null,
   "id": "950c30ef-ce2b-4a12-92cb-352623246de4",
   "metadata": {},
   "outputs": [],
   "source": [
    "sc.pl.umap(ad_ROSMAP, color=['clusters','clusters2'], wspace=0.5)"
   ]
  },
  {
   "cell_type": "code",
   "execution_count": null,
   "id": "501764be-cf8c-4a33-a906-0ce1c941ec27",
   "metadata": {},
   "outputs": [],
   "source": [
    "ad_ROSMAP.obs.clusters2.value_counts()"
   ]
  },
  {
   "cell_type": "markdown",
   "id": "b4a002cc-53e4-4ed5-99ab-869dfc2344de",
   "metadata": {},
   "source": [
    "### Marker genes"
   ]
  },
  {
   "cell_type": "code",
   "execution_count": null,
   "id": "b5515589-59eb-4661-a0ae-e8369f9640e3",
   "metadata": {},
   "outputs": [],
   "source": [
    "sc.tl.rank_genes_groups(ad_ROSMAP, 'clusters', method='wilcoxon')"
   ]
  },
  {
   "cell_type": "code",
   "execution_count": null,
   "id": "8430c047-07e2-436a-a44b-61bbd8f7b5f1",
   "metadata": {},
   "outputs": [],
   "source": [
    "sc.pl.rank_genes_groups_dotplot(ad_ROSMAP,n_genes=7)"
   ]
  },
  {
   "cell_type": "code",
   "execution_count": null,
   "id": "6e93219c-973b-47bb-9999-c92ac8ab45cc",
   "metadata": {},
   "outputs": [],
   "source": []
  },
  {
   "cell_type": "markdown",
   "id": "32312af4-0713-4c31-b5b3-20f9d614c75b",
   "metadata": {
    "tags": []
   },
   "source": [
    "### Vascular marker genes"
   ]
  },
  {
   "cell_type": "code",
   "execution_count": null,
   "id": "bb6cf11e-57ed-483f-97bc-f8cf9c1bfd6e",
   "metadata": {},
   "outputs": [],
   "source": [
    "# Basic QC metrics\n",
    "ad_ROSMAP.var['mt'] = ad_ROSMAP.var_names.str.startswith('MT-') \n",
    "sc.pp.calculate_qc_metrics(ad_ROSMAP, qc_vars=['mt'], percent_top=None, log1p=False, inplace=True)\n",
    "sc.pl.violin(ad_ROSMAP, ['n_genes_by_counts', 'total_counts', 'pct_counts_mt'],jitter=0.4, multi_panel=True)"
   ]
  },
  {
   "cell_type": "code",
   "execution_count": null,
   "id": "6199e1b2-3351-4e3e-b131-e15004003bfc",
   "metadata": {},
   "outputs": [],
   "source": [
    "# DEA requires HPC\n",
    "sc.tl.rank_genes_groups(ad_ROSMAP, 'clusters', method='wilcoxon')"
   ]
  },
  {
   "cell_type": "code",
   "execution_count": null,
   "id": "ad7abe48-5370-48b3-8c1a-fd53a9905750",
   "metadata": {},
   "outputs": [],
   "source": [
    "sc.pl.rank_genes_groups(ad_ROSMAP, n_genes=20, sharey=False)"
   ]
  },
  {
   "cell_type": "markdown",
   "id": "9ffa3adc-6fef-4485-81ff-e9084ddef9a0",
   "metadata": {},
   "source": [
    "Export DEG table"
   ]
  },
  {
   "cell_type": "code",
   "execution_count": null,
   "id": "bc96eee4-13f5-4054-8333-8a94a8fd69eb",
   "metadata": {},
   "outputs": [],
   "source": [
    "# copied for HPC / usually see p6_helper_functions.py\n",
    "# extract genes from previous DE analysis (sc.tl.rank_genes_groups())\n",
    "def rank_genes_groups_df(adata, group, adj_pval_cutoff : float = None, log2fc_cutoff = None, sortby : int = 'zscore'): \n",
    "        # sortby = 'zscore' shows only upregulated genes, sorted by z-score (default from rank_genes_groups)\n",
    "        # to show all DE genes (up and down), set to 'zscore_abs'\n",
    "        # to sort by ['pvals_adj','log2FC'] (up and down) set to 'pval_adj'\n",
    "    d = pd.DataFrame() \n",
    "    for k in ['scores', 'names', 'logfoldchanges', 'pvals', 'pvals_adj']: \n",
    "        d[k] = adata.uns[\"rank_genes_groups\"][k][group] \n",
    "    if adj_pval_cutoff is not None: \n",
    "        d = d[d[\"pvals_adj\"] < adj_pval_cutoff] \n",
    "    if log2fc_cutoff is not None: \n",
    "        d = d[d[\"logfoldchanges\"].abs() > log2fc_cutoff] \n",
    "    # format table\n",
    "    d=d.rename(columns={\"names\": \"gene\", \"logfoldchanges\": \"log2FC\", \"scores\": \"zscore\"})  # as defined in sc.tl.rank_genes_groups\n",
    "    d.index = d['gene']\n",
    "    d.index.name = None # remove index name\n",
    "    d['FC'] = 2**d['log2FC']\n",
    "    d['nlog10_pval_adj'] = np.log10(d['pvals_adj']) * (-1) # consider excel compatibility for naming\n",
    "    # sort\n",
    "    if sortby == 'zscore':\n",
    "        d=d.sort_values(by=['zscore'], ascending=False)\n",
    "    elif sortby == 'zscore_abs':\n",
    "        d=d.sort_values(by=['zscore'], key=abs, ascending=False)\n",
    "    elif sortby == 'pval_adj':\n",
    "        d=d.sort_values(by=['pvals_adj','log2FC'], key=abs, ascending=[True,False])\n",
    "    d['gene'] = d['gene'].str.upper()\n",
    "    d['group'] = group\n",
    "    d = d[['gene','log2FC','FC','pvals','pvals_adj','nlog10_pval_adj','zscore','group']] # oder columns\n",
    "    return d"
   ]
  },
  {
   "cell_type": "code",
   "execution_count": null,
   "id": "63dcb9a4-a0df-40f3-ad1d-1afd85738817",
   "metadata": {},
   "outputs": [],
   "source": [
    "# export DEG table\n",
    "celltypes = ad_ROSMAP.obs.clusters.unique().tolist()\n",
    "merged_df = pd.DataFrame()\n",
    "for group in celltypes:\n",
    "    rank_df = rank_genes_groups_df(adata=ad_ROSMAP, group=group, adj_pval_cutoff=None, log2fc_cutoff=None, sortby='zscore')\n",
    "    merged_df = pd.concat([merged_df, rank_df])\n",
    "    merged_df['reference'] = 'all other clusters'\n",
    "merged_df.head(3)"
   ]
  },
  {
   "cell_type": "code",
   "execution_count": null,
   "id": "7c102b6b-674d-4e37-8ac0-3974f633c3df",
   "metadata": {},
   "outputs": [],
   "source": [
    "merged_df.group.unique().tolist()"
   ]
  },
  {
   "cell_type": "code",
   "execution_count": null,
   "id": "afd20dba-7fcc-40f3-9f7a-1081dad371cc",
   "metadata": {},
   "outputs": [],
   "source": [
    "# export as csv\n",
    "merged_df.to_csv(main_dir+\"//P06_vasc_scRNAseq//Garcia2022//DEA//\"+ date.today().strftime(\"%Y%m%d\")+'_DE_genes_Garcia2022.csv',sep=';')"
   ]
  },
  {
   "cell_type": "code",
   "execution_count": null,
   "id": "cd81c911-b549-4094-95f3-c90f96001323",
   "metadata": {},
   "outputs": [],
   "source": []
  },
  {
   "cell_type": "code",
   "execution_count": null,
   "id": "ba946006-7c6e-4a50-8df5-8d6dce2fbe58",
   "metadata": {},
   "outputs": [],
   "source": [
    "# DEA requires HPC\n",
    "sc.tl.rank_genes_groups(ad_ROSMAP, 'clusters2', method='wilcoxon')"
   ]
  },
  {
   "cell_type": "code",
   "execution_count": null,
   "id": "8290c5b5-b505-4a8d-9df2-9080c9558ff2",
   "metadata": {},
   "outputs": [],
   "source": [
    "sc.pl.rank_genes_groups(ad_ROSMAP, n_genes=20, sharey=False)"
   ]
  },
  {
   "cell_type": "markdown",
   "id": "ad197b98-312d-4b08-b117-332a83582c1a",
   "metadata": {},
   "source": [
    "Export DEG table"
   ]
  },
  {
   "cell_type": "code",
   "execution_count": null,
   "id": "a78dba07-e474-4487-bee0-fb98e2292536",
   "metadata": {},
   "outputs": [],
   "source": [
    "# export DEG table\n",
    "celltypes = ad_ROSMAP.obs.clusters2.unique().tolist()\n",
    "merged_df = pd.DataFrame()\n",
    "for group in celltypes:\n",
    "    rank_df = rank_genes_groups_df(adata=ad_ROSMAP, group=group, adj_pval_cutoff=None, log2fc_cutoff=None, sortby='zscore')\n",
    "    merged_df = pd.concat([merged_df, rank_df])\n",
    "    merged_df['reference'] = 'all other clusters'\n",
    "merged_df.head(3)"
   ]
  },
  {
   "cell_type": "code",
   "execution_count": null,
   "id": "0318dc5d-be25-41b4-b421-aa65cec44ea8",
   "metadata": {},
   "outputs": [],
   "source": [
    "merged_df.group.unique().tolist()"
   ]
  },
  {
   "cell_type": "code",
   "execution_count": null,
   "id": "753713d6-ea1d-4e6d-9b10-59d31485288d",
   "metadata": {},
   "outputs": [],
   "source": [
    "# export as csv\n",
    "merged_df.to_csv(main_dir+\"//P06_vasc_scRNAseq//Garcia2022//DEA//\"+ date.today().strftime(\"%Y%m%d\")+'_DE_genes_Garcia2022_incl_zonation.csv',sep=';')"
   ]
  },
  {
   "cell_type": "code",
   "execution_count": null,
   "id": "e37e8cb7-df3e-4627-8b29-7a50d92e4392",
   "metadata": {},
   "outputs": [],
   "source": []
  },
  {
   "cell_type": "markdown",
   "id": "e3517b56-b510-4246-bc8a-88f38f534a41",
   "metadata": {
    "tags": []
   },
   "source": [
    "### Focus on: Foxf2"
   ]
  },
  {
   "cell_type": "code",
   "execution_count": null,
   "id": "adea0211-54e0-4eec-b144-2e643d6f7602",
   "metadata": {},
   "outputs": [],
   "source": [
    "gene=\"FOXF2\""
   ]
  },
  {
   "cell_type": "code",
   "execution_count": null,
   "id": "662f3a78-a09b-4252-a3f1-0f494777d7f2",
   "metadata": {},
   "outputs": [],
   "source": [
    "sc.pl.dotplot(ad_ROSMAP, [gene], groupby='clusters', swap_axes=False, figsize=(2,5), standard_scale=\"var\", layer=\"normalized\")"
   ]
  },
  {
   "cell_type": "code",
   "execution_count": null,
   "id": "25a51bdf-19be-4a3f-9d81-c5d01981b76d",
   "metadata": {},
   "outputs": [],
   "source": [
    "sc.pl.dotplot(ad_ROSMAP, [gene], groupby='clusters2', swap_axes=False, figsize=(2,5), standard_scale=\"var\", layer=\"normalized\")"
   ]
  },
  {
   "cell_type": "code",
   "execution_count": null,
   "id": "5f53a7e7-01ee-4649-82ab-db1523466017",
   "metadata": {},
   "outputs": [],
   "source": []
  },
  {
   "cell_type": "markdown",
   "id": "2d189265-8ecb-4a12-9bf2-736776192cf0",
   "metadata": {},
   "source": [
    "## Ex-vivo dataset"
   ]
  },
  {
   "cell_type": "markdown",
   "id": "2024d6d6-01de-4c24-8a18-9bc9a13de396",
   "metadata": {},
   "source": [
    "Healthy tissue from epilepsy patients"
   ]
  },
  {
   "cell_type": "code",
   "execution_count": null,
   "id": "af2d73e2-fbaf-4a76-bfc4-b2defbe97413",
   "metadata": {},
   "outputs": [],
   "source": [
    "# from preprocessed folder:"
   ]
  },
  {
   "cell_type": "code",
   "execution_count": null,
   "id": "866fcc4b-c0a8-4429-a759-4c3d8ca6583c",
   "metadata": {},
   "outputs": [],
   "source": [
    "ad = sc.read_csv(main_dir+\"/P06_vasc_scRNAseq/Garcia2022/preprocessed/brain.BBB.human.counts.tsv\", delimiter=\"\\t\").transpose()"
   ]
  },
  {
   "cell_type": "code",
   "execution_count": null,
   "id": "5ca30bd3-1277-497c-a289-4e66e86af022",
   "metadata": {},
   "outputs": [],
   "source": [
    "ad.obs_names_make_unique()\n",
    "ad.var_names_make_unique()"
   ]
  },
  {
   "cell_type": "code",
   "execution_count": null,
   "id": "0239404e-e44a-4f48-b929-0ca245b734d0",
   "metadata": {},
   "outputs": [],
   "source": [
    "ad"
   ]
  },
  {
   "cell_type": "code",
   "execution_count": null,
   "id": "033d63ca-36d9-43be-89a4-5563567d7ed8",
   "metadata": {},
   "outputs": [],
   "source": [
    "ad.var.head()"
   ]
  },
  {
   "cell_type": "code",
   "execution_count": null,
   "id": "bd45c67f-ae7e-4ee3-9d75-7fa70ea51011",
   "metadata": {},
   "outputs": [],
   "source": [
    "ad.obs.head()"
   ]
  },
  {
   "cell_type": "code",
   "execution_count": null,
   "id": "2793db6d-a691-4b8c-99a4-5967215a25b3",
   "metadata": {},
   "outputs": [],
   "source": []
  },
  {
   "cell_type": "code",
   "execution_count": null,
   "id": "105e768f-7b07-4600-8b44-5632bdcbdda3",
   "metadata": {},
   "outputs": [],
   "source": [
    "# Add metadata"
   ]
  },
  {
   "cell_type": "code",
   "execution_count": null,
   "id": "46043d2b-2e3f-4b12-bb38-40285cd47436",
   "metadata": {},
   "outputs": [],
   "source": [
    "meta = pd.read_csv(main_dir+'/P06_vasc_scRNAseq/Garcia2022/preprocessed/brain.BBB.human.meta.txt', sep='\\t')\n",
    "meta.head(2)"
   ]
  },
  {
   "cell_type": "code",
   "execution_count": null,
   "id": "ae5208e6-23f3-407a-9b96-f69f590aa5de",
   "metadata": {},
   "outputs": [],
   "source": [
    "meta.shape"
   ]
  },
  {
   "cell_type": "code",
   "execution_count": null,
   "id": "661eb879-b5df-4cac-a574-983252ab07b3",
   "metadata": {},
   "outputs": [],
   "source": [
    "meta2 = pd.read_csv(main_dir+'/P06_vasc_scRNAseq/Garcia2022/preprocessed/brain.BBB.human.vascular.final.Jan2022.metadata.txt', sep='\\t')\n",
    "meta2.index = meta2[\"orig.ident\"]\n",
    "meta2.index.name = None\n",
    "meta2.head(2)"
   ]
  },
  {
   "cell_type": "code",
   "execution_count": null,
   "id": "229957fd-643a-4dd8-ba9c-77e0b07aa814",
   "metadata": {},
   "outputs": [],
   "source": [
    "meta2.shape"
   ]
  },
  {
   "cell_type": "code",
   "execution_count": null,
   "id": "81c0e7d6-77a3-42a0-ae73-3b42124f7baa",
   "metadata": {},
   "outputs": [],
   "source": [
    "pd.value_counts(meta2.cellsubtype)"
   ]
  },
  {
   "cell_type": "code",
   "execution_count": null,
   "id": "c6ec4026-e34c-4f2e-82f0-f02f3bff597f",
   "metadata": {},
   "outputs": [],
   "source": [
    "meta = meta.join(meta2[[\"cellsubtype\"]])"
   ]
  },
  {
   "cell_type": "code",
   "execution_count": null,
   "id": "e9e436bc-993b-4472-bb0e-470a0343fb17",
   "metadata": {},
   "outputs": [],
   "source": [
    "meta['clusters'] = meta['cellsubtype'].fillna(meta['celltype'])"
   ]
  },
  {
   "cell_type": "code",
   "execution_count": null,
   "id": "bf739f32-a4ae-4ef6-955b-43fd4f81bb3c",
   "metadata": {},
   "outputs": [],
   "source": [
    "meta.head(2)"
   ]
  },
  {
   "cell_type": "code",
   "execution_count": null,
   "id": "153ed9cd-69db-4c25-a754-0f880cea6fcc",
   "metadata": {},
   "outputs": [],
   "source": [
    "ad.obs = ad.obs.join(meta)"
   ]
  },
  {
   "cell_type": "code",
   "execution_count": null,
   "id": "ef30c581-3183-493e-b4bb-8629e24cea43",
   "metadata": {},
   "outputs": [],
   "source": [
    "ad.obs.columns"
   ]
  },
  {
   "cell_type": "code",
   "execution_count": null,
   "id": "a6c14312-0bd5-4e79-8552-ae5c422c32e2",
   "metadata": {},
   "outputs": [],
   "source": [
    "ad.obs.head(2)"
   ]
  },
  {
   "cell_type": "code",
   "execution_count": null,
   "id": "fca1040c-e2e7-4397-8a8a-293d340156ba",
   "metadata": {},
   "outputs": [],
   "source": [
    "pd.value_counts(ad.obs[\"snRNAPreparation\"])"
   ]
  },
  {
   "cell_type": "code",
   "execution_count": null,
   "id": "9ba1de72-d45a-4bb4-a005-c157be38816b",
   "metadata": {},
   "outputs": [],
   "source": [
    "pd.value_counts(meta.SampleID)"
   ]
  },
  {
   "cell_type": "code",
   "execution_count": null,
   "id": "88fd546a-cbd8-403f-96a0-d87ce7c55143",
   "metadata": {},
   "outputs": [],
   "source": [
    "pd.value_counts(ad.obs.PatientID)"
   ]
  },
  {
   "cell_type": "code",
   "execution_count": null,
   "id": "1d437894-26a5-4b16-9626-e413f9dc26cc",
   "metadata": {},
   "outputs": [],
   "source": [
    "pd.value_counts(ad.obs.celltype)"
   ]
  },
  {
   "cell_type": "code",
   "execution_count": null,
   "id": "a2c5086e-c138-4fdf-93e0-2d09cda72a44",
   "metadata": {},
   "outputs": [],
   "source": [
    "pd.value_counts(ad.obs.cellsubtype)"
   ]
  },
  {
   "cell_type": "code",
   "execution_count": null,
   "id": "9530a002-e831-46c7-a4c1-bc9e9a85ab69",
   "metadata": {},
   "outputs": [],
   "source": [
    "pd.value_counts(ad.obs.clusters)"
   ]
  },
  {
   "cell_type": "code",
   "execution_count": null,
   "id": "3f220d94-3f8f-4943-8116-dfe85984157c",
   "metadata": {},
   "outputs": [],
   "source": []
  },
  {
   "cell_type": "code",
   "execution_count": null,
   "id": "41aac806-e977-4ed8-8a15-dd498aded96c",
   "metadata": {},
   "outputs": [],
   "source": [
    "# Renaming\n",
    "old_to_new = {'aEndo':'aECs',\n",
    "              'Astro':'Astrocytes',\n",
    "              'capEndo':'capECs',\n",
    "              'vEndo':'vECs',\n",
    "              'Per1':'Pericytes',\n",
    "              'Per2':'Pericytes',\n",
    "              'Microglia':'Microglia',\n",
    "              'Ex':'Neurons',\n",
    "              'In':'Neurons',\n",
    "              'OPC':'OPCs',\n",
    "              'Fib1':'Fibroblasts',\n",
    "              'Fib2':'Fibroblasts',\n",
    "              'Fib3':'Fibroblasts',\n",
    "              'aSMC':'SMCs',\n",
    "              'vSMC':'SMCs',\n",
    "              'Oligo':'Oligos'}\n",
    "ad.obs['clusters2'] = (ad.obs['clusters'].map(old_to_new).astype('category'))"
   ]
  },
  {
   "cell_type": "code",
   "execution_count": null,
   "id": "53391ef3-66ed-4a62-8995-3cc7d5535af6",
   "metadata": {},
   "outputs": [],
   "source": [
    "# Renaming\n",
    "old_to_new = {'aEndo':'ECs',\n",
    "              'Astro':'Astrocytes',\n",
    "              'capEndo':'ECs',\n",
    "              'vEndo':'ECs',\n",
    "              'Per1':'Pericytes',\n",
    "              'Per2':'Pericytes',\n",
    "              'Microglia':'Microglia',\n",
    "              'Ex':'Neurons',\n",
    "              'In':'Neurons',\n",
    "              'OPC':'OPCs',\n",
    "              'Fib1':'Fibroblasts',\n",
    "              'Fib2':'Fibroblasts',\n",
    "              'Fib3':'Fibroblasts',\n",
    "              'aSMC':'SMCs',\n",
    "              'vSMC':'SMCs',\n",
    "              'Oligo':'Oligos'}\n",
    "ad.obs['clusters'] = (ad.obs['clusters'].map(old_to_new).astype('category'))"
   ]
  },
  {
   "cell_type": "code",
   "execution_count": null,
   "id": "111c500a-0442-422d-9934-6e7bc9169c26",
   "metadata": {},
   "outputs": [],
   "source": [
    "adata=ad"
   ]
  },
  {
   "cell_type": "code",
   "execution_count": null,
   "id": "e4aa4f9b-a93b-45e2-8c2b-21c2e07e64e1",
   "metadata": {},
   "outputs": [],
   "source": [
    "del ad"
   ]
  },
  {
   "cell_type": "markdown",
   "id": "99b17f7b-b098-4c4e-b97c-aed5d846e4a4",
   "metadata": {
    "tags": []
   },
   "source": [
    "Check if data is normalized:"
   ]
  },
  {
   "cell_type": "code",
   "execution_count": null,
   "id": "20d4bfd3-269f-4f0a-8a97-fcd25ed2f3b6",
   "metadata": {},
   "outputs": [],
   "source": [
    "adata.layers"
   ]
  },
  {
   "cell_type": "code",
   "execution_count": null,
   "id": "b0e95bee-9bca-49db-a0f4-8b68d77f540d",
   "metadata": {},
   "outputs": [],
   "source": [
    "adata.X"
   ]
  },
  {
   "cell_type": "code",
   "execution_count": null,
   "id": "853c3fdf-12be-4fb8-8801-47798a0e122f",
   "metadata": {},
   "outputs": [],
   "source": [
    "# show expression of 100 random genes (across all spots)\n",
    "import random\n",
    "import seaborn as sns\n",
    "random_genes=random.sample(range(0, adata.X.shape[1]), 100)\n",
    "adata_sub = adata[:,random_genes]\n",
    "exp=pd.DataFrame(np.matrix(adata_sub.X))\n",
    "# plot\n",
    "pl1=sns.displot(data=pd.melt(exp),x='value',height=4,hue='variable',kind=\"kde\",warn_singular=False,legend=False,palette=list(np.repeat('#086da6',100)), lw=0.3) # genes with 0 expression are excluded\n",
    "pl1.set(xlim=(-0.5, 7),ylim=(0,0.007))\n",
    "sns.set_theme(style='white')\n",
    "plt.show()"
   ]
  },
  {
   "cell_type": "code",
   "execution_count": null,
   "id": "304d0300-fd81-4379-b527-1773ad1e5480",
   "metadata": {},
   "outputs": [],
   "source": [
    "sns.set(rc={'figure.figsize':(4,4)})\n",
    "sns.set_theme(style='white')\n",
    "pl=sns.histplot(data=pd.melt(exp),x='value',binwidth=0.5,legend=True,palette=list(np.repeat('#086da6',100)))\n",
    "pl.set(xlim=(0, 10));\n",
    "plt.show()"
   ]
  },
  {
   "cell_type": "markdown",
   "id": "b018f52e-d252-463e-bad3-533cddc03e88",
   "metadata": {},
   "source": [
    "Data is not normalized, therefore normalize and log-transform"
   ]
  },
  {
   "cell_type": "code",
   "execution_count": null,
   "id": "54a80d15-c1b1-4654-a253-393077f75624",
   "metadata": {},
   "outputs": [],
   "source": [
    "adata.layers[\"counts\"] = adata.X.copy() # save unnormalized raw RNA counts - retrieve via ad.X = ad.layers[\"counts\"]"
   ]
  },
  {
   "cell_type": "code",
   "execution_count": null,
   "id": "0deff02f-53a0-49e0-95af-6a0fbbb21808",
   "metadata": {},
   "outputs": [],
   "source": [
    "sc.pp.normalize_total(adata, inplace=True) # Normalize each spot by total counts over all genes, so that every cell has the same total count after normalization."
   ]
  },
  {
   "cell_type": "code",
   "execution_count": null,
   "id": "185fb4ab-d94f-438a-af79-e8375df812f2",
   "metadata": {},
   "outputs": [],
   "source": [
    "# show expression of 100 random genes (across all spots)\n",
    "adata_sub = adata[:,random_genes]\n",
    "exp=pd.DataFrame(np.matrix(adata_sub.X))\n",
    "# plot\n",
    "pl=sns.displot(data=pd.melt(exp),x='value',height=4,hue='variable',kind=\"kde\",warn_singular=False,legend=False,palette=list(np.repeat('#086da6',100)), lw=0.3) # genes with 0 expression are excluded\n",
    "pl.set(xlim=(-0.25, 3.5),ylim=(0,0.005))\n",
    "plt.show()"
   ]
  },
  {
   "cell_type": "code",
   "execution_count": null,
   "id": "c1b986c7-e907-4b40-878d-b8cb309cba51",
   "metadata": {},
   "outputs": [],
   "source": [
    "pl=sns.histplot(data=pd.melt(exp),x='value',binwidth=0.5,legend=True,palette=list(np.repeat('#086da6',100)))\n",
    "pl.set(xlim=(0, 10))\n",
    "plt.show()"
   ]
  },
  {
   "cell_type": "code",
   "execution_count": null,
   "id": "38994cd9-668f-4530-a934-63fa259c1808",
   "metadata": {},
   "outputs": [],
   "source": [
    "sc.pp.log1p(adata) # X = log(X + 1)"
   ]
  },
  {
   "cell_type": "code",
   "execution_count": null,
   "id": "11896cc7-d8ae-4a14-acb2-c43a89cf8599",
   "metadata": {},
   "outputs": [],
   "source": [
    "# show expression of 100 random genes (across all spots)\n",
    "adata_sub = adata[:,random_genes]\n",
    "exp=pd.DataFrame(np.matrix(adata_sub.X))\n",
    "# plot\n",
    "pl=sns.displot(data=pd.melt(exp),x='value',height=4,hue='variable',kind=\"kde\",warn_singular=False,legend=False,palette=list(np.repeat('#086da6',100)), lw=0.5) # genes with 0 expression are excluded\n",
    "pl.set(xlim=(-0.25, 3.5),ylim=(0,0.005));\n",
    "plt.show()"
   ]
  },
  {
   "cell_type": "code",
   "execution_count": null,
   "id": "a0aa39ea-2ca6-4bbd-8f71-691ee4eb8f07",
   "metadata": {},
   "outputs": [],
   "source": [
    "pl=sns.histplot(data=pd.melt(exp),x='value',binwidth=0.5,legend=True,palette=list(np.repeat('#086da6',100)));\n",
    "pl.set(xlim=(0, 10));\n",
    "plt.show()"
   ]
  },
  {
   "cell_type": "code",
   "execution_count": null,
   "id": "e6a7ec2a-df98-4c4d-b5be-d100173880a1",
   "metadata": {},
   "outputs": [],
   "source": [
    "adata.layers[\"normalized\"] = adata.X.copy() # retrieve via adata.X = adata.layers[\"normalized\"]"
   ]
  },
  {
   "cell_type": "code",
   "execution_count": null,
   "id": "46399d37-1c2e-41d5-9be1-848fc5dd6140",
   "metadata": {},
   "outputs": [],
   "source": [
    "# Identify highly-variable genes\n",
    "sc.pp.highly_variable_genes(adata)\n",
    "sc.pl.highly_variable_genes(adata)"
   ]
  },
  {
   "cell_type": "code",
   "execution_count": null,
   "id": "4f311bf1-0d9b-4e16-a529-d70096d92a89",
   "metadata": {},
   "outputs": [],
   "source": [
    "adata"
   ]
  },
  {
   "cell_type": "code",
   "execution_count": null,
   "id": "14f061f1-e46b-4e3e-94fb-a3d1299a150a",
   "metadata": {},
   "outputs": [],
   "source": [
    "adata.layers"
   ]
  },
  {
   "cell_type": "markdown",
   "id": "505987aa-c261-4c82-9fbb-06159a975eee",
   "metadata": {},
   "source": [
    "### Dim Reduction"
   ]
  },
  {
   "cell_type": "code",
   "execution_count": null,
   "id": "7273dc15-0e59-4f48-b776-1e508c25740c",
   "metadata": {},
   "outputs": [],
   "source": [
    "sc.tl.pca(adata)\n",
    "sc.pl.pca_variance_ratio(adata)"
   ]
  },
  {
   "cell_type": "code",
   "execution_count": null,
   "id": "b9694400-8b42-4385-932a-144be4de54fa",
   "metadata": {},
   "outputs": [],
   "source": [
    "sc.pp.neighbors(adata)\n",
    "sc.tl.umap(adata)"
   ]
  },
  {
   "cell_type": "code",
   "execution_count": null,
   "id": "d6a3d480-9d9e-4e0e-b9d9-2f009c6260da",
   "metadata": {},
   "outputs": [],
   "source": [
    "sc.pl.umap(adata, color='clusters')"
   ]
  },
  {
   "cell_type": "markdown",
   "id": "efb1837b-acfb-4642-b5f0-57691b1cf377",
   "metadata": {},
   "source": [
    "### Marker genes"
   ]
  },
  {
   "cell_type": "code",
   "execution_count": null,
   "id": "fc230181-8825-4efa-9c69-a78e7927a9ca",
   "metadata": {},
   "outputs": [],
   "source": [
    "sc.tl.rank_genes_groups(adata, 'clusters')"
   ]
  },
  {
   "cell_type": "code",
   "execution_count": null,
   "id": "c8d6c090-c728-41b0-942f-4207f329d25c",
   "metadata": {},
   "outputs": [],
   "source": [
    "sc.pl.rank_genes_groups_dotplot(adata,n_genes=5)"
   ]
  },
  {
   "cell_type": "markdown",
   "id": "a7674820-2c46-4146-b31a-8535c5685cf8",
   "metadata": {
    "tags": []
   },
   "source": [
    "### Focus on: Foxf2"
   ]
  },
  {
   "cell_type": "code",
   "execution_count": null,
   "id": "f6ce2531-77c3-44f1-85af-570d5ba8adde",
   "metadata": {},
   "outputs": [],
   "source": [
    "gene=\"FOXF2\""
   ]
  },
  {
   "cell_type": "code",
   "execution_count": null,
   "id": "eac79ea8-3512-481a-85d0-5298f5b21f41",
   "metadata": {},
   "outputs": [],
   "source": [
    "sc.pl.matrixplot(adata, [gene], groupby='clusters', swap_axes=False, figsize=(2,5), standard_scale=\"var\", layer=\"normalized\")"
   ]
  },
  {
   "cell_type": "code",
   "execution_count": null,
   "id": "257516af-5571-4cc7-b6cb-0080893d357d",
   "metadata": {},
   "outputs": [],
   "source": [
    "sc.pl.dotplot(adata, [gene], groupby='clusters2', swap_axes=False, figsize=(2,5), standard_scale=\"var\", layer=\"normalized\")"
   ]
  },
  {
   "cell_type": "markdown",
   "id": "80ee0839-ecfd-4edf-b202-694748d9a2d8",
   "metadata": {},
   "source": [
    "## Merge"
   ]
  },
  {
   "cell_type": "code",
   "execution_count": null,
   "id": "41eb632b-c569-4351-aa29-458a63ac5615",
   "metadata": {},
   "outputs": [],
   "source": [
    "adata = anndata.concat([adata, ad_ROSMAP], join=\"inner\") # ignore batch effects etc because data is pre-annotated"
   ]
  },
  {
   "cell_type": "code",
   "execution_count": null,
   "id": "48dfd5fa-733a-4a69-b92b-09aeaba97848",
   "metadata": {},
   "outputs": [],
   "source": [
    "adata"
   ]
  },
  {
   "cell_type": "markdown",
   "id": "215d9fc0-283f-49eb-bc91-f09d88c65648",
   "metadata": {
    "tags": []
   },
   "source": [
    "# Focus on: Foxf2"
   ]
  },
  {
   "cell_type": "code",
   "execution_count": null,
   "id": "c6e0a5de-e1ae-43a6-8788-0444dc637504",
   "metadata": {},
   "outputs": [],
   "source": [
    "gene=\"FOXF2\""
   ]
  },
  {
   "cell_type": "markdown",
   "id": "4e7b4a2a-43bd-403b-8047-b52961c48fd7",
   "metadata": {},
   "source": [
    "## Plot"
   ]
  },
  {
   "cell_type": "code",
   "execution_count": null,
   "id": "d50bc8a2-5d9b-4479-966b-5ae3ffefa706",
   "metadata": {},
   "outputs": [],
   "source": [
    "sc.pl.matrixplot(adata, [gene], groupby='clusters', swap_axes=False, figsize=(2,5), standard_scale=\"var\", layer=\"normalized\")"
   ]
  },
  {
   "cell_type": "code",
   "execution_count": null,
   "id": "b10096c8-ed64-47a2-a713-ef3ddc9f4056",
   "metadata": {},
   "outputs": [],
   "source": [
    "sc.pl.matrixplot(adata, [gene], groupby='clusters2', swap_axes=False, figsize=(2,5), standard_scale=\"var\", layer=\"normalized\")"
   ]
  },
  {
   "cell_type": "code",
   "execution_count": null,
   "id": "3070ed04-c323-412b-8db4-2a94ac0ab4c6",
   "metadata": {},
   "outputs": [],
   "source": [
    "sc.pl.dotplot(adata, [gene], groupby='clusters', swap_axes=False, figsize=(2,5), standard_scale=\"var\", layer=\"normalized\")"
   ]
  },
  {
   "cell_type": "code",
   "execution_count": null,
   "id": "6142e508-d2b5-47e4-92e5-55e3fd9ad9d9",
   "metadata": {},
   "outputs": [],
   "source": [
    "sc.pl.dotplot(adata, [gene], groupby='clusters2', swap_axes=False, figsize=(2,5), standard_scale=\"var\", layer=\"normalized\")"
   ]
  },
  {
   "cell_type": "markdown",
   "id": "75448c3e-1b6c-4e43-bc80-b7c73a378e19",
   "metadata": {},
   "source": [
    "## Excl zonation"
   ]
  },
  {
   "cell_type": "code",
   "execution_count": null,
   "id": "4e64061f-9ab5-43a2-a197-54f6e964468a",
   "metadata": {},
   "outputs": [],
   "source": [
    "# mean expression per group (normalized and scaled)\n",
    "ex = sc.pl.matrixplot(adata, [gene], groupby='clusters', swap_axes=False, figsize=(2,5), standard_scale=\"var\", return_fig=True, layer=\"normalized\").values_df\n",
    "ex.columns = ['mean_expression']\n",
    "ex"
   ]
  },
  {
   "cell_type": "code",
   "execution_count": null,
   "id": "ed1ce8b4-a324-4b9c-83c6-4dc768348ff4",
   "metadata": {},
   "outputs": [],
   "source": [
    "# dotplot dot size = fraction of cells in group expressing Foxf2\n",
    "fc = sc.pl.dotplot(adata, [gene], groupby='clusters', swap_axes=False, figsize=(2,7), standard_scale=\"var\",return_fig=True, layer=\"normalized\").dot_size_df\n",
    "fc.columns = ['fraction_of_cells']\n",
    "fc"
   ]
  },
  {
   "cell_type": "code",
   "execution_count": null,
   "id": "7b87ed02-bd1c-4b36-9d8a-889f8e2201a6",
   "metadata": {},
   "outputs": [],
   "source": [
    "foxf2 = pd.concat([ex, fc], axis=1)\n",
    "foxf2['gene'] = gene\n",
    "foxf2['source'] = \"Garcia2022\"\n",
    "foxf2['organism'] = \"Human\"\n",
    "foxf2['cell_number'] = pd.DataFrame(adata.obs[\"clusters\"].value_counts()).reindex(foxf2.index)\n",
    "foxf2"
   ]
  },
  {
   "cell_type": "code",
   "execution_count": null,
   "id": "b62406fc-662f-42e6-97a1-7234de33723f",
   "metadata": {},
   "outputs": [],
   "source": [
    "# export\n",
    "name='Garcia2022'"
   ]
  },
  {
   "cell_type": "code",
   "execution_count": null,
   "id": "cbc5868f-cce9-4e0a-9453-ae91aac41249",
   "metadata": {},
   "outputs": [],
   "source": [
    "# Win\n",
    "foxf2.to_csv(main_dir+'/Foxf2_summarized/'+ date.today().strftime(\"%Y%m%d\")+'_'+name+'_normalized.csv',sep=';')"
   ]
  },
  {
   "cell_type": "markdown",
   "id": "375353f5-94b3-47d6-b1bd-b7fd83839df5",
   "metadata": {},
   "source": [
    "## Incl zonation"
   ]
  },
  {
   "cell_type": "code",
   "execution_count": null,
   "id": "6359b0de-a990-4a67-9fc7-0f2ef772edf3",
   "metadata": {},
   "outputs": [],
   "source": [
    "# mean expression per group (normalized and scaled)\n",
    "ex = sc.pl.matrixplot(adata, [gene], groupby='clusters2', swap_axes=False, figsize=(2,5), standard_scale=\"var\", return_fig=True, layer=\"normalized\").values_df\n",
    "ex.columns = ['mean_expression']"
   ]
  },
  {
   "cell_type": "code",
   "execution_count": null,
   "id": "0762207b-e28e-4d84-a807-032ba4f8f7a2",
   "metadata": {},
   "outputs": [],
   "source": [
    "# dotplot dot size = fraction of cells in group expressing Foxf2\n",
    "fc = sc.pl.dotplot(adata, [gene], groupby='clusters2', swap_axes=False, figsize=(2,7), standard_scale=\"var\",return_fig=True, layer=\"normalized\").dot_size_df\n",
    "fc.columns = ['fraction_of_cells']"
   ]
  },
  {
   "cell_type": "code",
   "execution_count": null,
   "id": "9ef5eaf1-fb21-4277-8ba1-bd70c49e586c",
   "metadata": {},
   "outputs": [],
   "source": [
    "foxf2 = pd.concat([ex, fc], axis=1)\n",
    "foxf2['gene'] = gene\n",
    "foxf2['source'] = \"Garcia2022\"\n",
    "foxf2['organism'] = \"Human\"\n",
    "foxf2['cell_number'] = pd.DataFrame(adata.obs[\"clusters2\"].value_counts()).reindex(foxf2.index)\n",
    "foxf2"
   ]
  },
  {
   "cell_type": "code",
   "execution_count": null,
   "id": "a61dd3b4-f6c4-412e-a789-b4b0d32e7b83",
   "metadata": {},
   "outputs": [],
   "source": [
    "# Win\n",
    "foxf2.to_csv(main_dir+'/Foxf2_summarized/incl_zonation/'+ date.today().strftime(\"%Y%m%d\")+'_'+name+'_incl_zonation_normalized.csv',sep=';')"
   ]
  },
  {
   "cell_type": "markdown",
   "id": "3cea61d6-4981-467b-a19b-4c27d79a5fca",
   "metadata": {},
   "source": [
    "# Focus on: Other genes"
   ]
  },
  {
   "cell_type": "markdown",
   "id": "b45bfe07-dc67-4029-9423-657124bda406",
   "metadata": {},
   "source": [
    "## Foxo1"
   ]
  },
  {
   "cell_type": "code",
   "execution_count": null,
   "id": "d5d379e9-a506-4d42-8dfc-a280e0090497",
   "metadata": {},
   "outputs": [],
   "source": [
    "gene=\"FOXO1\""
   ]
  },
  {
   "cell_type": "markdown",
   "id": "979a742c-263d-48da-8297-c75ff9ad0852",
   "metadata": {},
   "source": [
    "### Plot"
   ]
  },
  {
   "cell_type": "code",
   "execution_count": null,
   "id": "dcb0d4dd-11ec-4ec8-b0d1-fceb640753c8",
   "metadata": {},
   "outputs": [],
   "source": [
    "sc.pl.matrixplot(adata, [gene], groupby='clusters', swap_axes=False, figsize=(2,5), standard_scale=\"var\", layer=\"normalized\")"
   ]
  },
  {
   "cell_type": "code",
   "execution_count": null,
   "id": "35f5f9f3-144c-4d12-b4e2-e39c286670e7",
   "metadata": {},
   "outputs": [],
   "source": [
    "sc.pl.matrixplot(adata, [gene], groupby='clusters2', swap_axes=False, figsize=(2,5), standard_scale=\"var\", layer=\"normalized\")"
   ]
  },
  {
   "cell_type": "code",
   "execution_count": null,
   "id": "5d99db83-681f-416c-8afa-27cd0728d67f",
   "metadata": {},
   "outputs": [],
   "source": [
    "sc.pl.dotplot(adata, [gene], groupby='clusters', swap_axes=False, figsize=(2,5), standard_scale=\"var\", layer=\"normalized\")"
   ]
  },
  {
   "cell_type": "code",
   "execution_count": null,
   "id": "38895381-0c95-482a-ad38-2d3c15adfe51",
   "metadata": {},
   "outputs": [],
   "source": [
    "sc.pl.dotplot(adata, [gene], groupby='clusters2', swap_axes=False, figsize=(2,5), standard_scale=\"var\", layer=\"normalized\")"
   ]
  },
  {
   "cell_type": "markdown",
   "id": "37273031-d649-4a02-85a7-09dfa994ef55",
   "metadata": {},
   "source": [
    "### Excl zonation"
   ]
  },
  {
   "cell_type": "code",
   "execution_count": null,
   "id": "6ddb2067-7cf8-4faa-b3b5-7af78deaba1e",
   "metadata": {},
   "outputs": [],
   "source": [
    "# mean expression per group (normalized and scaled)\n",
    "ex = sc.pl.matrixplot(adata, [gene], groupby='clusters', swap_axes=False, figsize=(2,5), standard_scale=\"var\", return_fig=True, layer=\"normalized\").values_df\n",
    "ex.columns = ['mean_expression']\n",
    "ex"
   ]
  },
  {
   "cell_type": "code",
   "execution_count": null,
   "id": "57c5d4a6-5370-4aa1-b340-39ea36b2602c",
   "metadata": {},
   "outputs": [],
   "source": [
    "# dotplot dot size = fraction of cells in group expressing Foxf2\n",
    "fc = sc.pl.dotplot(adata, [gene], groupby='clusters', swap_axes=False, figsize=(2,7), standard_scale=\"var\",return_fig=True, layer=\"normalized\").dot_size_df\n",
    "fc.columns = ['fraction_of_cells']\n",
    "fc"
   ]
  },
  {
   "cell_type": "code",
   "execution_count": null,
   "id": "fd73e5b6-1deb-44de-b4e1-10d68ea460de",
   "metadata": {},
   "outputs": [],
   "source": [
    "foxf2 = pd.concat([ex, fc], axis=1)\n",
    "foxf2['gene'] = gene\n",
    "foxf2['source'] = \"Garcia2022\"\n",
    "foxf2['organism'] = \"Human\"\n",
    "foxf2['cell_number'] = pd.DataFrame(adata.obs[\"clusters\"].value_counts()).reindex(foxf2.index)\n",
    "foxf2"
   ]
  },
  {
   "cell_type": "code",
   "execution_count": null,
   "id": "a6fabc4c-c581-48fd-b9f9-10c03398767c",
   "metadata": {},
   "outputs": [],
   "source": [
    "# export\n",
    "name='Garcia2022'"
   ]
  },
  {
   "cell_type": "code",
   "execution_count": null,
   "id": "75b5c5f6-c3da-405c-a0c9-2ad885eb0f14",
   "metadata": {},
   "outputs": [],
   "source": [
    "# Win\n",
    "foxf2.to_csv(main_dir+'/Others_summarized/'+ date.today().strftime(\"%Y%m%d\")+'_'+gene+'_'+name+'_normalized.csv',sep=';')"
   ]
  },
  {
   "cell_type": "markdown",
   "id": "32b870a3-b474-46a5-9ddc-9c547085b512",
   "metadata": {},
   "source": [
    "### Incl zonation"
   ]
  },
  {
   "cell_type": "code",
   "execution_count": null,
   "id": "1ffed069-8c91-4fde-a33c-7d5f99fd3104",
   "metadata": {},
   "outputs": [],
   "source": [
    "# mean expression per group (normalized and scaled)\n",
    "ex = sc.pl.matrixplot(adata, [gene], groupby='clusters2', swap_axes=False, figsize=(2,5), standard_scale=\"var\", return_fig=True, layer=\"normalized\").values_df\n",
    "ex.columns = ['mean_expression']"
   ]
  },
  {
   "cell_type": "code",
   "execution_count": null,
   "id": "127510f4-5a05-4478-926a-af135113f149",
   "metadata": {},
   "outputs": [],
   "source": [
    "# dotplot dot size = fraction of cells in group expressing Foxf2\n",
    "fc = sc.pl.dotplot(adata, [gene], groupby='clusters2', swap_axes=False, figsize=(2,7), standard_scale=\"var\",return_fig=True, layer=\"normalized\").dot_size_df\n",
    "fc.columns = ['fraction_of_cells']"
   ]
  },
  {
   "cell_type": "code",
   "execution_count": null,
   "id": "a4512c32-4d3b-4943-aeb1-c5f6baeafa33",
   "metadata": {},
   "outputs": [],
   "source": [
    "foxf2 = pd.concat([ex, fc], axis=1)\n",
    "foxf2['gene'] = gene\n",
    "foxf2['source'] = \"Garcia2022\"\n",
    "foxf2['organism'] = \"Human\"\n",
    "foxf2['cell_number'] = pd.DataFrame(adata.obs[\"clusters2\"].value_counts()).reindex(foxf2.index)\n",
    "foxf2"
   ]
  },
  {
   "cell_type": "code",
   "execution_count": null,
   "id": "98bb8539-1198-458b-bec0-0eee7de38c0a",
   "metadata": {},
   "outputs": [],
   "source": [
    "# export\n",
    "name='Garcia2022'"
   ]
  },
  {
   "cell_type": "code",
   "execution_count": null,
   "id": "dc64531c-ba96-4446-be68-e023a9ff864e",
   "metadata": {},
   "outputs": [],
   "source": [
    "# Win\n",
    "foxf2.to_csv(main_dir+'/Others_summarized/incl_zonation/'+ date.today().strftime(\"%Y%m%d\")+'_'+gene+'_'+name+'_incl_zonation_normalized.csv',sep=';')"
   ]
  },
  {
   "cell_type": "markdown",
   "id": "3ab020d6-7ea6-4d24-926d-2c398c97f55c",
   "metadata": {},
   "source": [
    "## Tek = Tie2"
   ]
  },
  {
   "cell_type": "code",
   "execution_count": null,
   "id": "9719e72e-e547-497d-9fe1-eac99a435e23",
   "metadata": {},
   "outputs": [],
   "source": [
    "gene=\"TEK\""
   ]
  },
  {
   "cell_type": "markdown",
   "id": "fc8f96fa-50fb-4f1b-a38b-4cf21f7018bf",
   "metadata": {},
   "source": [
    "### Plot"
   ]
  },
  {
   "cell_type": "code",
   "execution_count": null,
   "id": "abac4d79-b6e6-4584-b0b2-d5d383cf4576",
   "metadata": {},
   "outputs": [],
   "source": [
    "sc.pl.matrixplot(adata, [gene], groupby='clusters', swap_axes=False, figsize=(2,5), standard_scale=\"var\", layer=\"normalized\")"
   ]
  },
  {
   "cell_type": "code",
   "execution_count": null,
   "id": "fb6564f6-ea6d-4ccb-b89e-890aba60441c",
   "metadata": {},
   "outputs": [],
   "source": [
    "sc.pl.matrixplot(adata, [gene], groupby='clusters2', swap_axes=False, figsize=(2,5), standard_scale=\"var\", layer=\"normalized\")"
   ]
  },
  {
   "cell_type": "code",
   "execution_count": null,
   "id": "14fa54d3-05ba-495f-a0d5-f7201f6cba72",
   "metadata": {},
   "outputs": [],
   "source": [
    "sc.pl.dotplot(adata, [gene], groupby='clusters', swap_axes=False, figsize=(2,5), standard_scale=\"var\", layer=\"normalized\")"
   ]
  },
  {
   "cell_type": "code",
   "execution_count": null,
   "id": "64817709-db81-4759-b260-8cefdd67d2f8",
   "metadata": {},
   "outputs": [],
   "source": [
    "sc.pl.dotplot(adata, [gene], groupby='clusters2', swap_axes=False, figsize=(2,5), standard_scale=\"var\", layer=\"normalized\")"
   ]
  },
  {
   "cell_type": "markdown",
   "id": "66fa3ced-7a81-406e-a469-10edbec6fbd9",
   "metadata": {},
   "source": [
    "### Excl zonation"
   ]
  },
  {
   "cell_type": "code",
   "execution_count": null,
   "id": "0cbbe1a4-34c1-47d9-bcc0-5cf64c10ed4f",
   "metadata": {},
   "outputs": [],
   "source": [
    "# mean expression per group (normalized and scaled)\n",
    "ex = sc.pl.matrixplot(adata, [gene], groupby='clusters', swap_axes=False, figsize=(2,5), standard_scale=\"var\", return_fig=True, layer=\"normalized\").values_df\n",
    "ex.columns = ['mean_expression']\n",
    "ex"
   ]
  },
  {
   "cell_type": "code",
   "execution_count": null,
   "id": "6241526b-916e-4ec9-89aa-3d39bc33cc71",
   "metadata": {},
   "outputs": [],
   "source": [
    "# dotplot dot size = fraction of cells in group expressing Foxf2\n",
    "fc = sc.pl.dotplot(adata, [gene], groupby='clusters', swap_axes=False, figsize=(2,7), standard_scale=\"var\",return_fig=True, layer=\"normalized\").dot_size_df\n",
    "fc.columns = ['fraction_of_cells']\n",
    "fc"
   ]
  },
  {
   "cell_type": "code",
   "execution_count": null,
   "id": "0d4f8747-959e-46b3-9576-83100e9badd8",
   "metadata": {},
   "outputs": [],
   "source": [
    "foxf2 = pd.concat([ex, fc], axis=1)\n",
    "foxf2['gene'] = gene\n",
    "foxf2['source'] = \"Garcia2022\"\n",
    "foxf2['organism'] = \"Human\"\n",
    "foxf2['cell_number'] = pd.DataFrame(adata.obs[\"clusters\"].value_counts()).reindex(foxf2.index)\n",
    "foxf2"
   ]
  },
  {
   "cell_type": "code",
   "execution_count": null,
   "id": "1b985358-2166-42b1-b654-347815cef9f3",
   "metadata": {},
   "outputs": [],
   "source": [
    "# export\n",
    "name='Garcia2022'"
   ]
  },
  {
   "cell_type": "code",
   "execution_count": null,
   "id": "91b026d9-a4c4-49fb-bc3e-fdcefa9b769d",
   "metadata": {},
   "outputs": [],
   "source": [
    "# Win\n",
    "foxf2.to_csv(main_dir+'/Others_summarized/'+ date.today().strftime(\"%Y%m%d\")+'_'+gene+'_'+name+'_normalized.csv',sep=';')"
   ]
  },
  {
   "cell_type": "markdown",
   "id": "abcfcaff-31ba-4c7e-ac22-93e515b87d68",
   "metadata": {},
   "source": [
    "### Incl zonation"
   ]
  },
  {
   "cell_type": "code",
   "execution_count": null,
   "id": "05156541-7154-4c53-a3ff-4d9a327ea44a",
   "metadata": {},
   "outputs": [],
   "source": [
    "# mean expression per group (normalized and scaled)\n",
    "ex = sc.pl.matrixplot(adata, [gene], groupby='clusters2', swap_axes=False, figsize=(2,5), standard_scale=\"var\", return_fig=True, layer=\"normalized\").values_df\n",
    "ex.columns = ['mean_expression']"
   ]
  },
  {
   "cell_type": "code",
   "execution_count": null,
   "id": "118fe2fe-092d-4b43-b11f-5ab88f491c0f",
   "metadata": {},
   "outputs": [],
   "source": [
    "# dotplot dot size = fraction of cells in group expressing Foxf2\n",
    "fc = sc.pl.dotplot(adata, [gene], groupby='clusters2', swap_axes=False, figsize=(2,7), standard_scale=\"var\",return_fig=True, layer=\"normalized\").dot_size_df\n",
    "fc.columns = ['fraction_of_cells']"
   ]
  },
  {
   "cell_type": "code",
   "execution_count": null,
   "id": "de8cea8b-ae5c-4840-82d0-982797f097ff",
   "metadata": {},
   "outputs": [],
   "source": [
    "foxf2 = pd.concat([ex, fc], axis=1)\n",
    "foxf2['gene'] = gene\n",
    "foxf2['source'] = \"Garcia2022\"\n",
    "foxf2['organism'] = \"Human\"\n",
    "foxf2['cell_number'] = pd.DataFrame(adata.obs[\"clusters2\"].value_counts()).reindex(foxf2.index)\n",
    "foxf2"
   ]
  },
  {
   "cell_type": "code",
   "execution_count": null,
   "id": "44800f97-1716-4b5e-ac7e-5f29e26eb4b3",
   "metadata": {},
   "outputs": [],
   "source": [
    "# export\n",
    "name='Garcia2022'"
   ]
  },
  {
   "cell_type": "code",
   "execution_count": null,
   "id": "116aa039-7cf0-4654-87f7-d0971f91bbb6",
   "metadata": {},
   "outputs": [],
   "source": [
    "# Win\n",
    "foxf2.to_csv(main_dir+'/Others_summarized/incl_zonation/'+ date.today().strftime(\"%Y%m%d\")+'_'+gene+'_'+name+'_incl_zonation_normalized.csv',sep=';')"
   ]
  },
  {
   "cell_type": "markdown",
   "id": "dcab07f5-2311-49d1-b009-2c42aa68b759",
   "metadata": {},
   "source": [
    "## Nos3 = eNOS"
   ]
  },
  {
   "cell_type": "code",
   "execution_count": null,
   "id": "6cc2f60f-0359-4c0e-aaf7-fbda5070a302",
   "metadata": {},
   "outputs": [],
   "source": [
    "gene=\"NOS3\""
   ]
  },
  {
   "cell_type": "markdown",
   "id": "b7ef3b02-9a16-410c-ac3a-dbbf1c57b331",
   "metadata": {},
   "source": [
    "### Plot"
   ]
  },
  {
   "cell_type": "code",
   "execution_count": null,
   "id": "e128de49-f4d5-4a6f-97f8-0ecca66adde9",
   "metadata": {},
   "outputs": [],
   "source": [
    "sc.pl.matrixplot(adata, [gene], groupby='clusters', swap_axes=False, figsize=(2,5), standard_scale=\"var\", layer=\"normalized\")"
   ]
  },
  {
   "cell_type": "code",
   "execution_count": null,
   "id": "b167f369-b9cc-4f8a-879f-9a02b4300f7f",
   "metadata": {},
   "outputs": [],
   "source": [
    "sc.pl.matrixplot(adata, [gene], groupby='clusters2', swap_axes=False, figsize=(2,5), standard_scale=\"var\", layer=\"normalized\")"
   ]
  },
  {
   "cell_type": "code",
   "execution_count": null,
   "id": "e8e93ee1-ac5b-4e2d-b175-9d9eef8da58c",
   "metadata": {},
   "outputs": [],
   "source": [
    "sc.pl.dotplot(adata, [gene], groupby='clusters', swap_axes=False, figsize=(2,5), standard_scale=\"var\", layer=\"normalized\")"
   ]
  },
  {
   "cell_type": "code",
   "execution_count": null,
   "id": "1c21577c-07bb-4807-bff2-628ce67e6380",
   "metadata": {},
   "outputs": [],
   "source": [
    "sc.pl.dotplot(adata, [gene], groupby='clusters2', swap_axes=False, figsize=(2,5), standard_scale=\"var\", layer=\"normalized\")"
   ]
  },
  {
   "cell_type": "markdown",
   "id": "1aab25a1-80d0-4fd4-b580-6fbed6e92bb6",
   "metadata": {},
   "source": [
    "### Excl zonation"
   ]
  },
  {
   "cell_type": "code",
   "execution_count": null,
   "id": "d08d97a8-fb13-4849-ae9f-f07535fee0a4",
   "metadata": {},
   "outputs": [],
   "source": [
    "# mean expression per group (normalized and scaled)\n",
    "ex = sc.pl.matrixplot(adata, [gene], groupby='clusters', swap_axes=False, figsize=(2,5), standard_scale=\"var\", return_fig=True, layer=\"normalized\").values_df\n",
    "ex.columns = ['mean_expression']\n",
    "ex"
   ]
  },
  {
   "cell_type": "code",
   "execution_count": null,
   "id": "9777ca9a-5a1a-49a5-a1d9-1021d4ebc517",
   "metadata": {},
   "outputs": [],
   "source": [
    "# dotplot dot size = fraction of cells in group expressing Foxf2\n",
    "fc = sc.pl.dotplot(adata, [gene], groupby='clusters', swap_axes=False, figsize=(2,7), standard_scale=\"var\",return_fig=True, layer=\"normalized\").dot_size_df\n",
    "fc.columns = ['fraction_of_cells']\n",
    "fc"
   ]
  },
  {
   "cell_type": "code",
   "execution_count": null,
   "id": "ff6a68bd-c151-4f95-a327-b6355f77ace6",
   "metadata": {},
   "outputs": [],
   "source": [
    "foxf2 = pd.concat([ex, fc], axis=1)\n",
    "foxf2['gene'] = gene\n",
    "foxf2['source'] = \"Garcia2022\"\n",
    "foxf2['organism'] = \"Human\"\n",
    "foxf2['cell_number'] = pd.DataFrame(adata.obs[\"clusters\"].value_counts()).reindex(foxf2.index)\n",
    "foxf2"
   ]
  },
  {
   "cell_type": "code",
   "execution_count": null,
   "id": "6e191e8d-fdce-4cdc-ae03-f474be2f6eaa",
   "metadata": {},
   "outputs": [],
   "source": [
    "# export\n",
    "name='Garcia2022'"
   ]
  },
  {
   "cell_type": "code",
   "execution_count": null,
   "id": "f35d6b89-1cf0-4fb4-968f-c43faae2b8af",
   "metadata": {},
   "outputs": [],
   "source": [
    "# Win\n",
    "foxf2.to_csv(main_dir+'/Others_summarized/'+ date.today().strftime(\"%Y%m%d\")+'_'+gene+'_'+name+'_normalized.csv',sep=';')"
   ]
  },
  {
   "cell_type": "markdown",
   "id": "54cc5e94-2192-487f-85e0-6d1abbca4a28",
   "metadata": {},
   "source": [
    "### Incl zonation"
   ]
  },
  {
   "cell_type": "code",
   "execution_count": null,
   "id": "52084db4-5d78-49c4-bb04-9c73d447e8fc",
   "metadata": {},
   "outputs": [],
   "source": [
    "# mean expression per group (normalized and scaled)\n",
    "ex = sc.pl.matrixplot(adata, [gene], groupby='clusters2', swap_axes=False, figsize=(2,5), standard_scale=\"var\", return_fig=True, layer=\"normalized\").values_df\n",
    "ex.columns = ['mean_expression']"
   ]
  },
  {
   "cell_type": "code",
   "execution_count": null,
   "id": "c940ce0b-d4bd-4440-bd13-25e67438c378",
   "metadata": {},
   "outputs": [],
   "source": [
    "# dotplot dot size = fraction of cells in group expressing Foxf2\n",
    "fc = sc.pl.dotplot(adata, [gene], groupby='clusters2', swap_axes=False, figsize=(2,7), standard_scale=\"var\",return_fig=True, layer=\"normalized\").dot_size_df\n",
    "fc.columns = ['fraction_of_cells']"
   ]
  },
  {
   "cell_type": "code",
   "execution_count": null,
   "id": "2a60e09b-2813-4304-9498-fed773172a9b",
   "metadata": {},
   "outputs": [],
   "source": [
    "foxf2 = pd.concat([ex, fc], axis=1)\n",
    "foxf2['gene'] = gene\n",
    "foxf2['source'] = \"Garcia2022\"\n",
    "foxf2['organism'] = \"Human\"\n",
    "foxf2['cell_number'] = pd.DataFrame(adata.obs[\"clusters2\"].value_counts()).reindex(foxf2.index)\n",
    "foxf2"
   ]
  },
  {
   "cell_type": "code",
   "execution_count": null,
   "id": "dc385802-841e-451f-97bc-648574ce9944",
   "metadata": {},
   "outputs": [],
   "source": [
    "# export\n",
    "name='Garcia2022'"
   ]
  },
  {
   "cell_type": "code",
   "execution_count": null,
   "id": "8b9f7101-2065-408b-b348-ff23954fb73a",
   "metadata": {},
   "outputs": [],
   "source": [
    "# Win\n",
    "foxf2.to_csv(main_dir+'/Others_summarized/incl_zonation/'+ date.today().strftime(\"%Y%m%d\")+'_'+gene+'_'+name+'_incl_zonation_normalized.csv',sep=';')"
   ]
  },
  {
   "cell_type": "markdown",
   "id": "fa89169b-b7df-4ab6-ab4b-5d1614a21ea6",
   "metadata": {
    "tags": []
   },
   "source": [
    "## HTRA1"
   ]
  },
  {
   "cell_type": "code",
   "execution_count": null,
   "id": "f1fc9e03-1e10-42ea-bbf5-adba8fa8cbf3",
   "metadata": {},
   "outputs": [],
   "source": [
    "gene=\"HTRA1\""
   ]
  },
  {
   "cell_type": "markdown",
   "id": "457ce966-2467-485d-a38e-9d6445ea4277",
   "metadata": {},
   "source": [
    "### Plot"
   ]
  },
  {
   "cell_type": "code",
   "execution_count": null,
   "id": "985a0ad7-f31c-490f-9389-3c6550499a68",
   "metadata": {},
   "outputs": [],
   "source": [
    "sc.pl.matrixplot(adata, [gene], groupby='clusters', swap_axes=False, figsize=(2,5), standard_scale=\"var\", layer=\"normalized\")"
   ]
  },
  {
   "cell_type": "code",
   "execution_count": null,
   "id": "3213bdff-9500-4717-bd85-f0c29451fcf1",
   "metadata": {},
   "outputs": [],
   "source": [
    "sc.pl.matrixplot(adata, [gene], groupby='clusters2', swap_axes=False, figsize=(2,5), standard_scale=\"var\", layer=\"normalized\")"
   ]
  },
  {
   "cell_type": "code",
   "execution_count": null,
   "id": "fe5f90c7-4287-4052-91c7-c3ff547bb073",
   "metadata": {},
   "outputs": [],
   "source": [
    "sc.pl.dotplot(adata, [gene], groupby='clusters', swap_axes=False, figsize=(2,5), standard_scale=\"var\", layer=\"normalized\")"
   ]
  },
  {
   "cell_type": "code",
   "execution_count": null,
   "id": "ce374f80-60c6-4659-96c4-91076ca58673",
   "metadata": {},
   "outputs": [],
   "source": [
    "sc.pl.dotplot(adata, [gene], groupby='clusters2', swap_axes=False, figsize=(2,5), standard_scale=\"var\", layer=\"normalized\")"
   ]
  },
  {
   "cell_type": "markdown",
   "id": "7ea387e8-42db-4010-b5f1-471e65742803",
   "metadata": {},
   "source": [
    "### Excl zonation"
   ]
  },
  {
   "cell_type": "code",
   "execution_count": null,
   "id": "1e1db00c-1740-4cdb-ae77-2300000cf0cc",
   "metadata": {},
   "outputs": [],
   "source": [
    "# mean expression per group (normalized and scaled)\n",
    "ex = sc.pl.matrixplot(adata, [gene], groupby='clusters', swap_axes=False, figsize=(2,5), standard_scale=\"var\", return_fig=True, layer=\"normalized\").values_df\n",
    "ex.columns = ['mean_expression']\n",
    "ex"
   ]
  },
  {
   "cell_type": "code",
   "execution_count": null,
   "id": "e7ff0bbc-4e4f-4b2f-96fb-04a63016245d",
   "metadata": {},
   "outputs": [],
   "source": [
    "# dotplot dot size = fraction of cells in group expressing Foxf2\n",
    "fc = sc.pl.dotplot(adata, [gene], groupby='clusters', swap_axes=False, figsize=(2,7), standard_scale=\"var\",return_fig=True, layer=\"normalized\").dot_size_df\n",
    "fc.columns = ['fraction_of_cells']\n",
    "fc"
   ]
  },
  {
   "cell_type": "code",
   "execution_count": null,
   "id": "c683f9f3-34e8-4bba-92b5-06c824650096",
   "metadata": {},
   "outputs": [],
   "source": [
    "foxf2 = pd.concat([ex, fc], axis=1)\n",
    "foxf2['gene'] = gene\n",
    "foxf2['source'] = \"Garcia2022\"\n",
    "foxf2['organism'] = \"Human\"\n",
    "foxf2['cell_number'] = pd.DataFrame(adata.obs[\"clusters\"].value_counts()).reindex(foxf2.index)\n",
    "foxf2"
   ]
  },
  {
   "cell_type": "code",
   "execution_count": null,
   "id": "2dd662d2-bd82-4f41-997a-d94bd116bb04",
   "metadata": {},
   "outputs": [],
   "source": [
    "# export\n",
    "name='Garcia2022'"
   ]
  },
  {
   "cell_type": "code",
   "execution_count": null,
   "id": "1169e573-147b-4858-afc1-21772ddfdf54",
   "metadata": {},
   "outputs": [],
   "source": [
    "# Win\n",
    "foxf2.to_csv(main_dir+'/Others_summarized/'+ date.today().strftime(\"%Y%m%d\")+'_'+gene+'_'+name+'_normalized.csv',sep=';')"
   ]
  },
  {
   "cell_type": "markdown",
   "id": "93f971c5-4fea-4b8e-9852-f638c47d2d58",
   "metadata": {},
   "source": [
    "### Incl zonation"
   ]
  },
  {
   "cell_type": "code",
   "execution_count": null,
   "id": "d5f18405-35d0-411d-9296-17ac85363cae",
   "metadata": {},
   "outputs": [],
   "source": [
    "# mean expression per group (normalized and scaled)\n",
    "ex = sc.pl.matrixplot(adata, [gene], groupby='clusters2', swap_axes=False, figsize=(2,5), standard_scale=\"var\", return_fig=True, layer=\"normalized\").values_df\n",
    "ex.columns = ['mean_expression']"
   ]
  },
  {
   "cell_type": "code",
   "execution_count": null,
   "id": "d2b3fc0d-533a-431c-bbe1-e2feb67b3d1a",
   "metadata": {},
   "outputs": [],
   "source": [
    "# dotplot dot size = fraction of cells in group expressing Foxf2\n",
    "fc = sc.pl.dotplot(adata, [gene], groupby='clusters2', swap_axes=False, figsize=(2,7), standard_scale=\"var\",return_fig=True, layer=\"normalized\").dot_size_df\n",
    "fc.columns = ['fraction_of_cells']"
   ]
  },
  {
   "cell_type": "code",
   "execution_count": null,
   "id": "8b2d16ca-c930-49da-b004-1e1c1391de56",
   "metadata": {},
   "outputs": [],
   "source": [
    "foxf2 = pd.concat([ex, fc], axis=1)\n",
    "foxf2['gene'] = gene\n",
    "foxf2['source'] = \"Garcia2022\"\n",
    "foxf2['organism'] = \"Human\"\n",
    "foxf2['cell_number'] = pd.DataFrame(adata.obs[\"clusters2\"].value_counts()).reindex(foxf2.index)\n",
    "foxf2"
   ]
  },
  {
   "cell_type": "code",
   "execution_count": null,
   "id": "a3c1996e-5c54-4ddf-9082-24d6f751511c",
   "metadata": {},
   "outputs": [],
   "source": [
    "# export\n",
    "name='Garcia2022'"
   ]
  },
  {
   "cell_type": "code",
   "execution_count": null,
   "id": "1f566906-9743-4e01-aef2-4b57d779a20a",
   "metadata": {},
   "outputs": [],
   "source": [
    "# Win\n",
    "foxf2.to_csv(main_dir+'/Others_summarized/incl_zonation/'+ date.today().strftime(\"%Y%m%d\")+'_'+gene+'_'+name+'_incl_zonation_normalized.csv',sep=';')"
   ]
  },
  {
   "cell_type": "markdown",
   "id": "4b8ffa49-dc9f-467e-a4d3-c9e7287974dd",
   "metadata": {},
   "source": [
    "## EGFL8"
   ]
  },
  {
   "cell_type": "code",
   "execution_count": null,
   "id": "9b762e32-8c0f-4a31-a7d1-560b27e0eebd",
   "metadata": {},
   "outputs": [],
   "source": [
    "gene=\"EGFL8\""
   ]
  },
  {
   "cell_type": "markdown",
   "id": "b8cbea7a-d295-4bb2-8e97-89e4ea4510e5",
   "metadata": {},
   "source": [
    "### Plot"
   ]
  },
  {
   "cell_type": "code",
   "execution_count": null,
   "id": "cc1de753-cb08-450b-96d2-5c15681cab38",
   "metadata": {},
   "outputs": [],
   "source": [
    "sc.pl.matrixplot(adata, [gene], groupby='clusters', swap_axes=False, figsize=(2,5), standard_scale=\"var\", layer=\"normalized\")"
   ]
  },
  {
   "cell_type": "code",
   "execution_count": null,
   "id": "c9e35dbf-0977-4c11-bb9e-4506d60b525d",
   "metadata": {},
   "outputs": [],
   "source": [
    "sc.pl.matrixplot(adata, [gene], groupby='clusters2', swap_axes=False, figsize=(2,5), standard_scale=\"var\", layer=\"normalized\")"
   ]
  },
  {
   "cell_type": "code",
   "execution_count": null,
   "id": "7387bec1-4738-4dde-b0a8-0590e095a4b8",
   "metadata": {},
   "outputs": [],
   "source": [
    "sc.pl.dotplot(adata, [gene], groupby='clusters', swap_axes=False, figsize=(2,5), standard_scale=\"var\", layer=\"normalized\")"
   ]
  },
  {
   "cell_type": "code",
   "execution_count": null,
   "id": "169236cb-82e7-458e-8dba-2b3520c19edd",
   "metadata": {},
   "outputs": [],
   "source": [
    "sc.pl.dotplot(adata, [gene], groupby='clusters2', swap_axes=False, figsize=(2,5), standard_scale=\"var\", layer=\"normalized\")"
   ]
  },
  {
   "cell_type": "markdown",
   "id": "862826b9-122a-426c-81fc-514ec20f53b5",
   "metadata": {},
   "source": [
    "### Excl zonation"
   ]
  },
  {
   "cell_type": "code",
   "execution_count": null,
   "id": "d292815d-b068-4619-aa9a-f5846dfa32d1",
   "metadata": {},
   "outputs": [],
   "source": [
    "# mean expression per group (normalized and scaled)\n",
    "ex = sc.pl.matrixplot(adata, [gene], groupby='clusters', swap_axes=False, figsize=(2,5), standard_scale=\"var\", return_fig=True, layer=\"normalized\").values_df\n",
    "ex.columns = ['mean_expression']\n",
    "ex"
   ]
  },
  {
   "cell_type": "code",
   "execution_count": null,
   "id": "8b027211-e2c3-46b0-8457-920172fcba4b",
   "metadata": {},
   "outputs": [],
   "source": [
    "# dotplot dot size = fraction of cells in group expressing Foxf2\n",
    "fc = sc.pl.dotplot(adata, [gene], groupby='clusters', swap_axes=False, figsize=(2,7), standard_scale=\"var\",return_fig=True, layer=\"normalized\").dot_size_df\n",
    "fc.columns = ['fraction_of_cells']\n",
    "fc"
   ]
  },
  {
   "cell_type": "code",
   "execution_count": null,
   "id": "6bc3d427-11af-41d8-8873-842d7abb5a75",
   "metadata": {},
   "outputs": [],
   "source": [
    "foxf2 = pd.concat([ex, fc], axis=1)\n",
    "foxf2['gene'] = gene\n",
    "foxf2['source'] = \"Garcia2022\"\n",
    "foxf2['organism'] = \"Human\"\n",
    "foxf2['cell_number'] = pd.DataFrame(adata.obs[\"clusters\"].value_counts()).reindex(foxf2.index)\n",
    "foxf2"
   ]
  },
  {
   "cell_type": "code",
   "execution_count": null,
   "id": "3caa3700-d9ef-4524-b3e7-b6267d3f2211",
   "metadata": {},
   "outputs": [],
   "source": [
    "# export\n",
    "name='Garcia2022'"
   ]
  },
  {
   "cell_type": "code",
   "execution_count": null,
   "id": "5e1bc0da-b771-41f7-85cc-41bc7cc8bf82",
   "metadata": {},
   "outputs": [],
   "source": [
    "# Win\n",
    "foxf2.to_csv(main_dir+'/Others_summarized/'+ date.today().strftime(\"%Y%m%d\")+'_'+gene+'_'+name+'_normalized.csv',sep=';')"
   ]
  },
  {
   "cell_type": "markdown",
   "id": "52c681f6-d406-4cb4-b08b-7ada788d2341",
   "metadata": {},
   "source": [
    "## FLT1"
   ]
  },
  {
   "cell_type": "code",
   "execution_count": null,
   "id": "ce72a1b6-06d6-4f2b-b005-d2cae4efb3f9",
   "metadata": {},
   "outputs": [],
   "source": [
    "gene=\"FLT1\""
   ]
  },
  {
   "cell_type": "markdown",
   "id": "11eca47c-c002-4824-82da-7e9ce4d50eb8",
   "metadata": {},
   "source": [
    "### Plot"
   ]
  },
  {
   "cell_type": "code",
   "execution_count": null,
   "id": "e2bae3dd-1056-4b52-8285-29709474d956",
   "metadata": {},
   "outputs": [],
   "source": [
    "sc.pl.matrixplot(adata, [gene], groupby='clusters', swap_axes=False, figsize=(2,5), standard_scale=\"var\", layer=\"normalized\")"
   ]
  },
  {
   "cell_type": "code",
   "execution_count": null,
   "id": "09f9f56f-55fb-4868-ba07-438d13242616",
   "metadata": {},
   "outputs": [],
   "source": [
    "sc.pl.matrixplot(adata, [gene], groupby='clusters2', swap_axes=False, figsize=(2,5), standard_scale=\"var\", layer=\"normalized\")"
   ]
  },
  {
   "cell_type": "code",
   "execution_count": null,
   "id": "37a97919-b7a4-40db-9111-aae6f0ad73a4",
   "metadata": {},
   "outputs": [],
   "source": [
    "sc.pl.dotplot(adata, [gene], groupby='clusters', swap_axes=False, figsize=(2,5), standard_scale=\"var\", layer=\"normalized\")"
   ]
  },
  {
   "cell_type": "code",
   "execution_count": null,
   "id": "fb1a7297-1780-40ac-abcd-d8dfd5013bc1",
   "metadata": {},
   "outputs": [],
   "source": [
    "sc.pl.dotplot(adata, [gene], groupby='clusters2', swap_axes=False, figsize=(2,5), standard_scale=\"var\", layer=\"normalized\")"
   ]
  },
  {
   "cell_type": "markdown",
   "id": "5964e390-7edb-40e2-9370-b86163afcc21",
   "metadata": {},
   "source": [
    "### Excl zonation"
   ]
  },
  {
   "cell_type": "code",
   "execution_count": null,
   "id": "4ce7bb37-2233-4b36-8cf9-a6fe595ffa30",
   "metadata": {},
   "outputs": [],
   "source": [
    "# mean expression per group (normalized and scaled)\n",
    "ex = sc.pl.matrixplot(adata, [gene], groupby='clusters', swap_axes=False, figsize=(2,5), standard_scale=\"var\", return_fig=True, layer=\"normalized\").values_df\n",
    "ex.columns = ['mean_expression']\n",
    "ex"
   ]
  },
  {
   "cell_type": "code",
   "execution_count": null,
   "id": "73de97a3-a7c6-43a3-97ec-6d26cdeb397d",
   "metadata": {},
   "outputs": [],
   "source": [
    "# dotplot dot size = fraction of cells in group expressing Foxf2\n",
    "fc = sc.pl.dotplot(adata, [gene], groupby='clusters', swap_axes=False, figsize=(2,7), standard_scale=\"var\",return_fig=True, layer=\"normalized\").dot_size_df\n",
    "fc.columns = ['fraction_of_cells']\n",
    "fc"
   ]
  },
  {
   "cell_type": "code",
   "execution_count": null,
   "id": "f07a1c34-e898-4abf-9621-49d76948265c",
   "metadata": {},
   "outputs": [],
   "source": [
    "foxf2 = pd.concat([ex, fc], axis=1)\n",
    "foxf2['gene'] = gene\n",
    "foxf2['source'] = \"Garcia2022\"\n",
    "foxf2['organism'] = \"Human\"\n",
    "foxf2['cell_number'] = pd.DataFrame(adata.obs[\"clusters\"].value_counts()).reindex(foxf2.index)\n",
    "foxf2"
   ]
  },
  {
   "cell_type": "code",
   "execution_count": null,
   "id": "bd751250-3491-4d5d-95bf-652119f28b62",
   "metadata": {},
   "outputs": [],
   "source": [
    "# export\n",
    "name='Garcia2022'"
   ]
  },
  {
   "cell_type": "code",
   "execution_count": null,
   "id": "54743420-dab1-4529-9fc2-4ba3b002d508",
   "metadata": {},
   "outputs": [],
   "source": [
    "# Win\n",
    "foxf2.to_csv(main_dir+'/Others_summarized/'+ date.today().strftime(\"%Y%m%d\")+'_'+gene+'_'+name+'_normalized.csv',sep=';')"
   ]
  },
  {
   "cell_type": "markdown",
   "id": "f017eaa7-86d0-48c5-818f-2dead32b29c4",
   "metadata": {},
   "source": [
    "### Incl zonation"
   ]
  },
  {
   "cell_type": "code",
   "execution_count": null,
   "id": "0a9d5f2e-057b-4490-bcd2-f8152a1a529e",
   "metadata": {},
   "outputs": [],
   "source": [
    "# mean expression per group (normalized and scaled)\n",
    "ex = sc.pl.matrixplot(adata, [gene], groupby='clusters2', swap_axes=False, figsize=(2,5), standard_scale=\"var\", return_fig=True, layer=\"normalized\").values_df\n",
    "ex.columns = ['mean_expression']"
   ]
  },
  {
   "cell_type": "code",
   "execution_count": null,
   "id": "9dcaefd8-30d1-4d03-95b3-82b57f485011",
   "metadata": {},
   "outputs": [],
   "source": [
    "# dotplot dot size = fraction of cells in group expressing Foxf2\n",
    "fc = sc.pl.dotplot(adata, [gene], groupby='clusters2', swap_axes=False, figsize=(2,7), standard_scale=\"var\",return_fig=True, layer=\"normalized\").dot_size_df\n",
    "fc.columns = ['fraction_of_cells']"
   ]
  },
  {
   "cell_type": "code",
   "execution_count": null,
   "id": "c6bbc457-a7f0-47b1-a3e6-99371cb77d8a",
   "metadata": {},
   "outputs": [],
   "source": [
    "foxf2 = pd.concat([ex, fc], axis=1)\n",
    "foxf2['gene'] = gene\n",
    "foxf2['source'] = \"Garcia2022\"\n",
    "foxf2['organism'] = \"Human\"\n",
    "foxf2['cell_number'] = pd.DataFrame(adata.obs[\"clusters2\"].value_counts()).reindex(foxf2.index)\n",
    "foxf2"
   ]
  },
  {
   "cell_type": "code",
   "execution_count": null,
   "id": "25e6ade9-06dc-47a1-a1f6-ed257034f64a",
   "metadata": {},
   "outputs": [],
   "source": [
    "# export\n",
    "name='Garcia2022'"
   ]
  },
  {
   "cell_type": "code",
   "execution_count": null,
   "id": "634d7614-d9ee-4177-96d1-c9e415f20a05",
   "metadata": {},
   "outputs": [],
   "source": [
    "# Win\n",
    "foxf2.to_csv(main_dir+'/Others_summarized/incl_zonation/'+ date.today().strftime(\"%Y%m%d\")+'_'+gene+'_'+name+'_incl_zonation_normalized.csv',sep=';')"
   ]
  },
  {
   "cell_type": "markdown",
   "id": "60f649e4-2955-4312-b376-87147c0fe5da",
   "metadata": {},
   "source": [
    "## KDR"
   ]
  },
  {
   "cell_type": "code",
   "execution_count": null,
   "id": "0429340c-d861-4678-b8d7-63d2c2722105",
   "metadata": {},
   "outputs": [],
   "source": [
    "gene=\"KDR\""
   ]
  },
  {
   "cell_type": "markdown",
   "id": "cd887bea-b30e-4ae4-abe6-c03ec8102d39",
   "metadata": {},
   "source": [
    "### Plot"
   ]
  },
  {
   "cell_type": "code",
   "execution_count": null,
   "id": "4d00ef80-3fbc-44cb-8ed2-829dd5da154e",
   "metadata": {},
   "outputs": [],
   "source": [
    "sc.pl.matrixplot(adata, [gene], groupby='clusters', swap_axes=False, figsize=(2,5), standard_scale=\"var\", layer=\"normalized\")"
   ]
  },
  {
   "cell_type": "code",
   "execution_count": null,
   "id": "42a58f4e-58c0-4da5-bd5f-80810ea63cdb",
   "metadata": {},
   "outputs": [],
   "source": [
    "sc.pl.matrixplot(adata, [gene], groupby='clusters2', swap_axes=False, figsize=(2,5), standard_scale=\"var\", layer=\"normalized\")"
   ]
  },
  {
   "cell_type": "code",
   "execution_count": null,
   "id": "bd18bdf0-de3c-4f0f-ba3e-568aff82eb38",
   "metadata": {},
   "outputs": [],
   "source": [
    "sc.pl.dotplot(adata, [gene], groupby='clusters', swap_axes=False, figsize=(2,5), standard_scale=\"var\", layer=\"normalized\")"
   ]
  },
  {
   "cell_type": "code",
   "execution_count": null,
   "id": "ad301810-b931-489e-91a1-44978b61e65b",
   "metadata": {},
   "outputs": [],
   "source": [
    "sc.pl.dotplot(adata, [gene], groupby='clusters2', swap_axes=False, figsize=(2,5), standard_scale=\"var\", layer=\"normalized\")"
   ]
  },
  {
   "cell_type": "markdown",
   "id": "40974153-f903-4eb3-a00d-26ff37b7361c",
   "metadata": {},
   "source": [
    "### Excl zonation"
   ]
  },
  {
   "cell_type": "code",
   "execution_count": null,
   "id": "2cbbc953-0943-40df-a13e-089a21ba6693",
   "metadata": {},
   "outputs": [],
   "source": [
    "# mean expression per group (normalized and scaled)\n",
    "ex = sc.pl.matrixplot(adata, [gene], groupby='clusters', swap_axes=False, figsize=(2,5), standard_scale=\"var\", return_fig=True, layer=\"normalized\").values_df\n",
    "ex.columns = ['mean_expression']\n",
    "ex"
   ]
  },
  {
   "cell_type": "code",
   "execution_count": null,
   "id": "fbeef851-a843-439d-9db8-9b749ec9f8db",
   "metadata": {},
   "outputs": [],
   "source": [
    "# dotplot dot size = fraction of cells in group expressing Foxf2\n",
    "fc = sc.pl.dotplot(adata, [gene], groupby='clusters', swap_axes=False, figsize=(2,7), standard_scale=\"var\",return_fig=True, layer=\"normalized\").dot_size_df\n",
    "fc.columns = ['fraction_of_cells']\n",
    "fc"
   ]
  },
  {
   "cell_type": "code",
   "execution_count": null,
   "id": "a466a083-4021-4493-bee5-2a8fe7a9576e",
   "metadata": {},
   "outputs": [],
   "source": [
    "foxf2 = pd.concat([ex, fc], axis=1)\n",
    "foxf2['gene'] = gene\n",
    "foxf2['source'] = \"Garcia2022\"\n",
    "foxf2['organism'] = \"Human\"\n",
    "foxf2['cell_number'] = pd.DataFrame(adata.obs[\"clusters\"].value_counts()).reindex(foxf2.index)\n",
    "foxf2"
   ]
  },
  {
   "cell_type": "code",
   "execution_count": null,
   "id": "b86c254e-3d07-4cb3-99a6-79ffdd2427e8",
   "metadata": {},
   "outputs": [],
   "source": [
    "# export\n",
    "name='Garcia2022'"
   ]
  },
  {
   "cell_type": "code",
   "execution_count": null,
   "id": "520e20c3-c049-48e8-979a-9c77d36d1c09",
   "metadata": {},
   "outputs": [],
   "source": [
    "# Win\n",
    "foxf2.to_csv(main_dir+'/Others_summarized/'+ date.today().strftime(\"%Y%m%d\")+'_'+gene+'_'+name+'_normalized.csv',sep=';')"
   ]
  },
  {
   "cell_type": "markdown",
   "id": "5fb364b0-cce0-459d-b5e3-976de8260cb9",
   "metadata": {},
   "source": [
    "## NRP1"
   ]
  },
  {
   "cell_type": "code",
   "execution_count": null,
   "id": "f6ae02df-a38e-4e11-bdc5-5182c3e7bade",
   "metadata": {},
   "outputs": [],
   "source": [
    "gene=\"NRP1\""
   ]
  },
  {
   "cell_type": "markdown",
   "id": "e550aad3-a3fe-43d9-a445-a61939f16970",
   "metadata": {},
   "source": [
    "### Plot"
   ]
  },
  {
   "cell_type": "code",
   "execution_count": null,
   "id": "38043016-1445-4970-8bfe-c668f4776d50",
   "metadata": {},
   "outputs": [],
   "source": [
    "sc.pl.matrixplot(adata, [gene], groupby='clusters', swap_axes=False, figsize=(2,5), standard_scale=\"var\", layer=\"normalized\")"
   ]
  },
  {
   "cell_type": "code",
   "execution_count": null,
   "id": "a18b89e6-62d8-4b80-899c-ebcff23928ee",
   "metadata": {},
   "outputs": [],
   "source": [
    "sc.pl.matrixplot(adata, [gene], groupby='clusters2', swap_axes=False, figsize=(2,5), standard_scale=\"var\", layer=\"normalized\")"
   ]
  },
  {
   "cell_type": "code",
   "execution_count": null,
   "id": "a0cceba1-be65-4396-bd05-368ca4b42a42",
   "metadata": {},
   "outputs": [],
   "source": [
    "sc.pl.dotplot(adata, [gene], groupby='clusters', swap_axes=False, figsize=(2,5), standard_scale=\"var\", layer=\"normalized\")"
   ]
  },
  {
   "cell_type": "code",
   "execution_count": null,
   "id": "a362d592-1d33-41ad-a6f0-71b2eec96037",
   "metadata": {},
   "outputs": [],
   "source": [
    "sc.pl.dotplot(adata, [gene], groupby='clusters2', swap_axes=False, figsize=(2,5), standard_scale=\"var\", layer=\"normalized\")"
   ]
  },
  {
   "cell_type": "markdown",
   "id": "0c11a57c-fe89-442d-89c3-bfb213fe24b0",
   "metadata": {},
   "source": [
    "### Excl zonation"
   ]
  },
  {
   "cell_type": "code",
   "execution_count": null,
   "id": "c0540719-e5f9-4d0b-b4ba-39139944cdc2",
   "metadata": {},
   "outputs": [],
   "source": [
    "# mean expression per group (normalized and scaled)\n",
    "ex = sc.pl.matrixplot(adata, [gene], groupby='clusters', swap_axes=False, figsize=(2,5), standard_scale=\"var\", return_fig=True, layer=\"normalized\").values_df\n",
    "ex.columns = ['mean_expression']\n",
    "ex"
   ]
  },
  {
   "cell_type": "code",
   "execution_count": null,
   "id": "0c6490a9-0626-445a-a556-9015bd1b24bf",
   "metadata": {},
   "outputs": [],
   "source": [
    "# dotplot dot size = fraction of cells in group expressing Foxf2\n",
    "fc = sc.pl.dotplot(adata, [gene], groupby='clusters', swap_axes=False, figsize=(2,7), standard_scale=\"var\",return_fig=True, layer=\"normalized\").dot_size_df\n",
    "fc.columns = ['fraction_of_cells']\n",
    "fc"
   ]
  },
  {
   "cell_type": "code",
   "execution_count": null,
   "id": "e80fe363-019e-4bae-afec-1202fc39caca",
   "metadata": {},
   "outputs": [],
   "source": [
    "foxf2 = pd.concat([ex, fc], axis=1)\n",
    "foxf2['gene'] = gene\n",
    "foxf2['source'] = \"Garcia2022\"\n",
    "foxf2['organism'] = \"Human\"\n",
    "foxf2['cell_number'] = pd.DataFrame(adata.obs[\"clusters\"].value_counts()).reindex(foxf2.index)\n",
    "foxf2"
   ]
  },
  {
   "cell_type": "code",
   "execution_count": null,
   "id": "0dd644fa-f09e-48ba-9de3-c963e67b8de9",
   "metadata": {},
   "outputs": [],
   "source": [
    "# export\n",
    "name='Garcia2022'"
   ]
  },
  {
   "cell_type": "code",
   "execution_count": null,
   "id": "b9ba6357-fa68-4b54-b720-8bd5f96737cd",
   "metadata": {},
   "outputs": [],
   "source": [
    "# Win\n",
    "foxf2.to_csv(main_dir+'/Others_summarized/'+ date.today().strftime(\"%Y%m%d\")+'_'+gene+'_'+name+'_normalized.csv',sep=';')"
   ]
  },
  {
   "cell_type": "markdown",
   "id": "d1c13ddc-ab19-4b98-990b-000ca63960fb",
   "metadata": {},
   "source": [
    "## NRP2"
   ]
  },
  {
   "cell_type": "code",
   "execution_count": null,
   "id": "f46b5fb7-8f65-4b7a-9d1d-d67b4fa42beb",
   "metadata": {},
   "outputs": [],
   "source": [
    "gene=\"NRP2\""
   ]
  },
  {
   "cell_type": "markdown",
   "id": "fc25e729-86b9-456f-90d0-50626bc1f2e1",
   "metadata": {},
   "source": [
    "### Plot"
   ]
  },
  {
   "cell_type": "code",
   "execution_count": null,
   "id": "054659a5-fc85-4a98-9d79-323b1a7da94d",
   "metadata": {},
   "outputs": [],
   "source": [
    "sc.pl.matrixplot(adata, [gene], groupby='clusters', swap_axes=False, figsize=(2,5), standard_scale=\"var\", layer=\"normalized\")"
   ]
  },
  {
   "cell_type": "code",
   "execution_count": null,
   "id": "02206af8-af85-4563-905f-3a293d7fe9cd",
   "metadata": {},
   "outputs": [],
   "source": [
    "sc.pl.matrixplot(adata, [gene], groupby='clusters2', swap_axes=False, figsize=(2,5), standard_scale=\"var\", layer=\"normalized\")"
   ]
  },
  {
   "cell_type": "code",
   "execution_count": null,
   "id": "8ec90986-16c5-417d-b2f4-91e906101950",
   "metadata": {},
   "outputs": [],
   "source": [
    "sc.pl.dotplot(adata, [gene], groupby='clusters', swap_axes=False, figsize=(2,5), standard_scale=\"var\", layer=\"normalized\")"
   ]
  },
  {
   "cell_type": "code",
   "execution_count": null,
   "id": "f5c644b4-e5f0-4a09-bca6-e5bab2f36bbd",
   "metadata": {},
   "outputs": [],
   "source": [
    "sc.pl.dotplot(adata, [gene], groupby='clusters2', swap_axes=False, figsize=(2,5), standard_scale=\"var\", layer=\"normalized\")"
   ]
  },
  {
   "cell_type": "markdown",
   "id": "4a15577d-27cc-4137-bb78-800bfdb92118",
   "metadata": {},
   "source": [
    "### Excl zonation"
   ]
  },
  {
   "cell_type": "code",
   "execution_count": null,
   "id": "11a2dddb-872a-44ec-bc6d-810e4f4e17f5",
   "metadata": {},
   "outputs": [],
   "source": [
    "# mean expression per group (normalized and scaled)\n",
    "ex = sc.pl.matrixplot(adata, [gene], groupby='clusters', swap_axes=False, figsize=(2,5), standard_scale=\"var\", return_fig=True, layer=\"normalized\").values_df\n",
    "ex.columns = ['mean_expression']\n",
    "ex"
   ]
  },
  {
   "cell_type": "code",
   "execution_count": null,
   "id": "0e2496c1-78f4-4db8-adb3-40d4f96761c6",
   "metadata": {},
   "outputs": [],
   "source": [
    "# dotplot dot size = fraction of cells in group expressing Foxf2\n",
    "fc = sc.pl.dotplot(adata, [gene], groupby='clusters', swap_axes=False, figsize=(2,7), standard_scale=\"var\",return_fig=True, layer=\"normalized\").dot_size_df\n",
    "fc.columns = ['fraction_of_cells']\n",
    "fc"
   ]
  },
  {
   "cell_type": "code",
   "execution_count": null,
   "id": "04ee88e0-051d-43de-af25-23aa0f555ec1",
   "metadata": {},
   "outputs": [],
   "source": [
    "foxf2 = pd.concat([ex, fc], axis=1)\n",
    "foxf2['gene'] = gene\n",
    "foxf2['source'] = \"Garcia2022\"\n",
    "foxf2['organism'] = \"Human\"\n",
    "foxf2['cell_number'] = pd.DataFrame(adata.obs[\"clusters\"].value_counts()).reindex(foxf2.index)\n",
    "foxf2"
   ]
  },
  {
   "cell_type": "code",
   "execution_count": null,
   "id": "b24a5fc7-f14b-4bb0-bcc0-7127fad21c2e",
   "metadata": {},
   "outputs": [],
   "source": [
    "# export\n",
    "name='Garcia2022'"
   ]
  },
  {
   "cell_type": "code",
   "execution_count": null,
   "id": "b9ffe499-d7d5-4a2f-ab5b-e3a082d628cc",
   "metadata": {},
   "outputs": [],
   "source": [
    "# Win\n",
    "foxf2.to_csv(main_dir+'/Others_summarized/'+ date.today().strftime(\"%Y%m%d\")+'_'+gene+'_'+name+'_normalized.csv',sep=';')"
   ]
  },
  {
   "cell_type": "markdown",
   "id": "dcf5e3d0-b96b-48f1-8ec3-89dac09d76da",
   "metadata": {},
   "source": [
    "## EFNB2"
   ]
  },
  {
   "cell_type": "code",
   "execution_count": null,
   "id": "2bb4a9dd-0ac9-446c-8cd2-8739315cca03",
   "metadata": {},
   "outputs": [],
   "source": [
    "gene=\"EFNB2\""
   ]
  },
  {
   "cell_type": "markdown",
   "id": "5460576a-69bb-4aef-b020-ca6837610be9",
   "metadata": {},
   "source": [
    "### Plot"
   ]
  },
  {
   "cell_type": "code",
   "execution_count": null,
   "id": "35c40382-1a5f-4f08-8e05-05cfd925959d",
   "metadata": {},
   "outputs": [],
   "source": [
    "sc.pl.matrixplot(adata, [gene], groupby='clusters', swap_axes=False, figsize=(2,5), standard_scale=\"var\", layer=\"normalized\")"
   ]
  },
  {
   "cell_type": "code",
   "execution_count": null,
   "id": "7c506ba6-416c-46ea-bb86-545164cd4e9e",
   "metadata": {},
   "outputs": [],
   "source": [
    "sc.pl.matrixplot(adata, [gene], groupby='clusters2', swap_axes=False, figsize=(2,5), standard_scale=\"var\", layer=\"normalized\")"
   ]
  },
  {
   "cell_type": "code",
   "execution_count": null,
   "id": "7ad14a9b-ef2c-4497-9c8d-d998cfc3977b",
   "metadata": {},
   "outputs": [],
   "source": [
    "sc.pl.dotplot(adata, [gene], groupby='clusters', swap_axes=False, figsize=(2,5), standard_scale=\"var\", layer=\"normalized\")"
   ]
  },
  {
   "cell_type": "code",
   "execution_count": null,
   "id": "922606ef-a129-479e-8508-151b7fb737c9",
   "metadata": {},
   "outputs": [],
   "source": [
    "sc.pl.dotplot(adata, [gene], groupby='clusters2', swap_axes=False, figsize=(2,5), standard_scale=\"var\", layer=\"normalized\")"
   ]
  },
  {
   "cell_type": "markdown",
   "id": "a4814250-b33a-4ec2-a1fb-3d210a0668dd",
   "metadata": {},
   "source": [
    "### Excl zonation"
   ]
  },
  {
   "cell_type": "code",
   "execution_count": null,
   "id": "22d4bc76-a03f-427a-80cc-81e6fbd22014",
   "metadata": {},
   "outputs": [],
   "source": [
    "# mean expression per group (normalized and scaled)\n",
    "ex = sc.pl.matrixplot(adata, [gene], groupby='clusters', swap_axes=False, figsize=(2,5), standard_scale=\"var\", return_fig=True, layer=\"normalized\").values_df\n",
    "ex.columns = ['mean_expression']\n",
    "ex"
   ]
  },
  {
   "cell_type": "code",
   "execution_count": null,
   "id": "a4b9618a-14a3-4e1b-9672-08a8b7d64b11",
   "metadata": {},
   "outputs": [],
   "source": [
    "# dotplot dot size = fraction of cells in group expressing Foxf2\n",
    "fc = sc.pl.dotplot(adata, [gene], groupby='clusters', swap_axes=False, figsize=(2,7), standard_scale=\"var\",return_fig=True, layer=\"normalized\").dot_size_df\n",
    "fc.columns = ['fraction_of_cells']\n",
    "fc"
   ]
  },
  {
   "cell_type": "code",
   "execution_count": null,
   "id": "0f300d44-6489-40c6-b0f3-6cd94cd94fac",
   "metadata": {},
   "outputs": [],
   "source": [
    "foxf2 = pd.concat([ex, fc], axis=1)\n",
    "foxf2['gene'] = gene\n",
    "foxf2['source'] = \"Garcia2022\"\n",
    "foxf2['organism'] = \"Human\"\n",
    "foxf2['cell_number'] = pd.DataFrame(adata.obs[\"clusters\"].value_counts()).reindex(foxf2.index)\n",
    "foxf2"
   ]
  },
  {
   "cell_type": "code",
   "execution_count": null,
   "id": "c3a91540-f9e4-4c08-bb17-4910e2df17fb",
   "metadata": {},
   "outputs": [],
   "source": [
    "# export\n",
    "name='Garcia2022'"
   ]
  },
  {
   "cell_type": "code",
   "execution_count": null,
   "id": "14fed284-e4c8-4dea-a4c3-8aad4fc39e63",
   "metadata": {},
   "outputs": [],
   "source": [
    "# Win\n",
    "foxf2.to_csv(main_dir+'/Others_summarized/'+ date.today().strftime(\"%Y%m%d\")+'_'+gene+'_'+name+'_normalized.csv',sep=';')"
   ]
  },
  {
   "cell_type": "markdown",
   "id": "efdf78f9-a399-4f04-8fb2-55e9382dbc0e",
   "metadata": {},
   "source": [
    "## ITGB1"
   ]
  },
  {
   "cell_type": "code",
   "execution_count": null,
   "id": "3f25f423-e1dc-4dca-9d75-f9eb81508ff0",
   "metadata": {},
   "outputs": [],
   "source": [
    "gene=\"ITGB1\""
   ]
  },
  {
   "cell_type": "markdown",
   "id": "c7e65705-b829-47f9-9085-acc58d04fe5f",
   "metadata": {},
   "source": [
    "### Plot"
   ]
  },
  {
   "cell_type": "code",
   "execution_count": null,
   "id": "b8f23254-e1df-40dd-adc9-660c6ce4e37f",
   "metadata": {},
   "outputs": [],
   "source": [
    "sc.pl.matrixplot(adata, [gene], groupby='clusters', swap_axes=False, figsize=(2,5), standard_scale=\"var\", layer=\"normalized\")"
   ]
  },
  {
   "cell_type": "code",
   "execution_count": null,
   "id": "2d38a209-f0e1-4313-b4e2-00bb15d90953",
   "metadata": {},
   "outputs": [],
   "source": [
    "sc.pl.matrixplot(adata, [gene], groupby='clusters2', swap_axes=False, figsize=(2,5), standard_scale=\"var\", layer=\"normalized\")"
   ]
  },
  {
   "cell_type": "code",
   "execution_count": null,
   "id": "39ee3d4b-00a0-4825-b485-b08a95315ec2",
   "metadata": {},
   "outputs": [],
   "source": [
    "sc.pl.dotplot(adata, [gene], groupby='clusters', swap_axes=False, figsize=(2,5), standard_scale=\"var\", layer=\"normalized\")"
   ]
  },
  {
   "cell_type": "code",
   "execution_count": null,
   "id": "4fa131a0-30db-48eb-8162-490b0e8bba61",
   "metadata": {},
   "outputs": [],
   "source": [
    "sc.pl.dotplot(adata, [gene], groupby='clusters2', swap_axes=False, figsize=(2,5), standard_scale=\"var\", layer=\"normalized\")"
   ]
  },
  {
   "cell_type": "markdown",
   "id": "92d14621-c2e2-40cd-bdbe-ec2e9902b56f",
   "metadata": {},
   "source": [
    "### Excl zonation"
   ]
  },
  {
   "cell_type": "code",
   "execution_count": null,
   "id": "3d561ef6-5049-46cb-a87f-34fb059d8324",
   "metadata": {},
   "outputs": [],
   "source": [
    "# mean expression per group (normalized and scaled)\n",
    "ex = sc.pl.matrixplot(adata, [gene], groupby='clusters', swap_axes=False, figsize=(2,5), standard_scale=\"var\", return_fig=True, layer=\"normalized\").values_df\n",
    "ex.columns = ['mean_expression']\n",
    "ex"
   ]
  },
  {
   "cell_type": "code",
   "execution_count": null,
   "id": "2c6d3d1d-3a27-4a58-8d3a-642be2374416",
   "metadata": {},
   "outputs": [],
   "source": [
    "# dotplot dot size = fraction of cells in group expressing Foxf2\n",
    "fc = sc.pl.dotplot(adata, [gene], groupby='clusters', swap_axes=False, figsize=(2,7), standard_scale=\"var\",return_fig=True, layer=\"normalized\").dot_size_df\n",
    "fc.columns = ['fraction_of_cells']\n",
    "fc"
   ]
  },
  {
   "cell_type": "code",
   "execution_count": null,
   "id": "b1482b11-f744-4cd7-8ae9-b0942c0740c1",
   "metadata": {},
   "outputs": [],
   "source": [
    "foxf2 = pd.concat([ex, fc], axis=1)\n",
    "foxf2['gene'] = gene\n",
    "foxf2['source'] = \"Garcia2022\"\n",
    "foxf2['organism'] = \"Human\"\n",
    "foxf2['cell_number'] = pd.DataFrame(adata.obs[\"clusters\"].value_counts()).reindex(foxf2.index)\n",
    "foxf2"
   ]
  },
  {
   "cell_type": "code",
   "execution_count": null,
   "id": "10925990-a5eb-43cc-a13b-79b310a3f1d0",
   "metadata": {},
   "outputs": [],
   "source": [
    "# export\n",
    "name='Garcia2022'"
   ]
  },
  {
   "cell_type": "code",
   "execution_count": null,
   "id": "438c453d-339a-4934-bb08-d732cf2d11e0",
   "metadata": {},
   "outputs": [],
   "source": [
    "# Win\n",
    "foxf2.to_csv(main_dir+'/Others_summarized/'+ date.today().strftime(\"%Y%m%d\")+'_'+gene+'_'+name+'_normalized.csv',sep=';')"
   ]
  },
  {
   "cell_type": "markdown",
   "id": "8c3603f3-d05c-48a6-aa74-016ff2d79f20",
   "metadata": {},
   "source": [
    "## ANGPT2"
   ]
  },
  {
   "cell_type": "code",
   "execution_count": null,
   "id": "b7d30eb5-38eb-4e07-8856-dba6e9c6a6ae",
   "metadata": {},
   "outputs": [],
   "source": [
    "gene=\"ANGPT2\""
   ]
  },
  {
   "cell_type": "markdown",
   "id": "9a0c1a7a-57a4-4968-b998-1365ecb8f379",
   "metadata": {},
   "source": [
    "### Plot"
   ]
  },
  {
   "cell_type": "code",
   "execution_count": null,
   "id": "42f7e4c7-96ae-4e0e-82c5-25bbb208d577",
   "metadata": {},
   "outputs": [],
   "source": [
    "sc.pl.matrixplot(adata, [gene], groupby='clusters', swap_axes=False, figsize=(2,5), standard_scale=\"var\", layer=\"normalized\")"
   ]
  },
  {
   "cell_type": "code",
   "execution_count": null,
   "id": "32261f78-e15a-4a69-9520-8be51cef875e",
   "metadata": {},
   "outputs": [],
   "source": [
    "sc.pl.matrixplot(adata, [gene], groupby='clusters2', swap_axes=False, figsize=(2,5), standard_scale=\"var\", layer=\"normalized\")"
   ]
  },
  {
   "cell_type": "code",
   "execution_count": null,
   "id": "d544dade-c262-4f3e-9c66-8e4c4b6e964b",
   "metadata": {},
   "outputs": [],
   "source": [
    "sc.pl.dotplot(adata, [gene], groupby='clusters', swap_axes=False, figsize=(2,5), standard_scale=\"var\", layer=\"normalized\")"
   ]
  },
  {
   "cell_type": "code",
   "execution_count": null,
   "id": "65f42a5d-cc22-4ca0-a3e3-730e1bf55ad1",
   "metadata": {},
   "outputs": [],
   "source": [
    "sc.pl.dotplot(adata, [gene], groupby='clusters2', swap_axes=False, figsize=(2,5), standard_scale=\"var\", layer=\"normalized\")"
   ]
  },
  {
   "cell_type": "markdown",
   "id": "e305d29c-e4c3-4679-9fc1-36a54bc8d7af",
   "metadata": {},
   "source": [
    "### Excl zonation"
   ]
  },
  {
   "cell_type": "code",
   "execution_count": null,
   "id": "a87eb8ad-1682-479a-adb8-392cb1e52172",
   "metadata": {},
   "outputs": [],
   "source": [
    "# mean expression per group (normalized and scaled)\n",
    "ex = sc.pl.matrixplot(adata, [gene], groupby='clusters', swap_axes=False, figsize=(2,5), standard_scale=\"var\", return_fig=True, layer=\"normalized\").values_df\n",
    "ex.columns = ['mean_expression']\n",
    "ex"
   ]
  },
  {
   "cell_type": "code",
   "execution_count": null,
   "id": "f6ffef81-6d24-48b3-9872-e020e2cb1f86",
   "metadata": {},
   "outputs": [],
   "source": [
    "# dotplot dot size = fraction of cells in group expressing Foxf2\n",
    "fc = sc.pl.dotplot(adata, [gene], groupby='clusters', swap_axes=False, figsize=(2,7), standard_scale=\"var\",return_fig=True, layer=\"normalized\").dot_size_df\n",
    "fc.columns = ['fraction_of_cells']\n",
    "fc"
   ]
  },
  {
   "cell_type": "code",
   "execution_count": null,
   "id": "5ca4e231-8adb-49c8-bbd7-096aa5c17fc7",
   "metadata": {},
   "outputs": [],
   "source": [
    "foxf2 = pd.concat([ex, fc], axis=1)\n",
    "foxf2['gene'] = gene\n",
    "foxf2['source'] = \"Garcia2022\"\n",
    "foxf2['organism'] = \"Human\"\n",
    "foxf2['cell_number'] = pd.DataFrame(adata.obs[\"clusters\"].value_counts()).reindex(foxf2.index)\n",
    "foxf2"
   ]
  },
  {
   "cell_type": "code",
   "execution_count": null,
   "id": "364c36d2-63d9-4c18-8256-3c08731c3b66",
   "metadata": {},
   "outputs": [],
   "source": [
    "# export\n",
    "name='Garcia2022'"
   ]
  },
  {
   "cell_type": "code",
   "execution_count": null,
   "id": "b7cbfbbf-1ed7-4db8-8dab-ab4ddcf47752",
   "metadata": {},
   "outputs": [],
   "source": [
    "# Win\n",
    "foxf2.to_csv(main_dir+'/Others_summarized/'+ date.today().strftime(\"%Y%m%d\")+'_'+gene+'_'+name+'_normalized.csv',sep=';')"
   ]
  },
  {
   "cell_type": "markdown",
   "id": "c17ed7c7-4f4a-4b80-9ba6-9ff3ccf11592",
   "metadata": {},
   "source": [
    "## CDH5"
   ]
  },
  {
   "cell_type": "code",
   "execution_count": null,
   "id": "ddfed18b-2f4e-4063-afb6-06c808ed5d38",
   "metadata": {},
   "outputs": [],
   "source": [
    "gene=\"CDH5\""
   ]
  },
  {
   "cell_type": "markdown",
   "id": "b7f0aa92-3410-4338-ab31-03879c45dd8d",
   "metadata": {},
   "source": [
    "### Plot"
   ]
  },
  {
   "cell_type": "code",
   "execution_count": null,
   "id": "6da6ff76-31a8-473e-80bb-63ab6dbea6f3",
   "metadata": {},
   "outputs": [],
   "source": [
    "sc.pl.matrixplot(adata, [gene], groupby='clusters', swap_axes=False, figsize=(2,5), standard_scale=\"var\", layer=\"normalized\")"
   ]
  },
  {
   "cell_type": "code",
   "execution_count": null,
   "id": "de01b209-0606-454d-a1b2-691704cab571",
   "metadata": {},
   "outputs": [],
   "source": [
    "sc.pl.matrixplot(adata, [gene], groupby='clusters2', swap_axes=False, figsize=(2,5), standard_scale=\"var\", layer=\"normalized\")"
   ]
  },
  {
   "cell_type": "code",
   "execution_count": null,
   "id": "558c461c-7494-49c9-ae35-445b772d1fff",
   "metadata": {},
   "outputs": [],
   "source": [
    "sc.pl.dotplot(adata, [gene], groupby='clusters', swap_axes=False, figsize=(2,5), standard_scale=\"var\", layer=\"normalized\")"
   ]
  },
  {
   "cell_type": "code",
   "execution_count": null,
   "id": "01b1fc69-f098-4abd-aa1a-fe0e672387a3",
   "metadata": {},
   "outputs": [],
   "source": [
    "sc.pl.dotplot(adata, [gene], groupby='clusters2', swap_axes=False, figsize=(2,5), standard_scale=\"var\", layer=\"normalized\")"
   ]
  },
  {
   "cell_type": "markdown",
   "id": "ff7c62c6-0dde-4ba0-a560-089c78231d09",
   "metadata": {},
   "source": [
    "### Excl zonation"
   ]
  },
  {
   "cell_type": "code",
   "execution_count": null,
   "id": "d668c4c0-4267-469f-bf3b-5aa23fd55d43",
   "metadata": {},
   "outputs": [],
   "source": [
    "# mean expression per group (normalized and scaled)\n",
    "ex = sc.pl.matrixplot(adata, [gene], groupby='clusters', swap_axes=False, figsize=(2,5), standard_scale=\"var\", return_fig=True, layer=\"normalized\").values_df\n",
    "ex.columns = ['mean_expression']\n",
    "ex"
   ]
  },
  {
   "cell_type": "code",
   "execution_count": null,
   "id": "fcdf888d-0da7-41f6-abba-72d2fec286f2",
   "metadata": {},
   "outputs": [],
   "source": [
    "# dotplot dot size = fraction of cells in group expressing Foxf2\n",
    "fc = sc.pl.dotplot(adata, [gene], groupby='clusters', swap_axes=False, figsize=(2,7), standard_scale=\"var\",return_fig=True, layer=\"normalized\").dot_size_df\n",
    "fc.columns = ['fraction_of_cells']\n",
    "fc"
   ]
  },
  {
   "cell_type": "code",
   "execution_count": null,
   "id": "d7f4a522-0625-4571-a4c5-c15aa539febf",
   "metadata": {},
   "outputs": [],
   "source": [
    "foxf2 = pd.concat([ex, fc], axis=1)\n",
    "foxf2['gene'] = gene\n",
    "foxf2['source'] = \"Garcia2022\"\n",
    "foxf2['organism'] = \"Human\"\n",
    "foxf2['cell_number'] = pd.DataFrame(adata.obs[\"clusters\"].value_counts()).reindex(foxf2.index)\n",
    "foxf2"
   ]
  },
  {
   "cell_type": "code",
   "execution_count": null,
   "id": "19a62e21-6a7b-4551-824f-62a6c2d7ffed",
   "metadata": {},
   "outputs": [],
   "source": [
    "# export\n",
    "name='Garcia2022'"
   ]
  },
  {
   "cell_type": "code",
   "execution_count": null,
   "id": "9abe0627-f38b-4f85-a8e1-253d1b256404",
   "metadata": {},
   "outputs": [],
   "source": [
    "# Win\n",
    "foxf2.to_csv(main_dir+'/Others_summarized/'+ date.today().strftime(\"%Y%m%d\")+'_'+gene+'_'+name+'_normalized.csv',sep=';')"
   ]
  },
  {
   "cell_type": "markdown",
   "id": "2b50bbcc-d764-49b9-8cc0-d3173fd8239e",
   "metadata": {},
   "source": [
    "# Session Info"
   ]
  },
  {
   "cell_type": "code",
   "execution_count": null,
   "id": "06401063-4335-4d98-ad41-2bab36a17eab",
   "metadata": {},
   "outputs": [],
   "source": [
    "sc.logging.print_versions()"
   ]
  }
 ],
 "metadata": {
  "kernelspec": {
   "display_name": "squidpy",
   "language": "python",
   "name": "squidpy"
  },
  "language_info": {
   "codemirror_mode": {
    "name": "ipython",
    "version": 3
   },
   "file_extension": ".py",
   "mimetype": "text/x-python",
   "name": "python",
   "nbconvert_exporter": "python",
   "pygments_lexer": "ipython3"
  }
 },
 "nbformat": 4,
 "nbformat_minor": 5
}
