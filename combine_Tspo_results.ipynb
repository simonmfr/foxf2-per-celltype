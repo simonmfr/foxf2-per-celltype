{
 "cells": [
  {
   "cell_type": "markdown",
   "id": "9bfa00be-69ba-4146-aba2-818b967492c3",
   "metadata": {
    "jp-MarkdownHeadingCollapsed": true,
    "tags": []
   },
   "source": [
    "<font size=\"+3.8\">Tspo Expression per Cell Type</font>  \n",
    "<font size=\"+1.5\"></font>  "
   ]
  },
  {
   "cell_type": "markdown",
   "id": "563f0b43-ce10-475f-b355-6fa8a2406dad",
   "metadata": {},
   "source": [
    "Aim: Combine and plot Tspo expression from processed scRNA-seq studies. Processing see separate scripts."
   ]
  },
  {
   "cell_type": "markdown",
   "id": "4329fd40-436d-49d1-8ace-519c763703ea",
   "metadata": {},
   "source": [
    "For Herms lab 02/2025"
   ]
  },
  {
   "cell_type": "code",
   "execution_count": null,
   "id": "79e4eb2f-b1e7-416d-96d7-d8d1a5b3987a",
   "metadata": {
    "tags": []
   },
   "outputs": [],
   "source": [
    "from datetime import date\n",
    "date.today().strftime('%d/%m/%Y')"
   ]
  },
  {
   "cell_type": "code",
   "execution_count": null,
   "id": "ed57a89e-32a0-44a4-aa9f-cb6885cb4a6b",
   "metadata": {
    "tags": []
   },
   "outputs": [],
   "source": [
    "import os\n",
    "os.getlogin()"
   ]
  },
  {
   "cell_type": "code",
   "execution_count": null,
   "id": "c4f25c8a-47e9-48b5-af79-04fe44b4068d",
   "metadata": {
    "tags": []
   },
   "outputs": [],
   "source": [
    "import numpy as np\n",
    "import pandas as pd\n",
    "import scanpy as sc\n",
    "import matplotlib as mpl\n",
    "import matplotlib.pyplot as plt\n",
    "import os\n",
    "import glob\n",
    "from datetime import date\n",
    "from matplotlib.pyplot import rc_context\n",
    "import seaborn as sns\n",
    "import platform"
   ]
  },
  {
   "cell_type": "code",
   "execution_count": null,
   "id": "b503d3db-fcfe-4d5a-890d-171b154da2b2",
   "metadata": {},
   "outputs": [],
   "source": [
    "import fnmatch"
   ]
  },
  {
   "cell_type": "code",
   "execution_count": null,
   "id": "570595c9-29aa-4697-9138-6438ad4e2574",
   "metadata": {
    "tags": []
   },
   "outputs": [],
   "source": [
    "os.environ['CONDA_DEFAULT_ENV'] # conda env"
   ]
  },
  {
   "cell_type": "code",
   "execution_count": null,
   "id": "b842033f-b427-491d-ba5c-3e6647454f89",
   "metadata": {
    "tags": []
   },
   "outputs": [],
   "source": [
    "platform.platform()"
   ]
  },
  {
   "cell_type": "code",
   "execution_count": null,
   "id": "fc7d8b45-6ec5-428f-89f2-08540e479ab8",
   "metadata": {
    "tags": []
   },
   "outputs": [],
   "source": [
    "sc.settings.verbosity = 3"
   ]
  },
  {
   "cell_type": "code",
   "execution_count": null,
   "id": "f46a7618-6a0d-48a7-b77a-065afc204527",
   "metadata": {
    "tags": []
   },
   "outputs": [],
   "source": [
    "main_dir='/run/user/1000/gvfs/smb-share:server=138.245.4.35,share=bd-dichgans/SF' # Linux\n",
    "main_dir='\\\\\\isdsynnas.srv.med.uni-muenchen.de\\BD-Dichgans\\SF' # Win\n",
    "main_dir='/Volumes/BD-Dichgans/SF'"
   ]
  },
  {
   "cell_type": "markdown",
   "id": "1ce73c09-37b6-4471-a908-50912a193bf5",
   "metadata": {},
   "source": [
    "# Tspo"
   ]
  },
  {
   "cell_type": "code",
   "execution_count": null,
   "id": "91663d52-b01c-4152-8392-e4a156ab26a3",
   "metadata": {},
   "outputs": [],
   "source": [
    "gene=\"Tspo\""
   ]
  },
  {
   "cell_type": "markdown",
   "id": "d75da520-0b28-417d-877e-f167db41ef30",
   "metadata": {},
   "source": [
    "## Load data"
   ]
  },
  {
   "cell_type": "code",
   "execution_count": null,
   "id": "8c044cf4-84e1-466b-a0bc-46dadfd3edd1",
   "metadata": {},
   "outputs": [],
   "source": [
    "path = os.path.join(main_dir,'P06_Foxf2_per_celltype','202502-Tspo-HermsLab', 'Genes_summarized')\n",
    "all_files = os.listdir(path)\n",
    "matching_files = [file for file in all_files if gene.lower() in file.lower() and file.endswith(\".csv\")]\n",
    "matching_files"
   ]
  },
  {
   "cell_type": "code",
   "execution_count": null,
   "id": "2e5597f9-5a60-41db-a99a-a27eb73ce0f8",
   "metadata": {},
   "outputs": [],
   "source": [
    "li = []\n",
    "\n",
    "for filename in matching_files:\n",
    "    df = pd.read_csv(os.path.join(path,filename), index_col=None, header=0, sep=\";\")\n",
    "    li.append(df)\n",
    "\n",
    "all = pd.concat(li, axis=0, ignore_index=True)"
   ]
  },
  {
   "cell_type": "code",
   "execution_count": null,
   "id": "ad3987ec-633d-4c20-a8dd-960aadf9327d",
   "metadata": {},
   "outputs": [],
   "source": [
    "all.source.unique()"
   ]
  },
  {
   "cell_type": "code",
   "execution_count": null,
   "id": "f57e7bb3-87b3-4d4e-a538-026bd36ffb77",
   "metadata": {},
   "outputs": [],
   "source": [
    "all.gene.unique()"
   ]
  },
  {
   "cell_type": "markdown",
   "id": "8de2c560-6db4-49ee-8e77-73b259efe556",
   "metadata": {},
   "source": [
    "## Format"
   ]
  },
  {
   "cell_type": "markdown",
   "id": "9ad0c9bb-a9c1-44cb-9ac5-caa524e6f03b",
   "metadata": {},
   "source": [
    "### Remove celltypes"
   ]
  },
  {
   "cell_type": "markdown",
   "id": "9d60fd39-5f0c-45a7-8e50-82bd2e5a267e",
   "metadata": {},
   "source": [
    "Remove celltypes which are only available in few studies"
   ]
  },
  {
   "cell_type": "code",
   "execution_count": null,
   "id": "6106073c-6f2b-46cd-b18b-a0eb1792130b",
   "metadata": {},
   "outputs": [],
   "source": [
    "all.clusters.value_counts()"
   ]
  },
  {
   "cell_type": "code",
   "execution_count": null,
   "id": "d45891bc-986d-498c-a60d-18920a539e38",
   "metadata": {},
   "outputs": [],
   "source": [
    "pd.options.display.max_columns=50\n",
    "pd.crosstab(all.source, all.clusters)"
   ]
  },
  {
   "cell_type": "code",
   "execution_count": null,
   "id": "c748894a-e440-4291-a964-def95fd7ce16",
   "metadata": {},
   "outputs": [],
   "source": [
    "all = all[all.clusters != \"Unknown\"]\n",
    "all = all[all.clusters != 'Immune_Other']\n",
    "all = all[all.clusters != 'Olfactory ensheathing cells']\n",
    "all = all[all.clusters != 'Fibromyocytes']\n",
    "all = all[all.clusters != 'T cells']\n",
    "all = all[all.clusters != 'NK/T cells']\n",
    "all = all[all.clusters != 'Choroid plexus epithelial cells']\n",
    "all = all[all.clusters != 'Neuroepithelial cells']\n",
    "all = all[all.clusters != 'Olfactory ensheathing cells']"
   ]
  },
  {
   "cell_type": "code",
   "execution_count": null,
   "id": "bdd3c1e1-3c77-466d-b635-ca073b8f3eff",
   "metadata": {},
   "outputs": [],
   "source": [
    "all = all[all.clusters != 'Hemoglobin-expressing vascular cells']\n",
    "all = all[all.clusters != 'Olfactory ensheathing glia']\n",
    "all = all[all.clusters != 'Hypendymal cells']"
   ]
  },
  {
   "cell_type": "markdown",
   "id": "2c0f745e-005b-458c-986e-d46792fc1b03",
   "metadata": {},
   "source": [
    "### Rename Oligos"
   ]
  },
  {
   "cell_type": "code",
   "execution_count": null,
   "id": "1230f001-f687-45d2-a699-38611e868a08",
   "metadata": {},
   "outputs": [],
   "source": [
    "all = all.replace(\"Oligos\",\"Oligodendrocytes\")"
   ]
  },
  {
   "cell_type": "markdown",
   "id": "b2c6d4b3-9d31-4998-8e47-517d63f42b8d",
   "metadata": {},
   "source": [
    "### Match Microglia naming"
   ]
  },
  {
   "cell_type": "code",
   "execution_count": null,
   "id": "61cc3479-9e8e-47f7-b5d8-e65712306de2",
   "metadata": {},
   "outputs": [],
   "source": [
    "all.clusters.unique().tolist()"
   ]
  },
  {
   "cell_type": "code",
   "execution_count": null,
   "id": "730349ac-9862-44be-94f9-2a3092e018bb",
   "metadata": {},
   "outputs": [],
   "source": [
    "all = all.replace(\"Microglia\",\"Microglia/Mφ\")"
   ]
  },
  {
   "cell_type": "code",
   "execution_count": null,
   "id": "63796197-0c04-4e78-87e1-c44242a93465",
   "metadata": {},
   "outputs": [],
   "source": [
    "all = all.replace(\"Macrophages\",\"Microglia/Mφ\")"
   ]
  },
  {
   "cell_type": "code",
   "execution_count": null,
   "id": "a692468a-ebbc-4e53-a42d-c03964b339e8",
   "metadata": {},
   "outputs": [],
   "source": [
    "all = all.replace(\"Microglia/Macrophages\",\"Microglia/Mφ\")"
   ]
  },
  {
   "cell_type": "code",
   "execution_count": null,
   "id": "063c8e4b-7a1e-46e0-b7ec-aa1e5152831f",
   "metadata": {},
   "outputs": [],
   "source": [
    "all.clusters.unique().tolist()"
   ]
  },
  {
   "cell_type": "markdown",
   "id": "b9ad96e6-643a-4858-abfe-426db2f12b16",
   "metadata": {},
   "source": [
    "### SMCs/Pericytes"
   ]
  },
  {
   "cell_type": "code",
   "execution_count": null,
   "id": "73bac913-929e-4d49-ae44-ac879319a7ed",
   "metadata": {},
   "outputs": [],
   "source": [
    "all[all.clusters==\"SMCs/Pericytes\"]"
   ]
  },
  {
   "cell_type": "code",
   "execution_count": null,
   "id": "0092b3fd-e5c8-49c9-8f8a-472eceaee76e",
   "metadata": {},
   "outputs": [],
   "source": [
    "all = all.replace(\"SMCs/Pericytes\",\"SMCs\") # rather SMCs than pericytes, see TabulaMurisSenis2020 pp script"
   ]
  },
  {
   "cell_type": "markdown",
   "id": "ee4fc351-2e35-4fc7-9416-34bd884ad170",
   "metadata": {},
   "source": [
    "### Fibroblasts = VLMC"
   ]
  },
  {
   "cell_type": "markdown",
   "id": "52db8089-4bfa-44b3-8084-7276aa3ae14f",
   "metadata": {},
   "source": [
    "See Zeisel 2018 Cell"
   ]
  },
  {
   "cell_type": "code",
   "execution_count": null,
   "id": "e8d7ca1a-ef8b-4759-8c9c-af252210723a",
   "metadata": {},
   "outputs": [],
   "source": [
    "all = all.replace(\"Leptomeningeal cells\",\"Fibroblasts\")"
   ]
  },
  {
   "cell_type": "code",
   "execution_count": null,
   "id": "87a046be-569e-4758-be54-379fb234e55e",
   "metadata": {},
   "outputs": [],
   "source": [
    "all = all.replace(\"VLMCs\",\"Fibroblasts\")"
   ]
  },
  {
   "cell_type": "markdown",
   "id": "347763f5-24c8-4ef5-8066-b810994d52e3",
   "metadata": {},
   "source": [
    "### Group Neuroblasts/Neuronal stem cells"
   ]
  },
  {
   "cell_type": "code",
   "execution_count": null,
   "id": "32e34f90-de24-429d-8237-67bfe8b577b5",
   "metadata": {},
   "outputs": [],
   "source": [
    "# Group Neurogenesis + Neuroblasts + Neuronal stem cells"
   ]
  },
  {
   "cell_type": "code",
   "execution_count": null,
   "id": "968b6a63-5b9b-448a-802a-2911c47d4fd8",
   "metadata": {},
   "outputs": [],
   "source": [
    "all = all.replace(\"Neuroblasts\",\"Neuroblasts/NSCs\")\n",
    "all = all.replace(\"Neuronal stem cells\",\"Neuroblasts/NSCs\")\n",
    "all = all.replace(\"Neurogenesis\",\"Neuroblasts/NSCs\")\n",
    "all = all.replace(\"Neural stem cells\",\"Neuroblasts/NSCs\")"
   ]
  },
  {
   "cell_type": "code",
   "execution_count": null,
   "id": "30994105-65e7-4c6f-97b9-7c0fcbb2844a",
   "metadata": {},
   "outputs": [],
   "source": [
    "all[all.clusters==\"Neuroblasts/NSCs\"]"
   ]
  },
  {
   "cell_type": "markdown",
   "id": "09b24072-e658-4642-8949-8441cf30da77",
   "metadata": {
    "tags": []
   },
   "source": [
    "### Rename ECs"
   ]
  },
  {
   "cell_type": "code",
   "execution_count": null,
   "id": "3ab44903-0895-4d15-afc5-79d980cb8f45",
   "metadata": {},
   "outputs": [],
   "source": [
    "# rename ECs to Endothelial cells"
   ]
  },
  {
   "cell_type": "code",
   "execution_count": null,
   "id": "cdc3ad0b-f518-4e49-88b6-a47a2b1a8a48",
   "metadata": {},
   "outputs": [],
   "source": [
    "all2 = all"
   ]
  },
  {
   "cell_type": "code",
   "execution_count": null,
   "id": "b621eea1-dd8d-4ff3-91b1-90e31f5982f8",
   "metadata": {},
   "outputs": [],
   "source": [
    "all2 = all2.replace(\"ECs\",\"Endothelial cells\")"
   ]
  },
  {
   "cell_type": "markdown",
   "id": "214c744b-65a8-4a31-9321-44cbe554d249",
   "metadata": {},
   "source": [
    "### Set order of axes"
   ]
  },
  {
   "cell_type": "code",
   "execution_count": null,
   "id": "88ba8555-b1dc-417d-a238-34c405ca61be",
   "metadata": {},
   "outputs": [],
   "source": [
    "all2.clusters.unique().tolist()"
   ]
  },
  {
   "cell_type": "code",
   "execution_count": null,
   "id": "07c5ccc5-0fb9-45cd-823a-92a0faebb561",
   "metadata": {},
   "outputs": [],
   "source": [
    "#all2.source = pd.Categorical(all2.source, categories= [\"Heindl2022\", \"Vanlandewijck2018\", \"Saunders2018\", \"Zeisel2018\", \"TabulaMuris2018\", \"Winkler2022\", \"Yang2022\", \"Siletti2022\", \"Garcia2022\"])"
   ]
  },
  {
   "cell_type": "code",
   "execution_count": null,
   "id": "87e7511d-c661-42b6-87dd-77d8c18ee867",
   "metadata": {},
   "outputs": [],
   "source": [
    "all2.source = pd.Categorical(all2.source, categories= [\"Heindl2022\", \"Saunders2018\", \"Yang2022\"])"
   ]
  },
  {
   "cell_type": "code",
   "execution_count": null,
   "id": "dc199088-ced8-4f9c-bdab-0a7a8e2201ef",
   "metadata": {},
   "outputs": [],
   "source": [
    "all2.clusters = pd.Categorical(all2.clusters, categories= [\"Astrocytes\",\"Microglia/Mφ\", \"Oligodendrocytes\", \"OPCs\", \"Endothelial cells\", \"Pericytes\", \"SMCs\", \"Fibroblasts\", \"Neurons\", \"Neuroblasts/NSCs\", \"Ependymal cells\"])"
   ]
  },
  {
   "cell_type": "code",
   "execution_count": null,
   "id": "ef186169-5f83-4941-a456-60f11f46b2ad",
   "metadata": {},
   "outputs": [],
   "source": [
    "all2 = all2.sort_values(\"clusters\")"
   ]
  },
  {
   "cell_type": "markdown",
   "id": "c4118a74-b760-4494-8b38-9c6aa576e2f8",
   "metadata": {},
   "source": [
    "### Rename studies"
   ]
  },
  {
   "cell_type": "code",
   "execution_count": null,
   "id": "f9070e54-a23c-4be4-b345-3ab488738c77",
   "metadata": {},
   "outputs": [],
   "source": [
    "all2 = all2.replace(\"Saunders2018\",\"Saunders, 2018, Cell\")"
   ]
  },
  {
   "cell_type": "code",
   "execution_count": null,
   "id": "acb32e01-82cc-46c3-84fd-226ee802e216",
   "metadata": {},
   "outputs": [],
   "source": [
    "all2 = all2.replace(\"Heindl2022\",\"Own data\")"
   ]
  },
  {
   "cell_type": "code",
   "execution_count": null,
   "id": "93060a41-2915-4c3b-a152-a15a17405cd5",
   "metadata": {},
   "outputs": [],
   "source": [
    "all2 = all2.replace(\"Zeisel2018\",\"Zeisel, 2018, Cell\")"
   ]
  },
  {
   "cell_type": "code",
   "execution_count": null,
   "id": "eb3192ea-5b4f-460b-878f-0005bd58d5cc",
   "metadata": {},
   "outputs": [],
   "source": [
    "all2 = all2.replace(\"TabulaMuris2018\", \"Tabula Muris, 2018, Nature\")"
   ]
  },
  {
   "cell_type": "code",
   "execution_count": null,
   "id": "e6f15668-0469-4517-8c4c-9c0c8b414dcc",
   "metadata": {},
   "outputs": [],
   "source": [
    "all2 = all2.replace(\"Winkler2022\", \"Winkler, 2022, Science\")"
   ]
  },
  {
   "cell_type": "code",
   "execution_count": null,
   "id": "26bf67e4-6bd6-485a-a1cf-101663ef648b",
   "metadata": {},
   "outputs": [],
   "source": [
    "all2 = all2.replace(\"Yang2022\", \"Yang, 2022, Nature\")"
   ]
  },
  {
   "cell_type": "code",
   "execution_count": null,
   "id": "3bdb8363-35b1-4827-a58d-c5d8bee202ba",
   "metadata": {},
   "outputs": [],
   "source": [
    "all2 = all2.replace(\"Vanlandewijck2018\", \"Vanlandewijck, 2018, Nature\")"
   ]
  },
  {
   "cell_type": "code",
   "execution_count": null,
   "id": "93a18cf6-a35e-45f6-9e11-ef9ecfa716ab",
   "metadata": {},
   "outputs": [],
   "source": [
    "all2 = all2.replace(\"Siletti2022\", \"Siletti, 2022, bioRxiv\")"
   ]
  },
  {
   "cell_type": "code",
   "execution_count": null,
   "id": "013f970f-4e89-416f-b5fc-6f4314e82811",
   "metadata": {},
   "outputs": [],
   "source": [
    "all2 = all2.replace(\"Garcia2022\", \"Garcia, 2022, Nature\")"
   ]
  },
  {
   "cell_type": "code",
   "execution_count": null,
   "id": "b30ac839-35d0-427c-8b2b-3c0b78b5cc3a",
   "metadata": {},
   "outputs": [],
   "source": [
    "#all2 = all2.replace(\"Ximerakis2019\", \"Ximerakis, 2019, Nat Neurosci\")\n",
    "#all2 = all2.replace(\"TabulaMurisSenis2020\", \"Tabula Muris, 2020, Nature\")\n",
    "#all2 = all2.replace(\"Zhao2020\", \"Zhao, 2020, Nat Comm\")"
   ]
  },
  {
   "cell_type": "markdown",
   "id": "2b279edd-2a77-48cb-8852-668d161b86c5",
   "metadata": {},
   "source": [
    "## Heatmap"
   ]
  },
  {
   "cell_type": "code",
   "execution_count": null,
   "id": "40a9cbc4-681c-4162-8788-246fbc022d5a",
   "metadata": {},
   "outputs": [],
   "source": [
    "all2"
   ]
  },
  {
   "cell_type": "code",
   "execution_count": null,
   "id": "bd28c4b3-0221-471d-8f47-71850df70da5",
   "metadata": {},
   "outputs": [],
   "source": [
    "# Format table\n",
    "all4=all2.set_index(['clusters','source'])['mean_expression'].unstack().reset_index() # unmelt\n",
    "# change row order to represent groupings\n",
    "all4.index = all4.clusters\n",
    "all4=all4.reindex(list(all2.clusters.unique()))\n",
    "all4=all4.drop(\"clusters\",axis=1)\n",
    "#all4.sort_values(\"clusters\")\n",
    "#all4"
   ]
  },
  {
   "cell_type": "code",
   "execution_count": null,
   "id": "ce9664e6-a8bb-4c5d-9cef-c75e1cffa5b6",
   "metadata": {},
   "outputs": [],
   "source": [
    "# create color palette\n",
    "my_cmap2 = mpl.colors.LinearSegmentedColormap.from_list(\"\", ['#ebebeb','tomato'])\n",
    "plt.cm.register_cmap(\"mycolormap\", my_cmap2)\n",
    "cpal = sns.color_palette(\"mycolormap\", as_cmap=True)\n",
    "#cpal"
   ]
  },
  {
   "cell_type": "code",
   "execution_count": null,
   "id": "3a835fd2-c7b1-40cc-963d-7ec0546a077f",
   "metadata": {},
   "outputs": [],
   "source": [
    "with rc_context({'figure.figsize': (4.5,2.5), 'figure.dpi': 120}):\n",
    "    pl = sns.heatmap(all4, cmap=cpal, vmin=0, vmax=1, linewidths=0.01).set(ylabel=None,xlabel=None);\n",
    "    plt.tick_params(axis='both', which='major', labelsize=10, labelbottom = False, bottom=False, top = False, labeltop=True)\n",
    "    plt.xticks(rotation=45, ha = 'left')\n",
    "    plt.legend(loc=(1.27,0.345), title=gene+' \\nexpression \\n(mean)', frameon=False)\n",
    "    #plt.savefig(main_dir+'\\\\P06_Foxf2_per_celltype\\\\plots\\\\'+date.today().strftime(\"%Y%m%d\")+'_Foxf2_by_celltype_heatmap.png', dpi=500, bbox_inches='tight')\n",
    "    #plt.savefig(main_dir+'\\\\P06_Foxf2_per_celltype\\\\plots\\\\'+date.today().strftime(\"%Y%m%d\")+'_Foxf2_by_celltype_heatmap.svg', dpi=500, bbox_inches='tight')\n",
    "    plt.show()"
   ]
  },
  {
   "cell_type": "markdown",
   "id": "d448adda-20ea-4106-8e87-f086875dc953",
   "metadata": {},
   "source": [
    "## Dotplot"
   ]
  },
  {
   "cell_type": "code",
   "execution_count": null,
   "id": "fcb979fb-f1ad-41dc-bd8b-965f66b5c0f5",
   "metadata": {},
   "outputs": [],
   "source": [
    "mycolormap = mpl.colors.LinearSegmentedColormap.from_list(\"\", ['#d1d1d1','tomato'])\n",
    "mpl.colormaps.register(mycolormap, force = True)\n",
    "#plt.cm.register_cmap(\"mycolormap\", my_cmap2)\n",
    "cpal2 = sns.color_palette(\"mycolormap\", as_cmap=True)"
   ]
  },
  {
   "cell_type": "code",
   "execution_count": null,
   "id": "cba389a0-75b5-42ee-a514-031e31a8ef12",
   "metadata": {},
   "outputs": [],
   "source": [
    "all2.columns = ['clusters', 'Mean expression\\n       in group', 'Fraction of cells\\n   in group (%)', 'gene', 'source','organism', 'cell_number']"
   ]
  },
  {
   "cell_type": "code",
   "execution_count": null,
   "id": "643d2593-084d-4e6c-9ab0-aa8f64575a80",
   "metadata": {},
   "outputs": [],
   "source": [
    "all2[\"Fraction of cells\\n   in group (%)\"] = all2[\"Fraction of cells\\n   in group (%)\"]*100"
   ]
  },
  {
   "cell_type": "code",
   "execution_count": null,
   "id": "d089636d-7709-4db3-9b60-008a2a2d78a4",
   "metadata": {},
   "outputs": [],
   "source": [
    "sns.set(style=\"white\")\n",
    "pl=sns.relplot(data=all2, x=\"source\", y=\"clusters\",\n",
    "                hue='Mean expression\\n       in group', size='Fraction of cells\\n   in group (%)',\n",
    "                #size_norm=(50, 500),\n",
    "                palette=cpal2, \n",
    "                sizes=(15, 550), # tile size limits\n",
    "                #marker=\"s\", # round or squared\n",
    "                linewidth=1,\n",
    "                #legend=None,\n",
    "                #aspect=0.9\n",
    "              );\n",
    "pl.set(ylabel=None,xlabel=None)\n",
    "#plt.title(\"KO vs WT: Enriched gene sets\", y=1.02, fontsize=16)\n",
    "#plt.suptitle(\"Top \"+str(topx_OR)+\" DE genes of each brain region, sorted by OR\", y=0.97, fontsize=13)\n",
    "plt.tick_params(axis='both', which='major', labelsize=10, labelbottom = False, bottom=False, top = False, labeltop=True)\n",
    "plt.xticks(rotation=45, ha = 'left')\n",
    "pl.set_xticklabels(fontsize=14.4, family=\"arial\", color=\"black\")\n",
    "#plt.xlabel(family='Arial')\n",
    "pl.set_yticklabels(fontsize=14.1, family=\"arial\", color=\"black\")\n",
    "pl.fig.set_size_inches(9.4,4.2)\n",
    "#plt.legend(loc=\"upper right\")\n",
    "#sns.despine(bottom = False, left = False, right = False, top = False)\n",
    "sns.despine(left=True, bottom=True);\n",
    "#sns.despine(bottom=True, left=True, top=False)\n",
    "\n",
    "# sns legend\n",
    "leg = pl._legend\n",
    "#leg.set_bbox_to_anchor([1.5,0.53])\n",
    "leg.remove();\n",
    "\n",
    "# mpl legend\n",
    "legend = plt.legend(frameon=True, framealpha=0.2, borderpad=0.5, bbox_to_anchor=(1,1), title=gene, # handletextpad=0.7, \n",
    "           prop=mpl.font_manager.FontProperties(family='arial', size=10), labelcolor='black')\n",
    "plt.setp(legend.get_title(), color='black', family='arial', size=13);"
   ]
  },
  {
   "cell_type": "code",
   "execution_count": null,
   "id": "b9a62b61-def9-4653-9697-0099aae90126",
   "metadata": {},
   "outputs": [],
   "source": [
    "plt.show()"
   ]
  },
  {
   "cell_type": "code",
   "execution_count": null,
   "id": "a055722f-a389-4582-bd26-fffe41dd0266",
   "metadata": {},
   "outputs": [],
   "source": [
    "pl.savefig(os.path.join(main_dir, 'P06_Foxf2_per_celltype', '202502-Tspo-HermsLab', 'plots', date.today().strftime(\"%Y%m%d\")+'_Tspo_by_celltype_a.png'), dpi=500)"
   ]
  },
  {
   "cell_type": "code",
   "execution_count": null,
   "id": "b486e84d-158a-4e06-80f5-4958c1b28f46",
   "metadata": {},
   "outputs": [],
   "source": [
    "pl.savefig(os.path.join(main_dir, 'P06_Foxf2_per_celltype', '202502-Tspo-HermsLab', 'plots', date.today().strftime(\"%Y%m%d\")+'_Tspo_by_celltype_a.svg'), dpi=500)"
   ]
  },
  {
   "cell_type": "markdown",
   "id": "1cec35d7-d69d-42ec-ab55-20db8a90ca47",
   "metadata": {},
   "source": [
    "## Cell Numbers"
   ]
  },
  {
   "cell_type": "code",
   "execution_count": null,
   "id": "5101f67d-4edd-468a-b243-2109a91d325c",
   "metadata": {},
   "outputs": [],
   "source": [
    "# Format table\n",
    "all5=all2.set_index(['clusters','source'])['cell_number'].unstack().reset_index() # unmelt\n",
    "# change row order to represent groupings\n",
    "all5.index = all5.clusters\n",
    "all5=all5.reindex(list(all2.clusters.unique()))\n",
    "all5=all5.drop(\"clusters\",axis=1)\n",
    "#all4.sort_values(\"clusters\")\n",
    "all5 = all5.fillna(0)\n",
    "all5 = all5.astype(int)\n",
    "# add marginal frequencies\n",
    "all5.loc[\"Total\"] = all5.sum(skipna=True)\n",
    "all5['Total'] = all5[list(all5.columns)].sum(axis=1)\n",
    "all5"
   ]
  },
  {
   "cell_type": "code",
   "execution_count": null,
   "id": "036f74d9-c4f1-490e-8fb2-54a0cfabb76a",
   "metadata": {},
   "outputs": [],
   "source": [
    "#all5.to_csv(main_dir+'\\\\P6_Foxf2_per_celltype\\\\'+date.today().strftime(\"%Y%m%d\")+'_number_of_cells.csv',sep=\";\")"
   ]
  },
  {
   "cell_type": "code",
   "execution_count": null,
   "id": "9283623d-a600-4323-a307-d2ddc12c3d8c",
   "metadata": {},
   "outputs": [],
   "source": [
    "del all\n",
    "del all2\n",
    "del all4\n",
    "del all5"
   ]
  },
  {
   "cell_type": "markdown",
   "id": "269086c6-be4e-4851-9b3e-c177b4ad4924",
   "metadata": {
    "tags": []
   },
   "source": [
    "# Other genes: mt-Nd1"
   ]
  },
  {
   "cell_type": "code",
   "execution_count": null,
   "id": "12176044-1057-4e6b-b2e6-daf18207dae5",
   "metadata": {
    "tags": []
   },
   "outputs": [],
   "source": [
    "gene=\"mt-Nd1\""
   ]
  },
  {
   "cell_type": "markdown",
   "id": "239f40e9-2164-489f-869e-b883f62bc5ea",
   "metadata": {},
   "source": [
    "## Load data"
   ]
  },
  {
   "cell_type": "code",
   "execution_count": null,
   "id": "ea1b5f4b-6a5f-4c9d-8a84-76a2c2385cd0",
   "metadata": {},
   "outputs": [],
   "source": [
    "path = os.path.join(main_dir,'P06_Foxf2_per_celltype','202502-Tspo-HermsLab', 'Genes_summarized')\n",
    "all_files = os.listdir(path)\n",
    "matching_files = [file for file in all_files if gene.lower() in file.lower() and file.endswith(\".csv\")]\n",
    "matching_files"
   ]
  },
  {
   "cell_type": "code",
   "execution_count": null,
   "id": "7824e436-e8a1-4f36-a1fd-1db1523d8239",
   "metadata": {},
   "outputs": [],
   "source": [
    "li = []\n",
    "\n",
    "for filename in matching_files:\n",
    "    df = pd.read_csv(os.path.join(path,filename), index_col=None, header=0, sep=\";\")\n",
    "    li.append(df)\n",
    "\n",
    "all = pd.concat(li, axis=0, ignore_index=True)"
   ]
  },
  {
   "cell_type": "code",
   "execution_count": null,
   "id": "f35d620a-813c-46fe-bc1b-1bb68c4a9855",
   "metadata": {},
   "outputs": [],
   "source": [
    "all.source.unique()"
   ]
  },
  {
   "cell_type": "code",
   "execution_count": null,
   "id": "d946d946-5a03-47aa-8f02-0aa981deec83",
   "metadata": {},
   "outputs": [],
   "source": [
    "all.gene.unique()"
   ]
  },
  {
   "cell_type": "markdown",
   "id": "1e3181c8-b4ba-4800-a989-035a105bcf4a",
   "metadata": {},
   "source": [
    "## Format"
   ]
  },
  {
   "cell_type": "markdown",
   "id": "855ac9c0-0651-4e73-b9d5-20bd7e9f949d",
   "metadata": {},
   "source": [
    "### Remove celltypes"
   ]
  },
  {
   "cell_type": "markdown",
   "id": "9155a5d5-49bc-424b-a73d-b147ed5111eb",
   "metadata": {},
   "source": [
    "Remove celltypes which are only available in few studies"
   ]
  },
  {
   "cell_type": "code",
   "execution_count": null,
   "id": "b035b826-abfb-40d6-b7e6-da0a349e1f72",
   "metadata": {},
   "outputs": [],
   "source": [
    "all.clusters.value_counts()"
   ]
  },
  {
   "cell_type": "code",
   "execution_count": null,
   "id": "58330f5d-8550-4ec4-8993-d7a265a6fcd5",
   "metadata": {},
   "outputs": [],
   "source": [
    "pd.options.display.max_columns=50\n",
    "pd.crosstab(all.source, all.clusters)"
   ]
  },
  {
   "cell_type": "code",
   "execution_count": null,
   "id": "5aec931a-ac92-4d1c-b5aa-a27da03cbf94",
   "metadata": {},
   "outputs": [],
   "source": [
    "all = all[all.clusters != \"Unknown\"]\n",
    "all = all[all.clusters != 'Immune_Other']\n",
    "all = all[all.clusters != 'Olfactory ensheathing cells']\n",
    "all = all[all.clusters != 'Fibromyocytes']\n",
    "all = all[all.clusters != 'T cells']\n",
    "all = all[all.clusters != 'NK/T cells']\n",
    "all = all[all.clusters != 'Choroid plexus epithelial cells']\n",
    "all = all[all.clusters != 'Neuroepithelial cells']\n",
    "all = all[all.clusters != 'Olfactory ensheathing cells']"
   ]
  },
  {
   "cell_type": "code",
   "execution_count": null,
   "id": "7c32f7e0-f22b-4bea-9460-5ceca4deb36d",
   "metadata": {},
   "outputs": [],
   "source": [
    "all = all[all.clusters != 'Hemoglobin-expressing vascular cells']\n",
    "all = all[all.clusters != 'Olfactory ensheathing glia']\n",
    "all = all[all.clusters != 'Hypendymal cells']"
   ]
  },
  {
   "cell_type": "markdown",
   "id": "9ed6f05a-d88d-464b-9af4-c027740d85e9",
   "metadata": {},
   "source": [
    "### Rename Oligos"
   ]
  },
  {
   "cell_type": "code",
   "execution_count": null,
   "id": "0fa44e5e-e656-47dc-8a4e-69f2f7f9358f",
   "metadata": {},
   "outputs": [],
   "source": [
    "all = all.replace(\"Oligos\",\"Oligodendrocytes\")"
   ]
  },
  {
   "cell_type": "markdown",
   "id": "9bc9edd9-1a86-4df9-8e25-c6e295e0bd71",
   "metadata": {},
   "source": [
    "### Match Microglia naming"
   ]
  },
  {
   "cell_type": "code",
   "execution_count": null,
   "id": "2773788c-47c4-4888-b5cd-47dcd3f73773",
   "metadata": {},
   "outputs": [],
   "source": [
    "all.clusters.unique().tolist()"
   ]
  },
  {
   "cell_type": "code",
   "execution_count": null,
   "id": "b875207e-3a20-4210-951b-256c11347bc5",
   "metadata": {},
   "outputs": [],
   "source": [
    "all = all.replace(\"Microglia\",\"Microglia/Mφ\")"
   ]
  },
  {
   "cell_type": "code",
   "execution_count": null,
   "id": "388e235c-e368-4f71-b9cc-9e0efa79963f",
   "metadata": {},
   "outputs": [],
   "source": [
    "all = all.replace(\"Macrophages\",\"Microglia/Mφ\")"
   ]
  },
  {
   "cell_type": "code",
   "execution_count": null,
   "id": "1c6c8060-00e7-4edf-bac9-d2426e04b774",
   "metadata": {},
   "outputs": [],
   "source": [
    "all = all.replace(\"Microglia/Macrophages\",\"Microglia/Mφ\")"
   ]
  },
  {
   "cell_type": "code",
   "execution_count": null,
   "id": "40e742a4-53ac-4df7-ac5b-9a21494520b9",
   "metadata": {},
   "outputs": [],
   "source": [
    "all.clusters.unique().tolist()"
   ]
  },
  {
   "cell_type": "markdown",
   "id": "de0185e5-e058-4a3a-bc91-1a69b3f0bcc0",
   "metadata": {},
   "source": [
    "### SMCs/Pericytes"
   ]
  },
  {
   "cell_type": "code",
   "execution_count": null,
   "id": "729f5415-2987-4b1a-b821-6afd849c2ec3",
   "metadata": {},
   "outputs": [],
   "source": [
    "all[all.clusters==\"SMCs/Pericytes\"]"
   ]
  },
  {
   "cell_type": "code",
   "execution_count": null,
   "id": "a5f7cd2b-9247-49d8-8b52-482dcd801e50",
   "metadata": {},
   "outputs": [],
   "source": [
    "all = all.replace(\"SMCs/Pericytes\",\"SMCs\") # rather SMCs than pericytes, see TabulaMurisSenis2020 pp script"
   ]
  },
  {
   "cell_type": "markdown",
   "id": "a414d9c3-5ba8-4445-b8f6-397056d0e70c",
   "metadata": {},
   "source": [
    "### Fibroblasts = VLMC"
   ]
  },
  {
   "cell_type": "markdown",
   "id": "df7054a7-2769-41f8-a019-c385e280b6f4",
   "metadata": {},
   "source": [
    "See Zeisel 2018 Cell"
   ]
  },
  {
   "cell_type": "code",
   "execution_count": null,
   "id": "a7ecd92f-2173-46f4-9ad7-299e89c6a57c",
   "metadata": {},
   "outputs": [],
   "source": [
    "all = all.replace(\"Leptomeningeal cells\",\"Fibroblasts\")"
   ]
  },
  {
   "cell_type": "code",
   "execution_count": null,
   "id": "8818d7bc-9a5a-4de1-acef-2897ed4e3833",
   "metadata": {},
   "outputs": [],
   "source": [
    "all = all.replace(\"VLMCs\",\"Fibroblasts\")"
   ]
  },
  {
   "cell_type": "markdown",
   "id": "df9dd0a8-4690-411f-be72-1fb74a87cc8e",
   "metadata": {},
   "source": [
    "### Group Neuroblasts/Neuronal stem cells"
   ]
  },
  {
   "cell_type": "code",
   "execution_count": null,
   "id": "b6cbd8de-e50f-45b6-9e7d-906862d4b3f7",
   "metadata": {},
   "outputs": [],
   "source": [
    "# Group Neurogenesis + Neuroblasts + Neuronal stem cells"
   ]
  },
  {
   "cell_type": "code",
   "execution_count": null,
   "id": "221584b6-8165-496b-a17f-fd68be97938a",
   "metadata": {},
   "outputs": [],
   "source": [
    "all = all.replace(\"Neuroblasts\",\"Neuroblasts/NSCs\")\n",
    "all = all.replace(\"Neuronal stem cells\",\"Neuroblasts/NSCs\")\n",
    "all = all.replace(\"Neurogenesis\",\"Neuroblasts/NSCs\")\n",
    "all = all.replace(\"Neural stem cells\",\"Neuroblasts/NSCs\")"
   ]
  },
  {
   "cell_type": "code",
   "execution_count": null,
   "id": "1b4826a2-b7b4-4b6a-a139-e25824d9a2a7",
   "metadata": {},
   "outputs": [],
   "source": [
    "all[all.clusters==\"Neuroblasts/NSCs\"]"
   ]
  },
  {
   "cell_type": "markdown",
   "id": "ff7194c8-913e-4a39-8379-4b2192a1c637",
   "metadata": {
    "tags": []
   },
   "source": [
    "### Rename ECs"
   ]
  },
  {
   "cell_type": "code",
   "execution_count": null,
   "id": "2a868813-7d20-4e58-adc0-94721123b036",
   "metadata": {},
   "outputs": [],
   "source": [
    "# rename ECs to Endothelial cells"
   ]
  },
  {
   "cell_type": "code",
   "execution_count": null,
   "id": "a1c584b2-c044-45ad-bd5f-7450dd792c5a",
   "metadata": {},
   "outputs": [],
   "source": [
    "all2 = all"
   ]
  },
  {
   "cell_type": "code",
   "execution_count": null,
   "id": "62cb0c56-33ae-48db-b83c-c0cc50cbc91f",
   "metadata": {},
   "outputs": [],
   "source": [
    "all2 = all2.replace(\"ECs\",\"Endothelial cells\")"
   ]
  },
  {
   "cell_type": "markdown",
   "id": "babe1580-892a-463e-9e88-45e51988f717",
   "metadata": {},
   "source": [
    "### Set order of axes"
   ]
  },
  {
   "cell_type": "code",
   "execution_count": null,
   "id": "122765c6-916b-4397-8c67-40c72020c8bb",
   "metadata": {},
   "outputs": [],
   "source": [
    "#all2.source = pd.Categorical(all2.source, categories= [\"Heindl2022\", \"Vanlandewijck2018\", \"Saunders2018\", \"Zeisel2018\", \"TabulaMuris2018\", \"Winkler2022\", \"Yang2022\", \"Siletti2022\", \"Garcia2022\"])"
   ]
  },
  {
   "cell_type": "code",
   "execution_count": null,
   "id": "a1ca260d-4a37-42b5-94d5-b7b96af037fa",
   "metadata": {},
   "outputs": [],
   "source": [
    "all2.source = pd.Categorical(all2.source, categories= [\"Heindl2022\", \"Saunders2018\", \"Yang2022\"])"
   ]
  },
  {
   "cell_type": "code",
   "execution_count": null,
   "id": "6a1fd2cc-c189-4caa-a26a-f463d0df9df6",
   "metadata": {},
   "outputs": [],
   "source": [
    "all2.clusters = pd.Categorical(all2.clusters, categories= [\"Astrocytes\",\"Microglia/Mφ\", \"Oligodendrocytes\", \"OPCs\", \"Endothelial cells\", \"Pericytes\", \"SMCs\", \"Fibroblasts\", \"Neurons\", \"Neuroblasts/NSCs\", \"Ependymal cells\"])"
   ]
  },
  {
   "cell_type": "code",
   "execution_count": null,
   "id": "8db5fded-709e-4309-98dc-f0a263d30c02",
   "metadata": {},
   "outputs": [],
   "source": [
    "all2 = all2.sort_values(\"clusters\")"
   ]
  },
  {
   "cell_type": "markdown",
   "id": "a88b410f-e5bd-43a4-a757-cee4180b16ba",
   "metadata": {},
   "source": [
    "### Rename studies"
   ]
  },
  {
   "cell_type": "code",
   "execution_count": null,
   "id": "d238b2a0-408d-423c-bd76-6d6c43e931fb",
   "metadata": {},
   "outputs": [],
   "source": [
    "all2 = all2.replace(\"Saunders2018\",\"Saunders, 2018, Cell\")"
   ]
  },
  {
   "cell_type": "code",
   "execution_count": null,
   "id": "34464d7a-0b0e-40d4-bc09-73ca90f49932",
   "metadata": {},
   "outputs": [],
   "source": [
    "all2 = all2.replace(\"Heindl2022\",\"Own data\")"
   ]
  },
  {
   "cell_type": "code",
   "execution_count": null,
   "id": "221fc367-5e15-4773-85d7-15cf8fd6f4c4",
   "metadata": {},
   "outputs": [],
   "source": [
    "all2 = all2.replace(\"Zeisel2018\",\"Zeisel, 2018, Cell\")"
   ]
  },
  {
   "cell_type": "code",
   "execution_count": null,
   "id": "6d9032c0-ecae-4ffa-ba82-04154e333423",
   "metadata": {},
   "outputs": [],
   "source": [
    "all2 = all2.replace(\"TabulaMuris2018\", \"Tabula Muris, 2018, Nature\")"
   ]
  },
  {
   "cell_type": "code",
   "execution_count": null,
   "id": "4a3a308f-584c-4251-874c-01131d418651",
   "metadata": {},
   "outputs": [],
   "source": [
    "all2 = all2.replace(\"Winkler2022\", \"Winkler, 2022, Science\")"
   ]
  },
  {
   "cell_type": "code",
   "execution_count": null,
   "id": "cb1afce7-7725-472a-8fd9-e9f601e19c20",
   "metadata": {},
   "outputs": [],
   "source": [
    "all2 = all2.replace(\"Yang2022\", \"Yang, 2022, Nature\")"
   ]
  },
  {
   "cell_type": "code",
   "execution_count": null,
   "id": "8fe3870e-7e76-4bda-a31f-025d7dac2ae3",
   "metadata": {},
   "outputs": [],
   "source": [
    "all2 = all2.replace(\"Vanlandewijck2018\", \"Vanlandewijck, 2018, Nature\")"
   ]
  },
  {
   "cell_type": "code",
   "execution_count": null,
   "id": "1ddf5943-b5ab-495d-af4f-18b8a0fd9300",
   "metadata": {},
   "outputs": [],
   "source": [
    "all2 = all2.replace(\"Siletti2022\", \"Siletti, 2022, bioRxiv\")"
   ]
  },
  {
   "cell_type": "code",
   "execution_count": null,
   "id": "f97369bf-e80b-41ca-aca3-7943c02f390e",
   "metadata": {},
   "outputs": [],
   "source": [
    "all2 = all2.replace(\"Garcia2022\", \"Garcia, 2022, Nature\")"
   ]
  },
  {
   "cell_type": "code",
   "execution_count": null,
   "id": "9898c45c-1eb7-434f-868f-65164135b683",
   "metadata": {},
   "outputs": [],
   "source": [
    "#all2 = all2.replace(\"Ximerakis2019\", \"Ximerakis, 2019, Nat Neurosci\")\n",
    "#all2 = all2.replace(\"TabulaMurisSenis2020\", \"Tabula Muris, 2020, Nature\")\n",
    "#all2 = all2.replace(\"Zhao2020\", \"Zhao, 2020, Nat Comm\")"
   ]
  },
  {
   "cell_type": "markdown",
   "id": "89a9a820-bd1d-410c-8d27-3fb1296d3949",
   "metadata": {},
   "source": [
    "## Heatmap"
   ]
  },
  {
   "cell_type": "code",
   "execution_count": null,
   "id": "0fb1c362-4d79-407e-879e-2e080f62e200",
   "metadata": {},
   "outputs": [],
   "source": [
    "# Format table\n",
    "all4=all2.set_index(['clusters','source'])['mean_expression'].unstack().reset_index() # unmelt\n",
    "# change row order to represent groupings\n",
    "all4.index = all4.clusters\n",
    "all4=all4.reindex(list(all2.clusters.unique()))\n",
    "all4=all4.drop(\"clusters\",axis=1)\n",
    "#all4.sort_values(\"clusters\")\n",
    "#all4"
   ]
  },
  {
   "cell_type": "code",
   "execution_count": null,
   "id": "af5b3c83-df77-4a1e-b2b1-7dbe27b9df0f",
   "metadata": {},
   "outputs": [],
   "source": [
    "# create color palette\n",
    "my_cmap2 = mpl.colors.LinearSegmentedColormap.from_list(\"\", ['#ebebeb','tomato'])\n",
    "#plt.cm.register_cmap(\"mycolormap\", my_cmap2)\n",
    "cpal = sns.color_palette(\"mycolormap\", as_cmap=True)\n",
    "#cpal"
   ]
  },
  {
   "cell_type": "code",
   "execution_count": null,
   "id": "aeee5ff6-3cc0-4faf-b195-b5d99df1659e",
   "metadata": {},
   "outputs": [],
   "source": [
    "with rc_context({'figure.figsize': (4.5,2.5), 'figure.dpi': 120}):\n",
    "    pl = sns.heatmap(all4, cmap=cpal, vmin=0, vmax=1, linewidths=0.01).set(ylabel=None,xlabel=None);\n",
    "    plt.tick_params(axis='both', which='major', labelsize=10, labelbottom = False, bottom=False, top = False, labeltop=True)\n",
    "    plt.xticks(rotation=45, ha = 'left')\n",
    "    plt.legend(loc=(1.27,0.345), title=gene+' \\nexpression \\n(mean)', frameon=False)\n",
    "    #plt.savefig(main_dir+'\\\\P6_Foxf2_per_celltype\\\\plots\\\\'+date.today().strftime(\"%Y%m%d\")+'_Foxf2_by_celltype_heatmap.png', dpi=500, bbox_inches='tight')\n",
    "    #plt.savefig(main_dir+'\\\\P6_Foxf2_per_celltype\\\\plots\\\\'+date.today().strftime(\"%Y%m%d\")+'_Foxf2_by_celltype_heatmap.svg', dpi=500, bbox_inches='tight')\n",
    "    plt.show()"
   ]
  },
  {
   "cell_type": "markdown",
   "id": "a316bf91-d3b6-45fa-a647-820be6c8f4e0",
   "metadata": {},
   "source": [
    "## Dotplot"
   ]
  },
  {
   "cell_type": "code",
   "execution_count": null,
   "id": "cef47236-c742-4125-9197-b0d43cfe4dca",
   "metadata": {},
   "outputs": [],
   "source": [
    "# create color palette\n",
    "my_cmap2 = mpl.colors.LinearSegmentedColormap.from_list(\"\", ['#d1d1d1','tomato'])\n",
    "#plt.cm.register_cmap(\"mycolormap\", my_cmap2)\n",
    "cpal2 = sns.color_palette(\"mycolormap\", as_cmap=True)"
   ]
  },
  {
   "cell_type": "code",
   "execution_count": null,
   "id": "7ddb285c-591c-4537-b83f-ab8d48b0bbdc",
   "metadata": {},
   "outputs": [],
   "source": [
    "all2.columns = ['clusters', 'Mean expression\\n       in group', 'Fraction of cells\\n   in group (%)', 'gene', 'source','organism', 'cell_number']"
   ]
  },
  {
   "cell_type": "code",
   "execution_count": null,
   "id": "18478dbb-4edb-42a6-87fd-82347e979c4d",
   "metadata": {},
   "outputs": [],
   "source": [
    "all2[\"Fraction of cells\\n   in group (%)\"] = all2[\"Fraction of cells\\n   in group (%)\"]*100"
   ]
  },
  {
   "cell_type": "code",
   "execution_count": null,
   "id": "c2007214-c496-41cf-a693-add790a7cf6f",
   "metadata": {},
   "outputs": [],
   "source": [
    "sns.set(style=\"white\")\n",
    "pl=sns.relplot(data=all2, x=\"source\", y=\"clusters\",\n",
    "                hue='Mean expression\\n       in group', size='Fraction of cells\\n   in group (%)',\n",
    "                #size_norm=(50, 500),\n",
    "                palette=cpal2, \n",
    "                sizes=(15, 550), # tile size limits\n",
    "                #marker=\"s\", # round or squared\n",
    "                linewidth=1,\n",
    "                #legend=None,\n",
    "                #aspect=0.9\n",
    "              );\n",
    "pl.set(ylabel=None,xlabel=None)\n",
    "#plt.title(\"KO vs WT: Enriched gene sets\", y=1.02, fontsize=16)\n",
    "#plt.suptitle(\"Top \"+str(topx_OR)+\" DE genes of each brain region, sorted by OR\", y=0.97, fontsize=13)\n",
    "plt.tick_params(axis='both', which='major', labelsize=10, labelbottom = False, bottom=False, top = False, labeltop=True)\n",
    "plt.xticks(rotation=45, ha = 'left')\n",
    "pl.set_xticklabels(fontsize=14.4, family=\"arial\", color=\"black\")\n",
    "#plt.xlabel(family='Arial')\n",
    "pl.set_yticklabels(fontsize=14.1, family=\"arial\", color=\"black\")\n",
    "pl.fig.set_size_inches(9.4,4.2)\n",
    "#plt.legend(loc=\"upper right\")\n",
    "#sns.despine(bottom = False, left = False, right = False, top = False)\n",
    "sns.despine(left=True, bottom=True);\n",
    "#sns.despine(bottom=True, left=True, top=False)\n",
    "\n",
    "# sns legend\n",
    "leg = pl._legend\n",
    "#leg.set_bbox_to_anchor([1.5,0.53])\n",
    "leg.remove();\n",
    "\n",
    "# mpl legend\n",
    "legend = plt.legend(frameon=True, framealpha=0.2, borderpad=0.5, bbox_to_anchor=(1,1), title=gene, # handletextpad=0.7, \n",
    "           prop=mpl.font_manager.FontProperties(family='arial', size=10), labelcolor='black')\n",
    "plt.setp(legend.get_title(), color='black', family='arial', size=13);"
   ]
  },
  {
   "cell_type": "code",
   "execution_count": null,
   "id": "786fb33b-644f-41ea-b1f1-a2e5326236d6",
   "metadata": {},
   "outputs": [],
   "source": [
    "plt.show()"
   ]
  },
  {
   "cell_type": "code",
   "execution_count": null,
   "id": "68aec171-85e3-4908-8f75-6fb8e9795031",
   "metadata": {},
   "outputs": [],
   "source": [
    "pl.savefig(os.path.join(main_dir, 'P06_Foxf2_per_celltype', '202502-Tspo-HermsLab', 'plots', date.today().strftime(\"%Y%m%d\")+'_mtNd1_by_celltype_a.png'), dpi=500)"
   ]
  },
  {
   "cell_type": "code",
   "execution_count": null,
   "id": "02faf93a-06e4-422b-a7df-ff9dd424733d",
   "metadata": {},
   "outputs": [],
   "source": [
    "pl.savefig(os.path.join(main_dir, 'P06_Foxf2_per_celltype', '202502-Tspo-HermsLab', 'plots', date.today().strftime(\"%Y%m%d\")+'_mtNd1_by_celltype_a.svg'), dpi=500)"
   ]
  },
  {
   "cell_type": "code",
   "execution_count": null,
   "id": "43dd8e4e-09a2-4783-a1a4-45e41bb8f5db",
   "metadata": {},
   "outputs": [],
   "source": [
    "del all\n",
    "del all2\n",
    "del all4"
   ]
  },
  {
   "cell_type": "markdown",
   "id": "2b50bbcc-d764-49b9-8cc0-d3173fd8239e",
   "metadata": {},
   "source": [
    "# Session Info"
   ]
  },
  {
   "cell_type": "code",
   "execution_count": null,
   "id": "06401063-4335-4d98-ad41-2bab36a17eab",
   "metadata": {},
   "outputs": [],
   "source": [
    "sc.logging.print_versions()"
   ]
  },
  {
   "cell_type": "markdown",
   "id": "e5bae2c1-9893-4052-9a58-f304ed37b4e5",
   "metadata": {},
   "source": [
    "---\n",
    "# Export HTML"
   ]
  },
  {
   "cell_type": "code",
   "execution_count": null,
   "id": "83914c30-e040-46e3-8ba1-f1fec0d0089a",
   "metadata": {},
   "outputs": [],
   "source": [
    "# Use nbconvert conda env\n",
    "! cp combine_foxf2_results.ipynb HTMLs/$(date '+%Y%m%d')_combine_foxf2_results.ipynb\n",
    "! jupyter nbconvert HTMLs/$(date '+%Y%m%d')_combine_foxf2_results.ipynb --to html_toc\n",
    "! rm HTMLs/$(date '+%Y%m%d')_combine_foxf2_results.ipynb"
   ]
  }
 ],
 "metadata": {
  "kernelspec": {
   "display_name": "Python 3 (ipykernel)",
   "language": "python",
   "name": "python3"
  },
  "language_info": {
   "codemirror_mode": {
    "name": "ipython",
    "version": 3
   },
   "file_extension": ".py",
   "mimetype": "text/x-python",
   "name": "python",
   "nbconvert_exporter": "python",
   "pygments_lexer": "ipython3"
  }
 },
 "nbformat": 4,
 "nbformat_minor": 5
}
