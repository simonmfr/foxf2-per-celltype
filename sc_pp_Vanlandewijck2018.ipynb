{
 "cells": [
  {
   "cell_type": "markdown",
   "id": "9bfa00be-69ba-4146-aba2-818b967492c3",
   "metadata": {
    "jp-MarkdownHeadingCollapsed": true,
    "tags": []
   },
   "source": [
    "<font size=\"+3.8\">Scanpy single-cell pre-processing</font>  \n",
    "<font size=\"+1.5\"></font>  "
   ]
  },
  {
   "cell_type": "markdown",
   "id": "563f0b43-ce10-475f-b355-6fa8a2406dad",
   "metadata": {},
   "source": [
    "Aim: Preprocess mouse brain single-cell data from Vanlandewijck 2018 Nature "
   ]
  },
  {
   "cell_type": "markdown",
   "id": "dc8cddd1-6a29-44bb-91d7-15a6a417f398",
   "metadata": {},
   "source": [
    "Dataset: https://betsholtzlab.org/VascularSingleCells/database.html"
   ]
  },
  {
   "cell_type": "code",
   "execution_count": null,
   "id": "a1056884-ff51-4c24-a97a-be8a6a412830",
   "metadata": {
    "tags": []
   },
   "outputs": [],
   "source": [
    "from datetime import date\n",
    "date.today().strftime('%d/%m/%Y')"
   ]
  },
  {
   "cell_type": "code",
   "execution_count": null,
   "id": "1b55455c-9688-4e07-97f3-71e6ecfcf327",
   "metadata": {
    "tags": []
   },
   "outputs": [],
   "source": [
    "import os\n",
    "os.getlogin()"
   ]
  },
  {
   "cell_type": "code",
   "execution_count": null,
   "id": "c4f25c8a-47e9-48b5-af79-04fe44b4068d",
   "metadata": {
    "tags": []
   },
   "outputs": [],
   "source": [
    "import random\n",
    "import numpy as np\n",
    "import pandas as pd\n",
    "import scanpy as sc\n",
    "import anndata\n",
    "import matplotlib.pyplot as plt\n",
    "import seaborn as sns\n",
    "import platform\n",
    "from matplotlib.pyplot import rc_context"
   ]
  },
  {
   "cell_type": "code",
   "execution_count": null,
   "id": "324950db-ba31-4659-a2cc-15ef9ad01758",
   "metadata": {},
   "outputs": [],
   "source": [
    "import utils"
   ]
  },
  {
   "cell_type": "code",
   "execution_count": null,
   "id": "6b8d2d26-2ce7-40ac-a17b-b77e0aeed532",
   "metadata": {
    "tags": []
   },
   "outputs": [],
   "source": [
    "os.environ['CONDA_DEFAULT_ENV'] # conda env"
   ]
  },
  {
   "cell_type": "code",
   "execution_count": null,
   "id": "c4d3eb53-3275-4364-b98d-9dcbff720db9",
   "metadata": {
    "tags": []
   },
   "outputs": [],
   "source": [
    "platform.platform()"
   ]
  },
  {
   "cell_type": "code",
   "execution_count": null,
   "id": "fc7d8b45-6ec5-428f-89f2-08540e479ab8",
   "metadata": {
    "tags": []
   },
   "outputs": [],
   "source": [
    "sc.settings.verbosity = 3"
   ]
  },
  {
   "cell_type": "code",
   "execution_count": null,
   "id": "37b0ed8d-aee7-419e-bbc2-0885fffef05d",
   "metadata": {
    "tags": []
   },
   "outputs": [],
   "source": [
    "main_dir='\\\\\\srvisds1.srv.med.uni-muenchen.de\\BD-Dichgans\\SF' # Win\n",
    "main_dir='/Volumes/BD-Dichgans/SF' # Mac"
   ]
  },
  {
   "cell_type": "code",
   "execution_count": null,
   "id": "63d8ca96-e3fa-4b10-8738-7436408a3a37",
   "metadata": {},
   "outputs": [],
   "source": [
    "dataset_name = \"Vanlandewijck2018\"\n",
    "organism = \"Mouse\""
   ]
  },
  {
   "cell_type": "markdown",
   "id": "d75da520-0b28-417d-877e-f167db41ef30",
   "metadata": {},
   "source": [
    "# Load data"
   ]
  },
  {
   "cell_type": "markdown",
   "id": "00e3b5cb-f957-4175-aedf-471b195dfb60",
   "metadata": {
    "tags": []
   },
   "source": [
    "## Annotated \n",
    "Downloaded from: https://www.ncbi.nlm.nih.gov/geo/query/acc.cgi?acc=GSE98816 (normalized count matrix and Series Matrix File = metadata2) and https://figshare.com/collections/_/4077260 02/02/2023"
   ]
  },
  {
   "cell_type": "markdown",
   "id": "f6ba3ef1-e26c-474c-8fef-439957c1d886",
   "metadata": {},
   "source": [
    "### Vascular Cells"
   ]
  },
  {
   "cell_type": "code",
   "execution_count": null,
   "id": "866fcc4b-c0a8-4429-a759-4c3d8ca6583c",
   "metadata": {
    "tags": []
   },
   "outputs": [],
   "source": [
    "ad = sc.read_text(os.path.join(main_dir, \"P06_vasc_scRNAseq\", \"Vanlandewijck2018\", \"GSE98816_Brain_samples_normalized_counts_matrix.txt.gz\")).transpose() # vascular cells"
   ]
  },
  {
   "cell_type": "code",
   "execution_count": null,
   "id": "5e3c3e38-ecc2-4f3b-a33a-fd27f4cc605d",
   "metadata": {
    "tags": []
   },
   "outputs": [],
   "source": [
    "ad"
   ]
  },
  {
   "cell_type": "code",
   "execution_count": null,
   "id": "193d7e19-d9a0-4883-8ecb-c8c83e8d8071",
   "metadata": {
    "tags": []
   },
   "outputs": [],
   "source": [
    "# Add var"
   ]
  },
  {
   "cell_type": "code",
   "execution_count": null,
   "id": "fe3513ce-bca7-4919-af03-b93e03497a80",
   "metadata": {
    "tags": []
   },
   "outputs": [],
   "source": [
    "ad.var.head()"
   ]
  },
  {
   "cell_type": "code",
   "execution_count": null,
   "id": "7aa61568-751f-410b-a467-5e84ccbd7043",
   "metadata": {
    "tags": []
   },
   "outputs": [],
   "source": [
    "# not available"
   ]
  },
  {
   "cell_type": "code",
   "execution_count": null,
   "id": "da3cb6a4-2fdd-4cd0-8c9d-e5d76c6b8d48",
   "metadata": {
    "tags": []
   },
   "outputs": [],
   "source": [
    "# Add metadata"
   ]
  },
  {
   "cell_type": "code",
   "execution_count": null,
   "id": "184a855a-a212-48db-a19e-773efeb9a78c",
   "metadata": {
    "tags": []
   },
   "outputs": [],
   "source": [
    "meta = pd.read_csv(os.path.join(main_dir, \"P06_vasc_scRNAseq\", \"Vanlandewijck2018\", \"Descriptionofeachsinglecellsamples.csv\"), sep=\";\")"
   ]
  },
  {
   "cell_type": "code",
   "execution_count": null,
   "id": "29a44a08-0dbd-4794-842f-2260df1b7aae",
   "metadata": {
    "tags": []
   },
   "outputs": [],
   "source": [
    "meta.head()"
   ]
  },
  {
   "cell_type": "code",
   "execution_count": null,
   "id": "4ce8b07e-aca2-41d4-a2e9-03b135f607f4",
   "metadata": {
    "tags": []
   },
   "outputs": [],
   "source": [
    "meta[\"tissue origin\"].value_counts()"
   ]
  },
  {
   "cell_type": "code",
   "execution_count": null,
   "id": "f43bbcbc-a763-40c9-92dc-5e257d957cb1",
   "metadata": {
    "tags": []
   },
   "outputs": [],
   "source": [
    "meta = meta[meta[\"tissue origin\"] == \"Brain\"]"
   ]
  },
  {
   "cell_type": "code",
   "execution_count": null,
   "id": "4965c539-40f5-4383-96d0-6ea4b15b251a",
   "metadata": {
    "tags": []
   },
   "outputs": [],
   "source": [
    "pd.crosstab(meta[\"Mouse ID\"], meta[\"genotype\"])"
   ]
  },
  {
   "cell_type": "code",
   "execution_count": null,
   "id": "06978072-42b4-464f-be03-4ea210da96a9",
   "metadata": {
    "tags": []
   },
   "outputs": [],
   "source": [
    "meta[\"genotype\"].value_counts()"
   ]
  },
  {
   "cell_type": "code",
   "execution_count": null,
   "id": "36f6ed8b-4482-4b9f-9313-76aa9289b211",
   "metadata": {
    "tags": []
   },
   "outputs": [],
   "source": [
    "meta[\"annoated cell types\"].value_counts()"
   ]
  },
  {
   "cell_type": "code",
   "execution_count": null,
   "id": "8fc75a4b-c056-4399-bdf7-1db6218ed8f5",
   "metadata": {
    "tags": []
   },
   "outputs": [],
   "source": [
    "meta2 = pd.read_csv(os.path.join(main_dir, \"P06_vasc_scRNAseq\", \"Vanlandewijck2018\", \"GSE98816_series_matrix.txt\"), sep=\"\\t\", header=None).T"
   ]
  },
  {
   "cell_type": "code",
   "execution_count": null,
   "id": "d4a66055-d2d2-4e1c-b1a5-4c0467107c17",
   "metadata": {
    "tags": []
   },
   "outputs": [],
   "source": [
    "new_header = meta2.iloc[0]\n",
    "new_header = [s.lstrip('!') for s in new_header] # remove leading !\n",
    "meta2 = meta2[1:]\n",
    "meta2.columns = new_header\n",
    "meta2.Sample_description = [s.lstrip('processed data column: ') for s in meta2.Sample_description] # remove leading text"
   ]
  },
  {
   "cell_type": "code",
   "execution_count": null,
   "id": "5dd8a4ed-4f70-4179-8cd2-3b315166a85a",
   "metadata": {
    "tags": []
   },
   "outputs": [],
   "source": [
    "meta2=meta2.reset_index()\n",
    "meta2=meta2.iloc[:,1:]"
   ]
  },
  {
   "cell_type": "code",
   "execution_count": null,
   "id": "0ad901d1-10aa-4049-946e-34debd2a47e0",
   "metadata": {
    "tags": []
   },
   "outputs": [],
   "source": [
    "meta2.head(3)"
   ]
  },
  {
   "cell_type": "code",
   "execution_count": null,
   "id": "34ed4274-e011-462f-b8f4-56e7edf2eac2",
   "metadata": {
    "tags": []
   },
   "outputs": [],
   "source": [
    "meta2.columns"
   ]
  },
  {
   "cell_type": "code",
   "execution_count": null,
   "id": "b38ca177-d891-46b7-815f-170b7fe66767",
   "metadata": {
    "tags": []
   },
   "outputs": [],
   "source": [
    "meta2.Sample_description"
   ]
  },
  {
   "cell_type": "code",
   "execution_count": null,
   "id": "2f77a4d0-b4f0-4a56-a0fa-bab3517cd783",
   "metadata": {
    "tags": []
   },
   "outputs": [],
   "source": [
    "all(meta2.Sample_geo_accession == meta2.ID_REF)"
   ]
  },
  {
   "cell_type": "code",
   "execution_count": null,
   "id": "5f5444e2-7ca7-49f2-8f43-846aebb79506",
   "metadata": {
    "tags": []
   },
   "outputs": [],
   "source": [
    "meta2[\"tissue origin\"] = meta2['Sample_description'].str.split('.').str[0]"
   ]
  },
  {
   "cell_type": "code",
   "execution_count": null,
   "id": "1d643108-36e5-417c-86f2-29855cc8671c",
   "metadata": {
    "tags": []
   },
   "outputs": [],
   "source": [
    "meta2[\"tissue origin\"].value_counts()"
   ]
  },
  {
   "cell_type": "markdown",
   "id": "c9bba64b-c8bb-4ee9-b6b5-8b417d195586",
   "metadata": {},
   "source": [
    "Note: Matches count of vascular cells from metadata 1 and anndata object"
   ]
  },
  {
   "cell_type": "code",
   "execution_count": null,
   "id": "60a605b7-3122-4ff3-a439-54fdb8405a5b",
   "metadata": {
    "tags": []
   },
   "outputs": [],
   "source": [
    "len(meta2.Sample_geo_accession.unique())"
   ]
  },
  {
   "cell_type": "markdown",
   "id": "17696570-e1b0-4ee3-b2c8-89c779941a7f",
   "metadata": {},
   "source": [
    "All Sample_geo_accession are unique"
   ]
  },
  {
   "cell_type": "code",
   "execution_count": null,
   "id": "44945872-af9d-4643-bbee-b036a051bb81",
   "metadata": {
    "tags": []
   },
   "outputs": [],
   "source": [
    "all(meta2.Sample_geo_accession.isin(meta[\"GSM ID\"]))"
   ]
  },
  {
   "cell_type": "markdown",
   "id": "a2943af5-642a-4515-a7a8-c10feffe4a67",
   "metadata": {},
   "source": [
    "All Sample_geo_accession are in GSM ID from metadata table 1. Now we can match meta2.Sample_description (anndata descriptors) to meta[\"annoated cell types\"]"
   ]
  },
  {
   "cell_type": "code",
   "execution_count": null,
   "id": "69666128-bc94-4f74-8048-00cdb6d01b9e",
   "metadata": {
    "tags": []
   },
   "outputs": [],
   "source": [
    "# use only selected cols from meta2\n",
    "meta2 = meta2[['Sample_title', 'Sample_geo_accession', 'tissue origin', 'Sample_description']]\n",
    "meta2.head()"
   ]
  },
  {
   "cell_type": "code",
   "execution_count": null,
   "id": "b4f0d5c3-9c04-492f-97d9-3718756d5397",
   "metadata": {
    "tags": []
   },
   "outputs": [],
   "source": [
    "# use only selected cols from meta2\n",
    "meta = meta[['GSM ID','GSM name','organism','Mouse ID','strain','genotype','age','tissue origin','annoated cell types','BioSample ID','SRA ID','Sequenced Reads']]\n",
    "meta.head()"
   ]
  },
  {
   "cell_type": "code",
   "execution_count": null,
   "id": "e477da76-fa30-4d12-8cef-a889f57bcb60",
   "metadata": {
    "tags": []
   },
   "outputs": [],
   "source": [
    "meta.shape # contains vascular cells + 250 astrocytes"
   ]
  },
  {
   "cell_type": "code",
   "execution_count": null,
   "id": "c9fd4bb5-5a26-423b-9351-d39c39fc5cd9",
   "metadata": {
    "tags": []
   },
   "outputs": [],
   "source": [
    "meta2.shape # contains vascular cells only"
   ]
  },
  {
   "cell_type": "code",
   "execution_count": null,
   "id": "a993c581-ddb6-48da-a7b2-6efa01dbf2a8",
   "metadata": {
    "tags": []
   },
   "outputs": [],
   "source": [
    "meta_merged = meta.merge(meta2, how='inner', left_on=\"GSM ID\", right_on=\"Sample_geo_accession\")\n",
    "meta_merged.head()"
   ]
  },
  {
   "cell_type": "code",
   "execution_count": null,
   "id": "cb157868-6927-4d27-b399-f61e531cbcf2",
   "metadata": {
    "tags": []
   },
   "outputs": [],
   "source": [
    "# format ad.obs"
   ]
  },
  {
   "cell_type": "code",
   "execution_count": null,
   "id": "bc44a1a4-080e-458b-b0f5-decb254f79ce",
   "metadata": {
    "tags": []
   },
   "outputs": [],
   "source": [
    "ad.obs.head()"
   ]
  },
  {
   "cell_type": "markdown",
   "id": "f32450f2-05e9-4724-9cde-f287de4279a7",
   "metadata": {},
   "source": [
    "This is the format of metadata in the anndata object. Corresponds to meta_merged.Sample_description"
   ]
  },
  {
   "cell_type": "code",
   "execution_count": null,
   "id": "cce73bd1-350d-45e1-a1fc-34768f75bae7",
   "metadata": {
    "tags": []
   },
   "outputs": [],
   "source": [
    "ad.shape"
   ]
  },
  {
   "cell_type": "code",
   "execution_count": null,
   "id": "aca46560-2761-451e-bc07-7441f3a1fc73",
   "metadata": {
    "tags": []
   },
   "outputs": [],
   "source": [
    "temp = ad.obs.reset_index(level=0)[\"index\"].str.split(pat=\".\",expand=True)\n",
    "temp"
   ]
  },
  {
   "cell_type": "code",
   "execution_count": null,
   "id": "12ee92ba-2549-4225-b98c-79fcdc8c9d1f",
   "metadata": {
    "tags": []
   },
   "outputs": [],
   "source": [
    "temp[\"name\"] = temp[0] + \".\" + temp[1]"
   ]
  },
  {
   "cell_type": "code",
   "execution_count": null,
   "id": "47456af1-d4ae-4ea3-98e5-23d02f3af534",
   "metadata": {
    "tags": []
   },
   "outputs": [],
   "source": [
    "temp[0].value_counts()"
   ]
  },
  {
   "cell_type": "code",
   "execution_count": null,
   "id": "181a56da-849d-481e-9f9b-1f98036d6208",
   "metadata": {
    "tags": []
   },
   "outputs": [],
   "source": [
    "temp[\"tissue\"] = temp[0]\n",
    "temp[\"cell_id\"] = temp[1]"
   ]
  },
  {
   "cell_type": "code",
   "execution_count": null,
   "id": "e358e8b6-e7bd-405d-85ca-fb1549d61842",
   "metadata": {
    "tags": []
   },
   "outputs": [],
   "source": [
    "temp"
   ]
  },
  {
   "cell_type": "code",
   "execution_count": null,
   "id": "dfcb47a2-36d4-453a-9e78-70c2e011c29c",
   "metadata": {
    "tags": []
   },
   "outputs": [],
   "source": [
    "temp[\"cell_type_fine\"] = temp.cell_id.str.split(pat=\"_\",expand=True)[0]"
   ]
  },
  {
   "cell_type": "code",
   "execution_count": null,
   "id": "7ecf3337-d47c-4cf6-a7f5-3949721ea4fd",
   "metadata": {
    "tags": []
   },
   "outputs": [],
   "source": [
    "temp.cell_type_fine.value_counts()"
   ]
  },
  {
   "cell_type": "code",
   "execution_count": null,
   "id": "19e49bb6-49e6-4104-a476-8397024c2b03",
   "metadata": {
    "tags": []
   },
   "outputs": [],
   "source": [
    "#temp[temp[\"cell_type_fine\"] == \"EC3\"].cell_id.unique()"
   ]
  },
  {
   "cell_type": "code",
   "execution_count": null,
   "id": "b78ee089-03fa-4c53-8b8b-a84440d5c349",
   "metadata": {
    "tags": []
   },
   "outputs": [],
   "source": [
    "pd.crosstab(temp[\"cell_type_fine\"], temp[\"cell_id\"])"
   ]
  },
  {
   "cell_type": "code",
   "execution_count": null,
   "id": "9adf28e2-5111-41ee-bc03-674c3be535b3",
   "metadata": {
    "tags": []
   },
   "outputs": [],
   "source": [
    "temp['cell_type_broad'] = temp['cell_type_fine'].str.replace('\\d+', '')\n",
    "temp.cell_type_broad.value_counts()"
   ]
  },
  {
   "cell_type": "markdown",
   "id": "a9aa7757-878f-4345-8f9e-842fa212b861",
   "metadata": {},
   "source": [
    "Note: Broad cell types match between metadata and anndata objects"
   ]
  },
  {
   "cell_type": "code",
   "execution_count": null,
   "id": "eefa1f9d-89bb-4a62-8306-3a0501383253",
   "metadata": {
    "tags": []
   },
   "outputs": [],
   "source": [
    "assert all(ad.obs.reset_index()[\"index\"] == temp.name)\n",
    "assert len(ad.obs) == len(temp)"
   ]
  },
  {
   "cell_type": "code",
   "execution_count": null,
   "id": "957841e9-2834-4dcb-8319-eb63c04917ec",
   "metadata": {
    "tags": []
   },
   "outputs": [],
   "source": [
    "ad.obs = temp[[\"tissue\",\"cell_id\",\"cell_type_fine\",\"cell_type_broad\",\"name\"]]"
   ]
  },
  {
   "cell_type": "code",
   "execution_count": null,
   "id": "b2c71970-6578-4196-ae50-69ae77332a96",
   "metadata": {},
   "outputs": [],
   "source": []
  },
  {
   "cell_type": "code",
   "execution_count": null,
   "id": "4819dbd9-c3be-4eb9-9205-733c76720399",
   "metadata": {
    "tags": []
   },
   "outputs": [],
   "source": [
    "# add metadata from meta_merged to anndata"
   ]
  },
  {
   "cell_type": "code",
   "execution_count": null,
   "id": "5c252853-c791-4345-ad43-d41caab058ff",
   "metadata": {
    "tags": []
   },
   "outputs": [],
   "source": [
    "ad.obs"
   ]
  },
  {
   "cell_type": "code",
   "execution_count": null,
   "id": "6be69447-d7e8-4dff-8c61-ff22a56f225c",
   "metadata": {
    "tags": []
   },
   "outputs": [],
   "source": [
    "ad.obs = ad.obs.merge(meta_merged, how='inner', left_on=\"name\", right_on=\"Sample_description\")"
   ]
  },
  {
   "cell_type": "code",
   "execution_count": null,
   "id": "2e523440-e160-435d-b0b4-e13ac4ebb542",
   "metadata": {},
   "outputs": [],
   "source": [
    "ad.obs.index = ad.obs[\"cell_id\"]\n",
    "ad.obs.index.name = None"
   ]
  },
  {
   "cell_type": "code",
   "execution_count": null,
   "id": "2318de7c-8cad-4fa5-a1b9-4e291404d8cf",
   "metadata": {
    "tags": []
   },
   "outputs": [],
   "source": [
    "ad.obs.head(3)"
   ]
  },
  {
   "cell_type": "code",
   "execution_count": null,
   "id": "52f5c70d-cce1-42a0-91fd-0282d6379629",
   "metadata": {
    "tags": []
   },
   "outputs": [],
   "source": [
    "ad.obs.columns"
   ]
  },
  {
   "cell_type": "code",
   "execution_count": null,
   "id": "1ba0f9a7-9044-476e-b1eb-375b1bee0127",
   "metadata": {
    "tags": []
   },
   "outputs": [],
   "source": [
    "pd.crosstab(ad.obs[\"cell_type_fine\"], ad.obs[\"annoated cell types\"])"
   ]
  },
  {
   "cell_type": "code",
   "execution_count": null,
   "id": "3a107d96-36c7-4e1f-a933-77f7e43b290a",
   "metadata": {
    "tags": []
   },
   "outputs": [],
   "source": [
    "ad.obs[\"annoated cell types\"].value_counts()"
   ]
  },
  {
   "cell_type": "markdown",
   "id": "bd30a8db-af35-4ce9-94f4-311e52d969a7",
   "metadata": {
    "tags": []
   },
   "source": [
    "Check if data is normalized:"
   ]
  },
  {
   "cell_type": "code",
   "execution_count": null,
   "id": "bdb7555b-c2d9-4df6-826a-b0fdf5300a1b",
   "metadata": {
    "tags": []
   },
   "outputs": [],
   "source": [
    "ad.layers"
   ]
  },
  {
   "cell_type": "code",
   "execution_count": null,
   "id": "679412c1-c821-42fa-9ce6-6139fae366a3",
   "metadata": {
    "tags": []
   },
   "outputs": [],
   "source": [
    "# show expression of 100 random genes (across all spots)\n",
    "import random\n",
    "import seaborn as sns\n",
    "random_genes=random.sample(range(0, ad.X.shape[1]), 100)\n",
    "adata_sub = ad[:,random_genes]\n",
    "exp=pd.DataFrame(np.matrix(adata_sub.X))\n",
    "# plot\n",
    "pl1=sns.displot(data=pd.melt(exp),x='value',height=4,hue='variable',kind=\"kde\",warn_singular=False,legend=False,palette=list(np.repeat('#086da6',100)), lw=0.3) # genes with 0 expression are excluded\n",
    "pl1.set(xlim=(-0.5, 7),ylim=(0,0.007));\n",
    "plt.show()"
   ]
  },
  {
   "cell_type": "code",
   "execution_count": null,
   "id": "8d36ea9e-75f1-4593-a70f-12b524e2b3d6",
   "metadata": {
    "tags": []
   },
   "outputs": [],
   "source": [
    "sns.set(rc={'figure.figsize':(4,4)})\n",
    "pl=sns.histplot(data=pd.melt(exp),x='value',binwidth=0.5,legend=True,palette=list(np.repeat('#086da6',100)))\n",
    "pl.set(xlim=(0, 10));\n",
    "plt.show()"
   ]
  },
  {
   "cell_type": "code",
   "execution_count": null,
   "id": "d2ae5859-4b40-431c-9546-6b7872a4b725",
   "metadata": {
    "tags": []
   },
   "outputs": [],
   "source": [
    "sns.histplot(ad.X.sum(1), bins=100, kde=False)"
   ]
  },
  {
   "cell_type": "code",
   "execution_count": null,
   "id": "e7a596ee-a4cd-4abb-a34b-54c6aa4a7e48",
   "metadata": {
    "tags": []
   },
   "outputs": [],
   "source": [
    "exp.head()"
   ]
  },
  {
   "cell_type": "markdown",
   "id": "608eb51e-adb6-4813-b8b0-9196f53fadc6",
   "metadata": {},
   "source": [
    "Note: Data is normalized by definition (see file name)"
   ]
  },
  {
   "cell_type": "markdown",
   "id": "5471bf3c-3171-44d2-87fb-7738fe183cbf",
   "metadata": {},
   "source": [
    "Corresponds to https://betsholtzlab.org/VascularSingleCells/database.html, except for astrocytes"
   ]
  },
  {
   "cell_type": "code",
   "execution_count": null,
   "id": "86d9fc82-1527-4b47-a479-1c50d68ce71f",
   "metadata": {},
   "outputs": [],
   "source": []
  },
  {
   "cell_type": "code",
   "execution_count": null,
   "id": "7f1aceed-50c2-435b-b04e-ea5a2af129e8",
   "metadata": {},
   "outputs": [],
   "source": []
  },
  {
   "cell_type": "markdown",
   "id": "09198017-11b2-4f7f-b755-174407312e6a",
   "metadata": {},
   "source": [
    "### Astrocytes"
   ]
  },
  {
   "cell_type": "code",
   "execution_count": null,
   "id": "47b316d6-477e-43d4-ac93-91b898dde2fb",
   "metadata": {
    "tags": []
   },
   "outputs": [],
   "source": [
    "ad_astro = sc.read_text(os.path.join(main_dir, \"P06_vasc_scRNAseq\", \"Vanlandewijck2018\", \"GSE99058_Brain_AC_250samples_normalized_counts_matrix.txt.gz\")).transpose() # astrocytes"
   ]
  },
  {
   "cell_type": "code",
   "execution_count": null,
   "id": "9121b811-1902-401e-90a8-f73b1dd6e398",
   "metadata": {
    "tags": []
   },
   "outputs": [],
   "source": [
    "ad_astro"
   ]
  },
  {
   "cell_type": "code",
   "execution_count": null,
   "id": "aef1f8d9-825e-4102-abea-a720566bfeb6",
   "metadata": {
    "tags": []
   },
   "outputs": [],
   "source": [
    "# format ad_astro.obs"
   ]
  },
  {
   "cell_type": "code",
   "execution_count": null,
   "id": "ba98629a-31cb-4749-8e83-6b3c1335ae27",
   "metadata": {
    "tags": []
   },
   "outputs": [],
   "source": [
    "ad_astro.obs.head()"
   ]
  },
  {
   "cell_type": "markdown",
   "id": "a22c2d1b-42c0-4c0b-9fb7-3a1d1e0308ac",
   "metadata": {},
   "source": [
    "This is the format of metadata in the anndata object. Corresponds to meta_merged.Sample_description"
   ]
  },
  {
   "cell_type": "code",
   "execution_count": null,
   "id": "aade6dc3-a615-48df-b6c2-0e8e0a90a47e",
   "metadata": {
    "tags": []
   },
   "outputs": [],
   "source": [
    "ad_astro.shape"
   ]
  },
  {
   "cell_type": "code",
   "execution_count": null,
   "id": "e7144058-17db-4a74-abf8-64e7f0206a17",
   "metadata": {
    "tags": []
   },
   "outputs": [],
   "source": [
    "temp = ad_astro.obs.reset_index(level=0)[\"index\"].str.split(pat=\".\",expand=True)\n",
    "temp"
   ]
  },
  {
   "cell_type": "code",
   "execution_count": null,
   "id": "cd23747c-a8ca-43a5-b1d5-a305aa59dcec",
   "metadata": {
    "tags": []
   },
   "outputs": [],
   "source": [
    "temp[\"name\"] = temp[0] + \".\" + temp[1]"
   ]
  },
  {
   "cell_type": "code",
   "execution_count": null,
   "id": "3bda325b-81ed-485c-b4db-8fd6e55f1bea",
   "metadata": {
    "tags": []
   },
   "outputs": [],
   "source": [
    "temp[0].value_counts()"
   ]
  },
  {
   "cell_type": "code",
   "execution_count": null,
   "id": "8e2bc63f-a62a-4ec0-b7ab-0bb3f79b87d8",
   "metadata": {
    "tags": []
   },
   "outputs": [],
   "source": [
    "temp[\"tissue\"] = temp[0]\n",
    "temp[\"cell_id\"] = temp[1]"
   ]
  },
  {
   "cell_type": "code",
   "execution_count": null,
   "id": "818ec44c-503a-41a3-8201-346fbed862e6",
   "metadata": {
    "tags": []
   },
   "outputs": [],
   "source": [
    "temp"
   ]
  },
  {
   "cell_type": "code",
   "execution_count": null,
   "id": "0b8d8ef1-787e-4833-bd57-1cc9514a9c2a",
   "metadata": {
    "tags": []
   },
   "outputs": [],
   "source": [
    "temp[\"cell_type_fine\"] = temp.cell_id.str.split(pat=\"_\",expand=True)[0]"
   ]
  },
  {
   "cell_type": "code",
   "execution_count": null,
   "id": "1cc4d977-45ed-46f6-9016-afa1aa334c82",
   "metadata": {
    "tags": []
   },
   "outputs": [],
   "source": [
    "temp.cell_type_fine.value_counts()"
   ]
  },
  {
   "cell_type": "markdown",
   "id": "70758c5c-99d7-41af-817c-0ea74167b7cd",
   "metadata": {},
   "source": [
    "wrong labels?"
   ]
  },
  {
   "cell_type": "code",
   "execution_count": null,
   "id": "cc3bbfac-c0fe-4183-ab79-2b41412d6ed4",
   "metadata": {
    "tags": []
   },
   "outputs": [],
   "source": [
    "#temp[temp[\"cell_type_fine\"] == \"EC3\"].cell_id.unique()"
   ]
  },
  {
   "cell_type": "code",
   "execution_count": null,
   "id": "1ab23a71-8993-4552-94d6-1b720babab7a",
   "metadata": {
    "tags": []
   },
   "outputs": [],
   "source": [
    "pd.crosstab(temp[\"cell_type_fine\"], temp[\"cell_id\"])"
   ]
  },
  {
   "cell_type": "code",
   "execution_count": null,
   "id": "c5267147-85b4-4e2a-92c0-e8aaf720568f",
   "metadata": {
    "tags": []
   },
   "outputs": [],
   "source": [
    "temp['cell_type_broad'] = temp['cell_type_fine'].str.replace('\\d+', '')\n",
    "temp.cell_type_broad.value_counts()"
   ]
  },
  {
   "cell_type": "markdown",
   "id": "e3786530-9b8a-40aa-bec1-5e6bae0e614a",
   "metadata": {},
   "source": [
    "Note: Broad cell types match between metadata and anndata objects"
   ]
  },
  {
   "cell_type": "code",
   "execution_count": null,
   "id": "c7cecab5-d20f-4045-9836-ca27f3dc8186",
   "metadata": {
    "tags": []
   },
   "outputs": [],
   "source": [
    "assert all(ad_astro.obs.reset_index()[\"index\"] == temp.name)\n",
    "assert len(ad_astro.obs) == len(temp)"
   ]
  },
  {
   "cell_type": "code",
   "execution_count": null,
   "id": "5436757c-fc39-4243-889f-ea3dc93ec501",
   "metadata": {
    "tags": []
   },
   "outputs": [],
   "source": [
    "ad_astro.obs = temp[[\"tissue\",\"cell_id\",\"cell_type_fine\",\"cell_type_broad\",\"name\"]]"
   ]
  },
  {
   "cell_type": "code",
   "execution_count": null,
   "id": "f30e9719-181d-4b96-b2ec-3adc8f6bff6f",
   "metadata": {
    "tags": []
   },
   "outputs": [],
   "source": [
    "ad_astro.obs[\"annoated cell types\"] = \"AC\""
   ]
  },
  {
   "cell_type": "markdown",
   "id": "fe2866b0-2d04-435f-9392-43c11472ef83",
   "metadata": {
    "tags": []
   },
   "source": [
    "Check if data is normalized:"
   ]
  },
  {
   "cell_type": "code",
   "execution_count": null,
   "id": "c0899580-5d7d-4cf4-930e-a9af5bc6a7eb",
   "metadata": {
    "tags": []
   },
   "outputs": [],
   "source": [
    "ad_astro.layers"
   ]
  },
  {
   "cell_type": "code",
   "execution_count": null,
   "id": "1c6a0d0e-0f0a-418d-818a-b023882bb4f9",
   "metadata": {
    "tags": []
   },
   "outputs": [],
   "source": [
    "# show expression of 100 random genes (across all spots)\n",
    "import random\n",
    "import seaborn as sns\n",
    "random_genes=random.sample(range(0, ad.X.shape[1]), 100)\n",
    "adata_sub = ad_astro[:,random_genes]\n",
    "exp=pd.DataFrame(np.matrix(adata_sub.X))\n",
    "# plot\n",
    "pl1=sns.displot(data=pd.melt(exp),x='value',height=4,hue='variable',kind=\"kde\",warn_singular=False,legend=False,palette=list(np.repeat('#086da6',100)), lw=0.3) # genes with 0 expression are excluded\n",
    "pl1.set(xlim=(-0.5, 7),ylim=(0,0.007));\n",
    "plt.show()"
   ]
  },
  {
   "cell_type": "code",
   "execution_count": null,
   "id": "da64d918-e780-4f69-ae42-a8756f4113b0",
   "metadata": {
    "tags": []
   },
   "outputs": [],
   "source": [
    "sns.set(rc={'figure.figsize':(4,4)})\n",
    "pl=sns.histplot(data=pd.melt(exp),x='value',binwidth=0.5,legend=True,palette=list(np.repeat('#086da6',100)))\n",
    "pl.set(xlim=(0, 10));\n",
    "plt.show()"
   ]
  },
  {
   "cell_type": "code",
   "execution_count": null,
   "id": "757a0bf9-072d-4700-a7bd-48ef37f0171b",
   "metadata": {
    "tags": []
   },
   "outputs": [],
   "source": [
    "sns.histplot(ad_astro.X.sum(1), bins=100, kde=False)"
   ]
  },
  {
   "cell_type": "code",
   "execution_count": null,
   "id": "264a6608-f257-402c-bb56-321717869eea",
   "metadata": {
    "tags": []
   },
   "outputs": [],
   "source": [
    "exp.head()"
   ]
  },
  {
   "cell_type": "markdown",
   "id": "10c19e06-812c-4d9a-9044-9e8aaacc24f3",
   "metadata": {},
   "source": [
    "Note: Data is normalized by definition (see file name)"
   ]
  },
  {
   "cell_type": "code",
   "execution_count": null,
   "id": "15c2f0a0-e24a-4727-b8ba-4a621edc7da0",
   "metadata": {},
   "outputs": [],
   "source": []
  },
  {
   "cell_type": "markdown",
   "id": "d4612882-a9fc-4f3a-bc49-b078470a04c3",
   "metadata": {},
   "source": [
    "### Merge"
   ]
  },
  {
   "cell_type": "markdown",
   "id": "b03cbb15-15f2-42d8-965b-747330a4f668",
   "metadata": {},
   "source": [
    "Merge anndata objects from vasculature and astrocytes"
   ]
  },
  {
   "cell_type": "markdown",
   "id": "b38629c8-8dea-4c26-9f04-fa1e65027667",
   "metadata": {},
   "source": [
    "But first, drop 18 ACs from vasculature dataset. In https://betsholtzlab.org/VascularSingleCells/database.html exactly 250 ACs are shown, presumably from the 250 AC dataset."
   ]
  },
  {
   "cell_type": "code",
   "execution_count": null,
   "id": "4b803a2f-b0e4-487e-9ed7-d41258acda68",
   "metadata": {
    "tags": []
   },
   "outputs": [],
   "source": [
    "ad = ad[~ad.obs['annoated cell types'].isin(['AC'])]"
   ]
  },
  {
   "cell_type": "code",
   "execution_count": null,
   "id": "009055d3-302f-49dd-9a5a-2e09a966d3d9",
   "metadata": {
    "tags": []
   },
   "outputs": [],
   "source": [
    "ad"
   ]
  },
  {
   "cell_type": "code",
   "execution_count": null,
   "id": "964da01e-2b7c-40ea-91a5-7577c30ae8eb",
   "metadata": {
    "tags": []
   },
   "outputs": [],
   "source": [
    "ad_astro"
   ]
  },
  {
   "cell_type": "code",
   "execution_count": null,
   "id": "6dc17dd9-39c1-4b6a-85b5-137fa7fb731e",
   "metadata": {},
   "outputs": [],
   "source": []
  },
  {
   "cell_type": "code",
   "execution_count": null,
   "id": "5399fe36-0851-40c4-b766-d04a3a23bf09",
   "metadata": {},
   "outputs": [],
   "source": []
  },
  {
   "cell_type": "code",
   "execution_count": null,
   "id": "9cf6ccdd-9d1c-4e4f-9ff9-a64086ae8160",
   "metadata": {
    "tags": []
   },
   "outputs": [],
   "source": [
    "ad_merged = anndata.concat([ad, ad_astro], join=\"inner\")"
   ]
  },
  {
   "cell_type": "code",
   "execution_count": null,
   "id": "793f4db6-4f9b-4ec5-a2dc-a308adbcc376",
   "metadata": {
    "tags": []
   },
   "outputs": [],
   "source": [
    "ad_merged"
   ]
  },
  {
   "cell_type": "code",
   "execution_count": null,
   "id": "1ec5f03a-4a62-44a1-b044-2a6c92443528",
   "metadata": {
    "tags": []
   },
   "outputs": [],
   "source": [
    "ad_merged.obs.head(3)"
   ]
  },
  {
   "cell_type": "code",
   "execution_count": null,
   "id": "da8f5484-51a5-42b1-8854-672fe906621f",
   "metadata": {
    "tags": []
   },
   "outputs": [],
   "source": [
    "ad_merged.obsm['X_umap'] # no umap available as expected"
   ]
  },
  {
   "cell_type": "code",
   "execution_count": null,
   "id": "ed39fa28-d698-4fba-8c8a-ef1940cc960f",
   "metadata": {
    "tags": []
   },
   "outputs": [],
   "source": [
    "ad_merged.obs[\"clusters_fine\"] = ad_merged.obs[\"annoated cell types\"]"
   ]
  },
  {
   "cell_type": "code",
   "execution_count": null,
   "id": "a58381b0-e701-47a8-89a0-a75e58aef306",
   "metadata": {
    "tags": []
   },
   "outputs": [],
   "source": [
    "ad_merged.obs[\"clusters\"] = ad_merged.obs[\"annoated cell types\"]"
   ]
  },
  {
   "cell_type": "code",
   "execution_count": null,
   "id": "f2419b18-bbcb-4a86-b377-af0a00f7816f",
   "metadata": {},
   "outputs": [],
   "source": []
  },
  {
   "cell_type": "code",
   "execution_count": null,
   "id": "486f0147-8ddd-48c2-b1ab-f5d27e8e9480",
   "metadata": {
    "tags": []
   },
   "outputs": [],
   "source": [
    "# merge subclusters\n",
    "new_names = {\n",
    "    'ECs': {'EC1','EC2','EC3','aEC','vEC','capilEC'},\n",
    "    'Pericytes': {'PC'},\n",
    "    'SMCs': {'aSMC','aaSMC','vSMC'},\n",
    "    'Oligos': {'OL'},\n",
    "    'Fibroblasts': {'FB1', 'FB2'},\n",
    "    'Microglia': {'MG'},\n",
    "    'Astrocytes': {'AC'}\n",
    "}\n",
    "# re-format\n",
    "result = {}\n",
    "for key, value in new_names.items():\n",
    "    for elem in value:\n",
    "        result[(elem)] = key\n",
    "new_cluster_names = dict(sorted(result.items()))\n",
    "print(new_cluster_names)"
   ]
  },
  {
   "cell_type": "code",
   "execution_count": null,
   "id": "a09eeed6-771d-4dc9-a66d-ad05d4aba8db",
   "metadata": {
    "tags": []
   },
   "outputs": [],
   "source": [
    "ad_merged.obs['clusters'] = (\n",
    "    ad_merged.obs['clusters']\n",
    "    .map(new_cluster_names)\n",
    "    .astype('category')\n",
    ")"
   ]
  },
  {
   "cell_type": "code",
   "execution_count": null,
   "id": "f5a035e7-cb44-4f51-a5f2-a2622ef4f7c5",
   "metadata": {},
   "outputs": [],
   "source": []
  },
  {
   "cell_type": "code",
   "execution_count": null,
   "id": "e9066479-9251-427c-a246-f8d65c4a4ec9",
   "metadata": {
    "tags": []
   },
   "outputs": [],
   "source": [
    "# alternative: keep AV zonation"
   ]
  },
  {
   "cell_type": "code",
   "execution_count": null,
   "id": "53ba3013-fd3d-43d1-9b06-1ccfea0c0ace",
   "metadata": {
    "tags": []
   },
   "outputs": [],
   "source": [
    "# merge subclusters\n",
    "new_names = {\n",
    "    'ECs_non_AV': {'EC1','EC2','EC3'},\n",
    "    'ECs_Arterial': {'aEC'},\n",
    "    'ECs_Capillary': {'capilEC'},\n",
    "    'ECs_Venous': {'vEC'},\n",
    "    'Pericytes': {'PC'},\n",
    "    'SMCs': {'aSMC','aaSMC','vSMC'},\n",
    "    'Oligos': {'OL'},\n",
    "    'Fibroblasts': {'FB1', 'FB2'},\n",
    "    'Microglia': {'MG'},\n",
    "    'Astrocytes': {'AC'}\n",
    "}\n",
    "# re-format\n",
    "result = {}\n",
    "for key, value in new_names.items():\n",
    "    for elem in value:\n",
    "        result[(elem)] = key\n",
    "new_cluster_names = dict(sorted(result.items()))\n",
    "print(new_cluster_names)"
   ]
  },
  {
   "cell_type": "code",
   "execution_count": null,
   "id": "b066f9f3-020f-4775-8113-febc8e16ac7e",
   "metadata": {
    "tags": []
   },
   "outputs": [],
   "source": [
    "# fine annotation\n",
    "ad_merged.obs['clusters2'] = (\n",
    "    ad_merged.obs['clusters_fine']\n",
    "    .map(new_cluster_names)\n",
    "    .astype('category')\n",
    ")"
   ]
  },
  {
   "cell_type": "code",
   "execution_count": null,
   "id": "e02fa70e-1366-488f-8890-5ccb2292e12c",
   "metadata": {
    "tags": []
   },
   "outputs": [],
   "source": [
    "ad_merged.obs.clusters.value_counts()"
   ]
  },
  {
   "cell_type": "code",
   "execution_count": null,
   "id": "623e0bc6-ac1c-4f2d-8e8b-ab58c0840b9f",
   "metadata": {
    "tags": []
   },
   "outputs": [],
   "source": [
    "ad_merged.obs.clusters2.value_counts()"
   ]
  },
  {
   "cell_type": "code",
   "execution_count": null,
   "id": "328ee0ba-cc7a-4017-9066-fb5904ccd1e4",
   "metadata": {},
   "outputs": [],
   "source": []
  },
  {
   "cell_type": "code",
   "execution_count": null,
   "id": "acb62e36-108e-4128-980e-5f6561765567",
   "metadata": {
    "tags": []
   },
   "outputs": [],
   "source": [
    "# exclude clusters with <50 cells\n",
    "cluster_counts = ad_merged.obs['clusters'].value_counts()\n",
    "cluster_counts"
   ]
  },
  {
   "cell_type": "code",
   "execution_count": null,
   "id": "fafaacef-d105-4e06-9345-668564762f16",
   "metadata": {
    "tags": []
   },
   "outputs": [],
   "source": [
    "ad_merged = ad_merged[ad_merged.obs['clusters'].isin(cluster_counts[cluster_counts>49].index)]"
   ]
  },
  {
   "cell_type": "code",
   "execution_count": null,
   "id": "91dd3967-29cb-4e19-8e28-a5445a5d3063",
   "metadata": {},
   "outputs": [],
   "source": []
  },
  {
   "cell_type": "markdown",
   "id": "302e280f-22e1-4e56-9593-4fdb33dca1aa",
   "metadata": {
    "tags": []
   },
   "source": [
    "Check if data is normalized:"
   ]
  },
  {
   "cell_type": "code",
   "execution_count": null,
   "id": "df7a2a34-da29-4908-8b1d-81c8b8eef625",
   "metadata": {
    "tags": []
   },
   "outputs": [],
   "source": [
    "ad_merged.layers"
   ]
  },
  {
   "cell_type": "code",
   "execution_count": null,
   "id": "0e39c919-8803-4cc2-ba72-2bf1cf5c7f2f",
   "metadata": {
    "tags": []
   },
   "outputs": [],
   "source": [
    "# show expression of 100 random genes (across all spots)\n",
    "random_genes=random.sample(range(0, ad.X.shape[1]), 100)\n",
    "adata_sub = ad_merged[:,random_genes]\n",
    "exp=pd.DataFrame(np.matrix(adata_sub.X))\n",
    "# plot\n",
    "pl1=sns.displot(data=pd.melt(exp),x='value',height=4,hue='variable',kind=\"kde\",warn_singular=False,legend=False,palette=list(np.repeat('#086da6',100)), lw=0.3) # genes with 0 expression are excluded\n",
    "pl1.set(xlim=(-0.5, 7),ylim=(0,0.007));\n",
    "plt.show()"
   ]
  },
  {
   "cell_type": "code",
   "execution_count": null,
   "id": "eff493bf-16ab-4bbd-9831-b0984566384b",
   "metadata": {
    "tags": []
   },
   "outputs": [],
   "source": [
    "sns.set(rc={'figure.figsize':(4,4)})\n",
    "pl=sns.histplot(data=pd.melt(exp),x='value',binwidth=0.5,legend=True,palette=list(np.repeat('#086da6',100)))\n",
    "pl.set(xlim=(0, 10));\n",
    "plt.show()"
   ]
  },
  {
   "cell_type": "code",
   "execution_count": null,
   "id": "9c37ff75-4213-46aa-83e8-502262601851",
   "metadata": {
    "tags": []
   },
   "outputs": [],
   "source": [
    "sns.histplot(ad_merged.X.sum(1), bins=100, kde=False)"
   ]
  },
  {
   "cell_type": "code",
   "execution_count": null,
   "id": "c6f5745b-2dfd-4cec-ae4b-27a4058c1aaa",
   "metadata": {
    "tags": []
   },
   "outputs": [],
   "source": [
    "exp.head()"
   ]
  },
  {
   "cell_type": "markdown",
   "id": "dd9a2266-a92d-4187-b7bd-f366cb7dac91",
   "metadata": {},
   "source": [
    "# Log-normalize merged dataest"
   ]
  },
  {
   "cell_type": "code",
   "execution_count": null,
   "id": "597a9ae3-b6e2-4958-90c0-8ca583d923ea",
   "metadata": {
    "tags": []
   },
   "outputs": [],
   "source": [
    "ad_merged.layers[\"counts\"] = ad_merged.X.copy() # save unnormalized raw RNA counts - retrieve via adata.X = adata.layers[\"counts\"]"
   ]
  },
  {
   "cell_type": "code",
   "execution_count": null,
   "id": "7cb5b69d-2d12-4ea2-a8c7-7214a697be84",
   "metadata": {
    "tags": []
   },
   "outputs": [],
   "source": [
    "sc.pp.normalize_total(ad_merged, inplace=True) # Normalize each spot by total counts over all genes, so that every spot has the same total count after normalization."
   ]
  },
  {
   "cell_type": "code",
   "execution_count": null,
   "id": "d407d67b-e9ec-437c-b8e9-9916b24421e7",
   "metadata": {
    "tags": []
   },
   "outputs": [],
   "source": [
    "sns.histplot(ad_merged.X.sum(1), kde=False)"
   ]
  },
  {
   "cell_type": "code",
   "execution_count": null,
   "id": "bc159413-0e85-404f-9ef3-21f2560cc745",
   "metadata": {
    "tags": []
   },
   "outputs": [],
   "source": [
    "sc.pp.log1p(ad_merged) # X = log(X + 1)"
   ]
  },
  {
   "cell_type": "code",
   "execution_count": null,
   "id": "637595e3-eb40-4904-b29d-1ebe2760e9c2",
   "metadata": {
    "tags": []
   },
   "outputs": [],
   "source": [
    "sns.histplot(ad_merged.X.sum(1), kde=False)"
   ]
  },
  {
   "cell_type": "code",
   "execution_count": null,
   "id": "705a78ac-c596-4c66-876c-7f04a7447c00",
   "metadata": {
    "tags": []
   },
   "outputs": [],
   "source": [
    "ad_merged.layers[\"normalized\"] = ad_merged.X.copy() # save normalized + log-transformed (but unscaled) counts - retrieve via adata.X = adata.layers[\"normalized\"]"
   ]
  },
  {
   "cell_type": "code",
   "execution_count": null,
   "id": "f4e67a07-5d83-4c67-8d45-01aa584a3a19",
   "metadata": {
    "tags": []
   },
   "outputs": [],
   "source": [
    "# Identify highly-variable genes\n",
    "sc.pp.highly_variable_genes(ad_merged)\n",
    "sc.pl.highly_variable_genes(ad_merged)"
   ]
  },
  {
   "cell_type": "code",
   "execution_count": null,
   "id": "2ba397e3-2582-4144-b9cb-d81d254d4275",
   "metadata": {
    "tags": []
   },
   "outputs": [],
   "source": [
    "ad_merged.layers"
   ]
  },
  {
   "cell_type": "code",
   "execution_count": null,
   "id": "f3f78e08-dcd4-41db-a10d-4c77d3e0b9f1",
   "metadata": {
    "tags": []
   },
   "outputs": [],
   "source": [
    "ad_merged.layers[\"normalized\"].max()"
   ]
  },
  {
   "cell_type": "markdown",
   "id": "88cfff1d-e493-4ccd-a202-3de2fcaeb44a",
   "metadata": {
    "tags": []
   },
   "source": [
    "# Focus on: Foxf2"
   ]
  },
  {
   "cell_type": "code",
   "execution_count": null,
   "id": "299f8552-3252-49a4-b5b8-6d8592a79f23",
   "metadata": {
    "tags": []
   },
   "outputs": [],
   "source": [
    "gene=\"Foxf2\""
   ]
  },
  {
   "cell_type": "markdown",
   "id": "62bc37ef-c0ee-43de-b7ce-33f21c2f1960",
   "metadata": {},
   "source": [
    "## Plot"
   ]
  },
  {
   "cell_type": "code",
   "execution_count": null,
   "id": "40c22685-7d9a-41a9-a441-bf2a4f862f0e",
   "metadata": {
    "tags": []
   },
   "outputs": [],
   "source": [
    "sns.set_theme(style='white')\n",
    "sc.pl.matrixplot(ad_merged, [gene], groupby='clusters', swap_axes=False, figsize=(2,5), standard_scale=\"var\")"
   ]
  },
  {
   "cell_type": "code",
   "execution_count": null,
   "id": "3741e958-170d-4f9d-9521-6a0852dcad06",
   "metadata": {
    "tags": []
   },
   "outputs": [],
   "source": [
    "sc.pl.matrixplot(ad_merged, [gene], groupby='clusters2', swap_axes=False, figsize=(2,5), standard_scale=\"var\")"
   ]
  },
  {
   "cell_type": "code",
   "execution_count": null,
   "id": "3a576ea5-69f1-4680-b081-9608ff7beb40",
   "metadata": {
    "tags": []
   },
   "outputs": [],
   "source": [
    "sc.pl.dotplot(ad_merged, [gene], groupby='clusters', swap_axes=False, figsize=(2,5), standard_scale=\"var\")"
   ]
  },
  {
   "cell_type": "code",
   "execution_count": null,
   "id": "26ed2532-7878-42a7-b972-144c53edbbb5",
   "metadata": {
    "tags": []
   },
   "outputs": [],
   "source": [
    "sc.pl.dotplot(ad_merged, [gene], groupby='clusters2', swap_axes=False, figsize=(2,5), standard_scale=\"var\")"
   ]
  },
  {
   "cell_type": "markdown",
   "id": "362887fb-5540-491b-9bea-2ae80a37ff72",
   "metadata": {},
   "source": [
    "## Excl zonation"
   ]
  },
  {
   "cell_type": "code",
   "execution_count": null,
   "id": "37857636-604e-485a-ad7a-4c04d5a7d3b7",
   "metadata": {},
   "outputs": [],
   "source": [
    "utils.summarize_gene_expression(adata = ad_merged, gene = gene, groupby = \"clusters\", \n",
    "                          study_name = dataset_name, organism = organism,\n",
    "                          export = True, output_dir = os.path.join(main_dir, \"P06_Foxf2_per_celltype\", \"Foxf2_summarized\")\n",
    "                         )"
   ]
  },
  {
   "cell_type": "markdown",
   "id": "f0c96cea-69b8-4753-b789-cb0e7b89ba35",
   "metadata": {},
   "source": [
    "## Incl zonation"
   ]
  },
  {
   "cell_type": "code",
   "execution_count": null,
   "id": "b7907800-f1e2-43be-9c6c-d6731fe5d65d",
   "metadata": {},
   "outputs": [],
   "source": [
    "utils.summarize_gene_expression(adata = ad_merged, gene = gene, groupby = \"clusters2\", \n",
    "                          study_name = dataset_name, organism = organism,\n",
    "                          export = True, output_dir = os.path.join(main_dir, \"P06_Foxf2_per_celltype\", \"Foxf2_summarized\", \"incl_zonation\")\n",
    "                         )"
   ]
  },
  {
   "cell_type": "markdown",
   "id": "3a4a3be2-35d8-4ba1-a867-92efa65060b5",
   "metadata": {},
   "source": [
    "# Focus on: Other genes"
   ]
  },
  {
   "cell_type": "code",
   "execution_count": null,
   "id": "86fdc3e7-cd84-4768-8524-dc4c3afab557",
   "metadata": {},
   "outputs": [],
   "source": [
    "target_genes = [\"Foxo1\", \"Tek\", \"Nos3\", \"Htra1\", \"Egfl8\", \"Flt1\", \"Kdr\", \"Ptprb\", \"Nrp1\", \"Nrp2\", \"Efnb2\", \"Itgb1\", \"Itga6\", \"Angpt2\", \"Cdh5\", \"Cldn5\", \"Ocln\", \"Ctnnb1\"]"
   ]
  },
  {
   "cell_type": "markdown",
   "id": "3ed53f8c-8b52-4e86-a7f0-821379ec43e2",
   "metadata": {},
   "source": [
    "## Excl zonation"
   ]
  },
  {
   "cell_type": "code",
   "execution_count": null,
   "id": "531107ff-d065-48d9-a803-32f7d4ccd1f6",
   "metadata": {},
   "outputs": [],
   "source": [
    "other_genes_results = {\n",
    "    gene: utils.summarize_gene_expression(ad_merged, gene, study_name = dataset_name, organism = organism, groupby = \"clusters\",\n",
    "                                    output_dir=os.path.join(main_dir, \"P06_Foxf2_per_celltype\", \"Other_genes_summarized\"), export=True\n",
    "                                   ) for gene in target_genes\n",
    "}"
   ]
  },
  {
   "cell_type": "code",
   "execution_count": null,
   "id": "014b9994-c7ee-4744-83d1-992a07e45515",
   "metadata": {},
   "outputs": [],
   "source": [
    "# some plots"
   ]
  },
  {
   "cell_type": "code",
   "execution_count": null,
   "id": "97e6cf5a-8ac6-433a-a0e7-91d758261eca",
   "metadata": {
    "tags": []
   },
   "outputs": [],
   "source": [
    "sc.pl.matrixplot(ad_merged, [target_genes[0]], groupby='clusters', swap_axes=False, figsize=(2,5), standard_scale=\"var\", layer=\"normalized\")"
   ]
  },
  {
   "cell_type": "code",
   "execution_count": null,
   "id": "c133a4ca-318f-49ec-a80e-2d5b0c36ddc5",
   "metadata": {},
   "outputs": [],
   "source": [
    "sc.pl.dotplot(ad_merged, [target_genes[0]], groupby='clusters', swap_axes=False, figsize=(2,5), standard_scale=\"var\", layer=\"normalized\")"
   ]
  },
  {
   "cell_type": "code",
   "execution_count": null,
   "id": "17cb070b-d7b0-4bd2-a4e4-bf7ceded5e42",
   "metadata": {},
   "outputs": [],
   "source": [
    "sc.pl.matrixplot(ad_merged, [target_genes[1]], groupby='clusters', swap_axes=False, figsize=(2,5), standard_scale=\"var\", layer=\"normalized\")"
   ]
  },
  {
   "cell_type": "code",
   "execution_count": null,
   "id": "b06472d1-f0ea-4012-838f-811cb87daeee",
   "metadata": {},
   "outputs": [],
   "source": [
    "sc.pl.dotplot(ad_merged, [target_genes[1]], groupby='clusters', swap_axes=False, figsize=(2,5), standard_scale=\"var\", layer=\"normalized\")"
   ]
  },
  {
   "cell_type": "markdown",
   "id": "5842e948-9630-4278-9daa-d6a3f1c6c486",
   "metadata": {},
   "source": [
    "## Incl zonation"
   ]
  },
  {
   "cell_type": "code",
   "execution_count": null,
   "id": "b7695cb2-cf1e-49f7-a14f-1c4228ee8996",
   "metadata": {},
   "outputs": [],
   "source": [
    "other_genes_results = {\n",
    "    gene: utils.summarize_gene_expression(ad_merged, gene, study_name = dataset_name, organism = organism, groupby = \"clusters2\",\n",
    "                                    output_dir=os.path.join(main_dir, \"P06_Foxf2_per_celltype\", \"Other_genes_summarized\", \"incl_zonation\"), export=True\n",
    "                                   ) for gene in target_genes\n",
    "}"
   ]
  },
  {
   "cell_type": "code",
   "execution_count": null,
   "id": "df074c11-36e8-4f16-9dbc-7b04896936e0",
   "metadata": {},
   "outputs": [],
   "source": [
    "# some plots"
   ]
  },
  {
   "cell_type": "code",
   "execution_count": null,
   "id": "2a1ab0cc-7ae4-4093-9b32-36ea5478ad86",
   "metadata": {
    "tags": []
   },
   "outputs": [],
   "source": [
    "sc.pl.matrixplot(ad_merged, [target_genes[0]], groupby='clusters2', swap_axes=False, figsize=(2,5), standard_scale=\"var\", layer=\"normalized\")"
   ]
  },
  {
   "cell_type": "code",
   "execution_count": null,
   "id": "c44d4418-11b4-47f5-bbe3-1c1ed7c9d719",
   "metadata": {},
   "outputs": [],
   "source": [
    "sc.pl.dotplot(ad_merged, [target_genes[0]], groupby='clusters2', swap_axes=False, figsize=(2,5), standard_scale=\"var\", layer=\"normalized\")"
   ]
  },
  {
   "cell_type": "code",
   "execution_count": null,
   "id": "3604b513-77d5-4cbb-9da9-b66f5cbaf3b7",
   "metadata": {},
   "outputs": [],
   "source": [
    "sc.pl.matrixplot(ad_merged, [target_genes[1]], groupby='clusters2', swap_axes=False, figsize=(2,5), standard_scale=\"var\", layer=\"normalized\")"
   ]
  },
  {
   "cell_type": "code",
   "execution_count": null,
   "id": "a687b445-2011-4f44-95d5-954cdc18f40a",
   "metadata": {},
   "outputs": [],
   "source": [
    "sc.pl.dotplot(ad_merged, [target_genes[1]], groupby='clusters2', swap_axes=False, figsize=(2,5), standard_scale=\"var\", layer=\"normalized\")"
   ]
  },
  {
   "cell_type": "markdown",
   "id": "0f158f7f-c398-4533-83c1-7d44765fc9d6",
   "metadata": {},
   "source": [
    "# Correlate gene expression (Foxf2 and Foxo1)"
   ]
  },
  {
   "cell_type": "markdown",
   "id": "c704e1a9-a8b3-40cd-ac4c-7e7a993d3303",
   "metadata": {},
   "source": [
    "Using MAGIC denoising"
   ]
  },
  {
   "cell_type": "code",
   "execution_count": null,
   "id": "3df04add-d075-4a4e-914a-17c00cd23157",
   "metadata": {
    "tags": []
   },
   "outputs": [],
   "source": [
    "import magic\n",
    "import scprep"
   ]
  },
  {
   "cell_type": "code",
   "execution_count": null,
   "id": "d78c987a-75dc-4f6b-a2c1-389e05985985",
   "metadata": {
    "tags": []
   },
   "outputs": [],
   "source": [
    "#sc.pp.scale(ad_merged)"
   ]
  },
  {
   "cell_type": "code",
   "execution_count": null,
   "id": "001d27b8-de29-4839-bb2b-70ab824a7e87",
   "metadata": {
    "tags": []
   },
   "outputs": [],
   "source": [
    "sns.set_theme(style='white')"
   ]
  },
  {
   "cell_type": "markdown",
   "id": "4e3eb204-00a6-49c6-ab46-eae6a45dfcd5",
   "metadata": {},
   "source": [
    "## ECs"
   ]
  },
  {
   "cell_type": "code",
   "execution_count": null,
   "id": "29404656-c007-4790-994c-3729de0df43b",
   "metadata": {
    "tags": []
   },
   "outputs": [],
   "source": [
    "gg = [\"Foxf2\",\"Foxo1\",\"Nos3\"]"
   ]
  },
  {
   "cell_type": "code",
   "execution_count": null,
   "id": "0f5cdf09-ebee-4011-b94f-48f155f289ec",
   "metadata": {
    "tags": []
   },
   "outputs": [],
   "source": [
    "adata_EC = ad_merged[ad_merged.obs.clusters == \"ECs\"]"
   ]
  },
  {
   "cell_type": "code",
   "execution_count": null,
   "id": "48375513-172e-4131-b0f4-2b34c33f686d",
   "metadata": {
    "tags": []
   },
   "outputs": [],
   "source": [
    "adata_EC"
   ]
  },
  {
   "cell_type": "code",
   "execution_count": null,
   "id": "aa3edb9d-2604-4b0d-90c2-bd8dcb148316",
   "metadata": {
    "tags": []
   },
   "outputs": [],
   "source": [
    "adata_EC.layers"
   ]
  },
  {
   "cell_type": "code",
   "execution_count": null,
   "id": "a4f0dac0-a8c9-4f58-a142-dd37f760014c",
   "metadata": {
    "tags": []
   },
   "outputs": [],
   "source": [
    "#matrix = pd.DataFrame(adata_EC.X) # not compatible with sparse \n",
    "matrix = adata_EC.X\n",
    "matrix.columns = adata_EC.var.index.tolist()"
   ]
  },
  {
   "cell_type": "code",
   "execution_count": null,
   "id": "260b432d-8d9a-4f4f-8590-9930dd054f39",
   "metadata": {
    "tags": []
   },
   "outputs": [],
   "source": [
    "cutoff_var = None"
   ]
  },
  {
   "cell_type": "code",
   "execution_count": null,
   "id": "e27ef7f2-19b9-49ef-be7a-62bb9fc42ecb",
   "metadata": {
    "tags": []
   },
   "outputs": [],
   "source": [
    "scprep.plot.plot_library_size(matrix, cutoff=cutoff_var)"
   ]
  },
  {
   "cell_type": "code",
   "execution_count": null,
   "id": "4f3add0d-0552-4c74-b06c-767051da28b6",
   "metadata": {
    "tags": []
   },
   "outputs": [],
   "source": [
    "# filter lowly expressed genes and cells with a small library size\n",
    "#matrix = scprep.filter.filter_library_size(matrix, cutoff=cutoff_var)\n",
    "#matrix.head()"
   ]
  },
  {
   "cell_type": "markdown",
   "id": "b9485f91-7cb8-4966-8792-46556adf630a",
   "metadata": {},
   "source": [
    "Note: Skipped normalization as data is already log-normalized"
   ]
  },
  {
   "cell_type": "code",
   "execution_count": null,
   "id": "1b9a0dac-ac5e-4f23-9adc-897506628ecf",
   "metadata": {
    "tags": []
   },
   "outputs": [],
   "source": [
    "adata_EC.layers"
   ]
  },
  {
   "cell_type": "markdown",
   "id": "2c99c74b-451a-484a-b45c-157241856195",
   "metadata": {},
   "source": [
    "### Creating the MAGIC operator\n",
    "If you don't specify parameters, MAGIC creates an operator with the following default values: knn=5, knn_max = 3 * knn, decay=1, t=3."
   ]
  },
  {
   "cell_type": "code",
   "execution_count": null,
   "id": "cfaf954e-1789-47b3-812b-6299d82cf680",
   "metadata": {
    "tags": []
   },
   "outputs": [],
   "source": [
    "magic_op = magic.MAGIC()"
   ]
  },
  {
   "cell_type": "markdown",
   "id": "f46c0e88-6104-418f-abaf-c9e137df3f6a",
   "metadata": {},
   "source": [
    "### Running MAGIC with gene selection\n",
    "The magic_op.fit_transform function takes the normalized data and an array of selected genes as its arguments. If no genes are provided, MAGIC will return a matrix of all genes. The same can be achieved by substituting the array of gene names with genes='all_genes'."
   ]
  },
  {
   "cell_type": "code",
   "execution_count": null,
   "id": "0238d482-bae3-463b-b992-4d25a174b34e",
   "metadata": {
    "tags": []
   },
   "outputs": [],
   "source": [
    "%%time\n",
    "emt_magic = magic_op.fit_transform(adata_EC, genes=['Foxf2', 'Foxo1', 'Nos3'])"
   ]
  },
  {
   "cell_type": "markdown",
   "id": "703c97eb-ad3c-4c5f-93e9-25cb025223cf",
   "metadata": {},
   "source": [
    "### Visualizing gene-gene relationships\n",
    "\n",
    "We can see gene-gene relationships much more clearly after applying MAGIC. Note that the change in absolute values of gene expression is not meaningful - the relative difference is all that matters."
   ]
  },
  {
   "cell_type": "code",
   "execution_count": null,
   "id": "cc279622-f3bf-4d1a-8df8-961d22bb45a2",
   "metadata": {
    "tags": []
   },
   "outputs": [],
   "source": [
    "np.corrcoef(emt_magic[:,['Foxf2','Foxo1']].X, rowvar = False)[0][1]"
   ]
  },
  {
   "cell_type": "code",
   "execution_count": null,
   "id": "f508275e-bdd7-41c2-832c-4639f4088dd1",
   "metadata": {
    "tags": []
   },
   "outputs": [],
   "source": [
    "fig, (ax1, ax2) = plt.subplots(1,2, figsize=(16, 6))\n",
    "scprep.plot.scatter(x=adata_EC[:,'Foxf2'].X, y=adata_EC[:,'Foxo1'].X, c=adata_EC[:,'Nos3'].X, ax = ax1,\n",
    "                    xlabel='Foxf2', ylabel='Foxo1', legend_title=\"Nos3\", title='Before MAGIC')\n",
    "scprep.plot.scatter(x=emt_magic[:,'Foxf2'].X, y=emt_magic[:,'Foxo1'].X, c=emt_magic[:,'Nos3'].X, ax=ax2,\n",
    "                    xlabel='Foxf2', ylabel='Foxo1', legend_title=\"Nos3\", title='After MAGIC')\n",
    "plt.axline((1,1), slope=1, color=\"black\", alpha=0.3, linestyle=\"--\")\n",
    "plt.tight_layout()\n",
    "plt.show()"
   ]
  },
  {
   "cell_type": "markdown",
   "id": "6efa8315-c344-48bc-bfa4-7d1737ac8a87",
   "metadata": {},
   "source": [
    "## PCs"
   ]
  },
  {
   "cell_type": "code",
   "execution_count": null,
   "id": "ae90166b-5eea-4388-9f42-24c1020788c8",
   "metadata": {
    "tags": []
   },
   "outputs": [],
   "source": [
    "gg = [\"Foxf2\",\"Foxo1\",\"Nos3\"]"
   ]
  },
  {
   "cell_type": "code",
   "execution_count": null,
   "id": "b6d6827c-55a6-476f-afbc-e1135aecb77e",
   "metadata": {
    "tags": []
   },
   "outputs": [],
   "source": [
    "adata_EC = ad_merged[ad_merged.obs.clusters == \"Pericytes\"]"
   ]
  },
  {
   "cell_type": "code",
   "execution_count": null,
   "id": "f9880f52-0c38-473a-84e7-f23dbeab5cea",
   "metadata": {
    "tags": []
   },
   "outputs": [],
   "source": [
    "adata_EC"
   ]
  },
  {
   "cell_type": "code",
   "execution_count": null,
   "id": "afbb63d8-ae94-4a7d-9e17-2ea63fa03e26",
   "metadata": {
    "tags": []
   },
   "outputs": [],
   "source": [
    "adata_EC.layers"
   ]
  },
  {
   "cell_type": "code",
   "execution_count": null,
   "id": "d64d574d-ff09-4fb3-b5a0-ea2bef6663fe",
   "metadata": {
    "tags": []
   },
   "outputs": [],
   "source": [
    "#matrix = pd.DataFrame(adata_EC.X) # not compatible with sparse \n",
    "matrix = adata_EC.X\n",
    "matrix.columns = adata_EC.var.index.tolist()"
   ]
  },
  {
   "cell_type": "code",
   "execution_count": null,
   "id": "82f0c942-7ed4-4bfb-aa89-52e68987cf4d",
   "metadata": {
    "tags": []
   },
   "outputs": [],
   "source": [
    "cutoff_var = None"
   ]
  },
  {
   "cell_type": "code",
   "execution_count": null,
   "id": "75a51e8a-8aca-4d3e-8180-0b59ffdb9ae5",
   "metadata": {
    "tags": []
   },
   "outputs": [],
   "source": [
    "scprep.plot.plot_library_size(matrix, cutoff=cutoff_var)"
   ]
  },
  {
   "cell_type": "code",
   "execution_count": null,
   "id": "29116b31-bc0f-44ba-a888-6c7ee6ba1838",
   "metadata": {
    "tags": []
   },
   "outputs": [],
   "source": [
    "# filter lowly expressed genes and cells with a small library size\n",
    "#matrix = scprep.filter.filter_library_size(matrix, cutoff=cutoff_var)\n",
    "#matrix.head()"
   ]
  },
  {
   "cell_type": "markdown",
   "id": "98f1eb57-b519-4802-8d9e-59103baf1298",
   "metadata": {},
   "source": [
    "Note: Skipped normalization as data is already log-normalized"
   ]
  },
  {
   "cell_type": "code",
   "execution_count": null,
   "id": "5d05eb44-0627-484b-a209-1715c1291a99",
   "metadata": {
    "tags": []
   },
   "outputs": [],
   "source": [
    "adata_EC.layers"
   ]
  },
  {
   "cell_type": "markdown",
   "id": "553e0238-99af-4d0d-bf92-634a13276d8b",
   "metadata": {},
   "source": [
    "### Creating the MAGIC operator\n",
    "If you don't specify parameters, MAGIC creates an operator with the following default values: knn=5, knn_max = 3 * knn, decay=1, t=3."
   ]
  },
  {
   "cell_type": "code",
   "execution_count": null,
   "id": "a6de91f3-18b8-48a6-a742-b982f4629aa7",
   "metadata": {
    "tags": []
   },
   "outputs": [],
   "source": [
    "magic_op = magic.MAGIC()"
   ]
  },
  {
   "cell_type": "markdown",
   "id": "09df0ace-62b6-495d-81eb-937020cbbb65",
   "metadata": {},
   "source": [
    "### Running MAGIC with gene selection\n",
    "The magic_op.fit_transform function takes the normalized data and an array of selected genes as its arguments. If no genes are provided, MAGIC will return a matrix of all genes. The same can be achieved by substituting the array of gene names with genes='all_genes'."
   ]
  },
  {
   "cell_type": "code",
   "execution_count": null,
   "id": "47d65e19-086c-4196-8bd4-9d3ebb127e1d",
   "metadata": {
    "tags": []
   },
   "outputs": [],
   "source": [
    "%%time\n",
    "emt_magic = magic_op.fit_transform(adata_EC, genes=['Foxf2', 'Foxo1', 'Nos3'])"
   ]
  },
  {
   "cell_type": "markdown",
   "id": "f3af0305-1978-4798-ba38-983a0c283f38",
   "metadata": {},
   "source": [
    "### Visualizing gene-gene relationships\n",
    "\n",
    "We can see gene-gene relationships much more clearly after applying MAGIC. Note that the change in absolute values of gene expression is not meaningful - the relative difference is all that matters."
   ]
  },
  {
   "cell_type": "code",
   "execution_count": null,
   "id": "039c28ee-3f36-4767-8dee-166c7e62d7db",
   "metadata": {
    "tags": []
   },
   "outputs": [],
   "source": [
    "np.corrcoef(emt_magic[:,['Foxf2','Foxo1']].X, rowvar = False)[0][1]"
   ]
  },
  {
   "cell_type": "code",
   "execution_count": null,
   "id": "86d18564-2bfa-4665-9b2e-50f65f94fbdd",
   "metadata": {
    "tags": []
   },
   "outputs": [],
   "source": [
    "fig, (ax1, ax2) = plt.subplots(1,2, figsize=(16, 6))\n",
    "scprep.plot.scatter(x=adata_EC[:,'Foxf2'].X, y=adata_EC[:,'Foxo1'].X, c=adata_EC[:,'Nos3'].X, ax = ax1,\n",
    "                    xlabel='Foxf2', ylabel='Foxo1', legend_title=\"Nos3\", title='Before MAGIC')\n",
    "scprep.plot.scatter(x=emt_magic[:,'Foxf2'].X, y=emt_magic[:,'Foxo1'].X, c=emt_magic[:,'Nos3'].X, ax=ax2,\n",
    "                    xlabel='Foxf2', ylabel='Foxo1', legend_title=\"Nos3\", title='After MAGIC')\n",
    "plt.axline((0,0), slope=1, color=\"black\", alpha=0.3, linestyle=\"--\")\n",
    "plt.tight_layout()\n",
    "plt.show()"
   ]
  },
  {
   "cell_type": "markdown",
   "id": "8ffa1dd0-bdca-470d-aca3-d087b5d78b54",
   "metadata": {},
   "source": [
    "## All cell types"
   ]
  },
  {
   "cell_type": "code",
   "execution_count": null,
   "id": "46fc1483-eb0c-421f-a86e-2a38960eb763",
   "metadata": {
    "tags": []
   },
   "outputs": [],
   "source": [
    "gg = [\"Foxf2\",\"Foxo1\"]"
   ]
  },
  {
   "cell_type": "code",
   "execution_count": null,
   "id": "f88ee8f6-2f82-45e4-babb-e1cd75311d99",
   "metadata": {
    "tags": []
   },
   "outputs": [],
   "source": [
    "ad_merged"
   ]
  },
  {
   "cell_type": "code",
   "execution_count": null,
   "id": "d5dde056-4955-4289-bbfc-71b78c97b812",
   "metadata": {
    "tags": []
   },
   "outputs": [],
   "source": [
    "#matrix = pd.DataFrame(adata.X) # not compatible with sparse \n",
    "matrix = ad_merged.X\n",
    "#matrix.columns = ad_merged.var.index.tolist()"
   ]
  },
  {
   "cell_type": "code",
   "execution_count": null,
   "id": "8cb929ca-d5d8-4d4d-80f2-866c4256cd4c",
   "metadata": {
    "tags": []
   },
   "outputs": [],
   "source": [
    "cutoff_var = 700"
   ]
  },
  {
   "cell_type": "code",
   "execution_count": null,
   "id": "9b1ab93a-4803-4df3-8b26-2184aa32bf71",
   "metadata": {
    "tags": []
   },
   "outputs": [],
   "source": [
    "scprep.plot.plot_library_size(matrix, cutoff=cutoff_var)"
   ]
  },
  {
   "cell_type": "code",
   "execution_count": null,
   "id": "8c0bbff9-558d-4a03-ae16-093a6fd033e2",
   "metadata": {
    "tags": []
   },
   "outputs": [],
   "source": [
    "# filter lowly expressed genes and cells with a small library size\n",
    "#matrix = scprep.filter.filter_library_size(matrix, cutoff=cutoff_var)\n",
    "#matrix.head()"
   ]
  },
  {
   "cell_type": "markdown",
   "id": "8e0a1bed-f3aa-446e-8c5c-25ed12a44653",
   "metadata": {},
   "source": [
    "Note: Skipped normalization as data is already log-normalized"
   ]
  },
  {
   "cell_type": "code",
   "execution_count": null,
   "id": "c904f4d5-ad87-4f19-8a7b-fa3af513d5fc",
   "metadata": {
    "tags": []
   },
   "outputs": [],
   "source": [
    "ad_merged.layers"
   ]
  },
  {
   "cell_type": "markdown",
   "id": "609e5a24-d796-4aa6-b875-c80602923f41",
   "metadata": {},
   "source": [
    "### Creating the MAGIC operator\n",
    "If you don't specify parameters, MAGIC creates an operator with the following default values: knn=5, knn_max = 3 * knn, decay=1, t=3."
   ]
  },
  {
   "cell_type": "code",
   "execution_count": null,
   "id": "81c903e9-c418-4f64-950b-e79e40406b2a",
   "metadata": {
    "tags": []
   },
   "outputs": [],
   "source": [
    "magic_op = magic.MAGIC()"
   ]
  },
  {
   "cell_type": "markdown",
   "id": "7e837fc3-5028-44c3-9f2f-ab38312ac8f4",
   "metadata": {},
   "source": [
    "### Running MAGIC with gene selection\n",
    "The magic_op.fit_transform function takes the normalized data and an array of selected genes as its arguments. If no genes are provided, MAGIC will return a matrix of all genes. The same can be achieved by substituting the array of gene names with genes='all_genes'."
   ]
  },
  {
   "cell_type": "code",
   "execution_count": null,
   "id": "108c9a61-035b-46b7-a1c6-a34c67bc83ae",
   "metadata": {
    "tags": []
   },
   "outputs": [],
   "source": [
    "%%time\n",
    "emt_magic = magic_op.fit_transform(ad_merged, genes=['Foxf2', 'Foxo1', 'Nos3'])"
   ]
  },
  {
   "cell_type": "markdown",
   "id": "90b07f6d-c7a1-4589-860e-5798de685a3a",
   "metadata": {},
   "source": [
    "### Visualizing gene-gene relationships\n",
    "\n",
    "We can see gene-gene relationships much more clearly after applying MAGIC. Note that the change in absolute values of gene expression is not meaningful - the relative difference is all that matters."
   ]
  },
  {
   "cell_type": "code",
   "execution_count": null,
   "id": "d34ed861-2b4c-46af-88ee-8c80dd22b3a6",
   "metadata": {
    "tags": []
   },
   "outputs": [],
   "source": [
    "np.corrcoef(emt_magic[:,['Foxf2','Foxo1']].X, rowvar = False)[0][1]"
   ]
  },
  {
   "cell_type": "code",
   "execution_count": null,
   "id": "eb8451f8-4099-4ffa-886a-15ff449499bf",
   "metadata": {
    "tags": []
   },
   "outputs": [],
   "source": [
    "fig, (ax1, ax2) = plt.subplots(1,2, figsize=(13, 6))\n",
    "\n",
    "scprep.plot.scatter(x=ad_merged[:,'Foxf2'].X, y=ad_merged[:,'Foxo1'].X, c=ad_merged[:,'Nos3'].X, ax = ax1,\n",
    "                    xlabel='Foxf2', ylabel='Foxo1', legend_title=\"Nos3\", title='Before MAGIC')\n",
    "\n",
    "scprep.plot.scatter(x=emt_magic[:,'Foxf2'].X, y=emt_magic[:,'Foxo1'].X, c=emt_magic[:,'Nos3'].X, ax=ax2,\n",
    "                    xlabel='Foxf2', ylabel='Foxo1', title='After MAGIC')\n",
    "plt.axline((1,1), slope=1, color=\"black\", alpha=0.3, linestyle=\"--\")\n",
    "plt.tight_layout()\n",
    "plt.show()"
   ]
  },
  {
   "cell_type": "markdown",
   "id": "da699cc9-3a35-4194-b08f-77b7d02e239e",
   "metadata": {},
   "source": [
    "## capECs"
   ]
  },
  {
   "cell_type": "code",
   "execution_count": null,
   "id": "3f5a7177-4b91-439a-9732-f36fe1f6c740",
   "metadata": {
    "tags": []
   },
   "outputs": [],
   "source": [
    "gg = [\"Foxf2\",\"Foxo1\",\"Nos3\"]"
   ]
  },
  {
   "cell_type": "code",
   "execution_count": null,
   "id": "2d4d399d-dd97-45b5-ac7f-6c3d88b88384",
   "metadata": {
    "tags": []
   },
   "outputs": [],
   "source": [
    "adata_EC = ad_merged[ad_merged.obs.clusters2 == \"ECs_Capillary\"]"
   ]
  },
  {
   "cell_type": "code",
   "execution_count": null,
   "id": "4b15e917-4774-4e47-bfc5-4168749b3be1",
   "metadata": {
    "tags": []
   },
   "outputs": [],
   "source": [
    "adata_EC"
   ]
  },
  {
   "cell_type": "code",
   "execution_count": null,
   "id": "0fb920b1-17f8-475b-8241-edefb8546131",
   "metadata": {
    "tags": []
   },
   "outputs": [],
   "source": [
    "adata_EC.layers"
   ]
  },
  {
   "cell_type": "code",
   "execution_count": null,
   "id": "3ce8c2a5-ce32-43c5-8c6b-ffe99d9b1e42",
   "metadata": {
    "tags": []
   },
   "outputs": [],
   "source": [
    "#matrix = pd.DataFrame(adata_EC.X) # not compatible with sparse \n",
    "matrix = adata_EC.X\n",
    "matrix.columns = adata_EC.var.index.tolist()"
   ]
  },
  {
   "cell_type": "code",
   "execution_count": null,
   "id": "67d5dc5e-8076-482b-8dfc-7ed6b0a81386",
   "metadata": {
    "tags": []
   },
   "outputs": [],
   "source": [
    "cutoff_var = None"
   ]
  },
  {
   "cell_type": "code",
   "execution_count": null,
   "id": "12fa803c-268c-4264-97ed-3e6202fe5c47",
   "metadata": {
    "tags": []
   },
   "outputs": [],
   "source": [
    "scprep.plot.plot_library_size(matrix, cutoff=cutoff_var)"
   ]
  },
  {
   "cell_type": "code",
   "execution_count": null,
   "id": "4c863466-04a9-4ede-a1c9-0bd05925b1ca",
   "metadata": {
    "tags": []
   },
   "outputs": [],
   "source": [
    "# filter lowly expressed genes and cells with a small library size\n",
    "#matrix = scprep.filter.filter_library_size(matrix, cutoff=cutoff_var)\n",
    "#matrix.head()"
   ]
  },
  {
   "cell_type": "markdown",
   "id": "d100fc2a-3e5f-4226-b46d-d4fb40623d55",
   "metadata": {},
   "source": [
    "Note: Skipped normalization as data is already log-normalized"
   ]
  },
  {
   "cell_type": "code",
   "execution_count": null,
   "id": "c44c2876-fe80-4dc5-a4f2-eb790a013467",
   "metadata": {
    "tags": []
   },
   "outputs": [],
   "source": [
    "adata_EC.layers"
   ]
  },
  {
   "cell_type": "markdown",
   "id": "9479e2af-13f7-4c8b-84c6-f03f2ac3be52",
   "metadata": {},
   "source": [
    "### Creating the MAGIC operator\n",
    "If you don't specify parameters, MAGIC creates an operator with the following default values: knn=5, knn_max = 3 * knn, decay=1, t=3."
   ]
  },
  {
   "cell_type": "code",
   "execution_count": null,
   "id": "ee1167e4-4f02-440d-94b0-ec8c227afb52",
   "metadata": {
    "tags": []
   },
   "outputs": [],
   "source": [
    "magic_op = magic.MAGIC()"
   ]
  },
  {
   "cell_type": "markdown",
   "id": "9d018d04-0179-4506-8a2d-1139f2c4c143",
   "metadata": {},
   "source": [
    "### Running MAGIC with gene selection\n",
    "The magic_op.fit_transform function takes the normalized data and an array of selected genes as its arguments. If no genes are provided, MAGIC will return a matrix of all genes. The same can be achieved by substituting the array of gene names with genes='all_genes'."
   ]
  },
  {
   "cell_type": "code",
   "execution_count": null,
   "id": "4025ad6f-8d5f-4a23-af82-40d26e8ee195",
   "metadata": {
    "tags": []
   },
   "outputs": [],
   "source": [
    "%%time\n",
    "emt_magic = magic_op.fit_transform(adata_EC, genes=['Foxf2', 'Foxo1', 'Nos3'])"
   ]
  },
  {
   "cell_type": "markdown",
   "id": "660278db-b69f-4bce-a3f6-61c74d6f1ed0",
   "metadata": {},
   "source": [
    "### Visualizing gene-gene relationships\n",
    "\n",
    "We can see gene-gene relationships much more clearly after applying MAGIC. Note that the change in absolute values of gene expression is not meaningful - the relative difference is all that matters."
   ]
  },
  {
   "cell_type": "code",
   "execution_count": null,
   "id": "4903b533-6948-428c-b06d-ab7d611e92d6",
   "metadata": {
    "tags": []
   },
   "outputs": [],
   "source": [
    "np.corrcoef(emt_magic[:,['Foxf2','Foxo1']].X, rowvar = False)[0][1]"
   ]
  },
  {
   "cell_type": "code",
   "execution_count": null,
   "id": "4679d5b2-5c4f-4900-800b-d8d34dc3f49b",
   "metadata": {
    "tags": []
   },
   "outputs": [],
   "source": [
    "fig, (ax1, ax2) = plt.subplots(1,2, figsize=(16, 6))\n",
    "scprep.plot.scatter(x=adata_EC[:,'Foxf2'].X, y=adata_EC[:,'Foxo1'].X, c=adata_EC[:,'Nos3'].X, ax = ax1,\n",
    "                    xlabel='Foxf2', ylabel='Foxo1', legend_title=\"Nos3\", title='Before MAGIC')\n",
    "scprep.plot.scatter(x=emt_magic[:,'Foxf2'].X, y=emt_magic[:,'Foxo1'].X, c=emt_magic[:,'Nos3'].X, ax=ax2,\n",
    "                    xlabel='Foxf2', ylabel='Foxo1', legend_title=\"Nos3\", title='After MAGIC')\n",
    "plt.axline((1,1), slope=1, color=\"black\", alpha=0.3, linestyle=\"--\")\n",
    "plt.tight_layout()\n",
    "plt.show()"
   ]
  },
  {
   "cell_type": "markdown",
   "id": "1b02f791-67ce-4cb7-b397-5fe18958060c",
   "metadata": {},
   "source": [
    "## aECs"
   ]
  },
  {
   "cell_type": "code",
   "execution_count": null,
   "id": "94f8ab7e-b607-4921-bb67-ffa1893bf384",
   "metadata": {
    "tags": []
   },
   "outputs": [],
   "source": [
    "gg = [\"Foxf2\",\"Foxo1\",\"Nos3\"]"
   ]
  },
  {
   "cell_type": "code",
   "execution_count": null,
   "id": "935cfe59-afee-4385-98bb-29ca7f8a65eb",
   "metadata": {
    "tags": []
   },
   "outputs": [],
   "source": [
    "adata_EC = ad_merged[ad_merged.obs.clusters2 == \"ECs_Arterial\"]"
   ]
  },
  {
   "cell_type": "code",
   "execution_count": null,
   "id": "6ad1cd0e-fffb-479d-aa77-a6dbd2d01205",
   "metadata": {
    "tags": []
   },
   "outputs": [],
   "source": [
    "adata_EC"
   ]
  },
  {
   "cell_type": "code",
   "execution_count": null,
   "id": "f0e5e6d0-d6e8-4179-a23c-e029d330a62a",
   "metadata": {
    "tags": []
   },
   "outputs": [],
   "source": [
    "adata_EC.layers"
   ]
  },
  {
   "cell_type": "code",
   "execution_count": null,
   "id": "7a2fe971-c16d-4228-916d-a6b1e2b26795",
   "metadata": {
    "tags": []
   },
   "outputs": [],
   "source": [
    "#matrix = pd.DataFrame(adata_EC.X) # not compatible with sparse \n",
    "matrix = adata_EC.X\n",
    "matrix.columns = adata_EC.var.index.tolist()"
   ]
  },
  {
   "cell_type": "code",
   "execution_count": null,
   "id": "58907b66-bfeb-4ed7-9a3e-10a7515b9646",
   "metadata": {
    "tags": []
   },
   "outputs": [],
   "source": [
    "cutoff_var = None"
   ]
  },
  {
   "cell_type": "code",
   "execution_count": null,
   "id": "f51bd2f6-8165-41b7-b056-4078d1873796",
   "metadata": {
    "tags": []
   },
   "outputs": [],
   "source": [
    "scprep.plot.plot_library_size(matrix, cutoff=cutoff_var)"
   ]
  },
  {
   "cell_type": "code",
   "execution_count": null,
   "id": "ef08799f-fc9e-4092-b4ee-e22db5feaa44",
   "metadata": {
    "tags": []
   },
   "outputs": [],
   "source": [
    "# filter lowly expressed genes and cells with a small library size\n",
    "#matrix = scprep.filter.filter_library_size(matrix, cutoff=cutoff_var)\n",
    "#matrix.head()"
   ]
  },
  {
   "cell_type": "markdown",
   "id": "ca4b276b-d778-432b-97d3-5c19ab43cae0",
   "metadata": {},
   "source": [
    "Note: Skipped normalization as data is already log-normalized"
   ]
  },
  {
   "cell_type": "code",
   "execution_count": null,
   "id": "8d81f357-1529-4343-8284-f1574c410f77",
   "metadata": {
    "tags": []
   },
   "outputs": [],
   "source": [
    "adata_EC.layers"
   ]
  },
  {
   "cell_type": "markdown",
   "id": "a9d565bd-b7dd-43eb-bcd6-81258f5d5258",
   "metadata": {},
   "source": [
    "### Creating the MAGIC operator\n",
    "If you don't specify parameters, MAGIC creates an operator with the following default values: knn=5, knn_max = 3 * knn, decay=1, t=3."
   ]
  },
  {
   "cell_type": "code",
   "execution_count": null,
   "id": "6da5e7b9-198b-4380-b8ca-d809ef50c878",
   "metadata": {
    "tags": []
   },
   "outputs": [],
   "source": [
    "magic_op = magic.MAGIC()"
   ]
  },
  {
   "cell_type": "markdown",
   "id": "1401e6e0-a218-40d9-9c6a-b75b1279de47",
   "metadata": {},
   "source": [
    "### Running MAGIC with gene selection\n",
    "The magic_op.fit_transform function takes the normalized data and an array of selected genes as its arguments. If no genes are provided, MAGIC will return a matrix of all genes. The same can be achieved by substituting the array of gene names with genes='all_genes'."
   ]
  },
  {
   "cell_type": "code",
   "execution_count": null,
   "id": "f6407ec6-b114-44c2-b35e-e3f3ade372ba",
   "metadata": {
    "tags": []
   },
   "outputs": [],
   "source": [
    "%%time\n",
    "emt_magic = magic_op.fit_transform(adata_EC, genes=['Foxf2', 'Foxo1', 'Nos3'])"
   ]
  },
  {
   "cell_type": "markdown",
   "id": "2aa07ef8-d90e-4e81-bd32-2968c8f5622c",
   "metadata": {},
   "source": [
    "### Visualizing gene-gene relationships\n",
    "\n",
    "We can see gene-gene relationships much more clearly after applying MAGIC. Note that the change in absolute values of gene expression is not meaningful - the relative difference is all that matters."
   ]
  },
  {
   "cell_type": "code",
   "execution_count": null,
   "id": "6ff75142-73fe-4047-aa41-19a5319abb69",
   "metadata": {
    "tags": []
   },
   "outputs": [],
   "source": [
    "np.corrcoef(emt_magic[:,['Foxf2','Foxo1']].X, rowvar = False)[0][1]"
   ]
  },
  {
   "cell_type": "code",
   "execution_count": null,
   "id": "bf1cf422-8d9e-4f76-a744-d9caa33b191d",
   "metadata": {
    "tags": []
   },
   "outputs": [],
   "source": [
    "fig, (ax1, ax2) = plt.subplots(1,2, figsize=(16, 6))\n",
    "scprep.plot.scatter(x=adata_EC[:,'Foxf2'].X, y=adata_EC[:,'Foxo1'].X, c=adata_EC[:,'Nos3'].X, ax = ax1,\n",
    "                    xlabel='Foxf2', ylabel='Foxo1', legend_title=\"Nos3\", title='Before MAGIC')\n",
    "scprep.plot.scatter(x=emt_magic[:,'Foxf2'].X, y=emt_magic[:,'Foxo1'].X, c=emt_magic[:,'Nos3'].X, ax=ax2,\n",
    "                    xlabel='Foxf2', ylabel='Foxo1', legend_title=\"Nos3\", title='After MAGIC')\n",
    "plt.axline((1,1), slope=1, color=\"black\", alpha=0.3, linestyle=\"--\")\n",
    "plt.tight_layout()\n",
    "plt.show()"
   ]
  },
  {
   "cell_type": "markdown",
   "id": "f643543c-4933-4196-8c90-25bf96b045ce",
   "metadata": {},
   "source": [
    "## vECs"
   ]
  },
  {
   "cell_type": "code",
   "execution_count": null,
   "id": "0b471c68-3c73-4dbd-8766-06efbffd81b9",
   "metadata": {
    "tags": []
   },
   "outputs": [],
   "source": [
    "gg = [\"Foxf2\",\"Foxo1\",\"Nos3\"]"
   ]
  },
  {
   "cell_type": "code",
   "execution_count": null,
   "id": "8533ae01-fb68-46bf-a677-c3ed9a25fb9c",
   "metadata": {
    "tags": []
   },
   "outputs": [],
   "source": [
    "adata_EC = ad_merged[ad_merged.obs.clusters2 == \"ECs_Venous\"]"
   ]
  },
  {
   "cell_type": "code",
   "execution_count": null,
   "id": "10a65e0b-913f-441b-a92c-5eb92fd87cf3",
   "metadata": {
    "tags": []
   },
   "outputs": [],
   "source": [
    "adata_EC"
   ]
  },
  {
   "cell_type": "code",
   "execution_count": null,
   "id": "98f38844-69a6-4273-a886-b5639e70930d",
   "metadata": {
    "tags": []
   },
   "outputs": [],
   "source": [
    "adata_EC.layers"
   ]
  },
  {
   "cell_type": "code",
   "execution_count": null,
   "id": "69b9056f-530c-4098-9611-1e68f397483f",
   "metadata": {
    "tags": []
   },
   "outputs": [],
   "source": [
    "#matrix = pd.DataFrame(adata_EC.X) # not compatible with sparse \n",
    "matrix = adata_EC.X\n",
    "matrix.columns = adata_EC.var.index.tolist()"
   ]
  },
  {
   "cell_type": "code",
   "execution_count": null,
   "id": "28e7bde5-085c-410f-8558-e8832fc428a0",
   "metadata": {
    "tags": []
   },
   "outputs": [],
   "source": [
    "cutoff_var = None"
   ]
  },
  {
   "cell_type": "code",
   "execution_count": null,
   "id": "b9102160-2809-4dda-be28-864b58d5b7c5",
   "metadata": {
    "tags": []
   },
   "outputs": [],
   "source": [
    "scprep.plot.plot_library_size(matrix, cutoff=cutoff_var)"
   ]
  },
  {
   "cell_type": "code",
   "execution_count": null,
   "id": "41fb3275-18c4-4c11-8933-cfcddadd23c4",
   "metadata": {
    "tags": []
   },
   "outputs": [],
   "source": [
    "# filter lowly expressed genes and cells with a small library size\n",
    "#matrix = scprep.filter.filter_library_size(matrix, cutoff=cutoff_var)\n",
    "#matrix.head()"
   ]
  },
  {
   "cell_type": "markdown",
   "id": "0fe4adc0-e88f-4f36-b0fa-49af74eaa86c",
   "metadata": {},
   "source": [
    "Note: Skipped normalization as data is already log-normalized"
   ]
  },
  {
   "cell_type": "code",
   "execution_count": null,
   "id": "934322d8-6b3f-4cab-9125-82b8a3b7fe2c",
   "metadata": {
    "tags": []
   },
   "outputs": [],
   "source": [
    "adata_EC.layers"
   ]
  },
  {
   "cell_type": "markdown",
   "id": "169c096e-ead7-4e08-b5eb-654e262ed7aa",
   "metadata": {},
   "source": [
    "### Creating the MAGIC operator\n",
    "If you don't specify parameters, MAGIC creates an operator with the following default values: knn=5, knn_max = 3 * knn, decay=1, t=3."
   ]
  },
  {
   "cell_type": "code",
   "execution_count": null,
   "id": "41aae989-e9d9-4929-86ee-d7f3c5c5a791",
   "metadata": {
    "tags": []
   },
   "outputs": [],
   "source": [
    "magic_op = magic.MAGIC()"
   ]
  },
  {
   "cell_type": "markdown",
   "id": "5755c096-904b-495c-baae-538b0e364bec",
   "metadata": {},
   "source": [
    "### Running MAGIC with gene selection\n",
    "The magic_op.fit_transform function takes the normalized data and an array of selected genes as its arguments. If no genes are provided, MAGIC will return a matrix of all genes. The same can be achieved by substituting the array of gene names with genes='all_genes'."
   ]
  },
  {
   "cell_type": "code",
   "execution_count": null,
   "id": "77593c01-162d-497b-99c0-9e02649b9980",
   "metadata": {
    "tags": []
   },
   "outputs": [],
   "source": [
    "%%time\n",
    "emt_magic = magic_op.fit_transform(adata_EC, genes=['Foxf2', 'Foxo1', 'Nos3'])"
   ]
  },
  {
   "cell_type": "markdown",
   "id": "885d0d52-cb81-459d-9074-8bea75c1e276",
   "metadata": {},
   "source": [
    "### Visualizing gene-gene relationships\n",
    "\n",
    "We can see gene-gene relationships much more clearly after applying MAGIC. Note that the change in absolute values of gene expression is not meaningful - the relative difference is all that matters."
   ]
  },
  {
   "cell_type": "code",
   "execution_count": null,
   "id": "8678b9e0-929e-4e81-a177-02a5d8484602",
   "metadata": {
    "tags": []
   },
   "outputs": [],
   "source": [
    "np.corrcoef(emt_magic[:,['Foxf2','Foxo1']].X, rowvar = False)[0][1]"
   ]
  },
  {
   "cell_type": "code",
   "execution_count": null,
   "id": "89e75849-e07a-4e1c-846f-9a07c080fa75",
   "metadata": {
    "tags": []
   },
   "outputs": [],
   "source": [
    "fig, (ax1, ax2) = plt.subplots(1,2, figsize=(16, 6))\n",
    "scprep.plot.scatter(x=adata_EC[:,'Foxf2'].X, y=adata_EC[:,'Foxo1'].X, c=adata_EC[:,'Nos3'].X, ax = ax1,\n",
    "                    xlabel='Foxf2', ylabel='Foxo1', legend_title=\"Nos3\", title='Before MAGIC')\n",
    "scprep.plot.scatter(x=emt_magic[:,'Foxf2'].X, y=emt_magic[:,'Foxo1'].X, c=emt_magic[:,'Nos3'].X, ax=ax2,\n",
    "                    xlabel='Foxf2', ylabel='Foxo1', legend_title=\"Nos3\", title='After MAGIC')\n",
    "plt.axline((1,1), slope=1, color=\"black\", alpha=0.3, linestyle=\"--\")\n",
    "plt.tight_layout()\n",
    "plt.show()"
   ]
  },
  {
   "cell_type": "markdown",
   "id": "05e7afaa-081d-4a22-8672-5ee286c07ffe",
   "metadata": {},
   "source": [
    "# Session Info"
   ]
  },
  {
   "cell_type": "code",
   "execution_count": null,
   "id": "06401063-4335-4d98-ad41-2bab36a17eab",
   "metadata": {
    "tags": []
   },
   "outputs": [],
   "source": [
    "sc.logging.print_versions()"
   ]
  },
  {
   "cell_type": "code",
   "execution_count": null,
   "id": "4f4817c0-cfbb-4c99-a286-a9c4947132a0",
   "metadata": {},
   "outputs": [],
   "source": []
  }
 ],
 "metadata": {
  "kernelspec": {
   "display_name": "Python 3 (ipykernel)",
   "language": "python",
   "name": "python3"
  },
  "language_info": {
   "codemirror_mode": {
    "name": "ipython",
    "version": 3
   },
   "file_extension": ".py",
   "mimetype": "text/x-python",
   "name": "python",
   "nbconvert_exporter": "python",
   "pygments_lexer": "ipython3"
  }
 },
 "nbformat": 4,
 "nbformat_minor": 5
}
