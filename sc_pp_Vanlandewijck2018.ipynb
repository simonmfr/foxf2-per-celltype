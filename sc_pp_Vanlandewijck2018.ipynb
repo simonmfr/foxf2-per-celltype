{
 "cells": [
  {
   "cell_type": "markdown",
   "id": "9bfa00be-69ba-4146-aba2-818b967492c3",
   "metadata": {
    "jp-MarkdownHeadingCollapsed": true,
    "tags": []
   },
   "source": [
    "<font size=\"+3.8\">Scanpy single-cell pre-processing</font>  \n",
    "<font size=\"+1.5\"></font>  "
   ]
  },
  {
   "cell_type": "markdown",
   "id": "7f9434a8-16db-4c2d-9dc3-146eb194b3a3",
   "metadata": {},
   "source": [
    "sfrerich"
   ]
  },
  {
   "cell_type": "markdown",
   "id": "563f0b43-ce10-475f-b355-6fa8a2406dad",
   "metadata": {},
   "source": [
    "Aim: Preprocess mouse brain single-cell data from Vanlandewijck 2018 Nature "
   ]
  },
  {
   "cell_type": "markdown",
   "id": "dc8cddd1-6a29-44bb-91d7-15a6a417f398",
   "metadata": {},
   "source": [
    "Dataset: https://betsholtzlab.org/VascularSingleCells/database.html"
   ]
  },
  {
   "cell_type": "code",
   "execution_count": 1,
   "id": "c4f25c8a-47e9-48b5-af79-04fe44b4068d",
   "metadata": {},
   "outputs": [],
   "source": [
    "import numpy as np\n",
    "import pandas as pd\n",
    "import scanpy as sc\n",
    "import anndata\n",
    "import matplotlib.pyplot as plt\n",
    "import os\n",
    "from datetime import date\n",
    "from matplotlib.pyplot import rc_context"
   ]
  },
  {
   "cell_type": "code",
   "execution_count": 2,
   "id": "fc7d8b45-6ec5-428f-89f2-08540e479ab8",
   "metadata": {},
   "outputs": [],
   "source": [
    "sc.settings.verbosity = 3"
   ]
  },
  {
   "cell_type": "code",
   "execution_count": 3,
   "id": "f46a7618-6a0d-48a7-b77a-065afc204527",
   "metadata": {},
   "outputs": [],
   "source": [
    "main_dir='/run/user/1000/gvfs/smb-share:server=138.245.4.35,share=bd-dichgans/SF' # Linux"
   ]
  },
  {
   "cell_type": "code",
   "execution_count": 4,
   "id": "3fd52f8c-ea1e-4f2c-809f-5515a5e2ced6",
   "metadata": {},
   "outputs": [],
   "source": [
    "main_dir='\\\\\\isdsynnas.srv.med.uni-muenchen.de\\BD-Dichgans\\SF' # Win"
   ]
  },
  {
   "cell_type": "markdown",
   "id": "d75da520-0b28-417d-877e-f167db41ef30",
   "metadata": {},
   "source": [
    "# Load data"
   ]
  },
  {
   "cell_type": "markdown",
   "id": "00e3b5cb-f957-4175-aedf-471b195dfb60",
   "metadata": {
    "tags": []
   },
   "source": [
    "## Annotated \n",
    "Downloaded from: https://www.ncbi.nlm.nih.gov/geo/query/acc.cgi?acc=GSE98816 (normalized count matrix and Series Matrix File = metadata2) and https://figshare.com/collections/_/4077260 02/02/2023"
   ]
  },
  {
   "cell_type": "code",
   "execution_count": 5,
   "id": "866fcc4b-c0a8-4429-a759-4c3d8ca6583c",
   "metadata": {},
   "outputs": [],
   "source": [
    "ad = sc.read_text(main_dir+\"\\\\P6_vasc_scRNAseq\\Vanlandewijck2018\\\\GSE98816_Brain_samples_normalized_counts_matrix.txt.gz\").transpose() # vascular cells"
   ]
  },
  {
   "cell_type": "code",
   "execution_count": 6,
   "id": "a6d2d752-4a71-428e-b20c-08c962bb961f",
   "metadata": {},
   "outputs": [],
   "source": [
    "#ad = sc.read_text(main_dir+\"\\\\P6_vasc_scRNAseq\\Vanlandewijck2018\\\\GSE98816_Brain_samples_raw_read_counts_matrix.txt.gz\").transpose()"
   ]
  },
  {
   "cell_type": "code",
   "execution_count": 7,
   "id": "5e3c3e38-ecc2-4f3b-a33a-fd27f4cc605d",
   "metadata": {},
   "outputs": [
    {
     "data": {
      "text/plain": [
       "AnnData object with n_obs × n_vars = 3186 × 19937"
      ]
     },
     "execution_count": 7,
     "metadata": {},
     "output_type": "execute_result"
    }
   ],
   "source": [
    "ad"
   ]
  },
  {
   "cell_type": "code",
   "execution_count": 8,
   "id": "47b316d6-477e-43d4-ac93-91b898dde2fb",
   "metadata": {},
   "outputs": [],
   "source": [
    "ad_astro = sc.read_text(main_dir+\"\\\\P6_vasc_scRNAseq\\Vanlandewijck2018\\\\GSE99058_Brain_AC_250samples_normalized_counts_matrix.txt.gz\").transpose() # astrocytes"
   ]
  },
  {
   "cell_type": "code",
   "execution_count": 9,
   "id": "9121b811-1902-401e-90a8-f73b1dd6e398",
   "metadata": {},
   "outputs": [
    {
     "data": {
      "text/plain": [
       "AnnData object with n_obs × n_vars = 250 × 24490"
      ]
     },
     "execution_count": 9,
     "metadata": {},
     "output_type": "execute_result"
    }
   ],
   "source": [
    "ad_astro"
   ]
  },
  {
   "cell_type": "code",
   "execution_count": 10,
   "id": "193d7e19-d9a0-4883-8ecb-c8c83e8d8071",
   "metadata": {},
   "outputs": [],
   "source": [
    "# Add var"
   ]
  },
  {
   "cell_type": "code",
   "execution_count": 11,
   "id": "fe3513ce-bca7-4919-af03-b93e03497a80",
   "metadata": {},
   "outputs": [
    {
     "data": {
      "text/html": [
       "<div>\n",
       "<style scoped>\n",
       "    .dataframe tbody tr th:only-of-type {\n",
       "        vertical-align: middle;\n",
       "    }\n",
       "\n",
       "    .dataframe tbody tr th {\n",
       "        vertical-align: top;\n",
       "    }\n",
       "\n",
       "    .dataframe thead th {\n",
       "        text-align: right;\n",
       "    }\n",
       "</style>\n",
       "<table border=\"1\" class=\"dataframe\">\n",
       "  <thead>\n",
       "    <tr style=\"text-align: right;\">\n",
       "      <th></th>\n",
       "    </tr>\n",
       "  </thead>\n",
       "  <tbody>\n",
       "    <tr>\n",
       "      <th>Adora1</th>\n",
       "    </tr>\n",
       "    <tr>\n",
       "      <th>Sntg1</th>\n",
       "    </tr>\n",
       "    <tr>\n",
       "      <th>Prim2</th>\n",
       "    </tr>\n",
       "    <tr>\n",
       "      <th>Bai3</th>\n",
       "    </tr>\n",
       "    <tr>\n",
       "      <th>Cflar</th>\n",
       "    </tr>\n",
       "  </tbody>\n",
       "</table>\n",
       "</div>"
      ],
      "text/plain": [
       "Empty DataFrame\n",
       "Columns: []\n",
       "Index: [Adora1, Sntg1, Prim2, Bai3, Cflar]"
      ]
     },
     "execution_count": 11,
     "metadata": {},
     "output_type": "execute_result"
    }
   ],
   "source": [
    "ad.var.head()"
   ]
  },
  {
   "cell_type": "code",
   "execution_count": 12,
   "id": "7aa61568-751f-410b-a467-5e84ccbd7043",
   "metadata": {},
   "outputs": [],
   "source": [
    "# not available"
   ]
  },
  {
   "cell_type": "code",
   "execution_count": 13,
   "id": "da3cb6a4-2fdd-4cd0-8c9d-e5d76c6b8d48",
   "metadata": {},
   "outputs": [],
   "source": [
    "# Add metadata"
   ]
  },
  {
   "cell_type": "code",
   "execution_count": 14,
   "id": "184a855a-a212-48db-a19e-773efeb9a78c",
   "metadata": {},
   "outputs": [],
   "source": [
    "meta = pd.read_csv(main_dir+\"\\\\P6_vasc_scRNAseq\\\\Vanlandewijck2018\\\\Descriptionofeachsinglecellsamples.csv\", sep=\";\")"
   ]
  },
  {
   "cell_type": "code",
   "execution_count": 15,
   "id": "29a44a08-0dbd-4794-842f-2260df1b7aae",
   "metadata": {},
   "outputs": [
    {
     "data": {
      "text/html": [
       "<div>\n",
       "<style scoped>\n",
       "    .dataframe tbody tr th:only-of-type {\n",
       "        vertical-align: middle;\n",
       "    }\n",
       "\n",
       "    .dataframe tbody tr th {\n",
       "        vertical-align: top;\n",
       "    }\n",
       "\n",
       "    .dataframe thead th {\n",
       "        text-align: right;\n",
       "    }\n",
       "</style>\n",
       "<table border=\"1\" class=\"dataframe\">\n",
       "  <thead>\n",
       "    <tr style=\"text-align: right;\">\n",
       "      <th></th>\n",
       "      <th>GSM ID</th>\n",
       "      <th>GSM name</th>\n",
       "      <th>organism</th>\n",
       "      <th>Mouse ID</th>\n",
       "      <th>strain</th>\n",
       "      <th>genotype</th>\n",
       "      <th>age</th>\n",
       "      <th>tissue origin</th>\n",
       "      <th>annoated cell types</th>\n",
       "      <th>BioSample ID</th>\n",
       "      <th>SRA ID</th>\n",
       "      <th>Sequenced Reads</th>\n",
       "    </tr>\n",
       "  </thead>\n",
       "  <tbody>\n",
       "    <tr>\n",
       "      <th>0</th>\n",
       "      <td>GSM2612539</td>\n",
       "      <td>Brain single cell 1</td>\n",
       "      <td>Mus musculus</td>\n",
       "      <td>Mouse_160114_Female</td>\n",
       "      <td>C57BL/6</td>\n",
       "      <td>Cldn5(BAC)eGFP</td>\n",
       "      <td>adult</td>\n",
       "      <td>Brain</td>\n",
       "      <td>aEC</td>\n",
       "      <td>SAMN06929667</td>\n",
       "      <td>SRX2798643</td>\n",
       "      <td>693266</td>\n",
       "    </tr>\n",
       "    <tr>\n",
       "      <th>1</th>\n",
       "      <td>GSM2612540</td>\n",
       "      <td>Brain single cell 2</td>\n",
       "      <td>Mus musculus</td>\n",
       "      <td>Mouse_160114_Female</td>\n",
       "      <td>C57BL/6</td>\n",
       "      <td>Cldn5(BAC)eGFP</td>\n",
       "      <td>adult</td>\n",
       "      <td>Brain</td>\n",
       "      <td>capilEC</td>\n",
       "      <td>SAMN06929666</td>\n",
       "      <td>SRX2798644</td>\n",
       "      <td>812809</td>\n",
       "    </tr>\n",
       "    <tr>\n",
       "      <th>2</th>\n",
       "      <td>GSM2612541</td>\n",
       "      <td>Brain single cell 3</td>\n",
       "      <td>Mus musculus</td>\n",
       "      <td>Mouse_160114_Female</td>\n",
       "      <td>C57BL/6</td>\n",
       "      <td>Cldn5(BAC)eGFP</td>\n",
       "      <td>adult</td>\n",
       "      <td>Brain</td>\n",
       "      <td>aEC</td>\n",
       "      <td>SAMN06929665</td>\n",
       "      <td>SRX2798645</td>\n",
       "      <td>736773</td>\n",
       "    </tr>\n",
       "    <tr>\n",
       "      <th>3</th>\n",
       "      <td>GSM2612542</td>\n",
       "      <td>Brain single cell 4</td>\n",
       "      <td>Mus musculus</td>\n",
       "      <td>Mouse_160114_Female</td>\n",
       "      <td>C57BL/6</td>\n",
       "      <td>Cldn5(BAC)eGFP</td>\n",
       "      <td>adult</td>\n",
       "      <td>Brain</td>\n",
       "      <td>EC3</td>\n",
       "      <td>SAMN06929664</td>\n",
       "      <td>SRX2798646</td>\n",
       "      <td>655327</td>\n",
       "    </tr>\n",
       "    <tr>\n",
       "      <th>4</th>\n",
       "      <td>GSM2612543</td>\n",
       "      <td>Brain single cell 5</td>\n",
       "      <td>Mus musculus</td>\n",
       "      <td>Mouse_160114_Female</td>\n",
       "      <td>C57BL/6</td>\n",
       "      <td>Cldn5(BAC)eGFP</td>\n",
       "      <td>adult</td>\n",
       "      <td>Brain</td>\n",
       "      <td>aEC</td>\n",
       "      <td>SAMN06929663</td>\n",
       "      <td>SRX2798647</td>\n",
       "      <td>629114</td>\n",
       "    </tr>\n",
       "  </tbody>\n",
       "</table>\n",
       "</div>"
      ],
      "text/plain": [
       "       GSM ID             GSM name      organism             Mouse ID  \\\n",
       "0  GSM2612539  Brain single cell 1  Mus musculus  Mouse_160114_Female   \n",
       "1  GSM2612540  Brain single cell 2  Mus musculus  Mouse_160114_Female   \n",
       "2  GSM2612541  Brain single cell 3  Mus musculus  Mouse_160114_Female   \n",
       "3  GSM2612542  Brain single cell 4  Mus musculus  Mouse_160114_Female   \n",
       "4  GSM2612543  Brain single cell 5  Mus musculus  Mouse_160114_Female   \n",
       "\n",
       "    strain        genotype    age tissue origin annoated cell types  \\\n",
       "0  C57BL/6  Cldn5(BAC)eGFP  adult         Brain                 aEC   \n",
       "1  C57BL/6  Cldn5(BAC)eGFP  adult         Brain             capilEC   \n",
       "2  C57BL/6  Cldn5(BAC)eGFP  adult         Brain                 aEC   \n",
       "3  C57BL/6  Cldn5(BAC)eGFP  adult         Brain                 EC3   \n",
       "4  C57BL/6  Cldn5(BAC)eGFP  adult         Brain                 aEC   \n",
       "\n",
       "   BioSample ID      SRA ID  Sequenced Reads  \n",
       "0  SAMN06929667  SRX2798643           693266  \n",
       "1  SAMN06929666  SRX2798644           812809  \n",
       "2  SAMN06929665  SRX2798645           736773  \n",
       "3  SAMN06929664  SRX2798646           655327  \n",
       "4  SAMN06929663  SRX2798647           629114  "
      ]
     },
     "execution_count": 15,
     "metadata": {},
     "output_type": "execute_result"
    }
   ],
   "source": [
    "meta.head()"
   ]
  },
  {
   "cell_type": "code",
   "execution_count": 16,
   "id": "4ce8b07e-aca2-41d4-a2e9-03b135f607f4",
   "metadata": {},
   "outputs": [
    {
     "data": {
      "text/plain": [
       "Brain    3436\n",
       "Lung     1504\n",
       "Name: tissue origin, dtype: int64"
      ]
     },
     "execution_count": 16,
     "metadata": {},
     "output_type": "execute_result"
    }
   ],
   "source": [
    "meta[\"tissue origin\"].value_counts()"
   ]
  },
  {
   "cell_type": "code",
   "execution_count": 17,
   "id": "f43bbcbc-a763-40c9-92dc-5e257d957cb1",
   "metadata": {},
   "outputs": [],
   "source": [
    "meta = meta[meta[\"tissue origin\"] == \"Brain\"]"
   ]
  },
  {
   "cell_type": "code",
   "execution_count": 18,
   "id": "4965c539-40f5-4383-96d0-6ea4b15b251a",
   "metadata": {},
   "outputs": [
    {
     "data": {
      "text/html": [
       "<div>\n",
       "<style scoped>\n",
       "    .dataframe tbody tr th:only-of-type {\n",
       "        vertical-align: middle;\n",
       "    }\n",
       "\n",
       "    .dataframe tbody tr th {\n",
       "        vertical-align: top;\n",
       "    }\n",
       "\n",
       "    .dataframe thead th {\n",
       "        text-align: right;\n",
       "    }\n",
       "</style>\n",
       "<table border=\"1\" class=\"dataframe\">\n",
       "  <thead>\n",
       "    <tr style=\"text-align: right;\">\n",
       "      <th>genotype</th>\n",
       "      <th>Cldn5(BAC)eGFP</th>\n",
       "      <th>Pdgfra-H2BGFP</th>\n",
       "      <th>Pdgfrb(BAC)eGFP/NG2dsRed</th>\n",
       "      <th>SM22-Cre;Rosa26-stop-tdTomato</th>\n",
       "    </tr>\n",
       "    <tr>\n",
       "      <th>Mouse ID</th>\n",
       "      <th></th>\n",
       "      <th></th>\n",
       "      <th></th>\n",
       "      <th></th>\n",
       "    </tr>\n",
       "  </thead>\n",
       "  <tbody>\n",
       "    <tr>\n",
       "      <th>Mouse_151128_Female</th>\n",
       "      <td>0</td>\n",
       "      <td>107</td>\n",
       "      <td>0</td>\n",
       "      <td>0</td>\n",
       "    </tr>\n",
       "    <tr>\n",
       "      <th>Mouse_160107_Female</th>\n",
       "      <td>0</td>\n",
       "      <td>0</td>\n",
       "      <td>746</td>\n",
       "      <td>0</td>\n",
       "    </tr>\n",
       "    <tr>\n",
       "      <th>Mouse_160114_Female</th>\n",
       "      <td>720</td>\n",
       "      <td>0</td>\n",
       "      <td>0</td>\n",
       "      <td>0</td>\n",
       "    </tr>\n",
       "    <tr>\n",
       "      <th>Mouse_160114_Male</th>\n",
       "      <td>725</td>\n",
       "      <td>0</td>\n",
       "      <td>0</td>\n",
       "      <td>0</td>\n",
       "    </tr>\n",
       "    <tr>\n",
       "      <th>Mouse_160205_Female</th>\n",
       "      <td>0</td>\n",
       "      <td>0</td>\n",
       "      <td>738</td>\n",
       "      <td>0</td>\n",
       "    </tr>\n",
       "    <tr>\n",
       "      <th>Mouse_160301_pooled</th>\n",
       "      <td>0</td>\n",
       "      <td>150</td>\n",
       "      <td>0</td>\n",
       "      <td>0</td>\n",
       "    </tr>\n",
       "    <tr>\n",
       "      <th>Mouse_160622_1_Male</th>\n",
       "      <td>0</td>\n",
       "      <td>0</td>\n",
       "      <td>0</td>\n",
       "      <td>162</td>\n",
       "    </tr>\n",
       "    <tr>\n",
       "      <th>Mouse_160622_2_Male</th>\n",
       "      <td>0</td>\n",
       "      <td>0</td>\n",
       "      <td>0</td>\n",
       "      <td>88</td>\n",
       "    </tr>\n",
       "  </tbody>\n",
       "</table>\n",
       "</div>"
      ],
      "text/plain": [
       "genotype             Cldn5(BAC)eGFP  Pdgfra-H2BGFP  Pdgfrb(BAC)eGFP/NG2dsRed  \\\n",
       "Mouse ID                                                                       \n",
       "Mouse_151128_Female               0            107                         0   \n",
       "Mouse_160107_Female               0              0                       746   \n",
       "Mouse_160114_Female             720              0                         0   \n",
       "Mouse_160114_Male               725              0                         0   \n",
       "Mouse_160205_Female               0              0                       738   \n",
       "Mouse_160301_pooled               0            150                         0   \n",
       "Mouse_160622_1_Male               0              0                         0   \n",
       "Mouse_160622_2_Male               0              0                         0   \n",
       "\n",
       "genotype             SM22-Cre;Rosa26-stop-tdTomato  \n",
       "Mouse ID                                            \n",
       "Mouse_151128_Female                              0  \n",
       "Mouse_160107_Female                              0  \n",
       "Mouse_160114_Female                              0  \n",
       "Mouse_160114_Male                                0  \n",
       "Mouse_160205_Female                              0  \n",
       "Mouse_160301_pooled                              0  \n",
       "Mouse_160622_1_Male                            162  \n",
       "Mouse_160622_2_Male                             88  "
      ]
     },
     "execution_count": 18,
     "metadata": {},
     "output_type": "execute_result"
    }
   ],
   "source": [
    "pd.crosstab(meta[\"Mouse ID\"], meta[\"genotype\"])"
   ]
  },
  {
   "cell_type": "code",
   "execution_count": 19,
   "id": "06978072-42b4-464f-be03-4ea210da96a9",
   "metadata": {},
   "outputs": [
    {
     "data": {
      "text/plain": [
       "Pdgfrb(BAC)eGFP/NG2dsRed         1484\n",
       "Cldn5(BAC)eGFP                   1445\n",
       "Pdgfra-H2BGFP                     257\n",
       "SM22-Cre;Rosa26-stop-tdTomato     250\n",
       "Name: genotype, dtype: int64"
      ]
     },
     "execution_count": 19,
     "metadata": {},
     "output_type": "execute_result"
    }
   ],
   "source": [
    "meta[\"genotype\"].value_counts()"
   ]
  },
  {
   "cell_type": "code",
   "execution_count": 20,
   "id": "36f6ed8b-4482-4b9f-9313-76aa9289b211",
   "metadata": {},
   "outputs": [
    {
     "data": {
      "text/plain": [
       "PC         1088\n",
       "capilEC     405\n",
       "aEC         397\n",
       "vEC         298\n",
       "AC          268\n",
       "EC1         228\n",
       "OL          155\n",
       "EC3         137\n",
       "aSMC        130\n",
       "vSMC        107\n",
       "EC2          63\n",
       "aaSMC        60\n",
       "FB2          49\n",
       "FB1          37\n",
       "MG           14\n",
       "Name: annoated cell types, dtype: int64"
      ]
     },
     "execution_count": 20,
     "metadata": {},
     "output_type": "execute_result"
    }
   ],
   "source": [
    "meta[\"annoated cell types\"].value_counts()"
   ]
  },
  {
   "cell_type": "code",
   "execution_count": null,
   "id": "5ffa409b-5823-40cf-9642-9b48fffcb399",
   "metadata": {},
   "outputs": [],
   "source": []
  },
  {
   "cell_type": "code",
   "execution_count": 21,
   "id": "8fc75a4b-c056-4399-bdf7-1db6218ed8f5",
   "metadata": {},
   "outputs": [],
   "source": [
    "meta2 = pd.read_csv(main_dir+\"\\\\P6_vasc_scRNAseq\\\\Vanlandewijck2018\\\\GSE98816_series_matrix.txt\", sep=\"\\t\", header=None).T"
   ]
  },
  {
   "cell_type": "code",
   "execution_count": 22,
   "id": "d4a66055-d2d2-4e1c-b1a5-4c0467107c17",
   "metadata": {},
   "outputs": [],
   "source": [
    "new_header = meta2.iloc[0]\n",
    "new_header = [s.lstrip('!') for s in new_header] # remove leading !\n",
    "meta2 = meta2[1:]\n",
    "meta2.columns = new_header\n",
    "meta2.Sample_description = [s.lstrip('processed data column: ') for s in meta2.Sample_description] # remove leading text"
   ]
  },
  {
   "cell_type": "code",
   "execution_count": 23,
   "id": "5dd8a4ed-4f70-4179-8cd2-3b315166a85a",
   "metadata": {},
   "outputs": [],
   "source": [
    "meta2=meta2.reset_index()\n",
    "meta2=meta2.iloc[:,1:]"
   ]
  },
  {
   "cell_type": "code",
   "execution_count": 24,
   "id": "0ad901d1-10aa-4049-946e-34debd2a47e0",
   "metadata": {},
   "outputs": [
    {
     "data": {
      "text/html": [
       "<div>\n",
       "<style scoped>\n",
       "    .dataframe tbody tr th:only-of-type {\n",
       "        vertical-align: middle;\n",
       "    }\n",
       "\n",
       "    .dataframe tbody tr th {\n",
       "        vertical-align: top;\n",
       "    }\n",
       "\n",
       "    .dataframe thead th {\n",
       "        text-align: right;\n",
       "    }\n",
       "</style>\n",
       "<table border=\"1\" class=\"dataframe\">\n",
       "  <thead>\n",
       "    <tr style=\"text-align: right;\">\n",
       "      <th></th>\n",
       "      <th>Sample_title</th>\n",
       "      <th>Sample_geo_accession</th>\n",
       "      <th>Sample_status</th>\n",
       "      <th>Sample_submission_date</th>\n",
       "      <th>Sample_last_update_date</th>\n",
       "      <th>Sample_type</th>\n",
       "      <th>Sample_channel_count</th>\n",
       "      <th>Sample_source_name_ch1</th>\n",
       "      <th>Sample_organism_ch1</th>\n",
       "      <th>Sample_characteristics_ch1</th>\n",
       "      <th>...</th>\n",
       "      <th>Sample_instrument_model</th>\n",
       "      <th>Sample_library_selection</th>\n",
       "      <th>Sample_library_source</th>\n",
       "      <th>Sample_library_strategy</th>\n",
       "      <th>Sample_relation</th>\n",
       "      <th>Sample_relation</th>\n",
       "      <th>Sample_supplementary_file_1</th>\n",
       "      <th>series_matrix_table_begin</th>\n",
       "      <th>ID_REF</th>\n",
       "      <th>series_matrix_table_end</th>\n",
       "    </tr>\n",
       "  </thead>\n",
       "  <tbody>\n",
       "    <tr>\n",
       "      <th>0</th>\n",
       "      <td>Brain single cell 1</td>\n",
       "      <td>GSM2612539</td>\n",
       "      <td>Public on Dec 06 2017</td>\n",
       "      <td>May 11 2017</td>\n",
       "      <td>May 15 2019</td>\n",
       "      <td>SRA</td>\n",
       "      <td>1</td>\n",
       "      <td>Brain</td>\n",
       "      <td>Mus musculus</td>\n",
       "      <td>strain: C57BL/6</td>\n",
       "      <td>...</td>\n",
       "      <td>Illumina HiSeq 2000</td>\n",
       "      <td>cDNA</td>\n",
       "      <td>transcriptomic</td>\n",
       "      <td>RNA-Seq</td>\n",
       "      <td>BioSample: https://www.ncbi.nlm.nih.gov/biosam...</td>\n",
       "      <td>SRA: https://www.ncbi.nlm.nih.gov/sra?term=SRX...</td>\n",
       "      <td>NONE</td>\n",
       "      <td>NaN</td>\n",
       "      <td>GSM2612539</td>\n",
       "      <td>NaN</td>\n",
       "    </tr>\n",
       "    <tr>\n",
       "      <th>1</th>\n",
       "      <td>Brain single cell 2</td>\n",
       "      <td>GSM2612540</td>\n",
       "      <td>Public on Dec 06 2017</td>\n",
       "      <td>May 11 2017</td>\n",
       "      <td>May 15 2019</td>\n",
       "      <td>SRA</td>\n",
       "      <td>1</td>\n",
       "      <td>Brain</td>\n",
       "      <td>Mus musculus</td>\n",
       "      <td>strain: C57BL/6</td>\n",
       "      <td>...</td>\n",
       "      <td>Illumina HiSeq 2000</td>\n",
       "      <td>cDNA</td>\n",
       "      <td>transcriptomic</td>\n",
       "      <td>RNA-Seq</td>\n",
       "      <td>BioSample: https://www.ncbi.nlm.nih.gov/biosam...</td>\n",
       "      <td>SRA: https://www.ncbi.nlm.nih.gov/sra?term=SRX...</td>\n",
       "      <td>NONE</td>\n",
       "      <td>NaN</td>\n",
       "      <td>GSM2612540</td>\n",
       "      <td>NaN</td>\n",
       "    </tr>\n",
       "    <tr>\n",
       "      <th>2</th>\n",
       "      <td>Brain single cell 3</td>\n",
       "      <td>GSM2612541</td>\n",
       "      <td>Public on Dec 06 2017</td>\n",
       "      <td>May 11 2017</td>\n",
       "      <td>May 15 2019</td>\n",
       "      <td>SRA</td>\n",
       "      <td>1</td>\n",
       "      <td>Brain</td>\n",
       "      <td>Mus musculus</td>\n",
       "      <td>strain: C57BL/6</td>\n",
       "      <td>...</td>\n",
       "      <td>Illumina HiSeq 2000</td>\n",
       "      <td>cDNA</td>\n",
       "      <td>transcriptomic</td>\n",
       "      <td>RNA-Seq</td>\n",
       "      <td>BioSample: https://www.ncbi.nlm.nih.gov/biosam...</td>\n",
       "      <td>SRA: https://www.ncbi.nlm.nih.gov/sra?term=SRX...</td>\n",
       "      <td>NONE</td>\n",
       "      <td>NaN</td>\n",
       "      <td>GSM2612541</td>\n",
       "      <td>NaN</td>\n",
       "    </tr>\n",
       "  </tbody>\n",
       "</table>\n",
       "<p>3 rows × 39 columns</p>\n",
       "</div>"
      ],
      "text/plain": [
       "          Sample_title Sample_geo_accession          Sample_status  \\\n",
       "0  Brain single cell 1           GSM2612539  Public on Dec 06 2017   \n",
       "1  Brain single cell 2           GSM2612540  Public on Dec 06 2017   \n",
       "2  Brain single cell 3           GSM2612541  Public on Dec 06 2017   \n",
       "\n",
       "  Sample_submission_date Sample_last_update_date Sample_type  \\\n",
       "0            May 11 2017             May 15 2019         SRA   \n",
       "1            May 11 2017             May 15 2019         SRA   \n",
       "2            May 11 2017             May 15 2019         SRA   \n",
       "\n",
       "  Sample_channel_count Sample_source_name_ch1 Sample_organism_ch1  \\\n",
       "0                    1                  Brain        Mus musculus   \n",
       "1                    1                  Brain        Mus musculus   \n",
       "2                    1                  Brain        Mus musculus   \n",
       "\n",
       "  Sample_characteristics_ch1  ... Sample_instrument_model  \\\n",
       "0            strain: C57BL/6  ...     Illumina HiSeq 2000   \n",
       "1            strain: C57BL/6  ...     Illumina HiSeq 2000   \n",
       "2            strain: C57BL/6  ...     Illumina HiSeq 2000   \n",
       "\n",
       "  Sample_library_selection Sample_library_source Sample_library_strategy  \\\n",
       "0                     cDNA        transcriptomic                 RNA-Seq   \n",
       "1                     cDNA        transcriptomic                 RNA-Seq   \n",
       "2                     cDNA        transcriptomic                 RNA-Seq   \n",
       "\n",
       "                                     Sample_relation  \\\n",
       "0  BioSample: https://www.ncbi.nlm.nih.gov/biosam...   \n",
       "1  BioSample: https://www.ncbi.nlm.nih.gov/biosam...   \n",
       "2  BioSample: https://www.ncbi.nlm.nih.gov/biosam...   \n",
       "\n",
       "                                     Sample_relation  \\\n",
       "0  SRA: https://www.ncbi.nlm.nih.gov/sra?term=SRX...   \n",
       "1  SRA: https://www.ncbi.nlm.nih.gov/sra?term=SRX...   \n",
       "2  SRA: https://www.ncbi.nlm.nih.gov/sra?term=SRX...   \n",
       "\n",
       "  Sample_supplementary_file_1 series_matrix_table_begin      ID_REF  \\\n",
       "0                        NONE                       NaN  GSM2612539   \n",
       "1                        NONE                       NaN  GSM2612540   \n",
       "2                        NONE                       NaN  GSM2612541   \n",
       "\n",
       "  series_matrix_table_end  \n",
       "0                     NaN  \n",
       "1                     NaN  \n",
       "2                     NaN  \n",
       "\n",
       "[3 rows x 39 columns]"
      ]
     },
     "execution_count": 24,
     "metadata": {},
     "output_type": "execute_result"
    }
   ],
   "source": [
    "meta2.head(3)"
   ]
  },
  {
   "cell_type": "code",
   "execution_count": 25,
   "id": "34ed4274-e011-462f-b8f4-56e7edf2eac2",
   "metadata": {},
   "outputs": [
    {
     "data": {
      "text/plain": [
       "Index(['Sample_title', 'Sample_geo_accession', 'Sample_status',\n",
       "       'Sample_submission_date', 'Sample_last_update_date', 'Sample_type',\n",
       "       'Sample_channel_count', 'Sample_source_name_ch1', 'Sample_organism_ch1',\n",
       "       'Sample_characteristics_ch1', 'Sample_characteristics_ch1',\n",
       "       'Sample_characteristics_ch1', 'Sample_characteristics_ch1',\n",
       "       'Sample_molecule_ch1', 'Sample_extract_protocol_ch1',\n",
       "       'Sample_extract_protocol_ch1', 'Sample_taxid_ch1', 'Sample_description',\n",
       "       'Sample_data_processing', 'Sample_data_processing',\n",
       "       'Sample_data_processing', 'Sample_platform_id', 'Sample_contact_name',\n",
       "       'Sample_contact_institute', 'Sample_contact_address',\n",
       "       'Sample_contact_city', 'Sample_contact_zip/postal_code',\n",
       "       'Sample_contact_country', 'Sample_data_row_count',\n",
       "       'Sample_instrument_model', 'Sample_library_selection',\n",
       "       'Sample_library_source', 'Sample_library_strategy', 'Sample_relation',\n",
       "       'Sample_relation', 'Sample_supplementary_file_1',\n",
       "       'series_matrix_table_begin', 'ID_REF', 'series_matrix_table_end'],\n",
       "      dtype='object')"
      ]
     },
     "execution_count": 25,
     "metadata": {},
     "output_type": "execute_result"
    }
   ],
   "source": [
    "meta2.columns"
   ]
  },
  {
   "cell_type": "code",
   "execution_count": 26,
   "id": "b38ca177-d891-46b7-815f-170b7fe66767",
   "metadata": {},
   "outputs": [
    {
     "data": {
      "text/plain": [
       "0           Brain.EC3_A10\n",
       "1           Brain.EC3_A11\n",
       "2           Brain.EC3_A12\n",
       "3           Brain.EC3_A13\n",
       "4           Brain.EC3_A14\n",
       "              ...        \n",
       "3181     Brain.Pdgfra2_P1\n",
       "3182    Brain.Pdgfra2_P23\n",
       "3183    Brain.Pdgfra2_P24\n",
       "3184     Brain.Pdgfra2_P4\n",
       "3185     Brain.Pdgfra2_P7\n",
       "Name: Sample_description, Length: 3186, dtype: object"
      ]
     },
     "execution_count": 26,
     "metadata": {},
     "output_type": "execute_result"
    }
   ],
   "source": [
    "meta2.Sample_description"
   ]
  },
  {
   "cell_type": "code",
   "execution_count": 27,
   "id": "2f77a4d0-b4f0-4a56-a0fa-bab3517cd783",
   "metadata": {},
   "outputs": [
    {
     "data": {
      "text/plain": [
       "True"
      ]
     },
     "execution_count": 27,
     "metadata": {},
     "output_type": "execute_result"
    }
   ],
   "source": [
    "all(meta2.Sample_geo_accession == meta2.ID_REF)"
   ]
  },
  {
   "cell_type": "code",
   "execution_count": 28,
   "id": "5f5444e2-7ca7-49f2-8f43-846aebb79506",
   "metadata": {},
   "outputs": [],
   "source": [
    "meta2[\"tissue origin\"] = meta2['Sample_description'].str.split('.').str[0]"
   ]
  },
  {
   "cell_type": "code",
   "execution_count": 29,
   "id": "1d643108-36e5-417c-86f2-29855cc8671c",
   "metadata": {},
   "outputs": [
    {
     "data": {
      "text/plain": [
       "Brain    3186\n",
       "Name: tissue origin, dtype: int64"
      ]
     },
     "execution_count": 29,
     "metadata": {},
     "output_type": "execute_result"
    }
   ],
   "source": [
    "meta2[\"tissue origin\"].value_counts()"
   ]
  },
  {
   "cell_type": "markdown",
   "id": "c9bba64b-c8bb-4ee9-b6b5-8b417d195586",
   "metadata": {},
   "source": [
    "Note: Matches count of vascular cells from metadata 1 and anndata object"
   ]
  },
  {
   "cell_type": "code",
   "execution_count": 30,
   "id": "60a605b7-3122-4ff3-a439-54fdb8405a5b",
   "metadata": {},
   "outputs": [
    {
     "data": {
      "text/plain": [
       "3186"
      ]
     },
     "execution_count": 30,
     "metadata": {},
     "output_type": "execute_result"
    }
   ],
   "source": [
    "len(meta2.Sample_geo_accession.unique())"
   ]
  },
  {
   "cell_type": "markdown",
   "id": "17696570-e1b0-4ee3-b2c8-89c779941a7f",
   "metadata": {},
   "source": [
    "All Sample_geo_accession are unique"
   ]
  },
  {
   "cell_type": "code",
   "execution_count": 31,
   "id": "44945872-af9d-4643-bbee-b036a051bb81",
   "metadata": {},
   "outputs": [
    {
     "data": {
      "text/plain": [
       "True"
      ]
     },
     "execution_count": 31,
     "metadata": {},
     "output_type": "execute_result"
    }
   ],
   "source": [
    "all(meta2.Sample_geo_accession.isin(meta[\"GSM ID\"]))"
   ]
  },
  {
   "cell_type": "markdown",
   "id": "a2943af5-642a-4515-a7a8-c10feffe4a67",
   "metadata": {},
   "source": [
    "All Sample_geo_accession are in GSM ID from metadata table 1. Now we can match meta2.Sample_description (anndata descriptors) to meta[\"annoated cell types\"]"
   ]
  },
  {
   "cell_type": "code",
   "execution_count": 32,
   "id": "69666128-bc94-4f74-8048-00cdb6d01b9e",
   "metadata": {},
   "outputs": [
    {
     "data": {
      "text/html": [
       "<div>\n",
       "<style scoped>\n",
       "    .dataframe tbody tr th:only-of-type {\n",
       "        vertical-align: middle;\n",
       "    }\n",
       "\n",
       "    .dataframe tbody tr th {\n",
       "        vertical-align: top;\n",
       "    }\n",
       "\n",
       "    .dataframe thead th {\n",
       "        text-align: right;\n",
       "    }\n",
       "</style>\n",
       "<table border=\"1\" class=\"dataframe\">\n",
       "  <thead>\n",
       "    <tr style=\"text-align: right;\">\n",
       "      <th></th>\n",
       "      <th>Sample_title</th>\n",
       "      <th>Sample_geo_accession</th>\n",
       "      <th>tissue origin</th>\n",
       "      <th>Sample_description</th>\n",
       "    </tr>\n",
       "  </thead>\n",
       "  <tbody>\n",
       "    <tr>\n",
       "      <th>0</th>\n",
       "      <td>Brain single cell 1</td>\n",
       "      <td>GSM2612539</td>\n",
       "      <td>Brain</td>\n",
       "      <td>Brain.EC3_A10</td>\n",
       "    </tr>\n",
       "    <tr>\n",
       "      <th>1</th>\n",
       "      <td>Brain single cell 2</td>\n",
       "      <td>GSM2612540</td>\n",
       "      <td>Brain</td>\n",
       "      <td>Brain.EC3_A11</td>\n",
       "    </tr>\n",
       "    <tr>\n",
       "      <th>2</th>\n",
       "      <td>Brain single cell 3</td>\n",
       "      <td>GSM2612541</td>\n",
       "      <td>Brain</td>\n",
       "      <td>Brain.EC3_A12</td>\n",
       "    </tr>\n",
       "    <tr>\n",
       "      <th>3</th>\n",
       "      <td>Brain single cell 4</td>\n",
       "      <td>GSM2612542</td>\n",
       "      <td>Brain</td>\n",
       "      <td>Brain.EC3_A13</td>\n",
       "    </tr>\n",
       "    <tr>\n",
       "      <th>4</th>\n",
       "      <td>Brain single cell 5</td>\n",
       "      <td>GSM2612543</td>\n",
       "      <td>Brain</td>\n",
       "      <td>Brain.EC3_A14</td>\n",
       "    </tr>\n",
       "  </tbody>\n",
       "</table>\n",
       "</div>"
      ],
      "text/plain": [
       "          Sample_title Sample_geo_accession tissue origin Sample_description\n",
       "0  Brain single cell 1           GSM2612539         Brain      Brain.EC3_A10\n",
       "1  Brain single cell 2           GSM2612540         Brain      Brain.EC3_A11\n",
       "2  Brain single cell 3           GSM2612541         Brain      Brain.EC3_A12\n",
       "3  Brain single cell 4           GSM2612542         Brain      Brain.EC3_A13\n",
       "4  Brain single cell 5           GSM2612543         Brain      Brain.EC3_A14"
      ]
     },
     "execution_count": 32,
     "metadata": {},
     "output_type": "execute_result"
    }
   ],
   "source": [
    "# use only selected cols from meta2\n",
    "meta2 = meta2[['Sample_title', 'Sample_geo_accession', 'tissue origin', 'Sample_description']]\n",
    "meta2.head()"
   ]
  },
  {
   "cell_type": "code",
   "execution_count": 33,
   "id": "b4f0d5c3-9c04-492f-97d9-3718756d5397",
   "metadata": {},
   "outputs": [
    {
     "data": {
      "text/html": [
       "<div>\n",
       "<style scoped>\n",
       "    .dataframe tbody tr th:only-of-type {\n",
       "        vertical-align: middle;\n",
       "    }\n",
       "\n",
       "    .dataframe tbody tr th {\n",
       "        vertical-align: top;\n",
       "    }\n",
       "\n",
       "    .dataframe thead th {\n",
       "        text-align: right;\n",
       "    }\n",
       "</style>\n",
       "<table border=\"1\" class=\"dataframe\">\n",
       "  <thead>\n",
       "    <tr style=\"text-align: right;\">\n",
       "      <th></th>\n",
       "      <th>GSM ID</th>\n",
       "      <th>GSM name</th>\n",
       "      <th>organism</th>\n",
       "      <th>Mouse ID</th>\n",
       "      <th>strain</th>\n",
       "      <th>genotype</th>\n",
       "      <th>age</th>\n",
       "      <th>tissue origin</th>\n",
       "      <th>annoated cell types</th>\n",
       "      <th>BioSample ID</th>\n",
       "      <th>SRA ID</th>\n",
       "      <th>Sequenced Reads</th>\n",
       "    </tr>\n",
       "  </thead>\n",
       "  <tbody>\n",
       "    <tr>\n",
       "      <th>0</th>\n",
       "      <td>GSM2612539</td>\n",
       "      <td>Brain single cell 1</td>\n",
       "      <td>Mus musculus</td>\n",
       "      <td>Mouse_160114_Female</td>\n",
       "      <td>C57BL/6</td>\n",
       "      <td>Cldn5(BAC)eGFP</td>\n",
       "      <td>adult</td>\n",
       "      <td>Brain</td>\n",
       "      <td>aEC</td>\n",
       "      <td>SAMN06929667</td>\n",
       "      <td>SRX2798643</td>\n",
       "      <td>693266</td>\n",
       "    </tr>\n",
       "    <tr>\n",
       "      <th>1</th>\n",
       "      <td>GSM2612540</td>\n",
       "      <td>Brain single cell 2</td>\n",
       "      <td>Mus musculus</td>\n",
       "      <td>Mouse_160114_Female</td>\n",
       "      <td>C57BL/6</td>\n",
       "      <td>Cldn5(BAC)eGFP</td>\n",
       "      <td>adult</td>\n",
       "      <td>Brain</td>\n",
       "      <td>capilEC</td>\n",
       "      <td>SAMN06929666</td>\n",
       "      <td>SRX2798644</td>\n",
       "      <td>812809</td>\n",
       "    </tr>\n",
       "    <tr>\n",
       "      <th>2</th>\n",
       "      <td>GSM2612541</td>\n",
       "      <td>Brain single cell 3</td>\n",
       "      <td>Mus musculus</td>\n",
       "      <td>Mouse_160114_Female</td>\n",
       "      <td>C57BL/6</td>\n",
       "      <td>Cldn5(BAC)eGFP</td>\n",
       "      <td>adult</td>\n",
       "      <td>Brain</td>\n",
       "      <td>aEC</td>\n",
       "      <td>SAMN06929665</td>\n",
       "      <td>SRX2798645</td>\n",
       "      <td>736773</td>\n",
       "    </tr>\n",
       "    <tr>\n",
       "      <th>3</th>\n",
       "      <td>GSM2612542</td>\n",
       "      <td>Brain single cell 4</td>\n",
       "      <td>Mus musculus</td>\n",
       "      <td>Mouse_160114_Female</td>\n",
       "      <td>C57BL/6</td>\n",
       "      <td>Cldn5(BAC)eGFP</td>\n",
       "      <td>adult</td>\n",
       "      <td>Brain</td>\n",
       "      <td>EC3</td>\n",
       "      <td>SAMN06929664</td>\n",
       "      <td>SRX2798646</td>\n",
       "      <td>655327</td>\n",
       "    </tr>\n",
       "    <tr>\n",
       "      <th>4</th>\n",
       "      <td>GSM2612543</td>\n",
       "      <td>Brain single cell 5</td>\n",
       "      <td>Mus musculus</td>\n",
       "      <td>Mouse_160114_Female</td>\n",
       "      <td>C57BL/6</td>\n",
       "      <td>Cldn5(BAC)eGFP</td>\n",
       "      <td>adult</td>\n",
       "      <td>Brain</td>\n",
       "      <td>aEC</td>\n",
       "      <td>SAMN06929663</td>\n",
       "      <td>SRX2798647</td>\n",
       "      <td>629114</td>\n",
       "    </tr>\n",
       "  </tbody>\n",
       "</table>\n",
       "</div>"
      ],
      "text/plain": [
       "       GSM ID             GSM name      organism             Mouse ID  \\\n",
       "0  GSM2612539  Brain single cell 1  Mus musculus  Mouse_160114_Female   \n",
       "1  GSM2612540  Brain single cell 2  Mus musculus  Mouse_160114_Female   \n",
       "2  GSM2612541  Brain single cell 3  Mus musculus  Mouse_160114_Female   \n",
       "3  GSM2612542  Brain single cell 4  Mus musculus  Mouse_160114_Female   \n",
       "4  GSM2612543  Brain single cell 5  Mus musculus  Mouse_160114_Female   \n",
       "\n",
       "    strain        genotype    age tissue origin annoated cell types  \\\n",
       "0  C57BL/6  Cldn5(BAC)eGFP  adult         Brain                 aEC   \n",
       "1  C57BL/6  Cldn5(BAC)eGFP  adult         Brain             capilEC   \n",
       "2  C57BL/6  Cldn5(BAC)eGFP  adult         Brain                 aEC   \n",
       "3  C57BL/6  Cldn5(BAC)eGFP  adult         Brain                 EC3   \n",
       "4  C57BL/6  Cldn5(BAC)eGFP  adult         Brain                 aEC   \n",
       "\n",
       "   BioSample ID      SRA ID  Sequenced Reads  \n",
       "0  SAMN06929667  SRX2798643           693266  \n",
       "1  SAMN06929666  SRX2798644           812809  \n",
       "2  SAMN06929665  SRX2798645           736773  \n",
       "3  SAMN06929664  SRX2798646           655327  \n",
       "4  SAMN06929663  SRX2798647           629114  "
      ]
     },
     "execution_count": 33,
     "metadata": {},
     "output_type": "execute_result"
    }
   ],
   "source": [
    "# use only selected cols from meta2\n",
    "meta = meta[['GSM ID','GSM name','organism','Mouse ID','strain','genotype','age','tissue origin','annoated cell types','BioSample ID','SRA ID','Sequenced Reads']]\n",
    "meta.head()"
   ]
  },
  {
   "cell_type": "code",
   "execution_count": 34,
   "id": "e477da76-fa30-4d12-8cef-a889f57bcb60",
   "metadata": {},
   "outputs": [
    {
     "data": {
      "text/plain": [
       "(3436, 12)"
      ]
     },
     "execution_count": 34,
     "metadata": {},
     "output_type": "execute_result"
    }
   ],
   "source": [
    "meta.shape # contains vascular cells + 250 astrocytes"
   ]
  },
  {
   "cell_type": "code",
   "execution_count": 35,
   "id": "c9fd4bb5-5a26-423b-9351-d39c39fc5cd9",
   "metadata": {},
   "outputs": [
    {
     "data": {
      "text/plain": [
       "(3186, 4)"
      ]
     },
     "execution_count": 35,
     "metadata": {},
     "output_type": "execute_result"
    }
   ],
   "source": [
    "meta2.shape # contains vascular cells only"
   ]
  },
  {
   "cell_type": "code",
   "execution_count": 36,
   "id": "a993c581-ddb6-48da-a7b2-6efa01dbf2a8",
   "metadata": {},
   "outputs": [
    {
     "data": {
      "text/html": [
       "<div>\n",
       "<style scoped>\n",
       "    .dataframe tbody tr th:only-of-type {\n",
       "        vertical-align: middle;\n",
       "    }\n",
       "\n",
       "    .dataframe tbody tr th {\n",
       "        vertical-align: top;\n",
       "    }\n",
       "\n",
       "    .dataframe thead th {\n",
       "        text-align: right;\n",
       "    }\n",
       "</style>\n",
       "<table border=\"1\" class=\"dataframe\">\n",
       "  <thead>\n",
       "    <tr style=\"text-align: right;\">\n",
       "      <th></th>\n",
       "      <th>GSM ID</th>\n",
       "      <th>GSM name</th>\n",
       "      <th>organism</th>\n",
       "      <th>Mouse ID</th>\n",
       "      <th>strain</th>\n",
       "      <th>genotype</th>\n",
       "      <th>age</th>\n",
       "      <th>tissue origin_x</th>\n",
       "      <th>annoated cell types</th>\n",
       "      <th>BioSample ID</th>\n",
       "      <th>SRA ID</th>\n",
       "      <th>Sequenced Reads</th>\n",
       "      <th>Sample_title</th>\n",
       "      <th>Sample_geo_accession</th>\n",
       "      <th>tissue origin_y</th>\n",
       "      <th>Sample_description</th>\n",
       "    </tr>\n",
       "  </thead>\n",
       "  <tbody>\n",
       "    <tr>\n",
       "      <th>0</th>\n",
       "      <td>GSM2612539</td>\n",
       "      <td>Brain single cell 1</td>\n",
       "      <td>Mus musculus</td>\n",
       "      <td>Mouse_160114_Female</td>\n",
       "      <td>C57BL/6</td>\n",
       "      <td>Cldn5(BAC)eGFP</td>\n",
       "      <td>adult</td>\n",
       "      <td>Brain</td>\n",
       "      <td>aEC</td>\n",
       "      <td>SAMN06929667</td>\n",
       "      <td>SRX2798643</td>\n",
       "      <td>693266</td>\n",
       "      <td>Brain single cell 1</td>\n",
       "      <td>GSM2612539</td>\n",
       "      <td>Brain</td>\n",
       "      <td>Brain.EC3_A10</td>\n",
       "    </tr>\n",
       "    <tr>\n",
       "      <th>1</th>\n",
       "      <td>GSM2612540</td>\n",
       "      <td>Brain single cell 2</td>\n",
       "      <td>Mus musculus</td>\n",
       "      <td>Mouse_160114_Female</td>\n",
       "      <td>C57BL/6</td>\n",
       "      <td>Cldn5(BAC)eGFP</td>\n",
       "      <td>adult</td>\n",
       "      <td>Brain</td>\n",
       "      <td>capilEC</td>\n",
       "      <td>SAMN06929666</td>\n",
       "      <td>SRX2798644</td>\n",
       "      <td>812809</td>\n",
       "      <td>Brain single cell 2</td>\n",
       "      <td>GSM2612540</td>\n",
       "      <td>Brain</td>\n",
       "      <td>Brain.EC3_A11</td>\n",
       "    </tr>\n",
       "    <tr>\n",
       "      <th>2</th>\n",
       "      <td>GSM2612541</td>\n",
       "      <td>Brain single cell 3</td>\n",
       "      <td>Mus musculus</td>\n",
       "      <td>Mouse_160114_Female</td>\n",
       "      <td>C57BL/6</td>\n",
       "      <td>Cldn5(BAC)eGFP</td>\n",
       "      <td>adult</td>\n",
       "      <td>Brain</td>\n",
       "      <td>aEC</td>\n",
       "      <td>SAMN06929665</td>\n",
       "      <td>SRX2798645</td>\n",
       "      <td>736773</td>\n",
       "      <td>Brain single cell 3</td>\n",
       "      <td>GSM2612541</td>\n",
       "      <td>Brain</td>\n",
       "      <td>Brain.EC3_A12</td>\n",
       "    </tr>\n",
       "    <tr>\n",
       "      <th>3</th>\n",
       "      <td>GSM2612542</td>\n",
       "      <td>Brain single cell 4</td>\n",
       "      <td>Mus musculus</td>\n",
       "      <td>Mouse_160114_Female</td>\n",
       "      <td>C57BL/6</td>\n",
       "      <td>Cldn5(BAC)eGFP</td>\n",
       "      <td>adult</td>\n",
       "      <td>Brain</td>\n",
       "      <td>EC3</td>\n",
       "      <td>SAMN06929664</td>\n",
       "      <td>SRX2798646</td>\n",
       "      <td>655327</td>\n",
       "      <td>Brain single cell 4</td>\n",
       "      <td>GSM2612542</td>\n",
       "      <td>Brain</td>\n",
       "      <td>Brain.EC3_A13</td>\n",
       "    </tr>\n",
       "    <tr>\n",
       "      <th>4</th>\n",
       "      <td>GSM2612543</td>\n",
       "      <td>Brain single cell 5</td>\n",
       "      <td>Mus musculus</td>\n",
       "      <td>Mouse_160114_Female</td>\n",
       "      <td>C57BL/6</td>\n",
       "      <td>Cldn5(BAC)eGFP</td>\n",
       "      <td>adult</td>\n",
       "      <td>Brain</td>\n",
       "      <td>aEC</td>\n",
       "      <td>SAMN06929663</td>\n",
       "      <td>SRX2798647</td>\n",
       "      <td>629114</td>\n",
       "      <td>Brain single cell 5</td>\n",
       "      <td>GSM2612543</td>\n",
       "      <td>Brain</td>\n",
       "      <td>Brain.EC3_A14</td>\n",
       "    </tr>\n",
       "  </tbody>\n",
       "</table>\n",
       "</div>"
      ],
      "text/plain": [
       "       GSM ID             GSM name      organism             Mouse ID  \\\n",
       "0  GSM2612539  Brain single cell 1  Mus musculus  Mouse_160114_Female   \n",
       "1  GSM2612540  Brain single cell 2  Mus musculus  Mouse_160114_Female   \n",
       "2  GSM2612541  Brain single cell 3  Mus musculus  Mouse_160114_Female   \n",
       "3  GSM2612542  Brain single cell 4  Mus musculus  Mouse_160114_Female   \n",
       "4  GSM2612543  Brain single cell 5  Mus musculus  Mouse_160114_Female   \n",
       "\n",
       "    strain        genotype    age tissue origin_x annoated cell types  \\\n",
       "0  C57BL/6  Cldn5(BAC)eGFP  adult           Brain                 aEC   \n",
       "1  C57BL/6  Cldn5(BAC)eGFP  adult           Brain             capilEC   \n",
       "2  C57BL/6  Cldn5(BAC)eGFP  adult           Brain                 aEC   \n",
       "3  C57BL/6  Cldn5(BAC)eGFP  adult           Brain                 EC3   \n",
       "4  C57BL/6  Cldn5(BAC)eGFP  adult           Brain                 aEC   \n",
       "\n",
       "   BioSample ID      SRA ID  Sequenced Reads         Sample_title  \\\n",
       "0  SAMN06929667  SRX2798643           693266  Brain single cell 1   \n",
       "1  SAMN06929666  SRX2798644           812809  Brain single cell 2   \n",
       "2  SAMN06929665  SRX2798645           736773  Brain single cell 3   \n",
       "3  SAMN06929664  SRX2798646           655327  Brain single cell 4   \n",
       "4  SAMN06929663  SRX2798647           629114  Brain single cell 5   \n",
       "\n",
       "  Sample_geo_accession tissue origin_y Sample_description  \n",
       "0           GSM2612539           Brain      Brain.EC3_A10  \n",
       "1           GSM2612540           Brain      Brain.EC3_A11  \n",
       "2           GSM2612541           Brain      Brain.EC3_A12  \n",
       "3           GSM2612542           Brain      Brain.EC3_A13  \n",
       "4           GSM2612543           Brain      Brain.EC3_A14  "
      ]
     },
     "execution_count": 36,
     "metadata": {},
     "output_type": "execute_result"
    }
   ],
   "source": [
    "meta_merged = meta.merge(meta2, how='inner', left_on=\"GSM ID\", right_on=\"Sample_geo_accession\")\n",
    "meta_merged.head()"
   ]
  },
  {
   "cell_type": "code",
   "execution_count": null,
   "id": "db9bdedc-5320-45b7-ad61-b93e6f2634c8",
   "metadata": {},
   "outputs": [],
   "source": []
  },
  {
   "cell_type": "code",
   "execution_count": null,
   "id": "11798499-fe36-4f68-b24f-ba577b4143a3",
   "metadata": {},
   "outputs": [],
   "source": []
  },
  {
   "cell_type": "code",
   "execution_count": null,
   "id": "6ed224e6-0559-4d9e-88fa-e7195e15ebfa",
   "metadata": {},
   "outputs": [],
   "source": []
  },
  {
   "cell_type": "code",
   "execution_count": 37,
   "id": "cb157868-6927-4d27-b399-f61e531cbcf2",
   "metadata": {},
   "outputs": [],
   "source": [
    "# format ad.obs"
   ]
  },
  {
   "cell_type": "code",
   "execution_count": 38,
   "id": "bc44a1a4-080e-458b-b0f5-decb254f79ce",
   "metadata": {},
   "outputs": [
    {
     "data": {
      "text/html": [
       "<div>\n",
       "<style scoped>\n",
       "    .dataframe tbody tr th:only-of-type {\n",
       "        vertical-align: middle;\n",
       "    }\n",
       "\n",
       "    .dataframe tbody tr th {\n",
       "        vertical-align: top;\n",
       "    }\n",
       "\n",
       "    .dataframe thead th {\n",
       "        text-align: right;\n",
       "    }\n",
       "</style>\n",
       "<table border=\"1\" class=\"dataframe\">\n",
       "  <thead>\n",
       "    <tr style=\"text-align: right;\">\n",
       "      <th></th>\n",
       "    </tr>\n",
       "  </thead>\n",
       "  <tbody>\n",
       "    <tr>\n",
       "      <th>Brain.Mural3_A13</th>\n",
       "    </tr>\n",
       "    <tr>\n",
       "      <th>Brain.Mural3_A14</th>\n",
       "    </tr>\n",
       "    <tr>\n",
       "      <th>Brain.Mural3_A6</th>\n",
       "    </tr>\n",
       "    <tr>\n",
       "      <th>Brain.Mural3_A2</th>\n",
       "    </tr>\n",
       "    <tr>\n",
       "      <th>Brain.Mural3_A9</th>\n",
       "    </tr>\n",
       "  </tbody>\n",
       "</table>\n",
       "</div>"
      ],
      "text/plain": [
       "Empty DataFrame\n",
       "Columns: []\n",
       "Index: [Brain.Mural3_A13, Brain.Mural3_A14, Brain.Mural3_A6, Brain.Mural3_A2, Brain.Mural3_A9]"
      ]
     },
     "execution_count": 38,
     "metadata": {},
     "output_type": "execute_result"
    }
   ],
   "source": [
    "ad.obs.head()"
   ]
  },
  {
   "cell_type": "markdown",
   "id": "f32450f2-05e9-4724-9cde-f287de4279a7",
   "metadata": {},
   "source": [
    "This is the format of metadata in the anndata object. Corresponds to meta_merged.Sample_description"
   ]
  },
  {
   "cell_type": "code",
   "execution_count": 39,
   "id": "cce73bd1-350d-45e1-a1fc-34768f75bae7",
   "metadata": {},
   "outputs": [
    {
     "data": {
      "text/plain": [
       "(3186, 19937)"
      ]
     },
     "execution_count": 39,
     "metadata": {},
     "output_type": "execute_result"
    }
   ],
   "source": [
    "ad.shape"
   ]
  },
  {
   "cell_type": "code",
   "execution_count": 40,
   "id": "aca46560-2761-451e-bc07-7441f3a1fc73",
   "metadata": {},
   "outputs": [
    {
     "data": {
      "text/html": [
       "<div>\n",
       "<style scoped>\n",
       "    .dataframe tbody tr th:only-of-type {\n",
       "        vertical-align: middle;\n",
       "    }\n",
       "\n",
       "    .dataframe tbody tr th {\n",
       "        vertical-align: top;\n",
       "    }\n",
       "\n",
       "    .dataframe thead th {\n",
       "        text-align: right;\n",
       "    }\n",
       "</style>\n",
       "<table border=\"1\" class=\"dataframe\">\n",
       "  <thead>\n",
       "    <tr style=\"text-align: right;\">\n",
       "      <th></th>\n",
       "      <th>0</th>\n",
       "      <th>1</th>\n",
       "    </tr>\n",
       "  </thead>\n",
       "  <tbody>\n",
       "    <tr>\n",
       "      <th>0</th>\n",
       "      <td>Brain</td>\n",
       "      <td>Mural3_A13</td>\n",
       "    </tr>\n",
       "    <tr>\n",
       "      <th>1</th>\n",
       "      <td>Brain</td>\n",
       "      <td>Mural3_A14</td>\n",
       "    </tr>\n",
       "    <tr>\n",
       "      <th>2</th>\n",
       "      <td>Brain</td>\n",
       "      <td>Mural3_A6</td>\n",
       "    </tr>\n",
       "    <tr>\n",
       "      <th>3</th>\n",
       "      <td>Brain</td>\n",
       "      <td>Mural3_A2</td>\n",
       "    </tr>\n",
       "    <tr>\n",
       "      <th>4</th>\n",
       "      <td>Brain</td>\n",
       "      <td>Mural3_A9</td>\n",
       "    </tr>\n",
       "    <tr>\n",
       "      <th>...</th>\n",
       "      <td>...</td>\n",
       "      <td>...</td>\n",
       "    </tr>\n",
       "    <tr>\n",
       "      <th>3181</th>\n",
       "      <td>Brain</td>\n",
       "      <td>Pdgfra2_P15</td>\n",
       "    </tr>\n",
       "    <tr>\n",
       "      <th>3182</th>\n",
       "      <td>Brain</td>\n",
       "      <td>Pdgfra2_P17</td>\n",
       "    </tr>\n",
       "    <tr>\n",
       "      <th>3183</th>\n",
       "      <td>Brain</td>\n",
       "      <td>Pdgfra2_P19</td>\n",
       "    </tr>\n",
       "    <tr>\n",
       "      <th>3184</th>\n",
       "      <td>Brain</td>\n",
       "      <td>Pdgfra2_P23</td>\n",
       "    </tr>\n",
       "    <tr>\n",
       "      <th>3185</th>\n",
       "      <td>Brain</td>\n",
       "      <td>Pdgfra2_P24</td>\n",
       "    </tr>\n",
       "  </tbody>\n",
       "</table>\n",
       "<p>3186 rows × 2 columns</p>\n",
       "</div>"
      ],
      "text/plain": [
       "          0            1\n",
       "0     Brain   Mural3_A13\n",
       "1     Brain   Mural3_A14\n",
       "2     Brain    Mural3_A6\n",
       "3     Brain    Mural3_A2\n",
       "4     Brain    Mural3_A9\n",
       "...     ...          ...\n",
       "3181  Brain  Pdgfra2_P15\n",
       "3182  Brain  Pdgfra2_P17\n",
       "3183  Brain  Pdgfra2_P19\n",
       "3184  Brain  Pdgfra2_P23\n",
       "3185  Brain  Pdgfra2_P24\n",
       "\n",
       "[3186 rows x 2 columns]"
      ]
     },
     "execution_count": 40,
     "metadata": {},
     "output_type": "execute_result"
    }
   ],
   "source": [
    "temp = ad.obs.reset_index(level=0)[\"index\"].str.split(pat=\".\",expand=True)\n",
    "temp"
   ]
  },
  {
   "cell_type": "code",
   "execution_count": 41,
   "id": "12ee92ba-2549-4225-b98c-79fcdc8c9d1f",
   "metadata": {},
   "outputs": [],
   "source": [
    "temp[\"name\"] = temp[0] + \".\" + temp[1]"
   ]
  },
  {
   "cell_type": "code",
   "execution_count": 42,
   "id": "47456af1-d4ae-4ea3-98e5-23d02f3af534",
   "metadata": {},
   "outputs": [
    {
     "data": {
      "text/plain": [
       "Brain    3186\n",
       "Name: 0, dtype: int64"
      ]
     },
     "execution_count": 42,
     "metadata": {},
     "output_type": "execute_result"
    }
   ],
   "source": [
    "temp[0].value_counts()"
   ]
  },
  {
   "cell_type": "code",
   "execution_count": 43,
   "id": "181a56da-849d-481e-9f9b-1f98036d6208",
   "metadata": {},
   "outputs": [],
   "source": [
    "temp[\"tissue\"] = temp[0]\n",
    "temp[\"cell_id\"] = temp[1]"
   ]
  },
  {
   "cell_type": "code",
   "execution_count": 44,
   "id": "e358e8b6-e7bd-405d-85ca-fb1549d61842",
   "metadata": {},
   "outputs": [
    {
     "data": {
      "text/html": [
       "<div>\n",
       "<style scoped>\n",
       "    .dataframe tbody tr th:only-of-type {\n",
       "        vertical-align: middle;\n",
       "    }\n",
       "\n",
       "    .dataframe tbody tr th {\n",
       "        vertical-align: top;\n",
       "    }\n",
       "\n",
       "    .dataframe thead th {\n",
       "        text-align: right;\n",
       "    }\n",
       "</style>\n",
       "<table border=\"1\" class=\"dataframe\">\n",
       "  <thead>\n",
       "    <tr style=\"text-align: right;\">\n",
       "      <th></th>\n",
       "      <th>0</th>\n",
       "      <th>1</th>\n",
       "      <th>name</th>\n",
       "      <th>tissue</th>\n",
       "      <th>cell_id</th>\n",
       "    </tr>\n",
       "  </thead>\n",
       "  <tbody>\n",
       "    <tr>\n",
       "      <th>0</th>\n",
       "      <td>Brain</td>\n",
       "      <td>Mural3_A13</td>\n",
       "      <td>Brain.Mural3_A13</td>\n",
       "      <td>Brain</td>\n",
       "      <td>Mural3_A13</td>\n",
       "    </tr>\n",
       "    <tr>\n",
       "      <th>1</th>\n",
       "      <td>Brain</td>\n",
       "      <td>Mural3_A14</td>\n",
       "      <td>Brain.Mural3_A14</td>\n",
       "      <td>Brain</td>\n",
       "      <td>Mural3_A14</td>\n",
       "    </tr>\n",
       "    <tr>\n",
       "      <th>2</th>\n",
       "      <td>Brain</td>\n",
       "      <td>Mural3_A6</td>\n",
       "      <td>Brain.Mural3_A6</td>\n",
       "      <td>Brain</td>\n",
       "      <td>Mural3_A6</td>\n",
       "    </tr>\n",
       "    <tr>\n",
       "      <th>3</th>\n",
       "      <td>Brain</td>\n",
       "      <td>Mural3_A2</td>\n",
       "      <td>Brain.Mural3_A2</td>\n",
       "      <td>Brain</td>\n",
       "      <td>Mural3_A2</td>\n",
       "    </tr>\n",
       "    <tr>\n",
       "      <th>4</th>\n",
       "      <td>Brain</td>\n",
       "      <td>Mural3_A9</td>\n",
       "      <td>Brain.Mural3_A9</td>\n",
       "      <td>Brain</td>\n",
       "      <td>Mural3_A9</td>\n",
       "    </tr>\n",
       "    <tr>\n",
       "      <th>...</th>\n",
       "      <td>...</td>\n",
       "      <td>...</td>\n",
       "      <td>...</td>\n",
       "      <td>...</td>\n",
       "      <td>...</td>\n",
       "    </tr>\n",
       "    <tr>\n",
       "      <th>3181</th>\n",
       "      <td>Brain</td>\n",
       "      <td>Pdgfra2_P15</td>\n",
       "      <td>Brain.Pdgfra2_P15</td>\n",
       "      <td>Brain</td>\n",
       "      <td>Pdgfra2_P15</td>\n",
       "    </tr>\n",
       "    <tr>\n",
       "      <th>3182</th>\n",
       "      <td>Brain</td>\n",
       "      <td>Pdgfra2_P17</td>\n",
       "      <td>Brain.Pdgfra2_P17</td>\n",
       "      <td>Brain</td>\n",
       "      <td>Pdgfra2_P17</td>\n",
       "    </tr>\n",
       "    <tr>\n",
       "      <th>3183</th>\n",
       "      <td>Brain</td>\n",
       "      <td>Pdgfra2_P19</td>\n",
       "      <td>Brain.Pdgfra2_P19</td>\n",
       "      <td>Brain</td>\n",
       "      <td>Pdgfra2_P19</td>\n",
       "    </tr>\n",
       "    <tr>\n",
       "      <th>3184</th>\n",
       "      <td>Brain</td>\n",
       "      <td>Pdgfra2_P23</td>\n",
       "      <td>Brain.Pdgfra2_P23</td>\n",
       "      <td>Brain</td>\n",
       "      <td>Pdgfra2_P23</td>\n",
       "    </tr>\n",
       "    <tr>\n",
       "      <th>3185</th>\n",
       "      <td>Brain</td>\n",
       "      <td>Pdgfra2_P24</td>\n",
       "      <td>Brain.Pdgfra2_P24</td>\n",
       "      <td>Brain</td>\n",
       "      <td>Pdgfra2_P24</td>\n",
       "    </tr>\n",
       "  </tbody>\n",
       "</table>\n",
       "<p>3186 rows × 5 columns</p>\n",
       "</div>"
      ],
      "text/plain": [
       "          0            1               name tissue      cell_id\n",
       "0     Brain   Mural3_A13   Brain.Mural3_A13  Brain   Mural3_A13\n",
       "1     Brain   Mural3_A14   Brain.Mural3_A14  Brain   Mural3_A14\n",
       "2     Brain    Mural3_A6    Brain.Mural3_A6  Brain    Mural3_A6\n",
       "3     Brain    Mural3_A2    Brain.Mural3_A2  Brain    Mural3_A2\n",
       "4     Brain    Mural3_A9    Brain.Mural3_A9  Brain    Mural3_A9\n",
       "...     ...          ...                ...    ...          ...\n",
       "3181  Brain  Pdgfra2_P15  Brain.Pdgfra2_P15  Brain  Pdgfra2_P15\n",
       "3182  Brain  Pdgfra2_P17  Brain.Pdgfra2_P17  Brain  Pdgfra2_P17\n",
       "3183  Brain  Pdgfra2_P19  Brain.Pdgfra2_P19  Brain  Pdgfra2_P19\n",
       "3184  Brain  Pdgfra2_P23  Brain.Pdgfra2_P23  Brain  Pdgfra2_P23\n",
       "3185  Brain  Pdgfra2_P24  Brain.Pdgfra2_P24  Brain  Pdgfra2_P24\n",
       "\n",
       "[3186 rows x 5 columns]"
      ]
     },
     "execution_count": 44,
     "metadata": {},
     "output_type": "execute_result"
    }
   ],
   "source": [
    "temp"
   ]
  },
  {
   "cell_type": "code",
   "execution_count": 45,
   "id": "dfcb47a2-36d4-453a-9e78-70c2e011c29c",
   "metadata": {},
   "outputs": [],
   "source": [
    "temp[\"cell_type_fine\"] = temp.cell_id.str.split(pat=\"_\",expand=True)[0]"
   ]
  },
  {
   "cell_type": "code",
   "execution_count": 46,
   "id": "7ecf3337-d47c-4cf6-a7f5-3949721ea4fd",
   "metadata": {},
   "outputs": [
    {
     "data": {
      "text/plain": [
       "Mural6     377\n",
       "Mural3     369\n",
       "Mural4     369\n",
       "Mural5     369\n",
       "EC6        364\n",
       "EC3        361\n",
       "EC5        361\n",
       "EC4        359\n",
       "Pdgfra2    150\n",
       "Pdgfra1    107\n",
       "Name: cell_type_fine, dtype: int64"
      ]
     },
     "execution_count": 46,
     "metadata": {},
     "output_type": "execute_result"
    }
   ],
   "source": [
    "temp.cell_type_fine.value_counts()"
   ]
  },
  {
   "cell_type": "code",
   "execution_count": 47,
   "id": "19e49bb6-49e6-4104-a476-8397024c2b03",
   "metadata": {},
   "outputs": [],
   "source": [
    "#temp[temp[\"cell_type_fine\"] == \"EC3\"].cell_id.unique()"
   ]
  },
  {
   "cell_type": "code",
   "execution_count": 48,
   "id": "b78ee089-03fa-4c53-8b8b-a84440d5c349",
   "metadata": {},
   "outputs": [
    {
     "data": {
      "text/html": [
       "<div>\n",
       "<style scoped>\n",
       "    .dataframe tbody tr th:only-of-type {\n",
       "        vertical-align: middle;\n",
       "    }\n",
       "\n",
       "    .dataframe tbody tr th {\n",
       "        vertical-align: top;\n",
       "    }\n",
       "\n",
       "    .dataframe thead th {\n",
       "        text-align: right;\n",
       "    }\n",
       "</style>\n",
       "<table border=\"1\" class=\"dataframe\">\n",
       "  <thead>\n",
       "    <tr style=\"text-align: right;\">\n",
       "      <th>cell_id</th>\n",
       "      <th>EC3_A1</th>\n",
       "      <th>EC3_A10</th>\n",
       "      <th>EC3_A11</th>\n",
       "      <th>EC3_A12</th>\n",
       "      <th>EC3_A13</th>\n",
       "      <th>EC3_A14</th>\n",
       "      <th>EC3_A15</th>\n",
       "      <th>EC3_A17</th>\n",
       "      <th>EC3_A18</th>\n",
       "      <th>EC3_A19</th>\n",
       "      <th>...</th>\n",
       "      <th>Pdgfra2_P13</th>\n",
       "      <th>Pdgfra2_P14</th>\n",
       "      <th>Pdgfra2_P15</th>\n",
       "      <th>Pdgfra2_P16</th>\n",
       "      <th>Pdgfra2_P17</th>\n",
       "      <th>Pdgfra2_P19</th>\n",
       "      <th>Pdgfra2_P23</th>\n",
       "      <th>Pdgfra2_P24</th>\n",
       "      <th>Pdgfra2_P4</th>\n",
       "      <th>Pdgfra2_P7</th>\n",
       "    </tr>\n",
       "    <tr>\n",
       "      <th>cell_type_fine</th>\n",
       "      <th></th>\n",
       "      <th></th>\n",
       "      <th></th>\n",
       "      <th></th>\n",
       "      <th></th>\n",
       "      <th></th>\n",
       "      <th></th>\n",
       "      <th></th>\n",
       "      <th></th>\n",
       "      <th></th>\n",
       "      <th></th>\n",
       "      <th></th>\n",
       "      <th></th>\n",
       "      <th></th>\n",
       "      <th></th>\n",
       "      <th></th>\n",
       "      <th></th>\n",
       "      <th></th>\n",
       "      <th></th>\n",
       "      <th></th>\n",
       "      <th></th>\n",
       "    </tr>\n",
       "  </thead>\n",
       "  <tbody>\n",
       "    <tr>\n",
       "      <th>EC3</th>\n",
       "      <td>1</td>\n",
       "      <td>1</td>\n",
       "      <td>1</td>\n",
       "      <td>1</td>\n",
       "      <td>1</td>\n",
       "      <td>1</td>\n",
       "      <td>1</td>\n",
       "      <td>1</td>\n",
       "      <td>1</td>\n",
       "      <td>1</td>\n",
       "      <td>...</td>\n",
       "      <td>0</td>\n",
       "      <td>0</td>\n",
       "      <td>0</td>\n",
       "      <td>0</td>\n",
       "      <td>0</td>\n",
       "      <td>0</td>\n",
       "      <td>0</td>\n",
       "      <td>0</td>\n",
       "      <td>0</td>\n",
       "      <td>0</td>\n",
       "    </tr>\n",
       "    <tr>\n",
       "      <th>EC4</th>\n",
       "      <td>0</td>\n",
       "      <td>0</td>\n",
       "      <td>0</td>\n",
       "      <td>0</td>\n",
       "      <td>0</td>\n",
       "      <td>0</td>\n",
       "      <td>0</td>\n",
       "      <td>0</td>\n",
       "      <td>0</td>\n",
       "      <td>0</td>\n",
       "      <td>...</td>\n",
       "      <td>0</td>\n",
       "      <td>0</td>\n",
       "      <td>0</td>\n",
       "      <td>0</td>\n",
       "      <td>0</td>\n",
       "      <td>0</td>\n",
       "      <td>0</td>\n",
       "      <td>0</td>\n",
       "      <td>0</td>\n",
       "      <td>0</td>\n",
       "    </tr>\n",
       "    <tr>\n",
       "      <th>EC5</th>\n",
       "      <td>0</td>\n",
       "      <td>0</td>\n",
       "      <td>0</td>\n",
       "      <td>0</td>\n",
       "      <td>0</td>\n",
       "      <td>0</td>\n",
       "      <td>0</td>\n",
       "      <td>0</td>\n",
       "      <td>0</td>\n",
       "      <td>0</td>\n",
       "      <td>...</td>\n",
       "      <td>0</td>\n",
       "      <td>0</td>\n",
       "      <td>0</td>\n",
       "      <td>0</td>\n",
       "      <td>0</td>\n",
       "      <td>0</td>\n",
       "      <td>0</td>\n",
       "      <td>0</td>\n",
       "      <td>0</td>\n",
       "      <td>0</td>\n",
       "    </tr>\n",
       "    <tr>\n",
       "      <th>EC6</th>\n",
       "      <td>0</td>\n",
       "      <td>0</td>\n",
       "      <td>0</td>\n",
       "      <td>0</td>\n",
       "      <td>0</td>\n",
       "      <td>0</td>\n",
       "      <td>0</td>\n",
       "      <td>0</td>\n",
       "      <td>0</td>\n",
       "      <td>0</td>\n",
       "      <td>...</td>\n",
       "      <td>0</td>\n",
       "      <td>0</td>\n",
       "      <td>0</td>\n",
       "      <td>0</td>\n",
       "      <td>0</td>\n",
       "      <td>0</td>\n",
       "      <td>0</td>\n",
       "      <td>0</td>\n",
       "      <td>0</td>\n",
       "      <td>0</td>\n",
       "    </tr>\n",
       "    <tr>\n",
       "      <th>Mural3</th>\n",
       "      <td>0</td>\n",
       "      <td>0</td>\n",
       "      <td>0</td>\n",
       "      <td>0</td>\n",
       "      <td>0</td>\n",
       "      <td>0</td>\n",
       "      <td>0</td>\n",
       "      <td>0</td>\n",
       "      <td>0</td>\n",
       "      <td>0</td>\n",
       "      <td>...</td>\n",
       "      <td>0</td>\n",
       "      <td>0</td>\n",
       "      <td>0</td>\n",
       "      <td>0</td>\n",
       "      <td>0</td>\n",
       "      <td>0</td>\n",
       "      <td>0</td>\n",
       "      <td>0</td>\n",
       "      <td>0</td>\n",
       "      <td>0</td>\n",
       "    </tr>\n",
       "    <tr>\n",
       "      <th>Mural4</th>\n",
       "      <td>0</td>\n",
       "      <td>0</td>\n",
       "      <td>0</td>\n",
       "      <td>0</td>\n",
       "      <td>0</td>\n",
       "      <td>0</td>\n",
       "      <td>0</td>\n",
       "      <td>0</td>\n",
       "      <td>0</td>\n",
       "      <td>0</td>\n",
       "      <td>...</td>\n",
       "      <td>0</td>\n",
       "      <td>0</td>\n",
       "      <td>0</td>\n",
       "      <td>0</td>\n",
       "      <td>0</td>\n",
       "      <td>0</td>\n",
       "      <td>0</td>\n",
       "      <td>0</td>\n",
       "      <td>0</td>\n",
       "      <td>0</td>\n",
       "    </tr>\n",
       "    <tr>\n",
       "      <th>Mural5</th>\n",
       "      <td>0</td>\n",
       "      <td>0</td>\n",
       "      <td>0</td>\n",
       "      <td>0</td>\n",
       "      <td>0</td>\n",
       "      <td>0</td>\n",
       "      <td>0</td>\n",
       "      <td>0</td>\n",
       "      <td>0</td>\n",
       "      <td>0</td>\n",
       "      <td>...</td>\n",
       "      <td>0</td>\n",
       "      <td>0</td>\n",
       "      <td>0</td>\n",
       "      <td>0</td>\n",
       "      <td>0</td>\n",
       "      <td>0</td>\n",
       "      <td>0</td>\n",
       "      <td>0</td>\n",
       "      <td>0</td>\n",
       "      <td>0</td>\n",
       "    </tr>\n",
       "    <tr>\n",
       "      <th>Mural6</th>\n",
       "      <td>0</td>\n",
       "      <td>0</td>\n",
       "      <td>0</td>\n",
       "      <td>0</td>\n",
       "      <td>0</td>\n",
       "      <td>0</td>\n",
       "      <td>0</td>\n",
       "      <td>0</td>\n",
       "      <td>0</td>\n",
       "      <td>0</td>\n",
       "      <td>...</td>\n",
       "      <td>0</td>\n",
       "      <td>0</td>\n",
       "      <td>0</td>\n",
       "      <td>0</td>\n",
       "      <td>0</td>\n",
       "      <td>0</td>\n",
       "      <td>0</td>\n",
       "      <td>0</td>\n",
       "      <td>0</td>\n",
       "      <td>0</td>\n",
       "    </tr>\n",
       "    <tr>\n",
       "      <th>Pdgfra1</th>\n",
       "      <td>0</td>\n",
       "      <td>0</td>\n",
       "      <td>0</td>\n",
       "      <td>0</td>\n",
       "      <td>0</td>\n",
       "      <td>0</td>\n",
       "      <td>0</td>\n",
       "      <td>0</td>\n",
       "      <td>0</td>\n",
       "      <td>0</td>\n",
       "      <td>...</td>\n",
       "      <td>0</td>\n",
       "      <td>0</td>\n",
       "      <td>0</td>\n",
       "      <td>0</td>\n",
       "      <td>0</td>\n",
       "      <td>0</td>\n",
       "      <td>0</td>\n",
       "      <td>0</td>\n",
       "      <td>0</td>\n",
       "      <td>0</td>\n",
       "    </tr>\n",
       "    <tr>\n",
       "      <th>Pdgfra2</th>\n",
       "      <td>0</td>\n",
       "      <td>0</td>\n",
       "      <td>0</td>\n",
       "      <td>0</td>\n",
       "      <td>0</td>\n",
       "      <td>0</td>\n",
       "      <td>0</td>\n",
       "      <td>0</td>\n",
       "      <td>0</td>\n",
       "      <td>0</td>\n",
       "      <td>...</td>\n",
       "      <td>1</td>\n",
       "      <td>1</td>\n",
       "      <td>1</td>\n",
       "      <td>1</td>\n",
       "      <td>1</td>\n",
       "      <td>1</td>\n",
       "      <td>1</td>\n",
       "      <td>1</td>\n",
       "      <td>1</td>\n",
       "      <td>1</td>\n",
       "    </tr>\n",
       "  </tbody>\n",
       "</table>\n",
       "<p>10 rows × 3186 columns</p>\n",
       "</div>"
      ],
      "text/plain": [
       "cell_id         EC3_A1  EC3_A10  EC3_A11  EC3_A12  EC3_A13  EC3_A14  EC3_A15  \\\n",
       "cell_type_fine                                                                 \n",
       "EC3                  1        1        1        1        1        1        1   \n",
       "EC4                  0        0        0        0        0        0        0   \n",
       "EC5                  0        0        0        0        0        0        0   \n",
       "EC6                  0        0        0        0        0        0        0   \n",
       "Mural3               0        0        0        0        0        0        0   \n",
       "Mural4               0        0        0        0        0        0        0   \n",
       "Mural5               0        0        0        0        0        0        0   \n",
       "Mural6               0        0        0        0        0        0        0   \n",
       "Pdgfra1              0        0        0        0        0        0        0   \n",
       "Pdgfra2              0        0        0        0        0        0        0   \n",
       "\n",
       "cell_id         EC3_A17  EC3_A18  EC3_A19  ...  Pdgfra2_P13  Pdgfra2_P14  \\\n",
       "cell_type_fine                             ...                             \n",
       "EC3                   1        1        1  ...            0            0   \n",
       "EC4                   0        0        0  ...            0            0   \n",
       "EC5                   0        0        0  ...            0            0   \n",
       "EC6                   0        0        0  ...            0            0   \n",
       "Mural3                0        0        0  ...            0            0   \n",
       "Mural4                0        0        0  ...            0            0   \n",
       "Mural5                0        0        0  ...            0            0   \n",
       "Mural6                0        0        0  ...            0            0   \n",
       "Pdgfra1               0        0        0  ...            0            0   \n",
       "Pdgfra2               0        0        0  ...            1            1   \n",
       "\n",
       "cell_id         Pdgfra2_P15  Pdgfra2_P16  Pdgfra2_P17  Pdgfra2_P19  \\\n",
       "cell_type_fine                                                       \n",
       "EC3                       0            0            0            0   \n",
       "EC4                       0            0            0            0   \n",
       "EC5                       0            0            0            0   \n",
       "EC6                       0            0            0            0   \n",
       "Mural3                    0            0            0            0   \n",
       "Mural4                    0            0            0            0   \n",
       "Mural5                    0            0            0            0   \n",
       "Mural6                    0            0            0            0   \n",
       "Pdgfra1                   0            0            0            0   \n",
       "Pdgfra2                   1            1            1            1   \n",
       "\n",
       "cell_id         Pdgfra2_P23  Pdgfra2_P24  Pdgfra2_P4  Pdgfra2_P7  \n",
       "cell_type_fine                                                    \n",
       "EC3                       0            0           0           0  \n",
       "EC4                       0            0           0           0  \n",
       "EC5                       0            0           0           0  \n",
       "EC6                       0            0           0           0  \n",
       "Mural3                    0            0           0           0  \n",
       "Mural4                    0            0           0           0  \n",
       "Mural5                    0            0           0           0  \n",
       "Mural6                    0            0           0           0  \n",
       "Pdgfra1                   0            0           0           0  \n",
       "Pdgfra2                   1            1           1           1  \n",
       "\n",
       "[10 rows x 3186 columns]"
      ]
     },
     "execution_count": 48,
     "metadata": {},
     "output_type": "execute_result"
    }
   ],
   "source": [
    "pd.crosstab(temp[\"cell_type_fine\"], temp[\"cell_id\"])"
   ]
  },
  {
   "cell_type": "code",
   "execution_count": 49,
   "id": "9adf28e2-5111-41ee-bc03-674c3be535b3",
   "metadata": {},
   "outputs": [
    {
     "name": "stderr",
     "output_type": "stream",
     "text": [
      "C:\\Users\\sfrerich\\AppData\\Local\\Temp\\ipykernel_14392\\3044782497.py:1: FutureWarning: The default value of regex will change from True to False in a future version.\n",
      "  temp['cell_type_broad'] = temp['cell_type_fine'].str.replace('\\d+', '')\n"
     ]
    },
    {
     "data": {
      "text/plain": [
       "Mural     1484\n",
       "EC        1445\n",
       "Pdgfra     257\n",
       "Name: cell_type_broad, dtype: int64"
      ]
     },
     "execution_count": 49,
     "metadata": {},
     "output_type": "execute_result"
    }
   ],
   "source": [
    "temp['cell_type_broad'] = temp['cell_type_fine'].str.replace('\\d+', '')\n",
    "temp.cell_type_broad.value_counts()"
   ]
  },
  {
   "cell_type": "markdown",
   "id": "a9aa7757-878f-4345-8f9e-842fa212b861",
   "metadata": {},
   "source": [
    "Note: Broad cell types match between metadata and anndata objects"
   ]
  },
  {
   "cell_type": "code",
   "execution_count": 50,
   "id": "eefa1f9d-89bb-4a62-8306-3a0501383253",
   "metadata": {},
   "outputs": [],
   "source": [
    "assert all(ad.obs.reset_index()[\"index\"] == temp.name)\n",
    "assert len(ad.obs) == len(temp)"
   ]
  },
  {
   "cell_type": "code",
   "execution_count": 51,
   "id": "957841e9-2834-4dcb-8319-eb63c04917ec",
   "metadata": {},
   "outputs": [],
   "source": [
    "ad.obs = temp[[\"tissue\",\"cell_id\",\"cell_type_fine\",\"cell_type_broad\",\"name\"]]"
   ]
  },
  {
   "cell_type": "code",
   "execution_count": null,
   "id": "b2c71970-6578-4196-ae50-69ae77332a96",
   "metadata": {},
   "outputs": [],
   "source": []
  },
  {
   "cell_type": "code",
   "execution_count": null,
   "id": "1f7fea4e-eed8-4d92-b8cb-d05b181af487",
   "metadata": {},
   "outputs": [],
   "source": []
  },
  {
   "cell_type": "code",
   "execution_count": 52,
   "id": "4819dbd9-c3be-4eb9-9205-733c76720399",
   "metadata": {},
   "outputs": [],
   "source": [
    "# add metadata from meta_merged to anndata"
   ]
  },
  {
   "cell_type": "code",
   "execution_count": 53,
   "id": "5c252853-c791-4345-ad43-d41caab058ff",
   "metadata": {},
   "outputs": [
    {
     "data": {
      "text/html": [
       "<div>\n",
       "<style scoped>\n",
       "    .dataframe tbody tr th:only-of-type {\n",
       "        vertical-align: middle;\n",
       "    }\n",
       "\n",
       "    .dataframe tbody tr th {\n",
       "        vertical-align: top;\n",
       "    }\n",
       "\n",
       "    .dataframe thead th {\n",
       "        text-align: right;\n",
       "    }\n",
       "</style>\n",
       "<table border=\"1\" class=\"dataframe\">\n",
       "  <thead>\n",
       "    <tr style=\"text-align: right;\">\n",
       "      <th></th>\n",
       "      <th>tissue</th>\n",
       "      <th>cell_id</th>\n",
       "      <th>cell_type_fine</th>\n",
       "      <th>cell_type_broad</th>\n",
       "      <th>name</th>\n",
       "    </tr>\n",
       "  </thead>\n",
       "  <tbody>\n",
       "    <tr>\n",
       "      <th>0</th>\n",
       "      <td>Brain</td>\n",
       "      <td>Mural3_A13</td>\n",
       "      <td>Mural3</td>\n",
       "      <td>Mural</td>\n",
       "      <td>Brain.Mural3_A13</td>\n",
       "    </tr>\n",
       "    <tr>\n",
       "      <th>1</th>\n",
       "      <td>Brain</td>\n",
       "      <td>Mural3_A14</td>\n",
       "      <td>Mural3</td>\n",
       "      <td>Mural</td>\n",
       "      <td>Brain.Mural3_A14</td>\n",
       "    </tr>\n",
       "    <tr>\n",
       "      <th>2</th>\n",
       "      <td>Brain</td>\n",
       "      <td>Mural3_A6</td>\n",
       "      <td>Mural3</td>\n",
       "      <td>Mural</td>\n",
       "      <td>Brain.Mural3_A6</td>\n",
       "    </tr>\n",
       "    <tr>\n",
       "      <th>3</th>\n",
       "      <td>Brain</td>\n",
       "      <td>Mural3_A2</td>\n",
       "      <td>Mural3</td>\n",
       "      <td>Mural</td>\n",
       "      <td>Brain.Mural3_A2</td>\n",
       "    </tr>\n",
       "    <tr>\n",
       "      <th>4</th>\n",
       "      <td>Brain</td>\n",
       "      <td>Mural3_A9</td>\n",
       "      <td>Mural3</td>\n",
       "      <td>Mural</td>\n",
       "      <td>Brain.Mural3_A9</td>\n",
       "    </tr>\n",
       "    <tr>\n",
       "      <th>...</th>\n",
       "      <td>...</td>\n",
       "      <td>...</td>\n",
       "      <td>...</td>\n",
       "      <td>...</td>\n",
       "      <td>...</td>\n",
       "    </tr>\n",
       "    <tr>\n",
       "      <th>3181</th>\n",
       "      <td>Brain</td>\n",
       "      <td>Pdgfra2_P15</td>\n",
       "      <td>Pdgfra2</td>\n",
       "      <td>Pdgfra</td>\n",
       "      <td>Brain.Pdgfra2_P15</td>\n",
       "    </tr>\n",
       "    <tr>\n",
       "      <th>3182</th>\n",
       "      <td>Brain</td>\n",
       "      <td>Pdgfra2_P17</td>\n",
       "      <td>Pdgfra2</td>\n",
       "      <td>Pdgfra</td>\n",
       "      <td>Brain.Pdgfra2_P17</td>\n",
       "    </tr>\n",
       "    <tr>\n",
       "      <th>3183</th>\n",
       "      <td>Brain</td>\n",
       "      <td>Pdgfra2_P19</td>\n",
       "      <td>Pdgfra2</td>\n",
       "      <td>Pdgfra</td>\n",
       "      <td>Brain.Pdgfra2_P19</td>\n",
       "    </tr>\n",
       "    <tr>\n",
       "      <th>3184</th>\n",
       "      <td>Brain</td>\n",
       "      <td>Pdgfra2_P23</td>\n",
       "      <td>Pdgfra2</td>\n",
       "      <td>Pdgfra</td>\n",
       "      <td>Brain.Pdgfra2_P23</td>\n",
       "    </tr>\n",
       "    <tr>\n",
       "      <th>3185</th>\n",
       "      <td>Brain</td>\n",
       "      <td>Pdgfra2_P24</td>\n",
       "      <td>Pdgfra2</td>\n",
       "      <td>Pdgfra</td>\n",
       "      <td>Brain.Pdgfra2_P24</td>\n",
       "    </tr>\n",
       "  </tbody>\n",
       "</table>\n",
       "<p>3186 rows × 5 columns</p>\n",
       "</div>"
      ],
      "text/plain": [
       "     tissue      cell_id cell_type_fine cell_type_broad               name\n",
       "0     Brain   Mural3_A13         Mural3           Mural   Brain.Mural3_A13\n",
       "1     Brain   Mural3_A14         Mural3           Mural   Brain.Mural3_A14\n",
       "2     Brain    Mural3_A6         Mural3           Mural    Brain.Mural3_A6\n",
       "3     Brain    Mural3_A2         Mural3           Mural    Brain.Mural3_A2\n",
       "4     Brain    Mural3_A9         Mural3           Mural    Brain.Mural3_A9\n",
       "...     ...          ...            ...             ...                ...\n",
       "3181  Brain  Pdgfra2_P15        Pdgfra2          Pdgfra  Brain.Pdgfra2_P15\n",
       "3182  Brain  Pdgfra2_P17        Pdgfra2          Pdgfra  Brain.Pdgfra2_P17\n",
       "3183  Brain  Pdgfra2_P19        Pdgfra2          Pdgfra  Brain.Pdgfra2_P19\n",
       "3184  Brain  Pdgfra2_P23        Pdgfra2          Pdgfra  Brain.Pdgfra2_P23\n",
       "3185  Brain  Pdgfra2_P24        Pdgfra2          Pdgfra  Brain.Pdgfra2_P24\n",
       "\n",
       "[3186 rows x 5 columns]"
      ]
     },
     "execution_count": 53,
     "metadata": {},
     "output_type": "execute_result"
    }
   ],
   "source": [
    "ad.obs"
   ]
  },
  {
   "cell_type": "code",
   "execution_count": 54,
   "id": "6be69447-d7e8-4dff-8c61-ff22a56f225c",
   "metadata": {},
   "outputs": [
    {
     "name": "stderr",
     "output_type": "stream",
     "text": [
      "D:\\Programme\\Anaconda\\envs\\squidpy\\lib\\site-packages\\anndata\\_core\\anndata.py:798: UserWarning: \n",
      "AnnData expects .obs.index to contain strings, but got values like:\n",
      "    [0, 1, 2, 3, 4]\n",
      "\n",
      "    Inferred to be: integer\n",
      "\n",
      "  value_idx = self._prep_dim_index(value.index, attr)\n"
     ]
    }
   ],
   "source": [
    "ad.obs = ad.obs.merge(meta_merged, how='inner', left_on=\"name\", right_on=\"Sample_description\")"
   ]
  },
  {
   "cell_type": "code",
   "execution_count": 55,
   "id": "2318de7c-8cad-4fa5-a1b9-4e291404d8cf",
   "metadata": {},
   "outputs": [
    {
     "data": {
      "text/html": [
       "<div>\n",
       "<style scoped>\n",
       "    .dataframe tbody tr th:only-of-type {\n",
       "        vertical-align: middle;\n",
       "    }\n",
       "\n",
       "    .dataframe tbody tr th {\n",
       "        vertical-align: top;\n",
       "    }\n",
       "\n",
       "    .dataframe thead th {\n",
       "        text-align: right;\n",
       "    }\n",
       "</style>\n",
       "<table border=\"1\" class=\"dataframe\">\n",
       "  <thead>\n",
       "    <tr style=\"text-align: right;\">\n",
       "      <th></th>\n",
       "      <th>tissue</th>\n",
       "      <th>cell_id</th>\n",
       "      <th>cell_type_fine</th>\n",
       "      <th>cell_type_broad</th>\n",
       "      <th>name</th>\n",
       "      <th>GSM ID</th>\n",
       "      <th>GSM name</th>\n",
       "      <th>organism</th>\n",
       "      <th>Mouse ID</th>\n",
       "      <th>strain</th>\n",
       "      <th>...</th>\n",
       "      <th>age</th>\n",
       "      <th>tissue origin_x</th>\n",
       "      <th>annoated cell types</th>\n",
       "      <th>BioSample ID</th>\n",
       "      <th>SRA ID</th>\n",
       "      <th>Sequenced Reads</th>\n",
       "      <th>Sample_title</th>\n",
       "      <th>Sample_geo_accession</th>\n",
       "      <th>tissue origin_y</th>\n",
       "      <th>Sample_description</th>\n",
       "    </tr>\n",
       "  </thead>\n",
       "  <tbody>\n",
       "    <tr>\n",
       "      <th>0</th>\n",
       "      <td>Brain</td>\n",
       "      <td>Mural3_A13</td>\n",
       "      <td>Mural3</td>\n",
       "      <td>Mural</td>\n",
       "      <td>Brain.Mural3_A13</td>\n",
       "      <td>GSM2613987</td>\n",
       "      <td>Brain single cell 1449</td>\n",
       "      <td>Mus musculus</td>\n",
       "      <td>Mouse_160205_Female</td>\n",
       "      <td>C57BL/6</td>\n",
       "      <td>...</td>\n",
       "      <td>adult</td>\n",
       "      <td>Brain</td>\n",
       "      <td>PC</td>\n",
       "      <td>SAMN06931994</td>\n",
       "      <td>SRX2800092</td>\n",
       "      <td>369784</td>\n",
       "      <td>Brain single cell 1449</td>\n",
       "      <td>GSM2613987</td>\n",
       "      <td>Brain</td>\n",
       "      <td>Brain.Mural3_A13</td>\n",
       "    </tr>\n",
       "    <tr>\n",
       "      <th>1</th>\n",
       "      <td>Brain</td>\n",
       "      <td>Mural3_A14</td>\n",
       "      <td>Mural3</td>\n",
       "      <td>Mural</td>\n",
       "      <td>Brain.Mural3_A14</td>\n",
       "      <td>GSM2613988</td>\n",
       "      <td>Brain single cell 1450</td>\n",
       "      <td>Mus musculus</td>\n",
       "      <td>Mouse_160205_Female</td>\n",
       "      <td>C57BL/6</td>\n",
       "      <td>...</td>\n",
       "      <td>adult</td>\n",
       "      <td>Brain</td>\n",
       "      <td>vSMC</td>\n",
       "      <td>SAMN06931993</td>\n",
       "      <td>SRX2800093</td>\n",
       "      <td>404665</td>\n",
       "      <td>Brain single cell 1450</td>\n",
       "      <td>GSM2613988</td>\n",
       "      <td>Brain</td>\n",
       "      <td>Brain.Mural3_A14</td>\n",
       "    </tr>\n",
       "    <tr>\n",
       "      <th>2</th>\n",
       "      <td>Brain</td>\n",
       "      <td>Mural3_A6</td>\n",
       "      <td>Mural3</td>\n",
       "      <td>Mural</td>\n",
       "      <td>Brain.Mural3_A6</td>\n",
       "      <td>GSM2614002</td>\n",
       "      <td>Brain single cell 1464</td>\n",
       "      <td>Mus musculus</td>\n",
       "      <td>Mouse_160205_Female</td>\n",
       "      <td>C57BL/6</td>\n",
       "      <td>...</td>\n",
       "      <td>adult</td>\n",
       "      <td>Brain</td>\n",
       "      <td>PC</td>\n",
       "      <td>SAMN06932064</td>\n",
       "      <td>SRX2800107</td>\n",
       "      <td>528106</td>\n",
       "      <td>Brain single cell 1464</td>\n",
       "      <td>GSM2614002</td>\n",
       "      <td>Brain</td>\n",
       "      <td>Brain.Mural3_A6</td>\n",
       "    </tr>\n",
       "  </tbody>\n",
       "</table>\n",
       "<p>3 rows × 21 columns</p>\n",
       "</div>"
      ],
      "text/plain": [
       "  tissue     cell_id cell_type_fine cell_type_broad              name  \\\n",
       "0  Brain  Mural3_A13         Mural3           Mural  Brain.Mural3_A13   \n",
       "1  Brain  Mural3_A14         Mural3           Mural  Brain.Mural3_A14   \n",
       "2  Brain   Mural3_A6         Mural3           Mural   Brain.Mural3_A6   \n",
       "\n",
       "       GSM ID                GSM name      organism             Mouse ID  \\\n",
       "0  GSM2613987  Brain single cell 1449  Mus musculus  Mouse_160205_Female   \n",
       "1  GSM2613988  Brain single cell 1450  Mus musculus  Mouse_160205_Female   \n",
       "2  GSM2614002  Brain single cell 1464  Mus musculus  Mouse_160205_Female   \n",
       "\n",
       "    strain  ...    age tissue origin_x annoated cell types  BioSample ID  \\\n",
       "0  C57BL/6  ...  adult           Brain                  PC  SAMN06931994   \n",
       "1  C57BL/6  ...  adult           Brain                vSMC  SAMN06931993   \n",
       "2  C57BL/6  ...  adult           Brain                  PC  SAMN06932064   \n",
       "\n",
       "       SRA ID Sequenced Reads            Sample_title Sample_geo_accession  \\\n",
       "0  SRX2800092          369784  Brain single cell 1449           GSM2613987   \n",
       "1  SRX2800093          404665  Brain single cell 1450           GSM2613988   \n",
       "2  SRX2800107          528106  Brain single cell 1464           GSM2614002   \n",
       "\n",
       "  tissue origin_y Sample_description  \n",
       "0           Brain   Brain.Mural3_A13  \n",
       "1           Brain   Brain.Mural3_A14  \n",
       "2           Brain    Brain.Mural3_A6  \n",
       "\n",
       "[3 rows x 21 columns]"
      ]
     },
     "execution_count": 55,
     "metadata": {},
     "output_type": "execute_result"
    }
   ],
   "source": [
    "ad.obs.head(3)"
   ]
  },
  {
   "cell_type": "code",
   "execution_count": 56,
   "id": "52f5c70d-cce1-42a0-91fd-0282d6379629",
   "metadata": {},
   "outputs": [
    {
     "data": {
      "text/plain": [
       "Index(['tissue', 'cell_id', 'cell_type_fine', 'cell_type_broad', 'name',\n",
       "       'GSM ID', 'GSM name', 'organism', 'Mouse ID', 'strain', 'genotype',\n",
       "       'age', 'tissue origin_x', 'annoated cell types', 'BioSample ID',\n",
       "       'SRA ID', 'Sequenced Reads', 'Sample_title', 'Sample_geo_accession',\n",
       "       'tissue origin_y', 'Sample_description'],\n",
       "      dtype='object')"
      ]
     },
     "execution_count": 56,
     "metadata": {},
     "output_type": "execute_result"
    }
   ],
   "source": [
    "ad.obs.columns"
   ]
  },
  {
   "cell_type": "code",
   "execution_count": 57,
   "id": "1ba0f9a7-9044-476e-b1eb-375b1bee0127",
   "metadata": {},
   "outputs": [
    {
     "data": {
      "text/html": [
       "<div>\n",
       "<style scoped>\n",
       "    .dataframe tbody tr th:only-of-type {\n",
       "        vertical-align: middle;\n",
       "    }\n",
       "\n",
       "    .dataframe tbody tr th {\n",
       "        vertical-align: top;\n",
       "    }\n",
       "\n",
       "    .dataframe thead th {\n",
       "        text-align: right;\n",
       "    }\n",
       "</style>\n",
       "<table border=\"1\" class=\"dataframe\">\n",
       "  <thead>\n",
       "    <tr style=\"text-align: right;\">\n",
       "      <th>annoated cell types</th>\n",
       "      <th>AC</th>\n",
       "      <th>EC1</th>\n",
       "      <th>EC2</th>\n",
       "      <th>EC3</th>\n",
       "      <th>FB1</th>\n",
       "      <th>FB2</th>\n",
       "      <th>MG</th>\n",
       "      <th>OL</th>\n",
       "      <th>PC</th>\n",
       "      <th>aEC</th>\n",
       "      <th>aSMC</th>\n",
       "      <th>aaSMC</th>\n",
       "      <th>capilEC</th>\n",
       "      <th>vEC</th>\n",
       "      <th>vSMC</th>\n",
       "    </tr>\n",
       "    <tr>\n",
       "      <th>cell_type_fine</th>\n",
       "      <th></th>\n",
       "      <th></th>\n",
       "      <th></th>\n",
       "      <th></th>\n",
       "      <th></th>\n",
       "      <th></th>\n",
       "      <th></th>\n",
       "      <th></th>\n",
       "      <th></th>\n",
       "      <th></th>\n",
       "      <th></th>\n",
       "      <th></th>\n",
       "      <th></th>\n",
       "      <th></th>\n",
       "      <th></th>\n",
       "    </tr>\n",
       "  </thead>\n",
       "  <tbody>\n",
       "    <tr>\n",
       "      <th>EC3</th>\n",
       "      <td>0</td>\n",
       "      <td>68</td>\n",
       "      <td>11</td>\n",
       "      <td>24</td>\n",
       "      <td>0</td>\n",
       "      <td>0</td>\n",
       "      <td>0</td>\n",
       "      <td>0</td>\n",
       "      <td>0</td>\n",
       "      <td>90</td>\n",
       "      <td>0</td>\n",
       "      <td>0</td>\n",
       "      <td>100</td>\n",
       "      <td>68</td>\n",
       "      <td>0</td>\n",
       "    </tr>\n",
       "    <tr>\n",
       "      <th>EC4</th>\n",
       "      <td>0</td>\n",
       "      <td>48</td>\n",
       "      <td>10</td>\n",
       "      <td>23</td>\n",
       "      <td>0</td>\n",
       "      <td>0</td>\n",
       "      <td>0</td>\n",
       "      <td>0</td>\n",
       "      <td>0</td>\n",
       "      <td>94</td>\n",
       "      <td>0</td>\n",
       "      <td>0</td>\n",
       "      <td>107</td>\n",
       "      <td>77</td>\n",
       "      <td>0</td>\n",
       "    </tr>\n",
       "    <tr>\n",
       "      <th>EC5</th>\n",
       "      <td>0</td>\n",
       "      <td>41</td>\n",
       "      <td>15</td>\n",
       "      <td>40</td>\n",
       "      <td>0</td>\n",
       "      <td>0</td>\n",
       "      <td>1</td>\n",
       "      <td>0</td>\n",
       "      <td>0</td>\n",
       "      <td>93</td>\n",
       "      <td>0</td>\n",
       "      <td>0</td>\n",
       "      <td>99</td>\n",
       "      <td>72</td>\n",
       "      <td>0</td>\n",
       "    </tr>\n",
       "    <tr>\n",
       "      <th>EC6</th>\n",
       "      <td>0</td>\n",
       "      <td>43</td>\n",
       "      <td>21</td>\n",
       "      <td>36</td>\n",
       "      <td>0</td>\n",
       "      <td>0</td>\n",
       "      <td>0</td>\n",
       "      <td>0</td>\n",
       "      <td>0</td>\n",
       "      <td>108</td>\n",
       "      <td>0</td>\n",
       "      <td>0</td>\n",
       "      <td>82</td>\n",
       "      <td>74</td>\n",
       "      <td>0</td>\n",
       "    </tr>\n",
       "    <tr>\n",
       "      <th>Mural3</th>\n",
       "      <td>6</td>\n",
       "      <td>0</td>\n",
       "      <td>3</td>\n",
       "      <td>6</td>\n",
       "      <td>0</td>\n",
       "      <td>0</td>\n",
       "      <td>2</td>\n",
       "      <td>0</td>\n",
       "      <td>266</td>\n",
       "      <td>3</td>\n",
       "      <td>35</td>\n",
       "      <td>11</td>\n",
       "      <td>4</td>\n",
       "      <td>3</td>\n",
       "      <td>30</td>\n",
       "    </tr>\n",
       "    <tr>\n",
       "      <th>Mural4</th>\n",
       "      <td>4</td>\n",
       "      <td>9</td>\n",
       "      <td>1</td>\n",
       "      <td>4</td>\n",
       "      <td>0</td>\n",
       "      <td>0</td>\n",
       "      <td>0</td>\n",
       "      <td>0</td>\n",
       "      <td>261</td>\n",
       "      <td>1</td>\n",
       "      <td>29</td>\n",
       "      <td>19</td>\n",
       "      <td>10</td>\n",
       "      <td>3</td>\n",
       "      <td>28</td>\n",
       "    </tr>\n",
       "    <tr>\n",
       "      <th>Mural5</th>\n",
       "      <td>5</td>\n",
       "      <td>14</td>\n",
       "      <td>1</td>\n",
       "      <td>2</td>\n",
       "      <td>0</td>\n",
       "      <td>0</td>\n",
       "      <td>0</td>\n",
       "      <td>0</td>\n",
       "      <td>265</td>\n",
       "      <td>3</td>\n",
       "      <td>30</td>\n",
       "      <td>18</td>\n",
       "      <td>3</td>\n",
       "      <td>0</td>\n",
       "      <td>28</td>\n",
       "    </tr>\n",
       "    <tr>\n",
       "      <th>Mural6</th>\n",
       "      <td>1</td>\n",
       "      <td>5</td>\n",
       "      <td>0</td>\n",
       "      <td>2</td>\n",
       "      <td>0</td>\n",
       "      <td>0</td>\n",
       "      <td>0</td>\n",
       "      <td>0</td>\n",
       "      <td>296</td>\n",
       "      <td>3</td>\n",
       "      <td>36</td>\n",
       "      <td>12</td>\n",
       "      <td>0</td>\n",
       "      <td>1</td>\n",
       "      <td>21</td>\n",
       "    </tr>\n",
       "    <tr>\n",
       "      <th>Pdgfra1</th>\n",
       "      <td>2</td>\n",
       "      <td>0</td>\n",
       "      <td>0</td>\n",
       "      <td>0</td>\n",
       "      <td>20</td>\n",
       "      <td>38</td>\n",
       "      <td>8</td>\n",
       "      <td>38</td>\n",
       "      <td>0</td>\n",
       "      <td>1</td>\n",
       "      <td>0</td>\n",
       "      <td>0</td>\n",
       "      <td>0</td>\n",
       "      <td>0</td>\n",
       "      <td>0</td>\n",
       "    </tr>\n",
       "    <tr>\n",
       "      <th>Pdgfra2</th>\n",
       "      <td>0</td>\n",
       "      <td>0</td>\n",
       "      <td>1</td>\n",
       "      <td>0</td>\n",
       "      <td>17</td>\n",
       "      <td>11</td>\n",
       "      <td>3</td>\n",
       "      <td>117</td>\n",
       "      <td>0</td>\n",
       "      <td>1</td>\n",
       "      <td>0</td>\n",
       "      <td>0</td>\n",
       "      <td>0</td>\n",
       "      <td>0</td>\n",
       "      <td>0</td>\n",
       "    </tr>\n",
       "  </tbody>\n",
       "</table>\n",
       "</div>"
      ],
      "text/plain": [
       "annoated cell types  AC  EC1  EC2  EC3  FB1  FB2  MG   OL   PC  aEC  aSMC  \\\n",
       "cell_type_fine                                                              \n",
       "EC3                   0   68   11   24    0    0   0    0    0   90     0   \n",
       "EC4                   0   48   10   23    0    0   0    0    0   94     0   \n",
       "EC5                   0   41   15   40    0    0   1    0    0   93     0   \n",
       "EC6                   0   43   21   36    0    0   0    0    0  108     0   \n",
       "Mural3                6    0    3    6    0    0   2    0  266    3    35   \n",
       "Mural4                4    9    1    4    0    0   0    0  261    1    29   \n",
       "Mural5                5   14    1    2    0    0   0    0  265    3    30   \n",
       "Mural6                1    5    0    2    0    0   0    0  296    3    36   \n",
       "Pdgfra1               2    0    0    0   20   38   8   38    0    1     0   \n",
       "Pdgfra2               0    0    1    0   17   11   3  117    0    1     0   \n",
       "\n",
       "annoated cell types  aaSMC  capilEC  vEC  vSMC  \n",
       "cell_type_fine                                  \n",
       "EC3                      0      100   68     0  \n",
       "EC4                      0      107   77     0  \n",
       "EC5                      0       99   72     0  \n",
       "EC6                      0       82   74     0  \n",
       "Mural3                  11        4    3    30  \n",
       "Mural4                  19       10    3    28  \n",
       "Mural5                  18        3    0    28  \n",
       "Mural6                  12        0    1    21  \n",
       "Pdgfra1                  0        0    0     0  \n",
       "Pdgfra2                  0        0    0     0  "
      ]
     },
     "execution_count": 57,
     "metadata": {},
     "output_type": "execute_result"
    }
   ],
   "source": [
    "pd.crosstab(ad.obs[\"cell_type_fine\"], ad.obs[\"annoated cell types\"])"
   ]
  },
  {
   "cell_type": "code",
   "execution_count": 58,
   "id": "3a107d96-36c7-4e1f-a933-77f7e43b290a",
   "metadata": {},
   "outputs": [
    {
     "data": {
      "text/plain": [
       "PC         1088\n",
       "capilEC     405\n",
       "aEC         397\n",
       "vEC         298\n",
       "EC1         228\n",
       "OL          155\n",
       "EC3         137\n",
       "aSMC        130\n",
       "vSMC        107\n",
       "EC2          63\n",
       "aaSMC        60\n",
       "FB2          49\n",
       "FB1          37\n",
       "AC           18\n",
       "MG           14\n",
       "Name: annoated cell types, dtype: int64"
      ]
     },
     "execution_count": 58,
     "metadata": {},
     "output_type": "execute_result"
    }
   ],
   "source": [
    "ad.obs[\"annoated cell types\"].value_counts()"
   ]
  },
  {
   "cell_type": "markdown",
   "id": "5471bf3c-3171-44d2-87fb-7738fe183cbf",
   "metadata": {},
   "source": [
    "Corresponds to https://betsholtzlab.org/VascularSingleCells/database.html, except for astrocytes"
   ]
  },
  {
   "cell_type": "code",
   "execution_count": null,
   "id": "7f1aceed-50c2-435b-b04e-ea5a2af129e8",
   "metadata": {},
   "outputs": [],
   "source": []
  },
  {
   "cell_type": "code",
   "execution_count": 59,
   "id": "198c4577-e6dc-416b-9e2e-e9583753830a",
   "metadata": {},
   "outputs": [],
   "source": [
    "# merge separate anndata objects of vasculature and astrocytes"
   ]
  },
  {
   "cell_type": "code",
   "execution_count": 60,
   "id": "aef1f8d9-825e-4102-abea-a720566bfeb6",
   "metadata": {},
   "outputs": [],
   "source": [
    "# format ad_astro.obs"
   ]
  },
  {
   "cell_type": "code",
   "execution_count": 61,
   "id": "ba98629a-31cb-4749-8e83-6b3c1335ae27",
   "metadata": {},
   "outputs": [
    {
     "data": {
      "text/html": [
       "<div>\n",
       "<style scoped>\n",
       "    .dataframe tbody tr th:only-of-type {\n",
       "        vertical-align: middle;\n",
       "    }\n",
       "\n",
       "    .dataframe tbody tr th {\n",
       "        vertical-align: top;\n",
       "    }\n",
       "\n",
       "    .dataframe thead th {\n",
       "        text-align: right;\n",
       "    }\n",
       "</style>\n",
       "<table border=\"1\" class=\"dataframe\">\n",
       "  <thead>\n",
       "    <tr style=\"text-align: right;\">\n",
       "      <th></th>\n",
       "    </tr>\n",
       "  </thead>\n",
       "  <tbody>\n",
       "    <tr>\n",
       "      <th>Brain.VSMC2_M16</th>\n",
       "    </tr>\n",
       "    <tr>\n",
       "      <th>Brain.VSMC2_G3</th>\n",
       "    </tr>\n",
       "    <tr>\n",
       "      <th>Brain.VSMC2_O10</th>\n",
       "    </tr>\n",
       "    <tr>\n",
       "      <th>Brain.VSMC2_E16</th>\n",
       "    </tr>\n",
       "    <tr>\n",
       "      <th>Brain.VSMC2_C7</th>\n",
       "    </tr>\n",
       "  </tbody>\n",
       "</table>\n",
       "</div>"
      ],
      "text/plain": [
       "Empty DataFrame\n",
       "Columns: []\n",
       "Index: [Brain.VSMC2_M16, Brain.VSMC2_G3, Brain.VSMC2_O10, Brain.VSMC2_E16, Brain.VSMC2_C7]"
      ]
     },
     "execution_count": 61,
     "metadata": {},
     "output_type": "execute_result"
    }
   ],
   "source": [
    "ad_astro.obs.head()"
   ]
  },
  {
   "cell_type": "markdown",
   "id": "a22c2d1b-42c0-4c0b-9fb7-3a1d1e0308ac",
   "metadata": {},
   "source": [
    "This is the format of metadata in the anndata object. Corresponds to meta_merged.Sample_description"
   ]
  },
  {
   "cell_type": "code",
   "execution_count": 62,
   "id": "aade6dc3-a615-48df-b6c2-0e8e0a90a47e",
   "metadata": {},
   "outputs": [
    {
     "data": {
      "text/plain": [
       "(250, 24490)"
      ]
     },
     "execution_count": 62,
     "metadata": {},
     "output_type": "execute_result"
    }
   ],
   "source": [
    "ad_astro.shape"
   ]
  },
  {
   "cell_type": "code",
   "execution_count": 63,
   "id": "e7144058-17db-4a74-abf8-64e7f0206a17",
   "metadata": {},
   "outputs": [
    {
     "data": {
      "text/html": [
       "<div>\n",
       "<style scoped>\n",
       "    .dataframe tbody tr th:only-of-type {\n",
       "        vertical-align: middle;\n",
       "    }\n",
       "\n",
       "    .dataframe tbody tr th {\n",
       "        vertical-align: top;\n",
       "    }\n",
       "\n",
       "    .dataframe thead th {\n",
       "        text-align: right;\n",
       "    }\n",
       "</style>\n",
       "<table border=\"1\" class=\"dataframe\">\n",
       "  <thead>\n",
       "    <tr style=\"text-align: right;\">\n",
       "      <th></th>\n",
       "      <th>0</th>\n",
       "      <th>1</th>\n",
       "    </tr>\n",
       "  </thead>\n",
       "  <tbody>\n",
       "    <tr>\n",
       "      <th>0</th>\n",
       "      <td>Brain</td>\n",
       "      <td>VSMC2_M16</td>\n",
       "    </tr>\n",
       "    <tr>\n",
       "      <th>1</th>\n",
       "      <td>Brain</td>\n",
       "      <td>VSMC2_G3</td>\n",
       "    </tr>\n",
       "    <tr>\n",
       "      <th>2</th>\n",
       "      <td>Brain</td>\n",
       "      <td>VSMC2_O10</td>\n",
       "    </tr>\n",
       "    <tr>\n",
       "      <th>3</th>\n",
       "      <td>Brain</td>\n",
       "      <td>VSMC2_E16</td>\n",
       "    </tr>\n",
       "    <tr>\n",
       "      <th>4</th>\n",
       "      <td>Brain</td>\n",
       "      <td>VSMC2_C7</td>\n",
       "    </tr>\n",
       "    <tr>\n",
       "      <th>...</th>\n",
       "      <td>...</td>\n",
       "      <td>...</td>\n",
       "    </tr>\n",
       "    <tr>\n",
       "      <th>245</th>\n",
       "      <td>Brain</td>\n",
       "      <td>VSMC2_M23</td>\n",
       "    </tr>\n",
       "    <tr>\n",
       "      <th>246</th>\n",
       "      <td>Brain</td>\n",
       "      <td>VSMC3_M6</td>\n",
       "    </tr>\n",
       "    <tr>\n",
       "      <th>247</th>\n",
       "      <td>Brain</td>\n",
       "      <td>VSMC2_A3</td>\n",
       "    </tr>\n",
       "    <tr>\n",
       "      <th>248</th>\n",
       "      <td>Brain</td>\n",
       "      <td>VSMC3_F15</td>\n",
       "    </tr>\n",
       "    <tr>\n",
       "      <th>249</th>\n",
       "      <td>Brain</td>\n",
       "      <td>VSMC2_A6</td>\n",
       "    </tr>\n",
       "  </tbody>\n",
       "</table>\n",
       "<p>250 rows × 2 columns</p>\n",
       "</div>"
      ],
      "text/plain": [
       "         0          1\n",
       "0    Brain  VSMC2_M16\n",
       "1    Brain   VSMC2_G3\n",
       "2    Brain  VSMC2_O10\n",
       "3    Brain  VSMC2_E16\n",
       "4    Brain   VSMC2_C7\n",
       "..     ...        ...\n",
       "245  Brain  VSMC2_M23\n",
       "246  Brain   VSMC3_M6\n",
       "247  Brain   VSMC2_A3\n",
       "248  Brain  VSMC3_F15\n",
       "249  Brain   VSMC2_A6\n",
       "\n",
       "[250 rows x 2 columns]"
      ]
     },
     "execution_count": 63,
     "metadata": {},
     "output_type": "execute_result"
    }
   ],
   "source": [
    "temp = ad_astro.obs.reset_index(level=0)[\"index\"].str.split(pat=\".\",expand=True)\n",
    "temp"
   ]
  },
  {
   "cell_type": "code",
   "execution_count": 64,
   "id": "cd23747c-a8ca-43a5-b1d5-a305aa59dcec",
   "metadata": {},
   "outputs": [],
   "source": [
    "temp[\"name\"] = temp[0] + \".\" + temp[1]"
   ]
  },
  {
   "cell_type": "code",
   "execution_count": 65,
   "id": "3bda325b-81ed-485c-b4db-8fd6e55f1bea",
   "metadata": {},
   "outputs": [
    {
     "data": {
      "text/plain": [
       "Brain    250\n",
       "Name: 0, dtype: int64"
      ]
     },
     "execution_count": 65,
     "metadata": {},
     "output_type": "execute_result"
    }
   ],
   "source": [
    "temp[0].value_counts()"
   ]
  },
  {
   "cell_type": "code",
   "execution_count": 66,
   "id": "8e2bc63f-a62a-4ec0-b7ab-0bb3f79b87d8",
   "metadata": {},
   "outputs": [],
   "source": [
    "temp[\"tissue\"] = temp[0]\n",
    "temp[\"cell_id\"] = temp[1]"
   ]
  },
  {
   "cell_type": "code",
   "execution_count": 67,
   "id": "818ec44c-503a-41a3-8201-346fbed862e6",
   "metadata": {},
   "outputs": [
    {
     "data": {
      "text/html": [
       "<div>\n",
       "<style scoped>\n",
       "    .dataframe tbody tr th:only-of-type {\n",
       "        vertical-align: middle;\n",
       "    }\n",
       "\n",
       "    .dataframe tbody tr th {\n",
       "        vertical-align: top;\n",
       "    }\n",
       "\n",
       "    .dataframe thead th {\n",
       "        text-align: right;\n",
       "    }\n",
       "</style>\n",
       "<table border=\"1\" class=\"dataframe\">\n",
       "  <thead>\n",
       "    <tr style=\"text-align: right;\">\n",
       "      <th></th>\n",
       "      <th>0</th>\n",
       "      <th>1</th>\n",
       "      <th>name</th>\n",
       "      <th>tissue</th>\n",
       "      <th>cell_id</th>\n",
       "    </tr>\n",
       "  </thead>\n",
       "  <tbody>\n",
       "    <tr>\n",
       "      <th>0</th>\n",
       "      <td>Brain</td>\n",
       "      <td>VSMC2_M16</td>\n",
       "      <td>Brain.VSMC2_M16</td>\n",
       "      <td>Brain</td>\n",
       "      <td>VSMC2_M16</td>\n",
       "    </tr>\n",
       "    <tr>\n",
       "      <th>1</th>\n",
       "      <td>Brain</td>\n",
       "      <td>VSMC2_G3</td>\n",
       "      <td>Brain.VSMC2_G3</td>\n",
       "      <td>Brain</td>\n",
       "      <td>VSMC2_G3</td>\n",
       "    </tr>\n",
       "    <tr>\n",
       "      <th>2</th>\n",
       "      <td>Brain</td>\n",
       "      <td>VSMC2_O10</td>\n",
       "      <td>Brain.VSMC2_O10</td>\n",
       "      <td>Brain</td>\n",
       "      <td>VSMC2_O10</td>\n",
       "    </tr>\n",
       "    <tr>\n",
       "      <th>3</th>\n",
       "      <td>Brain</td>\n",
       "      <td>VSMC2_E16</td>\n",
       "      <td>Brain.VSMC2_E16</td>\n",
       "      <td>Brain</td>\n",
       "      <td>VSMC2_E16</td>\n",
       "    </tr>\n",
       "    <tr>\n",
       "      <th>4</th>\n",
       "      <td>Brain</td>\n",
       "      <td>VSMC2_C7</td>\n",
       "      <td>Brain.VSMC2_C7</td>\n",
       "      <td>Brain</td>\n",
       "      <td>VSMC2_C7</td>\n",
       "    </tr>\n",
       "    <tr>\n",
       "      <th>...</th>\n",
       "      <td>...</td>\n",
       "      <td>...</td>\n",
       "      <td>...</td>\n",
       "      <td>...</td>\n",
       "      <td>...</td>\n",
       "    </tr>\n",
       "    <tr>\n",
       "      <th>245</th>\n",
       "      <td>Brain</td>\n",
       "      <td>VSMC2_M23</td>\n",
       "      <td>Brain.VSMC2_M23</td>\n",
       "      <td>Brain</td>\n",
       "      <td>VSMC2_M23</td>\n",
       "    </tr>\n",
       "    <tr>\n",
       "      <th>246</th>\n",
       "      <td>Brain</td>\n",
       "      <td>VSMC3_M6</td>\n",
       "      <td>Brain.VSMC3_M6</td>\n",
       "      <td>Brain</td>\n",
       "      <td>VSMC3_M6</td>\n",
       "    </tr>\n",
       "    <tr>\n",
       "      <th>247</th>\n",
       "      <td>Brain</td>\n",
       "      <td>VSMC2_A3</td>\n",
       "      <td>Brain.VSMC2_A3</td>\n",
       "      <td>Brain</td>\n",
       "      <td>VSMC2_A3</td>\n",
       "    </tr>\n",
       "    <tr>\n",
       "      <th>248</th>\n",
       "      <td>Brain</td>\n",
       "      <td>VSMC3_F15</td>\n",
       "      <td>Brain.VSMC3_F15</td>\n",
       "      <td>Brain</td>\n",
       "      <td>VSMC3_F15</td>\n",
       "    </tr>\n",
       "    <tr>\n",
       "      <th>249</th>\n",
       "      <td>Brain</td>\n",
       "      <td>VSMC2_A6</td>\n",
       "      <td>Brain.VSMC2_A6</td>\n",
       "      <td>Brain</td>\n",
       "      <td>VSMC2_A6</td>\n",
       "    </tr>\n",
       "  </tbody>\n",
       "</table>\n",
       "<p>250 rows × 5 columns</p>\n",
       "</div>"
      ],
      "text/plain": [
       "         0          1             name tissue    cell_id\n",
       "0    Brain  VSMC2_M16  Brain.VSMC2_M16  Brain  VSMC2_M16\n",
       "1    Brain   VSMC2_G3   Brain.VSMC2_G3  Brain   VSMC2_G3\n",
       "2    Brain  VSMC2_O10  Brain.VSMC2_O10  Brain  VSMC2_O10\n",
       "3    Brain  VSMC2_E16  Brain.VSMC2_E16  Brain  VSMC2_E16\n",
       "4    Brain   VSMC2_C7   Brain.VSMC2_C7  Brain   VSMC2_C7\n",
       "..     ...        ...              ...    ...        ...\n",
       "245  Brain  VSMC2_M23  Brain.VSMC2_M23  Brain  VSMC2_M23\n",
       "246  Brain   VSMC3_M6   Brain.VSMC3_M6  Brain   VSMC3_M6\n",
       "247  Brain   VSMC2_A3   Brain.VSMC2_A3  Brain   VSMC2_A3\n",
       "248  Brain  VSMC3_F15  Brain.VSMC3_F15  Brain  VSMC3_F15\n",
       "249  Brain   VSMC2_A6   Brain.VSMC2_A6  Brain   VSMC2_A6\n",
       "\n",
       "[250 rows x 5 columns]"
      ]
     },
     "execution_count": 67,
     "metadata": {},
     "output_type": "execute_result"
    }
   ],
   "source": [
    "temp"
   ]
  },
  {
   "cell_type": "code",
   "execution_count": 68,
   "id": "0b8d8ef1-787e-4833-bd57-1cc9514a9c2a",
   "metadata": {},
   "outputs": [],
   "source": [
    "temp[\"cell_type_fine\"] = temp.cell_id.str.split(pat=\"_\",expand=True)[0]"
   ]
  },
  {
   "cell_type": "code",
   "execution_count": 69,
   "id": "1cc4d977-45ed-46f6-9016-afa1aa334c82",
   "metadata": {},
   "outputs": [
    {
     "data": {
      "text/plain": [
       "VSMC2    162\n",
       "VSMC3     88\n",
       "Name: cell_type_fine, dtype: int64"
      ]
     },
     "execution_count": 69,
     "metadata": {},
     "output_type": "execute_result"
    }
   ],
   "source": [
    "temp.cell_type_fine.value_counts()"
   ]
  },
  {
   "cell_type": "markdown",
   "id": "70758c5c-99d7-41af-817c-0ea74167b7cd",
   "metadata": {},
   "source": [
    "wrong labels?"
   ]
  },
  {
   "cell_type": "code",
   "execution_count": 70,
   "id": "cc3bbfac-c0fe-4183-ab79-2b41412d6ed4",
   "metadata": {},
   "outputs": [],
   "source": [
    "#temp[temp[\"cell_type_fine\"] == \"EC3\"].cell_id.unique()"
   ]
  },
  {
   "cell_type": "code",
   "execution_count": 71,
   "id": "1ab23a71-8993-4552-94d6-1b720babab7a",
   "metadata": {},
   "outputs": [
    {
     "data": {
      "text/html": [
       "<div>\n",
       "<style scoped>\n",
       "    .dataframe tbody tr th:only-of-type {\n",
       "        vertical-align: middle;\n",
       "    }\n",
       "\n",
       "    .dataframe tbody tr th {\n",
       "        vertical-align: top;\n",
       "    }\n",
       "\n",
       "    .dataframe thead th {\n",
       "        text-align: right;\n",
       "    }\n",
       "</style>\n",
       "<table border=\"1\" class=\"dataframe\">\n",
       "  <thead>\n",
       "    <tr style=\"text-align: right;\">\n",
       "      <th>cell_id</th>\n",
       "      <th>VSMC2_A1</th>\n",
       "      <th>VSMC2_A11</th>\n",
       "      <th>VSMC2_A12</th>\n",
       "      <th>VSMC2_A14</th>\n",
       "      <th>VSMC2_A17</th>\n",
       "      <th>VSMC2_A18</th>\n",
       "      <th>VSMC2_A19</th>\n",
       "      <th>VSMC2_A20</th>\n",
       "      <th>VSMC2_A3</th>\n",
       "      <th>VSMC2_A4</th>\n",
       "      <th>...</th>\n",
       "      <th>VSMC3_N7</th>\n",
       "      <th>VSMC3_O1</th>\n",
       "      <th>VSMC3_O10</th>\n",
       "      <th>VSMC3_O11</th>\n",
       "      <th>VSMC3_O14</th>\n",
       "      <th>VSMC3_O18</th>\n",
       "      <th>VSMC3_O21</th>\n",
       "      <th>VSMC3_P11</th>\n",
       "      <th>VSMC3_P18</th>\n",
       "      <th>VSMC3_P19</th>\n",
       "    </tr>\n",
       "    <tr>\n",
       "      <th>cell_type_fine</th>\n",
       "      <th></th>\n",
       "      <th></th>\n",
       "      <th></th>\n",
       "      <th></th>\n",
       "      <th></th>\n",
       "      <th></th>\n",
       "      <th></th>\n",
       "      <th></th>\n",
       "      <th></th>\n",
       "      <th></th>\n",
       "      <th></th>\n",
       "      <th></th>\n",
       "      <th></th>\n",
       "      <th></th>\n",
       "      <th></th>\n",
       "      <th></th>\n",
       "      <th></th>\n",
       "      <th></th>\n",
       "      <th></th>\n",
       "      <th></th>\n",
       "      <th></th>\n",
       "    </tr>\n",
       "  </thead>\n",
       "  <tbody>\n",
       "    <tr>\n",
       "      <th>VSMC2</th>\n",
       "      <td>1</td>\n",
       "      <td>1</td>\n",
       "      <td>1</td>\n",
       "      <td>1</td>\n",
       "      <td>1</td>\n",
       "      <td>1</td>\n",
       "      <td>1</td>\n",
       "      <td>1</td>\n",
       "      <td>1</td>\n",
       "      <td>1</td>\n",
       "      <td>...</td>\n",
       "      <td>0</td>\n",
       "      <td>0</td>\n",
       "      <td>0</td>\n",
       "      <td>0</td>\n",
       "      <td>0</td>\n",
       "      <td>0</td>\n",
       "      <td>0</td>\n",
       "      <td>0</td>\n",
       "      <td>0</td>\n",
       "      <td>0</td>\n",
       "    </tr>\n",
       "    <tr>\n",
       "      <th>VSMC3</th>\n",
       "      <td>0</td>\n",
       "      <td>0</td>\n",
       "      <td>0</td>\n",
       "      <td>0</td>\n",
       "      <td>0</td>\n",
       "      <td>0</td>\n",
       "      <td>0</td>\n",
       "      <td>0</td>\n",
       "      <td>0</td>\n",
       "      <td>0</td>\n",
       "      <td>...</td>\n",
       "      <td>1</td>\n",
       "      <td>1</td>\n",
       "      <td>1</td>\n",
       "      <td>1</td>\n",
       "      <td>1</td>\n",
       "      <td>1</td>\n",
       "      <td>1</td>\n",
       "      <td>1</td>\n",
       "      <td>1</td>\n",
       "      <td>1</td>\n",
       "    </tr>\n",
       "  </tbody>\n",
       "</table>\n",
       "<p>2 rows × 250 columns</p>\n",
       "</div>"
      ],
      "text/plain": [
       "cell_id         VSMC2_A1  VSMC2_A11  VSMC2_A12  VSMC2_A14  VSMC2_A17  \\\n",
       "cell_type_fine                                                         \n",
       "VSMC2                  1          1          1          1          1   \n",
       "VSMC3                  0          0          0          0          0   \n",
       "\n",
       "cell_id         VSMC2_A18  VSMC2_A19  VSMC2_A20  VSMC2_A3  VSMC2_A4  ...  \\\n",
       "cell_type_fine                                                       ...   \n",
       "VSMC2                   1          1          1         1         1  ...   \n",
       "VSMC3                   0          0          0         0         0  ...   \n",
       "\n",
       "cell_id         VSMC3_N7  VSMC3_O1  VSMC3_O10  VSMC3_O11  VSMC3_O14  \\\n",
       "cell_type_fine                                                        \n",
       "VSMC2                  0         0          0          0          0   \n",
       "VSMC3                  1         1          1          1          1   \n",
       "\n",
       "cell_id         VSMC3_O18  VSMC3_O21  VSMC3_P11  VSMC3_P18  VSMC3_P19  \n",
       "cell_type_fine                                                         \n",
       "VSMC2                   0          0          0          0          0  \n",
       "VSMC3                   1          1          1          1          1  \n",
       "\n",
       "[2 rows x 250 columns]"
      ]
     },
     "execution_count": 71,
     "metadata": {},
     "output_type": "execute_result"
    }
   ],
   "source": [
    "pd.crosstab(temp[\"cell_type_fine\"], temp[\"cell_id\"])"
   ]
  },
  {
   "cell_type": "code",
   "execution_count": 72,
   "id": "c5267147-85b4-4e2a-92c0-e8aaf720568f",
   "metadata": {},
   "outputs": [
    {
     "name": "stderr",
     "output_type": "stream",
     "text": [
      "C:\\Users\\sfrerich\\AppData\\Local\\Temp\\ipykernel_14392\\3044782497.py:1: FutureWarning: The default value of regex will change from True to False in a future version.\n",
      "  temp['cell_type_broad'] = temp['cell_type_fine'].str.replace('\\d+', '')\n"
     ]
    },
    {
     "data": {
      "text/plain": [
       "VSMC    250\n",
       "Name: cell_type_broad, dtype: int64"
      ]
     },
     "execution_count": 72,
     "metadata": {},
     "output_type": "execute_result"
    }
   ],
   "source": [
    "temp['cell_type_broad'] = temp['cell_type_fine'].str.replace('\\d+', '')\n",
    "temp.cell_type_broad.value_counts()"
   ]
  },
  {
   "cell_type": "markdown",
   "id": "e3786530-9b8a-40aa-bec1-5e6bae0e614a",
   "metadata": {},
   "source": [
    "Note: Broad cell types match between metadata and anndata objects"
   ]
  },
  {
   "cell_type": "code",
   "execution_count": 73,
   "id": "c7cecab5-d20f-4045-9836-ca27f3dc8186",
   "metadata": {},
   "outputs": [],
   "source": [
    "assert all(ad_astro.obs.reset_index()[\"index\"] == temp.name)\n",
    "assert len(ad_astro.obs) == len(temp)"
   ]
  },
  {
   "cell_type": "code",
   "execution_count": 74,
   "id": "5436757c-fc39-4243-889f-ea3dc93ec501",
   "metadata": {},
   "outputs": [],
   "source": [
    "ad_astro.obs = temp[[\"tissue\",\"cell_id\",\"cell_type_fine\",\"cell_type_broad\",\"name\"]]"
   ]
  },
  {
   "cell_type": "code",
   "execution_count": 75,
   "id": "f30e9719-181d-4b96-b2ec-3adc8f6bff6f",
   "metadata": {},
   "outputs": [
    {
     "name": "stderr",
     "output_type": "stream",
     "text": [
      "C:\\Users\\sfrerich\\AppData\\Local\\Temp\\ipykernel_14392\\1151037147.py:1: SettingWithCopyWarning: \n",
      "A value is trying to be set on a copy of a slice from a DataFrame.\n",
      "Try using .loc[row_indexer,col_indexer] = value instead\n",
      "\n",
      "See the caveats in the documentation: https://pandas.pydata.org/pandas-docs/stable/user_guide/indexing.html#returning-a-view-versus-a-copy\n",
      "  ad_astro.obs[\"annoated cell types\"] = \"AC\"\n"
     ]
    }
   ],
   "source": [
    "ad_astro.obs[\"annoated cell types\"] = \"AC\""
   ]
  },
  {
   "cell_type": "code",
   "execution_count": null,
   "id": "15c2f0a0-e24a-4727-b8ba-4a621edc7da0",
   "metadata": {},
   "outputs": [],
   "source": []
  },
  {
   "cell_type": "markdown",
   "id": "b03cbb15-15f2-42d8-965b-747330a4f668",
   "metadata": {},
   "source": [
    "Merge anndata objects from vasculature and astrocytes"
   ]
  },
  {
   "cell_type": "markdown",
   "id": "b38629c8-8dea-4c26-9f04-fa1e65027667",
   "metadata": {},
   "source": [
    "But first, drop 18 ACs from vasculature dataset. In https://betsholtzlab.org/VascularSingleCells/database.html exactly 250 ACs are shown, presumably from the 250 AC dataset."
   ]
  },
  {
   "cell_type": "code",
   "execution_count": 76,
   "id": "4b803a2f-b0e4-487e-9ed7-d41258acda68",
   "metadata": {},
   "outputs": [],
   "source": [
    "ad = ad[~ad.obs['annoated cell types'].isin(['AC'])]"
   ]
  },
  {
   "cell_type": "code",
   "execution_count": 77,
   "id": "009055d3-302f-49dd-9a5a-2e09a966d3d9",
   "metadata": {},
   "outputs": [
    {
     "data": {
      "text/plain": [
       "View of AnnData object with n_obs × n_vars = 3168 × 19937\n",
       "    obs: 'tissue', 'cell_id', 'cell_type_fine', 'cell_type_broad', 'name', 'GSM ID', 'GSM name', 'organism', 'Mouse ID', 'strain', 'genotype', 'age', 'tissue origin_x', 'annoated cell types', 'BioSample ID', 'SRA ID', 'Sequenced Reads', 'Sample_title', 'Sample_geo_accession', 'tissue origin_y', 'Sample_description'"
      ]
     },
     "execution_count": 77,
     "metadata": {},
     "output_type": "execute_result"
    }
   ],
   "source": [
    "ad"
   ]
  },
  {
   "cell_type": "code",
   "execution_count": 78,
   "id": "964da01e-2b7c-40ea-91a5-7577c30ae8eb",
   "metadata": {},
   "outputs": [
    {
     "data": {
      "text/plain": [
       "AnnData object with n_obs × n_vars = 250 × 24490\n",
       "    obs: 'tissue', 'cell_id', 'cell_type_fine', 'cell_type_broad', 'name', 'annoated cell types'"
      ]
     },
     "execution_count": 78,
     "metadata": {},
     "output_type": "execute_result"
    }
   ],
   "source": [
    "ad_astro"
   ]
  },
  {
   "cell_type": "code",
   "execution_count": null,
   "id": "6dc17dd9-39c1-4b6a-85b5-137fa7fb731e",
   "metadata": {},
   "outputs": [],
   "source": []
  },
  {
   "cell_type": "markdown",
   "id": "055a20d4-8c46-477a-8e0f-d40afb040ef7",
   "metadata": {
    "tags": []
   },
   "source": [
    "Check if data is normalized:"
   ]
  },
  {
   "cell_type": "code",
   "execution_count": 79,
   "id": "bdb7555b-c2d9-4df6-826a-b0fdf5300a1b",
   "metadata": {},
   "outputs": [
    {
     "data": {
      "text/plain": [
       "LayersView with keys: "
      ]
     },
     "execution_count": 79,
     "metadata": {},
     "output_type": "execute_result"
    }
   ],
   "source": [
    "ad.layers"
   ]
  },
  {
   "cell_type": "code",
   "execution_count": 80,
   "id": "679412c1-c821-42fa-9ce6-6139fae366a3",
   "metadata": {},
   "outputs": [
    {
     "data": {
      "image/png": "[encoded data removed]",
      "text/plain": [
       "<Figure size 400x400 with 1 Axes>"
      ]
     },
     "metadata": {},
     "output_type": "display_data"
    }
   ],
   "source": [
    "# show expression of 100 random genes (across all spots)\n",
    "import random\n",
    "import seaborn as sns\n",
    "random_genes=random.sample(range(0, ad.X.shape[1]), 100)\n",
    "adata_sub = ad[:,random_genes]\n",
    "exp=pd.DataFrame(np.matrix(adata_sub.X))\n",
    "# plot\n",
    "pl1=sns.displot(data=pd.melt(exp),x='value',height=4,hue='variable',kind=\"kde\",warn_singular=False,legend=False,palette=list(np.repeat('#086da6',100)), lw=0.3) # genes with 0 expression are excluded\n",
    "pl1.set(xlim=(-0.5, 7),ylim=(0,0.007));\n",
    "plt.show()"
   ]
  },
  {
   "cell_type": "code",
   "execution_count": 81,
   "id": "8d36ea9e-75f1-4593-a70f-12b524e2b3d6",
   "metadata": {},
   "outputs": [
    {
     "data": {
      "image/png": "[encoded data removed]",
      "text/plain": [
       "<Figure size 400x400 with 1 Axes>"
      ]
     },
     "metadata": {},
     "output_type": "display_data"
    }
   ],
   "source": [
    "sns.set(rc={'figure.figsize':(4,4)})\n",
    "pl=sns.histplot(data=pd.melt(exp),x='value',binwidth=0.5,legend=True,palette=list(np.repeat('#086da6',100)))\n",
    "pl.set(xlim=(0, 10));\n",
    "plt.show()"
   ]
  },
  {
   "cell_type": "code",
   "execution_count": 82,
   "id": "e7a596ee-a4cd-4abb-a34b-54c6aa4a7e48",
   "metadata": {},
   "outputs": [
    {
     "data": {
      "text/html": [
       "<div>\n",
       "<style scoped>\n",
       "    .dataframe tbody tr th:only-of-type {\n",
       "        vertical-align: middle;\n",
       "    }\n",
       "\n",
       "    .dataframe tbody tr th {\n",
       "        vertical-align: top;\n",
       "    }\n",
       "\n",
       "    .dataframe thead th {\n",
       "        text-align: right;\n",
       "    }\n",
       "</style>\n",
       "<table border=\"1\" class=\"dataframe\">\n",
       "  <thead>\n",
       "    <tr style=\"text-align: right;\">\n",
       "      <th></th>\n",
       "      <th>0</th>\n",
       "      <th>1</th>\n",
       "      <th>2</th>\n",
       "      <th>3</th>\n",
       "      <th>4</th>\n",
       "      <th>5</th>\n",
       "      <th>6</th>\n",
       "      <th>7</th>\n",
       "      <th>8</th>\n",
       "      <th>9</th>\n",
       "      <th>...</th>\n",
       "      <th>90</th>\n",
       "      <th>91</th>\n",
       "      <th>92</th>\n",
       "      <th>93</th>\n",
       "      <th>94</th>\n",
       "      <th>95</th>\n",
       "      <th>96</th>\n",
       "      <th>97</th>\n",
       "      <th>98</th>\n",
       "      <th>99</th>\n",
       "    </tr>\n",
       "  </thead>\n",
       "  <tbody>\n",
       "    <tr>\n",
       "      <th>0</th>\n",
       "      <td>0.0</td>\n",
       "      <td>0.0</td>\n",
       "      <td>0.0</td>\n",
       "      <td>0.0</td>\n",
       "      <td>0.0</td>\n",
       "      <td>0.0</td>\n",
       "      <td>0.0</td>\n",
       "      <td>281.0</td>\n",
       "      <td>13.0</td>\n",
       "      <td>120.0</td>\n",
       "      <td>...</td>\n",
       "      <td>0.0</td>\n",
       "      <td>0.0</td>\n",
       "      <td>0.0</td>\n",
       "      <td>575.0</td>\n",
       "      <td>0.0</td>\n",
       "      <td>0.0</td>\n",
       "      <td>0.0</td>\n",
       "      <td>0.0</td>\n",
       "      <td>0.0</td>\n",
       "      <td>0.0</td>\n",
       "    </tr>\n",
       "    <tr>\n",
       "      <th>1</th>\n",
       "      <td>0.0</td>\n",
       "      <td>0.0</td>\n",
       "      <td>0.0</td>\n",
       "      <td>0.0</td>\n",
       "      <td>81.0</td>\n",
       "      <td>0.0</td>\n",
       "      <td>0.0</td>\n",
       "      <td>0.0</td>\n",
       "      <td>8.0</td>\n",
       "      <td>109.0</td>\n",
       "      <td>...</td>\n",
       "      <td>0.0</td>\n",
       "      <td>0.0</td>\n",
       "      <td>0.0</td>\n",
       "      <td>0.0</td>\n",
       "      <td>0.0</td>\n",
       "      <td>0.0</td>\n",
       "      <td>0.0</td>\n",
       "      <td>0.0</td>\n",
       "      <td>0.0</td>\n",
       "      <td>0.0</td>\n",
       "    </tr>\n",
       "    <tr>\n",
       "      <th>2</th>\n",
       "      <td>0.0</td>\n",
       "      <td>0.0</td>\n",
       "      <td>0.0</td>\n",
       "      <td>0.0</td>\n",
       "      <td>0.0</td>\n",
       "      <td>0.0</td>\n",
       "      <td>0.0</td>\n",
       "      <td>244.0</td>\n",
       "      <td>0.0</td>\n",
       "      <td>147.0</td>\n",
       "      <td>...</td>\n",
       "      <td>0.0</td>\n",
       "      <td>3.0</td>\n",
       "      <td>0.0</td>\n",
       "      <td>0.0</td>\n",
       "      <td>0.0</td>\n",
       "      <td>0.0</td>\n",
       "      <td>0.0</td>\n",
       "      <td>0.0</td>\n",
       "      <td>0.0</td>\n",
       "      <td>0.0</td>\n",
       "    </tr>\n",
       "    <tr>\n",
       "      <th>3</th>\n",
       "      <td>0.0</td>\n",
       "      <td>0.0</td>\n",
       "      <td>0.0</td>\n",
       "      <td>0.0</td>\n",
       "      <td>1060.0</td>\n",
       "      <td>0.0</td>\n",
       "      <td>0.0</td>\n",
       "      <td>0.0</td>\n",
       "      <td>0.0</td>\n",
       "      <td>0.0</td>\n",
       "      <td>...</td>\n",
       "      <td>0.0</td>\n",
       "      <td>0.0</td>\n",
       "      <td>0.0</td>\n",
       "      <td>0.0</td>\n",
       "      <td>0.0</td>\n",
       "      <td>0.0</td>\n",
       "      <td>0.0</td>\n",
       "      <td>0.0</td>\n",
       "      <td>0.0</td>\n",
       "      <td>0.0</td>\n",
       "    </tr>\n",
       "    <tr>\n",
       "      <th>4</th>\n",
       "      <td>0.0</td>\n",
       "      <td>0.0</td>\n",
       "      <td>0.0</td>\n",
       "      <td>0.0</td>\n",
       "      <td>148.0</td>\n",
       "      <td>4.0</td>\n",
       "      <td>0.0</td>\n",
       "      <td>0.0</td>\n",
       "      <td>5.0</td>\n",
       "      <td>0.0</td>\n",
       "      <td>...</td>\n",
       "      <td>0.0</td>\n",
       "      <td>0.0</td>\n",
       "      <td>0.0</td>\n",
       "      <td>0.0</td>\n",
       "      <td>0.0</td>\n",
       "      <td>0.0</td>\n",
       "      <td>0.0</td>\n",
       "      <td>0.0</td>\n",
       "      <td>0.0</td>\n",
       "      <td>0.0</td>\n",
       "    </tr>\n",
       "  </tbody>\n",
       "</table>\n",
       "<p>5 rows × 100 columns</p>\n",
       "</div>"
      ],
      "text/plain": [
       "    0    1    2    3       4    5    6      7     8      9   ...   90   91  \\\n",
       "0  0.0  0.0  0.0  0.0     0.0  0.0  0.0  281.0  13.0  120.0  ...  0.0  0.0   \n",
       "1  0.0  0.0  0.0  0.0    81.0  0.0  0.0    0.0   8.0  109.0  ...  0.0  0.0   \n",
       "2  0.0  0.0  0.0  0.0     0.0  0.0  0.0  244.0   0.0  147.0  ...  0.0  3.0   \n",
       "3  0.0  0.0  0.0  0.0  1060.0  0.0  0.0    0.0   0.0    0.0  ...  0.0  0.0   \n",
       "4  0.0  0.0  0.0  0.0   148.0  4.0  0.0    0.0   5.0    0.0  ...  0.0  0.0   \n",
       "\n",
       "    92     93   94   95   96   97   98   99  \n",
       "0  0.0  575.0  0.0  0.0  0.0  0.0  0.0  0.0  \n",
       "1  0.0    0.0  0.0  0.0  0.0  0.0  0.0  0.0  \n",
       "2  0.0    0.0  0.0  0.0  0.0  0.0  0.0  0.0  \n",
       "3  0.0    0.0  0.0  0.0  0.0  0.0  0.0  0.0  \n",
       "4  0.0    0.0  0.0  0.0  0.0  0.0  0.0  0.0  \n",
       "\n",
       "[5 rows x 100 columns]"
      ]
     },
     "execution_count": 82,
     "metadata": {},
     "output_type": "execute_result"
    }
   ],
   "source": [
    "exp.head()"
   ]
  },
  {
   "cell_type": "markdown",
   "id": "53afe76e-fbb7-4ad4-83ae-1ecda579266f",
   "metadata": {},
   "source": [
    "Note: Data is normalized by definition (see file name)"
   ]
  },
  {
   "cell_type": "code",
   "execution_count": null,
   "id": "5399fe36-0851-40c4-b766-d04a3a23bf09",
   "metadata": {},
   "outputs": [],
   "source": []
  },
  {
   "cell_type": "code",
   "execution_count": 83,
   "id": "9cf6ccdd-9d1c-4e4f-9ff9-a64086ae8160",
   "metadata": {},
   "outputs": [
    {
     "name": "stderr",
     "output_type": "stream",
     "text": [
      "D:\\Programme\\Anaconda\\envs\\squidpy\\lib\\site-packages\\anndata\\_core\\anndata.py:121: ImplicitModificationWarning: Transforming to str index.\n",
      "  warnings.warn(\"Transforming to str index.\", ImplicitModificationWarning)\n",
      "D:\\Programme\\Anaconda\\envs\\squidpy\\lib\\site-packages\\anndata\\_core\\anndata.py:1828: UserWarning: Observation names are not unique. To make them unique, call `.obs_names_make_unique`.\n",
      "  utils.warn_names_duplicates(\"obs\")\n"
     ]
    }
   ],
   "source": [
    "ad_merged = anndata.concat([ad, ad_astro], join=\"inner\")"
   ]
  },
  {
   "cell_type": "code",
   "execution_count": 84,
   "id": "793f4db6-4f9b-4ec5-a2dc-a308adbcc376",
   "metadata": {},
   "outputs": [
    {
     "data": {
      "text/plain": [
       "AnnData object with n_obs × n_vars = 3418 × 19937\n",
       "    obs: 'tissue', 'cell_id', 'cell_type_fine', 'cell_type_broad', 'name', 'annoated cell types'"
      ]
     },
     "execution_count": 84,
     "metadata": {},
     "output_type": "execute_result"
    }
   ],
   "source": [
    "ad_merged"
   ]
  },
  {
   "cell_type": "code",
   "execution_count": 85,
   "id": "1ec5f03a-4a62-44a1-b044-2a6c92443528",
   "metadata": {},
   "outputs": [
    {
     "data": {
      "text/html": [
       "<div>\n",
       "<style scoped>\n",
       "    .dataframe tbody tr th:only-of-type {\n",
       "        vertical-align: middle;\n",
       "    }\n",
       "\n",
       "    .dataframe tbody tr th {\n",
       "        vertical-align: top;\n",
       "    }\n",
       "\n",
       "    .dataframe thead th {\n",
       "        text-align: right;\n",
       "    }\n",
       "</style>\n",
       "<table border=\"1\" class=\"dataframe\">\n",
       "  <thead>\n",
       "    <tr style=\"text-align: right;\">\n",
       "      <th></th>\n",
       "      <th>tissue</th>\n",
       "      <th>cell_id</th>\n",
       "      <th>cell_type_fine</th>\n",
       "      <th>cell_type_broad</th>\n",
       "      <th>name</th>\n",
       "      <th>annoated cell types</th>\n",
       "    </tr>\n",
       "  </thead>\n",
       "  <tbody>\n",
       "    <tr>\n",
       "      <th>0</th>\n",
       "      <td>Brain</td>\n",
       "      <td>Mural3_A13</td>\n",
       "      <td>Mural3</td>\n",
       "      <td>Mural</td>\n",
       "      <td>Brain.Mural3_A13</td>\n",
       "      <td>PC</td>\n",
       "    </tr>\n",
       "    <tr>\n",
       "      <th>1</th>\n",
       "      <td>Brain</td>\n",
       "      <td>Mural3_A14</td>\n",
       "      <td>Mural3</td>\n",
       "      <td>Mural</td>\n",
       "      <td>Brain.Mural3_A14</td>\n",
       "      <td>vSMC</td>\n",
       "    </tr>\n",
       "    <tr>\n",
       "      <th>2</th>\n",
       "      <td>Brain</td>\n",
       "      <td>Mural3_A6</td>\n",
       "      <td>Mural3</td>\n",
       "      <td>Mural</td>\n",
       "      <td>Brain.Mural3_A6</td>\n",
       "      <td>PC</td>\n",
       "    </tr>\n",
       "  </tbody>\n",
       "</table>\n",
       "</div>"
      ],
      "text/plain": [
       "  tissue     cell_id cell_type_fine cell_type_broad              name  \\\n",
       "0  Brain  Mural3_A13         Mural3           Mural  Brain.Mural3_A13   \n",
       "1  Brain  Mural3_A14         Mural3           Mural  Brain.Mural3_A14   \n",
       "2  Brain   Mural3_A6         Mural3           Mural   Brain.Mural3_A6   \n",
       "\n",
       "  annoated cell types  \n",
       "0                  PC  \n",
       "1                vSMC  \n",
       "2                  PC  "
      ]
     },
     "execution_count": 85,
     "metadata": {},
     "output_type": "execute_result"
    }
   ],
   "source": [
    "ad_merged.obs.head(3)"
   ]
  },
  {
   "cell_type": "code",
   "execution_count": 86,
   "id": "da8f5484-51a5-42b1-8854-672fe906621f",
   "metadata": {},
   "outputs": [
    {
     "ename": "KeyError",
     "evalue": "'X_umap'",
     "output_type": "error",
     "traceback": [
      "\u001b[1;31m---------------------------------------------------------------------------\u001b[0m",
      "\u001b[1;31mKeyError\u001b[0m                                  Traceback (most recent call last)",
      "Cell \u001b[1;32mIn [86], line 1\u001b[0m\n\u001b[1;32m----> 1\u001b[0m \u001b[43mad_merged\u001b[49m\u001b[38;5;241;43m.\u001b[39;49m\u001b[43mobsm\u001b[49m\u001b[43m[\u001b[49m\u001b[38;5;124;43m'\u001b[39;49m\u001b[38;5;124;43mX_umap\u001b[39;49m\u001b[38;5;124;43m'\u001b[39;49m\u001b[43m]\u001b[49m\n",
      "File \u001b[1;32mD:\\Programme\\Anaconda\\envs\\squidpy\\lib\\site-packages\\anndata\\_core\\aligned_mapping.py:148\u001b[0m, in \u001b[0;36mAlignedActualMixin.__getitem__\u001b[1;34m(self, key)\u001b[0m\n\u001b[0;32m    147\u001b[0m \u001b[38;5;28;01mdef\u001b[39;00m \u001b[38;5;21m__getitem__\u001b[39m(\u001b[38;5;28mself\u001b[39m, key: \u001b[38;5;28mstr\u001b[39m) \u001b[38;5;241m-\u001b[39m\u001b[38;5;241m>\u001b[39m V:\n\u001b[1;32m--> 148\u001b[0m     \u001b[38;5;28;01mreturn\u001b[39;00m \u001b[38;5;28;43mself\u001b[39;49m\u001b[38;5;241;43m.\u001b[39;49m\u001b[43m_data\u001b[49m\u001b[43m[\u001b[49m\u001b[43mkey\u001b[49m\u001b[43m]\u001b[49m\n",
      "\u001b[1;31mKeyError\u001b[0m: 'X_umap'"
     ]
    }
   ],
   "source": [
    "ad_merged.obsm['X_umap'] # no umap available as expected"
   ]
  },
  {
   "cell_type": "code",
   "execution_count": 87,
   "id": "49a968d0-fc42-4c3c-ad17-f09c2130acca",
   "metadata": {},
   "outputs": [],
   "source": [
    "ad_merged.obs[\"clusters_fine\"] = ad_merged.obs[\"annoated cell types\"]"
   ]
  },
  {
   "cell_type": "code",
   "execution_count": 88,
   "id": "62b9d290-8d35-4f69-91a4-031ab752fe59",
   "metadata": {},
   "outputs": [],
   "source": [
    "ad_merged.obs[\"clusters\"] = ad_merged.obs[\"annoated cell types\"]"
   ]
  },
  {
   "cell_type": "code",
   "execution_count": null,
   "id": "f2419b18-bbcb-4a86-b377-af0a00f7816f",
   "metadata": {},
   "outputs": [],
   "source": []
  },
  {
   "cell_type": "code",
   "execution_count": 89,
   "id": "7568ab8a-86dc-4698-880f-7a3d16fbe1f1",
   "metadata": {},
   "outputs": [
    {
     "name": "stdout",
     "output_type": "stream",
     "text": [
      "{'AC': 'Astrocytes', 'EC1': 'ECs', 'EC2': 'ECs', 'EC3': 'ECs', 'FB1': 'Fibroblasts', 'FB2': 'Fibroblasts', 'MG': 'Microglia', 'OL': 'Oligos', 'PC': 'Pericytes', 'aEC': 'ECs', 'aSMC': 'SMCs', 'aaSMC': 'SMCs', 'capilEC': 'ECs', 'vEC': 'ECs', 'vSMC': 'SMCs'}\n"
     ]
    }
   ],
   "source": [
    "# merge subclusters\n",
    "new_names = {\n",
    "    'ECs': {'EC1','EC2','EC3','aEC','vEC','capilEC'},\n",
    "    'Pericytes': {'PC'},\n",
    "    'SMCs': {'aSMC','aaSMC','vSMC'},\n",
    "    'Oligos': {'OL'},\n",
    "    'Fibroblasts': {'FB1', 'FB2'},\n",
    "    'Microglia': {'MG'},\n",
    "    'Astrocytes': {'AC'}\n",
    "}\n",
    "# re-format\n",
    "result = {}\n",
    "for key, value in new_names.items():\n",
    "    for elem in value:\n",
    "        result[(elem)] = key\n",
    "new_cluster_names = dict(sorted(result.items()))\n",
    "print(new_cluster_names)"
   ]
  },
  {
   "cell_type": "code",
   "execution_count": 90,
   "id": "616f4533-53d2-490b-ad85-79dd33a3251a",
   "metadata": {},
   "outputs": [],
   "source": [
    "ad_merged.obs['clusters'] = (\n",
    "    ad_merged.obs['clusters']\n",
    "    .map(new_cluster_names)\n",
    "    .astype('category')\n",
    ")"
   ]
  },
  {
   "cell_type": "code",
   "execution_count": null,
   "id": "f5a035e7-cb44-4f51-a5f2-a2622ef4f7c5",
   "metadata": {},
   "outputs": [],
   "source": []
  },
  {
   "cell_type": "code",
   "execution_count": 91,
   "id": "e9066479-9251-427c-a246-f8d65c4a4ec9",
   "metadata": {},
   "outputs": [],
   "source": [
    "# alternative: keep AV zonation"
   ]
  },
  {
   "cell_type": "code",
   "execution_count": 92,
   "id": "53ba3013-fd3d-43d1-9b06-1ccfea0c0ace",
   "metadata": {},
   "outputs": [
    {
     "name": "stdout",
     "output_type": "stream",
     "text": [
      "{'AC': 'Astrocytes', 'EC1': 'ECs_non_AV', 'EC2': 'ECs_non_AV', 'EC3': 'ECs_non_AV', 'FB1': 'Fibroblasts', 'FB2': 'Fibroblasts', 'MG': 'Microglia', 'OL': 'Oligos', 'PC': 'Pericytes', 'aEC': 'ECs_Arterial', 'aSMC': 'SMCs', 'aaSMC': 'SMCs', 'capilEC': 'ECs_Capillary', 'vEC': 'ECs_Venous', 'vSMC': 'SMCs'}\n"
     ]
    }
   ],
   "source": [
    "# merge subclusters\n",
    "new_names = {\n",
    "    'ECs_non_AV': {'EC1','EC2','EC3'},\n",
    "    'ECs_Arterial': {'aEC'},\n",
    "    'ECs_Capillary': {'capilEC'},\n",
    "    'ECs_Venous': {'vEC'},\n",
    "    'Pericytes': {'PC'},\n",
    "    'SMCs': {'aSMC','aaSMC','vSMC'},\n",
    "    'Oligos': {'OL'},\n",
    "    'Fibroblasts': {'FB1', 'FB2'},\n",
    "    'Microglia': {'MG'},\n",
    "    'Astrocytes': {'AC'}\n",
    "}\n",
    "# re-format\n",
    "result = {}\n",
    "for key, value in new_names.items():\n",
    "    for elem in value:\n",
    "        result[(elem)] = key\n",
    "new_cluster_names = dict(sorted(result.items()))\n",
    "print(new_cluster_names)"
   ]
  },
  {
   "cell_type": "code",
   "execution_count": 93,
   "id": "b066f9f3-020f-4775-8113-febc8e16ac7e",
   "metadata": {},
   "outputs": [],
   "source": [
    "# fine annotation\n",
    "ad_merged.obs['clusters2'] = (\n",
    "    ad_merged.obs['clusters_fine']\n",
    "    .map(new_cluster_names)\n",
    "    .astype('category')\n",
    ")"
   ]
  },
  {
   "cell_type": "code",
   "execution_count": 94,
   "id": "e02fa70e-1366-488f-8890-5ccb2292e12c",
   "metadata": {},
   "outputs": [
    {
     "data": {
      "text/plain": [
       "ECs            1528\n",
       "Pericytes      1088\n",
       "SMCs            297\n",
       "Astrocytes      250\n",
       "Oligos          155\n",
       "Fibroblasts      86\n",
       "Microglia        14\n",
       "Name: clusters, dtype: int64"
      ]
     },
     "execution_count": 94,
     "metadata": {},
     "output_type": "execute_result"
    }
   ],
   "source": [
    "ad_merged.obs.clusters.value_counts()"
   ]
  },
  {
   "cell_type": "code",
   "execution_count": 95,
   "id": "623e0bc6-ac1c-4f2d-8e8b-ab58c0840b9f",
   "metadata": {},
   "outputs": [
    {
     "data": {
      "text/plain": [
       "Pericytes        1088\n",
       "ECs_non_AV        428\n",
       "ECs_Capillary     405\n",
       "ECs_Arterial      397\n",
       "ECs_Venous        298\n",
       "SMCs              297\n",
       "Astrocytes        250\n",
       "Oligos            155\n",
       "Fibroblasts        86\n",
       "Microglia          14\n",
       "Name: clusters2, dtype: int64"
      ]
     },
     "execution_count": 95,
     "metadata": {},
     "output_type": "execute_result"
    }
   ],
   "source": [
    "ad_merged.obs.clusters2.value_counts()"
   ]
  },
  {
   "cell_type": "code",
   "execution_count": null,
   "id": "328ee0ba-cc7a-4017-9066-fb5904ccd1e4",
   "metadata": {},
   "outputs": [],
   "source": []
  },
  {
   "cell_type": "code",
   "execution_count": 96,
   "id": "acb62e36-108e-4128-980e-5f6561765567",
   "metadata": {},
   "outputs": [
    {
     "data": {
      "text/plain": [
       "ECs            1528\n",
       "Pericytes      1088\n",
       "SMCs            297\n",
       "Astrocytes      250\n",
       "Oligos          155\n",
       "Fibroblasts      86\n",
       "Microglia        14\n",
       "Name: clusters, dtype: int64"
      ]
     },
     "execution_count": 96,
     "metadata": {},
     "output_type": "execute_result"
    }
   ],
   "source": [
    "# exclude clusters with <50 cells\n",
    "cluster_counts = ad_merged.obs['clusters'].value_counts()\n",
    "cluster_counts"
   ]
  },
  {
   "cell_type": "code",
   "execution_count": 97,
   "id": "fafaacef-d105-4e06-9345-668564762f16",
   "metadata": {},
   "outputs": [],
   "source": [
    "ad_merged = ad_merged[ad_merged.obs['clusters'].isin(cluster_counts[cluster_counts>49].index)]"
   ]
  },
  {
   "cell_type": "markdown",
   "id": "88cfff1d-e493-4ccd-a202-3de2fcaeb44a",
   "metadata": {
    "tags": []
   },
   "source": [
    "# Focus on: Foxf2"
   ]
  },
  {
   "cell_type": "code",
   "execution_count": 98,
   "id": "299f8552-3252-49a4-b5b8-6d8592a79f23",
   "metadata": {},
   "outputs": [],
   "source": [
    "gene=\"Foxf2\""
   ]
  },
  {
   "cell_type": "markdown",
   "id": "62bc37ef-c0ee-43de-b7ce-33f21c2f1960",
   "metadata": {},
   "source": [
    "## Plot"
   ]
  },
  {
   "cell_type": "code",
   "execution_count": 99,
   "id": "40c22685-7d9a-41a9-a441-bf2a4f862f0e",
   "metadata": {},
   "outputs": [
    {
     "name": "stderr",
     "output_type": "stream",
     "text": [
      "D:\\Programme\\Anaconda\\envs\\squidpy\\lib\\site-packages\\anndata\\_core\\anndata.py:1235: ImplicitModificationWarning: Trying to modify attribute `.obs` of view, initializing view as actual.\n",
      "  df[key] = c\n",
      "D:\\Programme\\Anaconda\\envs\\squidpy\\lib\\site-packages\\anndata\\_core\\anndata.py:1828: UserWarning: Observation names are not unique. To make them unique, call `.obs_names_make_unique`.\n",
      "  utils.warn_names_duplicates(\"obs\")\n"
     ]
    },
    {
     "data": {
      "image/png": "[encoded data removed]",
      "text/plain": [
       "<Figure size 200x500 with 3 Axes>"
      ]
     },
     "metadata": {},
     "output_type": "display_data"
    }
   ],
   "source": [
    "sns.set_theme(style='white')\n",
    "sc.pl.matrixplot(ad_merged, [gene], groupby='clusters', swap_axes=False, figsize=(2,5), standard_scale=\"var\")"
   ]
  },
  {
   "cell_type": "code",
   "execution_count": 107,
   "id": "3741e958-170d-4f9d-9521-6a0852dcad06",
   "metadata": {},
   "outputs": [
    {
     "data": {
      "image/png": "[encoded data removed]",
      "text/plain": [
       "<Figure size 200x500 with 3 Axes>"
      ]
     },
     "metadata": {},
     "output_type": "display_data"
    }
   ],
   "source": [
    "sc.pl.matrixplot(ad_merged, [gene], groupby='clusters2', swap_axes=False, figsize=(2,5), standard_scale=\"var\")"
   ]
  },
  {
   "cell_type": "code",
   "execution_count": 108,
   "id": "b0ec99b6-c7b2-4805-8af9-817a637809a2",
   "metadata": {},
   "outputs": [
    {
     "data": {
      "image/png": "[encoded data removed]",
      "text/plain": [
       "<Figure size 200x500 with 4 Axes>"
      ]
     },
     "metadata": {},
     "output_type": "display_data"
    }
   ],
   "source": [
    "sc.pl.dotplot(ad_merged, [gene], groupby='clusters', swap_axes=False, figsize=(2,5), standard_scale=\"var\")"
   ]
  },
  {
   "cell_type": "code",
   "execution_count": 109,
   "id": "26ed2532-7878-42a7-b972-144c53edbbb5",
   "metadata": {},
   "outputs": [
    {
     "data": {
      "image/png": "[encoded data removed]",
      "text/plain": [
       "<Figure size 200x500 with 4 Axes>"
      ]
     },
     "metadata": {},
     "output_type": "display_data"
    }
   ],
   "source": [
    "sc.pl.dotplot(ad_merged, [gene], groupby='clusters2', swap_axes=False, figsize=(2,5), standard_scale=\"var\")"
   ]
  },
  {
   "cell_type": "markdown",
   "id": "362887fb-5540-491b-9bea-2ae80a37ff72",
   "metadata": {},
   "source": [
    "## Excl zonation"
   ]
  },
  {
   "cell_type": "code",
   "execution_count": 110,
   "id": "a5943166-b9b4-47a6-8361-68aec1c04505",
   "metadata": {},
   "outputs": [
    {
     "data": {
      "text/html": [
       "<div>\n",
       "<style scoped>\n",
       "    .dataframe tbody tr th:only-of-type {\n",
       "        vertical-align: middle;\n",
       "    }\n",
       "\n",
       "    .dataframe tbody tr th {\n",
       "        vertical-align: top;\n",
       "    }\n",
       "\n",
       "    .dataframe thead th {\n",
       "        text-align: right;\n",
       "    }\n",
       "</style>\n",
       "<table border=\"1\" class=\"dataframe\">\n",
       "  <thead>\n",
       "    <tr style=\"text-align: right;\">\n",
       "      <th></th>\n",
       "      <th>mean_expression</th>\n",
       "    </tr>\n",
       "    <tr>\n",
       "      <th>clusters</th>\n",
       "      <th></th>\n",
       "    </tr>\n",
       "  </thead>\n",
       "  <tbody>\n",
       "    <tr>\n",
       "      <th>Astrocytes</th>\n",
       "      <td>0.000066</td>\n",
       "    </tr>\n",
       "    <tr>\n",
       "      <th>ECs</th>\n",
       "      <td>1.000000</td>\n",
       "    </tr>\n",
       "    <tr>\n",
       "      <th>Fibroblasts</th>\n",
       "      <td>0.293552</td>\n",
       "    </tr>\n",
       "    <tr>\n",
       "      <th>Oligos</th>\n",
       "      <td>0.000000</td>\n",
       "    </tr>\n",
       "    <tr>\n",
       "      <th>Pericytes</th>\n",
       "      <td>0.853845</td>\n",
       "    </tr>\n",
       "    <tr>\n",
       "      <th>SMCs</th>\n",
       "      <td>0.247018</td>\n",
       "    </tr>\n",
       "  </tbody>\n",
       "</table>\n",
       "</div>"
      ],
      "text/plain": [
       "             mean_expression\n",
       "clusters                    \n",
       "Astrocytes          0.000066\n",
       "ECs                 1.000000\n",
       "Fibroblasts         0.293552\n",
       "Oligos              0.000000\n",
       "Pericytes           0.853845\n",
       "SMCs                0.247018"
      ]
     },
     "execution_count": 110,
     "metadata": {},
     "output_type": "execute_result"
    }
   ],
   "source": [
    "# mean expression per group (normalized and scaled)\n",
    "ex = sc.pl.matrixplot(ad_merged, [gene], groupby='clusters', swap_axes=False, figsize=(2,5), standard_scale=\"var\", return_fig=True).values_df\n",
    "ex.columns = ['mean_expression']\n",
    "ex"
   ]
  },
  {
   "cell_type": "code",
   "execution_count": 111,
   "id": "518b3f7e-427e-41b7-a44a-7ef95ab4bf38",
   "metadata": {},
   "outputs": [
    {
     "data": {
      "text/html": [
       "<div>\n",
       "<style scoped>\n",
       "    .dataframe tbody tr th:only-of-type {\n",
       "        vertical-align: middle;\n",
       "    }\n",
       "\n",
       "    .dataframe tbody tr th {\n",
       "        vertical-align: top;\n",
       "    }\n",
       "\n",
       "    .dataframe thead th {\n",
       "        text-align: right;\n",
       "    }\n",
       "</style>\n",
       "<table border=\"1\" class=\"dataframe\">\n",
       "  <thead>\n",
       "    <tr style=\"text-align: right;\">\n",
       "      <th></th>\n",
       "      <th>fraction_of_cells</th>\n",
       "    </tr>\n",
       "    <tr>\n",
       "      <th>clusters</th>\n",
       "      <th></th>\n",
       "    </tr>\n",
       "  </thead>\n",
       "  <tbody>\n",
       "    <tr>\n",
       "      <th>Astrocytes</th>\n",
       "      <td>0.044000</td>\n",
       "    </tr>\n",
       "    <tr>\n",
       "      <th>ECs</th>\n",
       "      <td>0.752618</td>\n",
       "    </tr>\n",
       "    <tr>\n",
       "      <th>Fibroblasts</th>\n",
       "      <td>0.476744</td>\n",
       "    </tr>\n",
       "    <tr>\n",
       "      <th>Oligos</th>\n",
       "      <td>0.025806</td>\n",
       "    </tr>\n",
       "    <tr>\n",
       "      <th>Pericytes</th>\n",
       "      <td>0.585478</td>\n",
       "    </tr>\n",
       "    <tr>\n",
       "      <th>SMCs</th>\n",
       "      <td>0.340067</td>\n",
       "    </tr>\n",
       "  </tbody>\n",
       "</table>\n",
       "</div>"
      ],
      "text/plain": [
       "             fraction_of_cells\n",
       "clusters                      \n",
       "Astrocytes            0.044000\n",
       "ECs                   0.752618\n",
       "Fibroblasts           0.476744\n",
       "Oligos                0.025806\n",
       "Pericytes             0.585478\n",
       "SMCs                  0.340067"
      ]
     },
     "execution_count": 111,
     "metadata": {},
     "output_type": "execute_result"
    }
   ],
   "source": [
    "# dotplot dot size = fraction of cells in group expressing Foxf2\n",
    "fc = sc.pl.dotplot(ad_merged, [gene], groupby='clusters', swap_axes=False, figsize=(2,7), standard_scale=\"var\",return_fig=True).dot_size_df\n",
    "fc.columns = ['fraction_of_cells']\n",
    "fc"
   ]
  },
  {
   "cell_type": "code",
   "execution_count": 112,
   "id": "6622af21-8d31-4a72-ba55-a2842053d278",
   "metadata": {},
   "outputs": [
    {
     "data": {
      "text/html": [
       "<div>\n",
       "<style scoped>\n",
       "    .dataframe tbody tr th:only-of-type {\n",
       "        vertical-align: middle;\n",
       "    }\n",
       "\n",
       "    .dataframe tbody tr th {\n",
       "        vertical-align: top;\n",
       "    }\n",
       "\n",
       "    .dataframe thead th {\n",
       "        text-align: right;\n",
       "    }\n",
       "</style>\n",
       "<table border=\"1\" class=\"dataframe\">\n",
       "  <thead>\n",
       "    <tr style=\"text-align: right;\">\n",
       "      <th></th>\n",
       "      <th>mean_expression</th>\n",
       "      <th>fraction_of_cells</th>\n",
       "      <th>gene</th>\n",
       "      <th>source</th>\n",
       "      <th>organism</th>\n",
       "      <th>cell_number</th>\n",
       "    </tr>\n",
       "    <tr>\n",
       "      <th>clusters</th>\n",
       "      <th></th>\n",
       "      <th></th>\n",
       "      <th></th>\n",
       "      <th></th>\n",
       "      <th></th>\n",
       "      <th></th>\n",
       "    </tr>\n",
       "  </thead>\n",
       "  <tbody>\n",
       "    <tr>\n",
       "      <th>Astrocytes</th>\n",
       "      <td>0.000066</td>\n",
       "      <td>0.044000</td>\n",
       "      <td>Foxf2</td>\n",
       "      <td>Vanlandewijck2018</td>\n",
       "      <td>Mouse</td>\n",
       "      <td>250</td>\n",
       "    </tr>\n",
       "    <tr>\n",
       "      <th>ECs</th>\n",
       "      <td>1.000000</td>\n",
       "      <td>0.752618</td>\n",
       "      <td>Foxf2</td>\n",
       "      <td>Vanlandewijck2018</td>\n",
       "      <td>Mouse</td>\n",
       "      <td>1528</td>\n",
       "    </tr>\n",
       "    <tr>\n",
       "      <th>Fibroblasts</th>\n",
       "      <td>0.293552</td>\n",
       "      <td>0.476744</td>\n",
       "      <td>Foxf2</td>\n",
       "      <td>Vanlandewijck2018</td>\n",
       "      <td>Mouse</td>\n",
       "      <td>86</td>\n",
       "    </tr>\n",
       "    <tr>\n",
       "      <th>Oligos</th>\n",
       "      <td>0.000000</td>\n",
       "      <td>0.025806</td>\n",
       "      <td>Foxf2</td>\n",
       "      <td>Vanlandewijck2018</td>\n",
       "      <td>Mouse</td>\n",
       "      <td>155</td>\n",
       "    </tr>\n",
       "    <tr>\n",
       "      <th>Pericytes</th>\n",
       "      <td>0.853845</td>\n",
       "      <td>0.585478</td>\n",
       "      <td>Foxf2</td>\n",
       "      <td>Vanlandewijck2018</td>\n",
       "      <td>Mouse</td>\n",
       "      <td>1088</td>\n",
       "    </tr>\n",
       "    <tr>\n",
       "      <th>SMCs</th>\n",
       "      <td>0.247018</td>\n",
       "      <td>0.340067</td>\n",
       "      <td>Foxf2</td>\n",
       "      <td>Vanlandewijck2018</td>\n",
       "      <td>Mouse</td>\n",
       "      <td>297</td>\n",
       "    </tr>\n",
       "  </tbody>\n",
       "</table>\n",
       "</div>"
      ],
      "text/plain": [
       "             mean_expression  fraction_of_cells   gene             source  \\\n",
       "clusters                                                                    \n",
       "Astrocytes          0.000066           0.044000  Foxf2  Vanlandewijck2018   \n",
       "ECs                 1.000000           0.752618  Foxf2  Vanlandewijck2018   \n",
       "Fibroblasts         0.293552           0.476744  Foxf2  Vanlandewijck2018   \n",
       "Oligos              0.000000           0.025806  Foxf2  Vanlandewijck2018   \n",
       "Pericytes           0.853845           0.585478  Foxf2  Vanlandewijck2018   \n",
       "SMCs                0.247018           0.340067  Foxf2  Vanlandewijck2018   \n",
       "\n",
       "            organism  cell_number  \n",
       "clusters                           \n",
       "Astrocytes     Mouse          250  \n",
       "ECs            Mouse         1528  \n",
       "Fibroblasts    Mouse           86  \n",
       "Oligos         Mouse          155  \n",
       "Pericytes      Mouse         1088  \n",
       "SMCs           Mouse          297  "
      ]
     },
     "execution_count": 112,
     "metadata": {},
     "output_type": "execute_result"
    }
   ],
   "source": [
    "foxf2 = pd.concat([ex, fc], axis=1)\n",
    "foxf2['gene'] = gene\n",
    "foxf2['source'] = \"Vanlandewijck2018\"\n",
    "foxf2['organism'] = \"Mouse\"\n",
    "foxf2['cell_number'] = pd.DataFrame(ad_merged.obs[\"clusters\"].value_counts()).reindex(foxf2.index)\n",
    "foxf2"
   ]
  },
  {
   "cell_type": "code",
   "execution_count": 113,
   "id": "936ab0f9-d00b-4a26-8fe9-0c8c949b4484",
   "metadata": {},
   "outputs": [],
   "source": [
    "# export\n",
    "name='Vanlandewijck2018'"
   ]
  },
  {
   "cell_type": "code",
   "execution_count": 114,
   "id": "62d944fe-e7bd-4c8a-ac9c-e67797b6d18e",
   "metadata": {},
   "outputs": [],
   "source": [
    "# Win\n",
    "foxf2.to_csv(main_dir+'\\\\P6_Foxf2_per_celltype\\\\Foxf2_summarized\\\\'+ date.today().strftime(\"%Y%m%d\")+'_'+name+'.csv',sep=';')"
   ]
  },
  {
   "cell_type": "markdown",
   "id": "f0c96cea-69b8-4753-b789-cb0e7b89ba35",
   "metadata": {},
   "source": [
    "## Incl zonation"
   ]
  },
  {
   "cell_type": "code",
   "execution_count": 115,
   "id": "0ddcdb6f-2490-4386-8a99-0db8cc9cff39",
   "metadata": {},
   "outputs": [],
   "source": [
    "# mean expression per group (normalized and scaled)\n",
    "ex = sc.pl.matrixplot(ad_merged, [gene], groupby='clusters2', swap_axes=False, figsize=(2,5), standard_scale=\"var\", return_fig=True).values_df\n",
    "ex.columns = ['mean_expression']"
   ]
  },
  {
   "cell_type": "code",
   "execution_count": 116,
   "id": "868b8121-7fb4-4ed4-b8cb-4c9ad63c1b81",
   "metadata": {},
   "outputs": [],
   "source": [
    "# dotplot dot size = fraction of cells in group expressing Foxf2\n",
    "fc = sc.pl.dotplot(ad_merged, [gene], groupby='clusters2', swap_axes=False, figsize=(2,7), standard_scale=\"var\",return_fig=True).dot_size_df\n",
    "fc.columns = ['fraction_of_cells']"
   ]
  },
  {
   "cell_type": "code",
   "execution_count": 117,
   "id": "42743f2b-a03a-4b2e-9474-f5f63123a228",
   "metadata": {},
   "outputs": [
    {
     "data": {
      "text/html": [
       "<div>\n",
       "<style scoped>\n",
       "    .dataframe tbody tr th:only-of-type {\n",
       "        vertical-align: middle;\n",
       "    }\n",
       "\n",
       "    .dataframe tbody tr th {\n",
       "        vertical-align: top;\n",
       "    }\n",
       "\n",
       "    .dataframe thead th {\n",
       "        text-align: right;\n",
       "    }\n",
       "</style>\n",
       "<table border=\"1\" class=\"dataframe\">\n",
       "  <thead>\n",
       "    <tr style=\"text-align: right;\">\n",
       "      <th></th>\n",
       "      <th>mean_expression</th>\n",
       "      <th>fraction_of_cells</th>\n",
       "      <th>gene</th>\n",
       "      <th>source</th>\n",
       "      <th>organism</th>\n",
       "      <th>cell_number</th>\n",
       "    </tr>\n",
       "    <tr>\n",
       "      <th>clusters2</th>\n",
       "      <th></th>\n",
       "      <th></th>\n",
       "      <th></th>\n",
       "      <th></th>\n",
       "      <th></th>\n",
       "      <th></th>\n",
       "    </tr>\n",
       "  </thead>\n",
       "  <tbody>\n",
       "    <tr>\n",
       "      <th>Astrocytes</th>\n",
       "      <td>0.000057</td>\n",
       "      <td>0.044000</td>\n",
       "      <td>Foxf2</td>\n",
       "      <td>Vanlandewijck2018</td>\n",
       "      <td>Mouse</td>\n",
       "      <td>250</td>\n",
       "    </tr>\n",
       "    <tr>\n",
       "      <th>ECs_Arterial</th>\n",
       "      <td>0.810197</td>\n",
       "      <td>0.816121</td>\n",
       "      <td>Foxf2</td>\n",
       "      <td>Vanlandewijck2018</td>\n",
       "      <td>Mouse</td>\n",
       "      <td>397</td>\n",
       "    </tr>\n",
       "    <tr>\n",
       "      <th>ECs_Capillary</th>\n",
       "      <td>1.000000</td>\n",
       "      <td>0.834568</td>\n",
       "      <td>Foxf2</td>\n",
       "      <td>Vanlandewijck2018</td>\n",
       "      <td>Mouse</td>\n",
       "      <td>405</td>\n",
       "    </tr>\n",
       "    <tr>\n",
       "      <th>ECs_Venous</th>\n",
       "      <td>0.707675</td>\n",
       "      <td>0.748322</td>\n",
       "      <td>Foxf2</td>\n",
       "      <td>Vanlandewijck2018</td>\n",
       "      <td>Mouse</td>\n",
       "      <td>298</td>\n",
       "    </tr>\n",
       "    <tr>\n",
       "      <th>ECs_non_AV</th>\n",
       "      <td>0.897588</td>\n",
       "      <td>0.619159</td>\n",
       "      <td>Foxf2</td>\n",
       "      <td>Vanlandewijck2018</td>\n",
       "      <td>Mouse</td>\n",
       "      <td>428</td>\n",
       "    </tr>\n",
       "    <tr>\n",
       "      <th>Fibroblasts</th>\n",
       "      <td>0.253919</td>\n",
       "      <td>0.476744</td>\n",
       "      <td>Foxf2</td>\n",
       "      <td>Vanlandewijck2018</td>\n",
       "      <td>Mouse</td>\n",
       "      <td>86</td>\n",
       "    </tr>\n",
       "    <tr>\n",
       "      <th>Oligos</th>\n",
       "      <td>0.000000</td>\n",
       "      <td>0.025806</td>\n",
       "      <td>Foxf2</td>\n",
       "      <td>Vanlandewijck2018</td>\n",
       "      <td>Mouse</td>\n",
       "      <td>155</td>\n",
       "    </tr>\n",
       "    <tr>\n",
       "      <th>Pericytes</th>\n",
       "      <td>0.738566</td>\n",
       "      <td>0.585478</td>\n",
       "      <td>Foxf2</td>\n",
       "      <td>Vanlandewijck2018</td>\n",
       "      <td>Mouse</td>\n",
       "      <td>1088</td>\n",
       "    </tr>\n",
       "    <tr>\n",
       "      <th>SMCs</th>\n",
       "      <td>0.213667</td>\n",
       "      <td>0.340067</td>\n",
       "      <td>Foxf2</td>\n",
       "      <td>Vanlandewijck2018</td>\n",
       "      <td>Mouse</td>\n",
       "      <td>297</td>\n",
       "    </tr>\n",
       "  </tbody>\n",
       "</table>\n",
       "</div>"
      ],
      "text/plain": [
       "               mean_expression  fraction_of_cells   gene             source  \\\n",
       "clusters2                                                                     \n",
       "Astrocytes            0.000057           0.044000  Foxf2  Vanlandewijck2018   \n",
       "ECs_Arterial          0.810197           0.816121  Foxf2  Vanlandewijck2018   \n",
       "ECs_Capillary         1.000000           0.834568  Foxf2  Vanlandewijck2018   \n",
       "ECs_Venous            0.707675           0.748322  Foxf2  Vanlandewijck2018   \n",
       "ECs_non_AV            0.897588           0.619159  Foxf2  Vanlandewijck2018   \n",
       "Fibroblasts           0.253919           0.476744  Foxf2  Vanlandewijck2018   \n",
       "Oligos                0.000000           0.025806  Foxf2  Vanlandewijck2018   \n",
       "Pericytes             0.738566           0.585478  Foxf2  Vanlandewijck2018   \n",
       "SMCs                  0.213667           0.340067  Foxf2  Vanlandewijck2018   \n",
       "\n",
       "              organism  cell_number  \n",
       "clusters2                            \n",
       "Astrocytes       Mouse          250  \n",
       "ECs_Arterial     Mouse          397  \n",
       "ECs_Capillary    Mouse          405  \n",
       "ECs_Venous       Mouse          298  \n",
       "ECs_non_AV       Mouse          428  \n",
       "Fibroblasts      Mouse           86  \n",
       "Oligos           Mouse          155  \n",
       "Pericytes        Mouse         1088  \n",
       "SMCs             Mouse          297  "
      ]
     },
     "execution_count": 117,
     "metadata": {},
     "output_type": "execute_result"
    }
   ],
   "source": [
    "foxf2 = pd.concat([ex, fc], axis=1)\n",
    "foxf2['gene'] = gene\n",
    "foxf2['source'] = \"Vanlandewijck2018\"\n",
    "foxf2['organism'] = \"Mouse\"\n",
    "foxf2['cell_number'] = pd.DataFrame(ad_merged.obs[\"clusters2\"].value_counts()).reindex(foxf2.index)\n",
    "foxf2"
   ]
  },
  {
   "cell_type": "code",
   "execution_count": 118,
   "id": "6c0c74d1-ed68-467c-a185-63652add733e",
   "metadata": {},
   "outputs": [],
   "source": [
    "# export\n",
    "name='Vanlandewijck2018'"
   ]
  },
  {
   "cell_type": "code",
   "execution_count": 119,
   "id": "c141a33c-7130-4040-ad0e-cbe6164532e6",
   "metadata": {},
   "outputs": [],
   "source": [
    "# Win\n",
    "foxf2.to_csv(main_dir+'\\\\P6_Foxf2_per_celltype\\\\Foxf2_summarized\\\\incl_zonation\\\\'+ date.today().strftime(\"%Y%m%d\")+'_'+name+'_incl_zonation.csv',sep=';')"
   ]
  },
  {
   "cell_type": "markdown",
   "id": "280dbb2c-d7b8-44c0-a391-7bbbb5ebc217",
   "metadata": {},
   "source": [
    "# Focus on: Other genes"
   ]
  },
  {
   "cell_type": "markdown",
   "id": "26c6cf27-f0d4-4841-884a-8f4efcb9a8f3",
   "metadata": {},
   "source": [
    "## Foxo1"
   ]
  },
  {
   "cell_type": "code",
   "execution_count": 120,
   "id": "ce4f51ba-da02-46ef-910b-408d359c50ca",
   "metadata": {},
   "outputs": [],
   "source": [
    "gene=\"Foxo1\""
   ]
  },
  {
   "cell_type": "markdown",
   "id": "ebde350b-24a2-4ed7-8893-1366954e9c6b",
   "metadata": {},
   "source": [
    "### Plot"
   ]
  },
  {
   "cell_type": "code",
   "execution_count": 121,
   "id": "cef97308-1efc-4ac1-8a1a-7c8483255d53",
   "metadata": {},
   "outputs": [
    {
     "data": {
      "image/png": "[encoded data removed]",
      "text/plain": [
       "<Figure size 200x500 with 3 Axes>"
      ]
     },
     "metadata": {},
     "output_type": "display_data"
    }
   ],
   "source": [
    "sc.pl.matrixplot(ad_merged, [gene], groupby='clusters', swap_axes=False, figsize=(2,5), standard_scale=\"var\")"
   ]
  },
  {
   "cell_type": "code",
   "execution_count": 122,
   "id": "d7825082-36be-4be8-a5ff-9289d6248a44",
   "metadata": {},
   "outputs": [
    {
     "data": {
      "image/png": "[encoded data removed]",
      "text/plain": [
       "<Figure size 200x500 with 3 Axes>"
      ]
     },
     "metadata": {},
     "output_type": "display_data"
    }
   ],
   "source": [
    "sc.pl.matrixplot(ad_merged, [gene], groupby='clusters2', swap_axes=False, figsize=(2,5), standard_scale=\"var\")"
   ]
  },
  {
   "cell_type": "code",
   "execution_count": 123,
   "id": "6e19947e-549b-4f0a-aad9-136c6085a7e0",
   "metadata": {},
   "outputs": [
    {
     "data": {
      "image/png": "[encoded data removed]",
      "text/plain": [
       "<Figure size 200x500 with 4 Axes>"
      ]
     },
     "metadata": {},
     "output_type": "display_data"
    }
   ],
   "source": [
    "sc.pl.dotplot(ad_merged, [gene], groupby='clusters', swap_axes=False, figsize=(2,5), standard_scale=\"var\")"
   ]
  },
  {
   "cell_type": "code",
   "execution_count": 124,
   "id": "a53fcf1e-e064-4a1e-94db-4baf1c2a4cd0",
   "metadata": {},
   "outputs": [
    {
     "data": {
      "image/png": "[encoded data removed]",
      "text/plain": [
       "<Figure size 200x500 with 4 Axes>"
      ]
     },
     "metadata": {},
     "output_type": "display_data"
    }
   ],
   "source": [
    "sc.pl.dotplot(ad_merged, [gene], groupby='clusters2', swap_axes=False, figsize=(2,5), standard_scale=\"var\")"
   ]
  },
  {
   "cell_type": "markdown",
   "id": "20e1eecd-12d0-44fa-8836-101171c5f061",
   "metadata": {},
   "source": [
    "### Excl zonation"
   ]
  },
  {
   "cell_type": "code",
   "execution_count": 125,
   "id": "74ff1c76-e347-4f70-a147-ca977856168e",
   "metadata": {},
   "outputs": [
    {
     "data": {
      "text/html": [
       "<div>\n",
       "<style scoped>\n",
       "    .dataframe tbody tr th:only-of-type {\n",
       "        vertical-align: middle;\n",
       "    }\n",
       "\n",
       "    .dataframe tbody tr th {\n",
       "        vertical-align: top;\n",
       "    }\n",
       "\n",
       "    .dataframe thead th {\n",
       "        text-align: right;\n",
       "    }\n",
       "</style>\n",
       "<table border=\"1\" class=\"dataframe\">\n",
       "  <thead>\n",
       "    <tr style=\"text-align: right;\">\n",
       "      <th></th>\n",
       "      <th>mean_expression</th>\n",
       "    </tr>\n",
       "    <tr>\n",
       "      <th>clusters</th>\n",
       "      <th></th>\n",
       "    </tr>\n",
       "  </thead>\n",
       "  <tbody>\n",
       "    <tr>\n",
       "      <th>Astrocytes</th>\n",
       "      <td>0.493353</td>\n",
       "    </tr>\n",
       "    <tr>\n",
       "      <th>ECs</th>\n",
       "      <td>1.000000</td>\n",
       "    </tr>\n",
       "    <tr>\n",
       "      <th>Fibroblasts</th>\n",
       "      <td>0.667187</td>\n",
       "    </tr>\n",
       "    <tr>\n",
       "      <th>Oligos</th>\n",
       "      <td>0.035463</td>\n",
       "    </tr>\n",
       "    <tr>\n",
       "      <th>Pericytes</th>\n",
       "      <td>0.079417</td>\n",
       "    </tr>\n",
       "    <tr>\n",
       "      <th>SMCs</th>\n",
       "      <td>0.000000</td>\n",
       "    </tr>\n",
       "  </tbody>\n",
       "</table>\n",
       "</div>"
      ],
      "text/plain": [
       "             mean_expression\n",
       "clusters                    \n",
       "Astrocytes          0.493353\n",
       "ECs                 1.000000\n",
       "Fibroblasts         0.667187\n",
       "Oligos              0.035463\n",
       "Pericytes           0.079417\n",
       "SMCs                0.000000"
      ]
     },
     "execution_count": 125,
     "metadata": {},
     "output_type": "execute_result"
    }
   ],
   "source": [
    "# mean expression per group (normalized and scaled)\n",
    "ex = sc.pl.matrixplot(ad_merged, [gene], groupby='clusters', swap_axes=False, figsize=(2,5), standard_scale=\"var\", return_fig=True).values_df\n",
    "ex.columns = ['mean_expression']\n",
    "ex"
   ]
  },
  {
   "cell_type": "code",
   "execution_count": 126,
   "id": "a570c3b7-eaf0-4cd4-bcdb-aedd04c60c4c",
   "metadata": {},
   "outputs": [
    {
     "data": {
      "text/html": [
       "<div>\n",
       "<style scoped>\n",
       "    .dataframe tbody tr th:only-of-type {\n",
       "        vertical-align: middle;\n",
       "    }\n",
       "\n",
       "    .dataframe tbody tr th {\n",
       "        vertical-align: top;\n",
       "    }\n",
       "\n",
       "    .dataframe thead th {\n",
       "        text-align: right;\n",
       "    }\n",
       "</style>\n",
       "<table border=\"1\" class=\"dataframe\">\n",
       "  <thead>\n",
       "    <tr style=\"text-align: right;\">\n",
       "      <th></th>\n",
       "      <th>fraction_of_cells</th>\n",
       "    </tr>\n",
       "    <tr>\n",
       "      <th>clusters</th>\n",
       "      <th></th>\n",
       "    </tr>\n",
       "  </thead>\n",
       "  <tbody>\n",
       "    <tr>\n",
       "      <th>Astrocytes</th>\n",
       "      <td>0.308000</td>\n",
       "    </tr>\n",
       "    <tr>\n",
       "      <th>ECs</th>\n",
       "      <td>0.411649</td>\n",
       "    </tr>\n",
       "    <tr>\n",
       "      <th>Fibroblasts</th>\n",
       "      <td>0.383721</td>\n",
       "    </tr>\n",
       "    <tr>\n",
       "      <th>Oligos</th>\n",
       "      <td>0.264516</td>\n",
       "    </tr>\n",
       "    <tr>\n",
       "      <th>Pericytes</th>\n",
       "      <td>0.125919</td>\n",
       "    </tr>\n",
       "    <tr>\n",
       "      <th>SMCs</th>\n",
       "      <td>0.127946</td>\n",
       "    </tr>\n",
       "  </tbody>\n",
       "</table>\n",
       "</div>"
      ],
      "text/plain": [
       "             fraction_of_cells\n",
       "clusters                      \n",
       "Astrocytes            0.308000\n",
       "ECs                   0.411649\n",
       "Fibroblasts           0.383721\n",
       "Oligos                0.264516\n",
       "Pericytes             0.125919\n",
       "SMCs                  0.127946"
      ]
     },
     "execution_count": 126,
     "metadata": {},
     "output_type": "execute_result"
    }
   ],
   "source": [
    "# dotplot dot size = fraction of cells in group expressing Foxf2\n",
    "fc = sc.pl.dotplot(ad_merged, [gene], groupby='clusters', swap_axes=False, figsize=(2,7), standard_scale=\"var\",return_fig=True).dot_size_df\n",
    "fc.columns = ['fraction_of_cells']\n",
    "fc"
   ]
  },
  {
   "cell_type": "code",
   "execution_count": 127,
   "id": "1f057576-b01c-4518-94c5-f85c975d97e7",
   "metadata": {},
   "outputs": [
    {
     "data": {
      "text/html": [
       "<div>\n",
       "<style scoped>\n",
       "    .dataframe tbody tr th:only-of-type {\n",
       "        vertical-align: middle;\n",
       "    }\n",
       "\n",
       "    .dataframe tbody tr th {\n",
       "        vertical-align: top;\n",
       "    }\n",
       "\n",
       "    .dataframe thead th {\n",
       "        text-align: right;\n",
       "    }\n",
       "</style>\n",
       "<table border=\"1\" class=\"dataframe\">\n",
       "  <thead>\n",
       "    <tr style=\"text-align: right;\">\n",
       "      <th></th>\n",
       "      <th>mean_expression</th>\n",
       "      <th>fraction_of_cells</th>\n",
       "      <th>gene</th>\n",
       "      <th>source</th>\n",
       "      <th>organism</th>\n",
       "      <th>cell_number</th>\n",
       "    </tr>\n",
       "    <tr>\n",
       "      <th>clusters</th>\n",
       "      <th></th>\n",
       "      <th></th>\n",
       "      <th></th>\n",
       "      <th></th>\n",
       "      <th></th>\n",
       "      <th></th>\n",
       "    </tr>\n",
       "  </thead>\n",
       "  <tbody>\n",
       "    <tr>\n",
       "      <th>Astrocytes</th>\n",
       "      <td>0.493353</td>\n",
       "      <td>0.308000</td>\n",
       "      <td>Foxo1</td>\n",
       "      <td>Vanlandewijck2018</td>\n",
       "      <td>Mouse</td>\n",
       "      <td>250</td>\n",
       "    </tr>\n",
       "    <tr>\n",
       "      <th>ECs</th>\n",
       "      <td>1.000000</td>\n",
       "      <td>0.411649</td>\n",
       "      <td>Foxo1</td>\n",
       "      <td>Vanlandewijck2018</td>\n",
       "      <td>Mouse</td>\n",
       "      <td>1528</td>\n",
       "    </tr>\n",
       "    <tr>\n",
       "      <th>Fibroblasts</th>\n",
       "      <td>0.667187</td>\n",
       "      <td>0.383721</td>\n",
       "      <td>Foxo1</td>\n",
       "      <td>Vanlandewijck2018</td>\n",
       "      <td>Mouse</td>\n",
       "      <td>86</td>\n",
       "    </tr>\n",
       "    <tr>\n",
       "      <th>Oligos</th>\n",
       "      <td>0.035463</td>\n",
       "      <td>0.264516</td>\n",
       "      <td>Foxo1</td>\n",
       "      <td>Vanlandewijck2018</td>\n",
       "      <td>Mouse</td>\n",
       "      <td>155</td>\n",
       "    </tr>\n",
       "    <tr>\n",
       "      <th>Pericytes</th>\n",
       "      <td>0.079417</td>\n",
       "      <td>0.125919</td>\n",
       "      <td>Foxo1</td>\n",
       "      <td>Vanlandewijck2018</td>\n",
       "      <td>Mouse</td>\n",
       "      <td>1088</td>\n",
       "    </tr>\n",
       "    <tr>\n",
       "      <th>SMCs</th>\n",
       "      <td>0.000000</td>\n",
       "      <td>0.127946</td>\n",
       "      <td>Foxo1</td>\n",
       "      <td>Vanlandewijck2018</td>\n",
       "      <td>Mouse</td>\n",
       "      <td>297</td>\n",
       "    </tr>\n",
       "  </tbody>\n",
       "</table>\n",
       "</div>"
      ],
      "text/plain": [
       "             mean_expression  fraction_of_cells   gene             source  \\\n",
       "clusters                                                                    \n",
       "Astrocytes          0.493353           0.308000  Foxo1  Vanlandewijck2018   \n",
       "ECs                 1.000000           0.411649  Foxo1  Vanlandewijck2018   \n",
       "Fibroblasts         0.667187           0.383721  Foxo1  Vanlandewijck2018   \n",
       "Oligos              0.035463           0.264516  Foxo1  Vanlandewijck2018   \n",
       "Pericytes           0.079417           0.125919  Foxo1  Vanlandewijck2018   \n",
       "SMCs                0.000000           0.127946  Foxo1  Vanlandewijck2018   \n",
       "\n",
       "            organism  cell_number  \n",
       "clusters                           \n",
       "Astrocytes     Mouse          250  \n",
       "ECs            Mouse         1528  \n",
       "Fibroblasts    Mouse           86  \n",
       "Oligos         Mouse          155  \n",
       "Pericytes      Mouse         1088  \n",
       "SMCs           Mouse          297  "
      ]
     },
     "execution_count": 127,
     "metadata": {},
     "output_type": "execute_result"
    }
   ],
   "source": [
    "foxf2 = pd.concat([ex, fc], axis=1)\n",
    "foxf2['gene'] = gene\n",
    "foxf2['source'] = \"Vanlandewijck2018\"\n",
    "foxf2['organism'] = \"Mouse\"\n",
    "foxf2['cell_number'] = pd.DataFrame(ad_merged.obs[\"clusters\"].value_counts()).reindex(foxf2.index)\n",
    "foxf2"
   ]
  },
  {
   "cell_type": "code",
   "execution_count": 128,
   "id": "b8bfdca8-5a83-470c-a9dd-0b2769dc0dee",
   "metadata": {},
   "outputs": [],
   "source": [
    "# export\n",
    "name='Vanlandewijck2018'"
   ]
  },
  {
   "cell_type": "code",
   "execution_count": 129,
   "id": "41fd84df-cc81-4cb0-b714-049c5c744418",
   "metadata": {},
   "outputs": [],
   "source": [
    "# Win\n",
    "foxf2.to_csv(main_dir+'\\\\P6_Foxf2_per_celltype\\\\Other_genes_summarized\\\\'+ date.today().strftime(\"%Y%m%d\")+'_'+gene+'_'+name+'.csv',sep=';')"
   ]
  },
  {
   "cell_type": "markdown",
   "id": "b47aaeb1-3bb2-4d6f-ad1c-edfc354af23e",
   "metadata": {},
   "source": [
    "### Incl zonation"
   ]
  },
  {
   "cell_type": "code",
   "execution_count": 130,
   "id": "1915fb2f-8cbe-45e4-be48-39dd3d5b1180",
   "metadata": {},
   "outputs": [],
   "source": [
    "# mean expression per group (normalized and scaled)\n",
    "ex = sc.pl.matrixplot(ad_merged, [gene], groupby='clusters2', swap_axes=False, figsize=(2,5), standard_scale=\"var\", return_fig=True).values_df\n",
    "ex.columns = ['mean_expression']"
   ]
  },
  {
   "cell_type": "code",
   "execution_count": 131,
   "id": "0429bf9d-a069-4c1d-bb48-a9dd50dce692",
   "metadata": {},
   "outputs": [],
   "source": [
    "# dotplot dot size = fraction of cells in group expressing Foxf2\n",
    "fc = sc.pl.dotplot(ad_merged, [gene], groupby='clusters2', swap_axes=False, figsize=(2,7), standard_scale=\"var\",return_fig=True).dot_size_df\n",
    "fc.columns = ['fraction_of_cells']"
   ]
  },
  {
   "cell_type": "code",
   "execution_count": 132,
   "id": "3e746b3b-7c28-467b-8f07-fdce25b7df07",
   "metadata": {},
   "outputs": [
    {
     "data": {
      "text/html": [
       "<div>\n",
       "<style scoped>\n",
       "    .dataframe tbody tr th:only-of-type {\n",
       "        vertical-align: middle;\n",
       "    }\n",
       "\n",
       "    .dataframe tbody tr th {\n",
       "        vertical-align: top;\n",
       "    }\n",
       "\n",
       "    .dataframe thead th {\n",
       "        text-align: right;\n",
       "    }\n",
       "</style>\n",
       "<table border=\"1\" class=\"dataframe\">\n",
       "  <thead>\n",
       "    <tr style=\"text-align: right;\">\n",
       "      <th></th>\n",
       "      <th>mean_expression</th>\n",
       "      <th>fraction_of_cells</th>\n",
       "      <th>gene</th>\n",
       "      <th>source</th>\n",
       "      <th>organism</th>\n",
       "      <th>cell_number</th>\n",
       "    </tr>\n",
       "    <tr>\n",
       "      <th>clusters2</th>\n",
       "      <th></th>\n",
       "      <th></th>\n",
       "      <th></th>\n",
       "      <th></th>\n",
       "      <th></th>\n",
       "      <th></th>\n",
       "    </tr>\n",
       "  </thead>\n",
       "  <tbody>\n",
       "    <tr>\n",
       "      <th>Astrocytes</th>\n",
       "      <td>0.397304</td>\n",
       "      <td>0.308000</td>\n",
       "      <td>Foxo1</td>\n",
       "      <td>Vanlandewijck2018</td>\n",
       "      <td>Mouse</td>\n",
       "      <td>250</td>\n",
       "    </tr>\n",
       "    <tr>\n",
       "      <th>ECs_Arterial</th>\n",
       "      <td>0.736384</td>\n",
       "      <td>0.473552</td>\n",
       "      <td>Foxo1</td>\n",
       "      <td>Vanlandewijck2018</td>\n",
       "      <td>Mouse</td>\n",
       "      <td>397</td>\n",
       "    </tr>\n",
       "    <tr>\n",
       "      <th>ECs_Capillary</th>\n",
       "      <td>0.823155</td>\n",
       "      <td>0.469136</td>\n",
       "      <td>Foxo1</td>\n",
       "      <td>Vanlandewijck2018</td>\n",
       "      <td>Mouse</td>\n",
       "      <td>405</td>\n",
       "    </tr>\n",
       "    <tr>\n",
       "      <th>ECs_Venous</th>\n",
       "      <td>0.593278</td>\n",
       "      <td>0.412752</td>\n",
       "      <td>Foxo1</td>\n",
       "      <td>Vanlandewijck2018</td>\n",
       "      <td>Mouse</td>\n",
       "      <td>298</td>\n",
       "    </tr>\n",
       "    <tr>\n",
       "      <th>ECs_non_AV</th>\n",
       "      <td>1.000000</td>\n",
       "      <td>0.299065</td>\n",
       "      <td>Foxo1</td>\n",
       "      <td>Vanlandewijck2018</td>\n",
       "      <td>Mouse</td>\n",
       "      <td>428</td>\n",
       "    </tr>\n",
       "    <tr>\n",
       "      <th>Fibroblasts</th>\n",
       "      <td>0.537294</td>\n",
       "      <td>0.383721</td>\n",
       "      <td>Foxo1</td>\n",
       "      <td>Vanlandewijck2018</td>\n",
       "      <td>Mouse</td>\n",
       "      <td>86</td>\n",
       "    </tr>\n",
       "    <tr>\n",
       "      <th>Oligos</th>\n",
       "      <td>0.028559</td>\n",
       "      <td>0.264516</td>\n",
       "      <td>Foxo1</td>\n",
       "      <td>Vanlandewijck2018</td>\n",
       "      <td>Mouse</td>\n",
       "      <td>155</td>\n",
       "    </tr>\n",
       "    <tr>\n",
       "      <th>Pericytes</th>\n",
       "      <td>0.063956</td>\n",
       "      <td>0.125919</td>\n",
       "      <td>Foxo1</td>\n",
       "      <td>Vanlandewijck2018</td>\n",
       "      <td>Mouse</td>\n",
       "      <td>1088</td>\n",
       "    </tr>\n",
       "    <tr>\n",
       "      <th>SMCs</th>\n",
       "      <td>0.000000</td>\n",
       "      <td>0.127946</td>\n",
       "      <td>Foxo1</td>\n",
       "      <td>Vanlandewijck2018</td>\n",
       "      <td>Mouse</td>\n",
       "      <td>297</td>\n",
       "    </tr>\n",
       "  </tbody>\n",
       "</table>\n",
       "</div>"
      ],
      "text/plain": [
       "               mean_expression  fraction_of_cells   gene             source  \\\n",
       "clusters2                                                                     \n",
       "Astrocytes            0.397304           0.308000  Foxo1  Vanlandewijck2018   \n",
       "ECs_Arterial          0.736384           0.473552  Foxo1  Vanlandewijck2018   \n",
       "ECs_Capillary         0.823155           0.469136  Foxo1  Vanlandewijck2018   \n",
       "ECs_Venous            0.593278           0.412752  Foxo1  Vanlandewijck2018   \n",
       "ECs_non_AV            1.000000           0.299065  Foxo1  Vanlandewijck2018   \n",
       "Fibroblasts           0.537294           0.383721  Foxo1  Vanlandewijck2018   \n",
       "Oligos                0.028559           0.264516  Foxo1  Vanlandewijck2018   \n",
       "Pericytes             0.063956           0.125919  Foxo1  Vanlandewijck2018   \n",
       "SMCs                  0.000000           0.127946  Foxo1  Vanlandewijck2018   \n",
       "\n",
       "              organism  cell_number  \n",
       "clusters2                            \n",
       "Astrocytes       Mouse          250  \n",
       "ECs_Arterial     Mouse          397  \n",
       "ECs_Capillary    Mouse          405  \n",
       "ECs_Venous       Mouse          298  \n",
       "ECs_non_AV       Mouse          428  \n",
       "Fibroblasts      Mouse           86  \n",
       "Oligos           Mouse          155  \n",
       "Pericytes        Mouse         1088  \n",
       "SMCs             Mouse          297  "
      ]
     },
     "execution_count": 132,
     "metadata": {},
     "output_type": "execute_result"
    }
   ],
   "source": [
    "foxf2 = pd.concat([ex, fc], axis=1)\n",
    "foxf2['gene'] = gene\n",
    "foxf2['source'] = \"Vanlandewijck2018\"\n",
    "foxf2['organism'] = \"Mouse\"\n",
    "foxf2['cell_number'] = pd.DataFrame(ad_merged.obs[\"clusters2\"].value_counts()).reindex(foxf2.index)\n",
    "foxf2"
   ]
  },
  {
   "cell_type": "code",
   "execution_count": 133,
   "id": "012e3c83-8fe2-4e56-9ba9-f3cba44076af",
   "metadata": {},
   "outputs": [],
   "source": [
    "# export\n",
    "name='Vanlandewijck2018'"
   ]
  },
  {
   "cell_type": "code",
   "execution_count": 134,
   "id": "5f20cdaa-d915-45aa-95d9-09981e4a18aa",
   "metadata": {},
   "outputs": [],
   "source": [
    "# Win\n",
    "foxf2.to_csv(main_dir+'\\\\P6_Foxf2_per_celltype\\\\Other_genes_summarized\\\\incl_zonation\\\\'+ date.today().strftime(\"%Y%m%d\")+'_'+gene+'_'+name+'_incl_zonation.csv',sep=';')"
   ]
  },
  {
   "cell_type": "markdown",
   "id": "cdeaa76a-b77d-49ed-bd93-4f3867d754cc",
   "metadata": {},
   "source": [
    "## Tek = Tie2"
   ]
  },
  {
   "cell_type": "code",
   "execution_count": 135,
   "id": "b1d2b07f-6ab8-4582-b722-9eb3ad69382a",
   "metadata": {},
   "outputs": [],
   "source": [
    "gene=\"Tek\""
   ]
  },
  {
   "cell_type": "markdown",
   "id": "ee930f07-6952-4c03-bf65-4e6bbc4d5abc",
   "metadata": {},
   "source": [
    "### Plot"
   ]
  },
  {
   "cell_type": "code",
   "execution_count": 136,
   "id": "ea184e0b-4d07-49f8-84ea-fa31eae05db9",
   "metadata": {},
   "outputs": [
    {
     "data": {
      "image/png": "[encoded data removed]",
      "text/plain": [
       "<Figure size 200x500 with 3 Axes>"
      ]
     },
     "metadata": {},
     "output_type": "display_data"
    }
   ],
   "source": [
    "sc.pl.matrixplot(ad_merged, [gene], groupby='clusters', swap_axes=False, figsize=(2,5), standard_scale=\"var\")"
   ]
  },
  {
   "cell_type": "code",
   "execution_count": 137,
   "id": "4de7d5e9-67f6-4fae-8c17-e079a9815228",
   "metadata": {},
   "outputs": [
    {
     "data": {
      "image/png": "[encoded data removed]",
      "text/plain": [
       "<Figure size 200x500 with 3 Axes>"
      ]
     },
     "metadata": {},
     "output_type": "display_data"
    }
   ],
   "source": [
    "sc.pl.matrixplot(ad_merged, [gene], groupby='clusters2', swap_axes=False, figsize=(2,5), standard_scale=\"var\")"
   ]
  },
  {
   "cell_type": "code",
   "execution_count": 138,
   "id": "463e561d-2bb8-400a-ae5c-e7eb1d3241f8",
   "metadata": {},
   "outputs": [
    {
     "data": {
      "image/png": "[encoded data removed]",
      "text/plain": [
       "<Figure size 200x500 with 4 Axes>"
      ]
     },
     "metadata": {},
     "output_type": "display_data"
    }
   ],
   "source": [
    "sc.pl.dotplot(ad_merged, [gene], groupby='clusters', swap_axes=False, figsize=(2,5), standard_scale=\"var\")"
   ]
  },
  {
   "cell_type": "code",
   "execution_count": 139,
   "id": "48e57b2a-7b9d-496c-b856-a9672d70166d",
   "metadata": {},
   "outputs": [
    {
     "data": {
      "image/png": "[encoded data removed]",
      "text/plain": [
       "<Figure size 200x500 with 4 Axes>"
      ]
     },
     "metadata": {},
     "output_type": "display_data"
    }
   ],
   "source": [
    "sc.pl.dotplot(ad_merged, [gene], groupby='clusters2', swap_axes=False, figsize=(2,5), standard_scale=\"var\")"
   ]
  },
  {
   "cell_type": "markdown",
   "id": "ba3e092c-93c5-489d-a177-dbb15552040d",
   "metadata": {},
   "source": [
    "### Excl zonation"
   ]
  },
  {
   "cell_type": "code",
   "execution_count": 140,
   "id": "1f6ed7e3-c0ed-4dee-bd47-8f4392bc8118",
   "metadata": {},
   "outputs": [
    {
     "data": {
      "text/html": [
       "<div>\n",
       "<style scoped>\n",
       "    .dataframe tbody tr th:only-of-type {\n",
       "        vertical-align: middle;\n",
       "    }\n",
       "\n",
       "    .dataframe tbody tr th {\n",
       "        vertical-align: top;\n",
       "    }\n",
       "\n",
       "    .dataframe thead th {\n",
       "        text-align: right;\n",
       "    }\n",
       "</style>\n",
       "<table border=\"1\" class=\"dataframe\">\n",
       "  <thead>\n",
       "    <tr style=\"text-align: right;\">\n",
       "      <th></th>\n",
       "      <th>mean_expression</th>\n",
       "    </tr>\n",
       "    <tr>\n",
       "      <th>clusters</th>\n",
       "      <th></th>\n",
       "    </tr>\n",
       "  </thead>\n",
       "  <tbody>\n",
       "    <tr>\n",
       "      <th>Astrocytes</th>\n",
       "      <td>0.000000</td>\n",
       "    </tr>\n",
       "    <tr>\n",
       "      <th>ECs</th>\n",
       "      <td>1.000000</td>\n",
       "    </tr>\n",
       "    <tr>\n",
       "      <th>Fibroblasts</th>\n",
       "      <td>0.004707</td>\n",
       "    </tr>\n",
       "    <tr>\n",
       "      <th>Oligos</th>\n",
       "      <td>0.000559</td>\n",
       "    </tr>\n",
       "    <tr>\n",
       "      <th>Pericytes</th>\n",
       "      <td>0.014129</td>\n",
       "    </tr>\n",
       "    <tr>\n",
       "      <th>SMCs</th>\n",
       "      <td>0.004933</td>\n",
       "    </tr>\n",
       "  </tbody>\n",
       "</table>\n",
       "</div>"
      ],
      "text/plain": [
       "             mean_expression\n",
       "clusters                    \n",
       "Astrocytes          0.000000\n",
       "ECs                 1.000000\n",
       "Fibroblasts         0.004707\n",
       "Oligos              0.000559\n",
       "Pericytes           0.014129\n",
       "SMCs                0.004933"
      ]
     },
     "execution_count": 140,
     "metadata": {},
     "output_type": "execute_result"
    }
   ],
   "source": [
    "# mean expression per group (normalized and scaled)\n",
    "ex = sc.pl.matrixplot(ad_merged, [gene], groupby='clusters', swap_axes=False, figsize=(2,5), standard_scale=\"var\", return_fig=True).values_df\n",
    "ex.columns = ['mean_expression']\n",
    "ex"
   ]
  },
  {
   "cell_type": "code",
   "execution_count": 141,
   "id": "a845aa1a-dea6-43d2-a847-cbf8527cc478",
   "metadata": {},
   "outputs": [
    {
     "data": {
      "text/html": [
       "<div>\n",
       "<style scoped>\n",
       "    .dataframe tbody tr th:only-of-type {\n",
       "        vertical-align: middle;\n",
       "    }\n",
       "\n",
       "    .dataframe tbody tr th {\n",
       "        vertical-align: top;\n",
       "    }\n",
       "\n",
       "    .dataframe thead th {\n",
       "        text-align: right;\n",
       "    }\n",
       "</style>\n",
       "<table border=\"1\" class=\"dataframe\">\n",
       "  <thead>\n",
       "    <tr style=\"text-align: right;\">\n",
       "      <th></th>\n",
       "      <th>fraction_of_cells</th>\n",
       "    </tr>\n",
       "    <tr>\n",
       "      <th>clusters</th>\n",
       "      <th></th>\n",
       "    </tr>\n",
       "  </thead>\n",
       "  <tbody>\n",
       "    <tr>\n",
       "      <th>Astrocytes</th>\n",
       "      <td>0.132000</td>\n",
       "    </tr>\n",
       "    <tr>\n",
       "      <th>ECs</th>\n",
       "      <td>0.965969</td>\n",
       "    </tr>\n",
       "    <tr>\n",
       "      <th>Fibroblasts</th>\n",
       "      <td>0.046512</td>\n",
       "    </tr>\n",
       "    <tr>\n",
       "      <th>Oligos</th>\n",
       "      <td>0.032258</td>\n",
       "    </tr>\n",
       "    <tr>\n",
       "      <th>Pericytes</th>\n",
       "      <td>0.091912</td>\n",
       "    </tr>\n",
       "    <tr>\n",
       "      <th>SMCs</th>\n",
       "      <td>0.043771</td>\n",
       "    </tr>\n",
       "  </tbody>\n",
       "</table>\n",
       "</div>"
      ],
      "text/plain": [
       "             fraction_of_cells\n",
       "clusters                      \n",
       "Astrocytes            0.132000\n",
       "ECs                   0.965969\n",
       "Fibroblasts           0.046512\n",
       "Oligos                0.032258\n",
       "Pericytes             0.091912\n",
       "SMCs                  0.043771"
      ]
     },
     "execution_count": 141,
     "metadata": {},
     "output_type": "execute_result"
    }
   ],
   "source": [
    "# dotplot dot size = fraction of cells in group expressing Foxf2\n",
    "fc = sc.pl.dotplot(ad_merged, [gene], groupby='clusters', swap_axes=False, figsize=(2,7), standard_scale=\"var\",return_fig=True).dot_size_df\n",
    "fc.columns = ['fraction_of_cells']\n",
    "fc"
   ]
  },
  {
   "cell_type": "code",
   "execution_count": 142,
   "id": "811bbda7-a5aa-4628-bacd-c54e41eda25a",
   "metadata": {},
   "outputs": [
    {
     "data": {
      "text/html": [
       "<div>\n",
       "<style scoped>\n",
       "    .dataframe tbody tr th:only-of-type {\n",
       "        vertical-align: middle;\n",
       "    }\n",
       "\n",
       "    .dataframe tbody tr th {\n",
       "        vertical-align: top;\n",
       "    }\n",
       "\n",
       "    .dataframe thead th {\n",
       "        text-align: right;\n",
       "    }\n",
       "</style>\n",
       "<table border=\"1\" class=\"dataframe\">\n",
       "  <thead>\n",
       "    <tr style=\"text-align: right;\">\n",
       "      <th></th>\n",
       "      <th>mean_expression</th>\n",
       "      <th>fraction_of_cells</th>\n",
       "      <th>gene</th>\n",
       "      <th>source</th>\n",
       "      <th>organism</th>\n",
       "      <th>cell_number</th>\n",
       "    </tr>\n",
       "    <tr>\n",
       "      <th>clusters</th>\n",
       "      <th></th>\n",
       "      <th></th>\n",
       "      <th></th>\n",
       "      <th></th>\n",
       "      <th></th>\n",
       "      <th></th>\n",
       "    </tr>\n",
       "  </thead>\n",
       "  <tbody>\n",
       "    <tr>\n",
       "      <th>Astrocytes</th>\n",
       "      <td>0.000000</td>\n",
       "      <td>0.132000</td>\n",
       "      <td>Tek</td>\n",
       "      <td>Vanlandewijck2018</td>\n",
       "      <td>Mouse</td>\n",
       "      <td>250</td>\n",
       "    </tr>\n",
       "    <tr>\n",
       "      <th>ECs</th>\n",
       "      <td>1.000000</td>\n",
       "      <td>0.965969</td>\n",
       "      <td>Tek</td>\n",
       "      <td>Vanlandewijck2018</td>\n",
       "      <td>Mouse</td>\n",
       "      <td>1528</td>\n",
       "    </tr>\n",
       "    <tr>\n",
       "      <th>Fibroblasts</th>\n",
       "      <td>0.004707</td>\n",
       "      <td>0.046512</td>\n",
       "      <td>Tek</td>\n",
       "      <td>Vanlandewijck2018</td>\n",
       "      <td>Mouse</td>\n",
       "      <td>86</td>\n",
       "    </tr>\n",
       "    <tr>\n",
       "      <th>Oligos</th>\n",
       "      <td>0.000559</td>\n",
       "      <td>0.032258</td>\n",
       "      <td>Tek</td>\n",
       "      <td>Vanlandewijck2018</td>\n",
       "      <td>Mouse</td>\n",
       "      <td>155</td>\n",
       "    </tr>\n",
       "    <tr>\n",
       "      <th>Pericytes</th>\n",
       "      <td>0.014129</td>\n",
       "      <td>0.091912</td>\n",
       "      <td>Tek</td>\n",
       "      <td>Vanlandewijck2018</td>\n",
       "      <td>Mouse</td>\n",
       "      <td>1088</td>\n",
       "    </tr>\n",
       "    <tr>\n",
       "      <th>SMCs</th>\n",
       "      <td>0.004933</td>\n",
       "      <td>0.043771</td>\n",
       "      <td>Tek</td>\n",
       "      <td>Vanlandewijck2018</td>\n",
       "      <td>Mouse</td>\n",
       "      <td>297</td>\n",
       "    </tr>\n",
       "  </tbody>\n",
       "</table>\n",
       "</div>"
      ],
      "text/plain": [
       "             mean_expression  fraction_of_cells gene             source  \\\n",
       "clusters                                                                  \n",
       "Astrocytes          0.000000           0.132000  Tek  Vanlandewijck2018   \n",
       "ECs                 1.000000           0.965969  Tek  Vanlandewijck2018   \n",
       "Fibroblasts         0.004707           0.046512  Tek  Vanlandewijck2018   \n",
       "Oligos              0.000559           0.032258  Tek  Vanlandewijck2018   \n",
       "Pericytes           0.014129           0.091912  Tek  Vanlandewijck2018   \n",
       "SMCs                0.004933           0.043771  Tek  Vanlandewijck2018   \n",
       "\n",
       "            organism  cell_number  \n",
       "clusters                           \n",
       "Astrocytes     Mouse          250  \n",
       "ECs            Mouse         1528  \n",
       "Fibroblasts    Mouse           86  \n",
       "Oligos         Mouse          155  \n",
       "Pericytes      Mouse         1088  \n",
       "SMCs           Mouse          297  "
      ]
     },
     "execution_count": 142,
     "metadata": {},
     "output_type": "execute_result"
    }
   ],
   "source": [
    "foxf2 = pd.concat([ex, fc], axis=1)\n",
    "foxf2['gene'] = gene\n",
    "foxf2['source'] = \"Vanlandewijck2018\"\n",
    "foxf2['organism'] = \"Mouse\"\n",
    "foxf2['cell_number'] = pd.DataFrame(ad_merged.obs[\"clusters\"].value_counts()).reindex(foxf2.index)\n",
    "foxf2"
   ]
  },
  {
   "cell_type": "code",
   "execution_count": 143,
   "id": "e190b9da-d68a-469d-9fb4-1dbefa7de275",
   "metadata": {},
   "outputs": [],
   "source": [
    "# export\n",
    "name='Vanlandewijck2018'"
   ]
  },
  {
   "cell_type": "code",
   "execution_count": 144,
   "id": "7ee83b44-8c8a-464d-990b-771d51e3983d",
   "metadata": {},
   "outputs": [],
   "source": [
    "# Win\n",
    "foxf2.to_csv(main_dir+'\\\\P6_Foxf2_per_celltype\\\\Other_genes_summarized\\\\'+ date.today().strftime(\"%Y%m%d\")+'_'+gene+'_'+name+'.csv',sep=';')"
   ]
  },
  {
   "cell_type": "markdown",
   "id": "14c4b8af-0cb5-4032-87c1-ad16fae53fb2",
   "metadata": {},
   "source": [
    "### Incl zonation"
   ]
  },
  {
   "cell_type": "code",
   "execution_count": 145,
   "id": "5910152d-0120-4189-a483-da2033ffd875",
   "metadata": {},
   "outputs": [],
   "source": [
    "# mean expression per group (normalized and scaled)\n",
    "ex = sc.pl.matrixplot(ad_merged, [gene], groupby='clusters2', swap_axes=False, figsize=(2,5), standard_scale=\"var\", return_fig=True).values_df\n",
    "ex.columns = ['mean_expression']"
   ]
  },
  {
   "cell_type": "code",
   "execution_count": 146,
   "id": "df49c3d3-ce4b-4bb3-a81c-1f830371bf67",
   "metadata": {},
   "outputs": [],
   "source": [
    "# dotplot dot size = fraction of cells in group expressing Foxf2\n",
    "fc = sc.pl.dotplot(ad_merged, [gene], groupby='clusters2', swap_axes=False, figsize=(2,7), standard_scale=\"var\",return_fig=True).dot_size_df\n",
    "fc.columns = ['fraction_of_cells']"
   ]
  },
  {
   "cell_type": "code",
   "execution_count": 147,
   "id": "42f769d7-59aa-4a8a-ad71-a3a879637d0d",
   "metadata": {},
   "outputs": [
    {
     "data": {
      "text/html": [
       "<div>\n",
       "<style scoped>\n",
       "    .dataframe tbody tr th:only-of-type {\n",
       "        vertical-align: middle;\n",
       "    }\n",
       "\n",
       "    .dataframe tbody tr th {\n",
       "        vertical-align: top;\n",
       "    }\n",
       "\n",
       "    .dataframe thead th {\n",
       "        text-align: right;\n",
       "    }\n",
       "</style>\n",
       "<table border=\"1\" class=\"dataframe\">\n",
       "  <thead>\n",
       "    <tr style=\"text-align: right;\">\n",
       "      <th></th>\n",
       "      <th>mean_expression</th>\n",
       "      <th>fraction_of_cells</th>\n",
       "      <th>gene</th>\n",
       "      <th>source</th>\n",
       "      <th>organism</th>\n",
       "      <th>cell_number</th>\n",
       "    </tr>\n",
       "    <tr>\n",
       "      <th>clusters2</th>\n",
       "      <th></th>\n",
       "      <th></th>\n",
       "      <th></th>\n",
       "      <th></th>\n",
       "      <th></th>\n",
       "      <th></th>\n",
       "    </tr>\n",
       "  </thead>\n",
       "  <tbody>\n",
       "    <tr>\n",
       "      <th>Astrocytes</th>\n",
       "      <td>0.000000</td>\n",
       "      <td>0.132000</td>\n",
       "      <td>Tek</td>\n",
       "      <td>Vanlandewijck2018</td>\n",
       "      <td>Mouse</td>\n",
       "      <td>250</td>\n",
       "    </tr>\n",
       "    <tr>\n",
       "      <th>ECs_Arterial</th>\n",
       "      <td>1.000000</td>\n",
       "      <td>0.984887</td>\n",
       "      <td>Tek</td>\n",
       "      <td>Vanlandewijck2018</td>\n",
       "      <td>Mouse</td>\n",
       "      <td>397</td>\n",
       "    </tr>\n",
       "    <tr>\n",
       "      <th>ECs_Capillary</th>\n",
       "      <td>0.779048</td>\n",
       "      <td>0.977778</td>\n",
       "      <td>Tek</td>\n",
       "      <td>Vanlandewijck2018</td>\n",
       "      <td>Mouse</td>\n",
       "      <td>405</td>\n",
       "    </tr>\n",
       "    <tr>\n",
       "      <th>ECs_Venous</th>\n",
       "      <td>0.970054</td>\n",
       "      <td>0.996644</td>\n",
       "      <td>Tek</td>\n",
       "      <td>Vanlandewijck2018</td>\n",
       "      <td>Mouse</td>\n",
       "      <td>298</td>\n",
       "    </tr>\n",
       "    <tr>\n",
       "      <th>ECs_non_AV</th>\n",
       "      <td>0.895323</td>\n",
       "      <td>0.915888</td>\n",
       "      <td>Tek</td>\n",
       "      <td>Vanlandewijck2018</td>\n",
       "      <td>Mouse</td>\n",
       "      <td>428</td>\n",
       "    </tr>\n",
       "    <tr>\n",
       "      <th>Fibroblasts</th>\n",
       "      <td>0.004266</td>\n",
       "      <td>0.046512</td>\n",
       "      <td>Tek</td>\n",
       "      <td>Vanlandewijck2018</td>\n",
       "      <td>Mouse</td>\n",
       "      <td>86</td>\n",
       "    </tr>\n",
       "    <tr>\n",
       "      <th>Oligos</th>\n",
       "      <td>0.000507</td>\n",
       "      <td>0.032258</td>\n",
       "      <td>Tek</td>\n",
       "      <td>Vanlandewijck2018</td>\n",
       "      <td>Mouse</td>\n",
       "      <td>155</td>\n",
       "    </tr>\n",
       "    <tr>\n",
       "      <th>Pericytes</th>\n",
       "      <td>0.012805</td>\n",
       "      <td>0.091912</td>\n",
       "      <td>Tek</td>\n",
       "      <td>Vanlandewijck2018</td>\n",
       "      <td>Mouse</td>\n",
       "      <td>1088</td>\n",
       "    </tr>\n",
       "    <tr>\n",
       "      <th>SMCs</th>\n",
       "      <td>0.004471</td>\n",
       "      <td>0.043771</td>\n",
       "      <td>Tek</td>\n",
       "      <td>Vanlandewijck2018</td>\n",
       "      <td>Mouse</td>\n",
       "      <td>297</td>\n",
       "    </tr>\n",
       "  </tbody>\n",
       "</table>\n",
       "</div>"
      ],
      "text/plain": [
       "               mean_expression  fraction_of_cells gene             source  \\\n",
       "clusters2                                                                   \n",
       "Astrocytes            0.000000           0.132000  Tek  Vanlandewijck2018   \n",
       "ECs_Arterial          1.000000           0.984887  Tek  Vanlandewijck2018   \n",
       "ECs_Capillary         0.779048           0.977778  Tek  Vanlandewijck2018   \n",
       "ECs_Venous            0.970054           0.996644  Tek  Vanlandewijck2018   \n",
       "ECs_non_AV            0.895323           0.915888  Tek  Vanlandewijck2018   \n",
       "Fibroblasts           0.004266           0.046512  Tek  Vanlandewijck2018   \n",
       "Oligos                0.000507           0.032258  Tek  Vanlandewijck2018   \n",
       "Pericytes             0.012805           0.091912  Tek  Vanlandewijck2018   \n",
       "SMCs                  0.004471           0.043771  Tek  Vanlandewijck2018   \n",
       "\n",
       "              organism  cell_number  \n",
       "clusters2                            \n",
       "Astrocytes       Mouse          250  \n",
       "ECs_Arterial     Mouse          397  \n",
       "ECs_Capillary    Mouse          405  \n",
       "ECs_Venous       Mouse          298  \n",
       "ECs_non_AV       Mouse          428  \n",
       "Fibroblasts      Mouse           86  \n",
       "Oligos           Mouse          155  \n",
       "Pericytes        Mouse         1088  \n",
       "SMCs             Mouse          297  "
      ]
     },
     "execution_count": 147,
     "metadata": {},
     "output_type": "execute_result"
    }
   ],
   "source": [
    "foxf2 = pd.concat([ex, fc], axis=1)\n",
    "foxf2['gene'] = gene\n",
    "foxf2['source'] = \"Vanlandewijck2018\"\n",
    "foxf2['organism'] = \"Mouse\"\n",
    "foxf2['cell_number'] = pd.DataFrame(ad_merged.obs[\"clusters2\"].value_counts()).reindex(foxf2.index)\n",
    "foxf2"
   ]
  },
  {
   "cell_type": "code",
   "execution_count": 148,
   "id": "5c1f9589-d0f6-4da4-aa8a-47849931c7b3",
   "metadata": {},
   "outputs": [],
   "source": [
    "# export\n",
    "name='Vanlandewijck2018'"
   ]
  },
  {
   "cell_type": "code",
   "execution_count": 149,
   "id": "60a60bf1-755a-4d82-b746-c54343508f1c",
   "metadata": {},
   "outputs": [],
   "source": [
    "# Win\n",
    "foxf2.to_csv(main_dir+'\\\\P6_Foxf2_per_celltype\\\\Other_genes_summarized\\\\incl_zonation\\\\'+ date.today().strftime(\"%Y%m%d\")+'_'+gene+'_'+name+'_incl_zonation.csv',sep=';')"
   ]
  },
  {
   "cell_type": "markdown",
   "id": "070bff84-ec5b-412e-ad39-921144d55bfe",
   "metadata": {},
   "source": [
    "## Nos3 = eNOS"
   ]
  },
  {
   "cell_type": "code",
   "execution_count": 150,
   "id": "e2f2060a-28c6-4983-8ad8-f78859f241e0",
   "metadata": {},
   "outputs": [],
   "source": [
    "gene=\"Nos3\""
   ]
  },
  {
   "cell_type": "markdown",
   "id": "02879663-a42b-49c7-a36a-39d477fc33af",
   "metadata": {},
   "source": [
    "### Plot"
   ]
  },
  {
   "cell_type": "code",
   "execution_count": 151,
   "id": "80949813-dbe9-4665-be62-a6f709c4616b",
   "metadata": {},
   "outputs": [
    {
     "data": {
      "image/png": "[encoded data removed]",
      "text/plain": [
       "<Figure size 200x500 with 3 Axes>"
      ]
     },
     "metadata": {},
     "output_type": "display_data"
    }
   ],
   "source": [
    "sc.pl.matrixplot(ad_merged, [gene], groupby='clusters', swap_axes=False, figsize=(2,5), standard_scale=\"var\")"
   ]
  },
  {
   "cell_type": "code",
   "execution_count": 152,
   "id": "d1e99491-21e8-4590-ac48-7d60ec65588f",
   "metadata": {},
   "outputs": [
    {
     "data": {
      "image/png": "[encoded data removed]",
      "text/plain": [
       "<Figure size 200x500 with 3 Axes>"
      ]
     },
     "metadata": {},
     "output_type": "display_data"
    }
   ],
   "source": [
    "sc.pl.matrixplot(ad_merged, [gene], groupby='clusters2', swap_axes=False, figsize=(2,5), standard_scale=\"var\")"
   ]
  },
  {
   "cell_type": "code",
   "execution_count": 153,
   "id": "22fd8ea4-11ba-47af-977f-6191e900e230",
   "metadata": {},
   "outputs": [
    {
     "data": {
      "image/png": "[encoded data removed]",
      "text/plain": [
       "<Figure size 200x500 with 4 Axes>"
      ]
     },
     "metadata": {},
     "output_type": "display_data"
    }
   ],
   "source": [
    "sc.pl.dotplot(ad_merged, [gene], groupby='clusters', swap_axes=False, figsize=(2,5), standard_scale=\"var\")"
   ]
  },
  {
   "cell_type": "code",
   "execution_count": 154,
   "id": "055bee84-9b82-40ca-bbe5-2ba28e94777d",
   "metadata": {},
   "outputs": [
    {
     "data": {
      "image/png": "[encoded data removed]",
      "text/plain": [
       "<Figure size 200x500 with 4 Axes>"
      ]
     },
     "metadata": {},
     "output_type": "display_data"
    }
   ],
   "source": [
    "sc.pl.dotplot(ad_merged, [gene], groupby='clusters2', swap_axes=False, figsize=(2,5), standard_scale=\"var\")"
   ]
  },
  {
   "cell_type": "markdown",
   "id": "4c74c46a-5f6e-4183-8600-79535763bd38",
   "metadata": {},
   "source": [
    "### Excl zonation"
   ]
  },
  {
   "cell_type": "code",
   "execution_count": 155,
   "id": "034f0e5d-37e3-4c99-aabc-3686f26781a9",
   "metadata": {},
   "outputs": [
    {
     "data": {
      "text/html": [
       "<div>\n",
       "<style scoped>\n",
       "    .dataframe tbody tr th:only-of-type {\n",
       "        vertical-align: middle;\n",
       "    }\n",
       "\n",
       "    .dataframe tbody tr th {\n",
       "        vertical-align: top;\n",
       "    }\n",
       "\n",
       "    .dataframe thead th {\n",
       "        text-align: right;\n",
       "    }\n",
       "</style>\n",
       "<table border=\"1\" class=\"dataframe\">\n",
       "  <thead>\n",
       "    <tr style=\"text-align: right;\">\n",
       "      <th></th>\n",
       "      <th>mean_expression</th>\n",
       "    </tr>\n",
       "    <tr>\n",
       "      <th>clusters</th>\n",
       "      <th></th>\n",
       "    </tr>\n",
       "  </thead>\n",
       "  <tbody>\n",
       "    <tr>\n",
       "      <th>Astrocytes</th>\n",
       "      <td>0.000000</td>\n",
       "    </tr>\n",
       "    <tr>\n",
       "      <th>ECs</th>\n",
       "      <td>1.000000</td>\n",
       "    </tr>\n",
       "    <tr>\n",
       "      <th>Fibroblasts</th>\n",
       "      <td>0.052781</td>\n",
       "    </tr>\n",
       "    <tr>\n",
       "      <th>Oligos</th>\n",
       "      <td>0.005379</td>\n",
       "    </tr>\n",
       "    <tr>\n",
       "      <th>Pericytes</th>\n",
       "      <td>0.003093</td>\n",
       "    </tr>\n",
       "    <tr>\n",
       "      <th>SMCs</th>\n",
       "      <td>0.005031</td>\n",
       "    </tr>\n",
       "  </tbody>\n",
       "</table>\n",
       "</div>"
      ],
      "text/plain": [
       "             mean_expression\n",
       "clusters                    \n",
       "Astrocytes          0.000000\n",
       "ECs                 1.000000\n",
       "Fibroblasts         0.052781\n",
       "Oligos              0.005379\n",
       "Pericytes           0.003093\n",
       "SMCs                0.005031"
      ]
     },
     "execution_count": 155,
     "metadata": {},
     "output_type": "execute_result"
    }
   ],
   "source": [
    "# mean expression per group (normalized and scaled)\n",
    "ex = sc.pl.matrixplot(ad_merged, [gene], groupby='clusters', swap_axes=False, figsize=(2,5), standard_scale=\"var\", return_fig=True).values_df\n",
    "ex.columns = ['mean_expression']\n",
    "ex"
   ]
  },
  {
   "cell_type": "code",
   "execution_count": 156,
   "id": "d1c4d490-e4fb-4259-8bca-7610288100cc",
   "metadata": {},
   "outputs": [
    {
     "data": {
      "text/html": [
       "<div>\n",
       "<style scoped>\n",
       "    .dataframe tbody tr th:only-of-type {\n",
       "        vertical-align: middle;\n",
       "    }\n",
       "\n",
       "    .dataframe tbody tr th {\n",
       "        vertical-align: top;\n",
       "    }\n",
       "\n",
       "    .dataframe thead th {\n",
       "        text-align: right;\n",
       "    }\n",
       "</style>\n",
       "<table border=\"1\" class=\"dataframe\">\n",
       "  <thead>\n",
       "    <tr style=\"text-align: right;\">\n",
       "      <th></th>\n",
       "      <th>fraction_of_cells</th>\n",
       "    </tr>\n",
       "    <tr>\n",
       "      <th>clusters</th>\n",
       "      <th></th>\n",
       "    </tr>\n",
       "  </thead>\n",
       "  <tbody>\n",
       "    <tr>\n",
       "      <th>Astrocytes</th>\n",
       "      <td>0.056000</td>\n",
       "    </tr>\n",
       "    <tr>\n",
       "      <th>ECs</th>\n",
       "      <td>0.797120</td>\n",
       "    </tr>\n",
       "    <tr>\n",
       "      <th>Fibroblasts</th>\n",
       "      <td>0.069767</td>\n",
       "    </tr>\n",
       "    <tr>\n",
       "      <th>Oligos</th>\n",
       "      <td>0.045161</td>\n",
       "    </tr>\n",
       "    <tr>\n",
       "      <th>Pericytes</th>\n",
       "      <td>0.023897</td>\n",
       "    </tr>\n",
       "    <tr>\n",
       "      <th>SMCs</th>\n",
       "      <td>0.026936</td>\n",
       "    </tr>\n",
       "  </tbody>\n",
       "</table>\n",
       "</div>"
      ],
      "text/plain": [
       "             fraction_of_cells\n",
       "clusters                      \n",
       "Astrocytes            0.056000\n",
       "ECs                   0.797120\n",
       "Fibroblasts           0.069767\n",
       "Oligos                0.045161\n",
       "Pericytes             0.023897\n",
       "SMCs                  0.026936"
      ]
     },
     "execution_count": 156,
     "metadata": {},
     "output_type": "execute_result"
    }
   ],
   "source": [
    "# dotplot dot size = fraction of cells in group expressing Foxf2\n",
    "fc = sc.pl.dotplot(ad_merged, [gene], groupby='clusters', swap_axes=False, figsize=(2,7), standard_scale=\"var\",return_fig=True).dot_size_df\n",
    "fc.columns = ['fraction_of_cells']\n",
    "fc"
   ]
  },
  {
   "cell_type": "code",
   "execution_count": 157,
   "id": "cae10be9-dd1e-4271-ac81-48f73db8e468",
   "metadata": {},
   "outputs": [
    {
     "data": {
      "text/html": [
       "<div>\n",
       "<style scoped>\n",
       "    .dataframe tbody tr th:only-of-type {\n",
       "        vertical-align: middle;\n",
       "    }\n",
       "\n",
       "    .dataframe tbody tr th {\n",
       "        vertical-align: top;\n",
       "    }\n",
       "\n",
       "    .dataframe thead th {\n",
       "        text-align: right;\n",
       "    }\n",
       "</style>\n",
       "<table border=\"1\" class=\"dataframe\">\n",
       "  <thead>\n",
       "    <tr style=\"text-align: right;\">\n",
       "      <th></th>\n",
       "      <th>mean_expression</th>\n",
       "      <th>fraction_of_cells</th>\n",
       "      <th>gene</th>\n",
       "      <th>source</th>\n",
       "      <th>organism</th>\n",
       "      <th>cell_number</th>\n",
       "    </tr>\n",
       "    <tr>\n",
       "      <th>clusters</th>\n",
       "      <th></th>\n",
       "      <th></th>\n",
       "      <th></th>\n",
       "      <th></th>\n",
       "      <th></th>\n",
       "      <th></th>\n",
       "    </tr>\n",
       "  </thead>\n",
       "  <tbody>\n",
       "    <tr>\n",
       "      <th>Astrocytes</th>\n",
       "      <td>0.000000</td>\n",
       "      <td>0.056000</td>\n",
       "      <td>Nos3</td>\n",
       "      <td>Vanlandewijck2018</td>\n",
       "      <td>Mouse</td>\n",
       "      <td>250</td>\n",
       "    </tr>\n",
       "    <tr>\n",
       "      <th>ECs</th>\n",
       "      <td>1.000000</td>\n",
       "      <td>0.797120</td>\n",
       "      <td>Nos3</td>\n",
       "      <td>Vanlandewijck2018</td>\n",
       "      <td>Mouse</td>\n",
       "      <td>1528</td>\n",
       "    </tr>\n",
       "    <tr>\n",
       "      <th>Fibroblasts</th>\n",
       "      <td>0.052781</td>\n",
       "      <td>0.069767</td>\n",
       "      <td>Nos3</td>\n",
       "      <td>Vanlandewijck2018</td>\n",
       "      <td>Mouse</td>\n",
       "      <td>86</td>\n",
       "    </tr>\n",
       "    <tr>\n",
       "      <th>Oligos</th>\n",
       "      <td>0.005379</td>\n",
       "      <td>0.045161</td>\n",
       "      <td>Nos3</td>\n",
       "      <td>Vanlandewijck2018</td>\n",
       "      <td>Mouse</td>\n",
       "      <td>155</td>\n",
       "    </tr>\n",
       "    <tr>\n",
       "      <th>Pericytes</th>\n",
       "      <td>0.003093</td>\n",
       "      <td>0.023897</td>\n",
       "      <td>Nos3</td>\n",
       "      <td>Vanlandewijck2018</td>\n",
       "      <td>Mouse</td>\n",
       "      <td>1088</td>\n",
       "    </tr>\n",
       "    <tr>\n",
       "      <th>SMCs</th>\n",
       "      <td>0.005031</td>\n",
       "      <td>0.026936</td>\n",
       "      <td>Nos3</td>\n",
       "      <td>Vanlandewijck2018</td>\n",
       "      <td>Mouse</td>\n",
       "      <td>297</td>\n",
       "    </tr>\n",
       "  </tbody>\n",
       "</table>\n",
       "</div>"
      ],
      "text/plain": [
       "             mean_expression  fraction_of_cells  gene             source  \\\n",
       "clusters                                                                   \n",
       "Astrocytes          0.000000           0.056000  Nos3  Vanlandewijck2018   \n",
       "ECs                 1.000000           0.797120  Nos3  Vanlandewijck2018   \n",
       "Fibroblasts         0.052781           0.069767  Nos3  Vanlandewijck2018   \n",
       "Oligos              0.005379           0.045161  Nos3  Vanlandewijck2018   \n",
       "Pericytes           0.003093           0.023897  Nos3  Vanlandewijck2018   \n",
       "SMCs                0.005031           0.026936  Nos3  Vanlandewijck2018   \n",
       "\n",
       "            organism  cell_number  \n",
       "clusters                           \n",
       "Astrocytes     Mouse          250  \n",
       "ECs            Mouse         1528  \n",
       "Fibroblasts    Mouse           86  \n",
       "Oligos         Mouse          155  \n",
       "Pericytes      Mouse         1088  \n",
       "SMCs           Mouse          297  "
      ]
     },
     "execution_count": 157,
     "metadata": {},
     "output_type": "execute_result"
    }
   ],
   "source": [
    "foxf2 = pd.concat([ex, fc], axis=1)\n",
    "foxf2['gene'] = gene\n",
    "foxf2['source'] = \"Vanlandewijck2018\"\n",
    "foxf2['organism'] = \"Mouse\"\n",
    "foxf2['cell_number'] = pd.DataFrame(ad_merged.obs[\"clusters\"].value_counts()).reindex(foxf2.index)\n",
    "foxf2"
   ]
  },
  {
   "cell_type": "code",
   "execution_count": 158,
   "id": "f4aa20f2-9fba-4923-8743-daeca051745c",
   "metadata": {},
   "outputs": [],
   "source": [
    "# export\n",
    "name='Vanlandewijck2018'"
   ]
  },
  {
   "cell_type": "code",
   "execution_count": 159,
   "id": "65831fc5-39bb-4c36-bfb4-41e59d8706bd",
   "metadata": {},
   "outputs": [],
   "source": [
    "# Win\n",
    "foxf2.to_csv(main_dir+'\\\\P6_Foxf2_per_celltype\\\\Other_genes_summarized\\\\'+ date.today().strftime(\"%Y%m%d\")+'_'+gene+'_'+name+'.csv',sep=';')"
   ]
  },
  {
   "cell_type": "markdown",
   "id": "078b068a-118c-4275-8483-d08510bdb569",
   "metadata": {},
   "source": [
    "### Incl zonation"
   ]
  },
  {
   "cell_type": "code",
   "execution_count": 160,
   "id": "193d45fe-44b5-42bd-9203-292a9156a9e4",
   "metadata": {},
   "outputs": [],
   "source": [
    "# mean expression per group (normalized and scaled)\n",
    "ex = sc.pl.matrixplot(ad_merged, [gene], groupby='clusters2', swap_axes=False, figsize=(2,5), standard_scale=\"var\", return_fig=True).values_df\n",
    "ex.columns = ['mean_expression']"
   ]
  },
  {
   "cell_type": "code",
   "execution_count": 161,
   "id": "68c1db37-100d-469d-b1d6-64d953499f4a",
   "metadata": {},
   "outputs": [],
   "source": [
    "# dotplot dot size = fraction of cells in group expressing Foxf2\n",
    "fc = sc.pl.dotplot(ad_merged, [gene], groupby='clusters2', swap_axes=False, figsize=(2,7), standard_scale=\"var\",return_fig=True).dot_size_df\n",
    "fc.columns = ['fraction_of_cells']"
   ]
  },
  {
   "cell_type": "code",
   "execution_count": 162,
   "id": "ba4d4403-fe89-4ebe-abed-926ec7fe15e1",
   "metadata": {},
   "outputs": [
    {
     "data": {
      "text/html": [
       "<div>\n",
       "<style scoped>\n",
       "    .dataframe tbody tr th:only-of-type {\n",
       "        vertical-align: middle;\n",
       "    }\n",
       "\n",
       "    .dataframe tbody tr th {\n",
       "        vertical-align: top;\n",
       "    }\n",
       "\n",
       "    .dataframe thead th {\n",
       "        text-align: right;\n",
       "    }\n",
       "</style>\n",
       "<table border=\"1\" class=\"dataframe\">\n",
       "  <thead>\n",
       "    <tr style=\"text-align: right;\">\n",
       "      <th></th>\n",
       "      <th>mean_expression</th>\n",
       "      <th>fraction_of_cells</th>\n",
       "      <th>gene</th>\n",
       "      <th>source</th>\n",
       "      <th>organism</th>\n",
       "      <th>cell_number</th>\n",
       "    </tr>\n",
       "    <tr>\n",
       "      <th>clusters2</th>\n",
       "      <th></th>\n",
       "      <th></th>\n",
       "      <th></th>\n",
       "      <th></th>\n",
       "      <th></th>\n",
       "      <th></th>\n",
       "    </tr>\n",
       "  </thead>\n",
       "  <tbody>\n",
       "    <tr>\n",
       "      <th>Astrocytes</th>\n",
       "      <td>0.000000</td>\n",
       "      <td>0.056000</td>\n",
       "      <td>Nos3</td>\n",
       "      <td>Vanlandewijck2018</td>\n",
       "      <td>Mouse</td>\n",
       "      <td>250</td>\n",
       "    </tr>\n",
       "    <tr>\n",
       "      <th>ECs_Arterial</th>\n",
       "      <td>0.758944</td>\n",
       "      <td>0.816121</td>\n",
       "      <td>Nos3</td>\n",
       "      <td>Vanlandewijck2018</td>\n",
       "      <td>Mouse</td>\n",
       "      <td>397</td>\n",
       "    </tr>\n",
       "    <tr>\n",
       "      <th>ECs_Capillary</th>\n",
       "      <td>0.719942</td>\n",
       "      <td>0.807407</td>\n",
       "      <td>Nos3</td>\n",
       "      <td>Vanlandewijck2018</td>\n",
       "      <td>Mouse</td>\n",
       "      <td>405</td>\n",
       "    </tr>\n",
       "    <tr>\n",
       "      <th>ECs_Venous</th>\n",
       "      <td>1.000000</td>\n",
       "      <td>0.899329</td>\n",
       "      <td>Nos3</td>\n",
       "      <td>Vanlandewijck2018</td>\n",
       "      <td>Mouse</td>\n",
       "      <td>298</td>\n",
       "    </tr>\n",
       "    <tr>\n",
       "      <th>ECs_non_AV</th>\n",
       "      <td>0.903684</td>\n",
       "      <td>0.698598</td>\n",
       "      <td>Nos3</td>\n",
       "      <td>Vanlandewijck2018</td>\n",
       "      <td>Mouse</td>\n",
       "      <td>428</td>\n",
       "    </tr>\n",
       "    <tr>\n",
       "      <th>Fibroblasts</th>\n",
       "      <td>0.044134</td>\n",
       "      <td>0.069767</td>\n",
       "      <td>Nos3</td>\n",
       "      <td>Vanlandewijck2018</td>\n",
       "      <td>Mouse</td>\n",
       "      <td>86</td>\n",
       "    </tr>\n",
       "    <tr>\n",
       "      <th>Oligos</th>\n",
       "      <td>0.004498</td>\n",
       "      <td>0.045161</td>\n",
       "      <td>Nos3</td>\n",
       "      <td>Vanlandewijck2018</td>\n",
       "      <td>Mouse</td>\n",
       "      <td>155</td>\n",
       "    </tr>\n",
       "    <tr>\n",
       "      <th>Pericytes</th>\n",
       "      <td>0.002586</td>\n",
       "      <td>0.023897</td>\n",
       "      <td>Nos3</td>\n",
       "      <td>Vanlandewijck2018</td>\n",
       "      <td>Mouse</td>\n",
       "      <td>1088</td>\n",
       "    </tr>\n",
       "    <tr>\n",
       "      <th>SMCs</th>\n",
       "      <td>0.004207</td>\n",
       "      <td>0.026936</td>\n",
       "      <td>Nos3</td>\n",
       "      <td>Vanlandewijck2018</td>\n",
       "      <td>Mouse</td>\n",
       "      <td>297</td>\n",
       "    </tr>\n",
       "  </tbody>\n",
       "</table>\n",
       "</div>"
      ],
      "text/plain": [
       "               mean_expression  fraction_of_cells  gene             source  \\\n",
       "clusters2                                                                    \n",
       "Astrocytes            0.000000           0.056000  Nos3  Vanlandewijck2018   \n",
       "ECs_Arterial          0.758944           0.816121  Nos3  Vanlandewijck2018   \n",
       "ECs_Capillary         0.719942           0.807407  Nos3  Vanlandewijck2018   \n",
       "ECs_Venous            1.000000           0.899329  Nos3  Vanlandewijck2018   \n",
       "ECs_non_AV            0.903684           0.698598  Nos3  Vanlandewijck2018   \n",
       "Fibroblasts           0.044134           0.069767  Nos3  Vanlandewijck2018   \n",
       "Oligos                0.004498           0.045161  Nos3  Vanlandewijck2018   \n",
       "Pericytes             0.002586           0.023897  Nos3  Vanlandewijck2018   \n",
       "SMCs                  0.004207           0.026936  Nos3  Vanlandewijck2018   \n",
       "\n",
       "              organism  cell_number  \n",
       "clusters2                            \n",
       "Astrocytes       Mouse          250  \n",
       "ECs_Arterial     Mouse          397  \n",
       "ECs_Capillary    Mouse          405  \n",
       "ECs_Venous       Mouse          298  \n",
       "ECs_non_AV       Mouse          428  \n",
       "Fibroblasts      Mouse           86  \n",
       "Oligos           Mouse          155  \n",
       "Pericytes        Mouse         1088  \n",
       "SMCs             Mouse          297  "
      ]
     },
     "execution_count": 162,
     "metadata": {},
     "output_type": "execute_result"
    }
   ],
   "source": [
    "foxf2 = pd.concat([ex, fc], axis=1)\n",
    "foxf2['gene'] = gene\n",
    "foxf2['source'] = \"Vanlandewijck2018\"\n",
    "foxf2['organism'] = \"Mouse\"\n",
    "foxf2['cell_number'] = pd.DataFrame(ad_merged.obs[\"clusters2\"].value_counts()).reindex(foxf2.index)\n",
    "foxf2"
   ]
  },
  {
   "cell_type": "code",
   "execution_count": 163,
   "id": "7c9c898e-3e81-4e46-a8e3-a24996252eb6",
   "metadata": {},
   "outputs": [],
   "source": [
    "# export\n",
    "name='Vanlandewijck2018'"
   ]
  },
  {
   "cell_type": "code",
   "execution_count": 164,
   "id": "72c6643a-605f-48e6-967e-b357b5082256",
   "metadata": {},
   "outputs": [],
   "source": [
    "# Win\n",
    "foxf2.to_csv(main_dir+'\\\\P6_Foxf2_per_celltype\\\\Other_genes_summarized\\\\incl_zonation\\\\'+ date.today().strftime(\"%Y%m%d\")+'_'+gene+'_'+name+'_incl_zonation.csv',sep=';')"
   ]
  },
  {
   "cell_type": "markdown",
   "id": "f1f01a5c-b431-4c00-9a15-6d45bca07880",
   "metadata": {},
   "source": [
    "## Htra1"
   ]
  },
  {
   "cell_type": "code",
   "execution_count": 100,
   "id": "4c13ed9b-d9d5-49d4-b81f-24d95af52c62",
   "metadata": {},
   "outputs": [],
   "source": [
    "gene=\"Htra1\""
   ]
  },
  {
   "cell_type": "markdown",
   "id": "6489e40e-edc4-4a3d-8c41-3bfc6250e2dc",
   "metadata": {},
   "source": [
    "### Plot"
   ]
  },
  {
   "cell_type": "code",
   "execution_count": 101,
   "id": "bc5e7c3d-a6a3-46fc-bd9d-a044f5563ad2",
   "metadata": {},
   "outputs": [
    {
     "data": {
      "image/png": "[encoded data removed]",
      "text/plain": [
       "<Figure size 200x500 with 3 Axes>"
      ]
     },
     "metadata": {},
     "output_type": "display_data"
    }
   ],
   "source": [
    "sc.pl.matrixplot(ad_merged, [gene], groupby='clusters', swap_axes=False, figsize=(2,5), standard_scale=\"var\")"
   ]
  },
  {
   "cell_type": "code",
   "execution_count": 102,
   "id": "51a85d61-5bb5-45c4-9adc-38c3e79ec6dc",
   "metadata": {},
   "outputs": [
    {
     "data": {
      "image/png": "[encoded data removed]",
      "text/plain": [
       "<Figure size 200x500 with 3 Axes>"
      ]
     },
     "metadata": {},
     "output_type": "display_data"
    }
   ],
   "source": [
    "sc.pl.matrixplot(ad_merged, [gene], groupby='clusters2', swap_axes=False, figsize=(2,5), standard_scale=\"var\")"
   ]
  },
  {
   "cell_type": "code",
   "execution_count": 103,
   "id": "a3919ab8-f910-4fe6-83c3-6daf62a96718",
   "metadata": {},
   "outputs": [
    {
     "data": {
      "image/png": "[encoded data removed]",
      "text/plain": [
       "<Figure size 200x500 with 4 Axes>"
      ]
     },
     "metadata": {},
     "output_type": "display_data"
    }
   ],
   "source": [
    "sc.pl.dotplot(ad_merged, [gene], groupby='clusters', swap_axes=False, figsize=(2,5), standard_scale=\"var\")"
   ]
  },
  {
   "cell_type": "code",
   "execution_count": 104,
   "id": "37ebe91b-176f-4ec8-b9a7-dd3da9355c71",
   "metadata": {},
   "outputs": [
    {
     "data": {
      "image/png": "[encoded data removed]",
      "text/plain": [
       "<Figure size 200x500 with 4 Axes>"
      ]
     },
     "metadata": {},
     "output_type": "display_data"
    }
   ],
   "source": [
    "sc.pl.dotplot(ad_merged, [gene], groupby='clusters2', swap_axes=False, figsize=(2,5), standard_scale=\"var\")"
   ]
  },
  {
   "cell_type": "markdown",
   "id": "cc51879b-d351-4bd6-8b30-8e930ac28e11",
   "metadata": {},
   "source": [
    "### Excl zonation"
   ]
  },
  {
   "cell_type": "code",
   "execution_count": 105,
   "id": "914fcb29-56b9-4563-844d-66672144548a",
   "metadata": {},
   "outputs": [
    {
     "data": {
      "text/html": [
       "<div>\n",
       "<style scoped>\n",
       "    .dataframe tbody tr th:only-of-type {\n",
       "        vertical-align: middle;\n",
       "    }\n",
       "\n",
       "    .dataframe tbody tr th {\n",
       "        vertical-align: top;\n",
       "    }\n",
       "\n",
       "    .dataframe thead th {\n",
       "        text-align: right;\n",
       "    }\n",
       "</style>\n",
       "<table border=\"1\" class=\"dataframe\">\n",
       "  <thead>\n",
       "    <tr style=\"text-align: right;\">\n",
       "      <th></th>\n",
       "      <th>mean_expression</th>\n",
       "    </tr>\n",
       "    <tr>\n",
       "      <th>clusters</th>\n",
       "      <th></th>\n",
       "    </tr>\n",
       "  </thead>\n",
       "  <tbody>\n",
       "    <tr>\n",
       "      <th>Astrocytes</th>\n",
       "      <td>1.000000</td>\n",
       "    </tr>\n",
       "    <tr>\n",
       "      <th>ECs</th>\n",
       "      <td>0.017986</td>\n",
       "    </tr>\n",
       "    <tr>\n",
       "      <th>Fibroblasts</th>\n",
       "      <td>0.080460</td>\n",
       "    </tr>\n",
       "    <tr>\n",
       "      <th>Oligos</th>\n",
       "      <td>0.107076</td>\n",
       "    </tr>\n",
       "    <tr>\n",
       "      <th>Pericytes</th>\n",
       "      <td>0.007577</td>\n",
       "    </tr>\n",
       "    <tr>\n",
       "      <th>SMCs</th>\n",
       "      <td>0.000000</td>\n",
       "    </tr>\n",
       "  </tbody>\n",
       "</table>\n",
       "</div>"
      ],
      "text/plain": [
       "             mean_expression\n",
       "clusters                    \n",
       "Astrocytes          1.000000\n",
       "ECs                 0.017986\n",
       "Fibroblasts         0.080460\n",
       "Oligos              0.107076\n",
       "Pericytes           0.007577\n",
       "SMCs                0.000000"
      ]
     },
     "execution_count": 105,
     "metadata": {},
     "output_type": "execute_result"
    }
   ],
   "source": [
    "# mean expression per group (normalized and scaled)\n",
    "ex = sc.pl.matrixplot(ad_merged, [gene], groupby='clusters', swap_axes=False, figsize=(2,5), standard_scale=\"var\", return_fig=True).values_df\n",
    "ex.columns = ['mean_expression']\n",
    "ex"
   ]
  },
  {
   "cell_type": "code",
   "execution_count": 106,
   "id": "093721c5-d58d-4194-91c1-7048019b570f",
   "metadata": {},
   "outputs": [
    {
     "data": {
      "text/html": [
       "<div>\n",
       "<style scoped>\n",
       "    .dataframe tbody tr th:only-of-type {\n",
       "        vertical-align: middle;\n",
       "    }\n",
       "\n",
       "    .dataframe tbody tr th {\n",
       "        vertical-align: top;\n",
       "    }\n",
       "\n",
       "    .dataframe thead th {\n",
       "        text-align: right;\n",
       "    }\n",
       "</style>\n",
       "<table border=\"1\" class=\"dataframe\">\n",
       "  <thead>\n",
       "    <tr style=\"text-align: right;\">\n",
       "      <th></th>\n",
       "      <th>fraction_of_cells</th>\n",
       "    </tr>\n",
       "    <tr>\n",
       "      <th>clusters</th>\n",
       "      <th></th>\n",
       "    </tr>\n",
       "  </thead>\n",
       "  <tbody>\n",
       "    <tr>\n",
       "      <th>Astrocytes</th>\n",
       "      <td>1.000000</td>\n",
       "    </tr>\n",
       "    <tr>\n",
       "      <th>ECs</th>\n",
       "      <td>0.375000</td>\n",
       "    </tr>\n",
       "    <tr>\n",
       "      <th>Fibroblasts</th>\n",
       "      <td>0.651163</td>\n",
       "    </tr>\n",
       "    <tr>\n",
       "      <th>Oligos</th>\n",
       "      <td>0.845161</td>\n",
       "    </tr>\n",
       "    <tr>\n",
       "      <th>Pericytes</th>\n",
       "      <td>0.288603</td>\n",
       "    </tr>\n",
       "    <tr>\n",
       "      <th>SMCs</th>\n",
       "      <td>0.383838</td>\n",
       "    </tr>\n",
       "  </tbody>\n",
       "</table>\n",
       "</div>"
      ],
      "text/plain": [
       "             fraction_of_cells\n",
       "clusters                      \n",
       "Astrocytes            1.000000\n",
       "ECs                   0.375000\n",
       "Fibroblasts           0.651163\n",
       "Oligos                0.845161\n",
       "Pericytes             0.288603\n",
       "SMCs                  0.383838"
      ]
     },
     "execution_count": 106,
     "metadata": {},
     "output_type": "execute_result"
    }
   ],
   "source": [
    "# dotplot dot size = fraction of cells in group expressing Foxf2\n",
    "fc = sc.pl.dotplot(ad_merged, [gene], groupby='clusters', swap_axes=False, figsize=(2,7), standard_scale=\"var\",return_fig=True).dot_size_df\n",
    "fc.columns = ['fraction_of_cells']\n",
    "fc"
   ]
  },
  {
   "cell_type": "code",
   "execution_count": 107,
   "id": "57646d35-76b6-4683-b8b4-da4997f38fee",
   "metadata": {},
   "outputs": [
    {
     "data": {
      "text/html": [
       "<div>\n",
       "<style scoped>\n",
       "    .dataframe tbody tr th:only-of-type {\n",
       "        vertical-align: middle;\n",
       "    }\n",
       "\n",
       "    .dataframe tbody tr th {\n",
       "        vertical-align: top;\n",
       "    }\n",
       "\n",
       "    .dataframe thead th {\n",
       "        text-align: right;\n",
       "    }\n",
       "</style>\n",
       "<table border=\"1\" class=\"dataframe\">\n",
       "  <thead>\n",
       "    <tr style=\"text-align: right;\">\n",
       "      <th></th>\n",
       "      <th>mean_expression</th>\n",
       "      <th>fraction_of_cells</th>\n",
       "      <th>gene</th>\n",
       "      <th>source</th>\n",
       "      <th>organism</th>\n",
       "      <th>cell_number</th>\n",
       "    </tr>\n",
       "    <tr>\n",
       "      <th>clusters</th>\n",
       "      <th></th>\n",
       "      <th></th>\n",
       "      <th></th>\n",
       "      <th></th>\n",
       "      <th></th>\n",
       "      <th></th>\n",
       "    </tr>\n",
       "  </thead>\n",
       "  <tbody>\n",
       "    <tr>\n",
       "      <th>Astrocytes</th>\n",
       "      <td>1.000000</td>\n",
       "      <td>1.000000</td>\n",
       "      <td>Htra1</td>\n",
       "      <td>Vanlandewijck2018</td>\n",
       "      <td>Mouse</td>\n",
       "      <td>250</td>\n",
       "    </tr>\n",
       "    <tr>\n",
       "      <th>ECs</th>\n",
       "      <td>0.017986</td>\n",
       "      <td>0.375000</td>\n",
       "      <td>Htra1</td>\n",
       "      <td>Vanlandewijck2018</td>\n",
       "      <td>Mouse</td>\n",
       "      <td>1528</td>\n",
       "    </tr>\n",
       "    <tr>\n",
       "      <th>Fibroblasts</th>\n",
       "      <td>0.080460</td>\n",
       "      <td>0.651163</td>\n",
       "      <td>Htra1</td>\n",
       "      <td>Vanlandewijck2018</td>\n",
       "      <td>Mouse</td>\n",
       "      <td>86</td>\n",
       "    </tr>\n",
       "    <tr>\n",
       "      <th>Oligos</th>\n",
       "      <td>0.107076</td>\n",
       "      <td>0.845161</td>\n",
       "      <td>Htra1</td>\n",
       "      <td>Vanlandewijck2018</td>\n",
       "      <td>Mouse</td>\n",
       "      <td>155</td>\n",
       "    </tr>\n",
       "    <tr>\n",
       "      <th>Pericytes</th>\n",
       "      <td>0.007577</td>\n",
       "      <td>0.288603</td>\n",
       "      <td>Htra1</td>\n",
       "      <td>Vanlandewijck2018</td>\n",
       "      <td>Mouse</td>\n",
       "      <td>1088</td>\n",
       "    </tr>\n",
       "    <tr>\n",
       "      <th>SMCs</th>\n",
       "      <td>0.000000</td>\n",
       "      <td>0.383838</td>\n",
       "      <td>Htra1</td>\n",
       "      <td>Vanlandewijck2018</td>\n",
       "      <td>Mouse</td>\n",
       "      <td>297</td>\n",
       "    </tr>\n",
       "  </tbody>\n",
       "</table>\n",
       "</div>"
      ],
      "text/plain": [
       "             mean_expression  fraction_of_cells   gene             source  \\\n",
       "clusters                                                                    \n",
       "Astrocytes          1.000000           1.000000  Htra1  Vanlandewijck2018   \n",
       "ECs                 0.017986           0.375000  Htra1  Vanlandewijck2018   \n",
       "Fibroblasts         0.080460           0.651163  Htra1  Vanlandewijck2018   \n",
       "Oligos              0.107076           0.845161  Htra1  Vanlandewijck2018   \n",
       "Pericytes           0.007577           0.288603  Htra1  Vanlandewijck2018   \n",
       "SMCs                0.000000           0.383838  Htra1  Vanlandewijck2018   \n",
       "\n",
       "            organism  cell_number  \n",
       "clusters                           \n",
       "Astrocytes     Mouse          250  \n",
       "ECs            Mouse         1528  \n",
       "Fibroblasts    Mouse           86  \n",
       "Oligos         Mouse          155  \n",
       "Pericytes      Mouse         1088  \n",
       "SMCs           Mouse          297  "
      ]
     },
     "execution_count": 107,
     "metadata": {},
     "output_type": "execute_result"
    }
   ],
   "source": [
    "foxf2 = pd.concat([ex, fc], axis=1)\n",
    "foxf2['gene'] = gene\n",
    "foxf2['source'] = \"Vanlandewijck2018\"\n",
    "foxf2['organism'] = \"Mouse\"\n",
    "foxf2['cell_number'] = pd.DataFrame(ad_merged.obs[\"clusters\"].value_counts()).reindex(foxf2.index)\n",
    "foxf2"
   ]
  },
  {
   "cell_type": "code",
   "execution_count": 108,
   "id": "f0ef876b-b70b-41f7-988c-8cb553fcbdf4",
   "metadata": {},
   "outputs": [],
   "source": [
    "# export\n",
    "name='Vanlandewijck2018'"
   ]
  },
  {
   "cell_type": "code",
   "execution_count": 109,
   "id": "a05ebced-734a-4ede-b66b-12024d2571e8",
   "metadata": {},
   "outputs": [],
   "source": [
    "# Win\n",
    "foxf2.to_csv(main_dir+'\\\\P6_Foxf2_per_celltype\\\\Other_genes_summarized\\\\'+ date.today().strftime(\"%Y%m%d\")+'_'+gene+'_'+name+'.csv',sep=';')"
   ]
  },
  {
   "cell_type": "markdown",
   "id": "3db8d748-762a-4ae3-a59a-3404c5dfc40b",
   "metadata": {},
   "source": [
    "### Incl zonation"
   ]
  },
  {
   "cell_type": "code",
   "execution_count": 110,
   "id": "66f9d6ba-931b-42f9-a2b2-79cec2fed599",
   "metadata": {},
   "outputs": [],
   "source": [
    "# mean expression per group (normalized and scaled)\n",
    "ex = sc.pl.matrixplot(ad_merged, [gene], groupby='clusters2', swap_axes=False, figsize=(2,5), standard_scale=\"var\", return_fig=True).values_df\n",
    "ex.columns = ['mean_expression']"
   ]
  },
  {
   "cell_type": "code",
   "execution_count": 111,
   "id": "c8165ddf-d7a6-4df3-9d6e-5e244d6c34cd",
   "metadata": {},
   "outputs": [],
   "source": [
    "# dotplot dot size = fraction of cells in group expressing Foxf2\n",
    "fc = sc.pl.dotplot(ad_merged, [gene], groupby='clusters2', swap_axes=False, figsize=(2,7), standard_scale=\"var\",return_fig=True).dot_size_df\n",
    "fc.columns = ['fraction_of_cells']"
   ]
  },
  {
   "cell_type": "code",
   "execution_count": 112,
   "id": "27120eb9-444e-484b-a1f2-5bd2f02afc50",
   "metadata": {},
   "outputs": [
    {
     "data": {
      "text/html": [
       "<div>\n",
       "<style scoped>\n",
       "    .dataframe tbody tr th:only-of-type {\n",
       "        vertical-align: middle;\n",
       "    }\n",
       "\n",
       "    .dataframe tbody tr th {\n",
       "        vertical-align: top;\n",
       "    }\n",
       "\n",
       "    .dataframe thead th {\n",
       "        text-align: right;\n",
       "    }\n",
       "</style>\n",
       "<table border=\"1\" class=\"dataframe\">\n",
       "  <thead>\n",
       "    <tr style=\"text-align: right;\">\n",
       "      <th></th>\n",
       "      <th>mean_expression</th>\n",
       "      <th>fraction_of_cells</th>\n",
       "      <th>gene</th>\n",
       "      <th>source</th>\n",
       "      <th>organism</th>\n",
       "      <th>cell_number</th>\n",
       "    </tr>\n",
       "    <tr>\n",
       "      <th>clusters2</th>\n",
       "      <th></th>\n",
       "      <th></th>\n",
       "      <th></th>\n",
       "      <th></th>\n",
       "      <th></th>\n",
       "      <th></th>\n",
       "    </tr>\n",
       "  </thead>\n",
       "  <tbody>\n",
       "    <tr>\n",
       "      <th>Astrocytes</th>\n",
       "      <td>1.000000</td>\n",
       "      <td>1.000000</td>\n",
       "      <td>Htra1</td>\n",
       "      <td>Vanlandewijck2018</td>\n",
       "      <td>Mouse</td>\n",
       "      <td>250</td>\n",
       "    </tr>\n",
       "    <tr>\n",
       "      <th>ECs_Arterial</th>\n",
       "      <td>0.018875</td>\n",
       "      <td>0.438287</td>\n",
       "      <td>Htra1</td>\n",
       "      <td>Vanlandewijck2018</td>\n",
       "      <td>Mouse</td>\n",
       "      <td>397</td>\n",
       "    </tr>\n",
       "    <tr>\n",
       "      <th>ECs_Capillary</th>\n",
       "      <td>0.028745</td>\n",
       "      <td>0.474074</td>\n",
       "      <td>Htra1</td>\n",
       "      <td>Vanlandewijck2018</td>\n",
       "      <td>Mouse</td>\n",
       "      <td>405</td>\n",
       "    </tr>\n",
       "    <tr>\n",
       "      <th>ECs_Venous</th>\n",
       "      <td>0.000967</td>\n",
       "      <td>0.318792</td>\n",
       "      <td>Htra1</td>\n",
       "      <td>Vanlandewijck2018</td>\n",
       "      <td>Mouse</td>\n",
       "      <td>298</td>\n",
       "    </tr>\n",
       "    <tr>\n",
       "      <th>ECs_non_AV</th>\n",
       "      <td>0.018832</td>\n",
       "      <td>0.261682</td>\n",
       "      <td>Htra1</td>\n",
       "      <td>Vanlandewijck2018</td>\n",
       "      <td>Mouse</td>\n",
       "      <td>428</td>\n",
       "    </tr>\n",
       "    <tr>\n",
       "      <th>Fibroblasts</th>\n",
       "      <td>0.080460</td>\n",
       "      <td>0.651163</td>\n",
       "      <td>Htra1</td>\n",
       "      <td>Vanlandewijck2018</td>\n",
       "      <td>Mouse</td>\n",
       "      <td>86</td>\n",
       "    </tr>\n",
       "    <tr>\n",
       "      <th>Oligos</th>\n",
       "      <td>0.107076</td>\n",
       "      <td>0.845161</td>\n",
       "      <td>Htra1</td>\n",
       "      <td>Vanlandewijck2018</td>\n",
       "      <td>Mouse</td>\n",
       "      <td>155</td>\n",
       "    </tr>\n",
       "    <tr>\n",
       "      <th>Pericytes</th>\n",
       "      <td>0.007577</td>\n",
       "      <td>0.288603</td>\n",
       "      <td>Htra1</td>\n",
       "      <td>Vanlandewijck2018</td>\n",
       "      <td>Mouse</td>\n",
       "      <td>1088</td>\n",
       "    </tr>\n",
       "    <tr>\n",
       "      <th>SMCs</th>\n",
       "      <td>0.000000</td>\n",
       "      <td>0.383838</td>\n",
       "      <td>Htra1</td>\n",
       "      <td>Vanlandewijck2018</td>\n",
       "      <td>Mouse</td>\n",
       "      <td>297</td>\n",
       "    </tr>\n",
       "  </tbody>\n",
       "</table>\n",
       "</div>"
      ],
      "text/plain": [
       "               mean_expression  fraction_of_cells   gene             source  \\\n",
       "clusters2                                                                     \n",
       "Astrocytes            1.000000           1.000000  Htra1  Vanlandewijck2018   \n",
       "ECs_Arterial          0.018875           0.438287  Htra1  Vanlandewijck2018   \n",
       "ECs_Capillary         0.028745           0.474074  Htra1  Vanlandewijck2018   \n",
       "ECs_Venous            0.000967           0.318792  Htra1  Vanlandewijck2018   \n",
       "ECs_non_AV            0.018832           0.261682  Htra1  Vanlandewijck2018   \n",
       "Fibroblasts           0.080460           0.651163  Htra1  Vanlandewijck2018   \n",
       "Oligos                0.107076           0.845161  Htra1  Vanlandewijck2018   \n",
       "Pericytes             0.007577           0.288603  Htra1  Vanlandewijck2018   \n",
       "SMCs                  0.000000           0.383838  Htra1  Vanlandewijck2018   \n",
       "\n",
       "              organism  cell_number  \n",
       "clusters2                            \n",
       "Astrocytes       Mouse          250  \n",
       "ECs_Arterial     Mouse          397  \n",
       "ECs_Capillary    Mouse          405  \n",
       "ECs_Venous       Mouse          298  \n",
       "ECs_non_AV       Mouse          428  \n",
       "Fibroblasts      Mouse           86  \n",
       "Oligos           Mouse          155  \n",
       "Pericytes        Mouse         1088  \n",
       "SMCs             Mouse          297  "
      ]
     },
     "execution_count": 112,
     "metadata": {},
     "output_type": "execute_result"
    }
   ],
   "source": [
    "foxf2 = pd.concat([ex, fc], axis=1)\n",
    "foxf2['gene'] = gene\n",
    "foxf2['source'] = \"Vanlandewijck2018\"\n",
    "foxf2['organism'] = \"Mouse\"\n",
    "foxf2['cell_number'] = pd.DataFrame(ad_merged.obs[\"clusters2\"].value_counts()).reindex(foxf2.index)\n",
    "foxf2"
   ]
  },
  {
   "cell_type": "code",
   "execution_count": 113,
   "id": "2c84b55f-9216-44ce-9c84-0ca3740ae9c3",
   "metadata": {},
   "outputs": [],
   "source": [
    "# export\n",
    "name='Vanlandewijck2018'"
   ]
  },
  {
   "cell_type": "code",
   "execution_count": 114,
   "id": "292b28f2-e3bb-4af2-9aa7-0cb4c2e536f4",
   "metadata": {},
   "outputs": [],
   "source": [
    "# Win\n",
    "foxf2.to_csv(main_dir+'\\\\P6_Foxf2_per_celltype\\\\Other_genes_summarized\\\\incl_zonation\\\\'+ date.today().strftime(\"%Y%m%d\")+'_'+gene+'_'+name+'_incl_zonation.csv',sep=';')"
   ]
  },
  {
   "cell_type": "markdown",
   "id": "d9d1b48a-7b48-4942-b7c6-9cece508c211",
   "metadata": {},
   "source": [
    "## Egfl8"
   ]
  },
  {
   "cell_type": "code",
   "execution_count": 116,
   "id": "82f1ffdb-9c27-4a9b-96f4-1cfc5e9bb936",
   "metadata": {},
   "outputs": [],
   "source": [
    "gene=\"Egfl8\""
   ]
  },
  {
   "cell_type": "markdown",
   "id": "fcf33543-cf5b-4cd6-b050-302591eaef8d",
   "metadata": {},
   "source": [
    "### Plot"
   ]
  },
  {
   "cell_type": "code",
   "execution_count": 117,
   "id": "af7de56f-1e1b-489f-962b-2dcae49969b5",
   "metadata": {},
   "outputs": [
    {
     "data": {
      "image/png": "[encoded data removed]",
      "text/plain": [
       "<Figure size 200x500 with 3 Axes>"
      ]
     },
     "metadata": {},
     "output_type": "display_data"
    }
   ],
   "source": [
    "sc.pl.matrixplot(ad_merged, [gene], groupby='clusters', swap_axes=False, figsize=(2,5), standard_scale=\"var\")"
   ]
  },
  {
   "cell_type": "code",
   "execution_count": 118,
   "id": "e53fee34-0552-49a0-a134-94d0ed6a5d98",
   "metadata": {},
   "outputs": [
    {
     "data": {
      "image/png": "[encoded data removed]",
      "text/plain": [
       "<Figure size 200x500 with 3 Axes>"
      ]
     },
     "metadata": {},
     "output_type": "display_data"
    }
   ],
   "source": [
    "sc.pl.matrixplot(ad_merged, [gene], groupby='clusters2', swap_axes=False, figsize=(2,5), standard_scale=\"var\")"
   ]
  },
  {
   "cell_type": "code",
   "execution_count": 119,
   "id": "768c3ca2-a0d8-4dcf-8977-7ad7d0100c56",
   "metadata": {},
   "outputs": [
    {
     "data": {
      "image/png": "[encoded data removed]",
      "text/plain": [
       "<Figure size 200x500 with 4 Axes>"
      ]
     },
     "metadata": {},
     "output_type": "display_data"
    }
   ],
   "source": [
    "sc.pl.dotplot(ad_merged, [gene], groupby='clusters', swap_axes=False, figsize=(2,5), standard_scale=\"var\")"
   ]
  },
  {
   "cell_type": "code",
   "execution_count": 120,
   "id": "d6d6c48b-9d40-4869-b236-b58b928dd226",
   "metadata": {},
   "outputs": [
    {
     "data": {
      "image/png": "[encoded data removed]",
      "text/plain": [
       "<Figure size 200x500 with 4 Axes>"
      ]
     },
     "metadata": {},
     "output_type": "display_data"
    }
   ],
   "source": [
    "sc.pl.dotplot(ad_merged, [gene], groupby='clusters2', swap_axes=False, figsize=(2,5), standard_scale=\"var\")"
   ]
  },
  {
   "cell_type": "markdown",
   "id": "17ab78e4-bca3-4ab1-82b4-ff6e12073471",
   "metadata": {},
   "source": [
    "### Excl zonation"
   ]
  },
  {
   "cell_type": "code",
   "execution_count": 121,
   "id": "2df53cb5-fe49-4fb4-bc3f-fff8cbb3dbc7",
   "metadata": {},
   "outputs": [
    {
     "data": {
      "text/html": [
       "<div>\n",
       "<style scoped>\n",
       "    .dataframe tbody tr th:only-of-type {\n",
       "        vertical-align: middle;\n",
       "    }\n",
       "\n",
       "    .dataframe tbody tr th {\n",
       "        vertical-align: top;\n",
       "    }\n",
       "\n",
       "    .dataframe thead th {\n",
       "        text-align: right;\n",
       "    }\n",
       "</style>\n",
       "<table border=\"1\" class=\"dataframe\">\n",
       "  <thead>\n",
       "    <tr style=\"text-align: right;\">\n",
       "      <th></th>\n",
       "      <th>mean_expression</th>\n",
       "    </tr>\n",
       "    <tr>\n",
       "      <th>clusters</th>\n",
       "      <th></th>\n",
       "    </tr>\n",
       "  </thead>\n",
       "  <tbody>\n",
       "    <tr>\n",
       "      <th>Astrocytes</th>\n",
       "      <td>0.062616</td>\n",
       "    </tr>\n",
       "    <tr>\n",
       "      <th>ECs</th>\n",
       "      <td>1.000000</td>\n",
       "    </tr>\n",
       "    <tr>\n",
       "      <th>Fibroblasts</th>\n",
       "      <td>0.001564</td>\n",
       "    </tr>\n",
       "    <tr>\n",
       "      <th>Oligos</th>\n",
       "      <td>0.000000</td>\n",
       "    </tr>\n",
       "    <tr>\n",
       "      <th>Pericytes</th>\n",
       "      <td>0.033888</td>\n",
       "    </tr>\n",
       "    <tr>\n",
       "      <th>SMCs</th>\n",
       "      <td>0.019324</td>\n",
       "    </tr>\n",
       "  </tbody>\n",
       "</table>\n",
       "</div>"
      ],
      "text/plain": [
       "             mean_expression\n",
       "clusters                    \n",
       "Astrocytes          0.062616\n",
       "ECs                 1.000000\n",
       "Fibroblasts         0.001564\n",
       "Oligos              0.000000\n",
       "Pericytes           0.033888\n",
       "SMCs                0.019324"
      ]
     },
     "execution_count": 121,
     "metadata": {},
     "output_type": "execute_result"
    }
   ],
   "source": [
    "# mean expression per group (normalized and scaled)\n",
    "ex = sc.pl.matrixplot(ad_merged, [gene], groupby='clusters', swap_axes=False, figsize=(2,5), standard_scale=\"var\", return_fig=True).values_df\n",
    "ex.columns = ['mean_expression']\n",
    "ex"
   ]
  },
  {
   "cell_type": "code",
   "execution_count": 122,
   "id": "aea04e5a-7287-4707-bca8-22f02635fa28",
   "metadata": {},
   "outputs": [
    {
     "data": {
      "text/html": [
       "<div>\n",
       "<style scoped>\n",
       "    .dataframe tbody tr th:only-of-type {\n",
       "        vertical-align: middle;\n",
       "    }\n",
       "\n",
       "    .dataframe tbody tr th {\n",
       "        vertical-align: top;\n",
       "    }\n",
       "\n",
       "    .dataframe thead th {\n",
       "        text-align: right;\n",
       "    }\n",
       "</style>\n",
       "<table border=\"1\" class=\"dataframe\">\n",
       "  <thead>\n",
       "    <tr style=\"text-align: right;\">\n",
       "      <th></th>\n",
       "      <th>fraction_of_cells</th>\n",
       "    </tr>\n",
       "    <tr>\n",
       "      <th>clusters</th>\n",
       "      <th></th>\n",
       "    </tr>\n",
       "  </thead>\n",
       "  <tbody>\n",
       "    <tr>\n",
       "      <th>Astrocytes</th>\n",
       "      <td>0.036000</td>\n",
       "    </tr>\n",
       "    <tr>\n",
       "      <th>ECs</th>\n",
       "      <td>0.209424</td>\n",
       "    </tr>\n",
       "    <tr>\n",
       "      <th>Fibroblasts</th>\n",
       "      <td>0.046512</td>\n",
       "    </tr>\n",
       "    <tr>\n",
       "      <th>Oligos</th>\n",
       "      <td>0.006452</td>\n",
       "    </tr>\n",
       "    <tr>\n",
       "      <th>Pericytes</th>\n",
       "      <td>0.029412</td>\n",
       "    </tr>\n",
       "    <tr>\n",
       "      <th>SMCs</th>\n",
       "      <td>0.026936</td>\n",
       "    </tr>\n",
       "  </tbody>\n",
       "</table>\n",
       "</div>"
      ],
      "text/plain": [
       "             fraction_of_cells\n",
       "clusters                      \n",
       "Astrocytes            0.036000\n",
       "ECs                   0.209424\n",
       "Fibroblasts           0.046512\n",
       "Oligos                0.006452\n",
       "Pericytes             0.029412\n",
       "SMCs                  0.026936"
      ]
     },
     "execution_count": 122,
     "metadata": {},
     "output_type": "execute_result"
    }
   ],
   "source": [
    "# dotplot dot size = fraction of cells in group expressing Foxf2\n",
    "fc = sc.pl.dotplot(ad_merged, [gene], groupby='clusters', swap_axes=False, figsize=(2,7), standard_scale=\"var\",return_fig=True).dot_size_df\n",
    "fc.columns = ['fraction_of_cells']\n",
    "fc"
   ]
  },
  {
   "cell_type": "code",
   "execution_count": 123,
   "id": "edb509ed-e31c-4457-b87f-78a09fdb544e",
   "metadata": {},
   "outputs": [
    {
     "data": {
      "text/html": [
       "<div>\n",
       "<style scoped>\n",
       "    .dataframe tbody tr th:only-of-type {\n",
       "        vertical-align: middle;\n",
       "    }\n",
       "\n",
       "    .dataframe tbody tr th {\n",
       "        vertical-align: top;\n",
       "    }\n",
       "\n",
       "    .dataframe thead th {\n",
       "        text-align: right;\n",
       "    }\n",
       "</style>\n",
       "<table border=\"1\" class=\"dataframe\">\n",
       "  <thead>\n",
       "    <tr style=\"text-align: right;\">\n",
       "      <th></th>\n",
       "      <th>mean_expression</th>\n",
       "      <th>fraction_of_cells</th>\n",
       "      <th>gene</th>\n",
       "      <th>source</th>\n",
       "      <th>organism</th>\n",
       "      <th>cell_number</th>\n",
       "    </tr>\n",
       "    <tr>\n",
       "      <th>clusters</th>\n",
       "      <th></th>\n",
       "      <th></th>\n",
       "      <th></th>\n",
       "      <th></th>\n",
       "      <th></th>\n",
       "      <th></th>\n",
       "    </tr>\n",
       "  </thead>\n",
       "  <tbody>\n",
       "    <tr>\n",
       "      <th>Astrocytes</th>\n",
       "      <td>0.062616</td>\n",
       "      <td>0.036000</td>\n",
       "      <td>Egfl8</td>\n",
       "      <td>Vanlandewijck2018</td>\n",
       "      <td>Mouse</td>\n",
       "      <td>250</td>\n",
       "    </tr>\n",
       "    <tr>\n",
       "      <th>ECs</th>\n",
       "      <td>1.000000</td>\n",
       "      <td>0.209424</td>\n",
       "      <td>Egfl8</td>\n",
       "      <td>Vanlandewijck2018</td>\n",
       "      <td>Mouse</td>\n",
       "      <td>1528</td>\n",
       "    </tr>\n",
       "    <tr>\n",
       "      <th>Fibroblasts</th>\n",
       "      <td>0.001564</td>\n",
       "      <td>0.046512</td>\n",
       "      <td>Egfl8</td>\n",
       "      <td>Vanlandewijck2018</td>\n",
       "      <td>Mouse</td>\n",
       "      <td>86</td>\n",
       "    </tr>\n",
       "    <tr>\n",
       "      <th>Oligos</th>\n",
       "      <td>0.000000</td>\n",
       "      <td>0.006452</td>\n",
       "      <td>Egfl8</td>\n",
       "      <td>Vanlandewijck2018</td>\n",
       "      <td>Mouse</td>\n",
       "      <td>155</td>\n",
       "    </tr>\n",
       "    <tr>\n",
       "      <th>Pericytes</th>\n",
       "      <td>0.033888</td>\n",
       "      <td>0.029412</td>\n",
       "      <td>Egfl8</td>\n",
       "      <td>Vanlandewijck2018</td>\n",
       "      <td>Mouse</td>\n",
       "      <td>1088</td>\n",
       "    </tr>\n",
       "    <tr>\n",
       "      <th>SMCs</th>\n",
       "      <td>0.019324</td>\n",
       "      <td>0.026936</td>\n",
       "      <td>Egfl8</td>\n",
       "      <td>Vanlandewijck2018</td>\n",
       "      <td>Mouse</td>\n",
       "      <td>297</td>\n",
       "    </tr>\n",
       "  </tbody>\n",
       "</table>\n",
       "</div>"
      ],
      "text/plain": [
       "             mean_expression  fraction_of_cells   gene             source  \\\n",
       "clusters                                                                    \n",
       "Astrocytes          0.062616           0.036000  Egfl8  Vanlandewijck2018   \n",
       "ECs                 1.000000           0.209424  Egfl8  Vanlandewijck2018   \n",
       "Fibroblasts         0.001564           0.046512  Egfl8  Vanlandewijck2018   \n",
       "Oligos              0.000000           0.006452  Egfl8  Vanlandewijck2018   \n",
       "Pericytes           0.033888           0.029412  Egfl8  Vanlandewijck2018   \n",
       "SMCs                0.019324           0.026936  Egfl8  Vanlandewijck2018   \n",
       "\n",
       "            organism  cell_number  \n",
       "clusters                           \n",
       "Astrocytes     Mouse          250  \n",
       "ECs            Mouse         1528  \n",
       "Fibroblasts    Mouse           86  \n",
       "Oligos         Mouse          155  \n",
       "Pericytes      Mouse         1088  \n",
       "SMCs           Mouse          297  "
      ]
     },
     "execution_count": 123,
     "metadata": {},
     "output_type": "execute_result"
    }
   ],
   "source": [
    "foxf2 = pd.concat([ex, fc], axis=1)\n",
    "foxf2['gene'] = gene\n",
    "foxf2['source'] = \"Vanlandewijck2018\"\n",
    "foxf2['organism'] = \"Mouse\"\n",
    "foxf2['cell_number'] = pd.DataFrame(ad_merged.obs[\"clusters\"].value_counts()).reindex(foxf2.index)\n",
    "foxf2"
   ]
  },
  {
   "cell_type": "code",
   "execution_count": 124,
   "id": "cfb0e1fe-242c-4bc2-b413-37abe93687e5",
   "metadata": {},
   "outputs": [],
   "source": [
    "# export\n",
    "name='Vanlandewijck2018'"
   ]
  },
  {
   "cell_type": "code",
   "execution_count": 125,
   "id": "7956aba1-1237-46f3-99a3-1b09c43da45b",
   "metadata": {},
   "outputs": [],
   "source": [
    "# Win\n",
    "foxf2.to_csv(main_dir+'\\\\P6_Foxf2_per_celltype\\\\Other_genes_summarized\\\\'+ date.today().strftime(\"%Y%m%d\")+'_'+gene+'_'+name+'.csv',sep=';')"
   ]
  },
  {
   "cell_type": "markdown",
   "id": "62e5a988-7e02-44a6-9f6c-cdf242c58cb5",
   "metadata": {},
   "source": [
    "### Incl zonation"
   ]
  },
  {
   "cell_type": "code",
   "execution_count": 126,
   "id": "1fe49923-50c5-442e-815f-4bcf7c3d1479",
   "metadata": {},
   "outputs": [],
   "source": [
    "# mean expression per group (normalized and scaled)\n",
    "ex = sc.pl.matrixplot(ad_merged, [gene], groupby='clusters2', swap_axes=False, figsize=(2,5), standard_scale=\"var\", return_fig=True).values_df\n",
    "ex.columns = ['mean_expression']"
   ]
  },
  {
   "cell_type": "code",
   "execution_count": 127,
   "id": "41d9a710-d643-45f7-bafb-2fc800dfff93",
   "metadata": {},
   "outputs": [],
   "source": [
    "# dotplot dot size = fraction of cells in group expressing Foxf2\n",
    "fc = sc.pl.dotplot(ad_merged, [gene], groupby='clusters2', swap_axes=False, figsize=(2,7), standard_scale=\"var\",return_fig=True).dot_size_df\n",
    "fc.columns = ['fraction_of_cells']"
   ]
  },
  {
   "cell_type": "code",
   "execution_count": 128,
   "id": "4fdf4e64-123f-46c3-b931-59d1eacf2c7e",
   "metadata": {},
   "outputs": [
    {
     "data": {
      "text/html": [
       "<div>\n",
       "<style scoped>\n",
       "    .dataframe tbody tr th:only-of-type {\n",
       "        vertical-align: middle;\n",
       "    }\n",
       "\n",
       "    .dataframe tbody tr th {\n",
       "        vertical-align: top;\n",
       "    }\n",
       "\n",
       "    .dataframe thead th {\n",
       "        text-align: right;\n",
       "    }\n",
       "</style>\n",
       "<table border=\"1\" class=\"dataframe\">\n",
       "  <thead>\n",
       "    <tr style=\"text-align: right;\">\n",
       "      <th></th>\n",
       "      <th>mean_expression</th>\n",
       "      <th>fraction_of_cells</th>\n",
       "      <th>gene</th>\n",
       "      <th>source</th>\n",
       "      <th>organism</th>\n",
       "      <th>cell_number</th>\n",
       "    </tr>\n",
       "    <tr>\n",
       "      <th>clusters2</th>\n",
       "      <th></th>\n",
       "      <th></th>\n",
       "      <th></th>\n",
       "      <th></th>\n",
       "      <th></th>\n",
       "      <th></th>\n",
       "    </tr>\n",
       "  </thead>\n",
       "  <tbody>\n",
       "    <tr>\n",
       "      <th>Astrocytes</th>\n",
       "      <td>0.020811</td>\n",
       "      <td>0.036000</td>\n",
       "      <td>Egfl8</td>\n",
       "      <td>Vanlandewijck2018</td>\n",
       "      <td>Mouse</td>\n",
       "      <td>250</td>\n",
       "    </tr>\n",
       "    <tr>\n",
       "      <th>ECs_Arterial</th>\n",
       "      <td>1.000000</td>\n",
       "      <td>0.473552</td>\n",
       "      <td>Egfl8</td>\n",
       "      <td>Vanlandewijck2018</td>\n",
       "      <td>Mouse</td>\n",
       "      <td>397</td>\n",
       "    </tr>\n",
       "    <tr>\n",
       "      <th>ECs_Capillary</th>\n",
       "      <td>0.072577</td>\n",
       "      <td>0.118519</td>\n",
       "      <td>Egfl8</td>\n",
       "      <td>Vanlandewijck2018</td>\n",
       "      <td>Mouse</td>\n",
       "      <td>405</td>\n",
       "    </tr>\n",
       "    <tr>\n",
       "      <th>ECs_Venous</th>\n",
       "      <td>0.084823</td>\n",
       "      <td>0.147651</td>\n",
       "      <td>Egfl8</td>\n",
       "      <td>Vanlandewijck2018</td>\n",
       "      <td>Mouse</td>\n",
       "      <td>298</td>\n",
       "    </tr>\n",
       "    <tr>\n",
       "      <th>ECs_non_AV</th>\n",
       "      <td>0.131257</td>\n",
       "      <td>0.093458</td>\n",
       "      <td>Egfl8</td>\n",
       "      <td>Vanlandewijck2018</td>\n",
       "      <td>Mouse</td>\n",
       "      <td>428</td>\n",
       "    </tr>\n",
       "    <tr>\n",
       "      <th>Fibroblasts</th>\n",
       "      <td>0.000520</td>\n",
       "      <td>0.046512</td>\n",
       "      <td>Egfl8</td>\n",
       "      <td>Vanlandewijck2018</td>\n",
       "      <td>Mouse</td>\n",
       "      <td>86</td>\n",
       "    </tr>\n",
       "    <tr>\n",
       "      <th>Oligos</th>\n",
       "      <td>0.000000</td>\n",
       "      <td>0.006452</td>\n",
       "      <td>Egfl8</td>\n",
       "      <td>Vanlandewijck2018</td>\n",
       "      <td>Mouse</td>\n",
       "      <td>155</td>\n",
       "    </tr>\n",
       "    <tr>\n",
       "      <th>Pericytes</th>\n",
       "      <td>0.011263</td>\n",
       "      <td>0.029412</td>\n",
       "      <td>Egfl8</td>\n",
       "      <td>Vanlandewijck2018</td>\n",
       "      <td>Mouse</td>\n",
       "      <td>1088</td>\n",
       "    </tr>\n",
       "    <tr>\n",
       "      <th>SMCs</th>\n",
       "      <td>0.006423</td>\n",
       "      <td>0.026936</td>\n",
       "      <td>Egfl8</td>\n",
       "      <td>Vanlandewijck2018</td>\n",
       "      <td>Mouse</td>\n",
       "      <td>297</td>\n",
       "    </tr>\n",
       "  </tbody>\n",
       "</table>\n",
       "</div>"
      ],
      "text/plain": [
       "               mean_expression  fraction_of_cells   gene             source  \\\n",
       "clusters2                                                                     \n",
       "Astrocytes            0.020811           0.036000  Egfl8  Vanlandewijck2018   \n",
       "ECs_Arterial          1.000000           0.473552  Egfl8  Vanlandewijck2018   \n",
       "ECs_Capillary         0.072577           0.118519  Egfl8  Vanlandewijck2018   \n",
       "ECs_Venous            0.084823           0.147651  Egfl8  Vanlandewijck2018   \n",
       "ECs_non_AV            0.131257           0.093458  Egfl8  Vanlandewijck2018   \n",
       "Fibroblasts           0.000520           0.046512  Egfl8  Vanlandewijck2018   \n",
       "Oligos                0.000000           0.006452  Egfl8  Vanlandewijck2018   \n",
       "Pericytes             0.011263           0.029412  Egfl8  Vanlandewijck2018   \n",
       "SMCs                  0.006423           0.026936  Egfl8  Vanlandewijck2018   \n",
       "\n",
       "              organism  cell_number  \n",
       "clusters2                            \n",
       "Astrocytes       Mouse          250  \n",
       "ECs_Arterial     Mouse          397  \n",
       "ECs_Capillary    Mouse          405  \n",
       "ECs_Venous       Mouse          298  \n",
       "ECs_non_AV       Mouse          428  \n",
       "Fibroblasts      Mouse           86  \n",
       "Oligos           Mouse          155  \n",
       "Pericytes        Mouse         1088  \n",
       "SMCs             Mouse          297  "
      ]
     },
     "execution_count": 128,
     "metadata": {},
     "output_type": "execute_result"
    }
   ],
   "source": [
    "foxf2 = pd.concat([ex, fc], axis=1)\n",
    "foxf2['gene'] = gene\n",
    "foxf2['source'] = \"Vanlandewijck2018\"\n",
    "foxf2['organism'] = \"Mouse\"\n",
    "foxf2['cell_number'] = pd.DataFrame(ad_merged.obs[\"clusters2\"].value_counts()).reindex(foxf2.index)\n",
    "foxf2"
   ]
  },
  {
   "cell_type": "code",
   "execution_count": 129,
   "id": "68890221-355b-4e08-8fc4-bba389eb2452",
   "metadata": {},
   "outputs": [],
   "source": [
    "# export\n",
    "name='Vanlandewijck2018'"
   ]
  },
  {
   "cell_type": "code",
   "execution_count": 130,
   "id": "a7498780-debd-43db-970f-5085c3030539",
   "metadata": {},
   "outputs": [],
   "source": [
    "# Win\n",
    "foxf2.to_csv(main_dir+'\\\\P6_Foxf2_per_celltype\\\\Other_genes_summarized\\\\incl_zonation\\\\'+ date.today().strftime(\"%Y%m%d\")+'_'+gene+'_'+name+'_incl_zonation.csv',sep=';')"
   ]
  },
  {
   "cell_type": "markdown",
   "id": "05e7afaa-081d-4a22-8672-5ee286c07ffe",
   "metadata": {},
   "source": [
    "# Session Info"
   ]
  },
  {
   "cell_type": "code",
   "execution_count": 165,
   "id": "06401063-4335-4d98-ad41-2bab36a17eab",
   "metadata": {},
   "outputs": [
    {
     "name": "stdout",
     "output_type": "stream",
     "text": [
      "-----\n",
      "anndata     0.8.0\n",
      "scanpy      1.9.1\n",
      "-----\n",
      "PIL                         9.2.0\n",
      "asciitree                   NA\n",
      "asttokens                   NA\n",
      "backcall                    0.2.0\n",
      "beta_ufunc                  NA\n",
      "binom_ufunc                 NA\n",
      "bottleneck                  1.3.5\n",
      "cffi                        1.15.1\n",
      "cloudpickle                 2.0.0\n",
      "colorama                    0.4.5\n",
      "cycler                      0.10.0\n",
      "cython_runtime              NA\n",
      "dask                        2022.05.0\n",
      "dateutil                    2.8.2\n",
      "debugpy                     1.5.1\n",
      "decorator                   5.1.1\n",
      "defusedxml                  0.7.1\n",
      "entrypoints                 0.4\n",
      "executing                   0.8.3\n",
      "fasteners                   0.17.3\n",
      "fsspec                      2022.3.0\n",
      "h5py                        3.6.0\n",
      "hypergeom_ufunc             NA\n",
      "igraph                      0.9.10\n",
      "ipykernel                   6.15.2\n",
      "ipython_genutils            0.2.0\n",
      "ipywidgets                  7.7.0\n",
      "jedi                        0.18.1\n",
      "jinja2                      3.1.2\n",
      "joblib                      1.1.1\n",
      "jupyter_server              1.18.1\n",
      "kiwisolver                  1.4.2\n",
      "leidenalg                   0.8.10\n",
      "llvmlite                    0.39.1\n",
      "markupsafe                  2.1.1\n",
      "matplotlib                  3.5.3\n",
      "matplotlib_inline           0.1.6\n",
      "mkl                         2.4.0\n",
      "mpl_toolkits                NA\n",
      "natsort                     8.1.0\n",
      "nbinom_ufunc                NA\n",
      "ncf_ufunc                   NA\n",
      "nt                          NA\n",
      "ntsecuritycon               NA\n",
      "numba                       0.56.3\n",
      "numcodecs                   0.9.1\n",
      "numexpr                     2.8.4\n",
      "numpy                       1.21.5\n",
      "packaging                   21.3\n",
      "pandas                      1.3.5\n",
      "parso                       0.8.3\n",
      "pickleshare                 0.7.5\n",
      "pkg_resources               NA\n",
      "prompt_toolkit              3.0.20\n",
      "psutil                      5.9.0\n",
      "pure_eval                   0.2.2\n",
      "pydev_ipython               NA\n",
      "pydevconsole                NA\n",
      "pydevd                      2.6.0\n",
      "pydevd_concurrency_analyser NA\n",
      "pydevd_file_utils           NA\n",
      "pydevd_plugins              NA\n",
      "pydevd_tracing              NA\n",
      "pygments                    2.11.2\n",
      "pyparsing                   3.0.9\n",
      "pythoncom                   NA\n",
      "pytz                        2022.1\n",
      "pywintypes                  NA\n",
      "scipy                       1.9.3\n",
      "seaborn                     0.11.2\n",
      "session_info                1.0.0\n",
      "setuptools                  65.5.0\n",
      "six                         1.16.0\n",
      "sklearn                     1.0.2\n",
      "sparse                      0.13.0\n",
      "sphinxcontrib               NA\n",
      "stack_data                  0.2.0\n",
      "statsmodels                 0.13.2\n",
      "texttable                   1.6.4\n",
      "threadpoolctl               3.1.0\n",
      "tlz                         0.11.2\n",
      "toolz                       0.11.2\n",
      "tornado                     6.2\n",
      "traitlets                   5.1.1\n",
      "typing_extensions           NA\n",
      "wcwidth                     0.2.5\n",
      "win32api                    NA\n",
      "win32com                    NA\n",
      "win32security               NA\n",
      "yaml                        6.0\n",
      "zarr                        2.11.3\n",
      "zipp                        NA\n",
      "zmq                         23.2.0\n",
      "zope                        NA\n",
      "-----\n",
      "IPython             8.6.0\n",
      "jupyter_client      7.3.5\n",
      "jupyter_core        4.11.2\n",
      "jupyterlab          3.4.2\n",
      "notebook            6.5.2\n",
      "-----\n",
      "Python 3.8.13 (default, Mar 28 2022, 06:59:08) [MSC v.1916 64 bit (AMD64)]\n",
      "Windows-10-10.0.14393-SP0\n",
      "-----\n",
      "Session information updated at 2023-03-10 16:57\n"
     ]
    }
   ],
   "source": [
    "sc.logging.print_versions()"
   ]
  }
 ],
 "metadata": {
  "kernelspec": {
   "display_name": "Python 3 (ipykernel)",
   "language": "python",
   "name": "python3"
  },
  "language_info": {
   "codemirror_mode": {
    "name": "ipython",
    "version": 3
   },
   "file_extension": ".py",
   "mimetype": "text/x-python",
   "name": "python",
   "nbconvert_exporter": "python",
   "pygments_lexer": "ipython3",
   "version": "3.8.13"
  }
 },
 "nbformat": 4,
 "nbformat_minor": 5
}
