{
 "cells": [
  {
   "cell_type": "markdown",
   "id": "9bfa00be-69ba-4146-aba2-818b967492c3",
   "metadata": {
    "jp-MarkdownHeadingCollapsed": true,
    "tags": []
   },
   "source": [
    "<font size=\"+3.8\">Study-by-gene heatmap/dotplot</font>  \n",
    "<font size=\"+1.5\"></font>  "
   ]
  },
  {
   "cell_type": "markdown",
   "id": "563f0b43-ce10-475f-b355-6fa8a2406dad",
   "metadata": {},
   "source": [
    "Aim: Combine and plot expression from processed scRNA-seq studies. Processing see separate scripts."
   ]
  },
  {
   "cell_type": "markdown",
   "id": "048e358b-1b64-4abd-b747-835dd1feb75c",
   "metadata": {},
   "source": [
    "For Herms lab 02/2025"
   ]
  },
  {
   "cell_type": "code",
   "execution_count": null,
   "id": "79e4eb2f-b1e7-416d-96d7-d8d1a5b3987a",
   "metadata": {
    "tags": []
   },
   "outputs": [],
   "source": [
    "from datetime import date\n",
    "date.today().strftime('%d/%m/%Y')"
   ]
  },
  {
   "cell_type": "code",
   "execution_count": null,
   "id": "ed57a89e-32a0-44a4-aa9f-cb6885cb4a6b",
   "metadata": {
    "tags": []
   },
   "outputs": [],
   "source": [
    "import os\n",
    "os.getlogin()"
   ]
  },
  {
   "cell_type": "code",
   "execution_count": null,
   "id": "c4f25c8a-47e9-48b5-af79-04fe44b4068d",
   "metadata": {
    "tags": []
   },
   "outputs": [],
   "source": [
    "import numpy as np\n",
    "import pandas as pd\n",
    "import scanpy as sc\n",
    "import matplotlib as mpl\n",
    "import matplotlib.pyplot as plt\n",
    "from matplotlib.pyplot import rc_context\n",
    "import glob\n",
    "from pathlib import Path\n",
    "import platform\n",
    "import seaborn as sns\n",
    "sc.settings.verbosity = 3"
   ]
  },
  {
   "cell_type": "code",
   "execution_count": null,
   "id": "6669f984-f7fc-441e-b88e-08d748035585",
   "metadata": {},
   "outputs": [],
   "source": [
    "import utils"
   ]
  },
  {
   "cell_type": "code",
   "execution_count": null,
   "id": "570595c9-29aa-4697-9138-6438ad4e2574",
   "metadata": {
    "tags": []
   },
   "outputs": [],
   "source": [
    "os.environ['CONDA_DEFAULT_ENV'] # conda env"
   ]
  },
  {
   "cell_type": "code",
   "execution_count": null,
   "id": "b842033f-b427-491d-ba5c-3e6647454f89",
   "metadata": {
    "tags": []
   },
   "outputs": [],
   "source": [
    "platform.platform()"
   ]
  },
  {
   "cell_type": "code",
   "execution_count": null,
   "id": "f46a7618-6a0d-48a7-b77a-065afc204527",
   "metadata": {
    "tags": []
   },
   "outputs": [],
   "source": [
    "main_dir='\\\\\\isdsynnas.srv.med.uni-muenchen.de\\BD-Dichgans\\SF' # Win\n",
    "main_dir='/Volumes/BD-Dichgans/SF'"
   ]
  },
  {
   "cell_type": "code",
   "execution_count": null,
   "id": "431fabe7-b8e0-4278-b5d8-1dcbefa48104",
   "metadata": {},
   "outputs": [],
   "source": [
    "study_order = [\"Heindl2022\", \"Vanlandewijck2018\", \"Saunders2018\", \"Zeisel2018\", \n",
    "        \"TabulaMuris2018\", \"Winkler2022\", \"Yang2022\", \"Siletti2022\", \"Garcia2022\"]\n",
    "celltype_order = [\"Astrocytes\", \"Microglia/Mφ\", \"Oligodendrocytes\", \"OPCs\", \n",
    "        \"Endothelial cells\", \"Pericytes\", \"SMCs\", \"Fibroblasts\", \n",
    "        \"Neurons\", \"Neuroblasts/NSCs\", \"Ependymal cells\"]   "
   ]
  },
  {
   "cell_type": "code",
   "execution_count": null,
   "id": "93d0fbf1-7093-4516-b1ac-a03a9dff54bd",
   "metadata": {},
   "outputs": [],
   "source": [
    "study_order_zonation = [\"Vanlandewijck2018\",\"Winkler2022\", \"Yang2022\", \"Garcia2022\"]\n",
    "celltype_order_zonation = [\"Astrocytes\",\"Microglia/Mφ\", \"Oligodendrocytes\", \"OPCs\", \n",
    "        \"aECs\", \"capECs\", \"vECs\", \"Pericytes\", \"SMCs\", \"Fibroblasts\", \n",
    "        \"Neurons\", \"Neuroblasts/NSCs\", \"Ependymal cells\"]"
   ]
  },
  {
   "cell_type": "markdown",
   "id": "1ce73c09-37b6-4471-a908-50912a193bf5",
   "metadata": {},
   "source": [
    "# Tspo"
   ]
  },
  {
   "cell_type": "code",
   "execution_count": null,
   "id": "91663d52-b01c-4152-8392-e4a156ab26a3",
   "metadata": {},
   "outputs": [],
   "source": [
    "gene=\"Tspo\"\n",
    "date_str = \"20250227\"\n",
    "path = Path(main_dir) / 'P06_Foxf2_per_celltype' / '202502-Tspo-HermsLab' / 'Genes_summarized'"
   ]
  },
  {
   "cell_type": "code",
   "execution_count": null,
   "id": "069f0a33-b052-4edb-b007-15ff93183cd8",
   "metadata": {},
   "outputs": [],
   "source": [
    "# load data\n",
    "all_files = list(path.glob(f\"{date_str}*.csv\"))\n",
    "all_files = [f for f in all_files if gene.lower() in f.stem.lower()]\n",
    "dfs = [pd.read_csv(os.path.join(path, filename), index_col=None, header=0, sep=\";\") \n",
    "              for filename in all_files]\n",
    "df = pd.concat(dfs, axis=0, ignore_index=True)"
   ]
  },
  {
   "cell_type": "code",
   "execution_count": null,
   "id": "eed6041c-8dbd-4cfc-8739-e34081727095",
   "metadata": {},
   "outputs": [],
   "source": [
    "df.source.unique()"
   ]
  },
  {
   "cell_type": "code",
   "execution_count": null,
   "id": "5ac10c2e-273b-4cb8-909b-46f2c012dbf8",
   "metadata": {},
   "outputs": [],
   "source": [
    "df.head()"
   ]
  },
  {
   "cell_type": "code",
   "execution_count": null,
   "id": "d74057b4-5aa6-41dc-aba1-92b5e1ee3209",
   "metadata": {},
   "outputs": [],
   "source": [
    "df_cleaned = utils.clean_and_standardize_data(df, gene, study_order, celltype_order)"
   ]
  },
  {
   "cell_type": "code",
   "execution_count": null,
   "id": "857acf09-afdd-49e7-9db8-a443ddecc7ec",
   "metadata": {},
   "outputs": [],
   "source": [
    "out_path_heat = os.path.join(main_dir, 'P06_Foxf2_per_celltype', '202502-Tspo-HermsLab', 'plots', \n",
    "                             f'{date.today().strftime(\"%Y%m%d\")}_{gene}_study_by_celltype_heatmap')\n",
    "with rc_context({'figure.figsize': (4.5,2.5), 'figure.dpi': 120}):\n",
    "    utils.create_heatmap(df_cleaned, gene, show=False)\n",
    "    #plt.savefig(out_path_heat+\".png\", dpi=500, bbox_inches='tight')\n",
    "    #plt.savefig(out_path_heat+\".svg\", dpi=500, bbox_inches='tight')\n",
    "    plt.show() "
   ]
  },
  {
   "cell_type": "code",
   "execution_count": null,
   "id": "511bbf00-a8de-4127-b4a2-b14fa977e6e2",
   "metadata": {},
   "outputs": [],
   "source": [
    "out_path_heat = os.path.join(main_dir, 'P06_Foxf2_per_celltype', '202502-Tspo-HermsLab', 'plots', \n",
    "                             f'{date.today().strftime(\"%Y%m%d\")}_{gene}_study_by_celltype_dotplot')\n",
    "utils.create_dotplot(df_cleaned, gene, \n",
    "                     min_tile=15, # min_tile=0 shows no dot if fraction of cells is 0\n",
    "                     figsize=(10, 4),\n",
    "                     show=False)\n",
    "#plt.savefig(out_path_heat+\".png\", dpi=500, bbox_inches='tight')\n",
    "#plt.savefig(out_path_heat+\".svg\", dpi=500, bbox_inches='tight')\n",
    "plt.show() "
   ]
  },
  {
   "cell_type": "code",
   "execution_count": null,
   "id": "4f782fec-b799-42c2-957c-738f1ca3339d",
   "metadata": {},
   "outputs": [],
   "source": [
    "utils.save_cell_numbers(df_cleaned)"
   ]
  },
  {
   "cell_type": "markdown",
   "id": "d0567ff9-0678-4fe6-8352-4c5bb3a757b2",
   "metadata": {},
   "source": [
    "# mt-Nd1"
   ]
  },
  {
   "cell_type": "code",
   "execution_count": null,
   "id": "5284721e-a7ef-4f9a-b78e-941a03b03317",
   "metadata": {},
   "outputs": [],
   "source": [
    "# random control gene"
   ]
  },
  {
   "cell_type": "code",
   "execution_count": null,
   "id": "2cf89f84-eb61-4c81-81ee-2f85ab5550b3",
   "metadata": {},
   "outputs": [],
   "source": [
    "gene=\"mt-Nd1\"\n",
    "date_str = \"20250227\"\n",
    "path = Path(main_dir) / 'P06_Foxf2_per_celltype' / '202502-Tspo-HermsLab' / 'Genes_summarized'"
   ]
  },
  {
   "cell_type": "code",
   "execution_count": null,
   "id": "14c2979d-b706-4904-af55-15038c7b88b2",
   "metadata": {},
   "outputs": [],
   "source": [
    "# load data\n",
    "all_files = list(path.glob(f\"{date_str}*.csv\"))\n",
    "all_files = [f for f in all_files if gene.lower() in f.stem.lower()]\n",
    "dfs = [pd.read_csv(os.path.join(path, filename), index_col=None, header=0, sep=\";\") \n",
    "              for filename in all_files]\n",
    "df = pd.concat(dfs, axis=0, ignore_index=True)"
   ]
  },
  {
   "cell_type": "code",
   "execution_count": null,
   "id": "a8d5c5b1-ca8b-4091-bb1c-6bfeda7117d0",
   "metadata": {},
   "outputs": [],
   "source": [
    "df.source.unique()"
   ]
  },
  {
   "cell_type": "code",
   "execution_count": null,
   "id": "f4077b9c-20d0-4e2f-980b-0645f67c0e61",
   "metadata": {},
   "outputs": [],
   "source": [
    "df.head()"
   ]
  },
  {
   "cell_type": "code",
   "execution_count": null,
   "id": "957261a4-1a9e-470c-b8cd-a0516c5e9143",
   "metadata": {},
   "outputs": [],
   "source": [
    "df_cleaned = utils.clean_and_standardize_data(df, gene, study_order, celltype_order)"
   ]
  },
  {
   "cell_type": "code",
   "execution_count": null,
   "id": "24ad1ea4-9031-42e6-80ec-693deec15f4a",
   "metadata": {},
   "outputs": [],
   "source": [
    "out_path_heat = os.path.join(main_dir, 'P06_Foxf2_per_celltype', '202502-Tspo-HermsLab', 'plots', \n",
    "                             f'{date.today().strftime(\"%Y%m%d\")}_{gene}_study_by_celltype_heatmap')\n",
    "with rc_context({'figure.figsize': (4.5,2.5), 'figure.dpi': 120}):\n",
    "    utils.create_heatmap(df_cleaned, gene, show=False)\n",
    "    #plt.savefig(out_path_heat+\".png\", dpi=500, bbox_inches='tight')\n",
    "    #plt.savefig(out_path_heat+\".svg\", dpi=500, bbox_inches='tight')\n",
    "    plt.show() "
   ]
  },
  {
   "cell_type": "code",
   "execution_count": null,
   "id": "22f6fb99-a8b4-463e-9450-7ffc9b189f22",
   "metadata": {},
   "outputs": [],
   "source": [
    "out_path_heat = os.path.join(main_dir, 'P06_Foxf2_per_celltype', '202502-Tspo-HermsLab', 'plots', \n",
    "                             f'{date.today().strftime(\"%Y%m%d\")}_{gene}_study_by_celltype_dotplot')\n",
    "utils.create_dotplot(df_cleaned, gene, \n",
    "                     min_tile=15, # min_tile=0 shows no dot if fraction of cells is 0\n",
    "                     figsize=(10, 4),\n",
    "                     show=False)\n",
    "#plt.savefig(out_path_heat+\".png\", dpi=500, bbox_inches='tight')\n",
    "#plt.savefig(out_path_heat+\".svg\", dpi=500, bbox_inches='tight')\n",
    "plt.show() "
   ]
  },
  {
   "cell_type": "code",
   "execution_count": null,
   "id": "7311ed1c-72c6-4925-9189-9722ff9b0a52",
   "metadata": {},
   "outputs": [],
   "source": [
    "utils.save_cell_numbers(df_cleaned)"
   ]
  },
  {
   "cell_type": "code",
   "execution_count": null,
   "id": "5ee9dfa1-cb4d-4bff-82de-76ea8d7d3e25",
   "metadata": {},
   "outputs": [],
   "source": [
    "# Session Info\n",
    "sc.logging.print_versions()"
   ]
  },
  {
   "cell_type": "code",
   "execution_count": null,
   "id": "de699f7f-858e-4039-94c1-882bdc4e3445",
   "metadata": {},
   "outputs": [],
   "source": []
  }
 ],
 "metadata": {
  "kernelspec": {
   "display_name": "Python 3 (ipykernel)",
   "language": "python",
   "name": "python3"
  },
  "language_info": {
   "codemirror_mode": {
    "name": "ipython",
    "version": 3
   },
   "file_extension": ".py",
   "mimetype": "text/x-python",
   "name": "python",
   "nbconvert_exporter": "python",
   "pygments_lexer": "ipython3"
  }
 },
 "nbformat": 4,
 "nbformat_minor": 5
}
