{
 "cells": [
  {
   "cell_type": "markdown",
   "id": "9bfa00be-69ba-4146-aba2-818b967492c3",
   "metadata": {
    "jp-MarkdownHeadingCollapsed": true,
    "tags": []
   },
   "source": [
    "<font size=\"+3.8\">Scanpy single-cell pre-processing</font>  \n",
    "<font size=\"+1.5\"></font>  "
   ]
  },
  {
   "cell_type": "markdown",
   "id": "563f0b43-ce10-475f-b355-6fa8a2406dad",
   "metadata": {},
   "source": [
    "Aim: Preprocess annotated human brain single-cell data from Siletti 2022 bioRxiv"
   ]
  },
  {
   "cell_type": "code",
   "execution_count": null,
   "id": "a29d6985-f351-476a-a052-8e62fe091451",
   "metadata": {},
   "outputs": [],
   "source": [
    "import datetime\n",
    "datetime.date.today().strftime('%d/%m/%Y')"
   ]
  },
  {
   "cell_type": "code",
   "execution_count": null,
   "id": "985532ad-4fbe-47e7-a950-d1a355dd33da",
   "metadata": {},
   "outputs": [],
   "source": [
    "import os\n",
    "os.getlogin()"
   ]
  },
  {
   "cell_type": "code",
   "execution_count": null,
   "id": "4efc7474-0dc2-41fc-9a0f-dba84e274869",
   "metadata": {},
   "outputs": [],
   "source": [
    "import sys\n",
    "import fnmatch "
   ]
  },
  {
   "cell_type": "code",
   "execution_count": null,
   "id": "39ef90cd-15cf-40b4-b880-1a70d1602cc8",
   "metadata": {},
   "outputs": [],
   "source": [
    "import anndata\n",
    "import scanpy as sc\n",
    "import scipy as sci\n",
    "#sc.logging.print_versions()"
   ]
  },
  {
   "cell_type": "code",
   "execution_count": null,
   "id": "e325ccf6-c7bc-4d3e-9cbe-8a4d61feedc6",
   "metadata": {},
   "outputs": [],
   "source": [
    "sc.settings.verbosity = 3"
   ]
  },
  {
   "cell_type": "code",
   "execution_count": null,
   "id": "237d7e9e-a068-431c-a333-04dd65ab90eb",
   "metadata": {},
   "outputs": [],
   "source": [
    "#import loompy"
   ]
  },
  {
   "cell_type": "code",
   "execution_count": null,
   "id": "2fea7ac9-c25e-44eb-9f7b-82d5087622f4",
   "metadata": {},
   "outputs": [],
   "source": [
    "import numpy as np\n",
    "import scipy as sp\n",
    "import pandas as pd\n",
    "import matplotlib.pyplot as plt\n",
    "from matplotlib import rcParams\n",
    "from matplotlib import colors\n",
    "import seaborn as sb\n",
    "now = datetime.datetime.now()\n",
    "today = now.strftime(\"%Y%m%d\")"
   ]
  },
  {
   "cell_type": "code",
   "execution_count": null,
   "id": "c4f25c8a-47e9-48b5-af79-04fe44b4068d",
   "metadata": {},
   "outputs": [],
   "source": [
    "from matplotlib.pyplot import rc_context"
   ]
  },
  {
   "cell_type": "code",
   "execution_count": null,
   "id": "394740ba-a60e-4534-a468-ab5236912122",
   "metadata": {},
   "outputs": [],
   "source": [
    "os.getcwd()"
   ]
  },
  {
   "cell_type": "code",
   "execution_count": null,
   "id": "49bdb1f2-bf71-41d7-abe6-a0ee2234c4b3",
   "metadata": {},
   "outputs": [],
   "source": [
    "main_dir='/run/user/1000/gvfs/smb-share:server=138.245.4.35,share=bd-dichgans/SF' # Linux\n",
    "main_dir='\\\\\\isdsynnas.srv.med.uni-muenchen.de\\BD-Dichgans\\SF' # Win"
   ]
  },
  {
   "cell_type": "code",
   "execution_count": null,
   "id": "2f463ddb-df2f-4151-838d-d432c3a60d13",
   "metadata": {},
   "outputs": [],
   "source": [
    "main_dir='/cluster2/sfrerich/jupyter/p6-foxf2-per-celltype/data' # HPC"
   ]
  },
  {
   "cell_type": "markdown",
   "id": "067b131c-bdfa-498c-83bf-a8119a92140f",
   "metadata": {},
   "source": [
    "# Load + format data"
   ]
  },
  {
   "cell_type": "markdown",
   "id": "c2a0db04-3989-432e-8f92-1750d873901d",
   "metadata": {},
   "source": [
    "Annotated by authors"
   ]
  },
  {
   "cell_type": "markdown",
   "id": "fee34662-4985-4565-bd42-662bf8b21a8a",
   "metadata": {
    "tags": []
   },
   "source": [
    "### All cells"
   ]
  },
  {
   "cell_type": "markdown",
   "id": "a11a07ef-6fd5-4b80-a12f-f71830b2096c",
   "metadata": {},
   "source": [
    "All superclusters downloaded from cellxgene https://cellxgene.cziscience.com/collections/283d65eb-dd53-496d-adb7-7570c7caa443 \n",
    "(23/02/2023) except for Miscancelleous"
   ]
  },
  {
   "cell_type": "code",
   "execution_count": null,
   "id": "f50a4d03-8816-49ab-8cb1-d4e89c6ac533",
   "metadata": {},
   "outputs": [],
   "source": [
    "# run once"
   ]
  },
  {
   "cell_type": "code",
   "execution_count": null,
   "id": "6382c30b-2568-4dc6-b6ec-6a2a63832411",
   "metadata": {},
   "outputs": [],
   "source": [
    "f=os.listdir(os.path.join(main_dir+'/P6_vasc_scRNAseq/Siletti2022/all_cellxgene'))\n",
    "f"
   ]
  },
  {
   "cell_type": "code",
   "execution_count": null,
   "id": "ba0939a6-9284-48dd-8961-de08cedf1c39",
   "metadata": {},
   "outputs": [],
   "source": [
    "# load, format each file into smaller object, normalize, export\n",
    "for p in f:\n",
    "    adata = anndata.read_h5ad(os.path.join(main_dir+'/P6_vasc_scRNAseq/Siletti2022/all_cellxgene',p))\n",
    "    adatas = adata[adata.obs[\"BadCells\"] == 0]\n",
    "    adata = adata[adata.obs[\"tissue\"] != \"Spinal cord\"]\n",
    "    adata.obs = adata.obs[[\"supercluster_term\", \"cell_type\", \"assay\", \"organism\", \"disease\", \"tissue\", \"BadCells\"]]\n",
    "    adata.var = adata.var[[\"Gene\",\"feature_name\"]]\n",
    "    del adata.uns\n",
    "    adata.var_names = adata.var[\"Gene\"].tolist()\n",
    "    adata.obs_names_make_unique()\n",
    "    adata.var_names_make_unique()\n",
    "    # log-normalize\n",
    "    #adata.layers[\"counts\"] = adata.X.copy()\n",
    "    sc.pp.normalize_total(adata,inplace=True)\n",
    "    sc.pp.log1p(adata)\n",
    "    #adata.layers[\"normalized\"] = adata.X.copy()\n",
    "    adata.write_h5ad(os.path.join(main_dir+'/P6_vasc_scRNAseq/Siletti2022/all_reduced_normalized',p.split(\".\")[0]+'_reduced.h5ad'))"
   ]
  },
  {
   "cell_type": "code",
   "execution_count": null,
   "id": "78eb8f37-9e53-4984-9679-38524e17f873",
   "metadata": {},
   "outputs": [],
   "source": [
    "del adata"
   ]
  },
  {
   "cell_type": "code",
   "execution_count": null,
   "id": "466259be-43fa-48d5-87bb-6c978bfef443",
   "metadata": {},
   "outputs": [],
   "source": []
  },
  {
   "cell_type": "code",
   "execution_count": null,
   "id": "efe93d02-5a8a-4750-874b-f5e3c0ba9d16",
   "metadata": {},
   "outputs": [],
   "source": [
    "# then load from here"
   ]
  },
  {
   "cell_type": "code",
   "execution_count": null,
   "id": "bd82f3d6-240e-4057-a6d4-137460a29b97",
   "metadata": {},
   "outputs": [],
   "source": [
    "f=os.listdir(os.path.join(main_dir+'/P06_vasc_scRNAseq/Siletti2022/all_reduced_normalized'))\n",
    "f"
   ]
  },
  {
   "cell_type": "code",
   "execution_count": null,
   "id": "e6270ed9-9902-4ed1-acdb-602e099460e6",
   "metadata": {},
   "outputs": [],
   "source": [
    "adatas = {p.split(\".\")[0]:anndata.read_h5ad(os.path.join(main_dir+'/P06_vasc_scRNAseq/Siletti2022/all_reduced_normalized',p)) for p in f}"
   ]
  },
  {
   "cell_type": "code",
   "execution_count": null,
   "id": "27bbeb54-5946-4cbb-82c9-fa8644bca450",
   "metadata": {},
   "outputs": [],
   "source": [
    "adatas.keys()"
   ]
  },
  {
   "cell_type": "code",
   "execution_count": null,
   "id": "5deed8b0-ed31-49d8-9190-b5d9b8aeec6c",
   "metadata": {},
   "outputs": [],
   "source": [
    "adatas.values()"
   ]
  },
  {
   "cell_type": "code",
   "execution_count": null,
   "id": "63c74709-e08f-4065-a578-8a3f24ce68a1",
   "metadata": {},
   "outputs": [],
   "source": []
  },
  {
   "cell_type": "code",
   "execution_count": null,
   "id": "9b139de7-bae6-4220-9db1-e1253fc99dbf",
   "metadata": {},
   "outputs": [],
   "source": [
    "# merge - datasets too large\n",
    "# adata2 = anndata.concat(adatas, axis=0, join=\"inner\", merge=\"first\")\n",
    "# adata2"
   ]
  },
  {
   "cell_type": "code",
   "execution_count": null,
   "id": "98833a37-588f-4b40-9faa-03c67cc8d1ab",
   "metadata": {},
   "outputs": [],
   "source": [
    "from anndata.experimental.multi_files import AnnCollection"
   ]
  },
  {
   "cell_type": "code",
   "execution_count": null,
   "id": "3b6ca3d0-fa8e-4f84-907d-02ad3c76ebe4",
   "metadata": {},
   "outputs": [],
   "source": [
    "adata2 = AnnCollection(adatas, join_vars='inner', label='dataset')"
   ]
  },
  {
   "cell_type": "code",
   "execution_count": null,
   "id": "54c270d5-40bf-4f57-bcb8-ac08f525df8b",
   "metadata": {},
   "outputs": [],
   "source": [
    "adata2"
   ]
  },
  {
   "cell_type": "code",
   "execution_count": null,
   "id": "18d79f30-13fd-4e06-b108-2b2e4d34aacd",
   "metadata": {},
   "outputs": [],
   "source": []
  },
  {
   "cell_type": "code",
   "execution_count": null,
   "id": "c6677e9d-d858-4de4-be47-be6357cec8da",
   "metadata": {},
   "outputs": [],
   "source": [
    "[i for i in adata2.var_names if \"NOS3\" in i]"
   ]
  },
  {
   "cell_type": "code",
   "execution_count": null,
   "id": "0b4bce55-1036-4e31-a9a8-5881b545372e",
   "metadata": {},
   "outputs": [],
   "source": []
  },
  {
   "cell_type": "code",
   "execution_count": null,
   "id": "48f880c7-1e21-4e5a-901c-453b53a8b25d",
   "metadata": {},
   "outputs": [],
   "source": []
  },
  {
   "cell_type": "code",
   "execution_count": null,
   "id": "69772283-a195-4ce0-8bc5-de2abba8305f",
   "metadata": {},
   "outputs": [],
   "source": [
    "pd.value_counts(adata2.obs[\"cell_type\"])"
   ]
  },
  {
   "cell_type": "code",
   "execution_count": null,
   "id": "9eb5012e-3d7a-45ad-8a7f-405d772707b4",
   "metadata": {},
   "outputs": [],
   "source": [
    "new_cluster_names = {'Bergmann glial cell':'Astrocytes',\n",
    "                     'astrocyte':'Astrocytes',\n",
    "                     'central nervous system macrophage':'Macrophages',\n",
    "                     'choroid plexus epithelial cell':'Choroid plexus epithelial cells',\n",
    "                     'endothelial cell':'Endothelial cells',\n",
    "                     'ependymal cell':'Ependymal cells',\n",
    "                     'fibroblast':'Fibroblasts',\n",
    "                     'neuron':'Neurons',\n",
    "                     'oligodendrocyte':'Oligos',\n",
    "                     'oligodendrocyte precursor cell':'OPCs',\n",
    "                     'pericyte':'Pericytes',\n",
    "                     'vascular associated smooth muscle cell':'SMCs'}\n",
    "#new_cluster_names=list(new_cluster_names.values())"
   ]
  },
  {
   "cell_type": "code",
   "execution_count": null,
   "id": "48d9c02b-e8c7-4cae-bcad-7dbc26269f2f",
   "metadata": {},
   "outputs": [],
   "source": [
    "adata2.obs['clusters'] = (\n",
    "    adata2.obs['cell_type']\n",
    "    .map(new_cluster_names)\n",
    "    .astype('category')\n",
    ")"
   ]
  },
  {
   "cell_type": "code",
   "execution_count": null,
   "id": "22dc10e6-5957-4cee-a89a-c446cde96c87",
   "metadata": {
    "tags": []
   },
   "outputs": [],
   "source": [
    "pd.value_counts(adata2.obs[\"clusters\"])"
   ]
  },
  {
   "cell_type": "code",
   "execution_count": null,
   "id": "b20284e5-d8c1-45bd-b854-ef91c417c34e",
   "metadata": {},
   "outputs": [],
   "source": []
  },
  {
   "cell_type": "code",
   "execution_count": null,
   "id": "abe3abea-e14d-4447-a25a-8ea5b7fa61bf",
   "metadata": {},
   "outputs": [],
   "source": []
  },
  {
   "cell_type": "code",
   "execution_count": null,
   "id": "d023077d-e591-414d-9d76-4659089b58d2",
   "metadata": {},
   "outputs": [],
   "source": [
    "#adata3 = adata2.to_adata() # does not contain .X - must subset first into AnnCollectionView object"
   ]
  },
  {
   "cell_type": "code",
   "execution_count": null,
   "id": "5d7d7529-5d37-42f2-90c5-7c5a1949ef6a",
   "metadata": {},
   "outputs": [],
   "source": [
    "# subset genes\n",
    "adata3 = adata2[:,adata2.var_names.isin([\"FOXF2\",\"FOXO1\",\"TEK\",\"NOS3\",\"HTRA1\",\"EGFL8\",\"FLT1\",\"KDR\",\"NRP1\",\"NRP2\",\"EFNB2\",\"ITGB1\",\"ANGPT2ery\",\"CDH5\"])]"
   ]
  },
  {
   "cell_type": "code",
   "execution_count": null,
   "id": "cc8310ff-e95f-4557-825f-5c092bb8bd92",
   "metadata": {
    "scrolled": true
   },
   "outputs": [],
   "source": [
    "adata3"
   ]
  },
  {
   "cell_type": "code",
   "execution_count": null,
   "id": "ead069bf-d418-4d9a-90ca-8fda772d351b",
   "metadata": {},
   "outputs": [],
   "source": [
    "adata3 = adata3.to_adata()"
   ]
  },
  {
   "cell_type": "code",
   "execution_count": null,
   "id": "f865fb80-5644-4463-b7d4-a90bedeb0995",
   "metadata": {},
   "outputs": [],
   "source": [
    "adata3"
   ]
  },
  {
   "cell_type": "code",
   "execution_count": null,
   "id": "32a1c599-1612-453c-b4e5-0f923ce81cd1",
   "metadata": {},
   "outputs": [],
   "source": [
    "adata3.obsm[\"X_umap\"] = adata3.obsm[\"X_UMAP\"]"
   ]
  },
  {
   "cell_type": "code",
   "execution_count": null,
   "id": "374a473e-fedc-4747-b504-c64ed54c7108",
   "metadata": {},
   "outputs": [],
   "source": [
    "adata3.var_names"
   ]
  },
  {
   "cell_type": "code",
   "execution_count": null,
   "id": "d2459335-938a-4b26-b0fc-485e43e712f9",
   "metadata": {},
   "outputs": [],
   "source": []
  },
  {
   "cell_type": "code",
   "execution_count": null,
   "id": "db403cc2-cfdc-47b0-ab29-bdb9729d1c16",
   "metadata": {},
   "outputs": [],
   "source": [
    "#del adata2"
   ]
  },
  {
   "cell_type": "code",
   "execution_count": null,
   "id": "d45309b6-a722-4a33-8eac-0eaa4751f668",
   "metadata": {},
   "outputs": [],
   "source": []
  },
  {
   "cell_type": "markdown",
   "id": "d4ad5bc7-bfe2-4f0c-a598-6c887d725ea0",
   "metadata": {
    "tags": []
   },
   "source": [
    "Check if data is normalized:"
   ]
  },
  {
   "cell_type": "code",
   "execution_count": null,
   "id": "84765df2-4bef-4089-a47c-960de35a7144",
   "metadata": {},
   "outputs": [],
   "source": [
    "adata3.X.todense()"
   ]
  },
  {
   "cell_type": "code",
   "execution_count": null,
   "id": "d2c46f95-2267-4695-82ff-5e6f7beb940c",
   "metadata": {},
   "outputs": [],
   "source": [
    "# show expression of genes (across all spots)\n",
    "import random\n",
    "import seaborn as sns\n",
    "random_genes=random.sample(range(0, adata3.X.shape[1]), 4)\n",
    "adata_sub = adata3[:,random_genes]\n",
    "exp=pd.DataFrame(adata_sub.X.todense())\n",
    "# plot\n",
    "pl1=sns.displot(data=pd.melt(exp),x='value',height=4,hue='variable',kind=\"kde\",warn_singular=False,legend=False,palette=list(np.repeat('#086da6',4)), lw=0.3) # genes with 0 expression are excluded\n",
    "pl1.set(xlim=(-0.5, 7),ylim=(0,0.007))\n",
    "sns.set_theme(style='white')\n",
    "plt.show()"
   ]
  },
  {
   "cell_type": "code",
   "execution_count": null,
   "id": "f21cb9ea-f03d-4ce5-846a-2613692e6901",
   "metadata": {},
   "outputs": [],
   "source": [
    "sns.set(rc={'figure.figsize':(4,4)})\n",
    "sns.set_theme(style='white')\n",
    "pl=sns.histplot(data=pd.melt(exp),x='value',binwidth=0.5,legend=True,palette=list(np.repeat('#086da6',4)))\n",
    "pl.set(xlim=(0, 10));\n",
    "plt.show()"
   ]
  },
  {
   "cell_type": "code",
   "execution_count": null,
   "id": "62e0a08e-ebbf-4490-b703-14750c6261be",
   "metadata": {},
   "outputs": [],
   "source": []
  },
  {
   "cell_type": "markdown",
   "id": "18c89698-26f4-492b-a32f-432a2dacd5ba",
   "metadata": {
    "tags": []
   },
   "source": [
    "# DE Analysis / Vascular marker genes"
   ]
  },
  {
   "cell_type": "markdown",
   "id": "29be7c9c-b47e-4adc-adcb-30c4e5e48bb6",
   "metadata": {},
   "source": [
    "Dataset too large.."
   ]
  },
  {
   "cell_type": "code",
   "execution_count": null,
   "id": "19596684-edf3-4893-b041-9acbb5ff86d2",
   "metadata": {},
   "outputs": [],
   "source": [
    "adata_full=adata2.to_adata()"
   ]
  },
  {
   "cell_type": "code",
   "execution_count": null,
   "id": "dbebc4f3-d29d-4a08-83f9-4059e6999c9a",
   "metadata": {},
   "outputs": [],
   "source": [
    "# DEA requires HPC\n",
    "sc.tl.rank_genes_groups(adata_full, 'clusters', method='wilcoxon')"
   ]
  },
  {
   "cell_type": "code",
   "execution_count": null,
   "id": "0adfa55f-2310-4174-af5c-0b62ec346e28",
   "metadata": {},
   "outputs": [],
   "source": [
    "sc.pl.rank_genes_groups(adata, n_genes=20, sharey=False)"
   ]
  },
  {
   "cell_type": "markdown",
   "id": "1da4df80-ab67-4f86-88ba-ecc76f7fc2ea",
   "metadata": {},
   "source": [
    "---"
   ]
  },
  {
   "cell_type": "markdown",
   "id": "aaa7964a-2c4b-4b3d-b42a-8bff4d39eb01",
   "metadata": {},
   "source": [
    "# Focus on: Foxf2"
   ]
  },
  {
   "cell_type": "code",
   "execution_count": null,
   "id": "299f8552-3252-49a4-b5b8-6d8592a79f23",
   "metadata": {},
   "outputs": [],
   "source": [
    "gene=\"FOXF2\""
   ]
  },
  {
   "cell_type": "code",
   "execution_count": null,
   "id": "77379f8f-c851-44a1-9713-425cf54a9bbf",
   "metadata": {},
   "outputs": [],
   "source": [
    "sc.pl.umap(adata3, color='clusters')"
   ]
  },
  {
   "cell_type": "code",
   "execution_count": null,
   "id": "25e5d988-efb4-44b1-8423-5217239a2250",
   "metadata": {},
   "outputs": [],
   "source": [
    "sc.pl.umap(adata3, color='cell_type')"
   ]
  },
  {
   "cell_type": "code",
   "execution_count": null,
   "id": "9a16e595-6657-4fe5-becb-4999bb235771",
   "metadata": {},
   "outputs": [],
   "source": [
    "sc.pl.umap(adata3, color=gene)"
   ]
  },
  {
   "cell_type": "code",
   "execution_count": null,
   "id": "11ec7a22-7902-441e-a9de-4f03a466d926",
   "metadata": {},
   "outputs": [],
   "source": [
    "sc.pl.matrixplot(adata3, [gene], groupby='clusters', swap_axes=False, figsize=(2,5), standard_scale=\"var\")"
   ]
  },
  {
   "cell_type": "code",
   "execution_count": null,
   "id": "cafc0b9a-5e84-4b65-be39-b87a45140197",
   "metadata": {},
   "outputs": [],
   "source": [
    "# mean expression per group (normalized and scaled)\n",
    "ex = sc.pl.matrixplot(adata3, [gene], groupby='clusters', swap_axes=False, figsize=(2,5), standard_scale=\"var\", return_fig=True).values_df\n",
    "ex.columns = ['mean_expression']\n",
    "ex"
   ]
  },
  {
   "cell_type": "code",
   "execution_count": null,
   "id": "b0ec99b6-c7b2-4805-8af9-817a637809a2",
   "metadata": {},
   "outputs": [],
   "source": [
    "sc.pl.dotplot(adata3, [gene], groupby='clusters', swap_axes=False, figsize=(2,5), standard_scale=\"var\")"
   ]
  },
  {
   "cell_type": "code",
   "execution_count": null,
   "id": "518b3f7e-427e-41b7-a44a-7ef95ab4bf38",
   "metadata": {},
   "outputs": [],
   "source": [
    "# dotplot dot size = fraction of cells in group expressing Foxf2\n",
    "fc = sc.pl.dotplot(adata3, [gene], groupby='clusters', swap_axes=False, figsize=(2,7), standard_scale=\"var\",return_fig=True).dot_size_df\n",
    "fc.columns = ['fraction_of_cells']\n",
    "fc"
   ]
  },
  {
   "cell_type": "code",
   "execution_count": null,
   "id": "6622af21-8d31-4a72-ba55-a2842053d278",
   "metadata": {},
   "outputs": [],
   "source": [
    "foxf2 = pd.concat([ex, fc], axis=1)\n",
    "foxf2['gene'] = gene\n",
    "foxf2['source'] = \"Siletti2022\"\n",
    "foxf2['organism'] = \"Human\"\n",
    "foxf2['cell_number'] = pd.DataFrame(adata3.obs[\"clusters\"].value_counts()).reindex(foxf2.index)\n",
    "foxf2.index.name = \"clusters\"\n",
    "foxf2"
   ]
  },
  {
   "cell_type": "code",
   "execution_count": null,
   "id": "936ab0f9-d00b-4a26-8fe9-0c8c949b4484",
   "metadata": {},
   "outputs": [],
   "source": [
    "# export\n",
    "name='Siletti2022'"
   ]
  },
  {
   "cell_type": "code",
   "execution_count": null,
   "id": "75a052cc-5429-4f4a-a657-51fb76b0c466",
   "metadata": {},
   "outputs": [],
   "source": [
    "# Win\n",
    "foxf2.to_csv(main_dir+'/Foxf2_summarized/'+ date.today().strftime(\"%Y%m%d\")+'_'+name+'_normalized.csv',sep=';')"
   ]
  },
  {
   "cell_type": "markdown",
   "id": "1e24fd1e-cd71-422a-934f-85c4ac52e7da",
   "metadata": {},
   "source": [
    "# Focus on: Foxo1"
   ]
  },
  {
   "cell_type": "code",
   "execution_count": null,
   "id": "13a56ef5-31a6-4ccd-a06c-7328363b65f4",
   "metadata": {},
   "outputs": [],
   "source": [
    "gene=\"FOXO1\""
   ]
  },
  {
   "cell_type": "code",
   "execution_count": null,
   "id": "25825b6f-f1e0-4493-9fa8-153b62d3bb71",
   "metadata": {},
   "outputs": [],
   "source": [
    "sc.pl.matrixplot(adata3, [gene], groupby='clusters', swap_axes=False, figsize=(2,5), standard_scale=\"var\")"
   ]
  },
  {
   "cell_type": "code",
   "execution_count": null,
   "id": "b2a9c113-47ae-411d-9bd4-f6bcebd3c6a7",
   "metadata": {},
   "outputs": [],
   "source": [
    "# mean expression per group (normalized and scaled)\n",
    "ex = sc.pl.matrixplot(adata3, [gene], groupby='clusters', swap_axes=False, figsize=(2,5), standard_scale=\"var\", return_fig=True).values_df\n",
    "ex.columns = ['mean_expression']\n",
    "ex"
   ]
  },
  {
   "cell_type": "code",
   "execution_count": null,
   "id": "42762a59-5b12-4d43-8b04-da5f1c93f921",
   "metadata": {},
   "outputs": [],
   "source": [
    "sc.pl.dotplot(adata3, [gene], groupby='clusters', swap_axes=False, figsize=(2,5), standard_scale=\"var\")"
   ]
  },
  {
   "cell_type": "code",
   "execution_count": null,
   "id": "45d258e9-0583-41f0-8ea7-01b65f7a8ec3",
   "metadata": {},
   "outputs": [],
   "source": [
    "# dotplot dot size = fraction of cells in group expressing Foxf2\n",
    "fc = sc.pl.dotplot(adata3, [gene], groupby='clusters', swap_axes=False, figsize=(2,7), standard_scale=\"var\",return_fig=True).dot_size_df\n",
    "fc.columns = ['fraction_of_cells']\n",
    "fc"
   ]
  },
  {
   "cell_type": "code",
   "execution_count": null,
   "id": "5fca21d9-85d9-45b8-9dee-ccf82f01a633",
   "metadata": {},
   "outputs": [],
   "source": [
    "foxf2 = pd.concat([ex, fc], axis=1)\n",
    "foxf2['gene'] = gene\n",
    "foxf2['source'] = \"Siletti2022\"\n",
    "foxf2['organism'] = \"Human\"\n",
    "foxf2['cell_number'] = pd.DataFrame(adata3.obs[\"clusters\"].value_counts()).reindex(foxf2.index)\n",
    "foxf2.index.name = \"clusters\"\n",
    "foxf2"
   ]
  },
  {
   "cell_type": "code",
   "execution_count": null,
   "id": "d374aa9c-2b6d-49ee-aa04-829989ad329f",
   "metadata": {},
   "outputs": [],
   "source": [
    "# export\n",
    "name='Siletti2022'"
   ]
  },
  {
   "cell_type": "code",
   "execution_count": null,
   "id": "71f2cb29-4e94-4ce1-91f1-0b603171c1de",
   "metadata": {},
   "outputs": [],
   "source": [
    "# Win\n",
    "foxf2.to_csv(main_dir+'/Others_summarized/'+ date.today().strftime(\"%Y%m%d\")+'_FOXO1_'+name+'_normalized.csv',sep=';')"
   ]
  },
  {
   "cell_type": "markdown",
   "id": "a7ee72ae-cc79-4a5a-acb0-71dffe45ff69",
   "metadata": {},
   "source": [
    "# Focus on: Tek=Tie2"
   ]
  },
  {
   "cell_type": "code",
   "execution_count": null,
   "id": "65101474-5b67-4b1b-b057-f20489b4dcd6",
   "metadata": {},
   "outputs": [],
   "source": [
    "gene=\"TEK\""
   ]
  },
  {
   "cell_type": "code",
   "execution_count": null,
   "id": "d4322841-07bc-445d-a8fe-46314117aa0c",
   "metadata": {},
   "outputs": [],
   "source": [
    "sc.pl.matrixplot(adata3, [gene], groupby='clusters', swap_axes=False, figsize=(2,5), standard_scale=\"var\")"
   ]
  },
  {
   "cell_type": "code",
   "execution_count": null,
   "id": "15ec2d25-f4cb-4dc4-826b-335478c73460",
   "metadata": {},
   "outputs": [],
   "source": [
    "# mean expression per group (normalized and scaled)\n",
    "ex = sc.pl.matrixplot(adata3, [gene], groupby='clusters', swap_axes=False, figsize=(2,5), standard_scale=\"var\", return_fig=True).values_df\n",
    "ex.columns = ['mean_expression']\n",
    "ex"
   ]
  },
  {
   "cell_type": "code",
   "execution_count": null,
   "id": "188d298a-8160-4af5-bb82-90161c16d16b",
   "metadata": {},
   "outputs": [],
   "source": [
    "sc.pl.dotplot(adata3, [gene], groupby='clusters', swap_axes=False, figsize=(2,5), standard_scale=\"var\")"
   ]
  },
  {
   "cell_type": "code",
   "execution_count": null,
   "id": "cf9b9995-cd0b-4d32-a9b8-9c7488a59c06",
   "metadata": {},
   "outputs": [],
   "source": [
    "# dotplot dot size = fraction of cells in group expressing Foxf2\n",
    "fc = sc.pl.dotplot(adata3, [gene], groupby='clusters', swap_axes=False, figsize=(2,7), standard_scale=\"var\",return_fig=True).dot_size_df\n",
    "fc.columns = ['fraction_of_cells']\n",
    "fc"
   ]
  },
  {
   "cell_type": "code",
   "execution_count": null,
   "id": "73da8312-8d2c-4568-b8d1-b8b10ab077fb",
   "metadata": {},
   "outputs": [],
   "source": [
    "foxf2 = pd.concat([ex, fc], axis=1)\n",
    "foxf2['gene'] = gene\n",
    "foxf2['source'] = \"Siletti2022\"\n",
    "foxf2['organism'] = \"Human\"\n",
    "foxf2['cell_number'] = pd.DataFrame(adata3.obs[\"clusters\"].value_counts()).reindex(foxf2.index)\n",
    "foxf2.index.name = \"clusters\"\n",
    "foxf2"
   ]
  },
  {
   "cell_type": "code",
   "execution_count": null,
   "id": "9279700d-c822-49f3-a0a2-9c4f179de0e9",
   "metadata": {},
   "outputs": [],
   "source": [
    "# export\n",
    "name='Siletti2022'"
   ]
  },
  {
   "cell_type": "code",
   "execution_count": null,
   "id": "be1c765e-30a1-467d-8aab-e14850b85e97",
   "metadata": {},
   "outputs": [],
   "source": [
    "# Win\n",
    "foxf2.to_csv(main_dir+'/Others_summarized/'+ date.today().strftime(\"%Y%m%d\")+'_TEK_'+name+'_normalized.csv',sep=';')"
   ]
  },
  {
   "cell_type": "markdown",
   "id": "3e631b9b-af3a-41f8-ae53-c5f61fdc42dc",
   "metadata": {},
   "source": [
    "# Focus on: eNOS=NOS3"
   ]
  },
  {
   "cell_type": "code",
   "execution_count": null,
   "id": "5a035b64-651d-4b7d-abf1-7a6778cb4150",
   "metadata": {},
   "outputs": [],
   "source": [
    "gene=\"NOS3\""
   ]
  },
  {
   "cell_type": "code",
   "execution_count": null,
   "id": "f8d36ca3-339d-4990-822c-fdcb07880802",
   "metadata": {},
   "outputs": [],
   "source": [
    "sc.pl.matrixplot(adata3, [gene], groupby='clusters', swap_axes=False, figsize=(2,5), standard_scale=\"var\")"
   ]
  },
  {
   "cell_type": "code",
   "execution_count": null,
   "id": "0a35d4b3-e186-43e8-a65d-6ee65d0896e1",
   "metadata": {},
   "outputs": [],
   "source": [
    "# mean expression per group (normalized and scaled)\n",
    "ex = sc.pl.matrixplot(adata3, [gene], groupby='clusters', swap_axes=False, figsize=(2,5), standard_scale=\"var\", return_fig=True).values_df\n",
    "ex.columns = ['mean_expression']\n",
    "ex"
   ]
  },
  {
   "cell_type": "code",
   "execution_count": null,
   "id": "a85d1339-6d16-4574-8717-2ce562df560f",
   "metadata": {},
   "outputs": [],
   "source": [
    "sc.pl.dotplot(adata3, [gene], groupby='clusters', swap_axes=False, figsize=(2,5), standard_scale=\"var\")"
   ]
  },
  {
   "cell_type": "code",
   "execution_count": null,
   "id": "ea317618-9db1-4a8b-a529-19b2c935e6b3",
   "metadata": {},
   "outputs": [],
   "source": [
    "# dotplot dot size = fraction of cells in group expressing Foxf2\n",
    "fc = sc.pl.dotplot(adata3, [gene], groupby='clusters', swap_axes=False, figsize=(2,7), standard_scale=\"var\",return_fig=True).dot_size_df\n",
    "fc.columns = ['fraction_of_cells']\n",
    "fc"
   ]
  },
  {
   "cell_type": "code",
   "execution_count": null,
   "id": "fabd456f-7d19-4395-8f8f-06d9581bb92b",
   "metadata": {},
   "outputs": [],
   "source": [
    "foxf2 = pd.concat([ex, fc], axis=1)\n",
    "foxf2['gene'] = gene\n",
    "foxf2['source'] = \"Siletti2022\"\n",
    "foxf2['organism'] = \"Human\"\n",
    "foxf2['cell_number'] = pd.DataFrame(adata3.obs[\"clusters\"].value_counts()).reindex(foxf2.index)\n",
    "foxf2.index.name = \"clusters\"\n",
    "foxf2"
   ]
  },
  {
   "cell_type": "code",
   "execution_count": null,
   "id": "6a503da2-e057-4625-8b33-8f5c37f211a4",
   "metadata": {},
   "outputs": [],
   "source": [
    "# export\n",
    "name='Siletti2022'"
   ]
  },
  {
   "cell_type": "code",
   "execution_count": null,
   "id": "ddf0f395-021f-47d6-a085-fb2522796933",
   "metadata": {},
   "outputs": [],
   "source": [
    "# Win\n",
    "foxf2.to_csv(main_dir+'/Others_summarized/'+ date.today().strftime(\"%Y%m%d\")+'_NOS3_'+name+'_normalized.csv',sep=';')"
   ]
  },
  {
   "cell_type": "markdown",
   "id": "82375861-fafe-4fe2-bc93-61bf53d23476",
   "metadata": {
    "tags": []
   },
   "source": [
    "# Focus on: HTRA1"
   ]
  },
  {
   "cell_type": "code",
   "execution_count": null,
   "id": "9d282a34-1a19-4aa6-92d5-21658dafce59",
   "metadata": {},
   "outputs": [],
   "source": [
    "gene=\"HTRA1\""
   ]
  },
  {
   "cell_type": "code",
   "execution_count": null,
   "id": "5eace991-3cc5-4d0c-aacf-d642c35e6110",
   "metadata": {},
   "outputs": [],
   "source": [
    "sc.pl.matrixplot(adata3, [gene], groupby='clusters', swap_axes=False, figsize=(2,5), standard_scale=\"var\")"
   ]
  },
  {
   "cell_type": "code",
   "execution_count": null,
   "id": "640c05b0-c494-4e28-9f6c-57807de642f7",
   "metadata": {},
   "outputs": [],
   "source": [
    "# mean expression per group (normalized and scaled)\n",
    "ex = sc.pl.matrixplot(adata3, [gene], groupby='clusters', swap_axes=False, figsize=(2,5), standard_scale=\"var\", return_fig=True).values_df\n",
    "ex.columns = ['mean_expression']\n",
    "ex"
   ]
  },
  {
   "cell_type": "code",
   "execution_count": null,
   "id": "bf5b092b-d084-4ddd-951e-a40e90b63135",
   "metadata": {},
   "outputs": [],
   "source": [
    "sc.pl.dotplot(adata3, [gene], groupby='clusters', swap_axes=False, figsize=(2,5), standard_scale=\"var\")"
   ]
  },
  {
   "cell_type": "code",
   "execution_count": null,
   "id": "6e2d6482-f0be-4dd1-b1df-bdd1d01a0a20",
   "metadata": {},
   "outputs": [],
   "source": [
    "# dotplot dot size = fraction of cells in group expressing Foxf2\n",
    "fc = sc.pl.dotplot(adata3, [gene], groupby='clusters', swap_axes=False, figsize=(2,7), standard_scale=\"var\",return_fig=True).dot_size_df\n",
    "fc.columns = ['fraction_of_cells']\n",
    "fc"
   ]
  },
  {
   "cell_type": "code",
   "execution_count": null,
   "id": "2a6ade35-41ff-46d0-abc2-484bc9edbce8",
   "metadata": {},
   "outputs": [],
   "source": [
    "foxf2 = pd.concat([ex, fc], axis=1)\n",
    "foxf2['gene'] = gene\n",
    "foxf2['source'] = \"Siletti2022\"\n",
    "foxf2['organism'] = \"Human\"\n",
    "foxf2['cell_number'] = pd.DataFrame(adata3.obs[\"clusters\"].value_counts()).reindex(foxf2.index)\n",
    "foxf2.index.name = \"clusters\"\n",
    "foxf2"
   ]
  },
  {
   "cell_type": "code",
   "execution_count": null,
   "id": "394586ac-d877-4bd4-a2a9-ce3d1107b198",
   "metadata": {},
   "outputs": [],
   "source": [
    "# export\n",
    "name='Siletti2022'"
   ]
  },
  {
   "cell_type": "code",
   "execution_count": null,
   "id": "3892bd57-d8e4-4215-944b-5c0faab97f2b",
   "metadata": {},
   "outputs": [],
   "source": [
    "# Win\n",
    "foxf2.to_csv(main_dir+'/Others_summarized/'+ date.today().strftime(\"%Y%m%d\")+'_'+gene+'_'+name+'_normalized.csv',sep=';')"
   ]
  },
  {
   "cell_type": "markdown",
   "id": "bde5bf1a-5a6b-41ee-8a74-a848a9d0d39c",
   "metadata": {},
   "source": [
    "# Focus on: EGFL8"
   ]
  },
  {
   "cell_type": "code",
   "execution_count": null,
   "id": "fc73f161-d2a7-40f0-81bd-ffe1ec77d1a1",
   "metadata": {},
   "outputs": [],
   "source": [
    "gene=\"EGFL8\""
   ]
  },
  {
   "cell_type": "code",
   "execution_count": null,
   "id": "25a87ad1-935f-4215-b7f7-83d6b57f1830",
   "metadata": {},
   "outputs": [],
   "source": [
    "sc.pl.matrixplot(adata3, [gene], groupby='clusters', swap_axes=False, figsize=(2,5), standard_scale=\"var\")"
   ]
  },
  {
   "cell_type": "code",
   "execution_count": null,
   "id": "854b5b0a-3cb9-47cb-bde1-167ce9ad0654",
   "metadata": {},
   "outputs": [],
   "source": [
    "# mean expression per group (normalized and scaled)\n",
    "ex = sc.pl.matrixplot(adata3, [gene], groupby='clusters', swap_axes=False, figsize=(2,5), standard_scale=\"var\", return_fig=True).values_df\n",
    "ex.columns = ['mean_expression']\n",
    "ex"
   ]
  },
  {
   "cell_type": "code",
   "execution_count": null,
   "id": "a60aa3d9-435f-4dab-ad08-b994b7a35757",
   "metadata": {},
   "outputs": [],
   "source": [
    "sc.pl.dotplot(adata3, [gene], groupby='clusters', swap_axes=False, figsize=(2,5), standard_scale=\"var\")"
   ]
  },
  {
   "cell_type": "code",
   "execution_count": null,
   "id": "3e6c67bc-a779-46c6-bf31-103bc00b6a7b",
   "metadata": {},
   "outputs": [],
   "source": [
    "# dotplot dot size = fraction of cells in group expressing Foxf2\n",
    "fc = sc.pl.dotplot(adata3, [gene], groupby='clusters', swap_axes=False, figsize=(2,7), standard_scale=\"var\",return_fig=True).dot_size_df\n",
    "fc.columns = ['fraction_of_cells']\n",
    "fc"
   ]
  },
  {
   "cell_type": "code",
   "execution_count": null,
   "id": "8c9ff5c7-2f57-4191-9dc6-14f62b012715",
   "metadata": {},
   "outputs": [],
   "source": [
    "foxf2 = pd.concat([ex, fc], axis=1)\n",
    "foxf2['gene'] = gene\n",
    "foxf2['source'] = \"Siletti2022\"\n",
    "foxf2['organism'] = \"Human\"\n",
    "foxf2['cell_number'] = pd.DataFrame(adata3.obs[\"clusters\"].value_counts()).reindex(foxf2.index)\n",
    "foxf2.index.name = \"clusters\"\n",
    "foxf2"
   ]
  },
  {
   "cell_type": "code",
   "execution_count": null,
   "id": "eed723b8-fc4e-4707-93cb-424af86ccd1c",
   "metadata": {},
   "outputs": [],
   "source": [
    "# export\n",
    "name='Siletti2022'"
   ]
  },
  {
   "cell_type": "code",
   "execution_count": null,
   "id": "9b75bc4b-b58d-4dfb-a6c7-2ba8a89abacf",
   "metadata": {},
   "outputs": [],
   "source": [
    "# Win\n",
    "foxf2.to_csv(main_dir+'/Others_summarized/'+ date.today().strftime(\"%Y%m%d\")+'_'+gene+'_'+name+'_normalized.csv',sep=';')"
   ]
  },
  {
   "cell_type": "markdown",
   "id": "4aab3ca5-be16-4bc7-9eb4-72e59e3f97d1",
   "metadata": {},
   "source": [
    "# Focus on: FLT1"
   ]
  },
  {
   "cell_type": "code",
   "execution_count": null,
   "id": "d0359b61-f42c-4ef5-b3e3-fe03b409284b",
   "metadata": {},
   "outputs": [],
   "source": [
    "gene=\"FLT1\""
   ]
  },
  {
   "cell_type": "code",
   "execution_count": null,
   "id": "c5c18db0-8ac9-42f9-a252-2c09999c1116",
   "metadata": {},
   "outputs": [],
   "source": [
    "sc.pl.matrixplot(adata3, [gene], groupby='clusters', swap_axes=False, figsize=(2,5), standard_scale=\"var\")"
   ]
  },
  {
   "cell_type": "code",
   "execution_count": null,
   "id": "f46dc9bc-4509-4221-881e-a8cb5cab8656",
   "metadata": {},
   "outputs": [],
   "source": [
    "# mean expression per group (normalized and scaled)\n",
    "ex = sc.pl.matrixplot(adata3, [gene], groupby='clusters', swap_axes=False, figsize=(2,5), standard_scale=\"var\", return_fig=True).values_df\n",
    "ex.columns = ['mean_expression']\n",
    "ex"
   ]
  },
  {
   "cell_type": "code",
   "execution_count": null,
   "id": "4b1ee92c-dd6a-422f-bda0-d082c9311012",
   "metadata": {},
   "outputs": [],
   "source": [
    "sc.pl.dotplot(adata3, [gene], groupby='clusters', swap_axes=False, figsize=(2,5), standard_scale=\"var\")"
   ]
  },
  {
   "cell_type": "code",
   "execution_count": null,
   "id": "3e002d9c-7f1d-4ed4-b958-22ff6c804526",
   "metadata": {},
   "outputs": [],
   "source": [
    "# dotplot dot size = fraction of cells in group expressing Foxf2\n",
    "fc = sc.pl.dotplot(adata3, [gene], groupby='clusters', swap_axes=False, figsize=(2,7), standard_scale=\"var\",return_fig=True).dot_size_df\n",
    "fc.columns = ['fraction_of_cells']\n",
    "fc"
   ]
  },
  {
   "cell_type": "code",
   "execution_count": null,
   "id": "1c726ccc-95ad-421b-94b4-d047a1baf5d6",
   "metadata": {},
   "outputs": [],
   "source": [
    "foxf2 = pd.concat([ex, fc], axis=1)\n",
    "foxf2['gene'] = gene\n",
    "foxf2['source'] = \"Siletti2022\"\n",
    "foxf2['organism'] = \"Human\"\n",
    "foxf2['cell_number'] = pd.DataFrame(adata3.obs[\"clusters\"].value_counts()).reindex(foxf2.index)\n",
    "foxf2.index.name = \"clusters\"\n",
    "foxf2"
   ]
  },
  {
   "cell_type": "code",
   "execution_count": null,
   "id": "43c1a4d2-d7be-47de-aa98-5300d0d7ca2d",
   "metadata": {},
   "outputs": [],
   "source": [
    "# export\n",
    "name='Siletti2022'"
   ]
  },
  {
   "cell_type": "code",
   "execution_count": null,
   "id": "a428744e-148d-4d1b-a27b-a4f11e6f74ea",
   "metadata": {},
   "outputs": [],
   "source": [
    "main_dir"
   ]
  },
  {
   "cell_type": "code",
   "execution_count": null,
   "id": "9e8a5069-5467-47ba-aef4-5765a8ffe25c",
   "metadata": {},
   "outputs": [],
   "source": [
    "# Win\n",
    "foxf2.to_csv(main_dir+'/Others_summarized/'+ datetime.date.today().strftime(\"%Y%m%d\")+'_'+gene+'_'+name+'_normalized.csv',sep=';')"
   ]
  },
  {
   "cell_type": "markdown",
   "id": "2933adf2-ea31-4fc2-b30e-3d51bfe39553",
   "metadata": {},
   "source": [
    "# Focus on: KDR"
   ]
  },
  {
   "cell_type": "code",
   "execution_count": null,
   "id": "e1dd4838-029a-4199-87ba-c69e141a154f",
   "metadata": {},
   "outputs": [],
   "source": [
    "gene=\"KDR\""
   ]
  },
  {
   "cell_type": "code",
   "execution_count": null,
   "id": "a3cd8e6a-8327-4729-b893-9b7ee87a9e7e",
   "metadata": {},
   "outputs": [],
   "source": [
    "sc.pl.matrixplot(adata3, [gene], groupby='clusters', swap_axes=False, figsize=(2,5), standard_scale=\"var\")"
   ]
  },
  {
   "cell_type": "code",
   "execution_count": null,
   "id": "619af712-8bbc-4b4d-936c-b6b8ee2f6ed2",
   "metadata": {},
   "outputs": [],
   "source": [
    "# mean expression per group (normalized and scaled)\n",
    "ex = sc.pl.matrixplot(adata3, [gene], groupby='clusters', swap_axes=False, figsize=(2,5), standard_scale=\"var\", return_fig=True).values_df\n",
    "ex.columns = ['mean_expression']\n",
    "ex"
   ]
  },
  {
   "cell_type": "code",
   "execution_count": null,
   "id": "27649d31-7d6a-4950-9b69-15e59af04971",
   "metadata": {},
   "outputs": [],
   "source": [
    "sc.pl.dotplot(adata3, [gene], groupby='clusters', swap_axes=False, figsize=(2,5), standard_scale=\"var\")"
   ]
  },
  {
   "cell_type": "code",
   "execution_count": null,
   "id": "ce6824ec-d560-4b7b-a3e1-5c93b0c9461a",
   "metadata": {},
   "outputs": [],
   "source": [
    "# dotplot dot size = fraction of cells in group expressing Foxf2\n",
    "fc = sc.pl.dotplot(adata3, [gene], groupby='clusters', swap_axes=False, figsize=(2,7), standard_scale=\"var\",return_fig=True).dot_size_df\n",
    "fc.columns = ['fraction_of_cells']\n",
    "fc"
   ]
  },
  {
   "cell_type": "code",
   "execution_count": null,
   "id": "0317c620-a58b-4608-9957-0662f5c310ea",
   "metadata": {},
   "outputs": [],
   "source": [
    "foxf2 = pd.concat([ex, fc], axis=1)\n",
    "foxf2['gene'] = gene\n",
    "foxf2['source'] = \"Siletti2022\"\n",
    "foxf2['organism'] = \"Human\"\n",
    "foxf2['cell_number'] = pd.DataFrame(adata3.obs[\"clusters\"].value_counts()).reindex(foxf2.index)\n",
    "foxf2.index.name = \"clusters\"\n",
    "foxf2"
   ]
  },
  {
   "cell_type": "code",
   "execution_count": null,
   "id": "1c2cd3dd-8521-4650-8fb4-1423e985b4af",
   "metadata": {},
   "outputs": [],
   "source": [
    "# export\n",
    "name='Siletti2022'"
   ]
  },
  {
   "cell_type": "code",
   "execution_count": null,
   "id": "8dd9b6db-f248-444f-bf2c-31da8d9697d4",
   "metadata": {},
   "outputs": [],
   "source": [
    "# Win\n",
    "foxf2.to_csv(main_dir+'/Others_summarized/'+ datetime.date.today().strftime(\"%Y%m%d\")+'_'+gene+'_'+name+'_normalized.csv',sep=';')"
   ]
  },
  {
   "cell_type": "markdown",
   "id": "21d07a5d-b196-403e-a95e-8d496ccf20f1",
   "metadata": {},
   "source": [
    "# Focus on: NRP1"
   ]
  },
  {
   "cell_type": "code",
   "execution_count": null,
   "id": "baf6df73-6e7f-45d2-96d0-685d663e3528",
   "metadata": {},
   "outputs": [],
   "source": [
    "gene=\"NRP1\""
   ]
  },
  {
   "cell_type": "code",
   "execution_count": null,
   "id": "e6fa7ef7-aa5f-4977-99bc-bf73302dc65d",
   "metadata": {},
   "outputs": [],
   "source": [
    "sc.pl.matrixplot(adata3, [gene], groupby='clusters', swap_axes=False, figsize=(2,5), standard_scale=\"var\")"
   ]
  },
  {
   "cell_type": "code",
   "execution_count": null,
   "id": "8768d3c5-b394-476a-a6b6-166eecc7eb31",
   "metadata": {},
   "outputs": [],
   "source": [
    "# mean expression per group (normalized and scaled)\n",
    "ex = sc.pl.matrixplot(adata3, [gene], groupby='clusters', swap_axes=False, figsize=(2,5), standard_scale=\"var\", return_fig=True).values_df\n",
    "ex.columns = ['mean_expression']\n",
    "ex"
   ]
  },
  {
   "cell_type": "code",
   "execution_count": null,
   "id": "760ca7bc-17b8-4470-a163-e2408be80f84",
   "metadata": {},
   "outputs": [],
   "source": [
    "sc.pl.dotplot(adata3, [gene], groupby='clusters', swap_axes=False, figsize=(2,5), standard_scale=\"var\")"
   ]
  },
  {
   "cell_type": "code",
   "execution_count": null,
   "id": "0fad05e3-e4c0-4359-b03f-a9a00e1df58a",
   "metadata": {},
   "outputs": [],
   "source": [
    "# dotplot dot size = fraction of cells in group expressing Foxf2\n",
    "fc = sc.pl.dotplot(adata3, [gene], groupby='clusters', swap_axes=False, figsize=(2,7), standard_scale=\"var\",return_fig=True).dot_size_df\n",
    "fc.columns = ['fraction_of_cells']\n",
    "fc"
   ]
  },
  {
   "cell_type": "code",
   "execution_count": null,
   "id": "a373a647-29bf-4f90-8e18-e14e85ddfd86",
   "metadata": {},
   "outputs": [],
   "source": [
    "foxf2 = pd.concat([ex, fc], axis=1)\n",
    "foxf2['gene'] = gene\n",
    "foxf2['source'] = \"Siletti2022\"\n",
    "foxf2['organism'] = \"Human\"\n",
    "foxf2['cell_number'] = pd.DataFrame(adata3.obs[\"clusters\"].value_counts()).reindex(foxf2.index)\n",
    "foxf2.index.name = \"clusters\"\n",
    "foxf2"
   ]
  },
  {
   "cell_type": "code",
   "execution_count": null,
   "id": "13c4ce37-da8e-4272-829b-8f8b3cda2f0a",
   "metadata": {},
   "outputs": [],
   "source": [
    "# export\n",
    "name='Siletti2022'"
   ]
  },
  {
   "cell_type": "code",
   "execution_count": null,
   "id": "813cc64b-da42-4e6c-bca4-8e68736f072e",
   "metadata": {},
   "outputs": [],
   "source": [
    "# Win\n",
    "foxf2.to_csv(main_dir+'/Others_summarized/'+ datetime.date.today().strftime(\"%Y%m%d\")+'_'+gene+'_'+name+'_normalized.csv',sep=';')"
   ]
  },
  {
   "cell_type": "markdown",
   "id": "6789fd1a-2718-47b1-98d3-fd871685eda0",
   "metadata": {},
   "source": [
    "# Focus on: NRP2"
   ]
  },
  {
   "cell_type": "code",
   "execution_count": null,
   "id": "a5e25ffd-5a8f-44e3-a8d0-47fdf80b3775",
   "metadata": {},
   "outputs": [],
   "source": [
    "gene=\"NRP2\""
   ]
  },
  {
   "cell_type": "code",
   "execution_count": null,
   "id": "0fdfe6d3-7cdb-4190-978c-2254f1d0dc44",
   "metadata": {},
   "outputs": [],
   "source": [
    "sc.pl.matrixplot(adata3, [gene], groupby='clusters', swap_axes=False, figsize=(2,5), standard_scale=\"var\")"
   ]
  },
  {
   "cell_type": "code",
   "execution_count": null,
   "id": "2838caea-aa62-42c1-a371-fdba422b11ab",
   "metadata": {},
   "outputs": [],
   "source": [
    "# mean expression per group (normalized and scaled)\n",
    "ex = sc.pl.matrixplot(adata3, [gene], groupby='clusters', swap_axes=False, figsize=(2,5), standard_scale=\"var\", return_fig=True).values_df\n",
    "ex.columns = ['mean_expression']\n",
    "ex"
   ]
  },
  {
   "cell_type": "code",
   "execution_count": null,
   "id": "fe8273cf-0038-48cf-9855-e04b565d4cfe",
   "metadata": {},
   "outputs": [],
   "source": [
    "sc.pl.dotplot(adata3, [gene], groupby='clusters', swap_axes=False, figsize=(2,5), standard_scale=\"var\")"
   ]
  },
  {
   "cell_type": "code",
   "execution_count": null,
   "id": "7b179639-d740-4667-b398-f6369eeec180",
   "metadata": {},
   "outputs": [],
   "source": [
    "# dotplot dot size = fraction of cells in group expressing Foxf2\n",
    "fc = sc.pl.dotplot(adata3, [gene], groupby='clusters', swap_axes=False, figsize=(2,7), standard_scale=\"var\",return_fig=True).dot_size_df\n",
    "fc.columns = ['fraction_of_cells']\n",
    "fc"
   ]
  },
  {
   "cell_type": "code",
   "execution_count": null,
   "id": "659f6d7b-3889-49b6-9765-bc6b73f38b71",
   "metadata": {},
   "outputs": [],
   "source": [
    "foxf2 = pd.concat([ex, fc], axis=1)\n",
    "foxf2['gene'] = gene\n",
    "foxf2['source'] = \"Siletti2022\"\n",
    "foxf2['organism'] = \"Human\"\n",
    "foxf2['cell_number'] = pd.DataFrame(adata3.obs[\"clusters\"].value_counts()).reindex(foxf2.index)\n",
    "foxf2.index.name = \"clusters\"\n",
    "foxf2"
   ]
  },
  {
   "cell_type": "code",
   "execution_count": null,
   "id": "b9e2383b-1097-4648-82a5-6965f8d23a9b",
   "metadata": {},
   "outputs": [],
   "source": [
    "# export\n",
    "name='Siletti2022'"
   ]
  },
  {
   "cell_type": "code",
   "execution_count": null,
   "id": "9bd5acd1-872e-48ae-8453-08091e09e4fe",
   "metadata": {},
   "outputs": [],
   "source": [
    "# Win\n",
    "foxf2.to_csv(main_dir+'/Others_summarized/'+ datetime.date.today().strftime(\"%Y%m%d\")+'_'+gene+'_'+name+'_normalized.csv',sep=';')"
   ]
  },
  {
   "cell_type": "markdown",
   "id": "28cecb78-3a7c-4ed9-9d4c-c4c54b64c0e8",
   "metadata": {},
   "source": [
    "# Focus on: EFNB2"
   ]
  },
  {
   "cell_type": "code",
   "execution_count": null,
   "id": "f5a03c29-fd12-4a53-9d03-95941872c58d",
   "metadata": {},
   "outputs": [],
   "source": [
    "gene=\"EFNB2\""
   ]
  },
  {
   "cell_type": "code",
   "execution_count": null,
   "id": "45970c64-e0e2-4e18-9b88-6150523d2ab9",
   "metadata": {},
   "outputs": [],
   "source": [
    "sc.pl.matrixplot(adata3, [gene], groupby='clusters', swap_axes=False, figsize=(2,5), standard_scale=\"var\")"
   ]
  },
  {
   "cell_type": "code",
   "execution_count": null,
   "id": "3b4649d0-cd14-4c9a-a2cb-e28cb5a02d8a",
   "metadata": {},
   "outputs": [],
   "source": [
    "# mean expression per group (normalized and scaled)\n",
    "ex = sc.pl.matrixplot(adata3, [gene], groupby='clusters', swap_axes=False, figsize=(2,5), standard_scale=\"var\", return_fig=True).values_df\n",
    "ex.columns = ['mean_expression']\n",
    "ex"
   ]
  },
  {
   "cell_type": "code",
   "execution_count": null,
   "id": "2f3d9792-57e1-4a1d-9dfe-7eff7008eb5c",
   "metadata": {},
   "outputs": [],
   "source": [
    "sc.pl.dotplot(adata3, [gene], groupby='clusters', swap_axes=False, figsize=(2,5), standard_scale=\"var\")"
   ]
  },
  {
   "cell_type": "code",
   "execution_count": null,
   "id": "9dee770f-9a26-48a2-b1c0-071c89736b42",
   "metadata": {},
   "outputs": [],
   "source": [
    "# dotplot dot size = fraction of cells in group expressing Foxf2\n",
    "fc = sc.pl.dotplot(adata3, [gene], groupby='clusters', swap_axes=False, figsize=(2,7), standard_scale=\"var\",return_fig=True).dot_size_df\n",
    "fc.columns = ['fraction_of_cells']\n",
    "fc"
   ]
  },
  {
   "cell_type": "code",
   "execution_count": null,
   "id": "8b105fcd-2b98-42b4-b5ab-bd8028b86f1a",
   "metadata": {},
   "outputs": [],
   "source": [
    "foxf2 = pd.concat([ex, fc], axis=1)\n",
    "foxf2['gene'] = gene\n",
    "foxf2['source'] = \"Siletti2022\"\n",
    "foxf2['organism'] = \"Human\"\n",
    "foxf2['cell_number'] = pd.DataFrame(adata3.obs[\"clusters\"].value_counts()).reindex(foxf2.index)\n",
    "foxf2.index.name = \"clusters\"\n",
    "foxf2"
   ]
  },
  {
   "cell_type": "code",
   "execution_count": null,
   "id": "12248cee-a657-421c-b6dc-77f88f12fcbe",
   "metadata": {},
   "outputs": [],
   "source": [
    "# export\n",
    "name='Siletti2022'"
   ]
  },
  {
   "cell_type": "code",
   "execution_count": null,
   "id": "8fd2cee4-76c9-4134-b735-78baa070fcb5",
   "metadata": {},
   "outputs": [],
   "source": [
    "# Win\n",
    "foxf2.to_csv(main_dir+'/Others_summarized/'+ datetime.date.today().strftime(\"%Y%m%d\")+'_'+gene+'_'+name+'_normalized.csv',sep=';')"
   ]
  },
  {
   "cell_type": "markdown",
   "id": "92e4e95b-e8f8-442f-8da7-adc78b264722",
   "metadata": {},
   "source": [
    "# Focus on: ITGB1"
   ]
  },
  {
   "cell_type": "code",
   "execution_count": null,
   "id": "0f64c68e-1b2f-4d0b-ab7f-5a48d27a50bd",
   "metadata": {},
   "outputs": [],
   "source": [
    "gene=\"ITGB1\""
   ]
  },
  {
   "cell_type": "code",
   "execution_count": null,
   "id": "a94248ed-5b42-4637-87b9-653c6e14cf51",
   "metadata": {},
   "outputs": [],
   "source": [
    "sc.pl.matrixplot(adata3, [gene], groupby='clusters', swap_axes=False, figsize=(2,5), standard_scale=\"var\")"
   ]
  },
  {
   "cell_type": "code",
   "execution_count": null,
   "id": "168995c0-0301-486e-8798-076783e54731",
   "metadata": {},
   "outputs": [],
   "source": [
    "# mean expression per group (normalized and scaled)\n",
    "ex = sc.pl.matrixplot(adata3, [gene], groupby='clusters', swap_axes=False, figsize=(2,5), standard_scale=\"var\", return_fig=True).values_df\n",
    "ex.columns = ['mean_expression']\n",
    "ex"
   ]
  },
  {
   "cell_type": "code",
   "execution_count": null,
   "id": "afaade77-8f25-4328-a206-3d90b6c57c0d",
   "metadata": {},
   "outputs": [],
   "source": [
    "sc.pl.dotplot(adata3, [gene], groupby='clusters', swap_axes=False, figsize=(2,5), standard_scale=\"var\")"
   ]
  },
  {
   "cell_type": "code",
   "execution_count": null,
   "id": "d9e1bd9d-160c-4068-912e-509689667778",
   "metadata": {},
   "outputs": [],
   "source": [
    "# dotplot dot size = fraction of cells in group expressing Foxf2\n",
    "fc = sc.pl.dotplot(adata3, [gene], groupby='clusters', swap_axes=False, figsize=(2,7), standard_scale=\"var\",return_fig=True).dot_size_df\n",
    "fc.columns = ['fraction_of_cells']\n",
    "fc"
   ]
  },
  {
   "cell_type": "code",
   "execution_count": null,
   "id": "836450f2-d5c2-423b-aee3-f4bc8d8f22f0",
   "metadata": {},
   "outputs": [],
   "source": [
    "foxf2 = pd.concat([ex, fc], axis=1)\n",
    "foxf2['gene'] = gene\n",
    "foxf2['source'] = \"Siletti2022\"\n",
    "foxf2['organism'] = \"Human\"\n",
    "foxf2['cell_number'] = pd.DataFrame(adata3.obs[\"clusters\"].value_counts()).reindex(foxf2.index)\n",
    "foxf2.index.name = \"clusters\"\n",
    "foxf2"
   ]
  },
  {
   "cell_type": "code",
   "execution_count": null,
   "id": "54844117-6289-441c-9ca9-9822b35240c3",
   "metadata": {},
   "outputs": [],
   "source": [
    "# export\n",
    "name='Siletti2022'"
   ]
  },
  {
   "cell_type": "code",
   "execution_count": null,
   "id": "b48d0cfa-697d-41a8-a8eb-35584209b1f4",
   "metadata": {},
   "outputs": [],
   "source": [
    "# Win\n",
    "foxf2.to_csv(main_dir+'/Others_summarized/'+ datetime.date.today().strftime(\"%Y%m%d\")+'_'+gene+'_'+name+'_normalized.csv',sep=';')"
   ]
  },
  {
   "cell_type": "markdown",
   "id": "600c3d03-21f2-4678-960a-071d897d3fb2",
   "metadata": {},
   "source": [
    "# Focus on: ANGPT2"
   ]
  },
  {
   "cell_type": "code",
   "execution_count": null,
   "id": "36017225-36f9-461f-a2a9-47fa4ea47f10",
   "metadata": {},
   "outputs": [],
   "source": [
    "gene=\"ANGPT2\""
   ]
  },
  {
   "cell_type": "code",
   "execution_count": null,
   "id": "8516cd85-e6e0-4668-8ad2-251ae6c0864a",
   "metadata": {},
   "outputs": [],
   "source": [
    "sc.pl.matrixplot(adata3, [gene], groupby='clusters', swap_axes=False, figsize=(2,5), standard_scale=\"var\")"
   ]
  },
  {
   "cell_type": "code",
   "execution_count": null,
   "id": "3196b88a-25ab-4d7d-8a34-d01d96b162ed",
   "metadata": {},
   "outputs": [],
   "source": [
    "# mean expression per group (normalized and scaled)\n",
    "ex = sc.pl.matrixplot(adata3, [gene], groupby='clusters', swap_axes=False, figsize=(2,5), standard_scale=\"var\", return_fig=True).values_df\n",
    "ex.columns = ['mean_expression']\n",
    "ex"
   ]
  },
  {
   "cell_type": "code",
   "execution_count": null,
   "id": "b876c3c4-feb8-4e6f-867b-a76ea34bfd5b",
   "metadata": {},
   "outputs": [],
   "source": [
    "sc.pl.dotplot(adata3, [gene], groupby='clusters', swap_axes=False, figsize=(2,5), standard_scale=\"var\")"
   ]
  },
  {
   "cell_type": "code",
   "execution_count": null,
   "id": "d88ed54c-cb30-42a1-bacb-14ca42d6e071",
   "metadata": {},
   "outputs": [],
   "source": [
    "# dotplot dot size = fraction of cells in group expressing Foxf2\n",
    "fc = sc.pl.dotplot(adata3, [gene], groupby='clusters', swap_axes=False, figsize=(2,7), standard_scale=\"var\",return_fig=True).dot_size_df\n",
    "fc.columns = ['fraction_of_cells']\n",
    "fc"
   ]
  },
  {
   "cell_type": "code",
   "execution_count": null,
   "id": "50c1448c-5c08-4cc0-b867-b168ac098e95",
   "metadata": {},
   "outputs": [],
   "source": [
    "foxf2 = pd.concat([ex, fc], axis=1)\n",
    "foxf2['gene'] = gene\n",
    "foxf2['source'] = \"Siletti2022\"\n",
    "foxf2['organism'] = \"Human\"\n",
    "foxf2['cell_number'] = pd.DataFrame(adata3.obs[\"clusters\"].value_counts()).reindex(foxf2.index)\n",
    "foxf2.index.name = \"clusters\"\n",
    "foxf2"
   ]
  },
  {
   "cell_type": "code",
   "execution_count": null,
   "id": "7a7eb251-0821-404f-994a-a7de8ccc992c",
   "metadata": {},
   "outputs": [],
   "source": [
    "# export\n",
    "name='Siletti2022'"
   ]
  },
  {
   "cell_type": "code",
   "execution_count": null,
   "id": "93759433-c1cf-4e6c-9f34-6e6066b91df2",
   "metadata": {},
   "outputs": [],
   "source": [
    "# Win\n",
    "foxf2.to_csv(main_dir+'/Others_summarized/'+ datetime.date.today().strftime(\"%Y%m%d\")+'_'+gene+'_'+name+'_normalized.csv',sep=';')"
   ]
  },
  {
   "cell_type": "markdown",
   "id": "c3fda6f4-bab5-4f14-94cb-73820e1b1ecc",
   "metadata": {},
   "source": [
    "# Focus on: CDH5"
   ]
  },
  {
   "cell_type": "code",
   "execution_count": null,
   "id": "bc7b8b40-98ce-40cc-8523-da6f48db2637",
   "metadata": {},
   "outputs": [],
   "source": [
    "gene=\"CDH5\""
   ]
  },
  {
   "cell_type": "code",
   "execution_count": null,
   "id": "f9870f40-589d-41a0-bf09-028fd89f4373",
   "metadata": {},
   "outputs": [],
   "source": [
    "sc.pl.matrixplot(adata3, [gene], groupby='clusters', swap_axes=False, figsize=(2,5), standard_scale=\"var\")"
   ]
  },
  {
   "cell_type": "code",
   "execution_count": null,
   "id": "24c8b230-1488-4b7e-a5cf-32080bcbf9ca",
   "metadata": {},
   "outputs": [],
   "source": [
    "# mean expression per group (normalized and scaled)\n",
    "ex = sc.pl.matrixplot(adata3, [gene], groupby='clusters', swap_axes=False, figsize=(2,5), standard_scale=\"var\", return_fig=True).values_df\n",
    "ex.columns = ['mean_expression']\n",
    "ex"
   ]
  },
  {
   "cell_type": "code",
   "execution_count": null,
   "id": "044a6ac1-94e2-472f-b588-20e0e92108db",
   "metadata": {},
   "outputs": [],
   "source": [
    "sc.pl.dotplot(adata3, [gene], groupby='clusters', swap_axes=False, figsize=(2,5), standard_scale=\"var\")"
   ]
  },
  {
   "cell_type": "code",
   "execution_count": null,
   "id": "7693cdb8-c921-4db8-8744-f258f7154bc9",
   "metadata": {},
   "outputs": [],
   "source": [
    "# dotplot dot size = fraction of cells in group expressing Foxf2\n",
    "fc = sc.pl.dotplot(adata3, [gene], groupby='clusters', swap_axes=False, figsize=(2,7), standard_scale=\"var\",return_fig=True).dot_size_df\n",
    "fc.columns = ['fraction_of_cells']\n",
    "fc"
   ]
  },
  {
   "cell_type": "code",
   "execution_count": null,
   "id": "a3150398-78b8-43a4-b2ba-60e001963d5e",
   "metadata": {},
   "outputs": [],
   "source": [
    "foxf2 = pd.concat([ex, fc], axis=1)\n",
    "foxf2['gene'] = gene\n",
    "foxf2['source'] = \"Siletti2022\"\n",
    "foxf2['organism'] = \"Human\"\n",
    "foxf2['cell_number'] = pd.DataFrame(adata3.obs[\"clusters\"].value_counts()).reindex(foxf2.index)\n",
    "foxf2.index.name = \"clusters\"\n",
    "foxf2"
   ]
  },
  {
   "cell_type": "code",
   "execution_count": null,
   "id": "2792240f-c73e-44d6-ac89-bc279faa7636",
   "metadata": {},
   "outputs": [],
   "source": [
    "# export\n",
    "name='Siletti2022'"
   ]
  },
  {
   "cell_type": "code",
   "execution_count": null,
   "id": "4dbcefc9-a82e-43c6-95cb-9cccb2f057d0",
   "metadata": {},
   "outputs": [],
   "source": [
    "# Win\n",
    "foxf2.to_csv(main_dir+'/Others_summarized/'+ datetime.date.today().strftime(\"%Y%m%d\")+'_'+gene+'_'+name+'_normalized.csv',sep=';')"
   ]
  },
  {
   "cell_type": "markdown",
   "id": "2b50bbcc-d764-49b9-8cc0-d3173fd8239e",
   "metadata": {},
   "source": [
    "# Session Info"
   ]
  },
  {
   "cell_type": "code",
   "execution_count": null,
   "id": "06401063-4335-4d98-ad41-2bab36a17eab",
   "metadata": {},
   "outputs": [],
   "source": [
    "sc.logging.print_versions()"
   ]
  }
 ],
 "metadata": {
  "kernelspec": {
   "display_name": "squidpy",
   "language": "python",
   "name": "squidpy"
  },
  "language_info": {
   "codemirror_mode": {
    "name": "ipython",
    "version": 3
   },
   "file_extension": ".py",
   "mimetype": "text/x-python",
   "name": "python",
   "nbconvert_exporter": "python",
   "pygments_lexer": "ipython3"
  }
 },
 "nbformat": 4,
 "nbformat_minor": 5
}
