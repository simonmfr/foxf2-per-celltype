{
 "cells": [
  {
   "cell_type": "markdown",
   "id": "9bfa00be-69ba-4146-aba2-818b967492c3",
   "metadata": {
    "jp-MarkdownHeadingCollapsed": true,
    "tags": []
   },
   "source": [
    "<font size=\"+3.8\">Scanpy single-cell pre-processing</font>  \n",
    "<font size=\"+1.5\"></font>  "
   ]
  },
  {
   "cell_type": "markdown",
   "id": "563f0b43-ce10-475f-b355-6fa8a2406dad",
   "metadata": {},
   "source": [
    "Aim: Preprocess annotated human brain single-cell data from Siletti 2022 bioRxiv"
   ]
  },
  {
   "cell_type": "code",
   "execution_count": null,
   "id": "c1102538-056b-4ece-a823-228347e39dfa",
   "metadata": {
    "tags": []
   },
   "outputs": [],
   "source": [
    "from datetime import date\n",
    "date.today().strftime('%d/%m/%Y')"
   ]
  },
  {
   "cell_type": "code",
   "execution_count": null,
   "id": "2fea7ac9-c25e-44eb-9f7b-82d5087622f4",
   "metadata": {},
   "outputs": [],
   "source": [
    "import os\n",
    "import random\n",
    "import numpy as np\n",
    "import scipy as sp\n",
    "import pandas as pd\n",
    "import matplotlib.pyplot as plt\n",
    "from matplotlib.pyplot import rc_context\n",
    "from matplotlib import rcParams\n",
    "from matplotlib import colors\n",
    "import seaborn as sns"
   ]
  },
  {
   "cell_type": "code",
   "execution_count": null,
   "id": "4924377d-db7e-4a62-882b-e8d24b3ff369",
   "metadata": {},
   "outputs": [],
   "source": [
    "import anndata as ad\n",
    "import scanpy as sc\n",
    "import scipy as sci\n",
    "sc.settings.verbosity = 3"
   ]
  },
  {
   "cell_type": "code",
   "execution_count": null,
   "id": "237d7e9e-a068-431c-a333-04dd65ab90eb",
   "metadata": {},
   "outputs": [],
   "source": [
    "#import loompy"
   ]
  },
  {
   "cell_type": "code",
   "execution_count": null,
   "id": "4a82ce5e-db1e-44f7-910a-8e0294622d58",
   "metadata": {},
   "outputs": [],
   "source": [
    "import utils"
   ]
  },
  {
   "cell_type": "code",
   "execution_count": null,
   "id": "d4605086-5d7a-4b6a-baa8-ff4b2aac3aed",
   "metadata": {},
   "outputs": [],
   "source": [
    "main_dir='/cluster2/sfrerich/P6/P06_vasc_scRNAseq' # HPC"
   ]
  },
  {
   "cell_type": "code",
   "execution_count": null,
   "id": "aa7d3e1a-4618-4f41-823a-52ba56fe92c8",
   "metadata": {},
   "outputs": [],
   "source": [
    "dataset_name = \"Siletti2022\" # Siletti 2022 biorXiv \n",
    "organism = \"Human\""
   ]
  },
  {
   "cell_type": "code",
   "execution_count": null,
   "id": "9827f37f-b965-49f2-895a-0ab89cf3cf71",
   "metadata": {},
   "outputs": [],
   "source": [
    "target_genes = [\"Foxo1\", \"Tek\", \"Nos3\", \"Htra1\", \"Egfl8\", \"Flt1\", \"Kdr\", \"Ptprb\", \"Nrp1\", \"Nrp2\", \"Efnb2\", \"Itgb1\", \"Itga6\", \"Angpt2\", \"Cdh5\", \"Cldn5\", \"Ocln\", \"Ctnnb1\"]\n",
    "target_genes = [gene.upper() for gene in target_genes]"
   ]
  },
  {
   "cell_type": "code",
   "execution_count": null,
   "id": "60d7d1bc-790f-4513-870b-66d8968d1e49",
   "metadata": {},
   "outputs": [],
   "source": [
    "genes_subset = [\"FOXF2\"] + target_genes"
   ]
  },
  {
   "cell_type": "markdown",
   "id": "067b131c-bdfa-498c-83bf-a8119a92140f",
   "metadata": {},
   "source": [
    "# Load + format data"
   ]
  },
  {
   "cell_type": "markdown",
   "id": "c2a0db04-3989-432e-8f92-1750d873901d",
   "metadata": {},
   "source": [
    "Annotated by authors"
   ]
  },
  {
   "cell_type": "markdown",
   "id": "fee34662-4985-4565-bd42-662bf8b21a8a",
   "metadata": {
    "tags": []
   },
   "source": [
    "### All cells"
   ]
  },
  {
   "cell_type": "markdown",
   "id": "a11a07ef-6fd5-4b80-a12f-f71830b2096c",
   "metadata": {},
   "source": [
    "All superclusters downloaded from cellxgene https://cellxgene.cziscience.com/collections/283d65eb-dd53-496d-adb7-7570c7caa443 \n",
    "(23/02/2023) except for Miscancelleous"
   ]
  },
  {
   "cell_type": "code",
   "execution_count": null,
   "id": "f50a4d03-8816-49ab-8cb1-d4e89c6ac533",
   "metadata": {},
   "outputs": [],
   "source": [
    "# run once"
   ]
  },
  {
   "cell_type": "code",
   "execution_count": null,
   "id": "6382c30b-2568-4dc6-b6ec-6a2a63832411",
   "metadata": {},
   "outputs": [],
   "source": [
    "f=os.listdir(os.path.join(main_dir,'Siletti2022','all_cellxgene'))\n",
    "f"
   ]
  },
  {
   "cell_type": "code",
   "execution_count": null,
   "id": "e8640796-bcc7-4465-b0d6-38b16278fd0a",
   "metadata": {},
   "outputs": [],
   "source": [
    "%%time\n",
    "# load, format, normalize, export each h5ad object\n",
    "for p in f[16:]:\n",
    "    print(\"processing \"+p)\n",
    "    adata = ad.read_h5ad(os.path.join(main_dir,'Siletti2022','all_cellxgene',p))\n",
    "    adatas = adata[adata.obs[\"BadCells\"] == 0]\n",
    "    adata = adata[adata.obs[\"tissue\"] != \"Spinal cord\"]\n",
    "    adata.obs = adata.obs[[\"supercluster_term\", \"cell_type\", \"assay\", \"organism\", \"disease\", \"tissue\", \"BadCells\"]]\n",
    "    adata.var = adata.var[[\"Gene\",\"feature_name\"]]\n",
    "    del adata.uns\n",
    "    adata.var_names = adata.var[\"Gene\"].tolist()\n",
    "    adata.obs_names_make_unique()\n",
    "    adata.var_names_make_unique()\n",
    "    # log-normalize\n",
    "    #adata.layers[\"counts\"] = adata.X.copy()\n",
    "    sc.pp.normalize_total(adata,inplace=True)\n",
    "    sc.pp.log1p(adata)\n",
    "    #adata.layers[\"normalized\"] = adata.X.copy()\n",
    "    print(\"saving \"+p)\n",
    "    adata.write_h5ad(os.path.join(main_dir,'Siletti2022','all_reduced_normalized',p.split(\".\")[0]+'_reduced.h5ad.gz'), compression=\"gzip\")\n",
    "del adata"
   ]
  },
  {
   "cell_type": "code",
   "execution_count": null,
   "id": "efe93d02-5a8a-4750-874b-f5e3c0ba9d16",
   "metadata": {},
   "outputs": [],
   "source": [
    "# then load from here"
   ]
  },
  {
   "cell_type": "code",
   "execution_count": null,
   "id": "bd82f3d6-240e-4057-a6d4-137460a29b97",
   "metadata": {},
   "outputs": [],
   "source": [
    "f=os.listdir(os.path.join(main_dir,'Siletti2022','all_reduced_normalized'))\n",
    "f"
   ]
  },
  {
   "cell_type": "code",
   "execution_count": null,
   "id": "e6270ed9-9902-4ed1-acdb-602e099460e6",
   "metadata": {},
   "outputs": [],
   "source": [
    "adatas = {p.split(\".\")[0]:ad.read_h5ad(os.path.join(main_dir,'Siletti2022','all_reduced_normalized',p)) for p in f}"
   ]
  },
  {
   "cell_type": "code",
   "execution_count": null,
   "id": "27bbeb54-5946-4cbb-82c9-fa8644bca450",
   "metadata": {},
   "outputs": [],
   "source": [
    "adatas.keys()"
   ]
  },
  {
   "cell_type": "code",
   "execution_count": null,
   "id": "5deed8b0-ed31-49d8-9190-b5d9b8aeec6c",
   "metadata": {},
   "outputs": [],
   "source": [
    "adatas.values()"
   ]
  },
  {
   "cell_type": "code",
   "execution_count": null,
   "id": "9b139de7-bae6-4220-9db1-e1253fc99dbf",
   "metadata": {},
   "outputs": [],
   "source": [
    "# too large for standard merge, use AnnCollection instead\n",
    "# adata2 = ad.concat(adatas, axis=0, join=\"inner\", merge=\"first\")"
   ]
  },
  {
   "cell_type": "code",
   "execution_count": null,
   "id": "98833a37-588f-4b40-9faa-03c67cc8d1ab",
   "metadata": {},
   "outputs": [],
   "source": [
    "from anndata.experimental.multi_files import AnnCollection\n",
    "\n",
    "adata2 = AnnCollection(adatas, join_vars='inner', label='dataset')\n",
    "adata2"
   ]
  },
  {
   "cell_type": "code",
   "execution_count": null,
   "id": "c6677e9d-d858-4de4-be47-be6357cec8da",
   "metadata": {},
   "outputs": [],
   "source": [
    "[i for i in adata2.var_names if \"NOS3\" in i]"
   ]
  },
  {
   "cell_type": "code",
   "execution_count": null,
   "id": "69772283-a195-4ce0-8bc5-de2abba8305f",
   "metadata": {},
   "outputs": [],
   "source": [
    "pd.value_counts(adata2.obs[\"cell_type\"])"
   ]
  },
  {
   "cell_type": "code",
   "execution_count": null,
   "id": "9eb5012e-3d7a-45ad-8a7f-405d772707b4",
   "metadata": {},
   "outputs": [],
   "source": [
    "new_cluster_names = {'Bergmann glial cell':'Astrocytes',\n",
    "                     'astrocyte':'Astrocytes',\n",
    "                     'central nervous system macrophage':'Macrophages',\n",
    "                     'choroid plexus epithelial cell':'Choroid plexus epithelial cells',\n",
    "                     'endothelial cell':'Endothelial cells',\n",
    "                     'ependymal cell':'Ependymal cells',\n",
    "                     'fibroblast':'Fibroblasts',\n",
    "                     'neuron':'Neurons',\n",
    "                     'oligodendrocyte':'Oligos',\n",
    "                     'oligodendrocyte precursor cell':'OPCs',\n",
    "                     'pericyte':'Pericytes',\n",
    "                     'vascular associated smooth muscle cell':'SMCs'}\n",
    "#new_cluster_names=list(new_cluster_names.values())"
   ]
  },
  {
   "cell_type": "code",
   "execution_count": null,
   "id": "48d9c02b-e8c7-4cae-bcad-7dbc26269f2f",
   "metadata": {},
   "outputs": [],
   "source": [
    "adata2.obs['clusters'] = (\n",
    "    adata2.obs['cell_type']\n",
    "    .map(new_cluster_names)\n",
    "    .astype('category')\n",
    ")"
   ]
  },
  {
   "cell_type": "code",
   "execution_count": null,
   "id": "22dc10e6-5957-4cee-a89a-c446cde96c87",
   "metadata": {
    "tags": []
   },
   "outputs": [],
   "source": [
    "pd.value_counts(adata2.obs[\"clusters\"])"
   ]
  },
  {
   "cell_type": "code",
   "execution_count": null,
   "id": "d023077d-e591-414d-9d76-4659089b58d2",
   "metadata": {},
   "outputs": [],
   "source": [
    "#adata3 = adata2.to_adata() # does not contain .X - must subset first into AnnCollectionView object"
   ]
  },
  {
   "cell_type": "code",
   "execution_count": null,
   "id": "5d7d7529-5d37-42f2-90c5-7c5a1949ef6a",
   "metadata": {},
   "outputs": [],
   "source": [
    "# subset genes\n",
    "adata3 = adata2[:,adata2.var_names.isin(genes_subset)]"
   ]
  },
  {
   "cell_type": "code",
   "execution_count": null,
   "id": "cc8310ff-e95f-4557-825f-5c092bb8bd92",
   "metadata": {
    "scrolled": true
   },
   "outputs": [],
   "source": [
    "adata3"
   ]
  },
  {
   "cell_type": "code",
   "execution_count": null,
   "id": "ead069bf-d418-4d9a-90ca-8fda772d351b",
   "metadata": {},
   "outputs": [],
   "source": [
    "adata3 = adata3.to_adata()"
   ]
  },
  {
   "cell_type": "code",
   "execution_count": null,
   "id": "f865fb80-5644-4463-b7d4-a90bedeb0995",
   "metadata": {},
   "outputs": [],
   "source": [
    "adata3"
   ]
  },
  {
   "cell_type": "code",
   "execution_count": null,
   "id": "32a1c599-1612-453c-b4e5-0f923ce81cd1",
   "metadata": {},
   "outputs": [],
   "source": [
    "adata3.obsm[\"X_umap\"] = adata3.obsm[\"X_UMAP\"]"
   ]
  },
  {
   "cell_type": "code",
   "execution_count": null,
   "id": "374a473e-fedc-4747-b504-c64ed54c7108",
   "metadata": {},
   "outputs": [],
   "source": [
    "adata3.var_names"
   ]
  },
  {
   "cell_type": "code",
   "execution_count": null,
   "id": "db403cc2-cfdc-47b0-ab29-bdb9729d1c16",
   "metadata": {},
   "outputs": [],
   "source": [
    "del adata2"
   ]
  },
  {
   "cell_type": "code",
   "execution_count": null,
   "id": "d13a8867-90cb-4290-b8aa-b7983b55e570",
   "metadata": {
    "tags": []
   },
   "outputs": [],
   "source": [
    "# check if data is normalized\n",
    "adata3.X.max()"
   ]
  },
  {
   "cell_type": "code",
   "execution_count": null,
   "id": "d2c46f95-2267-4695-82ff-5e6f7beb940c",
   "metadata": {},
   "outputs": [],
   "source": [
    "# show expression of genes (across all spots)\n",
    "random_genes=random.sample(range(0, adata3.X.shape[1]), 15)\n",
    "adata_sub = adata3[:,random_genes]\n",
    "exp=pd.DataFrame(adata_sub.X.todense())\n",
    "# plot\n",
    "pl1=sns.displot(data=pd.melt(exp),x='value',height=4,hue='variable',kind=\"kde\",warn_singular=False,legend=False,palette=list(np.repeat('#086da6',4)), lw=0.3) # genes with 0 expression are excluded\n",
    "pl1.set(xlim=(-0.5, 7),ylim=(0,0.007))\n",
    "sns.set_theme(style='white')\n",
    "plt.show()"
   ]
  },
  {
   "cell_type": "code",
   "execution_count": null,
   "id": "f21cb9ea-f03d-4ce5-846a-2613692e6901",
   "metadata": {},
   "outputs": [],
   "source": [
    "sns.set(rc={'figure.figsize':(4,4)})\n",
    "sns.set_theme(style='white')\n",
    "pl=sns.histplot(data=pd.melt(exp),x='value',binwidth=0.5,legend=True,palette=list(np.repeat('#086da6',4)))\n",
    "pl.set(xlim=(0, 10));\n",
    "plt.show()"
   ]
  },
  {
   "cell_type": "code",
   "execution_count": null,
   "id": "01f8cf4f-6a4e-4d2d-8fdd-5c8328dc3fa8",
   "metadata": {},
   "outputs": [],
   "source": [
    "adata3.layers[\"normalized\"] = adata3.X"
   ]
  },
  {
   "cell_type": "markdown",
   "id": "1da4df80-ab67-4f86-88ba-ecc76f7fc2ea",
   "metadata": {},
   "source": [
    "---"
   ]
  },
  {
   "cell_type": "markdown",
   "id": "aaa7964a-2c4b-4b3d-b42a-8bff4d39eb01",
   "metadata": {},
   "source": [
    "# Focus on: Foxf2"
   ]
  },
  {
   "cell_type": "code",
   "execution_count": null,
   "id": "299f8552-3252-49a4-b5b8-6d8592a79f23",
   "metadata": {},
   "outputs": [],
   "source": [
    "gene=\"FOXF2\""
   ]
  },
  {
   "cell_type": "code",
   "execution_count": null,
   "id": "77379f8f-c851-44a1-9713-425cf54a9bbf",
   "metadata": {},
   "outputs": [],
   "source": [
    "sc.pl.umap(adata3, color='clusters', size=0.05)"
   ]
  },
  {
   "cell_type": "code",
   "execution_count": null,
   "id": "25e5d988-efb4-44b1-8423-5217239a2250",
   "metadata": {},
   "outputs": [],
   "source": [
    "sc.pl.umap(adata3, color='clusters', size=0.05)"
   ]
  },
  {
   "cell_type": "code",
   "execution_count": null,
   "id": "9a16e595-6657-4fe5-becb-4999bb235771",
   "metadata": {},
   "outputs": [],
   "source": [
    "sc.pl.umap(adata3, color=gene, size=0.05)"
   ]
  },
  {
   "cell_type": "code",
   "execution_count": null,
   "id": "11ec7a22-7902-441e-a9de-4f03a466d926",
   "metadata": {},
   "outputs": [],
   "source": [
    "sc.pl.matrixplot(adata3, [gene], groupby='clusters', swap_axes=False, figsize=(2,5), standard_scale=\"var\")"
   ]
  },
  {
   "cell_type": "code",
   "execution_count": null,
   "id": "b0ec99b6-c7b2-4805-8af9-817a637809a2",
   "metadata": {},
   "outputs": [],
   "source": [
    "sc.pl.dotplot(adata3, [gene], groupby='clusters', swap_axes=False, figsize=(2,5), standard_scale=\"var\")"
   ]
  },
  {
   "cell_type": "code",
   "execution_count": null,
   "id": "6fc65033-3626-46c5-8fc5-791eed0b79a8",
   "metadata": {},
   "outputs": [],
   "source": [
    "utils.summarize_gene_expression(adata = adata3, gene = gene, groupby = \"clusters\", \n",
    "                                study_name = dataset_name, organism = organism,\n",
    "                                export = True, output_dir = os.path.join(main_dir, \"Foxf2_summarized\")\n",
    "                               )"
   ]
  },
  {
   "cell_type": "markdown",
   "id": "dafc8a95-ebdf-4768-bdf5-635e9647273b",
   "metadata": {},
   "source": [
    "# Focus on: Other genes"
   ]
  },
  {
   "cell_type": "code",
   "execution_count": null,
   "id": "10434df9-20bd-4ad9-9a35-e2f28d2553f5",
   "metadata": {},
   "outputs": [],
   "source": [
    "other_genes_results = {\n",
    "    gene: utils.summarize_gene_expression(adata3, gene, study_name = dataset_name, organism = organism, groupby = \"clusters\",\n",
    "                                          output_dir=os.path.join(main_dir, \"Other_genes_summarized\"), export=True\n",
    "                                         ) for gene in target_genes\n",
    "}"
   ]
  },
  {
   "cell_type": "code",
   "execution_count": null,
   "id": "a77bd39d-f0d5-4486-b0e9-c536baefed25",
   "metadata": {},
   "outputs": [],
   "source": [
    "# some plots"
   ]
  },
  {
   "cell_type": "code",
   "execution_count": null,
   "id": "b6deeabf-aadf-4100-a55d-8894f0a15fb7",
   "metadata": {
    "tags": []
   },
   "outputs": [],
   "source": [
    "sc.pl.matrixplot(adata3, [target_genes[0]], groupby='clusters', swap_axes=False, figsize=(2,5), standard_scale=\"var\", layer=\"normalized\")"
   ]
  },
  {
   "cell_type": "code",
   "execution_count": null,
   "id": "b77b28d6-5864-432d-9980-d77f0021410c",
   "metadata": {},
   "outputs": [],
   "source": [
    "sc.pl.dotplot(adata3, [target_genes[0]], groupby='clusters', swap_axes=False, figsize=(2,5), standard_scale=\"var\", layer=\"normalized\")"
   ]
  },
  {
   "cell_type": "code",
   "execution_count": null,
   "id": "1c0ee2d4-f5cc-4411-94d8-250dad9678f1",
   "metadata": {},
   "outputs": [],
   "source": [
    "sc.pl.matrixplot(adata3, [target_genes[1]], groupby='clusters', swap_axes=False, figsize=(2,5), standard_scale=\"var\", layer=\"normalized\")"
   ]
  },
  {
   "cell_type": "code",
   "execution_count": null,
   "id": "0ad70e73-69fa-4f1d-b6fd-f99a38cbe48e",
   "metadata": {},
   "outputs": [],
   "source": [
    "sc.pl.dotplot(adata3, [target_genes[1]], groupby='clusters', swap_axes=False, figsize=(2,5), standard_scale=\"var\", layer=\"normalized\")"
   ]
  },
  {
   "cell_type": "markdown",
   "id": "2b50bbcc-d764-49b9-8cc0-d3173fd8239e",
   "metadata": {},
   "source": [
    "# Session Info"
   ]
  },
  {
   "cell_type": "code",
   "execution_count": null,
   "id": "14f249df-a141-4791-98bd-ec92a044c77f",
   "metadata": {},
   "outputs": [],
   "source": [
    "sc.logging.print_versions()"
   ]
  },
  {
   "cell_type": "code",
   "execution_count": null,
   "id": "58359068-e983-4c8e-b213-c4956dab1597",
   "metadata": {},
   "outputs": [],
   "source": []
  }
 ],
 "metadata": {
  "kernelspec": {
   "display_name": "Python 3 (ipykernel)",
   "language": "python",
   "name": "python3"
  },
  "language_info": {
   "codemirror_mode": {
    "name": "ipython",
    "version": 3
   },
   "file_extension": ".py",
   "mimetype": "text/x-python",
   "name": "python",
   "nbconvert_exporter": "python",
   "pygments_lexer": "ipython3"
  }
 },
 "nbformat": 4,
 "nbformat_minor": 5
}
