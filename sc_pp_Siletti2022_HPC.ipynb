{
 "cells": [
  {
   "cell_type": "markdown",
   "id": "9bfa00be-69ba-4146-aba2-818b967492c3",
   "metadata": {
    "jp-MarkdownHeadingCollapsed": true,
    "tags": []
   },
   "source": [
    "<font size=\"+3.8\">Scanpy single-cell pre-processing</font>  \n",
    "<font size=\"+1.5\"></font>  "
   ]
  },
  {
   "cell_type": "markdown",
   "id": "7f9434a8-16db-4c2d-9dc3-146eb194b3a3",
   "metadata": {},
   "source": [
    "sfrerich"
   ]
  },
  {
   "cell_type": "markdown",
   "id": "563f0b43-ce10-475f-b355-6fa8a2406dad",
   "metadata": {},
   "source": [
    "Aim: Preprocess annotated human brain single-cell data from Siletti 2022 bioRxiv"
   ]
  },
  {
   "cell_type": "code",
   "execution_count": 1,
   "id": "4efc7474-0dc2-41fc-9a0f-dba84e274869",
   "metadata": {},
   "outputs": [],
   "source": [
    "import sys\n",
    "import os, fnmatch "
   ]
  },
  {
   "cell_type": "code",
   "execution_count": 2,
   "id": "39ef90cd-15cf-40b4-b880-1a70d1602cc8",
   "metadata": {},
   "outputs": [],
   "source": [
    "import anndata\n",
    "import scanpy as sc\n",
    "import scipy as sci\n",
    "#sc.logging.print_versions()"
   ]
  },
  {
   "cell_type": "code",
   "execution_count": 3,
   "id": "e325ccf6-c7bc-4d3e-9cbe-8a4d61feedc6",
   "metadata": {},
   "outputs": [],
   "source": [
    "sc.settings.verbosity = 3"
   ]
  },
  {
   "cell_type": "code",
   "execution_count": 4,
   "id": "dd3e668b-ba5b-46d6-bc55-7af8a9756497",
   "metadata": {},
   "outputs": [],
   "source": [
    "import loompy"
   ]
  },
  {
   "cell_type": "code",
   "execution_count": 5,
   "id": "2fea7ac9-c25e-44eb-9f7b-82d5087622f4",
   "metadata": {},
   "outputs": [],
   "source": [
    "import numpy as np\n",
    "import scipy as sp\n",
    "import pandas as pd\n",
    "import matplotlib.pyplot as plt\n",
    "from matplotlib import rcParams\n",
    "from matplotlib import colors\n",
    "import seaborn as sb\n",
    "import datetime\n",
    "now = datetime.datetime.now()\n",
    "today = now.strftime(\"%Y%m%d\")"
   ]
  },
  {
   "cell_type": "code",
   "execution_count": 6,
   "id": "c4f25c8a-47e9-48b5-af79-04fe44b4068d",
   "metadata": {},
   "outputs": [],
   "source": [
    "from datetime import date\n",
    "from matplotlib.pyplot import rc_context"
   ]
  },
  {
   "cell_type": "code",
   "execution_count": 7,
   "id": "394740ba-a60e-4534-a468-ab5236912122",
   "metadata": {},
   "outputs": [
    {
     "data": {
      "text/plain": [
       "'/cluster2/sfrerich/jupyter/p6-foxf2-per-celltype'"
      ]
     },
     "execution_count": 7,
     "metadata": {},
     "output_type": "execute_result"
    }
   ],
   "source": [
    "os.getcwd()"
   ]
  },
  {
   "cell_type": "code",
   "execution_count": 8,
   "id": "49bdb1f2-bf71-41d7-abe6-a0ee2234c4b3",
   "metadata": {},
   "outputs": [],
   "source": [
    "main_dir='/run/user/1000/gvfs/smb-share:server=138.245.4.35,share=bd-dichgans/SF' # Linux\n",
    "main_dir='\\\\\\isdsynnas.srv.med.uni-muenchen.de\\BD-Dichgans\\SF' # Win"
   ]
  },
  {
   "cell_type": "code",
   "execution_count": 9,
   "id": "2f463ddb-df2f-4151-838d-d432c3a60d13",
   "metadata": {},
   "outputs": [],
   "source": [
    "main_dir='/cluster2/sfrerich/jupyter/p6-foxf2-per-celltype/data' # HPC"
   ]
  },
  {
   "cell_type": "markdown",
   "id": "067b131c-bdfa-498c-83bf-a8119a92140f",
   "metadata": {},
   "source": [
    "# Load + format data"
   ]
  },
  {
   "cell_type": "markdown",
   "id": "c2a0db04-3989-432e-8f92-1750d873901d",
   "metadata": {},
   "source": [
    "Annotated by authors"
   ]
  },
  {
   "cell_type": "markdown",
   "id": "fee34662-4985-4565-bd42-662bf8b21a8a",
   "metadata": {},
   "source": [
    "### All cells"
   ]
  },
  {
   "cell_type": "markdown",
   "id": "a11a07ef-6fd5-4b80-a12f-f71830b2096c",
   "metadata": {},
   "source": [
    "All superclusters downloaded from cellxgene https://cellxgene.cziscience.com/collections/283d65eb-dd53-496d-adb7-7570c7caa443 \n",
    "(23/02/2023) except for Miscancelleous"
   ]
  },
  {
   "cell_type": "code",
   "execution_count": 10,
   "id": "6d01fdc4-75d4-456c-806a-9fd874c78bf9",
   "metadata": {},
   "outputs": [
    {
     "data": {
      "text/plain": [
       "['CGE-interneuron.h5ad',\n",
       " 'Deep-layer-near-projecting.h5ad',\n",
       " 'splatter-neurons.h5ad',\n",
       " 'Lower-rhombic-lip.h5ad',\n",
       " 'Thalamic-excitatory.h5ad',\n",
       " 'MGE-interneuron.h5ad',\n",
       " 'Medium-spiny-neuron.h5ad',\n",
       " 'Mammillary-body.h5ad',\n",
       " 'LAMP5-LHX6-and-Chandelier.h5ad',\n",
       " 'Hippocampal-CA4.h5ad',\n",
       " 'nonneuronal.h5ad',\n",
       " 'Hippocampal-CA1-3.h5ad',\n",
       " 'deep-layer-intratelencephalic.h5ad',\n",
       " 'Deep-layer-corticothalamic-and-6b.h5ad',\n",
       " 'Hippocampal-dentate-gyrus.h5ad',\n",
       " 'Amygdala-excitatory.h5ad',\n",
       " 'Upper-rhombic-lip.h5ad',\n",
       " 'Eccentric-medium-spiny-neuron.h5ad',\n",
       " 'Cerebellar-inhibitory.h5ad',\n",
       " 'upper-layer-intratelencephalic.h5ad',\n",
       " 'Midbrain-derived-inhibitory.h5ad']"
      ]
     },
     "execution_count": 10,
     "metadata": {},
     "output_type": "execute_result"
    }
   ],
   "source": [
    "f=os.listdir(os.path.join(main_dir+'/P6_vasc_scRNAseq/Siletti2022/all_cellxgene'))\n",
    "f"
   ]
  },
  {
   "cell_type": "code",
   "execution_count": 11,
   "id": "fd2a93b8-f6a0-4f75-b078-662d715ed618",
   "metadata": {},
   "outputs": [
    {
     "name": "stderr",
     "output_type": "stream",
     "text": [
      "/cluster2/sfrerich/miniconda3/envs/scanpy/lib/python3.10/site-packages/anndata/utils.py:111: UserWarning: Suffix used (-[0-9]+) to deduplicate index values may make index values difficult to interpret. There values with a similar suffixes in the index. Consider using a different delimiter by passing `join={delimiter}`Example key collisions generated by the make_index_unique algorithm: ['SNORD116-1', 'SNORD116-2', 'SNORD116-3', 'SNORD116-4', 'SNORD116-5']\n",
      "  warnings.warn(\n"
     ]
    },
    {
     "name": "stdout",
     "output_type": "stream",
     "text": [
      "normalizing counts per cell\n",
      "    finished (0:00:04)\n",
      "normalizing counts per cell\n"
     ]
    },
    {
     "name": "stderr",
     "output_type": "stream",
     "text": [
      "/cluster2/sfrerich/miniconda3/envs/scanpy/lib/python3.10/site-packages/anndata/utils.py:111: UserWarning: Suffix used (-[0-9]+) to deduplicate index values may make index values difficult to interpret. There values with a similar suffixes in the index. Consider using a different delimiter by passing `join={delimiter}`Example key collisions generated by the make_index_unique algorithm: ['SNORD116-1', 'SNORD116-2', 'SNORD116-3', 'SNORD116-4', 'SNORD116-5']\n",
      "  warnings.warn(\n"
     ]
    },
    {
     "name": "stdout",
     "output_type": "stream",
     "text": [
      "    finished (0:00:00)\n"
     ]
    },
    {
     "name": "stderr",
     "output_type": "stream",
     "text": [
      "/cluster2/sfrerich/miniconda3/envs/scanpy/lib/python3.10/site-packages/anndata/utils.py:111: UserWarning: Suffix used (-[0-9]+) to deduplicate index values may make index values difficult to interpret. There values with a similar suffixes in the index. Consider using a different delimiter by passing `join={delimiter}`Example key collisions generated by the make_index_unique algorithm: ['SNORD116-1', 'SNORD116-2', 'SNORD116-3', 'SNORD116-4', 'SNORD116-5']\n",
      "  warnings.warn(\n"
     ]
    },
    {
     "name": "stdout",
     "output_type": "stream",
     "text": [
      "normalizing counts per cell\n",
      "    finished (0:00:06)\n",
      "normalizing counts per cell\n"
     ]
    },
    {
     "name": "stderr",
     "output_type": "stream",
     "text": [
      "/cluster2/sfrerich/miniconda3/envs/scanpy/lib/python3.10/site-packages/anndata/utils.py:111: UserWarning: Suffix used (-[0-9]+) to deduplicate index values may make index values difficult to interpret. There values with a similar suffixes in the index. Consider using a different delimiter by passing `join={delimiter}`Example key collisions generated by the make_index_unique algorithm: ['SNORD116-1', 'SNORD116-2', 'SNORD116-3', 'SNORD116-4', 'SNORD116-5']\n",
      "  warnings.warn(\n"
     ]
    },
    {
     "name": "stdout",
     "output_type": "stream",
     "text": [
      "    finished (0:00:01)\n"
     ]
    },
    {
     "name": "stderr",
     "output_type": "stream",
     "text": [
      "/cluster2/sfrerich/miniconda3/envs/scanpy/lib/python3.10/site-packages/anndata/utils.py:111: UserWarning: Suffix used (-[0-9]+) to deduplicate index values may make index values difficult to interpret. There values with a similar suffixes in the index. Consider using a different delimiter by passing `join={delimiter}`Example key collisions generated by the make_index_unique algorithm: ['SNORD116-1', 'SNORD116-2', 'SNORD116-3', 'SNORD116-4', 'SNORD116-5']\n",
      "  warnings.warn(\n"
     ]
    },
    {
     "name": "stdout",
     "output_type": "stream",
     "text": [
      "normalizing counts per cell\n",
      "    finished (0:00:02)\n"
     ]
    },
    {
     "name": "stderr",
     "output_type": "stream",
     "text": [
      "/cluster2/sfrerich/miniconda3/envs/scanpy/lib/python3.10/site-packages/anndata/utils.py:111: UserWarning: Suffix used (-[0-9]+) to deduplicate index values may make index values difficult to interpret. There values with a similar suffixes in the index. Consider using a different delimiter by passing `join={delimiter}`Example key collisions generated by the make_index_unique algorithm: ['SNORD116-1', 'SNORD116-2', 'SNORD116-3', 'SNORD116-4', 'SNORD116-5']\n",
      "  warnings.warn(\n"
     ]
    },
    {
     "name": "stdout",
     "output_type": "stream",
     "text": [
      "normalizing counts per cell\n",
      "    finished (0:00:04)\n"
     ]
    },
    {
     "name": "stderr",
     "output_type": "stream",
     "text": [
      "/cluster2/sfrerich/miniconda3/envs/scanpy/lib/python3.10/site-packages/anndata/utils.py:111: UserWarning: Suffix used (-[0-9]+) to deduplicate index values may make index values difficult to interpret. There values with a similar suffixes in the index. Consider using a different delimiter by passing `join={delimiter}`Example key collisions generated by the make_index_unique algorithm: ['SNORD116-1', 'SNORD116-2', 'SNORD116-3', 'SNORD116-4', 'SNORD116-5']\n",
      "  warnings.warn(\n"
     ]
    },
    {
     "name": "stdout",
     "output_type": "stream",
     "text": [
      "normalizing counts per cell\n",
      "    finished (0:00:03)\n",
      "normalizing counts per cell\n"
     ]
    },
    {
     "name": "stderr",
     "output_type": "stream",
     "text": [
      "/cluster2/sfrerich/miniconda3/envs/scanpy/lib/python3.10/site-packages/anndata/utils.py:111: UserWarning: Suffix used (-[0-9]+) to deduplicate index values may make index values difficult to interpret. There values with a similar suffixes in the index. Consider using a different delimiter by passing `join={delimiter}`Example key collisions generated by the make_index_unique algorithm: ['SNORD116-1', 'SNORD116-2', 'SNORD116-3', 'SNORD116-4', 'SNORD116-5']\n",
      "  warnings.warn(\n"
     ]
    },
    {
     "name": "stdout",
     "output_type": "stream",
     "text": [
      "    finished (0:00:00)\n",
      "normalizing counts per cell\n"
     ]
    },
    {
     "name": "stderr",
     "output_type": "stream",
     "text": [
      "/cluster2/sfrerich/miniconda3/envs/scanpy/lib/python3.10/site-packages/anndata/utils.py:111: UserWarning: Suffix used (-[0-9]+) to deduplicate index values may make index values difficult to interpret. There values with a similar suffixes in the index. Consider using a different delimiter by passing `join={delimiter}`Example key collisions generated by the make_index_unique algorithm: ['SNORD116-1', 'SNORD116-2', 'SNORD116-3', 'SNORD116-4', 'SNORD116-5']\n",
      "  warnings.warn(\n"
     ]
    },
    {
     "name": "stdout",
     "output_type": "stream",
     "text": [
      "    finished (0:00:00)\n",
      "normalizing counts per cell\n"
     ]
    },
    {
     "name": "stderr",
     "output_type": "stream",
     "text": [
      "/cluster2/sfrerich/miniconda3/envs/scanpy/lib/python3.10/site-packages/anndata/utils.py:111: UserWarning: Suffix used (-[0-9]+) to deduplicate index values may make index values difficult to interpret. There values with a similar suffixes in the index. Consider using a different delimiter by passing `join={delimiter}`Example key collisions generated by the make_index_unique algorithm: ['SNORD116-1', 'SNORD116-2', 'SNORD116-3', 'SNORD116-4', 'SNORD116-5']\n",
      "  warnings.warn(\n"
     ]
    },
    {
     "name": "stdout",
     "output_type": "stream",
     "text": [
      "    finished (0:00:00)\n"
     ]
    },
    {
     "name": "stderr",
     "output_type": "stream",
     "text": [
      "/cluster2/sfrerich/miniconda3/envs/scanpy/lib/python3.10/site-packages/anndata/utils.py:111: UserWarning: Suffix used (-[0-9]+) to deduplicate index values may make index values difficult to interpret. There values with a similar suffixes in the index. Consider using a different delimiter by passing `join={delimiter}`Example key collisions generated by the make_index_unique algorithm: ['SNORD116-1', 'SNORD116-2', 'SNORD116-3', 'SNORD116-4', 'SNORD116-5']\n",
      "  warnings.warn(\n"
     ]
    },
    {
     "name": "stdout",
     "output_type": "stream",
     "text": [
      "normalizing counts per cell\n",
      "    finished (0:00:07)\n"
     ]
    },
    {
     "name": "stderr",
     "output_type": "stream",
     "text": [
      "/cluster2/sfrerich/miniconda3/envs/scanpy/lib/python3.10/site-packages/anndata/utils.py:111: UserWarning: Suffix used (-[0-9]+) to deduplicate index values may make index values difficult to interpret. There values with a similar suffixes in the index. Consider using a different delimiter by passing `join={delimiter}`Example key collisions generated by the make_index_unique algorithm: ['SNORD116-1', 'SNORD116-2', 'SNORD116-3', 'SNORD116-4', 'SNORD116-5']\n",
      "  warnings.warn(\n"
     ]
    },
    {
     "name": "stdout",
     "output_type": "stream",
     "text": [
      "normalizing counts per cell\n",
      "    finished (0:00:02)\n"
     ]
    },
    {
     "name": "stderr",
     "output_type": "stream",
     "text": [
      "/cluster2/sfrerich/miniconda3/envs/scanpy/lib/python3.10/site-packages/anndata/utils.py:111: UserWarning: Suffix used (-[0-9]+) to deduplicate index values may make index values difficult to interpret. There values with a similar suffixes in the index. Consider using a different delimiter by passing `join={delimiter}`Example key collisions generated by the make_index_unique algorithm: ['SNORD116-1', 'SNORD116-2', 'SNORD116-3', 'SNORD116-4', 'SNORD116-5']\n",
      "  warnings.warn(\n"
     ]
    },
    {
     "name": "stdout",
     "output_type": "stream",
     "text": [
      "normalizing counts per cell\n",
      "    finished (0:00:06)\n",
      "normalizing counts per cell\n"
     ]
    },
    {
     "name": "stderr",
     "output_type": "stream",
     "text": [
      "/cluster2/sfrerich/miniconda3/envs/scanpy/lib/python3.10/site-packages/anndata/utils.py:111: UserWarning: Suffix used (-[0-9]+) to deduplicate index values may make index values difficult to interpret. There values with a similar suffixes in the index. Consider using a different delimiter by passing `join={delimiter}`Example key collisions generated by the make_index_unique algorithm: ['SNORD116-1', 'SNORD116-2', 'SNORD116-3', 'SNORD116-4', 'SNORD116-5']\n",
      "  warnings.warn(\n"
     ]
    },
    {
     "name": "stdout",
     "output_type": "stream",
     "text": [
      "    finished (0:00:03)\n",
      "normalizing counts per cell\n"
     ]
    },
    {
     "name": "stderr",
     "output_type": "stream",
     "text": [
      "/cluster2/sfrerich/miniconda3/envs/scanpy/lib/python3.10/site-packages/anndata/utils.py:111: UserWarning: Suffix used (-[0-9]+) to deduplicate index values may make index values difficult to interpret. There values with a similar suffixes in the index. Consider using a different delimiter by passing `join={delimiter}`Example key collisions generated by the make_index_unique algorithm: ['SNORD116-1', 'SNORD116-2', 'SNORD116-3', 'SNORD116-4', 'SNORD116-5']\n",
      "  warnings.warn(\n"
     ]
    },
    {
     "name": "stdout",
     "output_type": "stream",
     "text": [
      "    finished (0:00:01)\n"
     ]
    },
    {
     "name": "stderr",
     "output_type": "stream",
     "text": [
      "/cluster2/sfrerich/miniconda3/envs/scanpy/lib/python3.10/site-packages/anndata/utils.py:111: UserWarning: Suffix used (-[0-9]+) to deduplicate index values may make index values difficult to interpret. There values with a similar suffixes in the index. Consider using a different delimiter by passing `join={delimiter}`Example key collisions generated by the make_index_unique algorithm: ['SNORD116-1', 'SNORD116-2', 'SNORD116-3', 'SNORD116-4', 'SNORD116-5']\n",
      "  warnings.warn(\n"
     ]
    },
    {
     "name": "stdout",
     "output_type": "stream",
     "text": [
      "normalizing counts per cell\n",
      "    finished (0:00:02)\n",
      "normalizing counts per cell\n"
     ]
    },
    {
     "name": "stderr",
     "output_type": "stream",
     "text": [
      "/cluster2/sfrerich/miniconda3/envs/scanpy/lib/python3.10/site-packages/anndata/utils.py:111: UserWarning: Suffix used (-[0-9]+) to deduplicate index values may make index values difficult to interpret. There values with a similar suffixes in the index. Consider using a different delimiter by passing `join={delimiter}`Example key collisions generated by the make_index_unique algorithm: ['SNORD116-1', 'SNORD116-2', 'SNORD116-3', 'SNORD116-4', 'SNORD116-5']\n",
      "  warnings.warn(\n"
     ]
    },
    {
     "name": "stdout",
     "output_type": "stream",
     "text": [
      "    finished (0:00:01)\n",
      "normalizing counts per cell\n"
     ]
    },
    {
     "name": "stderr",
     "output_type": "stream",
     "text": [
      "/cluster2/sfrerich/miniconda3/envs/scanpy/lib/python3.10/site-packages/anndata/utils.py:111: UserWarning: Suffix used (-[0-9]+) to deduplicate index values may make index values difficult to interpret. There values with a similar suffixes in the index. Consider using a different delimiter by passing `join={delimiter}`Example key collisions generated by the make_index_unique algorithm: ['SNORD116-1', 'SNORD116-2', 'SNORD116-3', 'SNORD116-4', 'SNORD116-5']\n",
      "  warnings.warn(\n"
     ]
    },
    {
     "name": "stdout",
     "output_type": "stream",
     "text": [
      "    finished (0:00:00)\n",
      "normalizing counts per cell\n"
     ]
    },
    {
     "name": "stderr",
     "output_type": "stream",
     "text": [
      "/cluster2/sfrerich/miniconda3/envs/scanpy/lib/python3.10/site-packages/anndata/utils.py:111: UserWarning: Suffix used (-[0-9]+) to deduplicate index values may make index values difficult to interpret. There values with a similar suffixes in the index. Consider using a different delimiter by passing `join={delimiter}`Example key collisions generated by the make_index_unique algorithm: ['SNORD116-1', 'SNORD116-2', 'SNORD116-3', 'SNORD116-4', 'SNORD116-5']\n",
      "  warnings.warn(\n"
     ]
    },
    {
     "name": "stdout",
     "output_type": "stream",
     "text": [
      "    finished (0:00:00)\n"
     ]
    },
    {
     "name": "stderr",
     "output_type": "stream",
     "text": [
      "/cluster2/sfrerich/miniconda3/envs/scanpy/lib/python3.10/site-packages/anndata/utils.py:111: UserWarning: Suffix used (-[0-9]+) to deduplicate index values may make index values difficult to interpret. There values with a similar suffixes in the index. Consider using a different delimiter by passing `join={delimiter}`Example key collisions generated by the make_index_unique algorithm: ['SNORD116-1', 'SNORD116-2', 'SNORD116-3', 'SNORD116-4', 'SNORD116-5']\n",
      "  warnings.warn(\n"
     ]
    },
    {
     "name": "stdout",
     "output_type": "stream",
     "text": [
      "normalizing counts per cell\n",
      "    finished (0:00:15)\n",
      "normalizing counts per cell\n"
     ]
    },
    {
     "name": "stderr",
     "output_type": "stream",
     "text": [
      "/cluster2/sfrerich/miniconda3/envs/scanpy/lib/python3.10/site-packages/anndata/utils.py:111: UserWarning: Suffix used (-[0-9]+) to deduplicate index values may make index values difficult to interpret. There values with a similar suffixes in the index. Consider using a different delimiter by passing `join={delimiter}`Example key collisions generated by the make_index_unique algorithm: ['SNORD116-1', 'SNORD116-2', 'SNORD116-3', 'SNORD116-4', 'SNORD116-5']\n",
      "  warnings.warn(\n"
     ]
    },
    {
     "name": "stdout",
     "output_type": "stream",
     "text": [
      "    finished (0:00:02)\n"
     ]
    }
   ],
   "source": [
    "# load, format each file into smaller object, normalize, export\n",
    "for p in f:\n",
    "    adata = anndata.read_h5ad(os.path.join(main_dir+'/P6_vasc_scRNAseq/Siletti2022/all_cellxgene',p))\n",
    "    adatas = adata[adata.obs[\"BadCells\"] == 0]\n",
    "    adata = adata[adata.obs[\"tissue\"] != \"Spinal cord\"]\n",
    "    adata.obs = adata.obs[[\"supercluster_term\", \"cell_type\", \"assay\", \"organism\", \"disease\", \"tissue\", \"BadCells\"]]\n",
    "    adata.var = adata.var[[\"Gene\",\"feature_name\"]]\n",
    "    del adata.uns\n",
    "    adata.var_names = adata.var[\"Gene\"].tolist()\n",
    "    adata.obs_names_make_unique()\n",
    "    adata.var_names_make_unique()\n",
    "    # log-normalize\n",
    "    #adata.layers[\"counts\"] = adata.X.copy()\n",
    "    sc.pp.normalize_total(adata,inplace=True)\n",
    "    sc.pp.log1p(adata)\n",
    "    #adata.layers[\"normalized\"] = adata.X.copy()\n",
    "    adata.write_h5ad(os.path.join(main_dir+'/P6_vasc_scRNAseq/Siletti2022/all_reduced_normalized',p.split(\".\")[0]+'_reduced.h5ad'))"
   ]
  },
  {
   "cell_type": "code",
   "execution_count": null,
   "id": "78eb8f37-9e53-4984-9679-38524e17f873",
   "metadata": {},
   "outputs": [],
   "source": [
    "del adata"
   ]
  },
  {
   "cell_type": "code",
   "execution_count": null,
   "id": "466259be-43fa-48d5-87bb-6c978bfef443",
   "metadata": {},
   "outputs": [],
   "source": []
  },
  {
   "cell_type": "code",
   "execution_count": 10,
   "id": "bd82f3d6-240e-4057-a6d4-137460a29b97",
   "metadata": {},
   "outputs": [
    {
     "data": {
      "text/plain": [
       "['upper-layer-intratelencephalic_reduced.h5ad',\n",
       " 'splatter-neurons_reduced.h5ad',\n",
       " 'CGE-interneuron_reduced.h5ad',\n",
       " 'Deep-layer-near-projecting_reduced.h5ad',\n",
       " 'Midbrain-derived-inhibitory_reduced.h5ad',\n",
       " 'Amygdala-excitatory_reduced.h5ad',\n",
       " 'LAMP5-LHX6-and-Chandelier_reduced.h5ad',\n",
       " 'Medium-spiny-neuron_reduced.h5ad',\n",
       " 'deep-layer-intratelencephalic_reduced.h5ad',\n",
       " 'Hippocampal-CA1-3_reduced.h5ad',\n",
       " 'Deep-layer-corticothalamic-and-6b_reduced.h5ad',\n",
       " 'nonneuronal_reduced.h5ad',\n",
       " 'Hippocampal-CA4_reduced.h5ad',\n",
       " 'Lower-rhombic-lip_reduced.h5ad',\n",
       " 'Cerebellar-inhibitory_reduced.h5ad',\n",
       " 'MGE-interneuron_reduced.h5ad',\n",
       " 'Upper-rhombic-lip_reduced.h5ad',\n",
       " 'Hippocampal-dentate-gyrus_reduced.h5ad',\n",
       " 'Eccentric-medium-spiny-neuron_reduced.h5ad',\n",
       " 'Mammillary-body_reduced.h5ad',\n",
       " 'Thalamic-excitatory_reduced.h5ad']"
      ]
     },
     "execution_count": 10,
     "metadata": {},
     "output_type": "execute_result"
    }
   ],
   "source": [
    "f=os.listdir(os.path.join(main_dir+'/P6_vasc_scRNAseq/Siletti2022/all_reduced_normalized'))\n",
    "f"
   ]
  },
  {
   "cell_type": "code",
   "execution_count": 11,
   "id": "e6270ed9-9902-4ed1-acdb-602e099460e6",
   "metadata": {},
   "outputs": [],
   "source": [
    "adatas = {p.split(\".\")[0]:anndata.read_h5ad(os.path.join(main_dir+'/P6_vasc_scRNAseq/Siletti2022/all_reduced_normalized',p)) for p in f}"
   ]
  },
  {
   "cell_type": "code",
   "execution_count": 12,
   "id": "27bbeb54-5946-4cbb-82c9-fa8644bca450",
   "metadata": {},
   "outputs": [
    {
     "data": {
      "text/plain": [
       "dict_keys(['upper-layer-intratelencephalic_reduced', 'splatter-neurons_reduced', 'CGE-interneuron_reduced', 'Deep-layer-near-projecting_reduced', 'Midbrain-derived-inhibitory_reduced', 'Amygdala-excitatory_reduced', 'LAMP5-LHX6-and-Chandelier_reduced', 'Medium-spiny-neuron_reduced', 'deep-layer-intratelencephalic_reduced', 'Hippocampal-CA1-3_reduced', 'Deep-layer-corticothalamic-and-6b_reduced', 'nonneuronal_reduced', 'Hippocampal-CA4_reduced', 'Lower-rhombic-lip_reduced', 'Cerebellar-inhibitory_reduced', 'MGE-interneuron_reduced', 'Upper-rhombic-lip_reduced', 'Hippocampal-dentate-gyrus_reduced', 'Eccentric-medium-spiny-neuron_reduced', 'Mammillary-body_reduced', 'Thalamic-excitatory_reduced'])"
      ]
     },
     "execution_count": 12,
     "metadata": {},
     "output_type": "execute_result"
    }
   ],
   "source": [
    "adatas.keys()"
   ]
  },
  {
   "cell_type": "code",
   "execution_count": 13,
   "id": "5deed8b0-ed31-49d8-9190-b5d9b8aeec6c",
   "metadata": {},
   "outputs": [
    {
     "data": {
      "text/plain": [
       "dict_values([AnnData object with n_obs × n_vars = 455006 × 59357\n",
       "    obs: 'supercluster_term', 'cell_type', 'assay', 'organism', 'disease', 'tissue', 'BadCells'\n",
       "    var: 'Gene', 'feature_name'\n",
       "    uns: 'log1p'\n",
       "    obsm: 'X_UMAP', 'X_tSNE', AnnData object with n_obs × n_vars = 291833 × 59357\n",
       "    obs: 'supercluster_term', 'cell_type', 'assay', 'organism', 'disease', 'tissue', 'BadCells'\n",
       "    var: 'Gene', 'feature_name'\n",
       "    uns: 'log1p'\n",
       "    obsm: 'X_UMAP', 'X_tSNE', AnnData object with n_obs × n_vars = 227671 × 59357\n",
       "    obs: 'supercluster_term', 'cell_type', 'assay', 'organism', 'disease', 'tissue', 'BadCells'\n",
       "    var: 'Gene', 'feature_name'\n",
       "    uns: 'log1p'\n",
       "    obsm: 'X_UMAP', 'X_tSNE', AnnData object with n_obs × n_vars = 18856 × 59357\n",
       "    obs: 'supercluster_term', 'cell_type', 'assay', 'organism', 'disease', 'tissue', 'BadCells'\n",
       "    var: 'Gene', 'feature_name'\n",
       "    uns: 'log1p'\n",
       "    obsm: 'X_UMAP', 'X_tSNE', AnnData object with n_obs × n_vars = 126782 × 59357\n",
       "    obs: 'supercluster_term', 'cell_type', 'assay', 'organism', 'disease', 'tissue', 'BadCells'\n",
       "    var: 'Gene', 'feature_name'\n",
       "    uns: 'log1p'\n",
       "    obsm: 'X_UMAP', 'X_tSNE', AnnData object with n_obs × n_vars = 109452 × 59357\n",
       "    obs: 'supercluster_term', 'cell_type', 'assay', 'organism', 'disease', 'tissue', 'BadCells'\n",
       "    var: 'Gene', 'feature_name'\n",
       "    uns: 'log1p'\n",
       "    obsm: 'X_UMAP', 'X_tSNE', AnnData object with n_obs × n_vars = 45118 × 59357\n",
       "    obs: 'supercluster_term', 'cell_type', 'assay', 'organism', 'disease', 'tissue', 'BadCells'\n",
       "    var: 'Gene', 'feature_name'\n",
       "    uns: 'log1p'\n",
       "    obsm: 'X_UMAP', 'X_tSNE', AnnData object with n_obs × n_vars = 152189 × 59357\n",
       "    obs: 'supercluster_term', 'cell_type', 'assay', 'organism', 'disease', 'tissue', 'BadCells'\n",
       "    var: 'Gene', 'feature_name'\n",
       "    uns: 'log1p'\n",
       "    obsm: 'X_UMAP', 'X_tSNE', AnnData object with n_obs × n_vars = 228467 × 59357\n",
       "    obs: 'supercluster_term', 'cell_type', 'assay', 'organism', 'disease', 'tissue', 'BadCells'\n",
       "    var: 'Gene', 'feature_name'\n",
       "    uns: 'log1p'\n",
       "    obsm: 'X_UMAP', 'X_tSNE', AnnData object with n_obs × n_vars = 74979 × 59357\n",
       "    obs: 'supercluster_term', 'cell_type', 'assay', 'organism', 'disease', 'tissue', 'BadCells'\n",
       "    var: 'Gene', 'feature_name'\n",
       "    uns: 'log1p'\n",
       "    obsm: 'X_UMAP', 'X_tSNE', AnnData object with n_obs × n_vars = 78396 × 59357\n",
       "    obs: 'supercluster_term', 'cell_type', 'assay', 'organism', 'disease', 'tissue', 'BadCells'\n",
       "    var: 'Gene', 'feature_name'\n",
       "    uns: 'log1p'\n",
       "    obsm: 'X_UMAP', 'X_tSNE', AnnData object with n_obs × n_vars = 888263 × 59357\n",
       "    obs: 'supercluster_term', 'cell_type', 'assay', 'organism', 'disease', 'tissue', 'BadCells'\n",
       "    var: 'Gene', 'feature_name'\n",
       "    uns: 'log1p'\n",
       "    obsm: 'X_UMAP', 'X_tSNE', AnnData object with n_obs × n_vars = 10654 × 59357\n",
       "    obs: 'supercluster_term', 'cell_type', 'assay', 'organism', 'disease', 'tissue', 'BadCells'\n",
       "    var: 'Gene', 'feature_name'\n",
       "    uns: 'log1p'\n",
       "    obsm: 'X_UMAP', 'X_tSNE', AnnData object with n_obs × n_vars = 52650 × 59357\n",
       "    obs: 'supercluster_term', 'cell_type', 'assay', 'organism', 'disease', 'tissue', 'BadCells'\n",
       "    var: 'Gene', 'feature_name'\n",
       "    uns: 'log1p'\n",
       "    obsm: 'X_UMAP', 'X_tSNE', AnnData object with n_obs × n_vars = 14411 × 59357\n",
       "    obs: 'supercluster_term', 'cell_type', 'assay', 'organism', 'disease', 'tissue', 'BadCells'\n",
       "    var: 'Gene', 'feature_name'\n",
       "    uns: 'log1p'\n",
       "    obsm: 'X_UMAP', 'X_tSNE', AnnData object with n_obs × n_vars = 222434 × 59357\n",
       "    obs: 'supercluster_term', 'cell_type', 'assay', 'organism', 'disease', 'tissue', 'BadCells'\n",
       "    var: 'Gene', 'feature_name'\n",
       "    uns: 'log1p'\n",
       "    obsm: 'X_UMAP', 'X_tSNE', AnnData object with n_obs × n_vars = 137162 × 59357\n",
       "    obs: 'supercluster_term', 'cell_type', 'assay', 'organism', 'disease', 'tissue', 'BadCells'\n",
       "    var: 'Gene', 'feature_name'\n",
       "    uns: 'log1p'\n",
       "    obsm: 'X_UMAP', 'X_tSNE', AnnData object with n_obs × n_vars = 67533 × 59357\n",
       "    obs: 'supercluster_term', 'cell_type', 'assay', 'organism', 'disease', 'tissue', 'BadCells'\n",
       "    var: 'Gene', 'feature_name'\n",
       "    uns: 'log1p'\n",
       "    obsm: 'X_UMAP', 'X_tSNE', AnnData object with n_obs × n_vars = 40144 × 59357\n",
       "    obs: 'supercluster_term', 'cell_type', 'assay', 'organism', 'disease', 'tissue', 'BadCells'\n",
       "    var: 'Gene', 'feature_name'\n",
       "    uns: 'log1p'\n",
       "    obsm: 'X_UMAP', 'X_tSNE', AnnData object with n_obs × n_vars = 16602 × 59357\n",
       "    obs: 'supercluster_term', 'cell_type', 'assay', 'organism', 'disease', 'tissue', 'BadCells'\n",
       "    var: 'Gene', 'feature_name'\n",
       "    uns: 'log1p'\n",
       "    obsm: 'X_UMAP', 'X_tSNE', AnnData object with n_obs × n_vars = 85546 × 59357\n",
       "    obs: 'supercluster_term', 'cell_type', 'assay', 'organism', 'disease', 'tissue', 'BadCells'\n",
       "    var: 'Gene', 'feature_name'\n",
       "    uns: 'log1p'\n",
       "    obsm: 'X_UMAP', 'X_tSNE'])"
      ]
     },
     "execution_count": 13,
     "metadata": {},
     "output_type": "execute_result"
    }
   ],
   "source": [
    "adatas.values()"
   ]
  },
  {
   "cell_type": "code",
   "execution_count": null,
   "id": "63c74709-e08f-4065-a578-8a3f24ce68a1",
   "metadata": {},
   "outputs": [],
   "source": []
  },
  {
   "cell_type": "code",
   "execution_count": 14,
   "id": "9b139de7-bae6-4220-9db1-e1253fc99dbf",
   "metadata": {},
   "outputs": [],
   "source": [
    "# merge - datasets too large\n",
    "# adata2 = anndata.concat(adatas, axis=0, join=\"inner\", merge=\"first\")\n",
    "# adata2"
   ]
  },
  {
   "cell_type": "code",
   "execution_count": 15,
   "id": "98833a37-588f-4b40-9faa-03c67cc8d1ab",
   "metadata": {},
   "outputs": [
    {
     "name": "stderr",
     "output_type": "stream",
     "text": [
      "/cluster2/sfrerich/miniconda3/envs/scanpy/lib/python3.10/site-packages/anndata/experimental/pytorch/_annloader.py:18: UserWarning: Сould not load pytorch.\n",
      "  warnings.warn(\"Сould not load pytorch.\")\n"
     ]
    }
   ],
   "source": [
    "from anndata.experimental.multi_files import AnnCollection"
   ]
  },
  {
   "cell_type": "code",
   "execution_count": 16,
   "id": "3b6ca3d0-fa8e-4f84-907d-02ad3c76ebe4",
   "metadata": {},
   "outputs": [],
   "source": [
    "adata2 = AnnCollection(adatas, join_vars='inner', label='dataset')"
   ]
  },
  {
   "cell_type": "code",
   "execution_count": 17,
   "id": "54c270d5-40bf-4f57-bcb8-ac08f525df8b",
   "metadata": {},
   "outputs": [
    {
     "data": {
      "text/plain": [
       "AnnCollection object with n_obs × n_vars = 3344148 × 59357\n",
       "  constructed from 21 AnnData objects\n",
       "    view of obsm: 'X_UMAP', 'X_tSNE'\n",
       "    obs: 'supercluster_term', 'cell_type', 'assay', 'organism', 'disease', 'tissue', 'BadCells', 'dataset'"
      ]
     },
     "execution_count": 17,
     "metadata": {},
     "output_type": "execute_result"
    }
   ],
   "source": [
    "adata2"
   ]
  },
  {
   "cell_type": "code",
   "execution_count": null,
   "id": "18d79f30-13fd-4e06-b108-2b2e4d34aacd",
   "metadata": {},
   "outputs": [],
   "source": []
  },
  {
   "cell_type": "code",
   "execution_count": 18,
   "id": "c6677e9d-d858-4de4-be47-be6357cec8da",
   "metadata": {},
   "outputs": [
    {
     "data": {
      "text/plain": [
       "['NOS3', 'NANOS3']"
      ]
     },
     "execution_count": 18,
     "metadata": {},
     "output_type": "execute_result"
    }
   ],
   "source": [
    "[i for i in adata2.var_names if \"NOS3\" in i]"
   ]
  },
  {
   "cell_type": "code",
   "execution_count": 19,
   "id": "d023077d-e591-414d-9d76-4659089b58d2",
   "metadata": {},
   "outputs": [],
   "source": [
    "#adata3 = adata2.to_adata() # does not contain .X - must subset first into AnnCollectionView object"
   ]
  },
  {
   "cell_type": "code",
   "execution_count": 20,
   "id": "5d7d7529-5d37-42f2-90c5-7c5a1949ef6a",
   "metadata": {},
   "outputs": [],
   "source": [
    "# subset genes\n",
    "adata3 = adata2[:,adata2.var_names.isin([\"FOXF2\",\"FOXO1\",\"TEK\",\"NOS3\"])]"
   ]
  },
  {
   "cell_type": "code",
   "execution_count": 21,
   "id": "4b02b657-ad6a-4b3a-ac22-33bd69d88c7e",
   "metadata": {},
   "outputs": [
    {
     "data": {
      "text/plain": [
       "AnnCollectionView object with n_obs × n_vars = 3344148 × 4\n",
       "    obsm: 'X_UMAP', 'X_tSNE'\n",
       "    obs: 'supercluster_term', 'cell_type', 'assay', 'organism', 'disease', 'tissue', 'BadCells', 'dataset'"
      ]
     },
     "execution_count": 21,
     "metadata": {},
     "output_type": "execute_result"
    }
   ],
   "source": [
    "adata3"
   ]
  },
  {
   "cell_type": "code",
   "execution_count": 22,
   "id": "276e6cc0-3323-473b-8400-3395da3a7af1",
   "metadata": {},
   "outputs": [],
   "source": [
    "adata3 = adata3.to_adata()"
   ]
  },
  {
   "cell_type": "code",
   "execution_count": 23,
   "id": "b38bb03c-9fcc-4cf3-8f27-045774c571ea",
   "metadata": {},
   "outputs": [
    {
     "data": {
      "text/plain": [
       "AnnData object with n_obs × n_vars = 3344148 × 4\n",
       "    obs: 'supercluster_term', 'cell_type', 'assay', 'organism', 'disease', 'tissue', 'BadCells', 'dataset'\n",
       "    obsm: 'X_UMAP', 'X_tSNE'"
      ]
     },
     "execution_count": 23,
     "metadata": {},
     "output_type": "execute_result"
    }
   ],
   "source": [
    "adata3"
   ]
  },
  {
   "cell_type": "code",
   "execution_count": 24,
   "id": "b6cdb236-44d8-4c3c-9419-ab8d11162170",
   "metadata": {},
   "outputs": [],
   "source": [
    "adata3.obsm[\"X_umap\"] = adata3.obsm[\"X_UMAP\"]"
   ]
  },
  {
   "cell_type": "code",
   "execution_count": 25,
   "id": "3ac56ab7-ade5-400c-b613-fb0c31a4d88c",
   "metadata": {},
   "outputs": [
    {
     "data": {
      "text/plain": [
       "Index(['FOXO1', 'NOS3', 'TEK', 'FOXF2'], dtype='object')"
      ]
     },
     "execution_count": 25,
     "metadata": {},
     "output_type": "execute_result"
    }
   ],
   "source": [
    "adata3.var_names"
   ]
  },
  {
   "cell_type": "code",
   "execution_count": 26,
   "id": "db403cc2-cfdc-47b0-ab29-bdb9729d1c16",
   "metadata": {},
   "outputs": [],
   "source": [
    "del adata2"
   ]
  },
  {
   "cell_type": "code",
   "execution_count": null,
   "id": "d45309b6-a722-4a33-8eac-0eaa4751f668",
   "metadata": {},
   "outputs": [],
   "source": []
  },
  {
   "cell_type": "markdown",
   "id": "d4ad5bc7-bfe2-4f0c-a598-6c887d725ea0",
   "metadata": {
    "tags": []
   },
   "source": [
    "Check if data is normalized:"
   ]
  },
  {
   "cell_type": "code",
   "execution_count": 27,
   "id": "84765df2-4bef-4089-a47c-960de35a7144",
   "metadata": {},
   "outputs": [
    {
     "data": {
      "text/plain": [
       "matrix([[0.        , 0.        , 0.        , 0.        ],\n",
       "        [0.        , 0.        , 0.        , 0.        ],\n",
       "        [0.        , 0.        , 0.        , 0.        ],\n",
       "        ...,\n",
       "        [0.        , 0.        , 0.        , 0.        ],\n",
       "        [0.        , 0.        , 0.        , 0.        ],\n",
       "        [0.33328307, 0.        , 0.        , 0.        ]], dtype=float32)"
      ]
     },
     "execution_count": 27,
     "metadata": {},
     "output_type": "execute_result"
    }
   ],
   "source": [
    "adata3.X.todense()"
   ]
  },
  {
   "cell_type": "code",
   "execution_count": 28,
   "id": "d2c46f95-2267-4695-82ff-5e6f7beb940c",
   "metadata": {},
   "outputs": [
    {
     "data": {
      "image/png": "[encoded data removed]",
      "text/plain": [
       "<Figure size 288x288 with 1 Axes>"
      ]
     },
     "metadata": {
      "needs_background": "light"
     },
     "output_type": "display_data"
    }
   ],
   "source": [
    "# show expression of genes (across all spots)\n",
    "import random\n",
    "import seaborn as sns\n",
    "random_genes=random.sample(range(0, adata3.X.shape[1]), 4)\n",
    "adata_sub = adata3[:,random_genes]\n",
    "exp=pd.DataFrame(adata_sub.X.todense())\n",
    "# plot\n",
    "pl1=sns.displot(data=pd.melt(exp),x='value',height=4,hue='variable',kind=\"kde\",warn_singular=False,legend=False,palette=list(np.repeat('#086da6',4)), lw=0.3) # genes with 0 expression are excluded\n",
    "pl1.set(xlim=(-0.5, 7),ylim=(0,0.007))\n",
    "sns.set_theme(style='white')\n",
    "plt.show()"
   ]
  },
  {
   "cell_type": "code",
   "execution_count": 29,
   "id": "f21cb9ea-f03d-4ce5-846a-2613692e6901",
   "metadata": {},
   "outputs": [
    {
     "name": "stderr",
     "output_type": "stream",
     "text": [
      "/tmp/ipykernel_48831/1501902166.py:3: UserWarning: Ignoring `palette` because no `hue` variable has been assigned.\n",
      "  pl=sns.histplot(data=pd.melt(exp),x='value',binwidth=0.5,legend=True,palette=list(np.repeat('#086da6',4)))\n"
     ]
    },
    {
     "data": {
      "image/png": "[encoded data removed]",
      "text/plain": [
       "<Figure size 288x288 with 1 Axes>"
      ]
     },
     "metadata": {},
     "output_type": "display_data"
    }
   ],
   "source": [
    "sns.set(rc={'figure.figsize':(4,4)})\n",
    "sns.set_theme(style='white')\n",
    "pl=sns.histplot(data=pd.melt(exp),x='value',binwidth=0.5,legend=True,palette=list(np.repeat('#086da6',4)))\n",
    "pl.set(xlim=(0, 10));\n",
    "plt.show()"
   ]
  },
  {
   "cell_type": "code",
   "execution_count": null,
   "id": "62e0a08e-ebbf-4490-b703-14750c6261be",
   "metadata": {},
   "outputs": [],
   "source": []
  },
  {
   "cell_type": "code",
   "execution_count": 30,
   "id": "bdc32bef-0039-422b-abfc-ca54dee13788",
   "metadata": {},
   "outputs": [
    {
     "data": {
      "text/plain": [
       "neuron                                    2455885\n",
       "oligodendrocyte                            494966\n",
       "astrocyte                                  155025\n",
       "oligodendrocyte precursor cell             105734\n",
       "central nervous system macrophage           91838\n",
       "fibroblast                                   9156\n",
       "Bergmann glial cell                          8041\n",
       "choroid plexus epithelial cell               7689\n",
       "ependymal cell                               5882\n",
       "endothelial cell                             5165\n",
       "pericyte                                     3693\n",
       "vascular associated smooth muscle cell       1074\n",
       "Name: cell_type, dtype: int64"
      ]
     },
     "execution_count": 30,
     "metadata": {},
     "output_type": "execute_result"
    }
   ],
   "source": [
    "pd.value_counts(adata3.obs[\"cell_type\"])"
   ]
  },
  {
   "cell_type": "code",
   "execution_count": 31,
   "id": "27f417d8-8719-4de5-9c0c-512030f2e855",
   "metadata": {},
   "outputs": [],
   "source": [
    "new_cluster_names = {'Bergmann glial cell':'Astrocytes',\n",
    "                     'astrocyte':'Astrocytes',\n",
    "                     'central nervous system macrophage':'Macrophages',\n",
    "                     'choroid plexus epithelial cell':'Choroid plexus epithelial cells',\n",
    "                     'endothelial cell':'Endothelial cells',\n",
    "                     'ependymal cell':'Ependymal cells',\n",
    "                     'fibroblast':'Fibroblasts',\n",
    "                     'neuron':'Neurons',\n",
    "                     'oligodendrocyte':'Oligos',\n",
    "                     'oligodendrocyte precursor cell':'OPCs',\n",
    "                     'pericyte':'Pericytes',\n",
    "                     'vascular associated smooth muscle cell':'SMCs'}\n",
    "#new_cluster_names=list(new_cluster_names.values())"
   ]
  },
  {
   "cell_type": "code",
   "execution_count": 32,
   "id": "32a4a68a-aef5-4c84-9192-8ed8d6d7007e",
   "metadata": {},
   "outputs": [],
   "source": [
    "adata3.obs['clusters'] = (\n",
    "    adata3.obs['cell_type']\n",
    "    .map(new_cluster_names)\n",
    "    .astype('category')\n",
    ")"
   ]
  },
  {
   "cell_type": "code",
   "execution_count": 33,
   "id": "14068911-ad36-4a98-b1e9-00437bb8fee7",
   "metadata": {
    "tags": []
   },
   "outputs": [
    {
     "data": {
      "text/plain": [
       "Neurons                            2455885\n",
       "Oligos                              494966\n",
       "Astrocytes                          163066\n",
       "OPCs                                105734\n",
       "Macrophages                          91838\n",
       "Fibroblasts                           9156\n",
       "Choroid plexus epithelial cells       7689\n",
       "Ependymal cells                       5882\n",
       "Endothelial cells                     5165\n",
       "Pericytes                             3693\n",
       "SMCs                                  1074\n",
       "Name: clusters, dtype: int64"
      ]
     },
     "execution_count": 33,
     "metadata": {},
     "output_type": "execute_result"
    }
   ],
   "source": [
    "pd.value_counts(adata3.obs[\"clusters\"])"
   ]
  },
  {
   "cell_type": "markdown",
   "id": "1da4df80-ab67-4f86-88ba-ecc76f7fc2ea",
   "metadata": {},
   "source": [
    "---"
   ]
  },
  {
   "cell_type": "markdown",
   "id": "aaa7964a-2c4b-4b3d-b42a-8bff4d39eb01",
   "metadata": {},
   "source": [
    "# Focus on: Foxf2"
   ]
  },
  {
   "cell_type": "code",
   "execution_count": 34,
   "id": "299f8552-3252-49a4-b5b8-6d8592a79f23",
   "metadata": {},
   "outputs": [],
   "source": [
    "gene=\"FOXF2\""
   ]
  },
  {
   "cell_type": "code",
   "execution_count": 35,
   "id": "77379f8f-c851-44a1-9713-425cf54a9bbf",
   "metadata": {},
   "outputs": [
    {
     "name": "stderr",
     "output_type": "stream",
     "text": [
      "/cluster2/sfrerich/miniconda3/envs/scanpy/lib/python3.10/site-packages/scanpy/plotting/_tools/scatterplots.py:392: UserWarning: No data for colormapping provided via 'c'. Parameters 'cmap' will be ignored\n",
      "  cax = scatter(\n"
     ]
    },
    {
     "data": {
      "image/png": "[encoded data removed]",
      "text/plain": [
       "<Figure size 288x288 with 1 Axes>"
      ]
     },
     "metadata": {},
     "output_type": "display_data"
    }
   ],
   "source": [
    "sc.pl.umap(adata3, color='clusters')"
   ]
  },
  {
   "cell_type": "code",
   "execution_count": 36,
   "id": "25e5d988-efb4-44b1-8423-5217239a2250",
   "metadata": {},
   "outputs": [
    {
     "name": "stderr",
     "output_type": "stream",
     "text": [
      "/cluster2/sfrerich/miniconda3/envs/scanpy/lib/python3.10/site-packages/scanpy/plotting/_tools/scatterplots.py:392: UserWarning: No data for colormapping provided via 'c'. Parameters 'cmap' will be ignored\n",
      "  cax = scatter(\n"
     ]
    },
    {
     "data": {
      "image/png": "[encoded data removed]",
      "text/plain": [
       "<Figure size 288x288 with 1 Axes>"
      ]
     },
     "metadata": {},
     "output_type": "display_data"
    }
   ],
   "source": [
    "sc.pl.umap(adata3, color='cell_type')"
   ]
  },
  {
   "cell_type": "code",
   "execution_count": 37,
   "id": "9a16e595-6657-4fe5-becb-4999bb235771",
   "metadata": {},
   "outputs": [
    {
     "data": {
      "image/png": "[encoded data removed]",
      "text/plain": [
       "<Figure size 288x288 with 2 Axes>"
      ]
     },
     "metadata": {},
     "output_type": "display_data"
    }
   ],
   "source": [
    "sc.pl.umap(adata3, color=gene)"
   ]
  },
  {
   "cell_type": "code",
   "execution_count": 38,
   "id": "11ec7a22-7902-441e-a9de-4f03a466d926",
   "metadata": {},
   "outputs": [
    {
     "data": {
      "image/png": "[encoded data removed]",
      "text/plain": [
       "<Figure size 144x360 with 3 Axes>"
      ]
     },
     "metadata": {},
     "output_type": "display_data"
    }
   ],
   "source": [
    "sc.pl.matrixplot(adata3, [gene], groupby='clusters', swap_axes=False, figsize=(2,5), standard_scale=\"var\")"
   ]
  },
  {
   "cell_type": "code",
   "execution_count": 39,
   "id": "cafc0b9a-5e84-4b65-be39-b87a45140197",
   "metadata": {},
   "outputs": [
    {
     "data": {
      "text/html": [
       "<div>\n",
       "<style scoped>\n",
       "    .dataframe tbody tr th:only-of-type {\n",
       "        vertical-align: middle;\n",
       "    }\n",
       "\n",
       "    .dataframe tbody tr th {\n",
       "        vertical-align: top;\n",
       "    }\n",
       "\n",
       "    .dataframe thead th {\n",
       "        text-align: right;\n",
       "    }\n",
       "</style>\n",
       "<table border=\"1\" class=\"dataframe\">\n",
       "  <thead>\n",
       "    <tr style=\"text-align: right;\">\n",
       "      <th></th>\n",
       "      <th>mean_expression</th>\n",
       "    </tr>\n",
       "    <tr>\n",
       "      <th>clusters</th>\n",
       "      <th></th>\n",
       "    </tr>\n",
       "  </thead>\n",
       "  <tbody>\n",
       "    <tr>\n",
       "      <th>Astrocytes</th>\n",
       "      <td>0.000600</td>\n",
       "    </tr>\n",
       "    <tr>\n",
       "      <th>Choroid plexus epithelial cells</th>\n",
       "      <td>0.000000</td>\n",
       "    </tr>\n",
       "    <tr>\n",
       "      <th>Endothelial cells</th>\n",
       "      <td>0.638464</td>\n",
       "    </tr>\n",
       "    <tr>\n",
       "      <th>Ependymal cells</th>\n",
       "      <td>0.002025</td>\n",
       "    </tr>\n",
       "    <tr>\n",
       "      <th>Fibroblasts</th>\n",
       "      <td>0.751317</td>\n",
       "    </tr>\n",
       "    <tr>\n",
       "      <th>Macrophages</th>\n",
       "      <td>0.000200</td>\n",
       "    </tr>\n",
       "    <tr>\n",
       "      <th>Neurons</th>\n",
       "      <td>0.042747</td>\n",
       "    </tr>\n",
       "    <tr>\n",
       "      <th>OPCs</th>\n",
       "      <td>0.000568</td>\n",
       "    </tr>\n",
       "    <tr>\n",
       "      <th>Oligos</th>\n",
       "      <td>0.000069</td>\n",
       "    </tr>\n",
       "    <tr>\n",
       "      <th>Pericytes</th>\n",
       "      <td>1.000000</td>\n",
       "    </tr>\n",
       "    <tr>\n",
       "      <th>SMCs</th>\n",
       "      <td>0.288623</td>\n",
       "    </tr>\n",
       "  </tbody>\n",
       "</table>\n",
       "</div>"
      ],
      "text/plain": [
       "                                 mean_expression\n",
       "clusters                                        \n",
       "Astrocytes                              0.000600\n",
       "Choroid plexus epithelial cells         0.000000\n",
       "Endothelial cells                       0.638464\n",
       "Ependymal cells                         0.002025\n",
       "Fibroblasts                             0.751317\n",
       "Macrophages                             0.000200\n",
       "Neurons                                 0.042747\n",
       "OPCs                                    0.000568\n",
       "Oligos                                  0.000069\n",
       "Pericytes                               1.000000\n",
       "SMCs                                    0.288623"
      ]
     },
     "execution_count": 39,
     "metadata": {},
     "output_type": "execute_result"
    }
   ],
   "source": [
    "# mean expression per group (normalized and scaled)\n",
    "ex = sc.pl.matrixplot(adata3, [gene], groupby='clusters', swap_axes=False, figsize=(2,5), standard_scale=\"var\", return_fig=True).values_df\n",
    "ex.columns = ['mean_expression']\n",
    "ex"
   ]
  },
  {
   "cell_type": "code",
   "execution_count": 40,
   "id": "b0ec99b6-c7b2-4805-8af9-817a637809a2",
   "metadata": {},
   "outputs": [
    {
     "name": "stderr",
     "output_type": "stream",
     "text": [
      "/cluster2/sfrerich/miniconda3/envs/scanpy/lib/python3.10/site-packages/scanpy/plotting/_dotplot.py:749: UserWarning: No data for colormapping provided via 'c'. Parameters 'cmap', 'norm' will be ignored\n",
      "  dot_ax.scatter(x, y, **kwds)\n"
     ]
    },
    {
     "data": {
      "image/png": "[encoded data removed]",
      "text/plain": [
       "<Figure size 144x360 with 4 Axes>"
      ]
     },
     "metadata": {},
     "output_type": "display_data"
    }
   ],
   "source": [
    "sc.pl.dotplot(adata3, [gene], groupby='clusters', swap_axes=False, figsize=(2,5), standard_scale=\"var\")"
   ]
  },
  {
   "cell_type": "code",
   "execution_count": 41,
   "id": "518b3f7e-427e-41b7-a44a-7ef95ab4bf38",
   "metadata": {},
   "outputs": [
    {
     "data": {
      "text/html": [
       "<div>\n",
       "<style scoped>\n",
       "    .dataframe tbody tr th:only-of-type {\n",
       "        vertical-align: middle;\n",
       "    }\n",
       "\n",
       "    .dataframe tbody tr th {\n",
       "        vertical-align: top;\n",
       "    }\n",
       "\n",
       "    .dataframe thead th {\n",
       "        text-align: right;\n",
       "    }\n",
       "</style>\n",
       "<table border=\"1\" class=\"dataframe\">\n",
       "  <thead>\n",
       "    <tr style=\"text-align: right;\">\n",
       "      <th></th>\n",
       "      <th>fraction_of_cells</th>\n",
       "    </tr>\n",
       "    <tr>\n",
       "      <th>clusters</th>\n",
       "      <th></th>\n",
       "    </tr>\n",
       "  </thead>\n",
       "  <tbody>\n",
       "    <tr>\n",
       "      <th>Astrocytes</th>\n",
       "      <td>0.000356</td>\n",
       "    </tr>\n",
       "    <tr>\n",
       "      <th>Choroid plexus epithelial cells</th>\n",
       "      <td>0.000260</td>\n",
       "    </tr>\n",
       "    <tr>\n",
       "      <th>Endothelial cells</th>\n",
       "      <td>0.147531</td>\n",
       "    </tr>\n",
       "    <tr>\n",
       "      <th>Ependymal cells</th>\n",
       "      <td>0.000680</td>\n",
       "    </tr>\n",
       "    <tr>\n",
       "      <th>Fibroblasts</th>\n",
       "      <td>0.173657</td>\n",
       "    </tr>\n",
       "    <tr>\n",
       "      <th>Macrophages</th>\n",
       "      <td>0.000120</td>\n",
       "    </tr>\n",
       "    <tr>\n",
       "      <th>Neurons</th>\n",
       "      <td>0.013643</td>\n",
       "    </tr>\n",
       "    <tr>\n",
       "      <th>OPCs</th>\n",
       "      <td>0.000350</td>\n",
       "    </tr>\n",
       "    <tr>\n",
       "      <th>Oligos</th>\n",
       "      <td>0.000101</td>\n",
       "    </tr>\n",
       "    <tr>\n",
       "      <th>Pericytes</th>\n",
       "      <td>0.216084</td>\n",
       "    </tr>\n",
       "    <tr>\n",
       "      <th>SMCs</th>\n",
       "      <td>0.057728</td>\n",
       "    </tr>\n",
       "  </tbody>\n",
       "</table>\n",
       "</div>"
      ],
      "text/plain": [
       "                                 fraction_of_cells\n",
       "clusters                                          \n",
       "Astrocytes                                0.000356\n",
       "Choroid plexus epithelial cells           0.000260\n",
       "Endothelial cells                         0.147531\n",
       "Ependymal cells                           0.000680\n",
       "Fibroblasts                               0.173657\n",
       "Macrophages                               0.000120\n",
       "Neurons                                   0.013643\n",
       "OPCs                                      0.000350\n",
       "Oligos                                    0.000101\n",
       "Pericytes                                 0.216084\n",
       "SMCs                                      0.057728"
      ]
     },
     "execution_count": 41,
     "metadata": {},
     "output_type": "execute_result"
    }
   ],
   "source": [
    "# dotplot dot size = fraction of cells in group expressing Foxf2\n",
    "fc = sc.pl.dotplot(adata3, [gene], groupby='clusters', swap_axes=False, figsize=(2,7), standard_scale=\"var\",return_fig=True).dot_size_df\n",
    "fc.columns = ['fraction_of_cells']\n",
    "fc"
   ]
  },
  {
   "cell_type": "code",
   "execution_count": 42,
   "id": "6622af21-8d31-4a72-ba55-a2842053d278",
   "metadata": {},
   "outputs": [
    {
     "data": {
      "text/html": [
       "<div>\n",
       "<style scoped>\n",
       "    .dataframe tbody tr th:only-of-type {\n",
       "        vertical-align: middle;\n",
       "    }\n",
       "\n",
       "    .dataframe tbody tr th {\n",
       "        vertical-align: top;\n",
       "    }\n",
       "\n",
       "    .dataframe thead th {\n",
       "        text-align: right;\n",
       "    }\n",
       "</style>\n",
       "<table border=\"1\" class=\"dataframe\">\n",
       "  <thead>\n",
       "    <tr style=\"text-align: right;\">\n",
       "      <th></th>\n",
       "      <th>mean_expression</th>\n",
       "      <th>fraction_of_cells</th>\n",
       "      <th>gene</th>\n",
       "      <th>source</th>\n",
       "      <th>organism</th>\n",
       "      <th>cell_number</th>\n",
       "    </tr>\n",
       "    <tr>\n",
       "      <th>clusters</th>\n",
       "      <th></th>\n",
       "      <th></th>\n",
       "      <th></th>\n",
       "      <th></th>\n",
       "      <th></th>\n",
       "      <th></th>\n",
       "    </tr>\n",
       "  </thead>\n",
       "  <tbody>\n",
       "    <tr>\n",
       "      <th>Astrocytes</th>\n",
       "      <td>0.000600</td>\n",
       "      <td>0.000356</td>\n",
       "      <td>FOXF2</td>\n",
       "      <td>Siletti2022</td>\n",
       "      <td>Human</td>\n",
       "      <td>163066</td>\n",
       "    </tr>\n",
       "    <tr>\n",
       "      <th>Choroid plexus epithelial cells</th>\n",
       "      <td>0.000000</td>\n",
       "      <td>0.000260</td>\n",
       "      <td>FOXF2</td>\n",
       "      <td>Siletti2022</td>\n",
       "      <td>Human</td>\n",
       "      <td>7689</td>\n",
       "    </tr>\n",
       "    <tr>\n",
       "      <th>Endothelial cells</th>\n",
       "      <td>0.638464</td>\n",
       "      <td>0.147531</td>\n",
       "      <td>FOXF2</td>\n",
       "      <td>Siletti2022</td>\n",
       "      <td>Human</td>\n",
       "      <td>5165</td>\n",
       "    </tr>\n",
       "    <tr>\n",
       "      <th>Ependymal cells</th>\n",
       "      <td>0.002025</td>\n",
       "      <td>0.000680</td>\n",
       "      <td>FOXF2</td>\n",
       "      <td>Siletti2022</td>\n",
       "      <td>Human</td>\n",
       "      <td>5882</td>\n",
       "    </tr>\n",
       "    <tr>\n",
       "      <th>Fibroblasts</th>\n",
       "      <td>0.751317</td>\n",
       "      <td>0.173657</td>\n",
       "      <td>FOXF2</td>\n",
       "      <td>Siletti2022</td>\n",
       "      <td>Human</td>\n",
       "      <td>9156</td>\n",
       "    </tr>\n",
       "    <tr>\n",
       "      <th>Macrophages</th>\n",
       "      <td>0.000200</td>\n",
       "      <td>0.000120</td>\n",
       "      <td>FOXF2</td>\n",
       "      <td>Siletti2022</td>\n",
       "      <td>Human</td>\n",
       "      <td>91838</td>\n",
       "    </tr>\n",
       "    <tr>\n",
       "      <th>Neurons</th>\n",
       "      <td>0.042747</td>\n",
       "      <td>0.013643</td>\n",
       "      <td>FOXF2</td>\n",
       "      <td>Siletti2022</td>\n",
       "      <td>Human</td>\n",
       "      <td>2455885</td>\n",
       "    </tr>\n",
       "    <tr>\n",
       "      <th>OPCs</th>\n",
       "      <td>0.000568</td>\n",
       "      <td>0.000350</td>\n",
       "      <td>FOXF2</td>\n",
       "      <td>Siletti2022</td>\n",
       "      <td>Human</td>\n",
       "      <td>105734</td>\n",
       "    </tr>\n",
       "    <tr>\n",
       "      <th>Oligos</th>\n",
       "      <td>0.000069</td>\n",
       "      <td>0.000101</td>\n",
       "      <td>FOXF2</td>\n",
       "      <td>Siletti2022</td>\n",
       "      <td>Human</td>\n",
       "      <td>494966</td>\n",
       "    </tr>\n",
       "    <tr>\n",
       "      <th>Pericytes</th>\n",
       "      <td>1.000000</td>\n",
       "      <td>0.216084</td>\n",
       "      <td>FOXF2</td>\n",
       "      <td>Siletti2022</td>\n",
       "      <td>Human</td>\n",
       "      <td>3693</td>\n",
       "    </tr>\n",
       "    <tr>\n",
       "      <th>SMCs</th>\n",
       "      <td>0.288623</td>\n",
       "      <td>0.057728</td>\n",
       "      <td>FOXF2</td>\n",
       "      <td>Siletti2022</td>\n",
       "      <td>Human</td>\n",
       "      <td>1074</td>\n",
       "    </tr>\n",
       "  </tbody>\n",
       "</table>\n",
       "</div>"
      ],
      "text/plain": [
       "                                 mean_expression  fraction_of_cells   gene  \\\n",
       "clusters                                                                     \n",
       "Astrocytes                              0.000600           0.000356  FOXF2   \n",
       "Choroid plexus epithelial cells         0.000000           0.000260  FOXF2   \n",
       "Endothelial cells                       0.638464           0.147531  FOXF2   \n",
       "Ependymal cells                         0.002025           0.000680  FOXF2   \n",
       "Fibroblasts                             0.751317           0.173657  FOXF2   \n",
       "Macrophages                             0.000200           0.000120  FOXF2   \n",
       "Neurons                                 0.042747           0.013643  FOXF2   \n",
       "OPCs                                    0.000568           0.000350  FOXF2   \n",
       "Oligos                                  0.000069           0.000101  FOXF2   \n",
       "Pericytes                               1.000000           0.216084  FOXF2   \n",
       "SMCs                                    0.288623           0.057728  FOXF2   \n",
       "\n",
       "                                      source organism  cell_number  \n",
       "clusters                                                            \n",
       "Astrocytes                       Siletti2022    Human       163066  \n",
       "Choroid plexus epithelial cells  Siletti2022    Human         7689  \n",
       "Endothelial cells                Siletti2022    Human         5165  \n",
       "Ependymal cells                  Siletti2022    Human         5882  \n",
       "Fibroblasts                      Siletti2022    Human         9156  \n",
       "Macrophages                      Siletti2022    Human        91838  \n",
       "Neurons                          Siletti2022    Human      2455885  \n",
       "OPCs                             Siletti2022    Human       105734  \n",
       "Oligos                           Siletti2022    Human       494966  \n",
       "Pericytes                        Siletti2022    Human         3693  \n",
       "SMCs                             Siletti2022    Human         1074  "
      ]
     },
     "execution_count": 42,
     "metadata": {},
     "output_type": "execute_result"
    }
   ],
   "source": [
    "foxf2 = pd.concat([ex, fc], axis=1)\n",
    "foxf2['gene'] = gene\n",
    "foxf2['source'] = \"Siletti2022\"\n",
    "foxf2['organism'] = \"Human\"\n",
    "foxf2['cell_number'] = pd.DataFrame(adata3.obs[\"clusters\"].value_counts()).reindex(foxf2.index)\n",
    "foxf2.index.name = \"clusters\"\n",
    "foxf2"
   ]
  },
  {
   "cell_type": "code",
   "execution_count": 43,
   "id": "936ab0f9-d00b-4a26-8fe9-0c8c949b4484",
   "metadata": {},
   "outputs": [],
   "source": [
    "# export\n",
    "name='Siletti2022'"
   ]
  },
  {
   "cell_type": "code",
   "execution_count": 44,
   "id": "75a052cc-5429-4f4a-a657-51fb76b0c466",
   "metadata": {},
   "outputs": [],
   "source": [
    "# Win\n",
    "foxf2.to_csv(main_dir+'/Foxf2_summarized/'+ date.today().strftime(\"%Y%m%d\")+'_'+name+'_normalized.csv',sep=';')"
   ]
  },
  {
   "cell_type": "markdown",
   "id": "1e24fd1e-cd71-422a-934f-85c4ac52e7da",
   "metadata": {},
   "source": [
    "# Focus on: Foxo1"
   ]
  },
  {
   "cell_type": "code",
   "execution_count": 45,
   "id": "13a56ef5-31a6-4ccd-a06c-7328363b65f4",
   "metadata": {},
   "outputs": [],
   "source": [
    "gene=\"FOXO1\""
   ]
  },
  {
   "cell_type": "code",
   "execution_count": 47,
   "id": "25825b6f-f1e0-4493-9fa8-153b62d3bb71",
   "metadata": {},
   "outputs": [
    {
     "data": {
      "image/png": "[encoded data removed]",
      "text/plain": [
       "<Figure size 144x360 with 3 Axes>"
      ]
     },
     "metadata": {},
     "output_type": "display_data"
    }
   ],
   "source": [
    "sc.pl.matrixplot(adata3, [gene], groupby='clusters', swap_axes=False, figsize=(2,5), standard_scale=\"var\")"
   ]
  },
  {
   "cell_type": "code",
   "execution_count": 48,
   "id": "b2a9c113-47ae-411d-9bd4-f6bcebd3c6a7",
   "metadata": {},
   "outputs": [
    {
     "data": {
      "text/html": [
       "<div>\n",
       "<style scoped>\n",
       "    .dataframe tbody tr th:only-of-type {\n",
       "        vertical-align: middle;\n",
       "    }\n",
       "\n",
       "    .dataframe tbody tr th {\n",
       "        vertical-align: top;\n",
       "    }\n",
       "\n",
       "    .dataframe thead th {\n",
       "        text-align: right;\n",
       "    }\n",
       "</style>\n",
       "<table border=\"1\" class=\"dataframe\">\n",
       "  <thead>\n",
       "    <tr style=\"text-align: right;\">\n",
       "      <th></th>\n",
       "      <th>mean_expression</th>\n",
       "    </tr>\n",
       "    <tr>\n",
       "      <th>clusters</th>\n",
       "      <th></th>\n",
       "    </tr>\n",
       "  </thead>\n",
       "  <tbody>\n",
       "    <tr>\n",
       "      <th>Astrocytes</th>\n",
       "      <td>0.432923</td>\n",
       "    </tr>\n",
       "    <tr>\n",
       "      <th>Choroid plexus epithelial cells</th>\n",
       "      <td>1.000000</td>\n",
       "    </tr>\n",
       "    <tr>\n",
       "      <th>Endothelial cells</th>\n",
       "      <td>0.787537</td>\n",
       "    </tr>\n",
       "    <tr>\n",
       "      <th>Ependymal cells</th>\n",
       "      <td>0.157887</td>\n",
       "    </tr>\n",
       "    <tr>\n",
       "      <th>Fibroblasts</th>\n",
       "      <td>0.150373</td>\n",
       "    </tr>\n",
       "    <tr>\n",
       "      <th>Macrophages</th>\n",
       "      <td>0.217934</td>\n",
       "    </tr>\n",
       "    <tr>\n",
       "      <th>Neurons</th>\n",
       "      <td>0.195652</td>\n",
       "    </tr>\n",
       "    <tr>\n",
       "      <th>OPCs</th>\n",
       "      <td>0.020215</td>\n",
       "    </tr>\n",
       "    <tr>\n",
       "      <th>Oligos</th>\n",
       "      <td>0.194371</td>\n",
       "    </tr>\n",
       "    <tr>\n",
       "      <th>Pericytes</th>\n",
       "      <td>0.000000</td>\n",
       "    </tr>\n",
       "    <tr>\n",
       "      <th>SMCs</th>\n",
       "      <td>0.069435</td>\n",
       "    </tr>\n",
       "  </tbody>\n",
       "</table>\n",
       "</div>"
      ],
      "text/plain": [
       "                                 mean_expression\n",
       "clusters                                        \n",
       "Astrocytes                              0.432923\n",
       "Choroid plexus epithelial cells         1.000000\n",
       "Endothelial cells                       0.787537\n",
       "Ependymal cells                         0.157887\n",
       "Fibroblasts                             0.150373\n",
       "Macrophages                             0.217934\n",
       "Neurons                                 0.195652\n",
       "OPCs                                    0.020215\n",
       "Oligos                                  0.194371\n",
       "Pericytes                               0.000000\n",
       "SMCs                                    0.069435"
      ]
     },
     "execution_count": 48,
     "metadata": {},
     "output_type": "execute_result"
    }
   ],
   "source": [
    "# mean expression per group (normalized and scaled)\n",
    "ex = sc.pl.matrixplot(adata3, [gene], groupby='clusters', swap_axes=False, figsize=(2,5), standard_scale=\"var\", return_fig=True).values_df\n",
    "ex.columns = ['mean_expression']\n",
    "ex"
   ]
  },
  {
   "cell_type": "code",
   "execution_count": 49,
   "id": "42762a59-5b12-4d43-8b04-da5f1c93f921",
   "metadata": {},
   "outputs": [
    {
     "name": "stderr",
     "output_type": "stream",
     "text": [
      "/cluster2/sfrerich/miniconda3/envs/scanpy/lib/python3.10/site-packages/scanpy/plotting/_dotplot.py:749: UserWarning: No data for colormapping provided via 'c'. Parameters 'cmap', 'norm' will be ignored\n",
      "  dot_ax.scatter(x, y, **kwds)\n"
     ]
    },
    {
     "data": {
      "image/png": "[encoded data removed]",
      "text/plain": [
       "<Figure size 144x360 with 4 Axes>"
      ]
     },
     "metadata": {},
     "output_type": "display_data"
    }
   ],
   "source": [
    "sc.pl.dotplot(adata3, [gene], groupby='clusters', swap_axes=False, figsize=(2,5), standard_scale=\"var\")"
   ]
  },
  {
   "cell_type": "code",
   "execution_count": 50,
   "id": "45d258e9-0583-41f0-8ea7-01b65f7a8ec3",
   "metadata": {},
   "outputs": [
    {
     "data": {
      "text/html": [
       "<div>\n",
       "<style scoped>\n",
       "    .dataframe tbody tr th:only-of-type {\n",
       "        vertical-align: middle;\n",
       "    }\n",
       "\n",
       "    .dataframe tbody tr th {\n",
       "        vertical-align: top;\n",
       "    }\n",
       "\n",
       "    .dataframe thead th {\n",
       "        text-align: right;\n",
       "    }\n",
       "</style>\n",
       "<table border=\"1\" class=\"dataframe\">\n",
       "  <thead>\n",
       "    <tr style=\"text-align: right;\">\n",
       "      <th></th>\n",
       "      <th>fraction_of_cells</th>\n",
       "    </tr>\n",
       "    <tr>\n",
       "      <th>clusters</th>\n",
       "      <th></th>\n",
       "    </tr>\n",
       "  </thead>\n",
       "  <tbody>\n",
       "    <tr>\n",
       "      <th>Astrocytes</th>\n",
       "      <td>0.480744</td>\n",
       "    </tr>\n",
       "    <tr>\n",
       "      <th>Choroid plexus epithelial cells</th>\n",
       "      <td>0.888282</td>\n",
       "    </tr>\n",
       "    <tr>\n",
       "      <th>Endothelial cells</th>\n",
       "      <td>0.513456</td>\n",
       "    </tr>\n",
       "    <tr>\n",
       "      <th>Ependymal cells</th>\n",
       "      <td>0.287997</td>\n",
       "    </tr>\n",
       "    <tr>\n",
       "      <th>Fibroblasts</th>\n",
       "      <td>0.197575</td>\n",
       "    </tr>\n",
       "    <tr>\n",
       "      <th>Macrophages</th>\n",
       "      <td>0.228511</td>\n",
       "    </tr>\n",
       "    <tr>\n",
       "      <th>Neurons</th>\n",
       "      <td>0.206007</td>\n",
       "    </tr>\n",
       "    <tr>\n",
       "      <th>OPCs</th>\n",
       "      <td>0.163136</td>\n",
       "    </tr>\n",
       "    <tr>\n",
       "      <th>Oligos</th>\n",
       "      <td>0.291119</td>\n",
       "    </tr>\n",
       "    <tr>\n",
       "      <th>Pericytes</th>\n",
       "      <td>0.088817</td>\n",
       "    </tr>\n",
       "    <tr>\n",
       "      <th>SMCs</th>\n",
       "      <td>0.121974</td>\n",
       "    </tr>\n",
       "  </tbody>\n",
       "</table>\n",
       "</div>"
      ],
      "text/plain": [
       "                                 fraction_of_cells\n",
       "clusters                                          \n",
       "Astrocytes                                0.480744\n",
       "Choroid plexus epithelial cells           0.888282\n",
       "Endothelial cells                         0.513456\n",
       "Ependymal cells                           0.287997\n",
       "Fibroblasts                               0.197575\n",
       "Macrophages                               0.228511\n",
       "Neurons                                   0.206007\n",
       "OPCs                                      0.163136\n",
       "Oligos                                    0.291119\n",
       "Pericytes                                 0.088817\n",
       "SMCs                                      0.121974"
      ]
     },
     "execution_count": 50,
     "metadata": {},
     "output_type": "execute_result"
    }
   ],
   "source": [
    "# dotplot dot size = fraction of cells in group expressing Foxf2\n",
    "fc = sc.pl.dotplot(adata3, [gene], groupby='clusters', swap_axes=False, figsize=(2,7), standard_scale=\"var\",return_fig=True).dot_size_df\n",
    "fc.columns = ['fraction_of_cells']\n",
    "fc"
   ]
  },
  {
   "cell_type": "code",
   "execution_count": 51,
   "id": "5fca21d9-85d9-45b8-9dee-ccf82f01a633",
   "metadata": {},
   "outputs": [
    {
     "data": {
      "text/html": [
       "<div>\n",
       "<style scoped>\n",
       "    .dataframe tbody tr th:only-of-type {\n",
       "        vertical-align: middle;\n",
       "    }\n",
       "\n",
       "    .dataframe tbody tr th {\n",
       "        vertical-align: top;\n",
       "    }\n",
       "\n",
       "    .dataframe thead th {\n",
       "        text-align: right;\n",
       "    }\n",
       "</style>\n",
       "<table border=\"1\" class=\"dataframe\">\n",
       "  <thead>\n",
       "    <tr style=\"text-align: right;\">\n",
       "      <th></th>\n",
       "      <th>mean_expression</th>\n",
       "      <th>fraction_of_cells</th>\n",
       "      <th>gene</th>\n",
       "      <th>source</th>\n",
       "      <th>organism</th>\n",
       "      <th>cell_number</th>\n",
       "    </tr>\n",
       "    <tr>\n",
       "      <th>clusters</th>\n",
       "      <th></th>\n",
       "      <th></th>\n",
       "      <th></th>\n",
       "      <th></th>\n",
       "      <th></th>\n",
       "      <th></th>\n",
       "    </tr>\n",
       "  </thead>\n",
       "  <tbody>\n",
       "    <tr>\n",
       "      <th>Astrocytes</th>\n",
       "      <td>0.432923</td>\n",
       "      <td>0.480744</td>\n",
       "      <td>FOXO1</td>\n",
       "      <td>Siletti2022</td>\n",
       "      <td>Human</td>\n",
       "      <td>163066</td>\n",
       "    </tr>\n",
       "    <tr>\n",
       "      <th>Choroid plexus epithelial cells</th>\n",
       "      <td>1.000000</td>\n",
       "      <td>0.888282</td>\n",
       "      <td>FOXO1</td>\n",
       "      <td>Siletti2022</td>\n",
       "      <td>Human</td>\n",
       "      <td>7689</td>\n",
       "    </tr>\n",
       "    <tr>\n",
       "      <th>Endothelial cells</th>\n",
       "      <td>0.787537</td>\n",
       "      <td>0.513456</td>\n",
       "      <td>FOXO1</td>\n",
       "      <td>Siletti2022</td>\n",
       "      <td>Human</td>\n",
       "      <td>5165</td>\n",
       "    </tr>\n",
       "    <tr>\n",
       "      <th>Ependymal cells</th>\n",
       "      <td>0.157887</td>\n",
       "      <td>0.287997</td>\n",
       "      <td>FOXO1</td>\n",
       "      <td>Siletti2022</td>\n",
       "      <td>Human</td>\n",
       "      <td>5882</td>\n",
       "    </tr>\n",
       "    <tr>\n",
       "      <th>Fibroblasts</th>\n",
       "      <td>0.150373</td>\n",
       "      <td>0.197575</td>\n",
       "      <td>FOXO1</td>\n",
       "      <td>Siletti2022</td>\n",
       "      <td>Human</td>\n",
       "      <td>9156</td>\n",
       "    </tr>\n",
       "    <tr>\n",
       "      <th>Macrophages</th>\n",
       "      <td>0.217934</td>\n",
       "      <td>0.228511</td>\n",
       "      <td>FOXO1</td>\n",
       "      <td>Siletti2022</td>\n",
       "      <td>Human</td>\n",
       "      <td>91838</td>\n",
       "    </tr>\n",
       "    <tr>\n",
       "      <th>Neurons</th>\n",
       "      <td>0.195652</td>\n",
       "      <td>0.206007</td>\n",
       "      <td>FOXO1</td>\n",
       "      <td>Siletti2022</td>\n",
       "      <td>Human</td>\n",
       "      <td>2455885</td>\n",
       "    </tr>\n",
       "    <tr>\n",
       "      <th>OPCs</th>\n",
       "      <td>0.020215</td>\n",
       "      <td>0.163136</td>\n",
       "      <td>FOXO1</td>\n",
       "      <td>Siletti2022</td>\n",
       "      <td>Human</td>\n",
       "      <td>105734</td>\n",
       "    </tr>\n",
       "    <tr>\n",
       "      <th>Oligos</th>\n",
       "      <td>0.194371</td>\n",
       "      <td>0.291119</td>\n",
       "      <td>FOXO1</td>\n",
       "      <td>Siletti2022</td>\n",
       "      <td>Human</td>\n",
       "      <td>494966</td>\n",
       "    </tr>\n",
       "    <tr>\n",
       "      <th>Pericytes</th>\n",
       "      <td>0.000000</td>\n",
       "      <td>0.088817</td>\n",
       "      <td>FOXO1</td>\n",
       "      <td>Siletti2022</td>\n",
       "      <td>Human</td>\n",
       "      <td>3693</td>\n",
       "    </tr>\n",
       "    <tr>\n",
       "      <th>SMCs</th>\n",
       "      <td>0.069435</td>\n",
       "      <td>0.121974</td>\n",
       "      <td>FOXO1</td>\n",
       "      <td>Siletti2022</td>\n",
       "      <td>Human</td>\n",
       "      <td>1074</td>\n",
       "    </tr>\n",
       "  </tbody>\n",
       "</table>\n",
       "</div>"
      ],
      "text/plain": [
       "                                 mean_expression  fraction_of_cells   gene  \\\n",
       "clusters                                                                     \n",
       "Astrocytes                              0.432923           0.480744  FOXO1   \n",
       "Choroid plexus epithelial cells         1.000000           0.888282  FOXO1   \n",
       "Endothelial cells                       0.787537           0.513456  FOXO1   \n",
       "Ependymal cells                         0.157887           0.287997  FOXO1   \n",
       "Fibroblasts                             0.150373           0.197575  FOXO1   \n",
       "Macrophages                             0.217934           0.228511  FOXO1   \n",
       "Neurons                                 0.195652           0.206007  FOXO1   \n",
       "OPCs                                    0.020215           0.163136  FOXO1   \n",
       "Oligos                                  0.194371           0.291119  FOXO1   \n",
       "Pericytes                               0.000000           0.088817  FOXO1   \n",
       "SMCs                                    0.069435           0.121974  FOXO1   \n",
       "\n",
       "                                      source organism  cell_number  \n",
       "clusters                                                            \n",
       "Astrocytes                       Siletti2022    Human       163066  \n",
       "Choroid plexus epithelial cells  Siletti2022    Human         7689  \n",
       "Endothelial cells                Siletti2022    Human         5165  \n",
       "Ependymal cells                  Siletti2022    Human         5882  \n",
       "Fibroblasts                      Siletti2022    Human         9156  \n",
       "Macrophages                      Siletti2022    Human        91838  \n",
       "Neurons                          Siletti2022    Human      2455885  \n",
       "OPCs                             Siletti2022    Human       105734  \n",
       "Oligos                           Siletti2022    Human       494966  \n",
       "Pericytes                        Siletti2022    Human         3693  \n",
       "SMCs                             Siletti2022    Human         1074  "
      ]
     },
     "execution_count": 51,
     "metadata": {},
     "output_type": "execute_result"
    }
   ],
   "source": [
    "foxf2 = pd.concat([ex, fc], axis=1)\n",
    "foxf2['gene'] = gene\n",
    "foxf2['source'] = \"Siletti2022\"\n",
    "foxf2['organism'] = \"Human\"\n",
    "foxf2['cell_number'] = pd.DataFrame(adata3.obs[\"clusters\"].value_counts()).reindex(foxf2.index)\n",
    "foxf2.index.name = \"clusters\"\n",
    "foxf2"
   ]
  },
  {
   "cell_type": "code",
   "execution_count": 52,
   "id": "d374aa9c-2b6d-49ee-aa04-829989ad329f",
   "metadata": {},
   "outputs": [],
   "source": [
    "# export\n",
    "name='Siletti2022'"
   ]
  },
  {
   "cell_type": "code",
   "execution_count": 53,
   "id": "71f2cb29-4e94-4ce1-91f1-0b603171c1de",
   "metadata": {},
   "outputs": [],
   "source": [
    "# Win\n",
    "foxf2.to_csv(main_dir+'/Others_summarized/'+ date.today().strftime(\"%Y%m%d\")+'_FOXO1_'+name+'_normalized.csv',sep=';')"
   ]
  },
  {
   "cell_type": "markdown",
   "id": "a7ee72ae-cc79-4a5a-acb0-71dffe45ff69",
   "metadata": {},
   "source": [
    "# Focus on: Tek=Tie2"
   ]
  },
  {
   "cell_type": "code",
   "execution_count": 54,
   "id": "65101474-5b67-4b1b-b057-f20489b4dcd6",
   "metadata": {},
   "outputs": [],
   "source": [
    "gene=\"TEK\""
   ]
  },
  {
   "cell_type": "code",
   "execution_count": 55,
   "id": "d4322841-07bc-445d-a8fe-46314117aa0c",
   "metadata": {},
   "outputs": [
    {
     "data": {
      "image/png": "[encoded data removed]",
      "text/plain": [
       "<Figure size 144x360 with 3 Axes>"
      ]
     },
     "metadata": {},
     "output_type": "display_data"
    }
   ],
   "source": [
    "sc.pl.matrixplot(adata3, [gene], groupby='clusters', swap_axes=False, figsize=(2,5), standard_scale=\"var\")"
   ]
  },
  {
   "cell_type": "code",
   "execution_count": 56,
   "id": "15ec2d25-f4cb-4dc4-826b-335478c73460",
   "metadata": {},
   "outputs": [
    {
     "data": {
      "text/html": [
       "<div>\n",
       "<style scoped>\n",
       "    .dataframe tbody tr th:only-of-type {\n",
       "        vertical-align: middle;\n",
       "    }\n",
       "\n",
       "    .dataframe tbody tr th {\n",
       "        vertical-align: top;\n",
       "    }\n",
       "\n",
       "    .dataframe thead th {\n",
       "        text-align: right;\n",
       "    }\n",
       "</style>\n",
       "<table border=\"1\" class=\"dataframe\">\n",
       "  <thead>\n",
       "    <tr style=\"text-align: right;\">\n",
       "      <th></th>\n",
       "      <th>mean_expression</th>\n",
       "    </tr>\n",
       "    <tr>\n",
       "      <th>clusters</th>\n",
       "      <th></th>\n",
       "    </tr>\n",
       "  </thead>\n",
       "  <tbody>\n",
       "    <tr>\n",
       "      <th>Astrocytes</th>\n",
       "      <td>0.003129</td>\n",
       "    </tr>\n",
       "    <tr>\n",
       "      <th>Choroid plexus epithelial cells</th>\n",
       "      <td>0.001260</td>\n",
       "    </tr>\n",
       "    <tr>\n",
       "      <th>Endothelial cells</th>\n",
       "      <td>1.000000</td>\n",
       "    </tr>\n",
       "    <tr>\n",
       "      <th>Ependymal cells</th>\n",
       "      <td>0.017392</td>\n",
       "    </tr>\n",
       "    <tr>\n",
       "      <th>Fibroblasts</th>\n",
       "      <td>0.032726</td>\n",
       "    </tr>\n",
       "    <tr>\n",
       "      <th>Macrophages</th>\n",
       "      <td>0.000000</td>\n",
       "    </tr>\n",
       "    <tr>\n",
       "      <th>Neurons</th>\n",
       "      <td>0.172218</td>\n",
       "    </tr>\n",
       "    <tr>\n",
       "      <th>OPCs</th>\n",
       "      <td>0.438579</td>\n",
       "    </tr>\n",
       "    <tr>\n",
       "      <th>Oligos</th>\n",
       "      <td>0.014298</td>\n",
       "    </tr>\n",
       "    <tr>\n",
       "      <th>Pericytes</th>\n",
       "      <td>0.006130</td>\n",
       "    </tr>\n",
       "    <tr>\n",
       "      <th>SMCs</th>\n",
       "      <td>0.092730</td>\n",
       "    </tr>\n",
       "  </tbody>\n",
       "</table>\n",
       "</div>"
      ],
      "text/plain": [
       "                                 mean_expression\n",
       "clusters                                        \n",
       "Astrocytes                              0.003129\n",
       "Choroid plexus epithelial cells         0.001260\n",
       "Endothelial cells                       1.000000\n",
       "Ependymal cells                         0.017392\n",
       "Fibroblasts                             0.032726\n",
       "Macrophages                             0.000000\n",
       "Neurons                                 0.172218\n",
       "OPCs                                    0.438579\n",
       "Oligos                                  0.014298\n",
       "Pericytes                               0.006130\n",
       "SMCs                                    0.092730"
      ]
     },
     "execution_count": 56,
     "metadata": {},
     "output_type": "execute_result"
    }
   ],
   "source": [
    "# mean expression per group (normalized and scaled)\n",
    "ex = sc.pl.matrixplot(adata3, [gene], groupby='clusters', swap_axes=False, figsize=(2,5), standard_scale=\"var\", return_fig=True).values_df\n",
    "ex.columns = ['mean_expression']\n",
    "ex"
   ]
  },
  {
   "cell_type": "code",
   "execution_count": 57,
   "id": "188d298a-8160-4af5-bb82-90161c16d16b",
   "metadata": {},
   "outputs": [
    {
     "name": "stderr",
     "output_type": "stream",
     "text": [
      "/cluster2/sfrerich/miniconda3/envs/scanpy/lib/python3.10/site-packages/scanpy/plotting/_dotplot.py:749: UserWarning: No data for colormapping provided via 'c'. Parameters 'cmap', 'norm' will be ignored\n",
      "  dot_ax.scatter(x, y, **kwds)\n"
     ]
    },
    {
     "data": {
      "image/png": "[encoded data removed]",
      "text/plain": [
       "<Figure size 144x360 with 4 Axes>"
      ]
     },
     "metadata": {},
     "output_type": "display_data"
    }
   ],
   "source": [
    "sc.pl.dotplot(adata3, [gene], groupby='clusters', swap_axes=False, figsize=(2,5), standard_scale=\"var\")"
   ]
  },
  {
   "cell_type": "code",
   "execution_count": 58,
   "id": "cf9b9995-cd0b-4d32-a9b8-9c7488a59c06",
   "metadata": {},
   "outputs": [
    {
     "data": {
      "text/html": [
       "<div>\n",
       "<style scoped>\n",
       "    .dataframe tbody tr th:only-of-type {\n",
       "        vertical-align: middle;\n",
       "    }\n",
       "\n",
       "    .dataframe tbody tr th {\n",
       "        vertical-align: top;\n",
       "    }\n",
       "\n",
       "    .dataframe thead th {\n",
       "        text-align: right;\n",
       "    }\n",
       "</style>\n",
       "<table border=\"1\" class=\"dataframe\">\n",
       "  <thead>\n",
       "    <tr style=\"text-align: right;\">\n",
       "      <th></th>\n",
       "      <th>fraction_of_cells</th>\n",
       "    </tr>\n",
       "    <tr>\n",
       "      <th>clusters</th>\n",
       "      <th></th>\n",
       "    </tr>\n",
       "  </thead>\n",
       "  <tbody>\n",
       "    <tr>\n",
       "      <th>Astrocytes</th>\n",
       "      <td>0.007764</td>\n",
       "    </tr>\n",
       "    <tr>\n",
       "      <th>Choroid plexus epithelial cells</th>\n",
       "      <td>0.011835</td>\n",
       "    </tr>\n",
       "    <tr>\n",
       "      <th>Endothelial cells</th>\n",
       "      <td>0.572894</td>\n",
       "    </tr>\n",
       "    <tr>\n",
       "      <th>Ependymal cells</th>\n",
       "      <td>0.025502</td>\n",
       "    </tr>\n",
       "    <tr>\n",
       "      <th>Fibroblasts</th>\n",
       "      <td>0.029926</td>\n",
       "    </tr>\n",
       "    <tr>\n",
       "      <th>Macrophages</th>\n",
       "      <td>0.002733</td>\n",
       "    </tr>\n",
       "    <tr>\n",
       "      <th>Neurons</th>\n",
       "      <td>0.147453</td>\n",
       "    </tr>\n",
       "    <tr>\n",
       "      <th>OPCs</th>\n",
       "      <td>0.419127</td>\n",
       "    </tr>\n",
       "    <tr>\n",
       "      <th>Oligos</th>\n",
       "      <td>0.019070</td>\n",
       "    </tr>\n",
       "    <tr>\n",
       "      <th>Pericytes</th>\n",
       "      <td>0.007853</td>\n",
       "    </tr>\n",
       "    <tr>\n",
       "      <th>SMCs</th>\n",
       "      <td>0.066108</td>\n",
       "    </tr>\n",
       "  </tbody>\n",
       "</table>\n",
       "</div>"
      ],
      "text/plain": [
       "                                 fraction_of_cells\n",
       "clusters                                          \n",
       "Astrocytes                                0.007764\n",
       "Choroid plexus epithelial cells           0.011835\n",
       "Endothelial cells                         0.572894\n",
       "Ependymal cells                           0.025502\n",
       "Fibroblasts                               0.029926\n",
       "Macrophages                               0.002733\n",
       "Neurons                                   0.147453\n",
       "OPCs                                      0.419127\n",
       "Oligos                                    0.019070\n",
       "Pericytes                                 0.007853\n",
       "SMCs                                      0.066108"
      ]
     },
     "execution_count": 58,
     "metadata": {},
     "output_type": "execute_result"
    }
   ],
   "source": [
    "# dotplot dot size = fraction of cells in group expressing Foxf2\n",
    "fc = sc.pl.dotplot(adata3, [gene], groupby='clusters', swap_axes=False, figsize=(2,7), standard_scale=\"var\",return_fig=True).dot_size_df\n",
    "fc.columns = ['fraction_of_cells']\n",
    "fc"
   ]
  },
  {
   "cell_type": "code",
   "execution_count": 59,
   "id": "73da8312-8d2c-4568-b8d1-b8b10ab077fb",
   "metadata": {},
   "outputs": [
    {
     "data": {
      "text/html": [
       "<div>\n",
       "<style scoped>\n",
       "    .dataframe tbody tr th:only-of-type {\n",
       "        vertical-align: middle;\n",
       "    }\n",
       "\n",
       "    .dataframe tbody tr th {\n",
       "        vertical-align: top;\n",
       "    }\n",
       "\n",
       "    .dataframe thead th {\n",
       "        text-align: right;\n",
       "    }\n",
       "</style>\n",
       "<table border=\"1\" class=\"dataframe\">\n",
       "  <thead>\n",
       "    <tr style=\"text-align: right;\">\n",
       "      <th></th>\n",
       "      <th>mean_expression</th>\n",
       "      <th>fraction_of_cells</th>\n",
       "      <th>gene</th>\n",
       "      <th>source</th>\n",
       "      <th>organism</th>\n",
       "      <th>cell_number</th>\n",
       "    </tr>\n",
       "    <tr>\n",
       "      <th>clusters</th>\n",
       "      <th></th>\n",
       "      <th></th>\n",
       "      <th></th>\n",
       "      <th></th>\n",
       "      <th></th>\n",
       "      <th></th>\n",
       "    </tr>\n",
       "  </thead>\n",
       "  <tbody>\n",
       "    <tr>\n",
       "      <th>Astrocytes</th>\n",
       "      <td>0.003129</td>\n",
       "      <td>0.007764</td>\n",
       "      <td>TEK</td>\n",
       "      <td>Siletti2022</td>\n",
       "      <td>Human</td>\n",
       "      <td>163066</td>\n",
       "    </tr>\n",
       "    <tr>\n",
       "      <th>Choroid plexus epithelial cells</th>\n",
       "      <td>0.001260</td>\n",
       "      <td>0.011835</td>\n",
       "      <td>TEK</td>\n",
       "      <td>Siletti2022</td>\n",
       "      <td>Human</td>\n",
       "      <td>7689</td>\n",
       "    </tr>\n",
       "    <tr>\n",
       "      <th>Endothelial cells</th>\n",
       "      <td>1.000000</td>\n",
       "      <td>0.572894</td>\n",
       "      <td>TEK</td>\n",
       "      <td>Siletti2022</td>\n",
       "      <td>Human</td>\n",
       "      <td>5165</td>\n",
       "    </tr>\n",
       "    <tr>\n",
       "      <th>Ependymal cells</th>\n",
       "      <td>0.017392</td>\n",
       "      <td>0.025502</td>\n",
       "      <td>TEK</td>\n",
       "      <td>Siletti2022</td>\n",
       "      <td>Human</td>\n",
       "      <td>5882</td>\n",
       "    </tr>\n",
       "    <tr>\n",
       "      <th>Fibroblasts</th>\n",
       "      <td>0.032726</td>\n",
       "      <td>0.029926</td>\n",
       "      <td>TEK</td>\n",
       "      <td>Siletti2022</td>\n",
       "      <td>Human</td>\n",
       "      <td>9156</td>\n",
       "    </tr>\n",
       "    <tr>\n",
       "      <th>Macrophages</th>\n",
       "      <td>0.000000</td>\n",
       "      <td>0.002733</td>\n",
       "      <td>TEK</td>\n",
       "      <td>Siletti2022</td>\n",
       "      <td>Human</td>\n",
       "      <td>91838</td>\n",
       "    </tr>\n",
       "    <tr>\n",
       "      <th>Neurons</th>\n",
       "      <td>0.172218</td>\n",
       "      <td>0.147453</td>\n",
       "      <td>TEK</td>\n",
       "      <td>Siletti2022</td>\n",
       "      <td>Human</td>\n",
       "      <td>2455885</td>\n",
       "    </tr>\n",
       "    <tr>\n",
       "      <th>OPCs</th>\n",
       "      <td>0.438579</td>\n",
       "      <td>0.419127</td>\n",
       "      <td>TEK</td>\n",
       "      <td>Siletti2022</td>\n",
       "      <td>Human</td>\n",
       "      <td>105734</td>\n",
       "    </tr>\n",
       "    <tr>\n",
       "      <th>Oligos</th>\n",
       "      <td>0.014298</td>\n",
       "      <td>0.019070</td>\n",
       "      <td>TEK</td>\n",
       "      <td>Siletti2022</td>\n",
       "      <td>Human</td>\n",
       "      <td>494966</td>\n",
       "    </tr>\n",
       "    <tr>\n",
       "      <th>Pericytes</th>\n",
       "      <td>0.006130</td>\n",
       "      <td>0.007853</td>\n",
       "      <td>TEK</td>\n",
       "      <td>Siletti2022</td>\n",
       "      <td>Human</td>\n",
       "      <td>3693</td>\n",
       "    </tr>\n",
       "    <tr>\n",
       "      <th>SMCs</th>\n",
       "      <td>0.092730</td>\n",
       "      <td>0.066108</td>\n",
       "      <td>TEK</td>\n",
       "      <td>Siletti2022</td>\n",
       "      <td>Human</td>\n",
       "      <td>1074</td>\n",
       "    </tr>\n",
       "  </tbody>\n",
       "</table>\n",
       "</div>"
      ],
      "text/plain": [
       "                                 mean_expression  fraction_of_cells gene  \\\n",
       "clusters                                                                   \n",
       "Astrocytes                              0.003129           0.007764  TEK   \n",
       "Choroid plexus epithelial cells         0.001260           0.011835  TEK   \n",
       "Endothelial cells                       1.000000           0.572894  TEK   \n",
       "Ependymal cells                         0.017392           0.025502  TEK   \n",
       "Fibroblasts                             0.032726           0.029926  TEK   \n",
       "Macrophages                             0.000000           0.002733  TEK   \n",
       "Neurons                                 0.172218           0.147453  TEK   \n",
       "OPCs                                    0.438579           0.419127  TEK   \n",
       "Oligos                                  0.014298           0.019070  TEK   \n",
       "Pericytes                               0.006130           0.007853  TEK   \n",
       "SMCs                                    0.092730           0.066108  TEK   \n",
       "\n",
       "                                      source organism  cell_number  \n",
       "clusters                                                            \n",
       "Astrocytes                       Siletti2022    Human       163066  \n",
       "Choroid plexus epithelial cells  Siletti2022    Human         7689  \n",
       "Endothelial cells                Siletti2022    Human         5165  \n",
       "Ependymal cells                  Siletti2022    Human         5882  \n",
       "Fibroblasts                      Siletti2022    Human         9156  \n",
       "Macrophages                      Siletti2022    Human        91838  \n",
       "Neurons                          Siletti2022    Human      2455885  \n",
       "OPCs                             Siletti2022    Human       105734  \n",
       "Oligos                           Siletti2022    Human       494966  \n",
       "Pericytes                        Siletti2022    Human         3693  \n",
       "SMCs                             Siletti2022    Human         1074  "
      ]
     },
     "execution_count": 59,
     "metadata": {},
     "output_type": "execute_result"
    }
   ],
   "source": [
    "foxf2 = pd.concat([ex, fc], axis=1)\n",
    "foxf2['gene'] = gene\n",
    "foxf2['source'] = \"Siletti2022\"\n",
    "foxf2['organism'] = \"Human\"\n",
    "foxf2['cell_number'] = pd.DataFrame(adata3.obs[\"clusters\"].value_counts()).reindex(foxf2.index)\n",
    "foxf2.index.name = \"clusters\"\n",
    "foxf2"
   ]
  },
  {
   "cell_type": "code",
   "execution_count": 60,
   "id": "9279700d-c822-49f3-a0a2-9c4f179de0e9",
   "metadata": {},
   "outputs": [],
   "source": [
    "# export\n",
    "name='Siletti2022'"
   ]
  },
  {
   "cell_type": "code",
   "execution_count": 61,
   "id": "be1c765e-30a1-467d-8aab-e14850b85e97",
   "metadata": {},
   "outputs": [],
   "source": [
    "# Win\n",
    "foxf2.to_csv(main_dir+'/Others_summarized/'+ date.today().strftime(\"%Y%m%d\")+'_TEK_'+name+'_normalized.csv',sep=';')"
   ]
  },
  {
   "cell_type": "markdown",
   "id": "3e631b9b-af3a-41f8-ae53-c5f61fdc42dc",
   "metadata": {},
   "source": [
    "# Focus on: eNOS=NOS3"
   ]
  },
  {
   "cell_type": "code",
   "execution_count": 62,
   "id": "5a035b64-651d-4b7d-abf1-7a6778cb4150",
   "metadata": {},
   "outputs": [],
   "source": [
    "gene=\"NOS3\""
   ]
  },
  {
   "cell_type": "code",
   "execution_count": 63,
   "id": "f8d36ca3-339d-4990-822c-fdcb07880802",
   "metadata": {},
   "outputs": [
    {
     "data": {
      "image/png": "[encoded data removed]",
      "text/plain": [
       "<Figure size 144x360 with 3 Axes>"
      ]
     },
     "metadata": {},
     "output_type": "display_data"
    }
   ],
   "source": [
    "sc.pl.matrixplot(adata3, [gene], groupby='clusters', swap_axes=False, figsize=(2,5), standard_scale=\"var\")"
   ]
  },
  {
   "cell_type": "code",
   "execution_count": 64,
   "id": "0a35d4b3-e186-43e8-a65d-6ee65d0896e1",
   "metadata": {},
   "outputs": [
    {
     "data": {
      "text/html": [
       "<div>\n",
       "<style scoped>\n",
       "    .dataframe tbody tr th:only-of-type {\n",
       "        vertical-align: middle;\n",
       "    }\n",
       "\n",
       "    .dataframe tbody tr th {\n",
       "        vertical-align: top;\n",
       "    }\n",
       "\n",
       "    .dataframe thead th {\n",
       "        text-align: right;\n",
       "    }\n",
       "</style>\n",
       "<table border=\"1\" class=\"dataframe\">\n",
       "  <thead>\n",
       "    <tr style=\"text-align: right;\">\n",
       "      <th></th>\n",
       "      <th>mean_expression</th>\n",
       "    </tr>\n",
       "    <tr>\n",
       "      <th>clusters</th>\n",
       "      <th></th>\n",
       "    </tr>\n",
       "  </thead>\n",
       "  <tbody>\n",
       "    <tr>\n",
       "      <th>Astrocytes</th>\n",
       "      <td>0.001526</td>\n",
       "    </tr>\n",
       "    <tr>\n",
       "      <th>Choroid plexus epithelial cells</th>\n",
       "      <td>0.005119</td>\n",
       "    </tr>\n",
       "    <tr>\n",
       "      <th>Endothelial cells</th>\n",
       "      <td>1.000000</td>\n",
       "    </tr>\n",
       "    <tr>\n",
       "      <th>Ependymal cells</th>\n",
       "      <td>0.038575</td>\n",
       "    </tr>\n",
       "    <tr>\n",
       "      <th>Fibroblasts</th>\n",
       "      <td>0.056987</td>\n",
       "    </tr>\n",
       "    <tr>\n",
       "      <th>Macrophages</th>\n",
       "      <td>0.001912</td>\n",
       "    </tr>\n",
       "    <tr>\n",
       "      <th>Neurons</th>\n",
       "      <td>0.024640</td>\n",
       "    </tr>\n",
       "    <tr>\n",
       "      <th>OPCs</th>\n",
       "      <td>0.000357</td>\n",
       "    </tr>\n",
       "    <tr>\n",
       "      <th>Oligos</th>\n",
       "      <td>0.000000</td>\n",
       "    </tr>\n",
       "    <tr>\n",
       "      <th>Pericytes</th>\n",
       "      <td>0.009724</td>\n",
       "    </tr>\n",
       "    <tr>\n",
       "      <th>SMCs</th>\n",
       "      <td>0.159187</td>\n",
       "    </tr>\n",
       "  </tbody>\n",
       "</table>\n",
       "</div>"
      ],
      "text/plain": [
       "                                 mean_expression\n",
       "clusters                                        \n",
       "Astrocytes                              0.001526\n",
       "Choroid plexus epithelial cells         0.005119\n",
       "Endothelial cells                       1.000000\n",
       "Ependymal cells                         0.038575\n",
       "Fibroblasts                             0.056987\n",
       "Macrophages                             0.001912\n",
       "Neurons                                 0.024640\n",
       "OPCs                                    0.000357\n",
       "Oligos                                  0.000000\n",
       "Pericytes                               0.009724\n",
       "SMCs                                    0.159187"
      ]
     },
     "execution_count": 64,
     "metadata": {},
     "output_type": "execute_result"
    }
   ],
   "source": [
    "# mean expression per group (normalized and scaled)\n",
    "ex = sc.pl.matrixplot(adata3, [gene], groupby='clusters', swap_axes=False, figsize=(2,5), standard_scale=\"var\", return_fig=True).values_df\n",
    "ex.columns = ['mean_expression']\n",
    "ex"
   ]
  },
  {
   "cell_type": "code",
   "execution_count": 65,
   "id": "a85d1339-6d16-4574-8717-2ce562df560f",
   "metadata": {},
   "outputs": [
    {
     "name": "stderr",
     "output_type": "stream",
     "text": [
      "/cluster2/sfrerich/miniconda3/envs/scanpy/lib/python3.10/site-packages/scanpy/plotting/_dotplot.py:749: UserWarning: No data for colormapping provided via 'c'. Parameters 'cmap', 'norm' will be ignored\n",
      "  dot_ax.scatter(x, y, **kwds)\n"
     ]
    },
    {
     "data": {
      "image/png": "[encoded data removed]",
      "text/plain": [
       "<Figure size 144x360 with 4 Axes>"
      ]
     },
     "metadata": {},
     "output_type": "display_data"
    }
   ],
   "source": [
    "sc.pl.dotplot(adata3, [gene], groupby='clusters', swap_axes=False, figsize=(2,5), standard_scale=\"var\")"
   ]
  },
  {
   "cell_type": "code",
   "execution_count": 66,
   "id": "ea317618-9db1-4a8b-a529-19b2c935e6b3",
   "metadata": {},
   "outputs": [
    {
     "data": {
      "text/html": [
       "<div>\n",
       "<style scoped>\n",
       "    .dataframe tbody tr th:only-of-type {\n",
       "        vertical-align: middle;\n",
       "    }\n",
       "\n",
       "    .dataframe tbody tr th {\n",
       "        vertical-align: top;\n",
       "    }\n",
       "\n",
       "    .dataframe thead th {\n",
       "        text-align: right;\n",
       "    }\n",
       "</style>\n",
       "<table border=\"1\" class=\"dataframe\">\n",
       "  <thead>\n",
       "    <tr style=\"text-align: right;\">\n",
       "      <th></th>\n",
       "      <th>fraction_of_cells</th>\n",
       "    </tr>\n",
       "    <tr>\n",
       "      <th>clusters</th>\n",
       "      <th></th>\n",
       "    </tr>\n",
       "  </thead>\n",
       "  <tbody>\n",
       "    <tr>\n",
       "      <th>Astrocytes</th>\n",
       "      <td>0.000803</td>\n",
       "    </tr>\n",
       "    <tr>\n",
       "      <th>Choroid plexus epithelial cells</th>\n",
       "      <td>0.002731</td>\n",
       "    </tr>\n",
       "    <tr>\n",
       "      <th>Endothelial cells</th>\n",
       "      <td>0.204259</td>\n",
       "    </tr>\n",
       "    <tr>\n",
       "      <th>Ependymal cells</th>\n",
       "      <td>0.014111</td>\n",
       "    </tr>\n",
       "    <tr>\n",
       "      <th>Fibroblasts</th>\n",
       "      <td>0.012014</td>\n",
       "    </tr>\n",
       "    <tr>\n",
       "      <th>Macrophages</th>\n",
       "      <td>0.000523</td>\n",
       "    </tr>\n",
       "    <tr>\n",
       "      <th>Neurons</th>\n",
       "      <td>0.007164</td>\n",
       "    </tr>\n",
       "    <tr>\n",
       "      <th>OPCs</th>\n",
       "      <td>0.000426</td>\n",
       "    </tr>\n",
       "    <tr>\n",
       "      <th>Oligos</th>\n",
       "      <td>0.000307</td>\n",
       "    </tr>\n",
       "    <tr>\n",
       "      <th>Pericytes</th>\n",
       "      <td>0.002437</td>\n",
       "    </tr>\n",
       "    <tr>\n",
       "      <th>SMCs</th>\n",
       "      <td>0.030726</td>\n",
       "    </tr>\n",
       "  </tbody>\n",
       "</table>\n",
       "</div>"
      ],
      "text/plain": [
       "                                 fraction_of_cells\n",
       "clusters                                          \n",
       "Astrocytes                                0.000803\n",
       "Choroid plexus epithelial cells           0.002731\n",
       "Endothelial cells                         0.204259\n",
       "Ependymal cells                           0.014111\n",
       "Fibroblasts                               0.012014\n",
       "Macrophages                               0.000523\n",
       "Neurons                                   0.007164\n",
       "OPCs                                      0.000426\n",
       "Oligos                                    0.000307\n",
       "Pericytes                                 0.002437\n",
       "SMCs                                      0.030726"
      ]
     },
     "execution_count": 66,
     "metadata": {},
     "output_type": "execute_result"
    }
   ],
   "source": [
    "# dotplot dot size = fraction of cells in group expressing Foxf2\n",
    "fc = sc.pl.dotplot(adata3, [gene], groupby='clusters', swap_axes=False, figsize=(2,7), standard_scale=\"var\",return_fig=True).dot_size_df\n",
    "fc.columns = ['fraction_of_cells']\n",
    "fc"
   ]
  },
  {
   "cell_type": "code",
   "execution_count": 67,
   "id": "fabd456f-7d19-4395-8f8f-06d9581bb92b",
   "metadata": {},
   "outputs": [
    {
     "data": {
      "text/html": [
       "<div>\n",
       "<style scoped>\n",
       "    .dataframe tbody tr th:only-of-type {\n",
       "        vertical-align: middle;\n",
       "    }\n",
       "\n",
       "    .dataframe tbody tr th {\n",
       "        vertical-align: top;\n",
       "    }\n",
       "\n",
       "    .dataframe thead th {\n",
       "        text-align: right;\n",
       "    }\n",
       "</style>\n",
       "<table border=\"1\" class=\"dataframe\">\n",
       "  <thead>\n",
       "    <tr style=\"text-align: right;\">\n",
       "      <th></th>\n",
       "      <th>mean_expression</th>\n",
       "      <th>fraction_of_cells</th>\n",
       "      <th>gene</th>\n",
       "      <th>source</th>\n",
       "      <th>organism</th>\n",
       "      <th>cell_number</th>\n",
       "    </tr>\n",
       "    <tr>\n",
       "      <th>clusters</th>\n",
       "      <th></th>\n",
       "      <th></th>\n",
       "      <th></th>\n",
       "      <th></th>\n",
       "      <th></th>\n",
       "      <th></th>\n",
       "    </tr>\n",
       "  </thead>\n",
       "  <tbody>\n",
       "    <tr>\n",
       "      <th>Astrocytes</th>\n",
       "      <td>0.001526</td>\n",
       "      <td>0.000803</td>\n",
       "      <td>NOS3</td>\n",
       "      <td>Siletti2022</td>\n",
       "      <td>Human</td>\n",
       "      <td>163066</td>\n",
       "    </tr>\n",
       "    <tr>\n",
       "      <th>Choroid plexus epithelial cells</th>\n",
       "      <td>0.005119</td>\n",
       "      <td>0.002731</td>\n",
       "      <td>NOS3</td>\n",
       "      <td>Siletti2022</td>\n",
       "      <td>Human</td>\n",
       "      <td>7689</td>\n",
       "    </tr>\n",
       "    <tr>\n",
       "      <th>Endothelial cells</th>\n",
       "      <td>1.000000</td>\n",
       "      <td>0.204259</td>\n",
       "      <td>NOS3</td>\n",
       "      <td>Siletti2022</td>\n",
       "      <td>Human</td>\n",
       "      <td>5165</td>\n",
       "    </tr>\n",
       "    <tr>\n",
       "      <th>Ependymal cells</th>\n",
       "      <td>0.038575</td>\n",
       "      <td>0.014111</td>\n",
       "      <td>NOS3</td>\n",
       "      <td>Siletti2022</td>\n",
       "      <td>Human</td>\n",
       "      <td>5882</td>\n",
       "    </tr>\n",
       "    <tr>\n",
       "      <th>Fibroblasts</th>\n",
       "      <td>0.056987</td>\n",
       "      <td>0.012014</td>\n",
       "      <td>NOS3</td>\n",
       "      <td>Siletti2022</td>\n",
       "      <td>Human</td>\n",
       "      <td>9156</td>\n",
       "    </tr>\n",
       "    <tr>\n",
       "      <th>Macrophages</th>\n",
       "      <td>0.001912</td>\n",
       "      <td>0.000523</td>\n",
       "      <td>NOS3</td>\n",
       "      <td>Siletti2022</td>\n",
       "      <td>Human</td>\n",
       "      <td>91838</td>\n",
       "    </tr>\n",
       "    <tr>\n",
       "      <th>Neurons</th>\n",
       "      <td>0.024640</td>\n",
       "      <td>0.007164</td>\n",
       "      <td>NOS3</td>\n",
       "      <td>Siletti2022</td>\n",
       "      <td>Human</td>\n",
       "      <td>2455885</td>\n",
       "    </tr>\n",
       "    <tr>\n",
       "      <th>OPCs</th>\n",
       "      <td>0.000357</td>\n",
       "      <td>0.000426</td>\n",
       "      <td>NOS3</td>\n",
       "      <td>Siletti2022</td>\n",
       "      <td>Human</td>\n",
       "      <td>105734</td>\n",
       "    </tr>\n",
       "    <tr>\n",
       "      <th>Oligos</th>\n",
       "      <td>0.000000</td>\n",
       "      <td>0.000307</td>\n",
       "      <td>NOS3</td>\n",
       "      <td>Siletti2022</td>\n",
       "      <td>Human</td>\n",
       "      <td>494966</td>\n",
       "    </tr>\n",
       "    <tr>\n",
       "      <th>Pericytes</th>\n",
       "      <td>0.009724</td>\n",
       "      <td>0.002437</td>\n",
       "      <td>NOS3</td>\n",
       "      <td>Siletti2022</td>\n",
       "      <td>Human</td>\n",
       "      <td>3693</td>\n",
       "    </tr>\n",
       "    <tr>\n",
       "      <th>SMCs</th>\n",
       "      <td>0.159187</td>\n",
       "      <td>0.030726</td>\n",
       "      <td>NOS3</td>\n",
       "      <td>Siletti2022</td>\n",
       "      <td>Human</td>\n",
       "      <td>1074</td>\n",
       "    </tr>\n",
       "  </tbody>\n",
       "</table>\n",
       "</div>"
      ],
      "text/plain": [
       "                                 mean_expression  fraction_of_cells  gene  \\\n",
       "clusters                                                                    \n",
       "Astrocytes                              0.001526           0.000803  NOS3   \n",
       "Choroid plexus epithelial cells         0.005119           0.002731  NOS3   \n",
       "Endothelial cells                       1.000000           0.204259  NOS3   \n",
       "Ependymal cells                         0.038575           0.014111  NOS3   \n",
       "Fibroblasts                             0.056987           0.012014  NOS3   \n",
       "Macrophages                             0.001912           0.000523  NOS3   \n",
       "Neurons                                 0.024640           0.007164  NOS3   \n",
       "OPCs                                    0.000357           0.000426  NOS3   \n",
       "Oligos                                  0.000000           0.000307  NOS3   \n",
       "Pericytes                               0.009724           0.002437  NOS3   \n",
       "SMCs                                    0.159187           0.030726  NOS3   \n",
       "\n",
       "                                      source organism  cell_number  \n",
       "clusters                                                            \n",
       "Astrocytes                       Siletti2022    Human       163066  \n",
       "Choroid plexus epithelial cells  Siletti2022    Human         7689  \n",
       "Endothelial cells                Siletti2022    Human         5165  \n",
       "Ependymal cells                  Siletti2022    Human         5882  \n",
       "Fibroblasts                      Siletti2022    Human         9156  \n",
       "Macrophages                      Siletti2022    Human        91838  \n",
       "Neurons                          Siletti2022    Human      2455885  \n",
       "OPCs                             Siletti2022    Human       105734  \n",
       "Oligos                           Siletti2022    Human       494966  \n",
       "Pericytes                        Siletti2022    Human         3693  \n",
       "SMCs                             Siletti2022    Human         1074  "
      ]
     },
     "execution_count": 67,
     "metadata": {},
     "output_type": "execute_result"
    }
   ],
   "source": [
    "foxf2 = pd.concat([ex, fc], axis=1)\n",
    "foxf2['gene'] = gene\n",
    "foxf2['source'] = \"Siletti2022\"\n",
    "foxf2['organism'] = \"Human\"\n",
    "foxf2['cell_number'] = pd.DataFrame(adata3.obs[\"clusters\"].value_counts()).reindex(foxf2.index)\n",
    "foxf2.index.name = \"clusters\"\n",
    "foxf2"
   ]
  },
  {
   "cell_type": "code",
   "execution_count": 68,
   "id": "6a503da2-e057-4625-8b33-8f5c37f211a4",
   "metadata": {},
   "outputs": [],
   "source": [
    "# export\n",
    "name='Siletti2022'"
   ]
  },
  {
   "cell_type": "code",
   "execution_count": 69,
   "id": "ddf0f395-021f-47d6-a085-fb2522796933",
   "metadata": {},
   "outputs": [],
   "source": [
    "# Win\n",
    "foxf2.to_csv(main_dir+'/Others_summarized/'+ date.today().strftime(\"%Y%m%d\")+'_NOS3_'+name+'_normalized.csv',sep=';')"
   ]
  },
  {
   "cell_type": "markdown",
   "id": "2b50bbcc-d764-49b9-8cc0-d3173fd8239e",
   "metadata": {},
   "source": [
    "# Session Info"
   ]
  },
  {
   "cell_type": "code",
   "execution_count": 70,
   "id": "06401063-4335-4d98-ad41-2bab36a17eab",
   "metadata": {},
   "outputs": [
    {
     "name": "stdout",
     "output_type": "stream",
     "text": [
      "-----\n",
      "anndata     0.8.0\n",
      "scanpy      1.9.1\n",
      "-----\n",
      "PIL                         9.4.0\n",
      "asttokens                   NA\n",
      "backcall                    0.2.0\n",
      "cffi                        1.15.1\n",
      "cycler                      0.10.0\n",
      "cython_runtime              NA\n",
      "dateutil                    2.8.2\n",
      "debugpy                     1.5.1\n",
      "decorator                   5.1.1\n",
      "defusedxml                  0.7.1\n",
      "entrypoints                 0.4\n",
      "executing                   0.8.3\n",
      "h5py                        3.8.0\n",
      "ipykernel                   6.9.1\n",
      "ipython_genutils            0.2.0\n",
      "ipywidgets                  7.6.5\n",
      "jedi                        0.18.1\n",
      "joblib                      1.2.0\n",
      "jupyter_server              1.23.4\n",
      "kiwisolver                  1.4.4\n",
      "llvmlite                    0.39.1\n",
      "loompy                      3.0.7\n",
      "matplotlib                  3.6.3\n",
      "matplotlib_inline           NA\n",
      "mpl_toolkits                NA\n",
      "natsort                     8.2.0\n",
      "numba                       0.56.4\n",
      "numexpr                     2.8.4\n",
      "numpy                       1.23.5\n",
      "numpy_groupies              0.9.20\n",
      "packaging                   22.0\n",
      "pandas                      1.5.3\n",
      "parso                       0.8.3\n",
      "pexpect                     4.8.0\n",
      "pickleshare                 0.7.5\n",
      "pkg_resources               NA\n",
      "prompt_toolkit              3.0.36\n",
      "ptyprocess                  0.7.0\n",
      "pure_eval                   0.2.2\n",
      "pycparser                   2.21\n",
      "pydev_ipython               NA\n",
      "pydevconsole                NA\n",
      "pydevd                      2.6.0\n",
      "pydevd_concurrency_analyser NA\n",
      "pydevd_file_utils           NA\n",
      "pydevd_plugins              NA\n",
      "pydevd_tracing              NA\n",
      "pygments                    2.11.2\n",
      "pyparsing                   3.0.9\n",
      "pytz                        2022.7\n",
      "scipy                       1.10.0\n",
      "seaborn                     0.12.2\n",
      "session_info                1.0.0\n",
      "setuptools                  65.6.3\n",
      "six                         1.16.0\n",
      "sklearn                     1.2.1\n",
      "stack_data                  0.2.0\n",
      "statsmodels                 0.13.5\n",
      "threadpoolctl               3.1.0\n",
      "tornado                     6.1\n",
      "traitlets                   5.1.1\n",
      "typing_extensions           NA\n",
      "wcwidth                     0.2.5\n",
      "zmq                         23.2.0\n",
      "zoneinfo                    NA\n",
      "-----\n",
      "IPython             8.4.0\n",
      "jupyter_client      7.2.2\n",
      "jupyter_core        4.10.0\n",
      "jupyterlab          3.5.3\n",
      "notebook            6.5.2\n",
      "-----\n",
      "Python 3.10.9 (main, Jan 11 2023, 15:21:40) [GCC 11.2.0]\n",
      "Linux-5.4.0-48-generic-x86_64-with-glibc2.27\n",
      "-----\n",
      "Session information updated at 2023-03-02 12:32\n"
     ]
    }
   ],
   "source": [
    "sc.logging.print_versions()"
   ]
  }
 ],
 "metadata": {
  "kernelspec": {
   "display_name": "Python 3 (ipykernel)",
   "language": "python",
   "name": "python3"
  },
  "language_info": {
   "codemirror_mode": {
    "name": "ipython",
    "version": 3
   },
   "file_extension": ".py",
   "mimetype": "text/x-python",
   "name": "python",
   "nbconvert_exporter": "python",
   "pygments_lexer": "ipython3",
   "version": "3.8.13"
  }
 },
 "nbformat": 4,
 "nbformat_minor": 5
}
