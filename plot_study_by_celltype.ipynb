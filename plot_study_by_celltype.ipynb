{
 "cells": [
  {
   "cell_type": "markdown",
   "id": "5f865126-b708-4fa5-85a9-611fa2a79f40",
   "metadata": {
    "jp-MarkdownHeadingCollapsed": true,
    "tags": []
   },
   "source": [
    "<font size=\"+3.8\">Study-by-gene heatmap/dotplot</font>  \n",
    "<font size=\"+1.5\"></font>  "
   ]
  },
  {
   "cell_type": "markdown",
   "id": "563f0b43-ce10-475f-b355-6fa8a2406dad",
   "metadata": {},
   "source": [
    "Aim: Combine and plot expression from processed scRNA-seq studies. Processing see separate scripts."
   ]
  },
  {
   "cell_type": "code",
   "execution_count": null,
   "id": "79e4eb2f-b1e7-416d-96d7-d8d1a5b3987a",
   "metadata": {
    "scrolled": true,
    "tags": []
   },
   "outputs": [],
   "source": [
    "from datetime import date\n",
    "date.today().strftime('%d/%m/%Y')"
   ]
  },
  {
   "cell_type": "code",
   "execution_count": null,
   "id": "ed57a89e-32a0-44a4-aa9f-cb6885cb4a6b",
   "metadata": {
    "tags": []
   },
   "outputs": [],
   "source": [
    "import os\n",
    "os.getlogin()"
   ]
  },
  {
   "cell_type": "code",
   "execution_count": null,
   "id": "c4f25c8a-47e9-48b5-af79-04fe44b4068d",
   "metadata": {
    "tags": []
   },
   "outputs": [],
   "source": [
    "import numpy as np\n",
    "import pandas as pd\n",
    "import scanpy as sc\n",
    "import matplotlib as mpl\n",
    "import matplotlib.pyplot as plt\n",
    "from matplotlib.pyplot import rc_context\n",
    "import glob\n",
    "from pathlib import Path\n",
    "import platform\n",
    "import seaborn as sns\n",
    "sc.settings.verbosity = 3"
   ]
  },
  {
   "cell_type": "code",
   "execution_count": null,
   "id": "6669f984-f7fc-441e-b88e-08d748035585",
   "metadata": {},
   "outputs": [],
   "source": [
    "import utils"
   ]
  },
  {
   "cell_type": "code",
   "execution_count": null,
   "id": "570595c9-29aa-4697-9138-6438ad4e2574",
   "metadata": {
    "tags": []
   },
   "outputs": [],
   "source": [
    "os.environ['CONDA_DEFAULT_ENV'] # conda env"
   ]
  },
  {
   "cell_type": "code",
   "execution_count": null,
   "id": "b842033f-b427-491d-ba5c-3e6647454f89",
   "metadata": {
    "tags": []
   },
   "outputs": [],
   "source": [
    "platform.platform()"
   ]
  },
  {
   "cell_type": "code",
   "execution_count": null,
   "id": "f46a7618-6a0d-48a7-b77a-065afc204527",
   "metadata": {
    "tags": []
   },
   "outputs": [],
   "source": [
    "main_dir='\\\\\\isdsynnas.srv.med.uni-muenchen.de\\BD-Dichgans\\SF' # Win\n",
    "main_dir='/Volumes/BD-Dichgans/SF'"
   ]
  },
  {
   "cell_type": "code",
   "execution_count": null,
   "id": "431fabe7-b8e0-4278-b5d8-1dcbefa48104",
   "metadata": {},
   "outputs": [],
   "source": [
    "study_order = [\"OwnData\", \"Vanlandewijck2018\", \"Saunders2018\", \"Zeisel2018\", \n",
    "        \"TabulaMuris2018\", \"Winkler2022\", \"Yang2022\", \"Siletti2022\", \"Garcia2022\"]\n",
    "celltype_order = [\"Astrocytes\", \"Microglia/Mφ\", \"Oligodendrocytes\", \"OPCs\", \n",
    "        \"Endothelial cells\", \"Pericytes\", \"SMCs\", \"Fibroblasts\", \n",
    "        \"Neurons\", \"Neuroblasts/NSCs\", \"Ependymal cells\"]   "
   ]
  },
  {
   "cell_type": "code",
   "execution_count": null,
   "id": "93d0fbf1-7093-4516-b1ac-a03a9dff54bd",
   "metadata": {},
   "outputs": [],
   "source": [
    "study_order_zonation = [\"Vanlandewijck2018\",\"Winkler2022\", \"Yang2022\", \"Garcia2022\"]\n",
    "celltype_order_zonation = [\"Astrocytes\",\"Microglia/Mφ\", \"Oligodendrocytes\", \"OPCs\", \n",
    "        \"aECs\", \"capECs\", \"vECs\", \"Pericytes\", \"SMCs\", \"Fibroblasts\", \n",
    "        \"Neurons\", \"Neuroblasts/NSCs\", \"Ependymal cells\"]"
   ]
  },
  {
   "cell_type": "markdown",
   "id": "1ce73c09-37b6-4471-a908-50912a193bf5",
   "metadata": {},
   "source": [
    "# Foxf2"
   ]
  },
  {
   "cell_type": "markdown",
   "id": "9911d405-131d-4448-90f8-ffae63b1ac32",
   "metadata": {},
   "source": [
    "## Excl zonation"
   ]
  },
  {
   "cell_type": "code",
   "execution_count": null,
   "id": "91663d52-b01c-4152-8392-e4a156ab26a3",
   "metadata": {},
   "outputs": [],
   "source": [
    "gene=\"Foxf2\"\n",
    "date_str_list = [\"20250306\"]\n",
    "path = Path(main_dir) / 'P06_Foxf2_per_celltype' / 'Foxf2_summarized'"
   ]
  },
  {
   "cell_type": "code",
   "execution_count": null,
   "id": "5c70ed45-3df1-4ca6-8030-555c22cb34ea",
   "metadata": {},
   "outputs": [],
   "source": [
    "# load data\n",
    "df = pd.concat(\n",
    "    [pd.read_csv(f, sep=\";\") for f in path.glob(\"*.csv\") \n",
    "     if any(d in f.stem for d in date_str_list) and gene.lower() in f.stem.lower()],\n",
    "    ignore_index=True)"
   ]
  },
  {
   "cell_type": "code",
   "execution_count": null,
   "id": "33c47759-04b1-4086-bbf6-7901d2e9b73f",
   "metadata": {},
   "outputs": [],
   "source": [
    "df.head()"
   ]
  },
  {
   "cell_type": "code",
   "execution_count": null,
   "id": "416c1ea0-b26b-49c3-bdda-c7b35b8b79fb",
   "metadata": {},
   "outputs": [],
   "source": [
    "df.source.unique()"
   ]
  },
  {
   "cell_type": "code",
   "execution_count": null,
   "id": "d74057b4-5aa6-41dc-aba1-92b5e1ee3209",
   "metadata": {},
   "outputs": [],
   "source": [
    "df_cleaned = utils.clean_and_standardize_data(df, gene, study_order, celltype_order)"
   ]
  },
  {
   "cell_type": "code",
   "execution_count": null,
   "id": "857acf09-afdd-49e7-9db8-a443ddecc7ec",
   "metadata": {},
   "outputs": [],
   "source": [
    "out_path_heat = os.path.join(main_dir, 'P06_Foxf2_per_celltype', 'plots', \n",
    "                             f'{date.today().strftime(\"%Y%m%d\")}_{gene}_study_by_celltype_heatmap')\n",
    "with rc_context({'figure.figsize': (4.5,2.5), 'figure.dpi': 120}):\n",
    "    utils.create_heatmap(df_cleaned, gene, show=False)\n",
    "    plt.savefig(out_path_heat+\".png\", dpi=500, bbox_inches='tight')\n",
    "    plt.savefig(out_path_heat+\".svg\", dpi=500, bbox_inches='tight')\n",
    "    plt.show() "
   ]
  },
  {
   "cell_type": "code",
   "execution_count": null,
   "id": "511bbf00-a8de-4127-b4a2-b14fa977e6e2",
   "metadata": {},
   "outputs": [],
   "source": [
    "out_path_heat = os.path.join(main_dir, 'P06_Foxf2_per_celltype', 'plots', \n",
    "                             f'{date.today().strftime(\"%Y%m%d\")}_{gene}_study_by_celltype_dotplot')\n",
    "utils.create_dotplot(df_cleaned, gene, \n",
    "                     min_tile=15, # min_tile=0 shows no dot if fraction of cells is 0\n",
    "                     figsize=(12, 4),\n",
    "                     show=False)\n",
    "plt.savefig(out_path_heat+\".png\", dpi=500, bbox_inches='tight')\n",
    "plt.savefig(out_path_heat+\".svg\", dpi=500, bbox_inches='tight')\n",
    "plt.show() "
   ]
  },
  {
   "cell_type": "code",
   "execution_count": null,
   "id": "4f782fec-b799-42c2-957c-738f1ca3339d",
   "metadata": {},
   "outputs": [],
   "source": [
    "utils.get_cell_numbers(df_cleaned)"
   ]
  },
  {
   "cell_type": "markdown",
   "id": "e9246dbe-840d-464b-a265-6b69e3009988",
   "metadata": {},
   "source": [
    "## Incl zonation"
   ]
  },
  {
   "cell_type": "code",
   "execution_count": null,
   "id": "3d97d11c-16bc-4c25-8438-1cc9e35171ae",
   "metadata": {},
   "outputs": [],
   "source": [
    "date_str_list = [\"20250306\"]\n",
    "path = Path(main_dir) / 'P06_Foxf2_per_celltype' / 'Foxf2_summarized' / 'incl_zonation'\n",
    "cluster_key = \"clusters2\""
   ]
  },
  {
   "cell_type": "code",
   "execution_count": null,
   "id": "b82dbbe9-358f-457b-91a2-a470f6f13325",
   "metadata": {},
   "outputs": [],
   "source": [
    "# load data\n",
    "df = pd.concat(\n",
    "    [pd.read_csv(f, sep=\";\") for f in path.glob(\"*.csv\") \n",
    "     if any(d in f.stem for d in date_str_list) and gene.lower() in f.stem.lower()],\n",
    "    ignore_index=True\n",
    ")"
   ]
  },
  {
   "cell_type": "code",
   "execution_count": null,
   "id": "dcd734f8-ae62-4095-8002-249c3658ad6b",
   "metadata": {},
   "outputs": [],
   "source": [
    "df.source.unique()"
   ]
  },
  {
   "cell_type": "code",
   "execution_count": null,
   "id": "47b88386-db0f-4a45-b984-30b57d253157",
   "metadata": {},
   "outputs": [],
   "source": [
    "df_cleaned = utils.clean_and_standardize_data(df, gene, study_order_zonation, celltype_order_zonation, cluster_key=cluster_key)"
   ]
  },
  {
   "cell_type": "code",
   "execution_count": null,
   "id": "9bf19212-fa66-4c6d-8229-552b9fa1125f",
   "metadata": {},
   "outputs": [],
   "source": [
    "out_path_heat = os.path.join(main_dir, 'P06_Foxf2_per_celltype', 'plots', \n",
    "                             f'{date.today().strftime(\"%Y%m%d\")}_{gene}_study_by_celltype_heatmap_incl_zonation')\n",
    "with rc_context({'figure.figsize': (4.5,3), 'figure.dpi': 120}):\n",
    "    utils.create_heatmap(df_cleaned, gene, cluster_key=cluster_key, show=False)\n",
    "    plt.savefig(out_path_heat+\".png\", dpi=500, bbox_inches='tight')\n",
    "    plt.savefig(out_path_heat+\".svg\", dpi=500, bbox_inches='tight')\n",
    "    plt.show() "
   ]
  },
  {
   "cell_type": "code",
   "execution_count": null,
   "id": "e4eb5802-12ae-47eb-8795-cd579ad1c05a",
   "metadata": {},
   "outputs": [],
   "source": [
    "out_path_heat = os.path.join(main_dir, 'P06_Foxf2_per_celltype', 'plots', \n",
    "                             f'{date.today().strftime(\"%Y%m%d\")}_{gene}_study_by_celltype_dotplot_incl_zonation')\n",
    "utils.create_dotplot(df_cleaned, gene, \n",
    "                     min_tile=15, # min_tile=0 shows no dot if fraction of cells is 0\n",
    "                     figsize=(14,5.5),\n",
    "                     show=False, \n",
    "                     cluster_key=cluster_key)\n",
    "plt.savefig(out_path_heat+\".png\", dpi=500, bbox_inches='tight')\n",
    "plt.savefig(out_path_heat+\".svg\", dpi=500, bbox_inches='tight')\n",
    "plt.show() "
   ]
  },
  {
   "cell_type": "code",
   "execution_count": null,
   "id": "d54d2d4e-8dfe-4280-882f-1d1a5003e199",
   "metadata": {},
   "outputs": [],
   "source": [
    "utils.get_cell_numbers(df_cleaned, cluster_key=cluster_key)"
   ]
  },
  {
   "cell_type": "markdown",
   "id": "a07c7700-746a-407a-80ea-58683ea55fc8",
   "metadata": {},
   "source": [
    "## EDA"
   ]
  },
  {
   "cell_type": "code",
   "execution_count": null,
   "id": "00d38e23-642f-4405-9837-06356715600c",
   "metadata": {},
   "outputs": [],
   "source": [
    "date_str = \"20250306\"\n",
    "path = Path(main_dir) / 'P06_Foxf2_per_celltype' / 'Foxf2_summarized'"
   ]
  },
  {
   "cell_type": "code",
   "execution_count": null,
   "id": "889cfc9b-2101-4321-b49a-85ba7c7d80ca",
   "metadata": {},
   "outputs": [],
   "source": [
    "all_files = list(path.glob(f\"{date_str}*.csv\"))\n",
    "all_files = [f for f in all_files if gene.lower() in f.stem.lower()]\n",
    "#all_files\n",
    "dataframes = [pd.read_csv(os.path.join(path, filename), index_col=None, header=0, sep=\";\") \n",
    "              for filename in all_files]\n",
    "df = pd.concat(dataframes, axis=0, ignore_index=True)"
   ]
  },
  {
   "cell_type": "code",
   "execution_count": null,
   "id": "f35d620a-813c-46fe-bc1b-1bb68c4a9855",
   "metadata": {},
   "outputs": [],
   "source": [
    "df.source.unique()"
   ]
  },
  {
   "cell_type": "code",
   "execution_count": null,
   "id": "d946d946-5a03-47aa-8f02-0aa981deec83",
   "metadata": {},
   "outputs": [],
   "source": [
    "df.gene.unique()"
   ]
  },
  {
   "cell_type": "code",
   "execution_count": null,
   "id": "6106073c-6f2b-46cd-b18b-a0eb1792130b",
   "metadata": {},
   "outputs": [],
   "source": [
    "df.clusters.value_counts()"
   ]
  },
  {
   "cell_type": "code",
   "execution_count": null,
   "id": "d45891bc-986d-498c-a60d-18920a539e38",
   "metadata": {},
   "outputs": [],
   "source": [
    "pd.options.display.max_columns=50\n",
    "pd.crosstab(df.source, df.clusters)"
   ]
  },
  {
   "cell_type": "markdown",
   "id": "d5a48378-060e-4fd9-868a-8fc41a03942f",
   "metadata": {},
   "source": [
    "## Weighted mouse/human mean (not used)"
   ]
  },
  {
   "cell_type": "code",
   "execution_count": null,
   "id": "e5d97bf3-8ff8-46a8-b326-31a24a19b14e",
   "metadata": {},
   "outputs": [],
   "source": [
    "# mean expression and fraction of cells weigthed by number of cell studies\n",
    "# exploratory - not used"
   ]
  },
  {
   "cell_type": "code",
   "execution_count": null,
   "id": "58b838a2-c616-4676-ba9d-71c04b3569d7",
   "metadata": {},
   "outputs": [],
   "source": [
    "def weighted_mean(group):\n",
    "    weight_col = 'cell_number'\n",
    "    weighted_mean_expr = (group['mean_expression'] * group[weight_col]).sum() / group[weight_col].sum()\n",
    "    weighted_mean_frac_cells = (group['fraction_of_cells'] * group[weight_col]).sum() / group[weight_col].sum()\n",
    "    total_cell_number = group[weight_col].sum()\n",
    "    return pd.Series({\n",
    "        'mean_expression': weighted_mean_expr,\n",
    "        'fraction_of_cells': weighted_mean_frac_cells,\n",
    "        'cell_number': total_cell_number\n",
    "    })"
   ]
  },
  {
   "cell_type": "code",
   "execution_count": null,
   "id": "0e701be8-c6b9-4acd-a51e-e068fade15f9",
   "metadata": {},
   "outputs": [],
   "source": [
    "all2_mean_own = df_cleaned[df_cleaned.source == \"Own data\"]\n",
    "#all2_mean_own"
   ]
  },
  {
   "cell_type": "code",
   "execution_count": null,
   "id": "aa1b45a5-0b81-410b-a1f1-bb7c21237d2a",
   "metadata": {},
   "outputs": [],
   "source": [
    "all2_mean = df_cleaned[df_cleaned.source != \"Own data\"]"
   ]
  },
  {
   "cell_type": "code",
   "execution_count": null,
   "id": "19a1aab0-1845-4582-b51d-63e6e12b3c81",
   "metadata": {},
   "outputs": [],
   "source": [
    "# Option: Exclude Yang and Saunders (as outlier studies)\n",
    "all2_mean = all2_mean[all2_mean[\"source\"] != \"Yang, 2022, Nature\"]\n",
    "all2_mean = all2_mean[all2_mean[\"source\"] != \"Saunders, 2018, Cell\"]"
   ]
  },
  {
   "cell_type": "code",
   "execution_count": null,
   "id": "12945020-1bdc-468a-9603-783e620dc377",
   "metadata": {},
   "outputs": [],
   "source": [
    "weighted_mean_df = all2_mean.groupby(['clusters', 'organism', 'gene']).apply(weighted_mean).reset_index()\n",
    "weighted_mean_df = weighted_mean_df.dropna()"
   ]
  },
  {
   "cell_type": "code",
   "execution_count": null,
   "id": "746d98e8-8a96-4d4c-bdac-90876a8852ee",
   "metadata": {},
   "outputs": [],
   "source": [
    "ECs = all2_mean[all2_mean.clusters == \"Endothelial cells\"]\n",
    "ECs = ECs[ECs.organism == \"Human\"]\n",
    "ECs"
   ]
  },
  {
   "cell_type": "code",
   "execution_count": null,
   "id": "73057fd9-6221-4fe2-bafd-397d17eb4f27",
   "metadata": {},
   "outputs": [],
   "source": [
    "EC_mouse = all2_mean[all2_mean.clusters == \"Endothelial cells\"]\n",
    "EC_mouse = EC_mouse[EC_mouse.organism == \"Mouse\"]\n",
    "EC_mouse"
   ]
  },
  {
   "cell_type": "code",
   "execution_count": null,
   "id": "89811103-9514-4906-a522-7c75ad5a0821",
   "metadata": {},
   "outputs": [],
   "source": [
    "PC_mouse = all2_mean[all2_mean.clusters == \"Pericytes®\"]\n",
    "PC_mouse = PC_mouse[PC_mouse.organism == \"Mouse\"]\n",
    "PC_mouse"
   ]
  },
  {
   "cell_type": "code",
   "execution_count": null,
   "id": "b9bc2a83-3315-4eff-ab41-36c3e33bd121",
   "metadata": {},
   "outputs": [],
   "source": [
    "# verify\n",
    "(ECs['mean_expression'] * ECs['cell_number']).sum()/ECs['cell_number'].sum()"
   ]
  },
  {
   "cell_type": "code",
   "execution_count": null,
   "id": "f3ed1492-dd1a-4fd1-9a98-d7c3294369b2",
   "metadata": {},
   "outputs": [],
   "source": [
    "weighted_mean_df"
   ]
  },
  {
   "cell_type": "code",
   "execution_count": null,
   "id": "7a4c5f14-188f-4982-bb46-861a8de5b439",
   "metadata": {},
   "outputs": [],
   "source": [
    "# Dotplot"
   ]
  },
  {
   "cell_type": "code",
   "execution_count": null,
   "id": "f34b0e1b-e03c-48df-b621-58bf800c3838",
   "metadata": {},
   "outputs": [],
   "source": [
    "#all2_mean_own"
   ]
  },
  {
   "cell_type": "code",
   "execution_count": null,
   "id": "2ae2c5b1-c637-4f53-968e-646f11677748",
   "metadata": {},
   "outputs": [],
   "source": [
    "weighted_mean_df[\"source\"] = \"meta-analysis\"\n",
    "#weighted_mean_df"
   ]
  },
  {
   "cell_type": "code",
   "execution_count": null,
   "id": "05441a16-4f71-47d1-ba58-e293fb26bb87",
   "metadata": {},
   "outputs": [],
   "source": [
    "weighted_means = pd.concat([weighted_mean_df, all2_mean_own])\n",
    "weighted_means['source'] = weighted_means['source'] + \"-\" + weighted_means['organism']\n",
    "weighted_means"
   ]
  },
  {
   "cell_type": "code",
   "execution_count": null,
   "id": "9a8cdbb7-a904-47a1-8dcf-51f49d36f217",
   "metadata": {},
   "outputs": [],
   "source": [
    "weighted_means.cell_number.sum()"
   ]
  },
  {
   "cell_type": "code",
   "execution_count": null,
   "id": "b8f296e7-f871-4ce7-81f3-35c1eca1da3b",
   "metadata": {},
   "outputs": [],
   "source": [
    "# create color palette\n",
    "mycolormap = mpl.colors.LinearSegmentedColormap.from_list(\"\", ['#d1d1d1','tomato'])\n",
    "mpl.colormaps.register(mycolormap, force = True)\n",
    "#plt.cm.register_cmap(\"mycolormap\", my_cmap2)\n",
    "cpal2 = sns.color_palette(\"mycolormap\", as_cmap=True)"
   ]
  },
  {
   "cell_type": "code",
   "execution_count": null,
   "id": "a4566615-f805-4d21-be16-df1a1f827dd9",
   "metadata": {},
   "outputs": [],
   "source": [
    "weighted_means['fraction_of_cells'] = weighted_means['fraction_of_cells']*100"
   ]
  },
  {
   "cell_type": "code",
   "execution_count": null,
   "id": "8e6c6a08-ff48-4f40-88e8-a70af46f2b0e",
   "metadata": {},
   "outputs": [],
   "source": [
    "weighted_means.columns = ['clusters', 'organism', 'gene', 'Mean expression\\n       in group', 'Fraction of cells\\n   in group (%)',\n",
    "       'cell_number', 'source']"
   ]
  },
  {
   "cell_type": "code",
   "execution_count": null,
   "id": "a1c2fa8d-6f3c-4947-8c70-43cea7113bc2",
   "metadata": {},
   "outputs": [],
   "source": [
    "sns.set(style=\"white\")\n",
    "pl=sns.relplot(data=weighted_means, x=\"source\", y=\"clusters\",\n",
    "                hue='Mean expression\\n       in group', size='Fraction of cells\\n   in group (%)',\n",
    "                #size_norm=(50, 500),\n",
    "                palette=cpal2, \n",
    "                sizes=(15, 550), # tile size limits\n",
    "                #marker=\"s\", # round or squared\n",
    "                linewidth=1,\n",
    "                #legend=None,\n",
    "                #aspect=0.9\n",
    "              );\n",
    "pl.set(ylabel=None,xlabel=None)\n",
    "#plt.title(\"KO vs WT: Enriched gene sets\", y=1.02, fontsize=16)\n",
    "#plt.suptitle(\"Top \"+str(topx_OR)+\" DE genes of each brain region, sorted by OR\", y=0.97, fontsize=13)\n",
    "plt.tick_params(axis='both', which='major', labelsize=10, labelbottom = False, bottom=False, top = False, labeltop=True)\n",
    "plt.xticks(rotation=45, ha = 'left')\n",
    "pl.set_xticklabels(fontsize=14.4, family=\"arial\", color=\"black\")\n",
    "#plt.xlabel(family='Arial')\n",
    "pl.set_yticklabels(fontsize=14.1, family=\"arial\", color=\"black\")\n",
    "pl.fig.set_size_inches(8.7,4.2)\n",
    "#plt.legend(loc=\"upper right\")\n",
    "#sns.despine(bottom = False, left = False, right = False, top = False)\n",
    "sns.despine(left=True, bottom=True);\n",
    "#sns.despine(bottom=True, left=True, top=False)\n",
    "\n",
    "# sns legend\n",
    "leg = pl._legend\n",
    "#leg.set_bbox_to_anchor([1.5,0.53])\n",
    "leg.remove();\n",
    "\n",
    "# mpl legend\n",
    "legend = plt.legend(frameon=True, framealpha=0.2, borderpad=0.5, bbox_to_anchor=(1,1), title=gene, # handletextpad=0.7, \n",
    "           prop=mpl.font_manager.FontProperties(family='arial', size=10), labelcolor='black')\n",
    "plt.setp(legend.get_title(), color='black', family='arial', size=13);"
   ]
  },
  {
   "cell_type": "code",
   "execution_count": null,
   "id": "61d4dc5a-7de2-44df-8f86-4176838cfe35",
   "metadata": {},
   "outputs": [],
   "source": [
    "plt.show()"
   ]
  },
  {
   "cell_type": "code",
   "execution_count": null,
   "id": "2ffee3b0-5055-4bef-9e24-e790a0e5e810",
   "metadata": {},
   "outputs": [],
   "source": [
    "pl.savefig(os.path.join(main_dir,'P06_Foxf2_per_celltype','plots',date.today().strftime(\"%Y%m%d\")+'_Foxf2_by_celltype_weightedmean.png'), dpi=500)\n",
    "pl.savefig(os.path.join(main_dir,'P06_Foxf2_per_celltype','plots',date.today().strftime(\"%Y%m%d\")+'_Foxf2_by_celltype_weightedmean.svg'), dpi=500)"
   ]
  },
  {
   "cell_type": "markdown",
   "id": "269086c6-be4e-4851-9b3e-c177b4ad4924",
   "metadata": {
    "tags": []
   },
   "source": [
    "# Tek"
   ]
  },
  {
   "cell_type": "code",
   "execution_count": null,
   "id": "12176044-1057-4e6b-b2e6-daf18207dae5",
   "metadata": {
    "tags": []
   },
   "outputs": [],
   "source": [
    "gene=\"Tek\""
   ]
  },
  {
   "cell_type": "markdown",
   "id": "b40b2801-d4b5-4a9b-acd8-5e4e1e2e53ed",
   "metadata": {},
   "source": [
    "## Excl zonation"
   ]
  },
  {
   "cell_type": "code",
   "execution_count": null,
   "id": "66d07304-6553-448f-8018-9e7d18cc1ec0",
   "metadata": {},
   "outputs": [],
   "source": [
    "date_str_list = [\"20250306\"]\n",
    "path = Path(main_dir) / 'P06_Foxf2_per_celltype' / 'Other_genes_summarized'"
   ]
  },
  {
   "cell_type": "code",
   "execution_count": null,
   "id": "3f9a8f9b-ade6-41e3-ae34-83f8fc00aca1",
   "metadata": {},
   "outputs": [],
   "source": [
    "# load data\n",
    "df = pd.concat(\n",
    "    [pd.read_csv(f, sep=\";\") for f in path.glob(\"*.csv\") \n",
    "     if any(d in f.stem for d in date_str_list) and gene.lower() in f.stem.lower()],\n",
    "    ignore_index=True)"
   ]
  },
  {
   "cell_type": "code",
   "execution_count": null,
   "id": "bf71b93b-f0ab-492d-9471-fe0ddd3e2634",
   "metadata": {},
   "outputs": [],
   "source": [
    "df.source.unique()"
   ]
  },
  {
   "cell_type": "code",
   "execution_count": null,
   "id": "d3ff96d6-42eb-4234-84b9-c5732c4e3f89",
   "metadata": {},
   "outputs": [],
   "source": [
    "df_cleaned = utils.clean_and_standardize_data(df, gene, study_order, celltype_order)"
   ]
  },
  {
   "cell_type": "code",
   "execution_count": null,
   "id": "e2dab2be-7e0d-45f0-a54b-dd0d76e73a48",
   "metadata": {},
   "outputs": [],
   "source": [
    "out_path_heat = os.path.join(main_dir, 'P06_Foxf2_per_celltype', 'plots', \n",
    "                             f'{date.today().strftime(\"%Y%m%d\")}_{gene}_study_by_celltype_heatmap')\n",
    "with rc_context({'figure.figsize': (4.5,2.5), 'figure.dpi': 120}):\n",
    "    utils.create_heatmap(df_cleaned, gene, show=False)\n",
    "    plt.savefig(out_path_heat+\".png\", dpi=500, bbox_inches='tight')\n",
    "    plt.savefig(out_path_heat+\".svg\", dpi=500, bbox_inches='tight')\n",
    "    plt.show() "
   ]
  },
  {
   "cell_type": "code",
   "execution_count": null,
   "id": "077bde01-43fd-45b7-aa8c-1e0e43bd0b15",
   "metadata": {},
   "outputs": [],
   "source": [
    "out_path_heat = os.path.join(main_dir, 'P06_Foxf2_per_celltype', 'plots', \n",
    "                             f'{date.today().strftime(\"%Y%m%d\")}_{gene}_study_by_celltype_dotplot')\n",
    "utils.create_dotplot(df_cleaned, gene, \n",
    "                     min_tile=15, # min_tile=0 shows no dot if fraction of cells is 0\n",
    "                     figsize=(10, 4),\n",
    "                     show=False)\n",
    "plt.savefig(out_path_heat+\".png\", dpi=500, bbox_inches='tight')\n",
    "plt.savefig(out_path_heat+\".svg\", dpi=500, bbox_inches='tight')\n",
    "plt.show() "
   ]
  },
  {
   "cell_type": "code",
   "execution_count": null,
   "id": "6ede647a-ee27-4a04-9144-515ab27a4c71",
   "metadata": {},
   "outputs": [],
   "source": [
    "utils.get_cell_numbers(df_cleaned)"
   ]
  },
  {
   "cell_type": "markdown",
   "id": "7c2eacd5-5fe2-4a93-9075-82b9ee6e5d3b",
   "metadata": {},
   "source": [
    "## Incl zonation"
   ]
  },
  {
   "cell_type": "code",
   "execution_count": null,
   "id": "9d83dc3a-09d5-4433-ba44-3966929181e6",
   "metadata": {},
   "outputs": [],
   "source": [
    "date_str_list = [\"20250306\"]\n",
    "path = Path(main_dir) / 'P06_Foxf2_per_celltype' / 'Other_genes_summarized' / 'incl_zonation'"
   ]
  },
  {
   "cell_type": "code",
   "execution_count": null,
   "id": "bac2a290-8da6-4ecf-b2b6-31ebdf7add2e",
   "metadata": {},
   "outputs": [],
   "source": [
    "# load data\n",
    "df = pd.concat(\n",
    "    [pd.read_csv(f, sep=\";\") for f in path.glob(\"*.csv\") \n",
    "     if any(d in f.stem for d in date_str_list) and gene.lower() in f.stem.lower()],\n",
    "    ignore_index=True)"
   ]
  },
  {
   "cell_type": "code",
   "execution_count": null,
   "id": "8cfbd60c-c502-4af1-ac77-fd14e54c81f5",
   "metadata": {},
   "outputs": [],
   "source": [
    "df.source.unique()"
   ]
  },
  {
   "cell_type": "code",
   "execution_count": null,
   "id": "77f6a4dc-3427-4185-85c8-6bf82ea02ff4",
   "metadata": {},
   "outputs": [],
   "source": [
    "df_cleaned = utils.clean_and_standardize_data(df, gene, study_order_zonation, celltype_order_zonation, cluster_key=cluster_key)"
   ]
  },
  {
   "cell_type": "code",
   "execution_count": null,
   "id": "8b2996d2-e6a2-4efd-a6ef-699edc1ed7fa",
   "metadata": {},
   "outputs": [],
   "source": [
    "out_path_heat = os.path.join(main_dir, 'P06_Foxf2_per_celltype', 'plots', \n",
    "                             f'{date.today().strftime(\"%Y%m%d\")}_{gene}_study_by_celltype_heatmap_incl_zonation')\n",
    "with rc_context({'figure.figsize': (4.5,3), 'figure.dpi': 120}):\n",
    "    utils.create_heatmap(df_cleaned, gene, cluster_key=cluster_key, show=False)\n",
    "    plt.savefig(out_path_heat+\".png\", dpi=500, bbox_inches='tight')\n",
    "    plt.savefig(out_path_heat+\".svg\", dpi=500, bbox_inches='tight')\n",
    "    plt.show() "
   ]
  },
  {
   "cell_type": "code",
   "execution_count": null,
   "id": "2c6db141-8256-4d65-abc1-f49030a7a51f",
   "metadata": {},
   "outputs": [],
   "source": [
    "out_path_heat = os.path.join(main_dir, 'P06_Foxf2_per_celltype', 'plots', \n",
    "                             f'{date.today().strftime(\"%Y%m%d\")}_{gene}_study_by_celltype_dotplot_incl_zonation')\n",
    "utils.create_dotplot(df_cleaned, gene, \n",
    "                     min_tile=15, # min_tile=0 shows no dot if fraction of cells is 0\n",
    "                     figsize=(14,5.5),\n",
    "                     show=False, \n",
    "                     cluster_key=cluster_key)\n",
    "plt.savefig(out_path_heat+\".png\", dpi=500, bbox_inches='tight')\n",
    "plt.savefig(out_path_heat+\".svg\", dpi=500, bbox_inches='tight')\n",
    "plt.show() "
   ]
  },
  {
   "cell_type": "code",
   "execution_count": null,
   "id": "1f319dea-a7e7-4719-9a0d-80330deb9184",
   "metadata": {},
   "outputs": [],
   "source": [
    "utils.get_cell_numbers(df_cleaned, cluster_key=cluster_key)"
   ]
  },
  {
   "cell_type": "markdown",
   "id": "aafb1d0f-49d5-4670-a8df-d81ff391bfc8",
   "metadata": {
    "tags": []
   },
   "source": [
    "# Foxo1"
   ]
  },
  {
   "cell_type": "code",
   "execution_count": null,
   "id": "883f19b6-a728-47c3-a8d4-551684d40b04",
   "metadata": {
    "tags": []
   },
   "outputs": [],
   "source": [
    "gene=\"Foxo1\""
   ]
  },
  {
   "cell_type": "markdown",
   "id": "0fd4a1f9-75a3-4318-8677-62e0b5869ba2",
   "metadata": {},
   "source": [
    "## Excl zonation"
   ]
  },
  {
   "cell_type": "code",
   "execution_count": null,
   "id": "2a6206da-5745-4943-bb67-689b77f1082c",
   "metadata": {},
   "outputs": [],
   "source": [
    "date_str_list = [\"20250306\"]\n",
    "path = Path(main_dir) / 'P06_Foxf2_per_celltype' / 'Other_genes_summarized'"
   ]
  },
  {
   "cell_type": "code",
   "execution_count": null,
   "id": "72771438-d274-46b2-beb2-eda23d1260ac",
   "metadata": {},
   "outputs": [],
   "source": [
    "# load data\n",
    "df = pd.concat(\n",
    "    [pd.read_csv(f, sep=\";\") for f in path.glob(\"*.csv\") \n",
    "     if any(d in f.stem for d in date_str_list) and gene.lower() in f.stem.lower()],\n",
    "    ignore_index=True)"
   ]
  },
  {
   "cell_type": "code",
   "execution_count": null,
   "id": "62242137-baa6-499c-a66b-99cf477e8255",
   "metadata": {},
   "outputs": [],
   "source": [
    "df.source.unique()"
   ]
  },
  {
   "cell_type": "code",
   "execution_count": null,
   "id": "817acbea-1eaf-4833-a8d2-3418219c2229",
   "metadata": {},
   "outputs": [],
   "source": [
    "df_cleaned = utils.clean_and_standardize_data(df, gene, study_order, celltype_order)"
   ]
  },
  {
   "cell_type": "code",
   "execution_count": null,
   "id": "abb6b510-697b-4a9d-bf9c-927e82be7694",
   "metadata": {},
   "outputs": [],
   "source": [
    "out_path_heat = os.path.join(main_dir, 'P06_Foxf2_per_celltype', 'plots', \n",
    "                             f'{date.today().strftime(\"%Y%m%d\")}_{gene}_study_by_celltype_heatmap')\n",
    "with rc_context({'figure.figsize': (4.5,2.5), 'figure.dpi': 120}):\n",
    "    utils.create_heatmap(df_cleaned, gene, show=False)\n",
    "    plt.savefig(out_path_heat+\".png\", dpi=500, bbox_inches='tight')\n",
    "    plt.savefig(out_path_heat+\".svg\", dpi=500, bbox_inches='tight')\n",
    "    plt.show() "
   ]
  },
  {
   "cell_type": "code",
   "execution_count": null,
   "id": "df83051d-8323-4151-a012-d1ef6021dab9",
   "metadata": {},
   "outputs": [],
   "source": [
    "out_path_heat = os.path.join(main_dir, 'P06_Foxf2_per_celltype', 'plots', \n",
    "                             f'{date.today().strftime(\"%Y%m%d\")}_{gene}_study_by_celltype_dotplot')\n",
    "utils.create_dotplot(df_cleaned, gene, \n",
    "                     min_tile=15, # min_tile=0 shows no dot if fraction of cells is 0\n",
    "                     figsize=(10, 4),\n",
    "                     show=False)\n",
    "plt.savefig(out_path_heat+\".png\", dpi=500, bbox_inches='tight')\n",
    "plt.savefig(out_path_heat+\".svg\", dpi=500, bbox_inches='tight')\n",
    "plt.show() "
   ]
  },
  {
   "cell_type": "code",
   "execution_count": null,
   "id": "9d1fd61c-557f-4366-b06a-56b17f09a636",
   "metadata": {},
   "outputs": [],
   "source": [
    "utils.get_cell_numbers(df_cleaned)"
   ]
  },
  {
   "cell_type": "markdown",
   "id": "a230119d-4803-42d3-88fe-d1dc07a9e56a",
   "metadata": {},
   "source": [
    "## Incl zonation"
   ]
  },
  {
   "cell_type": "code",
   "execution_count": null,
   "id": "8f931c44-da75-4816-83de-529017a28292",
   "metadata": {},
   "outputs": [],
   "source": [
    "date_str_list = [\"20250306\"]\n",
    "path = Path(main_dir) / 'P06_Foxf2_per_celltype' / 'Other_genes_summarized' / 'incl_zonation'\n",
    "cluster_key = \"clusters2\""
   ]
  },
  {
   "cell_type": "code",
   "execution_count": null,
   "id": "5f213efe-331f-44c9-a8dd-8e7c879942ee",
   "metadata": {},
   "outputs": [],
   "source": [
    "# load data\n",
    "df = pd.concat(\n",
    "    [pd.read_csv(f, sep=\";\") for f in path.glob(\"*.csv\") \n",
    "     if any(d in f.stem for d in date_str_list) and gene.lower() in f.stem.lower()],\n",
    "    ignore_index=True)"
   ]
  },
  {
   "cell_type": "code",
   "execution_count": null,
   "id": "d1e2f74c-efb5-4a08-b7b3-983737636bb7",
   "metadata": {},
   "outputs": [],
   "source": [
    "df.source.unique()"
   ]
  },
  {
   "cell_type": "code",
   "execution_count": null,
   "id": "4ffeff23-2768-4be3-8d54-51388dc51136",
   "metadata": {},
   "outputs": [],
   "source": [
    "df_cleaned = utils.clean_and_standardize_data(df, gene, study_order_zonation, celltype_order_zonation, cluster_key=cluster_key)"
   ]
  },
  {
   "cell_type": "code",
   "execution_count": null,
   "id": "6897bb3a-d0f5-47bc-ba36-891a0329b452",
   "metadata": {},
   "outputs": [],
   "source": [
    "out_path_heat = os.path.join(main_dir, 'P06_Foxf2_per_celltype', 'plots', \n",
    "                             f'{date.today().strftime(\"%Y%m%d\")}_{gene}_study_by_celltype_heatmap_incl_zonation')\n",
    "with rc_context({'figure.figsize': (4.5,3), 'figure.dpi': 120}):\n",
    "    utils.create_heatmap(df_cleaned, gene, cluster_key=cluster_key, show=False)\n",
    "    plt.savefig(out_path_heat+\".png\", dpi=500, bbox_inches='tight')\n",
    "    plt.savefig(out_path_heat+\".svg\", dpi=500, bbox_inches='tight')\n",
    "    plt.show() "
   ]
  },
  {
   "cell_type": "code",
   "execution_count": null,
   "id": "1e406325-f36b-4e72-a7a4-b83736f92045",
   "metadata": {},
   "outputs": [],
   "source": [
    "out_path_heat = os.path.join(main_dir, 'P06_Foxf2_per_celltype', 'plots', \n",
    "                             f'{date.today().strftime(\"%Y%m%d\")}_{gene}_study_by_celltype_dotplot_incl_zonation')\n",
    "utils.create_dotplot(df_cleaned, gene, \n",
    "                     min_tile=15, # min_tile=0 shows no dot if fraction of cells is 0\n",
    "                     figsize=(14,5.5),\n",
    "                     show=False, \n",
    "                     cluster_key=cluster_key)\n",
    "plt.savefig(out_path_heat+\".png\", dpi=500, bbox_inches='tight')\n",
    "plt.savefig(out_path_heat+\".svg\", dpi=500, bbox_inches='tight')\n",
    "plt.show() "
   ]
  },
  {
   "cell_type": "code",
   "execution_count": null,
   "id": "6624102d-322c-4b4b-ad68-9f6754fcb192",
   "metadata": {},
   "outputs": [],
   "source": [
    "utils.get_cell_numbers(df_cleaned, cluster_key=cluster_key)"
   ]
  },
  {
   "cell_type": "markdown",
   "id": "20d1d9e9-5918-4095-9717-1bd7a3e7a895",
   "metadata": {},
   "source": [
    "# Other genes"
   ]
  },
  {
   "cell_type": "code",
   "execution_count": null,
   "id": "b3b252f4-90f4-478a-ad9d-6220fe885272",
   "metadata": {},
   "outputs": [],
   "source": [
    "target_genes = [\"Nos3\", \"Htra1\", \"Egfl8\", \"Flt1\", \"Kdr\", \"Ptprb\", \"Nrp1\", \"Nrp2\", \"Efnb2\", \"Itgb1\", \"Itga6\", \"Angpt2\", \"Cdh5\", \"Cldn5\", \"Ocln\", \"Ctnnb1\"]"
   ]
  },
  {
   "cell_type": "markdown",
   "id": "376d2183-15c8-45d4-92ab-416d190072bc",
   "metadata": {},
   "source": [
    "## Excl zonation"
   ]
  },
  {
   "cell_type": "code",
   "execution_count": null,
   "id": "61f64fb5-db00-4502-96e2-e10a0d797ec1",
   "metadata": {},
   "outputs": [],
   "source": [
    "date_str_list = [\"20250306\"]\n",
    "path = Path(main_dir) / 'P06_Foxf2_per_celltype' / 'Other_genes_summarized'"
   ]
  },
  {
   "cell_type": "code",
   "execution_count": null,
   "id": "cfd6a0b2-d976-477f-a57d-a34571c437e6",
   "metadata": {
    "scrolled": true
   },
   "outputs": [],
   "source": [
    "for gene in target_genes:\n",
    "    print(f\"Processing {gene}...\")    \n",
    "    \n",
    "    df = pd.concat(\n",
    "        [pd.read_csv(f, sep=\";\") for f in path.glob(\"*.csv\") \n",
    "         if any(d in f.stem for d in date_str_list) and gene.lower() in f.stem.lower()],\n",
    "        ignore_index=True)\n",
    "    \n",
    "    # Process data\n",
    "    df_cleaned = utils.clean_and_standardize_data(df, gene, study_order, celltype_order)\n",
    "    \n",
    "    # Heatmap\n",
    "    plot_dir = os.path.join(main_dir, 'P06_Foxf2_per_celltype', 'plots')\n",
    "    with rc_context({'figure.figsize': (5.5, 2.5), 'figure.dpi': 120}):\n",
    "        utils.create_heatmap(df_cleaned, gene, show=False)\n",
    "        for ext in [\".png\", \".svg\"]:\n",
    "            out_path = os.path.join(plot_dir, f'{date.today().strftime(\"%Y%m%d\")}_{gene}_study_by_celltype_heatmap{ext}')\n",
    "            plt.savefig(out_path, dpi=500, bbox_inches='tight')\n",
    "        plt.close()\n",
    "    \n",
    "    # Dotplot\n",
    "    utils.create_dotplot(df_cleaned, gene, min_tile=15, figsize=(12, 4), show=False)\n",
    "    for ext in [\".png\", \".svg\"]:\n",
    "        out_path = os.path.join(plot_dir, f'{date.today().strftime(\"%Y%m%d\")}_{gene}_study_by_celltype_dotplot{ext}')\n",
    "        plt.savefig(out_path, dpi=500, bbox_inches='tight')\n",
    "    plt.close()\n",
    "    \n",
    "    # cell numbers\n",
    "    #utils.get_cell_numbers(df_cleaned)\n",
    "    \n",
    "    print(f\"Completed processing {gene}\")"
   ]
  },
  {
   "cell_type": "markdown",
   "id": "2f4f83bd-148c-4937-be5a-c8de3f2126bb",
   "metadata": {},
   "source": [
    "## Incl zonation"
   ]
  },
  {
   "cell_type": "code",
   "execution_count": null,
   "id": "c04e2bab-c60a-445d-9e0a-d6021e6d4c09",
   "metadata": {},
   "outputs": [],
   "source": [
    "cluster_key = \"clusters2\"\n",
    "date_str_list = [\"20250306\"]\n",
    "path = Path(main_dir) / 'P06_Foxf2_per_celltype' / 'Other_genes_summarized' / 'incl_zonation'"
   ]
  },
  {
   "cell_type": "code",
   "execution_count": null,
   "id": "27e35907-4137-4d8f-af4e-c8310d82496c",
   "metadata": {},
   "outputs": [],
   "source": [
    "for gene in target_genes:\n",
    "    print(f\"Processing {gene}...\")\n",
    "        \n",
    "    df = pd.concat(\n",
    "        [pd.read_csv(f, sep=\";\") for f in path.glob(\"*.csv\") \n",
    "         if any(d in f.stem for d in date_str_list) and gene.lower() in f.stem.lower()],\n",
    "        ignore_index=True)\n",
    "    \n",
    "    # Process data\n",
    "    df_cleaned = utils.clean_and_standardize_data(df, gene, study_order_zonation, celltype_order_zonation, cluster_key=cluster_key)\n",
    "    \n",
    "    # Heatmap\n",
    "    plot_dir = os.path.join(main_dir, 'P06_Foxf2_per_celltype', 'plots')\n",
    "    with rc_context({'figure.figsize': (4.5, 3), 'figure.dpi': 120}):\n",
    "        utils.create_heatmap(df_cleaned, gene, cluster_key=cluster_key, show=False)\n",
    "        for ext in [\".png\", \".svg\"]:\n",
    "            out_path = os.path.join(plot_dir, f'{date.today().strftime(\"%Y%m%d\")}_{gene}_study_by_celltype_heatmap_incl_zonation{ext}')\n",
    "            plt.savefig(out_path, dpi=500, bbox_inches='tight')\n",
    "        plt.close()\n",
    "    \n",
    "    # Dotplot\n",
    "    utils.create_dotplot(df_cleaned, gene, min_tile=15, cluster_key=cluster_key, figsize=(14, 5.5), show=False)\n",
    "    for ext in [\".png\", \".svg\"]:\n",
    "        out_path = os.path.join(plot_dir, f'{date.today().strftime(\"%Y%m%d\")}_{gene}_study_by_celltype_dotplot_incl_zonation{ext}')\n",
    "        plt.savefig(out_path, dpi=500, bbox_inches='tight')\n",
    "    plt.close()\n",
    "    \n",
    "    # cell numbers\n",
    "    #utils.get_cell_numbers(df_cleaned)\n",
    "    \n",
    "    print(f\"Completed processing {gene}\")"
   ]
  },
  {
   "cell_type": "markdown",
   "id": "2b50bbcc-d764-49b9-8cc0-d3173fd8239e",
   "metadata": {},
   "source": [
    "# Session Info"
   ]
  },
  {
   "cell_type": "code",
   "execution_count": null,
   "id": "10331c8e-259c-4fe5-b4d4-8746d9752f2d",
   "metadata": {},
   "outputs": [],
   "source": [
    "sc.logging.print_versions()"
   ]
  },
  {
   "cell_type": "markdown",
   "id": "2b6a7e50-a4f5-4407-a077-d2525e5068b9",
   "metadata": {},
   "source": [
    "# Outdated code"
   ]
  },
  {
   "cell_type": "markdown",
   "id": "83417133-2911-4e71-a4b5-58f860c8b37a",
   "metadata": {},
   "source": [
    "### Merge EC zonation"
   ]
  },
  {
   "cell_type": "markdown",
   "id": "40002e0b-6b53-4de6-a8d6-6d88e65eda64",
   "metadata": {},
   "source": [
    "Outdated. Previously used to calculate weighted mean expression on ECs based on data from ECs split into zonation clusters. Now zonation clusters were merged already in anndata object, which is more accurate."
   ]
  },
  {
   "cell_type": "code",
   "execution_count": null,
   "id": "91568f9f-8d8c-472b-8231-9f2b0356bba4",
   "metadata": {},
   "outputs": [],
   "source": [
    "# merge EC zonation as weighted mean expression \n",
    "# in Yang2022 Winkler2022 Vanlandewijck2018"
   ]
  },
  {
   "cell_type": "code",
   "execution_count": null,
   "id": "a46162c6-41a1-48ee-befa-2df08aca65de",
   "metadata": {},
   "outputs": [],
   "source": [
    "#Vanlandewijck2018 = all[all.source == \"Vanlandewijck2018\"]\n",
    "#Vanlandewijck2018"
   ]
  },
  {
   "cell_type": "code",
   "execution_count": null,
   "id": "5ca00575-ee57-4e99-84fe-ba458ee2542d",
   "metadata": {},
   "outputs": [],
   "source": [
    "# rename\n",
    "#Vanlandewijck2018[\"clusters\"] = Vanlandewijck2018.loc[:,\"clusters\"].str.split(\"_\",expand=True)[0].tolist()\n",
    "#Vanlandewijck2018"
   ]
  },
  {
   "cell_type": "code",
   "execution_count": null,
   "id": "aedd1ff2-bbec-4f5e-8778-d445be48a61d",
   "metadata": {},
   "outputs": [],
   "source": [
    "#Winkler2022 = all[all.source == \"Winkler2022\"]\n",
    "#Winkler2022"
   ]
  },
  {
   "cell_type": "code",
   "execution_count": null,
   "id": "f0fe9115-bbc5-4514-a73d-34815b7a852b",
   "metadata": {},
   "outputs": [],
   "source": [
    "# rename\n",
    "#Winkler2022[\"clusters\"] = Winkler2022.loc[:,\"clusters\"].str.split(\"_\",expand=True)[0].tolist()\n",
    "#Winkler2022"
   ]
  },
  {
   "cell_type": "code",
   "execution_count": null,
   "id": "89b08d97-ead1-4f75-a57c-f0f869e55ffd",
   "metadata": {},
   "outputs": [],
   "source": [
    "# Yang2022 = all[all.source == \"Yang2022\"]\n",
    "# Yang2022"
   ]
  },
  {
   "cell_type": "code",
   "execution_count": null,
   "id": "cc6fc2d5-f967-44b7-ba01-ebcfd95c7a53",
   "metadata": {},
   "outputs": [],
   "source": [
    "# Yang2022[\"clusters\"] = Yang2022.loc[:,\"clusters\"].str.split(\"_\",expand=True)[0].tolist()\n",
    "# Yang2022"
   ]
  },
  {
   "cell_type": "code",
   "execution_count": null,
   "id": "ae6e0006-ee00-48f1-a3ff-ac7beb8362b5",
   "metadata": {},
   "outputs": [],
   "source": [
    "# remove original rows, then append new ones"
   ]
  },
  {
   "cell_type": "code",
   "execution_count": null,
   "id": "d80cf01e-8d56-4eb6-980a-940d16da350c",
   "metadata": {},
   "outputs": [],
   "source": [
    "# all.loc[Yang2022.index[0]:Yang2022.index[-1],:] = None\n",
    "# all.loc[Winkler2022.index[0]:Winkler2022.index[-1],:] = None\n",
    "# all.loc[Vanlandewijck2018.index[0]:Vanlandewijck2018.index[-1],:] = None\n",
    "# all = all.dropna()"
   ]
  },
  {
   "cell_type": "code",
   "execution_count": null,
   "id": "78fe3ecc-21da-4177-86a2-c199bcf66858",
   "metadata": {},
   "outputs": [],
   "source": [
    "# compute new rows via weighted mean"
   ]
  },
  {
   "cell_type": "code",
   "execution_count": null,
   "id": "34bf0fcb-47e1-4192-8ca4-d3297fa1e898",
   "metadata": {},
   "outputs": [],
   "source": [
    "# wm = lambda x: np.average(x, weights=Yang2022.loc[x.index, \"cell_number\"])\n",
    "\n",
    "# # Groupby and aggregate with namedAgg [1]:\n",
    "# Yang2022_weighted_mean = Yang2022.groupby([\"clusters\", \"gene\", \"source\", \"organism\"]).agg(cell_number=(\"cell_number\", \"sum\"),  \n",
    "#                                                                  mean_expression=(\"mean_expression\", wm),\n",
    "#                                                                  fraction_of_cells=(\"fraction_of_cells\", wm)\n",
    "#                                                                 )\n",
    "# Yang2022_weighted_mean=Yang2022_weighted_mean.reset_index()[Yang2022.columns]\n",
    "# Yang2022_weighted_mean"
   ]
  },
  {
   "cell_type": "markdown",
   "id": "f46d07f8-2486-4d65-b4f4-0b0d42f2f82c",
   "metadata": {},
   "source": [
    "Contains correct weighted mean of mean_expression and fraction_of_cell (double checked)"
   ]
  },
  {
   "cell_type": "code",
   "execution_count": null,
   "id": "f097f4c1-de17-43aa-a04e-e71108d79aca",
   "metadata": {},
   "outputs": [],
   "source": [
    "# wm = lambda x: np.average(x, weights=Vanlandewijck2018.loc[x.index, \"cell_number\"])\n",
    "\n",
    "# # Groupby and aggregate with namedAgg [1]:\n",
    "# Vanlandewijck2018_weighted_mean = Vanlandewijck2018.groupby([\"clusters\", \"gene\", \"source\", \"organism\"]).agg(cell_number=(\"cell_number\", \"sum\"),  \n",
    "#                                                                  mean_expression=(\"mean_expression\", wm),\n",
    "#                                                                  fraction_of_cells=(\"fraction_of_cells\", wm)\n",
    "#                                                                 )\n",
    "# Vanlandewijck2018_weighted_mean=Vanlandewijck2018_weighted_mean.reset_index()[Vanlandewijck2018.columns]\n",
    "# Vanlandewijck2018_weighted_mean"
   ]
  },
  {
   "cell_type": "code",
   "execution_count": null,
   "id": "44aff47b-0f41-482f-8d41-350f60afaaad",
   "metadata": {},
   "outputs": [],
   "source": [
    "# wm = lambda x: np.average(x, weights=Winkler2022.loc[x.index, \"cell_number\"])\n",
    "\n",
    "# # Groupby and aggregate with namedAgg [1]:\n",
    "# Winkler2022_weighted_mean = Winkler2022.groupby([\"clusters\", \"gene\", \"source\", \"organism\"]).agg(cell_number=(\"cell_number\", \"sum\"),  \n",
    "#                                                                  mean_expression=(\"mean_expression\", wm),\n",
    "#                                                                  fraction_of_cells=(\"fraction_of_cells\", wm)\n",
    "#                                                                 )\n",
    "# Winkler2022_weighted_mean=Winkler2022_weighted_mean.reset_index()[Winkler2022.columns]\n",
    "# Winkler2022_weighted_mean"
   ]
  },
  {
   "cell_type": "code",
   "execution_count": null,
   "id": "949b8f58-8a84-40a2-8129-a8e8140ee755",
   "metadata": {},
   "outputs": [],
   "source": [
    "# # append to all\n",
    "# all2 = pd.concat([all, Winkler2022_weighted_mean, Yang2022_weighted_mean, Vanlandewijck2018_weighted_mean], axis=0)\n",
    "# all2 = all2.reset_index().drop(\"index\",axis=1)"
   ]
  },
  {
   "cell_type": "markdown",
   "id": "7636478b-649f-42b5-949c-c5f714d4db51",
   "metadata": {},
   "source": [
    "### Complement missing celltypes "
   ]
  },
  {
   "cell_type": "code",
   "execution_count": null,
   "id": "47008ed7-8960-4cde-b074-6289b23650bb",
   "metadata": {},
   "outputs": [],
   "source": [
    "# complement missing celltypes as NA rows"
   ]
  },
  {
   "cell_type": "code",
   "execution_count": null,
   "id": "c378904d-689a-4e77-8f2c-b1eb319b7314",
   "metadata": {},
   "outputs": [],
   "source": [
    "# all_celltypes = pd.Series(all2.clusters.unique())\n",
    "# for s in all2.source.unique():\n",
    "#     # find cell types missing per source\n",
    "#     key_diff = set(all_celltypes).difference(all2[all2.source==s].clusters)\n",
    "#     where_diff = all_celltypes.isin(key_diff)\n",
    "#     missing_celltypes=all_celltypes[where_diff]\n",
    "#     # append these to all2 as NA row\n",
    "#     for m in missing_celltypes:\n",
    "#         all2.loc[len(all2)] = [m,None,None,None,s,None,None]\n",
    "\n",
    "# assert(len(all2) == len(all2.clusters.unique())*len(all2.source.unique()))"
   ]
  },
  {
   "cell_type": "markdown",
   "id": "e5bae2c1-9893-4052-9a58-f304ed37b4e5",
   "metadata": {},
   "source": [
    "---\n",
    "# Export HTML"
   ]
  },
  {
   "cell_type": "code",
   "execution_count": null,
   "id": "83914c30-e040-46e3-8ba1-f1fec0d0089a",
   "metadata": {},
   "outputs": [],
   "source": [
    "# Use nbconvert conda env\n",
    "! cp combine_foxf2_results.ipynb HTMLs/$(date '+%Y%m%d')_combine_foxf2_results.ipynb\n",
    "! jupyter nbconvert HTMLs/$(date '+%Y%m%d')_combine_foxf2_results.ipynb --to html_toc\n",
    "! rm HTMLs/$(date '+%Y%m%d')_combine_foxf2_results.ipynb"
   ]
  }
 ],
 "metadata": {
  "kernelspec": {
   "display_name": "Python 3 (ipykernel)",
   "language": "python",
   "name": "python3"
  },
  "language_info": {
   "codemirror_mode": {
    "name": "ipython",
    "version": 3
   },
   "file_extension": ".py",
   "mimetype": "text/x-python",
   "name": "python",
   "nbconvert_exporter": "python",
   "pygments_lexer": "ipython3"
  }
 },
 "nbformat": 4,
 "nbformat_minor": 5
}
