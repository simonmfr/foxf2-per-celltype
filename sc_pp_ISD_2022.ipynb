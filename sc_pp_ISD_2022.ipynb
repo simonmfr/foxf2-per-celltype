{
 "cells": [
  {
   "cell_type": "markdown",
   "id": "9bfa00be-69ba-4146-aba2-818b967492c3",
   "metadata": {
    "jp-MarkdownHeadingCollapsed": true,
    "tags": []
   },
   "source": [
    "<font size=\"+3.8\">Scanpy single-cell pre-processing</font>  \n",
    "<font size=\"+1.5\"></font>  "
   ]
  },
  {
   "cell_type": "markdown",
   "id": "563f0b43-ce10-475f-b355-6fa8a2406dad",
   "metadata": {},
   "source": [
    "Aim: Preprocess own mouse brain single-cell dataset"
   ]
  },
  {
   "cell_type": "markdown",
   "id": "213b058f-765f-4729-a049-1327f2759cc0",
   "metadata": {},
   "source": [
    "Mice: male, C57BL6J, age 8 weeks "
   ]
  },
  {
   "cell_type": "code",
   "execution_count": null,
   "id": "978a5daf-1d77-43b2-86ce-48cd9b9818c5",
   "metadata": {
    "tags": []
   },
   "outputs": [],
   "source": [
    "from datetime import date\n",
    "date.today().strftime('%d/%m/%Y')"
   ]
  },
  {
   "cell_type": "code",
   "execution_count": null,
   "id": "978fffab-61ea-42ee-a7da-16914773b7a3",
   "metadata": {
    "tags": []
   },
   "outputs": [],
   "source": [
    "import os\n",
    "os.getlogin()"
   ]
  },
  {
   "cell_type": "code",
   "execution_count": null,
   "id": "c4f25c8a-47e9-48b5-af79-04fe44b4068d",
   "metadata": {
    "tags": []
   },
   "outputs": [],
   "source": [
    "import numpy as np\n",
    "import pandas as pd\n",
    "import scanpy as sc\n",
    "import matplotlib.pyplot as plt\n",
    "import platform\n",
    "from matplotlib.pyplot import rc_context"
   ]
  },
  {
   "cell_type": "code",
   "execution_count": null,
   "id": "e1363e0f-f0da-43d8-805b-a78d4f45c6bc",
   "metadata": {},
   "outputs": [],
   "source": [
    "import utils"
   ]
  },
  {
   "cell_type": "code",
   "execution_count": null,
   "id": "03703760-6ff5-4f54-9495-5bbb2fae83a3",
   "metadata": {
    "tags": []
   },
   "outputs": [],
   "source": [
    "os.environ['CONDA_DEFAULT_ENV'] # conda env"
   ]
  },
  {
   "cell_type": "code",
   "execution_count": null,
   "id": "e898523b-a8b5-43db-a9fa-afe02234e60a",
   "metadata": {
    "tags": []
   },
   "outputs": [],
   "source": [
    "platform.platform()"
   ]
  },
  {
   "cell_type": "code",
   "execution_count": null,
   "id": "fc7d8b45-6ec5-428f-89f2-08540e479ab8",
   "metadata": {
    "tags": []
   },
   "outputs": [],
   "source": [
    "import warnings\n",
    "warnings.simplefilter(action='ignore', category=FutureWarning)\n",
    "warnings.simplefilter(action='ignore', category=UserWarning)"
   ]
  },
  {
   "cell_type": "code",
   "execution_count": null,
   "id": "f46a7618-6a0d-48a7-b77a-065afc204527",
   "metadata": {
    "tags": []
   },
   "outputs": [],
   "source": [
    "main_dir='\\\\\\srvisds1.srv.med.uni-muenchen.de\\BD-Dichgans\\SF' # Win\n",
    "main_dir='/Volumes/BD-Dichgans/SF' # Mac"
   ]
  },
  {
   "cell_type": "code",
   "execution_count": null,
   "id": "0eeb7e42-2e2d-47a8-8dd7-ba4ac147d573",
   "metadata": {},
   "outputs": [],
   "source": [
    "dataset_name = \"OwnData\"\n",
    "organism = \"Mouse\""
   ]
  },
  {
   "cell_type": "markdown",
   "id": "d75da520-0b28-417d-877e-f167db41ef30",
   "metadata": {},
   "source": [
    "# Load data"
   ]
  },
  {
   "cell_type": "markdown",
   "id": "00e3b5cb-f957-4175-aedf-471b195dfb60",
   "metadata": {},
   "source": [
    "## Raw"
   ]
  },
  {
   "cell_type": "code",
   "execution_count": null,
   "id": "a0585e49-717d-4146-8080-d9066e67f1f6",
   "metadata": {
    "tags": []
   },
   "outputs": [],
   "source": [
    "adata = sc.read_10x_h5(main_dir+\"\\\\P06_Foxf2_per_celltype\\\\scRNAseq\\Steffi_mouse_brain_scRNAseq\\\\Sample_22L000027_Naive\\\\outs\\\\filtered_feature_bc_matrix.h5\")"
   ]
  },
  {
   "cell_type": "code",
   "execution_count": null,
   "id": "8dd99cb9-ebf5-4f9f-abff-a614cbf8fb24",
   "metadata": {
    "tags": []
   },
   "outputs": [],
   "source": [
    "adata.var_names_make_unique()\n",
    "adata.obs_names_make_unique()"
   ]
  },
  {
   "cell_type": "code",
   "execution_count": null,
   "id": "59d794ce-469d-43cc-b50b-899045943da2",
   "metadata": {
    "tags": []
   },
   "outputs": [],
   "source": [
    "adata"
   ]
  },
  {
   "cell_type": "markdown",
   "id": "95761cc6-9b65-4b4d-acbe-aff0c520d170",
   "metadata": {},
   "source": [
    "## Previous work"
   ]
  },
  {
   "cell_type": "code",
   "execution_count": null,
   "id": "5ca6fc60-1719-49c2-8f80-3d1805d6ab4f",
   "metadata": {
    "tags": []
   },
   "outputs": [],
   "source": [
    "# load final file\n",
    "date_set='20230310'\n",
    "adata=sc.read_h5ad(os.path.join(main_dir,'P06_Foxf2_per_celltype', 'scRNAseq', 'Steffi_mouse_brain_scRNAseq', 'h5ad', date_set+'_heindl_normalised_logarithmised_annotated.h5ad'))\n",
    "adata.uns['log1p']['base'] = None"
   ]
  },
  {
   "cell_type": "code",
   "execution_count": null,
   "id": "cf28497e-23b2-4c37-b27b-2e5c5b8b7641",
   "metadata": {
    "tags": []
   },
   "outputs": [],
   "source": [
    "adata.layers[\"normalized\"] = adata.X\n",
    "adata.X.max()"
   ]
  },
  {
   "cell_type": "code",
   "execution_count": null,
   "id": "362d451c-b69b-4c18-a8bb-1a3956040fbe",
   "metadata": {
    "tags": []
   },
   "outputs": [],
   "source": [
    "adata"
   ]
  },
  {
   "cell_type": "markdown",
   "id": "3027ff04-085d-4348-9085-b198a784ec7a",
   "metadata": {},
   "source": [
    "# QC"
   ]
  },
  {
   "cell_type": "code",
   "execution_count": null,
   "id": "f9aa57ae-9cf4-4853-b7c2-172443a618d7",
   "metadata": {},
   "outputs": [],
   "source": [
    "# genes with highest fraction of counts per cell\n",
    "sc.pl.highest_expr_genes(adata, n_top=20, )"
   ]
  },
  {
   "cell_type": "code",
   "execution_count": null,
   "id": "bcf50ee3-3e26-40c9-9d91-c4025fd8966f",
   "metadata": {},
   "outputs": [],
   "source": [
    "# Basic filtering\n",
    "#sc.pp.filter_cells(adata, min_genes=200)\n",
    "#sc.pp.filter_genes(adata, min_cells=3)\n",
    "\n",
    "# do not filter genes for Tangram!"
   ]
  },
  {
   "cell_type": "code",
   "execution_count": null,
   "id": "93ea0cf3-8a03-4288-bf8c-2bb76ec498c8",
   "metadata": {},
   "outputs": [],
   "source": [
    "# Basic QC\n",
    "adata.var['mt'] = adata.var_names.str.startswith('mt-')  # annotate the group of mitochondrial genes as 'mt'\n",
    "sc.pp.calculate_qc_metrics(adata, qc_vars=['mt'], percent_top=None, log1p=False, inplace=True)\n",
    "sc.pl.violin(adata, ['n_genes_by_counts', 'total_counts', 'pct_counts_mt'],\n",
    "             jitter=0.4, multi_panel=True)"
   ]
  },
  {
   "cell_type": "code",
   "execution_count": null,
   "id": "5a8da157-aa95-4489-96d1-0b7aec4cfc9d",
   "metadata": {},
   "outputs": [],
   "source": [
    "sc.pl.scatter(adata, x='total_counts', y='pct_counts_mt')\n",
    "sc.pl.scatter(adata, x='total_counts', y='n_genes_by_counts')"
   ]
  },
  {
   "cell_type": "code",
   "execution_count": null,
   "id": "c597ad5c-1018-4486-b45f-8a703ed760d8",
   "metadata": {},
   "outputs": [],
   "source": [
    "# # Filtering\n",
    "# adata = adata[adata.obs.n_genes_by_counts < 7000, :]\n",
    "# adata = adata[adata.obs.n_genes_by_counts > 250, :]\n",
    "# adata = adata[adata.obs.pct_counts_mt < 15, :]"
   ]
  },
  {
   "cell_type": "code",
   "execution_count": null,
   "id": "ce770872-759d-4ecd-b2cf-31e7b0169a58",
   "metadata": {},
   "outputs": [],
   "source": [
    "# Filtering\n",
    "adata = adata[adata.obs.n_genes_by_counts < 7000, :]\n",
    "adata = adata[adata.obs.n_genes_by_counts > 200, :]\n",
    "adata = adata[adata.obs.pct_counts_mt < 20, :]"
   ]
  },
  {
   "cell_type": "code",
   "execution_count": null,
   "id": "5a7b3b58-c1df-4f1b-8043-c876f2683ac6",
   "metadata": {},
   "outputs": [],
   "source": [
    "adata"
   ]
  },
  {
   "cell_type": "code",
   "execution_count": null,
   "id": "69b29e23-370b-4bfc-a403-dbd6bfe55a56",
   "metadata": {},
   "outputs": [],
   "source": [
    "sc.pl.scatter(adata, x='total_counts', y='pct_counts_mt')\n",
    "sc.pl.scatter(adata, x='total_counts', y='n_genes_by_counts')"
   ]
  },
  {
   "cell_type": "code",
   "execution_count": null,
   "id": "4fc3b210-3103-4552-84ce-77c118358ae1",
   "metadata": {},
   "outputs": [],
   "source": [
    "# Basic QC\n",
    "adata.var['mt'] = adata.var_names.str.startswith('mt-')  # annotate the group of mitochondrial genes as 'mt'\n",
    "sc.pp.calculate_qc_metrics(adata, qc_vars=['mt'], percent_top=None, log1p=False, inplace=True)\n",
    "sc.pl.violin(adata, ['n_genes_by_counts', 'total_counts', 'pct_counts_mt'],\n",
    "             jitter=0.4, multi_panel=True)"
   ]
  },
  {
   "cell_type": "markdown",
   "id": "33f36a86-79a9-4a6b-ba27-0f859f5349bf",
   "metadata": {},
   "source": [
    "# Normalisation, logarithmization"
   ]
  },
  {
   "cell_type": "code",
   "execution_count": null,
   "id": "b02f50e8-7121-4fe2-9e70-864c690763e4",
   "metadata": {},
   "outputs": [],
   "source": [
    "adata.layers"
   ]
  },
  {
   "cell_type": "code",
   "execution_count": null,
   "id": "3ff4e4fa-17aa-4c6d-8af4-3ef6573767ca",
   "metadata": {},
   "outputs": [],
   "source": [
    "# show expression of 100 random genes (across all spots)\n",
    "import random\n",
    "import seaborn as sns\n",
    "random_genes=random.sample(range(0, adata.X.shape[1]), 100)\n",
    "adata_sub = adata[:,random_genes]\n",
    "exp=pd.DataFrame(adata_sub.X.todense())\n",
    "# plot\n",
    "pl1=sns.displot(data=pd.melt(exp),x='value',height=4,hue='variable',kind=\"kde\",warn_singular=False,legend=False,palette=list(np.repeat('#086da6',100)), lw=0.3) # genes with 0 expression are excluded\n",
    "pl1.set(xlim=(-0.5, 7),ylim=(0,0.007));"
   ]
  },
  {
   "cell_type": "code",
   "execution_count": null,
   "id": "c825f558-9994-4b2b-ba54-4f9ff6bba2e2",
   "metadata": {},
   "outputs": [],
   "source": [
    "sns.set(rc={'figure.figsize':(4,4)})\n",
    "sns.set_theme(style='white')\n",
    "pl=sns.histplot(data=pd.melt(exp),x='value',binwidth=0.5,legend=True,palette=list(np.repeat('#086da6',100))) # genes with 0 expression are excluded\n",
    "pl.set(xlim=(0, 20),ylim=(0,1e5));"
   ]
  },
  {
   "cell_type": "code",
   "execution_count": null,
   "id": "30f5249e-213f-42d1-a5f0-2934feedf541",
   "metadata": {},
   "outputs": [],
   "source": [
    "adata.layers[\"counts\"] = adata.X.copy() # save unnormalized raw RNA counts - retrieve via adata.X = adata.layers[\"counts\"]"
   ]
  },
  {
   "cell_type": "code",
   "execution_count": null,
   "id": "71feb4fb-0d29-40fe-b2c0-7a1dddfe85bf",
   "metadata": {},
   "outputs": [],
   "source": [
    "sc.pp.normalize_total(adata, inplace=True) # Normalize each spot by total counts over all genes, so that every spot has the same total count after normalization."
   ]
  },
  {
   "cell_type": "code",
   "execution_count": null,
   "id": "2b247767-e92c-42f1-8494-de2a6b219be3",
   "metadata": {},
   "outputs": [],
   "source": [
    "# show expression of 100 random genes (across all spots)\n",
    "adata_sub = adata[:,random_genes]\n",
    "exp=pd.DataFrame(adata_sub.X.todense())\n",
    "# plot\n",
    "pl=sns.displot(data=pd.melt(exp),x='value',height=4,hue='variable',kind=\"kde\",warn_singular=False,legend=False,palette=list(np.repeat('#086da6',100)), lw=0.3) # genes with 0 expression are excluded\n",
    "pl.set(xlim=(-0.25, 3.5),ylim=(0,0.005))"
   ]
  },
  {
   "cell_type": "code",
   "execution_count": null,
   "id": "9795f0da-7ac5-4310-a5cb-dd10a0fc7838",
   "metadata": {},
   "outputs": [],
   "source": [
    "pl=sns.histplot(data=pd.melt(exp),x='value',binwidth=0.5,legend=True,palette=list(np.repeat('#086da6',100))) # genes with 0 expression are excluded\n",
    "pl.set(xlim=(0, 20),ylim=(0,1e5));"
   ]
  },
  {
   "cell_type": "code",
   "execution_count": null,
   "id": "b5bc363f-7117-4ed9-a0f1-c2f8a41bd705",
   "metadata": {},
   "outputs": [],
   "source": [
    "sc.pp.log1p(adata) # X = log(X + 1)"
   ]
  },
  {
   "cell_type": "code",
   "execution_count": null,
   "id": "acbe17a9-ca11-45a2-af03-f2cfc374bc0c",
   "metadata": {},
   "outputs": [],
   "source": [
    "# show expression of 100 random genes (across all spots)\n",
    "adata_sub = adata[:,random_genes]\n",
    "exp=pd.DataFrame(adata_sub.X.todense())\n",
    "# plot\n",
    "pl=sns.displot(data=pd.melt(exp),x='value',height=4,hue='variable',kind=\"kde\",warn_singular=False,legend=False,palette=list(np.repeat('#086da6',100)), lw=0.5) # genes with 0 expression are excluded\n",
    "pl.set(xlim=(-0.25, 3.5),ylim=(0,0.005));"
   ]
  },
  {
   "cell_type": "code",
   "execution_count": null,
   "id": "8af14af5-f296-4d1d-bf89-4b2e3bab332d",
   "metadata": {},
   "outputs": [],
   "source": [
    "pl=sns.histplot(data=pd.melt(exp),x='value',binwidth=0.5,legend=True,palette=list(np.repeat('#086da6',100))); # genes with 0 expression are excluded\n",
    "pl.set(xlim=(0, 20),ylim=(0,1e5));"
   ]
  },
  {
   "cell_type": "code",
   "execution_count": null,
   "id": "c2f2e856-4a05-4bf9-b431-e83cc9900c86",
   "metadata": {},
   "outputs": [],
   "source": [
    "adata.layers[\"normalized\"] = adata.X.copy() # save normalized + log-transformed (but unscaled) counts - retrieve via adata.X = adata.layers[\"normalized\"]"
   ]
  },
  {
   "cell_type": "code",
   "execution_count": null,
   "id": "02ac4660-8029-4aee-8457-ae34b946d329",
   "metadata": {},
   "outputs": [],
   "source": [
    "# Identify highly-variable genes\n",
    "sc.pp.highly_variable_genes(adata)\n",
    "sc.pl.highly_variable_genes(adata)"
   ]
  },
  {
   "cell_type": "code",
   "execution_count": null,
   "id": "a9743c30-0921-47e1-a95d-21fc5ec13047",
   "metadata": {},
   "outputs": [],
   "source": [
    "adata"
   ]
  },
  {
   "cell_type": "code",
   "execution_count": null,
   "id": "3c7f2a07-6dc3-41a8-bb34-bbef01bfd363",
   "metadata": {},
   "outputs": [],
   "source": [
    "adata.layers"
   ]
  },
  {
   "cell_type": "markdown",
   "id": "bd14d228-749b-4a19-8cf7-cf84d97bb759",
   "metadata": {},
   "source": [
    "# Dim Reduction"
   ]
  },
  {
   "cell_type": "code",
   "execution_count": null,
   "id": "ef8e8215-3a1a-4259-8eb6-e21279551f0c",
   "metadata": {},
   "outputs": [],
   "source": [
    "# Run PCA\n",
    "with rc_context({'figure.figsize': (8, 8)}):\n",
    "    sc.tl.pca(adata, svd_solver='arpack')\n",
    "    sc.pl.pca(adata, color='Foxf2')"
   ]
  },
  {
   "cell_type": "code",
   "execution_count": null,
   "id": "77adfcb5-371f-4c79-908b-0172d2dc5902",
   "metadata": {},
   "outputs": [],
   "source": [
    "sc.pl.pca_variance_ratio(adata, log=True)"
   ]
  },
  {
   "cell_type": "code",
   "execution_count": null,
   "id": "adf305d1-eab7-40e3-adc5-b83f12c1dc74",
   "metadata": {},
   "outputs": [],
   "source": [
    "sc.pp.neighbors(adata)"
   ]
  },
  {
   "cell_type": "code",
   "execution_count": null,
   "id": "34979747-b103-4bc9-bcf6-486902b5ef51",
   "metadata": {},
   "outputs": [],
   "source": [
    "# Run UMAP\n",
    "sc.tl.umap(adata)"
   ]
  },
  {
   "cell_type": "code",
   "execution_count": null,
   "id": "466672e2-0f56-49b6-90aa-9e431b03f020",
   "metadata": {},
   "outputs": [],
   "source": [
    "list(adata.obs.columns)"
   ]
  },
  {
   "cell_type": "code",
   "execution_count": null,
   "id": "09b66d30-2001-41db-8b9d-9cfb0f6c16bd",
   "metadata": {},
   "outputs": [],
   "source": [
    "with rc_context({'figure.figsize': (9, 9)}):\n",
    "    sc.pl.umap(adata, color=['n_genes_by_counts', 'pct_counts_mt'], wspace=0.2)"
   ]
  },
  {
   "cell_type": "markdown",
   "id": "88f8e3c4-1ab7-4a2c-97a3-418eb89338b7",
   "metadata": {},
   "source": [
    "# Clustering"
   ]
  },
  {
   "cell_type": "code",
   "execution_count": null,
   "id": "59b5b2a7-a10c-44b4-a5d0-4d76ed6484d2",
   "metadata": {},
   "outputs": [],
   "source": [
    "# Run Leiden clustering\n",
    "sc.tl.leiden(adata, resolution=1.1)"
   ]
  },
  {
   "cell_type": "code",
   "execution_count": null,
   "id": "d9b0ab48-9493-4398-b6af-a98eeeb25752",
   "metadata": {},
   "outputs": [],
   "source": [
    "with rc_context({'figure.figsize': (10, 10)}):\n",
    "    sc.pl.umap(adata, color=['leiden'])"
   ]
  },
  {
   "cell_type": "markdown",
   "id": "cea9c601-4fee-441f-9962-d70d2d55c8b4",
   "metadata": {},
   "source": [
    "# Cell annotation"
   ]
  },
  {
   "cell_type": "code",
   "execution_count": null,
   "id": "96743e7d-08d1-47c4-89ec-3e8632937986",
   "metadata": {},
   "outputs": [],
   "source": [
    "adatatemp = adata.copy()"
   ]
  },
  {
   "cell_type": "markdown",
   "id": "b50be6ed-3b0c-415d-9f1a-956cce757b89",
   "metadata": {
    "tags": []
   },
   "source": [
    "## Cell Cycle"
   ]
  },
  {
   "cell_type": "code",
   "execution_count": null,
   "id": "15555d93-d5da-48ab-8fd0-74a4f161b582",
   "metadata": {},
   "outputs": [],
   "source": [
    "cell_cyle_genes = {\n",
    "\"G1\":[\"Ccne1\",\"Pttg1\"],\n",
    "\"G1/S\":[\"Slbp\",\"Cdca7\",\"Ung\",\"Cdc6\",\"Pcna\",\"Mcm5\",\"Orc1\",\"Dtl\"],\n",
    "\"S\":[\"Rrm2\",\"E2f8\",\"Atad2\"],\n",
    "\"G2\":[\"Ccnf\",\"Cdca8\",\"Hjurp\",\"Cdk1\",\"Top2a\",\"Kif23\"],\n",
    "\"G2/M\":[\"Kpna2\",\"Bub1b\",\"Tacc3\"],\n",
    "\"M\":[\"Plk1\",\"Mapk13\",\"Aurka\",\"Tpx2\"]\n",
    "}"
   ]
  },
  {
   "cell_type": "markdown",
   "id": "490b85d9-2f7d-4d4d-840c-7beece17afca",
   "metadata": {},
   "source": [
    "Score groups:"
   ]
  },
  {
   "cell_type": "code",
   "execution_count": null,
   "id": "61a248a2-9dc7-48f4-8ff9-e56373792317",
   "metadata": {},
   "outputs": [],
   "source": [
    "def sort_and_score(adatatemp, marker_genes):\n",
    "    \n",
    "    marker_genes_in_data = {}\n",
    "    for ct, markers in marker_genes.items():\n",
    "        markers_found = []\n",
    "        for marker in markers:\n",
    "            if marker in adatatemp.var.index:\n",
    "                markers_found.append(marker)\n",
    "        if markers_found:\n",
    "            marker_genes_in_data[ct] = markers_found\n",
    "\n",
    "    for key in marker_genes_in_data.keys():\n",
    "        sc.tl.score_genes(adatatemp, marker_genes_in_data[key], score_name=key)\n",
    "        \n",
    "    return adatatemp, marker_genes_in_data"
   ]
  },
  {
   "cell_type": "code",
   "execution_count": null,
   "id": "1f0e387f-825e-4090-946d-4b33b91d64cf",
   "metadata": {},
   "outputs": [],
   "source": [
    "adatatemp, marker_genes_in_data = sort_and_score(adatatemp, cell_cyle_genes)"
   ]
  },
  {
   "cell_type": "code",
   "execution_count": null,
   "id": "8aae2637-17a2-4470-81cf-51db22d90fd4",
   "metadata": {
    "tags": []
   },
   "outputs": [],
   "source": [
    "with rc_context({'figure.figsize': (6,6)}):\n",
    "    sc.pl.umap(\n",
    "    adatatemp,\n",
    "    color=marker_genes_in_data.keys(), \n",
    "    frameon= False, ncols=3,\n",
    "    cmap='RdYlBu_r', vmin=0, vmax=0.3, \n",
    "    size=14, sort_order=True\n",
    "    )"
   ]
  },
  {
   "cell_type": "markdown",
   "id": "2033545b-2bce-4949-905a-77d014fea5a2",
   "metadata": {},
   "source": [
    "Individual marker genes:"
   ]
  },
  {
   "cell_type": "code",
   "execution_count": null,
   "id": "ad6ae373-a949-41cb-b6f1-5f0531449907",
   "metadata": {},
   "outputs": [],
   "source": [
    "for ct in marker_genes_in_data:\n",
    "    print(f\"{ct.upper()}:\")  # print cell subtype name\n",
    "    sc.pl.umap(\n",
    "        adata,\n",
    "        color=marker_genes_in_data[ct],\n",
    "        vmin=0,\n",
    "        vmax=0.3,\n",
    "        #vmax=\"p99\",  # set vmax to the 99th percentile of the gene count instead of the maximum, to prevent outliers from making expression in other cells invisible. Note that this can cause problems for extremely lowly expressed genes.\n",
    "        sort_order=True,  # do not plot highest expression on top, to not get a biased view of the mean expression among cells\n",
    "        frameon=False, cmap=\"Reds\",\n",
    "    )\n",
    "    print(\"\\n\\n\\n\")  # print white space for legibility"
   ]
  },
  {
   "cell_type": "markdown",
   "id": "153066f0-6845-4848-84eb-25d9172d57ff",
   "metadata": {},
   "source": [
    "## Cell types"
   ]
  },
  {
   "cell_type": "markdown",
   "id": "34b7f394-bbf5-41a3-8706-230ec3a85bd8",
   "metadata": {},
   "source": [
    "|Vascular     |EC         |Pericytes|SMCs   |Fibroblasts|Oligos|OPCs         |Ependymal|Neurons    |immature/migrating Neurons|Astrocytes|Microglia|Immune (broad/hematopoetic)|Macrophages     |Macrophages/Microglia|Monocytes|Mononcytes/B-cells|Granulocytes|B-cells|T/NK cells|\n",
    "|---          |---        |---      |---    |---        |---   |---          |---      |---        |---   |---       |---      |---                        |---             |---|---|---|---|---|---|\n",
    "|PDGFRA =CD140A|CLDN5      |VTN      |ACTA2  |DCN        |MBP   |CSPG4 =NG2    |PIFO     |RBFOX3 =NEUN|DCX   |AQP4      |AIF1     |PTPRC =CD45                 |CD14            |TREM2|CCR2|CD74|CD16/32|CD19|CD4|\n",
    "|MCAM =CD146   |PECAM1 =CD31|PDGFRB   |MYOCD  |COL6A1     |ENPP2 |PDGFRA =CD140A|FOXJ1    |TUBB3      ||          |         |                           |ITGB2 =CD18 =CD11B||||ITGB2 =CD18 =CD11B||CD8A|\n",
    "|FOXF2        |           |         |       |COL3A1     |      |             |DYNLRB2  |           ||          |         |                           |CD86            ||||CD15||CD8B|\n",
    "|             |           |         |       |           |      |             |MEIG1    |           ||          |         |                           |ADGRE1 =F4/80    ||||||IL2RB|\n",
    "||||||||||||||||||||IFNG|"
   ]
  },
  {
   "cell_type": "code",
   "execution_count": null,
   "id": "54972ae2-894a-46ff-97a5-b948a9dd5f35",
   "metadata": {},
   "outputs": [],
   "source": [
    "marker_genes = {\n",
    "'Vascular': ['Pdgfra','Mcam'],\n",
    "'ECs': ['Cldn5', 'Pecam1'], \n",
    "'Pericytes': ['Vtn','Pdgfrb'],\n",
    "'SMCs': ['Acta2', 'Myocd'], \n",
    "'Fibroblasts': ['Dcn', 'Col6a1', 'Col3a1'], \n",
    "'Oligodendrocytes': ['Mbp', 'Enpp2'], \n",
    "'OPCs': ['Cspg4', 'Pdgfra'], \n",
    "'Ependymal cells': ['Pifo','Foxj1','Dynlrb2','Meig1'],\n",
    "'Neurons': ['Rbfox3', 'Tubb3'], \n",
    "'immature/migrating Neurons': ['Dcx'], \n",
    "'Astrocytes': ['Aqp4', 'Aldoc'], \n",
    "'Microglia': ['Aif1', 'Tmem119'], \n",
    "'Immune': ['Ptprc','Trem2'],\n",
    "'Monocytes/Macrophages': ['Cd14', 'Itgb2', 'Cd86', 'Adgre1','Ccr2'], \n",
    "'Mononcytes/B-cells': ['Cd74'],\n",
    "'B cells': ['Cd19'], \n",
    "'T/NK cells': ['Cd4','Cd8a','Cd8b','Cd3e', 'Il2rb', 'Lat','Ifng'],\n",
    "'Granulocytes': ['Cd16','Itgb2','Cd15'],\n",
    "'Neutrophils': ['S100a9']\n",
    "}"
   ]
  },
  {
   "cell_type": "markdown",
   "id": "0fb2eaed-4e46-48ff-a95b-0b37e7ed7537",
   "metadata": {},
   "source": [
    "Score groups:"
   ]
  },
  {
   "cell_type": "code",
   "execution_count": null,
   "id": "0ce13f2a-55e1-43ab-8be2-256da77864bb",
   "metadata": {},
   "outputs": [],
   "source": [
    "# load above\n",
    "adatatemp, marker_genes_in_data = sort_and_score(adatatemp, marker_genes)"
   ]
  },
  {
   "cell_type": "code",
   "execution_count": null,
   "id": "14728cd5-0cf5-4414-873a-ef6ade54d4f6",
   "metadata": {
    "tags": []
   },
   "outputs": [],
   "source": [
    "with rc_context({'figure.figsize': (6,6)}):\n",
    "    sc.pl.umap(\n",
    "    adatatemp,\n",
    "    color=marker_genes_in_data.keys(), \n",
    "    frameon= False, ncols=3,\n",
    "    cmap='RdYlBu_r', vmin=0, vmax=0.3, \n",
    "    size=10, sort_order=True\n",
    "    )"
   ]
  },
  {
   "cell_type": "markdown",
   "id": "098c7b0f-acca-4cc6-9d80-6d062951ba2f",
   "metadata": {},
   "source": [
    "Individual marker genes:"
   ]
  },
  {
   "cell_type": "code",
   "execution_count": null,
   "id": "ee6d323a-86dc-4e13-9824-409520455ac8",
   "metadata": {},
   "outputs": [],
   "source": [
    "for ct in marker_genes_in_data:\n",
    "    print(f\"{ct.upper()}:\")  # print cell subtype name\n",
    "    sc.pl.umap(\n",
    "        adata,\n",
    "        size=8,\n",
    "        color=marker_genes_in_data[ct],\n",
    "        vmin=0,\n",
    "        vmax=0.9,\n",
    "        #vmax=\"p99\",  # set vmax to the 99th percentile of the gene count instead of the maximum, to prevent outliers from making expression in other cells invisible. Note that this can cause problems for extremely lowly expressed genes.\n",
    "        sort_order=True,  # do not plot highest expression on top, to not get a biased view of the mean expression among cells\n",
    "        frameon=False,\n",
    "        cmap=\"Reds\",  # or choose another color map e.g. from here: https://matplotlib.org/stable/tutorials/colors/colormaps.html\n",
    "    )\n",
    "    print(\"\\n\\n\\n\")  # print white space for legibility"
   ]
  },
  {
   "cell_type": "code",
   "execution_count": null,
   "id": "55ff1fca-631b-4ec5-b08d-1f922f7e1b17",
   "metadata": {
    "tags": []
   },
   "outputs": [],
   "source": [
    "# plot marker genes\n",
    "#plt.rcParams['figure.figsize'] = [8, 6] # set plot sizes\n",
    "#marker_genes = [\"Pdgfra\", \"Mcam\",\"Foxf2\", \"Pecam1\", \"Cldn5\",\"Vtn\", \"Pdgfrb\",\"Acta2\", \"Myocd\",\"Dcn\", \"Col6a1\", \"Mbp\",\"Enpp2\",\"Cspg4\",\"Pifo\",\"Foxj1\",\"Dynlrb2\",\"Meig1\",\"Rbfox3\",\"Tubb3\",\"Dcx\",\"Aqp4\", \"Aif1\", \"Ptprc\", \"Ccr2\",\"Adgre1\",\"Itgb2\",\"Cd14\",\"Cd86\",\"Trem2\",\"Vcan\",\"Cd4\",\"Cd19\", \"Cd8a\",\"Il2rb\",\"Cd244\", \"Cd74\",\"Cd68\",\"Ifng\",\"Ptgdr2\",\"Ccr3\"]\n",
    "#marker_genes=[x for x in marker_genes if x in list(adata.var_names)] # remove those not in adata.var_names\n",
    "#sc.pl.umap(adata, ncols=3, color=marker_genes, size=35)"
   ]
  },
  {
   "cell_type": "code",
   "execution_count": null,
   "id": "5eeec314-e99e-49be-95d5-afa17212d07d",
   "metadata": {},
   "outputs": [],
   "source": [
    "# plot cell markers used by Christina\n",
    "import ast\n",
    "with open(main_dir+'\\P6_Visium_Christina\\Tangram\\cell_markers_from_Christina.txt') as f:\n",
    "    data = f.read()\n",
    "d = ast.literal_eval(data) # load json\n",
    "markers_christina = pd.DataFrame(dict([ (k,pd.Series(v)) for k,v in d.items() ])) # turn to pd.df\n",
    "markers_christina.head(8)"
   ]
  },
  {
   "cell_type": "code",
   "execution_count": null,
   "id": "372969ac-b1d1-4890-9cef-f1343ba08914",
   "metadata": {},
   "outputs": [],
   "source": [
    "markers_christina=sum(markers_christina.transpose().values.tolist(),[]) # turn to list\n",
    "markers_christina=[x for x in markers_christina if str(x) != 'nan'] # remove nan\n",
    "markers_christina=[x for x in markers_christina if x in list(adata.var_names)] # remove those not in adata.var_names"
   ]
  },
  {
   "cell_type": "code",
   "execution_count": null,
   "id": "196f31ae-a4f0-469a-93a3-00525fedf0fc",
   "metadata": {},
   "outputs": [],
   "source": [
    "sc.pl.dotplot(adata, var_names=markers_christina, groupby=\"leiden\")"
   ]
  },
  {
   "cell_type": "code",
   "execution_count": null,
   "id": "b20750ce-4b32-42a5-b2ad-ff7b532b7f44",
   "metadata": {},
   "outputs": [],
   "source": [
    "plt.rcParams['figure.figsize'] = [8, 6] # set plot sizes\n",
    "marker_genes = sum(list(d.values()), [])\n",
    "sc.pl.umap(adata, ncols=4, color=markers_christina)"
   ]
  },
  {
   "cell_type": "markdown",
   "id": "e543e6d3-a680-4c41-b44a-edce2fce6ea7",
   "metadata": {},
   "source": [
    "## DE analysis"
   ]
  },
  {
   "cell_type": "code",
   "execution_count": null,
   "id": "a3aa708b-9ed4-41c1-9610-a4060cba8fbf",
   "metadata": {},
   "outputs": [],
   "source": [
    "# Run DE test for annotation (Wilcoxon)\n",
    "sc.tl.rank_genes_groups(adata, 'leiden', method='wilcoxon', key_added='wilcoxon')\n",
    "sc.pl.rank_genes_groups(adata, n_genes=20, sharey=False, ncols=3, fontsize=13, key='wilcoxon')"
   ]
  },
  {
   "cell_type": "code",
   "execution_count": null,
   "id": "9925eaa7-d321-41d2-8535-ff35e6627993",
   "metadata": {},
   "outputs": [],
   "source": [
    "# Dotplot\n",
    "sc.tl.dendrogram(adata, groupby=\"leiden\")\n",
    "sc.pl.rank_genes_groups_dotplot(adata, n_genes=5, key=\"wilcoxon\", groupby=\"leiden\");"
   ]
  },
  {
   "cell_type": "markdown",
   "id": "d7b9b8d5-da35-4c06-8248-cec470a82a7e",
   "metadata": {},
   "source": [
    "## Annotation"
   ]
  },
  {
   "cell_type": "code",
   "execution_count": null,
   "id": "0bd9d921-f713-4845-8c81-78295dd00554",
   "metadata": {},
   "outputs": [],
   "source": [
    "plt.rcParams['figure.figsize'] = [7,7] # set plot sizes\n",
    "sc.pl.umap(adata, color=['n_genes_by_counts', 'total_counts', 'pct_counts_mt'], size=25)"
   ]
  },
  {
   "cell_type": "code",
   "execution_count": null,
   "id": "a2317b14-9d6c-4b15-b0a7-9c168c3d992d",
   "metadata": {},
   "outputs": [],
   "source": [
    "utils.cluster_small_multiples(adata, clust_key=\"leiden\")"
   ]
  },
  {
   "cell_type": "code",
   "execution_count": null,
   "id": "aa092ab7-7c7e-4a64-8a48-a4051b035fa4",
   "metadata": {},
   "outputs": [],
   "source": [
    "# Rename clusters\n",
    "# filtering  cells:\n",
    "    #adata = adata[adata.obs.n_genes_by_counts < 7000, :]\n",
    "    #adata = adata[adata.obs.n_genes_by_counts > 200, :]\n",
    "    #adata = adata[adata.obs.pct_counts_mt < 20, :]\n",
    "# not regressing out any covariates\n",
    "# clustering resolution 0.15\n",
    "old_to_new = {\n",
    "    '0':'Microglia/Macrophages','1':'Astrocytes',\n",
    "    '2':'Microglia/Macrophages','3':'Endothelial cells',\n",
    "    '4':'Microglia/Macrophages','5':'Neurons',\n",
    "    '6':'Neurons','7':'Neurons',\n",
    "    '8':'Astrocytes','9':'Neurons',\n",
    "    '10':'Astrocytes','11':'SMCs',\n",
    "    '12':'Pericytes','13':'Microglia/Macrophages',\n",
    "    '14':'Immune_Other','15':'Endothelial cells',\n",
    "    '16':'Neurons','17':'Microglia/Macrophages',\n",
    "    '18':'Oligos','19':'Unknown',\n",
    "    '20':'OPCs','21':'Neurons',\n",
    "    '22':'Unknown','23':'Immune_Other',\n",
    "    '24':'Microglia/Macrophages'\n",
    "}"
   ]
  },
  {
   "cell_type": "code",
   "execution_count": null,
   "id": "e0816f56-9f20-48d7-9e08-5842a0295657",
   "metadata": {},
   "outputs": [],
   "source": [
    "adata.obs['clusters'] = (\n",
    "    adata.obs['leiden'].map(old_to_new).astype('category')\n",
    ")"
   ]
  },
  {
   "cell_type": "code",
   "execution_count": null,
   "id": "93e51d65-8046-4dec-9c53-91d381c80e93",
   "metadata": {},
   "outputs": [],
   "source": [
    "plt.rcParams['figure.figsize'] = [8, 8] # set plot sizes\n",
    "sc.pl.umap(adata, color=['clusters'], legend_loc='on data', title='', legend_fontweight='normal', legend_fontoutline=3, legend_fontsize=14)"
   ]
  },
  {
   "cell_type": "code",
   "execution_count": null,
   "id": "6cc78431-a3ab-4c2f-8c60-7e0f42076911",
   "metadata": {},
   "outputs": [],
   "source": [
    "# Dotplot\n",
    "# re-run DE analysis based on cluster names\n",
    "sc.tl.rank_genes_groups(adata, 'clusters', method='wilcoxon', key_added = \"wilcoxon\")\n",
    "# Plot\n",
    "sc.pl.rank_genes_groups_dotplot(adata, n_genes=5, key=\"wilcoxon\", groupby=\"clusters\")"
   ]
  },
  {
   "cell_type": "code",
   "execution_count": null,
   "id": "a7802cf5-e4ea-43e4-ac94-2f0fc8cf341a",
   "metadata": {},
   "outputs": [],
   "source": [
    "# exclude clusters with <50 cells\n",
    "cluster_counts = adata.obs['clusters'].value_counts()\n",
    "cluster_counts"
   ]
  },
  {
   "cell_type": "code",
   "execution_count": null,
   "id": "a2494327-073a-4191-8521-d2965568cb8a",
   "metadata": {},
   "outputs": [],
   "source": [
    "adata = adata[adata.obs['clusters'].isin(cluster_counts[cluster_counts>49].index)]"
   ]
  },
  {
   "cell_type": "code",
   "execution_count": null,
   "id": "ba8467cf-8c2a-42b4-b083-b3ec45435ca5",
   "metadata": {},
   "outputs": [],
   "source": [
    "plt.rcParams['figure.figsize'] = [8, 8] # set plot sizes\n",
    "sc.pl.umap(adata, color=['clusters'], legend_loc='on data', title='', legend_fontweight='normal', legend_fontoutline=3, legend_fontsize=14)"
   ]
  },
  {
   "cell_type": "markdown",
   "id": "aaa7964a-2c4b-4b3d-b42a-8bff4d39eb01",
   "metadata": {},
   "source": [
    "# Focus on: Foxf2"
   ]
  },
  {
   "cell_type": "code",
   "execution_count": null,
   "id": "299f8552-3252-49a4-b5b8-6d8592a79f23",
   "metadata": {},
   "outputs": [],
   "source": [
    "gene=\"Foxf2\""
   ]
  },
  {
   "cell_type": "code",
   "execution_count": null,
   "id": "77379f8f-c851-44a1-9713-425cf54a9bbf",
   "metadata": {},
   "outputs": [],
   "source": [
    "with rc_context({'figure.figsize': (7,7)}):\n",
    "    sc.pl.umap(adata, color=['clusters',gene], legend_loc='on data', title='', legend_fontweight='normal', legend_fontoutline=2, legend_fontsize=10, size=35, layer=\"normalized\")"
   ]
  },
  {
   "cell_type": "code",
   "execution_count": null,
   "id": "11ec7a22-7902-441e-a9de-4f03a466d926",
   "metadata": {},
   "outputs": [],
   "source": [
    "sc.pl.matrixplot(adata, [gene], groupby='clusters', swap_axes=False, figsize=(2,5), standard_scale=\"var\", layer=\"normalized\")"
   ]
  },
  {
   "cell_type": "code",
   "execution_count": null,
   "id": "1626ee14-b234-4257-bcf5-5b399d5e0f70",
   "metadata": {},
   "outputs": [],
   "source": [
    "sc.pl.dotplot(adata, [gene], groupby='clusters', swap_axes=False, figsize=(2,5), standard_scale=\"var\", layer=\"normalized\")"
   ]
  },
  {
   "cell_type": "code",
   "execution_count": null,
   "id": "37857636-604e-485a-ad7a-4c04d5a7d3b7",
   "metadata": {},
   "outputs": [],
   "source": [
    "utils.summarize_gene_expression(adata = adata, gene = gene, groupby = \"clusters\", \n",
    "                                study_name = dataset_name, organism = organism,\n",
    "                                export = True, output_dir = os.path.join(main_dir, \"P06_Foxf2_per_celltype\", \"Foxf2_summarized\")\n",
    "                               )"
   ]
  },
  {
   "cell_type": "markdown",
   "id": "8c17fa0d-2c17-406f-8383-28e9a1939c21",
   "metadata": {},
   "source": [
    "# Focus on: Other genes"
   ]
  },
  {
   "cell_type": "code",
   "execution_count": null,
   "id": "275f8cd1-93ad-478a-b5a0-6430d2972cba",
   "metadata": {},
   "outputs": [],
   "source": [
    "target_genes = [\"Foxo1\", \"Tek\", \"Nos3\", \"Htra1\", \"Egfl8\", \"Flt1\", \"Kdr\", \"Ptprb\", \"Nrp1\", \"Nrp2\", \"Efnb2\", \"Itgb1\", \"Itga6\", \"Angpt2\", \"Cdh5\", \"Cldn5\", \"Ocln\", \"Ctnnb1\"]"
   ]
  },
  {
   "cell_type": "code",
   "execution_count": null,
   "id": "97112d97-0d02-4351-bba2-37d2f4c329b1",
   "metadata": {},
   "outputs": [],
   "source": [
    "other_genes_results = {\n",
    "    gene: utils.summarize_gene_expression(adata, gene, study_name = dataset_name, organism = organism, groupby = \"clusters\",\n",
    "                                          output_dir=os.path.join(main_dir, \"P06_Foxf2_per_celltype\", \"Other_genes_summarized\"), export=True\n",
    "                                         ) for gene in target_genes\n",
    "}"
   ]
  },
  {
   "cell_type": "code",
   "execution_count": null,
   "id": "910dd6d6-8171-4387-846e-aa6ad69e203a",
   "metadata": {},
   "outputs": [],
   "source": [
    "# some plots"
   ]
  },
  {
   "cell_type": "code",
   "execution_count": null,
   "id": "0e1bac72-cd87-4035-9bd3-d2d27c7ecb21",
   "metadata": {
    "tags": []
   },
   "outputs": [],
   "source": [
    "sc.pl.matrixplot(adata, [target_genes[0]], groupby='clusters', swap_axes=False, figsize=(2,5), standard_scale=\"var\", layer=\"normalized\")"
   ]
  },
  {
   "cell_type": "code",
   "execution_count": null,
   "id": "eae52868-9a22-4e52-bf82-cd276b1d3702",
   "metadata": {},
   "outputs": [],
   "source": [
    "sc.pl.dotplot(adata, [target_genes[0]], groupby='clusters', swap_axes=False, figsize=(2,5), standard_scale=\"var\", layer=\"normalized\")"
   ]
  },
  {
   "cell_type": "code",
   "execution_count": null,
   "id": "6363ae0f-941b-432c-88f2-c852603ba282",
   "metadata": {},
   "outputs": [],
   "source": [
    "sc.pl.matrixplot(adata, [target_genes[1]], groupby='clusters', swap_axes=False, figsize=(2,5), standard_scale=\"var\", layer=\"normalized\")"
   ]
  },
  {
   "cell_type": "code",
   "execution_count": null,
   "id": "0733aaed-acd6-4cdc-84ba-43b88150e154",
   "metadata": {},
   "outputs": [],
   "source": [
    "sc.pl.dotplot(adata, [target_genes[1]], groupby='clusters', swap_axes=False, figsize=(2,5), standard_scale=\"var\", layer=\"normalized\")"
   ]
  },
  {
   "cell_type": "code",
   "execution_count": null,
   "id": "c301a7b3-b77b-47e4-9ebe-3ca915509fbf",
   "metadata": {},
   "outputs": [],
   "source": []
  },
  {
   "cell_type": "markdown",
   "id": "a6a73dfd-b974-457b-8065-1adb0d8f3237",
   "metadata": {},
   "source": [
    "# Focus on: Tspo (for Herms lab)"
   ]
  },
  {
   "cell_type": "code",
   "execution_count": null,
   "id": "071e0bc9-0e88-4027-860a-47dd8435e515",
   "metadata": {},
   "outputs": [],
   "source": [
    "# for Herms lab 02/2025"
   ]
  },
  {
   "cell_type": "code",
   "execution_count": null,
   "id": "ae398312-951c-4fb0-aa59-00d8b5bc425a",
   "metadata": {},
   "outputs": [],
   "source": [
    "gene=\"Tspo\""
   ]
  },
  {
   "cell_type": "code",
   "execution_count": null,
   "id": "bb6284ae-b41b-47f6-ae20-21443da6dba9",
   "metadata": {},
   "outputs": [],
   "source": [
    "sc.pl.matrixplot(adata, [gene], groupby='clusters', swap_axes=False, figsize=(2,5), standard_scale=\"var\", layer=\"normalized\")"
   ]
  },
  {
   "cell_type": "code",
   "execution_count": null,
   "id": "8bd4284c-d135-4f66-a7f8-449ba78c695c",
   "metadata": {},
   "outputs": [],
   "source": [
    "sc.pl.dotplot(adata, [gene], groupby='clusters', swap_axes=False, figsize=(2,5), standard_scale=\"var\", layer=\"normalized\")"
   ]
  },
  {
   "cell_type": "code",
   "execution_count": null,
   "id": "6a15e9fc-72a1-4de9-bc3e-c0fc304b91f1",
   "metadata": {},
   "outputs": [],
   "source": [
    "utils.summarize_gene_expression(adata = adata, gene = gene, groupby = \"clusters\"\n",
    "                          study_name = dataset_name, organism = organism,\n",
    "                          export = True, output_dir = os.path.join(main_dir, \"P06_Foxf2_per_celltype\", \"202502-Tspo-HermsLab\", \"Genes_summarized\")\n",
    "                         )"
   ]
  },
  {
   "cell_type": "code",
   "execution_count": null,
   "id": "d09ccc97-4979-4590-864a-d8e791efa2bb",
   "metadata": {},
   "outputs": [],
   "source": [
    "# mt genes\n",
    "mt_genes = [gene for gene in adata.var_names if gene.startswith(\"mt\")]\n",
    "mt_genes"
   ]
  },
  {
   "cell_type": "code",
   "execution_count": null,
   "id": "cfd03a0c-2988-4bd0-b8cb-f2dc7153c4c8",
   "metadata": {},
   "outputs": [],
   "source": [
    "mt_results = {\n",
    "    gene: utils.summarize_gene_expression(adata, gene, groupby = \"clusters\", study_name = dataset_name, organism = organism, \n",
    "                                    output_dir=os.path.join(main_dir, \"P06_Foxf2_per_celltype\", \"202502-Tspo-HermsLab\", \"Genes_summarized\"), export=True\n",
    "                                   ) for gene in mt_genes\n",
    "}"
   ]
  },
  {
   "cell_type": "code",
   "execution_count": null,
   "id": "e459fedb-dbbc-4680-b820-b1b19eecdbd2",
   "metadata": {},
   "outputs": [],
   "source": []
  },
  {
   "cell_type": "markdown",
   "id": "a2868c9f-7c6a-4350-bb4d-4af0a1b6a7ed",
   "metadata": {},
   "source": [
    "# Correlate gene expression (Foxf2 and Foxo1)"
   ]
  },
  {
   "cell_type": "markdown",
   "id": "ef8086ac-ef30-4fe0-b34c-288067f4215a",
   "metadata": {},
   "source": [
    "Using MAGIC denoising"
   ]
  },
  {
   "cell_type": "code",
   "execution_count": null,
   "id": "a35b6deb-5b97-4ebd-b39e-6351a7e1a70a",
   "metadata": {
    "tags": []
   },
   "outputs": [],
   "source": [
    "import magic\n",
    "import scprep"
   ]
  },
  {
   "cell_type": "markdown",
   "id": "dda4393d-e1bd-4770-9e09-0ff1b38eb787",
   "metadata": {},
   "source": [
    "## ECs"
   ]
  },
  {
   "cell_type": "code",
   "execution_count": null,
   "id": "74032eb4-71d0-4677-a4a7-01748602b918",
   "metadata": {
    "tags": []
   },
   "outputs": [],
   "source": [
    "gg = [\"Foxf2\",\"Foxo1\"]"
   ]
  },
  {
   "cell_type": "code",
   "execution_count": null,
   "id": "95d72857-6737-41a1-877f-ccf85fecc435",
   "metadata": {
    "tags": []
   },
   "outputs": [],
   "source": [
    "adata_EC = adata[adata.obs.clusters == \"Endothelial cells\"]"
   ]
  },
  {
   "cell_type": "code",
   "execution_count": null,
   "id": "8e15f3ab-47c4-4319-8fa5-213504819d29",
   "metadata": {
    "tags": []
   },
   "outputs": [],
   "source": [
    "adata_EC"
   ]
  },
  {
   "cell_type": "code",
   "execution_count": null,
   "id": "5151e281-b602-4650-a241-935ceb290cf3",
   "metadata": {
    "tags": []
   },
   "outputs": [],
   "source": [
    "#matrix = pd.DataFrame(adata_EC.X) # not compatible with sparse \n",
    "matrix = adata_EC.X\n",
    "matrix.columns = adata_EC.var.index.tolist()"
   ]
  },
  {
   "cell_type": "code",
   "execution_count": null,
   "id": "29148802-1f81-4be4-ab78-008aeabc70a4",
   "metadata": {
    "tags": []
   },
   "outputs": [],
   "source": [
    "cutoff_var = 1500"
   ]
  },
  {
   "cell_type": "code",
   "execution_count": null,
   "id": "d6213fc3-8093-44da-abdd-47b0608f2a75",
   "metadata": {
    "tags": []
   },
   "outputs": [],
   "source": [
    "scprep.plot.plot_library_size(matrix, cutoff=cutoff_var)"
   ]
  },
  {
   "cell_type": "code",
   "execution_count": null,
   "id": "158988a5-e084-4848-8d88-065dfcb29c94",
   "metadata": {
    "tags": []
   },
   "outputs": [],
   "source": [
    "# filter lowly expressed genes and cells with a small library size\n",
    "#matrix = scprep.filter.filter_library_size(matrix, cutoff=cutoff_var)\n",
    "#matrix.head()"
   ]
  },
  {
   "cell_type": "markdown",
   "id": "35957cef-32dd-4b01-b414-c395a9c7796a",
   "metadata": {},
   "source": [
    "Note: Skipped normalization as data is already log-normalized"
   ]
  },
  {
   "cell_type": "code",
   "execution_count": null,
   "id": "ef47ec7f-1540-44dc-9198-adbd90c2a8db",
   "metadata": {
    "tags": []
   },
   "outputs": [],
   "source": [
    "adata_EC.layers"
   ]
  },
  {
   "cell_type": "markdown",
   "id": "ffc21590-f0b8-4342-b72a-f3ecbf17221c",
   "metadata": {},
   "source": [
    "### Creating the MAGIC operator\n",
    "If you don't specify parameters, MAGIC creates an operator with the following default values: knn=5, knn_max = 3 * knn, decay=1, t=3."
   ]
  },
  {
   "cell_type": "code",
   "execution_count": null,
   "id": "3d2c16f5-8035-432d-82af-e172db33d67d",
   "metadata": {
    "tags": []
   },
   "outputs": [],
   "source": [
    "magic_op = magic.MAGIC()"
   ]
  },
  {
   "cell_type": "markdown",
   "id": "ffca4e40-e57d-4734-94d5-9de6568a10cc",
   "metadata": {},
   "source": [
    "### Running MAGIC with gene selection\n",
    "The magic_op.fit_transform function takes the normalized data and an array of selected genes as its arguments. If no genes are provided, MAGIC will return a matrix of all genes. The same can be achieved by substituting the array of gene names with genes='all_genes'."
   ]
  },
  {
   "cell_type": "code",
   "execution_count": null,
   "id": "ff6d69b9-f3fd-4088-9e64-15357ccc0764",
   "metadata": {
    "tags": []
   },
   "outputs": [],
   "source": [
    "%%time\n",
    "emt_magic = magic_op.fit_transform(adata_EC, genes=['Foxf2', 'Foxo1', 'Nos3'])"
   ]
  },
  {
   "cell_type": "markdown",
   "id": "18e128df-edd5-42d9-abb2-561ec78ee523",
   "metadata": {},
   "source": [
    "### Visualizing gene-gene relationships\n",
    "\n",
    "We can see gene-gene relationships much more clearly after applying MAGIC. Note that the change in absolute values of gene expression is not meaningful - the relative difference is all that matters."
   ]
  },
  {
   "cell_type": "code",
   "execution_count": null,
   "id": "f5fb56c5-767f-4782-88c1-bd8bee939ba1",
   "metadata": {
    "tags": []
   },
   "outputs": [],
   "source": [
    "np.corrcoef(emt_magic[:,['Foxf2','Foxo1']].X, rowvar = False)[0][1]"
   ]
  },
  {
   "cell_type": "code",
   "execution_count": null,
   "id": "0ef0cdb1-d772-4906-9388-1a8f0b4ea198",
   "metadata": {
    "tags": []
   },
   "outputs": [],
   "source": [
    "fig, (ax1, ax2) = plt.subplots(1,2, figsize=(16, 6))\n",
    "scprep.plot.scatter(x=adata_EC[:,'Foxf2'].X.todense(), y=adata_EC[:,'Foxo1'].X.todense(), c=adata_EC[:,'Nos3'].X.todense(), ax = ax1,\n",
    "                    xlabel='Foxf2', ylabel='Foxo1', legend_title=\"Nos3\", title='Before MAGIC')\n",
    "scprep.plot.scatter(x=emt_magic[:,'Foxf2'].X, y=emt_magic[:,'Foxo1'].X, c=emt_magic[:,'Nos3'].X, ax=ax2,\n",
    "                    xlabel='Foxf2', ylabel='Foxo1', legend_title=\"Nos3\", title='After MAGIC')\n",
    "plt.axline((0.3,0.3), slope=1, color=\"black\", alpha=0.3, linestyle=\"--\")\n",
    "plt.tight_layout()\n",
    "plt.show()"
   ]
  },
  {
   "cell_type": "markdown",
   "id": "ee8f503d-c5c5-44a0-9f4c-cb108d37d4ad",
   "metadata": {},
   "source": [
    "## PCs"
   ]
  },
  {
   "cell_type": "code",
   "execution_count": null,
   "id": "c90c17b7-d55a-4b4d-b864-3b8b8df1b26e",
   "metadata": {
    "tags": []
   },
   "outputs": [],
   "source": [
    "gg = [\"Foxf2\",\"Foxo1\"]"
   ]
  },
  {
   "cell_type": "code",
   "execution_count": null,
   "id": "07b9f4b0-bad2-4650-b53a-3a099e759ecc",
   "metadata": {
    "tags": []
   },
   "outputs": [],
   "source": [
    "adata_EC = adata[adata.obs.clusters == \"Pericytes\"]"
   ]
  },
  {
   "cell_type": "code",
   "execution_count": null,
   "id": "47b81242-8df5-44ea-84a5-7b9768a7133b",
   "metadata": {
    "tags": []
   },
   "outputs": [],
   "source": [
    "adata_EC"
   ]
  },
  {
   "cell_type": "code",
   "execution_count": null,
   "id": "36c02d39-e0e8-47ca-8a2f-2db6136946ae",
   "metadata": {
    "tags": []
   },
   "outputs": [],
   "source": [
    "#matrix = pd.DataFrame(adata_EC.X) # not compatible with sparse \n",
    "matrix = adata_EC.X\n",
    "matrix.columns = adata_EC.var.index.tolist()"
   ]
  },
  {
   "cell_type": "code",
   "execution_count": null,
   "id": "fcd81fac-ed61-4874-9cb9-acf34e5bc668",
   "metadata": {
    "tags": []
   },
   "outputs": [],
   "source": [
    "cutoff_var = 1500"
   ]
  },
  {
   "cell_type": "code",
   "execution_count": null,
   "id": "76fdde96-f719-49d2-8a18-b0c6bad9c8c1",
   "metadata": {
    "tags": []
   },
   "outputs": [],
   "source": [
    "scprep.plot.plot_library_size(matrix, cutoff=cutoff_var)"
   ]
  },
  {
   "cell_type": "code",
   "execution_count": null,
   "id": "036052ca-fbd7-4efd-80b7-c2a8f8d82d05",
   "metadata": {
    "tags": []
   },
   "outputs": [],
   "source": [
    "# filter lowly expressed genes and cells with a small library size\n",
    "#matrix = scprep.filter.filter_library_size(matrix, cutoff=cutoff_var)\n",
    "#matrix.head()"
   ]
  },
  {
   "cell_type": "markdown",
   "id": "3a335d2a-46ce-4be2-b885-e2a9e28600bc",
   "metadata": {},
   "source": [
    "Note: Skipped normalization as data is already log-normalized"
   ]
  },
  {
   "cell_type": "code",
   "execution_count": null,
   "id": "0efb0cef-46f2-4e52-a24e-5fff5963c808",
   "metadata": {
    "tags": []
   },
   "outputs": [],
   "source": [
    "adata_EC.layers"
   ]
  },
  {
   "cell_type": "markdown",
   "id": "595807e8-1cf8-4999-b22f-96d5f89b7870",
   "metadata": {},
   "source": [
    "### Creating the MAGIC operator\n",
    "If you don't specify parameters, MAGIC creates an operator with the following default values: knn=5, knn_max = 3 * knn, decay=1, t=3."
   ]
  },
  {
   "cell_type": "code",
   "execution_count": null,
   "id": "ae28f4a4-4192-4c49-bd6d-c41ac403d3bd",
   "metadata": {
    "tags": []
   },
   "outputs": [],
   "source": [
    "magic_op = magic.MAGIC()"
   ]
  },
  {
   "cell_type": "markdown",
   "id": "ee78a61d-da05-4e92-bebf-6f7fab9b4f69",
   "metadata": {},
   "source": [
    "### Running MAGIC with gene selection\n",
    "The magic_op.fit_transform function takes the normalized data and an array of selected genes as its arguments. If no genes are provided, MAGIC will return a matrix of all genes. The same can be achieved by substituting the array of gene names with genes='all_genes'."
   ]
  },
  {
   "cell_type": "code",
   "execution_count": null,
   "id": "dce5e266-0fe4-4281-a111-fabad8b63a59",
   "metadata": {
    "tags": []
   },
   "outputs": [],
   "source": [
    "%%time\n",
    "emt_magic = magic_op.fit_transform(adata_EC, genes=['Foxf2', 'Foxo1', 'Nos3'])"
   ]
  },
  {
   "cell_type": "markdown",
   "id": "183a77c2-4e98-412c-98ae-dd8078e67ade",
   "metadata": {},
   "source": [
    "### Visualizing gene-gene relationships\n",
    "\n",
    "We can see gene-gene relationships much more clearly after applying MAGIC. Note that the change in absolute values of gene expression is not meaningful - the relative difference is all that matters."
   ]
  },
  {
   "cell_type": "code",
   "execution_count": null,
   "id": "bdfbfb2f-1a3f-42ce-9c98-66913be5eb10",
   "metadata": {
    "tags": []
   },
   "outputs": [],
   "source": [
    "np.corrcoef(emt_magic[:,['Foxf2','Foxo1']].X, rowvar = False)[0][1]"
   ]
  },
  {
   "cell_type": "code",
   "execution_count": null,
   "id": "e3778301-dfe9-4027-8702-fbb5424ef7c5",
   "metadata": {
    "tags": []
   },
   "outputs": [],
   "source": [
    "fig, (ax1, ax2) = plt.subplots(1,2, figsize=(16, 6))\n",
    "scprep.plot.scatter(x=adata_EC[:,'Foxf2'].X.todense(), y=adata_EC[:,'Foxo1'].X.todense(), c=adata_EC[:,'Nos3'].X.todense(), ax = ax1,\n",
    "                    xlabel='Foxf2', ylabel='Foxo1', legend_title=\"Nos3\", title='Before MAGIC')\n",
    "scprep.plot.scatter(x=emt_magic[:,'Foxf2'].X, y=emt_magic[:,'Foxo1'].X, c=emt_magic[:,'Nos3'].X, ax=ax2,\n",
    "                    xlabel='Foxf2', ylabel='Foxo1', legend_title=\"Nos3\", title='After MAGIC')\n",
    "plt.axline((0.05,0.05), slope=1, color=\"black\", alpha=0.3, linestyle=\"--\")\n",
    "plt.tight_layout()\n",
    "plt.show()"
   ]
  },
  {
   "cell_type": "markdown",
   "id": "f11dca70-2e4c-463d-bbfd-9d7482f8bde7",
   "metadata": {},
   "source": [
    "## All cell types"
   ]
  },
  {
   "cell_type": "code",
   "execution_count": null,
   "id": "abd5e8bf-a082-4b7a-8a0c-87b71143ed86",
   "metadata": {
    "tags": []
   },
   "outputs": [],
   "source": [
    "gg = [\"Foxf2\",\"Foxo1\"]"
   ]
  },
  {
   "cell_type": "code",
   "execution_count": null,
   "id": "8aebec22-db1c-49db-8f60-a7a507361013",
   "metadata": {
    "tags": []
   },
   "outputs": [],
   "source": [
    "adata"
   ]
  },
  {
   "cell_type": "code",
   "execution_count": null,
   "id": "cd16e9fa-b345-4d6a-8a71-feb8ade0cb05",
   "metadata": {
    "tags": []
   },
   "outputs": [],
   "source": [
    "#matrix = pd.DataFrame(adata.X) # not compatible with sparse \n",
    "matrix = adata.X\n",
    "matrix.columns = adata.var.index.tolist()"
   ]
  },
  {
   "cell_type": "code",
   "execution_count": null,
   "id": "9e35e884-e4a1-47a1-aec3-b2a9f66ac451",
   "metadata": {
    "tags": []
   },
   "outputs": [],
   "source": [
    "cutoff_var = 700"
   ]
  },
  {
   "cell_type": "code",
   "execution_count": null,
   "id": "fc575006-e06b-4ca1-95b4-def932775450",
   "metadata": {
    "tags": []
   },
   "outputs": [],
   "source": [
    "scprep.plot.plot_library_size(matrix, cutoff=cutoff_var)"
   ]
  },
  {
   "cell_type": "code",
   "execution_count": null,
   "id": "c2610bfc-105b-4074-9678-172ee44a8686",
   "metadata": {
    "tags": []
   },
   "outputs": [],
   "source": [
    "# filter lowly expressed genes and cells with a small library size\n",
    "#matrix = scprep.filter.filter_library_size(matrix, cutoff=cutoff_var)\n",
    "#matrix.head()"
   ]
  },
  {
   "cell_type": "markdown",
   "id": "adf261e4-061e-4860-a05c-80458dfd33ed",
   "metadata": {},
   "source": [
    "Note: Skipped normalization as data is already log-normalized"
   ]
  },
  {
   "cell_type": "code",
   "execution_count": null,
   "id": "354e9339-fb29-4a49-89a0-242c562716b8",
   "metadata": {
    "tags": []
   },
   "outputs": [],
   "source": [
    "adata.layers"
   ]
  },
  {
   "cell_type": "markdown",
   "id": "f8095172-b332-4624-b829-ee88ac501607",
   "metadata": {},
   "source": [
    "# Correlate gene expression (TSPO and mt genes)  "
   ]
  },
  {
   "cell_type": "markdown",
   "id": "0091e26c-1fb1-4e3e-8c9e-fab1397effce",
   "metadata": {},
   "source": [
    "For Herms lab 02/2025"
   ]
  },
  {
   "cell_type": "code",
   "execution_count": null,
   "id": "81500b69-6425-4435-a711-ccb67e93e9ff",
   "metadata": {},
   "outputs": [],
   "source": [
    "mt_genes = [gene for gene in adata.var_names if gene.startswith(\"mt\")]\n",
    "mt_genes"
   ]
  },
  {
   "cell_type": "code",
   "execution_count": null,
   "id": "dbf8f69e-585c-4d85-a9d5-825d334d5882",
   "metadata": {
    "tags": []
   },
   "outputs": [],
   "source": [
    "gg = [\"Tspo\"] + mt_genes"
   ]
  },
  {
   "cell_type": "markdown",
   "id": "8ef2fa09-9c54-4d4d-8e81-ebb0218dd97c",
   "metadata": {},
   "source": [
    "## All cell types"
   ]
  },
  {
   "cell_type": "code",
   "execution_count": null,
   "id": "efb15d2c-4b3e-4f34-8903-dc5dfdc082bd",
   "metadata": {},
   "outputs": [],
   "source": [
    "celltype = \"AllCellTypes\""
   ]
  },
  {
   "cell_type": "code",
   "execution_count": null,
   "id": "e1e379fc-0bf2-4d41-b1a9-05d9d5608ac8",
   "metadata": {
    "tags": []
   },
   "outputs": [],
   "source": [
    "#matrix = pd.DataFrame(adata.X) # not compatible with sparse \n",
    "matrix = adata.X\n",
    "matrix.columns = adata.var.index.tolist()"
   ]
  },
  {
   "cell_type": "code",
   "execution_count": null,
   "id": "b3f38f28-81f7-460f-bf24-84f0635cc296",
   "metadata": {
    "tags": []
   },
   "outputs": [],
   "source": [
    "cutoff_var = 700"
   ]
  },
  {
   "cell_type": "code",
   "execution_count": null,
   "id": "af5947de-c930-4a51-814e-b1de82bf216e",
   "metadata": {
    "tags": []
   },
   "outputs": [],
   "source": [
    "scprep.plot.plot_library_size(matrix, cutoff=cutoff_var)"
   ]
  },
  {
   "cell_type": "code",
   "execution_count": null,
   "id": "b31791ab-3d6e-42ad-bda6-7e2151bc1026",
   "metadata": {
    "tags": []
   },
   "outputs": [],
   "source": [
    "adata.layers"
   ]
  },
  {
   "cell_type": "code",
   "execution_count": null,
   "id": "254890bc-be6e-4856-aad4-39e74ad64d60",
   "metadata": {
    "tags": []
   },
   "outputs": [],
   "source": [
    "magic_op = magic.MAGIC()"
   ]
  },
  {
   "cell_type": "code",
   "execution_count": null,
   "id": "2be90f8d-c1cc-4e1c-b0e0-baffd578e830",
   "metadata": {
    "tags": []
   },
   "outputs": [],
   "source": [
    "%%time\n",
    "emt_magic = magic_op.fit_transform(adata, genes=gg)"
   ]
  },
  {
   "cell_type": "code",
   "execution_count": null,
   "id": "1f246c98-0a1e-448d-8007-80a187b43c86",
   "metadata": {},
   "outputs": [],
   "source": [
    "gene_x = 'Tspo'\n",
    "correlations = []\n",
    "\n",
    "for gene_y in gg[1:]:  # Start from index 1 to skip 'Tspo'\n",
    "    corr = np.corrcoef(emt_magic[:, [gene_x, gene_y]].X, rowvar=False)[0, 1]\n",
    "    correlations.append((gene_x, gene_y, corr))\n",
    "\n",
    "    fig, (ax1, ax2) = plt.subplots(1, 2, figsize=(13, 6))\n",
    "\n",
    "    # Scatter plot before MAGIC\n",
    "    scprep.plot.scatter(x=adata[:, gene_x].X.todense(), y=adata[:, gene_y].X.todense(),\n",
    "                        c=adata[:, gene_x].X.todense(), ax=ax1,\n",
    "                        xlabel=gene_x, ylabel=gene_y, legend_title=gene_x, title='Before MAGIC')\n",
    "\n",
    "    # Scatter plot after MAGIC\n",
    "    scprep.plot.scatter(x=emt_magic[:, gene_x].X, y=emt_magic[:, gene_y].X,\n",
    "                        c=emt_magic[:, gene_x].X, ax=ax2,\n",
    "                        xlabel=gene_x, ylabel=gene_y, legend_title=gene_x, title='After MAGIC')\n",
    "\n",
    "    # Add correlation text to the second plot\n",
    "    ax2.text(0.75, 0.97, f\"r = {corr:.2f}\", transform=ax2.transAxes,\n",
    "             fontsize=15, verticalalignment='top', bbox=dict(facecolor='white', alpha=0.5))\n",
    "\n",
    "    #aplt.axline((0.1, 0.1), slope=1, color=\"black\", alpha=0.3, linestyle=\"--\")\n",
    "    plt.tight_layout()\n",
    "\n",
    "    # Save plot\n",
    "    plt.savefig(os.path.join(main_dir, 'P06_Foxf2_per_celltype', '202502-Tspo-HermsLab', \n",
    "                            'plots', 'scatter_plots', date.today().strftime(\"%Y%m%d\")+f'_{dataset_name}{organism}_{celltype}_{gene_x}_{gene_y}.png'), \n",
    "               dpi=500)\n",
    "\n",
    "    plt.show()"
   ]
  },
  {
   "cell_type": "code",
   "execution_count": null,
   "id": "d5d4f3cf-0379-43fe-a4fc-fb316228b9eb",
   "metadata": {},
   "outputs": [],
   "source": [
    "correlation_df = pd.DataFrame(correlations, columns=[\"GeneA\", \"GeneB\", \"PearsonR\"])\n",
    "correlation_df[\"CellType\"] = celltype\n",
    "correlation_df = correlation_df.sort_values(\"PearsonR\")\n",
    "correlation_df"
   ]
  },
  {
   "cell_type": "code",
   "execution_count": null,
   "id": "e862f30a-1447-4f68-8a15-80b5c2e92580",
   "metadata": {},
   "outputs": [],
   "source": [
    "correlation_df.to_excel(os.path.join(main_dir, \"P06_Foxf2_per_celltype\", \"202502-Tspo-HermsLab\", date.today().strftime(\"%Y%m%d\") + f\"_{dataset_name}{organism}_MAGIC_correlation_results_{celltype}.xlsx\"), index=False)"
   ]
  },
  {
   "cell_type": "markdown",
   "id": "81698c25-a93e-463f-8f75-b8b8b0a9a9f3",
   "metadata": {},
   "source": [
    "## ECs"
   ]
  },
  {
   "cell_type": "code",
   "execution_count": null,
   "id": "5804e5ec-e0ed-46ed-adec-5fb72077ffd4",
   "metadata": {},
   "outputs": [],
   "source": [
    "celltype = \"Endothelial cells\""
   ]
  },
  {
   "cell_type": "code",
   "execution_count": null,
   "id": "025a0ea1-aecd-4424-80a3-cfc5bf33c20b",
   "metadata": {
    "tags": []
   },
   "outputs": [],
   "source": [
    "adata_EC = adata[adata.obs.clusters == celltype]"
   ]
  },
  {
   "cell_type": "code",
   "execution_count": null,
   "id": "c240c98d-dd06-4795-8c59-7b4c882a8105",
   "metadata": {
    "tags": []
   },
   "outputs": [],
   "source": [
    "adata_EC"
   ]
  },
  {
   "cell_type": "code",
   "execution_count": null,
   "id": "852b6214-303e-4c23-a991-462b0bbf9f46",
   "metadata": {
    "tags": []
   },
   "outputs": [],
   "source": [
    "#matrix = pd.DataFrame(adata_EC.X) # not compatible with sparse \n",
    "matrix = adata_EC.X\n",
    "matrix.columns = adata_EC.var.index.tolist()"
   ]
  },
  {
   "cell_type": "code",
   "execution_count": null,
   "id": "c147b515-0414-47f3-90dd-891cd9574220",
   "metadata": {
    "tags": []
   },
   "outputs": [],
   "source": [
    "cutoff_var = 1500"
   ]
  },
  {
   "cell_type": "code",
   "execution_count": null,
   "id": "1681ef6d-7731-4bfc-9fb4-d87a503fab00",
   "metadata": {
    "tags": []
   },
   "outputs": [],
   "source": [
    "scprep.plot.plot_library_size(matrix, cutoff=cutoff_var)"
   ]
  },
  {
   "cell_type": "code",
   "execution_count": null,
   "id": "bbbd2df3-e5e5-4916-9a20-7713dd254845",
   "metadata": {
    "tags": []
   },
   "outputs": [],
   "source": [
    "adata_EC.layers"
   ]
  },
  {
   "cell_type": "code",
   "execution_count": null,
   "id": "dfb87635-f0ba-4d56-8123-c2a04c2dc64d",
   "metadata": {
    "tags": []
   },
   "outputs": [],
   "source": [
    "magic_op = magic.MAGIC()"
   ]
  },
  {
   "cell_type": "code",
   "execution_count": null,
   "id": "6651f9a0-3676-416d-a703-3a382cfb890e",
   "metadata": {
    "tags": []
   },
   "outputs": [],
   "source": [
    "%%time\n",
    "emt_magic = magic_op.fit_transform(adata_EC, genes=gg)"
   ]
  },
  {
   "cell_type": "code",
   "execution_count": null,
   "id": "fd6ef79a-d2de-4a86-94cb-94a31618bd8b",
   "metadata": {
    "tags": []
   },
   "outputs": [],
   "source": [
    "gene_x = 'Tspo'\n",
    "correlations = []\n",
    "\n",
    "for gene_y in gg[1:]:  # Start from index 1 to skip 'Tspo'\n",
    "    corr = np.corrcoef(emt_magic[:, [gene_x, gene_y]].X, rowvar=False)[0, 1]\n",
    "    correlations.append((gene_x, gene_y, corr))\n",
    "\n",
    "    fig, (ax1, ax2) = plt.subplots(1, 2, figsize=(13, 6))\n",
    "\n",
    "    # Scatter plot before MAGIC\n",
    "    scprep.plot.scatter(x=adata[:, gene_x].X.todense(), y=adata[:, gene_y].X.todense(),\n",
    "                        c=adata[:, gene_x].X.todense(), ax=ax1,\n",
    "                        xlabel=gene_x, ylabel=gene_y, legend_title=gene_x, title='Before MAGIC')\n",
    "\n",
    "    # Scatter plot after MAGIC\n",
    "    scprep.plot.scatter(x=emt_magic[:, gene_x].X, y=emt_magic[:, gene_y].X,\n",
    "                        c=emt_magic[:, gene_x].X, ax=ax2,\n",
    "                        xlabel=gene_x, ylabel=gene_y, legend_title=gene_x, title='After MAGIC')\n",
    "\n",
    "    # Add correlation text to the second plot\n",
    "    ax2.text(0.75, 0.97, f\"r = {corr:.2f}\", transform=ax2.transAxes,\n",
    "             fontsize=15, verticalalignment='top', bbox=dict(facecolor='white', alpha=0.5))\n",
    "\n",
    "    #plt.axline((0.5, 0.5), slope=1, color=\"black\", alpha=0.3, linestyle=\"--\")\n",
    "    plt.tight_layout()\n",
    "\n",
    "    # Save plot\n",
    "    plt.savefig(os.path.join(main_dir, 'P06_Foxf2_per_celltype', '202502-Tspo-HermsLab', \n",
    "                            'plots', 'scatter_plots', date.today().strftime(\"%Y%m%d\")+f'_{dataset_name}{organism}_{celltype}_{gene_x}_{gene_y}.png'), \n",
    "               dpi=500)\n",
    "\n",
    "    plt.show()"
   ]
  },
  {
   "cell_type": "code",
   "execution_count": null,
   "id": "b201a6a0-b71a-42ea-a3b6-1526cea5f093",
   "metadata": {},
   "outputs": [],
   "source": [
    "correlation_df = pd.DataFrame(correlations, columns=[\"GeneA\", \"GeneB\", \"PearsonR\"])\n",
    "correlation_df[\"CellType\"] = celltype\n",
    "correlation_df = correlation_df.sort_values(\"PearsonR\")\n",
    "correlation_df"
   ]
  },
  {
   "cell_type": "code",
   "execution_count": null,
   "id": "5a391e0b-d119-46c7-bd5d-309ec064fdea",
   "metadata": {},
   "outputs": [],
   "source": [
    "correlation_df.to_excel(os.path.join(main_dir, \"P06_Foxf2_per_celltype\", \"202502-Tspo-HermsLab\", date.today().strftime(\"%Y%m%d\") + f\"_{dataset_name}{organism}_MAGIC_correlation_results_{celltype}.xlsx\"), index=False)"
   ]
  },
  {
   "cell_type": "markdown",
   "id": "a376289e-03d7-4e3f-9fe3-7650fd68d1da",
   "metadata": {},
   "source": [
    "## Microglia/Macrophages"
   ]
  },
  {
   "cell_type": "code",
   "execution_count": null,
   "id": "007bde33-7228-4177-b365-dc2a6bdedc16",
   "metadata": {},
   "outputs": [],
   "source": [
    "celltype=\"Microglia/Macrophages\""
   ]
  },
  {
   "cell_type": "code",
   "execution_count": null,
   "id": "a8ea9aca-5356-4362-b6d2-dda1cf5b7de0",
   "metadata": {
    "tags": []
   },
   "outputs": [],
   "source": [
    "adata_MM = adata[adata.obs.clusters == celltype]"
   ]
  },
  {
   "cell_type": "code",
   "execution_count": null,
   "id": "52bc72ac-7366-4aaa-bccf-0a98891e68e7",
   "metadata": {
    "tags": []
   },
   "outputs": [],
   "source": [
    "adata_MM"
   ]
  },
  {
   "cell_type": "code",
   "execution_count": null,
   "id": "c992711b-6ed7-4a27-8363-1c4931ce5605",
   "metadata": {
    "tags": []
   },
   "outputs": [],
   "source": [
    "#matrix = pd.DataFrame(adata_EC.X) # not compatible with sparse \n",
    "matrix = adata_MM.X\n",
    "matrix.columns = adata_MM.var.index.tolist()"
   ]
  },
  {
   "cell_type": "code",
   "execution_count": null,
   "id": "0e8449c5-e975-4c10-beb6-a5dc6e5d6206",
   "metadata": {
    "tags": []
   },
   "outputs": [],
   "source": [
    "cutoff_var = 800"
   ]
  },
  {
   "cell_type": "code",
   "execution_count": null,
   "id": "e0d6321f-7902-4147-910b-4583dc1107c6",
   "metadata": {
    "tags": []
   },
   "outputs": [],
   "source": [
    "scprep.plot.plot_library_size(matrix, cutoff=cutoff_var)"
   ]
  },
  {
   "cell_type": "code",
   "execution_count": null,
   "id": "4410dfbf-ed30-4de4-b0ea-a16fb496ddfb",
   "metadata": {
    "tags": []
   },
   "outputs": [],
   "source": [
    "adata_MM.layers"
   ]
  },
  {
   "cell_type": "code",
   "execution_count": null,
   "id": "72ca144c-3714-4ff2-9b1f-b0ac4ceb6351",
   "metadata": {
    "tags": []
   },
   "outputs": [],
   "source": [
    "magic_op = magic.MAGIC()"
   ]
  },
  {
   "cell_type": "code",
   "execution_count": null,
   "id": "74088ed8-2d79-46ed-a221-8593919fb7cf",
   "metadata": {
    "tags": []
   },
   "outputs": [],
   "source": [
    "%%time\n",
    "emt_magic = magic_op.fit_transform(adata_MM, genes=gg)"
   ]
  },
  {
   "cell_type": "code",
   "execution_count": null,
   "id": "21f90a9b-9f5e-4453-ae12-a73d346c79d3",
   "metadata": {
    "tags": []
   },
   "outputs": [],
   "source": [
    "gene_x = 'Tspo'\n",
    "correlations = []\n",
    "\n",
    "for gene_y in gg[1:]:  # Start from index 1 to skip 'Tspo'\n",
    "    corr = np.corrcoef(emt_magic[:, [gene_x, gene_y]].X, rowvar=False)[0, 1]\n",
    "    correlations.append((gene_x, gene_y, corr))\n",
    "\n",
    "    fig, (ax1, ax2) = plt.subplots(1, 2, figsize=(13, 6))\n",
    "\n",
    "    # Scatter plot before MAGIC\n",
    "    scprep.plot.scatter(x=adata[:, gene_x].X.todense(), y=adata[:, gene_y].X.todense(),\n",
    "                        c=adata[:, gene_x].X.todense(), ax=ax1,\n",
    "                        xlabel=gene_x, ylabel=gene_y, legend_title=gene_x, title='Before MAGIC')\n",
    "\n",
    "    # Scatter plot after MAGIC\n",
    "    scprep.plot.scatter(x=emt_magic[:, gene_x].X, y=emt_magic[:, gene_y].X,\n",
    "                        c=emt_magic[:, gene_x].X, ax=ax2,\n",
    "                        xlabel=gene_x, ylabel=gene_y, legend_title=gene_x, title='After MAGIC')\n",
    "\n",
    "    # Add correlation text to the second plot\n",
    "    ax2.text(0.75, 0.97, f\"r = {corr:.2f}\", transform=ax2.transAxes,\n",
    "             fontsize=15, verticalalignment='top', bbox=dict(facecolor='white', alpha=0.5))\n",
    "\n",
    "    #plt.axline((0.5, 1), slope=1, color=\"black\", alpha=0.3, linestyle=\"--\")\n",
    "    plt.tight_layout()\n",
    "\n",
    "    # Save plot\n",
    "    plt.savefig(os.path.join(main_dir, 'P06_Foxf2_per_celltype', '202502-Tspo-HermsLab', \n",
    "                            'plots', 'scatter_plots', date.today().strftime(\"%Y%m%d\")+f'_{dataset_name}{organism}_{celltype.replace(\"/\", \"\")}_{gene_x}_{gene_y}.png'), \n",
    "               dpi=500)\n",
    "\n",
    "    plt.show()"
   ]
  },
  {
   "cell_type": "code",
   "execution_count": null,
   "id": "2ae65d00-71bf-4984-be14-ccc1559690f5",
   "metadata": {},
   "outputs": [],
   "source": [
    "correlation_df = pd.DataFrame(correlations, columns=[\"GeneA\", \"GeneB\", \"PearsonR\"])\n",
    "correlation_df[\"CellType\"] = celltype.replace(\"/\", \"\")\n",
    "correlation_df = correlation_df.sort_values(\"PearsonR\")\n",
    "correlation_df"
   ]
  },
  {
   "cell_type": "code",
   "execution_count": null,
   "id": "ca0f797f-c9fb-4f92-94dc-eec44a85fff9",
   "metadata": {},
   "outputs": [],
   "source": [
    "ct=celltype.replace(\"/\", \"\")\n",
    "correlation_df.to_excel(os.path.join(main_dir, \"P06_Foxf2_per_celltype\", \"202502-Tspo-HermsLab\", date.today().strftime(\"%Y%m%d\") + f\"_{dataset_name}{organism}_MAGIC_correlation_results_{ct}.xlsx\"), index=False)"
   ]
  },
  {
   "cell_type": "code",
   "execution_count": null,
   "id": "9f729bf6-e6a2-426d-a38d-817f421d85f2",
   "metadata": {},
   "outputs": [],
   "source": []
  },
  {
   "cell_type": "markdown",
   "id": "f6eb5b00-b28e-4b59-84e2-d4d16c9dcb26",
   "metadata": {
    "tags": []
   },
   "source": [
    "# Save"
   ]
  },
  {
   "cell_type": "code",
   "execution_count": null,
   "id": "19916ad5-4e0e-4089-9fa7-b854a41ba0b5",
   "metadata": {},
   "outputs": [],
   "source": [
    "name='heindl_normalised_logarithmised_annotated'"
   ]
  },
  {
   "cell_type": "code",
   "execution_count": null,
   "id": "008b0216-504b-4970-9511-caf485f5f6f8",
   "metadata": {},
   "outputs": [],
   "source": [
    "# Win\n",
    "adata.write(main_dir+\"\\P06_Foxf2_per_celltype\\\\scRNAseq\\\\Steffi_mouse_brain_scRNAseq\\h5ad\\\\\" + date.today().strftime(\"%Y%m%d\")+'_'+name+'.h5ad')"
   ]
  },
  {
   "cell_type": "markdown",
   "id": "2b50bbcc-d764-49b9-8cc0-d3173fd8239e",
   "metadata": {},
   "source": [
    "# Session Info"
   ]
  },
  {
   "cell_type": "code",
   "execution_count": null,
   "id": "06401063-4335-4d98-ad41-2bab36a17eab",
   "metadata": {},
   "outputs": [],
   "source": [
    "sc.logging.print_versions()"
   ]
  }
 ],
 "metadata": {
  "kernelspec": {
   "display_name": "Python 3 (ipykernel)",
   "language": "python",
   "name": "python3"
  },
  "language_info": {
   "codemirror_mode": {
    "name": "ipython",
    "version": 3
   },
   "file_extension": ".py",
   "mimetype": "text/x-python",
   "name": "python",
   "nbconvert_exporter": "python",
   "pygments_lexer": "ipython3"
  }
 },
 "nbformat": 4,
 "nbformat_minor": 5
}
