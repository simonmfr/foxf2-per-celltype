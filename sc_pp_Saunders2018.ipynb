{
 "cells": [
  {
   "cell_type": "markdown",
   "id": "9bfa00be-69ba-4146-aba2-818b967492c3",
   "metadata": {
    "jp-MarkdownHeadingCollapsed": true,
    "tags": []
   },
   "source": [
    "<font size=\"+3.8\">Scanpy single-cell pre-processing</font>  \n"
   ]
  },
  {
   "cell_type": "markdown",
   "id": "b64f19a9-6dc9-453b-a215-08e9e916b89a",
   "metadata": {},
   "source": [
    "Saunders/Makosco (2018 Cell) mouse brain single-cell data"
   ]
  },
  {
   "cell_type": "markdown",
   "id": "c4d3b8ee-7125-4393-bb22-8fabc718ea5e",
   "metadata": {},
   "source": [
    "Note: Same script/preprocessing used for p6-visium, see SF/Git/p6/visium-foxf2/p6_visium_foxf2_sc_pp.ipynb"
   ]
  },
  {
   "cell_type": "code",
   "execution_count": null,
   "id": "0bcb6c8d-11b6-47c8-ab26-0ffcfd78c1eb",
   "metadata": {
    "tags": []
   },
   "outputs": [],
   "source": [
    "from datetime import date\n",
    "date.today().strftime('%d/%m/%Y')"
   ]
  },
  {
   "cell_type": "code",
   "execution_count": null,
   "id": "b9d76916-75df-45c1-a755-2b699f66e5d7",
   "metadata": {
    "tags": []
   },
   "outputs": [],
   "source": [
    "import os\n",
    "os.getlogin()"
   ]
  },
  {
   "cell_type": "code",
   "execution_count": null,
   "id": "c4f25c8a-47e9-48b5-af79-04fe44b4068d",
   "metadata": {
    "tags": []
   },
   "outputs": [],
   "source": [
    "import numpy as np\n",
    "import pandas as pd\n",
    "import scanpy as sc\n",
    "import matplotlib.pyplot as plt\n",
    "import platform\n",
    "from datetime import date\n",
    "from matplotlib.pyplot import rc_context"
   ]
  },
  {
   "cell_type": "code",
   "execution_count": null,
   "id": "b491f7b9-507d-40bb-9f8e-ea22b2067ece",
   "metadata": {},
   "outputs": [],
   "source": [
    "import utils"
   ]
  },
  {
   "cell_type": "code",
   "execution_count": null,
   "id": "70eff6a0-de39-4e19-9bdf-3688b446a673",
   "metadata": {
    "tags": []
   },
   "outputs": [],
   "source": [
    "os.environ['CONDA_DEFAULT_ENV'] # conda env"
   ]
  },
  {
   "cell_type": "code",
   "execution_count": null,
   "id": "801c38ca-b498-492b-97e8-ffcc4d2b3d27",
   "metadata": {
    "tags": []
   },
   "outputs": [],
   "source": [
    "platform.platform()"
   ]
  },
  {
   "cell_type": "code",
   "execution_count": null,
   "id": "fc7d8b45-6ec5-428f-89f2-08540e479ab8",
   "metadata": {
    "tags": []
   },
   "outputs": [],
   "source": [
    "sc.settings.verbosity = 3"
   ]
  },
  {
   "cell_type": "code",
   "execution_count": null,
   "id": "f46a7618-6a0d-48a7-b77a-065afc204527",
   "metadata": {
    "tags": []
   },
   "outputs": [],
   "source": [
    "main_dir='/run/user/1000/gvfs/smb-share:server=138.245.4.35,share=bd-dichgans/SF' # Linux\n",
    "main_dir='\\\\\\isdsynnas.srv.med.uni-muenchen.de\\BD-Dichgans\\SF' # Win\n",
    "main_dir='/Volumes/BD-Dichgans/SF' # Mac"
   ]
  },
  {
   "cell_type": "code",
   "execution_count": null,
   "id": "b5eb4e14-2f91-41f4-85d5-96237b15b5c6",
   "metadata": {},
   "outputs": [],
   "source": [
    "dataset_name = \"Saunders2018\"\n",
    "organism = \"Mouse\""
   ]
  },
  {
   "cell_type": "markdown",
   "id": "d75da520-0b28-417d-877e-f167db41ef30",
   "metadata": {},
   "source": [
    "# Load data"
   ]
  },
  {
   "cell_type": "markdown",
   "id": "00e3b5cb-f957-4175-aedf-471b195dfb60",
   "metadata": {},
   "source": [
    "## Raw"
   ]
  },
  {
   "cell_type": "markdown",
   "id": "fc15736d-f918-40e4-a09b-ccd6d9d25111",
   "metadata": {},
   "source": [
    "Data downloaded from http://dropviz.org/ -> Data -> DGE By Region"
   ]
  },
  {
   "cell_type": "markdown",
   "id": "1143555f-d345-4d87-a25b-fefb16b3f2f2",
   "metadata": {},
   "source": [
    "Code partly based on https://github.com/theislab/scib-reproducibility/blob/main/notebooks/data_preprocessing/mouse_brain/01_collect_mouse_brain_studies.ipynb"
   ]
  },
  {
   "cell_type": "code",
   "execution_count": null,
   "id": "a5ba25a0-f578-4be1-bbee-de80115bbc3e",
   "metadata": {
    "tags": []
   },
   "outputs": [],
   "source": [
    "adata = sc.read_h5ad(os.path.join(main_dir,\"P06_vasc_scRNAseq\",\"DropViz\",\"all_by_region\",\"input\",\"processed\",\"20220816_all_regions_merged_mbuettner_pipeline.h5ad\"))"
   ]
  },
  {
   "cell_type": "code",
   "execution_count": null,
   "id": "8dd99cb9-ebf5-4f9f-abff-a614cbf8fb24",
   "metadata": {
    "tags": []
   },
   "outputs": [],
   "source": [
    "adata.var_names_make_unique()\n",
    "adata.obs_names_make_unique()"
   ]
  },
  {
   "cell_type": "code",
   "execution_count": null,
   "id": "4cb326f0-005e-4f53-9549-be703ddecbe3",
   "metadata": {
    "tags": []
   },
   "outputs": [],
   "source": [
    "adata.layers"
   ]
  },
  {
   "cell_type": "code",
   "execution_count": null,
   "id": "59d794ce-469d-43cc-b50b-899045943da2",
   "metadata": {
    "tags": []
   },
   "outputs": [],
   "source": [
    "adata"
   ]
  },
  {
   "cell_type": "markdown",
   "id": "95761cc6-9b65-4b4d-acbe-aff0c520d170",
   "metadata": {},
   "source": [
    "## Previous work"
   ]
  },
  {
   "cell_type": "code",
   "execution_count": null,
   "id": "975c66bd-c465-4168-9266-102810ed190b",
   "metadata": {
    "tags": []
   },
   "outputs": [],
   "source": [
    "# load QCed + normalized file (continue below)\n",
    "date_set='20220823'\n",
    "adata = sc.read_h5ad(os.path.join(main_dir,\"P06_vasc_scRNAseq\",\"DropViz\",\"all_by_region\", date_set+'_saunders_normalised_logarithmised_annotated_no_rank_genes_groups.h5ad'))\n",
    "adata.uns['log1p']['base'] = None"
   ]
  },
  {
   "cell_type": "code",
   "execution_count": null,
   "id": "0b03c3c2-3c46-4f74-b680-2bcb35e81e0e",
   "metadata": {
    "tags": []
   },
   "outputs": [],
   "source": [
    "adata"
   ]
  },
  {
   "cell_type": "markdown",
   "id": "3027ff04-085d-4348-9085-b198a784ec7a",
   "metadata": {},
   "source": [
    "# QC"
   ]
  },
  {
   "cell_type": "code",
   "execution_count": null,
   "id": "f9aa57ae-9cf4-4853-b7c2-172443a618d7",
   "metadata": {},
   "outputs": [],
   "source": [
    "# genes with highest fraction of counts per cell\n",
    "sc.pl.highest_expr_genes(adata, n_top=20, )"
   ]
  },
  {
   "cell_type": "code",
   "execution_count": null,
   "id": "93ea0cf3-8a03-4288-bf8c-2bb76ec498c8",
   "metadata": {},
   "outputs": [],
   "source": [
    "# Basic QC\n",
    "adata.var['mt'] = adata.var_names.str.startswith('mt-')  # annotate the group of mitochondrial genes as 'mt'\n",
    "sc.pp.calculate_qc_metrics(adata, qc_vars=['mt'], percent_top=None, log1p=False, inplace=True)\n",
    "sc.pl.violin(adata, ['n_genes_by_counts', 'total_counts', 'pct_counts_mt'],\n",
    "             jitter=0.4, multi_panel=True, size=0.2)"
   ]
  },
  {
   "cell_type": "code",
   "execution_count": null,
   "id": "5a8da157-aa95-4489-96d1-0b7aec4cfc9d",
   "metadata": {},
   "outputs": [],
   "source": [
    "sc.pl.scatter(adata, x='total_counts', y='pct_counts_mt')\n",
    "sc.pl.scatter(adata, x='total_counts', y='n_genes_by_counts')"
   ]
  },
  {
   "cell_type": "code",
   "execution_count": null,
   "id": "45c97ce2-58b1-4cc9-9d27-c11c96cbe5ac",
   "metadata": {},
   "outputs": [],
   "source": [
    "# Filtering\n",
    "adata = adata[adata.obs.n_genes_by_counts < 6000, :]\n",
    "#adata = adata[adata.obs.n_genes_by_counts > 500, :]\n",
    "adata = adata[adata.obs.pct_counts_mt < 20, :]"
   ]
  },
  {
   "cell_type": "code",
   "execution_count": null,
   "id": "cfdc89fe-df5f-4404-9ab2-28e7c2f2e2b3",
   "metadata": {},
   "outputs": [],
   "source": [
    "# do not filter genes for Tangram!"
   ]
  },
  {
   "cell_type": "code",
   "execution_count": null,
   "id": "5a7b3b58-c1df-4f1b-8043-c876f2683ac6",
   "metadata": {},
   "outputs": [],
   "source": [
    "adata"
   ]
  },
  {
   "cell_type": "code",
   "execution_count": null,
   "id": "bcce6337-6d8d-481c-87c0-1d4893e1c412",
   "metadata": {},
   "outputs": [],
   "source": [
    "sc.pl.scatter(adata, x='total_counts', y='pct_counts_mt')\n",
    "sc.pl.scatter(adata, x='total_counts', y='n_genes_by_counts')"
   ]
  },
  {
   "cell_type": "markdown",
   "id": "33f36a86-79a9-4a6b-ba27-0f859f5349bf",
   "metadata": {},
   "source": [
    "# Normalisation, logarithmization"
   ]
  },
  {
   "cell_type": "markdown",
   "id": "38d0a5f9-068c-4215-a824-90c9a9aab96c",
   "metadata": {},
   "source": [
    "For use in Tangram, preprocessing should be as similar as possible between spatial and single-cell data. Also see https://github.com/broadinstitute/Tangram/issues/3.  \n",
    "Hence, normalize and logarithmise with default settings, but don't scale."
   ]
  },
  {
   "cell_type": "markdown",
   "id": "b677762b-0ba9-4233-9f99-0094f1674baf",
   "metadata": {},
   "source": [
    "Check if data is normalized:"
   ]
  },
  {
   "cell_type": "code",
   "execution_count": null,
   "id": "814942e5-fcf3-4ebd-91b7-2f21f002fd55",
   "metadata": {},
   "outputs": [],
   "source": [
    "adata.layers"
   ]
  },
  {
   "cell_type": "code",
   "execution_count": null,
   "id": "9ea510b5-dad4-48f0-937d-ddc732b8df2d",
   "metadata": {},
   "outputs": [],
   "source": [
    "np.max(adata.X)"
   ]
  },
  {
   "cell_type": "code",
   "execution_count": null,
   "id": "1d2a4c3e-db49-4716-b9b4-46479c209854",
   "metadata": {},
   "outputs": [],
   "source": [
    "# show expression of 100 random genes (across all cells)\n",
    "import random\n",
    "import seaborn as sns\n",
    "random_genes=random.sample(range(0, adata.X.shape[1]), 100)\n",
    "adata_sub = adata[:,random_genes]\n",
    "exp=pd.DataFrame(adata_sub.X.todense())\n",
    "# plot\n",
    "pl1=sns.displot(data=pd.melt(exp),x='value',height=4,hue='variable',kind=\"kde\",warn_singular=False,legend=False,palette=list(np.repeat('#086da6',100)), lw=0.3) # genes with 0 expression are excluded\n",
    "pl1.set(xlim=(-0.5, 7),ylim=(0,0.007));"
   ]
  },
  {
   "cell_type": "code",
   "execution_count": null,
   "id": "b4c6c7bc-9459-41e2-8b46-1425b36be3cb",
   "metadata": {},
   "outputs": [],
   "source": [
    "sns.set(rc={'figure.figsize':(4,4)})\n",
    "sns.set_theme(style='white')\n",
    "pl=sns.histplot(data=pd.melt(exp),x='value',binwidth=0.5,legend=True,palette=list(np.repeat('#086da6',100)))\n",
    "pl.set(xlim=(0, 20),ylim=(0,1e6));"
   ]
  },
  {
   "cell_type": "code",
   "execution_count": null,
   "id": "5b80cd3f-da87-4b9c-9438-481934d3d780",
   "metadata": {},
   "outputs": [],
   "source": [
    "exp"
   ]
  },
  {
   "cell_type": "code",
   "execution_count": null,
   "id": "1a934985-5758-4bde-bb6a-947485eae969",
   "metadata": {},
   "outputs": [],
   "source": [
    "#adata.layers[\"counts\"] = adata.X.copy()"
   ]
  },
  {
   "cell_type": "code",
   "execution_count": null,
   "id": "027a6028-cf88-436f-9023-093b43a209a5",
   "metadata": {},
   "outputs": [],
   "source": [
    "sc.pp.normalize_total(adata, inplace=True) # Normalize each spot by total counts over all genes, so that every spot has the same total count after normalization."
   ]
  },
  {
   "cell_type": "code",
   "execution_count": null,
   "id": "69c977f7-d178-424c-aee5-f9b7ecb56291",
   "metadata": {},
   "outputs": [],
   "source": [
    "# show expression of 100 random genes (across all cells)\n",
    "adata_sub = adata[:,random_genes]\n",
    "exp=pd.DataFrame(adata_sub.X.todense())\n",
    "# plot\n",
    "pl=sns.displot(data=pd.melt(exp),x='value',height=4,hue='variable',kind=\"kde\",warn_singular=False,legend=False,palette=list(np.repeat('#086da6',100)), lw=0.3) # genes with 0 expression are excluded\n",
    "pl.set(xlim=(-0.25, 3.5),ylim=(0,0.005))"
   ]
  },
  {
   "cell_type": "code",
   "execution_count": null,
   "id": "10bfb32f-2268-4e40-b151-3826c97e97c8",
   "metadata": {},
   "outputs": [],
   "source": [
    "pl=sns.histplot(data=pd.melt(exp),x='value',binwidth=0.5,legend=True,palette=list(np.repeat('#086da6',100)))\n",
    "pl.set(xlim=(0, 20),ylim=(0,1e6));"
   ]
  },
  {
   "cell_type": "code",
   "execution_count": null,
   "id": "a40ef9f6-51fb-4c7e-b202-9c40cac743eb",
   "metadata": {},
   "outputs": [],
   "source": [
    "sc.pp.log1p(adata)"
   ]
  },
  {
   "cell_type": "code",
   "execution_count": null,
   "id": "6e3a9a51-0531-48ea-97c2-12f9e1d1de27",
   "metadata": {},
   "outputs": [],
   "source": [
    "# show expression of 100 random genes (across all cells)\n",
    "adata_sub = adata[:,random_genes]\n",
    "exp=pd.DataFrame(adata_sub.X.todense())\n",
    "# plot\n",
    "pl=sns.displot(data=pd.melt(exp),x='value',height=4,hue='variable',kind=\"kde\",warn_singular=False,legend=False,palette=list(np.repeat('#086da6',100)), lw=0.5) # genes with 0 expression are excluded\n",
    "pl.set(xlim=(-0.25, 3.5),ylim=(0,0.005));"
   ]
  },
  {
   "cell_type": "code",
   "execution_count": null,
   "id": "0dd66ec5-bc2a-45f4-b687-89961bf72296",
   "metadata": {},
   "outputs": [],
   "source": [
    "pl=sns.histplot(data=pd.melt(exp),x='value',binwidth=0.5,legend=True,palette=list(np.repeat('#086da6',100)));\n",
    "pl.set(xlim=(0, 20),ylim=(0,1e6));"
   ]
  },
  {
   "cell_type": "code",
   "execution_count": null,
   "id": "7e46bffd-c7be-4233-b4b6-ebe091205c7c",
   "metadata": {},
   "outputs": [],
   "source": [
    "del exp\n",
    "del adata_sub\n",
    "del random_genes"
   ]
  },
  {
   "cell_type": "code",
   "execution_count": null,
   "id": "a92597d0-b43c-4d57-aa52-d118fe6b3234",
   "metadata": {},
   "outputs": [],
   "source": [
    "adata.layers[\"normalized\"] = adata.X.copy()"
   ]
  },
  {
   "cell_type": "code",
   "execution_count": null,
   "id": "554f218a-95e6-4bde-bf45-01e679d890f3",
   "metadata": {},
   "outputs": [],
   "source": [
    "# Identify highly-variable genes\n",
    "sc.pp.highly_variable_genes(adata, min_mean=0.0125, max_mean=3, min_disp=0.5)\n",
    "sc.pl.highly_variable_genes(adata)"
   ]
  },
  {
   "cell_type": "code",
   "execution_count": null,
   "id": "4cead344-daad-4af5-9ad5-9e2509447012",
   "metadata": {},
   "outputs": [],
   "source": [
    "adata.layers"
   ]
  },
  {
   "cell_type": "code",
   "execution_count": null,
   "id": "2ac0677d-df34-4aa4-8c36-8a4e7a5904dc",
   "metadata": {},
   "outputs": [],
   "source": [
    "adata"
   ]
  },
  {
   "cell_type": "markdown",
   "id": "bd14d228-749b-4a19-8cf7-cf84d97bb759",
   "metadata": {},
   "source": [
    "# Dim Reduction"
   ]
  },
  {
   "cell_type": "code",
   "execution_count": null,
   "id": "ef8e8215-3a1a-4259-8eb6-e21279551f0c",
   "metadata": {},
   "outputs": [],
   "source": [
    "# Run PCA\n",
    "plt.rcParams['figure.figsize'] = [7, 7]\n",
    "sc.tl.pca(adata, svd_solver='arpack')\n",
    "sc.pl.pca(adata, color='Foxf2')"
   ]
  },
  {
   "cell_type": "code",
   "execution_count": null,
   "id": "77adfcb5-371f-4c79-908b-0172d2dc5902",
   "metadata": {},
   "outputs": [],
   "source": [
    "sc.pl.pca_variance_ratio(adata, log=True)"
   ]
  },
  {
   "cell_type": "code",
   "execution_count": null,
   "id": "adf305d1-eab7-40e3-adc5-b83f12c1dc74",
   "metadata": {},
   "outputs": [],
   "source": [
    "sc.pp.neighbors(adata, n_pcs=20)"
   ]
  },
  {
   "cell_type": "code",
   "execution_count": null,
   "id": "34979747-b103-4bc9-bcf6-486902b5ef51",
   "metadata": {},
   "outputs": [],
   "source": [
    "# Run UMAP\n",
    "sc.tl.umap(adata)"
   ]
  },
  {
   "cell_type": "markdown",
   "id": "577fdf45-fb34-4d1b-a1ce-78524d668d9c",
   "metadata": {},
   "source": [
    "Available cell annotations:"
   ]
  },
  {
   "cell_type": "code",
   "execution_count": null,
   "id": "cba1d193-9ab7-4d4f-b049-be3dc3ddd98f",
   "metadata": {},
   "outputs": [],
   "source": [
    "plt.rcParams['figure.figsize'] = [9, 9]\n",
    "sc.pl.umap(adata, color=['class','region'], wspace=0.15, size=0.4, legend_loc='on data', legend_fontweight='normal', legend_fontoutline=3, legend_fontsize=7)"
   ]
  },
  {
   "cell_type": "code",
   "execution_count": null,
   "id": "88add321-c2f0-4cbe-b1cf-4ddd442cebf9",
   "metadata": {},
   "outputs": [],
   "source": [
    "# exclude cerebellum (mostly neurons)\n",
    "adata = adata[adata.obs.region != 'CB']"
   ]
  },
  {
   "cell_type": "markdown",
   "id": "88f8e3c4-1ab7-4a2c-97a3-418eb89338b7",
   "metadata": {},
   "source": [
    "# Clustering"
   ]
  },
  {
   "cell_type": "code",
   "execution_count": null,
   "id": "ee8b85fe-0c82-499c-9c0b-1154af2b8211",
   "metadata": {},
   "outputs": [],
   "source": [
    "%%time\n",
    "# Run Leiden clustering\n",
    "sc.tl.leiden(adata, resolution = 1.5)"
   ]
  },
  {
   "cell_type": "code",
   "execution_count": null,
   "id": "e1aa74ad-ffd1-4aaf-8de6-e0239402e753",
   "metadata": {},
   "outputs": [],
   "source": [
    "adata.obs.head(2)"
   ]
  },
  {
   "cell_type": "code",
   "execution_count": null,
   "id": "e045ae60-d8f9-49dc-adf6-387ff500a6e4",
   "metadata": {},
   "outputs": [],
   "source": [
    "pd.crosstab(adata.obs['class'],adata.obs['region'])"
   ]
  },
  {
   "cell_type": "code",
   "execution_count": null,
   "id": "f3f3a97e-53b4-46e4-83e3-973042926a3c",
   "metadata": {},
   "outputs": [],
   "source": [
    "# Saunders: remove cluster 34 as its only 1 single cell\n",
    "adata = adata[adata.obs.leiden != '34']"
   ]
  },
  {
   "cell_type": "code",
   "execution_count": null,
   "id": "d12c3a38-5342-44ac-9919-449dd6ed1369",
   "metadata": {},
   "outputs": [],
   "source": [
    "plt.rcParams['figure.figsize'] = [9, 9]\n",
    "sc.pl.umap(adata, color=['leiden', 'class', 'region'], wspace=0.3, size=0.4)"
   ]
  },
  {
   "cell_type": "code",
   "execution_count": null,
   "id": "2f45c836-d21e-497a-aa20-f3a9ada6eaaa",
   "metadata": {},
   "outputs": [],
   "source": [
    "sc.pl.umap(adata, color=['leiden', 'batch'], wspace=0.3, size=0.4)"
   ]
  },
  {
   "cell_type": "markdown",
   "id": "325ab1ec-268f-42d1-a2a3-009d0eabb5ba",
   "metadata": {},
   "source": [
    "# Cell annotation"
   ]
  },
  {
   "cell_type": "markdown",
   "id": "18f7a613-9e7c-49d4-b65a-d547b44b316c",
   "metadata": {},
   "source": [
    "Verify and refine cell annotation from authors"
   ]
  },
  {
   "cell_type": "code",
   "execution_count": null,
   "id": "72320f9e-d18b-489d-b2ab-52652a28c382",
   "metadata": {
    "tags": []
   },
   "outputs": [],
   "source": [
    "pd.value_counts(adata.obs['class'])"
   ]
  },
  {
   "cell_type": "code",
   "execution_count": null,
   "id": "8057ddeb-5dc8-48ad-a9ad-60c2621f0e67",
   "metadata": {},
   "outputs": [],
   "source": [
    "pd.value_counts(adata.obs['refined_class'])"
   ]
  },
  {
   "cell_type": "code",
   "execution_count": null,
   "id": "55830f3e-0c55-4c9f-87a6-89fef1511a1a",
   "metadata": {},
   "outputs": [],
   "source": [
    "pd.value_counts(adata.obs['cell_type'])"
   ]
  },
  {
   "cell_type": "markdown",
   "id": "9d418257-7c7b-4c53-8933-3cc96470c2fa",
   "metadata": {},
   "source": [
    "Re-annotate to better distinguish vascular cells:"
   ]
  },
  {
   "cell_type": "markdown",
   "id": "c1e0ba49-affc-4d56-95dc-2156c60b71b3",
   "metadata": {},
   "source": [
    "Manual marker gene selection"
   ]
  },
  {
   "cell_type": "markdown",
   "id": "fd7b3052-01ae-4eca-8958-5f9d58284a1d",
   "metadata": {},
   "source": [
    "|Vascular     |EC         |Pericytes|SMCs   |Fibroblasts|Oligos|OPCs         |Ependymal|Neurons    |Astrocytes|Microglia|Immune (broad/hematopoetic)|Macrophages     |Macrophages/Microglia|Monocytes|Mononcytes/B-cells|Granulocytes|B cells|T/NK cells|\n",
    "|---          |---        |---      |---    |---        |---   |---          |---      |---        |---       |---      |---                        |---             |---|---|---|---|---|---|\n",
    "|PDGFRA=CD140A|CLDN5      |VTN      |ACTA2  |DCN        |MBP   |CSPG4=NG2    |PIFO     |RBFOX3=NEUN|AQP4      |AIF1     |PTPRC=CD45                 |CD14            |TREM2|CCR2|CD74|CD16/32|CD19|CD4|\n",
    "|MCAM=CD146   |PECAM1=CD31|PDGFRB   |MYOCD  |COL6A1     |ENPP2 |PDGFRA=CD140A|FOXJ1    |TUBB3      |          |         |                           |ITGB2=CD18=CD11B||||ITGB2=CD18=CD11B||CD8A|\n",
    "|FOXF2        |           |         |       |COL3A1     |      |             |DYNLRB2  |           |          |         |                           |CD86            ||||CD15||CD8B|\n",
    "|             |           |         |       |           |      |             |MEIG1    |           |          |         |                           |ADGRE1=F4/80    ||||||IL2RB|\n",
    "|||||||||||||||||||IFNG|"
   ]
  },
  {
   "cell_type": "code",
   "execution_count": null,
   "id": "55ff1fca-631b-4ec5-b08d-1f922f7e1b17",
   "metadata": {
    "tags": []
   },
   "outputs": [],
   "source": [
    "# plot marker genes\n",
    "plt.rcParams['figure.figsize'] = [7, 5]\n",
    "marker_genes = [\"Pdgfra\", \"Mcam\", \"Pecam1\", \"Cldn5\",\"Vtn\", \"Pdgfrb\",\"Acta2\", \"Dcn\", \"Col6a1\", \"Mbp\",\"Enpp2\",\"Cspg4\",\"Dcx\",\"Pifo\",\"Foxj1\",\"Rbfox3\",\"Tubb3\", \"Aqp4\", \"Aif1\", \"Ptprc\", \"Ccr2\",\"Adgre1\",\"Itgb2\",\"Cd14\",\"Cd86\",\"Trem2\",\"Vcan\",\"Cd4\",\"Il2rb\",\"Cd244\", \"Cd74\",\"Cd68\",\"Ifng\",\"Ptgdr2\",\"Ccr3\"]\n",
    "marker_genes=[x for x in marker_genes if x in list(adata.var_names)] # remove those not in adata.var_names\n",
    "sc.pl.umap(adata, ncols=3, color=marker_genes)\n",
    "\n",
    "# \"Cd19\", \"Cd8a\" not in Saunders"
   ]
  },
  {
   "cell_type": "code",
   "execution_count": null,
   "id": "a3aa708b-9ed4-41c1-9610-a4060cba8fbf",
   "metadata": {},
   "outputs": [],
   "source": [
    "# Run DE test for annotation (Wilcoxon)\n",
    "sc.tl.rank_genes_groups(adata, 'leiden', method='wilcoxon', key_added='wilcoxon')\n",
    "sc.pl.rank_genes_groups(adata, n_genes=20, sharey=False, ncols=3, fontsize=13, key='wilcoxon')"
   ]
  },
  {
   "cell_type": "code",
   "execution_count": null,
   "id": "e53385d4-9517-406b-962e-21a9a2cbe6f5",
   "metadata": {},
   "outputs": [],
   "source": [
    "plt.rcParams['figure.figsize'] = [11, 8]\n",
    "sc.pl.umap(adata, color=['n_genes_by_counts', 'total_counts', 'pct_counts_mt'], size=0.5)"
   ]
  },
  {
   "cell_type": "code",
   "execution_count": null,
   "id": "9925eaa7-d321-41d2-8535-ff35e6627993",
   "metadata": {},
   "outputs": [],
   "source": [
    "# Dotplot\n",
    "sc.tl.dendrogram(adata, groupby=\"leiden\")\n",
    "sc.pl.rank_genes_groups_dotplot(adata, n_genes=5, key=\"wilcoxon\", groupby=\"leiden\")"
   ]
  },
  {
   "cell_type": "code",
   "execution_count": null,
   "id": "5eeec314-e99e-49be-95d5-afa17212d07d",
   "metadata": {},
   "outputs": [],
   "source": [
    "# plot cell markers used by Christina\n",
    "import ast\n",
    "with open(main_dir+'\\P6_Visium_Christina\\Tangram\\cell_markers_from_Christina.txt') as f:\n",
    "    data = f.read()\n",
    "d = ast.literal_eval(data) # load json\n",
    "markers_christina = pd.DataFrame(dict([ (k,pd.Series(v)) for k,v in d.items() ])) # turn to pd.df\n",
    "markers_christina.head(8)"
   ]
  },
  {
   "cell_type": "code",
   "execution_count": null,
   "id": "372969ac-b1d1-4890-9cef-f1343ba08914",
   "metadata": {},
   "outputs": [],
   "source": [
    "markers_christina=sum(markers_christina.transpose().values.tolist(),[]) # turn to list\n",
    "markers_christina=[x for x in markers_christina if str(x) != 'nan'] # remove nan\n",
    "markers_christina=[x for x in markers_christina if x in list(adata.var_names)] # remove those not in adata.var_names"
   ]
  },
  {
   "cell_type": "code",
   "execution_count": null,
   "id": "196f31ae-a4f0-469a-93a3-00525fedf0fc",
   "metadata": {},
   "outputs": [],
   "source": [
    "sc.pl.dotplot(adata, var_names=markers_christina, groupby=\"leiden\")"
   ]
  },
  {
   "cell_type": "code",
   "execution_count": null,
   "id": "b20750ce-4b32-42a5-b2ad-ff7b532b7f44",
   "metadata": {},
   "outputs": [],
   "source": [
    "plt.rcParams['figure.figsize'] = [8, 6]\n",
    "marker_genes = sum(list(d.values()), [])\n",
    "sc.pl.umap(adata, ncols=4, color=markers_christina)"
   ]
  },
  {
   "cell_type": "code",
   "execution_count": null,
   "id": "a2317b14-9d6c-4b15-b0a7-9c168c3d992d",
   "metadata": {},
   "outputs": [],
   "source": [
    "utils.cluster_small_multiples(adata, clust_key=\"leiden\")"
   ]
  },
  {
   "cell_type": "code",
   "execution_count": null,
   "id": "aa092ab7-7c7e-4a64-8a48-a4051b035fa4",
   "metadata": {},
   "outputs": [],
   "source": [
    "# Rename clusters\n",
    "old_to_new = {\n",
    "    '0': 'Neurons','1':'Neurons',\n",
    "    '2':'Oligos','3':'Neurons',\n",
    "    '4':'Astrocytes','5':'Neurons',\n",
    "    '6':'Endothelial cells','7':'Neurons',\n",
    "    '8':'Neurons','9':'Neurons',\n",
    "    '10':'Oligos','11':'Neurons',\n",
    "    '12':'Neurons','13':'Oligos',\n",
    "    '14':'Neurons','15':'Neurons',\n",
    "    '16':'Neurons','17':'OPCs',\n",
    "    '18':'Astrocytes','19':'Neurons',\n",
    "    '20':'Oligos','21':'Neurons',\n",
    "    '22':'SMCs','23':'Microglia/Macrophages',\n",
    "    '24':'Pericytes','25':'Oligos',\n",
    "    '26':'Neurogenesis','27':'Fibroblasts',\n",
    "    '28':'Neurons','29':'Endothelial cells',\n",
    "    '30':'Ependymal cells','31':'Oligos',\n",
    "    '32':'Neurons','33':'Neurons'\n",
    "}"
   ]
  },
  {
   "cell_type": "code",
   "execution_count": null,
   "id": "7a6e429a-7929-449f-8e9f-33e44da413ee",
   "metadata": {},
   "outputs": [],
   "source": [
    "adata.obs['clusters'] = (\n",
    "    adata.obs['leiden'].map(old_to_new).astype('category')\n",
    ")\n",
    "adata.obs['clusters'].head(2)"
   ]
  },
  {
   "cell_type": "code",
   "execution_count": null,
   "id": "9ceda107-cb57-458d-a1a0-e56f1048aa73",
   "metadata": {},
   "outputs": [],
   "source": [
    "plt.rcParams['figure.figsize'] = [11, 8]\n",
    "sc.pl.umap(adata, color=['clusters','class','cell_type'], legend_loc='on data', title='', legend_fontweight='normal', legend_fontoutline=3, legend_fontsize=12, size=0.5)"
   ]
  },
  {
   "cell_type": "markdown",
   "id": "dc1b37b5-b56a-409f-81d8-ad9da8ed4fe6",
   "metadata": {},
   "source": [
    "Refined own labels on left. Center and right labels from authors."
   ]
  },
  {
   "cell_type": "markdown",
   "id": "ee43b839-93db-4e78-9de7-31ff2a093ee7",
   "metadata": {},
   "source": [
    "Left: Novel annotation, right: Annotation from Saunders et al."
   ]
  },
  {
   "cell_type": "code",
   "execution_count": null,
   "id": "67a51d7e-ba04-4caa-b2d3-f643f45f9635",
   "metadata": {
    "tags": []
   },
   "outputs": [],
   "source": [
    "# Dotplot of marker genes\n",
    "sc.pl.dotplot(adata, marker_genes, groupby='clusters')"
   ]
  },
  {
   "cell_type": "markdown",
   "id": "4835c7ac-99d4-4c45-9910-f9cf4fced5e5",
   "metadata": {},
   "source": [
    "# DE analysis"
   ]
  },
  {
   "cell_type": "code",
   "execution_count": null,
   "id": "2df907d6-0bff-4625-888d-c03779c4e6b5",
   "metadata": {},
   "outputs": [],
   "source": [
    "adata.obs.clusters.value_counts()"
   ]
  },
  {
   "cell_type": "code",
   "execution_count": null,
   "id": "4e350ba6-5b25-422f-b450-06d9d461b475",
   "metadata": {
    "tags": []
   },
   "outputs": [],
   "source": [
    "sc.tl.rank_genes_groups(adata, 'clusters', method='wilcoxon', key_added = \"dea\")"
   ]
  },
  {
   "cell_type": "code",
   "execution_count": null,
   "id": "5e053079-2efa-47d8-8fb1-7ef3d17ad2e3",
   "metadata": {
    "tags": []
   },
   "outputs": [],
   "source": [
    "sc.pl.rank_genes_groups(adata, n_genes=15, sharey=False, key = \"dea\", fontsize = 14)"
   ]
  },
  {
   "cell_type": "code",
   "execution_count": null,
   "id": "8a09c630-4c52-4c3c-a9c7-278eee4147f5",
   "metadata": {
    "tags": []
   },
   "outputs": [],
   "source": [
    "sc.pl.rank_genes_groups_dotplot(adata, n_genes=6, key=\"dea\", groupby=\"clusters\")"
   ]
  },
  {
   "cell_type": "code",
   "execution_count": null,
   "id": "77474aa0-13f2-45b9-abb9-25b113caa6e2",
   "metadata": {
    "tags": []
   },
   "outputs": [],
   "source": [
    "sc.get.rank_genes_groups_df(adata, key = \"dea\", group = \"Oligos\")[0:15]"
   ]
  },
  {
   "cell_type": "code",
   "execution_count": null,
   "id": "adbec055-cf48-4db2-a3ec-9f6413521413",
   "metadata": {
    "tags": []
   },
   "outputs": [],
   "source": [
    "sc.get.rank_genes_groups_df(adata, key = \"dea\", group = \"Neurons\")[0:15][\"names\"]"
   ]
  },
  {
   "cell_type": "code",
   "execution_count": null,
   "id": "edfab2de-35b7-4aba-a7f5-28172405b83e",
   "metadata": {
    "tags": []
   },
   "outputs": [],
   "source": [
    "sc.pl.dotplot(adata, var_names=[\"Fcrls\",\"Hexb\",\"P2ry12\",\"Ptprc\",\"Mertk\",\"Mrc1\",\"Tmem119\",\"Fos\",\"Junb\"], groupby=\"cell_type\")"
   ]
  },
  {
   "cell_type": "code",
   "execution_count": null,
   "id": "0cf3829d-3f88-4388-8952-744290a318e4",
   "metadata": {
    "tags": []
   },
   "outputs": [],
   "source": [
    "sc.pl.dotplot(adata, var_names=[\"Fcrls\",\"Hexb\",\"P2ry12\",\"Ptprc\",\"Mertk\",\"Mrc1\",\"Tmem119\",\"Fos\",\"Junb\"], groupby=\"refined_class\")"
   ]
  },
  {
   "cell_type": "code",
   "execution_count": null,
   "id": "6250b421-bc68-4b6a-9c22-48e5e07c0fe2",
   "metadata": {},
   "outputs": [],
   "source": [
    "# filter"
   ]
  },
  {
   "cell_type": "code",
   "execution_count": null,
   "id": "b798ff59-4203-4488-afce-97bed53d6e01",
   "metadata": {},
   "outputs": [],
   "source": [
    "sc.tl.filter_rank_genes_groups(adata, key = \"dea\", groupby=\"clusters\", key_added = \"dea_filtered\", min_in_group_fraction=0.5, max_out_group_fraction=0.25)"
   ]
  },
  {
   "cell_type": "code",
   "execution_count": null,
   "id": "c0517cf2-0cb9-45ac-bcd8-1122b40a4336",
   "metadata": {
    "tags": []
   },
   "outputs": [],
   "source": [
    "sc.pl.rank_genes_groups(adata, n_genes=15, sharey=False, key = \"dea_filtered\", fontsize = 14)"
   ]
  },
  {
   "cell_type": "code",
   "execution_count": null,
   "id": "f454f12f-d379-4a4a-bd74-ba654a31ed81",
   "metadata": {
    "tags": []
   },
   "outputs": [],
   "source": [
    "sc.pl.rank_genes_groups_dotplot(adata, n_genes=6, key=\"dea_filtered\", groupby=\"clusters\")"
   ]
  },
  {
   "cell_type": "code",
   "execution_count": null,
   "id": "b40d2aa9-e63f-407e-b3f8-acb71d18a6f1",
   "metadata": {},
   "outputs": [],
   "source": []
  },
  {
   "cell_type": "markdown",
   "id": "aaa7964a-2c4b-4b3d-b42a-8bff4d39eb01",
   "metadata": {},
   "source": [
    "# Focus on Foxf2"
   ]
  },
  {
   "cell_type": "code",
   "execution_count": null,
   "id": "299f8552-3252-49a4-b5b8-6d8592a79f23",
   "metadata": {
    "tags": []
   },
   "outputs": [],
   "source": [
    "gene=\"Foxf2\""
   ]
  },
  {
   "cell_type": "code",
   "execution_count": null,
   "id": "20065f70-91f1-4b89-aa28-62cdb6502b73",
   "metadata": {},
   "outputs": [],
   "source": [
    "dataset_name = \"Saunders2018\"\n",
    "organism = \"Mouse\""
   ]
  },
  {
   "cell_type": "code",
   "execution_count": null,
   "id": "b80d0ff5-6f0c-4835-87bf-dd7a19d3fba1",
   "metadata": {},
   "outputs": [],
   "source": [
    "with rc_context({'figure.figsize': (7,7)}):\n",
    "    sc.pl.umap(adata, color=['clusters',gene], legend_loc='on data', title='', legend_fontweight='normal', legend_fontoutline=2, legend_fontsize=8, size=0.4)"
   ]
  },
  {
   "cell_type": "code",
   "execution_count": null,
   "id": "11ec7a22-7902-441e-a9de-4f03a466d926",
   "metadata": {},
   "outputs": [],
   "source": [
    "sc.pl.matrixplot(adata, [gene], groupby='clusters', swap_axes=False, figsize=(2,5), standard_scale=\"var\")"
   ]
  },
  {
   "cell_type": "code",
   "execution_count": null,
   "id": "b0ec99b6-c7b2-4805-8af9-817a637809a2",
   "metadata": {},
   "outputs": [],
   "source": [
    "sc.pl.dotplot(adata, [gene], groupby='clusters', swap_axes=False, figsize=(2,5), standard_scale=\"var\")"
   ]
  },
  {
   "cell_type": "code",
   "execution_count": null,
   "id": "c3c28193-35db-4b25-ba59-5a3bf3fdd20f",
   "metadata": {},
   "outputs": [],
   "source": [
    "adata.X.max()"
   ]
  },
  {
   "cell_type": "code",
   "execution_count": null,
   "id": "8d952a68-4f41-42a5-9708-8991def254ab",
   "metadata": {},
   "outputs": [],
   "source": [
    "utils.summarize_gene_expression(adata = adata, gene = gene, groupby = \"clusters\", \n",
    "                          study_name = dataset_name, organism = organism,\n",
    "                          export = True, output_dir = os.path.join(main_dir, \"P06_Foxf2_per_celltype\", \"Foxf2_summarized\")\n",
    "                         )"
   ]
  },
  {
   "cell_type": "markdown",
   "id": "7d600a56-3405-472d-8605-c08ce18c11b5",
   "metadata": {},
   "source": [
    "# Focus on: Other genes"
   ]
  },
  {
   "cell_type": "code",
   "execution_count": null,
   "id": "ded02a9d-62df-481f-be5d-e55f9b98c1fa",
   "metadata": {},
   "outputs": [],
   "source": [
    "target_genes = [\"Foxo1\", \"Tek\", \"Nos3\", \"Htra1\", \"Egfl8\", \"Flt1\", \"Kdr\", \"Nrp1\", \"Nrp2\", \"Efnb2\", \"Itgb1\", \"Itga6\", \"Angpt2\", \"Cdh5\", \"Cldn5\", \"Ocln\", \"Ctnnb1\"]"
   ]
  },
  {
   "cell_type": "code",
   "execution_count": null,
   "id": "994c7951-f530-4b59-9626-19705aa7e5fb",
   "metadata": {},
   "outputs": [],
   "source": [
    "other_genes_results = {\n",
    "    gene: utils.summarize_gene_expression(adata, gene, study_name = dataset_name, organism = organism, groupby = \"clusters\",\n",
    "                                    output_dir=os.path.join(main_dir, \"P06_Foxf2_per_celltype\", \"Other_genes_summarized\"), export=True\n",
    "                                   ) for gene in target_genes\n",
    "}"
   ]
  },
  {
   "cell_type": "code",
   "execution_count": null,
   "id": "b43e23f5-b02b-4fe8-b43e-477536a65e1a",
   "metadata": {},
   "outputs": [],
   "source": [
    "# some plots"
   ]
  },
  {
   "cell_type": "code",
   "execution_count": null,
   "id": "fb20cb2c-fe41-4df3-86cf-98ee3a1e7c59",
   "metadata": {
    "tags": []
   },
   "outputs": [],
   "source": [
    "sc.pl.matrixplot(adata, [target_genes[0]], groupby='clusters', swap_axes=False, figsize=(2,5), standard_scale=\"var\", layer=\"normalized\")"
   ]
  },
  {
   "cell_type": "code",
   "execution_count": null,
   "id": "60d871e7-d648-48d4-bdba-d3e58c33bfe5",
   "metadata": {},
   "outputs": [],
   "source": [
    "sc.pl.dotplot(adata, [target_genes[0]], groupby='clusters', swap_axes=False, figsize=(2,5), standard_scale=\"var\", layer=\"normalized\")"
   ]
  },
  {
   "cell_type": "code",
   "execution_count": null,
   "id": "a1d0a88f-7b3c-4f8b-a3e8-8657225e9a4f",
   "metadata": {},
   "outputs": [],
   "source": [
    "sc.pl.matrixplot(adata, [target_genes[1]], groupby='clusters', swap_axes=False, figsize=(2,5), standard_scale=\"var\", layer=\"normalized\")"
   ]
  },
  {
   "cell_type": "code",
   "execution_count": null,
   "id": "018f5c5f-8a0a-4fd3-b937-0b6d4736be31",
   "metadata": {},
   "outputs": [],
   "source": [
    "sc.pl.dotplot(adata, [target_genes[1]], groupby='clusters', swap_axes=False, figsize=(2,5), standard_scale=\"var\", layer=\"normalized\")"
   ]
  },
  {
   "cell_type": "markdown",
   "id": "16f83ad6-d3f0-4289-af09-99f41825333a",
   "metadata": {},
   "source": [
    "# Focus on: Tspo (for Herms lab)"
   ]
  },
  {
   "cell_type": "code",
   "execution_count": null,
   "id": "c1073ee1-8a08-4c96-bfc2-fe6a58197da2",
   "metadata": {},
   "outputs": [],
   "source": [
    "# for Herms lab 02/2025"
   ]
  },
  {
   "cell_type": "code",
   "execution_count": null,
   "id": "6908974c-3609-46c7-ba25-4d0361cd0ea0",
   "metadata": {},
   "outputs": [],
   "source": [
    "gene=\"Tspo\""
   ]
  },
  {
   "cell_type": "code",
   "execution_count": null,
   "id": "535c7ed6-13b8-4d7f-8860-d4d67926a54c",
   "metadata": {},
   "outputs": [],
   "source": [
    "sc.pl.matrixplot(adata, [gene], groupby='clusters', swap_axes=False, figsize=(2,5), standard_scale=\"var\")"
   ]
  },
  {
   "cell_type": "code",
   "execution_count": null,
   "id": "55e04a7c-146d-465b-99c9-e7e8c3223862",
   "metadata": {},
   "outputs": [],
   "source": [
    "sc.pl.dotplot(adata, [gene], groupby='clusters', swap_axes=False, figsize=(2,5), standard_scale=\"var\")"
   ]
  },
  {
   "cell_type": "code",
   "execution_count": null,
   "id": "4f22330f-cbef-490b-974f-bb2770ab7ea6",
   "metadata": {},
   "outputs": [],
   "source": [
    "utils.summarize_gene_expression(adata = adata, layer=None, gene = gene,\n",
    "                          study_name = dataset_name, organism = organism,\n",
    "                          export = True, output_dir = os.path.join(main_dir, 'P06_Foxf2_per_celltype', \"202502-Tspo-HermsLab\", \"Genes_summarized\")\n",
    "                          )"
   ]
  },
  {
   "cell_type": "code",
   "execution_count": null,
   "id": "3e56ef9d-60d9-4013-9e64-00bc1ab64702",
   "metadata": {},
   "outputs": [],
   "source": [
    "# mt genes\n",
    "mt_genes = [gene for gene in adata.var_names if gene.startswith(\"mt\")]\n",
    "mt_genes"
   ]
  },
  {
   "cell_type": "code",
   "execution_count": null,
   "id": "e5a06669-83e9-4126-a5b6-c920ea8dd108",
   "metadata": {},
   "outputs": [],
   "source": [
    "mt_results = {\n",
    "    gene: utils.summarize_gene_expression(adata = adata, layer=None, gene = gene, study_name = dataset_name, organism = organism, \n",
    "                                    output_dir=os.path.join(main_dir, \"P06_Foxf2_per_celltype\", \"202502-Tspo-HermsLab\", \"Genes_summarized\"), export=True\n",
    "                                   ) for gene in mt_genes\n",
    "}"
   ]
  },
  {
   "cell_type": "markdown",
   "id": "1c1c395d-261b-43b8-ba77-75a2d4b36b4a",
   "metadata": {},
   "source": [
    "# Correlate gene expression (Foxf2 and Foxo1)"
   ]
  },
  {
   "cell_type": "markdown",
   "id": "69b4ee69-0f96-4850-b17a-055df5cfde97",
   "metadata": {},
   "source": [
    "Using MAGIC denoising"
   ]
  },
  {
   "cell_type": "code",
   "execution_count": null,
   "id": "86396d90-1e3a-4a9b-b883-2fdcb37f77ce",
   "metadata": {
    "tags": []
   },
   "outputs": [],
   "source": [
    "import magic\n",
    "import scprep"
   ]
  },
  {
   "cell_type": "code",
   "execution_count": null,
   "id": "7020ccf2-9700-44c2-a952-4bcd45102f2b",
   "metadata": {
    "tags": []
   },
   "outputs": [],
   "source": [
    "gg = [\"Foxf2\",\"Foxo1\"]"
   ]
  },
  {
   "cell_type": "markdown",
   "id": "876ef5de-e981-451b-9ebd-5d95cb6ac581",
   "metadata": {},
   "source": [
    "## ECs"
   ]
  },
  {
   "cell_type": "code",
   "execution_count": null,
   "id": "c357a41b-7b50-4b8e-a39b-69e4ba77e41f",
   "metadata": {
    "tags": []
   },
   "outputs": [],
   "source": [
    "adata_EC = adata[adata.obs.clusters == \"Endothelial cells\"]"
   ]
  },
  {
   "cell_type": "code",
   "execution_count": null,
   "id": "8671d007-4c27-4e00-b426-522d09058608",
   "metadata": {
    "tags": []
   },
   "outputs": [],
   "source": [
    "adata_EC"
   ]
  },
  {
   "cell_type": "code",
   "execution_count": null,
   "id": "7036390d-fbf4-4980-a6f1-ecaf533b6d9a",
   "metadata": {
    "tags": []
   },
   "outputs": [],
   "source": [
    "#matrix = pd.DataFrame(adata_EC.X) # not compatible with sparse \n",
    "matrix = adata_EC.X\n",
    "matrix.columns = adata_EC.var.index.tolist()"
   ]
  },
  {
   "cell_type": "code",
   "execution_count": null,
   "id": "be9c1bf7-4551-4597-ae31-fd5d47553ece",
   "metadata": {
    "tags": []
   },
   "outputs": [],
   "source": [
    "cutoff_var = 500"
   ]
  },
  {
   "cell_type": "code",
   "execution_count": null,
   "id": "91d31be4-ba9c-44fd-9cb6-86a9354a77a1",
   "metadata": {
    "tags": []
   },
   "outputs": [],
   "source": [
    "scprep.plot.plot_library_size(matrix, cutoff=cutoff_var)"
   ]
  },
  {
   "cell_type": "code",
   "execution_count": null,
   "id": "00a15cdd-9e40-4fef-b1c6-687920b5a9ac",
   "metadata": {
    "tags": []
   },
   "outputs": [],
   "source": [
    "# filter lowly expressed genes and cells with a small library size\n",
    "#matrix = scprep.filter.filter_library_size(matrix, cutoff=cutoff_var)\n",
    "#matrix.head()"
   ]
  },
  {
   "cell_type": "markdown",
   "id": "ba1969a0-d0b2-4b4a-81cc-32a332a54e4c",
   "metadata": {},
   "source": [
    "Note: Skipped normalization as data is already log-normalized"
   ]
  },
  {
   "cell_type": "code",
   "execution_count": null,
   "id": "cfae9976-e975-42c9-a59c-1d211471e4e0",
   "metadata": {
    "tags": []
   },
   "outputs": [],
   "source": [
    "adata_EC.layers"
   ]
  },
  {
   "cell_type": "markdown",
   "id": "a65f1130-fdd1-4c2b-9510-bc5ecdc40429",
   "metadata": {},
   "source": [
    "### Creating the MAGIC operator\n",
    "If you don't specify parameters, MAGIC creates an operator with the following default values: knn=5, knn_max = 3 * knn, decay=1, t=3."
   ]
  },
  {
   "cell_type": "code",
   "execution_count": null,
   "id": "6b37a35c-7638-4e9f-8650-1561eb37ed37",
   "metadata": {
    "tags": []
   },
   "outputs": [],
   "source": [
    "magic_op = magic.MAGIC()"
   ]
  },
  {
   "cell_type": "markdown",
   "id": "160a0a07-168a-4319-9a4b-ca1951a33e57",
   "metadata": {},
   "source": [
    "### Running MAGIC with gene selection\n",
    "The magic_op.fit_transform function takes the normalized data and an array of selected genes as its arguments. If no genes are provided, MAGIC will return a matrix of all genes. The same can be achieved by substituting the array of gene names with genes='all_genes'."
   ]
  },
  {
   "cell_type": "code",
   "execution_count": null,
   "id": "cee3d6b7-acfc-4ea4-8e01-e52b3fec8497",
   "metadata": {
    "tags": []
   },
   "outputs": [],
   "source": [
    "%%time\n",
    "emt_magic = magic_op.fit_transform(adata_EC, genes=['Foxf2', 'Foxo1', 'Nos3'])"
   ]
  },
  {
   "cell_type": "markdown",
   "id": "dc0f7f64-fbba-4cd7-bdd5-193c307ce1c8",
   "metadata": {},
   "source": [
    "### Visualizing gene-gene relationships\n",
    "\n",
    "We can see gene-gene relationships much more clearly after applying MAGIC. Note that the change in absolute values of gene expression is not meaningful - the relative difference is all that matters."
   ]
  },
  {
   "cell_type": "code",
   "execution_count": null,
   "id": "f82dfa5c-b15b-4443-a9a6-b45b225217a5",
   "metadata": {
    "tags": []
   },
   "outputs": [],
   "source": [
    "fig, (ax1, ax2) = plt.subplots(1,2, figsize=(16, 6))\n",
    "\n",
    "scprep.plot.scatter(x=adata_EC[:,'Foxf2'].X.todense(), y=adata_EC[:,'Foxo1'].X.todense(), c=adata_EC[:,'Nos3'].X.todense(), ax = ax1,\n",
    "                    xlabel='Foxf2', ylabel='Foxo1', legend_title=\"Nos3\", title='Before MAGIC')\n",
    "\n",
    "scprep.plot.scatter(x=emt_magic[:,'Foxf2'].X, y=emt_magic[:,'Foxo1'].X, c=emt_magic[:,'Nos3'].X, ax=ax2,\n",
    "                    xlabel='Foxf2', ylabel='Foxo1', legend_title=\"Nos3\", title='After MAGIC')\n",
    "plt.axline((0.1,0.1), slope=1, color=\"black\", alpha=0.3, linestyle=\"--\")\n",
    "plt.tight_layout()\n",
    "plt.show()"
   ]
  },
  {
   "cell_type": "markdown",
   "id": "3029831f-6266-480a-981e-f83eec9d1d41",
   "metadata": {},
   "source": [
    "## PCs"
   ]
  },
  {
   "cell_type": "code",
   "execution_count": null,
   "id": "0230ec20-263f-42c5-8591-04d051bf68d5",
   "metadata": {
    "tags": []
   },
   "outputs": [],
   "source": [
    "adata_EC = adata[adata.obs.clusters == \"Pericytes\"]"
   ]
  },
  {
   "cell_type": "code",
   "execution_count": null,
   "id": "5b513761-9713-428f-b051-9da2ed6af26f",
   "metadata": {
    "tags": []
   },
   "outputs": [],
   "source": [
    "adata_EC"
   ]
  },
  {
   "cell_type": "code",
   "execution_count": null,
   "id": "ee6ac9a2-4147-4620-a171-b8fccb1370d9",
   "metadata": {
    "tags": []
   },
   "outputs": [],
   "source": [
    "#matrix = pd.DataFrame(adata_EC.X) # not compatible with sparse \n",
    "matrix = adata_EC.X\n",
    "matrix.columns = adata_EC.var.index.tolist()"
   ]
  },
  {
   "cell_type": "code",
   "execution_count": null,
   "id": "fc2c47a6-53f1-40a5-9d17-b2824ea80b5c",
   "metadata": {
    "tags": []
   },
   "outputs": [],
   "source": [
    "cutoff_var = 500"
   ]
  },
  {
   "cell_type": "code",
   "execution_count": null,
   "id": "895a2078-7c39-47e1-9944-3b124df2679d",
   "metadata": {
    "tags": []
   },
   "outputs": [],
   "source": [
    "scprep.plot.plot_library_size(matrix, cutoff=cutoff_var)"
   ]
  },
  {
   "cell_type": "code",
   "execution_count": null,
   "id": "9432fdd8-bd5d-4f96-8eb8-c7881990e6c0",
   "metadata": {
    "tags": []
   },
   "outputs": [],
   "source": [
    "# filter lowly expressed genes and cells with a small library size\n",
    "#matrix = scprep.filter.filter_library_size(matrix, cutoff=cutoff_var)\n",
    "#matrix.head()"
   ]
  },
  {
   "cell_type": "markdown",
   "id": "60b18eac-8eca-4502-b03f-447a7b7f4448",
   "metadata": {},
   "source": [
    "Note: Skipped normalization as data is already log-normalized"
   ]
  },
  {
   "cell_type": "code",
   "execution_count": null,
   "id": "865ee627-5c58-4d5f-b05a-35f0fbcf3ec1",
   "metadata": {
    "tags": []
   },
   "outputs": [],
   "source": [
    "adata_EC.layers"
   ]
  },
  {
   "cell_type": "markdown",
   "id": "c13d26bd-5084-4418-838e-fcfe28a5af0f",
   "metadata": {},
   "source": [
    "### Creating the MAGIC operator\n",
    "If you don't specify parameters, MAGIC creates an operator with the following default values: knn=5, knn_max = 3 * knn, decay=1, t=3."
   ]
  },
  {
   "cell_type": "code",
   "execution_count": null,
   "id": "c261412c-aecf-4c59-8b5c-a328ea98d57b",
   "metadata": {
    "tags": []
   },
   "outputs": [],
   "source": [
    "magic_op = magic.MAGIC()"
   ]
  },
  {
   "cell_type": "markdown",
   "id": "0d7a2283-2d1d-4955-a691-98300447b940",
   "metadata": {},
   "source": [
    "### Running MAGIC with gene selection\n",
    "The magic_op.fit_transform function takes the normalized data and an array of selected genes as its arguments. If no genes are provided, MAGIC will return a matrix of all genes. The same can be achieved by substituting the array of gene names with genes='all_genes'."
   ]
  },
  {
   "cell_type": "code",
   "execution_count": null,
   "id": "0d77850e-2e10-4ab3-a91b-968f26f385cb",
   "metadata": {
    "tags": []
   },
   "outputs": [],
   "source": [
    "%%time\n",
    "emt_magic = magic_op.fit_transform(adata_EC, genes=['Foxf2', 'Foxo1', 'Nos3'])"
   ]
  },
  {
   "cell_type": "markdown",
   "id": "9fe19382-3b38-4b83-8ec5-3b6bd9759b58",
   "metadata": {},
   "source": [
    "### Visualizing gene-gene relationships\n",
    "\n",
    "We can see gene-gene relationships much more clearly after applying MAGIC. Note that the change in absolute values of gene expression is not meaningful - the relative difference is all that matters."
   ]
  },
  {
   "cell_type": "code",
   "execution_count": null,
   "id": "f09eadcb-b3cf-4747-ae32-95cdfb168411",
   "metadata": {
    "tags": []
   },
   "outputs": [],
   "source": [
    "fig, (ax1, ax2) = plt.subplots(1,2, figsize=(16, 6))\n",
    "\n",
    "scprep.plot.scatter(x=adata_EC[:,'Foxf2'].X.todense(), y=adata_EC[:,'Foxo1'].X.todense(), c=adata_EC[:,'Nos3'].X.todense(), ax = ax1,\n",
    "                    xlabel='Foxf2', ylabel='Foxo1', legend_title=\"Nos3\", title='Before MAGIC')\n",
    "\n",
    "scprep.plot.scatter(x=emt_magic[:,'Foxf2'].X, y=emt_magic[:,'Foxo1'].X, c=emt_magic[:,'Nos3'].X, ax=ax2,\n",
    "                    xlabel='Foxf2', ylabel='Foxo1', legend_title=\"Nos3\", title='After MAGIC')\n",
    "plt.axline((0.1,0.1), slope=1, color=\"black\", alpha=0.3, linestyle=\"--\")\n",
    "plt.tight_layout()\n",
    "plt.show()"
   ]
  },
  {
   "cell_type": "markdown",
   "id": "0b451d43-412a-46fe-bafe-bf82bf5c3a29",
   "metadata": {},
   "source": [
    "## SMCs"
   ]
  },
  {
   "cell_type": "code",
   "execution_count": null,
   "id": "6ea1b1fa-a79f-4cd3-be5f-1e1a3eaec83c",
   "metadata": {
    "tags": []
   },
   "outputs": [],
   "source": [
    "adata_EC = adata[adata.obs.clusters == \"SMCs\"]"
   ]
  },
  {
   "cell_type": "code",
   "execution_count": null,
   "id": "2b04d2ce-80aa-4ebf-84e6-f0fcacbf6fce",
   "metadata": {
    "tags": []
   },
   "outputs": [],
   "source": [
    "adata_EC"
   ]
  },
  {
   "cell_type": "code",
   "execution_count": null,
   "id": "0b88397a-7c79-4309-8cf6-f41c22c8c169",
   "metadata": {
    "tags": []
   },
   "outputs": [],
   "source": [
    "#matrix = pd.DataFrame(adata_EC.X) # not compatible with sparse \n",
    "matrix = adata_EC.X\n",
    "matrix.columns = adata_EC.var.index.tolist()"
   ]
  },
  {
   "cell_type": "code",
   "execution_count": null,
   "id": "c830be1c-8640-4ae3-a523-7608f6b91ae3",
   "metadata": {
    "tags": []
   },
   "outputs": [],
   "source": [
    "cutoff_var = 500"
   ]
  },
  {
   "cell_type": "code",
   "execution_count": null,
   "id": "f94ae100-5615-4170-8e29-7f9a5dd1a696",
   "metadata": {
    "tags": []
   },
   "outputs": [],
   "source": [
    "scprep.plot.plot_library_size(matrix, cutoff=cutoff_var)"
   ]
  },
  {
   "cell_type": "code",
   "execution_count": null,
   "id": "715dc603-98a3-4c48-8718-ee747c7760ee",
   "metadata": {
    "tags": []
   },
   "outputs": [],
   "source": [
    "# filter lowly expressed genes and cells with a small library size\n",
    "#matrix = scprep.filter.filter_library_size(matrix, cutoff=cutoff_var)\n",
    "#matrix.head()"
   ]
  },
  {
   "cell_type": "markdown",
   "id": "0d3a88c8-3f17-4688-ad53-120674ffbfdf",
   "metadata": {},
   "source": [
    "Note: Skipped normalization as data is already log-normalized"
   ]
  },
  {
   "cell_type": "code",
   "execution_count": null,
   "id": "623e3cb2-ef52-4a8a-ba1d-bf6c482d5d83",
   "metadata": {
    "tags": []
   },
   "outputs": [],
   "source": [
    "adata_EC.layers"
   ]
  },
  {
   "cell_type": "markdown",
   "id": "b87f7ff6-e524-474d-b63f-58456608b748",
   "metadata": {},
   "source": [
    "### Creating the MAGIC operator\n",
    "If you don't specify parameters, MAGIC creates an operator with the following default values: knn=5, knn_max = 3 * knn, decay=1, t=3."
   ]
  },
  {
   "cell_type": "code",
   "execution_count": null,
   "id": "39c1115c-eabf-4271-bcc8-8d75f247138b",
   "metadata": {
    "tags": []
   },
   "outputs": [],
   "source": [
    "magic_op = magic.MAGIC()"
   ]
  },
  {
   "cell_type": "markdown",
   "id": "34c05a7e-8e03-4868-96aa-ae1cab24c77e",
   "metadata": {},
   "source": [
    "### Running MAGIC with gene selection\n",
    "The magic_op.fit_transform function takes the normalized data and an array of selected genes as its arguments. If no genes are provided, MAGIC will return a matrix of all genes. The same can be achieved by substituting the array of gene names with genes='all_genes'."
   ]
  },
  {
   "cell_type": "code",
   "execution_count": null,
   "id": "1ca47b03-9594-4f56-b21e-73451d2b23dd",
   "metadata": {
    "tags": []
   },
   "outputs": [],
   "source": [
    "%%time\n",
    "emt_magic = magic_op.fit_transform(adata_EC, genes=['Foxf2', 'Foxo1', 'Nos3'])"
   ]
  },
  {
   "cell_type": "markdown",
   "id": "279735d2-6bff-4474-a9a1-9533f3c0b815",
   "metadata": {},
   "source": [
    "### Visualizing gene-gene relationships\n",
    "\n",
    "We can see gene-gene relationships much more clearly after applying MAGIC. Note that the change in absolute values of gene expression is not meaningful - the relative difference is all that matters."
   ]
  },
  {
   "cell_type": "code",
   "execution_count": null,
   "id": "f7a3d8ec-8e7b-4e34-998c-407cac364150",
   "metadata": {
    "tags": []
   },
   "outputs": [],
   "source": [
    "fig, (ax1, ax2) = plt.subplots(1,2, figsize=(16, 6))\n",
    "\n",
    "scprep.plot.scatter(x=adata_EC[:,'Foxf2'].X.todense(), y=adata_EC[:,'Foxo1'].X.todense(), c=adata_EC[:,'Nos3'].X.todense(), ax = ax1,\n",
    "                    xlabel='Foxf2', ylabel='Foxo1', legend_title=\"Nos3\", title='Before MAGIC')\n",
    "\n",
    "scprep.plot.scatter(x=emt_magic[:,'Foxf2'].X, y=emt_magic[:,'Foxo1'].X, c=emt_magic[:,'Nos3'].X, ax=ax2,\n",
    "                    xlabel='Foxf2', ylabel='Foxo1', legend_title=\"Nos3\", title='After MAGIC')\n",
    "plt.axline((0.1,0.1), slope=1, color=\"black\", alpha=0.3, linestyle=\"--\")\n",
    "plt.tight_layout()\n",
    "plt.show()"
   ]
  },
  {
   "cell_type": "markdown",
   "id": "f76041e7-1d21-4972-9a07-dbf53af61031",
   "metadata": {},
   "source": [
    "## All cell types"
   ]
  },
  {
   "cell_type": "code",
   "execution_count": null,
   "id": "84ca2500-3c45-49d5-9c27-f2479ab9311f",
   "metadata": {
    "tags": []
   },
   "outputs": [],
   "source": [
    "adata"
   ]
  },
  {
   "cell_type": "code",
   "execution_count": null,
   "id": "5c2f6feb-fccd-45dd-b1f3-a74f8d6cc554",
   "metadata": {
    "tags": []
   },
   "outputs": [],
   "source": [
    "#matrix = pd.DataFrame(adata.X) # not compatible with sparse \n",
    "matrix = adata.X\n",
    "matrix.columns = adata.var.index.tolist()"
   ]
  },
  {
   "cell_type": "code",
   "execution_count": null,
   "id": "c45ca7fe-74ae-4610-a15b-131fa468d69a",
   "metadata": {
    "tags": []
   },
   "outputs": [],
   "source": [
    "cutoff_var = 500"
   ]
  },
  {
   "cell_type": "code",
   "execution_count": null,
   "id": "8068b31c-21dc-4852-ab57-d18c26bae17b",
   "metadata": {
    "tags": []
   },
   "outputs": [],
   "source": [
    "scprep.plot.plot_library_size(matrix, cutoff=cutoff_var)"
   ]
  },
  {
   "cell_type": "code",
   "execution_count": null,
   "id": "5f9d0ab7-5bf4-47ae-a375-1c72fe218c83",
   "metadata": {
    "tags": []
   },
   "outputs": [],
   "source": [
    "# filter lowly expressed genes and cells with a small library size\n",
    "#matrix = scprep.filter.filter_library_size(matrix, cutoff=cutoff_var)\n",
    "#matrix.head()"
   ]
  },
  {
   "cell_type": "markdown",
   "id": "05265f96-b6f6-46fa-addf-7723b25ecd0e",
   "metadata": {},
   "source": [
    "Note: Skipped normalization as data is already log-normalized"
   ]
  },
  {
   "cell_type": "code",
   "execution_count": null,
   "id": "c21513fb-9eda-4a85-bd3b-a2889cd0fd46",
   "metadata": {
    "tags": []
   },
   "outputs": [],
   "source": [
    "adata.layers"
   ]
  },
  {
   "cell_type": "markdown",
   "id": "7059cf56-362c-441a-adaa-b3c3f23e2230",
   "metadata": {},
   "source": [
    "### Creating the MAGIC operator\n",
    "If you don't specify parameters, MAGIC creates an operator with the following default values: knn=5, knn_max = 3 * knn, decay=1, t=3."
   ]
  },
  {
   "cell_type": "code",
   "execution_count": null,
   "id": "31694118-6069-4b65-b7d1-e4b0726dbd27",
   "metadata": {
    "tags": []
   },
   "outputs": [],
   "source": [
    "magic_op = magic.MAGIC()"
   ]
  },
  {
   "cell_type": "markdown",
   "id": "2d445ae9-ee10-479c-a333-5b092bc537c1",
   "metadata": {},
   "source": [
    "### Running MAGIC with gene selection\n",
    "The magic_op.fit_transform function takes the normalized data and an array of selected genes as its arguments. If no genes are provided, MAGIC will return a matrix of all genes. The same can be achieved by substituting the array of gene names with genes='all_genes'."
   ]
  },
  {
   "cell_type": "code",
   "execution_count": null,
   "id": "72f3c39b-1d53-4d2c-9099-02ab862a5a79",
   "metadata": {
    "tags": []
   },
   "outputs": [],
   "source": [
    "%%time\n",
    "emt_magic = magic_op.fit_transform(adata, genes=['Foxf2', 'Foxo1', 'Nos3'])"
   ]
  },
  {
   "cell_type": "markdown",
   "id": "82ab34ea-62be-409a-a27c-e0c2b5e91fb9",
   "metadata": {},
   "source": [
    "### Visualizing gene-gene relationships\n",
    "\n",
    "We can see gene-gene relationships much more clearly after applying MAGIC. Note that the change in absolute values of gene expression is not meaningful - the relative difference is all that matters."
   ]
  },
  {
   "cell_type": "code",
   "execution_count": null,
   "id": "ecb0bbc4-7545-4398-a65c-d7a14a51ee4e",
   "metadata": {},
   "outputs": [],
   "source": [
    "np.corrcoef(emt_magic[:,['Foxf2','Foxo1']].X, rowvar = False)[0][1]"
   ]
  },
  {
   "cell_type": "code",
   "execution_count": null,
   "id": "8353d07f-2caa-4614-90db-3fc78842e72f",
   "metadata": {
    "tags": []
   },
   "outputs": [],
   "source": [
    "fig, (ax1, ax2) = plt.subplots(1,2, figsize=(16, 6))\n",
    "\n",
    "scprep.plot.scatter(x=adata[:,'Foxf2'].X.todense(), y=adata[:,'Foxo1'].X.todense(), c=adata[:,'Nos3'].X.todense(), ax = ax1,\n",
    "                    xlabel='Foxf2', ylabel='Foxo1', legend_title=\"Nos3\", title='Before MAGIC')\n",
    "\n",
    "scprep.plot.scatter(x=emt_magic[:,'Foxf2'].X, y=emt_magic[:,'Foxo1'].X, c=emt_magic[:,'Nos3'].X, ax=ax2,\n",
    "                    xlabel='Foxf2', ylabel='Foxo1', legend_title=\"Nos3\", title='After MAGIC')\n",
    "\n",
    "plt.axline((0,0), slope=1, color=\"black\", alpha=0.3, linestyle=\"--\")\n",
    "\n",
    "plt.tight_layout()\n",
    "plt.show()"
   ]
  },
  {
   "cell_type": "markdown",
   "id": "063a7f53-35cd-49bd-9a47-08ebd2d21a4a",
   "metadata": {},
   "source": [
    "# Correlate gene expression (TSPO and mt genes)  "
   ]
  },
  {
   "cell_type": "markdown",
   "id": "7fa5ee62-6455-4185-8c56-5c369ae0d8c0",
   "metadata": {},
   "source": [
    "For Herms lab 02/2025"
   ]
  },
  {
   "cell_type": "code",
   "execution_count": null,
   "id": "60e09ed6-5030-4f51-9065-20cd6af4928f",
   "metadata": {},
   "outputs": [],
   "source": [
    "mt_genes = [gene for gene in adata.var_names if gene.startswith(\"mt\")]\n",
    "mt_genes"
   ]
  },
  {
   "cell_type": "code",
   "execution_count": null,
   "id": "5af114c7-b5c3-49d0-a689-d46ee0342a34",
   "metadata": {
    "tags": []
   },
   "outputs": [],
   "source": [
    "gg = [\"Tspo\"] + mt_genes"
   ]
  },
  {
   "cell_type": "markdown",
   "id": "b017d8a2-818c-40b9-a574-f18a4bbae230",
   "metadata": {},
   "source": [
    "## All Cell Types"
   ]
  },
  {
   "cell_type": "markdown",
   "id": "cc1a2f81-7fad-4f0f-9ef8-5f725b7d2ed2",
   "metadata": {},
   "source": [
    "Too slow.."
   ]
  },
  {
   "cell_type": "code",
   "execution_count": null,
   "id": "09693c8c-d90f-4ab0-bfe9-4208149bcf9d",
   "metadata": {
    "tags": []
   },
   "outputs": [],
   "source": [
    "#matrix = pd.DataFrame(adata.X) # not compatible with sparse \n",
    "matrix = adata.X\n",
    "matrix.columns = adata.var.index.tolist()"
   ]
  },
  {
   "cell_type": "code",
   "execution_count": null,
   "id": "bf272e32-864f-495b-8bde-abf83ad4bec0",
   "metadata": {
    "tags": []
   },
   "outputs": [],
   "source": [
    "cutoff_var = 500"
   ]
  },
  {
   "cell_type": "code",
   "execution_count": null,
   "id": "39690286-b2da-49e2-990d-290c74e70f4b",
   "metadata": {
    "tags": []
   },
   "outputs": [],
   "source": [
    "scprep.plot.plot_library_size(matrix, cutoff=cutoff_var)"
   ]
  },
  {
   "cell_type": "code",
   "execution_count": null,
   "id": "b1a3fa89-cbb2-49d4-957a-cbb262412bcd",
   "metadata": {},
   "outputs": [],
   "source": [
    "plt.show()"
   ]
  },
  {
   "cell_type": "code",
   "execution_count": null,
   "id": "e1fb8e84-388e-4735-8759-58d38c9a16a3",
   "metadata": {
    "tags": []
   },
   "outputs": [],
   "source": [
    "adata.layers"
   ]
  },
  {
   "cell_type": "code",
   "execution_count": null,
   "id": "3afb2352-002c-4eb8-84ff-c0dbd8a38ece",
   "metadata": {
    "tags": []
   },
   "outputs": [],
   "source": [
    "magic_op = magic.MAGIC()"
   ]
  },
  {
   "cell_type": "code",
   "execution_count": null,
   "id": "e38c0eb4-cac2-435b-8f98-5dacf0f494c3",
   "metadata": {
    "tags": []
   },
   "outputs": [],
   "source": [
    "%%time\n",
    "emt_magic = magic_op.fit_transform(adata, genes=gg)"
   ]
  },
  {
   "cell_type": "code",
   "execution_count": null,
   "id": "6086704c-4c71-429f-bc3e-7caa6a957bd3",
   "metadata": {},
   "outputs": [],
   "source": [
    "gene_x = 'Tspo'\n",
    "correlations = []\n",
    "for gene_y in gg[1:]:  # Start from index 1 to skip 'Tspo'\n",
    "    corr = np.corrcoef(emt_magic[:, [gene_x, gene_y]].X, rowvar=False)[0, 1]\n",
    "    correlations.append((gene_x, gene_y, corr))\n",
    "    print(f\"Correlation ({gene_x} vs {gene_y}): {corr:.3f}\")\n",
    "\n",
    "    fig, (ax1, ax2) = plt.subplots(1, 2, figsize=(13, 6))\n",
    "\n",
    "    scprep.plot.scatter(x=adata[:, gene_x].X.todense(), y=adata[:, gene_y].X.todense(),\n",
    "                        c=adata[:, gene_x].X.todense(), ax=ax1,\n",
    "                        xlabel=gene_x, ylabel=gene_y, legend_title=gene_x, title='Before MAGIC')\n",
    "    scprep.plot.scatter(x=emt_magic[:, gene_x].X, y=emt_magic[:, gene_y].X,\n",
    "                        c=emt_magic[:, gene_x].X, ax=ax2,\n",
    "                        xlabel=gene_x, ylabel=gene_y, legend_title=gene_x, title='After MAGIC')\n",
    "    plt.axline((0.5, 0.5), slope=1, color=\"black\", alpha=0.3, linestyle=\"--\")\n",
    "    plt.tight_layout()\n",
    "    plt.show()"
   ]
  },
  {
   "cell_type": "code",
   "execution_count": null,
   "id": "92cff707-7ae4-4481-9afd-2dea1b6d54ff",
   "metadata": {},
   "outputs": [],
   "source": [
    "correlation_df = pd.DataFrame(correlations, columns=[\"GeneA\", \"GeneB\", \"PearsonR\"])\n",
    "correlation_df[\"CellType\"] = \"across_all\"\n",
    "correlation_df = correlation_df.sort_values(\"PearsonR\")\n",
    "correlation_df"
   ]
  },
  {
   "cell_type": "code",
   "execution_count": null,
   "id": "369618e7-e2af-4fde-8783-503672450a84",
   "metadata": {},
   "outputs": [],
   "source": [
    "correlation_df.to_excel(os.path.join(main_dir, \"P06_Foxf2_per_celltype\", \"202502-Tspo-HermsLab\", date.today().strftime(\"%Y%m%d\") + \"_Saunders2018_MAGIC_correlation_results.xlsx\"), index=False)"
   ]
  },
  {
   "cell_type": "markdown",
   "id": "05c9fce0-fccd-486f-bd22-6503fd46d6fe",
   "metadata": {},
   "source": [
    "## ECs"
   ]
  },
  {
   "cell_type": "code",
   "execution_count": null,
   "id": "d45fd318-4efe-4b91-beea-c3d686ffcc9a",
   "metadata": {},
   "outputs": [],
   "source": [
    "celltype = \"Endothelial cells\""
   ]
  },
  {
   "cell_type": "code",
   "execution_count": null,
   "id": "e010e329-3af4-479c-b0fe-779bddfc5fc6",
   "metadata": {
    "tags": []
   },
   "outputs": [],
   "source": [
    "adata_EC = adata[adata.obs.clusters == celltype]"
   ]
  },
  {
   "cell_type": "code",
   "execution_count": null,
   "id": "b279399d-ee80-4d69-a8b4-30e268eac2a6",
   "metadata": {
    "tags": []
   },
   "outputs": [],
   "source": [
    "adata_EC"
   ]
  },
  {
   "cell_type": "code",
   "execution_count": null,
   "id": "ce03dd01-8780-4d5d-8492-14089f623a72",
   "metadata": {
    "tags": []
   },
   "outputs": [],
   "source": [
    "#matrix = pd.DataFrame(adata_EC.X) # not compatible with sparse \n",
    "matrix = adata_EC.X\n",
    "matrix.columns = adata_EC.var.index.tolist()"
   ]
  },
  {
   "cell_type": "code",
   "execution_count": null,
   "id": "610f813b-f4be-42a2-81da-ac5dfd567b1b",
   "metadata": {
    "tags": []
   },
   "outputs": [],
   "source": [
    "cutoff_var = 500"
   ]
  },
  {
   "cell_type": "code",
   "execution_count": null,
   "id": "cdf6b698-6435-414d-a40f-d2e65ddb2e70",
   "metadata": {
    "tags": []
   },
   "outputs": [],
   "source": [
    "scprep.plot.plot_library_size(matrix, cutoff=cutoff_var)"
   ]
  },
  {
   "cell_type": "code",
   "execution_count": null,
   "id": "c762a49e-6c33-4325-91da-2782ef977925",
   "metadata": {},
   "outputs": [],
   "source": [
    "plt.show()"
   ]
  },
  {
   "cell_type": "code",
   "execution_count": null,
   "id": "6a482540-98be-465a-ad98-3c7e0af523bf",
   "metadata": {
    "tags": []
   },
   "outputs": [],
   "source": [
    "# filter lowly expressed genes and cells with a small library size\n",
    "#matrix = scprep.filter.filter_library_size(matrix, cutoff=cutoff_var)\n",
    "#matrix.head()"
   ]
  },
  {
   "cell_type": "markdown",
   "id": "1f464956-e6ec-4893-83fe-f4c044182fbf",
   "metadata": {},
   "source": [
    "Note: Skipped normalization as data is already log-normalized"
   ]
  },
  {
   "cell_type": "code",
   "execution_count": null,
   "id": "16278b2d-349f-4fb3-9e64-5a7cb0f544ce",
   "metadata": {
    "tags": []
   },
   "outputs": [],
   "source": [
    "adata_EC.layers"
   ]
  },
  {
   "cell_type": "code",
   "execution_count": null,
   "id": "4baea90d-92ce-4fb5-8c55-1fd61915a8c8",
   "metadata": {
    "tags": []
   },
   "outputs": [],
   "source": [
    "magic_op = magic.MAGIC()"
   ]
  },
  {
   "cell_type": "code",
   "execution_count": null,
   "id": "4267a4bd-e623-4b66-a95d-01cd6a5303ad",
   "metadata": {
    "tags": []
   },
   "outputs": [],
   "source": [
    "%%time\n",
    "emt_magic = magic_op.fit_transform(adata_EC, genes=gg)"
   ]
  },
  {
   "cell_type": "code",
   "execution_count": null,
   "id": "2ec5c117-ea8e-424e-9e95-53fce5a80d4d",
   "metadata": {
    "tags": []
   },
   "outputs": [],
   "source": [
    "gene_x = 'Tspo'\n",
    "correlations = []\n",
    "\n",
    "for gene_y in gg[1:]:  # Start from index 1 to skip 'Tspo'\n",
    "    corr = np.corrcoef(emt_magic[:, [gene_x, gene_y]].X, rowvar=False)[0, 1]\n",
    "    correlations.append((gene_x, gene_y, corr))\n",
    "\n",
    "    fig, (ax1, ax2) = plt.subplots(1, 2, figsize=(13, 6))\n",
    "\n",
    "    # Scatter plot before MAGIC\n",
    "    scprep.plot.scatter(x=adata[:, gene_x].X.todense(), y=adata[:, gene_y].X.todense(),\n",
    "                        c=adata[:, gene_x].X.todense(), ax=ax1,\n",
    "                        xlabel=gene_x, ylabel=gene_y, legend_title=gene_x, title='Before MAGIC')\n",
    "\n",
    "    # Scatter plot after MAGIC\n",
    "    scprep.plot.scatter(x=emt_magic[:, gene_x].X, y=emt_magic[:, gene_y].X,\n",
    "                        c=emt_magic[:, gene_x].X, ax=ax2,\n",
    "                        xlabel=gene_x, ylabel=gene_y, legend_title=gene_x, title='After MAGIC')\n",
    "\n",
    "    # Add correlation text to the second plot\n",
    "    ax2.text(0.75, 0.97, f\"r = {corr:.2f}\", transform=ax2.transAxes,\n",
    "             fontsize=15, verticalalignment='top', bbox=dict(facecolor='white', alpha=0.5))\n",
    "\n",
    "    #plt.axline((0.1, 0.01), slope=1, color=\"black\", alpha=0.3, linestyle=\"--\")\n",
    "    plt.tight_layout()\n",
    "\n",
    "    # Save plot\n",
    "    plt.savefig(os.path.join(main_dir, 'P06_Foxf2_per_celltype', '202502-Tspo-HermsLab', \n",
    "                            'plots', 'scatter_plots', date.today().strftime(\"%Y%m%d\")+f'_{dataset_name}{organism}_{celltype}_{gene_x}_{gene_y}.png'), \n",
    "               dpi=500)\n",
    "\n",
    "    plt.show()"
   ]
  },
  {
   "cell_type": "code",
   "execution_count": null,
   "id": "f6594b28-120c-4837-aa82-2b15020ebd01",
   "metadata": {},
   "outputs": [],
   "source": [
    "correlation_df = pd.DataFrame(correlations, columns=[\"GeneA\", \"GeneB\", \"PearsonR\"])\n",
    "correlation_df[\"CellType\"] = celltype\n",
    "correlation_df = correlation_df.sort_values(\"PearsonR\")\n",
    "correlation_df"
   ]
  },
  {
   "cell_type": "code",
   "execution_count": null,
   "id": "b9657e90-7fa0-4da5-bafc-91d8cdd8cf8c",
   "metadata": {},
   "outputs": [],
   "source": [
    "correlation_df.to_excel(os.path.join(main_dir, \"P06_Foxf2_per_celltype\", \"202502-Tspo-HermsLab\", date.today().strftime(\"%Y%m%d\") + f\"_{dataset_name}{organism}_MAGIC_correlation_results_{celltype}.xlsx\"), index=False)"
   ]
  },
  {
   "cell_type": "markdown",
   "id": "b0df07c1-6079-49cc-8b4b-74b887daa4c6",
   "metadata": {},
   "source": [
    "## Microglia/Macrophages"
   ]
  },
  {
   "cell_type": "code",
   "execution_count": null,
   "id": "5d0f548a-33b8-4be1-9bbc-281136bd646d",
   "metadata": {},
   "outputs": [],
   "source": [
    "celltype = \"Microglia/Macrophages\""
   ]
  },
  {
   "cell_type": "code",
   "execution_count": null,
   "id": "c666f81b-794b-443d-a02c-03f1ebbc48f5",
   "metadata": {
    "tags": []
   },
   "outputs": [],
   "source": [
    "adata_sub = adata[adata.obs.clusters == celltype]"
   ]
  },
  {
   "cell_type": "code",
   "execution_count": null,
   "id": "ce8fd435-238a-417e-bb33-39305b7a5f6f",
   "metadata": {
    "tags": []
   },
   "outputs": [],
   "source": [
    "adata_sub"
   ]
  },
  {
   "cell_type": "code",
   "execution_count": null,
   "id": "a37c6dc8-cf37-4c1b-98ce-b32e6efb5079",
   "metadata": {
    "tags": []
   },
   "outputs": [],
   "source": [
    "#matrix = pd.DataFrame(adata_EC.X) # not compatible with sparse \n",
    "matrix = adata_sub.X\n",
    "matrix.columns = adata_sub.var.index.tolist()"
   ]
  },
  {
   "cell_type": "code",
   "execution_count": null,
   "id": "bfbd9e08-ecda-41c1-bce6-5f885e7dcdd2",
   "metadata": {
    "tags": []
   },
   "outputs": [],
   "source": [
    "cutoff_var = 500"
   ]
  },
  {
   "cell_type": "code",
   "execution_count": null,
   "id": "bd519780-0736-4627-896b-e983c688d419",
   "metadata": {
    "tags": []
   },
   "outputs": [],
   "source": [
    "scprep.plot.plot_library_size(matrix, cutoff=cutoff_var)"
   ]
  },
  {
   "cell_type": "code",
   "execution_count": null,
   "id": "93f8795d-8445-4e47-88e1-763c146f3bf2",
   "metadata": {},
   "outputs": [],
   "source": [
    "plt.show()"
   ]
  },
  {
   "cell_type": "code",
   "execution_count": null,
   "id": "345552ea-1bce-4694-bc7f-01652de2ec4c",
   "metadata": {
    "tags": []
   },
   "outputs": [],
   "source": [
    "adata_sub.layers"
   ]
  },
  {
   "cell_type": "code",
   "execution_count": null,
   "id": "0de3d792-67c6-4e23-a1f7-62d60176224f",
   "metadata": {
    "tags": []
   },
   "outputs": [],
   "source": [
    "magic_op = magic.MAGIC()"
   ]
  },
  {
   "cell_type": "code",
   "execution_count": null,
   "id": "94bc6da0-fe98-4a59-a809-ffe3cff76934",
   "metadata": {
    "tags": []
   },
   "outputs": [],
   "source": [
    "%%time\n",
    "emt_magic = magic_op.fit_transform(adata_sub, genes=gg)"
   ]
  },
  {
   "cell_type": "code",
   "execution_count": null,
   "id": "b2b05f88-f0e8-4a1c-a9b1-eea2d47b35dc",
   "metadata": {
    "tags": []
   },
   "outputs": [],
   "source": [
    "gene_x = 'Tspo'\n",
    "correlations = []\n",
    "\n",
    "for gene_y in gg[1:]:  # Start from index 1 to skip 'Tspo'\n",
    "    corr = np.corrcoef(emt_magic[:, [gene_x, gene_y]].X, rowvar=False)[0, 1]\n",
    "    correlations.append((gene_x, gene_y, corr))\n",
    "\n",
    "    fig, (ax1, ax2) = plt.subplots(1, 2, figsize=(13, 6))\n",
    "\n",
    "    # Scatter plot before MAGIC\n",
    "    scprep.plot.scatter(x=adata[:, gene_x].X.todense(), y=adata[:, gene_y].X.todense(),\n",
    "                        c=adata[:, gene_x].X.todense(), ax=ax1,\n",
    "                        xlabel=gene_x, ylabel=gene_y, legend_title=gene_x, title='Before MAGIC')\n",
    "\n",
    "    # Scatter plot after MAGIC\n",
    "    scprep.plot.scatter(x=emt_magic[:, gene_x].X, y=emt_magic[:, gene_y].X,\n",
    "                        c=emt_magic[:, gene_x].X, ax=ax2,\n",
    "                        xlabel=gene_x, ylabel=gene_y, legend_title=gene_x, title='After MAGIC')\n",
    "\n",
    "    # Add correlation text to the second plot\n",
    "    ax2.text(0.75, 0.97, f\"r = {corr:.2f}\", transform=ax2.transAxes,\n",
    "             fontsize=15, verticalalignment='top', bbox=dict(facecolor='white', alpha=0.5))\n",
    "\n",
    "    #plt.axline((0.1, 0.01), slope=1, color=\"black\", alpha=0.3, linestyle=\"--\")\n",
    "    plt.tight_layout()\n",
    "\n",
    "    # Save plot\n",
    "    plt.savefig(os.path.join(main_dir, 'P06_Foxf2_per_celltype', '202502-Tspo-HermsLab', \n",
    "                            'plots', 'scatter_plots', date.today().strftime(\"%Y%m%d\")+f'_{dataset_name}{organism}_{celltype.replace(\"/\", \"\")}_{gene_x}_{gene_y}.png'), \n",
    "               dpi=500)\n",
    "\n",
    "    plt.show()"
   ]
  },
  {
   "cell_type": "code",
   "execution_count": null,
   "id": "456185ff-e31d-4536-a84d-d7491e4c6e57",
   "metadata": {},
   "outputs": [],
   "source": [
    "correlation_df = pd.DataFrame(correlations, columns=[\"GeneA\", \"GeneB\", \"PearsonR\"])\n",
    "correlation_df[\"CellType\"] = celltype.replace(\"/\", \"\")\n",
    "correlation_df = correlation_df.sort_values(\"PearsonR\")\n",
    "correlation_df"
   ]
  },
  {
   "cell_type": "code",
   "execution_count": null,
   "id": "bdbc96b1-471c-4856-8991-ee4124da5c5b",
   "metadata": {},
   "outputs": [],
   "source": [
    "ct = celltype.replace(\"/\", \"\")\n",
    "correlation_df.to_excel(os.path.join(main_dir, \"P06_Foxf2_per_celltype\", \"202502-Tspo-HermsLab\", date.today().strftime(\"%Y%m%d\") + f\"_{dataset_name}{organism}_MAGIC_correlation_results_{ct}.xlsx\"), index=False)"
   ]
  },
  {
   "cell_type": "markdown",
   "id": "f6eb5b00-b28e-4b59-84e2-d4d16c9dcb26",
   "metadata": {
    "tags": []
   },
   "source": [
    "# Save"
   ]
  },
  {
   "cell_type": "code",
   "execution_count": null,
   "id": "55ad64b0-a5b4-4769-a72a-3cd182d56bd7",
   "metadata": {},
   "outputs": [],
   "source": [
    "ad_sc"
   ]
  },
  {
   "cell_type": "code",
   "execution_count": null,
   "id": "1ef8a85d-5baf-4d63-a9d0-e6d9aa73c4c8",
   "metadata": {},
   "outputs": [],
   "source": [
    "name='saunders_normalised_logarithmised_annotated'"
   ]
  },
  {
   "cell_type": "code",
   "execution_count": null,
   "id": "f7781cdc-d9b5-40ee-a965-1fb7e596dc37",
   "metadata": {},
   "outputs": [],
   "source": [
    "main_dir"
   ]
  },
  {
   "cell_type": "code",
   "execution_count": null,
   "id": "87dd23f4-15f8-4702-a8e4-59fc78572c03",
   "metadata": {},
   "outputs": [],
   "source": [
    "# Saunders\n",
    "# Linux: writing to mounted drive causes error. save locally then move.\n",
    "#sc.write(adata=ad_sc, main_dir+\"\\P6_vasc_scRNAseq\\DropViz\\\\all_by_region\\input\\\\processed\\\\\" + date.today().strftime(\"%Y%m%d\")+'_'+name+'.h5ad')\n",
    "os.chdir('/home/simon/Downloads')\n",
    "sc.write(adata=ad_sc,filename=date.today().strftime(\"%Y%m%d\")+'_'+name+'.h5ad')"
   ]
  },
  {
   "cell_type": "markdown",
   "id": "2b50bbcc-d764-49b9-8cc0-d3173fd8239e",
   "metadata": {},
   "source": [
    "# Session Info"
   ]
  },
  {
   "cell_type": "code",
   "execution_count": null,
   "id": "06401063-4335-4d98-ad41-2bab36a17eab",
   "metadata": {},
   "outputs": [],
   "source": [
    "sc.logging.print_versions()"
   ]
  }
 ],
 "metadata": {
  "kernelspec": {
   "display_name": "Python 3 (ipykernel)",
   "language": "python",
   "name": "python3"
  },
  "language_info": {
   "codemirror_mode": {
    "name": "ipython",
    "version": 3
   },
   "file_extension": ".py",
   "mimetype": "text/x-python",
   "name": "python",
   "nbconvert_exporter": "python",
   "pygments_lexer": "ipython3"
  }
 },
 "nbformat": 4,
 "nbformat_minor": 5
}
