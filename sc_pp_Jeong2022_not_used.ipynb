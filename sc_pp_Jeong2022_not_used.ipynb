{
 "cells": [
  {
   "cell_type": "markdown",
   "id": "9bfa00be-69ba-4146-aba2-818b967492c3",
   "metadata": {
    "jp-MarkdownHeadingCollapsed": true,
    "tags": []
   },
   "source": [
    "<font size=\"+3.8\">Scanpy single-cell pre-processing</font>  \n",
    "<font size=\"+1.5\"></font>  "
   ]
  },
  {
   "cell_type": "markdown",
   "id": "7f9434a8-16db-4c2d-9dc3-146eb194b3a3",
   "metadata": {},
   "source": [
    "sfrerich"
   ]
  },
  {
   "cell_type": "markdown",
   "id": "563f0b43-ce10-475f-b355-6fa8a2406dad",
   "metadata": {},
   "source": [
    "Aim: Preprocess mouse brain single-cell data from Ximerakis 2019 Nat Neuroscience"
   ]
  },
  {
   "cell_type": "code",
   "execution_count": null,
   "id": "c4f25c8a-47e9-48b5-af79-04fe44b4068d",
   "metadata": {},
   "outputs": [],
   "source": [
    "import numpy as np\n",
    "import pandas as pd\n",
    "import scanpy as sc\n",
    "import anndata\n",
    "import matplotlib.pyplot as plt\n",
    "import os\n",
    "from datetime import date\n",
    "from matplotlib.pyplot import rc_context"
   ]
  },
  {
   "cell_type": "code",
   "execution_count": null,
   "id": "fc7d8b45-6ec5-428f-89f2-08540e479ab8",
   "metadata": {},
   "outputs": [],
   "source": [
    "sc.settings.verbosity = 3"
   ]
  },
  {
   "cell_type": "code",
   "execution_count": null,
   "id": "f46a7618-6a0d-48a7-b77a-065afc204527",
   "metadata": {},
   "outputs": [],
   "source": [
    "main_dir='/run/user/1000/gvfs/smb-share:server=138.245.4.35,share=bd-dichgans/SF' # Linux"
   ]
  },
  {
   "cell_type": "code",
   "execution_count": null,
   "id": "3fd52f8c-ea1e-4f2c-809f-5515a5e2ced6",
   "metadata": {},
   "outputs": [],
   "source": [
    "main_dir='\\\\\\isdsynnas.srv.med.uni-muenchen.de\\BD-Dichgans\\SF' # Win"
   ]
  },
  {
   "cell_type": "markdown",
   "id": "d75da520-0b28-417d-877e-f167db41ef30",
   "metadata": {},
   "source": [
    "# Load data"
   ]
  },
  {
   "cell_type": "markdown",
   "id": "00e3b5cb-f957-4175-aedf-471b195dfb60",
   "metadata": {
    "tags": []
   },
   "source": [
    "Downloaded from: https://www.ncbi.nlm.nih.gov/geo/query/acc.cgi?acc=GSE133283 06/03/2023"
   ]
  },
  {
   "cell_type": "markdown",
   "id": "3e069d4e-c571-4bf5-8737-eb63d5d0c9ff",
   "metadata": {},
   "source": [
    "Note: Data provided unprocessed and not annotated per animal."
   ]
  },
  {
   "cell_type": "code",
   "execution_count": null,
   "id": "74187200-91c2-4392-a9b8-9c27a9e0763d",
   "metadata": {},
   "outputs": [],
   "source": []
  },
  {
   "cell_type": "code",
   "execution_count": null,
   "id": "85a5bfa3-44d3-409b-809b-8e47a01484b9",
   "metadata": {},
   "outputs": [],
   "source": [
    "t = pd.read_csv(main_dir+\"\\\\P6_vasc_scRNAseq\\Jeong2022\\\\count_matrix\\\\GSM3904816_Adult-1_gene_counts.tsv.gz\", sep=\"\\t\",index_col=None)\n",
    "t[\"count\"].value_counts()"
   ]
  },
  {
   "cell_type": "code",
   "execution_count": null,
   "id": "e9e94524-6265-4d7d-b23b-c6869ae9a586",
   "metadata": {},
   "outputs": [],
   "source": []
  },
  {
   "cell_type": "code",
   "execution_count": null,
   "id": "49d93694-983b-49f6-aecc-8e27ec80bcb5",
   "metadata": {},
   "outputs": [],
   "source": [
    "t"
   ]
  },
  {
   "cell_type": "code",
   "execution_count": null,
   "id": "e1743927-ba46-4fe7-86b2-d1bfbb0285ce",
   "metadata": {},
   "outputs": [],
   "source": []
  },
  {
   "cell_type": "code",
   "execution_count": null,
   "id": "154b0585-2745-4ec4-a0dd-a198bbb91543",
   "metadata": {},
   "outputs": [],
   "source": [
    "t=pd.read_csv(main_dir+\"\\\\P6_vasc_scRNAseq\\Jeong2022\\\\count_matrix\\\\GSM3904817_Adult-2_gene_counts.tsv.gz\", sep=\"\\t\")\n",
    "t = t.pivot(index='cell', columns='gene', values='count')\n",
    "t = t.fillna(0)\n",
    "adata = sc.AnnData(t)\n",
    "adata"
   ]
  },
  {
   "cell_type": "code",
   "execution_count": null,
   "id": "085a537c-c1f7-4770-9f15-a72795964739",
   "metadata": {},
   "outputs": [],
   "source": [
    "t"
   ]
  },
  {
   "cell_type": "code",
   "execution_count": null,
   "id": "e4db1631-6a19-4fe1-af7a-2dbb9aab91a4",
   "metadata": {},
   "outputs": [],
   "source": [
    "import glob\n",
    "path = main_dir+'\\\\P6_vasc_scRNAseq\\\\Jeong2022\\\\count_matrix' \n",
    "all_files = glob.glob(os.path.join(path , \"*.tsv.gz\"))\n",
    "all_files"
   ]
  },
  {
   "cell_type": "code",
   "execution_count": null,
   "id": "448cb746-3cd5-4528-99d3-46804756ac8e",
   "metadata": {},
   "outputs": [],
   "source": [
    "all_files[0]"
   ]
  },
  {
   "cell_type": "code",
   "execution_count": null,
   "id": "27cefdcf-8bf2-4bde-bf11-5a143bfbf0c0",
   "metadata": {},
   "outputs": [],
   "source": [
    "index = all_files[0].find(\"GSM\")\n",
    "index"
   ]
  },
  {
   "cell_type": "code",
   "execution_count": null,
   "id": "2f5d8d7c-9d5f-4984-9283-82ab415eaf5d",
   "metadata": {},
   "outputs": [],
   "source": []
  },
  {
   "cell_type": "code",
   "execution_count": null,
   "id": "6c7d6b4a-0d77-425f-b329-d48942408a2e",
   "metadata": {},
   "outputs": [],
   "source": []
  },
  {
   "cell_type": "code",
   "execution_count": null,
   "id": "e0cb6eae-c30a-46bd-b59d-e570fee8a6ef",
   "metadata": {},
   "outputs": [],
   "source": [
    "gsm_number = (all_files[0].split('_')[0]\n",
    "              .split('GSM')[1])\n",
    "print(gsm_number)\n"
   ]
  },
  {
   "cell_type": "code",
   "execution_count": null,
   "id": "e0565527-2be3-4df3-8ef9-75950c4644fd",
   "metadata": {},
   "outputs": [],
   "source": [
    "li = []\n",
    "\n",
    "for filename in all_files:\n",
    "    df = pd.read_csv(filename, sep=\"\\t\",index_col=None)\n",
    "    df[\"cell\"] = \"GSM\"+filename.split('GSM')[1].split('_')[0]+\"_\"+filename.split('GSM')[1].split('_')[1]+\"_\"+df[\"cell\"] # add gsm and sample to cell id\n",
    "    #df[\"cell\"] = df[\"cell\"]+\n",
    "    df = df.pivot(index='cell', columns='gene', values='count')\n",
    "    df = df.fillna(0)\n",
    "    adata = sc.AnnData(df)   \n",
    "    li.append(df)\n",
    "#all = pd.concat(li, axis=1, ignore_index=True)"
   ]
  },
  {
   "cell_type": "code",
   "execution_count": null,
   "id": "36176a87-4446-4252-8e6e-1f7a02f62bf7",
   "metadata": {},
   "outputs": [],
   "source": [
    "li"
   ]
  },
  {
   "cell_type": "code",
   "execution_count": null,
   "id": "540f5d60-d988-4a26-99c9-6db0bb92c193",
   "metadata": {},
   "outputs": [],
   "source": [
    "all = pd.concat(li, axis=1)"
   ]
  },
  {
   "cell_type": "code",
   "execution_count": null,
   "id": "f0ad7caa-1244-4d51-8268-3cfaf99857ea",
   "metadata": {},
   "outputs": [],
   "source": [
    "all"
   ]
  },
  {
   "cell_type": "code",
   "execution_count": null,
   "id": "5af0879b-3a16-4142-944e-7e380b5a9729",
   "metadata": {},
   "outputs": [],
   "source": [
    "all.pivot(index='cell', columns='gene', values='count')\n"
   ]
  },
  {
   "cell_type": "code",
   "execution_count": null,
   "id": "e445ec06-9b7e-4d9f-8d1d-62d804e6ce11",
   "metadata": {},
   "outputs": [],
   "source": []
  },
  {
   "cell_type": "code",
   "execution_count": null,
   "id": "207015c9-6c63-451c-b605-9e4e9cfd000e",
   "metadata": {},
   "outputs": [],
   "source": []
  },
  {
   "cell_type": "code",
   "execution_count": null,
   "id": "204b3835-1392-44b1-aeae-1546c3bb48ed",
   "metadata": {},
   "outputs": [],
   "source": []
  },
  {
   "cell_type": "code",
   "execution_count": null,
   "id": "866fcc4b-c0a8-4429-a759-4c3d8ca6583c",
   "metadata": {},
   "outputs": [],
   "source": [
    "ad = sc.read_text(main_dir+\"\\\\P6_vasc_scRNAseq\\Jeong2022\\\\GSM3904817_Adult-2_gene_counts.tsv.gz\")\n",
    "ad"
   ]
  },
  {
   "cell_type": "code",
   "execution_count": null,
   "id": "db7248a2-f1a5-4f66-bbc1-280d249d15fb",
   "metadata": {},
   "outputs": [],
   "source": [
    "ad.obs.head()"
   ]
  },
  {
   "cell_type": "code",
   "execution_count": null,
   "id": "f9a0b820-bd46-4cf3-9fe2-ce4e816f593a",
   "metadata": {},
   "outputs": [],
   "source": [
    "ad.var_names"
   ]
  },
  {
   "cell_type": "code",
   "execution_count": null,
   "id": "9302a9d2-a9f7-4328-880a-338f291a10a3",
   "metadata": {},
   "outputs": [],
   "source": [
    "# add metadata\n",
    "meta = pd.read_csv(main_dir+\"\\\\P6_vasc_scRNAseq\\Ximerakis2019\\\\meta_Aging_mouse_brain_portal_data.txt\", sep=\"\\t\", skiprows=[1])\n",
    "meta.head()"
   ]
  },
  {
   "cell_type": "code",
   "execution_count": null,
   "id": "7a426ebb-4e06-4b7b-8484-641673aabf7d",
   "metadata": {},
   "outputs": [],
   "source": [
    "assert all(ad.obs.index == meta.NAME)\n",
    "ad.obs = meta\n",
    "ad"
   ]
  },
  {
   "cell_type": "code",
   "execution_count": null,
   "id": "08970314-934d-4f9e-80d0-80955819eae7",
   "metadata": {
    "tags": []
   },
   "outputs": [],
   "source": [
    "pd.value_counts(ad.obs[\"cell_class\"])"
   ]
  },
  {
   "cell_type": "code",
   "execution_count": null,
   "id": "2f1c70fa-c2f7-41f4-acb9-e0803e0eda87",
   "metadata": {
    "tags": []
   },
   "outputs": [],
   "source": [
    "pd.value_counts(ad.obs[\"cell_type\"])"
   ]
  },
  {
   "cell_type": "code",
   "execution_count": null,
   "id": "b29a932b-0194-4d7e-8802-4decea5b0b06",
   "metadata": {
    "tags": []
   },
   "outputs": [],
   "source": [
    "ad.obs[\"age\"] = ad.obs[\"all_cells_by_age\"]\n",
    "pd.value_counts(ad.obs[\"age\"])"
   ]
  },
  {
   "cell_type": "code",
   "execution_count": null,
   "id": "f27284af-3f51-4268-a1c4-28ffbebc3cd5",
   "metadata": {
    "tags": []
   },
   "outputs": [],
   "source": [
    "pd.crosstab(ad.obs[\"cell_type\"], ad.obs[\"cell_class\"])"
   ]
  },
  {
   "cell_type": "code",
   "execution_count": null,
   "id": "d077df0c-b566-4e60-84c2-9a1e2ed96c28",
   "metadata": {},
   "outputs": [],
   "source": [
    "# also see website"
   ]
  },
  {
   "cell_type": "code",
   "execution_count": null,
   "id": "aa6f44e9-2604-4beb-8eeb-36a0ab1c1e9e",
   "metadata": {},
   "outputs": [],
   "source": [
    "new_names = {\n",
    "    'Endothelial cells': {'EC'},\n",
    "    'Oligos': {'OLG'},\n",
    "    'Olfactory ensheathing glia': {'OEG'},\n",
    "    'Astrocytes': {'ARP','ASC'},\n",
    "    'Pericytes': {'PC'},\n",
    "    'SMCs': {'VSMC'},\n",
    "    'Neurons': {'NRP','NEUR_immature','NEUR_mature','NendC'},\n",
    "    'OPCs': {'OPC'},\n",
    "    'VLMCs': {'VLMC','ABC'},\n",
    "    'Microglia/Macrophages': {'MG','MAC'},\n",
    "    'Neural stem cells': {'NSC'},\n",
    "    'Ependymal cells': {'EPC'},\n",
    "    'Hypendymal cells': {'HypEPC','TNC'},\n",
    "    'Choroid plexus epithelial cells':{'CPC'},\n",
    "    'Immune_Other': {'MNC','DC','NEUT'},\n",
    "    'Hemoglobin-expressing vascular cells':{'Hb_VC'},\n",
    "}\n",
    "result = {}\n",
    "for key, value in new_names.items():\n",
    "    for elem in value:\n",
    "        result[(elem)] = key\n",
    "new_cluster_names = dict(sorted(result.items()))\n",
    "print(new_cluster_names)"
   ]
  },
  {
   "cell_type": "code",
   "execution_count": null,
   "id": "4c6dca8e-75c5-4db1-9406-201ee447fab2",
   "metadata": {},
   "outputs": [],
   "source": [
    "ad.obs['clusters'] = (\n",
    "    ad.obs['cell_type']\n",
    "    .map(new_cluster_names)\n",
    "    .astype('category')\n",
    ")"
   ]
  },
  {
   "cell_type": "code",
   "execution_count": null,
   "id": "9202fd73-eb27-4eda-8b1a-05856bb55776",
   "metadata": {
    "tags": []
   },
   "outputs": [],
   "source": [
    "pd.value_counts(ad.obs[\"clusters\"])"
   ]
  },
  {
   "cell_type": "code",
   "execution_count": null,
   "id": "2fb199ad-d835-4497-a0bd-99e873712487",
   "metadata": {
    "tags": []
   },
   "outputs": [],
   "source": [
    "sc.pl.dotplot(ad, var_names=['Cldn5',\"Aqp4\",\"Mbp\",'Foxj1','Pdgfrb','Vtn','Kcnj8','Rgs5','Atp13a5','Tagln','Acta2','Myh11'], groupby=\"clusters\", swap_axes=False);"
   ]
  },
  {
   "cell_type": "markdown",
   "id": "cc5ecf5a-5a56-4b1a-87de-13a05b292b13",
   "metadata": {},
   "source": [
    "Last 3 cols are SMC markers"
   ]
  },
  {
   "cell_type": "code",
   "execution_count": null,
   "id": "a08c4915-ded2-430f-8b9a-7d6cfae40bbc",
   "metadata": {},
   "outputs": [],
   "source": []
  },
  {
   "cell_type": "markdown",
   "id": "402ec721-8353-49a9-9370-e6d7c5ec1bee",
   "metadata": {
    "tags": []
   },
   "source": [
    "Check if data is normalized:"
   ]
  },
  {
   "cell_type": "code",
   "execution_count": null,
   "id": "8f07ec23-1a6f-44fc-b8b9-ae3234714569",
   "metadata": {},
   "outputs": [],
   "source": [
    "ad.layers"
   ]
  },
  {
   "cell_type": "code",
   "execution_count": null,
   "id": "c6597e2f-f267-4f20-9408-ca2fa53f7475",
   "metadata": {},
   "outputs": [],
   "source": [
    "# show expression of 100 random genes (across all spots)\n",
    "import random\n",
    "import seaborn as sns\n",
    "random_genes=random.sample(range(0, ad.X.shape[1]), 100)\n",
    "adata_sub = ad[:,random_genes]\n",
    "exp=pd.DataFrame(np.matrix(adata_sub.X))\n",
    "pl1=sns.displot(data=pd.melt(exp),x='value',height=4,hue='variable',kind=\"kde\",warn_singular=False,legend=False,palette=list(np.repeat('#086da6',100)), lw=0.3) # genes with 0 expression are excluded\n",
    "pl1.set(xlim=(-0.5, 7),ylim=(0,0.007));\n",
    "plt.show()"
   ]
  },
  {
   "cell_type": "code",
   "execution_count": null,
   "id": "0d7b998d-1f94-4a06-85e2-3edd79070bfe",
   "metadata": {},
   "outputs": [],
   "source": [
    "sns.set(rc={'figure.figsize':(4,4)})\n",
    "pl=sns.histplot(data=pd.melt(exp),x='value',binwidth=0.5,legend=True,palette=list(np.repeat('#086da6',100)))\n",
    "pl.set(xlim=(0, 10));\n",
    "sns.set_style(\"ticks\")\n",
    "plt.show()"
   ]
  },
  {
   "cell_type": "code",
   "execution_count": null,
   "id": "719757bd-0651-4d1e-bfc3-cc2bb5911b00",
   "metadata": {},
   "outputs": [],
   "source": [
    "np.matrix(adata_sub.X)"
   ]
  },
  {
   "cell_type": "markdown",
   "id": "4f0bb973-9801-43c1-9093-cae84f9aeb24",
   "metadata": {},
   "source": [
    "Data seems to be normalized"
   ]
  },
  {
   "cell_type": "code",
   "execution_count": null,
   "id": "0cf90bf7-e1c1-456d-8e3b-496f13a386a3",
   "metadata": {},
   "outputs": [],
   "source": [
    "ad.layers[\"normalized\"] = ad.X.copy() # save normalized + log-transformed (but unscaled) counts - retrieve via adata.X = adata.layers[\"normalized\"]"
   ]
  },
  {
   "cell_type": "code",
   "execution_count": null,
   "id": "af0f88d5-3003-457d-924a-16d538839e58",
   "metadata": {},
   "outputs": [],
   "source": [
    "ad"
   ]
  },
  {
   "cell_type": "code",
   "execution_count": null,
   "id": "3fa5b139-be59-45ac-b2de-e8534ef43448",
   "metadata": {},
   "outputs": [],
   "source": [
    "ad.layers"
   ]
  },
  {
   "cell_type": "code",
   "execution_count": null,
   "id": "1abfe212-c054-4eb0-b2c2-6c4ce8925a02",
   "metadata": {},
   "outputs": [],
   "source": []
  },
  {
   "cell_type": "code",
   "execution_count": null,
   "id": "d9019726-2caf-4fb3-9918-632f8561dbed",
   "metadata": {},
   "outputs": [],
   "source": [
    "sc.tl.pca(ad)\n",
    "sc.pp.neighbors(ad)\n",
    "sc.tl.umap(ad)\n",
    "sc.tl.leiden(ad)"
   ]
  },
  {
   "cell_type": "code",
   "execution_count": null,
   "id": "15d61180-391f-4286-ae83-7fd857840de2",
   "metadata": {},
   "outputs": [],
   "source": [
    "sc.pl.umap(ad, color=['clusters'])"
   ]
  },
  {
   "cell_type": "code",
   "execution_count": null,
   "id": "2c498d6b-dee3-4986-b5d8-094a4e21a3a4",
   "metadata": {},
   "outputs": [],
   "source": [
    "sc.pl.umap(ad, color=['Foxf2'])"
   ]
  },
  {
   "cell_type": "markdown",
   "id": "215d9fc0-283f-49eb-bc91-f09d88c65648",
   "metadata": {
    "tags": []
   },
   "source": [
    "# Focus on: Foxf2"
   ]
  },
  {
   "cell_type": "code",
   "execution_count": null,
   "id": "81fc89a9-c888-448a-aa07-b8987d63d67d",
   "metadata": {},
   "outputs": [],
   "source": [
    "adata=ad\n",
    "del ad"
   ]
  },
  {
   "cell_type": "code",
   "execution_count": null,
   "id": "84bcf659-c667-42c6-804f-a839b9c900d2",
   "metadata": {},
   "outputs": [],
   "source": [
    "adata_backup = adata"
   ]
  },
  {
   "cell_type": "code",
   "execution_count": null,
   "id": "6f335d4f-ed7e-4c7d-ab5e-0d9d795bcfa5",
   "metadata": {},
   "outputs": [],
   "source": [
    "# drop aged samples\n",
    "# adata = adata[adata.obs['age'].isin(['2-3mo'])]"
   ]
  },
  {
   "cell_type": "code",
   "execution_count": null,
   "id": "410528c4-2c19-4155-8db5-86105697c6e3",
   "metadata": {},
   "outputs": [],
   "source": [
    "gene=\"Foxf2\""
   ]
  },
  {
   "cell_type": "markdown",
   "id": "4e7b4a2a-43bd-403b-8047-b52961c48fd7",
   "metadata": {},
   "source": [
    "## Plot"
   ]
  },
  {
   "cell_type": "code",
   "execution_count": null,
   "id": "a7e6d725-df10-4b72-bdec-0a8606fb7fe1",
   "metadata": {},
   "outputs": [],
   "source": [
    "sc.pl.matrixplot(adata, [gene], groupby='clusters', swap_axes=False, figsize=(2,5), standard_scale=\"var\", layer=\"normalized\")"
   ]
  },
  {
   "cell_type": "code",
   "execution_count": null,
   "id": "cccc3858-fc89-42c3-b94b-8c792e0e0177",
   "metadata": {},
   "outputs": [],
   "source": [
    "sc.pl.dotplot(adata, [gene], groupby='clusters', swap_axes=False, figsize=(2,5), standard_scale=\"var\", layer=\"normalized\")"
   ]
  },
  {
   "cell_type": "code",
   "execution_count": null,
   "id": "ce32fdae-8b10-4b29-be99-738afcbdb0d8",
   "metadata": {},
   "outputs": [],
   "source": [
    "# mean expression per group (normalized and scaled)\n",
    "ex = sc.pl.matrixplot(adata, [gene], groupby='clusters', swap_axes=False, figsize=(2,5), standard_scale=\"var\", return_fig=True, layer=\"normalized\").values_df\n",
    "ex.columns = ['mean_expression']\n",
    "ex"
   ]
  },
  {
   "cell_type": "code",
   "execution_count": null,
   "id": "ed1ce8b4-a324-4b9c-83c6-4dc768348ff4",
   "metadata": {},
   "outputs": [],
   "source": [
    "# dotplot dot size = fraction of cells in group expressing Foxf2\n",
    "fc = sc.pl.dotplot(adata, [gene], groupby='clusters', swap_axes=False, figsize=(2,7), standard_scale=\"var\",return_fig=True, layer=\"normalized\").dot_size_df\n",
    "fc.columns = ['fraction_of_cells']\n",
    "fc"
   ]
  },
  {
   "cell_type": "code",
   "execution_count": null,
   "id": "7b87ed02-bd1c-4b36-9d8a-889f8e2201a6",
   "metadata": {},
   "outputs": [],
   "source": [
    "foxf2 = pd.concat([ex, fc], axis=1)\n",
    "foxf2['gene'] = gene\n",
    "foxf2['source'] = \"Ximerakis2019\"\n",
    "foxf2['organism'] = \"Mouse\"\n",
    "foxf2['cell_number'] = pd.DataFrame(adata.obs[\"clusters\"].value_counts()).reindex(foxf2.index)\n",
    "foxf2"
   ]
  },
  {
   "cell_type": "code",
   "execution_count": null,
   "id": "b62406fc-662f-42e6-97a1-7234de33723f",
   "metadata": {},
   "outputs": [],
   "source": [
    "# export\n",
    "name='Ximerakis2019'"
   ]
  },
  {
   "cell_type": "code",
   "execution_count": null,
   "id": "cbc5868f-cce9-4e0a-9453-ae91aac41249",
   "metadata": {},
   "outputs": [],
   "source": [
    "# Win\n",
    "foxf2.to_csv(main_dir+'\\\\P6_Foxf2_per_celltype\\\\Foxf2_summarized\\\\'+ date.today().strftime(\"%Y%m%d\")+'_'+name+'_normalized.csv',sep=';')"
   ]
  },
  {
   "cell_type": "markdown",
   "id": "3cea61d6-4981-467b-a19b-4c27d79a5fca",
   "metadata": {},
   "source": [
    "# Focus on: Other genes"
   ]
  },
  {
   "cell_type": "markdown",
   "id": "b45bfe07-dc67-4029-9423-657124bda406",
   "metadata": {},
   "source": [
    "## Foxo1"
   ]
  },
  {
   "cell_type": "code",
   "execution_count": null,
   "id": "d5d379e9-a506-4d42-8dfc-a280e0090497",
   "metadata": {},
   "outputs": [],
   "source": [
    "gene=\"Foxo1\""
   ]
  },
  {
   "cell_type": "markdown",
   "id": "979a742c-263d-48da-8297-c75ff9ad0852",
   "metadata": {},
   "source": [
    "### Plot"
   ]
  },
  {
   "cell_type": "code",
   "execution_count": null,
   "id": "dcb0d4dd-11ec-4ec8-b0d1-fceb640753c8",
   "metadata": {},
   "outputs": [],
   "source": [
    "sc.pl.matrixplot(adata, [gene], groupby='clusters', swap_axes=False, figsize=(2,5), standard_scale=\"var\", layer=\"normalized\")"
   ]
  },
  {
   "cell_type": "code",
   "execution_count": null,
   "id": "5d99db83-681f-416c-8afa-27cd0728d67f",
   "metadata": {},
   "outputs": [],
   "source": [
    "sc.pl.dotplot(adata, [gene], groupby='clusters', swap_axes=False, figsize=(2,5), standard_scale=\"var\", layer=\"normalized\")"
   ]
  },
  {
   "cell_type": "code",
   "execution_count": null,
   "id": "6ddb2067-7cf8-4faa-b3b5-7af78deaba1e",
   "metadata": {},
   "outputs": [],
   "source": [
    "# mean expression per group (normalized and scaled)\n",
    "ex = sc.pl.matrixplot(adata, [gene], groupby='clusters', swap_axes=False, figsize=(2,5), standard_scale=\"var\", return_fig=True, layer=\"normalized\").values_df\n",
    "ex.columns = ['mean_expression']\n",
    "ex"
   ]
  },
  {
   "cell_type": "code",
   "execution_count": null,
   "id": "57c5d4a6-5370-4aa1-b340-39ea36b2602c",
   "metadata": {},
   "outputs": [],
   "source": [
    "# dotplot dot size = fraction of cells in group expressing Foxf2\n",
    "fc = sc.pl.dotplot(adata, [gene], groupby='clusters', swap_axes=False, figsize=(2,7), standard_scale=\"var\",return_fig=True, layer=\"normalized\").dot_size_df\n",
    "fc.columns = ['fraction_of_cells']\n",
    "fc"
   ]
  },
  {
   "cell_type": "code",
   "execution_count": null,
   "id": "fd73e5b6-1deb-44de-b4e1-10d68ea460de",
   "metadata": {},
   "outputs": [],
   "source": [
    "foxf2 = pd.concat([ex, fc], axis=1)\n",
    "foxf2['gene'] = gene\n",
    "foxf2['source'] = \"Ximerakis2019\"\n",
    "foxf2['organism'] = \"Mouse\"\n",
    "foxf2['cell_number'] = pd.DataFrame(adata.obs[\"clusters\"].value_counts()).reindex(foxf2.index)\n",
    "foxf2"
   ]
  },
  {
   "cell_type": "code",
   "execution_count": null,
   "id": "75b5c5f6-c3da-405c-a0c9-2ad885eb0f14",
   "metadata": {},
   "outputs": [],
   "source": [
    "# Win\n",
    "foxf2.to_csv(main_dir+'\\\\P6_Foxf2_per_celltype\\\\Other_genes_summarized\\\\'+ date.today().strftime(\"%Y%m%d\")+'_'+gene+'_'+name+'_normalized.csv',sep=';')"
   ]
  },
  {
   "cell_type": "markdown",
   "id": "3ab020d6-7ea6-4d24-926d-2c398c97f55c",
   "metadata": {},
   "source": [
    "## Tek = Tie2"
   ]
  },
  {
   "cell_type": "code",
   "execution_count": null,
   "id": "9719e72e-e547-497d-9fe1-eac99a435e23",
   "metadata": {},
   "outputs": [],
   "source": [
    "gene=\"Tek\""
   ]
  },
  {
   "cell_type": "markdown",
   "id": "fc8f96fa-50fb-4f1b-a38b-4cf21f7018bf",
   "metadata": {},
   "source": [
    "### Plot"
   ]
  },
  {
   "cell_type": "code",
   "execution_count": null,
   "id": "abac4d79-b6e6-4584-b0b2-d5d383cf4576",
   "metadata": {},
   "outputs": [],
   "source": [
    "sc.pl.matrixplot(adata, [gene], groupby='clusters', swap_axes=False, figsize=(2,5), standard_scale=\"var\", layer=\"normalized\")"
   ]
  },
  {
   "cell_type": "code",
   "execution_count": null,
   "id": "14fa54d3-05ba-495f-a0d5-f7201f6cba72",
   "metadata": {},
   "outputs": [],
   "source": [
    "sc.pl.dotplot(adata, [gene], groupby='clusters', swap_axes=False, figsize=(2,5), standard_scale=\"var\", layer=\"normalized\")"
   ]
  },
  {
   "cell_type": "code",
   "execution_count": null,
   "id": "c5fcd1c7-2759-4d1a-9461-09b6035a5ab5",
   "metadata": {},
   "outputs": [],
   "source": [
    "# mean expression per group (normalized and scaled)\n",
    "ex = sc.pl.matrixplot(adata, [gene], groupby='clusters', swap_axes=False, figsize=(2,5), standard_scale=\"var\", return_fig=True, layer=\"normalized\").values_df\n",
    "ex.columns = ['mean_expression']\n",
    "ex"
   ]
  },
  {
   "cell_type": "code",
   "execution_count": null,
   "id": "6fb90857-3c5a-4633-a41d-728e12ee90b0",
   "metadata": {},
   "outputs": [],
   "source": [
    "# dotplot dot size = fraction of cells in group expressing Foxf2\n",
    "fc = sc.pl.dotplot(adata, [gene], groupby='clusters', swap_axes=False, figsize=(2,7), standard_scale=\"var\",return_fig=True, layer=\"normalized\").dot_size_df\n",
    "fc.columns = ['fraction_of_cells']\n",
    "fc"
   ]
  },
  {
   "cell_type": "code",
   "execution_count": null,
   "id": "0d4f8747-959e-46b3-9576-83100e9badd8",
   "metadata": {},
   "outputs": [],
   "source": [
    "foxf2 = pd.concat([ex, fc], axis=1)\n",
    "foxf2['gene'] = gene\n",
    "foxf2['source'] = \"Ximerakis2019\"\n",
    "foxf2['organism'] = \"Mouse\"\n",
    "foxf2['cell_number'] = pd.DataFrame(adata.obs[\"clusters\"].value_counts()).reindex(foxf2.index)\n",
    "foxf2"
   ]
  },
  {
   "cell_type": "code",
   "execution_count": null,
   "id": "1b985358-2166-42b1-b654-347815cef9f3",
   "metadata": {},
   "outputs": [],
   "source": [
    "# export\n",
    "name='Ximerakis2019'"
   ]
  },
  {
   "cell_type": "code",
   "execution_count": null,
   "id": "91b026d9-a4c4-49fb-bc3e-fdcefa9b769d",
   "metadata": {},
   "outputs": [],
   "source": [
    "# Win\n",
    "foxf2.to_csv(main_dir+'\\\\P6_Foxf2_per_celltype\\\\Other_genes_summarized\\\\'+ date.today().strftime(\"%Y%m%d\")+'_'+gene+'_'+name+'_normalized.csv',sep=';')"
   ]
  },
  {
   "cell_type": "markdown",
   "id": "dcab07f5-2311-49d1-b009-2c42aa68b759",
   "metadata": {},
   "source": [
    "## Nos3 = eNOS"
   ]
  },
  {
   "cell_type": "code",
   "execution_count": null,
   "id": "6cc2f60f-0359-4c0e-aaf7-fbda5070a302",
   "metadata": {},
   "outputs": [],
   "source": [
    "gene=\"Nos3\""
   ]
  },
  {
   "cell_type": "markdown",
   "id": "b7ef3b02-9a16-410c-ac3a-dbbf1c57b331",
   "metadata": {},
   "source": [
    "### Plot"
   ]
  },
  {
   "cell_type": "code",
   "execution_count": null,
   "id": "e128de49-f4d5-4a6f-97f8-0ecca66adde9",
   "metadata": {},
   "outputs": [],
   "source": [
    "sc.pl.matrixplot(adata, [gene], groupby='clusters', swap_axes=False, figsize=(2,5), standard_scale=\"var\", layer=\"normalized\")"
   ]
  },
  {
   "cell_type": "code",
   "execution_count": null,
   "id": "e8e93ee1-ac5b-4e2d-b175-9d9eef8da58c",
   "metadata": {},
   "outputs": [],
   "source": [
    "sc.pl.dotplot(adata, [gene], groupby='clusters', swap_axes=False, figsize=(2,5), standard_scale=\"var\", layer=\"normalized\")"
   ]
  },
  {
   "cell_type": "code",
   "execution_count": null,
   "id": "d08d97a8-fb13-4849-ae9f-f07535fee0a4",
   "metadata": {},
   "outputs": [],
   "source": [
    "# mean expression per group (normalized and scaled)\n",
    "ex = sc.pl.matrixplot(adata, [gene], groupby='clusters', swap_axes=False, figsize=(2,5), standard_scale=\"var\", return_fig=True, layer=\"normalized\").values_df\n",
    "ex.columns = ['mean_expression']\n",
    "ex"
   ]
  },
  {
   "cell_type": "code",
   "execution_count": null,
   "id": "9777ca9a-5a1a-49a5-a1d9-1021d4ebc517",
   "metadata": {},
   "outputs": [],
   "source": [
    "# dotplot dot size = fraction of cells in group expressing Foxf2\n",
    "fc = sc.pl.dotplot(adata, [gene], groupby='clusters', swap_axes=False, figsize=(2,7), standard_scale=\"var\",return_fig=True, layer=\"normalized\").dot_size_df\n",
    "fc.columns = ['fraction_of_cells']\n",
    "fc"
   ]
  },
  {
   "cell_type": "code",
   "execution_count": null,
   "id": "ff6a68bd-c151-4f95-a327-b6355f77ace6",
   "metadata": {},
   "outputs": [],
   "source": [
    "foxf2 = pd.concat([ex, fc], axis=1)\n",
    "foxf2['gene'] = gene\n",
    "foxf2['source'] = \"Ximerakis2019\"\n",
    "foxf2['organism'] = \"Mouse\"\n",
    "foxf2['cell_number'] = pd.DataFrame(adata.obs[\"clusters\"].value_counts()).reindex(foxf2.index)\n",
    "foxf2"
   ]
  },
  {
   "cell_type": "code",
   "execution_count": null,
   "id": "f35d6b89-1cf0-4fb4-968f-c43faae2b8af",
   "metadata": {},
   "outputs": [],
   "source": [
    "# Win\n",
    "foxf2.to_csv(main_dir+'\\\\P6_Foxf2_per_celltype\\\\Other_genes_summarized\\\\'+ date.today().strftime(\"%Y%m%d\")+'_'+gene+'_'+name+'_normalized.csv',sep=';')"
   ]
  },
  {
   "cell_type": "markdown",
   "id": "a2086363-e940-40f3-8847-235cf59a71f3",
   "metadata": {},
   "source": [
    "# Focus on: Aging"
   ]
  },
  {
   "cell_type": "code",
   "execution_count": null,
   "id": "46813b75-47bc-47f5-a6a1-ebe4bc5e15f4",
   "metadata": {},
   "outputs": [],
   "source": [
    "adata = adata_backup"
   ]
  },
  {
   "cell_type": "code",
   "execution_count": null,
   "id": "96a71f6c-0774-41fe-a81f-6b11b98593a6",
   "metadata": {
    "tags": []
   },
   "outputs": [],
   "source": [
    "pd.value_counts(adata.obs[\"age\"])"
   ]
  },
  {
   "cell_type": "markdown",
   "id": "70fee669-39a6-4dd7-a0a4-e20adcd34247",
   "metadata": {},
   "source": [
    "## Foxf2 by age group"
   ]
  },
  {
   "cell_type": "code",
   "execution_count": null,
   "id": "10726739-d178-4fb9-9c8c-275cae39889c",
   "metadata": {},
   "outputs": [],
   "source": [
    "gene=[\"Foxf2\",\"Foxo1\",\"Tek\",\"Nos3\"]"
   ]
  },
  {
   "cell_type": "markdown",
   "id": "3f738f31-faba-4b81-9d33-1f923b85770f",
   "metadata": {},
   "source": [
    "### All cell types"
   ]
  },
  {
   "cell_type": "code",
   "execution_count": null,
   "id": "2fabe302-6340-4f13-bf37-94bbe1f13b33",
   "metadata": {},
   "outputs": [],
   "source": [
    "sc.pl.dotplot(adata, gene, groupby='age', swap_axes=True, figsize=(4,2), standard_scale=\"var\", layer=\"normalized\", title=\"All cell types\")"
   ]
  },
  {
   "cell_type": "markdown",
   "id": "1b181f68-c47b-47ef-9bbe-1697ccd9c21e",
   "metadata": {},
   "source": [
    "### ECs only"
   ]
  },
  {
   "cell_type": "code",
   "execution_count": null,
   "id": "5ad63ced-1a8d-41c6-a05b-98e1ab353a0a",
   "metadata": {},
   "outputs": [],
   "source": [
    "# ECs only\n",
    "adata_ecs = adata[adata.obs['clusters'].isin(['Endothelial cells'])]\n",
    "adata_ecs"
   ]
  },
  {
   "cell_type": "code",
   "execution_count": null,
   "id": "a609a5d8-3918-47d5-b965-b347ed0f4a34",
   "metadata": {
    "tags": []
   },
   "outputs": [],
   "source": [
    "pd.value_counts(adata_ecs.obs[\"age\"])"
   ]
  },
  {
   "cell_type": "code",
   "execution_count": null,
   "id": "48bde0b5-1868-4e89-9082-9ec804654ed2",
   "metadata": {},
   "outputs": [],
   "source": [
    "sc.pl.dotplot(adata_ecs, gene, groupby='age', swap_axes=True, figsize=(4,2), standard_scale=\"var\", layer=\"normalized\", title=\"ECs\")"
   ]
  },
  {
   "cell_type": "markdown",
   "id": "3e9c647c-77a6-4adc-bfd6-2c1dc7d6c679",
   "metadata": {},
   "source": [
    "### PCs only"
   ]
  },
  {
   "cell_type": "code",
   "execution_count": null,
   "id": "eb7c4290-7721-4024-b799-c1483e8bd897",
   "metadata": {},
   "outputs": [],
   "source": [
    "adata_pcs = adata[adata.obs['clusters'].isin(['Pericytes'])]\n",
    "pd.value_counts(adata_pcs.obs[\"age\"])"
   ]
  },
  {
   "cell_type": "code",
   "execution_count": null,
   "id": "5006fe7c-941a-4aa3-a10e-acc217c2c2e6",
   "metadata": {},
   "outputs": [],
   "source": [
    "sc.pl.dotplot(adata_pcs, gene, groupby='age', swap_axes=True, figsize=(4,2), standard_scale=\"var\", layer=\"normalized\", title=\"PCs\")"
   ]
  },
  {
   "cell_type": "markdown",
   "id": "852e2a97-b7a6-466e-8a81-5fbb27d8e7d6",
   "metadata": {},
   "source": [
    "### SMCs only"
   ]
  },
  {
   "cell_type": "code",
   "execution_count": null,
   "id": "d05907dc-fa01-4617-b0d8-87ece626f641",
   "metadata": {},
   "outputs": [],
   "source": [
    "adata_pcs = adata[adata.obs['clusters'].isin(['SMCs'])]\n",
    "pd.value_counts(adata_pcs.obs[\"age\"])"
   ]
  },
  {
   "cell_type": "code",
   "execution_count": null,
   "id": "8c6b9b3c-4729-4cec-8e41-d6d4122382a4",
   "metadata": {},
   "outputs": [],
   "source": [
    "sc.pl.dotplot(adata_pcs, gene, groupby='age', swap_axes=True, figsize=(4,2), standard_scale=\"var\", layer=\"normalized\", title=\"SMCs\")"
   ]
  },
  {
   "cell_type": "markdown",
   "id": "397cc916-6d77-45be-905d-c33d7976623d",
   "metadata": {},
   "source": [
    "### Neurons only"
   ]
  },
  {
   "cell_type": "code",
   "execution_count": null,
   "id": "4471e942-a0c7-45df-b221-129079ac3ee8",
   "metadata": {},
   "outputs": [],
   "source": [
    "adata_neur = adata[adata.obs['clusters'].isin(['Neurons'])]\n",
    "pd.value_counts(adata_neur.obs[\"age\"])"
   ]
  },
  {
   "cell_type": "code",
   "execution_count": null,
   "id": "3e61c221-8e19-4104-b3d7-60e48c8ffe5e",
   "metadata": {},
   "outputs": [],
   "source": [
    "sc.pl.dotplot(adata_neur, gene, groupby='age', swap_axes=True, figsize=(4,2), standard_scale=\"var\", layer=\"normalized\", title=\"Neurons\")"
   ]
  },
  {
   "cell_type": "markdown",
   "id": "aa912c5b-647e-4b3f-97b4-0e5a16cecce1",
   "metadata": {},
   "source": [
    "### Astrocytes only"
   ]
  },
  {
   "cell_type": "code",
   "execution_count": null,
   "id": "88500b53-9e79-44ef-8778-3efea18e851c",
   "metadata": {},
   "outputs": [],
   "source": [
    "adata_astro = adata[adata.obs['clusters'].isin(['Astrocytes'])]\n",
    "pd.value_counts(adata_astro.obs[\"age\"])"
   ]
  },
  {
   "cell_type": "code",
   "execution_count": null,
   "id": "4d54f261-368a-4ec9-8c54-9cdc1ac12d15",
   "metadata": {},
   "outputs": [],
   "source": [
    "sc.pl.dotplot(adata_astro, gene, groupby='age', swap_axes=True, figsize=(4,2), standard_scale=\"var\", layer=\"normalized\", title=\"Astrocytes\")"
   ]
  },
  {
   "cell_type": "markdown",
   "id": "1c8a6c7e-c0fe-478d-8d1b-c9bc93bdf303",
   "metadata": {},
   "source": [
    "### Oligos only"
   ]
  },
  {
   "cell_type": "code",
   "execution_count": null,
   "id": "f8823cbb-0cc3-4061-b7c2-b9e669de7e47",
   "metadata": {},
   "outputs": [],
   "source": [
    "adata_olig = adata[adata.obs['clusters'].isin(['Oligos'])]\n",
    "pd.value_counts(adata_olig.obs[\"age\"])"
   ]
  },
  {
   "cell_type": "code",
   "execution_count": null,
   "id": "1008e534-ea40-4aa8-b6b6-df9cdcf624ba",
   "metadata": {},
   "outputs": [],
   "source": [
    "sc.pl.dotplot(adata_olig, gene, groupby='age', swap_axes=True, figsize=(4,2), standard_scale=\"var\", layer=\"normalized\", title=\"Oligos\")"
   ]
  },
  {
   "cell_type": "markdown",
   "id": "ce86fd0b-8d46-4a79-9471-d543bbedfd7a",
   "metadata": {},
   "source": [
    "### Microglia only"
   ]
  },
  {
   "cell_type": "code",
   "execution_count": null,
   "id": "0c0ef0af-8f6b-4aba-bcb6-541c1b3f03b4",
   "metadata": {},
   "outputs": [],
   "source": [
    "adata_mg = adata[adata.obs['clusters'].isin(['Microglia/Macrophages'])]\n",
    "pd.value_counts(adata_mg.obs[\"age\"])"
   ]
  },
  {
   "cell_type": "code",
   "execution_count": null,
   "id": "6f8fc175-3a69-4ea9-b531-fa5d3a2f6143",
   "metadata": {},
   "outputs": [],
   "source": [
    "sc.pl.dotplot(adata_mg, gene, groupby='age', swap_axes=True, figsize=(4,2), standard_scale=\"var\", layer=\"normalized\", title=\"Microglia/Macrophages\")"
   ]
  },
  {
   "cell_type": "markdown",
   "id": "c186e163-a194-4441-9362-bafef7ba2399",
   "metadata": {},
   "source": [
    "## Correlate gene expression (Foxf2 and Foxo1)"
   ]
  },
  {
   "cell_type": "markdown",
   "id": "03a2371a-d6a8-41ae-bc84-aa77b2c2e32c",
   "metadata": {},
   "source": [
    "### ECs"
   ]
  },
  {
   "cell_type": "code",
   "execution_count": null,
   "id": "f8c3ae0c-422c-4561-9ad6-d3797c0467b9",
   "metadata": {},
   "outputs": [],
   "source": [
    "gg = [\"Foxf2\",\"Foxo1\"]"
   ]
  },
  {
   "cell_type": "code",
   "execution_count": null,
   "id": "532c68ba-c470-4458-953a-5ae0004762a7",
   "metadata": {},
   "outputs": [],
   "source": [
    "adata"
   ]
  },
  {
   "cell_type": "code",
   "execution_count": null,
   "id": "7bd20e39-1ba8-4416-bd59-b3b5ea701b30",
   "metadata": {},
   "outputs": [],
   "source": [
    "adata_ecs"
   ]
  },
  {
   "cell_type": "code",
   "execution_count": null,
   "id": "cf6aadfe-5579-4c11-bc74-7709d04aefbe",
   "metadata": {},
   "outputs": [],
   "source": [
    "adat = adata_ecs\n",
    "subs = adat[:,gg].X\n",
    "subs = pd.DataFrame(subs, columns = gg, index=adat.obs.index)\n",
    "age = pd.DataFrame(adat.obs[\"age\"])\n",
    "subs = subs.join(age)\n",
    "subs.head()"
   ]
  },
  {
   "cell_type": "code",
   "execution_count": null,
   "id": "e8fd9f00-ac75-4c4e-8686-c9ea0e0ee3a5",
   "metadata": {},
   "outputs": [],
   "source": [
    "g = sns.lmplot(x=\"Foxf2\", y=\"Foxo1\", data=subs, hue=\"age\", fit_reg=False, scatter_kws={'alpha':0.6})\n",
    "sns.regplot(x=\"Foxf2\", y=\"Foxo1\", data=subs, scatter=False, ax=g.axes[0, 0], color=\"grey\")\n",
    "g.figure.set_size_inches(7,6)\n",
    "plt.show()"
   ]
  },
  {
   "cell_type": "code",
   "execution_count": null,
   "id": "3a10ccee-5aa4-4595-8936-9a2f31d62cb3",
   "metadata": {},
   "outputs": [],
   "source": [
    "import scipy as sp\n",
    "r, p = sp.stats.pearsonr(subs['Foxf2'], subs['Foxo1'])\n",
    "'Pearson R = {:.2f}, p = {:.2g}'.format(r, p)"
   ]
  },
  {
   "cell_type": "code",
   "execution_count": null,
   "id": "9290a4f6-764f-44f4-ba28-7713155a4adf",
   "metadata": {},
   "outputs": [],
   "source": [
    "graph = sns.jointplot(data=subs, x=\"Foxf2\", y=\"Foxo1\", hue=\"age\")\n",
    "plt.show()"
   ]
  },
  {
   "cell_type": "markdown",
   "id": "4450517e-8b8f-40ff-a124-1218bacd342e",
   "metadata": {},
   "source": [
    "Exclude dropouts (cells with 0 expression of both genes)"
   ]
  },
  {
   "cell_type": "code",
   "execution_count": null,
   "id": "f747b3eb-351f-4040-89b2-e6500ccd7c1e",
   "metadata": {},
   "outputs": [],
   "source": [
    "coex = (adata_ecs[:,'{}'.format(\"Foxf2\")].X > 0) | (adata_ecs[:,'{}'.format(\"Foxo1\")].X > 0)"
   ]
  },
  {
   "cell_type": "code",
   "execution_count": null,
   "id": "5e8e33a9-7838-41cd-ad6b-89a3a0611643",
   "metadata": {},
   "outputs": [],
   "source": [
    "adata_ecs_above0 = adata_ecs[coex]\n",
    "adata_ecs_above0"
   ]
  },
  {
   "cell_type": "code",
   "execution_count": null,
   "id": "343c9fd7-ae46-40a2-8550-602e3fcc77d3",
   "metadata": {
    "tags": []
   },
   "outputs": [],
   "source": [
    "pd.value_counts(adata_ecs_above0.obs[\"age\"])"
   ]
  },
  {
   "cell_type": "code",
   "execution_count": null,
   "id": "11f23496-47cc-4cb2-893f-0127b668a703",
   "metadata": {},
   "outputs": [],
   "source": [
    "sc.pl.dotplot(adata_ecs_above0, gene, groupby='age', swap_axes=True, figsize=(4,2), standard_scale=\"var\", layer=\"normalized\", title=\"ECs\")"
   ]
  },
  {
   "cell_type": "code",
   "execution_count": null,
   "id": "9536ce11-ad4c-4957-9b31-cb41cedb7e35",
   "metadata": {},
   "outputs": [],
   "source": [
    "adat = adata_ecs_above0\n",
    "subs = adat[:,gg].X\n",
    "subs = pd.DataFrame(subs, columns = gg, index=adat.obs.index)\n",
    "age = pd.DataFrame(adat.obs[\"age\"])\n",
    "subs = subs.join(age)"
   ]
  },
  {
   "cell_type": "code",
   "execution_count": null,
   "id": "5bc88e29-f463-45d8-850a-a89f267d6406",
   "metadata": {},
   "outputs": [],
   "source": [
    "g = sns.lmplot(x=\"Foxf2\", y=\"Foxo1\", data=subs, hue=\"age\", fit_reg=False, scatter_kws={'alpha':0.6})\n",
    "sns.regplot(x=\"Foxf2\", y=\"Foxo1\", data=subs, scatter=False, ax=g.axes[0, 0], color=\"grey\")\n",
    "g.figure.set_size_inches(7,6)\n",
    "plt.show()"
   ]
  },
  {
   "cell_type": "code",
   "execution_count": null,
   "id": "dfb65806-36ab-47bb-8f84-e0deaee1b257",
   "metadata": {},
   "outputs": [],
   "source": [
    "r, p = sp.stats.pearsonr(subs['Foxf2'], subs['Foxo1'])\n",
    "'Pearson R = {:.2f}, p = {:.2g}'.format(r, p)"
   ]
  },
  {
   "cell_type": "code",
   "execution_count": null,
   "id": "782ff0fe-53ff-407c-92ab-41bd03aa17ed",
   "metadata": {},
   "outputs": [],
   "source": [
    "graph = sns.jointplot(data=subs, x=\"Foxf2\", y=\"Foxo1\", hue=\"age\")\n",
    "plt.show()"
   ]
  },
  {
   "cell_type": "markdown",
   "id": "86b3f9c8-ec0f-462f-9cb7-7e622e5b539b",
   "metadata": {},
   "source": [
    "### All cell types"
   ]
  },
  {
   "cell_type": "code",
   "execution_count": null,
   "id": "d74315da-5a1b-47c7-aebd-9dbcb5ef3cb7",
   "metadata": {},
   "outputs": [],
   "source": [
    "gg = [\"Foxf2\",\"Foxo1\"]"
   ]
  },
  {
   "cell_type": "code",
   "execution_count": null,
   "id": "f265652b-cbf7-49f2-8aa6-77ac0cfb2745",
   "metadata": {},
   "outputs": [],
   "source": [
    "adata"
   ]
  },
  {
   "cell_type": "code",
   "execution_count": null,
   "id": "13a6b531-3e2a-4abc-9335-b14ab604ee4d",
   "metadata": {},
   "outputs": [],
   "source": [
    "adat = adata\n",
    "subs = adat[:,gg].X\n",
    "subs = pd.DataFrame(subs, columns = gg, index=adat.obs.index)\n",
    "age = pd.DataFrame(adat.obs[\"age\"])\n",
    "subs = subs.join(age)\n",
    "subs.head()"
   ]
  },
  {
   "cell_type": "code",
   "execution_count": null,
   "id": "fbb4ff13-9b59-4038-8625-6fea93e33739",
   "metadata": {},
   "outputs": [],
   "source": [
    "g = sns.lmplot(x=\"Foxf2\", y=\"Foxo1\", data=subs, hue=\"age\", fit_reg=False, scatter_kws={'alpha':0.6})\n",
    "sns.regplot(x=\"Foxf2\", y=\"Foxo1\", data=subs, scatter=False, ax=g.axes[0, 0], color=\"grey\")\n",
    "g.figure.set_size_inches(7,6)\n",
    "plt.show()"
   ]
  },
  {
   "cell_type": "code",
   "execution_count": null,
   "id": "caf80ce2-28f0-4d4d-a180-8aab65ab1a74",
   "metadata": {},
   "outputs": [],
   "source": [
    "graph = sns.jointplot(data=subs, x=\"Foxf2\", y=\"Foxo1\", hue=\"age\")\n",
    "plt.show()"
   ]
  },
  {
   "cell_type": "markdown",
   "id": "c7c69dd7-c0b9-4852-a771-91d40919eee7",
   "metadata": {},
   "source": [
    "Exclude dropouts (cells with 0 expression of both genes)"
   ]
  },
  {
   "cell_type": "code",
   "execution_count": null,
   "id": "f9b1d929-b634-4951-9eab-cbb48364a570",
   "metadata": {},
   "outputs": [],
   "source": [
    "coex = (adat[:,'{}'.format(\"Foxf2\")].X > 0) | (adat[:,'{}'.format(\"Foxo1\")].X > 0)"
   ]
  },
  {
   "cell_type": "code",
   "execution_count": null,
   "id": "c1528a21-b5ac-4323-9665-3ae2cf508a75",
   "metadata": {},
   "outputs": [],
   "source": [
    "adata_above0 = adat[coex]\n",
    "adata_above0"
   ]
  },
  {
   "cell_type": "code",
   "execution_count": null,
   "id": "a7985967-60f4-47b6-a81d-1c885a0b4a8e",
   "metadata": {
    "tags": []
   },
   "outputs": [],
   "source": [
    "pd.value_counts(adata_above0.obs[\"age\"])"
   ]
  },
  {
   "cell_type": "code",
   "execution_count": null,
   "id": "fe12c675-258e-4018-9448-a32725532f1d",
   "metadata": {},
   "outputs": [],
   "source": [
    "sc.pl.dotplot(adata_above0, gene, groupby='age', swap_axes=True, figsize=(4,2), standard_scale=\"var\", layer=\"normalized\")"
   ]
  },
  {
   "cell_type": "code",
   "execution_count": null,
   "id": "5bc2deb5-ede2-4900-b2bb-05244a352029",
   "metadata": {},
   "outputs": [],
   "source": [
    "adat = adata_above0\n",
    "subs = adat[:,gg].X\n",
    "subs = pd.DataFrame(subs, columns = gg, index=adat.obs.index)\n",
    "age = pd.DataFrame(adat.obs[\"age\"])\n",
    "subs = subs.join(age)"
   ]
  },
  {
   "cell_type": "code",
   "execution_count": null,
   "id": "7ead3c69-ec97-48e3-8966-11504dbca77f",
   "metadata": {},
   "outputs": [],
   "source": [
    "g = sns.lmplot(x=\"Foxf2\", y=\"Foxo1\", data=subs, hue=\"age\", fit_reg=False, scatter_kws={'alpha':0.6})\n",
    "sns.regplot(x=\"Foxf2\", y=\"Foxo1\", data=subs, scatter=False, ax=g.axes[0, 0], color=\"grey\")\n",
    "g.figure.set_size_inches(7,6)\n",
    "plt.show()"
   ]
  },
  {
   "cell_type": "code",
   "execution_count": null,
   "id": "42c3c2bf-d439-451b-9f7b-1972420653f2",
   "metadata": {},
   "outputs": [],
   "source": [
    "graph = sns.jointplot(data=subs, x=\"Foxf2\", y=\"Foxo1\", hue=\"age\")\n",
    "plt.show()"
   ]
  },
  {
   "cell_type": "markdown",
   "id": "89a17a41-e163-4e94-93d9-6b6d72ccd8f5",
   "metadata": {},
   "source": [
    "## Pseudobulk analysis"
   ]
  },
  {
   "cell_type": "markdown",
   "id": "abbb728d-eb35-44e1-bd0a-0be4f63da21d",
   "metadata": {},
   "source": [
    "Because correlation on single cell level is biased by large number of dropouts"
   ]
  },
  {
   "cell_type": "code",
   "execution_count": null,
   "id": "846e96bb-7daf-4e0d-995a-873472e24ea7",
   "metadata": {},
   "outputs": [],
   "source": [
    "import decoupler as dc"
   ]
  },
  {
   "cell_type": "code",
   "execution_count": null,
   "id": "d12d6b31-c063-4eab-a90a-d9d9333d0d1b",
   "metadata": {},
   "outputs": [],
   "source": [
    "adata"
   ]
  },
  {
   "cell_type": "code",
   "execution_count": null,
   "id": "d150cbeb-a3bf-4abc-85ed-07efd664b608",
   "metadata": {},
   "outputs": [],
   "source": [
    "adata.obs[\"sample\"] = adata.obs['NAME'].str.extract('_([0-9]+)_?')\n",
    "pd.value_counts(adata.obs[\"sample\"])"
   ]
  },
  {
   "cell_type": "code",
   "execution_count": null,
   "id": "6296d137-2f0d-46fb-8518-50321c8ad954",
   "metadata": {},
   "outputs": [],
   "source": [
    "pd.crosstab(adata.obs[\"sample\"], adata.obs[\"age\"]).T"
   ]
  },
  {
   "cell_type": "code",
   "execution_count": null,
   "id": "215cfb04-c268-4c29-aa7d-76c369c33b79",
   "metadata": {},
   "outputs": [],
   "source": [
    "padata = dc.get_pseudobulk(adata, sample_col='sample', groups_col=None, layer='normalized', min_prop=0.01, min_smpls=0)"
   ]
  },
  {
   "cell_type": "code",
   "execution_count": null,
   "id": "f92ccc3e-23e1-43b4-ac24-99529f1228a8",
   "metadata": {},
   "outputs": [],
   "source": [
    "padata"
   ]
  },
  {
   "cell_type": "markdown",
   "id": "e00e396e-cecc-4e4b-8401-6471b4d43544",
   "metadata": {},
   "source": [
    "### Correlate gene expression (Foxf2 and Foxo1)"
   ]
  },
  {
   "cell_type": "markdown",
   "id": "b9ac23e4-ad3d-42fa-8649-101e41fa1fb2",
   "metadata": {},
   "source": [
    "#### All cell types"
   ]
  },
  {
   "cell_type": "code",
   "execution_count": null,
   "id": "35f459df-e52d-4026-8a1e-912142b186c9",
   "metadata": {},
   "outputs": [],
   "source": [
    "gg = [\"Foxf2\",\"Foxo1\"]"
   ]
  },
  {
   "cell_type": "code",
   "execution_count": null,
   "id": "b16f3cd6-3a90-4fba-8313-1b82f49977f9",
   "metadata": {},
   "outputs": [],
   "source": [
    "padata"
   ]
  },
  {
   "cell_type": "code",
   "execution_count": null,
   "id": "0fe99e78-3eb0-472b-be76-8ce734bc32ee",
   "metadata": {},
   "outputs": [],
   "source": [
    "adat = padata\n",
    "subs = adat[:,gg].X\n",
    "subs = pd.DataFrame(subs, columns = gg, index=adat.obs.index)\n",
    "age = pd.DataFrame(adat.obs[\"age\"])\n",
    "subs = subs.join(age)\n",
    "subs.head()"
   ]
  },
  {
   "cell_type": "code",
   "execution_count": null,
   "id": "fe6b9007-fe9a-4525-a88d-4eb8ef81bf13",
   "metadata": {},
   "outputs": [],
   "source": [
    "g = sns.lmplot(x=\"Foxf2\", y=\"Foxo1\", data=subs, hue=\"age\", fit_reg=False, scatter_kws={'alpha':0.6})\n",
    "sns.regplot(x=\"Foxf2\", y=\"Foxo1\", data=subs, scatter=False, ax=g.axes[0, 0], color=\"grey\")\n",
    "g.figure.set_size_inches(7,6)\n",
    "plt.show()"
   ]
  },
  {
   "cell_type": "code",
   "execution_count": null,
   "id": "d3d170bd-ed0d-446b-963d-a063b9e38793",
   "metadata": {},
   "outputs": [],
   "source": [
    "import scipy as sp\n",
    "r, p = sp.stats.pearsonr(subs['Foxf2'], subs['Foxo1'])\n",
    "'Pearson R = {:.2f}, p = {:.2g}'.format(r, p)"
   ]
  },
  {
   "cell_type": "code",
   "execution_count": null,
   "id": "59f8c6a6-b69e-4b3a-9f70-f3ed11c06481",
   "metadata": {},
   "outputs": [],
   "source": [
    "graph = sns.jointplot(data=subs, x=\"Foxf2\", y=\"Foxo1\", hue=\"age\")\n",
    "plt.show()"
   ]
  },
  {
   "cell_type": "markdown",
   "id": "c1e04d9f-0825-4498-8718-2dedd2c29c55",
   "metadata": {},
   "source": [
    "#### ECs"
   ]
  },
  {
   "cell_type": "code",
   "execution_count": null,
   "id": "d6d2a215-a0fb-4008-8725-f6a85c391402",
   "metadata": {},
   "outputs": [],
   "source": [
    "padata = dc.get_pseudobulk(adata, sample_col='sample', groups_col='clusters', layer='normalized', min_prop=0.2, min_smpls=3)"
   ]
  },
  {
   "cell_type": "code",
   "execution_count": null,
   "id": "e2c81e9c-e555-4ce6-bd94-533d49b141d4",
   "metadata": {},
   "outputs": [],
   "source": [
    "padata"
   ]
  },
  {
   "cell_type": "code",
   "execution_count": null,
   "id": "278149d4-b448-40b9-85d1-32e067760392",
   "metadata": {},
   "outputs": [],
   "source": [
    "# ECs only\n",
    "padata_ecs = padata[padata.obs['clusters'].isin(['Endothelial cells'])]\n",
    "padata_ecs"
   ]
  },
  {
   "cell_type": "code",
   "execution_count": null,
   "id": "6f941ee7-69fa-4edd-abcd-b35104158593",
   "metadata": {},
   "outputs": [],
   "source": [
    "gg = [\"Foxf2\",\"Foxo1\"]"
   ]
  },
  {
   "cell_type": "code",
   "execution_count": null,
   "id": "409250a7-eb4b-4bb5-9aef-ba1a716254bb",
   "metadata": {},
   "outputs": [],
   "source": [
    "adat = padata_ecs\n",
    "subs = adat[:,gg].X\n",
    "subs = pd.DataFrame(subs, columns = gg, index=adat.obs.index)\n",
    "age = pd.DataFrame(adat.obs[\"age\"])\n",
    "subs = subs.join(age)\n",
    "subs.head()"
   ]
  },
  {
   "cell_type": "code",
   "execution_count": null,
   "id": "44c9f156-9c4f-4537-a32f-32bd3634f367",
   "metadata": {},
   "outputs": [],
   "source": [
    "g = sns.lmplot(x=\"Foxf2\", y=\"Foxo1\", data=subs, hue=\"age\", fit_reg=False, scatter_kws={'alpha':0.6})\n",
    "sns.regplot(x=\"Foxf2\", y=\"Foxo1\", data=subs, scatter=False, ax=g.axes[0, 0], color=\"grey\")\n",
    "g.figure.set_size_inches(7,6)\n",
    "plt.show()"
   ]
  },
  {
   "cell_type": "code",
   "execution_count": null,
   "id": "c4c6e674-37f3-4f19-bea3-ebeeb3361958",
   "metadata": {},
   "outputs": [],
   "source": [
    "import scipy as sp\n",
    "r, p = sp.stats.pearsonr(subs['Foxf2'], subs['Foxo1'])\n",
    "'Pearson R = {:.2f}, p = {:.2g}'.format(r, p)"
   ]
  },
  {
   "cell_type": "code",
   "execution_count": null,
   "id": "66e816e7-b128-4e38-a077-4ddd72c8710d",
   "metadata": {},
   "outputs": [],
   "source": [
    "graph = sns.jointplot(data=subs, x=\"Foxf2\", y=\"Foxo1\", hue=\"age\")\n",
    "plt.show()"
   ]
  },
  {
   "cell_type": "code",
   "execution_count": null,
   "id": "a2d31575-060d-4cbe-993d-9b63bd4588de",
   "metadata": {},
   "outputs": [],
   "source": []
  },
  {
   "cell_type": "markdown",
   "id": "2b50bbcc-d764-49b9-8cc0-d3173fd8239e",
   "metadata": {},
   "source": [
    "# Session Info"
   ]
  },
  {
   "cell_type": "code",
   "execution_count": null,
   "id": "06401063-4335-4d98-ad41-2bab36a17eab",
   "metadata": {},
   "outputs": [],
   "source": [
    "sc.logging.print_versions()"
   ]
  }
 ],
 "metadata": {
  "kernelspec": {
   "display_name": "Python 3 (ipykernel)",
   "language": "python",
   "name": "python3"
  },
  "language_info": {
   "codemirror_mode": {
    "name": "ipython",
    "version": 3
   },
   "file_extension": ".py",
   "mimetype": "text/x-python",
   "name": "python",
   "nbconvert_exporter": "python",
   "pygments_lexer": "ipython3"
  }
 },
 "nbformat": 4,
 "nbformat_minor": 5
}
