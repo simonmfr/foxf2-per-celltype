{
 "cells": [
  {
   "cell_type": "markdown",
   "id": "9bfa00be-69ba-4146-aba2-818b967492c3",
   "metadata": {
    "jp-MarkdownHeadingCollapsed": true,
    "tags": []
   },
   "source": [
    "<font size=\"+3.8\">Scanpy single-cell pre-processing</font>  \n",
    "<font size=\"+1.5\"></font>  "
   ]
  },
  {
   "cell_type": "markdown",
   "id": "563f0b43-ce10-475f-b355-6fa8a2406dad",
   "metadata": {},
   "source": [
    "Aim: Preprocess mouse brain single-cell data from the Tabula Muris Senis Dataset (2020 Nature)  \n",
    "Publication: http://www.nature.com/articles/s41586-020-2496-1"
   ]
  },
  {
   "cell_type": "code",
   "execution_count": null,
   "id": "edf47435-2651-4a0f-8f54-93a5f069bebd",
   "metadata": {
    "tags": []
   },
   "outputs": [],
   "source": [
    "from datetime import date\n",
    "date.today().strftime('%d/%m/%Y')"
   ]
  },
  {
   "cell_type": "code",
   "execution_count": null,
   "id": "38eed9b9-821d-4522-94f2-f2e0e3d6f7d3",
   "metadata": {
    "tags": []
   },
   "outputs": [],
   "source": [
    "import os\n",
    "os.getlogin()"
   ]
  },
  {
   "cell_type": "code",
   "execution_count": null,
   "id": "c4f25c8a-47e9-48b5-af79-04fe44b4068d",
   "metadata": {},
   "outputs": [],
   "source": [
    "import numpy as np\n",
    "import pandas as pd\n",
    "import scanpy as sc\n",
    "import anndata\n",
    "import matplotlib.pyplot as plt\n",
    "import platform\n",
    "from matplotlib.pyplot import rc_context"
   ]
  },
  {
   "cell_type": "code",
   "execution_count": null,
   "id": "877cc10e-1f99-4aa7-a228-7458e2bcd5b3",
   "metadata": {},
   "outputs": [],
   "source": [
    "import utils"
   ]
  },
  {
   "cell_type": "code",
   "execution_count": null,
   "id": "a2e9a9d9-d54a-4c11-94c6-4c9458a2e662",
   "metadata": {
    "tags": []
   },
   "outputs": [],
   "source": [
    "os.environ['CONDA_DEFAULT_ENV'] # conda env"
   ]
  },
  {
   "cell_type": "code",
   "execution_count": null,
   "id": "c7d2c5b4-cbdb-4624-8c01-7eabcc08d99f",
   "metadata": {
    "tags": []
   },
   "outputs": [],
   "source": [
    "platform.platform()"
   ]
  },
  {
   "cell_type": "code",
   "execution_count": null,
   "id": "fc7d8b45-6ec5-428f-89f2-08540e479ab8",
   "metadata": {},
   "outputs": [],
   "source": [
    "sc.settings.verbosity = 3"
   ]
  },
  {
   "cell_type": "code",
   "execution_count": null,
   "id": "f46a7618-6a0d-48a7-b77a-065afc204527",
   "metadata": {},
   "outputs": [],
   "source": [
    "main_dir='/run/user/1000/gvfs/smb-share:server=138.245.4.35,share=bd-dichgans/SF' # Linux"
   ]
  },
  {
   "cell_type": "code",
   "execution_count": null,
   "id": "3fd52f8c-ea1e-4f2c-809f-5515a5e2ced6",
   "metadata": {},
   "outputs": [],
   "source": [
    "main_dir='\\\\\\isdsynnas.srv.med.uni-muenchen.de\\BD-Dichgans\\SF' # Win"
   ]
  },
  {
   "cell_type": "code",
   "execution_count": null,
   "id": "d8cce52d-0162-43a0-b31b-f39c5e36ced5",
   "metadata": {},
   "outputs": [],
   "source": [
    "dataset_name = \"TabulaMurisSenis2020\"\n",
    "organism = \"Mouse\""
   ]
  },
  {
   "cell_type": "markdown",
   "id": "d75da520-0b28-417d-877e-f167db41ef30",
   "metadata": {},
   "source": [
    "# Load data"
   ]
  },
  {
   "cell_type": "markdown",
   "id": "00e3b5cb-f957-4175-aedf-471b195dfb60",
   "metadata": {
    "tags": []
   },
   "source": [
    "Downloaded from: https://figshare.com/articles/dataset/Tabula_Muris_Senis_Data_Objects/12654728 02/03/2023"
   ]
  },
  {
   "cell_type": "markdown",
   "id": "0a5b9af5-acc7-442c-aca3-e09a284fd471",
   "metadata": {},
   "source": [
    "## Myeloid dataset"
   ]
  },
  {
   "cell_type": "code",
   "execution_count": null,
   "id": "866fcc4b-c0a8-4429-a759-4c3d8ca6583c",
   "metadata": {},
   "outputs": [],
   "source": [
    "# myeloid\n",
    "ad = sc.read_h5ad(os.path.join(main_dir, \"P6_vasc_scRNAseq\", \"TabulaMurisSenis2020\", \"tabula-muris-senis-facs-processed-official-annotations-Brain_Myeloid.h5ad\"))\n",
    "ad"
   ]
  },
  {
   "cell_type": "code",
   "execution_count": null,
   "id": "2a8de79b-2286-4445-8b2a-dba07cf95aec",
   "metadata": {},
   "outputs": [],
   "source": [
    "ad.obs.head()"
   ]
  },
  {
   "cell_type": "code",
   "execution_count": null,
   "id": "e223f227-42ae-4255-8a2d-45b43c09be24",
   "metadata": {
    "tags": []
   },
   "outputs": [],
   "source": [
    "pd.value_counts(ad.obs[\"cell_ontology_class\"])"
   ]
  },
  {
   "cell_type": "code",
   "execution_count": null,
   "id": "184a3d91-2a58-4f33-b3a5-cbb73699d312",
   "metadata": {},
   "outputs": [],
   "source": [
    "new_names = {\n",
    "    'Microglia/Macrophages': {'microglial cell','macrophage'},\n",
    "}\n",
    "result = {}\n",
    "for key, value in new_names.items():\n",
    "    for elem in value:\n",
    "        result[(elem)] = key\n",
    "new_cluster_names = dict(sorted(result.items()))\n",
    "print(new_cluster_names)"
   ]
  },
  {
   "cell_type": "code",
   "execution_count": null,
   "id": "0c52efac-900d-48dc-8f19-893f3927a07d",
   "metadata": {},
   "outputs": [],
   "source": [
    "ad.obs['clusters'] = (\n",
    "    ad.obs['cell_ontology_class']\n",
    "    .map(new_cluster_names)\n",
    "    .astype('category')\n",
    ")"
   ]
  },
  {
   "cell_type": "code",
   "execution_count": null,
   "id": "e64222ac-0b45-4a93-8178-f4b2b55b1876",
   "metadata": {
    "tags": []
   },
   "outputs": [],
   "source": [
    "pd.value_counts(ad.obs[\"clusters\"])"
   ]
  },
  {
   "cell_type": "code",
   "execution_count": null,
   "id": "884621db-b106-4cab-a0fc-8914de6f9c13",
   "metadata": {
    "tags": []
   },
   "outputs": [],
   "source": [
    "with rc_context({'figure.figsize': (7, 6)}):\n",
    "    sc.pl.umap(ad, color=['clusters','age'], wspace=0.3)"
   ]
  },
  {
   "cell_type": "markdown",
   "id": "5ea1febe-b2ca-46d9-ba82-e3189e2b5007",
   "metadata": {
    "tags": []
   },
   "source": [
    "Check if data is normalized:"
   ]
  },
  {
   "cell_type": "code",
   "execution_count": null,
   "id": "26af2655-0c4f-48de-9d75-8d967bcb921b",
   "metadata": {},
   "outputs": [],
   "source": [
    "ad.layers"
   ]
  },
  {
   "cell_type": "code",
   "execution_count": null,
   "id": "34d1c90d-f292-486a-b7b8-ad3805993e88",
   "metadata": {},
   "outputs": [],
   "source": [
    "# show expression of 100 random genes (across all spots)\n",
    "import random\n",
    "import seaborn as sns\n",
    "random_genes=random.sample(range(0, ad.X.shape[1]), 100)\n",
    "adata_sub = ad[:,random_genes]\n",
    "exp=pd.DataFrame(adata_sub.X.todense())\n",
    "pl1=sns.displot(data=pd.melt(exp),x='value',height=4,hue='variable',kind=\"kde\",warn_singular=False,legend=False,palette=list(np.repeat('#086da6',100)), lw=0.3) # genes with 0 expression are excluded\n",
    "pl1.set(xlim=(-0.5, 7),ylim=(0,0.007));\n",
    "plt.show()"
   ]
  },
  {
   "cell_type": "code",
   "execution_count": null,
   "id": "eb2da047-3ecf-4ae3-b104-2cee986ade01",
   "metadata": {},
   "outputs": [],
   "source": [
    "sns.set(rc={'figure.figsize':(4,4)})\n",
    "pl=sns.histplot(data=pd.melt(exp),x='value',binwidth=0.5,legend=True,palette=list(np.repeat('#086da6',100)))\n",
    "pl.set(xlim=(0, 10));\n",
    "sns.set_style(\"ticks\")\n",
    "plt.show()"
   ]
  },
  {
   "cell_type": "code",
   "execution_count": null,
   "id": "e242e00a-8ae4-461a-a9b3-2fe885f63994",
   "metadata": {},
   "outputs": [],
   "source": [
    "adata_sub.X.todense()"
   ]
  },
  {
   "cell_type": "markdown",
   "id": "08be4c10-c4c4-4a6e-89a7-8d90b0006add",
   "metadata": {},
   "source": [
    "Data seems to be normalized"
   ]
  },
  {
   "cell_type": "code",
   "execution_count": null,
   "id": "00366261-9275-4cff-9f8d-2701a662cb9a",
   "metadata": {},
   "outputs": [],
   "source": [
    "ad.layers[\"normalized\"] = ad.X.copy() # save normalized + log-transformed (but unscaled) counts - retrieve via adata.X = adata.layers[\"normalized\"]"
   ]
  },
  {
   "cell_type": "code",
   "execution_count": null,
   "id": "c5ff3cde-1bcd-4227-ad53-eeec7000a97d",
   "metadata": {},
   "outputs": [],
   "source": [
    "ad"
   ]
  },
  {
   "cell_type": "code",
   "execution_count": null,
   "id": "2531e40c-7442-4cf7-a59a-6e7970c0ae72",
   "metadata": {},
   "outputs": [],
   "source": [
    "ad.layers"
   ]
  },
  {
   "cell_type": "code",
   "execution_count": null,
   "id": "c6183252-3f65-43ac-a3a3-658d714f4540",
   "metadata": {},
   "outputs": [],
   "source": [
    "adm = ad"
   ]
  },
  {
   "cell_type": "code",
   "execution_count": null,
   "id": "7f809581-5e22-4908-852b-adf938c5a1c5",
   "metadata": {},
   "outputs": [],
   "source": [
    "del ad"
   ]
  },
  {
   "cell_type": "markdown",
   "id": "a1ecea0d-9d1d-4569-af98-b0f3342b615c",
   "metadata": {},
   "source": [
    "## Non-myeloid dataset"
   ]
  },
  {
   "cell_type": "code",
   "execution_count": null,
   "id": "c2914e3d-742a-4ecc-b033-0dba60615439",
   "metadata": {},
   "outputs": [],
   "source": [
    "ad = sc.read_h5ad(main_dir+\"\\\\P6_vasc_scRNAseq\\TabulaMurisSenis2020\\\\tabula-muris-senis-facs-processed-official-annotations-Brain_Non-Myeloid.h5ad\")\n",
    "ad"
   ]
  },
  {
   "cell_type": "code",
   "execution_count": null,
   "id": "db7248a2-f1a5-4f66-bbc1-280d249d15fb",
   "metadata": {},
   "outputs": [],
   "source": [
    "ad.obs.head()"
   ]
  },
  {
   "cell_type": "code",
   "execution_count": null,
   "id": "08970314-934d-4f9e-80d0-80955819eae7",
   "metadata": {
    "tags": []
   },
   "outputs": [],
   "source": [
    "pd.value_counts(ad.obs[\"cell_ontology_class\"])"
   ]
  },
  {
   "cell_type": "code",
   "execution_count": null,
   "id": "aa6f44e9-2604-4beb-8eeb-36a0ab1c1e9e",
   "metadata": {},
   "outputs": [],
   "source": [
    "new_names = {\n",
    "    'Endothelial cells': {'endothelial cell'},\n",
    "    'Oligos': {'oligodendrocyte'},\n",
    "    'Astrocytes': {'astrocyte','Bergmann glial cell'},\n",
    "    'Pericytes': {'brain pericyte'},\n",
    "    'Neurons': {'neuron','interneuron', 'medium spiny neuron'},\n",
    "    'OPCs': {'oligodendrocyte precursor cell'},\n",
    "    'Neuroepithelial cells': {'neuroepithelial cell'},\n",
    "    'Microglia/Macrophages': {'microglial cell','macrophage'},\n",
    "    'Neuronal stem cells': {'neuronal stem cell'},\n",
    "    'Ependymal cells': {'ependymal cell'},\n",
    "    'NK/T cells': {'mature NK T cell','T cell', 'CD8-positive, alpha-beta T cell'},\n",
    "}\n",
    "result = {}\n",
    "for key, value in new_names.items():\n",
    "    for elem in value:\n",
    "        result[(elem)] = key\n",
    "new_cluster_names = dict(sorted(result.items()))\n",
    "print(new_cluster_names)"
   ]
  },
  {
   "cell_type": "code",
   "execution_count": null,
   "id": "4c6dca8e-75c5-4db1-9406-201ee447fab2",
   "metadata": {},
   "outputs": [],
   "source": [
    "ad.obs['clusters'] = (\n",
    "    ad.obs['cell_ontology_class']\n",
    "    .map(new_cluster_names)\n",
    "    .astype('category')\n",
    ")"
   ]
  },
  {
   "cell_type": "code",
   "execution_count": null,
   "id": "9202fd73-eb27-4eda-8b1a-05856bb55776",
   "metadata": {
    "tags": []
   },
   "outputs": [],
   "source": [
    "pd.value_counts(ad.obs[\"clusters\"])"
   ]
  },
  {
   "cell_type": "code",
   "execution_count": null,
   "id": "ded60828-23fd-4b9f-8abd-c16ec0f28973",
   "metadata": {
    "tags": []
   },
   "outputs": [],
   "source": [
    "with rc_context({'figure.figsize': (7, 6)}):\n",
    "    sc.pl.umap(ad, color=['clusters','age'], wspace=0.3)"
   ]
  },
  {
   "cell_type": "markdown",
   "id": "5f27aa2f-0310-4d1c-b8d1-5056802876ef",
   "metadata": {},
   "source": [
    "No SMCs?"
   ]
  },
  {
   "cell_type": "code",
   "execution_count": null,
   "id": "f6a02921-21e1-4d62-b9d4-cf8be9711b4d",
   "metadata": {
    "tags": []
   },
   "outputs": [],
   "source": [
    "with rc_context({'figure.figsize': (7, 6)}):\n",
    "    sc.pl.umap(ad, color=['Pdgfrb','Vtn','Kcnj8','Rgs5','Tagln','Acta2','Myh11','Cnn1'], wspace=0.2, size=35)"
   ]
  },
  {
   "cell_type": "code",
   "execution_count": null,
   "id": "2fb199ad-d835-4497-a0bd-99e873712487",
   "metadata": {
    "tags": []
   },
   "outputs": [],
   "source": [
    "sc.pl.dotplot(ad, var_names=['Cldn5',\"Aqp4\",\"Mbp\",'Pdgfrb','Vtn','Kcnj8','Rgs5','Atp13a5','Tagln','Acta2','Myh11','Cnn1'], groupby=\"clusters\", swap_axes=False);"
   ]
  },
  {
   "cell_type": "markdown",
   "id": "cc5ecf5a-5a56-4b1a-87de-13a05b292b13",
   "metadata": {},
   "source": [
    "Last 4 cols are SMC markers"
   ]
  },
  {
   "cell_type": "markdown",
   "id": "59a287db-44d2-4d28-b53d-99ef74dd43ad",
   "metadata": {},
   "source": [
    "Mural cell signature is ambigous.\n",
    "\n",
    "Re-cluster to separate PCs and SMCs:"
   ]
  },
  {
   "cell_type": "code",
   "execution_count": null,
   "id": "c92cdae1-3254-40a3-9c0d-ae3e53c98af5",
   "metadata": {},
   "outputs": [],
   "source": [
    "sc.tl.leiden(ad, resolution=2)"
   ]
  },
  {
   "cell_type": "code",
   "execution_count": null,
   "id": "4e0b23a9-2fd5-4010-ac73-a4013ef5bf38",
   "metadata": {},
   "outputs": [],
   "source": [
    "with rc_context({'figure.figsize': (7, 5)}):\n",
    "    sc.pl.umap(ad, color=['leiden'],legend_loc=\"on data\", legend_fontoutline=3,legend_fontsize=15)"
   ]
  },
  {
   "cell_type": "code",
   "execution_count": null,
   "id": "911b99b4-b130-48cf-bb7e-05b11d18d6e3",
   "metadata": {
    "tags": []
   },
   "outputs": [],
   "source": [
    "sc.pl.dotplot(ad, var_names=['Cldn5',\"Aqp4\",\"Mbp\",'Pdgfrb','Vtn','Kcnj8','Rgs5','Atp13a5','Tagln','Acta2','Myh11','Cnn1'], groupby=\"leiden\", swap_axes=False);"
   ]
  },
  {
   "cell_type": "markdown",
   "id": "f3c9d640-4923-4b7c-a735-5a60aef293ab",
   "metadata": {},
   "source": [
    "Note: Still no PC signature. Likely few PCs in dataset.  \n",
    "Rename \"Pericytes\" to \"SMCs/Pericytes\""
   ]
  },
  {
   "cell_type": "code",
   "execution_count": null,
   "id": "b75ec340-a36a-4bc1-89de-6618d4faaf89",
   "metadata": {},
   "outputs": [],
   "source": [
    "new_names = {\n",
    "    'Endothelial cells': {'Endothelial cells'},\n",
    "    'Oligos': {'Oligos'},\n",
    "    'Astrocytes': {'Astrocytes'},\n",
    "    'SMCs/Pericytes': {'Pericytes'},\n",
    "    'Neurons': {'Neurons'},\n",
    "    'OPCs': {'OPCs'},\n",
    "    'Neuroepithelial cells': {'Neuroepithelial cells'},\n",
    "    'Microglia': {'Microglia'},\n",
    "    'Neuronal stem cells': {'Neuronal stem cells'},\n",
    "    'Ependymal cells': {'Ependymal cells'},\n",
    "    'Macrophages': {'Macrophages'},\n",
    "    'NK/T cells': {'NK/T cells'},\n",
    "}\n",
    "result = {}\n",
    "for key, value in new_names.items():\n",
    "    for elem in value:\n",
    "        result[(elem)] = key\n",
    "new_cluster_names = dict(sorted(result.items()))\n",
    "print(new_cluster_names)"
   ]
  },
  {
   "cell_type": "code",
   "execution_count": null,
   "id": "932f9d04-e5d6-492b-84b5-11d1d6620ca8",
   "metadata": {},
   "outputs": [],
   "source": [
    "ad.obs['clusters'] = (\n",
    "    ad.obs['clusters']\n",
    "    .map(new_cluster_names)\n",
    "    .astype('category')\n",
    ")"
   ]
  },
  {
   "cell_type": "code",
   "execution_count": null,
   "id": "ee5fe476-9b39-44bb-8932-d7b026985be8",
   "metadata": {},
   "outputs": [],
   "source": []
  },
  {
   "cell_type": "markdown",
   "id": "402ec721-8353-49a9-9370-e6d7c5ec1bee",
   "metadata": {
    "tags": []
   },
   "source": [
    "Check if data is normalized:"
   ]
  },
  {
   "cell_type": "code",
   "execution_count": null,
   "id": "05b8bf60-3b12-47a9-ad75-5924899572cf",
   "metadata": {},
   "outputs": [],
   "source": [
    "ad.layers"
   ]
  },
  {
   "cell_type": "code",
   "execution_count": null,
   "id": "c4ccefcb-fe20-454a-a464-46698aa2bf77",
   "metadata": {},
   "outputs": [],
   "source": [
    "# show expression of 100 random genes (across all spots)\n",
    "import random\n",
    "import seaborn as sns\n",
    "random_genes=random.sample(range(0, ad.X.shape[1]), 100)\n",
    "adata_sub = ad[:,random_genes]\n",
    "exp=pd.DataFrame(adata_sub.X.todense())\n",
    "pl1=sns.displot(data=pd.melt(exp),x='value',height=4,hue='variable',kind=\"kde\",warn_singular=False,legend=False,palette=list(np.repeat('#086da6',100)), lw=0.3) # genes with 0 expression are excluded\n",
    "pl1.set(xlim=(-0.5, 7),ylim=(0,0.007));\n",
    "plt.show()"
   ]
  },
  {
   "cell_type": "code",
   "execution_count": null,
   "id": "0d7b998d-1f94-4a06-85e2-3edd79070bfe",
   "metadata": {},
   "outputs": [],
   "source": [
    "sns.set(rc={'figure.figsize':(4,4)})\n",
    "pl=sns.histplot(data=pd.melt(exp),x='value',binwidth=0.5,legend=True,palette=list(np.repeat('#086da6',100)))\n",
    "pl.set(xlim=(0, 10));\n",
    "sns.set_style(\"ticks\")\n",
    "plt.show()"
   ]
  },
  {
   "cell_type": "code",
   "execution_count": null,
   "id": "719757bd-0651-4d1e-bfc3-cc2bb5911b00",
   "metadata": {},
   "outputs": [],
   "source": [
    "adata_sub.X.todense()"
   ]
  },
  {
   "cell_type": "markdown",
   "id": "4f0bb973-9801-43c1-9093-cae84f9aeb24",
   "metadata": {},
   "source": [
    "Data seems to be normalized"
   ]
  },
  {
   "cell_type": "code",
   "execution_count": null,
   "id": "0cf90bf7-e1c1-456d-8e3b-496f13a386a3",
   "metadata": {},
   "outputs": [],
   "source": [
    "ad.layers[\"normalized\"] = ad.X.copy() # save normalized + log-transformed (but unscaled) counts - retrieve via adata.X = adata.layers[\"normalized\"]"
   ]
  },
  {
   "cell_type": "code",
   "execution_count": null,
   "id": "af0f88d5-3003-457d-924a-16d538839e58",
   "metadata": {},
   "outputs": [],
   "source": [
    "ad"
   ]
  },
  {
   "cell_type": "code",
   "execution_count": null,
   "id": "3fa5b139-be59-45ac-b2de-e8534ef43448",
   "metadata": {},
   "outputs": [],
   "source": [
    "ad.layers"
   ]
  },
  {
   "cell_type": "code",
   "execution_count": null,
   "id": "8d7f2dd2-6e3b-4fa8-9395-846faf44c72a",
   "metadata": {},
   "outputs": [],
   "source": [
    "adnm = ad"
   ]
  },
  {
   "cell_type": "code",
   "execution_count": null,
   "id": "c84dfb1b-5cfc-480c-b95c-7ed1c64b4284",
   "metadata": {},
   "outputs": [],
   "source": [
    "del ad"
   ]
  },
  {
   "cell_type": "markdown",
   "id": "697d11f4-c6c2-41ac-9d3b-aa96d2e92804",
   "metadata": {},
   "source": [
    "## Merge"
   ]
  },
  {
   "cell_type": "code",
   "execution_count": null,
   "id": "86d56887-d28b-4624-881b-5d7387bde170",
   "metadata": {},
   "outputs": [],
   "source": [
    "del adata_sub\n",
    "del random_genes"
   ]
  },
  {
   "cell_type": "code",
   "execution_count": null,
   "id": "5b302a8e-1d34-41a2-b19e-72da068a163a",
   "metadata": {},
   "outputs": [],
   "source": [
    "# merge datasets\n",
    "adata = anndata.concat([adnm, adm], join=\"inner\") # ignore batch effects etc. because dataset is pre-annotated\n",
    "adata"
   ]
  },
  {
   "cell_type": "code",
   "execution_count": null,
   "id": "f6969082-6d0d-446f-8606-8ee44af82dca",
   "metadata": {
    "tags": []
   },
   "outputs": [],
   "source": [
    "pd.value_counts(adata.obs[\"age\"])"
   ]
  },
  {
   "cell_type": "code",
   "execution_count": null,
   "id": "de23f53b-ad4d-496d-a28b-501ec74d3535",
   "metadata": {
    "tags": []
   },
   "outputs": [],
   "source": [
    "pd.value_counts(adata.obs[\"clusters\"])"
   ]
  },
  {
   "cell_type": "code",
   "execution_count": null,
   "id": "0522a9e3-4c81-4b48-b714-055d4befc3b0",
   "metadata": {
    "tags": []
   },
   "outputs": [],
   "source": [
    "pd.value_counts(adata.obs[\"sex\"])"
   ]
  },
  {
   "cell_type": "code",
   "execution_count": null,
   "id": "c79e6e98-e072-42d5-be07-e799967d0cfd",
   "metadata": {
    "tags": []
   },
   "outputs": [],
   "source": [
    "pd.value_counts(adata.obs[\"mouse.id\"])"
   ]
  },
  {
   "cell_type": "markdown",
   "id": "215d9fc0-283f-49eb-bc91-f09d88c65648",
   "metadata": {
    "tags": []
   },
   "source": [
    "# Focus on: Foxf2"
   ]
  },
  {
   "cell_type": "code",
   "execution_count": null,
   "id": "331f0745-fe25-49bf-91b2-967e72cab560",
   "metadata": {},
   "outputs": [],
   "source": [
    "adata_backup = adata"
   ]
  },
  {
   "cell_type": "code",
   "execution_count": null,
   "id": "511f9baf-ea42-4ba9-9aa4-e4d9116e0ed5",
   "metadata": {},
   "outputs": [],
   "source": [
    "# drop aged samples\n",
    "# adata = adata[adata.obs['age'].isin(['3m'])]"
   ]
  },
  {
   "cell_type": "code",
   "execution_count": null,
   "id": "c6e0a5de-e1ae-43a6-8788-0444dc637504",
   "metadata": {},
   "outputs": [],
   "source": [
    "gene=\"Foxf2\""
   ]
  },
  {
   "cell_type": "markdown",
   "id": "4e7b4a2a-43bd-403b-8047-b52961c48fd7",
   "metadata": {},
   "source": [
    "## Plot"
   ]
  },
  {
   "cell_type": "code",
   "execution_count": null,
   "id": "d50bc8a2-5d9b-4479-966b-5ae3ffefa706",
   "metadata": {},
   "outputs": [],
   "source": [
    "sc.pl.matrixplot(adata, [gene], groupby='clusters', swap_axes=False, figsize=(2,5), standard_scale=\"var\", layer=\"normalized\")"
   ]
  },
  {
   "cell_type": "code",
   "execution_count": null,
   "id": "3070ed04-c323-412b-8db4-2a94ac0ab4c6",
   "metadata": {},
   "outputs": [],
   "source": [
    "sc.pl.dotplot(adata, [gene], groupby='clusters', swap_axes=False, figsize=(2,5), standard_scale=\"var\", layer=\"normalized\")"
   ]
  },
  {
   "cell_type": "code",
   "execution_count": null,
   "id": "8726a547-5555-4c02-8d0a-48fe6ab8b853",
   "metadata": {},
   "outputs": [],
   "source": [
    "utils.summarize_gene_expression(adata = adata, gene = gene, groupby = \"clusters\", \n",
    "                                study_name = dataset_name, organism = organism,\n",
    "                                export = True, output_dir = os.path.join(main_dir, \"P06_Foxf2_per_celltype\", \"Foxf2_summarized\")\n",
    "                               )"
   ]
  },
  {
   "cell_type": "markdown",
   "id": "3cea61d6-4981-467b-a19b-4c27d79a5fca",
   "metadata": {},
   "source": [
    "# Focus on: Other genes"
   ]
  },
  {
   "cell_type": "code",
   "execution_count": null,
   "id": "e119c741-afd7-4e36-9db5-120d148594dc",
   "metadata": {},
   "outputs": [],
   "source": [
    "target_genes = [\"Foxo1\", \"Tek\", \"Nos3\", \"Htra1\", \"Egfl8\", \"Flt1\", \"Kdr\", \"Ptprb\", \"Nrp1\", \"Nrp2\", \"Efnb2\", \"Itgb1\", \"Itga6\", \"Angpt2\", \"Cdh5\", \"Cldn5\", \"Ocln\", \"Ctnnb1\"]"
   ]
  },
  {
   "cell_type": "code",
   "execution_count": null,
   "id": "9a1abd92-e52a-4a7a-9495-5c0352aa4998",
   "metadata": {},
   "outputs": [],
   "source": [
    "other_genes_results = {\n",
    "    gene: utils.summarize_gene_expression(adata, gene, study_name = dataset_name, organism = organism, groupby = \"clusters\",\n",
    "                                          output_dir=os.path.join(main_dir, \"P06_Foxf2_per_celltype\", \"Other_genes_summarized\"), export=True\n",
    "                                         ) for gene in target_genes\n",
    "}"
   ]
  },
  {
   "cell_type": "code",
   "execution_count": null,
   "id": "ffeeaa92-a734-4650-9dca-cee4df789cbc",
   "metadata": {},
   "outputs": [],
   "source": [
    "# some plots"
   ]
  },
  {
   "cell_type": "code",
   "execution_count": null,
   "id": "b1523cc5-e1b7-42a9-9bc6-8a0f688af126",
   "metadata": {
    "tags": []
   },
   "outputs": [],
   "source": [
    "sc.pl.matrixplot(adata, [target_genes[0]], groupby='clusters', swap_axes=False, figsize=(2,5), standard_scale=\"var\", layer=\"normalized\")"
   ]
  },
  {
   "cell_type": "code",
   "execution_count": null,
   "id": "0dfdb388-cd03-44ca-ad39-9d70de15d630",
   "metadata": {},
   "outputs": [],
   "source": [
    "sc.pl.dotplot(adata, [target_genes[0]], groupby='clusters', swap_axes=False, figsize=(2,5), standard_scale=\"var\", layer=\"normalized\")"
   ]
  },
  {
   "cell_type": "code",
   "execution_count": null,
   "id": "204a892f-7de4-4b59-b39f-0b34e8909538",
   "metadata": {},
   "outputs": [],
   "source": [
    "sc.pl.matrixplot(adata, [target_genes[1]], groupby='clusters', swap_axes=False, figsize=(2,5), standard_scale=\"var\", layer=\"normalized\")"
   ]
  },
  {
   "cell_type": "code",
   "execution_count": null,
   "id": "a6567ab8-a4d6-4d32-9ee9-a5d6bbfae517",
   "metadata": {},
   "outputs": [],
   "source": [
    "sc.pl.dotplot(adata, [target_genes[1]], groupby='clusters', swap_axes=False, figsize=(2,5), standard_scale=\"var\", layer=\"normalized\")"
   ]
  },
  {
   "cell_type": "markdown",
   "id": "a2086363-e940-40f3-8847-235cf59a71f3",
   "metadata": {},
   "source": [
    "# Focus on: Aging"
   ]
  },
  {
   "cell_type": "code",
   "execution_count": null,
   "id": "968a4c0b-0c40-4fc8-bd16-b68482cb8564",
   "metadata": {},
   "outputs": [],
   "source": [
    "adata = adata_backup"
   ]
  },
  {
   "cell_type": "code",
   "execution_count": null,
   "id": "96a71f6c-0774-41fe-a81f-6b11b98593a6",
   "metadata": {
    "tags": []
   },
   "outputs": [],
   "source": [
    "pd.value_counts(adata.obs[\"age\"])"
   ]
  },
  {
   "cell_type": "markdown",
   "id": "70fee669-39a6-4dd7-a0a4-e20adcd34247",
   "metadata": {},
   "source": [
    "## Foxf2 by age group"
   ]
  },
  {
   "cell_type": "code",
   "execution_count": null,
   "id": "10726739-d178-4fb9-9c8c-275cae39889c",
   "metadata": {},
   "outputs": [],
   "source": [
    "gene=[\"Foxf2\",\"Foxo1\",\"Tek\",\"Nos3\"]"
   ]
  },
  {
   "cell_type": "markdown",
   "id": "3f738f31-faba-4b81-9d33-1f923b85770f",
   "metadata": {},
   "source": [
    "### All cell types"
   ]
  },
  {
   "cell_type": "code",
   "execution_count": null,
   "id": "2fabe302-6340-4f13-bf37-94bbe1f13b33",
   "metadata": {},
   "outputs": [],
   "source": [
    "sc.pl.dotplot(adata, gene, groupby='age', swap_axes=True, figsize=(4,2), standard_scale=\"var\", layer=\"normalized\", title=\"All cell types\")"
   ]
  },
  {
   "cell_type": "markdown",
   "id": "1b181f68-c47b-47ef-9bbe-1697ccd9c21e",
   "metadata": {},
   "source": [
    "### ECs only"
   ]
  },
  {
   "cell_type": "code",
   "execution_count": null,
   "id": "5ad63ced-1a8d-41c6-a05b-98e1ab353a0a",
   "metadata": {},
   "outputs": [],
   "source": [
    "# ECs only\n",
    "adata_ecs = adata[adata.obs['clusters'].isin(['Endothelial cells'])]\n",
    "adata_ecs"
   ]
  },
  {
   "cell_type": "code",
   "execution_count": null,
   "id": "a609a5d8-3918-47d5-b965-b347ed0f4a34",
   "metadata": {
    "tags": []
   },
   "outputs": [],
   "source": [
    "pd.value_counts(adata_ecs.obs[\"age\"])"
   ]
  },
  {
   "cell_type": "code",
   "execution_count": null,
   "id": "48bde0b5-1868-4e89-9082-9ec804654ed2",
   "metadata": {},
   "outputs": [],
   "source": [
    "sc.pl.dotplot(adata_ecs, gene, groupby='age', swap_axes=True, figsize=(4,2), standard_scale=\"var\", layer=\"normalized\", title=\"ECs\")"
   ]
  },
  {
   "cell_type": "markdown",
   "id": "3e9c647c-77a6-4adc-bfd6-2c1dc7d6c679",
   "metadata": {},
   "source": [
    "### SMCs/PCs only"
   ]
  },
  {
   "cell_type": "markdown",
   "id": "96224f4d-f2d4-4489-9d97-37e82f205900",
   "metadata": {},
   "source": [
    "Liekly PCs + SMCs (see above)"
   ]
  },
  {
   "cell_type": "code",
   "execution_count": null,
   "id": "eb7c4290-7721-4024-b799-c1483e8bd897",
   "metadata": {},
   "outputs": [],
   "source": [
    "adata_pcs = adata[adata.obs['clusters'].isin(['SMCs/Pericytes'])]\n",
    "pd.value_counts(adata_pcs.obs[\"age\"])"
   ]
  },
  {
   "cell_type": "code",
   "execution_count": null,
   "id": "5006fe7c-941a-4aa3-a10e-acc217c2c2e6",
   "metadata": {},
   "outputs": [],
   "source": [
    "sc.pl.dotplot(adata_pcs, gene, groupby='age', swap_axes=True, figsize=(4,2), standard_scale=\"var\", layer=\"normalized\", title=\"PCs/SMCs\")"
   ]
  },
  {
   "cell_type": "markdown",
   "id": "397cc916-6d77-45be-905d-c33d7976623d",
   "metadata": {},
   "source": [
    "### Neurons only"
   ]
  },
  {
   "cell_type": "code",
   "execution_count": null,
   "id": "4471e942-a0c7-45df-b221-129079ac3ee8",
   "metadata": {},
   "outputs": [],
   "source": [
    "adata_neur = adata[adata.obs['clusters'].isin(['Neurons'])]\n",
    "pd.value_counts(adata_neur.obs[\"age\"])"
   ]
  },
  {
   "cell_type": "code",
   "execution_count": null,
   "id": "3e61c221-8e19-4104-b3d7-60e48c8ffe5e",
   "metadata": {},
   "outputs": [],
   "source": [
    "sc.pl.dotplot(adata_neur, gene, groupby='age', swap_axes=True, figsize=(4,2), standard_scale=\"var\", layer=\"normalized\", title=\"Neurons\")"
   ]
  },
  {
   "cell_type": "markdown",
   "id": "aa912c5b-647e-4b3f-97b4-0e5a16cecce1",
   "metadata": {},
   "source": [
    "### Astrocytes only"
   ]
  },
  {
   "cell_type": "code",
   "execution_count": null,
   "id": "88500b53-9e79-44ef-8778-3efea18e851c",
   "metadata": {},
   "outputs": [],
   "source": [
    "adata_astro = adata[adata.obs['clusters'].isin(['Astrocytes'])]\n",
    "pd.value_counts(adata_astro.obs[\"age\"])"
   ]
  },
  {
   "cell_type": "code",
   "execution_count": null,
   "id": "4d54f261-368a-4ec9-8c54-9cdc1ac12d15",
   "metadata": {},
   "outputs": [],
   "source": [
    "sc.pl.dotplot(adata_astro, gene, groupby='age', swap_axes=True, figsize=(4,2), standard_scale=\"var\", layer=\"normalized\", title=\"Astrocytes\")"
   ]
  },
  {
   "cell_type": "markdown",
   "id": "1c8a6c7e-c0fe-478d-8d1b-c9bc93bdf303",
   "metadata": {},
   "source": [
    "### Oligos only"
   ]
  },
  {
   "cell_type": "code",
   "execution_count": null,
   "id": "f8823cbb-0cc3-4061-b7c2-b9e669de7e47",
   "metadata": {},
   "outputs": [],
   "source": [
    "adata_olig = adata[adata.obs['clusters'].isin(['Oligos'])]\n",
    "pd.value_counts(adata_olig.obs[\"age\"])"
   ]
  },
  {
   "cell_type": "code",
   "execution_count": null,
   "id": "1008e534-ea40-4aa8-b6b6-df9cdcf624ba",
   "metadata": {},
   "outputs": [],
   "source": [
    "sc.pl.dotplot(adata_olig, gene, groupby='age', swap_axes=True, figsize=(4,2), standard_scale=\"var\", layer=\"normalized\", title=\"Oligos\")"
   ]
  },
  {
   "cell_type": "markdown",
   "id": "ce86fd0b-8d46-4a79-9471-d543bbedfd7a",
   "metadata": {},
   "source": [
    "### Microglia only"
   ]
  },
  {
   "cell_type": "code",
   "execution_count": null,
   "id": "0c0ef0af-8f6b-4aba-bcb6-541c1b3f03b4",
   "metadata": {},
   "outputs": [],
   "source": [
    "adata_mg = adata[adata.obs['clusters'].isin(['Microglia/Macrophages'])]\n",
    "pd.value_counts(adata_mg.obs[\"age\"])"
   ]
  },
  {
   "cell_type": "code",
   "execution_count": null,
   "id": "6f8fc175-3a69-4ea9-b531-fa5d3a2f6143",
   "metadata": {},
   "outputs": [],
   "source": [
    "sc.pl.dotplot(adata_mg, gene, groupby='age', swap_axes=True, figsize=(4,2), standard_scale=\"var\", layer=\"normalized\", title=\"Microglia/Macrophages\")"
   ]
  },
  {
   "cell_type": "markdown",
   "id": "c186e163-a194-4441-9362-bafef7ba2399",
   "metadata": {},
   "source": [
    "## Correlate gene expression (Foxf2 and Foxo1)"
   ]
  },
  {
   "cell_type": "markdown",
   "id": "03a2371a-d6a8-41ae-bc84-aa77b2c2e32c",
   "metadata": {},
   "source": [
    "### ECs"
   ]
  },
  {
   "cell_type": "code",
   "execution_count": null,
   "id": "f8c3ae0c-422c-4561-9ad6-d3797c0467b9",
   "metadata": {},
   "outputs": [],
   "source": [
    "gg = [\"Foxf2\",\"Foxo1\"]"
   ]
  },
  {
   "cell_type": "code",
   "execution_count": null,
   "id": "532c68ba-c470-4458-953a-5ae0004762a7",
   "metadata": {},
   "outputs": [],
   "source": [
    "adata"
   ]
  },
  {
   "cell_type": "code",
   "execution_count": null,
   "id": "7bd20e39-1ba8-4416-bd59-b3b5ea701b30",
   "metadata": {},
   "outputs": [],
   "source": [
    "adata_ecs"
   ]
  },
  {
   "cell_type": "code",
   "execution_count": null,
   "id": "cf6aadfe-5579-4c11-bc74-7709d04aefbe",
   "metadata": {},
   "outputs": [],
   "source": [
    "adat = adata_ecs\n",
    "subs = adat[:,gg].X.todense()\n",
    "subs = pd.DataFrame(subs, columns = gg, index=adat.obs.index)\n",
    "age = pd.DataFrame(adat.obs[\"age\"])\n",
    "subs = subs.join(age)\n",
    "subs.head()"
   ]
  },
  {
   "cell_type": "code",
   "execution_count": null,
   "id": "e8fd9f00-ac75-4c4e-8686-c9ea0e0ee3a5",
   "metadata": {},
   "outputs": [],
   "source": [
    "g = sns.lmplot(x=\"Foxf2\", y=\"Foxo1\", data=subs, hue=\"age\", fit_reg=False, scatter_kws={'alpha':0.6})\n",
    "sns.regplot(x=\"Foxf2\", y=\"Foxo1\", data=subs, scatter=False, ax=g.axes[0, 0], color=\"grey\")\n",
    "g.figure.set_size_inches(7,6)\n",
    "plt.show()"
   ]
  },
  {
   "cell_type": "code",
   "execution_count": null,
   "id": "3a10ccee-5aa4-4595-8936-9a2f31d62cb3",
   "metadata": {},
   "outputs": [],
   "source": [
    "import scipy as sp\n",
    "r, p = sp.stats.pearsonr(subs['Foxf2'], subs['Foxo1'])\n",
    "'Pearson R = {:.2f}, p = {:.2g}'.format(r, p)"
   ]
  },
  {
   "cell_type": "code",
   "execution_count": null,
   "id": "9290a4f6-764f-44f4-ba28-7713155a4adf",
   "metadata": {},
   "outputs": [],
   "source": [
    "graph = sns.jointplot(data=subs, x=\"Foxf2\", y=\"Foxo1\", hue=\"age\")\n",
    "plt.show()"
   ]
  },
  {
   "cell_type": "code",
   "execution_count": null,
   "id": "bd1eaf5a-5b89-4e46-b4fd-a124d57e5ec4",
   "metadata": {},
   "outputs": [],
   "source": [
    "sns.set(style=\"whitegrid\")\n",
    "ax = sns.boxplot(x=\"age\", y=\"Foxf2\", data=subs, showfliers = False, palette=\"Blues\")\n",
    "ax = sns.stripplot(x=\"age\", y=\"Foxf2\", data=subs, color=\".25\",size=1)\n",
    "plt.show()"
   ]
  },
  {
   "cell_type": "code",
   "execution_count": null,
   "id": "8697da3c-514a-42f8-aa4d-4f9aca836ea5",
   "metadata": {},
   "outputs": [],
   "source": [
    "sns.set(style=\"whitegrid\")\n",
    "ax = sns.boxplot(x=\"age\", y=\"Foxo1\", data=subs, showfliers = False, palette=\"Blues\")\n",
    "ax = sns.stripplot(x=\"age\", y=\"Foxo1\", data=subs, color=\".25\",size=1)\n",
    "plt.show()"
   ]
  },
  {
   "cell_type": "code",
   "execution_count": null,
   "id": "4d794c8b-e8f6-43bf-b8b1-c65bcbe4355c",
   "metadata": {},
   "outputs": [],
   "source": []
  },
  {
   "cell_type": "code",
   "execution_count": null,
   "id": "ed460abd-43b5-49ad-bf3e-6a02f8a7ebd1",
   "metadata": {},
   "outputs": [],
   "source": []
  },
  {
   "cell_type": "code",
   "execution_count": null,
   "id": "e2806508-8752-4663-8a13-4a160bee4510",
   "metadata": {},
   "outputs": [],
   "source": []
  },
  {
   "cell_type": "markdown",
   "id": "4450517e-8b8f-40ff-a124-1218bacd342e",
   "metadata": {},
   "source": [
    "Exclude dropouts (cells with 0 expression of both genes)"
   ]
  },
  {
   "cell_type": "code",
   "execution_count": null,
   "id": "f747b3eb-351f-4040-89b2-e6500ccd7c1e",
   "metadata": {},
   "outputs": [],
   "source": [
    "coex = (adata_ecs[:,'{}'.format(\"Foxf2\")].X.todense() > 0) | (adata_ecs[:,'{}'.format(\"Foxo1\")].X.todense() > 0)"
   ]
  },
  {
   "cell_type": "code",
   "execution_count": null,
   "id": "5e8e33a9-7838-41cd-ad6b-89a3a0611643",
   "metadata": {},
   "outputs": [],
   "source": [
    "adata_ecs_above0 = adata_ecs[coex]\n",
    "adata_ecs_above0"
   ]
  },
  {
   "cell_type": "code",
   "execution_count": null,
   "id": "343c9fd7-ae46-40a2-8550-602e3fcc77d3",
   "metadata": {
    "tags": []
   },
   "outputs": [],
   "source": [
    "pd.value_counts(adata_ecs_above0.obs[\"age\"])"
   ]
  },
  {
   "cell_type": "code",
   "execution_count": null,
   "id": "11f23496-47cc-4cb2-893f-0127b668a703",
   "metadata": {},
   "outputs": [],
   "source": [
    "sc.pl.dotplot(adata_ecs_above0, gene, groupby='age', swap_axes=True, figsize=(4,2), standard_scale=\"var\", layer=\"normalized\", title=\"ECs\")"
   ]
  },
  {
   "cell_type": "code",
   "execution_count": null,
   "id": "9536ce11-ad4c-4957-9b31-cb41cedb7e35",
   "metadata": {},
   "outputs": [],
   "source": [
    "adat = adata_ecs_above0\n",
    "subs = adat[:,gg].X.todense()\n",
    "subs = pd.DataFrame(subs, columns = gg, index=adat.obs.index)\n",
    "age = pd.DataFrame(adat.obs[\"age\"])\n",
    "subs = subs.join(age)"
   ]
  },
  {
   "cell_type": "code",
   "execution_count": null,
   "id": "5bc88e29-f463-45d8-850a-a89f267d6406",
   "metadata": {},
   "outputs": [],
   "source": [
    "g = sns.lmplot(x=\"Foxf2\", y=\"Foxo1\", data=subs, hue=\"age\", fit_reg=False, scatter_kws={'alpha':0.6})\n",
    "sns.regplot(x=\"Foxf2\", y=\"Foxo1\", data=subs, scatter=False, ax=g.axes[0, 0], color=\"grey\")\n",
    "g.figure.set_size_inches(7,6)\n",
    "plt.show()"
   ]
  },
  {
   "cell_type": "code",
   "execution_count": null,
   "id": "dfb65806-36ab-47bb-8f84-e0deaee1b257",
   "metadata": {},
   "outputs": [],
   "source": [
    "r, p = sp.stats.pearsonr(subs['Foxf2'], subs['Foxo1'])\n",
    "'Pearson R = {:.2f}, p = {:.2g}'.format(r, p)"
   ]
  },
  {
   "cell_type": "code",
   "execution_count": null,
   "id": "782ff0fe-53ff-407c-92ab-41bd03aa17ed",
   "metadata": {},
   "outputs": [],
   "source": [
    "graph = sns.jointplot(data=subs, x=\"Foxf2\", y=\"Foxo1\", hue=\"age\")\n",
    "plt.show()"
   ]
  },
  {
   "cell_type": "code",
   "execution_count": null,
   "id": "a00f5254-37c4-4b67-a852-5fc7c7ae8d47",
   "metadata": {},
   "outputs": [],
   "source": [
    "sns.set(style=\"whitegrid\")\n",
    "ax = sns.boxplot(x=\"age\", y=\"Foxf2\", data=subs, showfliers = False, palette=\"Blues\")\n",
    "ax = sns.stripplot(x=\"age\", y=\"Foxf2\", data=subs, color=\".25\",size=1)\n",
    "plt.show()"
   ]
  },
  {
   "cell_type": "code",
   "execution_count": null,
   "id": "e86db1c3-4a90-41b2-b50d-5cb1df98efe1",
   "metadata": {},
   "outputs": [],
   "source": [
    "sns.set(style=\"whitegrid\")\n",
    "ax = sns.boxplot(x=\"age\", y=\"Foxo1\", data=subs, showfliers = False, palette=\"Blues\")\n",
    "ax = sns.stripplot(x=\"age\", y=\"Foxo1\", data=subs, color=\".25\",size=1)\n",
    "plt.show()"
   ]
  },
  {
   "cell_type": "markdown",
   "id": "86b3f9c8-ec0f-462f-9cb7-7e622e5b539b",
   "metadata": {},
   "source": [
    "### All cell types"
   ]
  },
  {
   "cell_type": "code",
   "execution_count": null,
   "id": "d74315da-5a1b-47c7-aebd-9dbcb5ef3cb7",
   "metadata": {},
   "outputs": [],
   "source": [
    "gg = [\"Foxf2\",\"Foxo1\"]"
   ]
  },
  {
   "cell_type": "code",
   "execution_count": null,
   "id": "f265652b-cbf7-49f2-8aa6-77ac0cfb2745",
   "metadata": {},
   "outputs": [],
   "source": [
    "adata"
   ]
  },
  {
   "cell_type": "code",
   "execution_count": null,
   "id": "13a6b531-3e2a-4abc-9335-b14ab604ee4d",
   "metadata": {},
   "outputs": [],
   "source": [
    "adat = adata\n",
    "subs = adat[:,gg].X.todense()\n",
    "subs = pd.DataFrame(subs, columns = gg, index=adat.obs.index)\n",
    "age = pd.DataFrame(adat.obs[\"age\"])\n",
    "subs = subs.join(age)\n",
    "subs.head()"
   ]
  },
  {
   "cell_type": "code",
   "execution_count": null,
   "id": "fbb4ff13-9b59-4038-8625-6fea93e33739",
   "metadata": {},
   "outputs": [],
   "source": [
    "g = sns.lmplot(x=\"Foxf2\", y=\"Foxo1\", data=subs, hue=\"age\", fit_reg=False, scatter_kws={'alpha':0.6})\n",
    "sns.regplot(x=\"Foxf2\", y=\"Foxo1\", data=subs, scatter=False, ax=g.axes[0, 0], color=\"grey\")\n",
    "g.figure.set_size_inches(7,6)\n",
    "plt.show()"
   ]
  },
  {
   "cell_type": "code",
   "execution_count": null,
   "id": "caf80ce2-28f0-4d4d-a180-8aab65ab1a74",
   "metadata": {
    "tags": []
   },
   "outputs": [],
   "source": [
    "graph = sns.jointplot(data=subs, x=\"Foxf2\", y=\"Foxo1\", hue=\"age\")\n",
    "plt.show()"
   ]
  },
  {
   "cell_type": "markdown",
   "id": "c7c69dd7-c0b9-4852-a771-91d40919eee7",
   "metadata": {},
   "source": [
    "Exclude dropouts (cells with 0 expression of both genes)"
   ]
  },
  {
   "cell_type": "code",
   "execution_count": null,
   "id": "f9b1d929-b634-4951-9eab-cbb48364a570",
   "metadata": {},
   "outputs": [],
   "source": [
    "coex = (adat[:,'{}'.format(\"Foxf2\")].X.todense() > 0) | (adat[:,'{}'.format(\"Foxo1\")].X.todense() > 0)"
   ]
  },
  {
   "cell_type": "code",
   "execution_count": null,
   "id": "c1528a21-b5ac-4323-9665-3ae2cf508a75",
   "metadata": {},
   "outputs": [],
   "source": [
    "adata_above0 = adat[coex]\n",
    "adata_above0"
   ]
  },
  {
   "cell_type": "code",
   "execution_count": null,
   "id": "a7985967-60f4-47b6-a81d-1c885a0b4a8e",
   "metadata": {
    "tags": []
   },
   "outputs": [],
   "source": [
    "pd.value_counts(adata_above0.obs[\"age\"])"
   ]
  },
  {
   "cell_type": "code",
   "execution_count": null,
   "id": "fe12c675-258e-4018-9448-a32725532f1d",
   "metadata": {},
   "outputs": [],
   "source": [
    "sc.pl.dotplot(adata_above0, gene, groupby='age', swap_axes=True, figsize=(4,2), standard_scale=\"var\", layer=\"normalized\")"
   ]
  },
  {
   "cell_type": "code",
   "execution_count": null,
   "id": "5bc2deb5-ede2-4900-b2bb-05244a352029",
   "metadata": {},
   "outputs": [],
   "source": [
    "adat = adata_above0\n",
    "subs = adat[:,gg].X.todense()\n",
    "subs = pd.DataFrame(subs, columns = gg, index=adat.obs.index)\n",
    "age = pd.DataFrame(adat.obs[\"age\"])\n",
    "subs = subs.join(age)"
   ]
  },
  {
   "cell_type": "code",
   "execution_count": null,
   "id": "7ead3c69-ec97-48e3-8966-11504dbca77f",
   "metadata": {},
   "outputs": [],
   "source": [
    "g = sns.lmplot(x=\"Foxf2\", y=\"Foxo1\", data=subs, hue=\"age\", fit_reg=False, scatter_kws={'alpha':0.6})\n",
    "sns.regplot(x=\"Foxf2\", y=\"Foxo1\", data=subs, scatter=False, ax=g.axes[0, 0], color=\"grey\")\n",
    "g.figure.set_size_inches(7,6)\n",
    "plt.show()"
   ]
  },
  {
   "cell_type": "code",
   "execution_count": null,
   "id": "42c3c2bf-d439-451b-9f7b-1972420653f2",
   "metadata": {},
   "outputs": [],
   "source": [
    "graph = sns.jointplot(data=subs, x=\"Foxf2\", y=\"Foxo1\", hue=\"age\")\n",
    "plt.show()"
   ]
  },
  {
   "cell_type": "code",
   "execution_count": null,
   "id": "6a903209-27d3-4824-8cf7-424aefdb6abe",
   "metadata": {},
   "outputs": [],
   "source": [
    "sns.set(style=\"whitegrid\")\n",
    "ax = sns.boxplot(x=\"age\", y=\"Foxf2\", data=subs, showfliers = False, palette=\"Blues\")\n",
    "ax = sns.stripplot(x=\"age\", y=\"Foxf2\", data=subs, color=\".25\",size=1)\n",
    "plt.show()"
   ]
  },
  {
   "cell_type": "code",
   "execution_count": null,
   "id": "cb2ee439-c740-479b-b417-f0e2a2c19206",
   "metadata": {},
   "outputs": [],
   "source": [
    "sns.set(style=\"whitegrid\")\n",
    "ax = sns.boxplot(x=\"age\", y=\"Foxo1\", data=subs, showfliers = False, palette=\"Blues\")\n",
    "ax = sns.stripplot(x=\"age\", y=\"Foxo1\", data=subs, color=\".25\",size=1)\n",
    "plt.show()"
   ]
  },
  {
   "cell_type": "markdown",
   "id": "89a17a41-e163-4e94-93d9-6b6d72ccd8f5",
   "metadata": {},
   "source": [
    "## Pseudobulk analysis"
   ]
  },
  {
   "cell_type": "markdown",
   "id": "abbb728d-eb35-44e1-bd0a-0be4f63da21d",
   "metadata": {},
   "source": [
    "Because correlation on single cell level is biased by large number of dropouts"
   ]
  },
  {
   "cell_type": "code",
   "execution_count": null,
   "id": "846e96bb-7daf-4e0d-995a-873472e24ea7",
   "metadata": {},
   "outputs": [],
   "source": [
    "import decoupler as dc"
   ]
  },
  {
   "cell_type": "code",
   "execution_count": null,
   "id": "d12d6b31-c063-4eab-a90a-d9d9333d0d1b",
   "metadata": {},
   "outputs": [],
   "source": [
    "adata"
   ]
  },
  {
   "cell_type": "code",
   "execution_count": null,
   "id": "d6d2a215-a0fb-4008-8725-f6a85c391402",
   "metadata": {},
   "outputs": [],
   "source": [
    "padata = dc.get_pseudobulk(adata, sample_col='mouse.id', groups_col='clusters', layer='normalized', min_prop=0.2, min_smpls=3)"
   ]
  },
  {
   "cell_type": "code",
   "execution_count": null,
   "id": "f92ccc3e-23e1-43b4-ac24-99529f1228a8",
   "metadata": {},
   "outputs": [],
   "source": [
    "padata"
   ]
  },
  {
   "cell_type": "markdown",
   "id": "e00e396e-cecc-4e4b-8401-6471b4d43544",
   "metadata": {},
   "source": [
    "### Correlate gene expression (Foxf2 and Foxo1)"
   ]
  },
  {
   "cell_type": "markdown",
   "id": "b9ac23e4-ad3d-42fa-8649-101e41fa1fb2",
   "metadata": {},
   "source": [
    "#### All cell types"
   ]
  },
  {
   "cell_type": "code",
   "execution_count": null,
   "id": "35f459df-e52d-4026-8a1e-912142b186c9",
   "metadata": {},
   "outputs": [],
   "source": [
    "gg = [\"Foxf2\",\"Foxo1\"]"
   ]
  },
  {
   "cell_type": "code",
   "execution_count": null,
   "id": "b16f3cd6-3a90-4fba-8313-1b82f49977f9",
   "metadata": {},
   "outputs": [],
   "source": [
    "padata"
   ]
  },
  {
   "cell_type": "code",
   "execution_count": null,
   "id": "0fe99e78-3eb0-472b-be76-8ce734bc32ee",
   "metadata": {},
   "outputs": [],
   "source": [
    "adat = padata\n",
    "subs = adat[:,gg].X\n",
    "subs = pd.DataFrame(subs, columns = gg, index=adat.obs.index)\n",
    "age = pd.DataFrame(adat.obs[\"age\"])\n",
    "subs = subs.join(age)\n",
    "subs.head()"
   ]
  },
  {
   "cell_type": "code",
   "execution_count": null,
   "id": "fe6b9007-fe9a-4525-a88d-4eb8ef81bf13",
   "metadata": {},
   "outputs": [],
   "source": [
    "g = sns.lmplot(x=\"Foxf2\", y=\"Foxo1\", data=subs, hue=\"age\", fit_reg=False, scatter_kws={'alpha':0.6})\n",
    "sns.regplot(x=\"Foxf2\", y=\"Foxo1\", data=subs, scatter=False, ax=g.axes[0, 0], color=\"grey\")\n",
    "g.figure.set_size_inches(7,6)\n",
    "plt.show()"
   ]
  },
  {
   "cell_type": "code",
   "execution_count": null,
   "id": "d3d170bd-ed0d-446b-963d-a063b9e38793",
   "metadata": {},
   "outputs": [],
   "source": [
    "import scipy as sp\n",
    "r, p = sp.stats.pearsonr(subs['Foxf2'], subs['Foxo1'])\n",
    "'Pearson R = {:.2f}, p = {:.2g}'.format(r, p)"
   ]
  },
  {
   "cell_type": "code",
   "execution_count": null,
   "id": "59f8c6a6-b69e-4b3a-9f70-f3ed11c06481",
   "metadata": {},
   "outputs": [],
   "source": [
    "graph = sns.jointplot(data=subs, x=\"Foxf2\", y=\"Foxo1\", hue=\"age\")\n",
    "plt.show()"
   ]
  },
  {
   "cell_type": "markdown",
   "id": "c1e04d9f-0825-4498-8718-2dedd2c29c55",
   "metadata": {},
   "source": [
    "#### ECs"
   ]
  },
  {
   "cell_type": "code",
   "execution_count": null,
   "id": "7226d92f-600a-4143-b0c4-d12a700ad8ff",
   "metadata": {},
   "outputs": [],
   "source": [
    "# ECs only\n",
    "padata_ecs = padata[padata.obs['clusters'].isin(['Endothelial cells'])]\n",
    "padata_ecs"
   ]
  },
  {
   "cell_type": "code",
   "execution_count": null,
   "id": "6f941ee7-69fa-4edd-abcd-b35104158593",
   "metadata": {},
   "outputs": [],
   "source": [
    "gg = [\"Foxf2\",\"Foxo1\"]"
   ]
  },
  {
   "cell_type": "code",
   "execution_count": null,
   "id": "409250a7-eb4b-4bb5-9aef-ba1a716254bb",
   "metadata": {},
   "outputs": [],
   "source": [
    "adat = padata_ecs\n",
    "subs = adat[:,gg].X\n",
    "subs = pd.DataFrame(subs, columns = gg, index=adat.obs.index)\n",
    "age = pd.DataFrame(adat.obs[\"age\"])\n",
    "subs = subs.join(age)\n",
    "subs.head()"
   ]
  },
  {
   "cell_type": "code",
   "execution_count": null,
   "id": "44c9f156-9c4f-4537-a32f-32bd3634f367",
   "metadata": {},
   "outputs": [],
   "source": [
    "g = sns.lmplot(x=\"Foxf2\", y=\"Foxo1\", data=subs, hue=\"age\", fit_reg=False, scatter_kws={'alpha':0.6})\n",
    "sns.regplot(x=\"Foxf2\", y=\"Foxo1\", data=subs, scatter=False, ax=g.axes[0, 0], color=\"grey\")\n",
    "g.figure.set_size_inches(7,6)\n",
    "plt.show()"
   ]
  },
  {
   "cell_type": "code",
   "execution_count": null,
   "id": "c4c6e674-37f3-4f19-bea3-ebeeb3361958",
   "metadata": {},
   "outputs": [],
   "source": [
    "import scipy as sp\n",
    "r, p = sp.stats.pearsonr(subs['Foxf2'], subs['Foxo1'])\n",
    "'Pearson R = {:.2f}, p = {:.2g}'.format(r, p)"
   ]
  },
  {
   "cell_type": "code",
   "execution_count": null,
   "id": "66e816e7-b128-4e38-a077-4ddd72c8710d",
   "metadata": {},
   "outputs": [],
   "source": [
    "graph = sns.jointplot(data=subs, x=\"Foxf2\", y=\"Foxo1\", hue=\"age\")\n",
    "plt.show()"
   ]
  },
  {
   "cell_type": "code",
   "execution_count": null,
   "id": "a2d31575-060d-4cbe-993d-9b63bd4588de",
   "metadata": {},
   "outputs": [],
   "source": []
  },
  {
   "cell_type": "markdown",
   "id": "2b50bbcc-d764-49b9-8cc0-d3173fd8239e",
   "metadata": {},
   "source": [
    "# Session Info"
   ]
  },
  {
   "cell_type": "code",
   "execution_count": null,
   "id": "06401063-4335-4d98-ad41-2bab36a17eab",
   "metadata": {},
   "outputs": [],
   "source": [
    "sc.logging.print_versions()"
   ]
  }
 ],
 "metadata": {
  "kernelspec": {
   "display_name": "Python 3 (ipykernel)",
   "language": "python",
   "name": "python3"
  },
  "language_info": {
   "codemirror_mode": {
    "name": "ipython",
    "version": 3
   },
   "file_extension": ".py",
   "mimetype": "text/x-python",
   "name": "python",
   "nbconvert_exporter": "python",
   "pygments_lexer": "ipython3"
  }
 },
 "nbformat": 4,
 "nbformat_minor": 5
}
